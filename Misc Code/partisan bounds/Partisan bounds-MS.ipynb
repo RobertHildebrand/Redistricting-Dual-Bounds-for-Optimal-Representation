{
 "cells": [
  {
   "cell_type": "code",
   "execution_count": 1,
   "metadata": {},
   "outputs": [],
   "source": [
    "%load_ext autoreload\n",
    "%autoreload 2"
   ]
  },
  {
   "cell_type": "code",
   "execution_count": 1,
   "metadata": {},
   "outputs": [
    {
     "name": "stderr",
     "output_type": "stream",
     "text": [
      "2023-05-12 09:12:28,949 - INFO - Note: NumExpr detected 48 cores but \"NUMEXPR_MAX_THREADS\" not set, so enforcing safe limit of 8.\n",
      "2023-05-12 09:12:28,952 - INFO - NumExpr defaulting to 8 threads.\n"
     ]
    },
    {
     "name": "stdout",
     "output_type": "stream",
     "text": [
      "Reading config from config-LA-LogE_bvap_gradient_cuts.json\n",
      "Experiments to run:\n",
      "['LA_LogE_bounds_20_hours']\n",
      "In run LA_LogE_bounds_20_hours using config: {'state': 'LA', 'level': 'county', 'base': 'labeling', 'obj': 'LogEPWL_bvap_bounds', 'R': 45, 'dist_bounds': False, 'tlimit': 72000, 'fixing': False, 'contiguity': 'lcut', 'symmetry': 'none', 'extended': False, 'order': 'bvap', 'heuristic': True, 'lp': False, 'obj_order': False, 'index': 0}.\n",
      "../data/county/dual_graphs/county28.json\n",
      "\n",
      "L = 666288 , U = 814351 , k = 4\n",
      "Academic license - for non-commercial use only - expires 2023-09-22\n"
     ]
    },
    {
     "name": "stderr",
     "output_type": "stream",
     "text": [
      "2023-05-12 09:12:30,205 - INFO - Academic license - for non-commercial use only - expires 2023-09-22\n"
     ]
    },
    {
     "name": "stdout",
     "output_type": "stream",
     "text": [
      "Using license file C:\\Users\\robert\\gurobi.lic\n"
     ]
    },
    {
     "name": "stderr",
     "output_type": "stream",
     "text": [
      "2023-05-12 09:12:30,207 - INFO - Using license file C:\\Users\\robert\\gurobi.lic\n"
     ]
    },
    {
     "name": "stdout",
     "output_type": "stream",
     "text": [
      "Loading best known solution from ..\\results-ALMSLA_PWL\\MS-county-PWL-10.json\n",
      "Ordering warm start with respect to  D20\n",
      "Changed value of parameter TimeLimit to 600.0\n"
     ]
    },
    {
     "name": "stderr",
     "output_type": "stream",
     "text": [
      "2023-05-12 09:12:30,248 - INFO - Changed value of parameter TimeLimit to 600.0\n"
     ]
    },
    {
     "name": "stdout",
     "output_type": "stream",
     "text": [
      "   Prev: inf  Min: 0.0  Max: inf  Default: inf\n"
     ]
    },
    {
     "name": "stderr",
     "output_type": "stream",
     "text": [
      "2023-05-12 09:12:30,250 - INFO -    Prev: inf  Min: 0.0  Max: inf  Default: inf\n"
     ]
    },
    {
     "name": "stdout",
     "output_type": "stream",
     "text": [
      "Changed value of parameter lazyConstraints to 1\n"
     ]
    },
    {
     "name": "stderr",
     "output_type": "stream",
     "text": [
      "2023-05-12 09:12:30,253 - INFO - Changed value of parameter lazyConstraints to 1\n"
     ]
    },
    {
     "name": "stdout",
     "output_type": "stream",
     "text": [
      "   Prev: 0  Min: 0  Max: 1  Default: 0\n"
     ]
    },
    {
     "name": "stderr",
     "output_type": "stream",
     "text": [
      "2023-05-12 09:12:30,255 - INFO -    Prev: 0  Min: 0  Max: 1  Default: 0\n"
     ]
    },
    {
     "name": "stdout",
     "output_type": "stream",
     "text": [
      "Changed value of parameter Method to 3\n"
     ]
    },
    {
     "name": "stderr",
     "output_type": "stream",
     "text": [
      "2023-05-12 09:12:30,258 - INFO - Changed value of parameter Method to 3\n"
     ]
    },
    {
     "name": "stdout",
     "output_type": "stream",
     "text": [
      "   Prev: -1  Min: -1  Max: 5  Default: -1\n"
     ]
    },
    {
     "name": "stderr",
     "output_type": "stream",
     "text": [
      "2023-05-12 09:12:30,259 - INFO -    Prev: -1  Min: -1  Max: 5  Default: -1\n"
     ]
    },
    {
     "name": "stdout",
     "output_type": "stream",
     "text": [
      "0\n",
      "{0: <gurobi.Var D200>, 1: <gurobi.Var D201>, 2: <gurobi.Var D202>, 3: <gurobi.Var D203>}\n",
      "max D200\n",
      "Gurobi Optimizer version 9.1.2 build v9.1.2rc0 (win64)\n"
     ]
    },
    {
     "name": "stderr",
     "output_type": "stream",
     "text": [
      "2023-05-12 09:12:30,264 - INFO - Gurobi Optimizer version 9.1.2 build v9.1.2rc0 (win64)\n"
     ]
    },
    {
     "name": "stdout",
     "output_type": "stream",
     "text": [
      "Thread count: 24 physical cores, 48 logical processors, using up to 24 threads\n"
     ]
    },
    {
     "name": "stderr",
     "output_type": "stream",
     "text": [
      "2023-05-12 09:12:30,266 - INFO - Thread count: 24 physical cores, 48 logical processors, using up to 24 threads\n"
     ]
    },
    {
     "name": "stdout",
     "output_type": "stream",
     "text": [
      "Optimize a model with 117 rows, 680 columns and 2342 nonzeros\n"
     ]
    },
    {
     "name": "stderr",
     "output_type": "stream",
     "text": [
      "2023-05-12 09:12:30,269 - INFO - Optimize a model with 117 rows, 680 columns and 2342 nonzeros\n"
     ]
    },
    {
     "name": "stdout",
     "output_type": "stream",
     "text": [
      "Model fingerprint: 0x6b9bd408\n"
     ]
    },
    {
     "name": "stderr",
     "output_type": "stream",
     "text": [
      "2023-05-12 09:12:30,273 - INFO - Model fingerprint: 0x6b9bd408\n"
     ]
    },
    {
     "name": "stdout",
     "output_type": "stream",
     "text": [
      "Variable types: 24 continuous, 656 integer (656 binary)\n"
     ]
    },
    {
     "name": "stderr",
     "output_type": "stream",
     "text": [
      "2023-05-12 09:12:30,274 - INFO - Variable types: 24 continuous, 656 integer (656 binary)\n"
     ]
    },
    {
     "name": "stdout",
     "output_type": "stream",
     "text": [
      "Coefficient statistics:\n"
     ]
    },
    {
     "name": "stderr",
     "output_type": "stream",
     "text": [
      "2023-05-12 09:12:30,275 - INFO - Coefficient statistics:\n"
     ]
    },
    {
     "name": "stdout",
     "output_type": "stream",
     "text": [
      "  Matrix range     [1e+00, 2e+05]\n"
     ]
    },
    {
     "name": "stderr",
     "output_type": "stream",
     "text": [
      "2023-05-12 09:12:30,278 - INFO -   Matrix range     [1e+00, 2e+05]\n"
     ]
    },
    {
     "name": "stdout",
     "output_type": "stream",
     "text": [
      "  Objective range  [1e+00, 1e+00]\n"
     ]
    },
    {
     "name": "stderr",
     "output_type": "stream",
     "text": [
      "2023-05-12 09:12:30,280 - INFO -   Objective range  [1e+00, 1e+00]\n"
     ]
    },
    {
     "name": "stdout",
     "output_type": "stream",
     "text": [
      "  Bounds range     [1e+00, 8e+05]\n"
     ]
    },
    {
     "name": "stderr",
     "output_type": "stream",
     "text": [
      "2023-05-12 09:12:30,281 - INFO -   Bounds range     [1e+00, 8e+05]\n"
     ]
    },
    {
     "name": "stdout",
     "output_type": "stream",
     "text": [
      "  RHS range        [1e+00, 8e+05]\n"
     ]
    },
    {
     "name": "stderr",
     "output_type": "stream",
     "text": [
      "2023-05-12 09:12:30,283 - INFO -   RHS range        [1e+00, 8e+05]\n"
     ]
    },
    {
     "name": "stdout",
     "output_type": "stream",
     "text": [
      "\n"
     ]
    },
    {
     "name": "stderr",
     "output_type": "stream",
     "text": [
      "2023-05-12 09:12:30,284 - INFO - \n"
     ]
    },
    {
     "name": "stdout",
     "output_type": "stream",
     "text": [
      "User MIP start produced solution with objective 94632 (0.02s)\n"
     ]
    },
    {
     "name": "stderr",
     "output_type": "stream",
     "text": [
      "2023-05-12 09:12:30,294 - INFO - User MIP start produced solution with objective 94632 (0.02s)\n"
     ]
    },
    {
     "name": "stdout",
     "output_type": "stream",
     "text": [
      "Loaded user MIP start with objective 94632\n"
     ]
    },
    {
     "name": "stderr",
     "output_type": "stream",
     "text": [
      "2023-05-12 09:12:30,302 - INFO - Loaded user MIP start with objective 94632\n"
     ]
    },
    {
     "name": "stdout",
     "output_type": "stream",
     "text": [
      "\n"
     ]
    },
    {
     "name": "stderr",
     "output_type": "stream",
     "text": [
      "2023-05-12 09:12:30,306 - INFO - \n"
     ]
    },
    {
     "name": "stdout",
     "output_type": "stream",
     "text": [
      "Presolve removed 8 rows and 8 columns\n"
     ]
    },
    {
     "name": "stderr",
     "output_type": "stream",
     "text": [
      "2023-05-12 09:12:30,314 - INFO - Presolve removed 8 rows and 8 columns\n"
     ]
    },
    {
     "name": "stdout",
     "output_type": "stream",
     "text": [
      "Presolve time: 0.00s\n"
     ]
    },
    {
     "name": "stderr",
     "output_type": "stream",
     "text": [
      "2023-05-12 09:12:30,317 - INFO - Presolve time: 0.00s\n"
     ]
    },
    {
     "name": "stdout",
     "output_type": "stream",
     "text": [
      "Presolved: 109 rows, 672 columns, 2318 nonzeros\n"
     ]
    },
    {
     "name": "stderr",
     "output_type": "stream",
     "text": [
      "2023-05-12 09:12:30,320 - INFO - Presolved: 109 rows, 672 columns, 2318 nonzeros\n"
     ]
    },
    {
     "name": "stdout",
     "output_type": "stream",
     "text": [
      "Variable types: 0 continuous, 672 integer (656 binary)\n"
     ]
    },
    {
     "name": "stderr",
     "output_type": "stream",
     "text": [
      "2023-05-12 09:12:30,324 - INFO - Variable types: 0 continuous, 672 integer (656 binary)\n"
     ]
    },
    {
     "name": "stdout",
     "output_type": "stream",
     "text": [
      "\n"
     ]
    },
    {
     "name": "stderr",
     "output_type": "stream",
     "text": [
      "2023-05-12 09:12:30,327 - INFO - \n"
     ]
    },
    {
     "name": "stdout",
     "output_type": "stream",
     "text": [
      "Concurrent LP optimizer: primal simplex, dual simplex, and barrier\n"
     ]
    },
    {
     "name": "stderr",
     "output_type": "stream",
     "text": [
      "2023-05-12 09:12:30,330 - INFO - Concurrent LP optimizer: primal simplex, dual simplex, and barrier\n"
     ]
    },
    {
     "name": "stdout",
     "output_type": "stream",
     "text": [
      "Showing barrier log only...\n"
     ]
    },
    {
     "name": "stderr",
     "output_type": "stream",
     "text": [
      "2023-05-12 09:12:30,334 - INFO - Showing barrier log only...\n"
     ]
    },
    {
     "name": "stdout",
     "output_type": "stream",
     "text": [
      "\n"
     ]
    },
    {
     "name": "stderr",
     "output_type": "stream",
     "text": [
      "2023-05-12 09:12:30,337 - INFO - \n"
     ]
    },
    {
     "name": "stdout",
     "output_type": "stream",
     "text": [
      "Root barrier log...\n"
     ]
    },
    {
     "name": "stderr",
     "output_type": "stream",
     "text": [
      "2023-05-12 09:12:30,341 - INFO - Root barrier log...\n"
     ]
    },
    {
     "name": "stdout",
     "output_type": "stream",
     "text": [
      "\n"
     ]
    },
    {
     "name": "stderr",
     "output_type": "stream",
     "text": [
      "2023-05-12 09:12:30,343 - INFO - \n"
     ]
    },
    {
     "name": "stdout",
     "output_type": "stream",
     "text": [
      "Ordering time: 0.00s\n"
     ]
    },
    {
     "name": "stderr",
     "output_type": "stream",
     "text": [
      "2023-05-12 09:12:30,348 - INFO - Ordering time: 0.00s\n"
     ]
    },
    {
     "name": "stdout",
     "output_type": "stream",
     "text": [
      "\n"
     ]
    },
    {
     "name": "stderr",
     "output_type": "stream",
     "text": [
      "2023-05-12 09:12:30,354 - INFO - \n"
     ]
    },
    {
     "name": "stdout",
     "output_type": "stream",
     "text": [
      "Barrier performed 0 iterations in 0.08 seconds\n"
     ]
    },
    {
     "name": "stderr",
     "output_type": "stream",
     "text": [
      "2023-05-12 09:12:30,358 - INFO - Barrier performed 0 iterations in 0.08 seconds\n"
     ]
    },
    {
     "name": "stdout",
     "output_type": "stream",
     "text": [
      "Barrier solve interrupted - model solved by another algorithm\n"
     ]
    },
    {
     "name": "stderr",
     "output_type": "stream",
     "text": [
      "2023-05-12 09:12:30,363 - INFO - Barrier solve interrupted - model solved by another algorithm\n"
     ]
    },
    {
     "name": "stdout",
     "output_type": "stream",
     "text": [
      "\n"
     ]
    },
    {
     "name": "stderr",
     "output_type": "stream",
     "text": [
      "2023-05-12 09:12:30,373 - INFO - \n"
     ]
    },
    {
     "name": "stdout",
     "output_type": "stream",
     "text": [
      "\n"
     ]
    },
    {
     "name": "stderr",
     "output_type": "stream",
     "text": [
      "2023-05-12 09:12:30,378 - INFO - \n"
     ]
    },
    {
     "name": "stdout",
     "output_type": "stream",
     "text": [
      "Solved with primal simplex\n"
     ]
    },
    {
     "name": "stderr",
     "output_type": "stream",
     "text": [
      "2023-05-12 09:12:30,380 - INFO - Solved with primal simplex\n"
     ]
    },
    {
     "name": "stdout",
     "output_type": "stream",
     "text": [
      "\n"
     ]
    },
    {
     "name": "stderr",
     "output_type": "stream",
     "text": [
      "2023-05-12 09:12:30,391 - INFO - \n"
     ]
    },
    {
     "name": "stdout",
     "output_type": "stream",
     "text": [
      "Root relaxation: objective 1.348495e+05, 116 iterations, 0.06 seconds\n"
     ]
    },
    {
     "name": "stderr",
     "output_type": "stream",
     "text": [
      "2023-05-12 09:12:30,401 - INFO - Root relaxation: objective 1.348495e+05, 116 iterations, 0.06 seconds\n"
     ]
    },
    {
     "name": "stdout",
     "output_type": "stream",
     "text": [
      "\n"
     ]
    },
    {
     "name": "stderr",
     "output_type": "stream",
     "text": [
      "2023-05-12 09:12:30,415 - INFO - \n"
     ]
    },
    {
     "name": "stdout",
     "output_type": "stream",
     "text": [
      "    Nodes    |    Current Node    |     Objective Bounds      |     Work\n"
     ]
    },
    {
     "name": "stderr",
     "output_type": "stream",
     "text": [
      "2023-05-12 09:12:30,423 - INFO -     Nodes    |    Current Node    |     Objective Bounds      |     Work\n"
     ]
    },
    {
     "name": "stdout",
     "output_type": "stream",
     "text": [
      " Expl Unexpl |  Obj  Depth IntInf | Incumbent    BestBd   Gap | It/Node Time\n"
     ]
    },
    {
     "name": "stderr",
     "output_type": "stream",
     "text": [
      "2023-05-12 09:12:30,428 - INFO -  Expl Unexpl |  Obj  Depth IntInf | Incumbent    BestBd   Gap | It/Node Time\n"
     ]
    },
    {
     "name": "stdout",
     "output_type": "stream",
     "text": [
      "\n"
     ]
    },
    {
     "name": "stderr",
     "output_type": "stream",
     "text": [
      "2023-05-12 09:12:30,434 - INFO - \n"
     ]
    },
    {
     "name": "stdout",
     "output_type": "stream",
     "text": [
      "     0     0 134849.500    0   20 94632.0000 134849.500  42.5%     -    0s\n"
     ]
    },
    {
     "name": "stderr",
     "output_type": "stream",
     "text": [
      "2023-05-12 09:12:30,437 - INFO -      0     0 134849.500    0   20 94632.0000 134849.500  42.5%     -    0s\n"
     ]
    },
    {
     "name": "stdout",
     "output_type": "stream",
     "text": [
      "     0     0 134849.000    0   22 94632.0000 134849.000  42.5%     -    0s\n"
     ]
    },
    {
     "name": "stderr",
     "output_type": "stream",
     "text": [
      "2023-05-12 09:12:30,455 - INFO -      0     0 134849.000    0   22 94632.0000 134849.000  42.5%     -    0s\n"
     ]
    },
    {
     "name": "stdout",
     "output_type": "stream",
     "text": [
      "     0     0 134849.000    0   28 94632.0000 134849.000  42.5%     -    0s\n"
     ]
    },
    {
     "name": "stderr",
     "output_type": "stream",
     "text": [
      "2023-05-12 09:12:30,609 - INFO -      0     0 134849.000    0   28 94632.0000 134849.000  42.5%     -    0s\n"
     ]
    },
    {
     "name": "stdout",
     "output_type": "stream",
     "text": [
      "     0     0 134849.000    0   25 94632.0000 134849.000  42.5%     -    0s\n"
     ]
    },
    {
     "name": "stderr",
     "output_type": "stream",
     "text": [
      "2023-05-12 09:12:30,630 - INFO -      0     0 134849.000    0   25 94632.0000 134849.000  42.5%     -    0s\n"
     ]
    },
    {
     "name": "stdout",
     "output_type": "stream",
     "text": [
      "     0     0 134849.000    0   25 94632.0000 134849.000  42.5%     -    0s\n"
     ]
    },
    {
     "name": "stderr",
     "output_type": "stream",
     "text": [
      "2023-05-12 09:12:30,638 - INFO -      0     0 134849.000    0   25 94632.0000 134849.000  42.5%     -    0s\n"
     ]
    },
    {
     "name": "stdout",
     "output_type": "stream",
     "text": [
      "     0     0 134849.000    0   18 94632.0000 134849.000  42.5%     -    0s\n"
     ]
    },
    {
     "name": "stderr",
     "output_type": "stream",
     "text": [
      "2023-05-12 09:12:30,658 - INFO -      0     0 134849.000    0   18 94632.0000 134849.000  42.5%     -    0s\n"
     ]
    },
    {
     "name": "stdout",
     "output_type": "stream",
     "text": [
      "     0     0 134849.000    0   21 94632.0000 134849.000  42.5%     -    0s\n"
     ]
    },
    {
     "name": "stderr",
     "output_type": "stream",
     "text": [
      "2023-05-12 09:12:30,857 - INFO -      0     0 134849.000    0   21 94632.0000 134849.000  42.5%     -    0s\n"
     ]
    },
    {
     "name": "stdout",
     "output_type": "stream",
     "text": [
      "     0     0 134849.000    0   18 94632.0000 134849.000  42.5%     -    0s\n"
     ]
    },
    {
     "name": "stderr",
     "output_type": "stream",
     "text": [
      "2023-05-12 09:12:30,870 - INFO -      0     0 134849.000    0   18 94632.0000 134849.000  42.5%     -    0s\n"
     ]
    },
    {
     "name": "stdout",
     "output_type": "stream",
     "text": [
      "     0     2 134849.000    0   17 94632.0000 134849.000  42.5%     -    0s\n"
     ]
    },
    {
     "name": "stderr",
     "output_type": "stream",
     "text": [
      "2023-05-12 09:12:30,912 - INFO -      0     2 134849.000    0   17 94632.0000 134849.000  42.5%     -    0s\n"
     ]
    },
    {
     "name": "stdout",
     "output_type": "stream",
     "text": [
      "  7265  7722 134849.000   41   20 94632.0000 134849.000  42.5%   5.7    5s\n"
     ]
    },
    {
     "name": "stderr",
     "output_type": "stream",
     "text": [
      "2023-05-12 09:12:35,351 - INFO -   7265  7722 134849.000   41   20 94632.0000 134849.000  42.5%   5.7    5s\n"
     ]
    },
    {
     "name": "stdout",
     "output_type": "stream",
     "text": [
      " 15909 10022 infeasible  113      94632.0000 134849.000  42.5%   7.0   10s\n"
     ]
    },
    {
     "name": "stderr",
     "output_type": "stream",
     "text": [
      "2023-05-12 09:12:40,392 - INFO -  15909 10022 infeasible  113      94632.0000 134849.000  42.5%   7.0   10s\n"
     ]
    },
    {
     "name": "stdout",
     "output_type": "stream",
     "text": [
      " 35360 18297 infeasible  131      94632.0000 134849.000  42.5%  10.1   15s\n"
     ]
    },
    {
     "name": "stderr",
     "output_type": "stream",
     "text": [
      "2023-05-12 09:12:45,627 - INFO -  35360 18297 infeasible  131      94632.0000 134849.000  42.5%  10.1   15s\n"
     ]
    },
    {
     "name": "stdout",
     "output_type": "stream",
     "text": [
      " 43724 21463 infeasible  105      94632.0000 134849.000  42.5%  11.5   21s\n"
     ]
    },
    {
     "name": "stderr",
     "output_type": "stream",
     "text": [
      "2023-05-12 09:12:51,518 - INFO -  43724 21463 infeasible  105      94632.0000 134849.000  42.5%  11.5   21s\n"
     ]
    },
    {
     "name": "stdout",
     "output_type": "stream",
     "text": [
      " 53146 25342 134849.000   79   44 94632.0000 134849.000  42.5%  14.1   25s\n"
     ]
    },
    {
     "name": "stderr",
     "output_type": "stream",
     "text": [
      "2023-05-12 09:12:56,128 - INFO -  53146 25342 134849.000   79   44 94632.0000 134849.000  42.5%  14.1   25s\n"
     ]
    },
    {
     "name": "stdout",
     "output_type": "stream",
     "text": [
      " 61133 27761 infeasible   82      94632.0000 134849.000  42.5%  16.4   30s\n"
     ]
    },
    {
     "name": "stderr",
     "output_type": "stream",
     "text": [
      "2023-05-12 09:13:00,779 - INFO -  61133 27761 infeasible   82      94632.0000 134849.000  42.5%  16.4   30s\n"
     ]
    },
    {
     "name": "stdout",
     "output_type": "stream",
     "text": [
      " 67224 29284 134849.000   81   63 94632.0000 134849.000  42.5%  18.3   35s\n"
     ]
    },
    {
     "name": "stderr",
     "output_type": "stream",
     "text": [
      "2023-05-12 09:13:05,879 - INFO -  67224 29284 134849.000   81   63 94632.0000 134849.000  42.5%  18.3   35s\n"
     ]
    },
    {
     "name": "stdout",
     "output_type": "stream",
     "text": [
      " 69873 29566 126737.214   95   19 94632.0000 134849.000  42.5%  19.3   40s\n"
     ]
    },
    {
     "name": "stderr",
     "output_type": "stream",
     "text": [
      "2023-05-12 09:13:10,573 - INFO -  69873 29566 126737.214   95   19 94632.0000 134849.000  42.5%  19.3   40s\n"
     ]
    },
    {
     "name": "stdout",
     "output_type": "stream",
     "text": [
      " 71609 29789 infeasible   89      94632.0000 134849.000  42.5%  20.2   46s\n"
     ]
    },
    {
     "name": "stderr",
     "output_type": "stream",
     "text": [
      "2023-05-12 09:13:16,874 - INFO -  71609 29789 infeasible   89      94632.0000 134849.000  42.5%  20.2   46s\n"
     ]
    },
    {
     "name": "stdout",
     "output_type": "stream",
     "text": [
      " 74002 29969 infeasible   90      94632.0000 134849.000  42.5%  21.9   50s\n"
     ]
    },
    {
     "name": "stderr",
     "output_type": "stream",
     "text": [
      "2023-05-12 09:13:20,878 - INFO -  74002 29969 infeasible   90      94632.0000 134849.000  42.5%  21.9   50s\n"
     ]
    },
    {
     "name": "stdout",
     "output_type": "stream",
     "text": [
      " 75716 30392 infeasible   79      94632.0000 134849.000  42.5%  23.0   55s\n"
     ]
    },
    {
     "name": "stderr",
     "output_type": "stream",
     "text": [
      "2023-05-12 09:13:25,897 - INFO -  75716 30392 infeasible   79      94632.0000 134849.000  42.5%  23.0   55s\n"
     ]
    },
    {
     "name": "stdout",
     "output_type": "stream",
     "text": [
      " 79095 31046 134849.000   53   48 94632.0000 134849.000  42.5%  24.5   61s\n"
     ]
    },
    {
     "name": "stderr",
     "output_type": "stream",
     "text": [
      "2023-05-12 09:13:32,017 - INFO -  79095 31046 134849.000   53   48 94632.0000 134849.000  42.5%  24.5   61s\n"
     ]
    },
    {
     "name": "stdout",
     "output_type": "stream",
     "text": [
      " 82065 31250 134849.000   84   90 94632.0000 134849.000  42.5%  25.5   67s\n"
     ]
    },
    {
     "name": "stderr",
     "output_type": "stream",
     "text": [
      "2023-05-12 09:13:37,770 - INFO -  82065 31250 134849.000   84   90 94632.0000 134849.000  42.5%  25.5   67s\n"
     ]
    },
    {
     "name": "stdout",
     "output_type": "stream",
     "text": [
      " 82418 31364 134849.000   85   97 94632.0000 134849.000  42.5%  25.7   70s\n"
     ]
    },
    {
     "name": "stderr",
     "output_type": "stream",
     "text": [
      "2023-05-12 09:13:40,601 - INFO -  82418 31364 134849.000   85   97 94632.0000 134849.000  42.5%  25.7   70s\n"
     ]
    },
    {
     "name": "stdout",
     "output_type": "stream",
     "text": [
      " 87131 32582 infeasible   97      94632.0000 134849.000  42.5%  27.4   76s\n"
     ]
    },
    {
     "name": "stderr",
     "output_type": "stream",
     "text": [
      "2023-05-12 09:13:46,822 - INFO -  87131 32582 infeasible   97      94632.0000 134849.000  42.5%  27.4   76s\n"
     ]
    },
    {
     "name": "stdout",
     "output_type": "stream",
     "text": [
      " 89478 32820 infeasible   77      94632.0000 134849.000  42.5%  27.6   80s\n"
     ]
    },
    {
     "name": "stderr",
     "output_type": "stream",
     "text": [
      "2023-05-12 09:13:50,791 - INFO -  89478 32820 infeasible   77      94632.0000 134849.000  42.5%  27.6   80s\n"
     ]
    },
    {
     "name": "stdout",
     "output_type": "stream",
     "text": [
      " 91979 33322 134849.000   73   72 94632.0000 134849.000  42.5%  28.5   86s\n"
     ]
    },
    {
     "name": "stderr",
     "output_type": "stream",
     "text": [
      "2023-05-12 09:13:56,358 - INFO -  91979 33322 134849.000   73   72 94632.0000 134849.000  42.5%  28.5   86s\n"
     ]
    },
    {
     "name": "stdout",
     "output_type": "stream",
     "text": [
      " 94165 33706 134849.000   70   34 94632.0000 134849.000  42.5%  29.7   91s\n"
     ]
    },
    {
     "name": "stderr",
     "output_type": "stream",
     "text": [
      "2023-05-12 09:14:02,074 - INFO -  94165 33706 134849.000   70   34 94632.0000 134849.000  42.5%  29.7   91s\n"
     ]
    },
    {
     "name": "stdout",
     "output_type": "stream",
     "text": [
      " 96257 33870 134849.000   60   38 94632.0000 134849.000  42.5%  30.7   98s\n"
     ]
    },
    {
     "name": "stderr",
     "output_type": "stream",
     "text": [
      "2023-05-12 09:14:09,077 - INFO -  96257 33870 134849.000   60   38 94632.0000 134849.000  42.5%  30.7   98s\n"
     ]
    },
    {
     "name": "stdout",
     "output_type": "stream",
     "text": [
      " 97018 33968 infeasible   63      94632.0000 134849.000  42.5%  31.0  101s\n"
     ]
    },
    {
     "name": "stderr",
     "output_type": "stream",
     "text": [
      "2023-05-12 09:14:11,810 - INFO -  97018 33968 infeasible   63      94632.0000 134849.000  42.5%  31.0  101s\n"
     ]
    },
    {
     "name": "stdout",
     "output_type": "stream",
     "text": [
      " 99099 34121 infeasible   81      94632.0000 134849.000  42.5%  32.2  106s\n"
     ]
    },
    {
     "name": "stderr",
     "output_type": "stream",
     "text": [
      "2023-05-12 09:14:17,213 - INFO -  99099 34121 infeasible   81      94632.0000 134849.000  42.5%  32.2  106s\n"
     ]
    },
    {
     "name": "stdout",
     "output_type": "stream",
     "text": [
      " 100583 34200 infeasible   80      94632.0000 134849.000  42.5%  32.9  110s\n"
     ]
    },
    {
     "name": "stderr",
     "output_type": "stream",
     "text": [
      "2023-05-12 09:14:20,301 - INFO -  100583 34200 infeasible   80      94632.0000 134849.000  42.5%  32.9  110s\n"
     ]
    },
    {
     "name": "stdout",
     "output_type": "stream",
     "text": [
      " 102458 34366 infeasible   61      94632.0000 134849.000  42.5%  33.9  116s\n"
     ]
    },
    {
     "name": "stderr",
     "output_type": "stream",
     "text": [
      "2023-05-12 09:14:27,267 - INFO -  102458 34366 infeasible   61      94632.0000 134849.000  42.5%  33.9  116s\n"
     ]
    },
    {
     "name": "stdout",
     "output_type": "stream",
     "text": [
      " 102775 34442 134849.000   71   84 94632.0000 134849.000  42.5%  34.1  120s\n"
     ]
    },
    {
     "name": "stderr",
     "output_type": "stream",
     "text": [
      "2023-05-12 09:14:30,739 - INFO -  102775 34442 134849.000   71   84 94632.0000 134849.000  42.5%  34.1  120s\n"
     ]
    },
    {
     "name": "stdout",
     "output_type": "stream",
     "text": [
      " 104707 35303 infeasible  129      94632.0000 134849.000  42.5%  35.4  127s\n"
     ]
    },
    {
     "name": "stderr",
     "output_type": "stream",
     "text": [
      "2023-05-12 09:14:37,351 - INFO -  104707 35303 infeasible  129      94632.0000 134849.000  42.5%  35.4  127s\n"
     ]
    },
    {
     "name": "stdout",
     "output_type": "stream",
     "text": [
      " 106604 36128 134849.000   80   66 94632.0000 134849.000  42.5%  35.9  131s\n"
     ]
    },
    {
     "name": "stderr",
     "output_type": "stream",
     "text": [
      "2023-05-12 09:14:41,905 - INFO -  106604 36128 134849.000   80   66 94632.0000 134849.000  42.5%  35.9  131s\n"
     ]
    },
    {
     "name": "stdout",
     "output_type": "stream",
     "text": [
      " 108413 36825 infeasible   88      94632.0000 134849.000  42.5%  36.1  136s\n"
     ]
    },
    {
     "name": "stderr",
     "output_type": "stream",
     "text": [
      "2023-05-12 09:14:46,820 - INFO -  108413 36825 infeasible   88      94632.0000 134849.000  42.5%  36.1  136s\n"
     ]
    },
    {
     "name": "stdout",
     "output_type": "stream",
     "text": [
      " 109733 37479 infeasible   91      94632.0000 134849.000  42.5%  36.3  142s\n"
     ]
    },
    {
     "name": "stderr",
     "output_type": "stream",
     "text": [
      "2023-05-12 09:14:52,463 - INFO -  109733 37479 infeasible   91      94632.0000 134849.000  42.5%  36.3  142s\n"
     ]
    },
    {
     "name": "stdout",
     "output_type": "stream",
     "text": [
      "H110378 37482                    101354.00000 134849.000  33.0%  36.3  142s\n"
     ]
    },
    {
     "name": "stderr",
     "output_type": "stream",
     "text": [
      "2023-05-12 09:14:52,798 - INFO - H110378 37482                    101354.00000 134849.000  33.0%  36.3  142s\n"
     ]
    },
    {
     "name": "stdout",
     "output_type": "stream",
     "text": [
      " 111566 38178 134849.000   58   47 101354.000 134849.000  33.0%  36.7  147s\n"
     ]
    },
    {
     "name": "stderr",
     "output_type": "stream",
     "text": [
      "2023-05-12 09:14:57,823 - INFO -  111566 38178 134849.000   58   47 101354.000 134849.000  33.0%  36.7  147s\n"
     ]
    },
    {
     "name": "stdout",
     "output_type": "stream",
     "text": [
      " 113705 39834 infeasible  112      101354.000 134849.000  33.0%  36.8  153s\n"
     ]
    },
    {
     "name": "stderr",
     "output_type": "stream",
     "text": [
      "2023-05-12 09:15:03,421 - INFO -  113705 39834 infeasible  112      101354.000 134849.000  33.0%  36.8  153s\n"
     ]
    },
    {
     "name": "stdout",
     "output_type": "stream",
     "text": [
      " 117715 41197 134849.000   70   44 101354.000 134849.000  33.0%  36.7  159s\n"
     ]
    },
    {
     "name": "stderr",
     "output_type": "stream",
     "text": [
      "2023-05-12 09:15:10,149 - INFO -  117715 41197 134849.000   70   44 101354.000 134849.000  33.0%  36.7  159s\n"
     ]
    },
    {
     "name": "stdout",
     "output_type": "stream",
     "text": [
      " 120987 41796 infeasible   78      101354.000 134849.000  33.0%  36.8  166s\n"
     ]
    },
    {
     "name": "stderr",
     "output_type": "stream",
     "text": [
      "2023-05-12 09:15:16,577 - INFO -  120987 41796 infeasible   78      101354.000 134849.000  33.0%  36.8  166s\n"
     ]
    },
    {
     "name": "stdout",
     "output_type": "stream",
     "text": [
      " 122736 41816 134606.993  105   18 101354.000 134849.000  33.0%  36.7  274s\n"
     ]
    },
    {
     "name": "stderr",
     "output_type": "stream",
     "text": [
      "2023-05-12 09:17:04,462 - INFO -  122736 41816 134606.993  105   18 101354.000 134849.000  33.0%  36.7  274s\n"
     ]
    },
    {
     "name": "stdout",
     "output_type": "stream",
     "text": [
      "H122737 39726                    101840.00000 134849.000  32.4%  36.7  274s\n"
     ]
    },
    {
     "name": "stderr",
     "output_type": "stream",
     "text": [
      "2023-05-12 09:17:05,183 - INFO - H122737 39726                    101840.00000 134849.000  32.4%  36.7  274s\n"
     ]
    },
    {
     "name": "stdout",
     "output_type": "stream",
     "text": [
      " 122738 39726 134849.000   80   40 101840.000 134849.000  32.4%  36.7  275s\n"
     ]
    },
    {
     "name": "stderr",
     "output_type": "stream",
     "text": [
      "2023-05-12 09:17:05,348 - INFO -  122738 39726 134849.000   80   40 101840.000 134849.000  32.4%  36.7  275s\n"
     ]
    },
    {
     "name": "stdout",
     "output_type": "stream",
     "text": [
      " 122754 39737 134849.000  117   24 101840.000 134849.000  32.4%  36.7  280s\n"
     ]
    },
    {
     "name": "stderr",
     "output_type": "stream",
     "text": [
      "2023-05-12 09:17:10,469 - INFO -  122754 39737 134849.000  117   24 101840.000 134849.000  32.4%  36.7  280s\n"
     ]
    },
    {
     "name": "stdout",
     "output_type": "stream",
     "text": [
      " 122760 39741 125394.000  111   27 101840.000 134849.000  32.4%  36.7  298s\n"
     ]
    },
    {
     "name": "stderr",
     "output_type": "stream",
     "text": [
      "2023-05-12 09:17:29,076 - INFO -  122760 39741 125394.000  111   27 101840.000 134849.000  32.4%  36.7  298s\n"
     ]
    },
    {
     "name": "stdout",
     "output_type": "stream",
     "text": [
      " 122763 39748 134849.000   22   65 101840.000 134849.000  32.4%  36.8  300s\n"
     ]
    },
    {
     "name": "stderr",
     "output_type": "stream",
     "text": [
      "2023-05-12 09:17:30,701 - INFO -  122763 39748 134849.000   22   65 101840.000 134849.000  32.4%  36.8  300s\n"
     ]
    },
    {
     "name": "stdout",
     "output_type": "stream",
     "text": [
      "H122793 37798                    104100.00000 134849.000  29.5%  36.8  302s\n"
     ]
    },
    {
     "name": "stderr",
     "output_type": "stream",
     "text": [
      "2023-05-12 09:17:33,101 - INFO - H122793 37798                    104100.00000 134849.000  29.5%  36.8  302s\n"
     ]
    },
    {
     "name": "stdout",
     "output_type": "stream",
     "text": [
      "H122870 35956                    104636.00000 134849.000  28.9%  36.8  304s\n"
     ]
    },
    {
     "name": "stderr",
     "output_type": "stream",
     "text": [
      "2023-05-12 09:17:34,642 - INFO - H122870 35956                    104636.00000 134849.000  28.9%  36.8  304s\n"
     ]
    },
    {
     "name": "stdout",
     "output_type": "stream",
     "text": [
      " 122915 35993 134849.000   28   46 104636.000 134849.000  28.9%  36.8  307s\n"
     ]
    },
    {
     "name": "stderr",
     "output_type": "stream",
     "text": [
      "2023-05-12 09:17:38,205 - INFO -  122915 35993 134849.000   28   46 104636.000 134849.000  28.9%  36.8  307s\n"
     ]
    },
    {
     "name": "stdout",
     "output_type": "stream",
     "text": [
      " 122972 36031 134849.000   29   82 104636.000 134849.000  28.9%  36.8  316s\n"
     ]
    },
    {
     "name": "stderr",
     "output_type": "stream",
     "text": [
      "2023-05-12 09:17:46,492 - INFO -  122972 36031 134849.000   29   82 104636.000 134849.000  28.9%  36.8  316s\n"
     ]
    },
    {
     "name": "stdout",
     "output_type": "stream",
     "text": [
      " 123209 37128 134849.000   33   34 104636.000 134849.000  28.9%  36.9  320s\n"
     ]
    },
    {
     "name": "stderr",
     "output_type": "stream",
     "text": [
      "2023-05-12 09:17:50,435 - INFO -  123209 37128 134849.000   33   34 104636.000 134849.000  28.9%  36.9  320s\n"
     ]
    },
    {
     "name": "stdout",
     "output_type": "stream",
     "text": [
      " 128818 38356 134849.000   71   85 104636.000 134849.000  28.9%  36.6  331s\n"
     ]
    },
    {
     "name": "stderr",
     "output_type": "stream",
     "text": [
      "2023-05-12 09:18:01,337 - INFO -  128818 38356 134849.000   71   85 104636.000 134849.000  28.9%  36.6  331s\n"
     ]
    },
    {
     "name": "stdout",
     "output_type": "stream",
     "text": [
      " 128998 40528 134849.000   72   87 104636.000 134849.000  28.9%  36.6  340s\n"
     ]
    },
    {
     "name": "stderr",
     "output_type": "stream",
     "text": [
      "2023-05-12 09:18:10,597 - INFO -  128998 40528 134849.000   72   87 104636.000 134849.000  28.9%  36.6  340s\n"
     ]
    },
    {
     "name": "stdout",
     "output_type": "stream",
     "text": [
      " 133098 41395 134849.000   49   27 104636.000 134849.000  28.9%  36.5  348s\n"
     ]
    },
    {
     "name": "stderr",
     "output_type": "stream",
     "text": [
      "2023-05-12 09:18:18,304 - INFO -  133098 41395 134849.000   49   27 104636.000 134849.000  28.9%  36.5  348s\n"
     ]
    },
    {
     "name": "stdout",
     "output_type": "stream",
     "text": [
      " 136921 41633 infeasible   94      104636.000 134849.000  28.9%  36.5  354s\n"
     ]
    },
    {
     "name": "stderr",
     "output_type": "stream",
     "text": [
      "2023-05-12 09:18:25,035 - INFO -  136921 41633 infeasible   94      104636.000 134849.000  28.9%  36.5  354s\n"
     ]
    },
    {
     "name": "stdout",
     "output_type": "stream",
     "text": [
      " 139542 40782 134849.000   78   35 104636.000 134849.000  28.9%  36.7  362s\n"
     ]
    },
    {
     "name": "stderr",
     "output_type": "stream",
     "text": [
      "2023-05-12 09:18:32,366 - INFO -  139542 40782 134849.000   78   35 104636.000 134849.000  28.9%  36.7  362s\n"
     ]
    },
    {
     "name": "stdout",
     "output_type": "stream",
     "text": [
      " 139614 41800 134849.000   80   60 104636.000 134849.000  28.9%  36.7  368s\n"
     ]
    },
    {
     "name": "stderr",
     "output_type": "stream",
     "text": [
      "2023-05-12 09:18:38,474 - INFO -  139614 41800 134849.000   80   60 104636.000 134849.000  28.9%  36.7  368s\n"
     ]
    },
    {
     "name": "stdout",
     "output_type": "stream",
     "text": [
      " 141446 42561 infeasible  111      104636.000 134849.000  28.9%  37.2  372s\n"
     ]
    },
    {
     "name": "stderr",
     "output_type": "stream",
     "text": [
      "2023-05-12 09:18:42,729 - INFO -  141446 42561 infeasible  111      104636.000 134849.000  28.9%  37.2  372s\n"
     ]
    },
    {
     "name": "stdout",
     "output_type": "stream",
     "text": [
      " 144151 43404 134849.000   53   28 104636.000 134849.000  28.9%  37.6  380s\n"
     ]
    },
    {
     "name": "stderr",
     "output_type": "stream",
     "text": [
      "2023-05-12 09:18:50,545 - INFO -  144151 43404 134849.000   53   28 104636.000 134849.000  28.9%  37.6  380s\n"
     ]
    },
    {
     "name": "stdout",
     "output_type": "stream",
     "text": [
      " 147895 43231 134849.000   83   50 104636.000 134849.000  28.9%  37.7  386s\n"
     ]
    },
    {
     "name": "stderr",
     "output_type": "stream",
     "text": [
      "2023-05-12 09:18:57,210 - INFO -  147895 43231 134849.000   83   50 104636.000 134849.000  28.9%  37.7  386s\n"
     ]
    },
    {
     "name": "stdout",
     "output_type": "stream",
     "text": [
      " 149944 44604 infeasible  106      104636.000 134849.000  28.9%  37.7  397s\n"
     ]
    },
    {
     "name": "stderr",
     "output_type": "stream",
     "text": [
      "2023-05-12 09:19:07,441 - INFO -  149944 44604 infeasible  106      104636.000 134849.000  28.9%  37.7  397s\n"
     ]
    },
    {
     "name": "stdout",
     "output_type": "stream",
     "text": [
      " 153733 45089 infeasible  116      104636.000 134849.000  28.9%  37.8  405s\n"
     ]
    },
    {
     "name": "stderr",
     "output_type": "stream",
     "text": [
      "2023-05-12 09:19:15,480 - INFO -  153733 45089 infeasible  116      104636.000 134849.000  28.9%  37.8  405s\n"
     ]
    },
    {
     "name": "stdout",
     "output_type": "stream",
     "text": [
      " 157787 44057 111594.000  124   20 104636.000 134849.000  28.9%  37.8  414s\n"
     ]
    },
    {
     "name": "stderr",
     "output_type": "stream",
     "text": [
      "2023-05-12 09:19:24,899 - INFO -  157787 44057 111594.000  124   20 104636.000 134849.000  28.9%  37.8  414s\n"
     ]
    },
    {
     "name": "stdout",
     "output_type": "stream",
     "text": [
      " 158447 44687 134849.000   84   66 104636.000 134849.000  28.9%  37.8  420s\n"
     ]
    },
    {
     "name": "stderr",
     "output_type": "stream",
     "text": [
      "2023-05-12 09:19:30,772 - INFO -  158447 44687 134849.000   84   66 104636.000 134849.000  28.9%  37.8  420s\n"
     ]
    },
    {
     "name": "stdout",
     "output_type": "stream",
     "text": [
      " 161200 45135 134849.000  102   26 104636.000 134849.000  28.9%  38.3  427s\n"
     ]
    },
    {
     "name": "stderr",
     "output_type": "stream",
     "text": [
      "2023-05-12 09:19:37,616 - INFO -  161200 45135 134849.000  102   26 104636.000 134849.000  28.9%  38.3  427s\n"
     ]
    },
    {
     "name": "stdout",
     "output_type": "stream",
     "text": [
      " 164698 45673 134849.000   41   80 104636.000 134849.000  28.9%  38.6  435s\n"
     ]
    },
    {
     "name": "stderr",
     "output_type": "stream",
     "text": [
      "2023-05-12 09:19:45,346 - INFO -  164698 45673 134849.000   41   80 104636.000 134849.000  28.9%  38.6  435s\n"
     ]
    },
    {
     "name": "stdout",
     "output_type": "stream",
     "text": [
      " 168386 44437 infeasible  115      104636.000 134849.000  28.9%  38.8  445s\n"
     ]
    },
    {
     "name": "stderr",
     "output_type": "stream",
     "text": [
      "2023-05-12 09:19:56,164 - INFO -  168386 44437 infeasible  115      104636.000 134849.000  28.9%  38.8  445s\n"
     ]
    },
    {
     "name": "stdout",
     "output_type": "stream",
     "text": [
      " 168490 44861 133496.561  113   53 104636.000 134849.000  28.9%  38.9  454s\n"
     ]
    },
    {
     "name": "stderr",
     "output_type": "stream",
     "text": [
      "2023-05-12 09:20:04,935 - INFO -  168490 44861 133496.561  113   53 104636.000 134849.000  28.9%  38.9  454s\n"
     ]
    },
    {
     "name": "stdout",
     "output_type": "stream",
     "text": [
      " 169359 44571 infeasible   91      104636.000 134849.000  28.9%  39.1  455s\n"
     ]
    },
    {
     "name": "stderr",
     "output_type": "stream",
     "text": [
      "2023-05-12 09:20:05,433 - INFO -  169359 44571 infeasible   91      104636.000 134849.000  28.9%  39.1  455s\n"
     ]
    },
    {
     "name": "stdout",
     "output_type": "stream",
     "text": [
      " 169512 45670 infeasible  113      104636.000 134849.000  28.9%  39.1  463s\n"
     ]
    },
    {
     "name": "stderr",
     "output_type": "stream",
     "text": [
      "2023-05-12 09:20:13,753 - INFO -  169512 45670 infeasible  113      104636.000 134849.000  28.9%  39.1  463s\n"
     ]
    },
    {
     "name": "stdout",
     "output_type": "stream",
     "text": [
      " 172576 45878 134849.000   88   93 104636.000 134849.000  28.9%  39.6  472s\n"
     ]
    },
    {
     "name": "stderr",
     "output_type": "stream",
     "text": [
      "2023-05-12 09:20:23,252 - INFO -  172576 45878 134849.000   88   93 104636.000 134849.000  28.9%  39.6  472s\n"
     ]
    },
    {
     "name": "stdout",
     "output_type": "stream",
     "text": [
      " 176478 45451 133248.576   97   72 104636.000 134849.000  28.9%  40.1  483s\n"
     ]
    },
    {
     "name": "stderr",
     "output_type": "stream",
     "text": [
      "2023-05-12 09:20:33,512 - INFO -  176478 45451 133248.576   97   72 104636.000 134849.000  28.9%  40.1  483s\n"
     ]
    },
    {
     "name": "stdout",
     "output_type": "stream",
     "text": [
      " 181690 44453     cutoff   95      104636.000 134849.000  28.9%  40.4  494s\n"
     ]
    },
    {
     "name": "stderr",
     "output_type": "stream",
     "text": [
      "2023-05-12 09:20:44,688 - INFO -  181690 44453     cutoff   95      104636.000 134849.000  28.9%  40.4  494s\n"
     ]
    },
    {
     "name": "stdout",
     "output_type": "stream",
     "text": [
      " 185187 43258 infeasible   84      104636.000 134849.000  28.9%  40.7  504s\n"
     ]
    },
    {
     "name": "stderr",
     "output_type": "stream",
     "text": [
      "2023-05-12 09:20:54,921 - INFO -  185187 43258 infeasible   84      104636.000 134849.000  28.9%  40.7  504s\n"
     ]
    },
    {
     "name": "stdout",
     "output_type": "stream",
     "text": [
      " 188226 43338 134423.031   86   63 104636.000 134849.000  28.9%  41.4  514s\n"
     ]
    },
    {
     "name": "stderr",
     "output_type": "stream",
     "text": [
      "2023-05-12 09:21:04,383 - INFO -  188226 43338 134423.031   86   63 104636.000 134849.000  28.9%  41.4  514s\n"
     ]
    },
    {
     "name": "stdout",
     "output_type": "stream",
     "text": [
      " 191132 43109 134849.000   82   35 104636.000 134849.000  28.9%  42.0  525s\n"
     ]
    },
    {
     "name": "stderr",
     "output_type": "stream",
     "text": [
      "2023-05-12 09:21:16,161 - INFO -  191132 43109 134849.000   82   35 104636.000 134849.000  28.9%  42.0  525s\n"
     ]
    },
    {
     "name": "stdout",
     "output_type": "stream",
     "text": [
      " 193502 43582 infeasible   88      104636.000 134849.000  28.9%  42.0  537s\n"
     ]
    },
    {
     "name": "stderr",
     "output_type": "stream",
     "text": [
      "2023-05-12 09:21:28,232 - INFO -  193502 43582 infeasible   88      104636.000 134849.000  28.9%  42.0  537s\n"
     ]
    },
    {
     "name": "stdout",
     "output_type": "stream",
     "text": [
      " 197253 44500 134849.000  103   55 104636.000 134849.000  28.9%  42.4  550s\n"
     ]
    },
    {
     "name": "stderr",
     "output_type": "stream",
     "text": [
      "2023-05-12 09:21:40,398 - INFO -  197253 44500 134849.000  103   55 104636.000 134849.000  28.9%  42.4  550s\n"
     ]
    },
    {
     "name": "stdout",
     "output_type": "stream",
     "text": [
      " 202629 43626 134849.000  118   41 104636.000 134849.000  28.9%  42.6  566s\n"
     ]
    },
    {
     "name": "stderr",
     "output_type": "stream",
     "text": [
      "2023-05-12 09:21:56,305 - INFO -  202629 43626 134849.000  118   41 104636.000 134849.000  28.9%  42.6  566s\n"
     ]
    },
    {
     "name": "stdout",
     "output_type": "stream",
     "text": [
      " 205375 43183 infeasible  124      104636.000 134849.000  28.9%  42.8  576s\n"
     ]
    },
    {
     "name": "stderr",
     "output_type": "stream",
     "text": [
      "2023-05-12 09:22:06,650 - INFO -  205375 43183 infeasible  124      104636.000 134849.000  28.9%  42.8  576s\n"
     ]
    },
    {
     "name": "stdout",
     "output_type": "stream",
     "text": [
      " 207804 44428 134538.993  103   87 104636.000 134849.000  28.9%  43.3  586s\n"
     ]
    },
    {
     "name": "stderr",
     "output_type": "stream",
     "text": [
      "2023-05-12 09:22:17,222 - INFO -  207804 44428 134538.993  103   87 104636.000 134849.000  28.9%  43.3  586s\n"
     ]
    },
    {
     "name": "stdout",
     "output_type": "stream",
     "text": [
      " 212268 44525 134849.000   52   32 104636.000 134849.000  28.9%  43.5  598s\n"
     ]
    },
    {
     "name": "stderr",
     "output_type": "stream",
     "text": [
      "2023-05-12 09:22:29,056 - INFO -  212268 44525 134849.000   52   32 104636.000 134849.000  28.9%  43.5  598s\n"
     ]
    },
    {
     "name": "stdout",
     "output_type": "stream",
     "text": [
      "\n"
     ]
    },
    {
     "name": "stderr",
     "output_type": "stream",
     "text": [
      "2023-05-12 09:22:30,837 - INFO - \n"
     ]
    },
    {
     "name": "stdout",
     "output_type": "stream",
     "text": [
      "Cutting planes:\n"
     ]
    },
    {
     "name": "stderr",
     "output_type": "stream",
     "text": [
      "2023-05-12 09:22:30,840 - INFO - Cutting planes:\n"
     ]
    },
    {
     "name": "stdout",
     "output_type": "stream",
     "text": [
      "  Gomory: 1\n"
     ]
    },
    {
     "name": "stderr",
     "output_type": "stream",
     "text": [
      "2023-05-12 09:22:30,840 - INFO -   Gomory: 1\n"
     ]
    },
    {
     "name": "stdout",
     "output_type": "stream",
     "text": [
      "  Cover: 1\n"
     ]
    },
    {
     "name": "stderr",
     "output_type": "stream",
     "text": [
      "2023-05-12 09:22:30,840 - INFO -   Cover: 1\n"
     ]
    },
    {
     "name": "stdout",
     "output_type": "stream",
     "text": [
      "  Flow cover: 2\n"
     ]
    },
    {
     "name": "stderr",
     "output_type": "stream",
     "text": [
      "2023-05-12 09:22:30,864 - INFO -   Flow cover: 2\n"
     ]
    },
    {
     "name": "stdout",
     "output_type": "stream",
     "text": [
      "  Lazy constraints: 2278\n"
     ]
    },
    {
     "name": "stderr",
     "output_type": "stream",
     "text": [
      "2023-05-12 09:22:30,869 - INFO -   Lazy constraints: 2278\n"
     ]
    },
    {
     "name": "stdout",
     "output_type": "stream",
     "text": [
      "\n"
     ]
    },
    {
     "name": "stderr",
     "output_type": "stream",
     "text": [
      "2023-05-12 09:22:30,875 - INFO - \n"
     ]
    },
    {
     "name": "stdout",
     "output_type": "stream",
     "text": [
      "Explored 215798 nodes (9378274 simplex iterations) in 600.60 seconds\n"
     ]
    },
    {
     "name": "stderr",
     "output_type": "stream",
     "text": [
      "2023-05-12 09:22:30,884 - INFO - Explored 215798 nodes (9378274 simplex iterations) in 600.60 seconds\n"
     ]
    },
    {
     "name": "stdout",
     "output_type": "stream",
     "text": [
      "Thread count was 24 (of 48 available processors)\n"
     ]
    },
    {
     "name": "stderr",
     "output_type": "stream",
     "text": [
      "2023-05-12 09:22:30,888 - INFO - Thread count was 24 (of 48 available processors)\n"
     ]
    },
    {
     "name": "stdout",
     "output_type": "stream",
     "text": [
      "\n"
     ]
    },
    {
     "name": "stderr",
     "output_type": "stream",
     "text": [
      "2023-05-12 09:22:30,890 - INFO - \n"
     ]
    },
    {
     "name": "stdout",
     "output_type": "stream",
     "text": [
      "Solution count 5: 104636 104100 101840 ... 94632\n"
     ]
    },
    {
     "name": "stderr",
     "output_type": "stream",
     "text": [
      "2023-05-12 09:22:30,892 - INFO - Solution count 5: 104636 104100 101840 ... 94632\n"
     ]
    },
    {
     "name": "stdout",
     "output_type": "stream",
     "text": [
      "\n"
     ]
    },
    {
     "name": "stderr",
     "output_type": "stream",
     "text": [
      "2023-05-12 09:22:30,900 - INFO - \n"
     ]
    },
    {
     "name": "stdout",
     "output_type": "stream",
     "text": [
      "Time limit reached\n"
     ]
    },
    {
     "name": "stderr",
     "output_type": "stream",
     "text": [
      "2023-05-12 09:22:30,905 - INFO - Time limit reached\n"
     ]
    },
    {
     "name": "stdout",
     "output_type": "stream",
     "text": [
      "Best objective 1.046360000000e+05, best bound 1.348490000000e+05, gap 28.8744%\n"
     ]
    },
    {
     "name": "stderr",
     "output_type": "stream",
     "text": [
      "2023-05-12 09:22:30,907 - INFO - Best objective 1.046360000000e+05, best bound 1.348490000000e+05, gap 28.8744%\n"
     ]
    },
    {
     "name": "stdout",
     "output_type": "stream",
     "text": [
      "\n"
     ]
    },
    {
     "name": "stderr",
     "output_type": "stream",
     "text": [
      "2023-05-12 09:22:30,911 - INFO - \n"
     ]
    },
    {
     "name": "stdout",
     "output_type": "stream",
     "text": [
      "User-callback calls 469758, time in user-callback 46.35 sec\n"
     ]
    },
    {
     "name": "stderr",
     "output_type": "stream",
     "text": [
      "2023-05-12 09:22:30,916 - INFO - User-callback calls 469758, time in user-callback 46.35 sec\n"
     ]
    },
    {
     "name": "stdout",
     "output_type": "stream",
     "text": [
      "{'Bounds': {'D200': {'ub': 134848.99999999994, 'max_soln': 104636.0}, 'D160': {}, 'R200': {}, 'R160': {}, 'D201': {}, 'D161': {}, 'R201': {}, 'R161': {}, 'D202': {}, 'D162': {}, 'R202': {}, 'R162': {}, 'D203': {}, 'D163': {}, 'R203': {}, 'R163': {}}}\n",
      "0\n",
      "{0: <gurobi.Var D160>, 1: <gurobi.Var D161>, 2: <gurobi.Var D162>, 3: <gurobi.Var D163>}\n",
      "max D160\n",
      "Gurobi Optimizer version 9.1.2 build v9.1.2rc0 (win64)\n"
     ]
    },
    {
     "name": "stderr",
     "output_type": "stream",
     "text": [
      "2023-05-12 09:22:31,319 - INFO - Gurobi Optimizer version 9.1.2 build v9.1.2rc0 (win64)\n"
     ]
    },
    {
     "name": "stdout",
     "output_type": "stream",
     "text": [
      "Thread count: 24 physical cores, 48 logical processors, using up to 24 threads\n"
     ]
    },
    {
     "name": "stderr",
     "output_type": "stream",
     "text": [
      "2023-05-12 09:22:31,320 - INFO - Thread count: 24 physical cores, 48 logical processors, using up to 24 threads\n"
     ]
    },
    {
     "name": "stdout",
     "output_type": "stream",
     "text": [
      "Optimize a model with 118 rows, 680 columns and 2343 nonzeros\n"
     ]
    },
    {
     "name": "stderr",
     "output_type": "stream",
     "text": [
      "2023-05-12 09:22:31,322 - INFO - Optimize a model with 118 rows, 680 columns and 2343 nonzeros\n"
     ]
    },
    {
     "name": "stdout",
     "output_type": "stream",
     "text": [
      "Model fingerprint: 0xa62b4fab\n"
     ]
    },
    {
     "name": "stderr",
     "output_type": "stream",
     "text": [
      "2023-05-12 09:22:31,323 - INFO - Model fingerprint: 0xa62b4fab\n"
     ]
    },
    {
     "name": "stdout",
     "output_type": "stream",
     "text": [
      "Variable types: 24 continuous, 656 integer (656 binary)\n"
     ]
    },
    {
     "name": "stderr",
     "output_type": "stream",
     "text": [
      "2023-05-12 09:22:31,324 - INFO - Variable types: 24 continuous, 656 integer (656 binary)\n"
     ]
    },
    {
     "name": "stdout",
     "output_type": "stream",
     "text": [
      "Coefficient statistics:\n"
     ]
    },
    {
     "name": "stderr",
     "output_type": "stream",
     "text": [
      "2023-05-12 09:22:31,325 - INFO - Coefficient statistics:\n"
     ]
    },
    {
     "name": "stdout",
     "output_type": "stream",
     "text": [
      "  Matrix range     [1e+00, 2e+05]\n"
     ]
    },
    {
     "name": "stderr",
     "output_type": "stream",
     "text": [
      "2023-05-12 09:22:31,326 - INFO -   Matrix range     [1e+00, 2e+05]\n"
     ]
    },
    {
     "name": "stdout",
     "output_type": "stream",
     "text": [
      "  Objective range  [1e+00, 1e+00]\n"
     ]
    },
    {
     "name": "stderr",
     "output_type": "stream",
     "text": [
      "2023-05-12 09:22:31,327 - INFO -   Objective range  [1e+00, 1e+00]\n"
     ]
    },
    {
     "name": "stdout",
     "output_type": "stream",
     "text": [
      "  Bounds range     [1e+00, 8e+05]\n"
     ]
    },
    {
     "name": "stderr",
     "output_type": "stream",
     "text": [
      "2023-05-12 09:22:31,328 - INFO -   Bounds range     [1e+00, 8e+05]\n"
     ]
    },
    {
     "name": "stdout",
     "output_type": "stream",
     "text": [
      "  RHS range        [1e+00, 8e+05]\n"
     ]
    },
    {
     "name": "stderr",
     "output_type": "stream",
     "text": [
      "2023-05-12 09:22:31,329 - INFO -   RHS range        [1e+00, 8e+05]\n"
     ]
    },
    {
     "name": "stdout",
     "output_type": "stream",
     "text": [
      "\n"
     ]
    },
    {
     "name": "stderr",
     "output_type": "stream",
     "text": [
      "2023-05-12 09:22:31,330 - INFO - \n"
     ]
    },
    {
     "name": "stdout",
     "output_type": "stream",
     "text": [
      "User MIP start produced solution with objective 75302 (0.02s)\n"
     ]
    },
    {
     "name": "stderr",
     "output_type": "stream",
     "text": [
      "2023-05-12 09:22:31,339 - INFO - User MIP start produced solution with objective 75302 (0.02s)\n"
     ]
    },
    {
     "name": "stdout",
     "output_type": "stream",
     "text": [
      "Loaded user MIP start with objective 75302\n"
     ]
    },
    {
     "name": "stderr",
     "output_type": "stream",
     "text": [
      "2023-05-12 09:22:31,345 - INFO - Loaded user MIP start with objective 75302\n"
     ]
    },
    {
     "name": "stdout",
     "output_type": "stream",
     "text": [
      "MIP start from previous solve produced solution with objective 86371 (0.03s)\n"
     ]
    },
    {
     "name": "stderr",
     "output_type": "stream",
     "text": [
      "2023-05-12 09:22:31,352 - INFO - MIP start from previous solve produced solution with objective 86371 (0.03s)\n"
     ]
    },
    {
     "name": "stdout",
     "output_type": "stream",
     "text": [
      "Loaded MIP start from previous solve with objective 86371\n"
     ]
    },
    {
     "name": "stderr",
     "output_type": "stream",
     "text": [
      "2023-05-12 09:22:31,360 - INFO - Loaded MIP start from previous solve with objective 86371\n"
     ]
    },
    {
     "name": "stdout",
     "output_type": "stream",
     "text": [
      "\n"
     ]
    },
    {
     "name": "stderr",
     "output_type": "stream",
     "text": [
      "2023-05-12 09:22:31,361 - INFO - \n"
     ]
    },
    {
     "name": "stdout",
     "output_type": "stream",
     "text": [
      "Presolve removed 9 rows and 8 columns\n"
     ]
    },
    {
     "name": "stderr",
     "output_type": "stream",
     "text": [
      "2023-05-12 09:22:31,372 - INFO - Presolve removed 9 rows and 8 columns\n"
     ]
    },
    {
     "name": "stdout",
     "output_type": "stream",
     "text": [
      "Presolve time: 0.01s\n"
     ]
    },
    {
     "name": "stderr",
     "output_type": "stream",
     "text": [
      "2023-05-12 09:22:31,374 - INFO - Presolve time: 0.01s\n"
     ]
    },
    {
     "name": "stdout",
     "output_type": "stream",
     "text": [
      "Presolved: 109 rows, 672 columns, 2318 nonzeros\n"
     ]
    },
    {
     "name": "stderr",
     "output_type": "stream",
     "text": [
      "2023-05-12 09:22:31,376 - INFO - Presolved: 109 rows, 672 columns, 2318 nonzeros\n"
     ]
    },
    {
     "name": "stdout",
     "output_type": "stream",
     "text": [
      "Variable types: 0 continuous, 672 integer (656 binary)\n"
     ]
    },
    {
     "name": "stderr",
     "output_type": "stream",
     "text": [
      "2023-05-12 09:22:31,379 - INFO - Variable types: 0 continuous, 672 integer (656 binary)\n"
     ]
    },
    {
     "name": "stdout",
     "output_type": "stream",
     "text": [
      "\n"
     ]
    },
    {
     "name": "stderr",
     "output_type": "stream",
     "text": [
      "2023-05-12 09:22:31,381 - INFO - \n"
     ]
    },
    {
     "name": "stdout",
     "output_type": "stream",
     "text": [
      "Concurrent LP optimizer: primal simplex, dual simplex, and barrier\n"
     ]
    },
    {
     "name": "stderr",
     "output_type": "stream",
     "text": [
      "2023-05-12 09:22:31,382 - INFO - Concurrent LP optimizer: primal simplex, dual simplex, and barrier\n"
     ]
    },
    {
     "name": "stdout",
     "output_type": "stream",
     "text": [
      "Showing barrier log only...\n"
     ]
    },
    {
     "name": "stderr",
     "output_type": "stream",
     "text": [
      "2023-05-12 09:22:31,384 - INFO - Showing barrier log only...\n"
     ]
    },
    {
     "name": "stdout",
     "output_type": "stream",
     "text": [
      "\n"
     ]
    },
    {
     "name": "stderr",
     "output_type": "stream",
     "text": [
      "2023-05-12 09:22:31,385 - INFO - \n"
     ]
    },
    {
     "name": "stdout",
     "output_type": "stream",
     "text": [
      "\n"
     ]
    },
    {
     "name": "stderr",
     "output_type": "stream",
     "text": [
      "2023-05-12 09:22:31,402 - INFO - \n"
     ]
    },
    {
     "name": "stdout",
     "output_type": "stream",
     "text": [
      "Solved with dual simplex\n"
     ]
    },
    {
     "name": "stderr",
     "output_type": "stream",
     "text": [
      "2023-05-12 09:22:31,405 - INFO - Solved with dual simplex\n"
     ]
    },
    {
     "name": "stdout",
     "output_type": "stream",
     "text": [
      "\n"
     ]
    },
    {
     "name": "stderr",
     "output_type": "stream",
     "text": [
      "2023-05-12 09:22:31,406 - INFO - \n"
     ]
    },
    {
     "name": "stdout",
     "output_type": "stream",
     "text": [
      "Root relaxation: objective 1.360398e+05, 86 iterations, 0.02 seconds\n"
     ]
    },
    {
     "name": "stderr",
     "output_type": "stream",
     "text": [
      "2023-05-12 09:22:31,407 - INFO - Root relaxation: objective 1.360398e+05, 86 iterations, 0.02 seconds\n"
     ]
    },
    {
     "name": "stdout",
     "output_type": "stream",
     "text": [
      "\n"
     ]
    },
    {
     "name": "stderr",
     "output_type": "stream",
     "text": [
      "2023-05-12 09:22:31,420 - INFO - \n"
     ]
    },
    {
     "name": "stdout",
     "output_type": "stream",
     "text": [
      "    Nodes    |    Current Node    |     Objective Bounds      |     Work\n"
     ]
    },
    {
     "name": "stderr",
     "output_type": "stream",
     "text": [
      "2023-05-12 09:22:31,423 - INFO -     Nodes    |    Current Node    |     Objective Bounds      |     Work\n"
     ]
    },
    {
     "name": "stdout",
     "output_type": "stream",
     "text": [
      " Expl Unexpl |  Obj  Depth IntInf | Incumbent    BestBd   Gap | It/Node Time\n"
     ]
    },
    {
     "name": "stderr",
     "output_type": "stream",
     "text": [
      "2023-05-12 09:22:31,427 - INFO -  Expl Unexpl |  Obj  Depth IntInf | Incumbent    BestBd   Gap | It/Node Time\n"
     ]
    },
    {
     "name": "stdout",
     "output_type": "stream",
     "text": [
      "\n"
     ]
    },
    {
     "name": "stderr",
     "output_type": "stream",
     "text": [
      "2023-05-12 09:22:31,431 - INFO - \n"
     ]
    },
    {
     "name": "stdout",
     "output_type": "stream",
     "text": [
      "     0     0 136039.794    0   20 86371.0000 136039.794  57.5%     -    0s\n"
     ]
    },
    {
     "name": "stderr",
     "output_type": "stream",
     "text": [
      "2023-05-12 09:22:31,435 - INFO -      0     0 136039.794    0   20 86371.0000 136039.794  57.5%     -    0s\n"
     ]
    },
    {
     "name": "stdout",
     "output_type": "stream",
     "text": [
      "     0     0 136038.428    0   30 86371.0000 136038.428  57.5%     -    0s\n"
     ]
    },
    {
     "name": "stderr",
     "output_type": "stream",
     "text": [
      "2023-05-12 09:22:31,455 - INFO -      0     0 136038.428    0   30 86371.0000 136038.428  57.5%     -    0s\n"
     ]
    },
    {
     "name": "stdout",
     "output_type": "stream",
     "text": [
      "     0     0 136034.234    0   30 86371.0000 136034.234  57.5%     -    0s\n"
     ]
    },
    {
     "name": "stderr",
     "output_type": "stream",
     "text": [
      "2023-05-12 09:22:31,516 - INFO -      0     0 136034.234    0   30 86371.0000 136034.234  57.5%     -    0s\n"
     ]
    },
    {
     "name": "stdout",
     "output_type": "stream",
     "text": [
      "     0     0 136022.320    0   28 86371.0000 136022.320  57.5%     -    0s\n"
     ]
    },
    {
     "name": "stderr",
     "output_type": "stream",
     "text": [
      "2023-05-12 09:22:31,527 - INFO -      0     0 136022.320    0   28 86371.0000 136022.320  57.5%     -    0s\n"
     ]
    },
    {
     "name": "stdout",
     "output_type": "stream",
     "text": [
      "     0     0 136022.320    0   29 86371.0000 136022.320  57.5%     -    0s\n"
     ]
    },
    {
     "name": "stderr",
     "output_type": "stream",
     "text": [
      "2023-05-12 09:22:31,537 - INFO -      0     0 136022.320    0   29 86371.0000 136022.320  57.5%     -    0s\n"
     ]
    },
    {
     "name": "stdout",
     "output_type": "stream",
     "text": [
      "     0     0 136021.090    0   32 86371.0000 136021.090  57.5%     -    0s\n"
     ]
    },
    {
     "name": "stderr",
     "output_type": "stream",
     "text": [
      "2023-05-12 09:22:31,574 - INFO -      0     0 136021.090    0   32 86371.0000 136021.090  57.5%     -    0s\n"
     ]
    },
    {
     "name": "stdout",
     "output_type": "stream",
     "text": [
      "     0     0 136020.690    0   30 86371.0000 136020.690  57.5%     -    0s\n"
     ]
    },
    {
     "name": "stderr",
     "output_type": "stream",
     "text": [
      "2023-05-12 09:22:31,585 - INFO -      0     0 136020.690    0   30 86371.0000 136020.690  57.5%     -    0s\n"
     ]
    },
    {
     "name": "stdout",
     "output_type": "stream",
     "text": [
      "     0     0 136019.319    0   28 86371.0000 136019.319  57.5%     -    0s\n"
     ]
    },
    {
     "name": "stderr",
     "output_type": "stream",
     "text": [
      "2023-05-12 09:22:31,627 - INFO -      0     0 136019.319    0   28 86371.0000 136019.319  57.5%     -    0s\n"
     ]
    },
    {
     "name": "stdout",
     "output_type": "stream",
     "text": [
      "     0     0 136017.307    0   28 86371.0000 136017.307  57.5%     -    0s\n"
     ]
    },
    {
     "name": "stderr",
     "output_type": "stream",
     "text": [
      "2023-05-12 09:22:31,637 - INFO -      0     0 136017.307    0   28 86371.0000 136017.307  57.5%     -    0s\n"
     ]
    },
    {
     "name": "stdout",
     "output_type": "stream",
     "text": [
      "     0     0 136014.172    0   32 86371.0000 136014.172  57.5%     -    0s\n"
     ]
    },
    {
     "name": "stderr",
     "output_type": "stream",
     "text": [
      "2023-05-12 09:22:31,641 - INFO -      0     0 136014.172    0   32 86371.0000 136014.172  57.5%     -    0s\n"
     ]
    },
    {
     "name": "stdout",
     "output_type": "stream",
     "text": [
      "     0     0 136011.392    0   32 86371.0000 136011.392  57.5%     -    0s\n"
     ]
    },
    {
     "name": "stderr",
     "output_type": "stream",
     "text": [
      "2023-05-12 09:22:31,645 - INFO -      0     0 136011.392    0   32 86371.0000 136011.392  57.5%     -    0s\n"
     ]
    },
    {
     "name": "stdout",
     "output_type": "stream",
     "text": [
      "     0     0 136011.317    0   34 86371.0000 136011.317  57.5%     -    0s\n"
     ]
    },
    {
     "name": "stderr",
     "output_type": "stream",
     "text": [
      "2023-05-12 09:22:31,649 - INFO -      0     0 136011.317    0   34 86371.0000 136011.317  57.5%     -    0s\n"
     ]
    },
    {
     "name": "stdout",
     "output_type": "stream",
     "text": [
      "     0     0 136011.224    0   36 86371.0000 136011.224  57.5%     -    0s\n"
     ]
    },
    {
     "name": "stderr",
     "output_type": "stream",
     "text": [
      "2023-05-12 09:22:31,653 - INFO -      0     0 136011.224    0   36 86371.0000 136011.224  57.5%     -    0s\n"
     ]
    },
    {
     "name": "stdout",
     "output_type": "stream",
     "text": [
      "     0     0 136010.245    0   39 86371.0000 136010.245  57.5%     -    0s\n"
     ]
    },
    {
     "name": "stderr",
     "output_type": "stream",
     "text": [
      "2023-05-12 09:22:31,681 - INFO -      0     0 136010.245    0   39 86371.0000 136010.245  57.5%     -    0s\n"
     ]
    },
    {
     "name": "stdout",
     "output_type": "stream",
     "text": [
      "     0     0 135875.930    0   29 86371.0000 135875.930  57.3%     -    0s\n"
     ]
    },
    {
     "name": "stderr",
     "output_type": "stream",
     "text": [
      "2023-05-12 09:22:31,809 - INFO -      0     0 135875.930    0   29 86371.0000 135875.930  57.3%     -    0s\n"
     ]
    },
    {
     "name": "stdout",
     "output_type": "stream",
     "text": [
      "     0     0 135875.930    0   29 86371.0000 135875.930  57.3%     -    0s\n"
     ]
    },
    {
     "name": "stderr",
     "output_type": "stream",
     "text": [
      "2023-05-12 09:22:31,814 - INFO -      0     0 135875.930    0   29 86371.0000 135875.930  57.3%     -    0s\n"
     ]
    },
    {
     "name": "stdout",
     "output_type": "stream",
     "text": [
      "     0     0 135874.546    0   30 86371.0000 135874.546  57.3%     -    0s\n"
     ]
    },
    {
     "name": "stderr",
     "output_type": "stream",
     "text": [
      "2023-05-12 09:22:31,825 - INFO -      0     0 135874.546    0   30 86371.0000 135874.546  57.3%     -    0s\n"
     ]
    },
    {
     "name": "stdout",
     "output_type": "stream",
     "text": [
      "     0     0 135872.215    0   38 86371.0000 135872.215  57.3%     -    0s\n"
     ]
    },
    {
     "name": "stderr",
     "output_type": "stream",
     "text": [
      "2023-05-12 09:22:31,833 - INFO -      0     0 135872.215    0   38 86371.0000 135872.215  57.3%     -    0s\n"
     ]
    },
    {
     "name": "stdout",
     "output_type": "stream",
     "text": [
      "     0     0 135871.971    0   40 86371.0000 135871.971  57.3%     -    0s\n"
     ]
    },
    {
     "name": "stderr",
     "output_type": "stream",
     "text": [
      "2023-05-12 09:22:31,838 - INFO -      0     0 135871.971    0   40 86371.0000 135871.971  57.3%     -    0s\n"
     ]
    },
    {
     "name": "stdout",
     "output_type": "stream",
     "text": [
      "     0     0 135870.649    0   42 86371.0000 135870.649  57.3%     -    0s\n"
     ]
    },
    {
     "name": "stderr",
     "output_type": "stream",
     "text": [
      "2023-05-12 09:22:31,854 - INFO -      0     0 135870.649    0   42 86371.0000 135870.649  57.3%     -    0s\n"
     ]
    },
    {
     "name": "stdout",
     "output_type": "stream",
     "text": [
      "     0     0 135870.264    0   38 86371.0000 135870.264  57.3%     -    0s\n"
     ]
    },
    {
     "name": "stderr",
     "output_type": "stream",
     "text": [
      "2023-05-12 09:22:31,858 - INFO -      0     0 135870.264    0   38 86371.0000 135870.264  57.3%     -    0s\n"
     ]
    },
    {
     "name": "stdout",
     "output_type": "stream",
     "text": [
      "     0     0 135870.104    0   36 86371.0000 135870.104  57.3%     -    0s\n"
     ]
    },
    {
     "name": "stderr",
     "output_type": "stream",
     "text": [
      "2023-05-12 09:22:31,873 - INFO -      0     0 135870.104    0   36 86371.0000 135870.104  57.3%     -    0s\n"
     ]
    },
    {
     "name": "stdout",
     "output_type": "stream",
     "text": [
      "     0     0 135868.477    0   35 86371.0000 135868.477  57.3%     -    0s\n"
     ]
    },
    {
     "name": "stderr",
     "output_type": "stream",
     "text": [
      "2023-05-12 09:22:31,880 - INFO -      0     0 135868.477    0   35 86371.0000 135868.477  57.3%     -    0s\n"
     ]
    },
    {
     "name": "stdout",
     "output_type": "stream",
     "text": [
      "     0     0 135867.453    0   35 86371.0000 135867.453  57.3%     -    0s\n"
     ]
    },
    {
     "name": "stderr",
     "output_type": "stream",
     "text": [
      "2023-05-12 09:22:31,883 - INFO -      0     0 135867.453    0   35 86371.0000 135867.453  57.3%     -    0s\n"
     ]
    },
    {
     "name": "stdout",
     "output_type": "stream",
     "text": [
      "     0     0 135866.267    0   38 86371.0000 135866.267  57.3%     -    0s\n"
     ]
    },
    {
     "name": "stderr",
     "output_type": "stream",
     "text": [
      "2023-05-12 09:22:31,886 - INFO -      0     0 135866.267    0   38 86371.0000 135866.267  57.3%     -    0s\n"
     ]
    },
    {
     "name": "stdout",
     "output_type": "stream",
     "text": [
      "     0     0 135865.981    0   39 86371.0000 135865.981  57.3%     -    0s\n"
     ]
    },
    {
     "name": "stderr",
     "output_type": "stream",
     "text": [
      "2023-05-12 09:22:31,898 - INFO -      0     0 135865.981    0   39 86371.0000 135865.981  57.3%     -    0s\n"
     ]
    },
    {
     "name": "stdout",
     "output_type": "stream",
     "text": [
      "     0     0 135865.964    0   43 86371.0000 135865.964  57.3%     -    0s\n"
     ]
    },
    {
     "name": "stderr",
     "output_type": "stream",
     "text": [
      "2023-05-12 09:22:31,904 - INFO -      0     0 135865.964    0   43 86371.0000 135865.964  57.3%     -    0s\n"
     ]
    },
    {
     "name": "stdout",
     "output_type": "stream",
     "text": [
      "     0     0 135864.460    0   42 86371.0000 135864.460  57.3%     -    0s\n"
     ]
    },
    {
     "name": "stderr",
     "output_type": "stream",
     "text": [
      "2023-05-12 09:22:31,916 - INFO -      0     0 135864.460    0   42 86371.0000 135864.460  57.3%     -    0s\n"
     ]
    },
    {
     "name": "stdout",
     "output_type": "stream",
     "text": [
      "     0     0 135864.174    0   44 86371.0000 135864.174  57.3%     -    0s\n"
     ]
    },
    {
     "name": "stderr",
     "output_type": "stream",
     "text": [
      "2023-05-12 09:22:31,926 - INFO -      0     0 135864.174    0   44 86371.0000 135864.174  57.3%     -    0s\n"
     ]
    },
    {
     "name": "stdout",
     "output_type": "stream",
     "text": [
      "     0     0 135863.748    0   48 86371.0000 135863.748  57.3%     -    0s\n"
     ]
    },
    {
     "name": "stderr",
     "output_type": "stream",
     "text": [
      "2023-05-12 09:22:31,934 - INFO -      0     0 135863.748    0   48 86371.0000 135863.748  57.3%     -    0s\n"
     ]
    },
    {
     "name": "stdout",
     "output_type": "stream",
     "text": [
      "     0     0 135863.680    0   48 86371.0000 135863.680  57.3%     -    0s\n"
     ]
    },
    {
     "name": "stderr",
     "output_type": "stream",
     "text": [
      "2023-05-12 09:22:31,940 - INFO -      0     0 135863.680    0   48 86371.0000 135863.680  57.3%     -    0s\n"
     ]
    },
    {
     "name": "stdout",
     "output_type": "stream",
     "text": [
      "     0     0 135862.882    0   42 86371.0000 135862.882  57.3%     -    0s\n"
     ]
    },
    {
     "name": "stderr",
     "output_type": "stream",
     "text": [
      "2023-05-12 09:22:31,962 - INFO -      0     0 135862.882    0   42 86371.0000 135862.882  57.3%     -    0s\n"
     ]
    },
    {
     "name": "stdout",
     "output_type": "stream",
     "text": [
      "     0     0 135862.882    0   42 86371.0000 135862.882  57.3%     -    0s\n"
     ]
    },
    {
     "name": "stderr",
     "output_type": "stream",
     "text": [
      "2023-05-12 09:22:31,962 - INFO -      0     0 135862.882    0   42 86371.0000 135862.882  57.3%     -    0s\n"
     ]
    },
    {
     "name": "stdout",
     "output_type": "stream",
     "text": [
      "     0     0 135861.952    0   40 86371.0000 135861.952  57.3%     -    0s\n"
     ]
    },
    {
     "name": "stderr",
     "output_type": "stream",
     "text": [
      "2023-05-12 09:22:31,978 - INFO -      0     0 135861.952    0   40 86371.0000 135861.952  57.3%     -    0s\n"
     ]
    },
    {
     "name": "stdout",
     "output_type": "stream",
     "text": [
      "     0     0 135861.952    0   35 86371.0000 135861.952  57.3%     -    0s\n"
     ]
    },
    {
     "name": "stderr",
     "output_type": "stream",
     "text": [
      "2023-05-12 09:22:32,009 - INFO -      0     0 135861.952    0   35 86371.0000 135861.952  57.3%     -    0s\n"
     ]
    },
    {
     "name": "stdout",
     "output_type": "stream",
     "text": [
      "     0     2 135861.952    0   35 86371.0000 135861.952  57.3%     -    0s\n"
     ]
    },
    {
     "name": "stderr",
     "output_type": "stream",
     "text": [
      "2023-05-12 09:22:32,036 - INFO -      0     2 135861.952    0   35 86371.0000 135861.952  57.3%     -    0s\n"
     ]
    },
    {
     "name": "stdout",
     "output_type": "stream",
     "text": [
      "  3778  3495 135560.312   22   29 86371.0000 135756.199  57.2%   4.5    5s\n"
     ]
    },
    {
     "name": "stderr",
     "output_type": "stream",
     "text": [
      "2023-05-12 09:22:37,257 - INFO -   3778  3495 135560.312   22   29 86371.0000 135756.199  57.2%   4.5    5s\n"
     ]
    },
    {
     "name": "stdout",
     "output_type": "stream",
     "text": [
      "  5575  4573 133618.546   59   29 86371.0000 135756.199  57.2%   5.6   10s\n"
     ]
    },
    {
     "name": "stderr",
     "output_type": "stream",
     "text": [
      "2023-05-12 09:22:41,353 - INFO -   5575  4573 133618.546   59   29 86371.0000 135756.199  57.2%   5.6   10s\n"
     ]
    },
    {
     "name": "stdout",
     "output_type": "stream",
     "text": [
      "  9710  6671 135425.461   62   21 86371.0000 135752.914  57.2%   9.9   15s\n"
     ]
    },
    {
     "name": "stderr",
     "output_type": "stream",
     "text": [
      "2023-05-12 09:22:46,703 - INFO -   9710  6671 135425.461   62   21 86371.0000 135752.914  57.2%   9.9   15s\n"
     ]
    },
    {
     "name": "stdout",
     "output_type": "stream",
     "text": [
      " 12773  8214 135183.645   49   87 86371.0000 135745.172  57.2%  11.8   20s\n"
     ]
    },
    {
     "name": "stderr",
     "output_type": "stream",
     "text": [
      "2023-05-12 09:22:51,641 - INFO -  12773  8214 135183.645   49   87 86371.0000 135745.172  57.2%  11.8   20s\n"
     ]
    },
    {
     "name": "stdout",
     "output_type": "stream",
     "text": [
      " 14742  9556 130879.118   85   48 86371.0000 135745.172  57.2%  13.8   25s\n"
     ]
    },
    {
     "name": "stderr",
     "output_type": "stream",
     "text": [
      "2023-05-12 09:22:56,391 - INFO -  14742  9556 130879.118   85   48 86371.0000 135745.172  57.2%  13.8   25s\n"
     ]
    },
    {
     "name": "stdout",
     "output_type": "stream",
     "text": [
      " 20819 14697 135213.665   43   77 86371.0000 135702.068  57.1%  17.2   30s\n"
     ]
    },
    {
     "name": "stderr",
     "output_type": "stream",
     "text": [
      "2023-05-12 09:23:01,599 - INFO -  20819 14697 135213.665   43   77 86371.0000 135702.068  57.1%  17.2   30s\n"
     ]
    },
    {
     "name": "stdout",
     "output_type": "stream",
     "text": [
      " 28976 21586 132594.086   39   65 86371.0000 135676.956  57.1%  19.4   35s\n"
     ]
    },
    {
     "name": "stderr",
     "output_type": "stream",
     "text": [
      "2023-05-12 09:23:06,396 - INFO -  28976 21586 132594.086   39   65 86371.0000 135676.956  57.1%  19.4   35s\n"
     ]
    },
    {
     "name": "stdout",
     "output_type": "stream",
     "text": [
      " 34460 25348 135374.515   29   92 86371.0000 135663.039  57.1%  21.2   45s\n"
     ]
    },
    {
     "name": "stderr",
     "output_type": "stream",
     "text": [
      "2023-05-12 09:23:16,437 - INFO -  34460 25348 135374.515   29   92 86371.0000 135663.039  57.1%  21.2   45s\n"
     ]
    },
    {
     "name": "stdout",
     "output_type": "stream",
     "text": [
      " 38152 28867 infeasible   93      86371.0000 135660.538  57.1%  22.8   50s\n"
     ]
    },
    {
     "name": "stderr",
     "output_type": "stream",
     "text": [
      "2023-05-12 09:23:21,324 - INFO -  38152 28867 infeasible   93      86371.0000 135660.538  57.1%  22.8   50s\n"
     ]
    },
    {
     "name": "stdout",
     "output_type": "stream",
     "text": [
      " 44146 34125 129070.216   86   60 86371.0000 135645.764  57.1%  25.0   55s\n"
     ]
    },
    {
     "name": "stderr",
     "output_type": "stream",
     "text": [
      "2023-05-12 09:23:27,076 - INFO -  44146 34125 129070.216   86   60 86371.0000 135645.764  57.1%  25.0   55s\n"
     ]
    },
    {
     "name": "stdout",
     "output_type": "stream",
     "text": [
      " 48306 37606 infeasible   91      86371.0000 135637.665  57.0%  26.5   60s\n"
     ]
    },
    {
     "name": "stderr",
     "output_type": "stream",
     "text": [
      "2023-05-12 09:23:31,828 - INFO -  48306 37606 infeasible   91      86371.0000 135637.665  57.0%  26.5   60s\n"
     ]
    },
    {
     "name": "stdout",
     "output_type": "stream",
     "text": [
      " 53246 40663 124508.594   60   97 86371.0000 135631.328  57.0%  27.5   65s\n"
     ]
    },
    {
     "name": "stderr",
     "output_type": "stream",
     "text": [
      "2023-05-12 09:23:36,729 - INFO -  53246 40663 124508.594   60   97 86371.0000 135631.328  57.0%  27.5   65s\n"
     ]
    },
    {
     "name": "stdout",
     "output_type": "stream",
     "text": [
      " 55949 41951 132912.330   64   90 86371.0000 135630.130  57.0%  28.3   75s\n"
     ]
    },
    {
     "name": "stderr",
     "output_type": "stream",
     "text": [
      "2023-05-12 09:23:47,046 - INFO -  55949 41951 132912.330   64   90 86371.0000 135630.130  57.0%  28.3   75s\n"
     ]
    },
    {
     "name": "stdout",
     "output_type": "stream",
     "text": [
      "H56261 42195                    87873.000000 135630.130  54.3%  28.4   80s\n"
     ]
    },
    {
     "name": "stderr",
     "output_type": "stream",
     "text": [
      "2023-05-12 09:23:51,467 - INFO - H56261 42195                    87873.000000 135630.130  54.3%  28.4   80s\n"
     ]
    },
    {
     "name": "stdout",
     "output_type": "stream",
     "text": [
      " 59576 45029 134022.378   38  100 87873.0000 135630.130  54.3%  29.3   85s\n"
     ]
    },
    {
     "name": "stderr",
     "output_type": "stream",
     "text": [
      "2023-05-12 09:23:56,327 - INFO -  59576 45029 134022.378   38  100 87873.0000 135630.130  54.3%  29.3   85s\n"
     ]
    },
    {
     "name": "stdout",
     "output_type": "stream",
     "text": [
      " 62981 49305 134392.116   43  132 87873.0000 135624.802  54.3%  30.3   90s\n"
     ]
    },
    {
     "name": "stderr",
     "output_type": "stream",
     "text": [
      "2023-05-12 09:24:01,936 - INFO -  62981 49305 134392.116   43  132 87873.0000 135624.802  54.3%  30.3   90s\n"
     ]
    },
    {
     "name": "stdout",
     "output_type": "stream",
     "text": [
      " 68116 52423 134044.302   46   85 87873.0000 135624.329  54.3%  31.4   95s\n"
     ]
    },
    {
     "name": "stderr",
     "output_type": "stream",
     "text": [
      "2023-05-12 09:24:06,518 - INFO -  68116 52423 134044.302   46   85 87873.0000 135624.329  54.3%  31.4   95s\n"
     ]
    },
    {
     "name": "stdout",
     "output_type": "stream",
     "text": [
      " 70970 54037 infeasible  104      87873.0000 135622.168  54.3%  32.1  109s\n"
     ]
    },
    {
     "name": "stderr",
     "output_type": "stream",
     "text": [
      "2023-05-12 09:24:20,565 - INFO -  70970 54037 infeasible  104      87873.0000 135622.168  54.3%  32.1  109s\n"
     ]
    },
    {
     "name": "stdout",
     "output_type": "stream",
     "text": [
      " 71078 54038 120215.196   95   35 87873.0000 135622.168  54.3%  32.1  116s\n"
     ]
    },
    {
     "name": "stderr",
     "output_type": "stream",
     "text": [
      "2023-05-12 09:24:28,176 - INFO -  71078 54038 120215.196   95   35 87873.0000 135622.168  54.3%  32.1  116s\n"
     ]
    },
    {
     "name": "stdout",
     "output_type": "stream",
     "text": [
      " 71087 54044 122583.729  110   88 87873.0000 135594.866  54.3%  32.1  120s\n"
     ]
    },
    {
     "name": "stderr",
     "output_type": "stream",
     "text": [
      "2023-05-12 09:24:31,354 - INFO -  71087 54044 122583.729  110   88 87873.0000 135594.866  54.3%  32.1  120s\n"
     ]
    },
    {
     "name": "stdout",
     "output_type": "stream",
     "text": [
      " 71102 54054 120170.989   85   90 87873.0000 135582.934  54.3%  32.1  128s\n"
     ]
    },
    {
     "name": "stderr",
     "output_type": "stream",
     "text": [
      "2023-05-12 09:24:39,344 - INFO -  71102 54054 120170.989   85   90 87873.0000 135582.934  54.3%  32.1  128s\n"
     ]
    },
    {
     "name": "stdout",
     "output_type": "stream",
     "text": [
      " 71105 54061 135510.342   31   67 87873.0000 135576.494  54.3%  32.2  130s\n"
     ]
    },
    {
     "name": "stderr",
     "output_type": "stream",
     "text": [
      "2023-05-12 09:24:42,105 - INFO -  71105 54061 135510.342   31   67 87873.0000 135576.494  54.3%  32.2  130s\n"
     ]
    },
    {
     "name": "stdout",
     "output_type": "stream",
     "text": [
      " 71133 54100 135357.961   34   55 87873.0000 135567.704  54.3%  32.3  135s\n"
     ]
    },
    {
     "name": "stderr",
     "output_type": "stream",
     "text": [
      "2023-05-12 09:24:47,089 - INFO -  71133 54100 135357.961   34   55 87873.0000 135567.704  54.3%  32.3  135s\n"
     ]
    },
    {
     "name": "stdout",
     "output_type": "stream",
     "text": [
      " 71344 54240 135357.961   39   52 87873.0000 135567.704  54.3%  32.5  146s\n"
     ]
    },
    {
     "name": "stderr",
     "output_type": "stream",
     "text": [
      "2023-05-12 09:24:57,990 - INFO -  71344 54240 135357.961   39   52 87873.0000 135567.704  54.3%  32.5  146s\n"
     ]
    },
    {
     "name": "stdout",
     "output_type": "stream",
     "text": [
      " 71368 54256 135357.961   39   62 87873.0000 135567.704  54.3%  32.5  150s\n"
     ]
    },
    {
     "name": "stderr",
     "output_type": "stream",
     "text": [
      "2023-05-12 09:25:02,034 - INFO -  71368 54256 135357.961   39   62 87873.0000 135567.704  54.3%  32.5  150s\n"
     ]
    },
    {
     "name": "stdout",
     "output_type": "stream",
     "text": [
      "H71372 51551                    90720.000000 135567.704  49.4%  32.5  150s\n"
     ]
    },
    {
     "name": "stderr",
     "output_type": "stream",
     "text": [
      "2023-05-12 09:25:02,186 - INFO - H71372 51551                    90720.000000 135567.704  49.4%  32.5  150s\n"
     ]
    },
    {
     "name": "stdout",
     "output_type": "stream",
     "text": [
      "H71411 48995                    92271.000000 135567.704  46.9%  32.5  154s\n"
     ]
    },
    {
     "name": "stderr",
     "output_type": "stream",
     "text": [
      "2023-05-12 09:25:05,476 - INFO - H71411 48995                    92271.000000 135567.704  46.9%  32.5  154s\n"
     ]
    },
    {
     "name": "stdout",
     "output_type": "stream",
     "text": [
      " 71472 49095 135347.527   42   70 92271.0000 135567.704  46.9%  32.6  155s\n"
     ]
    },
    {
     "name": "stderr",
     "output_type": "stream",
     "text": [
      "2023-05-12 09:25:06,570 - INFO -  71472 49095 135347.527   42   70 92271.0000 135567.704  46.9%  32.6  155s\n"
     ]
    },
    {
     "name": "stdout",
     "output_type": "stream",
     "text": [
      " 72539 49758 134497.715   78   57 92271.0000 135567.704  46.9%  33.1  160s\n"
     ]
    },
    {
     "name": "stderr",
     "output_type": "stream",
     "text": [
      "2023-05-12 09:25:12,314 - INFO -  72539 49758 134497.715   78   57 92271.0000 135567.704  46.9%  33.1  160s\n"
     ]
    },
    {
     "name": "stdout",
     "output_type": "stream",
     "text": [
      " 74474 50850 135567.704   39   53 92271.0000 135567.704  46.9%  33.6  165s\n"
     ]
    },
    {
     "name": "stderr",
     "output_type": "stream",
     "text": [
      "2023-05-12 09:25:17,284 - INFO -  74474 50850 135567.704   39   53 92271.0000 135567.704  46.9%  33.6  165s\n"
     ]
    },
    {
     "name": "stdout",
     "output_type": "stream",
     "text": [
      " 76518 52284 134899.526   84   98 92271.0000 135567.704  46.9%  34.1  170s\n"
     ]
    },
    {
     "name": "stderr",
     "output_type": "stream",
     "text": [
      "2023-05-12 09:25:21,452 - INFO -  76518 52284 134899.526   84   98 92271.0000 135567.704  46.9%  34.1  170s\n"
     ]
    },
    {
     "name": "stdout",
     "output_type": "stream",
     "text": [
      " 77986 52362 126670.300  103   80 92271.0000 135567.704  46.9%  34.3  179s\n"
     ]
    },
    {
     "name": "stderr",
     "output_type": "stream",
     "text": [
      "2023-05-12 09:25:30,895 - INFO -  77986 52362 126670.300  103   80 92271.0000 135567.704  46.9%  34.3  179s\n"
     ]
    },
    {
     "name": "stdout",
     "output_type": "stream",
     "text": [
      " 78016 53064 127089.126  105   75 92271.0000 135567.704  46.9%  34.3  181s\n"
     ]
    },
    {
     "name": "stderr",
     "output_type": "stream",
     "text": [
      "2023-05-12 09:25:32,648 - INFO -  78016 53064 127089.126  105   75 92271.0000 135567.704  46.9%  34.3  181s\n"
     ]
    },
    {
     "name": "stdout",
     "output_type": "stream",
     "text": [
      " 80008 54090 125277.981  110   86 92271.0000 135567.704  46.9%  34.7  185s\n"
     ]
    },
    {
     "name": "stderr",
     "output_type": "stream",
     "text": [
      "2023-05-12 09:25:36,515 - INFO -  80008 54090 125277.981  110   86 92271.0000 135567.704  46.9%  34.7  185s\n"
     ]
    },
    {
     "name": "stdout",
     "output_type": "stream",
     "text": [
      " 83207 55363 135285.507   56  114 92271.0000 135567.704  46.9%  35.3  190s\n"
     ]
    },
    {
     "name": "stderr",
     "output_type": "stream",
     "text": [
      "2023-05-12 09:25:41,393 - INFO -  83207 55363 135285.507   56  114 92271.0000 135567.704  46.9%  35.3  190s\n"
     ]
    },
    {
     "name": "stdout",
     "output_type": "stream",
     "text": [
      " 86644 57900 130175.731   86   72 92271.0000 135557.222  46.9%  35.7  196s\n"
     ]
    },
    {
     "name": "stderr",
     "output_type": "stream",
     "text": [
      "2023-05-12 09:25:48,223 - INFO -  86644 57900 130175.731   86   72 92271.0000 135557.222  46.9%  35.7  196s\n"
     ]
    },
    {
     "name": "stdout",
     "output_type": "stream",
     "text": [
      " 90181 59884     cutoff  100      92271.0000 135556.628  46.9%  36.0  201s\n"
     ]
    },
    {
     "name": "stderr",
     "output_type": "stream",
     "text": [
      "2023-05-12 09:25:53,115 - INFO -  90181 59884     cutoff  100      92271.0000 135556.628  46.9%  36.0  201s\n"
     ]
    },
    {
     "name": "stdout",
     "output_type": "stream",
     "text": [
      " 92322 60968 135335.780   48  120 92271.0000 135556.369  46.9%  36.0  205s\n"
     ]
    },
    {
     "name": "stderr",
     "output_type": "stream",
     "text": [
      "2023-05-12 09:25:56,510 - INFO -  92322 60968 135335.780   48  120 92271.0000 135556.369  46.9%  36.0  205s\n"
     ]
    },
    {
     "name": "stdout",
     "output_type": "stream",
     "text": [
      " 94579 61824 115520.476  134   30 92271.0000 135556.369  46.9%  36.1  210s\n"
     ]
    },
    {
     "name": "stderr",
     "output_type": "stream",
     "text": [
      "2023-05-12 09:26:01,651 - INFO -  94579 61824 115520.476  134   30 92271.0000 135556.369  46.9%  36.1  210s\n"
     ]
    },
    {
     "name": "stdout",
     "output_type": "stream",
     "text": [
      " 98602 63862 114878.967  199   29 92271.0000 135556.369  46.9%  36.9  219s\n"
     ]
    },
    {
     "name": "stderr",
     "output_type": "stream",
     "text": [
      "2023-05-12 09:26:11,078 - INFO -  98602 63862 114878.967  199   29 92271.0000 135556.369  46.9%  36.9  219s\n"
     ]
    },
    {
     "name": "stdout",
     "output_type": "stream",
     "text": [
      " 100659 65297 114491.252  209   29 92271.0000 135556.324  46.9%  37.1  224s\n"
     ]
    },
    {
     "name": "stderr",
     "output_type": "stream",
     "text": [
      "2023-05-12 09:26:16,046 - INFO -  100659 65297 114491.252  209   29 92271.0000 135556.324  46.9%  37.1  224s\n"
     ]
    },
    {
     "name": "stdout",
     "output_type": "stream",
     "text": [
      " 103253 65434 135549.892   45   95 92271.0000 135555.894  46.9%  37.3  240s\n"
     ]
    },
    {
     "name": "stderr",
     "output_type": "stream",
     "text": [
      "2023-05-12 09:26:31,373 - INFO -  103253 65434 135549.892   45   95 92271.0000 135555.894  46.9%  37.3  240s\n"
     ]
    },
    {
     "name": "stdout",
     "output_type": "stream",
     "text": [
      " 104620 64996 135541.030   46  103 92271.0000 135555.894  46.9%  37.3  251s\n"
     ]
    },
    {
     "name": "stderr",
     "output_type": "stream",
     "text": [
      "2023-05-12 09:26:43,276 - INFO -  104620 64996 135541.030   46  103 92271.0000 135555.894  46.9%  37.3  251s\n"
     ]
    },
    {
     "name": "stdout",
     "output_type": "stream",
     "text": [
      "H104645 62549                    93298.000000 135555.894  45.3%  37.3  252s\n"
     ]
    },
    {
     "name": "stderr",
     "output_type": "stream",
     "text": [
      "2023-05-12 09:26:44,198 - INFO - H104645 62549                    93298.000000 135555.894  45.3%  37.3  252s\n"
     ]
    },
    {
     "name": "stdout",
     "output_type": "stream",
     "text": [
      " 104654 64926 135503.982   47  112 93298.0000 135555.733  45.3%  37.3  262s\n"
     ]
    },
    {
     "name": "stderr",
     "output_type": "stream",
     "text": [
      "2023-05-12 09:26:54,171 - INFO -  104654 64926 135503.982   47  112 93298.0000 135555.733  45.3%  37.3  262s\n"
     ]
    },
    {
     "name": "stdout",
     "output_type": "stream",
     "text": [
      " 107699 65775 107447.175  116   38 93298.0000 135552.898  45.3%  37.6  271s\n"
     ]
    },
    {
     "name": "stderr",
     "output_type": "stream",
     "text": [
      "2023-05-12 09:27:02,539 - INFO -  107699 65775 107447.175  116   38 93298.0000 135552.898  45.3%  37.6  271s\n"
     ]
    },
    {
     "name": "stdout",
     "output_type": "stream",
     "text": [
      " 110087 67767 132827.299   79  130 93298.0000 135552.413  45.3%  37.9  279s\n"
     ]
    },
    {
     "name": "stderr",
     "output_type": "stream",
     "text": [
      "2023-05-12 09:27:10,901 - INFO -  110087 67767 132827.299   79  130 93298.0000 135552.413  45.3%  37.9  279s\n"
     ]
    },
    {
     "name": "stdout",
     "output_type": "stream",
     "text": [
      " 113741 67246 131968.894   84   56 93298.0000 135552.313  45.3%  38.0  291s\n"
     ]
    },
    {
     "name": "stderr",
     "output_type": "stream",
     "text": [
      "2023-05-12 09:27:22,600 - INFO -  113741 67246 131968.894   84   56 93298.0000 135552.313  45.3%  38.0  291s\n"
     ]
    },
    {
     "name": "stdout",
     "output_type": "stream",
     "text": [
      "H114168 64777                    94272.000000 135552.313  43.8%  38.0  291s\n"
     ]
    },
    {
     "name": "stderr",
     "output_type": "stream",
     "text": [
      "2023-05-12 09:27:23,073 - INFO - H114168 64777                    94272.000000 135552.313  43.8%  38.0  291s\n"
     ]
    },
    {
     "name": "stdout",
     "output_type": "stream",
     "text": [
      " 114659 67813 134964.796   62  113 94272.0000 135551.656  43.8%  38.1  300s\n"
     ]
    },
    {
     "name": "stderr",
     "output_type": "stream",
     "text": [
      "2023-05-12 09:27:31,966 - INFO -  114659 67813 134964.796   62  113 94272.0000 135551.656  43.8%  38.1  300s\n"
     ]
    },
    {
     "name": "stdout",
     "output_type": "stream",
     "text": [
      " 118743 69552 133760.162   61  131 94272.0000 135550.242  43.8%  38.2  308s\n"
     ]
    },
    {
     "name": "stderr",
     "output_type": "stream",
     "text": [
      "2023-05-12 09:27:39,525 - INFO -  118743 69552 133760.162   61  131 94272.0000 135550.242  43.8%  38.2  308s\n"
     ]
    },
    {
     "name": "stdout",
     "output_type": "stream",
     "text": [
      " 122901 71954 135292.709   47  131 94272.0000 135550.007  43.8%  38.5  316s\n"
     ]
    },
    {
     "name": "stderr",
     "output_type": "stream",
     "text": [
      "2023-05-12 09:27:47,506 - INFO -  122901 71954 135292.709   47  131 94272.0000 135550.007  43.8%  38.5  316s\n"
     ]
    },
    {
     "name": "stdout",
     "output_type": "stream",
     "text": [
      " 127707 73268 114056.318   83   99 94272.0000 135550.007  43.8%  38.6  324s\n"
     ]
    },
    {
     "name": "stderr",
     "output_type": "stream",
     "text": [
      "2023-05-12 09:27:55,434 - INFO -  127707 73268 114056.318   83   99 94272.0000 135550.007  43.8%  38.6  324s\n"
     ]
    },
    {
     "name": "stdout",
     "output_type": "stream",
     "text": [
      " 131598 74621 infeasible  122      94272.0000 135549.182  43.8%  39.0  333s\n"
     ]
    },
    {
     "name": "stderr",
     "output_type": "stream",
     "text": [
      "2023-05-12 09:28:04,857 - INFO -  131598 74621 infeasible  122      94272.0000 135549.182  43.8%  39.0  333s\n"
     ]
    },
    {
     "name": "stdout",
     "output_type": "stream",
     "text": [
      " 135394 75915 133563.253   59  134 94272.0000 135547.925  43.8%  39.5  342s\n"
     ]
    },
    {
     "name": "stderr",
     "output_type": "stream",
     "text": [
      "2023-05-12 09:28:13,542 - INFO -  135394 75915 133563.253   59  134 94272.0000 135547.925  43.8%  39.5  342s\n"
     ]
    },
    {
     "name": "stdout",
     "output_type": "stream",
     "text": [
      " 138697 75373 116039.463   97   97 94272.0000 135547.840  43.8%  39.9  357s\n"
     ]
    },
    {
     "name": "stderr",
     "output_type": "stream",
     "text": [
      "2023-05-12 09:28:29,060 - INFO -  138697 75373 116039.463   97   97 94272.0000 135547.840  43.8%  39.9  357s\n"
     ]
    },
    {
     "name": "stdout",
     "output_type": "stream",
     "text": [
      " 139505 78010 126386.906   75  118 94272.0000 135547.686  43.8%  40.0  367s\n"
     ]
    },
    {
     "name": "stderr",
     "output_type": "stream",
     "text": [
      "2023-05-12 09:28:38,666 - INFO -  139505 78010 126386.906   75  118 94272.0000 135547.686  43.8%  40.0  367s\n"
     ]
    },
    {
     "name": "stdout",
     "output_type": "stream",
     "text": [
      " 143385 79296 133283.865   80  118 94272.0000 135547.183  43.8%  40.4  375s\n"
     ]
    },
    {
     "name": "stderr",
     "output_type": "stream",
     "text": [
      "2023-05-12 09:28:46,512 - INFO -  143385 79296 133283.865   80  118 94272.0000 135547.183  43.8%  40.4  375s\n"
     ]
    },
    {
     "name": "stdout",
     "output_type": "stream",
     "text": [
      " 146653 81231 134927.238   61  103 94272.0000 135546.427  43.8%  40.9  387s\n"
     ]
    },
    {
     "name": "stderr",
     "output_type": "stream",
     "text": [
      "2023-05-12 09:28:58,864 - INFO -  146653 81231 134927.238   61  103 94272.0000 135546.427  43.8%  40.9  387s\n"
     ]
    },
    {
     "name": "stdout",
     "output_type": "stream",
     "text": [
      " 150446 82839 134693.299   67  110 94272.0000 135545.835  43.8%  41.2  400s\n"
     ]
    },
    {
     "name": "stderr",
     "output_type": "stream",
     "text": [
      "2023-05-12 09:29:11,666 - INFO -  150446 82839 134693.299   67  110 94272.0000 135545.835  43.8%  41.2  400s\n"
     ]
    },
    {
     "name": "stdout",
     "output_type": "stream",
     "text": [
      " 154218 84109 132854.836   79  115 94272.0000 135545.115  43.8%  41.5  410s\n"
     ]
    },
    {
     "name": "stderr",
     "output_type": "stream",
     "text": [
      "2023-05-12 09:29:22,085 - INFO -  154218 84109 132854.836   79  115 94272.0000 135545.115  43.8%  41.5  410s\n"
     ]
    },
    {
     "name": "stdout",
     "output_type": "stream",
     "text": [
      " 157439 85716 134417.560   71   70 94272.0000 135544.048  43.8%  41.9  421s\n"
     ]
    },
    {
     "name": "stderr",
     "output_type": "stream",
     "text": [
      "2023-05-12 09:29:32,647 - INFO -  157439 85716 134417.560   71   70 94272.0000 135544.048  43.8%  41.9  421s\n"
     ]
    },
    {
     "name": "stdout",
     "output_type": "stream",
     "text": [
      " 160695 85152 133561.556   80   88 94272.0000 135543.990  43.8%  42.3  438s\n"
     ]
    },
    {
     "name": "stderr",
     "output_type": "stream",
     "text": [
      "2023-05-12 09:29:49,944 - INFO -  160695 85152 133561.556   80   88 94272.0000 135543.990  43.8%  42.3  438s\n"
     ]
    },
    {
     "name": "stdout",
     "output_type": "stream",
     "text": [
      " 161393 87635 118204.311   97   85 94272.0000 135543.947  43.8%  42.3  450s\n"
     ]
    },
    {
     "name": "stderr",
     "output_type": "stream",
     "text": [
      "2023-05-12 09:30:01,890 - INFO -  161393 87635 118204.311   97   85 94272.0000 135543.947  43.8%  42.3  450s\n"
     ]
    },
    {
     "name": "stdout",
     "output_type": "stream",
     "text": [
      " 164961 89116 infeasible  135      94272.0000 135543.002  43.8%  42.6  461s\n"
     ]
    },
    {
     "name": "stderr",
     "output_type": "stream",
     "text": [
      "2023-05-12 09:30:12,794 - INFO -  164961 89116 infeasible  135      94272.0000 135543.002  43.8%  42.6  461s\n"
     ]
    },
    {
     "name": "stdout",
     "output_type": "stream",
     "text": [
      " 168296 89756 133368.446   73   80 94272.0000 135542.555  43.8%  42.9  499s\n"
     ]
    },
    {
     "name": "stderr",
     "output_type": "stream",
     "text": [
      "2023-05-12 09:30:51,154 - INFO -  168296 89756 133368.446   73   80 94272.0000 135542.555  43.8%  42.9  499s\n"
     ]
    },
    {
     "name": "stdout",
     "output_type": "stream",
     "text": [
      " 168687 89626 134474.901   71  113 94272.0000 135542.555  43.8%  43.0  500s\n"
     ]
    },
    {
     "name": "stderr",
     "output_type": "stream",
     "text": [
      "2023-05-12 09:30:51,652 - INFO -  168687 89626 134474.901   71  113 94272.0000 135542.555  43.8%  43.0  500s\n"
     ]
    },
    {
     "name": "stdout",
     "output_type": "stream",
     "text": [
      " 170377 91461 133077.508   88   91 94272.0000 135542.473  43.8%  43.1  513s\n"
     ]
    },
    {
     "name": "stderr",
     "output_type": "stream",
     "text": [
      "2023-05-12 09:31:04,565 - INFO -  170377 91461 133077.508   88   91 94272.0000 135542.473  43.8%  43.1  513s\n"
     ]
    },
    {
     "name": "stdout",
     "output_type": "stream",
     "text": [
      " 173611 92621 127872.500   73  121 94272.0000 135542.060  43.8%  43.4  522s\n"
     ]
    },
    {
     "name": "stderr",
     "output_type": "stream",
     "text": [
      "2023-05-12 09:31:14,134 - INFO -  173611 92621 127872.500   73  121 94272.0000 135542.060  43.8%  43.4  522s\n"
     ]
    },
    {
     "name": "stdout",
     "output_type": "stream",
     "text": [
      " 176431 92253 135179.693   57  135 94272.0000 135541.526  43.8%  43.8  543s\n"
     ]
    },
    {
     "name": "stderr",
     "output_type": "stream",
     "text": [
      "2023-05-12 09:31:34,797 - INFO -  176431 92253 135179.693   57  135 94272.0000 135541.526  43.8%  43.8  543s\n"
     ]
    },
    {
     "name": "stdout",
     "output_type": "stream",
     "text": [
      "H176645 89981                    94381.000000 135541.526  43.6%  43.8  544s\n"
     ]
    },
    {
     "name": "stderr",
     "output_type": "stream",
     "text": [
      "2023-05-12 09:31:35,395 - INFO - H176645 89981                    94381.000000 135541.526  43.6%  43.8  544s\n"
     ]
    },
    {
     "name": "stdout",
     "output_type": "stream",
     "text": [
      " 177221 92068 134957.242   58  129 94381.0000 135541.354  43.6%  43.8  554s\n"
     ]
    },
    {
     "name": "stderr",
     "output_type": "stream",
     "text": [
      "2023-05-12 09:31:45,810 - INFO -  177221 92068 134957.242   58  129 94381.0000 135541.354  43.6%  43.8  554s\n"
     ]
    },
    {
     "name": "stdout",
     "output_type": "stream",
     "text": [
      " 179958 93537 134789.334   57  109 94381.0000 135541.087  43.6%  44.3  565s\n"
     ]
    },
    {
     "name": "stderr",
     "output_type": "stream",
     "text": [
      "2023-05-12 09:31:57,035 - INFO -  179958 93537 134789.334   57  109 94381.0000 135541.087  43.6%  44.3  565s\n"
     ]
    },
    {
     "name": "stdout",
     "output_type": "stream",
     "text": [
      " 182999 94804 135342.014   53  123 94381.0000 135541.086  43.6%  44.6  576s\n"
     ]
    },
    {
     "name": "stderr",
     "output_type": "stream",
     "text": [
      "2023-05-12 09:32:07,488 - INFO -  182999 94804 135342.014   53  123 94381.0000 135541.086  43.6%  44.6  576s\n"
     ]
    },
    {
     "name": "stdout",
     "output_type": "stream",
     "text": [
      " 185823 96205 123652.398  102   77 94381.0000 135540.598  43.6%  45.0  585s\n"
     ]
    },
    {
     "name": "stderr",
     "output_type": "stream",
     "text": [
      "2023-05-12 09:32:16,369 - INFO -  185823 96205 123652.398  102   77 94381.0000 135540.598  43.6%  45.0  585s\n"
     ]
    },
    {
     "name": "stdout",
     "output_type": "stream",
     "text": [
      " 188907 97451 infeasible  137      94381.0000 135539.856  43.6%  45.4  591s\n"
     ]
    },
    {
     "name": "stderr",
     "output_type": "stream",
     "text": [
      "2023-05-12 09:32:23,081 - INFO -  188907 97451 infeasible  137      94381.0000 135539.856  43.6%  45.4  591s\n"
     ]
    },
    {
     "name": "stdout",
     "output_type": "stream",
     "text": [
      " 191899 98866 135407.692   52  122 94381.0000 135539.052  43.6%  45.6  598s\n"
     ]
    },
    {
     "name": "stderr",
     "output_type": "stream",
     "text": [
      "2023-05-12 09:32:29,599 - INFO -  191899 98866 135407.692   52  122 94381.0000 135539.052  43.6%  45.6  598s\n"
     ]
    },
    {
     "name": "stdout",
     "output_type": "stream",
     "text": [
      " 194977 97874 135429.258   49  114 94381.0000 135538.435  43.6%  46.0  600s\n"
     ]
    },
    {
     "name": "stderr",
     "output_type": "stream",
     "text": [
      "2023-05-12 09:32:31,379 - INFO -  194977 97874 135429.258   49  114 94381.0000 135538.435  43.6%  46.0  600s\n"
     ]
    },
    {
     "name": "stdout",
     "output_type": "stream",
     "text": [
      "\n"
     ]
    },
    {
     "name": "stderr",
     "output_type": "stream",
     "text": [
      "2023-05-12 09:32:31,627 - INFO - \n"
     ]
    },
    {
     "name": "stdout",
     "output_type": "stream",
     "text": [
      "Cutting planes:\n"
     ]
    },
    {
     "name": "stderr",
     "output_type": "stream",
     "text": [
      "2023-05-12 09:32:31,632 - INFO - Cutting planes:\n"
     ]
    },
    {
     "name": "stdout",
     "output_type": "stream",
     "text": [
      "  Gomory: 1\n"
     ]
    },
    {
     "name": "stderr",
     "output_type": "stream",
     "text": [
      "2023-05-12 09:32:31,639 - INFO -   Gomory: 1\n"
     ]
    },
    {
     "name": "stdout",
     "output_type": "stream",
     "text": [
      "  MIR: 4\n"
     ]
    },
    {
     "name": "stderr",
     "output_type": "stream",
     "text": [
      "2023-05-12 09:32:31,646 - INFO -   MIR: 4\n"
     ]
    },
    {
     "name": "stdout",
     "output_type": "stream",
     "text": [
      "  StrongCG: 1\n"
     ]
    },
    {
     "name": "stderr",
     "output_type": "stream",
     "text": [
      "2023-05-12 09:32:31,654 - INFO -   StrongCG: 1\n"
     ]
    },
    {
     "name": "stdout",
     "output_type": "stream",
     "text": [
      "  Flow cover: 11\n"
     ]
    },
    {
     "name": "stderr",
     "output_type": "stream",
     "text": [
      "2023-05-12 09:32:31,661 - INFO -   Flow cover: 11\n"
     ]
    },
    {
     "name": "stdout",
     "output_type": "stream",
     "text": [
      "  Zero half: 7\n"
     ]
    },
    {
     "name": "stderr",
     "output_type": "stream",
     "text": [
      "2023-05-12 09:32:31,662 - INFO -   Zero half: 7\n"
     ]
    },
    {
     "name": "stdout",
     "output_type": "stream",
     "text": [
      "  Lazy constraints: 3196\n"
     ]
    },
    {
     "name": "stderr",
     "output_type": "stream",
     "text": [
      "2023-05-12 09:32:31,678 - INFO -   Lazy constraints: 3196\n"
     ]
    },
    {
     "name": "stdout",
     "output_type": "stream",
     "text": [
      "\n"
     ]
    },
    {
     "name": "stderr",
     "output_type": "stream",
     "text": [
      "2023-05-12 09:32:31,690 - INFO - \n"
     ]
    },
    {
     "name": "stdout",
     "output_type": "stream",
     "text": [
      "Explored 195016 nodes (8967030 simplex iterations) in 600.36 seconds\n"
     ]
    },
    {
     "name": "stderr",
     "output_type": "stream",
     "text": [
      "2023-05-12 09:32:31,695 - INFO - Explored 195016 nodes (8967030 simplex iterations) in 600.36 seconds\n"
     ]
    },
    {
     "name": "stdout",
     "output_type": "stream",
     "text": [
      "Thread count was 24 (of 48 available processors)\n"
     ]
    },
    {
     "name": "stderr",
     "output_type": "stream",
     "text": [
      "2023-05-12 09:32:31,700 - INFO - Thread count was 24 (of 48 available processors)\n"
     ]
    },
    {
     "name": "stdout",
     "output_type": "stream",
     "text": [
      "\n"
     ]
    },
    {
     "name": "stderr",
     "output_type": "stream",
     "text": [
      "2023-05-12 09:32:31,706 - INFO - \n"
     ]
    },
    {
     "name": "stdout",
     "output_type": "stream",
     "text": [
      "Solution count 8: 94381 94272 93298 ... 75302\n"
     ]
    },
    {
     "name": "stderr",
     "output_type": "stream",
     "text": [
      "2023-05-12 09:32:31,712 - INFO - Solution count 8: 94381 94272 93298 ... 75302\n"
     ]
    },
    {
     "name": "stdout",
     "output_type": "stream",
     "text": [
      "\n"
     ]
    },
    {
     "name": "stderr",
     "output_type": "stream",
     "text": [
      "2023-05-12 09:32:31,717 - INFO - \n"
     ]
    },
    {
     "name": "stdout",
     "output_type": "stream",
     "text": [
      "Time limit reached\n"
     ]
    },
    {
     "name": "stderr",
     "output_type": "stream",
     "text": [
      "2023-05-12 09:32:31,723 - INFO - Time limit reached\n"
     ]
    },
    {
     "name": "stdout",
     "output_type": "stream",
     "text": [
      "Best objective 9.438100000000e+04, best bound 1.355380000000e+05, gap 43.6073%\n"
     ]
    },
    {
     "name": "stderr",
     "output_type": "stream",
     "text": [
      "2023-05-12 09:32:31,729 - INFO - Best objective 9.438100000000e+04, best bound 1.355380000000e+05, gap 43.6073%\n"
     ]
    },
    {
     "name": "stdout",
     "output_type": "stream",
     "text": [
      "\n"
     ]
    },
    {
     "name": "stderr",
     "output_type": "stream",
     "text": [
      "2023-05-12 09:32:31,734 - INFO - \n"
     ]
    },
    {
     "name": "stdout",
     "output_type": "stream",
     "text": [
      "User-callback calls 440044, time in user-callback 47.69 sec\n"
     ]
    },
    {
     "name": "stderr",
     "output_type": "stream",
     "text": [
      "2023-05-12 09:32:31,737 - INFO - User-callback calls 440044, time in user-callback 47.69 sec\n"
     ]
    },
    {
     "name": "stdout",
     "output_type": "stream",
     "text": [
      "{'Bounds': {'D200': {'ub': 134848.99999999994, 'max_soln': 104636.0}, 'D160': {'ub': 135538.0, 'max_soln': 94381.0}, 'R200': {}, 'R160': {}, 'D201': {}, 'D161': {}, 'R201': {}, 'R161': {}, 'D202': {}, 'D162': {}, 'R202': {}, 'R162': {}, 'D203': {}, 'D163': {}, 'R203': {}, 'R163': {}}}\n",
      "Gurobi Optimizer version 9.1.2 build v9.1.2rc0 (win64)\n"
     ]
    },
    {
     "name": "stderr",
     "output_type": "stream",
     "text": [
      "2023-05-12 09:32:32,534 - INFO - Gurobi Optimizer version 9.1.2 build v9.1.2rc0 (win64)\n"
     ]
    },
    {
     "name": "stdout",
     "output_type": "stream",
     "text": [
      "Thread count: 24 physical cores, 48 logical processors, using up to 24 threads\n"
     ]
    },
    {
     "name": "stderr",
     "output_type": "stream",
     "text": [
      "2023-05-12 09:32:32,536 - INFO - Thread count: 24 physical cores, 48 logical processors, using up to 24 threads\n"
     ]
    },
    {
     "name": "stdout",
     "output_type": "stream",
     "text": [
      "Optimize a model with 119 rows, 680 columns and 2344 nonzeros\n"
     ]
    },
    {
     "name": "stderr",
     "output_type": "stream",
     "text": [
      "2023-05-12 09:32:32,537 - INFO - Optimize a model with 119 rows, 680 columns and 2344 nonzeros\n"
     ]
    },
    {
     "name": "stdout",
     "output_type": "stream",
     "text": [
      "Model fingerprint: 0x1328cbd5\n"
     ]
    },
    {
     "name": "stderr",
     "output_type": "stream",
     "text": [
      "2023-05-12 09:32:32,538 - INFO - Model fingerprint: 0x1328cbd5\n"
     ]
    },
    {
     "name": "stdout",
     "output_type": "stream",
     "text": [
      "Variable types: 24 continuous, 656 integer (656 binary)\n"
     ]
    },
    {
     "name": "stderr",
     "output_type": "stream",
     "text": [
      "2023-05-12 09:32:32,540 - INFO - Variable types: 24 continuous, 656 integer (656 binary)\n"
     ]
    },
    {
     "name": "stdout",
     "output_type": "stream",
     "text": [
      "Coefficient statistics:\n"
     ]
    },
    {
     "name": "stderr",
     "output_type": "stream",
     "text": [
      "2023-05-12 09:32:32,542 - INFO - Coefficient statistics:\n"
     ]
    },
    {
     "name": "stdout",
     "output_type": "stream",
     "text": [
      "  Matrix range     [1e+00, 2e+05]\n"
     ]
    },
    {
     "name": "stderr",
     "output_type": "stream",
     "text": [
      "2023-05-12 09:32:32,543 - INFO -   Matrix range     [1e+00, 2e+05]\n"
     ]
    },
    {
     "name": "stdout",
     "output_type": "stream",
     "text": [
      "  Objective range  [1e+00, 1e+00]\n"
     ]
    },
    {
     "name": "stderr",
     "output_type": "stream",
     "text": [
      "2023-05-12 09:32:32,544 - INFO -   Objective range  [1e+00, 1e+00]\n"
     ]
    },
    {
     "name": "stdout",
     "output_type": "stream",
     "text": [
      "  Bounds range     [1e+00, 8e+05]\n"
     ]
    },
    {
     "name": "stderr",
     "output_type": "stream",
     "text": [
      "2023-05-12 09:32:32,546 - INFO -   Bounds range     [1e+00, 8e+05]\n"
     ]
    },
    {
     "name": "stdout",
     "output_type": "stream",
     "text": [
      "  RHS range        [1e+00, 8e+05]\n"
     ]
    },
    {
     "name": "stderr",
     "output_type": "stream",
     "text": [
      "2023-05-12 09:32:32,547 - INFO -   RHS range        [1e+00, 8e+05]\n"
     ]
    },
    {
     "name": "stdout",
     "output_type": "stream",
     "text": [
      "\n"
     ]
    },
    {
     "name": "stderr",
     "output_type": "stream",
     "text": [
      "2023-05-12 09:32:32,549 - INFO - \n"
     ]
    },
    {
     "name": "stdout",
     "output_type": "stream",
     "text": [
      "User MIP start produced solution with objective 238304 (0.02s)\n"
     ]
    },
    {
     "name": "stderr",
     "output_type": "stream",
     "text": [
      "2023-05-12 09:32:32,566 - INFO - User MIP start produced solution with objective 238304 (0.02s)\n"
     ]
    },
    {
     "name": "stdout",
     "output_type": "stream",
     "text": [
      "Loaded user MIP start with objective 238304\n"
     ]
    },
    {
     "name": "stderr",
     "output_type": "stream",
     "text": [
      "2023-05-12 09:32:32,578 - INFO - Loaded user MIP start with objective 238304\n"
     ]
    },
    {
     "name": "stdout",
     "output_type": "stream",
     "text": [
      "MIP start from previous solve produced solution with objective 229568 (0.05s)\n"
     ]
    },
    {
     "name": "stderr",
     "output_type": "stream",
     "text": [
      "2023-05-12 09:32:32,590 - INFO - MIP start from previous solve produced solution with objective 229568 (0.05s)\n"
     ]
    },
    {
     "name": "stdout",
     "output_type": "stream",
     "text": [
      "Loaded MIP start from previous solve with objective 229568\n"
     ]
    },
    {
     "name": "stderr",
     "output_type": "stream",
     "text": [
      "2023-05-12 09:32:32,601 - INFO - Loaded MIP start from previous solve with objective 229568\n"
     ]
    },
    {
     "name": "stdout",
     "output_type": "stream",
     "text": [
      "\n"
     ]
    },
    {
     "name": "stderr",
     "output_type": "stream",
     "text": [
      "2023-05-12 09:32:32,617 - INFO - \n"
     ]
    },
    {
     "name": "stdout",
     "output_type": "stream",
     "text": [
      "Presolve removed 10 rows and 8 columns\n"
     ]
    },
    {
     "name": "stderr",
     "output_type": "stream",
     "text": [
      "2023-05-12 09:32:32,634 - INFO - Presolve removed 10 rows and 8 columns\n"
     ]
    },
    {
     "name": "stdout",
     "output_type": "stream",
     "text": [
      "Presolve time: 0.01s\n"
     ]
    },
    {
     "name": "stderr",
     "output_type": "stream",
     "text": [
      "2023-05-12 09:32:32,644 - INFO - Presolve time: 0.01s\n"
     ]
    },
    {
     "name": "stdout",
     "output_type": "stream",
     "text": [
      "Presolved: 109 rows, 672 columns, 2318 nonzeros\n"
     ]
    },
    {
     "name": "stderr",
     "output_type": "stream",
     "text": [
      "2023-05-12 09:32:32,650 - INFO - Presolved: 109 rows, 672 columns, 2318 nonzeros\n"
     ]
    },
    {
     "name": "stdout",
     "output_type": "stream",
     "text": [
      "Variable types: 0 continuous, 672 integer (656 binary)\n"
     ]
    },
    {
     "name": "stderr",
     "output_type": "stream",
     "text": [
      "2023-05-12 09:32:32,658 - INFO - Variable types: 0 continuous, 672 integer (656 binary)\n"
     ]
    },
    {
     "name": "stdout",
     "output_type": "stream",
     "text": [
      "\n"
     ]
    },
    {
     "name": "stderr",
     "output_type": "stream",
     "text": [
      "2023-05-12 09:32:32,670 - INFO - \n"
     ]
    },
    {
     "name": "stdout",
     "output_type": "stream",
     "text": [
      "Concurrent LP optimizer: primal simplex, dual simplex, and barrier\n"
     ]
    },
    {
     "name": "stderr",
     "output_type": "stream",
     "text": [
      "2023-05-12 09:32:32,675 - INFO - Concurrent LP optimizer: primal simplex, dual simplex, and barrier\n"
     ]
    },
    {
     "name": "stdout",
     "output_type": "stream",
     "text": [
      "Showing barrier log only...\n"
     ]
    },
    {
     "name": "stderr",
     "output_type": "stream",
     "text": [
      "2023-05-12 09:32:32,679 - INFO - Showing barrier log only...\n"
     ]
    },
    {
     "name": "stdout",
     "output_type": "stream",
     "text": [
      "\n"
     ]
    },
    {
     "name": "stderr",
     "output_type": "stream",
     "text": [
      "2023-05-12 09:32:32,682 - INFO - \n"
     ]
    },
    {
     "name": "stdout",
     "output_type": "stream",
     "text": [
      "Root barrier log...\n"
     ]
    },
    {
     "name": "stderr",
     "output_type": "stream",
     "text": [
      "2023-05-12 09:32:32,689 - INFO - Root barrier log...\n"
     ]
    },
    {
     "name": "stdout",
     "output_type": "stream",
     "text": [
      "\n"
     ]
    },
    {
     "name": "stderr",
     "output_type": "stream",
     "text": [
      "2023-05-12 09:32:32,691 - INFO - \n"
     ]
    },
    {
     "name": "stdout",
     "output_type": "stream",
     "text": [
      "Ordering time: 0.00s\n"
     ]
    },
    {
     "name": "stderr",
     "output_type": "stream",
     "text": [
      "2023-05-12 09:32:32,692 - INFO - Ordering time: 0.00s\n"
     ]
    },
    {
     "name": "stdout",
     "output_type": "stream",
     "text": [
      "\n"
     ]
    },
    {
     "name": "stderr",
     "output_type": "stream",
     "text": [
      "2023-05-12 09:32:32,694 - INFO - \n"
     ]
    },
    {
     "name": "stdout",
     "output_type": "stream",
     "text": [
      "Barrier performed 0 iterations in 0.16 seconds\n"
     ]
    },
    {
     "name": "stderr",
     "output_type": "stream",
     "text": [
      "2023-05-12 09:32:32,700 - INFO - Barrier performed 0 iterations in 0.16 seconds\n"
     ]
    },
    {
     "name": "stdout",
     "output_type": "stream",
     "text": [
      "Barrier solve interrupted - model solved by another algorithm\n"
     ]
    },
    {
     "name": "stderr",
     "output_type": "stream",
     "text": [
      "2023-05-12 09:32:32,705 - INFO - Barrier solve interrupted - model solved by another algorithm\n"
     ]
    },
    {
     "name": "stdout",
     "output_type": "stream",
     "text": [
      "\n"
     ]
    },
    {
     "name": "stderr",
     "output_type": "stream",
     "text": [
      "2023-05-12 09:32:32,709 - INFO - \n"
     ]
    },
    {
     "name": "stdout",
     "output_type": "stream",
     "text": [
      "\n"
     ]
    },
    {
     "name": "stderr",
     "output_type": "stream",
     "text": [
      "2023-05-12 09:32:32,713 - INFO - \n"
     ]
    },
    {
     "name": "stdout",
     "output_type": "stream",
     "text": [
      "Solved with dual simplex\n"
     ]
    },
    {
     "name": "stderr",
     "output_type": "stream",
     "text": [
      "2023-05-12 09:32:32,714 - INFO - Solved with dual simplex\n"
     ]
    },
    {
     "name": "stdout",
     "output_type": "stream",
     "text": [
      "\n"
     ]
    },
    {
     "name": "stderr",
     "output_type": "stream",
     "text": [
      "2023-05-12 09:32:32,716 - INFO - \n"
     ]
    },
    {
     "name": "stdout",
     "output_type": "stream",
     "text": [
      "Root relaxation: objective 1.198957e+05, 138 iterations, 0.05 seconds\n"
     ]
    },
    {
     "name": "stderr",
     "output_type": "stream",
     "text": [
      "2023-05-12 09:32:32,718 - INFO - Root relaxation: objective 1.198957e+05, 138 iterations, 0.05 seconds\n"
     ]
    },
    {
     "name": "stdout",
     "output_type": "stream",
     "text": [
      "\n"
     ]
    },
    {
     "name": "stderr",
     "output_type": "stream",
     "text": [
      "2023-05-12 09:32:32,724 - INFO - \n"
     ]
    },
    {
     "name": "stdout",
     "output_type": "stream",
     "text": [
      "    Nodes    |    Current Node    |     Objective Bounds      |     Work\n"
     ]
    },
    {
     "name": "stderr",
     "output_type": "stream",
     "text": [
      "2023-05-12 09:32:32,725 - INFO -     Nodes    |    Current Node    |     Objective Bounds      |     Work\n"
     ]
    },
    {
     "name": "stdout",
     "output_type": "stream",
     "text": [
      " Expl Unexpl |  Obj  Depth IntInf | Incumbent    BestBd   Gap | It/Node Time\n"
     ]
    },
    {
     "name": "stderr",
     "output_type": "stream",
     "text": [
      "2023-05-12 09:32:32,727 - INFO -  Expl Unexpl |  Obj  Depth IntInf | Incumbent    BestBd   Gap | It/Node Time\n"
     ]
    },
    {
     "name": "stdout",
     "output_type": "stream",
     "text": [
      "\n"
     ]
    },
    {
     "name": "stderr",
     "output_type": "stream",
     "text": [
      "2023-05-12 09:32:32,728 - INFO - \n"
     ]
    },
    {
     "name": "stdout",
     "output_type": "stream",
     "text": [
      "     0     0 119895.710    0   23 229568.000 119895.710  47.8%     -    0s\n"
     ]
    },
    {
     "name": "stderr",
     "output_type": "stream",
     "text": [
      "2023-05-12 09:32:32,730 - INFO -      0     0 119895.710    0   23 229568.000 119895.710  47.8%     -    0s\n"
     ]
    },
    {
     "name": "stdout",
     "output_type": "stream",
     "text": [
      "     0     0 122659.196    0   26 229568.000 122659.196  46.6%     -    0s\n"
     ]
    },
    {
     "name": "stderr",
     "output_type": "stream",
     "text": [
      "2023-05-12 09:32:32,904 - INFO -      0     0 122659.196    0   26 229568.000 122659.196  46.6%     -    0s\n"
     ]
    },
    {
     "name": "stdout",
     "output_type": "stream",
     "text": [
      "     0     0 123423.000    0   44 229568.000 123423.000  46.2%     -    0s\n"
     ]
    },
    {
     "name": "stderr",
     "output_type": "stream",
     "text": [
      "2023-05-12 09:32:33,047 - INFO -      0     0 123423.000    0   44 229568.000 123423.000  46.2%     -    0s\n"
     ]
    },
    {
     "name": "stdout",
     "output_type": "stream",
     "text": [
      "     0     0 123429.929    0   42 229568.000 123429.929  46.2%     -    0s\n"
     ]
    },
    {
     "name": "stderr",
     "output_type": "stream",
     "text": [
      "2023-05-12 09:32:33,047 - INFO -      0     0 123429.929    0   42 229568.000 123429.929  46.2%     -    0s\n"
     ]
    },
    {
     "name": "stdout",
     "output_type": "stream",
     "text": [
      "     0     0 123749.983    0   50 229568.000 123749.983  46.1%     -    0s\n"
     ]
    },
    {
     "name": "stderr",
     "output_type": "stream",
     "text": [
      "2023-05-12 09:32:33,109 - INFO -      0     0 123749.983    0   50 229568.000 123749.983  46.1%     -    0s\n"
     ]
    },
    {
     "name": "stdout",
     "output_type": "stream",
     "text": [
      "     0     0 123770.543    0   54 229568.000 123770.543  46.1%     -    0s\n"
     ]
    },
    {
     "name": "stderr",
     "output_type": "stream",
     "text": [
      "2023-05-12 09:32:33,140 - INFO -      0     0 123770.543    0   54 229568.000 123770.543  46.1%     -    0s\n"
     ]
    },
    {
     "name": "stdout",
     "output_type": "stream",
     "text": [
      "     0     0 123786.821    0   52 229568.000 123786.821  46.1%     -    0s\n"
     ]
    },
    {
     "name": "stderr",
     "output_type": "stream",
     "text": [
      "2023-05-12 09:32:33,146 - INFO -      0     0 123786.821    0   52 229568.000 123786.821  46.1%     -    0s\n"
     ]
    },
    {
     "name": "stdout",
     "output_type": "stream",
     "text": [
      "     0     0 123791.607    0   54 229568.000 123791.607  46.1%     -    0s\n"
     ]
    },
    {
     "name": "stderr",
     "output_type": "stream",
     "text": [
      "2023-05-12 09:32:33,150 - INFO -      0     0 123791.607    0   54 229568.000 123791.607  46.1%     -    0s\n"
     ]
    },
    {
     "name": "stdout",
     "output_type": "stream",
     "text": [
      "     0     0 123793.598    0   61 229568.000 123793.598  46.1%     -    0s\n"
     ]
    },
    {
     "name": "stderr",
     "output_type": "stream",
     "text": [
      "2023-05-12 09:32:33,203 - INFO -      0     0 123793.598    0   61 229568.000 123793.598  46.1%     -    0s\n"
     ]
    },
    {
     "name": "stdout",
     "output_type": "stream",
     "text": [
      "     0     0 123798.225    0   59 229568.000 123798.225  46.1%     -    0s\n"
     ]
    },
    {
     "name": "stderr",
     "output_type": "stream",
     "text": [
      "2023-05-12 09:32:33,213 - INFO -      0     0 123798.225    0   59 229568.000 123798.225  46.1%     -    0s\n"
     ]
    },
    {
     "name": "stdout",
     "output_type": "stream",
     "text": [
      "     0     0 123802.749    0   61 229568.000 123802.749  46.1%     -    0s\n"
     ]
    },
    {
     "name": "stderr",
     "output_type": "stream",
     "text": [
      "2023-05-12 09:32:33,218 - INFO -      0     0 123802.749    0   61 229568.000 123802.749  46.1%     -    0s\n"
     ]
    },
    {
     "name": "stdout",
     "output_type": "stream",
     "text": [
      "     0     0 123804.885    0   65 229568.000 123804.885  46.1%     -    0s\n"
     ]
    },
    {
     "name": "stderr",
     "output_type": "stream",
     "text": [
      "2023-05-12 09:32:33,223 - INFO -      0     0 123804.885    0   65 229568.000 123804.885  46.1%     -    0s\n"
     ]
    },
    {
     "name": "stdout",
     "output_type": "stream",
     "text": [
      "     0     0 123827.727    0   66 229568.000 123827.727  46.1%     -    0s\n"
     ]
    },
    {
     "name": "stderr",
     "output_type": "stream",
     "text": [
      "2023-05-12 09:32:33,243 - INFO -      0     0 123827.727    0   66 229568.000 123827.727  46.1%     -    0s\n"
     ]
    },
    {
     "name": "stdout",
     "output_type": "stream",
     "text": [
      "     0     0 123831.059    0   68 229568.000 123831.059  46.1%     -    0s\n"
     ]
    },
    {
     "name": "stderr",
     "output_type": "stream",
     "text": [
      "2023-05-12 09:32:33,268 - INFO -      0     0 123831.059    0   68 229568.000 123831.059  46.1%     -    0s\n"
     ]
    },
    {
     "name": "stdout",
     "output_type": "stream",
     "text": [
      "     0     0 123836.787    0   63 229568.000 123836.787  46.1%     -    0s\n"
     ]
    },
    {
     "name": "stderr",
     "output_type": "stream",
     "text": [
      "2023-05-12 09:32:33,282 - INFO -      0     0 123836.787    0   63 229568.000 123836.787  46.1%     -    0s\n"
     ]
    },
    {
     "name": "stdout",
     "output_type": "stream",
     "text": [
      "     0     0 123837.746    0   63 229568.000 123837.746  46.1%     -    0s\n"
     ]
    },
    {
     "name": "stderr",
     "output_type": "stream",
     "text": [
      "2023-05-12 09:32:33,296 - INFO -      0     0 123837.746    0   63 229568.000 123837.746  46.1%     -    0s\n"
     ]
    },
    {
     "name": "stdout",
     "output_type": "stream",
     "text": [
      "     0     0 123842.725    0   64 229568.000 123842.725  46.1%     -    0s\n"
     ]
    },
    {
     "name": "stderr",
     "output_type": "stream",
     "text": [
      "2023-05-12 09:32:33,334 - INFO -      0     0 123842.725    0   64 229568.000 123842.725  46.1%     -    0s\n"
     ]
    },
    {
     "name": "stdout",
     "output_type": "stream",
     "text": [
      "     0     0 123842.725    0   56 229568.000 123842.725  46.1%     -    0s\n"
     ]
    },
    {
     "name": "stderr",
     "output_type": "stream",
     "text": [
      "2023-05-12 09:32:33,360 - INFO -      0     0 123842.725    0   56 229568.000 123842.725  46.1%     -    0s\n"
     ]
    },
    {
     "name": "stdout",
     "output_type": "stream",
     "text": [
      "     0     2 123842.725    0   56 229568.000 123842.725  46.1%     -    0s\n"
     ]
    },
    {
     "name": "stderr",
     "output_type": "stream",
     "text": [
      "2023-05-12 09:32:33,482 - INFO -      0     2 123842.725    0   56 229568.000 123842.725  46.1%     -    0s\n"
     ]
    },
    {
     "name": "stdout",
     "output_type": "stream",
     "text": [
      "H  196   201                    225266.00000 125506.391  44.3%   5.6    1s\n"
     ]
    },
    {
     "name": "stderr",
     "output_type": "stream",
     "text": [
      "2023-05-12 09:32:34,024 - INFO - H  196   201                    225266.00000 125506.391  44.3%   5.6    1s\n"
     ]
    },
    {
     "name": "stdout",
     "output_type": "stream",
     "text": [
      "  3319  2793 137186.000   52   56 225266.000 125582.217  44.3%   7.4    5s\n"
     ]
    },
    {
     "name": "stderr",
     "output_type": "stream",
     "text": [
      "2023-05-12 09:32:38,344 - INFO -   3319  2793 137186.000   52   56 225266.000 125582.217  44.3%   7.4    5s\n"
     ]
    },
    {
     "name": "stdout",
     "output_type": "stream",
     "text": [
      "  3554  2989 129011.373   25   27 225266.000 126434.187  43.9%   8.1   10s\n"
     ]
    },
    {
     "name": "stderr",
     "output_type": "stream",
     "text": [
      "2023-05-12 09:32:42,815 - INFO -   3554  2989 129011.373   25   27 225266.000 126434.187  43.9%   8.1   10s\n"
     ]
    },
    {
     "name": "stdout",
     "output_type": "stream",
     "text": [
      " 12829  7829 infeasible   91      225266.000 128023.933  43.2%   7.8   17s\n"
     ]
    },
    {
     "name": "stderr",
     "output_type": "stream",
     "text": [
      "2023-05-12 09:32:50,409 - INFO -  12829  7829 infeasible   91      225266.000 128023.933  43.2%   7.8   17s\n"
     ]
    },
    {
     "name": "stdout",
     "output_type": "stream",
     "text": [
      " 12879  7852 150902.165   92   30 225266.000 128023.933  43.2%   7.8   20s\n"
     ]
    },
    {
     "name": "stderr",
     "output_type": "stream",
     "text": [
      "2023-05-12 09:32:53,065 - INFO -  12879  7852 150902.165   92   30 225266.000 128023.933  43.2%   7.8   20s\n"
     ]
    },
    {
     "name": "stdout",
     "output_type": "stream",
     "text": [
      " 14133  8995 154810.000  112   13 225266.000 128082.863  43.1%   8.5   25s\n"
     ]
    },
    {
     "name": "stderr",
     "output_type": "stream",
     "text": [
      "2023-05-12 09:32:57,665 - INFO -  14133  8995 154810.000  112   13 225266.000 128082.863  43.1%   8.5   25s\n"
     ]
    },
    {
     "name": "stdout",
     "output_type": "stream",
     "text": [
      " 25255 17414 132073.000   67   41 225266.000 128951.161  42.8%  12.3   30s\n"
     ]
    },
    {
     "name": "stderr",
     "output_type": "stream",
     "text": [
      "2023-05-12 09:33:02,553 - INFO -  25255 17414 132073.000   67   41 225266.000 128951.161  42.8%  12.3   30s\n"
     ]
    },
    {
     "name": "stdout",
     "output_type": "stream",
     "text": [
      " 32486 22677 131164.995   42   48 225266.000 128971.468  42.7%  13.9   35s\n"
     ]
    },
    {
     "name": "stderr",
     "output_type": "stream",
     "text": [
      "2023-05-12 09:33:07,616 - INFO -  32486 22677 131164.995   42   48 225266.000 128971.468  42.7%  13.9   35s\n"
     ]
    },
    {
     "name": "stdout",
     "output_type": "stream",
     "text": [
      " 42826 29767     cutoff  107      225266.000 129057.717  42.7%  16.4   41s\n"
     ]
    },
    {
     "name": "stderr",
     "output_type": "stream",
     "text": [
      "2023-05-12 09:33:14,424 - INFO -  42826 29767     cutoff  107      225266.000 129057.717  42.7%  16.4   41s\n"
     ]
    },
    {
     "name": "stdout",
     "output_type": "stream",
     "text": [
      " 46657 32419 infeasible   83      225266.000 129057.717  42.7%  17.2   45s\n"
     ]
    },
    {
     "name": "stderr",
     "output_type": "stream",
     "text": [
      "2023-05-12 09:33:17,689 - INFO -  46657 32419 infeasible   83      225266.000 129057.717  42.7%  17.2   45s\n"
     ]
    },
    {
     "name": "stdout",
     "output_type": "stream",
     "text": [
      " 53918 38690 infeasible  105      225266.000 129209.515  42.6%  18.4   51s\n"
     ]
    },
    {
     "name": "stderr",
     "output_type": "stream",
     "text": [
      "2023-05-12 09:33:23,731 - INFO -  53918 38690 infeasible  105      225266.000 129209.515  42.6%  18.4   51s\n"
     ]
    },
    {
     "name": "stdout",
     "output_type": "stream",
     "text": [
      " 58399 41408 infeasible   79      225266.000 129276.232  42.6%  19.3   55s\n"
     ]
    },
    {
     "name": "stderr",
     "output_type": "stream",
     "text": [
      "2023-05-12 09:33:27,612 - INFO -  58399 41408 infeasible   79      225266.000 129276.232  42.6%  19.3   55s\n"
     ]
    },
    {
     "name": "stdout",
     "output_type": "stream",
     "text": [
      " 60730 42528 134650.862   34   28 225266.000 129309.182  42.6%  19.8   61s\n"
     ]
    },
    {
     "name": "stderr",
     "output_type": "stream",
     "text": [
      "2023-05-12 09:33:33,807 - INFO -  60730 42528 134650.862   34   28 225266.000 129309.182  42.6%  19.8   61s\n"
     ]
    },
    {
     "name": "stdout",
     "output_type": "stream",
     "text": [
      " 62158 44466 infeasible   98      225266.000 129337.426  42.6%  20.2   65s\n"
     ]
    },
    {
     "name": "stderr",
     "output_type": "stream",
     "text": [
      "2023-05-12 09:33:38,009 - INFO -  62158 44466 infeasible   98      225266.000 129337.426  42.6%  20.2   65s\n"
     ]
    },
    {
     "name": "stdout",
     "output_type": "stream",
     "text": [
      " 66237 46662 135663.946   72   50 225266.000 129352.535  42.6%  21.2   74s\n"
     ]
    },
    {
     "name": "stderr",
     "output_type": "stream",
     "text": [
      "2023-05-12 09:33:46,724 - INFO -  66237 46662 135663.946   72   50 225266.000 129352.535  42.6%  21.2   74s\n"
     ]
    },
    {
     "name": "stdout",
     "output_type": "stream",
     "text": [
      " 66281 47376 135683.950   73   43 225266.000 129352.535  42.6%  21.2   76s\n"
     ]
    },
    {
     "name": "stderr",
     "output_type": "stream",
     "text": [
      "2023-05-12 09:33:49,336 - INFO -  66281 47376 135683.950   73   43 225266.000 129352.535  42.6%  21.2   76s\n"
     ]
    },
    {
     "name": "stdout",
     "output_type": "stream",
     "text": [
      " 68296 48739 146243.327   44   58 225266.000 129388.944  42.6%  22.2   80s\n"
     ]
    },
    {
     "name": "stderr",
     "output_type": "stream",
     "text": [
      "2023-05-12 09:33:52,697 - INFO -  68296 48739 146243.327   44   58 225266.000 129388.944  42.6%  22.2   80s\n"
     ]
    },
    {
     "name": "stdout",
     "output_type": "stream",
     "text": [
      " 72532 51491 158017.639   66   57 225266.000 129502.202  42.5%  23.8   86s\n"
     ]
    },
    {
     "name": "stderr",
     "output_type": "stream",
     "text": [
      "2023-05-12 09:33:58,832 - INFO -  72532 51491 158017.639   66   57 225266.000 129502.202  42.5%  23.8   86s\n"
     ]
    },
    {
     "name": "stdout",
     "output_type": "stream",
     "text": [
      " 73736 52082 168060.154   60   61 225266.000 129547.196  42.5%  24.2   93s\n"
     ]
    },
    {
     "name": "stderr",
     "output_type": "stream",
     "text": [
      "2023-05-12 09:34:06,121 - INFO -  73736 52082 168060.154   60   61 225266.000 129547.196  42.5%  24.2   93s\n"
     ]
    },
    {
     "name": "stdout",
     "output_type": "stream",
     "text": [
      " 74622 53012 133861.157   41   46 225266.000 129547.196  42.5%  24.7   96s\n"
     ]
    },
    {
     "name": "stderr",
     "output_type": "stream",
     "text": [
      "2023-05-12 09:34:09,084 - INFO -  74622 53012 133861.157   41   46 225266.000 129547.196  42.5%  24.7   96s\n"
     ]
    },
    {
     "name": "stdout",
     "output_type": "stream",
     "text": [
      " 78415 55665 177370.000   52   60 225266.000 129722.448  42.4%  25.7  100s\n"
     ]
    },
    {
     "name": "stderr",
     "output_type": "stream",
     "text": [
      "2023-05-12 09:34:13,493 - INFO -  78415 55665 177370.000   52   60 225266.000 129722.448  42.4%  25.7  100s\n"
     ]
    },
    {
     "name": "stdout",
     "output_type": "stream",
     "text": [
      " 82050 58637 192764.924   75  101 225266.000 129784.000  42.4%  26.8  106s\n"
     ]
    },
    {
     "name": "stderr",
     "output_type": "stream",
     "text": [
      "2023-05-12 09:34:18,936 - INFO -  82050 58637 192764.924   75  101 225266.000 129784.000  42.4%  26.8  106s\n"
     ]
    },
    {
     "name": "stdout",
     "output_type": "stream",
     "text": [
      " 85140 61022 148174.750   57   72 225266.000 129882.483  42.3%  27.4  110s\n"
     ]
    },
    {
     "name": "stderr",
     "output_type": "stream",
     "text": [
      "2023-05-12 09:34:22,614 - INFO -  85140 61022 148174.750   57   72 225266.000 129882.483  42.3%  27.4  110s\n"
     ]
    },
    {
     "name": "stdout",
     "output_type": "stream",
     "text": [
      " 89155 63623 148698.660   65   89 225266.000 129959.993  42.3%  28.3  115s\n"
     ]
    },
    {
     "name": "stderr",
     "output_type": "stream",
     "text": [
      "2023-05-12 09:34:28,060 - INFO -  89155 63623 148698.660   65   89 225266.000 129959.993  42.3%  28.3  115s\n"
     ]
    },
    {
     "name": "stdout",
     "output_type": "stream",
     "text": [
      " 93816 66332 140516.003   32   55 225266.000 130199.503  42.2%  29.6  121s\n"
     ]
    },
    {
     "name": "stderr",
     "output_type": "stream",
     "text": [
      "2023-05-12 09:34:33,926 - INFO -  93816 66332 140516.003   32   55 225266.000 130199.503  42.2%  29.6  121s\n"
     ]
    },
    {
     "name": "stdout",
     "output_type": "stream",
     "text": [
      " 98486 69646 149428.034   52   67 225266.000 130295.369  42.2%  30.4  126s\n"
     ]
    },
    {
     "name": "stderr",
     "output_type": "stream",
     "text": [
      "2023-05-12 09:34:38,580 - INFO -  98486 69646 149428.034   52   67 225266.000 130295.369  42.2%  30.4  126s\n"
     ]
    },
    {
     "name": "stdout",
     "output_type": "stream",
     "text": [
      " 102598 72721 145803.373   50   77 225266.000 130459.552  42.1%  31.2  131s\n"
     ]
    },
    {
     "name": "stderr",
     "output_type": "stream",
     "text": [
      "2023-05-12 09:34:44,038 - INFO -  102598 72721 145803.373   50   77 225266.000 130459.552  42.1%  31.2  131s\n"
     ]
    },
    {
     "name": "stdout",
     "output_type": "stream",
     "text": [
      " 105386 74545 178930.603   68  103 225266.000 130501.429  42.1%  31.8  136s\n"
     ]
    },
    {
     "name": "stderr",
     "output_type": "stream",
     "text": [
      "2023-05-12 09:34:48,672 - INFO -  105386 74545 178930.603   68  103 225266.000 130501.429  42.1%  31.8  136s\n"
     ]
    },
    {
     "name": "stdout",
     "output_type": "stream",
     "text": [
      " 108220 76722 161623.233   79   46 225266.000 130574.413  42.0%  32.3  141s\n"
     ]
    },
    {
     "name": "stderr",
     "output_type": "stream",
     "text": [
      "2023-05-12 09:34:53,703 - INFO -  108220 76722 161623.233   79   46 225266.000 130574.413  42.0%  32.3  141s\n"
     ]
    },
    {
     "name": "stdout",
     "output_type": "stream",
     "text": [
      " 112365 79629 infeasible   93      225266.000 130744.161  42.0%  33.1  147s\n"
     ]
    },
    {
     "name": "stderr",
     "output_type": "stream",
     "text": [
      "2023-05-12 09:34:59,620 - INFO -  112365 79629 infeasible   93      225266.000 130744.161  42.0%  33.1  147s\n"
     ]
    },
    {
     "name": "stdout",
     "output_type": "stream",
     "text": [
      " 114891 81583 166913.000   66   24 225266.000 130777.684  41.9%  33.7  150s\n"
     ]
    },
    {
     "name": "stderr",
     "output_type": "stream",
     "text": [
      "2023-05-12 09:35:03,339 - INFO -  114891 81583 166913.000   66   24 225266.000 130777.684  41.9%  33.7  150s\n"
     ]
    },
    {
     "name": "stdout",
     "output_type": "stream",
     "text": [
      " 117821 83566 165766.718   80   34 225266.000 130859.067  41.9%  34.2  155s\n"
     ]
    },
    {
     "name": "stderr",
     "output_type": "stream",
     "text": [
      "2023-05-12 09:35:08,163 - INFO -  117821 83566 165766.718   80   34 225266.000 130859.067  41.9%  34.2  155s\n"
     ]
    },
    {
     "name": "stdout",
     "output_type": "stream",
     "text": [
      " 120326 84410 148693.580   60  117 225266.000 130880.744  41.9%  34.8  168s\n"
     ]
    },
    {
     "name": "stderr",
     "output_type": "stream",
     "text": [
      "2023-05-12 09:35:20,747 - INFO -  120326 84410 148693.580   60  117 225266.000 130880.744  41.9%  34.8  168s\n"
     ]
    },
    {
     "name": "stdout",
     "output_type": "stream",
     "text": [
      " 120498 84795 150814.560   61  125 225266.000 130886.000  41.9%  34.9  171s\n"
     ]
    },
    {
     "name": "stderr",
     "output_type": "stream",
     "text": [
      "2023-05-12 09:35:24,081 - INFO -  120498 84795 150814.560   61  125 225266.000 130886.000  41.9%  34.9  171s\n"
     ]
    },
    {
     "name": "stdout",
     "output_type": "stream",
     "text": [
      " 122127 86141 163938.184   51  114 225266.000 130903.000  41.9%  35.6  176s\n"
     ]
    },
    {
     "name": "stderr",
     "output_type": "stream",
     "text": [
      "2023-05-12 09:35:28,712 - INFO -  122127 86141 163938.184   51  114 225266.000 130903.000  41.9%  35.6  176s\n"
     ]
    },
    {
     "name": "stdout",
     "output_type": "stream",
     "text": [
      " 123961 87471 170859.559   60   93 225266.000 130911.891  41.9%  36.2  181s\n"
     ]
    },
    {
     "name": "stderr",
     "output_type": "stream",
     "text": [
      "2023-05-12 09:35:33,839 - INFO -  123961 87471 170859.559   60   93 225266.000 130911.891  41.9%  36.2  181s\n"
     ]
    },
    {
     "name": "stdout",
     "output_type": "stream",
     "text": [
      " 126044 88672 147533.371   34   67 225266.000 130911.891  41.9%  36.9  185s\n"
     ]
    },
    {
     "name": "stderr",
     "output_type": "stream",
     "text": [
      "2023-05-12 09:35:38,536 - INFO -  126044 88672 147533.371   34   67 225266.000 130911.891  41.9%  36.9  185s\n"
     ]
    },
    {
     "name": "stdout",
     "output_type": "stream",
     "text": [
      " 128057 90018 infeasible   94      225266.000 130911.891  41.9%  37.6  190s\n"
     ]
    },
    {
     "name": "stderr",
     "output_type": "stream",
     "text": [
      "2023-05-12 09:35:42,889 - INFO -  128057 90018 infeasible   94      225266.000 130911.891  41.9%  37.6  190s\n"
     ]
    },
    {
     "name": "stdout",
     "output_type": "stream",
     "text": [
      " 131022 92019 160574.124   40   56 225266.000 130934.000  41.9%  38.7  197s\n"
     ]
    },
    {
     "name": "stderr",
     "output_type": "stream",
     "text": [
      "2023-05-12 09:35:49,834 - INFO -  131022 92019 160574.124   40   56 225266.000 130934.000  41.9%  38.7  197s\n"
     ]
    },
    {
     "name": "stdout",
     "output_type": "stream",
     "text": [
      " 133049 93575 181178.600   65   88 225266.000 130937.000  41.9%  39.5  201s\n"
     ]
    },
    {
     "name": "stderr",
     "output_type": "stream",
     "text": [
      "2023-05-12 09:35:54,515 - INFO -  133049 93575 181178.600   65   88 225266.000 130937.000  41.9%  39.5  201s\n"
     ]
    },
    {
     "name": "stdout",
     "output_type": "stream",
     "text": [
      " 135532 95167 158983.637   61  116 225266.000 130937.000  41.9%  40.1  207s\n"
     ]
    },
    {
     "name": "stderr",
     "output_type": "stream",
     "text": [
      "2023-05-12 09:35:59,575 - INFO -  135532 95167 158983.637   61  116 225266.000 130937.000  41.9%  40.1  207s\n"
     ]
    },
    {
     "name": "stdout",
     "output_type": "stream",
     "text": [
      " 136687 95310 206398.000   84   68 225266.000 130937.000  41.9%  40.4  214s\n"
     ]
    },
    {
     "name": "stderr",
     "output_type": "stream",
     "text": [
      "2023-05-12 09:36:07,282 - INFO -  136687 95310 206398.000   84   68 225266.000 130937.000  41.9%  40.4  214s\n"
     ]
    },
    {
     "name": "stdout",
     "output_type": "stream",
     "text": [
      " 136799 95310 153386.721   34   76 225266.000 130937.000  41.9%  40.4  215s\n"
     ]
    },
    {
     "name": "stderr",
     "output_type": "stream",
     "text": [
      "2023-05-12 09:36:07,608 - INFO -  136799 95310 153386.721   34   76 225266.000 130937.000  41.9%  40.4  215s\n"
     ]
    },
    {
     "name": "stdout",
     "output_type": "stream",
     "text": [
      " 138194 97132 177230.899   83   45 225266.000 130959.000  41.9%  40.7  221s\n"
     ]
    },
    {
     "name": "stderr",
     "output_type": "stream",
     "text": [
      "2023-05-12 09:36:14,018 - INFO -  138194 97132 177230.899   83   45 225266.000 130959.000  41.9%  40.7  221s\n"
     ]
    },
    {
     "name": "stdout",
     "output_type": "stream",
     "text": [
      " 139718 98062 157162.751   56  101 225266.000 130959.237  41.9%  41.2  225s\n"
     ]
    },
    {
     "name": "stderr",
     "output_type": "stream",
     "text": [
      "2023-05-12 09:36:17,627 - INFO -  139718 98062 157162.751   56  101 225266.000 130959.237  41.9%  41.2  225s\n"
     ]
    },
    {
     "name": "stdout",
     "output_type": "stream",
     "text": [
      " 142627 100077 153802.872   50   40 225266.000 130967.205  41.9%  42.1  231s\n"
     ]
    },
    {
     "name": "stderr",
     "output_type": "stream",
     "text": [
      "2023-05-12 09:36:24,419 - INFO -  142627 100077 153802.872   50   40 225266.000 130967.205  41.9%  42.1  231s\n"
     ]
    },
    {
     "name": "stdout",
     "output_type": "stream",
     "text": [
      " 144074 100942 158128.801   80   40 225266.000 130967.205  41.9%  42.7  235s\n"
     ]
    },
    {
     "name": "stderr",
     "output_type": "stream",
     "text": [
      "2023-05-12 09:36:28,437 - INFO -  144074 100942 158128.801   80   40 225266.000 130967.205  41.9%  42.7  235s\n"
     ]
    },
    {
     "name": "stdout",
     "output_type": "stream",
     "text": [
      " 146762 102367 162242.265   54   87 225266.000 130968.000  41.9%  43.6  242s\n"
     ]
    },
    {
     "name": "stderr",
     "output_type": "stream",
     "text": [
      "2023-05-12 09:36:35,325 - INFO -  146762 102367 162242.265   54   87 225266.000 130968.000  41.9%  43.6  242s\n"
     ]
    },
    {
     "name": "stdout",
     "output_type": "stream",
     "text": [
      " 147840 103083 166296.657   61   99 225266.000 130968.000  41.9%  44.1  245s\n"
     ]
    },
    {
     "name": "stderr",
     "output_type": "stream",
     "text": [
      "2023-05-12 09:36:38,482 - INFO -  147840 103083 166296.657   61   99 225266.000 130968.000  41.9%  44.1  245s\n"
     ]
    },
    {
     "name": "stdout",
     "output_type": "stream",
     "text": [
      " 150418 104403 160516.827   61  124 225266.000 130968.000  41.9%  45.0  252s\n"
     ]
    },
    {
     "name": "stderr",
     "output_type": "stream",
     "text": [
      "2023-05-12 09:36:44,744 - INFO -  150418 104403 160516.827   61  124 225266.000 130968.000  41.9%  45.0  252s\n"
     ]
    },
    {
     "name": "stdout",
     "output_type": "stream",
     "text": [
      " 151606 105048 178419.086   85  106 225266.000 130968.000  41.9%  45.5  255s\n"
     ]
    },
    {
     "name": "stderr",
     "output_type": "stream",
     "text": [
      "2023-05-12 09:36:47,952 - INFO -  151606 105048 178419.086   85  106 225266.000 130968.000  41.9%  45.5  255s\n"
     ]
    },
    {
     "name": "stdout",
     "output_type": "stream",
     "text": [
      " 153918 106282 168146.236   61   69 225266.000 130968.000  41.9%  46.5  261s\n"
     ]
    },
    {
     "name": "stderr",
     "output_type": "stream",
     "text": [
      "2023-05-12 09:36:54,213 - INFO -  153918 106282 168146.236   61   69 225266.000 130968.000  41.9%  46.5  261s\n"
     ]
    },
    {
     "name": "stdout",
     "output_type": "stream",
     "text": [
      " 155648 107429 179771.122   54   79 225266.000 130968.000  41.9%  47.3  267s\n"
     ]
    },
    {
     "name": "stderr",
     "output_type": "stream",
     "text": [
      "2023-05-12 09:37:00,028 - INFO -  155648 107429 179771.122   54   79 225266.000 130968.000  41.9%  47.3  267s\n"
     ]
    },
    {
     "name": "stdout",
     "output_type": "stream",
     "text": [
      " 157032 107955 163059.542   56   89 225266.000 130968.000  41.9%  47.6  270s\n"
     ]
    },
    {
     "name": "stderr",
     "output_type": "stream",
     "text": [
      "2023-05-12 09:37:02,836 - INFO -  157032 107955 163059.542   56   89 225266.000 130968.000  41.9%  47.6  270s\n"
     ]
    },
    {
     "name": "stdout",
     "output_type": "stream",
     "text": [
      " 159690 109269 157071.836   59   92 225266.000 130968.000  41.9%  48.5  275s\n"
     ]
    },
    {
     "name": "stderr",
     "output_type": "stream",
     "text": [
      "2023-05-12 09:37:08,167 - INFO -  159690 109269 157071.836   59   92 225266.000 130968.000  41.9%  48.5  275s\n"
     ]
    },
    {
     "name": "stdout",
     "output_type": "stream",
     "text": [
      " 162073 110359 166946.152   64  118 225266.000 130969.399  41.9%  49.3  283s\n"
     ]
    },
    {
     "name": "stderr",
     "output_type": "stream",
     "text": [
      "2023-05-12 09:37:16,260 - INFO -  162073 110359 166946.152   64  118 225266.000 130969.399  41.9%  49.3  283s\n"
     ]
    },
    {
     "name": "stdout",
     "output_type": "stream",
     "text": [
      " 162857 111048     cutoff   58      225266.000 130970.000  41.9%  49.6  288s\n"
     ]
    },
    {
     "name": "stderr",
     "output_type": "stream",
     "text": [
      "2023-05-12 09:37:20,556 - INFO -  162857 111048     cutoff   58      225266.000 130970.000  41.9%  49.6  288s\n"
     ]
    },
    {
     "name": "stdout",
     "output_type": "stream",
     "text": [
      " 164157 111581 186659.000   68   18 225266.000 130971.000  41.9%  50.0  290s\n"
     ]
    },
    {
     "name": "stderr",
     "output_type": "stream",
     "text": [
      "2023-05-12 09:37:23,523 - INFO -  164157 111581 186659.000   68   18 225266.000 130971.000  41.9%  50.0  290s\n"
     ]
    },
    {
     "name": "stdout",
     "output_type": "stream",
     "text": [
      " 166688 112324 infeasible   74      225266.000 130971.000  41.9%  50.9  299s\n"
     ]
    },
    {
     "name": "stderr",
     "output_type": "stream",
     "text": [
      "2023-05-12 09:37:31,681 - INFO -  166688 112324 infeasible   74      225266.000 130971.000  41.9%  50.9  299s\n"
     ]
    },
    {
     "name": "stdout",
     "output_type": "stream",
     "text": [
      " 167318 112637 171880.410   69   76 225266.000 130971.000  41.9%  51.1  302s\n"
     ]
    },
    {
     "name": "stderr",
     "output_type": "stream",
     "text": [
      "2023-05-12 09:37:35,259 - INFO -  167318 112637 171880.410   69   76 225266.000 130971.000  41.9%  51.1  302s\n"
     ]
    },
    {
     "name": "stdout",
     "output_type": "stream",
     "text": [
      " 168356 113190 150408.424   42   83 225266.000 130972.000  41.9%  51.5  305s\n"
     ]
    },
    {
     "name": "stderr",
     "output_type": "stream",
     "text": [
      "2023-05-12 09:37:37,934 - INFO -  168356 113190 150408.424   42   83 225266.000 130972.000  41.9%  51.5  305s\n"
     ]
    },
    {
     "name": "stdout",
     "output_type": "stream",
     "text": [
      " 170750 114063 infeasible   52      225266.000 130977.000  41.9%  52.2  310s\n"
     ]
    },
    {
     "name": "stderr",
     "output_type": "stream",
     "text": [
      "2023-05-12 09:37:43,351 - INFO -  170750 114063 infeasible   52      225266.000 130977.000  41.9%  52.2  310s\n"
     ]
    },
    {
     "name": "stdout",
     "output_type": "stream",
     "text": [
      " 172992 115040 169123.963   77   93 225266.000 130985.000  41.9%  53.0  316s\n"
     ]
    },
    {
     "name": "stderr",
     "output_type": "stream",
     "text": [
      "2023-05-12 09:37:49,255 - INFO -  172992 115040 169123.963   77   93 225266.000 130985.000  41.9%  53.0  316s\n"
     ]
    },
    {
     "name": "stdout",
     "output_type": "stream",
     "text": [
      " 175641 116481 163130.500   59   81 225266.000 130994.000  41.8%  53.5  322s\n"
     ]
    },
    {
     "name": "stderr",
     "output_type": "stream",
     "text": [
      "2023-05-12 09:37:54,931 - INFO -  175641 116481 163130.500   59   81 225266.000 130994.000  41.8%  53.5  322s\n"
     ]
    },
    {
     "name": "stdout",
     "output_type": "stream",
     "text": [
      " 177068 117197 173728.500   55  106 225266.000 131000.000  41.8%  53.8  325s\n"
     ]
    },
    {
     "name": "stderr",
     "output_type": "stream",
     "text": [
      "2023-05-12 09:37:57,844 - INFO -  177068 117197 173728.500   55  106 225266.000 131000.000  41.8%  53.8  325s\n"
     ]
    },
    {
     "name": "stdout",
     "output_type": "stream",
     "text": [
      " 179807 118456 168120.398   63  107 225266.000 131016.000  41.8%  54.3  331s\n"
     ]
    },
    {
     "name": "stderr",
     "output_type": "stream",
     "text": [
      "2023-05-12 09:38:04,485 - INFO -  179807 118456 168120.398   63  107 225266.000 131016.000  41.8%  54.3  331s\n"
     ]
    },
    {
     "name": "stdout",
     "output_type": "stream",
     "text": [
      " 182556 120406 161692.095   51   90 225266.000 131021.788  41.8%  55.0  338s\n"
     ]
    },
    {
     "name": "stderr",
     "output_type": "stream",
     "text": [
      "2023-05-12 09:38:10,669 - INFO -  182556 120406 161692.095   51   90 225266.000 131021.788  41.8%  55.0  338s\n"
     ]
    },
    {
     "name": "stdout",
     "output_type": "stream",
     "text": [
      " 183709 121179 144060.934   45   30 225266.000 131028.280  41.8%  55.4  340s\n"
     ]
    },
    {
     "name": "stderr",
     "output_type": "stream",
     "text": [
      "2023-05-12 09:38:13,515 - INFO -  183709 121179 144060.934   45   30 225266.000 131028.280  41.8%  55.4  340s\n"
     ]
    },
    {
     "name": "stdout",
     "output_type": "stream",
     "text": [
      " 184890 121438 150827.910   93   68 225266.000 131028.280  41.8%  55.6  349s\n"
     ]
    },
    {
     "name": "stderr",
     "output_type": "stream",
     "text": [
      "2023-05-12 09:38:21,698 - INFO -  184890 121438 150827.910   93   68 225266.000 131028.280  41.8%  55.6  349s\n"
     ]
    },
    {
     "name": "stdout",
     "output_type": "stream",
     "text": [
      " 185410 122217 177189.167   63   88 225266.000 131030.054  41.8%  55.7  353s\n"
     ]
    },
    {
     "name": "stderr",
     "output_type": "stream",
     "text": [
      "2023-05-12 09:38:26,207 - INFO -  185410 122217 177189.167   63   88 225266.000 131030.054  41.8%  55.7  353s\n"
     ]
    },
    {
     "name": "stdout",
     "output_type": "stream",
     "text": [
      " 186732 123031 187756.858   72  122 225266.000 131036.298  41.8%  56.0  356s\n"
     ]
    },
    {
     "name": "stderr",
     "output_type": "stream",
     "text": [
      "2023-05-12 09:38:29,451 - INFO -  186732 123031 187756.858   72  122 225266.000 131036.298  41.8%  56.0  356s\n"
     ]
    },
    {
     "name": "stdout",
     "output_type": "stream",
     "text": [
      " 188092 123908 153454.121   53  102 225266.000 131042.679  41.8%  56.2  360s\n"
     ]
    },
    {
     "name": "stderr",
     "output_type": "stream",
     "text": [
      "2023-05-12 09:38:32,778 - INFO -  188092 123908 153454.121   53  102 225266.000 131042.679  41.8%  56.2  360s\n"
     ]
    },
    {
     "name": "stdout",
     "output_type": "stream",
     "text": [
      " 190744 125437 infeasible   67      225266.000 131090.425  41.8%  56.7  365s\n"
     ]
    },
    {
     "name": "stderr",
     "output_type": "stream",
     "text": [
      "2023-05-12 09:38:38,404 - INFO -  190744 125437 infeasible   67      225266.000 131090.425  41.8%  56.7  365s\n"
     ]
    },
    {
     "name": "stdout",
     "output_type": "stream",
     "text": [
      " 192895 126084 178197.851   60  103 225266.000 131098.000  41.8%  57.3  379s\n"
     ]
    },
    {
     "name": "stderr",
     "output_type": "stream",
     "text": [
      "2023-05-12 09:38:51,664 - INFO -  192895 126084 178197.851   60  103 225266.000 131098.000  41.8%  57.3  379s\n"
     ]
    },
    {
     "name": "stdout",
     "output_type": "stream",
     "text": [
      "H192973 126053                    216768.00000 131098.000  39.5%  57.3  379s\n"
     ]
    },
    {
     "name": "stderr",
     "output_type": "stream",
     "text": [
      "2023-05-12 09:38:51,969 - INFO - H192973 126053                    216768.00000 131098.000  39.5%  57.3  379s\n"
     ]
    },
    {
     "name": "stdout",
     "output_type": "stream",
     "text": [
      "H193012 126052                    216379.00000 131098.000  39.4%  57.3  379s\n"
     ]
    },
    {
     "name": "stderr",
     "output_type": "stream",
     "text": [
      "2023-05-12 09:38:52,113 - INFO - H193012 126052                    216379.00000 131098.000  39.4%  57.3  379s\n"
     ]
    },
    {
     "name": "stdout",
     "output_type": "stream",
     "text": [
      "H193033 126052                    216274.00000 131098.000  39.4%  57.4  379s\n"
     ]
    },
    {
     "name": "stderr",
     "output_type": "stream",
     "text": [
      "2023-05-12 09:38:52,170 - INFO - H193033 126052                    216274.00000 131098.000  39.4%  57.4  379s\n"
     ]
    },
    {
     "name": "stdout",
     "output_type": "stream",
     "text": [
      " 193120 126704 195855.289   66   96 216274.000 131098.958  39.4%  57.4  382s\n"
     ]
    },
    {
     "name": "stderr",
     "output_type": "stream",
     "text": [
      "2023-05-12 09:38:55,296 - INFO -  193120 126704 195855.289   66   96 216274.000 131098.958  39.4%  57.4  382s\n"
     ]
    },
    {
     "name": "stdout",
     "output_type": "stream",
     "text": [
      " 194116 127466 infeasible   61      216274.000 131099.675  39.4%  57.7  385s\n"
     ]
    },
    {
     "name": "stderr",
     "output_type": "stream",
     "text": [
      "2023-05-12 09:38:58,077 - INFO -  194116 127466 infeasible   61      216274.000 131099.675  39.4%  57.7  385s\n"
     ]
    },
    {
     "name": "stdout",
     "output_type": "stream",
     "text": [
      " 196418 128783 191117.941   79   83 216274.000 131129.519  39.4%  58.3  391s\n"
     ]
    },
    {
     "name": "stderr",
     "output_type": "stream",
     "text": [
      "2023-05-12 09:39:04,006 - INFO -  196418 128783 191117.941   79   83 216274.000 131129.519  39.4%  58.3  391s\n"
     ]
    },
    {
     "name": "stdout",
     "output_type": "stream",
     "text": [
      " 198927 130735 144144.306   42   98 216274.000 131146.256  39.4%  58.8  398s\n"
     ]
    },
    {
     "name": "stderr",
     "output_type": "stream",
     "text": [
      "2023-05-12 09:39:10,765 - INFO -  198927 130735 144144.306   42   98 216274.000 131146.256  39.4%  58.8  398s\n"
     ]
    },
    {
     "name": "stdout",
     "output_type": "stream",
     "text": [
      " 200338 131391 infeasible   64      216274.000 131173.000  39.3%  59.0  401s\n"
     ]
    },
    {
     "name": "stderr",
     "output_type": "stream",
     "text": [
      "2023-05-12 09:39:14,250 - INFO -  200338 131391 infeasible   64      216274.000 131173.000  39.3%  59.0  401s\n"
     ]
    },
    {
     "name": "stdout",
     "output_type": "stream",
     "text": [
      " 201388 132205 174295.998   53  101 216274.000 131190.753  39.3%  59.1  406s\n"
     ]
    },
    {
     "name": "stderr",
     "output_type": "stream",
     "text": [
      "2023-05-12 09:39:19,002 - INFO -  201388 132205 174295.998   53  101 216274.000 131190.753  39.3%  59.1  406s\n"
     ]
    },
    {
     "name": "stdout",
     "output_type": "stream",
     "text": [
      " 202623 133260 132441.427   29  111 216274.000 131191.012  39.3%  59.3  410s\n"
     ]
    },
    {
     "name": "stderr",
     "output_type": "stream",
     "text": [
      "2023-05-12 09:39:22,757 - INFO -  202623 133260 132441.427   29  111 216274.000 131191.012  39.3%  59.3  410s\n"
     ]
    },
    {
     "name": "stdout",
     "output_type": "stream",
     "text": [
      " 205861 135350 137589.542   35   51 216274.000 131224.541  39.3%  59.7  417s\n"
     ]
    },
    {
     "name": "stderr",
     "output_type": "stream",
     "text": [
      "2023-05-12 09:39:30,023 - INFO -  205861 135350 137589.542   35   51 216274.000 131224.541  39.3%  59.7  417s\n"
     ]
    },
    {
     "name": "stdout",
     "output_type": "stream",
     "text": [
      " 207295 136299 160722.601   45  110 216274.000 131236.967  39.3%  59.9  421s\n"
     ]
    },
    {
     "name": "stderr",
     "output_type": "stream",
     "text": [
      "2023-05-12 09:39:33,717 - INFO -  207295 136299 160722.601   45  110 216274.000 131236.967  39.3%  59.9  421s\n"
     ]
    },
    {
     "name": "stdout",
     "output_type": "stream",
     "text": [
      " 210239 137728 136899.844   52   32 216274.000 131261.888  39.3%  60.2  425s\n"
     ]
    },
    {
     "name": "stderr",
     "output_type": "stream",
     "text": [
      "2023-05-12 09:39:37,763 - INFO -  210239 137728 136899.844   52   32 216274.000 131261.888  39.3%  60.2  425s\n"
     ]
    },
    {
     "name": "stdout",
     "output_type": "stream",
     "text": [
      " 212187 140009 131365.074   39   64 216274.000 131288.362  39.3%  60.4  433s\n"
     ]
    },
    {
     "name": "stderr",
     "output_type": "stream",
     "text": [
      "2023-05-12 09:39:45,593 - INFO -  212187 140009 131365.074   39   64 216274.000 131288.362  39.3%  60.4  433s\n"
     ]
    },
    {
     "name": "stdout",
     "output_type": "stream",
     "text": [
      " 213702 140373 136572.935   55   80 216274.000 131323.820  39.3%  60.6  446s\n"
     ]
    },
    {
     "name": "stderr",
     "output_type": "stream",
     "text": [
      "2023-05-12 09:39:58,560 - INFO -  213702 140373 136572.935   55   80 216274.000 131323.820  39.3%  60.6  446s\n"
     ]
    },
    {
     "name": "stdout",
     "output_type": "stream",
     "text": [
      " 214214 141361 137444.830   56   91 216274.000 131323.820  39.3%  60.6  451s\n"
     ]
    },
    {
     "name": "stderr",
     "output_type": "stream",
     "text": [
      "2023-05-12 09:40:04,077 - INFO -  214214 141361 137444.830   56   91 216274.000 131323.820  39.3%  60.6  451s\n"
     ]
    },
    {
     "name": "stdout",
     "output_type": "stream",
     "text": [
      " 215649 142546 144809.885   74   90 216274.000 131323.832  39.3%  60.8  456s\n"
     ]
    },
    {
     "name": "stderr",
     "output_type": "stream",
     "text": [
      "2023-05-12 09:40:09,199 - INFO -  215649 142546 144809.885   74   90 216274.000 131323.832  39.3%  60.8  456s\n"
     ]
    },
    {
     "name": "stdout",
     "output_type": "stream",
     "text": [
      " 217300 143265 150796.249   53   91 216274.000 131356.543  39.3%  60.9  461s\n"
     ]
    },
    {
     "name": "stderr",
     "output_type": "stream",
     "text": [
      "2023-05-12 09:40:13,920 - INFO -  217300 143265 150796.249   53   91 216274.000 131356.543  39.3%  60.9  461s\n"
     ]
    },
    {
     "name": "stdout",
     "output_type": "stream",
     "text": [
      " 218383 144289 145253.994   49   76 216274.000 131358.000  39.3%  61.2  466s\n"
     ]
    },
    {
     "name": "stderr",
     "output_type": "stream",
     "text": [
      "2023-05-12 09:40:19,353 - INFO -  218383 144289 145253.994   49   76 216274.000 131358.000  39.3%  61.2  466s\n"
     ]
    },
    {
     "name": "stdout",
     "output_type": "stream",
     "text": [
      " 219909 145494 172522.425   69  126 216274.000 131360.503  39.3%  61.4  471s\n"
     ]
    },
    {
     "name": "stderr",
     "output_type": "stream",
     "text": [
      "2023-05-12 09:40:23,747 - INFO -  219909 145494 172522.425   69  126 216274.000 131360.503  39.3%  61.4  471s\n"
     ]
    },
    {
     "name": "stdout",
     "output_type": "stream",
     "text": [
      " 221631 146826 132464.661   44  111 216274.000 131360.503  39.3%  61.6  475s\n"
     ]
    },
    {
     "name": "stderr",
     "output_type": "stream",
     "text": [
      "2023-05-12 09:40:28,332 - INFO -  221631 146826 132464.661   44  111 216274.000 131360.503  39.3%  61.6  475s\n"
     ]
    },
    {
     "name": "stdout",
     "output_type": "stream",
     "text": [
      " 223402 147933 160517.712   69  122 216274.000 131360.503  39.3%  61.8  481s\n"
     ]
    },
    {
     "name": "stderr",
     "output_type": "stream",
     "text": [
      "2023-05-12 09:40:34,495 - INFO -  223402 147933 160517.712   69  122 216274.000 131360.503  39.3%  61.8  481s\n"
     ]
    },
    {
     "name": "stdout",
     "output_type": "stream",
     "text": [
      " 224838 149089 149350.021   61   76 216274.000 131362.684  39.3%  62.0  486s\n"
     ]
    },
    {
     "name": "stderr",
     "output_type": "stream",
     "text": [
      "2023-05-12 09:40:39,253 - INFO -  224838 149089 149350.021   61   76 216274.000 131362.684  39.3%  62.0  486s\n"
     ]
    },
    {
     "name": "stdout",
     "output_type": "stream",
     "text": [
      " 226523 150432 152497.790  102   48 216274.000 131362.684  39.3%  62.1  492s\n"
     ]
    },
    {
     "name": "stderr",
     "output_type": "stream",
     "text": [
      "2023-05-12 09:40:44,652 - INFO -  226523 150432 152497.790  102   48 216274.000 131362.684  39.3%  62.1  492s\n"
     ]
    },
    {
     "name": "stdout",
     "output_type": "stream",
     "text": [
      " 228402 151535 infeasible  109      216274.000 131365.074  39.3%  62.2  497s\n"
     ]
    },
    {
     "name": "stderr",
     "output_type": "stream",
     "text": [
      "2023-05-12 09:40:50,205 - INFO -  228402 151535 infeasible  109      216274.000 131365.074  39.3%  62.2  497s\n"
     ]
    },
    {
     "name": "stdout",
     "output_type": "stream",
     "text": [
      " 229891 152550 infeasible   98      216274.000 131365.074  39.3%  62.3  502s\n"
     ]
    },
    {
     "name": "stderr",
     "output_type": "stream",
     "text": [
      "2023-05-12 09:40:54,830 - INFO -  229891 152550 infeasible   98      216274.000 131365.074  39.3%  62.3  502s\n"
     ]
    },
    {
     "name": "stdout",
     "output_type": "stream",
     "text": [
      " 231260 153448 139640.726   65  136 216274.000 131365.074  39.3%  62.5  507s\n"
     ]
    },
    {
     "name": "stderr",
     "output_type": "stream",
     "text": [
      "2023-05-12 09:41:00,156 - INFO -  231260 153448 139640.726   65  136 216274.000 131365.074  39.3%  62.5  507s\n"
     ]
    },
    {
     "name": "stdout",
     "output_type": "stream",
     "text": [
      " 232630 154448 infeasible   84      216274.000 131365.074  39.3%  62.7  511s\n"
     ]
    },
    {
     "name": "stderr",
     "output_type": "stream",
     "text": [
      "2023-05-12 09:41:03,949 - INFO -  232630 154448 infeasible   84      216274.000 131365.074  39.3%  62.7  511s\n"
     ]
    },
    {
     "name": "stdout",
     "output_type": "stream",
     "text": [
      " 233981 155545 infeasible   92      216274.000 131365.074  39.3%  62.9  516s\n"
     ]
    },
    {
     "name": "stderr",
     "output_type": "stream",
     "text": [
      "2023-05-12 09:41:08,879 - INFO -  233981 155545 infeasible   92      216274.000 131365.074  39.3%  62.9  516s\n"
     ]
    },
    {
     "name": "stdout",
     "output_type": "stream",
     "text": [
      " 235664 156557 133556.096   56  103 216274.000 131365.074  39.3%  63.0  521s\n"
     ]
    },
    {
     "name": "stderr",
     "output_type": "stream",
     "text": [
      "2023-05-12 09:41:13,650 - INFO -  235664 156557 133556.096   56  103 216274.000 131365.074  39.3%  63.0  521s\n"
     ]
    },
    {
     "name": "stdout",
     "output_type": "stream",
     "text": [
      " 237143 157321 212160.011   91   79 216274.000 131365.074  39.3%  63.1  525s\n"
     ]
    },
    {
     "name": "stderr",
     "output_type": "stream",
     "text": [
      "2023-05-12 09:41:17,946 - INFO -  237143 157321 212160.011   91   79 216274.000 131365.074  39.3%  63.1  525s\n"
     ]
    },
    {
     "name": "stdout",
     "output_type": "stream",
     "text": [
      " 239134 158315 145130.365   61  121 216274.000 131385.334  39.3%  63.4  530s\n"
     ]
    },
    {
     "name": "stderr",
     "output_type": "stream",
     "text": [
      "2023-05-12 09:41:22,564 - INFO -  239134 158315 145130.365   61  121 216274.000 131385.334  39.3%  63.4  530s\n"
     ]
    },
    {
     "name": "stdout",
     "output_type": "stream",
     "text": [
      " 239697 159452 144304.025   65   84 216274.000 131387.400  39.2%  63.4  535s\n"
     ]
    },
    {
     "name": "stderr",
     "output_type": "stream",
     "text": [
      "2023-05-12 09:41:27,559 - INFO -  239697 159452 144304.025   65   84 216274.000 131387.400  39.2%  63.4  535s\n"
     ]
    },
    {
     "name": "stdout",
     "output_type": "stream",
     "text": [
      " 242298 160716 163871.333   54  104 216274.000 131401.025  39.2%  63.6  543s\n"
     ]
    },
    {
     "name": "stderr",
     "output_type": "stream",
     "text": [
      "2023-05-12 09:41:36,005 - INFO -  242298 160716 163871.333   54  104 216274.000 131401.025  39.2%  63.6  543s\n"
     ]
    },
    {
     "name": "stdout",
     "output_type": "stream",
     "text": [
      " 243514 161631 142825.084   49  107 216274.000 131402.000  39.2%  63.8  547s\n"
     ]
    },
    {
     "name": "stderr",
     "output_type": "stream",
     "text": [
      "2023-05-12 09:41:40,423 - INFO -  243514 161631 142825.084   49  107 216274.000 131402.000  39.2%  63.8  547s\n"
     ]
    },
    {
     "name": "stdout",
     "output_type": "stream",
     "text": [
      " 244841 162561 166722.018   59   78 216274.000 131402.000  39.2%  64.0  554s\n"
     ]
    },
    {
     "name": "stderr",
     "output_type": "stream",
     "text": [
      "2023-05-12 09:41:47,459 - INFO -  244841 162561 166722.018   59   78 216274.000 131402.000  39.2%  64.0  554s\n"
     ]
    },
    {
     "name": "stdout",
     "output_type": "stream",
     "text": [
      "H245884 162418                    210310.00000 131426.995  37.5%  64.0  555s\n"
     ]
    },
    {
     "name": "stderr",
     "output_type": "stream",
     "text": [
      "2023-05-12 09:41:47,795 - INFO - H245884 162418                    210310.00000 131426.995  37.5%  64.0  555s\n"
     ]
    },
    {
     "name": "stdout",
     "output_type": "stream",
     "text": [
      " 246323 163550 infeasible   61      210310.000 131430.532  37.5%  64.1  563s\n"
     ]
    },
    {
     "name": "stderr",
     "output_type": "stream",
     "text": [
      "2023-05-12 09:41:56,080 - INFO -  246323 163550 infeasible   61      210310.000 131430.532  37.5%  64.1  563s\n"
     ]
    },
    {
     "name": "stdout",
     "output_type": "stream",
     "text": [
      " 247881 163949 infeasible   58      210310.000 131430.532  37.5%  64.2  578s\n"
     ]
    },
    {
     "name": "stderr",
     "output_type": "stream",
     "text": [
      "2023-05-12 09:42:11,345 - INFO -  247881 163949 infeasible   58      210310.000 131430.532  37.5%  64.2  578s\n"
     ]
    },
    {
     "name": "stdout",
     "output_type": "stream",
     "text": [
      "H248042 163759                    207387.00000 131430.532  36.6%  64.3  579s\n"
     ]
    },
    {
     "name": "stderr",
     "output_type": "stream",
     "text": [
      "2023-05-12 09:42:11,676 - INFO - H248042 163759                    207387.00000 131430.532  36.6%  64.3  579s\n"
     ]
    },
    {
     "name": "stdout",
     "output_type": "stream",
     "text": [
      "H248096 159462                    189541.00000 131430.532  30.7%  64.3  579s\n"
     ]
    },
    {
     "name": "stderr",
     "output_type": "stream",
     "text": [
      "2023-05-12 09:42:11,718 - INFO - H248096 159462                    189541.00000 131430.532  30.7%  64.3  579s\n"
     ]
    },
    {
     "name": "stdout",
     "output_type": "stream",
     "text": [
      " 248448 160279     cutoff   74      189541.000 131436.793  30.7%  64.3  584s\n"
     ]
    },
    {
     "name": "stderr",
     "output_type": "stream",
     "text": [
      "2023-05-12 09:42:16,922 - INFO -  248448 160279     cutoff   74      189541.000 131436.793  30.7%  64.3  584s\n"
     ]
    },
    {
     "name": "stdout",
     "output_type": "stream",
     "text": [
      " 250076 161242 158094.826   46   97 189541.000 131444.081  30.7%  64.4  588s\n"
     ]
    },
    {
     "name": "stderr",
     "output_type": "stream",
     "text": [
      "2023-05-12 09:42:21,534 - INFO -  250076 161242 158094.826   46   97 189541.000 131444.081  30.7%  64.4  588s\n"
     ]
    },
    {
     "name": "stdout",
     "output_type": "stream",
     "text": [
      " 251534 162417 infeasible  102      189541.000 131453.593  30.6%  64.6  592s\n"
     ]
    },
    {
     "name": "stderr",
     "output_type": "stream",
     "text": [
      "2023-05-12 09:42:25,398 - INFO -  251534 162417 infeasible  102      189541.000 131453.593  30.6%  64.6  592s\n"
     ]
    },
    {
     "name": "stdout",
     "output_type": "stream",
     "text": [
      " 253189 163547 153047.523   51  112 189541.000 131462.078  30.6%  64.7  597s\n"
     ]
    },
    {
     "name": "stderr",
     "output_type": "stream",
     "text": [
      "2023-05-12 09:42:30,129 - INFO -  253189 163547 153047.523   51  112 189541.000 131462.078  30.6%  64.7  597s\n"
     ]
    },
    {
     "name": "stdout",
     "output_type": "stream",
     "text": [
      " 254716 164164 138968.387   52  106 189541.000 131464.000  30.6%  64.9  600s\n"
     ]
    },
    {
     "name": "stderr",
     "output_type": "stream",
     "text": [
      "2023-05-12 09:42:32,544 - INFO -  254716 164164 138968.387   52  106 189541.000 131464.000  30.6%  64.9  600s\n"
     ]
    },
    {
     "name": "stdout",
     "output_type": "stream",
     "text": [
      "\n"
     ]
    },
    {
     "name": "stderr",
     "output_type": "stream",
     "text": [
      "2023-05-12 09:42:32,941 - INFO - \n"
     ]
    },
    {
     "name": "stdout",
     "output_type": "stream",
     "text": [
      "Cutting planes:\n"
     ]
    },
    {
     "name": "stderr",
     "output_type": "stream",
     "text": [
      "2023-05-12 09:42:32,945 - INFO - Cutting planes:\n"
     ]
    },
    {
     "name": "stdout",
     "output_type": "stream",
     "text": [
      "  Gomory: 3\n"
     ]
    },
    {
     "name": "stderr",
     "output_type": "stream",
     "text": [
      "2023-05-12 09:42:32,946 - INFO -   Gomory: 3\n"
     ]
    },
    {
     "name": "stdout",
     "output_type": "stream",
     "text": [
      "  Cover: 1\n"
     ]
    },
    {
     "name": "stderr",
     "output_type": "stream",
     "text": [
      "2023-05-12 09:42:32,949 - INFO -   Cover: 1\n"
     ]
    },
    {
     "name": "stdout",
     "output_type": "stream",
     "text": [
      "  MIR: 2\n"
     ]
    },
    {
     "name": "stderr",
     "output_type": "stream",
     "text": [
      "2023-05-12 09:42:32,950 - INFO -   MIR: 2\n"
     ]
    },
    {
     "name": "stdout",
     "output_type": "stream",
     "text": [
      "  Flow cover: 6\n"
     ]
    },
    {
     "name": "stderr",
     "output_type": "stream",
     "text": [
      "2023-05-12 09:42:32,954 - INFO -   Flow cover: 6\n"
     ]
    },
    {
     "name": "stdout",
     "output_type": "stream",
     "text": [
      "  Inf proof: 7\n"
     ]
    },
    {
     "name": "stderr",
     "output_type": "stream",
     "text": [
      "2023-05-12 09:42:32,954 - INFO -   Inf proof: 7\n"
     ]
    },
    {
     "name": "stdout",
     "output_type": "stream",
     "text": [
      "  Zero half: 2\n"
     ]
    },
    {
     "name": "stderr",
     "output_type": "stream",
     "text": [
      "2023-05-12 09:42:32,954 - INFO -   Zero half: 2\n"
     ]
    },
    {
     "name": "stdout",
     "output_type": "stream",
     "text": [
      "  Lazy constraints: 7151\n"
     ]
    },
    {
     "name": "stderr",
     "output_type": "stream",
     "text": [
      "2023-05-12 09:42:32,954 - INFO -   Lazy constraints: 7151\n"
     ]
    },
    {
     "name": "stdout",
     "output_type": "stream",
     "text": [
      "\n"
     ]
    },
    {
     "name": "stderr",
     "output_type": "stream",
     "text": [
      "2023-05-12 09:42:32,954 - INFO - \n"
     ]
    },
    {
     "name": "stdout",
     "output_type": "stream",
     "text": [
      "Explored 255620 nodes (16600236 simplex iterations) in 600.42 seconds\n"
     ]
    },
    {
     "name": "stderr",
     "output_type": "stream",
     "text": [
      "2023-05-12 09:42:32,954 - INFO - Explored 255620 nodes (16600236 simplex iterations) in 600.42 seconds\n"
     ]
    },
    {
     "name": "stdout",
     "output_type": "stream",
     "text": [
      "Thread count was 24 (of 48 available processors)\n"
     ]
    },
    {
     "name": "stderr",
     "output_type": "stream",
     "text": [
      "2023-05-12 09:42:32,954 - INFO - Thread count was 24 (of 48 available processors)\n"
     ]
    },
    {
     "name": "stdout",
     "output_type": "stream",
     "text": [
      "\n"
     ]
    },
    {
     "name": "stderr",
     "output_type": "stream",
     "text": [
      "2023-05-12 09:42:32,954 - INFO - \n"
     ]
    },
    {
     "name": "stdout",
     "output_type": "stream",
     "text": [
      "Solution count 9: 189541 207387 210310 ... 238304\n"
     ]
    },
    {
     "name": "stderr",
     "output_type": "stream",
     "text": [
      "2023-05-12 09:42:32,954 - INFO - Solution count 9: 189541 207387 210310 ... 238304\n"
     ]
    },
    {
     "name": "stdout",
     "output_type": "stream",
     "text": [
      "\n"
     ]
    },
    {
     "name": "stderr",
     "output_type": "stream",
     "text": [
      "2023-05-12 09:42:32,954 - INFO - \n"
     ]
    },
    {
     "name": "stdout",
     "output_type": "stream",
     "text": [
      "Time limit reached\n"
     ]
    },
    {
     "name": "stderr",
     "output_type": "stream",
     "text": [
      "2023-05-12 09:42:32,970 - INFO - Time limit reached\n"
     ]
    },
    {
     "name": "stdout",
     "output_type": "stream",
     "text": [
      "Best objective 1.895410000000e+05, best bound 1.314640000000e+05, gap 30.6409%\n"
     ]
    },
    {
     "name": "stderr",
     "output_type": "stream",
     "text": [
      "2023-05-12 09:42:32,971 - INFO - Best objective 1.895410000000e+05, best bound 1.314640000000e+05, gap 30.6409%\n"
     ]
    },
    {
     "name": "stdout",
     "output_type": "stream",
     "text": [
      "\n"
     ]
    },
    {
     "name": "stderr",
     "output_type": "stream",
     "text": [
      "2023-05-12 09:42:32,973 - INFO - \n"
     ]
    },
    {
     "name": "stdout",
     "output_type": "stream",
     "text": [
      "User-callback calls 533598, time in user-callback 50.62 sec\n"
     ]
    },
    {
     "name": "stderr",
     "output_type": "stream",
     "text": [
      "2023-05-12 09:42:32,974 - INFO - User-callback calls 533598, time in user-callback 50.62 sec\n"
     ]
    },
    {
     "name": "stdout",
     "output_type": "stream",
     "text": [
      "{'Bounds': {'D200': {'ub': 134848.99999999994, 'max_soln': 104636.0}, 'D160': {'ub': 135538.0, 'max_soln': 94381.0}, 'R200': {'lb': 131464.0, 'min_soln': 189541.0}, 'R160': {}, 'D201': {}, 'D161': {}, 'R201': {}, 'R161': {}, 'D202': {}, 'D162': {}, 'R202': {}, 'R162': {}, 'D203': {}, 'D163': {}, 'R203': {}, 'R163': {}}}\n",
      "Gurobi Optimizer version 9.1.2 build v9.1.2rc0 (win64)\n"
     ]
    },
    {
     "name": "stderr",
     "output_type": "stream",
     "text": [
      "2023-05-12 09:42:34,022 - INFO - Gurobi Optimizer version 9.1.2 build v9.1.2rc0 (win64)\n"
     ]
    },
    {
     "name": "stdout",
     "output_type": "stream",
     "text": [
      "Thread count: 24 physical cores, 48 logical processors, using up to 24 threads\n"
     ]
    },
    {
     "name": "stderr",
     "output_type": "stream",
     "text": [
      "2023-05-12 09:42:34,026 - INFO - Thread count: 24 physical cores, 48 logical processors, using up to 24 threads\n"
     ]
    },
    {
     "name": "stdout",
     "output_type": "stream",
     "text": [
      "Optimize a model with 120 rows, 680 columns and 2345 nonzeros\n"
     ]
    },
    {
     "name": "stderr",
     "output_type": "stream",
     "text": [
      "2023-05-12 09:42:34,030 - INFO - Optimize a model with 120 rows, 680 columns and 2345 nonzeros\n"
     ]
    },
    {
     "name": "stdout",
     "output_type": "stream",
     "text": [
      "Model fingerprint: 0x00746891\n"
     ]
    },
    {
     "name": "stderr",
     "output_type": "stream",
     "text": [
      "2023-05-12 09:42:34,032 - INFO - Model fingerprint: 0x00746891\n"
     ]
    },
    {
     "name": "stdout",
     "output_type": "stream",
     "text": [
      "Variable types: 24 continuous, 656 integer (656 binary)\n"
     ]
    },
    {
     "name": "stderr",
     "output_type": "stream",
     "text": [
      "2023-05-12 09:42:34,042 - INFO - Variable types: 24 continuous, 656 integer (656 binary)\n"
     ]
    },
    {
     "name": "stdout",
     "output_type": "stream",
     "text": [
      "Coefficient statistics:\n"
     ]
    },
    {
     "name": "stderr",
     "output_type": "stream",
     "text": [
      "2023-05-12 09:42:34,050 - INFO - Coefficient statistics:\n"
     ]
    },
    {
     "name": "stdout",
     "output_type": "stream",
     "text": [
      "  Matrix range     [1e+00, 2e+05]\n"
     ]
    },
    {
     "name": "stderr",
     "output_type": "stream",
     "text": [
      "2023-05-12 09:42:34,053 - INFO -   Matrix range     [1e+00, 2e+05]\n"
     ]
    },
    {
     "name": "stdout",
     "output_type": "stream",
     "text": [
      "  Objective range  [1e+00, 1e+00]\n"
     ]
    },
    {
     "name": "stderr",
     "output_type": "stream",
     "text": [
      "2023-05-12 09:42:34,056 - INFO -   Objective range  [1e+00, 1e+00]\n"
     ]
    },
    {
     "name": "stdout",
     "output_type": "stream",
     "text": [
      "  Bounds range     [1e+00, 8e+05]\n"
     ]
    },
    {
     "name": "stderr",
     "output_type": "stream",
     "text": [
      "2023-05-12 09:42:34,061 - INFO -   Bounds range     [1e+00, 8e+05]\n"
     ]
    },
    {
     "name": "stdout",
     "output_type": "stream",
     "text": [
      "  RHS range        [1e+00, 8e+05]\n"
     ]
    },
    {
     "name": "stderr",
     "output_type": "stream",
     "text": [
      "2023-05-12 09:42:34,063 - INFO -   RHS range        [1e+00, 8e+05]\n"
     ]
    },
    {
     "name": "stdout",
     "output_type": "stream",
     "text": [
      "\n"
     ]
    },
    {
     "name": "stderr",
     "output_type": "stream",
     "text": [
      "2023-05-12 09:42:34,065 - INFO - \n"
     ]
    },
    {
     "name": "stdout",
     "output_type": "stream",
     "text": [
      "User MIP start produced solution with objective 215703 (0.05s)\n"
     ]
    },
    {
     "name": "stderr",
     "output_type": "stream",
     "text": [
      "2023-05-12 09:42:34,075 - INFO - User MIP start produced solution with objective 215703 (0.05s)\n"
     ]
    },
    {
     "name": "stdout",
     "output_type": "stream",
     "text": [
      "Loaded user MIP start with objective 215703\n"
     ]
    },
    {
     "name": "stderr",
     "output_type": "stream",
     "text": [
      "2023-05-12 09:42:34,084 - INFO - Loaded user MIP start with objective 215703\n"
     ]
    },
    {
     "name": "stdout",
     "output_type": "stream",
     "text": [
      "MIP start from previous solve produced solution with objective 173143 (0.07s)\n"
     ]
    },
    {
     "name": "stderr",
     "output_type": "stream",
     "text": [
      "2023-05-12 09:42:34,095 - INFO - MIP start from previous solve produced solution with objective 173143 (0.07s)\n"
     ]
    },
    {
     "name": "stdout",
     "output_type": "stream",
     "text": [
      "Loaded MIP start from previous solve with objective 173143\n"
     ]
    },
    {
     "name": "stderr",
     "output_type": "stream",
     "text": [
      "2023-05-12 09:42:34,104 - INFO - Loaded MIP start from previous solve with objective 173143\n"
     ]
    },
    {
     "name": "stdout",
     "output_type": "stream",
     "text": [
      "\n"
     ]
    },
    {
     "name": "stderr",
     "output_type": "stream",
     "text": [
      "2023-05-12 09:42:34,106 - INFO - \n"
     ]
    },
    {
     "name": "stdout",
     "output_type": "stream",
     "text": [
      "Presolve removed 11 rows and 8 columns\n"
     ]
    },
    {
     "name": "stderr",
     "output_type": "stream",
     "text": [
      "2023-05-12 09:42:34,125 - INFO - Presolve removed 11 rows and 8 columns\n"
     ]
    },
    {
     "name": "stdout",
     "output_type": "stream",
     "text": [
      "Presolve time: 0.01s\n"
     ]
    },
    {
     "name": "stderr",
     "output_type": "stream",
     "text": [
      "2023-05-12 09:42:34,129 - INFO - Presolve time: 0.01s\n"
     ]
    },
    {
     "name": "stdout",
     "output_type": "stream",
     "text": [
      "Presolved: 109 rows, 672 columns, 2318 nonzeros\n"
     ]
    },
    {
     "name": "stderr",
     "output_type": "stream",
     "text": [
      "2023-05-12 09:42:34,134 - INFO - Presolved: 109 rows, 672 columns, 2318 nonzeros\n"
     ]
    },
    {
     "name": "stdout",
     "output_type": "stream",
     "text": [
      "Variable types: 0 continuous, 672 integer (656 binary)\n"
     ]
    },
    {
     "name": "stderr",
     "output_type": "stream",
     "text": [
      "2023-05-12 09:42:34,139 - INFO - Variable types: 0 continuous, 672 integer (656 binary)\n"
     ]
    },
    {
     "name": "stdout",
     "output_type": "stream",
     "text": [
      "\n"
     ]
    },
    {
     "name": "stderr",
     "output_type": "stream",
     "text": [
      "2023-05-12 09:42:34,143 - INFO - \n"
     ]
    },
    {
     "name": "stdout",
     "output_type": "stream",
     "text": [
      "Concurrent LP optimizer: primal simplex, dual simplex, and barrier\n"
     ]
    },
    {
     "name": "stderr",
     "output_type": "stream",
     "text": [
      "2023-05-12 09:42:34,149 - INFO - Concurrent LP optimizer: primal simplex, dual simplex, and barrier\n"
     ]
    },
    {
     "name": "stdout",
     "output_type": "stream",
     "text": [
      "Showing barrier log only...\n"
     ]
    },
    {
     "name": "stderr",
     "output_type": "stream",
     "text": [
      "2023-05-12 09:42:34,160 - INFO - Showing barrier log only...\n"
     ]
    },
    {
     "name": "stdout",
     "output_type": "stream",
     "text": [
      "\n"
     ]
    },
    {
     "name": "stderr",
     "output_type": "stream",
     "text": [
      "2023-05-12 09:42:34,165 - INFO - \n"
     ]
    },
    {
     "name": "stdout",
     "output_type": "stream",
     "text": [
      "Root barrier log...\n"
     ]
    },
    {
     "name": "stderr",
     "output_type": "stream",
     "text": [
      "2023-05-12 09:42:34,175 - INFO - Root barrier log...\n"
     ]
    },
    {
     "name": "stdout",
     "output_type": "stream",
     "text": [
      "\n"
     ]
    },
    {
     "name": "stderr",
     "output_type": "stream",
     "text": [
      "2023-05-12 09:42:34,179 - INFO - \n"
     ]
    },
    {
     "name": "stdout",
     "output_type": "stream",
     "text": [
      "Ordering time: 0.00s\n"
     ]
    },
    {
     "name": "stderr",
     "output_type": "stream",
     "text": [
      "2023-05-12 09:42:34,184 - INFO - Ordering time: 0.00s\n"
     ]
    },
    {
     "name": "stdout",
     "output_type": "stream",
     "text": [
      "\n"
     ]
    },
    {
     "name": "stderr",
     "output_type": "stream",
     "text": [
      "2023-05-12 09:42:34,188 - INFO - \n"
     ]
    },
    {
     "name": "stdout",
     "output_type": "stream",
     "text": [
      "Barrier performed 0 iterations in 0.16 seconds\n"
     ]
    },
    {
     "name": "stderr",
     "output_type": "stream",
     "text": [
      "2023-05-12 09:42:34,190 - INFO - Barrier performed 0 iterations in 0.16 seconds\n"
     ]
    },
    {
     "name": "stdout",
     "output_type": "stream",
     "text": [
      "Barrier solve interrupted - model solved by another algorithm\n"
     ]
    },
    {
     "name": "stderr",
     "output_type": "stream",
     "text": [
      "2023-05-12 09:42:34,192 - INFO - Barrier solve interrupted - model solved by another algorithm\n"
     ]
    },
    {
     "name": "stdout",
     "output_type": "stream",
     "text": [
      "\n"
     ]
    },
    {
     "name": "stderr",
     "output_type": "stream",
     "text": [
      "2023-05-12 09:42:34,194 - INFO - \n"
     ]
    },
    {
     "name": "stdout",
     "output_type": "stream",
     "text": [
      "\n"
     ]
    },
    {
     "name": "stderr",
     "output_type": "stream",
     "text": [
      "2023-05-12 09:42:34,197 - INFO - \n"
     ]
    },
    {
     "name": "stdout",
     "output_type": "stream",
     "text": [
      "Solved with dual simplex\n"
     ]
    },
    {
     "name": "stderr",
     "output_type": "stream",
     "text": [
      "2023-05-12 09:42:34,198 - INFO - Solved with dual simplex\n"
     ]
    },
    {
     "name": "stdout",
     "output_type": "stream",
     "text": [
      "\n"
     ]
    },
    {
     "name": "stderr",
     "output_type": "stream",
     "text": [
      "2023-05-12 09:42:34,201 - INFO - \n"
     ]
    },
    {
     "name": "stdout",
     "output_type": "stream",
     "text": [
      "Root relaxation: objective 1.166242e+05, 139 iterations, 0.06 seconds\n"
     ]
    },
    {
     "name": "stderr",
     "output_type": "stream",
     "text": [
      "2023-05-12 09:42:34,203 - INFO - Root relaxation: objective 1.166242e+05, 139 iterations, 0.06 seconds\n"
     ]
    },
    {
     "name": "stdout",
     "output_type": "stream",
     "text": [
      "\n"
     ]
    },
    {
     "name": "stderr",
     "output_type": "stream",
     "text": [
      "2023-05-12 09:42:34,215 - INFO - \n"
     ]
    },
    {
     "name": "stdout",
     "output_type": "stream",
     "text": [
      "    Nodes    |    Current Node    |     Objective Bounds      |     Work\n"
     ]
    },
    {
     "name": "stderr",
     "output_type": "stream",
     "text": [
      "2023-05-12 09:42:34,217 - INFO -     Nodes    |    Current Node    |     Objective Bounds      |     Work\n"
     ]
    },
    {
     "name": "stdout",
     "output_type": "stream",
     "text": [
      " Expl Unexpl |  Obj  Depth IntInf | Incumbent    BestBd   Gap | It/Node Time\n"
     ]
    },
    {
     "name": "stderr",
     "output_type": "stream",
     "text": [
      "2023-05-12 09:42:34,221 - INFO -  Expl Unexpl |  Obj  Depth IntInf | Incumbent    BestBd   Gap | It/Node Time\n"
     ]
    },
    {
     "name": "stdout",
     "output_type": "stream",
     "text": [
      "\n"
     ]
    },
    {
     "name": "stderr",
     "output_type": "stream",
     "text": [
      "2023-05-12 09:42:34,225 - INFO - \n"
     ]
    },
    {
     "name": "stdout",
     "output_type": "stream",
     "text": [
      "     0     0 116624.182    0   23 173143.000 116624.182  32.6%     -    0s\n"
     ]
    },
    {
     "name": "stderr",
     "output_type": "stream",
     "text": [
      "2023-05-12 09:42:34,230 - INFO -      0     0 116624.182    0   23 173143.000 116624.182  32.6%     -    0s\n"
     ]
    },
    {
     "name": "stdout",
     "output_type": "stream",
     "text": [
      "     0     0 116713.564    0   30 173143.000 116713.564  32.6%     -    0s\n"
     ]
    },
    {
     "name": "stderr",
     "output_type": "stream",
     "text": [
      "2023-05-12 09:42:34,257 - INFO -      0     0 116713.564    0   30 173143.000 116713.564  32.6%     -    0s\n"
     ]
    },
    {
     "name": "stdout",
     "output_type": "stream",
     "text": [
      "     0     0 116879.792    0   48 173143.000 116879.792  32.5%     -    0s\n"
     ]
    },
    {
     "name": "stderr",
     "output_type": "stream",
     "text": [
      "2023-05-12 09:42:34,490 - INFO -      0     0 116879.792    0   48 173143.000 116879.792  32.5%     -    0s\n"
     ]
    },
    {
     "name": "stdout",
     "output_type": "stream",
     "text": [
      "     0     0 117004.165    0   35 173143.000 117004.165  32.4%     -    0s\n"
     ]
    },
    {
     "name": "stderr",
     "output_type": "stream",
     "text": [
      "2023-05-12 09:42:34,496 - INFO -      0     0 117004.165    0   35 173143.000 117004.165  32.4%     -    0s\n"
     ]
    },
    {
     "name": "stdout",
     "output_type": "stream",
     "text": [
      "     0     0 117012.303    0   49 173143.000 117012.303  32.4%     -    0s\n"
     ]
    },
    {
     "name": "stderr",
     "output_type": "stream",
     "text": [
      "2023-05-12 09:42:34,518 - INFO -      0     0 117012.303    0   49 173143.000 117012.303  32.4%     -    0s\n"
     ]
    },
    {
     "name": "stdout",
     "output_type": "stream",
     "text": [
      "     0     0 117021.378    0   51 173143.000 117021.378  32.4%     -    0s\n"
     ]
    },
    {
     "name": "stderr",
     "output_type": "stream",
     "text": [
      "2023-05-12 09:42:34,523 - INFO -      0     0 117021.378    0   51 173143.000 117021.378  32.4%     -    0s\n"
     ]
    },
    {
     "name": "stdout",
     "output_type": "stream",
     "text": [
      "     0     0 117045.128    0   47 173143.000 117045.128  32.4%     -    0s\n"
     ]
    },
    {
     "name": "stderr",
     "output_type": "stream",
     "text": [
      "2023-05-12 09:42:34,586 - INFO -      0     0 117045.128    0   47 173143.000 117045.128  32.4%     -    0s\n"
     ]
    },
    {
     "name": "stdout",
     "output_type": "stream",
     "text": [
      "     0     0 117170.316    0   47 173143.000 117170.316  32.3%     -    0s\n"
     ]
    },
    {
     "name": "stderr",
     "output_type": "stream",
     "text": [
      "2023-05-12 09:42:34,728 - INFO -      0     0 117170.316    0   47 173143.000 117170.316  32.3%     -    0s\n"
     ]
    },
    {
     "name": "stdout",
     "output_type": "stream",
     "text": [
      "     0     0 117198.765    0   59 173143.000 117198.765  32.3%     -    0s\n"
     ]
    },
    {
     "name": "stderr",
     "output_type": "stream",
     "text": [
      "2023-05-12 09:42:34,733 - INFO -      0     0 117198.765    0   59 173143.000 117198.765  32.3%     -    0s\n"
     ]
    },
    {
     "name": "stdout",
     "output_type": "stream",
     "text": [
      "     0     0 117199.360    0   63 173143.000 117199.360  32.3%     -    0s\n"
     ]
    },
    {
     "name": "stderr",
     "output_type": "stream",
     "text": [
      "2023-05-12 09:42:34,737 - INFO -      0     0 117199.360    0   63 173143.000 117199.360  32.3%     -    0s\n"
     ]
    },
    {
     "name": "stdout",
     "output_type": "stream",
     "text": [
      "     0     0 117245.405    0   55 173143.000 117245.405  32.3%     -    0s\n"
     ]
    },
    {
     "name": "stderr",
     "output_type": "stream",
     "text": [
      "2023-05-12 09:42:34,789 - INFO -      0     0 117245.405    0   55 173143.000 117245.405  32.3%     -    0s\n"
     ]
    },
    {
     "name": "stdout",
     "output_type": "stream",
     "text": [
      "     0     0 117256.996    0   63 173143.000 117256.996  32.3%     -    0s\n"
     ]
    },
    {
     "name": "stderr",
     "output_type": "stream",
     "text": [
      "2023-05-12 09:42:34,800 - INFO -      0     0 117256.996    0   63 173143.000 117256.996  32.3%     -    0s\n"
     ]
    },
    {
     "name": "stdout",
     "output_type": "stream",
     "text": [
      "     0     0 117261.742    0   63 173143.000 117261.742  32.3%     -    0s\n"
     ]
    },
    {
     "name": "stderr",
     "output_type": "stream",
     "text": [
      "2023-05-12 09:42:34,805 - INFO -      0     0 117261.742    0   63 173143.000 117261.742  32.3%     -    0s\n"
     ]
    },
    {
     "name": "stdout",
     "output_type": "stream",
     "text": [
      "     0     0 117262.152    0   65 173143.000 117262.152  32.3%     -    0s\n"
     ]
    },
    {
     "name": "stderr",
     "output_type": "stream",
     "text": [
      "2023-05-12 09:42:34,811 - INFO -      0     0 117262.152    0   65 173143.000 117262.152  32.3%     -    0s\n"
     ]
    },
    {
     "name": "stdout",
     "output_type": "stream",
     "text": [
      "     0     0 117263.009    0   65 173143.000 117263.009  32.3%     -    0s\n"
     ]
    },
    {
     "name": "stderr",
     "output_type": "stream",
     "text": [
      "2023-05-12 09:42:34,831 - INFO -      0     0 117263.009    0   65 173143.000 117263.009  32.3%     -    0s\n"
     ]
    },
    {
     "name": "stdout",
     "output_type": "stream",
     "text": [
      "     0     0 117263.693    0   63 173143.000 117263.693  32.3%     -    0s\n"
     ]
    },
    {
     "name": "stderr",
     "output_type": "stream",
     "text": [
      "2023-05-12 09:42:34,849 - INFO -      0     0 117263.693    0   63 173143.000 117263.693  32.3%     -    0s\n"
     ]
    },
    {
     "name": "stdout",
     "output_type": "stream",
     "text": [
      "     0     0 117264.848    0   67 173143.000 117264.848  32.3%     -    0s\n"
     ]
    },
    {
     "name": "stderr",
     "output_type": "stream",
     "text": [
      "2023-05-12 09:42:34,872 - INFO -      0     0 117264.848    0   67 173143.000 117264.848  32.3%     -    0s\n"
     ]
    },
    {
     "name": "stdout",
     "output_type": "stream",
     "text": [
      "     0     0 117264.848    0   53 173143.000 117264.848  32.3%     -    0s\n"
     ]
    },
    {
     "name": "stderr",
     "output_type": "stream",
     "text": [
      "2023-05-12 09:42:34,889 - INFO -      0     0 117264.848    0   53 173143.000 117264.848  32.3%     -    0s\n"
     ]
    },
    {
     "name": "stdout",
     "output_type": "stream",
     "text": [
      "     0     2 117265.572    0   53 173143.000 117265.572  32.3%     -    0s\n"
     ]
    },
    {
     "name": "stderr",
     "output_type": "stream",
     "text": [
      "2023-05-12 09:42:34,954 - INFO -      0     2 117265.572    0   53 173143.000 117265.572  32.3%     -    0s\n"
     ]
    },
    {
     "name": "stdout",
     "output_type": "stream",
     "text": [
      "  2977  2629 127744.000   48   63 173143.000 117931.006  31.9%   4.7    7s\n"
     ]
    },
    {
     "name": "stderr",
     "output_type": "stream",
     "text": [
      "2023-05-12 09:42:41,549 - INFO -   2977  2629 127744.000   48   63 173143.000 117931.006  31.9%   4.7    7s\n"
     ]
    },
    {
     "name": "stdout",
     "output_type": "stream",
     "text": [
      "  6418  4782 127063.000   90   20 173143.000 118274.283  31.7%   6.1   10s\n"
     ]
    },
    {
     "name": "stderr",
     "output_type": "stream",
     "text": [
      "2023-05-12 09:42:44,182 - INFO -   6418  4782 127063.000   90   20 173143.000 118274.283  31.7%   6.1   10s\n"
     ]
    },
    {
     "name": "stdout",
     "output_type": "stream",
     "text": [
      " 11997  7729 118479.227   54   59 173143.000 118342.799  31.7%   7.4   16s\n"
     ]
    },
    {
     "name": "stderr",
     "output_type": "stream",
     "text": [
      "2023-05-12 09:42:50,990 - INFO -  11997  7729 118479.227   54   59 173143.000 118342.799  31.7%   7.4   16s\n"
     ]
    },
    {
     "name": "stdout",
     "output_type": "stream",
     "text": [
      " 15129 10650 120746.199   64   28 173143.000 118350.585  31.6%   8.9   20s\n"
     ]
    },
    {
     "name": "stderr",
     "output_type": "stream",
     "text": [
      "2023-05-12 09:42:54,126 - INFO -  15129 10650 120746.199   64   28 173143.000 118350.585  31.6%   8.9   20s\n"
     ]
    },
    {
     "name": "stdout",
     "output_type": "stream",
     "text": [
      " 21746 15852     cutoff   96      173143.000 118351.086  31.6%  12.2   25s\n"
     ]
    },
    {
     "name": "stderr",
     "output_type": "stream",
     "text": [
      "2023-05-12 09:42:59,406 - INFO -  21746 15852     cutoff   96      173143.000 118351.086  31.6%  12.2   25s\n"
     ]
    },
    {
     "name": "stdout",
     "output_type": "stream",
     "text": [
      " 27354 20734 120095.239   38   39 173143.000 118351.484  31.6%  15.4   30s\n"
     ]
    },
    {
     "name": "stderr",
     "output_type": "stream",
     "text": [
      "2023-05-12 09:43:04,193 - INFO -  27354 20734 120095.239   38   39 173143.000 118351.484  31.6%  15.4   30s\n"
     ]
    },
    {
     "name": "stdout",
     "output_type": "stream",
     "text": [
      " 32287 24636 127572.954   57   76 173143.000 118351.484  31.6%  18.0   35s\n"
     ]
    },
    {
     "name": "stderr",
     "output_type": "stream",
     "text": [
      "2023-05-12 09:43:10,004 - INFO -  32287 24636 127572.954   57   76 173143.000 118351.484  31.6%  18.0   35s\n"
     ]
    },
    {
     "name": "stdout",
     "output_type": "stream",
     "text": [
      " 36874 28088 146507.043   90   59 173143.000 118366.398  31.6%  20.4   40s\n"
     ]
    },
    {
     "name": "stderr",
     "output_type": "stream",
     "text": [
      "2023-05-12 09:43:14,424 - INFO -  36874 28088 146507.043   90   59 173143.000 118366.398  31.6%  20.4   40s\n"
     ]
    },
    {
     "name": "stdout",
     "output_type": "stream",
     "text": [
      " 37787 28153 121343.413   49   78 173143.000 118370.467  31.6%  20.7   45s\n"
     ]
    },
    {
     "name": "stderr",
     "output_type": "stream",
     "text": [
      "2023-05-12 09:43:19,715 - INFO -  37787 28153 121343.413   49   78 173143.000 118370.467  31.6%  20.7   45s\n"
     ]
    },
    {
     "name": "stdout",
     "output_type": "stream",
     "text": [
      " 39229 29984 infeasible  105      173143.000 118377.885  31.6%  21.5   50s\n"
     ]
    },
    {
     "name": "stderr",
     "output_type": "stream",
     "text": [
      "2023-05-12 09:43:24,789 - INFO -  39229 29984 infeasible  105      173143.000 118377.885  31.6%  21.5   50s\n"
     ]
    },
    {
     "name": "stdout",
     "output_type": "stream",
     "text": [
      " 41753 31695 121573.742   62   77 173143.000 118377.885  31.6%  23.0   55s\n"
     ]
    },
    {
     "name": "stderr",
     "output_type": "stream",
     "text": [
      "2023-05-12 09:43:29,399 - INFO -  41753 31695 121573.742   62   77 173143.000 118377.885  31.6%  23.0   55s\n"
     ]
    },
    {
     "name": "stdout",
     "output_type": "stream",
     "text": [
      " 44237 33463 131425.754   57   84 173143.000 118380.624  31.6%  24.3   60s\n"
     ]
    },
    {
     "name": "stderr",
     "output_type": "stream",
     "text": [
      "2023-05-12 09:43:34,034 - INFO -  44237 33463 131425.754   57   84 173143.000 118380.624  31.6%  24.3   60s\n"
     ]
    },
    {
     "name": "stdout",
     "output_type": "stream",
     "text": [
      " 44827 33495 120976.237   52   77 173143.000 118380.624  31.6%  24.8   72s\n"
     ]
    },
    {
     "name": "stderr",
     "output_type": "stream",
     "text": [
      "2023-05-12 09:43:46,568 - INFO -  44827 33495 120976.237   52   77 173143.000 118380.624  31.6%  24.8   72s\n"
     ]
    },
    {
     "name": "stdout",
     "output_type": "stream",
     "text": [
      " 44869 34213 120995.074   53   74 173143.000 118380.624  31.6%  24.8   75s\n"
     ]
    },
    {
     "name": "stderr",
     "output_type": "stream",
     "text": [
      "2023-05-12 09:43:49,126 - INFO -  44869 34213 120995.074   53   74 173143.000 118380.624  31.6%  24.8   75s\n"
     ]
    },
    {
     "name": "stdout",
     "output_type": "stream",
     "text": [
      " 47677 36211 infeasible  119      173143.000 118383.704  31.6%  26.3   80s\n"
     ]
    },
    {
     "name": "stderr",
     "output_type": "stream",
     "text": [
      "2023-05-12 09:43:54,468 - INFO -  47677 36211 infeasible  119      173143.000 118383.704  31.6%  26.3   80s\n"
     ]
    },
    {
     "name": "stdout",
     "output_type": "stream",
     "text": [
      " 50171 38152 122359.000   50   75 173143.000 118392.908  31.6%  27.9   85s\n"
     ]
    },
    {
     "name": "stderr",
     "output_type": "stream",
     "text": [
      "2023-05-12 09:44:00,023 - INFO -  50171 38152 122359.000   50   75 173143.000 118392.908  31.6%  27.9   85s\n"
     ]
    },
    {
     "name": "stdout",
     "output_type": "stream",
     "text": [
      " 52187 38928 infeasible   93      173143.000 118401.178  31.6%  29.0   99s\n"
     ]
    },
    {
     "name": "stderr",
     "output_type": "stream",
     "text": [
      "2023-05-12 09:44:13,676 - INFO -  52187 38928 infeasible   93      173143.000 118401.178  31.6%  29.0   99s\n"
     ]
    },
    {
     "name": "stdout",
     "output_type": "stream",
     "text": [
      " 52248 38928 121772.335   49   97 173143.000 118401.178  31.6%  29.0  100s\n"
     ]
    },
    {
     "name": "stderr",
     "output_type": "stream",
     "text": [
      "2023-05-12 09:44:14,652 - INFO -  52248 38928 121772.335   49   97 173143.000 118401.178  31.6%  29.0  100s\n"
     ]
    },
    {
     "name": "stdout",
     "output_type": "stream",
     "text": [
      " 53557 40146     cutoff   78      173143.000 118401.178  31.6%  29.7  109s\n"
     ]
    },
    {
     "name": "stderr",
     "output_type": "stream",
     "text": [
      "2023-05-12 09:44:23,637 - INFO -  53557 40146     cutoff   78      173143.000 118401.178  31.6%  29.7  109s\n"
     ]
    },
    {
     "name": "stdout",
     "output_type": "stream",
     "text": [
      " 53951 40985 119948.233   42   98 173143.000 118401.178  31.6%  29.9  113s\n"
     ]
    },
    {
     "name": "stderr",
     "output_type": "stream",
     "text": [
      "2023-05-12 09:44:27,108 - INFO -  53951 40985 119948.233   42   98 173143.000 118401.178  31.6%  29.9  113s\n"
     ]
    },
    {
     "name": "stdout",
     "output_type": "stream",
     "text": [
      " 56414 42677 infeasible  109      173143.000 118410.962  31.6%  31.1  117s\n"
     ]
    },
    {
     "name": "stderr",
     "output_type": "stream",
     "text": [
      "2023-05-12 09:44:31,200 - INFO -  56414 42677 infeasible  109      173143.000 118410.962  31.6%  31.1  117s\n"
     ]
    },
    {
     "name": "stdout",
     "output_type": "stream",
     "text": [
      " 58810 44626     cutoff   76      173143.000 118417.790  31.6%  32.4  121s\n"
     ]
    },
    {
     "name": "stderr",
     "output_type": "stream",
     "text": [
      "2023-05-12 09:44:35,815 - INFO -  58810 44626     cutoff   76      173143.000 118417.790  31.6%  32.4  121s\n"
     ]
    },
    {
     "name": "stdout",
     "output_type": "stream",
     "text": [
      " 61641 46901 153304.000   50   61 173143.000 118427.565  31.6%  33.6  126s\n"
     ]
    },
    {
     "name": "stderr",
     "output_type": "stream",
     "text": [
      "2023-05-12 09:44:40,983 - INFO -  61641 46901 153304.000   50   61 173143.000 118427.565  31.6%  33.6  126s\n"
     ]
    },
    {
     "name": "stdout",
     "output_type": "stream",
     "text": [
      " 63320 47904 155186.000   80   45 173143.000 118445.505  31.6%  34.1  130s\n"
     ]
    },
    {
     "name": "stderr",
     "output_type": "stream",
     "text": [
      "2023-05-12 09:44:44,180 - INFO -  63320 47904 155186.000   80   45 173143.000 118445.505  31.6%  34.1  130s\n"
     ]
    },
    {
     "name": "stdout",
     "output_type": "stream",
     "text": [
      " 66275 50051 123572.313   41   63 173143.000 118451.928  31.6%  35.3  135s\n"
     ]
    },
    {
     "name": "stderr",
     "output_type": "stream",
     "text": [
      "2023-05-12 09:44:49,492 - INFO -  66275 50051 123572.313   41   63 173143.000 118451.928  31.6%  35.3  135s\n"
     ]
    },
    {
     "name": "stdout",
     "output_type": "stream",
     "text": [
      " 69368 52194 123436.898   42  140 173143.000 118471.137  31.6%  36.3  141s\n"
     ]
    },
    {
     "name": "stderr",
     "output_type": "stream",
     "text": [
      "2023-05-12 09:44:55,731 - INFO -  69368 52194 123436.898   42  140 173143.000 118471.137  31.6%  36.3  141s\n"
     ]
    },
    {
     "name": "stdout",
     "output_type": "stream",
     "text": [
      " 72119 54014 122276.580   54  119 173143.000 118484.989  31.6%  37.6  147s\n"
     ]
    },
    {
     "name": "stderr",
     "output_type": "stream",
     "text": [
      "2023-05-12 09:45:01,738 - INFO -  72119 54014 122276.580   54  119 173143.000 118484.989  31.6%  37.6  147s\n"
     ]
    },
    {
     "name": "stdout",
     "output_type": "stream",
     "text": [
      " 73310 54786 149440.352   72   93 173143.000 118485.563  31.6%  38.1  150s\n"
     ]
    },
    {
     "name": "stderr",
     "output_type": "stream",
     "text": [
      "2023-05-12 09:45:04,592 - INFO -  73310 54786 149440.352   72   93 173143.000 118485.563  31.6%  38.1  150s\n"
     ]
    },
    {
     "name": "stdout",
     "output_type": "stream",
     "text": [
      " 75736 56457 123092.834   42  104 173143.000 118486.212  31.6%  39.0  157s\n"
     ]
    },
    {
     "name": "stderr",
     "output_type": "stream",
     "text": [
      "2023-05-12 09:45:11,047 - INFO -  75736 56457 123092.834   42  104 173143.000 118486.212  31.6%  39.0  157s\n"
     ]
    },
    {
     "name": "stdout",
     "output_type": "stream",
     "text": [
      " 77055 57247 infeasible   74      173143.000 118486.212  31.6%  39.5  160s\n"
     ]
    },
    {
     "name": "stderr",
     "output_type": "stream",
     "text": [
      "2023-05-12 09:45:14,514 - INFO -  77055 57247 infeasible   74      173143.000 118486.212  31.6%  39.5  160s\n"
     ]
    },
    {
     "name": "stdout",
     "output_type": "stream",
     "text": [
      " 79650 59417 128258.114   48   99 173143.000 118532.515  31.5%  40.5  165s\n"
     ]
    },
    {
     "name": "stderr",
     "output_type": "stream",
     "text": [
      "2023-05-12 09:45:20,008 - INFO -  79650 59417 128258.114   48   99 173143.000 118532.515  31.5%  40.5  165s\n"
     ]
    },
    {
     "name": "stdout",
     "output_type": "stream",
     "text": [
      " 82143 60450 132189.000   68  131 173143.000 118535.263  31.5%  41.0  170s\n"
     ]
    },
    {
     "name": "stderr",
     "output_type": "stream",
     "text": [
      "2023-05-12 09:45:24,194 - INFO -  82143 60450 132189.000   68  131 173143.000 118535.263  31.5%  41.0  170s\n"
     ]
    },
    {
     "name": "stdout",
     "output_type": "stream",
     "text": [
      " 83940 61983 infeasible   87      173143.000 118545.833  31.5%  41.8  176s\n"
     ]
    },
    {
     "name": "stderr",
     "output_type": "stream",
     "text": [
      "2023-05-12 09:45:30,481 - INFO -  83940 61983 infeasible   87      173143.000 118545.833  31.5%  41.8  176s\n"
     ]
    },
    {
     "name": "stdout",
     "output_type": "stream",
     "text": [
      " 87021 63848 infeasible   98      173143.000 118558.696  31.5%  42.8  182s\n"
     ]
    },
    {
     "name": "stderr",
     "output_type": "stream",
     "text": [
      "2023-05-12 09:45:36,299 - INFO -  87021 63848 infeasible   98      173143.000 118558.696  31.5%  42.8  182s\n"
     ]
    },
    {
     "name": "stdout",
     "output_type": "stream",
     "text": [
      " 88548 64820 127379.787   57   95 173143.000 118569.308  31.5%  43.5  185s\n"
     ]
    },
    {
     "name": "stderr",
     "output_type": "stream",
     "text": [
      "2023-05-12 09:45:39,513 - INFO -  88548 64820 127379.787   57   95 173143.000 118569.308  31.5%  43.5  185s\n"
     ]
    },
    {
     "name": "stdout",
     "output_type": "stream",
     "text": [
      " 91452 66415 135577.557   74   73 173143.000 118615.588  31.5%  44.6  191s\n"
     ]
    },
    {
     "name": "stderr",
     "output_type": "stream",
     "text": [
      "2023-05-12 09:45:45,976 - INFO -  91452 66415 135577.557   74   73 173143.000 118615.588  31.5%  44.6  191s\n"
     ]
    },
    {
     "name": "stdout",
     "output_type": "stream",
     "text": [
      " 92606 67228 133071.404   49   44 173143.000 118632.696  31.5%  45.2  195s\n"
     ]
    },
    {
     "name": "stderr",
     "output_type": "stream",
     "text": [
      "2023-05-12 09:45:49,287 - INFO -  92606 67228 133071.404   49   44 173143.000 118632.696  31.5%  45.2  195s\n"
     ]
    },
    {
     "name": "stdout",
     "output_type": "stream",
     "text": [
      " 93999 67243 143560.693   75   88 173143.000 118642.679  31.5%  45.7  200s\n"
     ]
    },
    {
     "name": "stderr",
     "output_type": "stream",
     "text": [
      "2023-05-12 09:45:54,168 - INFO -  93999 67243 143560.693   75   88 173143.000 118642.679  31.5%  45.7  200s\n"
     ]
    },
    {
     "name": "stdout",
     "output_type": "stream",
     "text": [
      " 94010 67250 128930.098   69   88 173143.000 118642.679  31.5%  45.7  205s\n"
     ]
    },
    {
     "name": "stderr",
     "output_type": "stream",
     "text": [
      "2023-05-12 09:45:59,131 - INFO -  94010 67250 128930.098   69   88 173143.000 118642.679  31.5%  45.7  205s\n"
     ]
    },
    {
     "name": "stdout",
     "output_type": "stream",
     "text": [
      " 94014 67258 120257.632   28   80 173143.000 118809.133  31.4%  45.8  210s\n"
     ]
    },
    {
     "name": "stderr",
     "output_type": "stream",
     "text": [
      "2023-05-12 09:46:04,890 - INFO -  94014 67258 120257.632   28   80 173143.000 118809.133  31.4%  45.8  210s\n"
     ]
    },
    {
     "name": "stdout",
     "output_type": "stream",
     "text": [
      " 94041 67290 126944.441   31   53 173143.000 119491.695  31.0%  45.8  217s\n"
     ]
    },
    {
     "name": "stderr",
     "output_type": "stream",
     "text": [
      "2023-05-12 09:46:11,895 - INFO -  94041 67290 126944.441   31   53 173143.000 119491.695  31.0%  45.8  217s\n"
     ]
    },
    {
     "name": "stdout",
     "output_type": "stream",
     "text": [
      " 94089 67318 126990.613   32   48 173143.000 119493.930  31.0%  45.8  220s\n"
     ]
    },
    {
     "name": "stderr",
     "output_type": "stream",
     "text": [
      "2023-05-12 09:46:14,082 - INFO -  94089 67318 126990.613   32   48 173143.000 119493.930  31.0%  45.8  220s\n"
     ]
    },
    {
     "name": "stdout",
     "output_type": "stream",
     "text": [
      " 94176 67386 127088.755   34   31 173143.000 119635.640  30.9%  45.8  226s\n"
     ]
    },
    {
     "name": "stderr",
     "output_type": "stream",
     "text": [
      "2023-05-12 09:46:20,832 - INFO -  94176 67386 127088.755   34   31 173143.000 119635.640  30.9%  45.8  226s\n"
     ]
    },
    {
     "name": "stdout",
     "output_type": "stream",
     "text": [
      " 94251 67424 132297.088   36   60 173143.000 119635.640  30.9%  45.8  237s\n"
     ]
    },
    {
     "name": "stderr",
     "output_type": "stream",
     "text": [
      "2023-05-12 09:46:31,617 - INFO -  94251 67424 132297.088   36   60 173143.000 119635.640  30.9%  45.8  237s\n"
     ]
    },
    {
     "name": "stdout",
     "output_type": "stream",
     "text": [
      " 94481 67589 128448.465   42   38 173143.000 119635.640  30.9%  45.8  240s\n"
     ]
    },
    {
     "name": "stderr",
     "output_type": "stream",
     "text": [
      "2023-05-12 09:46:34,703 - INFO -  94481 67589 128448.465   42   38 173143.000 119635.640  30.9%  45.8  240s\n"
     ]
    },
    {
     "name": "stdout",
     "output_type": "stream",
     "text": [
      " 95957 68514 130478.264   88   42 173143.000 119679.136  30.9%  45.8  245s\n"
     ]
    },
    {
     "name": "stderr",
     "output_type": "stream",
     "text": [
      "2023-05-12 09:46:39,064 - INFO -  95957 68514 130478.264   88   42 173143.000 119679.136  30.9%  45.8  245s\n"
     ]
    },
    {
     "name": "stdout",
     "output_type": "stream",
     "text": [
      " 97468 69161 123900.962   52   46 173143.000 119679.136  30.9%  45.9  253s\n"
     ]
    },
    {
     "name": "stderr",
     "output_type": "stream",
     "text": [
      "2023-05-12 09:46:47,852 - INFO -  97468 69161 123900.962   52   46 173143.000 119679.136  30.9%  45.9  253s\n"
     ]
    },
    {
     "name": "stdout",
     "output_type": "stream",
     "text": [
      " 97582 69389 123900.962   52   99 173143.000 119679.136  30.9%  45.9  256s\n"
     ]
    },
    {
     "name": "stderr",
     "output_type": "stream",
     "text": [
      "2023-05-12 09:46:50,506 - INFO -  97582 69389 123900.962   52   99 173143.000 119679.136  30.9%  45.9  256s\n"
     ]
    },
    {
     "name": "stdout",
     "output_type": "stream",
     "text": [
      " 98891 70120 124825.438   65   88 173143.000 119679.136  30.9%  46.1  260s\n"
     ]
    },
    {
     "name": "stderr",
     "output_type": "stream",
     "text": [
      "2023-05-12 09:46:54,809 - INFO -  98891 70120 124825.438   65   88 173143.000 119679.136  30.9%  46.1  260s\n"
     ]
    },
    {
     "name": "stdout",
     "output_type": "stream",
     "text": [
      " 100643 71034 147398.625   77   96 173143.000 119679.136  30.9%  46.4  266s\n"
     ]
    },
    {
     "name": "stderr",
     "output_type": "stream",
     "text": [
      "2023-05-12 09:47:00,884 - INFO -  100643 71034 147398.625   77   96 173143.000 119679.136  30.9%  46.4  266s\n"
     ]
    },
    {
     "name": "stdout",
     "output_type": "stream",
     "text": [
      " 101959 71660 128464.326   54   70 173143.000 119801.923  30.8%  46.6  270s\n"
     ]
    },
    {
     "name": "stderr",
     "output_type": "stream",
     "text": [
      "2023-05-12 09:47:04,719 - INFO -  101959 71660 128464.326   54   70 173143.000 119801.923  30.8%  46.6  270s\n"
     ]
    },
    {
     "name": "stdout",
     "output_type": "stream",
     "text": [
      " 103293 72393 155679.888   88   68 173143.000 119801.923  30.8%  46.8  275s\n"
     ]
    },
    {
     "name": "stderr",
     "output_type": "stream",
     "text": [
      "2023-05-12 09:47:09,530 - INFO -  103293 72393 155679.888   88   68 173143.000 119801.923  30.8%  46.8  275s\n"
     ]
    },
    {
     "name": "stdout",
     "output_type": "stream",
     "text": [
      " 104778 72998 122169.538   39   81 173143.000 119801.923  30.8%  46.9  280s\n"
     ]
    },
    {
     "name": "stderr",
     "output_type": "stream",
     "text": [
      "2023-05-12 09:47:14,048 - INFO -  104778 72998 122169.538   39   81 173143.000 119801.923  30.8%  46.9  280s\n"
     ]
    },
    {
     "name": "stdout",
     "output_type": "stream",
     "text": [
      " 106197 73897 120451.346   37   66 173143.000 119851.966  30.8%  47.2  285s\n"
     ]
    },
    {
     "name": "stderr",
     "output_type": "stream",
     "text": [
      "2023-05-12 09:47:19,367 - INFO -  106197 73897 120451.346   37   66 173143.000 119851.966  30.8%  47.2  285s\n"
     ]
    },
    {
     "name": "stdout",
     "output_type": "stream",
     "text": [
      " 108409 74917 120961.486   58   75 173143.000 119851.966  30.8%  47.5  290s\n"
     ]
    },
    {
     "name": "stderr",
     "output_type": "stream",
     "text": [
      "2023-05-12 09:47:24,969 - INFO -  108409 74917 120961.486   58   75 173143.000 119851.966  30.8%  47.5  290s\n"
     ]
    },
    {
     "name": "stdout",
     "output_type": "stream",
     "text": [
      " 110624 75944 151380.387   83   66 173143.000 119856.557  30.8%  47.8  297s\n"
     ]
    },
    {
     "name": "stderr",
     "output_type": "stream",
     "text": [
      "2023-05-12 09:47:31,600 - INFO -  110624 75944 151380.387   83   66 173143.000 119856.557  30.8%  47.8  297s\n"
     ]
    },
    {
     "name": "stdout",
     "output_type": "stream",
     "text": [
      " 111657 76496 infeasible   97      173143.000 119856.557  30.8%  48.1  302s\n"
     ]
    },
    {
     "name": "stderr",
     "output_type": "stream",
     "text": [
      "2023-05-12 09:47:36,071 - INFO -  111657 76496 infeasible   97      173143.000 119856.557  30.8%  48.1  302s\n"
     ]
    },
    {
     "name": "stdout",
     "output_type": "stream",
     "text": [
      " 112836 76197 120745.609   56   82 173143.000 119856.557  30.8%  48.2  312s\n"
     ]
    },
    {
     "name": "stderr",
     "output_type": "stream",
     "text": [
      "2023-05-12 09:47:46,054 - INFO -  112836 76197 120745.609   56   82 173143.000 119856.557  30.8%  48.2  312s\n"
     ]
    },
    {
     "name": "stdout",
     "output_type": "stream",
     "text": [
      " 112982 77153 120947.842   57   89 173143.000 119856.557  30.8%  48.3  316s\n"
     ]
    },
    {
     "name": "stderr",
     "output_type": "stream",
     "text": [
      "2023-05-12 09:47:50,489 - INFO -  112982 77153 120947.842   57   89 173143.000 119856.557  30.8%  48.3  316s\n"
     ]
    },
    {
     "name": "stdout",
     "output_type": "stream",
     "text": [
      " 115395 78297 122216.972   60  100 173143.000 119857.394  30.8%  48.7  323s\n"
     ]
    },
    {
     "name": "stderr",
     "output_type": "stream",
     "text": [
      "2023-05-12 09:47:57,221 - INFO -  115395 78297 122216.972   60  100 173143.000 119857.394  30.8%  48.7  323s\n"
     ]
    },
    {
     "name": "stdout",
     "output_type": "stream",
     "text": [
      " 116734 79030 121670.185   65   81 173143.000 119859.257  30.8%  49.0  327s\n"
     ]
    },
    {
     "name": "stderr",
     "output_type": "stream",
     "text": [
      "2023-05-12 09:48:01,594 - INFO -  116734 79030 121670.185   65   81 173143.000 119859.257  30.8%  49.0  327s\n"
     ]
    },
    {
     "name": "stdout",
     "output_type": "stream",
     "text": [
      " 118229 79579 133491.095   94   76 173143.000 119859.257  30.8%  49.2  331s\n"
     ]
    },
    {
     "name": "stderr",
     "output_type": "stream",
     "text": [
      "2023-05-12 09:48:05,934 - INFO -  118229 79579 133491.095   94   76 173143.000 119859.257  30.8%  49.2  331s\n"
     ]
    },
    {
     "name": "stdout",
     "output_type": "stream",
     "text": [
      " 119481 80286 120919.066   45   97 173143.000 119859.257  30.8%  49.5  335s\n"
     ]
    },
    {
     "name": "stderr",
     "output_type": "stream",
     "text": [
      "2023-05-12 09:48:09,221 - INFO -  119481 80286 120919.066   45   97 173143.000 119859.257  30.8%  49.5  335s\n"
     ]
    },
    {
     "name": "stdout",
     "output_type": "stream",
     "text": [
      " 122628 81656 122565.377   53   66 173143.000 119859.257  30.8%  49.8  345s\n"
     ]
    },
    {
     "name": "stderr",
     "output_type": "stream",
     "text": [
      "2023-05-12 09:48:19,051 - INFO -  122628 81656 122565.377   53   66 173143.000 119859.257  30.8%  49.8  345s\n"
     ]
    },
    {
     "name": "stdout",
     "output_type": "stream",
     "text": [
      " 125818 82671 125515.469   76  100 173143.000 119866.453  30.8%  50.1  353s\n"
     ]
    },
    {
     "name": "stderr",
     "output_type": "stream",
     "text": [
      "2023-05-12 09:48:27,975 - INFO -  125818 82671 125515.469   76  100 173143.000 119866.453  30.8%  50.1  353s\n"
     ]
    },
    {
     "name": "stdout",
     "output_type": "stream",
     "text": [
      " 127454 83692 122758.894   59   47 173143.000 119867.469  30.8%  50.3  357s\n"
     ]
    },
    {
     "name": "stderr",
     "output_type": "stream",
     "text": [
      "2023-05-12 09:48:31,420 - INFO -  127454 83692 122758.894   59   47 173143.000 119867.469  30.8%  50.3  357s\n"
     ]
    },
    {
     "name": "stdout",
     "output_type": "stream",
     "text": [
      " 129469 84039 129391.000   96   34 173143.000 119881.494  30.8%  50.5  361s\n"
     ]
    },
    {
     "name": "stderr",
     "output_type": "stream",
     "text": [
      "2023-05-12 09:48:35,343 - INFO -  129469 84039 129391.000   96   34 173143.000 119881.494  30.8%  50.5  361s\n"
     ]
    },
    {
     "name": "stdout",
     "output_type": "stream",
     "text": [
      " 131014 84608 143927.534   77   77 173143.000 119929.605  30.7%  50.6  365s\n"
     ]
    },
    {
     "name": "stderr",
     "output_type": "stream",
     "text": [
      "2023-05-12 09:48:39,885 - INFO -  131014 84608 143927.534   77   77 173143.000 119929.605  30.7%  50.6  365s\n"
     ]
    },
    {
     "name": "stdout",
     "output_type": "stream",
     "text": [
      " 132769 85356 120919.066   50  102 173143.000 119949.569  30.7%  50.8  371s\n"
     ]
    },
    {
     "name": "stderr",
     "output_type": "stream",
     "text": [
      "2023-05-12 09:48:45,124 - INFO -  132769 85356 120919.066   50  102 173143.000 119949.569  30.7%  50.8  371s\n"
     ]
    },
    {
     "name": "stdout",
     "output_type": "stream",
     "text": [
      " 134595 86321 123913.280  102   16 173143.000 119960.896  30.7%  51.1  376s\n"
     ]
    },
    {
     "name": "stderr",
     "output_type": "stream",
     "text": [
      "2023-05-12 09:48:50,466 - INFO -  134595 86321 123913.280  102   16 173143.000 119960.896  30.7%  51.1  376s\n"
     ]
    },
    {
     "name": "stdout",
     "output_type": "stream",
     "text": [
      " 136614 87076 127197.199   85   71 173143.000 119996.215  30.7%  51.5  382s\n"
     ]
    },
    {
     "name": "stderr",
     "output_type": "stream",
     "text": [
      "2023-05-12 09:48:56,454 - INFO -  136614 87076 127197.199   85   71 173143.000 119996.215  30.7%  51.5  382s\n"
     ]
    },
    {
     "name": "stdout",
     "output_type": "stream",
     "text": [
      " 138548 88058     cutoff   75      173143.000 119998.960  30.7%  51.7  387s\n"
     ]
    },
    {
     "name": "stderr",
     "output_type": "stream",
     "text": [
      "2023-05-12 09:49:01,659 - INFO -  138548 88058     cutoff   75      173143.000 119998.960  30.7%  51.7  387s\n"
     ]
    },
    {
     "name": "stdout",
     "output_type": "stream",
     "text": [
      " 140707 88977 infeasible  105      173143.000 120010.714  30.7%  52.0  393s\n"
     ]
    },
    {
     "name": "stderr",
     "output_type": "stream",
     "text": [
      "2023-05-12 09:49:07,583 - INFO -  140707 88977 infeasible  105      173143.000 120010.714  30.7%  52.0  393s\n"
     ]
    },
    {
     "name": "stdout",
     "output_type": "stream",
     "text": [
      " 142861 89826 129375.544   59   82 173143.000 120016.524  30.7%  52.2  398s\n"
     ]
    },
    {
     "name": "stderr",
     "output_type": "stream",
     "text": [
      "2023-05-12 09:49:12,776 - INFO -  142861 89826 129375.544   59   82 173143.000 120016.524  30.7%  52.2  398s\n"
     ]
    },
    {
     "name": "stdout",
     "output_type": "stream",
     "text": [
      " 144994 90631     cutoff  115      173143.000 120031.608  30.7%  52.4  405s\n"
     ]
    },
    {
     "name": "stderr",
     "output_type": "stream",
     "text": [
      "2023-05-12 09:49:19,361 - INFO -  144994 90631     cutoff  115      173143.000 120031.608  30.7%  52.4  405s\n"
     ]
    },
    {
     "name": "stdout",
     "output_type": "stream",
     "text": [
      " 147090 91514 129006.157   79   89 173143.000 120035.250  30.7%  52.7  410s\n"
     ]
    },
    {
     "name": "stderr",
     "output_type": "stream",
     "text": [
      "2023-05-12 09:49:24,382 - INFO -  147090 91514 129006.157   79   89 173143.000 120035.250  30.7%  52.7  410s\n"
     ]
    },
    {
     "name": "stdout",
     "output_type": "stream",
     "text": [
      " 149144 91290 129149.365   66   99 173143.000 120049.632  30.7%  53.1  423s\n"
     ]
    },
    {
     "name": "stderr",
     "output_type": "stream",
     "text": [
      "2023-05-12 09:49:37,788 - INFO -  149144 91290 129149.365   66   99 173143.000 120049.632  30.7%  53.1  423s\n"
     ]
    },
    {
     "name": "stdout",
     "output_type": "stream",
     "text": [
      " 149930 92747 130888.476   65   83 173143.000 120050.442  30.7%  53.2  431s\n"
     ]
    },
    {
     "name": "stderr",
     "output_type": "stream",
     "text": [
      "2023-05-12 09:49:45,980 - INFO -  149930 92747 130888.476   65   83 173143.000 120050.442  30.7%  53.2  431s\n"
     ]
    },
    {
     "name": "stdout",
     "output_type": "stream",
     "text": [
      " 152416 93582 127789.681   67   82 173143.000 120052.428  30.7%  53.4  440s\n"
     ]
    },
    {
     "name": "stderr",
     "output_type": "stream",
     "text": [
      "2023-05-12 09:49:54,267 - INFO -  152416 93582 127789.681   67   82 173143.000 120052.428  30.7%  53.4  440s\n"
     ]
    },
    {
     "name": "stdout",
     "output_type": "stream",
     "text": [
      " 154753 94605 151001.756   94   24 173143.000 120058.121  30.7%  53.9  447s\n"
     ]
    },
    {
     "name": "stderr",
     "output_type": "stream",
     "text": [
      "2023-05-12 09:50:01,878 - INFO -  154753 94605 151001.756   94   24 173143.000 120058.121  30.7%  53.9  447s\n"
     ]
    },
    {
     "name": "stdout",
     "output_type": "stream",
     "text": [
      " 157237 95473 infeasible  122      173143.000 120074.319  30.7%  54.3  456s\n"
     ]
    },
    {
     "name": "stderr",
     "output_type": "stream",
     "text": [
      "2023-05-12 09:50:10,190 - INFO -  157237 95473 infeasible  122      173143.000 120074.319  30.7%  54.3  456s\n"
     ]
    },
    {
     "name": "stdout",
     "output_type": "stream",
     "text": [
      " 159829 96106 154368.487   95   84 173143.000 120104.123  30.6%  54.5  463s\n"
     ]
    },
    {
     "name": "stderr",
     "output_type": "stream",
     "text": [
      "2023-05-12 09:50:17,525 - INFO -  159829 96106 154368.487   95   84 173143.000 120104.123  30.6%  54.5  463s\n"
     ]
    },
    {
     "name": "stdout",
     "output_type": "stream",
     "text": [
      " 162486 96549 140671.353   81   82 173143.000 120132.058  30.6%  54.8  471s\n"
     ]
    },
    {
     "name": "stderr",
     "output_type": "stream",
     "text": [
      "2023-05-12 09:50:25,457 - INFO -  162486 96549 140671.353   81   82 173143.000 120132.058  30.6%  54.8  471s\n"
     ]
    },
    {
     "name": "stdout",
     "output_type": "stream",
     "text": [
      " 164389 97598 124203.394   80   50 173143.000 120139.535  30.6%  55.3  478s\n"
     ]
    },
    {
     "name": "stderr",
     "output_type": "stream",
     "text": [
      "2023-05-12 09:50:32,877 - INFO -  164389 97598 124203.394   80   50 173143.000 120139.535  30.6%  55.3  478s\n"
     ]
    },
    {
     "name": "stdout",
     "output_type": "stream",
     "text": [
      " 166590 98525 125593.648   71  121 173143.000 120151.139  30.6%  55.7  486s\n"
     ]
    },
    {
     "name": "stderr",
     "output_type": "stream",
     "text": [
      "2023-05-12 09:50:40,355 - INFO -  166590 98525 125593.648   71  121 173143.000 120151.139  30.6%  55.7  486s\n"
     ]
    },
    {
     "name": "stdout",
     "output_type": "stream",
     "text": [
      " 168737 99344 124966.257   61   92 173143.000 120156.093  30.6%  56.1  494s\n"
     ]
    },
    {
     "name": "stderr",
     "output_type": "stream",
     "text": [
      "2023-05-12 09:50:48,827 - INFO -  168737 99344 124966.257   61   92 173143.000 120156.093  30.6%  56.1  494s\n"
     ]
    },
    {
     "name": "stdout",
     "output_type": "stream",
     "text": [
      " 170931 100048     cutoff   95      173143.000 120169.530  30.6%  56.5  500s\n"
     ]
    },
    {
     "name": "stderr",
     "output_type": "stream",
     "text": [
      "2023-05-12 09:50:55,004 - INFO -  170931 100048     cutoff   95      173143.000 120169.530  30.6%  56.5  500s\n"
     ]
    },
    {
     "name": "stdout",
     "output_type": "stream",
     "text": [
      " 172794 99495 128318.315   70   83 173143.000 120175.848  30.6%  57.0  533s\n"
     ]
    },
    {
     "name": "stderr",
     "output_type": "stream",
     "text": [
      "2023-05-12 09:51:27,142 - INFO -  172794 99495 128318.315   70   83 173143.000 120175.848  30.6%  57.0  533s\n"
     ]
    },
    {
     "name": "stdout",
     "output_type": "stream",
     "text": [
      " 172891 100823 128431.394   71  102 173143.000 120178.607  30.6%  57.1  542s\n"
     ]
    },
    {
     "name": "stderr",
     "output_type": "stream",
     "text": [
      "2023-05-12 09:51:36,654 - INFO -  172891 100823 128431.394   71  102 173143.000 120178.607  30.6%  57.1  542s\n"
     ]
    },
    {
     "name": "stdout",
     "output_type": "stream",
     "text": [
      " 174930 101404 147055.432   79   94 173143.000 120189.777  30.6%  57.4  552s\n"
     ]
    },
    {
     "name": "stderr",
     "output_type": "stream",
     "text": [
      "2023-05-12 09:51:46,411 - INFO -  174930 101404 147055.432   79   94 173143.000 120189.777  30.6%  57.4  552s\n"
     ]
    },
    {
     "name": "stdout",
     "output_type": "stream",
     "text": [
      " 176987 101685 129111.426   68   69 173143.000 120224.574  30.6%  57.7  568s\n"
     ]
    },
    {
     "name": "stderr",
     "output_type": "stream",
     "text": [
      "2023-05-12 09:52:02,394 - INFO -  176987 101685 129111.426   68   69 173143.000 120224.574  30.6%  57.7  568s\n"
     ]
    },
    {
     "name": "stdout",
     "output_type": "stream",
     "text": [
      " 178495 102494 148331.000   94   17 173143.000 120230.981  30.6%  57.9  578s\n"
     ]
    },
    {
     "name": "stderr",
     "output_type": "stream",
     "text": [
      "2023-05-12 09:52:12,656 - INFO -  178495 102494 148331.000   94   17 173143.000 120230.981  30.6%  57.9  578s\n"
     ]
    },
    {
     "name": "stdout",
     "output_type": "stream",
     "text": [
      " 180327 102070 infeasible   88      173143.000 120259.201  30.5%  58.3  592s\n"
     ]
    },
    {
     "name": "stderr",
     "output_type": "stream",
     "text": [
      "2023-05-12 09:52:26,407 - INFO -  180327 102070 infeasible   88      173143.000 120259.201  30.5%  58.3  592s\n"
     ]
    },
    {
     "name": "stdout",
     "output_type": "stream",
     "text": [
      " 180689 103076 123516.758   58   93 173143.000 120260.029  30.5%  58.3  596s\n"
     ]
    },
    {
     "name": "stderr",
     "output_type": "stream",
     "text": [
      "2023-05-12 09:52:30,959 - INFO -  180689 103076 123516.758   58   93 173143.000 120260.029  30.5%  58.3  596s\n"
     ]
    },
    {
     "name": "stdout",
     "output_type": "stream",
     "text": [
      " 182493 103609 infeasible  109      173143.000 120295.672  30.5%  58.7  600s\n"
     ]
    },
    {
     "name": "stderr",
     "output_type": "stream",
     "text": [
      "2023-05-12 09:52:34,036 - INFO -  182493 103609 infeasible  109      173143.000 120295.672  30.5%  58.7  600s\n"
     ]
    },
    {
     "name": "stdout",
     "output_type": "stream",
     "text": [
      "\n"
     ]
    },
    {
     "name": "stderr",
     "output_type": "stream",
     "text": [
      "2023-05-12 09:52:34,337 - INFO - \n"
     ]
    },
    {
     "name": "stdout",
     "output_type": "stream",
     "text": [
      "Cutting planes:\n"
     ]
    },
    {
     "name": "stderr",
     "output_type": "stream",
     "text": [
      "2023-05-12 09:52:34,339 - INFO - Cutting planes:\n"
     ]
    },
    {
     "name": "stdout",
     "output_type": "stream",
     "text": [
      "  Gomory: 3\n"
     ]
    },
    {
     "name": "stderr",
     "output_type": "stream",
     "text": [
      "2023-05-12 09:52:34,340 - INFO -   Gomory: 3\n"
     ]
    },
    {
     "name": "stdout",
     "output_type": "stream",
     "text": [
      "  MIR: 3\n"
     ]
    },
    {
     "name": "stderr",
     "output_type": "stream",
     "text": [
      "2023-05-12 09:52:34,341 - INFO -   MIR: 3\n"
     ]
    },
    {
     "name": "stdout",
     "output_type": "stream",
     "text": [
      "  StrongCG: 1\n"
     ]
    },
    {
     "name": "stderr",
     "output_type": "stream",
     "text": [
      "2023-05-12 09:52:34,342 - INFO -   StrongCG: 1\n"
     ]
    },
    {
     "name": "stdout",
     "output_type": "stream",
     "text": [
      "  Flow cover: 8\n"
     ]
    },
    {
     "name": "stderr",
     "output_type": "stream",
     "text": [
      "2023-05-12 09:52:34,344 - INFO -   Flow cover: 8\n"
     ]
    },
    {
     "name": "stdout",
     "output_type": "stream",
     "text": [
      "  Zero half: 2\n"
     ]
    },
    {
     "name": "stderr",
     "output_type": "stream",
     "text": [
      "2023-05-12 09:52:34,345 - INFO -   Zero half: 2\n"
     ]
    },
    {
     "name": "stdout",
     "output_type": "stream",
     "text": [
      "  Lazy constraints: 2516\n"
     ]
    },
    {
     "name": "stderr",
     "output_type": "stream",
     "text": [
      "2023-05-12 09:52:34,346 - INFO -   Lazy constraints: 2516\n"
     ]
    },
    {
     "name": "stdout",
     "output_type": "stream",
     "text": [
      "\n"
     ]
    },
    {
     "name": "stderr",
     "output_type": "stream",
     "text": [
      "2023-05-12 09:52:34,348 - INFO - \n"
     ]
    },
    {
     "name": "stdout",
     "output_type": "stream",
     "text": [
      "Explored 184089 nodes (10855820 simplex iterations) in 600.32 seconds\n"
     ]
    },
    {
     "name": "stderr",
     "output_type": "stream",
     "text": [
      "2023-05-12 09:52:34,349 - INFO - Explored 184089 nodes (10855820 simplex iterations) in 600.32 seconds\n"
     ]
    },
    {
     "name": "stdout",
     "output_type": "stream",
     "text": [
      "Thread count was 24 (of 48 available processors)\n"
     ]
    },
    {
     "name": "stderr",
     "output_type": "stream",
     "text": [
      "2023-05-12 09:52:34,350 - INFO - Thread count was 24 (of 48 available processors)\n"
     ]
    },
    {
     "name": "stdout",
     "output_type": "stream",
     "text": [
      "\n"
     ]
    },
    {
     "name": "stderr",
     "output_type": "stream",
     "text": [
      "2023-05-12 09:52:34,351 - INFO - \n"
     ]
    },
    {
     "name": "stdout",
     "output_type": "stream",
     "text": [
      "Solution count 2: 173143 215703 \n"
     ]
    },
    {
     "name": "stderr",
     "output_type": "stream",
     "text": [
      "2023-05-12 09:52:34,353 - INFO - Solution count 2: 173143 215703 \n"
     ]
    },
    {
     "name": "stdout",
     "output_type": "stream",
     "text": [
      "\n"
     ]
    },
    {
     "name": "stderr",
     "output_type": "stream",
     "text": [
      "2023-05-12 09:52:34,354 - INFO - \n"
     ]
    },
    {
     "name": "stdout",
     "output_type": "stream",
     "text": [
      "Time limit reached\n"
     ]
    },
    {
     "name": "stderr",
     "output_type": "stream",
     "text": [
      "2023-05-12 09:52:34,355 - INFO - Time limit reached\n"
     ]
    },
    {
     "name": "stdout",
     "output_type": "stream",
     "text": [
      "Best objective 1.731430000000e+05, best bound 1.203130000000e+05, gap 30.5124%\n"
     ]
    },
    {
     "name": "stderr",
     "output_type": "stream",
     "text": [
      "2023-05-12 09:52:34,357 - INFO - Best objective 1.731430000000e+05, best bound 1.203130000000e+05, gap 30.5124%\n"
     ]
    },
    {
     "name": "stdout",
     "output_type": "stream",
     "text": [
      "\n"
     ]
    },
    {
     "name": "stderr",
     "output_type": "stream",
     "text": [
      "2023-05-12 09:52:34,358 - INFO - \n"
     ]
    },
    {
     "name": "stdout",
     "output_type": "stream",
     "text": [
      "User-callback calls 404114, time in user-callback 52.71 sec\n"
     ]
    },
    {
     "name": "stderr",
     "output_type": "stream",
     "text": [
      "2023-05-12 09:52:34,359 - INFO - User-callback calls 404114, time in user-callback 52.71 sec\n"
     ]
    },
    {
     "name": "stdout",
     "output_type": "stream",
     "text": [
      "{'Bounds': {'D200': {'ub': 134848.99999999994, 'max_soln': 104636.0}, 'D160': {'ub': 135538.0, 'max_soln': 94381.0}, 'R200': {'lb': 131464.0, 'min_soln': 189541.0}, 'R160': {'lb': 120313.0, 'min_soln': 173143.0}, 'D201': {}, 'D161': {}, 'R201': {}, 'R161': {}, 'D202': {}, 'D162': {}, 'R202': {}, 'R162': {}, 'D203': {}, 'D163': {}, 'R203': {}, 'R163': {}}}\n"
     ]
    },
    {
     "ename": "UnboundLocalError",
     "evalue": "local variable 'fn' referenced before assignment",
     "output_type": "error",
     "traceback": [
      "\u001b[1;31m---------------------------------------------------------------------------\u001b[0m",
      "\u001b[1;31mUnboundLocalError\u001b[0m                         Traceback (most recent call last)",
      "\u001b[1;32m<ipython-input-1-e425ee19360d>\u001b[0m in \u001b[0;36m<module>\u001b[1;34m\u001b[0m\n\u001b[0;32m      3\u001b[0m \u001b[0mconfig_path\u001b[0m \u001b[1;33m=\u001b[0m \u001b[1;34m\"config-LA-LogE_bvap_gradient_cuts.json\"\u001b[0m\u001b[1;33m\u001b[0m\u001b[1;33m\u001b[0m\u001b[0m\n\u001b[0;32m      4\u001b[0m \u001b[0mstate\u001b[0m \u001b[1;33m=\u001b[0m \u001b[1;34m'MS'\u001b[0m\u001b[1;33m\u001b[0m\u001b[1;33m\u001b[0m\u001b[0m\n\u001b[1;32m----> 5\u001b[1;33m \u001b[0mresult\u001b[0m \u001b[1;33m=\u001b[0m \u001b[0mmain_partisan_ordering\u001b[0m\u001b[1;33m(\u001b[0m\u001b[0mstate\u001b[0m\u001b[1;33m,\u001b[0m \u001b[0mconfig_path\u001b[0m\u001b[1;33m)\u001b[0m\u001b[1;33m\u001b[0m\u001b[1;33m\u001b[0m\u001b[0m\n\u001b[0m",
      "\u001b[1;32m~\\Desktop\\OneDrive\\Redistricting Redux\\Validi\\src\\main_partisan_ordering.py\u001b[0m in \u001b[0;36mmain_partisan_ordering\u001b[1;34m(state, config_path, summarize_and_export_results, return_bvap_vap_soln_and_bounds, load_config)\u001b[0m\n\u001b[0;32m    358\u001b[0m \u001b[1;33m\u001b[0m\u001b[0m\n\u001b[0;32m    359\u001b[0m         \u001b[1;32mif\u001b[0m \u001b[0msummarize_and_export_results\u001b[0m\u001b[1;33m:\u001b[0m\u001b[1;33m\u001b[0m\u001b[1;33m\u001b[0m\u001b[0m\n\u001b[1;32m--> 360\u001b[1;33m             \u001b[0mprint\u001b[0m\u001b[1;33m(\u001b[0m\u001b[0mfn\u001b[0m\u001b[1;33m)\u001b[0m\u001b[1;33m\u001b[0m\u001b[1;33m\u001b[0m\u001b[0m\n\u001b[0m\u001b[0;32m    361\u001b[0m \u001b[1;33m\u001b[0m\u001b[0m\n\u001b[0;32m    362\u001b[0m             \u001b[1;32mif\u001b[0m \u001b[0mobj\u001b[0m \u001b[1;33m==\u001b[0m \u001b[1;34m\"bvap_bounds\"\u001b[0m\u001b[1;33m:\u001b[0m\u001b[1;33m\u001b[0m\u001b[1;33m\u001b[0m\u001b[0m\n",
      "\u001b[1;31mUnboundLocalError\u001b[0m: local variable 'fn' referenced before assignment"
     ]
    }
   ],
   "source": [
    "from main_partisan_ordering import *\n",
    "\n",
    "config_path = \"config-LA-LogE_bvap_gradient_cuts.json\"\n",
    "state = 'MS'\n",
    "result = main_partisan_ordering(state, config_path)"
   ]
  },
  {
   "cell_type": "code",
   "execution_count": 6,
   "metadata": {},
   "outputs": [
    {
     "data": {
      "text/plain": [
       "[0, 1, 2, 3, 4, 5]"
      ]
     },
     "execution_count": 6,
     "metadata": {},
     "output_type": "execute_result"
    }
   ],
   "source": [
    "list(range(6))"
   ]
  },
  {
   "cell_type": "code",
   "execution_count": 4,
   "metadata": {},
   "outputs": [
    {
     "data": {
      "text/plain": [
       "[5, 4, 3, 2, 1, 0]"
      ]
     },
     "execution_count": 4,
     "metadata": {},
     "output_type": "execute_result"
    }
   ],
   "source": [
    "k = 6\n",
    "list(range(k-1, -1, -1))"
   ]
  },
  {
   "cell_type": "code",
   "execution_count": null,
   "metadata": {},
   "outputs": [],
   "source": [
    "import json\n",
    "import os\n",
    "import gurobipy\n",
    "import labeling\n",
    "import partisan\n",
    "\n",
    "\n",
    "# Start building your model\n",
    "m = gp.Model()\n",
    "\n",
    "# Add base constraints\n",
    "labeling.add_base_constraints(m, population, L, U, k)\n",
    "\n",
    "# Add partisan constraints with D20 ordering\n",
    "partisan.add_partisan(m, G, k, U, ordering=True)\n",
    "\n",
    "# Add threshold objective\n",
    "partisan.add_threshold_objective(m, bounds, L, k)\n",
    "\n",
    "# Load warm start\n",
    "warm_start = load_warm_start()  # Assuming this function exists and returns warm start values\n",
    "\n",
    "# Inject warm start\n",
    "inject_warm_start(m, warm_start)  # Assuming this function exists and sets the warm start values to the model\n",
    "\n",
    "# Set time limit\n",
    "m.Params.TimeLimit = 600\n",
    "\n",
    "# Load JSON file or create a new one if it doesn't exist\n",
    "bounds_path = \"../data/bounds\"\n",
    "os.makedirs(bounds_path, exist_ok=True)\n",
    "filename = f\"{bounds_path}/{state}_partisan_bounds.json\"\n",
    "if os.path.exists(filename):\n",
    "    with open(filename, 'r') as f:\n",
    "        data = json.load(f)\n",
    "else:\n",
    "    data = {\"Bounds\": {}}\n",
    "\n",
    "# List of variables\n",
    "dem_list = [m._D20, m._D16]\n",
    "rep_list = [m._R20, m._R16]\n",
    "\n",
    "def max_var(m,var,i):\n",
    "        # Set and run for MAXIMIZE\n",
    "        m.setObjective(var[i], GRB.MAXIMIZE)\n",
    "        m.update()\n",
    "        m.optimize() \n",
    "        \n",
    "        data[\"Bounds\"][var[i].VarName]['ub'] = m.ObjBound\n",
    "        data[\"Bounds\"][var[i].VarName]['max_soln']=m.ObjVal\n",
    "        m.addConstr(var[i] <= m.ObjBound)\n",
    "        m.update()\n",
    "        \n",
    "def min_var(m,var,i):\n",
    "        # Set and run for MINIMIZE\n",
    "        m.setObjective(var[i], GRB.MINIMIZE)\n",
    "        m.update()\n",
    "        m.optimize()\n",
    "       \n",
    "        data[\"Bounds\"][var[i].VarName]['lb' = m.ObjBound\n",
    "        data[\"Bounds\"][var[i].VarName]['min_soln']=m.ObjVal\n",
    "        m.addConstr(var[i] >= m.ObjBound)\n",
    "\n",
    "for i in range(k, 0, -1):  # Assuming you meant to iterate in reverse order\n",
    "    for var in dem_list:\n",
    "        max_var(m,var,i)\n",
    "            \n",
    "    for var in rep_list: \n",
    "        min_var(m,var,i)\n",
    "                                       \n",
    "for i in range(k):\n",
    "    for var in dem_list:\n",
    "        min_var(m,var,i)\n",
    "            \n",
    "    for var in rep_list: \n",
    "        max_var(m,var,i)   \n",
    "                                       \n",
    "\n",
    "# Save data to JSON file\n",
    "with open(filename, 'w') as f:\n",
    "    json.dump(data, f, indent=4)\n"
   ]
  },
  {
   "cell_type": "code",
   "execution_count": 13,
   "metadata": {},
   "outputs": [
    {
     "data": {
      "text/plain": [
       "[6, 5, 4, 3, 2, 1]"
      ]
     },
     "execution_count": 13,
     "metadata": {},
     "output_type": "execute_result"
    }
   ],
   "source": [
    "k = 6\n",
    "list(range(k, 0, -1))"
   ]
  },
  {
   "cell_type": "code",
   "execution_count": null,
   "metadata": {},
   "outputs": [],
   "source": []
  }
 ],
 "metadata": {
  "kernelspec": {
   "display_name": "Python 3",
   "language": "python",
   "name": "python3"
  },
  "language_info": {
   "codemirror_mode": {
    "name": "ipython",
    "version": 3
   },
   "file_extension": ".py",
   "mimetype": "text/x-python",
   "name": "python",
   "nbconvert_exporter": "python",
   "pygments_lexer": "ipython3",
   "version": "3.7.7"
  }
 },
 "nbformat": 4,
 "nbformat_minor": 4
}
