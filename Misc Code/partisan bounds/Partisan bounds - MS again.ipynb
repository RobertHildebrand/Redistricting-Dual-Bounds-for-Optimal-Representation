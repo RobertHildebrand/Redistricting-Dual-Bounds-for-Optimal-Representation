{
 "cells": [
  {
   "cell_type": "code",
   "execution_count": 1,
   "metadata": {},
   "outputs": [],
   "source": [
    "%load_ext autoreload\n",
    "%autoreload 2"
   ]
  },
  {
   "cell_type": "code",
   "execution_count": null,
   "metadata": {},
   "outputs": [
    {
     "name": "stdout",
     "output_type": "stream",
     "text": [
      "Reading config from config-LA-LogE_bvap_gradient_cuts.json\n",
      "Experiments to run:\n",
      "['LA_LogE_bounds_20_hours']\n",
      "In run LA_LogE_bounds_20_hours using config: {'state': 'LA', 'level': 'county', 'base': 'labeling', 'obj': 'LogEPWL_bvap_bounds', 'R': 45, 'dist_bounds': False, 'tlimit': 72000, 'fixing': False, 'contiguity': 'lcut', 'symmetry': 'none', 'extended': False, 'order': 'bvap', 'heuristic': True, 'lp': False, 'obj_order': False, 'index': 0}.\n",
      "../data/county/dual_graphs/county28.json\n",
      "\n",
      "L = 666288 , U = 814351 , k = 4\n",
      "Loading best known solution from ..\\results-ALMSLA_PWL\\MS-county-PWL-10.json\n",
      "Ordering warm start with respect to  D20\n",
      "Changed value of parameter TimeLimit to 600.0\n"
     ]
    },
    {
     "name": "stderr",
     "output_type": "stream",
     "text": [
      "2023-05-15 13:42:04,218 - INFO - Changed value of parameter TimeLimit to 600.0\n"
     ]
    },
    {
     "name": "stdout",
     "output_type": "stream",
     "text": [
      "   Prev: inf  Min: 0.0  Max: inf  Default: inf\n"
     ]
    },
    {
     "name": "stderr",
     "output_type": "stream",
     "text": [
      "2023-05-15 13:42:04,221 - INFO -    Prev: inf  Min: 0.0  Max: inf  Default: inf\n"
     ]
    },
    {
     "name": "stdout",
     "output_type": "stream",
     "text": [
      "Changed value of parameter lazyConstraints to 1\n"
     ]
    },
    {
     "name": "stderr",
     "output_type": "stream",
     "text": [
      "2023-05-15 13:42:04,223 - INFO - Changed value of parameter lazyConstraints to 1\n"
     ]
    },
    {
     "name": "stdout",
     "output_type": "stream",
     "text": [
      "   Prev: 0  Min: 0  Max: 1  Default: 0\n"
     ]
    },
    {
     "name": "stderr",
     "output_type": "stream",
     "text": [
      "2023-05-15 13:42:04,225 - INFO -    Prev: 0  Min: 0  Max: 1  Default: 0\n"
     ]
    },
    {
     "name": "stdout",
     "output_type": "stream",
     "text": [
      "Changed value of parameter Method to 3\n"
     ]
    },
    {
     "name": "stderr",
     "output_type": "stream",
     "text": [
      "2023-05-15 13:42:04,227 - INFO - Changed value of parameter Method to 3\n"
     ]
    },
    {
     "name": "stdout",
     "output_type": "stream",
     "text": [
      "   Prev: -1  Min: -1  Max: 5  Default: -1\n"
     ]
    },
    {
     "name": "stderr",
     "output_type": "stream",
     "text": [
      "2023-05-15 13:42:04,229 - INFO -    Prev: -1  Min: -1  Max: 5  Default: -1\n"
     ]
    },
    {
     "name": "stdout",
     "output_type": "stream",
     "text": [
      "Gurobi Optimizer version 9.1.2 build v9.1.2rc0 (win64)\n"
     ]
    },
    {
     "name": "stderr",
     "output_type": "stream",
     "text": [
      "2023-05-15 13:42:04,236 - INFO - Gurobi Optimizer version 9.1.2 build v9.1.2rc0 (win64)\n"
     ]
    },
    {
     "name": "stdout",
     "output_type": "stream",
     "text": [
      "Thread count: 24 physical cores, 48 logical processors, using up to 24 threads\n"
     ]
    },
    {
     "name": "stderr",
     "output_type": "stream",
     "text": [
      "2023-05-15 13:42:04,239 - INFO - Thread count: 24 physical cores, 48 logical processors, using up to 24 threads\n"
     ]
    },
    {
     "name": "stdout",
     "output_type": "stream",
     "text": [
      "Optimize a model with 125 rows, 688 columns and 2366 nonzeros\n"
     ]
    },
    {
     "name": "stderr",
     "output_type": "stream",
     "text": [
      "2023-05-15 13:42:04,241 - INFO - Optimize a model with 125 rows, 688 columns and 2366 nonzeros\n"
     ]
    },
    {
     "name": "stdout",
     "output_type": "stream",
     "text": [
      "Model fingerprint: 0xef1c4197\n"
     ]
    },
    {
     "name": "stderr",
     "output_type": "stream",
     "text": [
      "2023-05-15 13:42:04,243 - INFO - Model fingerprint: 0xef1c4197\n"
     ]
    },
    {
     "name": "stdout",
     "output_type": "stream",
     "text": [
      "Variable types: 32 continuous, 656 integer (656 binary)\n"
     ]
    },
    {
     "name": "stderr",
     "output_type": "stream",
     "text": [
      "2023-05-15 13:42:04,247 - INFO - Variable types: 32 continuous, 656 integer (656 binary)\n"
     ]
    },
    {
     "name": "stdout",
     "output_type": "stream",
     "text": [
      "Coefficient statistics:\n"
     ]
    },
    {
     "name": "stderr",
     "output_type": "stream",
     "text": [
      "2023-05-15 13:42:04,252 - INFO - Coefficient statistics:\n"
     ]
    },
    {
     "name": "stdout",
     "output_type": "stream",
     "text": [
      "  Matrix range     [1e+00, 2e+05]\n"
     ]
    },
    {
     "name": "stderr",
     "output_type": "stream",
     "text": [
      "2023-05-15 13:42:04,253 - INFO -   Matrix range     [1e+00, 2e+05]\n"
     ]
    },
    {
     "name": "stdout",
     "output_type": "stream",
     "text": [
      "  Objective range  [1e+00, 1e+00]\n"
     ]
    },
    {
     "name": "stderr",
     "output_type": "stream",
     "text": [
      "2023-05-15 13:42:04,254 - INFO -   Objective range  [1e+00, 1e+00]\n"
     ]
    },
    {
     "name": "stdout",
     "output_type": "stream",
     "text": [
      "  Bounds range     [1e+00, 8e+05]\n"
     ]
    },
    {
     "name": "stderr",
     "output_type": "stream",
     "text": [
      "2023-05-15 13:42:04,255 - INFO -   Bounds range     [1e+00, 8e+05]\n"
     ]
    },
    {
     "name": "stdout",
     "output_type": "stream",
     "text": [
      "  RHS range        [1e+00, 8e+05]\n"
     ]
    },
    {
     "name": "stderr",
     "output_type": "stream",
     "text": [
      "2023-05-15 13:42:04,256 - INFO -   RHS range        [1e+00, 8e+05]\n"
     ]
    },
    {
     "name": "stdout",
     "output_type": "stream",
     "text": [
      "\n"
     ]
    },
    {
     "name": "stderr",
     "output_type": "stream",
     "text": [
      "2023-05-15 13:42:04,257 - INFO - \n"
     ]
    },
    {
     "name": "stdout",
     "output_type": "stream",
     "text": [
      "User MIP start produced solution with objective -140787 (0.02s)\n"
     ]
    },
    {
     "name": "stderr",
     "output_type": "stream",
     "text": [
      "2023-05-15 13:42:04,264 - INFO - User MIP start produced solution with objective -140787 (0.02s)\n"
     ]
    },
    {
     "name": "stdout",
     "output_type": "stream",
     "text": [
      "Loaded user MIP start with objective -140787\n"
     ]
    },
    {
     "name": "stderr",
     "output_type": "stream",
     "text": [
      "2023-05-15 13:42:04,270 - INFO - Loaded user MIP start with objective -140787\n"
     ]
    },
    {
     "name": "stdout",
     "output_type": "stream",
     "text": [
      "\n"
     ]
    },
    {
     "name": "stderr",
     "output_type": "stream",
     "text": [
      "2023-05-15 13:42:04,271 - INFO - \n"
     ]
    },
    {
     "name": "stdout",
     "output_type": "stream",
     "text": [
      "Presolve removed 16 rows and 16 columns\n"
     ]
    },
    {
     "name": "stderr",
     "output_type": "stream",
     "text": [
      "2023-05-15 13:42:04,281 - INFO - Presolve removed 16 rows and 16 columns\n"
     ]
    },
    {
     "name": "stdout",
     "output_type": "stream",
     "text": [
      "Presolve time: 0.01s\n"
     ]
    },
    {
     "name": "stderr",
     "output_type": "stream",
     "text": [
      "2023-05-15 13:42:04,282 - INFO - Presolve time: 0.01s\n"
     ]
    },
    {
     "name": "stdout",
     "output_type": "stream",
     "text": [
      "Presolved: 109 rows, 672 columns, 2318 nonzeros\n"
     ]
    },
    {
     "name": "stderr",
     "output_type": "stream",
     "text": [
      "2023-05-15 13:42:04,283 - INFO - Presolved: 109 rows, 672 columns, 2318 nonzeros\n"
     ]
    },
    {
     "name": "stdout",
     "output_type": "stream",
     "text": [
      "Variable types: 0 continuous, 672 integer (656 binary)\n"
     ]
    },
    {
     "name": "stderr",
     "output_type": "stream",
     "text": [
      "2023-05-15 13:42:04,286 - INFO - Variable types: 0 continuous, 672 integer (656 binary)\n"
     ]
    },
    {
     "name": "stdout",
     "output_type": "stream",
     "text": [
      "\n"
     ]
    },
    {
     "name": "stderr",
     "output_type": "stream",
     "text": [
      "2023-05-15 13:42:04,288 - INFO - \n"
     ]
    },
    {
     "name": "stdout",
     "output_type": "stream",
     "text": [
      "Concurrent LP optimizer: primal simplex, dual simplex, and barrier\n"
     ]
    },
    {
     "name": "stderr",
     "output_type": "stream",
     "text": [
      "2023-05-15 13:42:04,289 - INFO - Concurrent LP optimizer: primal simplex, dual simplex, and barrier\n"
     ]
    },
    {
     "name": "stdout",
     "output_type": "stream",
     "text": [
      "Showing barrier log only...\n"
     ]
    },
    {
     "name": "stderr",
     "output_type": "stream",
     "text": [
      "2023-05-15 13:42:04,290 - INFO - Showing barrier log only...\n"
     ]
    },
    {
     "name": "stdout",
     "output_type": "stream",
     "text": [
      "\n"
     ]
    },
    {
     "name": "stderr",
     "output_type": "stream",
     "text": [
      "2023-05-15 13:42:04,291 - INFO - \n"
     ]
    },
    {
     "name": "stdout",
     "output_type": "stream",
     "text": [
      "Root barrier log...\n"
     ]
    },
    {
     "name": "stderr",
     "output_type": "stream",
     "text": [
      "2023-05-15 13:42:04,297 - INFO - Root barrier log...\n"
     ]
    },
    {
     "name": "stdout",
     "output_type": "stream",
     "text": [
      "\n"
     ]
    },
    {
     "name": "stderr",
     "output_type": "stream",
     "text": [
      "2023-05-15 13:42:04,299 - INFO - \n"
     ]
    },
    {
     "name": "stdout",
     "output_type": "stream",
     "text": [
      "Ordering time: 0.00s\n"
     ]
    },
    {
     "name": "stderr",
     "output_type": "stream",
     "text": [
      "2023-05-15 13:42:04,302 - INFO - Ordering time: 0.00s\n"
     ]
    },
    {
     "name": "stdout",
     "output_type": "stream",
     "text": [
      "\n"
     ]
    },
    {
     "name": "stderr",
     "output_type": "stream",
     "text": [
      "2023-05-15 13:42:04,305 - INFO - \n"
     ]
    },
    {
     "name": "stdout",
     "output_type": "stream",
     "text": [
      "Barrier performed 0 iterations in 0.06 seconds\n"
     ]
    },
    {
     "name": "stderr",
     "output_type": "stream",
     "text": [
      "2023-05-15 13:42:04,307 - INFO - Barrier performed 0 iterations in 0.06 seconds\n"
     ]
    },
    {
     "name": "stdout",
     "output_type": "stream",
     "text": [
      "Barrier solve interrupted - model solved by another algorithm\n"
     ]
    },
    {
     "name": "stderr",
     "output_type": "stream",
     "text": [
      "2023-05-15 13:42:04,310 - INFO - Barrier solve interrupted - model solved by another algorithm\n"
     ]
    },
    {
     "name": "stdout",
     "output_type": "stream",
     "text": [
      "\n"
     ]
    },
    {
     "name": "stderr",
     "output_type": "stream",
     "text": [
      "2023-05-15 13:42:04,312 - INFO - \n"
     ]
    },
    {
     "name": "stdout",
     "output_type": "stream",
     "text": [
      "\n"
     ]
    },
    {
     "name": "stderr",
     "output_type": "stream",
     "text": [
      "2023-05-15 13:42:04,314 - INFO - \n"
     ]
    },
    {
     "name": "stdout",
     "output_type": "stream",
     "text": [
      "Solved with primal simplex\n"
     ]
    },
    {
     "name": "stderr",
     "output_type": "stream",
     "text": [
      "2023-05-15 13:42:04,316 - INFO - Solved with primal simplex\n"
     ]
    },
    {
     "name": "stdout",
     "output_type": "stream",
     "text": [
      "\n"
     ]
    },
    {
     "name": "stderr",
     "output_type": "stream",
     "text": [
      "2023-05-15 13:42:04,318 - INFO - \n"
     ]
    },
    {
     "name": "stdout",
     "output_type": "stream",
     "text": [
      "Root relaxation: objective -2.674371e+05, 323 iterations, 0.03 seconds\n"
     ]
    },
    {
     "name": "stderr",
     "output_type": "stream",
     "text": [
      "2023-05-15 13:42:04,320 - INFO - Root relaxation: objective -2.674371e+05, 323 iterations, 0.03 seconds\n"
     ]
    },
    {
     "name": "stdout",
     "output_type": "stream",
     "text": [
      "\n"
     ]
    },
    {
     "name": "stderr",
     "output_type": "stream",
     "text": [
      "2023-05-15 13:42:04,328 - INFO - \n"
     ]
    },
    {
     "name": "stdout",
     "output_type": "stream",
     "text": [
      "    Nodes    |    Current Node    |     Objective Bounds      |     Work\n"
     ]
    },
    {
     "name": "stderr",
     "output_type": "stream",
     "text": [
      "2023-05-15 13:42:04,330 - INFO -     Nodes    |    Current Node    |     Objective Bounds      |     Work\n"
     ]
    },
    {
     "name": "stdout",
     "output_type": "stream",
     "text": [
      " Expl Unexpl |  Obj  Depth IntInf | Incumbent    BestBd   Gap | It/Node Time\n"
     ]
    },
    {
     "name": "stderr",
     "output_type": "stream",
     "text": [
      "2023-05-15 13:42:04,332 - INFO -  Expl Unexpl |  Obj  Depth IntInf | Incumbent    BestBd   Gap | It/Node Time\n"
     ]
    },
    {
     "name": "stdout",
     "output_type": "stream",
     "text": [
      "\n"
     ]
    },
    {
     "name": "stderr",
     "output_type": "stream",
     "text": [
      "2023-05-15 13:42:04,335 - INFO - \n"
     ]
    },
    {
     "name": "stdout",
     "output_type": "stream",
     "text": [
      "     0     0 -267437.10    0   26 -140787.00 -267437.10  90.0%     -    0s\n"
     ]
    },
    {
     "name": "stderr",
     "output_type": "stream",
     "text": [
      "2023-05-15 13:42:04,338 - INFO -      0     0 -267437.10    0   26 -140787.00 -267437.10  90.0%     -    0s\n"
     ]
    },
    {
     "name": "stdout",
     "output_type": "stream",
     "text": [
      "     0     0 -267418.93    0   23 -140787.00 -267418.93  89.9%     -    0s\n"
     ]
    },
    {
     "name": "stderr",
     "output_type": "stream",
     "text": [
      "2023-05-15 13:42:04,353 - INFO -      0     0 -267418.93    0   23 -140787.00 -267418.93  89.9%     -    0s\n"
     ]
    },
    {
     "name": "stdout",
     "output_type": "stream",
     "text": [
      "     0     0 -267398.91    0   28 -140787.00 -267398.91  89.9%     -    0s\n"
     ]
    },
    {
     "name": "stderr",
     "output_type": "stream",
     "text": [
      "2023-05-15 13:42:04,516 - INFO -      0     0 -267398.91    0   28 -140787.00 -267398.91  89.9%     -    0s\n"
     ]
    },
    {
     "name": "stdout",
     "output_type": "stream",
     "text": [
      "     0     0 -267298.26    0   29 -140787.00 -267298.26  89.9%     -    0s\n"
     ]
    },
    {
     "name": "stderr",
     "output_type": "stream",
     "text": [
      "2023-05-15 13:42:04,523 - INFO -      0     0 -267298.26    0   29 -140787.00 -267298.26  89.9%     -    0s\n"
     ]
    },
    {
     "name": "stdout",
     "output_type": "stream",
     "text": [
      "     0     0 -267270.80    0   30 -140787.00 -267270.80  89.8%     -    0s\n"
     ]
    },
    {
     "name": "stderr",
     "output_type": "stream",
     "text": [
      "2023-05-15 13:42:04,535 - INFO -      0     0 -267270.80    0   30 -140787.00 -267270.80  89.8%     -    0s\n"
     ]
    },
    {
     "name": "stdout",
     "output_type": "stream",
     "text": [
      "     0     0 -267268.44    0   32 -140787.00 -267268.44  89.8%     -    0s\n"
     ]
    },
    {
     "name": "stderr",
     "output_type": "stream",
     "text": [
      "2023-05-15 13:42:04,543 - INFO -      0     0 -267268.44    0   32 -140787.00 -267268.44  89.8%     -    0s\n"
     ]
    },
    {
     "name": "stdout",
     "output_type": "stream",
     "text": [
      "     0     0 -267264.93    0   32 -140787.00 -267264.93  89.8%     -    0s\n"
     ]
    },
    {
     "name": "stderr",
     "output_type": "stream",
     "text": [
      "2023-05-15 13:42:04,548 - INFO -      0     0 -267264.93    0   32 -140787.00 -267264.93  89.8%     -    0s\n"
     ]
    },
    {
     "name": "stdout",
     "output_type": "stream",
     "text": [
      "     0     0 -267256.04    0   32 -140787.00 -267256.04  89.8%     -    0s\n"
     ]
    },
    {
     "name": "stderr",
     "output_type": "stream",
     "text": [
      "2023-05-15 13:42:04,562 - INFO -      0     0 -267256.04    0   32 -140787.00 -267256.04  89.8%     -    0s\n"
     ]
    },
    {
     "name": "stdout",
     "output_type": "stream",
     "text": [
      "     0     0 -267250.43    0   34 -140787.00 -267250.43  89.8%     -    0s\n"
     ]
    },
    {
     "name": "stderr",
     "output_type": "stream",
     "text": [
      "2023-05-15 13:42:04,569 - INFO -      0     0 -267250.43    0   34 -140787.00 -267250.43  89.8%     -    0s\n"
     ]
    },
    {
     "name": "stdout",
     "output_type": "stream",
     "text": [
      "     0     0 -267243.94    0   35 -140787.00 -267243.94  89.8%     -    0s\n"
     ]
    },
    {
     "name": "stderr",
     "output_type": "stream",
     "text": [
      "2023-05-15 13:42:04,579 - INFO -      0     0 -267243.94    0   35 -140787.00 -267243.94  89.8%     -    0s\n"
     ]
    },
    {
     "name": "stdout",
     "output_type": "stream",
     "text": [
      "     0     0 -267232.87    0   37 -140787.00 -267232.87  89.8%     -    0s\n"
     ]
    },
    {
     "name": "stderr",
     "output_type": "stream",
     "text": [
      "2023-05-15 13:42:04,587 - INFO -      0     0 -267232.87    0   37 -140787.00 -267232.87  89.8%     -    0s\n"
     ]
    },
    {
     "name": "stdout",
     "output_type": "stream",
     "text": [
      "     0     0 -267230.95    0   37 -140787.00 -267230.95  89.8%     -    0s\n"
     ]
    },
    {
     "name": "stderr",
     "output_type": "stream",
     "text": [
      "2023-05-15 13:42:04,591 - INFO -      0     0 -267230.95    0   37 -140787.00 -267230.95  89.8%     -    0s\n"
     ]
    },
    {
     "name": "stdout",
     "output_type": "stream",
     "text": [
      "     0     0 -267230.56    0   39 -140787.00 -267230.56  89.8%     -    0s\n"
     ]
    },
    {
     "name": "stderr",
     "output_type": "stream",
     "text": [
      "2023-05-15 13:42:04,595 - INFO -      0     0 -267230.56    0   39 -140787.00 -267230.56  89.8%     -    0s\n"
     ]
    },
    {
     "name": "stdout",
     "output_type": "stream",
     "text": [
      "     0     0 -267228.18    0   41 -140787.00 -267228.18  89.8%     -    0s\n"
     ]
    },
    {
     "name": "stderr",
     "output_type": "stream",
     "text": [
      "2023-05-15 13:42:04,599 - INFO -      0     0 -267228.18    0   41 -140787.00 -267228.18  89.8%     -    0s\n"
     ]
    },
    {
     "name": "stdout",
     "output_type": "stream",
     "text": [
      "     0     0 -267211.18    0   37 -140787.00 -267211.18  89.8%     -    0s\n"
     ]
    },
    {
     "name": "stderr",
     "output_type": "stream",
     "text": [
      "2023-05-15 13:42:04,630 - INFO -      0     0 -267211.18    0   37 -140787.00 -267211.18  89.8%     -    0s\n"
     ]
    },
    {
     "name": "stdout",
     "output_type": "stream",
     "text": [
      "     0     0 -267207.76    0   37 -140787.00 -267207.76  89.8%     -    0s\n"
     ]
    },
    {
     "name": "stderr",
     "output_type": "stream",
     "text": [
      "2023-05-15 13:42:04,637 - INFO -      0     0 -267207.76    0   37 -140787.00 -267207.76  89.8%     -    0s\n"
     ]
    },
    {
     "name": "stdout",
     "output_type": "stream",
     "text": [
      "     0     0 -267201.29    0   42 -140787.00 -267201.29  89.8%     -    0s\n"
     ]
    },
    {
     "name": "stderr",
     "output_type": "stream",
     "text": [
      "2023-05-15 13:42:04,647 - INFO -      0     0 -267201.29    0   42 -140787.00 -267201.29  89.8%     -    0s\n"
     ]
    },
    {
     "name": "stdout",
     "output_type": "stream",
     "text": [
      "     0     0 -267201.28    0   41 -140787.00 -267201.28  89.8%     -    0s\n"
     ]
    },
    {
     "name": "stderr",
     "output_type": "stream",
     "text": [
      "2023-05-15 13:42:04,655 - INFO -      0     0 -267201.28    0   41 -140787.00 -267201.28  89.8%     -    0s\n"
     ]
    },
    {
     "name": "stdout",
     "output_type": "stream",
     "text": [
      "     0     0 -267201.19    0   41 -140787.00 -267201.19  89.8%     -    0s\n"
     ]
    },
    {
     "name": "stderr",
     "output_type": "stream",
     "text": [
      "2023-05-15 13:42:04,671 - INFO -      0     0 -267201.19    0   41 -140787.00 -267201.19  89.8%     -    0s\n"
     ]
    },
    {
     "name": "stdout",
     "output_type": "stream",
     "text": [
      "     0     0 -267201.19    0   36 -140787.00 -267201.19  89.8%     -    0s\n"
     ]
    },
    {
     "name": "stderr",
     "output_type": "stream",
     "text": [
      "2023-05-15 13:42:04,685 - INFO -      0     0 -267201.19    0   36 -140787.00 -267201.19  89.8%     -    0s\n"
     ]
    },
    {
     "name": "stdout",
     "output_type": "stream",
     "text": [
      "     0     2 -267201.19    0   36 -140787.00 -267201.19  89.8%     -    0s\n"
     ]
    },
    {
     "name": "stderr",
     "output_type": "stream",
     "text": [
      "2023-05-15 13:42:04,711 - INFO -      0     2 -267201.19    0   36 -140787.00 -267201.19  89.8%     -    0s\n"
     ]
    },
    {
     "name": "stdout",
     "output_type": "stream",
     "text": [
      "   175   208 -265252.45   11   35 -140787.00 -267149.32  89.8%  10.1    5s\n"
     ]
    },
    {
     "name": "stderr",
     "output_type": "stream",
     "text": [
      "2023-05-15 13:42:09,351 - INFO -    175   208 -265252.45   11   35 -140787.00 -267149.32  89.8%  10.1    5s\n"
     ]
    },
    {
     "name": "stdout",
     "output_type": "stream",
     "text": [
      "  5272  4577 -264857.41   42   28 -140787.00 -265539.81  88.6%   4.7   12s\n"
     ]
    },
    {
     "name": "stderr",
     "output_type": "stream",
     "text": [
      "2023-05-15 13:42:16,487 - INFO -   5272  4577 -264857.41   42   28 -140787.00 -265539.81  88.6%   4.7   12s\n"
     ]
    },
    {
     "name": "stdout",
     "output_type": "stream",
     "text": [
      "  5300  4583 -260886.14   42   38 -140787.00 -265539.81  88.6%   4.7   16s\n"
     ]
    },
    {
     "name": "stderr",
     "output_type": "stream",
     "text": [
      "2023-05-15 13:42:20,444 - INFO -   5300  4583 -260886.14   42   38 -140787.00 -265539.81  88.6%   4.7   16s\n"
     ]
    },
    {
     "name": "stdout",
     "output_type": "stream",
     "text": [
      "H13238  8437                    -150500.0000 -265498.07  76.4%  10.0   19s\n"
     ]
    },
    {
     "name": "stderr",
     "output_type": "stream",
     "text": [
      "2023-05-15 13:42:24,210 - INFO - H13238  8437                    -150500.0000 -265498.07  76.4%  10.0   19s\n"
     ]
    },
    {
     "name": "stdout",
     "output_type": "stream",
     "text": [
      " 13273  8425 -265241.81   42   57 -150500.00 -265498.07  76.4%  10.0   20s\n"
     ]
    },
    {
     "name": "stderr",
     "output_type": "stream",
     "text": [
      "2023-05-15 13:42:24,264 - INFO -  13273  8425 -265241.81   42   57 -150500.00 -265498.07  76.4%  10.0   20s\n"
     ]
    },
    {
     "name": "stdout",
     "output_type": "stream",
     "text": [
      "H13325  8020                    -193697.0000 -265498.07  37.1%  10.0   20s\n"
     ]
    },
    {
     "name": "stderr",
     "output_type": "stream",
     "text": [
      "2023-05-15 13:42:24,327 - INFO - H13325  8020                    -193697.0000 -265498.07  37.1%  10.0   20s\n"
     ]
    },
    {
     "name": "stdout",
     "output_type": "stream",
     "text": [
      " 25870 18940 -262509.42   60   79 -193697.00 -265498.07  37.1%  13.1   25s\n"
     ]
    },
    {
     "name": "stderr",
     "output_type": "stream",
     "text": [
      "2023-05-15 13:42:29,309 - INFO -  25870 18940 -262509.42   60   79 -193697.00 -265498.07  37.1%  13.1   25s\n"
     ]
    },
    {
     "name": "stdout",
     "output_type": "stream",
     "text": [
      " 38378 29455 infeasible  103      -193697.00 -265498.07  37.1%  15.8   30s\n"
     ]
    },
    {
     "name": "stderr",
     "output_type": "stream",
     "text": [
      "2023-05-15 13:42:34,565 - INFO -  38378 29455 infeasible  103      -193697.00 -265498.07  37.1%  15.8   30s\n"
     ]
    },
    {
     "name": "stdout",
     "output_type": "stream",
     "text": [
      "H42077 30417                    -197385.0000 -265498.07  34.5%  16.1   31s\n"
     ]
    },
    {
     "name": "stderr",
     "output_type": "stream",
     "text": [
      "2023-05-15 13:42:35,965 - INFO - H42077 30417                    -197385.0000 -265498.07  34.5%  16.1   31s\n"
     ]
    },
    {
     "name": "stdout",
     "output_type": "stream",
     "text": [
      " 57434 41905 -258616.07   54   90 -197385.00 -265498.07  34.5%  18.8   35s\n"
     ]
    },
    {
     "name": "stderr",
     "output_type": "stream",
     "text": [
      "2023-05-15 13:42:40,091 - INFO -  57434 41905 -258616.07   54   90 -197385.00 -265498.07  34.5%  18.8   35s\n"
     ]
    },
    {
     "name": "stdout",
     "output_type": "stream",
     "text": [
      " 73704 55768 -247035.87   71   81 -197385.00 -265498.07  34.5%  20.8   40s\n"
     ]
    },
    {
     "name": "stderr",
     "output_type": "stream",
     "text": [
      "2023-05-15 13:42:44,555 - INFO -  73704 55768 -247035.87   71   81 -197385.00 -265498.07  34.5%  20.8   40s\n"
     ]
    },
    {
     "name": "stdout",
     "output_type": "stream",
     "text": [
      " 80017 60144 -239533.21  112   25 -197385.00 -265491.87  34.5%  21.5   45s\n"
     ]
    },
    {
     "name": "stderr",
     "output_type": "stream",
     "text": [
      "2023-05-15 13:42:49,343 - INFO -  80017 60144 -239533.21  112   25 -197385.00 -265491.87  34.5%  21.5   45s\n"
     ]
    },
    {
     "name": "stdout",
     "output_type": "stream",
     "text": [
      " 98386 72449 -261666.75   50   83 -197385.00 -265481.32  34.5%  23.5   50s\n"
     ]
    },
    {
     "name": "stderr",
     "output_type": "stream",
     "text": [
      "2023-05-15 13:42:54,496 - INFO -  98386 72449 -261666.75   50   83 -197385.00 -265481.32  34.5%  23.5   50s\n"
     ]
    },
    {
     "name": "stdout",
     "output_type": "stream",
     "text": [
      " 112615 83090 -263565.62   41  101 -197385.00 -265474.70  34.5%  24.8   55s\n"
     ]
    },
    {
     "name": "stderr",
     "output_type": "stream",
     "text": [
      "2023-05-15 13:42:59,515 - INFO -  112615 83090 -263565.62   41  101 -197385.00 -265474.70  34.5%  24.8   55s\n"
     ]
    },
    {
     "name": "stdout",
     "output_type": "stream",
     "text": [
      " 121454 88923 -265474.70   29   67 -197385.00 -265474.70  34.5%  25.4   61s\n"
     ]
    },
    {
     "name": "stderr",
     "output_type": "stream",
     "text": [
      "2023-05-15 13:43:06,072 - INFO -  121454 88923 -265474.70   29   67 -197385.00 -265474.70  34.5%  25.4   61s\n"
     ]
    },
    {
     "name": "stdout",
     "output_type": "stream",
     "text": [
      " 126173 93261 -252065.88   60   98 -197385.00 -265474.70  34.5%  25.9   66s\n"
     ]
    },
    {
     "name": "stderr",
     "output_type": "stream",
     "text": [
      "2023-05-15 13:43:10,416 - INFO -  126173 93261 -252065.88   60   98 -197385.00 -265474.70  34.5%  25.9   66s\n"
     ]
    },
    {
     "name": "stdout",
     "output_type": "stream",
     "text": [
      " 134474 99801 -254649.73   66   78 -197385.00 -265474.70  34.5%  26.6   70s\n"
     ]
    },
    {
     "name": "stderr",
     "output_type": "stream",
     "text": [
      "2023-05-15 13:43:14,323 - INFO -  134474 99801 -254649.73   66   78 -197385.00 -265474.70  34.5%  26.6   70s\n"
     ]
    },
    {
     "name": "stdout",
     "output_type": "stream",
     "text": [
      "H142472 104282                    -200848.0000 -265454.65  32.2%  27.4   75s\n"
     ]
    },
    {
     "name": "stderr",
     "output_type": "stream",
     "text": [
      "2023-05-15 13:43:19,252 - INFO - H142472 104282                    -200848.0000 -265454.65  32.2%  27.4   75s\n"
     ]
    },
    {
     "name": "stdout",
     "output_type": "stream",
     "text": [
      " 149497 111218 -257846.23   64   52 -200848.00 -265453.32  32.2%  27.8   80s\n"
     ]
    },
    {
     "name": "stderr",
     "output_type": "stream",
     "text": [
      "2023-05-15 13:43:24,385 - INFO -  149497 111218 -257846.23   64   52 -200848.00 -265453.32  32.2%  27.8   80s\n"
     ]
    },
    {
     "name": "stdout",
     "output_type": "stream",
     "text": [
      " 158531 118172 -252487.01   64  102 -200848.00 -265453.32  32.2%  28.2   85s\n"
     ]
    },
    {
     "name": "stderr",
     "output_type": "stream",
     "text": [
      "2023-05-15 13:43:29,807 - INFO -  158531 118172 -252487.01   64  102 -200848.00 -265453.32  32.2%  28.2   85s\n"
     ]
    },
    {
     "name": "stdout",
     "output_type": "stream",
     "text": [
      " 161123 120055 -265452.98   35   89 -200848.00 -265453.32  32.2%  28.3   90s\n"
     ]
    },
    {
     "name": "stderr",
     "output_type": "stream",
     "text": [
      "2023-05-15 13:43:34,503 - INFO -  161123 120055 -265452.98   35   89 -200848.00 -265453.32  32.2%  28.3   90s\n"
     ]
    },
    {
     "name": "stdout",
     "output_type": "stream",
     "text": [
      "H165366 122260                    -200854.0000 -265453.32  32.2%  28.7   92s\n"
     ]
    },
    {
     "name": "stderr",
     "output_type": "stream",
     "text": [
      "2023-05-15 13:43:36,288 - INFO - H165366 122260                    -200854.0000 -265453.32  32.2%  28.7   92s\n"
     ]
    },
    {
     "name": "stdout",
     "output_type": "stream",
     "text": [
      " 170541 126732 -265188.12   32   86 -200854.00 -265453.32  32.2%  29.0   95s\n"
     ]
    },
    {
     "name": "stderr",
     "output_type": "stream",
     "text": [
      "2023-05-15 13:43:39,775 - INFO -  170541 126732 -265188.12   32   86 -200854.00 -265453.32  32.2%  29.0   95s\n"
     ]
    },
    {
     "name": "stdout",
     "output_type": "stream",
     "text": [
      " 178751 133556 -264310.26   43   91 -200854.00 -265453.32  32.2%  29.7  100s\n"
     ]
    },
    {
     "name": "stderr",
     "output_type": "stream",
     "text": [
      "2023-05-15 13:43:44,378 - INFO -  178751 133556 -264310.26   43   91 -200854.00 -265453.32  32.2%  29.7  100s\n"
     ]
    },
    {
     "name": "stdout",
     "output_type": "stream",
     "text": [
      " 187539 140003 -256923.13   55   91 -200854.00 -265453.32  32.2%  30.4  105s\n"
     ]
    },
    {
     "name": "stderr",
     "output_type": "stream",
     "text": [
      "2023-05-15 13:43:49,518 - INFO -  187539 140003 -256923.13   55   91 -200854.00 -265453.32  32.2%  30.4  105s\n"
     ]
    },
    {
     "name": "stdout",
     "output_type": "stream",
     "text": [
      " 190675 141238 -265220.45   37   97 -200854.00 -265453.32  32.2%  30.6  110s\n"
     ]
    },
    {
     "name": "stderr",
     "output_type": "stream",
     "text": [
      "2023-05-15 13:43:54,314 - INFO -  190675 141238 -265220.45   37   97 -200854.00 -265453.32  32.2%  30.6  110s\n"
     ]
    },
    {
     "name": "stdout",
     "output_type": "stream",
     "text": [
      " 196019 146471 -265245.27   35   63 -200854.00 -265453.32  32.2%  31.0  115s\n"
     ]
    },
    {
     "name": "stderr",
     "output_type": "stream",
     "text": [
      "2023-05-15 13:43:59,823 - INFO -  196019 146471 -265245.27   35   63 -200854.00 -265453.32  32.2%  31.0  115s\n"
     ]
    },
    {
     "name": "stdout",
     "output_type": "stream",
     "text": [
      " 201572 149576 -259303.49   50   36 -200854.00 -265453.32  32.2%  31.6  206s\n"
     ]
    },
    {
     "name": "stderr",
     "output_type": "stream",
     "text": [
      "2023-05-15 13:45:30,707 - INFO -  201572 149576 -259303.49   50   36 -200854.00 -265453.32  32.2%  31.6  206s\n"
     ]
    },
    {
     "name": "stdout",
     "output_type": "stream",
     "text": [
      " 201591 149606 -265453.32   30   59 -200854.00 -265453.32  32.2%  31.6  210s\n"
     ]
    },
    {
     "name": "stderr",
     "output_type": "stream",
     "text": [
      "2023-05-15 13:45:34,549 - INFO -  201591 149606 -265453.32   30   59 -200854.00 -265453.32  32.2%  31.6  210s\n"
     ]
    },
    {
     "name": "stdout",
     "output_type": "stream",
     "text": [
      " 201679 149672 -265453.32   33   58 -200854.00 -265453.32  32.2%  31.6  215s\n"
     ]
    },
    {
     "name": "stderr",
     "output_type": "stream",
     "text": [
      "2023-05-15 13:45:39,375 - INFO -  201679 149672 -265453.32   33   58 -200854.00 -265453.32  32.2%  31.6  215s\n"
     ]
    },
    {
     "name": "stdout",
     "output_type": "stream",
     "text": [
      "H201762 142243                    -202099.0000 -265453.32  31.3%  31.7  216s\n"
     ]
    },
    {
     "name": "stderr",
     "output_type": "stream",
     "text": [
      "2023-05-15 13:45:40,413 - INFO - H201762 142243                    -202099.0000 -265453.32  31.3%  31.7  216s\n"
     ]
    },
    {
     "name": "stdout",
     "output_type": "stream",
     "text": [
      " 201997 142444 -265453.32   39   61 -202099.00 -265453.32  31.3%  31.7  220s\n"
     ]
    },
    {
     "name": "stderr",
     "output_type": "stream",
     "text": [
      "2023-05-15 13:45:44,343 - INFO -  201997 142444 -265453.32   39   61 -202099.00 -265453.32  31.3%  31.7  220s\n"
     ]
    },
    {
     "name": "stdout",
     "output_type": "stream",
     "text": [
      " 205475 144442     cutoff   79      -202099.00 -265453.32  31.3%  32.3  225s\n"
     ]
    },
    {
     "name": "stderr",
     "output_type": "stream",
     "text": [
      "2023-05-15 13:45:49,627 - INFO -  205475 144442     cutoff   79      -202099.00 -265453.32  31.3%  32.3  225s\n"
     ]
    },
    {
     "name": "stdout",
     "output_type": "stream",
     "text": [
      " 208288 145879 -234506.93   85   87 -202099.00 -265453.32  31.3%  32.7  230s\n"
     ]
    },
    {
     "name": "stderr",
     "output_type": "stream",
     "text": [
      "2023-05-15 13:45:54,772 - INFO -  208288 145879 -234506.93   85   87 -202099.00 -265453.32  31.3%  32.7  230s\n"
     ]
    },
    {
     "name": "stdout",
     "output_type": "stream",
     "text": [
      " 208918 146359 -260852.60   51   92 -202099.00 -265453.32  31.3%  32.8  235s\n"
     ]
    },
    {
     "name": "stderr",
     "output_type": "stream",
     "text": [
      "2023-05-15 13:45:59,388 - INFO -  208918 146359 -260852.60   51   92 -202099.00 -265453.32  31.3%  32.8  235s\n"
     ]
    },
    {
     "name": "stdout",
     "output_type": "stream",
     "text": [
      " 212110 147736 -265453.32   41   66 -202099.00 -265453.32  31.3%  33.1  241s\n"
     ]
    },
    {
     "name": "stderr",
     "output_type": "stream",
     "text": [
      "2023-05-15 13:46:05,646 - INFO -  212110 147736 -265453.32   41   66 -202099.00 -265453.32  31.3%  33.1  241s\n"
     ]
    },
    {
     "name": "stdout",
     "output_type": "stream",
     "text": [
      " 214453 148882 -246981.71   82   68 -202099.00 -265453.32  31.3%  33.4  246s\n"
     ]
    },
    {
     "name": "stderr",
     "output_type": "stream",
     "text": [
      "2023-05-15 13:46:10,502 - INFO -  214453 148882 -246981.71   82   68 -202099.00 -265453.32  31.3%  33.4  246s\n"
     ]
    },
    {
     "name": "stdout",
     "output_type": "stream",
     "text": [
      " 217080 150143 -264876.49   50   65 -202099.00 -265453.32  31.3%  33.7  251s\n"
     ]
    },
    {
     "name": "stderr",
     "output_type": "stream",
     "text": [
      "2023-05-15 13:46:15,788 - INFO -  217080 150143 -264876.49   50   65 -202099.00 -265453.32  31.3%  33.7  251s\n"
     ]
    },
    {
     "name": "stdout",
     "output_type": "stream",
     "text": [
      " 219039 151195 -258575.76   68  103 -202099.00 -265453.32  31.3%  33.9  255s\n"
     ]
    },
    {
     "name": "stderr",
     "output_type": "stream",
     "text": [
      "2023-05-15 13:46:19,372 - INFO -  219039 151195 -258575.76   68  103 -202099.00 -265453.32  31.3%  33.9  255s\n"
     ]
    },
    {
     "name": "stdout",
     "output_type": "stream",
     "text": [
      "H221058 144240                    -203627.0000 -265453.32  30.4%  34.2  258s\n"
     ]
    },
    {
     "name": "stderr",
     "output_type": "stream",
     "text": [
      "2023-05-15 13:46:23,096 - INFO - H221058 144240                    -203627.0000 -265453.32  30.4%  34.2  258s\n"
     ]
    },
    {
     "name": "stdout",
     "output_type": "stream",
     "text": [
      " 221179 145241 -218171.09   69   90 -203627.00 -265453.32  30.4%  34.2  261s\n"
     ]
    },
    {
     "name": "stderr",
     "output_type": "stream",
     "text": [
      "2023-05-15 13:46:25,639 - INFO -  221179 145241 -218171.09   69   90 -203627.00 -265453.32  30.4%  34.2  261s\n"
     ]
    },
    {
     "name": "stdout",
     "output_type": "stream",
     "text": [
      " 225348 147281 -261966.18   53   92 -203627.00 -265453.32  30.4%  34.6  266s\n"
     ]
    },
    {
     "name": "stderr",
     "output_type": "stream",
     "text": [
      "2023-05-15 13:46:30,696 - INFO -  225348 147281 -261966.18   53   92 -203627.00 -265453.32  30.4%  34.6  266s\n"
     ]
    },
    {
     "name": "stdout",
     "output_type": "stream",
     "text": [
      " 228685 148805 -221865.29   89  120 -203627.00 -265453.32  30.4%  34.8  270s\n"
     ]
    },
    {
     "name": "stderr",
     "output_type": "stream",
     "text": [
      "2023-05-15 13:46:35,198 - INFO -  228685 148805 -221865.29   89  120 -203627.00 -265453.32  30.4%  34.8  270s\n"
     ]
    },
    {
     "name": "stdout",
     "output_type": "stream",
     "text": [
      " 231932 150119 -249788.93   69   77 -203627.00 -265453.32  30.4%  35.0  275s\n"
     ]
    },
    {
     "name": "stderr",
     "output_type": "stream",
     "text": [
      "2023-05-15 13:46:39,712 - INFO -  231932 150119 -249788.93   69   77 -203627.00 -265453.32  30.4%  35.0  275s\n"
     ]
    },
    {
     "name": "stdout",
     "output_type": "stream",
     "text": [
      " 236550 151213 -242997.55   81   82 -203627.00 -265453.32  30.4%  35.5  285s\n"
     ]
    },
    {
     "name": "stderr",
     "output_type": "stream",
     "text": [
      "2023-05-15 13:46:49,277 - INFO -  236550 151213 -242997.55   81   82 -203627.00 -265453.32  30.4%  35.5  285s\n"
     ]
    },
    {
     "name": "stdout",
     "output_type": "stream",
     "text": [
      " 240520 152896 -263363.23   48   86 -203627.00 -265438.91  30.4%  35.9  290s\n"
     ]
    },
    {
     "name": "stderr",
     "output_type": "stream",
     "text": [
      "2023-05-15 13:46:54,253 - INFO -  240520 152896 -263363.23   48   86 -203627.00 -265438.91  30.4%  35.9  290s\n"
     ]
    },
    {
     "name": "stdout",
     "output_type": "stream",
     "text": [
      " 242997 155083 -245925.61   67   96 -203627.00 -265429.93  30.4%  36.1  295s\n"
     ]
    },
    {
     "name": "stderr",
     "output_type": "stream",
     "text": [
      "2023-05-15 13:46:59,307 - INFO -  242997 155083 -245925.61   67   96 -203627.00 -265429.93  30.4%  36.1  295s\n"
     ]
    },
    {
     "name": "stdout",
     "output_type": "stream",
     "text": [
      " 247337 156896 -264860.48   40   99 -203627.00 -265429.93  30.4%  36.4  300s\n"
     ]
    },
    {
     "name": "stderr",
     "output_type": "stream",
     "text": [
      "2023-05-15 13:47:04,365 - INFO -  247337 156896 -264860.48   40   99 -203627.00 -265429.93  30.4%  36.4  300s\n"
     ]
    },
    {
     "name": "stdout",
     "output_type": "stream",
     "text": [
      "H249312 150709                    -207249.0000 -265429.93  28.1%  36.8  303s\n"
     ]
    },
    {
     "name": "stderr",
     "output_type": "stream",
     "text": [
      "2023-05-15 13:47:07,427 - INFO - H249312 150709                    -207249.0000 -265429.93  28.1%  36.8  303s\n"
     ]
    },
    {
     "name": "stdout",
     "output_type": "stream",
     "text": [
      " 251024 151844 -264943.80   42   77 -207249.00 -265429.93  28.1%  36.9  305s\n"
     ]
    },
    {
     "name": "stderr",
     "output_type": "stream",
     "text": [
      "2023-05-15 13:47:10,218 - INFO -  251024 151844 -264943.80   42   77 -207249.00 -265429.93  28.1%  36.9  305s\n"
     ]
    },
    {
     "name": "stdout",
     "output_type": "stream",
     "text": [
      " 255271 154476 -257860.17   52   79 -207249.00 -265401.09  28.1%  37.5  310s\n"
     ]
    },
    {
     "name": "stderr",
     "output_type": "stream",
     "text": [
      "2023-05-15 13:47:14,745 - INFO -  255271 154476 -257860.17   52   79 -207249.00 -265401.09  28.1%  37.5  310s\n"
     ]
    },
    {
     "name": "stdout",
     "output_type": "stream",
     "text": [
      " 261602 155960 -264551.55   44  106 -207249.00 -265392.27  28.1%  37.9  318s\n"
     ]
    },
    {
     "name": "stderr",
     "output_type": "stream",
     "text": [
      "2023-05-15 13:47:22,695 - INFO -  261602 155960 -264551.55   44  106 -207249.00 -265392.27  28.1%  37.9  318s\n"
     ]
    },
    {
     "name": "stdout",
     "output_type": "stream",
     "text": [
      " 263398 157778 -217209.89   73   98 -207249.00 -265392.27  28.1%  38.0  322s\n"
     ]
    },
    {
     "name": "stderr",
     "output_type": "stream",
     "text": [
      "2023-05-15 13:47:26,944 - INFO -  263398 157778 -217209.89   73   98 -207249.00 -265392.27  28.1%  38.0  322s\n"
     ]
    },
    {
     "name": "stdout",
     "output_type": "stream",
     "text": [
      " 266608 159259 infeasible   95      -207249.00 -265392.27  28.1%  38.2  326s\n"
     ]
    },
    {
     "name": "stderr",
     "output_type": "stream",
     "text": [
      "2023-05-15 13:47:30,427 - INFO -  266608 159259 infeasible   95      -207249.00 -265392.27  28.1%  38.2  326s\n"
     ]
    },
    {
     "name": "stdout",
     "output_type": "stream",
     "text": [
      " 272959 159775 -253541.12   75   61 -207249.00 -265366.07  28.0%  38.6  335s\n"
     ]
    },
    {
     "name": "stderr",
     "output_type": "stream",
     "text": [
      "2023-05-15 13:47:39,607 - INFO -  272959 159775 -253541.12   75   61 -207249.00 -265366.07  28.0%  38.6  335s\n"
     ]
    },
    {
     "name": "stdout",
     "output_type": "stream",
     "text": [
      " 276301 162963 infeasible  132      -207249.00 -265366.07  28.0%  38.9  342s\n"
     ]
    },
    {
     "name": "stderr",
     "output_type": "stream",
     "text": [
      "2023-05-15 13:47:47,210 - INFO -  276301 162963 infeasible  132      -207249.00 -265366.07  28.0%  38.9  342s\n"
     ]
    },
    {
     "name": "stdout",
     "output_type": "stream",
     "text": [
      " 279112 164121 -263727.76   48   99 -207249.00 -265353.16  28.0%  39.1  347s\n"
     ]
    },
    {
     "name": "stderr",
     "output_type": "stream",
     "text": [
      "2023-05-15 13:47:51,273 - INFO -  279112 164121 -263727.76   48   99 -207249.00 -265353.16  28.0%  39.1  347s\n"
     ]
    },
    {
     "name": "stdout",
     "output_type": "stream",
     "text": [
      " 281935 165584 -263736.54   47   87 -207249.00 -265345.85  28.0%  39.2  350s\n"
     ]
    },
    {
     "name": "stderr",
     "output_type": "stream",
     "text": [
      "2023-05-15 13:47:54,407 - INFO -  281935 165584 -263736.54   47   87 -207249.00 -265345.85  28.0%  39.2  350s\n"
     ]
    },
    {
     "name": "stdout",
     "output_type": "stream",
     "text": [
      " 287426 167853 -246872.82   95   71 -207249.00 -265338.21  28.0%  39.6  356s\n"
     ]
    },
    {
     "name": "stderr",
     "output_type": "stream",
     "text": [
      "2023-05-15 13:48:00,334 - INFO -  287426 167853 -246872.82   95   71 -207249.00 -265338.21  28.0%  39.6  356s\n"
     ]
    },
    {
     "name": "stdout",
     "output_type": "stream",
     "text": [
      " 293501 169324 -263699.94   47  114 -207249.00 -265320.70  28.0%  39.9  363s\n"
     ]
    },
    {
     "name": "stderr",
     "output_type": "stream",
     "text": [
      "2023-05-15 13:48:07,883 - INFO -  293501 169324 -263699.94   47  114 -207249.00 -265320.70  28.0%  39.9  363s\n"
     ]
    },
    {
     "name": "stdout",
     "output_type": "stream",
     "text": [
      " 295348 170680 -265000.03   49   93 -207249.00 -265311.54  28.0%  40.0  366s\n"
     ]
    },
    {
     "name": "stderr",
     "output_type": "stream",
     "text": [
      "2023-05-15 13:48:11,018 - INFO -  295348 170680 -265000.03   49   93 -207249.00 -265311.54  28.0%  40.0  366s\n"
     ]
    },
    {
     "name": "stdout",
     "output_type": "stream",
     "text": [
      " 298027 172003 -238649.99   73  112 -207249.00 -265310.05  28.0%  40.2  370s\n"
     ]
    },
    {
     "name": "stderr",
     "output_type": "stream",
     "text": [
      "2023-05-15 13:48:14,841 - INFO -  298027 172003 -238649.99   73  112 -207249.00 -265310.05  28.0%  40.2  370s\n"
     ]
    },
    {
     "name": "stdout",
     "output_type": "stream",
     "text": [
      " 303872 174091 -244931.39   69   91 -207249.00 -265295.69  28.0%  40.5  376s\n"
     ]
    },
    {
     "name": "stderr",
     "output_type": "stream",
     "text": [
      "2023-05-15 13:48:20,861 - INFO -  303872 174091 -244931.39   69   91 -207249.00 -265295.69  28.0%  40.5  376s\n"
     ]
    },
    {
     "name": "stdout",
     "output_type": "stream",
     "text": [
      " 309536 175969 -251506.93   84  101 -207249.00 -265287.99  28.0%  40.8  382s\n"
     ]
    },
    {
     "name": "stderr",
     "output_type": "stream",
     "text": [
      "2023-05-15 13:48:27,174 - INFO -  309536 175969 -251506.93   84  101 -207249.00 -265287.99  28.0%  40.8  382s\n"
     ]
    },
    {
     "name": "stdout",
     "output_type": "stream",
     "text": [
      " 312056 177239 -261959.05   59  105 -207249.00 -265280.60  28.0%  40.9  386s\n"
     ]
    },
    {
     "name": "stderr",
     "output_type": "stream",
     "text": [
      "2023-05-15 13:48:30,758 - INFO -  312056 177239 -261959.05   59  105 -207249.00 -265280.60  28.0%  40.9  386s\n"
     ]
    },
    {
     "name": "stdout",
     "output_type": "stream",
     "text": [
      " 317180 177924 -259764.07   56  105 -207249.00 -265267.70  28.0%  41.2  397s\n"
     ]
    },
    {
     "name": "stderr",
     "output_type": "stream",
     "text": [
      "2023-05-15 13:48:41,762 - INFO -  317180 177924 -259764.07   56  105 -207249.00 -265267.70  28.0%  41.2  397s\n"
     ]
    },
    {
     "name": "stdout",
     "output_type": "stream",
     "text": [
      " 318018 179329 -259483.19   57  113 -207249.00 -265267.49  28.0%  41.3  403s\n"
     ]
    },
    {
     "name": "stderr",
     "output_type": "stream",
     "text": [
      "2023-05-15 13:48:47,357 - INFO -  318018 179329 -259483.19   57  113 -207249.00 -265267.49  28.0%  41.3  403s\n"
     ]
    },
    {
     "name": "stdout",
     "output_type": "stream",
     "text": [
      " 320205 180060 -263278.63   47  110 -207249.00 -265259.50  28.0%  41.4  406s\n"
     ]
    },
    {
     "name": "stderr",
     "output_type": "stream",
     "text": [
      "2023-05-15 13:48:50,710 - INFO -  320205 180060 -263278.63   47  110 -207249.00 -265259.50  28.0%  41.4  406s\n"
     ]
    },
    {
     "name": "stdout",
     "output_type": "stream",
     "text": [
      " 321962 181523 -255566.37   65   97 -207249.00 -265259.33  28.0%  41.6  410s\n"
     ]
    },
    {
     "name": "stderr",
     "output_type": "stream",
     "text": [
      "2023-05-15 13:48:54,356 - INFO -  321962 181523 -255566.37   65   97 -207249.00 -265259.33  28.0%  41.6  410s\n"
     ]
    },
    {
     "name": "stdout",
     "output_type": "stream",
     "text": [
      " 326470 183017 -246104.30   85   52 -207249.00 -265246.76  28.0%  42.0  416s\n"
     ]
    },
    {
     "name": "stderr",
     "output_type": "stream",
     "text": [
      "2023-05-15 13:49:00,913 - INFO -  326470 183017 -246104.30   85   52 -207249.00 -265246.76  28.0%  42.0  416s\n"
     ]
    },
    {
     "name": "stdout",
     "output_type": "stream",
     "text": [
      " 328651 184168 -241008.46   82   44 -207249.00 -265240.57  28.0%  42.1  420s\n"
     ]
    },
    {
     "name": "stderr",
     "output_type": "stream",
     "text": [
      "2023-05-15 13:49:04,662 - INFO -  328651 184168 -241008.46   82   44 -207249.00 -265240.57  28.0%  42.1  420s\n"
     ]
    },
    {
     "name": "stdout",
     "output_type": "stream",
     "text": [
      " 333467 185357 -263329.92   56   93 -207249.00 -265235.72  28.0%  42.5  431s\n"
     ]
    },
    {
     "name": "stderr",
     "output_type": "stream",
     "text": [
      "2023-05-15 13:49:15,549 - INFO -  333467 185357 -263329.92   56   93 -207249.00 -265235.72  28.0%  42.5  431s\n"
     ]
    },
    {
     "name": "stdout",
     "output_type": "stream",
     "text": [
      " 334620 186767 -263304.45   57   99 -207249.00 -265234.59  28.0%  42.6  436s\n"
     ]
    },
    {
     "name": "stderr",
     "output_type": "stream",
     "text": [
      "2023-05-15 13:49:20,254 - INFO -  334620 186767 -263304.45   57   99 -207249.00 -265234.59  28.0%  42.6  436s\n"
     ]
    },
    {
     "name": "stdout",
     "output_type": "stream",
     "text": [
      " 336973 187901 -221786.97   83   48 -207249.00 -265223.50  28.0%  42.7  440s\n"
     ]
    },
    {
     "name": "stderr",
     "output_type": "stream",
     "text": [
      "2023-05-15 13:49:24,741 - INFO -  336973 187901 -221786.97   83   48 -207249.00 -265223.50  28.0%  42.7  440s\n"
     ]
    },
    {
     "name": "stdout",
     "output_type": "stream",
     "text": [
      " 341872 190016 -257344.66   66   83 -207249.00 -265213.48  28.0%  43.0  448s\n"
     ]
    },
    {
     "name": "stderr",
     "output_type": "stream",
     "text": [
      "2023-05-15 13:49:32,729 - INFO -  341872 190016 -257344.66   66   83 -207249.00 -265213.48  28.0%  43.0  448s\n"
     ]
    },
    {
     "name": "stdout",
     "output_type": "stream",
     "text": [
      " 344311 190372 -254258.06   67  100 -207249.00 -265213.06  28.0%  43.2  452s\n"
     ]
    },
    {
     "name": "stderr",
     "output_type": "stream",
     "text": [
      "2023-05-15 13:49:37,018 - INFO -  344311 190372 -254258.06   67  100 -207249.00 -265213.06  28.0%  43.2  452s\n"
     ]
    },
    {
     "name": "stdout",
     "output_type": "stream",
     "text": [
      " 345733 191785 -224705.57   95   39 -207249.00 -265207.76  28.0%  43.3  456s\n"
     ]
    },
    {
     "name": "stderr",
     "output_type": "stream",
     "text": [
      "2023-05-15 13:49:40,513 - INFO -  345733 191785 -224705.57   95   39 -207249.00 -265207.76  28.0%  43.3  456s\n"
     ]
    },
    {
     "name": "stdout",
     "output_type": "stream",
     "text": [
      " 348278 191205 -263791.52   49   82 -207249.00 -265206.55  28.0%  43.4  463s\n"
     ]
    },
    {
     "name": "stderr",
     "output_type": "stream",
     "text": [
      "2023-05-15 13:49:47,564 - INFO -  348278 191205 -263791.52   49   82 -207249.00 -265206.55  28.0%  43.4  463s\n"
     ]
    },
    {
     "name": "stdout",
     "output_type": "stream",
     "text": [
      " 348647 192881 -263714.34   52   96 -207249.00 -265206.55  28.0%  43.4  467s\n"
     ]
    },
    {
     "name": "stderr",
     "output_type": "stream",
     "text": [
      "2023-05-15 13:49:52,004 - INFO -  348647 192881 -263714.34   52   96 -207249.00 -265206.55  28.0%  43.4  467s\n"
     ]
    },
    {
     "name": "stdout",
     "output_type": "stream",
     "text": [
      " 350807 193891 -264070.38   41   74 -207249.00 -265201.80  28.0%  43.6  472s\n"
     ]
    },
    {
     "name": "stderr",
     "output_type": "stream",
     "text": [
      "2023-05-15 13:49:56,414 - INFO -  350807 193891 -264070.38   41   74 -207249.00 -265201.80  28.0%  43.6  472s\n"
     ]
    },
    {
     "name": "stdout",
     "output_type": "stream",
     "text": [
      " 353184 194849 -264335.47   46   95 -207249.00 -265191.97  28.0%  43.7  476s\n"
     ]
    },
    {
     "name": "stderr",
     "output_type": "stream",
     "text": [
      "2023-05-15 13:50:00,846 - INFO -  353184 194849 -264335.47   46   95 -207249.00 -265191.97  28.0%  43.7  476s\n"
     ]
    },
    {
     "name": "stdout",
     "output_type": "stream",
     "text": [
      " 355522 195829 -221326.58   73   80 -207249.00 -265186.45  28.0%  43.9  481s\n"
     ]
    },
    {
     "name": "stderr",
     "output_type": "stream",
     "text": [
      "2023-05-15 13:50:05,420 - INFO -  355522 195829 -221326.58   73   80 -207249.00 -265186.45  28.0%  43.9  481s\n"
     ]
    },
    {
     "name": "stdout",
     "output_type": "stream",
     "text": [
      " 360660 198102 -263595.09   41  119 -207249.00 -265186.45  28.0%  44.2  489s\n"
     ]
    },
    {
     "name": "stderr",
     "output_type": "stream",
     "text": [
      "2023-05-15 13:50:13,750 - INFO -  360660 198102 -263595.09   41  119 -207249.00 -265186.45  28.0%  44.2  489s\n"
     ]
    },
    {
     "name": "stdout",
     "output_type": "stream",
     "text": [
      " 363015 199046 -261332.84   66  115 -207249.00 -265186.45  28.0%  44.4  494s\n"
     ]
    },
    {
     "name": "stderr",
     "output_type": "stream",
     "text": [
      "2023-05-15 13:50:18,779 - INFO -  363015 199046 -261332.84   66  115 -207249.00 -265186.45  28.0%  44.4  494s\n"
     ]
    },
    {
     "name": "stdout",
     "output_type": "stream",
     "text": [
      " 365324 199699 -252765.43   70  120 -207249.00 -265186.45  28.0%  44.5  499s\n"
     ]
    },
    {
     "name": "stderr",
     "output_type": "stream",
     "text": [
      "2023-05-15 13:50:24,001 - INFO -  365324 199699 -252765.43   70  120 -207249.00 -265186.45  28.0%  44.5  499s\n"
     ]
    },
    {
     "name": "stdout",
     "output_type": "stream",
     "text": [
      " 367203 200806 -227342.16   59   94 -207249.00 -265174.56  27.9%  44.6  503s\n"
     ]
    },
    {
     "name": "stderr",
     "output_type": "stream",
     "text": [
      "2023-05-15 13:50:27,634 - INFO -  367203 200806 -227342.16   59   94 -207249.00 -265174.56  27.9%  44.6  503s\n"
     ]
    },
    {
     "name": "stdout",
     "output_type": "stream",
     "text": [
      " 369375 201772 -263580.07   60  109 -207249.00 -265174.56  27.9%  44.8  507s\n"
     ]
    },
    {
     "name": "stderr",
     "output_type": "stream",
     "text": [
      "2023-05-15 13:50:31,461 - INFO -  369375 201772 -263580.07   60  109 -207249.00 -265174.56  27.9%  44.8  507s\n"
     ]
    },
    {
     "name": "stdout",
     "output_type": "stream",
     "text": [
      " 371582 202785 -230928.88   84   71 -207249.00 -265174.56  27.9%  45.0  511s\n"
     ]
    },
    {
     "name": "stderr",
     "output_type": "stream",
     "text": [
      "2023-05-15 13:50:35,328 - INFO -  371582 202785 -230928.88   84   71 -207249.00 -265174.56  27.9%  45.0  511s\n"
     ]
    },
    {
     "name": "stdout",
     "output_type": "stream",
     "text": [
      " 373803 203818 -262254.63   59  105 -207249.00 -265174.56  27.9%  45.1  516s\n"
     ]
    },
    {
     "name": "stderr",
     "output_type": "stream",
     "text": [
      "2023-05-15 13:50:40,337 - INFO -  373803 203818 -262254.63   59  105 -207249.00 -265174.56  27.9%  45.1  516s\n"
     ]
    },
    {
     "name": "stdout",
     "output_type": "stream",
     "text": [
      " 376131 204789 -253775.75   97   58 -207249.00 -265174.56  27.9%  45.2  520s\n"
     ]
    },
    {
     "name": "stderr",
     "output_type": "stream",
     "text": [
      "2023-05-15 13:50:44,280 - INFO -  376131 204789 -253775.75   97   58 -207249.00 -265174.56  27.9%  45.2  520s\n"
     ]
    },
    {
     "name": "stdout",
     "output_type": "stream",
     "text": [
      " 380561 206992 -252189.32   97   22 -207249.00 -265154.13  27.9%  45.6  528s\n"
     ]
    },
    {
     "name": "stderr",
     "output_type": "stream",
     "text": [
      "2023-05-15 13:50:53,084 - INFO -  380561 206992 -252189.32   97   22 -207249.00 -265154.13  27.9%  45.6  528s\n"
     ]
    },
    {
     "name": "stdout",
     "output_type": "stream",
     "text": [
      " 383245 208074 -259596.52   58   87 -207249.00 -265154.13  27.9%  45.7  535s\n"
     ]
    },
    {
     "name": "stderr",
     "output_type": "stream",
     "text": [
      "2023-05-15 13:50:59,276 - INFO -  383245 208074 -259596.52   58   87 -207249.00 -265154.13  27.9%  45.7  535s\n"
     ]
    },
    {
     "name": "stdout",
     "output_type": "stream",
     "text": [
      " 388140 210225 -261230.96   54  107 -207249.00 -265154.13  27.9%  46.0  544s\n"
     ]
    },
    {
     "name": "stderr",
     "output_type": "stream",
     "text": [
      "2023-05-15 13:51:08,346 - INFO -  388140 210225 -261230.96   54  107 -207249.00 -265154.13  27.9%  46.0  544s\n"
     ]
    },
    {
     "name": "stdout",
     "output_type": "stream",
     "text": [
      " 391064 209392 -261753.96   51   92 -207249.00 -265154.13  27.9%  46.1  553s\n"
     ]
    },
    {
     "name": "stderr",
     "output_type": "stream",
     "text": [
      "2023-05-15 13:51:17,634 - INFO -  391064 209392 -261753.96   51   92 -207249.00 -265154.13  27.9%  46.1  553s\n"
     ]
    },
    {
     "name": "stdout",
     "output_type": "stream",
     "text": [
      " 391389 210972 -261454.11   52   96 -207249.00 -265154.13  27.9%  46.1  558s\n"
     ]
    },
    {
     "name": "stderr",
     "output_type": "stream",
     "text": [
      "2023-05-15 13:51:22,967 - INFO -  391389 210972 -261454.11   52   96 -207249.00 -265154.13  27.9%  46.1  558s\n"
     ]
    },
    {
     "name": "stdout",
     "output_type": "stream",
     "text": [
      " 393732 211749 infeasible   94      -207249.00 -265148.57  27.9%  46.3  563s\n"
     ]
    },
    {
     "name": "stderr",
     "output_type": "stream",
     "text": [
      "2023-05-15 13:51:28,132 - INFO -  393732 211749 infeasible   94      -207249.00 -265148.57  27.9%  46.3  563s\n"
     ]
    },
    {
     "name": "stdout",
     "output_type": "stream",
     "text": [
      " 395682 212862 -259177.62   76   52 -207249.00 -265141.12  27.9%  46.4  568s\n"
     ]
    },
    {
     "name": "stderr",
     "output_type": "stream",
     "text": [
      "2023-05-15 13:51:32,540 - INFO -  395682 212862 -259177.62   76   52 -207249.00 -265141.12  27.9%  46.4  568s\n"
     ]
    },
    {
     "name": "stdout",
     "output_type": "stream",
     "text": [
      " 397857 213796 -260639.55   54   95 -207249.00 -265140.74  27.9%  46.6  572s\n"
     ]
    },
    {
     "name": "stderr",
     "output_type": "stream",
     "text": [
      "2023-05-15 13:51:36,778 - INFO -  397857 213796 -260639.55   54   95 -207249.00 -265140.74  27.9%  46.6  572s\n"
     ]
    },
    {
     "name": "stdout",
     "output_type": "stream",
     "text": [
      " 400063 214712 -241702.29   85   92 -207249.00 -265138.74  27.9%  46.7  576s\n"
     ]
    },
    {
     "name": "stderr",
     "output_type": "stream",
     "text": [
      "2023-05-15 13:51:40,934 - INFO -  400063 214712 -241702.29   85   92 -207249.00 -265138.74  27.9%  46.7  576s\n"
     ]
    },
    {
     "name": "stdout",
     "output_type": "stream",
     "text": [
      " 402616 215485 -259111.63   57   87 -207249.00 -265131.64  27.9%  46.8  581s\n"
     ]
    },
    {
     "name": "stderr",
     "output_type": "stream",
     "text": [
      "2023-05-15 13:51:45,393 - INFO -  402616 215485 -259111.63   57   87 -207249.00 -265131.64  27.9%  46.8  581s\n"
     ]
    },
    {
     "name": "stdout",
     "output_type": "stream",
     "text": [
      " 405064 216580 infeasible   93      -207249.00 -265128.65  27.9%  47.0  585s\n"
     ]
    },
    {
     "name": "stderr",
     "output_type": "stream",
     "text": [
      "2023-05-15 13:51:50,086 - INFO -  405064 216580 infeasible   93      -207249.00 -265128.65  27.9%  47.0  585s\n"
     ]
    },
    {
     "name": "stdout",
     "output_type": "stream",
     "text": [
      " 407515 217541 -262368.35   55   70 -207249.00 -265125.30  27.9%  47.1  592s\n"
     ]
    },
    {
     "name": "stderr",
     "output_type": "stream",
     "text": [
      "2023-05-15 13:51:56,460 - INFO -  407515 217541 -262368.35   55   70 -207249.00 -265125.30  27.9%  47.1  592s\n"
     ]
    },
    {
     "name": "stdout",
     "output_type": "stream",
     "text": [
      " 409862 218531 -221697.38   58  109 -207249.00 -265122.22  27.9%  47.2  597s\n"
     ]
    },
    {
     "name": "stderr",
     "output_type": "stream",
     "text": [
      "2023-05-15 13:52:01,284 - INFO -  409862 218531 -221697.38   58  109 -207249.00 -265122.22  27.9%  47.2  597s\n"
     ]
    },
    {
     "name": "stdout",
     "output_type": "stream",
     "text": [
      " 412230 217753 -250285.21   59   96 -207249.00 -265117.61  27.9%  47.3  600s\n"
     ]
    },
    {
     "name": "stderr",
     "output_type": "stream",
     "text": [
      "2023-05-15 13:52:04,562 - INFO -  412230 217753 -250285.21   59   96 -207249.00 -265117.61  27.9%  47.3  600s\n"
     ]
    },
    {
     "name": "stdout",
     "output_type": "stream",
     "text": [
      "\n"
     ]
    },
    {
     "name": "stderr",
     "output_type": "stream",
     "text": [
      "2023-05-15 13:52:04,859 - INFO - \n"
     ]
    },
    {
     "name": "stdout",
     "output_type": "stream",
     "text": [
      "Cutting planes:\n"
     ]
    },
    {
     "name": "stderr",
     "output_type": "stream",
     "text": [
      "2023-05-15 13:52:04,859 - INFO - Cutting planes:\n"
     ]
    },
    {
     "name": "stdout",
     "output_type": "stream",
     "text": [
      "  Lazy constraints: 2993\n"
     ]
    },
    {
     "name": "stderr",
     "output_type": "stream",
     "text": [
      "2023-05-15 13:52:04,859 - INFO -   Lazy constraints: 2993\n"
     ]
    },
    {
     "name": "stdout",
     "output_type": "stream",
     "text": [
      "\n"
     ]
    },
    {
     "name": "stderr",
     "output_type": "stream",
     "text": [
      "2023-05-15 13:52:04,859 - INFO - \n"
     ]
    },
    {
     "name": "stdout",
     "output_type": "stream",
     "text": [
      "Explored 412268 nodes (19511782 simplex iterations) in 600.62 seconds\n"
     ]
    },
    {
     "name": "stderr",
     "output_type": "stream",
     "text": [
      "2023-05-15 13:52:04,859 - INFO - Explored 412268 nodes (19511782 simplex iterations) in 600.62 seconds\n"
     ]
    },
    {
     "name": "stdout",
     "output_type": "stream",
     "text": [
      "Thread count was 24 (of 48 available processors)\n"
     ]
    },
    {
     "name": "stderr",
     "output_type": "stream",
     "text": [
      "2023-05-15 13:52:04,859 - INFO - Thread count was 24 (of 48 available processors)\n"
     ]
    },
    {
     "name": "stdout",
     "output_type": "stream",
     "text": [
      "\n"
     ]
    },
    {
     "name": "stderr",
     "output_type": "stream",
     "text": [
      "2023-05-15 13:52:04,859 - INFO - \n"
     ]
    },
    {
     "name": "stdout",
     "output_type": "stream",
     "text": [
      "Solution count 9: -207249 -203627 -202099 ... -140787\n"
     ]
    },
    {
     "name": "stderr",
     "output_type": "stream",
     "text": [
      "2023-05-15 13:52:04,859 - INFO - Solution count 9: -207249 -203627 -202099 ... -140787\n"
     ]
    },
    {
     "name": "stdout",
     "output_type": "stream",
     "text": [
      "\n"
     ]
    },
    {
     "name": "stderr",
     "output_type": "stream",
     "text": [
      "2023-05-15 13:52:04,859 - INFO - \n"
     ]
    },
    {
     "name": "stdout",
     "output_type": "stream",
     "text": [
      "Time limit reached\n"
     ]
    },
    {
     "name": "stderr",
     "output_type": "stream",
     "text": [
      "2023-05-15 13:52:04,859 - INFO - Time limit reached\n"
     ]
    },
    {
     "name": "stdout",
     "output_type": "stream",
     "text": [
      "Best objective -2.072490000000e+05, best bound -2.651170000000e+05, gap 27.9220%\n"
     ]
    },
    {
     "name": "stderr",
     "output_type": "stream",
     "text": [
      "2023-05-15 13:52:04,875 - INFO - Best objective -2.072490000000e+05, best bound -2.651170000000e+05, gap 27.9220%\n"
     ]
    },
    {
     "name": "stdout",
     "output_type": "stream",
     "text": [
      "\n"
     ]
    },
    {
     "name": "stderr",
     "output_type": "stream",
     "text": [
      "2023-05-15 13:52:04,875 - INFO - \n"
     ]
    },
    {
     "name": "stdout",
     "output_type": "stream",
     "text": [
      "User-callback calls 862528, time in user-callback 25.75 sec\n"
     ]
    },
    {
     "name": "stderr",
     "output_type": "stream",
     "text": [
      "2023-05-15 13:52:04,875 - INFO - User-callback calls 862528, time in user-callback 25.75 sec\n"
     ]
    },
    {
     "name": "stdout",
     "output_type": "stream",
     "text": [
      "{'Bounds': {'D200': {}, 'D160': {}, 'R200': {}, 'R160': {}, 'D201': {}, 'D161': {}, 'R201': {}, 'R161': {}, 'D202': {}, 'D162': {}, 'R202': {}, 'R162': {}, 'D203': {}, 'D163': {}, 'R203': {}, 'R163': {}, 'T200': {}, 'T160': {}, 'T201': {}, 'T161': {}, 'T202': {}, 'T162': {}, 'T203': {}, 'T163': {}, 'diff_D_T20_[0]': {}, 'diff_D_T16_[0]': {}, 'diff_D_T20_[1]': {}, 'diff_D_T16_[1]': {}, 'diff_D_T20_[2]': {}, 'diff_D_T16_[2]': {}, 'diff_D_T20_[3]': {'lb': -265117.0, 'min_soln': -207249.0}, 'diff_D_T16_[3]': {}}}\n",
      "Gurobi Optimizer version 9.1.2 build v9.1.2rc0 (win64)\n"
     ]
    },
    {
     "name": "stderr",
     "output_type": "stream",
     "text": [
      "2023-05-15 13:52:05,678 - INFO - Gurobi Optimizer version 9.1.2 build v9.1.2rc0 (win64)\n"
     ]
    },
    {
     "name": "stdout",
     "output_type": "stream",
     "text": [
      "Thread count: 24 physical cores, 48 logical processors, using up to 24 threads\n"
     ]
    },
    {
     "name": "stderr",
     "output_type": "stream",
     "text": [
      "2023-05-15 13:52:05,683 - INFO - Thread count: 24 physical cores, 48 logical processors, using up to 24 threads\n"
     ]
    },
    {
     "name": "stdout",
     "output_type": "stream",
     "text": [
      "Optimize a model with 126 rows, 688 columns and 2367 nonzeros\n"
     ]
    },
    {
     "name": "stderr",
     "output_type": "stream",
     "text": [
      "2023-05-15 13:52:05,686 - INFO - Optimize a model with 126 rows, 688 columns and 2367 nonzeros\n"
     ]
    },
    {
     "name": "stdout",
     "output_type": "stream",
     "text": [
      "Model fingerprint: 0x4fcc0a98\n"
     ]
    },
    {
     "name": "stderr",
     "output_type": "stream",
     "text": [
      "2023-05-15 13:52:05,690 - INFO - Model fingerprint: 0x4fcc0a98\n"
     ]
    },
    {
     "name": "stdout",
     "output_type": "stream",
     "text": [
      "Variable types: 32 continuous, 656 integer (656 binary)\n"
     ]
    },
    {
     "name": "stderr",
     "output_type": "stream",
     "text": [
      "2023-05-15 13:52:05,693 - INFO - Variable types: 32 continuous, 656 integer (656 binary)\n"
     ]
    },
    {
     "name": "stdout",
     "output_type": "stream",
     "text": [
      "Coefficient statistics:\n"
     ]
    },
    {
     "name": "stderr",
     "output_type": "stream",
     "text": [
      "2023-05-15 13:52:05,697 - INFO - Coefficient statistics:\n"
     ]
    },
    {
     "name": "stdout",
     "output_type": "stream",
     "text": [
      "  Matrix range     [1e+00, 2e+05]\n"
     ]
    },
    {
     "name": "stderr",
     "output_type": "stream",
     "text": [
      "2023-05-15 13:52:05,701 - INFO -   Matrix range     [1e+00, 2e+05]\n"
     ]
    },
    {
     "name": "stdout",
     "output_type": "stream",
     "text": [
      "  Objective range  [1e+00, 1e+00]\n"
     ]
    },
    {
     "name": "stderr",
     "output_type": "stream",
     "text": [
      "2023-05-15 13:52:05,717 - INFO -   Objective range  [1e+00, 1e+00]\n"
     ]
    },
    {
     "name": "stdout",
     "output_type": "stream",
     "text": [
      "  Bounds range     [1e+00, 8e+05]\n"
     ]
    },
    {
     "name": "stderr",
     "output_type": "stream",
     "text": [
      "2023-05-15 13:52:05,723 - INFO -   Bounds range     [1e+00, 8e+05]\n"
     ]
    },
    {
     "name": "stdout",
     "output_type": "stream",
     "text": [
      "  RHS range        [1e+00, 8e+05]\n"
     ]
    },
    {
     "name": "stderr",
     "output_type": "stream",
     "text": [
      "2023-05-15 13:52:05,726 - INFO -   RHS range        [1e+00, 8e+05]\n"
     ]
    },
    {
     "name": "stdout",
     "output_type": "stream",
     "text": [
      "\n"
     ]
    },
    {
     "name": "stderr",
     "output_type": "stream",
     "text": [
      "2023-05-15 13:52:05,729 - INFO - \n"
     ]
    },
    {
     "name": "stdout",
     "output_type": "stream",
     "text": [
      "User MIP start produced solution with objective -134735 (0.05s)\n"
     ]
    },
    {
     "name": "stderr",
     "output_type": "stream",
     "text": [
      "2023-05-15 13:52:05,739 - INFO - User MIP start produced solution with objective -134735 (0.05s)\n"
     ]
    },
    {
     "name": "stdout",
     "output_type": "stream",
     "text": [
      "Loaded user MIP start with objective -134735\n"
     ]
    },
    {
     "name": "stderr",
     "output_type": "stream",
     "text": [
      "2023-05-15 13:52:05,747 - INFO - Loaded user MIP start with objective -134735\n"
     ]
    },
    {
     "name": "stdout",
     "output_type": "stream",
     "text": [
      "MIP start from previous solve produced solution with objective -194189 (0.07s)\n"
     ]
    },
    {
     "name": "stderr",
     "output_type": "stream",
     "text": [
      "2023-05-15 13:52:05,757 - INFO - MIP start from previous solve produced solution with objective -194189 (0.07s)\n"
     ]
    },
    {
     "name": "stdout",
     "output_type": "stream",
     "text": [
      "Loaded MIP start from previous solve with objective -194189\n"
     ]
    },
    {
     "name": "stderr",
     "output_type": "stream",
     "text": [
      "2023-05-15 13:52:05,763 - INFO - Loaded MIP start from previous solve with objective -194189\n"
     ]
    },
    {
     "name": "stdout",
     "output_type": "stream",
     "text": [
      "\n"
     ]
    },
    {
     "name": "stderr",
     "output_type": "stream",
     "text": [
      "2023-05-15 13:52:05,764 - INFO - \n"
     ]
    },
    {
     "name": "stdout",
     "output_type": "stream",
     "text": [
      "Presolve removed 17 rows and 16 columns\n"
     ]
    },
    {
     "name": "stderr",
     "output_type": "stream",
     "text": [
      "2023-05-15 13:52:05,781 - INFO - Presolve removed 17 rows and 16 columns\n"
     ]
    },
    {
     "name": "stdout",
     "output_type": "stream",
     "text": [
      "Presolve time: 0.01s\n"
     ]
    },
    {
     "name": "stderr",
     "output_type": "stream",
     "text": [
      "2023-05-15 13:52:05,784 - INFO - Presolve time: 0.01s\n"
     ]
    },
    {
     "name": "stdout",
     "output_type": "stream",
     "text": [
      "Presolved: 109 rows, 672 columns, 2319 nonzeros\n"
     ]
    },
    {
     "name": "stderr",
     "output_type": "stream",
     "text": [
      "2023-05-15 13:52:05,787 - INFO - Presolved: 109 rows, 672 columns, 2319 nonzeros\n"
     ]
    },
    {
     "name": "stdout",
     "output_type": "stream",
     "text": [
      "Variable types: 0 continuous, 672 integer (656 binary)\n"
     ]
    },
    {
     "name": "stderr",
     "output_type": "stream",
     "text": [
      "2023-05-15 13:52:05,791 - INFO - Variable types: 0 continuous, 672 integer (656 binary)\n"
     ]
    },
    {
     "name": "stdout",
     "output_type": "stream",
     "text": [
      "\n"
     ]
    },
    {
     "name": "stderr",
     "output_type": "stream",
     "text": [
      "2023-05-15 13:52:05,793 - INFO - \n"
     ]
    },
    {
     "name": "stdout",
     "output_type": "stream",
     "text": [
      "Concurrent LP optimizer: primal simplex, dual simplex, and barrier\n"
     ]
    },
    {
     "name": "stderr",
     "output_type": "stream",
     "text": [
      "2023-05-15 13:52:05,796 - INFO - Concurrent LP optimizer: primal simplex, dual simplex, and barrier\n"
     ]
    },
    {
     "name": "stdout",
     "output_type": "stream",
     "text": [
      "Showing barrier log only...\n"
     ]
    },
    {
     "name": "stderr",
     "output_type": "stream",
     "text": [
      "2023-05-15 13:52:05,798 - INFO - Showing barrier log only...\n"
     ]
    },
    {
     "name": "stdout",
     "output_type": "stream",
     "text": [
      "\n"
     ]
    },
    {
     "name": "stderr",
     "output_type": "stream",
     "text": [
      "2023-05-15 13:52:05,800 - INFO - \n"
     ]
    },
    {
     "name": "stdout",
     "output_type": "stream",
     "text": [
      "Root barrier log...\n"
     ]
    },
    {
     "name": "stderr",
     "output_type": "stream",
     "text": [
      "2023-05-15 13:52:05,806 - INFO - Root barrier log...\n"
     ]
    },
    {
     "name": "stdout",
     "output_type": "stream",
     "text": [
      "\n"
     ]
    },
    {
     "name": "stderr",
     "output_type": "stream",
     "text": [
      "2023-05-15 13:52:05,809 - INFO - \n"
     ]
    },
    {
     "name": "stdout",
     "output_type": "stream",
     "text": [
      "Ordering time: 0.00s\n"
     ]
    },
    {
     "name": "stderr",
     "output_type": "stream",
     "text": [
      "2023-05-15 13:52:05,811 - INFO - Ordering time: 0.00s\n"
     ]
    },
    {
     "name": "stdout",
     "output_type": "stream",
     "text": [
      "\n"
     ]
    },
    {
     "name": "stderr",
     "output_type": "stream",
     "text": [
      "2023-05-15 13:52:05,814 - INFO - \n"
     ]
    },
    {
     "name": "stdout",
     "output_type": "stream",
     "text": [
      "Barrier performed 0 iterations in 0.13 seconds\n"
     ]
    },
    {
     "name": "stderr",
     "output_type": "stream",
     "text": [
      "2023-05-15 13:52:05,817 - INFO - Barrier performed 0 iterations in 0.13 seconds\n"
     ]
    },
    {
     "name": "stdout",
     "output_type": "stream",
     "text": [
      "Barrier solve interrupted - model solved by another algorithm\n"
     ]
    },
    {
     "name": "stderr",
     "output_type": "stream",
     "text": [
      "2023-05-15 13:52:05,820 - INFO - Barrier solve interrupted - model solved by another algorithm\n"
     ]
    },
    {
     "name": "stdout",
     "output_type": "stream",
     "text": [
      "\n"
     ]
    },
    {
     "name": "stderr",
     "output_type": "stream",
     "text": [
      "2023-05-15 13:52:05,823 - INFO - \n"
     ]
    },
    {
     "name": "stdout",
     "output_type": "stream",
     "text": [
      "\n"
     ]
    },
    {
     "name": "stderr",
     "output_type": "stream",
     "text": [
      "2023-05-15 13:52:05,826 - INFO - \n"
     ]
    },
    {
     "name": "stdout",
     "output_type": "stream",
     "text": [
      "Solved with primal simplex\n"
     ]
    },
    {
     "name": "stderr",
     "output_type": "stream",
     "text": [
      "2023-05-15 13:52:05,828 - INFO - Solved with primal simplex\n"
     ]
    },
    {
     "name": "stdout",
     "output_type": "stream",
     "text": [
      "\n"
     ]
    },
    {
     "name": "stderr",
     "output_type": "stream",
     "text": [
      "2023-05-15 13:52:05,832 - INFO - \n"
     ]
    },
    {
     "name": "stdout",
     "output_type": "stream",
     "text": [
      "Root relaxation: objective -2.467530e+05, 293 iterations, 0.04 seconds\n"
     ]
    },
    {
     "name": "stderr",
     "output_type": "stream",
     "text": [
      "2023-05-15 13:52:05,834 - INFO - Root relaxation: objective -2.467530e+05, 293 iterations, 0.04 seconds\n"
     ]
    },
    {
     "name": "stdout",
     "output_type": "stream",
     "text": [
      "\n"
     ]
    },
    {
     "name": "stderr",
     "output_type": "stream",
     "text": [
      "2023-05-15 13:52:05,853 - INFO - \n"
     ]
    },
    {
     "name": "stdout",
     "output_type": "stream",
     "text": [
      "    Nodes    |    Current Node    |     Objective Bounds      |     Work\n"
     ]
    },
    {
     "name": "stderr",
     "output_type": "stream",
     "text": [
      "2023-05-15 13:52:05,853 - INFO -     Nodes    |    Current Node    |     Objective Bounds      |     Work\n"
     ]
    },
    {
     "name": "stdout",
     "output_type": "stream",
     "text": [
      " Expl Unexpl |  Obj  Depth IntInf | Incumbent    BestBd   Gap | It/Node Time\n"
     ]
    },
    {
     "name": "stderr",
     "output_type": "stream",
     "text": [
      "2023-05-15 13:52:05,853 - INFO -  Expl Unexpl |  Obj  Depth IntInf | Incumbent    BestBd   Gap | It/Node Time\n"
     ]
    },
    {
     "name": "stdout",
     "output_type": "stream",
     "text": [
      "\n"
     ]
    },
    {
     "name": "stderr",
     "output_type": "stream",
     "text": [
      "2023-05-15 13:52:05,853 - INFO - \n"
     ]
    },
    {
     "name": "stdout",
     "output_type": "stream",
     "text": [
      "     0     0 -246753.02    0   25 -194189.00 -246753.02  27.1%     -    0s\n"
     ]
    },
    {
     "name": "stderr",
     "output_type": "stream",
     "text": [
      "2023-05-15 13:52:05,853 - INFO -      0     0 -246753.02    0   25 -194189.00 -246753.02  27.1%     -    0s\n"
     ]
    },
    {
     "name": "stdout",
     "output_type": "stream",
     "text": [
      "     0     0 -246707.78    0   30 -194189.00 -246707.78  27.0%     -    0s\n"
     ]
    },
    {
     "name": "stderr",
     "output_type": "stream",
     "text": [
      "2023-05-15 13:52:05,870 - INFO -      0     0 -246707.78    0   30 -194189.00 -246707.78  27.0%     -    0s\n"
     ]
    },
    {
     "name": "stdout",
     "output_type": "stream",
     "text": [
      "     0     0 -246705.62    0   27 -194189.00 -246705.62  27.0%     -    0s\n"
     ]
    },
    {
     "name": "stderr",
     "output_type": "stream",
     "text": [
      "2023-05-15 13:52:05,889 - INFO -      0     0 -246705.62    0   27 -194189.00 -246705.62  27.0%     -    0s\n"
     ]
    },
    {
     "name": "stdout",
     "output_type": "stream",
     "text": [
      "     0     0 -246702.79    0   29 -194189.00 -246702.79  27.0%     -    0s\n"
     ]
    },
    {
     "name": "stderr",
     "output_type": "stream",
     "text": [
      "2023-05-15 13:52:05,893 - INFO -      0     0 -246702.79    0   29 -194189.00 -246702.79  27.0%     -    0s\n"
     ]
    },
    {
     "name": "stdout",
     "output_type": "stream",
     "text": [
      "     0     0 -246687.89    0   35 -194189.00 -246687.89  27.0%     -    0s\n"
     ]
    },
    {
     "name": "stderr",
     "output_type": "stream",
     "text": [
      "2023-05-15 13:52:05,905 - INFO -      0     0 -246687.89    0   35 -194189.00 -246687.89  27.0%     -    0s\n"
     ]
    },
    {
     "name": "stdout",
     "output_type": "stream",
     "text": [
      "     0     0 -246672.32    0   36 -194189.00 -246672.32  27.0%     -    0s\n"
     ]
    },
    {
     "name": "stderr",
     "output_type": "stream",
     "text": [
      "2023-05-15 13:52:05,912 - INFO -      0     0 -246672.32    0   36 -194189.00 -246672.32  27.0%     -    0s\n"
     ]
    },
    {
     "name": "stdout",
     "output_type": "stream",
     "text": [
      "     0     0 -246671.67    0   36 -194189.00 -246671.67  27.0%     -    0s\n"
     ]
    },
    {
     "name": "stderr",
     "output_type": "stream",
     "text": [
      "2023-05-15 13:52:05,916 - INFO -      0     0 -246671.67    0   36 -194189.00 -246671.67  27.0%     -    0s\n"
     ]
    },
    {
     "name": "stdout",
     "output_type": "stream",
     "text": [
      "     0     0 -246667.65    0   38 -194189.00 -246667.65  27.0%     -    0s\n"
     ]
    },
    {
     "name": "stderr",
     "output_type": "stream",
     "text": [
      "2023-05-15 13:52:05,929 - INFO -      0     0 -246667.65    0   38 -194189.00 -246667.65  27.0%     -    0s\n"
     ]
    },
    {
     "name": "stdout",
     "output_type": "stream",
     "text": [
      "     0     0 -246667.27    0   39 -194189.00 -246667.27  27.0%     -    0s\n"
     ]
    },
    {
     "name": "stderr",
     "output_type": "stream",
     "text": [
      "2023-05-15 13:52:05,946 - INFO -      0     0 -246667.27    0   39 -194189.00 -246667.27  27.0%     -    0s\n"
     ]
    },
    {
     "name": "stdout",
     "output_type": "stream",
     "text": [
      "     0     0 -246667.27    0   39 -194189.00 -246667.27  27.0%     -    0s\n"
     ]
    },
    {
     "name": "stderr",
     "output_type": "stream",
     "text": [
      "2023-05-15 13:52:05,954 - INFO -      0     0 -246667.27    0   39 -194189.00 -246667.27  27.0%     -    0s\n"
     ]
    },
    {
     "name": "stdout",
     "output_type": "stream",
     "text": [
      "     0     0 -246656.12    0   40 -194189.00 -246656.12  27.0%     -    0s\n"
     ]
    },
    {
     "name": "stderr",
     "output_type": "stream",
     "text": [
      "2023-05-15 13:52:05,966 - INFO -      0     0 -246656.12    0   40 -194189.00 -246656.12  27.0%     -    0s\n"
     ]
    },
    {
     "name": "stdout",
     "output_type": "stream",
     "text": [
      "     0     0 -246655.40    0   40 -194189.00 -246655.40  27.0%     -    0s\n"
     ]
    },
    {
     "name": "stderr",
     "output_type": "stream",
     "text": [
      "2023-05-15 13:52:05,971 - INFO -      0     0 -246655.40    0   40 -194189.00 -246655.40  27.0%     -    0s\n"
     ]
    },
    {
     "name": "stdout",
     "output_type": "stream",
     "text": [
      "     0     0 -246654.44    0   45 -194189.00 -246654.44  27.0%     -    0s\n"
     ]
    },
    {
     "name": "stderr",
     "output_type": "stream",
     "text": [
      "2023-05-15 13:52:05,975 - INFO -      0     0 -246654.44    0   45 -194189.00 -246654.44  27.0%     -    0s\n"
     ]
    },
    {
     "name": "stdout",
     "output_type": "stream",
     "text": [
      "     0     0 -246651.48    0   41 -194189.00 -246651.48  27.0%     -    0s\n"
     ]
    },
    {
     "name": "stderr",
     "output_type": "stream",
     "text": [
      "2023-05-15 13:52:05,986 - INFO -      0     0 -246651.48    0   41 -194189.00 -246651.48  27.0%     -    0s\n"
     ]
    },
    {
     "name": "stdout",
     "output_type": "stream",
     "text": [
      "     0     0 -246648.69    0   40 -194189.00 -246648.69  27.0%     -    0s\n"
     ]
    },
    {
     "name": "stderr",
     "output_type": "stream",
     "text": [
      "2023-05-15 13:52:05,986 - INFO -      0     0 -246648.69    0   40 -194189.00 -246648.69  27.0%     -    0s\n"
     ]
    },
    {
     "name": "stdout",
     "output_type": "stream",
     "text": [
      "     0     0 -246648.23    0   40 -194189.00 -246648.23  27.0%     -    0s\n"
     ]
    },
    {
     "name": "stderr",
     "output_type": "stream",
     "text": [
      "2023-05-15 13:52:05,986 - INFO -      0     0 -246648.23    0   40 -194189.00 -246648.23  27.0%     -    0s\n"
     ]
    },
    {
     "name": "stdout",
     "output_type": "stream",
     "text": [
      "     0     0 -246647.30    0   38 -194189.00 -246647.30  27.0%     -    0s\n"
     ]
    },
    {
     "name": "stderr",
     "output_type": "stream",
     "text": [
      "2023-05-15 13:52:06,006 - INFO -      0     0 -246647.30    0   38 -194189.00 -246647.30  27.0%     -    0s\n"
     ]
    },
    {
     "name": "stdout",
     "output_type": "stream",
     "text": [
      "     0     0 -246647.02    0   40 -194189.00 -246647.02  27.0%     -    0s\n"
     ]
    },
    {
     "name": "stderr",
     "output_type": "stream",
     "text": [
      "2023-05-15 13:52:06,010 - INFO -      0     0 -246647.02    0   40 -194189.00 -246647.02  27.0%     -    0s\n"
     ]
    },
    {
     "name": "stdout",
     "output_type": "stream",
     "text": [
      "     0     0 -246646.59    0   40 -194189.00 -246646.59  27.0%     -    0s\n"
     ]
    },
    {
     "name": "stderr",
     "output_type": "stream",
     "text": [
      "2023-05-15 13:52:06,015 - INFO -      0     0 -246646.59    0   40 -194189.00 -246646.59  27.0%     -    0s\n"
     ]
    },
    {
     "name": "stdout",
     "output_type": "stream",
     "text": [
      "     0     0 -246646.50    0   40 -194189.00 -246646.50  27.0%     -    0s\n"
     ]
    },
    {
     "name": "stderr",
     "output_type": "stream",
     "text": [
      "2023-05-15 13:52:06,019 - INFO -      0     0 -246646.50    0   40 -194189.00 -246646.50  27.0%     -    0s\n"
     ]
    },
    {
     "name": "stdout",
     "output_type": "stream",
     "text": [
      "     0     0 -246643.63    0   40 -194189.00 -246643.63  27.0%     -    0s\n"
     ]
    },
    {
     "name": "stderr",
     "output_type": "stream",
     "text": [
      "2023-05-15 13:52:06,035 - INFO -      0     0 -246643.63    0   40 -194189.00 -246643.63  27.0%     -    0s\n"
     ]
    },
    {
     "name": "stdout",
     "output_type": "stream",
     "text": [
      "     0     0 -246641.42    0   43 -194189.00 -246641.42  27.0%     -    0s\n"
     ]
    },
    {
     "name": "stderr",
     "output_type": "stream",
     "text": [
      "2023-05-15 13:52:06,036 - INFO -      0     0 -246641.42    0   43 -194189.00 -246641.42  27.0%     -    0s\n"
     ]
    },
    {
     "name": "stdout",
     "output_type": "stream",
     "text": [
      "     0     0 -246640.90    0   41 -194189.00 -246640.90  27.0%     -    0s\n"
     ]
    },
    {
     "name": "stderr",
     "output_type": "stream",
     "text": [
      "2023-05-15 13:52:06,036 - INFO -      0     0 -246640.90    0   41 -194189.00 -246640.90  27.0%     -    0s\n"
     ]
    },
    {
     "name": "stdout",
     "output_type": "stream",
     "text": [
      "     0     0 -246640.07    0   46 -194189.00 -246640.07  27.0%     -    0s\n"
     ]
    },
    {
     "name": "stderr",
     "output_type": "stream",
     "text": [
      "2023-05-15 13:52:06,053 - INFO -      0     0 -246640.07    0   46 -194189.00 -246640.07  27.0%     -    0s\n"
     ]
    },
    {
     "name": "stdout",
     "output_type": "stream",
     "text": [
      "     0     0 -246640.04    0   44 -194189.00 -246640.04  27.0%     -    0s\n"
     ]
    },
    {
     "name": "stderr",
     "output_type": "stream",
     "text": [
      "2023-05-15 13:52:06,059 - INFO -      0     0 -246640.04    0   44 -194189.00 -246640.04  27.0%     -    0s\n"
     ]
    },
    {
     "name": "stdout",
     "output_type": "stream",
     "text": [
      "     0     0 -246637.10    0   41 -194189.00 -246637.10  27.0%     -    0s\n"
     ]
    },
    {
     "name": "stderr",
     "output_type": "stream",
     "text": [
      "2023-05-15 13:52:06,081 - INFO -      0     0 -246637.10    0   41 -194189.00 -246637.10  27.0%     -    0s\n"
     ]
    },
    {
     "name": "stdout",
     "output_type": "stream",
     "text": [
      "     0     0 -246545.58    0   45 -194189.00 -246545.58  27.0%     -    0s\n"
     ]
    },
    {
     "name": "stderr",
     "output_type": "stream",
     "text": [
      "2023-05-15 13:52:06,153 - INFO -      0     0 -246545.58    0   45 -194189.00 -246545.58  27.0%     -    0s\n"
     ]
    },
    {
     "name": "stdout",
     "output_type": "stream",
     "text": [
      "     0     0 -246537.29    0   43 -194189.00 -246537.29  27.0%     -    0s\n"
     ]
    },
    {
     "name": "stderr",
     "output_type": "stream",
     "text": [
      "2023-05-15 13:52:06,162 - INFO -      0     0 -246537.29    0   43 -194189.00 -246537.29  27.0%     -    0s\n"
     ]
    },
    {
     "name": "stdout",
     "output_type": "stream",
     "text": [
      "     0     0 -246537.25    0   45 -194189.00 -246537.25  27.0%     -    0s\n"
     ]
    },
    {
     "name": "stderr",
     "output_type": "stream",
     "text": [
      "2023-05-15 13:52:06,173 - INFO -      0     0 -246537.25    0   45 -194189.00 -246537.25  27.0%     -    0s\n"
     ]
    },
    {
     "name": "stdout",
     "output_type": "stream",
     "text": [
      "     0     0 -246466.60    0   31 -194189.00 -246466.60  26.9%     -    0s\n"
     ]
    },
    {
     "name": "stderr",
     "output_type": "stream",
     "text": [
      "2023-05-15 13:52:06,184 - INFO -      0     0 -246466.60    0   31 -194189.00 -246466.60  26.9%     -    0s\n"
     ]
    },
    {
     "name": "stdout",
     "output_type": "stream",
     "text": [
      "     0     0 -246463.63    0   33 -194189.00 -246463.63  26.9%     -    0s\n"
     ]
    },
    {
     "name": "stderr",
     "output_type": "stream",
     "text": [
      "2023-05-15 13:52:06,191 - INFO -      0     0 -246463.63    0   33 -194189.00 -246463.63  26.9%     -    0s\n"
     ]
    },
    {
     "name": "stdout",
     "output_type": "stream",
     "text": [
      "     0     0 -246462.27    0   35 -194189.00 -246462.27  26.9%     -    0s\n"
     ]
    },
    {
     "name": "stderr",
     "output_type": "stream",
     "text": [
      "2023-05-15 13:52:06,198 - INFO -      0     0 -246462.27    0   35 -194189.00 -246462.27  26.9%     -    0s\n"
     ]
    },
    {
     "name": "stdout",
     "output_type": "stream",
     "text": [
      "     0     0 -246460.72    0   35 -194189.00 -246460.72  26.9%     -    0s\n"
     ]
    },
    {
     "name": "stderr",
     "output_type": "stream",
     "text": [
      "2023-05-15 13:52:06,203 - INFO -      0     0 -246460.72    0   35 -194189.00 -246460.72  26.9%     -    0s\n"
     ]
    },
    {
     "name": "stdout",
     "output_type": "stream",
     "text": [
      "     0     0 -246460.46    0   37 -194189.00 -246460.46  26.9%     -    0s\n"
     ]
    },
    {
     "name": "stderr",
     "output_type": "stream",
     "text": [
      "2023-05-15 13:52:06,208 - INFO -      0     0 -246460.46    0   37 -194189.00 -246460.46  26.9%     -    0s\n"
     ]
    },
    {
     "name": "stdout",
     "output_type": "stream",
     "text": [
      "     0     0 -246447.67    0   43 -194189.00 -246447.67  26.9%     -    0s\n"
     ]
    },
    {
     "name": "stderr",
     "output_type": "stream",
     "text": [
      "2023-05-15 13:52:06,224 - INFO -      0     0 -246447.67    0   43 -194189.00 -246447.67  26.9%     -    0s\n"
     ]
    },
    {
     "name": "stdout",
     "output_type": "stream",
     "text": [
      "     0     0 -246444.64    0   43 -194189.00 -246444.64  26.9%     -    0s\n"
     ]
    },
    {
     "name": "stderr",
     "output_type": "stream",
     "text": [
      "2023-05-15 13:52:06,229 - INFO -      0     0 -246444.64    0   43 -194189.00 -246444.64  26.9%     -    0s\n"
     ]
    },
    {
     "name": "stdout",
     "output_type": "stream",
     "text": [
      "     0     0 -246442.22    0   45 -194189.00 -246442.22  26.9%     -    0s\n"
     ]
    },
    {
     "name": "stderr",
     "output_type": "stream",
     "text": [
      "2023-05-15 13:52:06,234 - INFO -      0     0 -246442.22    0   45 -194189.00 -246442.22  26.9%     -    0s\n"
     ]
    },
    {
     "name": "stdout",
     "output_type": "stream",
     "text": [
      "     0     0 -246441.52    0   47 -194189.00 -246441.52  26.9%     -    0s\n"
     ]
    },
    {
     "name": "stderr",
     "output_type": "stream",
     "text": [
      "2023-05-15 13:52:06,241 - INFO -      0     0 -246441.52    0   47 -194189.00 -246441.52  26.9%     -    0s\n"
     ]
    },
    {
     "name": "stdout",
     "output_type": "stream",
     "text": [
      "     0     0 -246441.06    0   45 -194189.00 -246441.06  26.9%     -    0s\n"
     ]
    },
    {
     "name": "stderr",
     "output_type": "stream",
     "text": [
      "2023-05-15 13:52:06,244 - INFO -      0     0 -246441.06    0   45 -194189.00 -246441.06  26.9%     -    0s\n"
     ]
    },
    {
     "name": "stdout",
     "output_type": "stream",
     "text": [
      "     0     0 -246441.06    0   44 -194189.00 -246441.06  26.9%     -    0s\n"
     ]
    },
    {
     "name": "stderr",
     "output_type": "stream",
     "text": [
      "2023-05-15 13:52:06,244 - INFO -      0     0 -246441.06    0   44 -194189.00 -246441.06  26.9%     -    0s\n"
     ]
    },
    {
     "name": "stdout",
     "output_type": "stream",
     "text": [
      "     0     0 -246438.31    0   50 -194189.00 -246438.31  26.9%     -    0s\n"
     ]
    },
    {
     "name": "stderr",
     "output_type": "stream",
     "text": [
      "2023-05-15 13:52:06,269 - INFO -      0     0 -246438.31    0   50 -194189.00 -246438.31  26.9%     -    0s\n"
     ]
    },
    {
     "name": "stdout",
     "output_type": "stream",
     "text": [
      "     0     0 -246437.67    0   50 -194189.00 -246437.67  26.9%     -    0s\n"
     ]
    },
    {
     "name": "stderr",
     "output_type": "stream",
     "text": [
      "2023-05-15 13:52:06,274 - INFO -      0     0 -246437.67    0   50 -194189.00 -246437.67  26.9%     -    0s\n"
     ]
    },
    {
     "name": "stdout",
     "output_type": "stream",
     "text": [
      "     0     0 -246437.46    0   50 -194189.00 -246437.46  26.9%     -    0s\n"
     ]
    },
    {
     "name": "stderr",
     "output_type": "stream",
     "text": [
      "2023-05-15 13:52:06,280 - INFO -      0     0 -246437.46    0   50 -194189.00 -246437.46  26.9%     -    0s\n"
     ]
    },
    {
     "name": "stdout",
     "output_type": "stream",
     "text": [
      "     0     0 -246437.32    0   50 -194189.00 -246437.32  26.9%     -    0s\n"
     ]
    },
    {
     "name": "stderr",
     "output_type": "stream",
     "text": [
      "2023-05-15 13:52:06,284 - INFO -      0     0 -246437.32    0   50 -194189.00 -246437.32  26.9%     -    0s\n"
     ]
    },
    {
     "name": "stdout",
     "output_type": "stream",
     "text": [
      "     0     0 -246435.01    0   53 -194189.00 -246435.01  26.9%     -    0s\n"
     ]
    },
    {
     "name": "stderr",
     "output_type": "stream",
     "text": [
      "2023-05-15 13:52:06,319 - INFO -      0     0 -246435.01    0   53 -194189.00 -246435.01  26.9%     -    0s\n"
     ]
    },
    {
     "name": "stdout",
     "output_type": "stream",
     "text": [
      "     0     0 -246433.00    0   55 -194189.00 -246433.00  26.9%     -    0s\n"
     ]
    },
    {
     "name": "stderr",
     "output_type": "stream",
     "text": [
      "2023-05-15 13:52:06,327 - INFO -      0     0 -246433.00    0   55 -194189.00 -246433.00  26.9%     -    0s\n"
     ]
    },
    {
     "name": "stdout",
     "output_type": "stream",
     "text": [
      "     0     0 -246432.87    0   57 -194189.00 -246432.87  26.9%     -    0s\n"
     ]
    },
    {
     "name": "stderr",
     "output_type": "stream",
     "text": [
      "2023-05-15 13:52:06,334 - INFO -      0     0 -246432.87    0   57 -194189.00 -246432.87  26.9%     -    0s\n"
     ]
    },
    {
     "name": "stdout",
     "output_type": "stream",
     "text": [
      "     0     0 -246430.89    0   53 -194189.00 -246430.89  26.9%     -    0s\n"
     ]
    },
    {
     "name": "stderr",
     "output_type": "stream",
     "text": [
      "2023-05-15 13:52:06,355 - INFO -      0     0 -246430.89    0   53 -194189.00 -246430.89  26.9%     -    0s\n"
     ]
    },
    {
     "name": "stdout",
     "output_type": "stream",
     "text": [
      "     0     0 -246430.80    0   49 -194189.00 -246430.80  26.9%     -    0s\n"
     ]
    },
    {
     "name": "stderr",
     "output_type": "stream",
     "text": [
      "2023-05-15 13:52:06,362 - INFO -      0     0 -246430.80    0   49 -194189.00 -246430.80  26.9%     -    0s\n"
     ]
    },
    {
     "name": "stdout",
     "output_type": "stream",
     "text": [
      "     0     0 -246428.49    0   45 -194189.00 -246428.49  26.9%     -    0s\n"
     ]
    },
    {
     "name": "stderr",
     "output_type": "stream",
     "text": [
      "2023-05-15 13:52:06,381 - INFO -      0     0 -246428.49    0   45 -194189.00 -246428.49  26.9%     -    0s\n"
     ]
    },
    {
     "name": "stdout",
     "output_type": "stream",
     "text": [
      "     0     0 -246428.48    0   47 -194189.00 -246428.48  26.9%     -    0s\n"
     ]
    },
    {
     "name": "stderr",
     "output_type": "stream",
     "text": [
      "2023-05-15 13:52:06,392 - INFO -      0     0 -246428.48    0   47 -194189.00 -246428.48  26.9%     -    0s\n"
     ]
    },
    {
     "name": "stdout",
     "output_type": "stream",
     "text": [
      "     0     0 -246427.70    0   51 -194189.00 -246427.70  26.9%     -    0s\n"
     ]
    },
    {
     "name": "stderr",
     "output_type": "stream",
     "text": [
      "2023-05-15 13:52:06,410 - INFO -      0     0 -246427.70    0   51 -194189.00 -246427.70  26.9%     -    0s\n"
     ]
    },
    {
     "name": "stdout",
     "output_type": "stream",
     "text": [
      "     0     0 -246427.70    0   45 -194189.00 -246427.70  26.9%     -    0s\n"
     ]
    },
    {
     "name": "stderr",
     "output_type": "stream",
     "text": [
      "2023-05-15 13:52:06,420 - INFO -      0     0 -246427.70    0   45 -194189.00 -246427.70  26.9%     -    0s\n"
     ]
    },
    {
     "name": "stdout",
     "output_type": "stream",
     "text": [
      "     0     2 -246427.70    0   45 -194189.00 -246427.70  26.9%     -    0s\n"
     ]
    },
    {
     "name": "stderr",
     "output_type": "stream",
     "text": [
      "2023-05-15 13:52:06,465 - INFO -      0     2 -246427.70    0   45 -194189.00 -246427.70  26.9%     -    0s\n"
     ]
    },
    {
     "name": "stdout",
     "output_type": "stream",
     "text": [
      "   175   206 -243903.77   10   25 -194189.00 -246322.60  26.8%  10.7    6s\n"
     ]
    },
    {
     "name": "stderr",
     "output_type": "stream",
     "text": [
      "2023-05-15 13:52:12,004 - INFO -    175   206 -243903.77   10   25 -194189.00 -246322.60  26.8%  10.7    6s\n"
     ]
    },
    {
     "name": "stdout",
     "output_type": "stream",
     "text": [
      "   205   231 -243891.05   11   23 -194189.00 -246322.60  26.8%   9.5   11s\n"
     ]
    },
    {
     "name": "stderr",
     "output_type": "stream",
     "text": [
      "2023-05-15 13:52:17,467 - INFO -    205   231 -243891.05   11   23 -194189.00 -246322.60  26.8%   9.5   11s\n"
     ]
    },
    {
     "name": "stdout",
     "output_type": "stream",
     "text": [
      "  3926  4080 -235975.00   89    8 -194189.00 -246293.99  26.8%   5.5   15s\n"
     ]
    },
    {
     "name": "stderr",
     "output_type": "stream",
     "text": [
      "2023-05-15 13:52:20,714 - INFO -   3926  4080 -235975.00   89    8 -194189.00 -246293.99  26.8%   5.5   15s\n"
     ]
    },
    {
     "name": "stdout",
     "output_type": "stream",
     "text": [
      "  5864  4682 -243326.90   40   21 -194189.00 -246116.50  26.7%   9.4   22s\n"
     ]
    },
    {
     "name": "stderr",
     "output_type": "stream",
     "text": [
      "2023-05-15 13:52:28,349 - INFO -   5864  4682 -243326.90   40   21 -194189.00 -246116.50  26.7%   9.4   22s\n"
     ]
    },
    {
     "name": "stdout",
     "output_type": "stream",
     "text": [
      "  7769  5378 -243179.00   76   58 -194189.00 -246116.50  26.7%  11.4   29s\n"
     ]
    },
    {
     "name": "stderr",
     "output_type": "stream",
     "text": [
      "2023-05-15 13:52:35,107 - INFO -   7769  5378 -243179.00   76   58 -194189.00 -246116.50  26.7%  11.4   29s\n"
     ]
    },
    {
     "name": "stdout",
     "output_type": "stream",
     "text": [
      "  8577  5680 -241809.71   92   54 -194189.00 -246116.50  26.7%  13.4   30s\n"
     ]
    },
    {
     "name": "stderr",
     "output_type": "stream",
     "text": [
      "2023-05-15 13:52:35,714 - INFO -   8577  5680 -241809.71   92   54 -194189.00 -246116.50  26.7%  13.4   30s\n"
     ]
    },
    {
     "name": "stdout",
     "output_type": "stream",
     "text": [
      " 12909  6475 -245652.00   40   35 -194189.00 -246116.50  26.7%  18.6   35s\n"
     ]
    },
    {
     "name": "stderr",
     "output_type": "stream",
     "text": [
      "2023-05-15 13:52:40,840 - INFO -  12909  6475 -245652.00   40   35 -194189.00 -246116.50  26.7%  18.6   35s\n"
     ]
    },
    {
     "name": "stdout",
     "output_type": "stream",
     "text": [
      " 28515 13103 -243475.00   62   28 -194189.00 -246091.00  26.7%  28.5   40s\n"
     ]
    },
    {
     "name": "stderr",
     "output_type": "stream",
     "text": [
      "2023-05-15 13:52:45,724 - INFO -  28515 13103 -243475.00   62   28 -194189.00 -246091.00  26.7%  28.5   40s\n"
     ]
    },
    {
     "name": "stdout",
     "output_type": "stream",
     "text": [
      " 37254 16938 -243079.00   51   55 -194189.00 -246091.00  26.7%  32.2   47s\n"
     ]
    },
    {
     "name": "stderr",
     "output_type": "stream",
     "text": [
      "2023-05-15 13:52:53,041 - INFO -  37254 16938 -243079.00   51   55 -194189.00 -246091.00  26.7%  32.2   47s\n"
     ]
    },
    {
     "name": "stdout",
     "output_type": "stream",
     "text": [
      " 41531 19221 -246080.00   22   97 -194189.00 -246088.00  26.7%  33.8   50s\n"
     ]
    },
    {
     "name": "stderr",
     "output_type": "stream",
     "text": [
      "2023-05-15 13:52:55,953 - INFO -  41531 19221 -246080.00   22   97 -194189.00 -246088.00  26.7%  33.8   50s\n"
     ]
    },
    {
     "name": "stdout",
     "output_type": "stream",
     "text": [
      " 45189 20747 infeasible  191      -194189.00 -246080.00  26.7%  35.4   55s\n"
     ]
    },
    {
     "name": "stderr",
     "output_type": "stream",
     "text": [
      "2023-05-15 13:53:00,688 - INFO -  45189 20747 infeasible  191      -194189.00 -246080.00  26.7%  35.4   55s\n"
     ]
    },
    {
     "name": "stdout",
     "output_type": "stream",
     "text": [
      " 55200 26458 -246028.70   31   98 -194189.00 -246074.00  26.7%  38.6   60s\n"
     ]
    },
    {
     "name": "stderr",
     "output_type": "stream",
     "text": [
      "2023-05-15 13:53:05,807 - INFO -  55200 26458 -246028.70   31   98 -194189.00 -246074.00  26.7%  38.6   60s\n"
     ]
    },
    {
     "name": "stdout",
     "output_type": "stream",
     "text": [
      " 60835 28868 infeasible   42      -194189.00 -246068.53  26.7%  40.3   65s\n"
     ]
    },
    {
     "name": "stderr",
     "output_type": "stream",
     "text": [
      "2023-05-15 13:53:10,710 - INFO -  60835 28868 infeasible   42      -194189.00 -246068.53  26.7%  40.3   65s\n"
     ]
    },
    {
     "name": "stdout",
     "output_type": "stream",
     "text": [
      " 72128 34578 -245618.03   38   76 -194189.00 -246061.00  26.7%  43.9   70s\n"
     ]
    },
    {
     "name": "stderr",
     "output_type": "stream",
     "text": [
      "2023-05-15 13:53:16,588 - INFO -  72128 34578 -245618.03   38   76 -194189.00 -246061.00  26.7%  43.9   70s\n"
     ]
    },
    {
     "name": "stdout",
     "output_type": "stream",
     "text": [
      " 79794 37762 -243866.00   34   99 -194189.00 -246061.00  26.7%  46.1   78s\n"
     ]
    },
    {
     "name": "stderr",
     "output_type": "stream",
     "text": [
      "2023-05-15 13:53:23,990 - INFO -  79794 37762 -243866.00   34   99 -194189.00 -246061.00  26.7%  46.1   78s\n"
     ]
    },
    {
     "name": "stdout",
     "output_type": "stream",
     "text": [
      " 81918 39437 -245798.07   30   86 -194189.00 -246060.00  26.7%  46.7   80s\n"
     ]
    },
    {
     "name": "stderr",
     "output_type": "stream",
     "text": [
      "2023-05-15 13:53:26,426 - INFO -  81918 39437 -245798.07   30   86 -194189.00 -246060.00  26.7%  46.7   80s\n"
     ]
    },
    {
     "name": "stdout",
     "output_type": "stream",
     "text": [
      " 87318 41855 -234370.22  122   50 -194189.00 -246057.24  26.7%  48.2   85s\n"
     ]
    },
    {
     "name": "stderr",
     "output_type": "stream",
     "text": [
      "2023-05-15 13:53:30,823 - INFO -  87318 41855 -234370.22  122   50 -194189.00 -246057.24  26.7%  48.2   85s\n"
     ]
    },
    {
     "name": "stdout",
     "output_type": "stream",
     "text": [
      " 94174 44879 -243288.00   42   93 -194189.00 -246057.00  26.7%  49.8   94s\n"
     ]
    },
    {
     "name": "stderr",
     "output_type": "stream",
     "text": [
      "2023-05-15 13:53:39,973 - INFO -  94174 44879 -243288.00   42   93 -194189.00 -246057.00  26.7%  49.8   94s\n"
     ]
    },
    {
     "name": "stdout",
     "output_type": "stream",
     "text": [
      " 94552 45609 -243271.05   43   91 -194189.00 -246057.00  26.7%  49.9   95s\n"
     ]
    },
    {
     "name": "stderr",
     "output_type": "stream",
     "text": [
      "2023-05-15 13:53:41,448 - INFO -  94552 45609 -243271.05   43   91 -194189.00 -246057.00  26.7%  49.9   95s\n"
     ]
    },
    {
     "name": "stdout",
     "output_type": "stream",
     "text": [
      " 99534 47532 -245505.28   40   95 -194189.00 -246057.00  26.7%  51.1  103s\n"
     ]
    },
    {
     "name": "stderr",
     "output_type": "stream",
     "text": [
      "2023-05-15 13:53:49,022 - INFO -  99534 47532 -245505.28   40   95 -194189.00 -246057.00  26.7%  51.1  103s\n"
     ]
    },
    {
     "name": "stdout",
     "output_type": "stream",
     "text": [
      " 99783 48302 -245492.81   41   92 -194189.00 -246057.00  26.7%  51.1  105s\n"
     ]
    },
    {
     "name": "stderr",
     "output_type": "stream",
     "text": [
      "2023-05-15 13:53:50,790 - INFO -  99783 48302 -245492.81   41   92 -194189.00 -246057.00  26.7%  51.1  105s\n"
     ]
    },
    {
     "name": "stdout",
     "output_type": "stream",
     "text": [
      " 106245 51638 -245829.10   35   95 -194189.00 -246050.00  26.7%  53.1  110s\n"
     ]
    },
    {
     "name": "stderr",
     "output_type": "stream",
     "text": [
      "2023-05-15 13:53:55,844 - INFO -  106245 51638 -245829.10   35   95 -194189.00 -246050.00  26.7%  53.1  110s\n"
     ]
    },
    {
     "name": "stdout",
     "output_type": "stream",
     "text": [
      " 111408 54269 -246029.38   30  119 -194189.00 -246050.00  26.7%  54.3  115s\n"
     ]
    },
    {
     "name": "stderr",
     "output_type": "stream",
     "text": [
      "2023-05-15 13:54:00,867 - INFO -  111408 54269 -246029.38   30  119 -194189.00 -246050.00  26.7%  54.3  115s\n"
     ]
    },
    {
     "name": "stdout",
     "output_type": "stream",
     "text": [
      " 116438 57210 -235830.42   80   86 -194189.00 -246050.00  26.7%  55.4  120s\n"
     ]
    },
    {
     "name": "stderr",
     "output_type": "stream",
     "text": [
      "2023-05-15 13:54:06,317 - INFO -  116438 57210 -235830.42   80   86 -194189.00 -246050.00  26.7%  55.4  120s\n"
     ]
    },
    {
     "name": "stdout",
     "output_type": "stream",
     "text": [
      " 121471 59888 -219827.00   77   62 -194189.00 -246047.00  26.7%  56.4  125s\n"
     ]
    },
    {
     "name": "stderr",
     "output_type": "stream",
     "text": [
      "2023-05-15 13:54:11,086 - INFO -  121471 59888 -219827.00   77   62 -194189.00 -246047.00  26.7%  56.4  125s\n"
     ]
    },
    {
     "name": "stdout",
     "output_type": "stream",
     "text": [
      " 126946 62782 -245871.27   33   97 -194189.00 -246044.00  26.7%  57.4  130s\n"
     ]
    },
    {
     "name": "stderr",
     "output_type": "stream",
     "text": [
      "2023-05-15 13:54:15,807 - INFO -  126946 62782 -245871.27   33   97 -194189.00 -246044.00  26.7%  57.4  130s\n"
     ]
    },
    {
     "name": "stdout",
     "output_type": "stream",
     "text": [
      " 132777 66004 infeasible   93      -194189.00 -246042.00  26.7%  58.3  135s\n"
     ]
    },
    {
     "name": "stderr",
     "output_type": "stream",
     "text": [
      "2023-05-15 13:54:21,676 - INFO -  132777 66004 infeasible   93      -194189.00 -246042.00  26.7%  58.3  135s\n"
     ]
    },
    {
     "name": "stdout",
     "output_type": "stream",
     "text": [
      " 136623 68182 -241396.96   47   85 -194189.00 -246041.00  26.7%  58.8  140s\n"
     ]
    },
    {
     "name": "stderr",
     "output_type": "stream",
     "text": [
      "2023-05-15 13:54:26,277 - INFO -  136623 68182 -241396.96   47   85 -194189.00 -246041.00  26.7%  58.8  140s\n"
     ]
    },
    {
     "name": "stdout",
     "output_type": "stream",
     "text": [
      " 138859 68319 -245541.34   40   72 -194189.00 -246040.00  26.7%  59.0  145s\n"
     ]
    },
    {
     "name": "stderr",
     "output_type": "stream",
     "text": [
      "2023-05-15 13:54:30,768 - INFO -  138859 68319 -245541.34   40   72 -194189.00 -246040.00  26.7%  59.0  145s\n"
     ]
    },
    {
     "name": "stdout",
     "output_type": "stream",
     "text": [
      " 142971 71521 infeasible  125      -194189.00 -246038.00  26.7%  59.6  150s\n"
     ]
    },
    {
     "name": "stderr",
     "output_type": "stream",
     "text": [
      "2023-05-15 13:54:36,259 - INFO -  142971 71521 infeasible  125      -194189.00 -246038.00  26.7%  59.6  150s\n"
     ]
    },
    {
     "name": "stdout",
     "output_type": "stream",
     "text": [
      " 148932 74200 -241160.00   46   93 -194189.00 -246036.02  26.7%  60.2  155s\n"
     ]
    },
    {
     "name": "stderr",
     "output_type": "stream",
     "text": [
      "2023-05-15 13:54:41,301 - INFO -  148932 74200 -241160.00   46   93 -194189.00 -246036.02  26.7%  60.2  155s\n"
     ]
    },
    {
     "name": "stdout",
     "output_type": "stream",
     "text": [
      " 153531 76223 -224036.11   62   87 -194189.00 -246035.00  26.7%  61.1  160s\n"
     ]
    },
    {
     "name": "stderr",
     "output_type": "stream",
     "text": [
      "2023-05-15 13:54:45,739 - INFO -  153531 76223 -224036.11   62   87 -194189.00 -246035.00  26.7%  61.1  160s\n"
     ]
    },
    {
     "name": "stdout",
     "output_type": "stream",
     "text": [
      " 158670 79112 -243456.00   46   91 -194189.00 -246034.00  26.7%  61.8  165s\n"
     ]
    },
    {
     "name": "stderr",
     "output_type": "stream",
     "text": [
      "2023-05-15 13:54:51,584 - INFO -  158670 79112 -243456.00   46   91 -194189.00 -246034.00  26.7%  61.8  165s\n"
     ]
    },
    {
     "name": "stdout",
     "output_type": "stream",
     "text": [
      " 160780 80235 -239148.68   64   72 -194189.00 -246033.00  26.7%  62.2  170s\n"
     ]
    },
    {
     "name": "stderr",
     "output_type": "stream",
     "text": [
      "2023-05-15 13:54:56,596 - INFO -  160780 80235 -239148.68   64   72 -194189.00 -246033.00  26.7%  62.2  170s\n"
     ]
    },
    {
     "name": "stdout",
     "output_type": "stream",
     "text": [
      " 166187 83352 -245359.00   50   70 -194189.00 -246031.00  26.7%  63.1  175s\n"
     ]
    },
    {
     "name": "stderr",
     "output_type": "stream",
     "text": [
      "2023-05-15 13:55:01,581 - INFO -  166187 83352 -245359.00   50   70 -194189.00 -246031.00  26.7%  63.1  175s\n"
     ]
    },
    {
     "name": "stdout",
     "output_type": "stream",
     "text": [
      " 172641 86510 -245942.04   34   92 -194189.00 -246029.96  26.7%  63.9  180s\n"
     ]
    },
    {
     "name": "stderr",
     "output_type": "stream",
     "text": [
      "2023-05-15 13:55:06,531 - INFO -  172641 86510 -245942.04   34   92 -194189.00 -246029.96  26.7%  63.9  180s\n"
     ]
    },
    {
     "name": "stdout",
     "output_type": "stream",
     "text": [
      " 176319 87787 -243307.00   48   74 -194189.00 -246029.00  26.7%  64.3  187s\n"
     ]
    },
    {
     "name": "stderr",
     "output_type": "stream",
     "text": [
      "2023-05-15 13:55:12,933 - INFO -  176319 87787 -243307.00   48   74 -194189.00 -246029.00  26.7%  64.3  187s\n"
     ]
    },
    {
     "name": "stdout",
     "output_type": "stream",
     "text": [
      " 179002 89679 -244674.00   55  116 -194189.00 -246028.00  26.7%  64.6  191s\n"
     ]
    },
    {
     "name": "stderr",
     "output_type": "stream",
     "text": [
      "2023-05-15 13:55:16,695 - INFO -  179002 89679 -244674.00   55  116 -194189.00 -246028.00  26.7%  64.6  191s\n"
     ]
    },
    {
     "name": "stdout",
     "output_type": "stream",
     "text": [
      " 184010 93189 -228493.32   98   57 -194189.00 -246027.03  26.7%  65.1  196s\n"
     ]
    },
    {
     "name": "stderr",
     "output_type": "stream",
     "text": [
      "2023-05-15 13:55:22,033 - INFO -  184010 93189 -228493.32   98   57 -194189.00 -246027.03  26.7%  65.1  196s\n"
     ]
    },
    {
     "name": "stdout",
     "output_type": "stream",
     "text": [
      " 188472 96035 -245045.03   45   91 -194189.00 -246025.00  26.7%  65.3  200s\n"
     ]
    },
    {
     "name": "stderr",
     "output_type": "stream",
     "text": [
      "2023-05-15 13:55:25,714 - INFO -  188472 96035 -245045.03   45   91 -194189.00 -246025.00  26.7%  65.3  200s\n"
     ]
    },
    {
     "name": "stdout",
     "output_type": "stream",
     "text": [
      " 194434 98560     cutoff   94      -194189.00 -246024.61  26.7%  65.4  207s\n"
     ]
    },
    {
     "name": "stderr",
     "output_type": "stream",
     "text": [
      "2023-05-15 13:55:33,373 - INFO -  194434 98560     cutoff   94      -194189.00 -246024.61  26.7%  65.4  207s\n"
     ]
    },
    {
     "name": "stdout",
     "output_type": "stream",
     "text": [
      " 194904 99633 -246024.00   27  108 -194189.00 -246024.00  26.7%  65.4  210s\n"
     ]
    },
    {
     "name": "stderr",
     "output_type": "stream",
     "text": [
      "2023-05-15 13:55:36,307 - INFO -  194904 99633 -246024.00   27  108 -194189.00 -246024.00  26.7%  65.4  210s\n"
     ]
    },
    {
     "name": "stdout",
     "output_type": "stream",
     "text": [
      " 201368 103991 -239510.96   42  106 -194189.00 -246020.61  26.7%  65.7  216s\n"
     ]
    },
    {
     "name": "stderr",
     "output_type": "stream",
     "text": [
      "2023-05-15 13:55:41,953 - INFO -  201368 103991 -239510.96   42  106 -194189.00 -246020.61  26.7%  65.7  216s\n"
     ]
    },
    {
     "name": "stdout",
     "output_type": "stream",
     "text": [
      " 207529 107077 -228555.62   85   46 -194189.00 -246019.00  26.7%  66.1  220s\n"
     ]
    },
    {
     "name": "stderr",
     "output_type": "stream",
     "text": [
      "2023-05-15 13:55:45,739 - INFO -  207529 107077 -228555.62   85   46 -194189.00 -246019.00  26.7%  66.1  220s\n"
     ]
    },
    {
     "name": "stdout",
     "output_type": "stream",
     "text": [
      " 212438 111079 -231972.59   61   87 -194189.00 -246018.12  26.7%  66.3  225s\n"
     ]
    },
    {
     "name": "stderr",
     "output_type": "stream",
     "text": [
      "2023-05-15 13:55:51,384 - INFO -  212438 111079 -231972.59   61   87 -194189.00 -246018.12  26.7%  66.3  225s\n"
     ]
    },
    {
     "name": "stdout",
     "output_type": "stream",
     "text": [
      " 216519 113327 -227201.84   65  108 -194189.00 -246018.12  26.7%  66.5  230s\n"
     ]
    },
    {
     "name": "stderr",
     "output_type": "stream",
     "text": [
      "2023-05-15 13:55:56,084 - INFO -  216519 113327 -227201.84   65  108 -194189.00 -246018.12  26.7%  66.5  230s\n"
     ]
    },
    {
     "name": "stdout",
     "output_type": "stream",
     "text": [
      " 218291 113664 infeasible  101      -194189.00 -246018.12  26.7%  66.5  235s\n"
     ]
    },
    {
     "name": "stderr",
     "output_type": "stream",
     "text": [
      "2023-05-15 13:56:00,711 - INFO -  218291 113664 infeasible  101      -194189.00 -246018.12  26.7%  66.5  235s\n"
     ]
    },
    {
     "name": "stdout",
     "output_type": "stream",
     "text": [
      " 223237 118257 -219037.71   97   59 -194189.00 -246014.08  26.7%  66.6  240s\n"
     ]
    },
    {
     "name": "stderr",
     "output_type": "stream",
     "text": [
      "2023-05-15 13:56:06,617 - INFO -  223237 118257 -219037.71   97   59 -194189.00 -246014.08  26.7%  66.6  240s\n"
     ]
    },
    {
     "name": "stdout",
     "output_type": "stream",
     "text": [
      " 227930 121545 -242098.41   50  113 -194189.00 -246012.00  26.7%  66.6  245s\n"
     ]
    },
    {
     "name": "stderr",
     "output_type": "stream",
     "text": [
      "2023-05-15 13:56:10,707 - INFO -  227930 121545 -242098.41   50  113 -194189.00 -246012.00  26.7%  66.6  245s\n"
     ]
    },
    {
     "name": "stdout",
     "output_type": "stream",
     "text": [
      " 231071 121810 -206421.72   63   45 -194189.00 -246011.62  26.7%  66.7  428s\n"
     ]
    },
    {
     "name": "stderr",
     "output_type": "stream",
     "text": [
      "2023-05-15 13:59:14,602 - INFO -  231071 121810 -206421.72   63   45 -194189.00 -246011.62  26.7%  66.7  428s\n"
     ]
    },
    {
     "name": "stdout",
     "output_type": "stream",
     "text": [
      " 231074 121812 -222283.00  129   68 -194189.00 -246011.62  26.7%  66.7  430s\n"
     ]
    },
    {
     "name": "stderr",
     "output_type": "stream",
     "text": [
      "2023-05-15 13:59:15,937 - INFO -  231074 121812 -222283.00  129   68 -194189.00 -246011.62  26.7%  66.7  430s\n"
     ]
    },
    {
     "name": "stdout",
     "output_type": "stream",
     "text": [
      " 231104 121832 -219534.00   51  104 -194189.00 -246011.62  26.7%  66.7  435s\n"
     ]
    },
    {
     "name": "stderr",
     "output_type": "stream",
     "text": [
      "2023-05-15 13:59:21,016 - INFO -  231104 121832 -219534.00   51  104 -194189.00 -246011.62  26.7%  66.7  435s\n"
     ]
    },
    {
     "name": "stdout",
     "output_type": "stream",
     "text": [
      " 231109 121838 -246011.62   23  100 -194189.00 -246011.62  26.7%  66.8  440s\n"
     ]
    },
    {
     "name": "stderr",
     "output_type": "stream",
     "text": [
      "2023-05-15 13:59:25,905 - INFO -  231109 121838 -246011.62   23  100 -194189.00 -246011.62  26.7%  66.8  440s\n"
     ]
    },
    {
     "name": "stdout",
     "output_type": "stream",
     "text": [
      " 231151 121855 -245941.00   29   94 -194189.00 -246000.00  26.7%  66.8  445s\n"
     ]
    },
    {
     "name": "stderr",
     "output_type": "stream",
     "text": [
      "2023-05-15 13:59:30,985 - INFO -  231151 121855 -245941.00   29   94 -194189.00 -246000.00  26.7%  66.8  445s\n"
     ]
    },
    {
     "name": "stdout",
     "output_type": "stream",
     "text": [
      " 231217 121889 -245891.05   32   67 -194189.00 -246000.00  26.7%  66.9  450s\n"
     ]
    },
    {
     "name": "stderr",
     "output_type": "stream",
     "text": [
      "2023-05-15 13:59:35,936 - INFO -  231217 121889 -245891.05   32   67 -194189.00 -246000.00  26.7%  66.9  450s\n"
     ]
    },
    {
     "name": "stdout",
     "output_type": "stream",
     "text": [
      " 231401 121977 -245891.05   36   67 -194189.00 -246000.00  26.7%  67.0  455s\n"
     ]
    },
    {
     "name": "stderr",
     "output_type": "stream",
     "text": [
      "2023-05-15 13:59:41,518 - INFO -  231401 121977 -245891.05   36   67 -194189.00 -246000.00  26.7%  67.0  455s\n"
     ]
    },
    {
     "name": "stdout",
     "output_type": "stream",
     "text": [
      " 232646 122724 -240922.83   67   97 -194189.00 -246000.00  26.7%  67.5  460s\n"
     ]
    },
    {
     "name": "stderr",
     "output_type": "stream",
     "text": [
      "2023-05-15 13:59:46,307 - INFO -  232646 122724 -240922.83   67   97 -194189.00 -246000.00  26.7%  67.5  460s\n"
     ]
    },
    {
     "name": "stdout",
     "output_type": "stream",
     "text": [
      " 235058 123759 -245554.62   35   92 -194189.00 -246000.00  26.7%  67.5  468s\n"
     ]
    },
    {
     "name": "stderr",
     "output_type": "stream",
     "text": [
      "2023-05-15 13:59:53,822 - INFO -  235058 123759 -245554.62   35   92 -194189.00 -246000.00  26.7%  67.5  468s\n"
     ]
    },
    {
     "name": "stdout",
     "output_type": "stream",
     "text": [
      " 235808 124431 -244535.48   47   93 -194189.00 -246000.00  26.7%  67.5  470s\n"
     ]
    },
    {
     "name": "stderr",
     "output_type": "stream",
     "text": [
      "2023-05-15 13:59:56,031 - INFO -  235808 124431 -244535.48   47   93 -194189.00 -246000.00  26.7%  67.5  470s\n"
     ]
    },
    {
     "name": "stdout",
     "output_type": "stream",
     "text": [
      " 237276 125723 -223693.90   87   18 -194189.00 -246000.00  26.7%  67.4  475s\n"
     ]
    },
    {
     "name": "stderr",
     "output_type": "stream",
     "text": [
      "2023-05-15 14:00:01,438 - INFO -  237276 125723 -223693.90   87   18 -194189.00 -246000.00  26.7%  67.4  475s\n"
     ]
    },
    {
     "name": "stdout",
     "output_type": "stream",
     "text": [
      " 239283 126660 -244299.95   42  125 -194189.00 -246000.00  26.7%  67.3  481s\n"
     ]
    },
    {
     "name": "stderr",
     "output_type": "stream",
     "text": [
      "2023-05-15 14:00:07,232 - INFO -  239283 126660 -244299.95   42  125 -194189.00 -246000.00  26.7%  67.3  481s\n"
     ]
    },
    {
     "name": "stdout",
     "output_type": "stream",
     "text": [
      " 241207 127587 -231455.88   83   65 -194189.00 -246000.00  26.7%  67.2  486s\n"
     ]
    },
    {
     "name": "stderr",
     "output_type": "stream",
     "text": [
      "2023-05-15 14:00:12,010 - INFO -  241207 127587 -231455.88   83   65 -194189.00 -246000.00  26.7%  67.2  486s\n"
     ]
    },
    {
     "name": "stdout",
     "output_type": "stream",
     "text": [
      " 243354 128991 -243091.37   47   78 -194189.00 -245998.85  26.7%  67.0  490s\n"
     ]
    },
    {
     "name": "stderr",
     "output_type": "stream",
     "text": [
      "2023-05-15 14:00:16,613 - INFO -  243354 128991 -243091.37   47   78 -194189.00 -245998.85  26.7%  67.0  490s\n"
     ]
    },
    {
     "name": "stdout",
     "output_type": "stream",
     "text": [
      " 246021 130404 -245067.05   37  125 -194189.00 -245993.38  26.7%  66.8  495s\n"
     ]
    },
    {
     "name": "stderr",
     "output_type": "stream",
     "text": [
      "2023-05-15 14:00:21,223 - INFO -  246021 130404 -245067.05   37  125 -194189.00 -245993.38  26.7%  66.8  495s\n"
     ]
    },
    {
     "name": "stdout",
     "output_type": "stream",
     "text": [
      " 248709 131779 -239733.36   78   71 -194189.00 -245957.32  26.7%  66.6  500s\n"
     ]
    },
    {
     "name": "stderr",
     "output_type": "stream",
     "text": [
      "2023-05-15 14:00:25,700 - INFO -  248709 131779 -239733.36   78   71 -194189.00 -245957.32  26.7%  66.6  500s\n"
     ]
    },
    {
     "name": "stdout",
     "output_type": "stream",
     "text": [
      " 252887 132776     cutoff   84      -194189.00 -245953.68  26.7%  66.4  508s\n"
     ]
    },
    {
     "name": "stderr",
     "output_type": "stream",
     "text": [
      "2023-05-15 14:00:34,050 - INFO -  252887 132776     cutoff   84      -194189.00 -245953.68  26.7%  66.4  508s\n"
     ]
    },
    {
     "name": "stdout",
     "output_type": "stream",
     "text": [
      " 253172 133342     cutoff   83      -194189.00 -245873.12  26.6%  66.4  510s\n"
     ]
    },
    {
     "name": "stderr",
     "output_type": "stream",
     "text": [
      "2023-05-15 14:00:36,414 - INFO -  253172 133342     cutoff   83      -194189.00 -245873.12  26.6%  66.4  510s\n"
     ]
    },
    {
     "name": "stdout",
     "output_type": "stream",
     "text": [
      " 254904 133791 -236099.51   77   57 -194189.00 -245869.71  26.6%  66.8  515s\n"
     ]
    },
    {
     "name": "stderr",
     "output_type": "stream",
     "text": [
      "2023-05-15 14:00:41,462 - INFO -  254904 133791 -236099.51   77   57 -194189.00 -245869.71  26.6%  66.8  515s\n"
     ]
    },
    {
     "name": "stdout",
     "output_type": "stream",
     "text": [
      " 255930 133494 -245746.93   42  102 -194189.00 -245869.71  26.6%  66.9  523s\n"
     ]
    },
    {
     "name": "stderr",
     "output_type": "stream",
     "text": [
      "2023-05-15 14:00:49,066 - INFO -  255930 133494 -245746.93   42  102 -194189.00 -245869.71  26.6%  66.9  523s\n"
     ]
    },
    {
     "name": "stdout",
     "output_type": "stream",
     "text": [
      " 255998 134172 -245449.58   41  121 -194189.00 -245869.71  26.6%  66.9  526s\n"
     ]
    },
    {
     "name": "stderr",
     "output_type": "stream",
     "text": [
      "2023-05-15 14:00:52,602 - INFO -  255998 134172 -245449.58   41  121 -194189.00 -245869.71  26.6%  66.9  526s\n"
     ]
    },
    {
     "name": "stdout",
     "output_type": "stream",
     "text": [
      " 257094 135003 -243200.21   56  111 -194189.00 -245869.71  26.6%  67.1  530s\n"
     ]
    },
    {
     "name": "stderr",
     "output_type": "stream",
     "text": [
      "2023-05-15 14:00:55,897 - INFO -  257094 135003 -243200.21   56  111 -194189.00 -245869.71  26.6%  67.1  530s\n"
     ]
    },
    {
     "name": "stdout",
     "output_type": "stream",
     "text": [
      " 258887 134573 -239532.80   75   96 -194189.00 -245869.71  26.6%  67.1  538s\n"
     ]
    },
    {
     "name": "stderr",
     "output_type": "stream",
     "text": [
      "2023-05-15 14:01:03,920 - INFO -  258887 134573 -239532.80   75   96 -194189.00 -245869.71  26.6%  67.1  538s\n"
     ]
    },
    {
     "name": "stdout",
     "output_type": "stream",
     "text": [
      " 259147 135550 infeasible   76      -194189.00 -245856.28  26.6%  67.2  542s\n"
     ]
    },
    {
     "name": "stderr",
     "output_type": "stream",
     "text": [
      "2023-05-15 14:01:07,950 - INFO -  259147 135550 infeasible   76      -194189.00 -245856.28  26.6%  67.2  542s\n"
     ]
    },
    {
     "name": "stdout",
     "output_type": "stream",
     "text": [
      " 260641 136455 -245183.51   42   94 -194189.00 -245841.00  26.6%  67.3  545s\n"
     ]
    },
    {
     "name": "stderr",
     "output_type": "stream",
     "text": [
      "2023-05-15 14:01:11,134 - INFO -  260641 136455 -245183.51   42   94 -194189.00 -245841.00  26.6%  67.3  545s\n"
     ]
    },
    {
     "name": "stdout",
     "output_type": "stream",
     "text": [
      " 264160 138090 -241542.52   71  101 -194189.00 -245841.00  26.6%  67.6  552s\n"
     ]
    },
    {
     "name": "stderr",
     "output_type": "stream",
     "text": [
      "2023-05-15 14:01:18,608 - INFO -  264160 138090 -241542.52   71  101 -194189.00 -245841.00  26.6%  67.6  552s\n"
     ]
    },
    {
     "name": "stdout",
     "output_type": "stream",
     "text": [
      " 266307 139015 -236163.69   88   99 -194189.00 -245841.00  26.6%  67.6  556s\n"
     ]
    },
    {
     "name": "stderr",
     "output_type": "stream",
     "text": [
      "2023-05-15 14:01:21,723 - INFO -  266307 139015 -236163.69   88   99 -194189.00 -245841.00  26.6%  67.6  556s\n"
     ]
    },
    {
     "name": "stdout",
     "output_type": "stream",
     "text": [
      " 268380 139515 -245148.67   44   79 -194189.00 -245841.00  26.6%  67.7  560s\n"
     ]
    },
    {
     "name": "stderr",
     "output_type": "stream",
     "text": [
      "2023-05-15 14:01:26,046 - INFO -  268380 139515 -245148.67   44   79 -194189.00 -245841.00  26.6%  67.7  560s\n"
     ]
    },
    {
     "name": "stdout",
     "output_type": "stream",
     "text": [
      " 269840 139373 -239377.20   65   94 -194189.00 -245841.00  26.6%  67.9  565s\n"
     ]
    },
    {
     "name": "stderr",
     "output_type": "stream",
     "text": [
      "2023-05-15 14:01:31,210 - INFO -  269840 139373 -239377.20   65   94 -194189.00 -245841.00  26.6%  67.9  565s\n"
     ]
    },
    {
     "name": "stdout",
     "output_type": "stream",
     "text": [
      " 270273 141134 -239008.38   62   87 -194189.00 -245841.00  26.6%  67.9  570s\n"
     ]
    },
    {
     "name": "stderr",
     "output_type": "stream",
     "text": [
      "2023-05-15 14:01:36,680 - INFO -  270273 141134 -239008.38   62   87 -194189.00 -245841.00  26.6%  67.9  570s\n"
     ]
    },
    {
     "name": "stdout",
     "output_type": "stream",
     "text": [
      " 272862 141963 infeasible  117      -194189.00 -245841.00  26.6%  67.9  576s\n"
     ]
    },
    {
     "name": "stderr",
     "output_type": "stream",
     "text": [
      "2023-05-15 14:01:41,688 - INFO -  272862 141963 infeasible  117      -194189.00 -245841.00  26.6%  67.9  576s\n"
     ]
    },
    {
     "name": "stdout",
     "output_type": "stream",
     "text": [
      " 275119 143053 -232110.00  109    8 -194189.00 -245841.00  26.6%  67.9  583s\n"
     ]
    },
    {
     "name": "stderr",
     "output_type": "stream",
     "text": [
      "2023-05-15 14:01:48,695 - INFO -  275119 143053 -232110.00  109    8 -194189.00 -245841.00  26.6%  67.9  583s\n"
     ]
    },
    {
     "name": "stdout",
     "output_type": "stream",
     "text": [
      " 277844 144113     cutoff  110      -194189.00 -245841.00  26.6%  67.9  587s\n"
     ]
    },
    {
     "name": "stderr",
     "output_type": "stream",
     "text": [
      "2023-05-15 14:01:52,763 - INFO -  277844 144113     cutoff  110      -194189.00 -245841.00  26.6%  67.9  587s\n"
     ]
    },
    {
     "name": "stdout",
     "output_type": "stream",
     "text": [
      " 280292 145413 -237575.96   67  121 -194189.00 -245841.00  26.6%  68.0  591s\n"
     ]
    },
    {
     "name": "stderr",
     "output_type": "stream",
     "text": [
      "2023-05-15 14:01:57,062 - INFO -  280292 145413 -237575.96   67  121 -194189.00 -245841.00  26.6%  68.0  591s\n"
     ]
    },
    {
     "name": "stdout",
     "output_type": "stream",
     "text": [
      " 282910 145502 -245035.85   40  109 -194189.00 -245841.00  26.6%  68.0  597s\n"
     ]
    },
    {
     "name": "stderr",
     "output_type": "stream",
     "text": [
      "2023-05-15 14:02:03,108 - INFO -  282910 145502 -245035.85   40  109 -194189.00 -245841.00  26.6%  68.0  597s\n"
     ]
    },
    {
     "name": "stdout",
     "output_type": "stream",
     "text": [
      " 284149 145875 -245197.75   41   94 -194189.00 -245841.00  26.6%  68.1  600s\n"
     ]
    },
    {
     "name": "stderr",
     "output_type": "stream",
     "text": [
      "2023-05-15 14:02:05,690 - INFO -  284149 145875 -245197.75   41   94 -194189.00 -245841.00  26.6%  68.1  600s\n"
     ]
    },
    {
     "name": "stdout",
     "output_type": "stream",
     "text": [
      "\n"
     ]
    },
    {
     "name": "stderr",
     "output_type": "stream",
     "text": [
      "2023-05-15 14:02:05,877 - INFO - \n"
     ]
    },
    {
     "name": "stdout",
     "output_type": "stream",
     "text": [
      "Cutting planes:\n"
     ]
    },
    {
     "name": "stderr",
     "output_type": "stream",
     "text": [
      "2023-05-15 14:02:05,879 - INFO - Cutting planes:\n"
     ]
    },
    {
     "name": "stdout",
     "output_type": "stream",
     "text": [
      "  Gomory: 1\n"
     ]
    },
    {
     "name": "stderr",
     "output_type": "stream",
     "text": [
      "2023-05-15 14:02:05,881 - INFO -   Gomory: 1\n"
     ]
    },
    {
     "name": "stdout",
     "output_type": "stream",
     "text": [
      "  MIR: 5\n"
     ]
    },
    {
     "name": "stderr",
     "output_type": "stream",
     "text": [
      "2023-05-15 14:02:05,883 - INFO -   MIR: 5\n"
     ]
    },
    {
     "name": "stdout",
     "output_type": "stream",
     "text": [
      "  StrongCG: 1\n"
     ]
    },
    {
     "name": "stderr",
     "output_type": "stream",
     "text": [
      "2023-05-15 14:02:05,885 - INFO -   StrongCG: 1\n"
     ]
    },
    {
     "name": "stdout",
     "output_type": "stream",
     "text": [
      "  Flow cover: 9\n"
     ]
    },
    {
     "name": "stderr",
     "output_type": "stream",
     "text": [
      "2023-05-15 14:02:05,887 - INFO -   Flow cover: 9\n"
     ]
    },
    {
     "name": "stdout",
     "output_type": "stream",
     "text": [
      "  Zero half: 7\n"
     ]
    },
    {
     "name": "stderr",
     "output_type": "stream",
     "text": [
      "2023-05-15 14:02:05,890 - INFO -   Zero half: 7\n"
     ]
    },
    {
     "name": "stdout",
     "output_type": "stream",
     "text": [
      "  Lazy constraints: 1290\n"
     ]
    },
    {
     "name": "stderr",
     "output_type": "stream",
     "text": [
      "2023-05-15 14:02:05,892 - INFO -   Lazy constraints: 1290\n"
     ]
    },
    {
     "name": "stdout",
     "output_type": "stream",
     "text": [
      "\n"
     ]
    },
    {
     "name": "stderr",
     "output_type": "stream",
     "text": [
      "2023-05-15 14:02:05,894 - INFO - \n"
     ]
    },
    {
     "name": "stdout",
     "output_type": "stream",
     "text": [
      "Explored 285130 nodes (19414383 simplex iterations) in 600.21 seconds\n"
     ]
    },
    {
     "name": "stderr",
     "output_type": "stream",
     "text": [
      "2023-05-15 14:02:05,896 - INFO - Explored 285130 nodes (19414383 simplex iterations) in 600.21 seconds\n"
     ]
    },
    {
     "name": "stdout",
     "output_type": "stream",
     "text": [
      "Thread count was 24 (of 48 available processors)\n"
     ]
    },
    {
     "name": "stderr",
     "output_type": "stream",
     "text": [
      "2023-05-15 14:02:05,898 - INFO - Thread count was 24 (of 48 available processors)\n"
     ]
    },
    {
     "name": "stdout",
     "output_type": "stream",
     "text": [
      "\n"
     ]
    },
    {
     "name": "stderr",
     "output_type": "stream",
     "text": [
      "2023-05-15 14:02:05,900 - INFO - \n"
     ]
    },
    {
     "name": "stdout",
     "output_type": "stream",
     "text": [
      "Solution count 2: -194189 -134735 \n"
     ]
    },
    {
     "name": "stderr",
     "output_type": "stream",
     "text": [
      "2023-05-15 14:02:05,903 - INFO - Solution count 2: -194189 -134735 \n"
     ]
    },
    {
     "name": "stdout",
     "output_type": "stream",
     "text": [
      "\n"
     ]
    },
    {
     "name": "stderr",
     "output_type": "stream",
     "text": [
      "2023-05-15 14:02:05,904 - INFO - \n"
     ]
    },
    {
     "name": "stdout",
     "output_type": "stream",
     "text": [
      "Time limit reached\n"
     ]
    },
    {
     "name": "stderr",
     "output_type": "stream",
     "text": [
      "2023-05-15 14:02:05,906 - INFO - Time limit reached\n"
     ]
    },
    {
     "name": "stdout",
     "output_type": "stream",
     "text": [
      "Best objective -1.941890000000e+05, best bound -2.458270000000e+05, gap 26.5916%\n"
     ]
    },
    {
     "name": "stderr",
     "output_type": "stream",
     "text": [
      "2023-05-15 14:02:05,909 - INFO - Best objective -1.941890000000e+05, best bound -2.458270000000e+05, gap 26.5916%\n"
     ]
    },
    {
     "name": "stdout",
     "output_type": "stream",
     "text": [
      "\n"
     ]
    },
    {
     "name": "stderr",
     "output_type": "stream",
     "text": [
      "2023-05-15 14:02:05,911 - INFO - \n"
     ]
    },
    {
     "name": "stdout",
     "output_type": "stream",
     "text": [
      "User-callback calls 613339, time in user-callback 19.53 sec\n"
     ]
    },
    {
     "name": "stderr",
     "output_type": "stream",
     "text": [
      "2023-05-15 14:02:05,912 - INFO - User-callback calls 613339, time in user-callback 19.53 sec\n"
     ]
    },
    {
     "name": "stdout",
     "output_type": "stream",
     "text": [
      "{'Bounds': {'D200': {}, 'D160': {}, 'R200': {}, 'R160': {}, 'D201': {}, 'D161': {}, 'R201': {}, 'R161': {}, 'D202': {}, 'D162': {}, 'R202': {}, 'R162': {}, 'D203': {}, 'D163': {}, 'R203': {}, 'R163': {}, 'T200': {}, 'T160': {}, 'T201': {}, 'T161': {}, 'T202': {}, 'T162': {}, 'T203': {}, 'T163': {}, 'diff_D_T20_[0]': {}, 'diff_D_T16_[0]': {}, 'diff_D_T20_[1]': {}, 'diff_D_T16_[1]': {}, 'diff_D_T20_[2]': {}, 'diff_D_T16_[2]': {}, 'diff_D_T20_[3]': {'lb': -265117.0, 'min_soln': -207249.0}, 'diff_D_T16_[3]': {'lb': -245827.0, 'min_soln': -194189.0}}}\n",
      "Gurobi Optimizer version 9.1.2 build v9.1.2rc0 (win64)\n"
     ]
    },
    {
     "name": "stderr",
     "output_type": "stream",
     "text": [
      "2023-05-15 14:02:06,158 - INFO - Gurobi Optimizer version 9.1.2 build v9.1.2rc0 (win64)\n"
     ]
    },
    {
     "name": "stdout",
     "output_type": "stream",
     "text": [
      "Thread count: 24 physical cores, 48 logical processors, using up to 24 threads\n"
     ]
    },
    {
     "name": "stderr",
     "output_type": "stream",
     "text": [
      "2023-05-15 14:02:06,161 - INFO - Thread count: 24 physical cores, 48 logical processors, using up to 24 threads\n"
     ]
    },
    {
     "name": "stdout",
     "output_type": "stream",
     "text": [
      "Optimize a model with 127 rows, 688 columns and 2368 nonzeros\n"
     ]
    },
    {
     "name": "stderr",
     "output_type": "stream",
     "text": [
      "2023-05-15 14:02:06,164 - INFO - Optimize a model with 127 rows, 688 columns and 2368 nonzeros\n"
     ]
    },
    {
     "name": "stdout",
     "output_type": "stream",
     "text": [
      "Model fingerprint: 0xd6c7cf5e\n"
     ]
    },
    {
     "name": "stderr",
     "output_type": "stream",
     "text": [
      "2023-05-15 14:02:06,168 - INFO - Model fingerprint: 0xd6c7cf5e\n"
     ]
    },
    {
     "name": "stdout",
     "output_type": "stream",
     "text": [
      "Variable types: 32 continuous, 656 integer (656 binary)\n"
     ]
    },
    {
     "name": "stderr",
     "output_type": "stream",
     "text": [
      "2023-05-15 14:02:06,172 - INFO - Variable types: 32 continuous, 656 integer (656 binary)\n"
     ]
    },
    {
     "name": "stdout",
     "output_type": "stream",
     "text": [
      "Coefficient statistics:\n"
     ]
    },
    {
     "name": "stderr",
     "output_type": "stream",
     "text": [
      "2023-05-15 14:02:06,176 - INFO - Coefficient statistics:\n"
     ]
    },
    {
     "name": "stdout",
     "output_type": "stream",
     "text": [
      "  Matrix range     [1e+00, 2e+05]\n"
     ]
    },
    {
     "name": "stderr",
     "output_type": "stream",
     "text": [
      "2023-05-15 14:02:06,179 - INFO -   Matrix range     [1e+00, 2e+05]\n"
     ]
    },
    {
     "name": "stdout",
     "output_type": "stream",
     "text": [
      "  Objective range  [1e+00, 1e+00]\n"
     ]
    },
    {
     "name": "stderr",
     "output_type": "stream",
     "text": [
      "2023-05-15 14:02:06,182 - INFO -   Objective range  [1e+00, 1e+00]\n"
     ]
    },
    {
     "name": "stdout",
     "output_type": "stream",
     "text": [
      "  Bounds range     [1e+00, 8e+05]\n"
     ]
    },
    {
     "name": "stderr",
     "output_type": "stream",
     "text": [
      "2023-05-15 14:02:06,185 - INFO -   Bounds range     [1e+00, 8e+05]\n"
     ]
    },
    {
     "name": "stdout",
     "output_type": "stream",
     "text": [
      "  RHS range        [1e+00, 8e+05]\n"
     ]
    },
    {
     "name": "stderr",
     "output_type": "stream",
     "text": [
      "2023-05-15 14:02:06,187 - INFO -   RHS range        [1e+00, 8e+05]\n"
     ]
    },
    {
     "name": "stdout",
     "output_type": "stream",
     "text": [
      "\n"
     ]
    },
    {
     "name": "stderr",
     "output_type": "stream",
     "text": [
      "2023-05-15 14:02:06,190 - INFO - \n"
     ]
    },
    {
     "name": "stdout",
     "output_type": "stream",
     "text": [
      "User MIP start produced solution with objective -140378 (0.04s)\n"
     ]
    },
    {
     "name": "stderr",
     "output_type": "stream",
     "text": [
      "2023-05-15 14:02:06,199 - INFO - User MIP start produced solution with objective -140378 (0.04s)\n"
     ]
    },
    {
     "name": "stdout",
     "output_type": "stream",
     "text": [
      "Loaded user MIP start with objective -140378\n"
     ]
    },
    {
     "name": "stderr",
     "output_type": "stream",
     "text": [
      "2023-05-15 14:02:06,206 - INFO - Loaded user MIP start with objective -140378\n"
     ]
    },
    {
     "name": "stdout",
     "output_type": "stream",
     "text": [
      "MIP start from previous solve produced solution with objective -178169 (0.05s)\n"
     ]
    },
    {
     "name": "stderr",
     "output_type": "stream",
     "text": [
      "2023-05-15 14:02:06,212 - INFO - MIP start from previous solve produced solution with objective -178169 (0.05s)\n"
     ]
    },
    {
     "name": "stdout",
     "output_type": "stream",
     "text": [
      "Loaded MIP start from previous solve with objective -178169\n"
     ]
    },
    {
     "name": "stderr",
     "output_type": "stream",
     "text": [
      "2023-05-15 14:02:06,218 - INFO - Loaded MIP start from previous solve with objective -178169\n"
     ]
    },
    {
     "name": "stdout",
     "output_type": "stream",
     "text": [
      "\n"
     ]
    },
    {
     "name": "stderr",
     "output_type": "stream",
     "text": [
      "2023-05-15 14:02:06,220 - INFO - \n"
     ]
    },
    {
     "name": "stdout",
     "output_type": "stream",
     "text": [
      "Presolve removed 18 rows and 16 columns\n"
     ]
    },
    {
     "name": "stderr",
     "output_type": "stream",
     "text": [
      "2023-05-15 14:02:06,232 - INFO - Presolve removed 18 rows and 16 columns\n"
     ]
    },
    {
     "name": "stdout",
     "output_type": "stream",
     "text": [
      "Presolve time: 0.01s\n"
     ]
    },
    {
     "name": "stderr",
     "output_type": "stream",
     "text": [
      "2023-05-15 14:02:06,235 - INFO - Presolve time: 0.01s\n"
     ]
    },
    {
     "name": "stdout",
     "output_type": "stream",
     "text": [
      "Presolved: 109 rows, 672 columns, 2319 nonzeros\n"
     ]
    },
    {
     "name": "stderr",
     "output_type": "stream",
     "text": [
      "2023-05-15 14:02:06,238 - INFO - Presolved: 109 rows, 672 columns, 2319 nonzeros\n"
     ]
    },
    {
     "name": "stdout",
     "output_type": "stream",
     "text": [
      "Variable types: 0 continuous, 672 integer (656 binary)\n"
     ]
    },
    {
     "name": "stderr",
     "output_type": "stream",
     "text": [
      "2023-05-15 14:02:06,244 - INFO - Variable types: 0 continuous, 672 integer (656 binary)\n"
     ]
    },
    {
     "name": "stdout",
     "output_type": "stream",
     "text": [
      "\n"
     ]
    },
    {
     "name": "stderr",
     "output_type": "stream",
     "text": [
      "2023-05-15 14:02:06,248 - INFO - \n"
     ]
    },
    {
     "name": "stdout",
     "output_type": "stream",
     "text": [
      "Concurrent LP optimizer: primal simplex, dual simplex, and barrier\n"
     ]
    },
    {
     "name": "stderr",
     "output_type": "stream",
     "text": [
      "2023-05-15 14:02:06,250 - INFO - Concurrent LP optimizer: primal simplex, dual simplex, and barrier\n"
     ]
    },
    {
     "name": "stdout",
     "output_type": "stream",
     "text": [
      "Showing barrier log only...\n"
     ]
    },
    {
     "name": "stderr",
     "output_type": "stream",
     "text": [
      "2023-05-15 14:02:06,254 - INFO - Showing barrier log only...\n"
     ]
    },
    {
     "name": "stdout",
     "output_type": "stream",
     "text": [
      "\n"
     ]
    },
    {
     "name": "stderr",
     "output_type": "stream",
     "text": [
      "2023-05-15 14:02:06,256 - INFO - \n"
     ]
    },
    {
     "name": "stdout",
     "output_type": "stream",
     "text": [
      "Root barrier log...\n"
     ]
    },
    {
     "name": "stderr",
     "output_type": "stream",
     "text": [
      "2023-05-15 14:02:06,263 - INFO - Root barrier log...\n"
     ]
    },
    {
     "name": "stdout",
     "output_type": "stream",
     "text": [
      "\n"
     ]
    },
    {
     "name": "stderr",
     "output_type": "stream",
     "text": [
      "2023-05-15 14:02:06,267 - INFO - \n"
     ]
    },
    {
     "name": "stdout",
     "output_type": "stream",
     "text": [
      "Ordering time: 0.00s\n"
     ]
    },
    {
     "name": "stderr",
     "output_type": "stream",
     "text": [
      "2023-05-15 14:02:06,270 - INFO - Ordering time: 0.00s\n"
     ]
    },
    {
     "name": "stdout",
     "output_type": "stream",
     "text": [
      "\n"
     ]
    },
    {
     "name": "stderr",
     "output_type": "stream",
     "text": [
      "2023-05-15 14:02:06,274 - INFO - \n"
     ]
    },
    {
     "name": "stdout",
     "output_type": "stream",
     "text": [
      "Barrier performed 0 iterations in 0.11 seconds\n"
     ]
    },
    {
     "name": "stderr",
     "output_type": "stream",
     "text": [
      "2023-05-15 14:02:06,277 - INFO - Barrier performed 0 iterations in 0.11 seconds\n"
     ]
    },
    {
     "name": "stdout",
     "output_type": "stream",
     "text": [
      "Barrier solve interrupted - model solved by another algorithm\n"
     ]
    },
    {
     "name": "stderr",
     "output_type": "stream",
     "text": [
      "2023-05-15 14:02:06,280 - INFO - Barrier solve interrupted - model solved by another algorithm\n"
     ]
    },
    {
     "name": "stdout",
     "output_type": "stream",
     "text": [
      "\n"
     ]
    },
    {
     "name": "stderr",
     "output_type": "stream",
     "text": [
      "2023-05-15 14:02:06,283 - INFO - \n"
     ]
    },
    {
     "name": "stdout",
     "output_type": "stream",
     "text": [
      "\n"
     ]
    },
    {
     "name": "stderr",
     "output_type": "stream",
     "text": [
      "2023-05-15 14:02:06,286 - INFO - \n"
     ]
    },
    {
     "name": "stdout",
     "output_type": "stream",
     "text": [
      "Solved with dual simplex\n"
     ]
    },
    {
     "name": "stderr",
     "output_type": "stream",
     "text": [
      "2023-05-15 14:02:06,288 - INFO - Solved with dual simplex\n"
     ]
    },
    {
     "name": "stdout",
     "output_type": "stream",
     "text": [
      "\n"
     ]
    },
    {
     "name": "stderr",
     "output_type": "stream",
     "text": [
      "2023-05-15 14:02:06,291 - INFO - \n"
     ]
    },
    {
     "name": "stdout",
     "output_type": "stream",
     "text": [
      "Root relaxation: objective -2.829670e+05, 171 iterations, 0.04 seconds\n"
     ]
    },
    {
     "name": "stderr",
     "output_type": "stream",
     "text": [
      "2023-05-15 14:02:06,293 - INFO - Root relaxation: objective -2.829670e+05, 171 iterations, 0.04 seconds\n"
     ]
    },
    {
     "name": "stdout",
     "output_type": "stream",
     "text": [
      "\n"
     ]
    },
    {
     "name": "stderr",
     "output_type": "stream",
     "text": [
      "2023-05-15 14:02:06,298 - INFO - \n"
     ]
    },
    {
     "name": "stdout",
     "output_type": "stream",
     "text": [
      "    Nodes    |    Current Node    |     Objective Bounds      |     Work\n"
     ]
    },
    {
     "name": "stderr",
     "output_type": "stream",
     "text": [
      "2023-05-15 14:02:06,299 - INFO -     Nodes    |    Current Node    |     Objective Bounds      |     Work\n"
     ]
    },
    {
     "name": "stdout",
     "output_type": "stream",
     "text": [
      " Expl Unexpl |  Obj  Depth IntInf | Incumbent    BestBd   Gap | It/Node Time\n"
     ]
    },
    {
     "name": "stderr",
     "output_type": "stream",
     "text": [
      "2023-05-15 14:02:06,300 - INFO -  Expl Unexpl |  Obj  Depth IntInf | Incumbent    BestBd   Gap | It/Node Time\n"
     ]
    },
    {
     "name": "stdout",
     "output_type": "stream",
     "text": [
      "\n"
     ]
    },
    {
     "name": "stderr",
     "output_type": "stream",
     "text": [
      "2023-05-15 14:02:06,302 - INFO - \n"
     ]
    },
    {
     "name": "stdout",
     "output_type": "stream",
     "text": [
      "     0     0 -282967.00    0   26 -178169.00 -282967.00  58.8%     -    0s\n"
     ]
    },
    {
     "name": "stderr",
     "output_type": "stream",
     "text": [
      "2023-05-15 14:02:06,304 - INFO -      0     0 -282967.00    0   26 -178169.00 -282967.00  58.8%     -    0s\n"
     ]
    },
    {
     "name": "stdout",
     "output_type": "stream",
     "text": [
      "     0     0 -282903.14    0   33 -178169.00 -282903.14  58.8%     -    0s\n"
     ]
    },
    {
     "name": "stderr",
     "output_type": "stream",
     "text": [
      "2023-05-15 14:02:06,324 - INFO -      0     0 -282903.14    0   33 -178169.00 -282903.14  58.8%     -    0s\n"
     ]
    },
    {
     "name": "stdout",
     "output_type": "stream",
     "text": [
      "     0     0 -282411.73    0   28 -178169.00 -282411.73  58.5%     -    0s\n"
     ]
    },
    {
     "name": "stderr",
     "output_type": "stream",
     "text": [
      "2023-05-15 14:02:06,470 - INFO -      0     0 -282411.73    0   28 -178169.00 -282411.73  58.5%     -    0s\n"
     ]
    },
    {
     "name": "stdout",
     "output_type": "stream",
     "text": [
      "     0     0 -282395.49    0   45 -178169.00 -282395.49  58.5%     -    0s\n"
     ]
    },
    {
     "name": "stderr",
     "output_type": "stream",
     "text": [
      "2023-05-15 14:02:06,484 - INFO -      0     0 -282395.49    0   45 -178169.00 -282395.49  58.5%     -    0s\n"
     ]
    },
    {
     "name": "stdout",
     "output_type": "stream",
     "text": [
      "     0     0 -282376.60    0   46 -178169.00 -282376.60  58.5%     -    0s\n"
     ]
    },
    {
     "name": "stderr",
     "output_type": "stream",
     "text": [
      "2023-05-15 14:02:06,494 - INFO -      0     0 -282376.60    0   46 -178169.00 -282376.60  58.5%     -    0s\n"
     ]
    },
    {
     "name": "stdout",
     "output_type": "stream",
     "text": [
      "     0     0 -282359.34    0   46 -178169.00 -282359.34  58.5%     -    0s\n"
     ]
    },
    {
     "name": "stderr",
     "output_type": "stream",
     "text": [
      "2023-05-15 14:02:06,504 - INFO -      0     0 -282359.34    0   46 -178169.00 -282359.34  58.5%     -    0s\n"
     ]
    },
    {
     "name": "stdout",
     "output_type": "stream",
     "text": [
      "     0     0 -282356.14    0   44 -178169.00 -282356.14  58.5%     -    0s\n"
     ]
    },
    {
     "name": "stderr",
     "output_type": "stream",
     "text": [
      "2023-05-15 14:02:06,543 - INFO -      0     0 -282356.14    0   44 -178169.00 -282356.14  58.5%     -    0s\n"
     ]
    },
    {
     "name": "stdout",
     "output_type": "stream",
     "text": [
      "     0     0 -282319.61    0   40 -178169.00 -282319.61  58.5%     -    0s\n"
     ]
    },
    {
     "name": "stderr",
     "output_type": "stream",
     "text": [
      "2023-05-15 14:02:06,555 - INFO -      0     0 -282319.61    0   40 -178169.00 -282319.61  58.5%     -    0s\n"
     ]
    },
    {
     "name": "stdout",
     "output_type": "stream",
     "text": [
      "     0     0 -282317.54    0   44 -178169.00 -282317.54  58.5%     -    0s\n"
     ]
    },
    {
     "name": "stderr",
     "output_type": "stream",
     "text": [
      "2023-05-15 14:02:06,566 - INFO -      0     0 -282317.54    0   44 -178169.00 -282317.54  58.5%     -    0s\n"
     ]
    },
    {
     "name": "stdout",
     "output_type": "stream",
     "text": [
      "     0     0 -282311.84    0   34 -178169.00 -282311.84  58.5%     -    0s\n"
     ]
    },
    {
     "name": "stderr",
     "output_type": "stream",
     "text": [
      "2023-05-15 14:02:06,576 - INFO -      0     0 -282311.84    0   34 -178169.00 -282311.84  58.5%     -    0s\n"
     ]
    },
    {
     "name": "stdout",
     "output_type": "stream",
     "text": [
      "     0     0 -282307.65    0   41 -178169.00 -282307.65  58.4%     -    0s\n"
     ]
    },
    {
     "name": "stderr",
     "output_type": "stream",
     "text": [
      "2023-05-15 14:02:06,602 - INFO -      0     0 -282307.65    0   41 -178169.00 -282307.65  58.4%     -    0s\n"
     ]
    },
    {
     "name": "stdout",
     "output_type": "stream",
     "text": [
      "     0     0 -282290.70    0   41 -178169.00 -282290.70  58.4%     -    0s\n"
     ]
    },
    {
     "name": "stderr",
     "output_type": "stream",
     "text": [
      "2023-05-15 14:02:06,614 - INFO -      0     0 -282290.70    0   41 -178169.00 -282290.70  58.4%     -    0s\n"
     ]
    },
    {
     "name": "stdout",
     "output_type": "stream",
     "text": [
      "     0     0 -282289.01    0   48 -178169.00 -282289.01  58.4%     -    0s\n"
     ]
    },
    {
     "name": "stderr",
     "output_type": "stream",
     "text": [
      "2023-05-15 14:02:06,624 - INFO -      0     0 -282289.01    0   48 -178169.00 -282289.01  58.4%     -    0s\n"
     ]
    },
    {
     "name": "stdout",
     "output_type": "stream",
     "text": [
      "     0     0 -282289.01    0   51 -178169.00 -282289.01  58.4%     -    0s\n"
     ]
    },
    {
     "name": "stderr",
     "output_type": "stream",
     "text": [
      "2023-05-15 14:02:06,633 - INFO -      0     0 -282289.01    0   51 -178169.00 -282289.01  58.4%     -    0s\n"
     ]
    },
    {
     "name": "stdout",
     "output_type": "stream",
     "text": [
      "     0     0 -282282.21    0   50 -178169.00 -282282.21  58.4%     -    0s\n"
     ]
    },
    {
     "name": "stderr",
     "output_type": "stream",
     "text": [
      "2023-05-15 14:02:06,662 - INFO -      0     0 -282282.21    0   50 -178169.00 -282282.21  58.4%     -    0s\n"
     ]
    },
    {
     "name": "stdout",
     "output_type": "stream",
     "text": [
      "     0     0 -282279.69    0   53 -178169.00 -282279.69  58.4%     -    0s\n"
     ]
    },
    {
     "name": "stderr",
     "output_type": "stream",
     "text": [
      "2023-05-15 14:02:06,672 - INFO -      0     0 -282279.69    0   53 -178169.00 -282279.69  58.4%     -    0s\n"
     ]
    },
    {
     "name": "stdout",
     "output_type": "stream",
     "text": [
      "     0     0 -282279.69    0   54 -178169.00 -282279.69  58.4%     -    0s\n"
     ]
    },
    {
     "name": "stderr",
     "output_type": "stream",
     "text": [
      "2023-05-15 14:02:06,684 - INFO -      0     0 -282279.69    0   54 -178169.00 -282279.69  58.4%     -    0s\n"
     ]
    },
    {
     "name": "stdout",
     "output_type": "stream",
     "text": [
      "     0     0 -282278.71    0   56 -178169.00 -282278.71  58.4%     -    0s\n"
     ]
    },
    {
     "name": "stderr",
     "output_type": "stream",
     "text": [
      "2023-05-15 14:02:06,719 - INFO -      0     0 -282278.71    0   56 -178169.00 -282278.71  58.4%     -    0s\n"
     ]
    },
    {
     "name": "stdout",
     "output_type": "stream",
     "text": [
      "     0     0 -282278.71    0   49 -178169.00 -282278.71  58.4%     -    0s\n"
     ]
    },
    {
     "name": "stderr",
     "output_type": "stream",
     "text": [
      "2023-05-15 14:02:06,784 - INFO -      0     0 -282278.71    0   49 -178169.00 -282278.71  58.4%     -    0s\n"
     ]
    },
    {
     "name": "stdout",
     "output_type": "stream",
     "text": [
      "     0     2 -282257.67    0   49 -178169.00 -282257.67  58.4%     -    0s\n"
     ]
    },
    {
     "name": "stderr",
     "output_type": "stream",
     "text": [
      "2023-05-15 14:02:06,811 - INFO -      0     2 -282257.67    0   49 -178169.00 -282257.67  58.4%     -    0s\n"
     ]
    },
    {
     "name": "stdout",
     "output_type": "stream",
     "text": [
      "   834   834 -278322.91   31   42 -178169.00 -282150.55  58.4%  15.0    5s\n"
     ]
    },
    {
     "name": "stderr",
     "output_type": "stream",
     "text": [
      "2023-05-15 14:02:11,457 - INFO -    834   834 -278322.91   31   42 -178169.00 -282150.55  58.4%  15.0    5s\n"
     ]
    },
    {
     "name": "stdout",
     "output_type": "stream",
     "text": [
      "  3542  3110 -280136.62   23   70 -178169.00 -281766.56  58.1%  18.7   11s\n"
     ]
    },
    {
     "name": "stderr",
     "output_type": "stream",
     "text": [
      "2023-05-15 14:02:17,447 - INFO -   3542  3110 -280136.62   23   70 -178169.00 -281766.56  58.1%  18.7   11s\n"
     ]
    },
    {
     "name": "stdout",
     "output_type": "stream",
     "text": [
      "  8054  5641 -260747.18   95   28 -178169.00 -281766.56  58.1%  19.4   15s\n"
     ]
    },
    {
     "name": "stderr",
     "output_type": "stream",
     "text": [
      "2023-05-15 14:02:21,170 - INFO -   8054  5641 -260747.18   95   28 -178169.00 -281766.56  58.1%  19.4   15s\n"
     ]
    },
    {
     "name": "stdout",
     "output_type": "stream",
     "text": [
      "H11198  7076                    -188929.0000 -281484.03  49.0%  19.8   18s\n"
     ]
    },
    {
     "name": "stderr",
     "output_type": "stream",
     "text": [
      "2023-05-15 14:02:24,166 - INFO - H11198  7076                    -188929.0000 -281484.03  49.0%  19.8   18s\n"
     ]
    },
    {
     "name": "stdout",
     "output_type": "stream",
     "text": [
      " 13925  9190 -274711.66   39   90 -188929.00 -281463.90  49.0%  20.5   22s\n"
     ]
    },
    {
     "name": "stderr",
     "output_type": "stream",
     "text": [
      "2023-05-15 14:02:28,531 - INFO -  13925  9190 -274711.66   39   90 -188929.00 -281463.90  49.0%  20.5   22s\n"
     ]
    },
    {
     "name": "stdout",
     "output_type": "stream",
     "text": [
      " 17174 11927 -274115.62   55   46 -188929.00 -281390.08  48.9%  21.7   25s\n"
     ]
    },
    {
     "name": "stderr",
     "output_type": "stream",
     "text": [
      "2023-05-15 14:02:31,652 - INFO -  17174 11927 -274115.62   55   46 -188929.00 -281390.08  48.9%  21.7   25s\n"
     ]
    },
    {
     "name": "stdout",
     "output_type": "stream",
     "text": [
      " 23919 17895 -273913.33   48   92 -188929.00 -281010.31  48.7%  24.0   30s\n"
     ]
    },
    {
     "name": "stderr",
     "output_type": "stream",
     "text": [
      "2023-05-15 14:02:36,457 - INFO -  23919 17895 -273913.33   48   92 -188929.00 -281010.31  48.7%  24.0   30s\n"
     ]
    },
    {
     "name": "stdout",
     "output_type": "stream",
     "text": [
      "H24616 17629                    -215240.0000 -281010.31  30.6%  24.1   34s\n"
     ]
    },
    {
     "name": "stderr",
     "output_type": "stream",
     "text": [
      "2023-05-15 14:02:41,112 - INFO - H24616 17629                    -215240.0000 -281010.31  30.6%  24.1   34s\n"
     ]
    },
    {
     "name": "stdout",
     "output_type": "stream",
     "text": [
      " 24627 18180 -265571.79   69   82 -215240.00 -280940.96  30.5%  24.1   35s\n"
     ]
    },
    {
     "name": "stderr",
     "output_type": "stream",
     "text": [
      "2023-05-15 14:02:41,399 - INFO -  24627 18180 -265571.79   69   82 -215240.00 -280940.96  30.5%  24.1   35s\n"
     ]
    },
    {
     "name": "stdout",
     "output_type": "stream",
     "text": [
      " 36169 27878 -267434.60   50   96 -215240.00 -280785.61  30.5%  26.9   40s\n"
     ]
    },
    {
     "name": "stderr",
     "output_type": "stream",
     "text": [
      "2023-05-15 14:02:47,105 - INFO -  36169 27878 -267434.60   50   96 -215240.00 -280785.61  30.5%  26.9   40s\n"
     ]
    },
    {
     "name": "stdout",
     "output_type": "stream",
     "text": [
      " 43125 32765 -264548.40   62   70 -215240.00 -280673.69  30.4%  28.4   50s\n"
     ]
    },
    {
     "name": "stderr",
     "output_type": "stream",
     "text": [
      "2023-05-15 14:02:56,465 - INFO -  43125 32765 -264548.40   62   70 -215240.00 -280673.69  30.4%  28.4   50s\n"
     ]
    },
    {
     "name": "stdout",
     "output_type": "stream",
     "text": [
      " 49638 39199 -260245.83   75   58 -215240.00 -280579.60  30.4%  30.0   55s\n"
     ]
    },
    {
     "name": "stderr",
     "output_type": "stream",
     "text": [
      "2023-05-15 14:03:02,077 - INFO -  49638 39199 -260245.83   75   58 -215240.00 -280579.60  30.4%  30.0   55s\n"
     ]
    },
    {
     "name": "stdout",
     "output_type": "stream",
     "text": [
      " 52419 40774 -273248.64   41   73 -215240.00 -280546.70  30.3%  30.4   60s\n"
     ]
    },
    {
     "name": "stderr",
     "output_type": "stream",
     "text": [
      "2023-05-15 14:03:06,411 - INFO -  52419 40774 -273248.64   41   73 -215240.00 -280546.70  30.3%  30.4   60s\n"
     ]
    },
    {
     "name": "stdout",
     "output_type": "stream",
     "text": [
      " 57298 45798 -262367.07   71   32 -215240.00 -280478.19  30.3%  31.6   65s\n"
     ]
    },
    {
     "name": "stderr",
     "output_type": "stream",
     "text": [
      "2023-05-15 14:03:11,305 - INFO -  57298 45798 -262367.07   71   32 -215240.00 -280478.19  30.3%  31.6   65s\n"
     ]
    },
    {
     "name": "stdout",
     "output_type": "stream",
     "text": [
      " 66106 52310 infeasible   86      -215240.00 -280385.46  30.3%  33.0   70s\n"
     ]
    },
    {
     "name": "stderr",
     "output_type": "stream",
     "text": [
      "2023-05-15 14:03:17,030 - INFO -  66106 52310 infeasible   86      -215240.00 -280385.46  30.3%  33.0   70s\n"
     ]
    },
    {
     "name": "stdout",
     "output_type": "stream",
     "text": [
      " 70994 55765 -243430.54   49  100 -215240.00 -280340.18  30.2%  33.6   76s\n"
     ]
    },
    {
     "name": "stderr",
     "output_type": "stream",
     "text": [
      "2023-05-15 14:03:22,725 - INFO -  70994 55765 -243430.54   49  100 -215240.00 -280340.18  30.2%  33.6   76s\n"
     ]
    },
    {
     "name": "stdout",
     "output_type": "stream",
     "text": [
      " 75640 58672 -276554.15   30  123 -215240.00 -280309.85  30.2%  34.1   84s\n"
     ]
    },
    {
     "name": "stderr",
     "output_type": "stream",
     "text": [
      "2023-05-15 14:03:31,050 - INFO -  75640 58672 -276554.15   30  123 -215240.00 -280309.85  30.2%  34.1   84s\n"
     ]
    },
    {
     "name": "stdout",
     "output_type": "stream",
     "text": [
      " 75825 59825 -275502.24   31  106 -215240.00 -280306.77  30.2%  34.1   86s\n"
     ]
    },
    {
     "name": "stderr",
     "output_type": "stream",
     "text": [
      "2023-05-15 14:03:32,536 - INFO -  75825 59825 -275502.24   31  106 -215240.00 -280306.77  30.2%  34.1   86s\n"
     ]
    },
    {
     "name": "stdout",
     "output_type": "stream",
     "text": [
      " 80630 64103 infeasible   84      -215240.00 -280272.56  30.2%  35.2   90s\n"
     ]
    },
    {
     "name": "stderr",
     "output_type": "stream",
     "text": [
      "2023-05-15 14:03:36,503 - INFO -  80630 64103 infeasible   84      -215240.00 -280272.56  30.2%  35.2   90s\n"
     ]
    },
    {
     "name": "stdout",
     "output_type": "stream",
     "text": [
      " 85818 67811 -277243.04   37  115 -215240.00 -280240.83  30.2%  35.7   96s\n"
     ]
    },
    {
     "name": "stderr",
     "output_type": "stream",
     "text": [
      "2023-05-15 14:03:42,428 - INFO -  85818 67811 -277243.04   37  115 -215240.00 -280240.83  30.2%  35.7   96s\n"
     ]
    },
    {
     "name": "stdout",
     "output_type": "stream",
     "text": [
      " 90701 71583 -279298.33   31  104 -215240.00 -280213.99  30.2%  36.5  100s\n"
     ]
    },
    {
     "name": "stderr",
     "output_type": "stream",
     "text": [
      "2023-05-15 14:03:46,508 - INFO -  90701 71583 -279298.33   31  104 -215240.00 -280213.99  30.2%  36.5  100s\n"
     ]
    },
    {
     "name": "stdout",
     "output_type": "stream",
     "text": [
      " 96496 75774 -277534.96   31   79 -215240.00 -280184.04  30.2%  37.0  105s\n"
     ]
    },
    {
     "name": "stderr",
     "output_type": "stream",
     "text": [
      "2023-05-15 14:03:51,189 - INFO -  96496 75774 -277534.96   31   79 -215240.00 -280184.04  30.2%  37.0  105s\n"
     ]
    },
    {
     "name": "stdout",
     "output_type": "stream",
     "text": [
      " 101101 79658 infeasible   98      -215240.00 -280164.87  30.2%  37.6  110s\n"
     ]
    },
    {
     "name": "stderr",
     "output_type": "stream",
     "text": [
      "2023-05-15 14:03:56,530 - INFO -  101101 79658 infeasible   98      -215240.00 -280164.87  30.2%  37.6  110s\n"
     ]
    },
    {
     "name": "stdout",
     "output_type": "stream",
     "text": [
      " 105954 83087 -252773.38   67   69 -215240.00 -280143.25  30.2%  38.0  115s\n"
     ]
    },
    {
     "name": "stderr",
     "output_type": "stream",
     "text": [
      "2023-05-15 14:04:01,607 - INFO -  105954 83087 -252773.38   67   69 -215240.00 -280143.25  30.2%  38.0  115s\n"
     ]
    },
    {
     "name": "stdout",
     "output_type": "stream",
     "text": [
      " 112528 88299 -269434.17   48   96 -215240.00 -280127.26  30.1%  38.8  121s\n"
     ]
    },
    {
     "name": "stderr",
     "output_type": "stream",
     "text": [
      "2023-05-15 14:04:07,699 - INFO -  112528 88299 -269434.17   48   96 -215240.00 -280127.26  30.1%  38.8  121s\n"
     ]
    },
    {
     "name": "stdout",
     "output_type": "stream",
     "text": [
      " 117284 91683 -263650.59   55   88 -215240.00 -280091.22  30.1%  39.3  126s\n"
     ]
    },
    {
     "name": "stderr",
     "output_type": "stream",
     "text": [
      "2023-05-15 14:04:12,918 - INFO -  117284 91683 -263650.59   55   88 -215240.00 -280091.22  30.1%  39.3  126s\n"
     ]
    },
    {
     "name": "stdout",
     "output_type": "stream",
     "text": [
      "H117747 91194                    -218752.0000 -280089.38  28.0%  39.3  126s\n"
     ]
    },
    {
     "name": "stderr",
     "output_type": "stream",
     "text": [
      "2023-05-15 14:04:13,014 - INFO - H117747 91194                    -218752.0000 -280089.38  28.0%  39.3  126s\n"
     ]
    },
    {
     "name": "stdout",
     "output_type": "stream",
     "text": [
      " 120810 93614 -255122.46   63   85 -218752.00 -280083.57  28.0%  39.7  130s\n"
     ]
    },
    {
     "name": "stderr",
     "output_type": "stream",
     "text": [
      "2023-05-15 14:04:16,169 - INFO -  120810 93614 -255122.46   63   85 -218752.00 -280083.57  28.0%  39.7  130s\n"
     ]
    },
    {
     "name": "stdout",
     "output_type": "stream",
     "text": [
      " 124780 96521 infeasible  102      -218752.00 -280066.42  28.0%  40.1  137s\n"
     ]
    },
    {
     "name": "stderr",
     "output_type": "stream",
     "text": [
      "2023-05-15 14:04:23,773 - INFO -  124780 96521 infeasible  102      -218752.00 -280066.42  28.0%  40.1  137s\n"
     ]
    },
    {
     "name": "stdout",
     "output_type": "stream",
     "text": [
      " 126730 98919 -276966.27   31  114 -218752.00 -280054.34  28.0%  40.4  141s\n"
     ]
    },
    {
     "name": "stderr",
     "output_type": "stream",
     "text": [
      "2023-05-15 14:04:27,347 - INFO -  126730 98919 -276966.27   31  114 -218752.00 -280054.34  28.0%  40.4  141s\n"
     ]
    },
    {
     "name": "stdout",
     "output_type": "stream",
     "text": [
      " 131394 102467 -272898.33   46  109 -218752.00 -280037.62  28.0%  41.2  145s\n"
     ]
    },
    {
     "name": "stderr",
     "output_type": "stream",
     "text": [
      "2023-05-15 14:04:31,688 - INFO -  131394 102467 -272898.33   46  109 -218752.00 -280037.62  28.0%  41.2  145s\n"
     ]
    },
    {
     "name": "stdout",
     "output_type": "stream",
     "text": [
      " 132920 102693 -276486.28   32  123 -218752.00 -280037.62  28.0%  41.4  150s\n"
     ]
    },
    {
     "name": "stderr",
     "output_type": "stream",
     "text": [
      "2023-05-15 14:04:36,387 - INFO -  132920 102693 -276486.28   32  123 -218752.00 -280037.62  28.0%  41.4  150s\n"
     ]
    },
    {
     "name": "stdout",
     "output_type": "stream",
     "text": [
      " 134561 104703 -272410.96   37  107 -218752.00 -280027.97  28.0%  41.6  155s\n"
     ]
    },
    {
     "name": "stderr",
     "output_type": "stream",
     "text": [
      "2023-05-15 14:04:41,584 - INFO -  134561 104703 -272410.96   37  107 -218752.00 -280027.97  28.0%  41.6  155s\n"
     ]
    },
    {
     "name": "stdout",
     "output_type": "stream",
     "text": [
      " 138889 108274 -265289.32   55   57 -218752.00 -280009.91  28.0%  42.3  160s\n"
     ]
    },
    {
     "name": "stderr",
     "output_type": "stream",
     "text": [
      "2023-05-15 14:04:46,995 - INFO -  138889 108274 -265289.32   55   57 -218752.00 -280009.91  28.0%  42.3  160s\n"
     ]
    },
    {
     "name": "stdout",
     "output_type": "stream",
     "text": [
      " 143059 111763 -275331.76   47  124 -218752.00 -279988.89  28.0%  42.8  165s\n"
     ]
    },
    {
     "name": "stderr",
     "output_type": "stream",
     "text": [
      "2023-05-15 14:04:51,504 - INFO -  143059 111763 -275331.76   47  124 -218752.00 -279988.89  28.0%  42.8  165s\n"
     ]
    },
    {
     "name": "stdout",
     "output_type": "stream",
     "text": [
      " 146072 114221 -262581.99   59   72 -218752.00 -279985.44  28.0%  43.2  170s\n"
     ]
    },
    {
     "name": "stderr",
     "output_type": "stream",
     "text": [
      "2023-05-15 14:04:56,209 - INFO -  146072 114221 -262581.99   59   72 -218752.00 -279985.44  28.0%  43.2  170s\n"
     ]
    },
    {
     "name": "stdout",
     "output_type": "stream",
     "text": [
      " 150542 117631     cutoff   60      -218752.00 -279968.66  28.0%  43.7  176s\n"
     ]
    },
    {
     "name": "stderr",
     "output_type": "stream",
     "text": [
      "2023-05-15 14:05:02,834 - INFO -  150542 117631     cutoff   60      -218752.00 -279968.66  28.0%  43.7  176s\n"
     ]
    },
    {
     "name": "stdout",
     "output_type": "stream",
     "text": [
      " 153577 119842 -277361.21   32   97 -218752.00 -279951.65  28.0%  44.1  181s\n"
     ]
    },
    {
     "name": "stderr",
     "output_type": "stream",
     "text": [
      "2023-05-15 14:05:07,342 - INFO -  153577 119842 -277361.21   32   97 -218752.00 -279951.65  28.0%  44.1  181s\n"
     ]
    },
    {
     "name": "stdout",
     "output_type": "stream",
     "text": [
      " 156224 122094 -235903.14   85   89 -218752.00 -279939.83  28.0%  44.4  185s\n"
     ]
    },
    {
     "name": "stderr",
     "output_type": "stream",
     "text": [
      "2023-05-15 14:05:11,611 - INFO -  156224 122094 -235903.14   85   89 -218752.00 -279939.83  28.0%  44.4  185s\n"
     ]
    },
    {
     "name": "stdout",
     "output_type": "stream",
     "text": [
      " 160593 124428 -264243.13   63   49 -218752.00 -279922.18  28.0%  44.9  347s\n"
     ]
    },
    {
     "name": "stderr",
     "output_type": "stream",
     "text": [
      "2023-05-15 14:07:53,817 - INFO -  160593 124428 -264243.13   63   49 -218752.00 -279922.18  28.0%  44.9  347s\n"
     ]
    },
    {
     "name": "stdout",
     "output_type": "stream",
     "text": [
      " 160610 124439 -275019.08   37  108 -218752.00 -279922.18  28.0%  44.9  350s\n"
     ]
    },
    {
     "name": "stderr",
     "output_type": "stream",
     "text": [
      "2023-05-15 14:07:56,303 - INFO -  160610 124439 -275019.08   37  108 -218752.00 -279922.18  28.0%  44.9  350s\n"
     ]
    },
    {
     "name": "stdout",
     "output_type": "stream",
     "text": [
      " 160627 124454 -279922.18   27   93 -218752.00 -279922.18  28.0%  44.9  356s\n"
     ]
    },
    {
     "name": "stderr",
     "output_type": "stream",
     "text": [
      "2023-05-15 14:08:02,952 - INFO -  160627 124454 -279922.18   27   93 -218752.00 -279922.18  28.0%  44.9  356s\n"
     ]
    },
    {
     "name": "stdout",
     "output_type": "stream",
     "text": [
      " 160633 124464 -279551.95   29   85 -218752.00 -279922.18  28.0%  44.9  360s\n"
     ]
    },
    {
     "name": "stderr",
     "output_type": "stream",
     "text": [
      "2023-05-15 14:08:06,504 - INFO -  160633 124464 -279551.95   29   85 -218752.00 -279922.18  28.0%  44.9  360s\n"
     ]
    },
    {
     "name": "stdout",
     "output_type": "stream",
     "text": [
      "H160673 118266                    -220813.0000 -279922.18  26.8%  44.9  363s\n"
     ]
    },
    {
     "name": "stderr",
     "output_type": "stream",
     "text": [
      "2023-05-15 14:08:09,972 - INFO - H160673 118266                    -220813.0000 -279922.18  26.8%  44.9  363s\n"
     ]
    },
    {
     "name": "stdout",
     "output_type": "stream",
     "text": [
      "H160674 112355                    -221923.0000 -279922.18  26.1%  44.9  363s\n"
     ]
    },
    {
     "name": "stderr",
     "output_type": "stream",
     "text": [
      "2023-05-15 14:08:09,979 - INFO - H160674 112355                    -221923.0000 -279922.18  26.1%  44.9  363s\n"
     ]
    },
    {
     "name": "stdout",
     "output_type": "stream",
     "text": [
      " 160729 112409 -270321.08   33   61 -221923.00 -279922.18  26.1%  45.0  368s\n"
     ]
    },
    {
     "name": "stderr",
     "output_type": "stream",
     "text": [
      "2023-05-15 14:08:14,584 - INFO -  160729 112409 -270321.08   33   61 -221923.00 -279922.18  26.1%  45.0  368s\n"
     ]
    },
    {
     "name": "stdout",
     "output_type": "stream",
     "text": [
      "H160796 106852                    -222361.0000 -279922.18  25.9%  45.0  369s\n"
     ]
    },
    {
     "name": "stderr",
     "output_type": "stream",
     "text": [
      "2023-05-15 14:08:15,796 - INFO - H160796 106852                    -222361.0000 -279922.18  25.9%  45.0  369s\n"
     ]
    },
    {
     "name": "stdout",
     "output_type": "stream",
     "text": [
      "H160805 101514                    -225607.0000 -279922.18  24.1%  45.0  369s\n"
     ]
    },
    {
     "name": "stderr",
     "output_type": "stream",
     "text": [
      "2023-05-15 14:08:15,859 - INFO - H160805 101514                    -225607.0000 -279922.18  24.1%  45.0  369s\n"
     ]
    },
    {
     "name": "stdout",
     "output_type": "stream",
     "text": [
      " 160836 101549 -269655.97   35   55 -225607.00 -279922.18  24.1%  45.0  370s\n"
     ]
    },
    {
     "name": "stderr",
     "output_type": "stream",
     "text": [
      "2023-05-15 14:08:16,283 - INFO -  160836 101549 -269655.97   35   55 -225607.00 -279922.18  24.1%  45.0  370s\n"
     ]
    },
    {
     "name": "stdout",
     "output_type": "stream",
     "text": [
      " 160905 101612 -268666.80   36   62 -225607.00 -279922.18  24.1%  45.0  375s\n"
     ]
    },
    {
     "name": "stderr",
     "output_type": "stream",
     "text": [
      "2023-05-15 14:08:21,461 - INFO -  160905 101612 -268666.80   36   62 -225607.00 -279922.18  24.1%  45.0  375s\n"
     ]
    },
    {
     "name": "stdout",
     "output_type": "stream",
     "text": [
      " 162500 102570 -279922.18   32  109 -225607.00 -279922.18  24.1%  45.4  380s\n"
     ]
    },
    {
     "name": "stderr",
     "output_type": "stream",
     "text": [
      "2023-05-15 14:08:26,263 - INFO -  162500 102570 -279922.18   32  109 -225607.00 -279922.18  24.1%  45.4  380s\n"
     ]
    },
    {
     "name": "stdout",
     "output_type": "stream",
     "text": [
      " 164760 103997 -265796.40   44  114 -225607.00 -279922.18  24.1%  45.8  385s\n"
     ]
    },
    {
     "name": "stderr",
     "output_type": "stream",
     "text": [
      "2023-05-15 14:08:31,537 - INFO -  164760 103997 -265796.40   44  114 -225607.00 -279922.18  24.1%  45.8  385s\n"
     ]
    },
    {
     "name": "stdout",
     "output_type": "stream",
     "text": [
      " 167254 105170 -238969.49   94   55 -225607.00 -279922.18  24.1%  46.2  390s\n"
     ]
    },
    {
     "name": "stderr",
     "output_type": "stream",
     "text": [
      "2023-05-15 14:08:36,289 - INFO -  167254 105170 -238969.49   94   55 -225607.00 -279922.18  24.1%  46.2  390s\n"
     ]
    },
    {
     "name": "stdout",
     "output_type": "stream",
     "text": [
      " 168629 105639 -229313.30   52   63 -225607.00 -279922.18  24.1%  46.5  395s\n"
     ]
    },
    {
     "name": "stderr",
     "output_type": "stream",
     "text": [
      "2023-05-15 14:08:41,968 - INFO -  168629 105639 -229313.30   52   63 -225607.00 -279922.18  24.1%  46.5  395s\n"
     ]
    },
    {
     "name": "stdout",
     "output_type": "stream",
     "text": [
      " 169918 106873 -274396.85   42   87 -225607.00 -279855.09  24.0%  46.8  401s\n"
     ]
    },
    {
     "name": "stderr",
     "output_type": "stream",
     "text": [
      "2023-05-15 14:08:48,006 - INFO -  169918 106873 -274396.85   42   87 -225607.00 -279855.09  24.0%  46.8  401s\n"
     ]
    },
    {
     "name": "stdout",
     "output_type": "stream",
     "text": [
      " 171580 107826 -277708.14   62   79 -225607.00 -279764.10  24.0%  46.9  405s\n"
     ]
    },
    {
     "name": "stderr",
     "output_type": "stream",
     "text": [
      "2023-05-15 14:08:51,935 - INFO -  171580 107826 -277708.14   62   79 -225607.00 -279764.10  24.0%  46.9  405s\n"
     ]
    },
    {
     "name": "stdout",
     "output_type": "stream",
     "text": [
      " 173429 108713 -273454.92   77  100 -225607.00 -279376.89  23.8%  47.0  410s\n"
     ]
    },
    {
     "name": "stderr",
     "output_type": "stream",
     "text": [
      "2023-05-15 14:08:56,233 - INFO -  173429 108713 -273454.92   77  100 -225607.00 -279376.89  23.8%  47.0  410s\n"
     ]
    },
    {
     "name": "stdout",
     "output_type": "stream",
     "text": [
      " 174506 109133 -275124.83   52  118 -225607.00 -279308.21  23.8%  47.1  416s\n"
     ]
    },
    {
     "name": "stderr",
     "output_type": "stream",
     "text": [
      "2023-05-15 14:09:02,655 - INFO -  174506 109133 -275124.83   52  118 -225607.00 -279308.21  23.8%  47.1  416s\n"
     ]
    },
    {
     "name": "stdout",
     "output_type": "stream",
     "text": [
      " 177734 110932 -278048.60   41   92 -225607.00 -279220.29  23.8%  47.3  421s\n"
     ]
    },
    {
     "name": "stderr",
     "output_type": "stream",
     "text": [
      "2023-05-15 14:09:08,018 - INFO -  177734 110932 -278048.60   41   92 -225607.00 -279220.29  23.8%  47.3  421s\n"
     ]
    },
    {
     "name": "stdout",
     "output_type": "stream",
     "text": [
      " 178943 111402 -272851.28   93   43 -225607.00 -279220.29  23.8%  47.3  425s\n"
     ]
    },
    {
     "name": "stderr",
     "output_type": "stream",
     "text": [
      "2023-05-15 14:09:11,505 - INFO -  178943 111402 -272851.28   93   43 -225607.00 -279220.29  23.8%  47.3  425s\n"
     ]
    },
    {
     "name": "stdout",
     "output_type": "stream",
     "text": [
      " 181258 112345 -270868.21  100   40 -225607.00 -279220.29  23.8%  47.5  431s\n"
     ]
    },
    {
     "name": "stderr",
     "output_type": "stream",
     "text": [
      "2023-05-15 14:09:17,615 - INFO -  181258 112345 -270868.21  100   40 -225607.00 -279220.29  23.8%  47.5  431s\n"
     ]
    },
    {
     "name": "stdout",
     "output_type": "stream",
     "text": [
      " 182292 112347 infeasible  103      -225607.00 -279092.53  23.7%  47.6  436s\n"
     ]
    },
    {
     "name": "stderr",
     "output_type": "stream",
     "text": [
      "2023-05-15 14:09:23,137 - INFO -  182292 112347 infeasible  103      -225607.00 -279092.53  23.7%  47.6  436s\n"
     ]
    },
    {
     "name": "stdout",
     "output_type": "stream",
     "text": [
      "H182463 107216                    -226295.0000 -279092.53  23.3%  47.6  437s\n"
     ]
    },
    {
     "name": "stderr",
     "output_type": "stream",
     "text": [
      "2023-05-15 14:09:23,336 - INFO - H182463 107216                    -226295.0000 -279092.53  23.3%  47.6  437s\n"
     ]
    },
    {
     "name": "stdout",
     "output_type": "stream",
     "text": [
      " 182742 108235 -274920.66   52  102 -226295.00 -279092.53  23.3%  47.7  440s\n"
     ]
    },
    {
     "name": "stderr",
     "output_type": "stream",
     "text": [
      "2023-05-15 14:09:26,190 - INFO -  182742 108235 -274920.66   52  102 -226295.00 -279092.53  23.3%  47.7  440s\n"
     ]
    },
    {
     "name": "stdout",
     "output_type": "stream",
     "text": [
      " 185544 109759 -251560.08   89  119 -226295.00 -279043.26  23.3%  47.8  445s\n"
     ]
    },
    {
     "name": "stderr",
     "output_type": "stream",
     "text": [
      "2023-05-15 14:09:32,097 - INFO -  185544 109759 -251560.08   89  119 -226295.00 -279043.26  23.3%  47.8  445s\n"
     ]
    },
    {
     "name": "stdout",
     "output_type": "stream",
     "text": [
      " 188905 111652 -271684.97   56  135 -226295.00 -279019.49  23.3%  47.9  451s\n"
     ]
    },
    {
     "name": "stderr",
     "output_type": "stream",
     "text": [
      "2023-05-15 14:09:38,092 - INFO -  188905 111652 -271684.97   56  135 -226295.00 -279019.49  23.3%  47.9  451s\n"
     ]
    },
    {
     "name": "stdout",
     "output_type": "stream",
     "text": [
      " 193252 113420 -252129.54   58   80 -226295.00 -278982.45  23.3%  48.1  458s\n"
     ]
    },
    {
     "name": "stderr",
     "output_type": "stream",
     "text": [
      "2023-05-15 14:09:44,828 - INFO -  193252 113420 -252129.54   58   80 -226295.00 -278982.45  23.3%  48.1  458s\n"
     ]
    },
    {
     "name": "stdout",
     "output_type": "stream",
     "text": [
      " 195253 114294 -273231.69   68  113 -226295.00 -278960.21  23.3%  48.1  462s\n"
     ]
    },
    {
     "name": "stderr",
     "output_type": "stream",
     "text": [
      "2023-05-15 14:09:48,711 - INFO -  195253 114294 -273231.69   68  113 -226295.00 -278960.21  23.3%  48.1  462s\n"
     ]
    },
    {
     "name": "stdout",
     "output_type": "stream",
     "text": [
      " 197199 115058 infeasible  114      -226295.00 -278940.44  23.3%  48.2  465s\n"
     ]
    },
    {
     "name": "stderr",
     "output_type": "stream",
     "text": [
      "2023-05-15 14:09:51,657 - INFO -  197199 115058 infeasible  114      -226295.00 -278940.44  23.3%  48.2  465s\n"
     ]
    },
    {
     "name": "stdout",
     "output_type": "stream",
     "text": [
      " 201242 116841 infeasible   98      -226295.00 -278897.33  23.2%  48.5  470s\n"
     ]
    },
    {
     "name": "stderr",
     "output_type": "stream",
     "text": [
      "2023-05-15 14:09:57,120 - INFO -  201242 116841 infeasible   98      -226295.00 -278897.33  23.2%  48.5  470s\n"
     ]
    },
    {
     "name": "stdout",
     "output_type": "stream",
     "text": [
      " 205494 117633 -277268.57   44   99 -226295.00 -278876.21  23.2%  49.0  481s\n"
     ]
    },
    {
     "name": "stderr",
     "output_type": "stream",
     "text": [
      "2023-05-15 14:10:07,895 - INFO -  205494 117633 -277268.57   44   99 -226295.00 -278876.21  23.2%  49.0  481s\n"
     ]
    },
    {
     "name": "stdout",
     "output_type": "stream",
     "text": [
      " 205708 119427 -277250.04   45  102 -226295.00 -278872.35  23.2%  49.0  485s\n"
     ]
    },
    {
     "name": "stderr",
     "output_type": "stream",
     "text": [
      "2023-05-15 14:10:11,800 - INFO -  205708 119427 -277250.04   45  102 -226295.00 -278872.35  23.2%  49.0  485s\n"
     ]
    },
    {
     "name": "stdout",
     "output_type": "stream",
     "text": [
      " 210544 121847 -264312.90   84   85 -226295.00 -278830.90  23.2%  49.3  493s\n"
     ]
    },
    {
     "name": "stderr",
     "output_type": "stream",
     "text": [
      "2023-05-15 14:10:19,530 - INFO -  210544 121847 -264312.90   84   85 -226295.00 -278830.90  23.2%  49.3  493s\n"
     ]
    },
    {
     "name": "stdout",
     "output_type": "stream",
     "text": [
      " 213227 122881 -267957.17   63  103 -226295.00 -278821.77  23.2%  49.4  496s\n"
     ]
    },
    {
     "name": "stderr",
     "output_type": "stream",
     "text": [
      "2023-05-15 14:10:22,943 - INFO -  213227 122881 -267957.17   63  103 -226295.00 -278821.77  23.2%  49.4  496s\n"
     ]
    },
    {
     "name": "stdout",
     "output_type": "stream",
     "text": [
      " 215491 125060 -266498.17   81   60 -226295.00 -278804.27  23.2%  49.7  501s\n"
     ]
    },
    {
     "name": "stderr",
     "output_type": "stream",
     "text": [
      "2023-05-15 14:10:27,262 - INFO -  215491 125060 -266498.17   81   60 -226295.00 -278804.27  23.2%  49.7  501s\n"
     ]
    },
    {
     "name": "stdout",
     "output_type": "stream",
     "text": [
      " 219363 125855 -274216.86   56  114 -226295.00 -278793.76  23.2%  49.8  505s\n"
     ]
    },
    {
     "name": "stderr",
     "output_type": "stream",
     "text": [
      "2023-05-15 14:10:31,448 - INFO -  219363 125855 -274216.86   56  114 -226295.00 -278793.76  23.2%  49.8  505s\n"
     ]
    },
    {
     "name": "stdout",
     "output_type": "stream",
     "text": [
      " 223670 127912     cutoff  103      -226295.00 -278789.15  23.2%  50.3  513s\n"
     ]
    },
    {
     "name": "stderr",
     "output_type": "stream",
     "text": [
      "2023-05-15 14:10:40,102 - INFO -  223670 127912     cutoff  103      -226295.00 -278789.15  23.2%  50.3  513s\n"
     ]
    },
    {
     "name": "stdout",
     "output_type": "stream",
     "text": [
      " 226621 129132 -260853.74   73  128 -226295.00 -278765.40  23.2%  50.4  518s\n"
     ]
    },
    {
     "name": "stderr",
     "output_type": "stream",
     "text": [
      "2023-05-15 14:10:44,183 - INFO -  226621 129132 -260853.74   73  128 -226295.00 -278765.40  23.2%  50.4  518s\n"
     ]
    },
    {
     "name": "stdout",
     "output_type": "stream",
     "text": [
      " 229320 130836 -268628.57   65  104 -226295.00 -278754.09  23.2%  50.7  521s\n"
     ]
    },
    {
     "name": "stderr",
     "output_type": "stream",
     "text": [
      "2023-05-15 14:10:47,723 - INFO -  229320 130836 -268628.57   65  104 -226295.00 -278754.09  23.2%  50.7  521s\n"
     ]
    },
    {
     "name": "stdout",
     "output_type": "stream",
     "text": [
      " 232734 131883 -257845.21   64  140 -226295.00 -278745.55  23.2%  50.8  526s\n"
     ]
    },
    {
     "name": "stderr",
     "output_type": "stream",
     "text": [
      "2023-05-15 14:10:52,256 - INFO -  232734 131883 -257845.21   64  140 -226295.00 -278745.55  23.2%  50.8  526s\n"
     ]
    },
    {
     "name": "stdout",
     "output_type": "stream",
     "text": [
      " 235797 133057 infeasible   88      -226295.00 -278742.71  23.2%  51.0  530s\n"
     ]
    },
    {
     "name": "stderr",
     "output_type": "stream",
     "text": [
      "2023-05-15 14:10:56,271 - INFO -  235797 133057 infeasible   88      -226295.00 -278742.71  23.2%  51.0  530s\n"
     ]
    },
    {
     "name": "stdout",
     "output_type": "stream",
     "text": [
      " 241887 134128 infeasible   96      -226295.00 -278728.16  23.2%  51.4  540s\n"
     ]
    },
    {
     "name": "stderr",
     "output_type": "stream",
     "text": [
      "2023-05-15 14:11:06,190 - INFO -  241887 134128 infeasible   96      -226295.00 -278728.16  23.2%  51.4  540s\n"
     ]
    },
    {
     "name": "stdout",
     "output_type": "stream",
     "text": [
      " 245298 137088 -277744.00   55  113 -226295.00 -278705.87  23.2%  51.6  548s\n"
     ]
    },
    {
     "name": "stderr",
     "output_type": "stream",
     "text": [
      "2023-05-15 14:11:14,569 - INFO -  245298 137088 -277744.00   55  113 -226295.00 -278705.87  23.2%  51.6  548s\n"
     ]
    },
    {
     "name": "stdout",
     "output_type": "stream",
     "text": [
      " 248284 137874 -270186.53   50  111 -226295.00 -278696.51  23.2%  51.8  552s\n"
     ]
    },
    {
     "name": "stderr",
     "output_type": "stream",
     "text": [
      "2023-05-15 14:11:18,751 - INFO -  248284 137874 -270186.53   50  111 -226295.00 -278696.51  23.2%  51.8  552s\n"
     ]
    },
    {
     "name": "stdout",
     "output_type": "stream",
     "text": [
      " 250776 139051 -269422.18   53  115 -226295.00 -278685.26  23.2%  52.1  556s\n"
     ]
    },
    {
     "name": "stderr",
     "output_type": "stream",
     "text": [
      "2023-05-15 14:11:22,873 - INFO -  250776 139051 -269422.18   53  115 -226295.00 -278685.26  23.2%  52.1  556s\n"
     ]
    },
    {
     "name": "stdout",
     "output_type": "stream",
     "text": [
      " 253386 140386 -277493.57   40   74 -226295.00 -278679.52  23.1%  52.3  561s\n"
     ]
    },
    {
     "name": "stderr",
     "output_type": "stream",
     "text": [
      "2023-05-15 14:11:27,469 - INFO -  253386 140386 -277493.57   40   74 -226295.00 -278679.52  23.1%  52.3  561s\n"
     ]
    },
    {
     "name": "stdout",
     "output_type": "stream",
     "text": [
      " 256430 141100 -272470.25   43  104 -226295.00 -278666.53  23.1%  52.4  565s\n"
     ]
    },
    {
     "name": "stderr",
     "output_type": "stream",
     "text": [
      "2023-05-15 14:11:31,899 - INFO -  256430 141100 -272470.25   43  104 -226295.00 -278666.53  23.1%  52.4  565s\n"
     ]
    },
    {
     "name": "stdout",
     "output_type": "stream",
     "text": [
      " 261368 143602 -276343.18   51  121 -226295.00 -278641.78  23.1%  52.8  573s\n"
     ]
    },
    {
     "name": "stderr",
     "output_type": "stream",
     "text": [
      "2023-05-15 14:11:39,466 - INFO -  261368 143602 -276343.18   51  121 -226295.00 -278641.78  23.1%  52.8  573s\n"
     ]
    },
    {
     "name": "stdout",
     "output_type": "stream",
     "text": [
      " 264079 144686 -269250.20   72  141 -226295.00 -278632.86  23.1%  53.0  577s\n"
     ]
    },
    {
     "name": "stderr",
     "output_type": "stream",
     "text": [
      "2023-05-15 14:11:43,396 - INFO -  264079 144686 -269250.20   72  141 -226295.00 -278632.86  23.1%  53.0  577s\n"
     ]
    },
    {
     "name": "stdout",
     "output_type": "stream",
     "text": [
      " 266710 145639 infeasible   96      -226295.00 -278622.70  23.1%  53.2  581s\n"
     ]
    },
    {
     "name": "stderr",
     "output_type": "stream",
     "text": [
      "2023-05-15 14:11:47,507 - INFO -  266710 145639 infeasible   96      -226295.00 -278622.70  23.1%  53.2  581s\n"
     ]
    },
    {
     "name": "stdout",
     "output_type": "stream",
     "text": [
      " 268942 146978 -273362.01   58  117 -226295.00 -278611.55  23.1%  53.4  585s\n"
     ]
    },
    {
     "name": "stderr",
     "output_type": "stream",
     "text": [
      "2023-05-15 14:11:51,704 - INFO -  268942 146978 -273362.01   58  117 -226295.00 -278611.55  23.1%  53.4  585s\n"
     ]
    },
    {
     "name": "stdout",
     "output_type": "stream",
     "text": [
      "*272332 142770             115    -226885.0000 -278603.20  22.8%  53.6  589s\n"
     ]
    },
    {
     "name": "stderr",
     "output_type": "stream",
     "text": [
      "2023-05-15 14:11:55,921 - INFO - *272332 142770             115    -226885.0000 -278603.20  22.8%  53.6  589s\n"
     ]
    },
    {
     "name": "stdout",
     "output_type": "stream",
     "text": [
      "*272344 138185             119    -227048.0000 -278603.20  22.7%  53.6  589s\n"
     ]
    },
    {
     "name": "stderr",
     "output_type": "stream",
     "text": [
      "2023-05-15 14:11:55,964 - INFO - *272344 138185             119    -227048.0000 -278603.20  22.7%  53.6  589s\n"
     ]
    },
    {
     "name": "stdout",
     "output_type": "stream",
     "text": [
      " 273903 139064 infeasible   96      -227048.00 -278600.26  22.7%  53.8  595s\n"
     ]
    },
    {
     "name": "stderr",
     "output_type": "stream",
     "text": [
      "2023-05-15 14:12:02,129 - INFO -  273903 139064 infeasible   96      -227048.00 -278600.26  22.7%  53.8  595s\n"
     ]
    },
    {
     "name": "stdout",
     "output_type": "stream",
     "text": [
      " 275696 140158 -251179.85   70   92 -227048.00 -278597.02  22.7%  53.9  600s\n"
     ]
    },
    {
     "name": "stderr",
     "output_type": "stream",
     "text": [
      "2023-05-15 14:12:06,165 - INFO -  275696 140158 -251179.85   70   92 -227048.00 -278597.02  22.7%  53.9  600s\n"
     ]
    },
    {
     "name": "stdout",
     "output_type": "stream",
     "text": [
      "\n"
     ]
    },
    {
     "name": "stderr",
     "output_type": "stream",
     "text": [
      "2023-05-15 14:12:06,822 - INFO - \n"
     ]
    },
    {
     "name": "stdout",
     "output_type": "stream",
     "text": [
      "Cutting planes:\n"
     ]
    },
    {
     "name": "stderr",
     "output_type": "stream",
     "text": [
      "2023-05-15 14:12:06,825 - INFO - Cutting planes:\n"
     ]
    },
    {
     "name": "stdout",
     "output_type": "stream",
     "text": [
      "  Gomory: 4\n"
     ]
    },
    {
     "name": "stderr",
     "output_type": "stream",
     "text": [
      "2023-05-15 14:12:06,827 - INFO -   Gomory: 4\n"
     ]
    },
    {
     "name": "stdout",
     "output_type": "stream",
     "text": [
      "  MIR: 2\n"
     ]
    },
    {
     "name": "stderr",
     "output_type": "stream",
     "text": [
      "2023-05-15 14:12:06,828 - INFO -   MIR: 2\n"
     ]
    },
    {
     "name": "stdout",
     "output_type": "stream",
     "text": [
      "  StrongCG: 2\n"
     ]
    },
    {
     "name": "stderr",
     "output_type": "stream",
     "text": [
      "2023-05-15 14:12:06,829 - INFO -   StrongCG: 2\n"
     ]
    },
    {
     "name": "stdout",
     "output_type": "stream",
     "text": [
      "  Flow cover: 20\n"
     ]
    },
    {
     "name": "stderr",
     "output_type": "stream",
     "text": [
      "2023-05-15 14:12:06,831 - INFO -   Flow cover: 20\n"
     ]
    },
    {
     "name": "stdout",
     "output_type": "stream",
     "text": [
      "  Inf proof: 1\n"
     ]
    },
    {
     "name": "stderr",
     "output_type": "stream",
     "text": [
      "2023-05-15 14:12:06,833 - INFO -   Inf proof: 1\n"
     ]
    },
    {
     "name": "stdout",
     "output_type": "stream",
     "text": [
      "  Zero half: 17\n"
     ]
    },
    {
     "name": "stderr",
     "output_type": "stream",
     "text": [
      "2023-05-15 14:12:06,836 - INFO -   Zero half: 17\n"
     ]
    },
    {
     "name": "stdout",
     "output_type": "stream",
     "text": [
      "  Lazy constraints: 1613\n"
     ]
    },
    {
     "name": "stderr",
     "output_type": "stream",
     "text": [
      "2023-05-15 14:12:06,839 - INFO -   Lazy constraints: 1613\n"
     ]
    },
    {
     "name": "stdout",
     "output_type": "stream",
     "text": [
      "\n"
     ]
    },
    {
     "name": "stderr",
     "output_type": "stream",
     "text": [
      "2023-05-15 14:12:06,841 - INFO - \n"
     ]
    },
    {
     "name": "stdout",
     "output_type": "stream",
     "text": [
      "Explored 277981 nodes (15022760 simplex iterations) in 600.68 seconds\n"
     ]
    },
    {
     "name": "stderr",
     "output_type": "stream",
     "text": [
      "2023-05-15 14:12:06,843 - INFO - Explored 277981 nodes (15022760 simplex iterations) in 600.68 seconds\n"
     ]
    },
    {
     "name": "stdout",
     "output_type": "stream",
     "text": [
      "Thread count was 24 (of 48 available processors)\n"
     ]
    },
    {
     "name": "stderr",
     "output_type": "stream",
     "text": [
      "2023-05-15 14:12:06,845 - INFO - Thread count was 24 (of 48 available processors)\n"
     ]
    },
    {
     "name": "stdout",
     "output_type": "stream",
     "text": [
      "\n"
     ]
    },
    {
     "name": "stderr",
     "output_type": "stream",
     "text": [
      "2023-05-15 14:12:06,846 - INFO - \n"
     ]
    },
    {
     "name": "stdout",
     "output_type": "stream",
     "text": [
      "Solution count 10: -227048 -226885 -226295 ... -188929\n"
     ]
    },
    {
     "name": "stderr",
     "output_type": "stream",
     "text": [
      "2023-05-15 14:12:06,847 - INFO - Solution count 10: -227048 -226885 -226295 ... -188929\n"
     ]
    },
    {
     "name": "stdout",
     "output_type": "stream",
     "text": [
      "\n"
     ]
    },
    {
     "name": "stderr",
     "output_type": "stream",
     "text": [
      "2023-05-15 14:12:06,849 - INFO - \n"
     ]
    },
    {
     "name": "stdout",
     "output_type": "stream",
     "text": [
      "Time limit reached\n"
     ]
    },
    {
     "name": "stderr",
     "output_type": "stream",
     "text": [
      "2023-05-15 14:12:06,850 - INFO - Time limit reached\n"
     ]
    },
    {
     "name": "stdout",
     "output_type": "stream",
     "text": [
      "Best objective -2.270480000000e+05, best bound -2.785910000000e+05, gap 22.7014%\n"
     ]
    },
    {
     "name": "stderr",
     "output_type": "stream",
     "text": [
      "2023-05-15 14:12:06,852 - INFO - Best objective -2.270480000000e+05, best bound -2.785910000000e+05, gap 22.7014%\n"
     ]
    },
    {
     "name": "stdout",
     "output_type": "stream",
     "text": [
      "\n"
     ]
    },
    {
     "name": "stderr",
     "output_type": "stream",
     "text": [
      "2023-05-15 14:12:06,854 - INFO - \n"
     ]
    },
    {
     "name": "stdout",
     "output_type": "stream",
     "text": [
      "User-callback calls 592322, time in user-callback 24.13 sec\n"
     ]
    },
    {
     "name": "stderr",
     "output_type": "stream",
     "text": [
      "2023-05-15 14:12:06,855 - INFO - User-callback calls 592322, time in user-callback 24.13 sec\n"
     ]
    },
    {
     "name": "stdout",
     "output_type": "stream",
     "text": [
      "{'Bounds': {'D200': {}, 'D160': {}, 'R200': {}, 'R160': {}, 'D201': {}, 'D161': {}, 'R201': {}, 'R161': {}, 'D202': {}, 'D162': {}, 'R202': {}, 'R162': {}, 'D203': {}, 'D163': {}, 'R203': {}, 'R163': {}, 'T200': {}, 'T160': {}, 'T201': {}, 'T161': {}, 'T202': {}, 'T162': {}, 'T203': {}, 'T163': {}, 'diff_D_T20_[0]': {}, 'diff_D_T16_[0]': {}, 'diff_D_T20_[1]': {}, 'diff_D_T16_[1]': {}, 'diff_D_T20_[2]': {'lb': -278591.0, 'min_soln': -227048.0}, 'diff_D_T16_[2]': {}, 'diff_D_T20_[3]': {'lb': -265117.0, 'min_soln': -207249.0}, 'diff_D_T16_[3]': {'lb': -245827.0, 'min_soln': -194189.0}}}\n",
      "Gurobi Optimizer version 9.1.2 build v9.1.2rc0 (win64)\n"
     ]
    },
    {
     "name": "stderr",
     "output_type": "stream",
     "text": [
      "2023-05-15 14:12:07,564 - INFO - Gurobi Optimizer version 9.1.2 build v9.1.2rc0 (win64)\n"
     ]
    },
    {
     "name": "stdout",
     "output_type": "stream",
     "text": [
      "Thread count: 24 physical cores, 48 logical processors, using up to 24 threads\n"
     ]
    },
    {
     "name": "stderr",
     "output_type": "stream",
     "text": [
      "2023-05-15 14:12:07,566 - INFO - Thread count: 24 physical cores, 48 logical processors, using up to 24 threads\n"
     ]
    },
    {
     "name": "stdout",
     "output_type": "stream",
     "text": [
      "Optimize a model with 128 rows, 688 columns and 2369 nonzeros\n"
     ]
    },
    {
     "name": "stderr",
     "output_type": "stream",
     "text": [
      "2023-05-15 14:12:07,567 - INFO - Optimize a model with 128 rows, 688 columns and 2369 nonzeros\n"
     ]
    },
    {
     "name": "stdout",
     "output_type": "stream",
     "text": [
      "Model fingerprint: 0xe8fc2e74\n"
     ]
    },
    {
     "name": "stderr",
     "output_type": "stream",
     "text": [
      "2023-05-15 14:12:07,569 - INFO - Model fingerprint: 0xe8fc2e74\n"
     ]
    },
    {
     "name": "stdout",
     "output_type": "stream",
     "text": [
      "Variable types: 32 continuous, 656 integer (656 binary)\n"
     ]
    },
    {
     "name": "stderr",
     "output_type": "stream",
     "text": [
      "2023-05-15 14:12:07,570 - INFO - Variable types: 32 continuous, 656 integer (656 binary)\n"
     ]
    },
    {
     "name": "stdout",
     "output_type": "stream",
     "text": [
      "Coefficient statistics:\n"
     ]
    },
    {
     "name": "stderr",
     "output_type": "stream",
     "text": [
      "2023-05-15 14:12:07,572 - INFO - Coefficient statistics:\n"
     ]
    },
    {
     "name": "stdout",
     "output_type": "stream",
     "text": [
      "  Matrix range     [1e+00, 2e+05]\n"
     ]
    },
    {
     "name": "stderr",
     "output_type": "stream",
     "text": [
      "2023-05-15 14:12:07,574 - INFO -   Matrix range     [1e+00, 2e+05]\n"
     ]
    },
    {
     "name": "stdout",
     "output_type": "stream",
     "text": [
      "  Objective range  [1e+00, 1e+00]\n"
     ]
    },
    {
     "name": "stderr",
     "output_type": "stream",
     "text": [
      "2023-05-15 14:12:07,576 - INFO -   Objective range  [1e+00, 1e+00]\n"
     ]
    },
    {
     "name": "stdout",
     "output_type": "stream",
     "text": [
      "  Bounds range     [1e+00, 8e+05]\n"
     ]
    },
    {
     "name": "stderr",
     "output_type": "stream",
     "text": [
      "2023-05-15 14:12:07,577 - INFO -   Bounds range     [1e+00, 8e+05]\n"
     ]
    },
    {
     "name": "stdout",
     "output_type": "stream",
     "text": [
      "  RHS range        [1e+00, 8e+05]\n"
     ]
    },
    {
     "name": "stderr",
     "output_type": "stream",
     "text": [
      "2023-05-15 14:12:07,579 - INFO -   RHS range        [1e+00, 8e+05]\n"
     ]
    },
    {
     "name": "stdout",
     "output_type": "stream",
     "text": [
      "\n"
     ]
    },
    {
     "name": "stderr",
     "output_type": "stream",
     "text": [
      "2023-05-15 14:12:07,581 - INFO - \n"
     ]
    },
    {
     "name": "stdout",
     "output_type": "stream",
     "text": [
      "User MIP start produced solution with objective -133272 (0.02s)\n"
     ]
    },
    {
     "name": "stderr",
     "output_type": "stream",
     "text": [
      "2023-05-15 14:12:07,590 - INFO - User MIP start produced solution with objective -133272 (0.02s)\n"
     ]
    },
    {
     "name": "stdout",
     "output_type": "stream",
     "text": [
      "Loaded user MIP start with objective -133272\n"
     ]
    },
    {
     "name": "stderr",
     "output_type": "stream",
     "text": [
      "2023-05-15 14:12:07,595 - INFO - Loaded user MIP start with objective -133272\n"
     ]
    },
    {
     "name": "stdout",
     "output_type": "stream",
     "text": [
      "MIP start from previous solve produced solution with objective -212860 (0.04s)\n"
     ]
    },
    {
     "name": "stderr",
     "output_type": "stream",
     "text": [
      "2023-05-15 14:12:07,605 - INFO - MIP start from previous solve produced solution with objective -212860 (0.04s)\n"
     ]
    },
    {
     "name": "stdout",
     "output_type": "stream",
     "text": [
      "Loaded MIP start from previous solve with objective -212860\n"
     ]
    },
    {
     "name": "stderr",
     "output_type": "stream",
     "text": [
      "2023-05-15 14:12:07,610 - INFO - Loaded MIP start from previous solve with objective -212860\n"
     ]
    },
    {
     "name": "stdout",
     "output_type": "stream",
     "text": [
      "\n"
     ]
    },
    {
     "name": "stderr",
     "output_type": "stream",
     "text": [
      "2023-05-15 14:12:07,612 - INFO - \n"
     ]
    },
    {
     "name": "stdout",
     "output_type": "stream",
     "text": [
      "Presolve removed 19 rows and 16 columns\n"
     ]
    },
    {
     "name": "stderr",
     "output_type": "stream",
     "text": [
      "2023-05-15 14:12:07,627 - INFO - Presolve removed 19 rows and 16 columns\n"
     ]
    },
    {
     "name": "stdout",
     "output_type": "stream",
     "text": [
      "Presolve time: 0.01s\n"
     ]
    },
    {
     "name": "stderr",
     "output_type": "stream",
     "text": [
      "2023-05-15 14:12:07,628 - INFO - Presolve time: 0.01s\n"
     ]
    },
    {
     "name": "stdout",
     "output_type": "stream",
     "text": [
      "Presolved: 109 rows, 672 columns, 2321 nonzeros\n"
     ]
    },
    {
     "name": "stderr",
     "output_type": "stream",
     "text": [
      "2023-05-15 14:12:07,630 - INFO - Presolved: 109 rows, 672 columns, 2321 nonzeros\n"
     ]
    },
    {
     "name": "stdout",
     "output_type": "stream",
     "text": [
      "Variable types: 0 continuous, 672 integer (656 binary)\n"
     ]
    },
    {
     "name": "stderr",
     "output_type": "stream",
     "text": [
      "2023-05-15 14:12:07,634 - INFO - Variable types: 0 continuous, 672 integer (656 binary)\n"
     ]
    },
    {
     "name": "stdout",
     "output_type": "stream",
     "text": [
      "\n"
     ]
    },
    {
     "name": "stderr",
     "output_type": "stream",
     "text": [
      "2023-05-15 14:12:07,636 - INFO - \n"
     ]
    },
    {
     "name": "stdout",
     "output_type": "stream",
     "text": [
      "Concurrent LP optimizer: primal simplex, dual simplex, and barrier\n"
     ]
    },
    {
     "name": "stderr",
     "output_type": "stream",
     "text": [
      "2023-05-15 14:12:07,637 - INFO - Concurrent LP optimizer: primal simplex, dual simplex, and barrier\n"
     ]
    },
    {
     "name": "stdout",
     "output_type": "stream",
     "text": [
      "Showing barrier log only...\n"
     ]
    },
    {
     "name": "stderr",
     "output_type": "stream",
     "text": [
      "2023-05-15 14:12:07,639 - INFO - Showing barrier log only...\n"
     ]
    },
    {
     "name": "stdout",
     "output_type": "stream",
     "text": [
      "\n"
     ]
    },
    {
     "name": "stderr",
     "output_type": "stream",
     "text": [
      "2023-05-15 14:12:07,640 - INFO - \n"
     ]
    },
    {
     "name": "stdout",
     "output_type": "stream",
     "text": [
      "Root barrier log...\n"
     ]
    },
    {
     "name": "stderr",
     "output_type": "stream",
     "text": [
      "2023-05-15 14:12:07,647 - INFO - Root barrier log...\n"
     ]
    },
    {
     "name": "stdout",
     "output_type": "stream",
     "text": [
      "\n"
     ]
    },
    {
     "name": "stderr",
     "output_type": "stream",
     "text": [
      "2023-05-15 14:12:07,648 - INFO - \n"
     ]
    },
    {
     "name": "stdout",
     "output_type": "stream",
     "text": [
      "Ordering time: 0.00s\n"
     ]
    },
    {
     "name": "stderr",
     "output_type": "stream",
     "text": [
      "2023-05-15 14:12:07,650 - INFO - Ordering time: 0.00s\n"
     ]
    },
    {
     "name": "stdout",
     "output_type": "stream",
     "text": [
      "\n"
     ]
    },
    {
     "name": "stderr",
     "output_type": "stream",
     "text": [
      "2023-05-15 14:12:07,651 - INFO - \n"
     ]
    },
    {
     "name": "stdout",
     "output_type": "stream",
     "text": [
      "Barrier performed 0 iterations in 0.08 seconds\n"
     ]
    },
    {
     "name": "stderr",
     "output_type": "stream",
     "text": [
      "2023-05-15 14:12:07,652 - INFO - Barrier performed 0 iterations in 0.08 seconds\n"
     ]
    },
    {
     "name": "stdout",
     "output_type": "stream",
     "text": [
      "Barrier solve interrupted - model solved by another algorithm\n"
     ]
    },
    {
     "name": "stderr",
     "output_type": "stream",
     "text": [
      "2023-05-15 14:12:07,654 - INFO - Barrier solve interrupted - model solved by another algorithm\n"
     ]
    },
    {
     "name": "stdout",
     "output_type": "stream",
     "text": [
      "\n"
     ]
    },
    {
     "name": "stderr",
     "output_type": "stream",
     "text": [
      "2023-05-15 14:12:07,655 - INFO - \n"
     ]
    },
    {
     "name": "stdout",
     "output_type": "stream",
     "text": [
      "\n"
     ]
    },
    {
     "name": "stderr",
     "output_type": "stream",
     "text": [
      "2023-05-15 14:12:07,660 - INFO - \n"
     ]
    },
    {
     "name": "stdout",
     "output_type": "stream",
     "text": [
      "Solved with dual simplex\n"
     ]
    },
    {
     "name": "stderr",
     "output_type": "stream",
     "text": [
      "2023-05-15 14:12:07,661 - INFO - Solved with dual simplex\n"
     ]
    },
    {
     "name": "stdout",
     "output_type": "stream",
     "text": [
      "\n"
     ]
    },
    {
     "name": "stderr",
     "output_type": "stream",
     "text": [
      "2023-05-15 14:12:07,663 - INFO - \n"
     ]
    },
    {
     "name": "stdout",
     "output_type": "stream",
     "text": [
      "Root relaxation: objective -2.585632e+05, 145 iterations, 0.03 seconds\n"
     ]
    },
    {
     "name": "stderr",
     "output_type": "stream",
     "text": [
      "2023-05-15 14:12:07,665 - INFO - Root relaxation: objective -2.585632e+05, 145 iterations, 0.03 seconds\n"
     ]
    },
    {
     "name": "stdout",
     "output_type": "stream",
     "text": [
      "\n"
     ]
    },
    {
     "name": "stderr",
     "output_type": "stream",
     "text": [
      "2023-05-15 14:12:07,672 - INFO - \n"
     ]
    },
    {
     "name": "stdout",
     "output_type": "stream",
     "text": [
      "    Nodes    |    Current Node    |     Objective Bounds      |     Work\n"
     ]
    },
    {
     "name": "stderr",
     "output_type": "stream",
     "text": [
      "2023-05-15 14:12:07,674 - INFO -     Nodes    |    Current Node    |     Objective Bounds      |     Work\n"
     ]
    },
    {
     "name": "stdout",
     "output_type": "stream",
     "text": [
      " Expl Unexpl |  Obj  Depth IntInf | Incumbent    BestBd   Gap | It/Node Time\n"
     ]
    },
    {
     "name": "stderr",
     "output_type": "stream",
     "text": [
      "2023-05-15 14:12:07,675 - INFO -  Expl Unexpl |  Obj  Depth IntInf | Incumbent    BestBd   Gap | It/Node Time\n"
     ]
    },
    {
     "name": "stdout",
     "output_type": "stream",
     "text": [
      "\n"
     ]
    },
    {
     "name": "stderr",
     "output_type": "stream",
     "text": [
      "2023-05-15 14:12:07,676 - INFO - \n"
     ]
    },
    {
     "name": "stdout",
     "output_type": "stream",
     "text": [
      "     0     0 -258563.18    0   27 -212860.00 -258563.18  21.5%     -    0s\n"
     ]
    },
    {
     "name": "stderr",
     "output_type": "stream",
     "text": [
      "2023-05-15 14:12:07,678 - INFO -      0     0 -258563.18    0   27 -212860.00 -258563.18  21.5%     -    0s\n"
     ]
    },
    {
     "name": "stdout",
     "output_type": "stream",
     "text": [
      "     0     0 -258553.01    0   29 -212860.00 -258553.01  21.5%     -    0s\n"
     ]
    },
    {
     "name": "stderr",
     "output_type": "stream",
     "text": [
      "2023-05-15 14:12:07,699 - INFO -      0     0 -258553.01    0   29 -212860.00 -258553.01  21.5%     -    0s\n"
     ]
    },
    {
     "name": "stdout",
     "output_type": "stream",
     "text": [
      "     0     0 -258535.40    0   27 -212860.00 -258535.40  21.5%     -    0s\n"
     ]
    },
    {
     "name": "stderr",
     "output_type": "stream",
     "text": [
      "2023-05-15 14:12:07,793 - INFO -      0     0 -258535.40    0   27 -212860.00 -258535.40  21.5%     -    0s\n"
     ]
    },
    {
     "name": "stdout",
     "output_type": "stream",
     "text": [
      "     0     0 -258531.41    0   33 -212860.00 -258531.41  21.5%     -    0s\n"
     ]
    },
    {
     "name": "stderr",
     "output_type": "stream",
     "text": [
      "2023-05-15 14:12:07,805 - INFO -      0     0 -258531.41    0   33 -212860.00 -258531.41  21.5%     -    0s\n"
     ]
    },
    {
     "name": "stdout",
     "output_type": "stream",
     "text": [
      "     0     0 -258515.47    0   30 -212860.00 -258515.47  21.4%     -    0s\n"
     ]
    },
    {
     "name": "stderr",
     "output_type": "stream",
     "text": [
      "2023-05-15 14:12:07,813 - INFO -      0     0 -258515.47    0   30 -212860.00 -258515.47  21.4%     -    0s\n"
     ]
    },
    {
     "name": "stdout",
     "output_type": "stream",
     "text": [
      "     0     0 -258514.10    0   30 -212860.00 -258514.10  21.4%     -    0s\n"
     ]
    },
    {
     "name": "stderr",
     "output_type": "stream",
     "text": [
      "2023-05-15 14:12:07,818 - INFO -      0     0 -258514.10    0   30 -212860.00 -258514.10  21.4%     -    0s\n"
     ]
    },
    {
     "name": "stdout",
     "output_type": "stream",
     "text": [
      "     0     0 -258503.78    0   38 -212860.00 -258503.78  21.4%     -    0s\n"
     ]
    },
    {
     "name": "stderr",
     "output_type": "stream",
     "text": [
      "2023-05-15 14:12:07,852 - INFO -      0     0 -258503.78    0   38 -212860.00 -258503.78  21.4%     -    0s\n"
     ]
    },
    {
     "name": "stdout",
     "output_type": "stream",
     "text": [
      "     0     0 -258434.54    0   32 -212860.00 -258434.54  21.4%     -    0s\n"
     ]
    },
    {
     "name": "stderr",
     "output_type": "stream",
     "text": [
      "2023-05-15 14:12:07,914 - INFO -      0     0 -258434.54    0   32 -212860.00 -258434.54  21.4%     -    0s\n"
     ]
    },
    {
     "name": "stdout",
     "output_type": "stream",
     "text": [
      "     0     0 -258417.97    0   37 -212860.00 -258417.97  21.4%     -    0s\n"
     ]
    },
    {
     "name": "stderr",
     "output_type": "stream",
     "text": [
      "2023-05-15 14:12:07,922 - INFO -      0     0 -258417.97    0   37 -212860.00 -258417.97  21.4%     -    0s\n"
     ]
    },
    {
     "name": "stdout",
     "output_type": "stream",
     "text": [
      "     0     0 -258413.86    0   39 -212860.00 -258413.86  21.4%     -    0s\n"
     ]
    },
    {
     "name": "stderr",
     "output_type": "stream",
     "text": [
      "2023-05-15 14:12:07,944 - INFO -      0     0 -258413.86    0   39 -212860.00 -258413.86  21.4%     -    0s\n"
     ]
    },
    {
     "name": "stdout",
     "output_type": "stream",
     "text": [
      "     0     0 -258389.12    0   37 -212860.00 -258389.12  21.4%     -    0s\n"
     ]
    },
    {
     "name": "stderr",
     "output_type": "stream",
     "text": [
      "2023-05-15 14:12:07,954 - INFO -      0     0 -258389.12    0   37 -212860.00 -258389.12  21.4%     -    0s\n"
     ]
    },
    {
     "name": "stdout",
     "output_type": "stream",
     "text": [
      "     0     0 -258387.94    0   33 -212860.00 -258387.94  21.4%     -    0s\n"
     ]
    },
    {
     "name": "stderr",
     "output_type": "stream",
     "text": [
      "2023-05-15 14:12:07,959 - INFO -      0     0 -258387.94    0   33 -212860.00 -258387.94  21.4%     -    0s\n"
     ]
    },
    {
     "name": "stdout",
     "output_type": "stream",
     "text": [
      "     0     0 -258383.56    0   43 -212860.00 -258383.56  21.4%     -    0s\n"
     ]
    },
    {
     "name": "stderr",
     "output_type": "stream",
     "text": [
      "2023-05-15 14:12:07,975 - INFO -      0     0 -258383.56    0   43 -212860.00 -258383.56  21.4%     -    0s\n"
     ]
    },
    {
     "name": "stdout",
     "output_type": "stream",
     "text": [
      "     0     0 -258383.51    0   41 -212860.00 -258383.51  21.4%     -    0s\n"
     ]
    },
    {
     "name": "stderr",
     "output_type": "stream",
     "text": [
      "2023-05-15 14:12:07,984 - INFO -      0     0 -258383.51    0   41 -212860.00 -258383.51  21.4%     -    0s\n"
     ]
    },
    {
     "name": "stdout",
     "output_type": "stream",
     "text": [
      "     0     0 -258382.85    0   43 -212860.00 -258382.85  21.4%     -    0s\n"
     ]
    },
    {
     "name": "stderr",
     "output_type": "stream",
     "text": [
      "2023-05-15 14:12:08,001 - INFO -      0     0 -258382.85    0   43 -212860.00 -258382.85  21.4%     -    0s\n"
     ]
    },
    {
     "name": "stdout",
     "output_type": "stream",
     "text": [
      "     0     0 -258380.48    0   41 -212860.00 -258380.48  21.4%     -    0s\n"
     ]
    },
    {
     "name": "stderr",
     "output_type": "stream",
     "text": [
      "2023-05-15 14:12:08,001 - INFO -      0     0 -258380.48    0   41 -212860.00 -258380.48  21.4%     -    0s\n"
     ]
    },
    {
     "name": "stdout",
     "output_type": "stream",
     "text": [
      "     0     0 -258376.87    0   37 -212860.00 -258376.87  21.4%     -    0s\n"
     ]
    },
    {
     "name": "stderr",
     "output_type": "stream",
     "text": [
      "2023-05-15 14:12:08,017 - INFO -      0     0 -258376.87    0   37 -212860.00 -258376.87  21.4%     -    0s\n"
     ]
    },
    {
     "name": "stdout",
     "output_type": "stream",
     "text": [
      "     0     0 -258376.77    0   41 -212860.00 -258376.77  21.4%     -    0s\n"
     ]
    },
    {
     "name": "stderr",
     "output_type": "stream",
     "text": [
      "2023-05-15 14:12:08,017 - INFO -      0     0 -258376.77    0   41 -212860.00 -258376.77  21.4%     -    0s\n"
     ]
    },
    {
     "name": "stdout",
     "output_type": "stream",
     "text": [
      "     0     0 -258375.86    0   44 -212860.00 -258375.86  21.4%     -    0s\n"
     ]
    },
    {
     "name": "stderr",
     "output_type": "stream",
     "text": [
      "2023-05-15 14:12:08,044 - INFO -      0     0 -258375.86    0   44 -212860.00 -258375.86  21.4%     -    0s\n"
     ]
    },
    {
     "name": "stdout",
     "output_type": "stream",
     "text": [
      "     0     0 -258375.86    0   41 -212860.00 -258375.86  21.4%     -    0s\n"
     ]
    },
    {
     "name": "stderr",
     "output_type": "stream",
     "text": [
      "2023-05-15 14:12:08,057 - INFO -      0     0 -258375.86    0   41 -212860.00 -258375.86  21.4%     -    0s\n"
     ]
    },
    {
     "name": "stdout",
     "output_type": "stream",
     "text": [
      "     0     2 -258375.86    0   40 -212860.00 -258375.86  21.4%     -    0s\n"
     ]
    },
    {
     "name": "stderr",
     "output_type": "stream",
     "text": [
      "2023-05-15 14:12:08,075 - INFO -      0     2 -258375.86    0   40 -212860.00 -258375.86  21.4%     -    0s\n"
     ]
    },
    {
     "name": "stdout",
     "output_type": "stream",
     "text": [
      "  3469  3115 -254287.95   22   87 -212860.00 -258260.00  21.3%   8.1    5s\n"
     ]
    },
    {
     "name": "stderr",
     "output_type": "stream",
     "text": [
      "2023-05-15 14:12:12,639 - INFO -   3469  3115 -254287.95   22   87 -212860.00 -258260.00  21.3%   8.1    5s\n"
     ]
    },
    {
     "name": "stdout",
     "output_type": "stream",
     "text": [
      "  6512  4384 infeasible   96      -212860.00 -258217.61  21.3%  18.2   10s\n"
     ]
    },
    {
     "name": "stderr",
     "output_type": "stream",
     "text": [
      "2023-05-15 14:12:17,628 - INFO -   6512  4384 infeasible   96      -212860.00 -258217.61  21.3%  18.2   10s\n"
     ]
    },
    {
     "name": "stdout",
     "output_type": "stream",
     "text": [
      " 11744  5147 -257726.60   25   79 -212860.00 -258214.73  21.3%  28.1   15s\n"
     ]
    },
    {
     "name": "stderr",
     "output_type": "stream",
     "text": [
      "2023-05-15 14:12:22,832 - INFO -  11744  5147 -257726.60   25   79 -212860.00 -258214.73  21.3%  28.1   15s\n"
     ]
    },
    {
     "name": "stdout",
     "output_type": "stream",
     "text": [
      " 16943  7550 -246583.00  101   76 -212860.00 -258167.28  21.3%  34.2   20s\n"
     ]
    },
    {
     "name": "stderr",
     "output_type": "stream",
     "text": [
      "2023-05-15 14:12:27,604 - INFO -  16943  7550 -246583.00  101   76 -212860.00 -258167.28  21.3%  34.2   20s\n"
     ]
    },
    {
     "name": "stdout",
     "output_type": "stream",
     "text": [
      " 18729  8443 -255422.73   37  112 -212860.00 -258152.27  21.3%  35.5   25s\n"
     ]
    },
    {
     "name": "stderr",
     "output_type": "stream",
     "text": [
      "2023-05-15 14:12:32,596 - INFO -  18729  8443 -255422.73   37  112 -212860.00 -258152.27  21.3%  35.5   25s\n"
     ]
    },
    {
     "name": "stdout",
     "output_type": "stream",
     "text": [
      " 24198 11286 -256877.64   28   85 -212860.00 -258112.57  21.3%  39.5   30s\n"
     ]
    },
    {
     "name": "stderr",
     "output_type": "stream",
     "text": [
      "2023-05-15 14:12:37,871 - INFO -  24198 11286 -256877.64   28   85 -212860.00 -258112.57  21.3%  39.5   30s\n"
     ]
    },
    {
     "name": "stdout",
     "output_type": "stream",
     "text": [
      " 29263 14281 -242286.00  101   89 -212860.00 -258028.19  21.2%  40.8   35s\n"
     ]
    },
    {
     "name": "stderr",
     "output_type": "stream",
     "text": [
      "2023-05-15 14:12:42,817 - INFO -  29263 14281 -242286.00  101   89 -212860.00 -258028.19  21.2%  40.8   35s\n"
     ]
    },
    {
     "name": "stdout",
     "output_type": "stream",
     "text": [
      " 36760 18183 -239809.38   90  104 -212860.00 -257931.00  21.2%  43.2   40s\n"
     ]
    },
    {
     "name": "stderr",
     "output_type": "stream",
     "text": [
      "2023-05-15 14:12:48,410 - INFO -  36760 18183 -239809.38   90  104 -212860.00 -257931.00  21.2%  43.2   40s\n"
     ]
    },
    {
     "name": "stdout",
     "output_type": "stream",
     "text": [
      " 41223 19833 -257512.68   31   82 -212860.00 -257908.60  21.2%  43.6   45s\n"
     ]
    },
    {
     "name": "stderr",
     "output_type": "stream",
     "text": [
      "2023-05-15 14:12:52,646 - INFO -  41223 19833 -257512.68   31   82 -212860.00 -257908.60  21.2%  43.6   45s\n"
     ]
    },
    {
     "name": "stdout",
     "output_type": "stream",
     "text": [
      " 47299 23132 -230039.14  130   24 -212860.00 -257893.00  21.2%  45.5   50s\n"
     ]
    },
    {
     "name": "stderr",
     "output_type": "stream",
     "text": [
      "2023-05-15 14:12:58,174 - INFO -  47299 23132 -230039.14  130   24 -212860.00 -257893.00  21.2%  45.5   50s\n"
     ]
    },
    {
     "name": "stdout",
     "output_type": "stream",
     "text": [
      " 51174 24715 -255198.00   36   98 -212860.00 -257872.89  21.1%  47.3   55s\n"
     ]
    },
    {
     "name": "stderr",
     "output_type": "stream",
     "text": [
      "2023-05-15 14:13:02,653 - INFO -  51174 24715 -255198.00   36   98 -212860.00 -257872.89  21.1%  47.3   55s\n"
     ]
    },
    {
     "name": "stdout",
     "output_type": "stream",
     "text": [
      " 55717 27613 -245957.71  110   47 -212860.00 -257850.00  21.1%  49.1   60s\n"
     ]
    },
    {
     "name": "stderr",
     "output_type": "stream",
     "text": [
      "2023-05-15 14:13:07,980 - INFO -  55717 27613 -245957.71  110   47 -212860.00 -257850.00  21.1%  49.1   60s\n"
     ]
    },
    {
     "name": "stdout",
     "output_type": "stream",
     "text": [
      " 61479 31263 -248209.88   83   50 -212860.00 -257827.00  21.1%  51.8   66s\n"
     ]
    },
    {
     "name": "stderr",
     "output_type": "stream",
     "text": [
      "2023-05-15 14:13:14,217 - INFO -  61479 31263 -248209.88   83   50 -212860.00 -257827.00  21.1%  51.8   66s\n"
     ]
    },
    {
     "name": "stdout",
     "output_type": "stream",
     "text": [
      " 62844 31322 -245068.01   40   57 -212860.00 -257827.00  21.1%  52.3   73s\n"
     ]
    },
    {
     "name": "stderr",
     "output_type": "stream",
     "text": [
      "2023-05-15 14:13:20,898 - INFO -  62844 31322 -245068.01   40   57 -212860.00 -257827.00  21.1%  52.3   73s\n"
     ]
    },
    {
     "name": "stdout",
     "output_type": "stream",
     "text": [
      " 62930 32795 -244760.28   41   87 -212860.00 -257819.11  21.1%  52.3   75s\n"
     ]
    },
    {
     "name": "stderr",
     "output_type": "stream",
     "text": [
      "2023-05-15 14:13:23,143 - INFO -  62930 32795 -244760.28   41   87 -212860.00 -257819.11  21.1%  52.3   75s\n"
     ]
    },
    {
     "name": "stdout",
     "output_type": "stream",
     "text": [
      " 69677 36837 -255066.42   39   91 -212860.00 -257785.81  21.1%  52.8   82s\n"
     ]
    },
    {
     "name": "stderr",
     "output_type": "stream",
     "text": [
      "2023-05-15 14:13:29,925 - INFO -  69677 36837 -255066.42   39   91 -212860.00 -257785.81  21.1%  52.8   82s\n"
     ]
    },
    {
     "name": "stdout",
     "output_type": "stream",
     "text": [
      " 73641 39521 -253908.07   30  101 -212860.00 -257769.00  21.1%  53.2   85s\n"
     ]
    },
    {
     "name": "stderr",
     "output_type": "stream",
     "text": [
      "2023-05-15 14:13:33,241 - INFO -  73641 39521 -253908.07   30  101 -212860.00 -257769.00  21.1%  53.2   85s\n"
     ]
    },
    {
     "name": "stdout",
     "output_type": "stream",
     "text": [
      " 81060 43930 infeasible  116      -212860.00 -257719.00  21.1%  53.7   91s\n"
     ]
    },
    {
     "name": "stderr",
     "output_type": "stream",
     "text": [
      "2023-05-15 14:13:38,816 - INFO -  81060 43930 infeasible  116      -212860.00 -257719.00  21.1%  53.7   91s\n"
     ]
    },
    {
     "name": "stdout",
     "output_type": "stream",
     "text": [
      " 85342 46962 -252752.09   38  118 -212860.00 -257691.00  21.1%  53.9   95s\n"
     ]
    },
    {
     "name": "stderr",
     "output_type": "stream",
     "text": [
      "2023-05-15 14:13:42,595 - INFO -  85342 46962 -252752.09   38  118 -212860.00 -257691.00  21.1%  53.9   95s\n"
     ]
    },
    {
     "name": "stdout",
     "output_type": "stream",
     "text": [
      " 92121 51200 -245604.80   69   78 -212860.00 -257671.67  21.1%  53.9  100s\n"
     ]
    },
    {
     "name": "stderr",
     "output_type": "stream",
     "text": [
      "2023-05-15 14:13:48,417 - INFO -  92121 51200 -245604.80   69   78 -212860.00 -257671.67  21.1%  53.9  100s\n"
     ]
    },
    {
     "name": "stdout",
     "output_type": "stream",
     "text": [
      " 95784 52641 -255238.00   39   41 -212860.00 -257654.26  21.0%  54.3  172s\n"
     ]
    },
    {
     "name": "stderr",
     "output_type": "stream",
     "text": [
      "2023-05-15 14:14:59,822 - INFO -  95784 52641 -255238.00   39   41 -212860.00 -257654.26  21.0%  54.3  172s\n"
     ]
    },
    {
     "name": "stdout",
     "output_type": "stream",
     "text": [
      " 95798 52650 -256256.00   24  115 -212860.00 -257654.26  21.0%  54.3  175s\n"
     ]
    },
    {
     "name": "stderr",
     "output_type": "stream",
     "text": [
      "2023-05-15 14:15:02,764 - INFO -  95798 52650 -256256.00   24  115 -212860.00 -257654.26  21.0%  54.3  175s\n"
     ]
    },
    {
     "name": "stdout",
     "output_type": "stream",
     "text": [
      " 95826 52669 -229457.00  174  132 -212860.00 -257654.26  21.0%  54.3  180s\n"
     ]
    },
    {
     "name": "stderr",
     "output_type": "stream",
     "text": [
      "2023-05-15 14:15:08,200 - INFO -  95826 52669 -229457.00  174  132 -212860.00 -257654.26  21.0%  54.3  180s\n"
     ]
    },
    {
     "name": "stdout",
     "output_type": "stream",
     "text": [
      " 95839 52673 -257394.00   30   84 -212860.00 -257654.26  21.0%  54.5  185s\n"
     ]
    },
    {
     "name": "stderr",
     "output_type": "stream",
     "text": [
      "2023-05-15 14:15:13,458 - INFO -  95839 52673 -257394.00   30   84 -212860.00 -257654.26  21.0%  54.5  185s\n"
     ]
    },
    {
     "name": "stdout",
     "output_type": "stream",
     "text": [
      "H95860 50041                    -213169.0000 -257654.26  20.9%  54.6  188s\n"
     ]
    },
    {
     "name": "stderr",
     "output_type": "stream",
     "text": [
      "2023-05-15 14:15:15,742 - INFO - H95860 50041                    -213169.0000 -257654.26  20.9%  54.6  188s\n"
     ]
    },
    {
     "name": "stdout",
     "output_type": "stream",
     "text": [
      " 95956 50065 -250433.20   38   76 -213169.00 -257510.19  20.8%  54.8  190s\n"
     ]
    },
    {
     "name": "stderr",
     "output_type": "stream",
     "text": [
      "2023-05-15 14:15:17,665 - INFO -  95956 50065 -250433.20   38   76 -213169.00 -257510.19  20.8%  54.8  190s\n"
     ]
    },
    {
     "name": "stdout",
     "output_type": "stream",
     "text": [
      "H95964 47560                    -213744.0000 -257510.19  20.5%  54.8  190s\n"
     ]
    },
    {
     "name": "stderr",
     "output_type": "stream",
     "text": [
      "2023-05-15 14:15:17,671 - INFO - H95964 47560                    -213744.0000 -257510.19  20.5%  54.8  190s\n"
     ]
    },
    {
     "name": "stdout",
     "output_type": "stream",
     "text": [
      " 96208 47594 -249584.00   45   83 -213744.00 -257510.19  20.5%  55.1  195s\n"
     ]
    },
    {
     "name": "stderr",
     "output_type": "stream",
     "text": [
      "2023-05-15 14:15:22,797 - INFO -  96208 47594 -249584.00   45   83 -213744.00 -257510.19  20.5%  55.1  195s\n"
     ]
    },
    {
     "name": "stdout",
     "output_type": "stream",
     "text": [
      " 97626 47846 -245391.85   81   39 -213744.00 -257510.19  20.5%  55.8  201s\n"
     ]
    },
    {
     "name": "stderr",
     "output_type": "stream",
     "text": [
      "2023-05-15 14:15:29,277 - INFO -  97626 47846 -245391.85   81   39 -213744.00 -257510.19  20.5%  55.8  201s\n"
     ]
    },
    {
     "name": "stdout",
     "output_type": "stream",
     "text": [
      "H97627 45468                    -219281.0000 -257510.19  17.4%  55.8  201s\n"
     ]
    },
    {
     "name": "stderr",
     "output_type": "stream",
     "text": [
      "2023-05-15 14:15:29,284 - INFO - H97627 45468                    -219281.0000 -257510.19  17.4%  55.8  201s\n"
     ]
    },
    {
     "name": "stdout",
     "output_type": "stream",
     "text": [
      "H97650 43202                    -221301.0000 -257510.19  16.4%  55.8  202s\n"
     ]
    },
    {
     "name": "stderr",
     "output_type": "stream",
     "text": [
      "2023-05-15 14:15:29,668 - INFO - H97650 43202                    -221301.0000 -257510.19  16.4%  55.8  202s\n"
     ]
    },
    {
     "name": "stdout",
     "output_type": "stream",
     "text": [
      " 99132 43412 -242411.00  117   75 -221301.00 -257510.19  16.4%  56.4  205s\n"
     ]
    },
    {
     "name": "stderr",
     "output_type": "stream",
     "text": [
      "2023-05-15 14:15:32,712 - INFO -  99132 43412 -242411.00  117   75 -221301.00 -257510.19  16.4%  56.4  205s\n"
     ]
    },
    {
     "name": "stdout",
     "output_type": "stream",
     "text": [
      " 101125 43741 -256971.00   45  111 -221301.00 -257509.00  16.4%  57.1  210s\n"
     ]
    },
    {
     "name": "stderr",
     "output_type": "stream",
     "text": [
      "2023-05-15 14:15:37,794 - INFO -  101125 43741 -256971.00   45  111 -221301.00 -257509.00  16.4%  57.1  210s\n"
     ]
    },
    {
     "name": "stdout",
     "output_type": "stream",
     "text": [
      " 103191 43718 -251847.00  108   64 -221301.00 -257509.00  16.4%  57.8  219s\n"
     ]
    },
    {
     "name": "stderr",
     "output_type": "stream",
     "text": [
      "2023-05-15 14:15:46,939 - INFO -  103191 43718 -251847.00  108   64 -221301.00 -257509.00  16.4%  57.8  219s\n"
     ]
    },
    {
     "name": "stdout",
     "output_type": "stream",
     "text": [
      " 103216 43764 -251792.50  109   82 -221301.00 -257509.00  16.4%  57.8  222s\n"
     ]
    },
    {
     "name": "stderr",
     "output_type": "stream",
     "text": [
      "2023-05-15 14:15:49,839 - INFO -  103216 43764 -251792.50  109   82 -221301.00 -257509.00  16.4%  57.8  222s\n"
     ]
    },
    {
     "name": "stdout",
     "output_type": "stream",
     "text": [
      " 103807 43883 -234884.31  153   61 -221301.00 -257463.00  16.3%  58.2  225s\n"
     ]
    },
    {
     "name": "stderr",
     "output_type": "stream",
     "text": [
      "2023-05-15 14:15:53,185 - INFO -  103807 43883 -234884.31  153   61 -221301.00 -257463.00  16.3%  58.2  225s\n"
     ]
    },
    {
     "name": "stdout",
     "output_type": "stream",
     "text": [
      " 105010 44081 -254198.27   61   82 -221301.00 -257463.00  16.3%  59.1  230s\n"
     ]
    },
    {
     "name": "stderr",
     "output_type": "stream",
     "text": [
      "2023-05-15 14:15:58,478 - INFO -  105010 44081 -254198.27   61   82 -221301.00 -257463.00  16.3%  59.1  230s\n"
     ]
    },
    {
     "name": "stdout",
     "output_type": "stream",
     "text": [
      " 106605 44199 -246392.61  143   43 -221301.00 -257460.25  16.3%  59.9  235s\n"
     ]
    },
    {
     "name": "stderr",
     "output_type": "stream",
     "text": [
      "2023-05-15 14:16:03,386 - INFO -  106605 44199 -246392.61  143   43 -221301.00 -257460.25  16.3%  59.9  235s\n"
     ]
    },
    {
     "name": "stdout",
     "output_type": "stream",
     "text": [
      " 109243 44469 -254724.00   68  104 -221301.00 -257445.00  16.3%  61.3  240s\n"
     ]
    },
    {
     "name": "stderr",
     "output_type": "stream",
     "text": [
      "2023-05-15 14:16:08,541 - INFO -  109243 44469 -254724.00   68  104 -221301.00 -257445.00  16.3%  61.3  240s\n"
     ]
    },
    {
     "name": "stdout",
     "output_type": "stream",
     "text": [
      " 111529 44492 -257117.00   47  121 -221301.00 -257404.00  16.3%  62.3  246s\n"
     ]
    },
    {
     "name": "stderr",
     "output_type": "stream",
     "text": [
      "2023-05-15 14:16:14,333 - INFO -  111529 44492 -257117.00   47  121 -221301.00 -257404.00  16.3%  62.3  246s\n"
     ]
    },
    {
     "name": "stdout",
     "output_type": "stream",
     "text": [
      " 113466 45104 -253609.83   85  100 -221301.00 -257404.00  16.3%  62.8  251s\n"
     ]
    },
    {
     "name": "stderr",
     "output_type": "stream",
     "text": [
      "2023-05-15 14:16:19,431 - INFO -  113466 45104 -253609.83   85  100 -221301.00 -257404.00  16.3%  62.8  251s\n"
     ]
    },
    {
     "name": "stdout",
     "output_type": "stream",
     "text": [
      " 115557 45253 -256280.00   64  112 -221301.00 -257376.00  16.3%  63.5  255s\n"
     ]
    },
    {
     "name": "stderr",
     "output_type": "stream",
     "text": [
      "2023-05-15 14:16:22,908 - INFO -  115557 45253 -256280.00   64  112 -221301.00 -257376.00  16.3%  63.5  255s\n"
     ]
    },
    {
     "name": "stdout",
     "output_type": "stream",
     "text": [
      " 118708 45715 -227370.30  105   56 -221301.00 -257358.00  16.3%  64.9  260s\n"
     ]
    },
    {
     "name": "stderr",
     "output_type": "stream",
     "text": [
      "2023-05-15 14:16:28,420 - INFO -  118708 45715 -227370.30  105   56 -221301.00 -257358.00  16.3%  64.9  260s\n"
     ]
    },
    {
     "name": "stdout",
     "output_type": "stream",
     "text": [
      " 121506 46032 infeasible  176      -221301.00 -257001.00  16.1%  66.0  265s\n"
     ]
    },
    {
     "name": "stderr",
     "output_type": "stream",
     "text": [
      "2023-05-15 14:16:32,594 - INFO -  121506 46032 infeasible  176      -221301.00 -257001.00  16.1%  66.0  265s\n"
     ]
    },
    {
     "name": "stdout",
     "output_type": "stream",
     "text": [
      " 125476 46151 -245956.00  102   68 -221301.00 -256854.00  16.1%  66.8  270s\n"
     ]
    },
    {
     "name": "stderr",
     "output_type": "stream",
     "text": [
      "2023-05-15 14:16:37,692 - INFO -  125476 46151 -245956.00  102   68 -221301.00 -256854.00  16.1%  66.8  270s\n"
     ]
    },
    {
     "name": "stdout",
     "output_type": "stream",
     "text": [
      " 127424 47055 -256547.92   47  118 -221301.00 -256632.00  16.0%  67.2  275s\n"
     ]
    },
    {
     "name": "stderr",
     "output_type": "stream",
     "text": [
      "2023-05-15 14:16:42,935 - INFO -  127424 47055 -256547.92   47  118 -221301.00 -256632.00  16.0%  67.2  275s\n"
     ]
    },
    {
     "name": "stdout",
     "output_type": "stream",
     "text": [
      " 130798 47296 -255908.49   58  117 -221301.00 -256581.00  15.9%  68.0  280s\n"
     ]
    },
    {
     "name": "stderr",
     "output_type": "stream",
     "text": [
      "2023-05-15 14:16:48,223 - INFO -  130798 47296 -255908.49   58  117 -221301.00 -256581.00  15.9%  68.0  280s\n"
     ]
    },
    {
     "name": "stdout",
     "output_type": "stream",
     "text": [
      " 134056 47931 -252649.00   85  113 -221301.00 -256536.69  15.9%  68.9  285s\n"
     ]
    },
    {
     "name": "stderr",
     "output_type": "stream",
     "text": [
      "2023-05-15 14:16:53,438 - INFO -  134056 47931 -252649.00   85  113 -221301.00 -256536.69  15.9%  68.9  285s\n"
     ]
    },
    {
     "name": "stdout",
     "output_type": "stream",
     "text": [
      " 137244 48319 -244826.20  106   75 -221301.00 -256496.43  15.9%  69.8  292s\n"
     ]
    },
    {
     "name": "stderr",
     "output_type": "stream",
     "text": [
      "2023-05-15 14:17:00,006 - INFO -  137244 48319 -244826.20  106   75 -221301.00 -256496.43  15.9%  69.8  292s\n"
     ]
    },
    {
     "name": "stdout",
     "output_type": "stream",
     "text": [
      " 139049 48736 -252972.00   75  110 -221301.00 -256496.00  15.9%  70.4  296s\n"
     ]
    },
    {
     "name": "stderr",
     "output_type": "stream",
     "text": [
      "2023-05-15 14:17:03,657 - INFO -  139049 48736 -252972.00   75  110 -221301.00 -256496.00  15.9%  70.4  296s\n"
     ]
    },
    {
     "name": "stdout",
     "output_type": "stream",
     "text": [
      " 143163 49188 -246644.00  116   88 -221301.00 -256477.67  15.9%  71.2  303s\n"
     ]
    },
    {
     "name": "stderr",
     "output_type": "stream",
     "text": [
      "2023-05-15 14:17:10,717 - INFO -  143163 49188 -246644.00  116   88 -221301.00 -256477.67  15.9%  71.2  303s\n"
     ]
    },
    {
     "name": "stdout",
     "output_type": "stream",
     "text": [
      " 145059 49630 -252266.00   92  105 -221301.00 -256460.34  15.9%  71.6  306s\n"
     ]
    },
    {
     "name": "stderr",
     "output_type": "stream",
     "text": [
      "2023-05-15 14:17:14,311 - INFO -  145059 49630 -252266.00   92  105 -221301.00 -256460.34  15.9%  71.6  306s\n"
     ]
    },
    {
     "name": "stdout",
     "output_type": "stream",
     "text": [
      " 147411 49730 -244616.00   59   94 -221301.00 -256450.00  15.9%  72.1  311s\n"
     ]
    },
    {
     "name": "stderr",
     "output_type": "stream",
     "text": [
      "2023-05-15 14:17:18,865 - INFO -  147411 49730 -244616.00   59   94 -221301.00 -256450.00  15.9%  72.1  311s\n"
     ]
    },
    {
     "name": "stdout",
     "output_type": "stream",
     "text": [
      " 151846 49767 -238709.00   72   77 -221301.00 -256413.00  15.9%  73.4  320s\n"
     ]
    },
    {
     "name": "stderr",
     "output_type": "stream",
     "text": [
      "2023-05-15 14:17:27,640 - INFO -  151846 49767 -238709.00   72   77 -221301.00 -256413.00  15.9%  73.4  320s\n"
     ]
    },
    {
     "name": "stdout",
     "output_type": "stream",
     "text": [
      "H152203 46973                    -226846.0000 -256413.00  13.0%  73.5  320s\n"
     ]
    },
    {
     "name": "stderr",
     "output_type": "stream",
     "text": [
      "2023-05-15 14:17:27,801 - INFO - H152203 46973                    -226846.0000 -256413.00  13.0%  73.5  320s\n"
     ]
    },
    {
     "name": "stdout",
     "output_type": "stream",
     "text": [
      " 155928 48408 -252148.63   73  113 -226846.00 -256404.97  13.0%  74.4  328s\n"
     ]
    },
    {
     "name": "stderr",
     "output_type": "stream",
     "text": [
      "2023-05-15 14:17:36,130 - INFO -  155928 48408 -252148.63   73  113 -226846.00 -256404.97  13.0%  74.4  328s\n"
     ]
    },
    {
     "name": "stdout",
     "output_type": "stream",
     "text": [
      " 158941 48688 -252357.00   87  120 -226846.00 -256377.00  13.0%  74.8  332s\n"
     ]
    },
    {
     "name": "stderr",
     "output_type": "stream",
     "text": [
      "2023-05-15 14:17:40,365 - INFO -  158941 48688 -252357.00   87  120 -226846.00 -256377.00  13.0%  74.8  332s\n"
     ]
    },
    {
     "name": "stdout",
     "output_type": "stream",
     "text": [
      " 161631 48824 -247208.00  107   97 -226846.00 -256371.00  13.0%  75.3  336s\n"
     ]
    },
    {
     "name": "stderr",
     "output_type": "stream",
     "text": [
      "2023-05-15 14:17:44,356 - INFO -  161631 48824 -247208.00  107   97 -226846.00 -256371.00  13.0%  75.3  336s\n"
     ]
    },
    {
     "name": "stdout",
     "output_type": "stream",
     "text": [
      " 164093 49021 -249568.25   85  100 -226846.00 -256352.00  13.0%  76.1  340s\n"
     ]
    },
    {
     "name": "stderr",
     "output_type": "stream",
     "text": [
      "2023-05-15 14:17:48,553 - INFO -  164093 49021 -249568.25   85  100 -226846.00 -256352.00  13.0%  76.1  340s\n"
     ]
    },
    {
     "name": "stdout",
     "output_type": "stream",
     "text": [
      " 166362 49464 -255009.83   60  112 -226846.00 -256352.00  13.0%  76.8  345s\n"
     ]
    },
    {
     "name": "stderr",
     "output_type": "stream",
     "text": [
      "2023-05-15 14:17:52,804 - INFO -  166362 49464 -255009.83   60  112 -226846.00 -256352.00  13.0%  76.8  345s\n"
     ]
    },
    {
     "name": "stdout",
     "output_type": "stream",
     "text": [
      " 171944 49768 -252445.00   77  115 -226846.00 -256331.00  13.0%  78.0  353s\n"
     ]
    },
    {
     "name": "stderr",
     "output_type": "stream",
     "text": [
      "2023-05-15 14:18:01,390 - INFO -  171944 49768 -252445.00   77  115 -226846.00 -256331.00  13.0%  78.0  353s\n"
     ]
    },
    {
     "name": "stdout",
     "output_type": "stream",
     "text": [
      "H172822 47024                    -228418.0000 -256327.52  12.2%  78.2  353s\n"
     ]
    },
    {
     "name": "stderr",
     "output_type": "stream",
     "text": [
      "2023-05-15 14:18:01,480 - INFO - H172822 47024                    -228418.0000 -256327.52  12.2%  78.2  353s\n"
     ]
    },
    {
     "name": "stdout",
     "output_type": "stream",
     "text": [
      " 174024 47748 -255071.01   61  105 -228418.00 -256327.52  12.2%  78.5  357s\n"
     ]
    },
    {
     "name": "stderr",
     "output_type": "stream",
     "text": [
      "2023-05-15 14:18:05,146 - INFO -  174024 47748 -255071.01   61  105 -228418.00 -256327.52  12.2%  78.5  357s\n"
     ]
    },
    {
     "name": "stdout",
     "output_type": "stream",
     "text": [
      " 176606 48216 -231597.73  121   46 -228418.00 -256320.00  12.2%  79.1  361s\n"
     ]
    },
    {
     "name": "stderr",
     "output_type": "stream",
     "text": [
      "2023-05-15 14:18:09,213 - INFO -  176606 48216 -231597.73  121   46 -228418.00 -256320.00  12.2%  79.1  361s\n"
     ]
    },
    {
     "name": "stdout",
     "output_type": "stream",
     "text": [
      " 179552 47941 -232283.32  121   96 -228418.00 -256297.00  12.2%  79.5  365s\n"
     ]
    },
    {
     "name": "stderr",
     "output_type": "stream",
     "text": [
      "2023-05-15 14:18:13,188 - INFO -  179552 47941 -232283.32  121   96 -228418.00 -256297.00  12.2%  79.5  365s\n"
     ]
    },
    {
     "name": "stdout",
     "output_type": "stream",
     "text": [
      " 183700 48429 -244344.91  129   83 -228418.00 -256287.00  12.2%  81.0  374s\n"
     ]
    },
    {
     "name": "stderr",
     "output_type": "stream",
     "text": [
      "2023-05-15 14:18:22,113 - INFO -  183700 48429 -244344.91  129   83 -228418.00 -256287.00  12.2%  81.0  374s\n"
     ]
    },
    {
     "name": "stdout",
     "output_type": "stream",
     "text": [
      " 185584 49120 -253628.00   87   98 -228418.00 -256285.59  12.2%  81.3  378s\n"
     ]
    },
    {
     "name": "stderr",
     "output_type": "stream",
     "text": [
      "2023-05-15 14:18:26,357 - INFO -  185584 49120 -253628.00   87   98 -228418.00 -256285.59  12.2%  81.3  378s\n"
     ]
    },
    {
     "name": "stdout",
     "output_type": "stream",
     "text": [
      " 188465 49389 -243277.36   99  119 -228418.00 -256268.60  12.2%  81.5  382s\n"
     ]
    },
    {
     "name": "stderr",
     "output_type": "stream",
     "text": [
      "2023-05-15 14:18:30,444 - INFO -  188465 49389 -243277.36   99  119 -228418.00 -256268.60  12.2%  81.5  382s\n"
     ]
    },
    {
     "name": "stdout",
     "output_type": "stream",
     "text": [
      " 191033 49773 -245404.00  103  106 -228418.00 -256251.00  12.2%  81.8  386s\n"
     ]
    },
    {
     "name": "stderr",
     "output_type": "stream",
     "text": [
      "2023-05-15 14:18:34,343 - INFO -  191033 49773 -245404.00  103  106 -228418.00 -256251.00  12.2%  81.8  386s\n"
     ]
    },
    {
     "name": "stdout",
     "output_type": "stream",
     "text": [
      " 193537 49949 -243965.00  107   97 -228418.00 -256237.52  12.2%  82.2  390s\n"
     ]
    },
    {
     "name": "stderr",
     "output_type": "stream",
     "text": [
      "2023-05-15 14:18:38,371 - INFO -  193537 49949 -243965.00  107   97 -228418.00 -256237.52  12.2%  82.2  390s\n"
     ]
    },
    {
     "name": "stdout",
     "output_type": "stream",
     "text": [
      " 198755 50249 -252492.22   80  104 -228418.00 -256220.00  12.2%  82.9  398s\n"
     ]
    },
    {
     "name": "stderr",
     "output_type": "stream",
     "text": [
      "2023-05-15 14:18:45,903 - INFO -  198755 50249 -252492.22   80  104 -228418.00 -256220.00  12.2%  82.9  398s\n"
     ]
    },
    {
     "name": "stdout",
     "output_type": "stream",
     "text": [
      " 200793 50703 -253536.71   86   61 -228418.00 -256210.00  12.2%  83.5  402s\n"
     ]
    },
    {
     "name": "stderr",
     "output_type": "stream",
     "text": [
      "2023-05-15 14:18:50,227 - INFO -  200793 50703 -253536.71   86   61 -228418.00 -256210.00  12.2%  83.5  402s\n"
     ]
    },
    {
     "name": "stdout",
     "output_type": "stream",
     "text": [
      " 203501 51023 -254790.37   72  103 -228418.00 -256202.00  12.2%  84.1  406s\n"
     ]
    },
    {
     "name": "stderr",
     "output_type": "stream",
     "text": [
      "2023-05-15 14:18:54,434 - INFO -  203501 51023 -254790.37   72  103 -228418.00 -256202.00  12.2%  84.1  406s\n"
     ]
    },
    {
     "name": "stdout",
     "output_type": "stream",
     "text": [
      " 206270 51123 -252315.47   89   96 -228418.00 -256190.00  12.2%  84.3  411s\n"
     ]
    },
    {
     "name": "stderr",
     "output_type": "stream",
     "text": [
      "2023-05-15 14:18:58,871 - INFO -  206270 51123 -252315.47   89   96 -228418.00 -256190.00  12.2%  84.3  411s\n"
     ]
    },
    {
     "name": "stdout",
     "output_type": "stream",
     "text": [
      " 208555 51667 infeasible  135      -228418.00 -256184.00  12.2%  84.9  415s\n"
     ]
    },
    {
     "name": "stderr",
     "output_type": "stream",
     "text": [
      "2023-05-15 14:19:03,366 - INFO -  208555 51667 infeasible  135      -228418.00 -256184.00  12.2%  84.9  415s\n"
     ]
    },
    {
     "name": "stdout",
     "output_type": "stream",
     "text": [
      " 211514 51920 -255417.79   56  124 -228418.00 -256177.00  12.2%  85.1  420s\n"
     ]
    },
    {
     "name": "stderr",
     "output_type": "stream",
     "text": [
      "2023-05-15 14:19:07,594 - INFO -  211514 51920 -255417.79   56  124 -228418.00 -256177.00  12.2%  85.1  420s\n"
     ]
    },
    {
     "name": "stdout",
     "output_type": "stream",
     "text": [
      " 216808 53911 -237061.00   72   79 -228418.00 -256155.00  12.1%  85.5  428s\n"
     ]
    },
    {
     "name": "stderr",
     "output_type": "stream",
     "text": [
      "2023-05-15 14:19:16,015 - INFO -  216808 53911 -237061.00   72   79 -228418.00 -256155.00  12.1%  85.5  428s\n"
     ]
    },
    {
     "name": "stdout",
     "output_type": "stream",
     "text": [
      " 218798 54971 -251937.35   65  147 -228418.00 -256149.00  12.1%  86.1  433s\n"
     ]
    },
    {
     "name": "stderr",
     "output_type": "stream",
     "text": [
      "2023-05-15 14:19:20,900 - INFO -  218798 54971 -251937.35   65  147 -228418.00 -256149.00  12.1%  86.1  433s\n"
     ]
    },
    {
     "name": "stdout",
     "output_type": "stream",
     "text": [
      " 221084 56053 -251529.00   80  149 -228418.00 -256149.00  12.1%  86.7  439s\n"
     ]
    },
    {
     "name": "stderr",
     "output_type": "stream",
     "text": [
      "2023-05-15 14:19:26,705 - INFO -  221084 56053 -251529.00   80  149 -228418.00 -256149.00  12.1%  86.7  439s\n"
     ]
    },
    {
     "name": "stdout",
     "output_type": "stream",
     "text": [
      " 223778 57048 -248948.63   95  115 -228418.00 -256149.00  12.1%  87.0  443s\n"
     ]
    },
    {
     "name": "stderr",
     "output_type": "stream",
     "text": [
      "2023-05-15 14:19:31,543 - INFO -  223778 57048 -248948.63   95  115 -228418.00 -256149.00  12.1%  87.0  443s\n"
     ]
    },
    {
     "name": "stdout",
     "output_type": "stream",
     "text": [
      " 225916 58288 -229566.00  117  111 -228418.00 -256146.00  12.1%  87.2  449s\n"
     ]
    },
    {
     "name": "stderr",
     "output_type": "stream",
     "text": [
      "2023-05-15 14:19:36,806 - INFO -  225916 58288 -229566.00  117  111 -228418.00 -256146.00  12.1%  87.2  449s\n"
     ]
    },
    {
     "name": "stdout",
     "output_type": "stream",
     "text": [
      " 228621 59389 -255656.00   64  126 -228418.00 -256126.00  12.1%  87.4  454s\n"
     ]
    },
    {
     "name": "stderr",
     "output_type": "stream",
     "text": [
      "2023-05-15 14:19:41,830 - INFO -  228621 59389 -255656.00   64  126 -228418.00 -256126.00  12.1%  87.4  454s\n"
     ]
    },
    {
     "name": "stdout",
     "output_type": "stream",
     "text": [
      " 230856 60529 -234625.76   76   96 -228418.00 -256116.00  12.1%  87.7  460s\n"
     ]
    },
    {
     "name": "stderr",
     "output_type": "stream",
     "text": [
      "2023-05-15 14:19:48,148 - INFO -  230856 60529 -234625.76   76   96 -228418.00 -256116.00  12.1%  87.7  460s\n"
     ]
    },
    {
     "name": "stdout",
     "output_type": "stream",
     "text": [
      " 233341 61741 -252138.74   91  131 -228418.00 -256115.00  12.1%  87.9  466s\n"
     ]
    },
    {
     "name": "stderr",
     "output_type": "stream",
     "text": [
      "2023-05-15 14:19:54,053 - INFO -  233341 61741 -252138.74   91  131 -228418.00 -256115.00  12.1%  87.9  466s\n"
     ]
    },
    {
     "name": "stdout",
     "output_type": "stream",
     "text": [
      " 236027 63039 -252801.00   68  141 -228418.00 -256107.00  12.1%  88.1  472s\n"
     ]
    },
    {
     "name": "stderr",
     "output_type": "stream",
     "text": [
      "2023-05-15 14:19:59,730 - INFO -  236027 63039 -252801.00   68  141 -228418.00 -256107.00  12.1%  88.1  472s\n"
     ]
    },
    {
     "name": "stdout",
     "output_type": "stream",
     "text": [
      " 238558 64373 infeasible  135      -228418.00 -256096.00  12.1%  88.3  477s\n"
     ]
    },
    {
     "name": "stderr",
     "output_type": "stream",
     "text": [
      "2023-05-15 14:20:04,773 - INFO -  238558 64373 infeasible  135      -228418.00 -256096.00  12.1%  88.3  477s\n"
     ]
    },
    {
     "name": "stdout",
     "output_type": "stream",
     "text": [
      " 241207 65670 -255042.00   58   98 -228418.00 -256088.00  12.1%  88.5  483s\n"
     ]
    },
    {
     "name": "stderr",
     "output_type": "stream",
     "text": [
      "2023-05-15 14:20:10,985 - INFO -  241207 65670 -255042.00   58   98 -228418.00 -256088.00  12.1%  88.5  483s\n"
     ]
    },
    {
     "name": "stdout",
     "output_type": "stream",
     "text": [
      " 243919 66960 infeasible  163      -228418.00 -256085.00  12.1%  88.7  488s\n"
     ]
    },
    {
     "name": "stderr",
     "output_type": "stream",
     "text": [
      "2023-05-15 14:20:16,141 - INFO -  243919 66960 infeasible  163      -228418.00 -256085.00  12.1%  88.7  488s\n"
     ]
    },
    {
     "name": "stdout",
     "output_type": "stream",
     "text": [
      " 246557 68163 -253692.63   53  141 -228418.00 -256073.00  12.1%  88.8  493s\n"
     ]
    },
    {
     "name": "stderr",
     "output_type": "stream",
     "text": [
      "2023-05-15 14:20:20,594 - INFO -  246557 68163 -253692.63   53  141 -228418.00 -256073.00  12.1%  88.8  493s\n"
     ]
    },
    {
     "name": "stdout",
     "output_type": "stream",
     "text": [
      " 249080 69395 -252393.69   88  104 -228418.00 -256062.00  12.1%  89.0  497s\n"
     ]
    },
    {
     "name": "stderr",
     "output_type": "stream",
     "text": [
      "2023-05-15 14:20:25,413 - INFO -  249080 69395 -252393.69   88  104 -228418.00 -256062.00  12.1%  89.0  497s\n"
     ]
    },
    {
     "name": "stdout",
     "output_type": "stream",
     "text": [
      " 251554 70666 -248646.00  116  105 -228418.00 -256055.00  12.1%  89.2  503s\n"
     ]
    },
    {
     "name": "stderr",
     "output_type": "stream",
     "text": [
      "2023-05-15 14:20:30,863 - INFO -  251554 70666 -248646.00  116  105 -228418.00 -256055.00  12.1%  89.2  503s\n"
     ]
    },
    {
     "name": "stdout",
     "output_type": "stream",
     "text": [
      " 254035 72012 -247931.74  104  132 -228418.00 -256047.00  12.1%  89.3  508s\n"
     ]
    },
    {
     "name": "stderr",
     "output_type": "stream",
     "text": [
      "2023-05-15 14:20:35,914 - INFO -  254035 72012 -247931.74  104  132 -228418.00 -256047.00  12.1%  89.3  508s\n"
     ]
    },
    {
     "name": "stdout",
     "output_type": "stream",
     "text": [
      " 256615 73244     cutoff  136      -228418.00 -256043.00  12.1%  89.5  513s\n"
     ]
    },
    {
     "name": "stderr",
     "output_type": "stream",
     "text": [
      "2023-05-15 14:20:40,637 - INFO -  256615 73244     cutoff  136      -228418.00 -256043.00  12.1%  89.5  513s\n"
     ]
    },
    {
     "name": "stdout",
     "output_type": "stream",
     "text": [
      " 259078 74400     cutoff  131      -228418.00 -256030.00  12.1%  89.7  516s\n"
     ]
    },
    {
     "name": "stderr",
     "output_type": "stream",
     "text": [
      "2023-05-15 14:20:44,536 - INFO -  259078 74400     cutoff  131      -228418.00 -256030.00  12.1%  89.7  516s\n"
     ]
    },
    {
     "name": "stdout",
     "output_type": "stream",
     "text": [
      " 261522 75687 -251314.00   86   60 -228418.00 -256022.00  12.1%  89.9  522s\n"
     ]
    },
    {
     "name": "stderr",
     "output_type": "stream",
     "text": [
      "2023-05-15 14:20:50,389 - INFO -  261522 75687 -251314.00   86   60 -228418.00 -256022.00  12.1%  89.9  522s\n"
     ]
    },
    {
     "name": "stdout",
     "output_type": "stream",
     "text": [
      " 264106 76676 -254579.88   63  144 -228418.00 -256019.00  12.1%  90.0  527s\n"
     ]
    },
    {
     "name": "stderr",
     "output_type": "stream",
     "text": [
      "2023-05-15 14:20:55,213 - INFO -  264106 76676 -254579.88   63  144 -228418.00 -256019.00  12.1%  90.0  527s\n"
     ]
    },
    {
     "name": "stdout",
     "output_type": "stream",
     "text": [
      " 266507 77686 -252519.01   69  113 -228418.00 -256011.00  12.1%  90.2  532s\n"
     ]
    },
    {
     "name": "stderr",
     "output_type": "stream",
     "text": [
      "2023-05-15 14:21:00,308 - INFO -  266507 77686 -252519.01   69  113 -228418.00 -256011.00  12.1%  90.2  532s\n"
     ]
    },
    {
     "name": "stdout",
     "output_type": "stream",
     "text": [
      " 269113 78713 infeasible  100      -228418.00 -256010.00  12.1%  90.3  537s\n"
     ]
    },
    {
     "name": "stderr",
     "output_type": "stream",
     "text": [
      "2023-05-15 14:21:05,395 - INFO -  269113 78713 infeasible  100      -228418.00 -256010.00  12.1%  90.3  537s\n"
     ]
    },
    {
     "name": "stdout",
     "output_type": "stream",
     "text": [
      " 271184 80021 -236481.99   65  123 -228418.00 -255998.00  12.1%  90.4  543s\n"
     ]
    },
    {
     "name": "stderr",
     "output_type": "stream",
     "text": [
      "2023-05-15 14:21:10,770 - INFO -  271184 80021 -236481.99   65  123 -228418.00 -255998.00  12.1%  90.4  543s\n"
     ]
    },
    {
     "name": "stdout",
     "output_type": "stream",
     "text": [
      " 273753 81096 -243579.05   74  104 -228418.00 -255987.71  12.1%  90.5  547s\n"
     ]
    },
    {
     "name": "stderr",
     "output_type": "stream",
     "text": [
      "2023-05-15 14:21:14,991 - INFO -  273753 81096 -243579.05   74  104 -228418.00 -255987.71  12.1%  90.5  547s\n"
     ]
    },
    {
     "name": "stdout",
     "output_type": "stream",
     "text": [
      " 275841 82158 -228516.26   67  115 -228418.00 -255983.00  12.1%  90.7  551s\n"
     ]
    },
    {
     "name": "stderr",
     "output_type": "stream",
     "text": [
      "2023-05-15 14:21:19,309 - INFO -  275841 82158 -228516.26   67  115 -228418.00 -255983.00  12.1%  90.7  551s\n"
     ]
    },
    {
     "name": "stdout",
     "output_type": "stream",
     "text": [
      " 278125 83025 -248065.89  124   44 -228418.00 -255982.00  12.1%  91.1  557s\n"
     ]
    },
    {
     "name": "stderr",
     "output_type": "stream",
     "text": [
      "2023-05-15 14:21:24,664 - INFO -  278125 83025 -248065.89  124   44 -228418.00 -255982.00  12.1%  91.1  557s\n"
     ]
    },
    {
     "name": "stdout",
     "output_type": "stream",
     "text": [
      " 279879 84127     cutoff  173      -228418.00 -255981.00  12.1%  91.2  561s\n"
     ]
    },
    {
     "name": "stderr",
     "output_type": "stream",
     "text": [
      "2023-05-15 14:21:28,706 - INFO -  279879 84127     cutoff  173      -228418.00 -255981.00  12.1%  91.2  561s\n"
     ]
    },
    {
     "name": "stdout",
     "output_type": "stream",
     "text": [
      " 282178 85296 -245798.91  132   59 -228418.00 -255972.00  12.1%  91.5  565s\n"
     ]
    },
    {
     "name": "stderr",
     "output_type": "stream",
     "text": [
      "2023-05-15 14:21:33,464 - INFO -  282178 85296 -245798.91  132   59 -228418.00 -255972.00  12.1%  91.5  565s\n"
     ]
    },
    {
     "name": "stdout",
     "output_type": "stream",
     "text": [
      " 284607 86705 -252959.73   77  112 -228418.00 -255969.00  12.1%  91.8  570s\n"
     ]
    },
    {
     "name": "stderr",
     "output_type": "stream",
     "text": [
      "2023-05-15 14:21:38,266 - INFO -  284607 86705 -252959.73   77  112 -228418.00 -255969.00  12.1%  91.8  570s\n"
     ]
    },
    {
     "name": "stdout",
     "output_type": "stream",
     "text": [
      " 287276 87262 -236846.99  118   78 -228418.00 -255965.24  12.1%  91.9  577s\n"
     ]
    },
    {
     "name": "stderr",
     "output_type": "stream",
     "text": [
      "2023-05-15 14:21:44,700 - INFO -  287276 87262 -236846.99  118   78 -228418.00 -255965.24  12.1%  91.9  577s\n"
     ]
    },
    {
     "name": "stdout",
     "output_type": "stream",
     "text": [
      " 288433 88445 -248453.00   90  115 -228418.00 -255964.00  12.1%  91.9  582s\n"
     ]
    },
    {
     "name": "stderr",
     "output_type": "stream",
     "text": [
      "2023-05-15 14:21:50,058 - INFO -  288433 88445 -248453.00   90  115 -228418.00 -255964.00  12.1%  91.9  582s\n"
     ]
    },
    {
     "name": "stdout",
     "output_type": "stream",
     "text": [
      " 290759 89647 -254961.00   60  126 -228418.00 -255951.00  12.1%  92.0  587s\n"
     ]
    },
    {
     "name": "stderr",
     "output_type": "stream",
     "text": [
      "2023-05-15 14:21:54,766 - INFO -  290759 89647 -254961.00   60  126 -228418.00 -255951.00  12.1%  92.0  587s\n"
     ]
    },
    {
     "name": "stdout",
     "output_type": "stream",
     "text": [
      " 293003 90835 -233906.00  141   95 -228418.00 -255950.77  12.1%  92.1  591s\n"
     ]
    },
    {
     "name": "stderr",
     "output_type": "stream",
     "text": [
      "2023-05-15 14:21:59,187 - INFO -  293003 90835 -233906.00  141   95 -228418.00 -255950.77  12.1%  92.1  591s\n"
     ]
    },
    {
     "name": "stdout",
     "output_type": "stream",
     "text": [
      " 295360 91908 -247215.00  108   66 -228418.00 -255942.00  12.0%  92.2  595s\n"
     ]
    },
    {
     "name": "stderr",
     "output_type": "stream",
     "text": [
      "2023-05-15 14:22:03,329 - INFO -  295360 91908 -247215.00  108   66 -228418.00 -255942.00  12.0%  92.2  595s\n"
     ]
    },
    {
     "name": "stdout",
     "output_type": "stream",
     "text": [
      " 297461 92983 -246807.68   79  104 -228418.00 -255935.00  12.0%  92.5  600s\n"
     ]
    },
    {
     "name": "stderr",
     "output_type": "stream",
     "text": [
      "2023-05-15 14:22:07,578 - INFO -  297461 92983 -246807.68   79  104 -228418.00 -255935.00  12.0%  92.5  600s\n"
     ]
    },
    {
     "name": "stdout",
     "output_type": "stream",
     "text": [
      "\n"
     ]
    },
    {
     "name": "stderr",
     "output_type": "stream",
     "text": [
      "2023-05-15 14:22:08,006 - INFO - \n"
     ]
    },
    {
     "name": "stdout",
     "output_type": "stream",
     "text": [
      "Cutting planes:\n"
     ]
    },
    {
     "name": "stderr",
     "output_type": "stream",
     "text": [
      "2023-05-15 14:22:08,008 - INFO - Cutting planes:\n"
     ]
    },
    {
     "name": "stdout",
     "output_type": "stream",
     "text": [
      "  Gomory: 4\n"
     ]
    },
    {
     "name": "stderr",
     "output_type": "stream",
     "text": [
      "2023-05-15 14:22:08,010 - INFO -   Gomory: 4\n"
     ]
    },
    {
     "name": "stdout",
     "output_type": "stream",
     "text": [
      "  MIR: 13\n"
     ]
    },
    {
     "name": "stderr",
     "output_type": "stream",
     "text": [
      "2023-05-15 14:22:08,012 - INFO -   MIR: 13\n"
     ]
    },
    {
     "name": "stdout",
     "output_type": "stream",
     "text": [
      "  StrongCG: 1\n"
     ]
    },
    {
     "name": "stderr",
     "output_type": "stream",
     "text": [
      "2023-05-15 14:22:08,014 - INFO -   StrongCG: 1\n"
     ]
    },
    {
     "name": "stdout",
     "output_type": "stream",
     "text": [
      "  Flow cover: 216\n"
     ]
    },
    {
     "name": "stderr",
     "output_type": "stream",
     "text": [
      "2023-05-15 14:22:08,016 - INFO -   Flow cover: 216\n"
     ]
    },
    {
     "name": "stdout",
     "output_type": "stream",
     "text": [
      "  Inf proof: 16\n"
     ]
    },
    {
     "name": "stderr",
     "output_type": "stream",
     "text": [
      "2023-05-15 14:22:08,018 - INFO -   Inf proof: 16\n"
     ]
    },
    {
     "name": "stdout",
     "output_type": "stream",
     "text": [
      "  Zero half: 86\n"
     ]
    },
    {
     "name": "stderr",
     "output_type": "stream",
     "text": [
      "2023-05-15 14:22:08,020 - INFO -   Zero half: 86\n"
     ]
    },
    {
     "name": "stdout",
     "output_type": "stream",
     "text": [
      "  Lazy constraints: 2409\n"
     ]
    },
    {
     "name": "stderr",
     "output_type": "stream",
     "text": [
      "2023-05-15 14:22:08,022 - INFO -   Lazy constraints: 2409\n"
     ]
    },
    {
     "name": "stdout",
     "output_type": "stream",
     "text": [
      "\n"
     ]
    },
    {
     "name": "stderr",
     "output_type": "stream",
     "text": [
      "2023-05-15 14:22:08,024 - INFO - \n"
     ]
    },
    {
     "name": "stdout",
     "output_type": "stream",
     "text": [
      "Explored 299679 nodes (27758177 simplex iterations) in 600.45 seconds\n"
     ]
    },
    {
     "name": "stderr",
     "output_type": "stream",
     "text": [
      "2023-05-15 14:22:08,025 - INFO - Explored 299679 nodes (27758177 simplex iterations) in 600.45 seconds\n"
     ]
    },
    {
     "name": "stdout",
     "output_type": "stream",
     "text": [
      "Thread count was 24 (of 48 available processors)\n"
     ]
    },
    {
     "name": "stderr",
     "output_type": "stream",
     "text": [
      "2023-05-15 14:22:08,027 - INFO - Thread count was 24 (of 48 available processors)\n"
     ]
    },
    {
     "name": "stdout",
     "output_type": "stream",
     "text": [
      "\n"
     ]
    },
    {
     "name": "stderr",
     "output_type": "stream",
     "text": [
      "2023-05-15 14:22:08,029 - INFO - \n"
     ]
    },
    {
     "name": "stdout",
     "output_type": "stream",
     "text": [
      "Solution count 8: -228418 -226846 -221301 ... -133272\n"
     ]
    },
    {
     "name": "stderr",
     "output_type": "stream",
     "text": [
      "2023-05-15 14:22:08,031 - INFO - Solution count 8: -228418 -226846 -221301 ... -133272\n"
     ]
    },
    {
     "name": "stdout",
     "output_type": "stream",
     "text": [
      "\n"
     ]
    },
    {
     "name": "stderr",
     "output_type": "stream",
     "text": [
      "2023-05-15 14:22:08,033 - INFO - \n"
     ]
    },
    {
     "name": "stdout",
     "output_type": "stream",
     "text": [
      "Time limit reached\n"
     ]
    },
    {
     "name": "stderr",
     "output_type": "stream",
     "text": [
      "2023-05-15 14:22:08,035 - INFO - Time limit reached\n"
     ]
    },
    {
     "name": "stdout",
     "output_type": "stream",
     "text": [
      "Best objective -2.284180000000e+05, best bound -2.559350000000e+05, gap 12.0468%\n"
     ]
    },
    {
     "name": "stderr",
     "output_type": "stream",
     "text": [
      "2023-05-15 14:22:08,036 - INFO - Best objective -2.284180000000e+05, best bound -2.559350000000e+05, gap 12.0468%\n"
     ]
    },
    {
     "name": "stdout",
     "output_type": "stream",
     "text": [
      "\n"
     ]
    },
    {
     "name": "stderr",
     "output_type": "stream",
     "text": [
      "2023-05-15 14:22:08,038 - INFO - \n"
     ]
    },
    {
     "name": "stdout",
     "output_type": "stream",
     "text": [
      "User-callback calls 637036, time in user-callback 21.56 sec\n"
     ]
    },
    {
     "name": "stderr",
     "output_type": "stream",
     "text": [
      "2023-05-15 14:22:08,040 - INFO - User-callback calls 637036, time in user-callback 21.56 sec\n"
     ]
    },
    {
     "name": "stdout",
     "output_type": "stream",
     "text": [
      "{'Bounds': {'D200': {}, 'D160': {}, 'R200': {}, 'R160': {}, 'D201': {}, 'D161': {}, 'R201': {}, 'R161': {}, 'D202': {}, 'D162': {}, 'R202': {}, 'R162': {}, 'D203': {}, 'D163': {}, 'R203': {}, 'R163': {}, 'T200': {}, 'T160': {}, 'T201': {}, 'T161': {}, 'T202': {}, 'T162': {}, 'T203': {}, 'T163': {}, 'diff_D_T20_[0]': {}, 'diff_D_T16_[0]': {}, 'diff_D_T20_[1]': {}, 'diff_D_T16_[1]': {}, 'diff_D_T20_[2]': {'lb': -278591.0, 'min_soln': -227048.0}, 'diff_D_T16_[2]': {'lb': -255935.0, 'min_soln': -228418.0}, 'diff_D_T20_[3]': {'lb': -265117.0, 'min_soln': -207249.0}, 'diff_D_T16_[3]': {'lb': -245827.0, 'min_soln': -194189.0}}}\n",
      "Gurobi Optimizer version 9.1.2 build v9.1.2rc0 (win64)\n"
     ]
    },
    {
     "name": "stderr",
     "output_type": "stream",
     "text": [
      "2023-05-15 14:22:08,539 - INFO - Gurobi Optimizer version 9.1.2 build v9.1.2rc0 (win64)\n"
     ]
    },
    {
     "name": "stdout",
     "output_type": "stream",
     "text": [
      "Thread count: 24 physical cores, 48 logical processors, using up to 24 threads\n"
     ]
    },
    {
     "name": "stderr",
     "output_type": "stream",
     "text": [
      "2023-05-15 14:22:08,544 - INFO - Thread count: 24 physical cores, 48 logical processors, using up to 24 threads\n"
     ]
    },
    {
     "name": "stdout",
     "output_type": "stream",
     "text": [
      "Optimize a model with 129 rows, 688 columns and 2370 nonzeros\n"
     ]
    },
    {
     "name": "stderr",
     "output_type": "stream",
     "text": [
      "2023-05-15 14:22:08,548 - INFO - Optimize a model with 129 rows, 688 columns and 2370 nonzeros\n"
     ]
    },
    {
     "name": "stdout",
     "output_type": "stream",
     "text": [
      "Model fingerprint: 0x7762c941\n"
     ]
    },
    {
     "name": "stderr",
     "output_type": "stream",
     "text": [
      "2023-05-15 14:22:08,552 - INFO - Model fingerprint: 0x7762c941\n"
     ]
    },
    {
     "name": "stdout",
     "output_type": "stream",
     "text": [
      "Variable types: 32 continuous, 656 integer (656 binary)\n"
     ]
    },
    {
     "name": "stderr",
     "output_type": "stream",
     "text": [
      "2023-05-15 14:22:08,555 - INFO - Variable types: 32 continuous, 656 integer (656 binary)\n"
     ]
    },
    {
     "name": "stdout",
     "output_type": "stream",
     "text": [
      "Coefficient statistics:\n"
     ]
    },
    {
     "name": "stderr",
     "output_type": "stream",
     "text": [
      "2023-05-15 14:22:08,559 - INFO - Coefficient statistics:\n"
     ]
    },
    {
     "name": "stdout",
     "output_type": "stream",
     "text": [
      "  Matrix range     [1e+00, 2e+05]\n"
     ]
    },
    {
     "name": "stderr",
     "output_type": "stream",
     "text": [
      "2023-05-15 14:22:08,563 - INFO -   Matrix range     [1e+00, 2e+05]\n"
     ]
    },
    {
     "name": "stdout",
     "output_type": "stream",
     "text": [
      "  Objective range  [1e+00, 1e+00]\n"
     ]
    },
    {
     "name": "stderr",
     "output_type": "stream",
     "text": [
      "2023-05-15 14:22:08,568 - INFO -   Objective range  [1e+00, 1e+00]\n"
     ]
    },
    {
     "name": "stdout",
     "output_type": "stream",
     "text": [
      "  Bounds range     [1e+00, 8e+05]\n"
     ]
    },
    {
     "name": "stderr",
     "output_type": "stream",
     "text": [
      "2023-05-15 14:22:08,573 - INFO -   Bounds range     [1e+00, 8e+05]\n"
     ]
    },
    {
     "name": "stdout",
     "output_type": "stream",
     "text": [
      "  RHS range        [1e+00, 8e+05]\n"
     ]
    },
    {
     "name": "stderr",
     "output_type": "stream",
     "text": [
      "2023-05-15 14:22:08,576 - INFO -   RHS range        [1e+00, 8e+05]\n"
     ]
    },
    {
     "name": "stdout",
     "output_type": "stream",
     "text": [
      "\n"
     ]
    },
    {
     "name": "stderr",
     "output_type": "stream",
     "text": [
      "2023-05-15 14:22:08,579 - INFO - \n"
     ]
    },
    {
     "name": "stdout",
     "output_type": "stream",
     "text": [
      "User MIP start produced solution with objective -237295 (0.04s)\n"
     ]
    },
    {
     "name": "stderr",
     "output_type": "stream",
     "text": [
      "2023-05-15 14:22:08,588 - INFO - User MIP start produced solution with objective -237295 (0.04s)\n"
     ]
    },
    {
     "name": "stdout",
     "output_type": "stream",
     "text": [
      "Loaded user MIP start with objective -237295\n"
     ]
    },
    {
     "name": "stderr",
     "output_type": "stream",
     "text": [
      "2023-05-15 14:22:08,592 - INFO - Loaded user MIP start with objective -237295\n"
     ]
    },
    {
     "name": "stdout",
     "output_type": "stream",
     "text": [
      "MIP start from previous solve did not produce a new incumbent solution\n"
     ]
    },
    {
     "name": "stderr",
     "output_type": "stream",
     "text": [
      "2023-05-15 14:22:08,592 - INFO - MIP start from previous solve did not produce a new incumbent solution\n"
     ]
    },
    {
     "name": "stdout",
     "output_type": "stream",
     "text": [
      "\n"
     ]
    },
    {
     "name": "stderr",
     "output_type": "stream",
     "text": [
      "2023-05-15 14:22:08,607 - INFO - \n"
     ]
    },
    {
     "name": "stdout",
     "output_type": "stream",
     "text": [
      "Presolve removed 20 rows and 16 columns\n"
     ]
    },
    {
     "name": "stderr",
     "output_type": "stream",
     "text": [
      "2023-05-15 14:22:08,641 - INFO - Presolve removed 20 rows and 16 columns\n"
     ]
    },
    {
     "name": "stdout",
     "output_type": "stream",
     "text": [
      "Presolve time: 0.03s\n"
     ]
    },
    {
     "name": "stderr",
     "output_type": "stream",
     "text": [
      "2023-05-15 14:22:08,644 - INFO - Presolve time: 0.03s\n"
     ]
    },
    {
     "name": "stdout",
     "output_type": "stream",
     "text": [
      "Presolved: 109 rows, 672 columns, 2321 nonzeros\n"
     ]
    },
    {
     "name": "stderr",
     "output_type": "stream",
     "text": [
      "2023-05-15 14:22:08,648 - INFO - Presolved: 109 rows, 672 columns, 2321 nonzeros\n"
     ]
    },
    {
     "name": "stdout",
     "output_type": "stream",
     "text": [
      "Variable types: 0 continuous, 672 integer (656 binary)\n"
     ]
    },
    {
     "name": "stderr",
     "output_type": "stream",
     "text": [
      "2023-05-15 14:22:08,655 - INFO - Variable types: 0 continuous, 672 integer (656 binary)\n"
     ]
    },
    {
     "name": "stdout",
     "output_type": "stream",
     "text": [
      "\n"
     ]
    },
    {
     "name": "stderr",
     "output_type": "stream",
     "text": [
      "2023-05-15 14:22:08,659 - INFO - \n"
     ]
    },
    {
     "name": "stdout",
     "output_type": "stream",
     "text": [
      "Concurrent LP optimizer: primal simplex, dual simplex, and barrier\n"
     ]
    },
    {
     "name": "stderr",
     "output_type": "stream",
     "text": [
      "2023-05-15 14:22:08,662 - INFO - Concurrent LP optimizer: primal simplex, dual simplex, and barrier\n"
     ]
    },
    {
     "name": "stdout",
     "output_type": "stream",
     "text": [
      "Showing barrier log only...\n"
     ]
    },
    {
     "name": "stderr",
     "output_type": "stream",
     "text": [
      "2023-05-15 14:22:08,663 - INFO - Showing barrier log only...\n"
     ]
    },
    {
     "name": "stdout",
     "output_type": "stream",
     "text": [
      "\n"
     ]
    },
    {
     "name": "stderr",
     "output_type": "stream",
     "text": [
      "2023-05-15 14:22:08,665 - INFO - \n"
     ]
    },
    {
     "name": "stdout",
     "output_type": "stream",
     "text": [
      "Root barrier log...\n"
     ]
    },
    {
     "name": "stderr",
     "output_type": "stream",
     "text": [
      "2023-05-15 14:22:08,673 - INFO - Root barrier log...\n"
     ]
    },
    {
     "name": "stdout",
     "output_type": "stream",
     "text": [
      "\n"
     ]
    },
    {
     "name": "stderr",
     "output_type": "stream",
     "text": [
      "2023-05-15 14:22:08,674 - INFO - \n"
     ]
    },
    {
     "name": "stdout",
     "output_type": "stream",
     "text": [
      "Ordering time: 0.00s\n"
     ]
    },
    {
     "name": "stderr",
     "output_type": "stream",
     "text": [
      "2023-05-15 14:22:08,674 - INFO - Ordering time: 0.00s\n"
     ]
    },
    {
     "name": "stdout",
     "output_type": "stream",
     "text": [
      "\n"
     ]
    },
    {
     "name": "stderr",
     "output_type": "stream",
     "text": [
      "2023-05-15 14:22:08,674 - INFO - \n"
     ]
    },
    {
     "name": "stdout",
     "output_type": "stream",
     "text": [
      "Barrier performed 0 iterations in 0.13 seconds\n"
     ]
    },
    {
     "name": "stderr",
     "output_type": "stream",
     "text": [
      "2023-05-15 14:22:08,674 - INFO - Barrier performed 0 iterations in 0.13 seconds\n"
     ]
    },
    {
     "name": "stdout",
     "output_type": "stream",
     "text": [
      "Barrier solve interrupted - model solved by another algorithm\n"
     ]
    },
    {
     "name": "stderr",
     "output_type": "stream",
     "text": [
      "2023-05-15 14:22:08,674 - INFO - Barrier solve interrupted - model solved by another algorithm\n"
     ]
    },
    {
     "name": "stdout",
     "output_type": "stream",
     "text": [
      "\n"
     ]
    },
    {
     "name": "stderr",
     "output_type": "stream",
     "text": [
      "2023-05-15 14:22:08,691 - INFO - \n"
     ]
    },
    {
     "name": "stdout",
     "output_type": "stream",
     "text": [
      "\n"
     ]
    },
    {
     "name": "stderr",
     "output_type": "stream",
     "text": [
      "2023-05-15 14:22:08,693 - INFO - \n"
     ]
    },
    {
     "name": "stdout",
     "output_type": "stream",
     "text": [
      "Solved with dual simplex\n"
     ]
    },
    {
     "name": "stderr",
     "output_type": "stream",
     "text": [
      "2023-05-15 14:22:08,697 - INFO - Solved with dual simplex\n"
     ]
    },
    {
     "name": "stdout",
     "output_type": "stream",
     "text": [
      "\n"
     ]
    },
    {
     "name": "stderr",
     "output_type": "stream",
     "text": [
      "2023-05-15 14:22:08,699 - INFO - \n"
     ]
    },
    {
     "name": "stdout",
     "output_type": "stream",
     "text": [
      "Root relaxation: objective -2.852788e+05, 155 iterations, 0.04 seconds\n"
     ]
    },
    {
     "name": "stderr",
     "output_type": "stream",
     "text": [
      "2023-05-15 14:22:08,701 - INFO - Root relaxation: objective -2.852788e+05, 155 iterations, 0.04 seconds\n"
     ]
    },
    {
     "name": "stdout",
     "output_type": "stream",
     "text": [
      "\n"
     ]
    },
    {
     "name": "stderr",
     "output_type": "stream",
     "text": [
      "2023-05-15 14:22:08,708 - INFO - \n"
     ]
    },
    {
     "name": "stdout",
     "output_type": "stream",
     "text": [
      "    Nodes    |    Current Node    |     Objective Bounds      |     Work\n"
     ]
    },
    {
     "name": "stderr",
     "output_type": "stream",
     "text": [
      "2023-05-15 14:22:08,709 - INFO -     Nodes    |    Current Node    |     Objective Bounds      |     Work\n"
     ]
    },
    {
     "name": "stdout",
     "output_type": "stream",
     "text": [
      " Expl Unexpl |  Obj  Depth IntInf | Incumbent    BestBd   Gap | It/Node Time\n"
     ]
    },
    {
     "name": "stderr",
     "output_type": "stream",
     "text": [
      "2023-05-15 14:22:08,711 - INFO -  Expl Unexpl |  Obj  Depth IntInf | Incumbent    BestBd   Gap | It/Node Time\n"
     ]
    },
    {
     "name": "stdout",
     "output_type": "stream",
     "text": [
      "\n"
     ]
    },
    {
     "name": "stderr",
     "output_type": "stream",
     "text": [
      "2023-05-15 14:22:08,712 - INFO - \n"
     ]
    },
    {
     "name": "stdout",
     "output_type": "stream",
     "text": [
      "     0     0 -285278.82    0   22 -237295.00 -285278.82  20.2%     -    0s\n"
     ]
    },
    {
     "name": "stderr",
     "output_type": "stream",
     "text": [
      "2023-05-15 14:22:08,713 - INFO -      0     0 -285278.82    0   22 -237295.00 -285278.82  20.2%     -    0s\n"
     ]
    },
    {
     "name": "stdout",
     "output_type": "stream",
     "text": [
      "     0     0 -285263.11    0   20 -237295.00 -285263.11  20.2%     -    0s\n"
     ]
    },
    {
     "name": "stderr",
     "output_type": "stream",
     "text": [
      "2023-05-15 14:22:08,731 - INFO -      0     0 -285263.11    0   20 -237295.00 -285263.11  20.2%     -    0s\n"
     ]
    },
    {
     "name": "stdout",
     "output_type": "stream",
     "text": [
      "     0     0 -284995.43    0   24 -237295.00 -284995.43  20.1%     -    0s\n"
     ]
    },
    {
     "name": "stderr",
     "output_type": "stream",
     "text": [
      "2023-05-15 14:22:08,804 - INFO -      0     0 -284995.43    0   24 -237295.00 -284995.43  20.1%     -    0s\n"
     ]
    },
    {
     "name": "stdout",
     "output_type": "stream",
     "text": [
      "     0     0 -284995.43    0   24 -237295.00 -284995.43  20.1%     -    0s\n"
     ]
    },
    {
     "name": "stderr",
     "output_type": "stream",
     "text": [
      "2023-05-15 14:22:08,813 - INFO -      0     0 -284995.43    0   24 -237295.00 -284995.43  20.1%     -    0s\n"
     ]
    },
    {
     "name": "stdout",
     "output_type": "stream",
     "text": [
      "     0     0 -284977.58    0   30 -237295.00 -284977.58  20.1%     -    0s\n"
     ]
    },
    {
     "name": "stderr",
     "output_type": "stream",
     "text": [
      "2023-05-15 14:22:08,833 - INFO -      0     0 -284977.58    0   30 -237295.00 -284977.58  20.1%     -    0s\n"
     ]
    },
    {
     "name": "stdout",
     "output_type": "stream",
     "text": [
      "     0     0 -284871.54    0   24 -237295.00 -284871.54  20.0%     -    0s\n"
     ]
    },
    {
     "name": "stderr",
     "output_type": "stream",
     "text": [
      "2023-05-15 14:22:08,845 - INFO -      0     0 -284871.54    0   24 -237295.00 -284871.54  20.0%     -    0s\n"
     ]
    },
    {
     "name": "stdout",
     "output_type": "stream",
     "text": [
      "     0     0 -284842.86    0   30 -237295.00 -284842.86  20.0%     -    0s\n"
     ]
    },
    {
     "name": "stderr",
     "output_type": "stream",
     "text": [
      "2023-05-15 14:22:08,855 - INFO -      0     0 -284842.86    0   30 -237295.00 -284842.86  20.0%     -    0s\n"
     ]
    },
    {
     "name": "stdout",
     "output_type": "stream",
     "text": [
      "     0     0 -284833.09    0   32 -237295.00 -284833.09  20.0%     -    0s\n"
     ]
    },
    {
     "name": "stderr",
     "output_type": "stream",
     "text": [
      "2023-05-15 14:22:08,918 - INFO -      0     0 -284833.09    0   32 -237295.00 -284833.09  20.0%     -    0s\n"
     ]
    },
    {
     "name": "stdout",
     "output_type": "stream",
     "text": [
      "     0     0 -284734.23    0   44 -237295.00 -284734.23  20.0%     -    0s\n"
     ]
    },
    {
     "name": "stderr",
     "output_type": "stream",
     "text": [
      "2023-05-15 14:22:09,039 - INFO -      0     0 -284734.23    0   44 -237295.00 -284734.23  20.0%     -    0s\n"
     ]
    },
    {
     "name": "stdout",
     "output_type": "stream",
     "text": [
      "     0     0 -284665.28    0   42 -237295.00 -284665.28  20.0%     -    0s\n"
     ]
    },
    {
     "name": "stderr",
     "output_type": "stream",
     "text": [
      "2023-05-15 14:22:09,051 - INFO -      0     0 -284665.28    0   42 -237295.00 -284665.28  20.0%     -    0s\n"
     ]
    },
    {
     "name": "stdout",
     "output_type": "stream",
     "text": [
      "     0     0 -284661.59    0   44 -237295.00 -284661.59  20.0%     -    0s\n"
     ]
    },
    {
     "name": "stderr",
     "output_type": "stream",
     "text": [
      "2023-05-15 14:22:09,063 - INFO -      0     0 -284661.59    0   44 -237295.00 -284661.59  20.0%     -    0s\n"
     ]
    },
    {
     "name": "stdout",
     "output_type": "stream",
     "text": [
      "     0     0 -284661.16    0   46 -237295.00 -284661.16  20.0%     -    0s\n"
     ]
    },
    {
     "name": "stderr",
     "output_type": "stream",
     "text": [
      "2023-05-15 14:22:09,073 - INFO -      0     0 -284661.16    0   46 -237295.00 -284661.16  20.0%     -    0s\n"
     ]
    },
    {
     "name": "stdout",
     "output_type": "stream",
     "text": [
      "     0     0 -284658.99    0   48 -237295.00 -284658.99  20.0%     -    0s\n"
     ]
    },
    {
     "name": "stderr",
     "output_type": "stream",
     "text": [
      "2023-05-15 14:22:09,080 - INFO -      0     0 -284658.99    0   48 -237295.00 -284658.99  20.0%     -    0s\n"
     ]
    },
    {
     "name": "stdout",
     "output_type": "stream",
     "text": [
      "     0     0 -284648.15    0   48 -237295.00 -284648.15  20.0%     -    0s\n"
     ]
    },
    {
     "name": "stderr",
     "output_type": "stream",
     "text": [
      "2023-05-15 14:22:09,135 - INFO -      0     0 -284648.15    0   48 -237295.00 -284648.15  20.0%     -    0s\n"
     ]
    },
    {
     "name": "stdout",
     "output_type": "stream",
     "text": [
      "     0     0 -284612.47    0   50 -237295.00 -284612.47  19.9%     -    0s\n"
     ]
    },
    {
     "name": "stderr",
     "output_type": "stream",
     "text": [
      "2023-05-15 14:22:09,135 - INFO -      0     0 -284612.47    0   50 -237295.00 -284612.47  19.9%     -    0s\n"
     ]
    },
    {
     "name": "stdout",
     "output_type": "stream",
     "text": [
      "     0     0 -284609.66    0   44 -237295.00 -284609.66  19.9%     -    0s\n"
     ]
    },
    {
     "name": "stderr",
     "output_type": "stream",
     "text": [
      "2023-05-15 14:22:09,151 - INFO -      0     0 -284609.66    0   44 -237295.00 -284609.66  19.9%     -    0s\n"
     ]
    },
    {
     "name": "stdout",
     "output_type": "stream",
     "text": [
      "     0     0 -284566.15    0   48 -237295.00 -284566.15  19.9%     -    0s\n"
     ]
    },
    {
     "name": "stderr",
     "output_type": "stream",
     "text": [
      "2023-05-15 14:22:09,151 - INFO -      0     0 -284566.15    0   48 -237295.00 -284566.15  19.9%     -    0s\n"
     ]
    },
    {
     "name": "stdout",
     "output_type": "stream",
     "text": [
      "     0     0 -284547.45    0   46 -237295.00 -284547.45  19.9%     -    0s\n"
     ]
    },
    {
     "name": "stderr",
     "output_type": "stream",
     "text": [
      "2023-05-15 14:22:09,176 - INFO -      0     0 -284547.45    0   46 -237295.00 -284547.45  19.9%     -    0s\n"
     ]
    },
    {
     "name": "stdout",
     "output_type": "stream",
     "text": [
      "     0     0 -284519.45    0   40 -237295.00 -284519.45  19.9%     -    0s\n"
     ]
    },
    {
     "name": "stderr",
     "output_type": "stream",
     "text": [
      "2023-05-15 14:22:09,186 - INFO -      0     0 -284519.45    0   40 -237295.00 -284519.45  19.9%     -    0s\n"
     ]
    },
    {
     "name": "stdout",
     "output_type": "stream",
     "text": [
      "     0     0 -284518.85    0   44 -237295.00 -284518.85  19.9%     -    0s\n"
     ]
    },
    {
     "name": "stderr",
     "output_type": "stream",
     "text": [
      "2023-05-15 14:22:09,186 - INFO -      0     0 -284518.85    0   44 -237295.00 -284518.85  19.9%     -    0s\n"
     ]
    },
    {
     "name": "stdout",
     "output_type": "stream",
     "text": [
      "     0     0 -284514.60    0   43 -237295.00 -284514.60  19.9%     -    0s\n"
     ]
    },
    {
     "name": "stderr",
     "output_type": "stream",
     "text": [
      "2023-05-15 14:22:09,201 - INFO -      0     0 -284514.60    0   43 -237295.00 -284514.60  19.9%     -    0s\n"
     ]
    },
    {
     "name": "stdout",
     "output_type": "stream",
     "text": [
      "     0     0 -284509.03    0   41 -237295.00 -284509.03  19.9%     -    0s\n"
     ]
    },
    {
     "name": "stderr",
     "output_type": "stream",
     "text": [
      "2023-05-15 14:22:09,217 - INFO -      0     0 -284509.03    0   41 -237295.00 -284509.03  19.9%     -    0s\n"
     ]
    },
    {
     "name": "stdout",
     "output_type": "stream",
     "text": [
      "     0     0 -284500.24    0   51 -237295.00 -284500.24  19.9%     -    0s\n"
     ]
    },
    {
     "name": "stderr",
     "output_type": "stream",
     "text": [
      "2023-05-15 14:22:09,217 - INFO -      0     0 -284500.24    0   51 -237295.00 -284500.24  19.9%     -    0s\n"
     ]
    },
    {
     "name": "stdout",
     "output_type": "stream",
     "text": [
      "     0     0 -284476.53    0   42 -237295.00 -284476.53  19.9%     -    0s\n"
     ]
    },
    {
     "name": "stderr",
     "output_type": "stream",
     "text": [
      "2023-05-15 14:22:09,233 - INFO -      0     0 -284476.53    0   42 -237295.00 -284476.53  19.9%     -    0s\n"
     ]
    },
    {
     "name": "stdout",
     "output_type": "stream",
     "text": [
      "     0     0 -284476.53    0   42 -237295.00 -284476.53  19.9%     -    0s\n"
     ]
    },
    {
     "name": "stderr",
     "output_type": "stream",
     "text": [
      "2023-05-15 14:22:09,248 - INFO -      0     0 -284476.53    0   42 -237295.00 -284476.53  19.9%     -    0s\n"
     ]
    },
    {
     "name": "stdout",
     "output_type": "stream",
     "text": [
      "     0     0 -284452.76    0   44 -237295.00 -284452.76  19.9%     -    0s\n"
     ]
    },
    {
     "name": "stderr",
     "output_type": "stream",
     "text": [
      "2023-05-15 14:22:09,266 - INFO -      0     0 -284452.76    0   44 -237295.00 -284452.76  19.9%     -    0s\n"
     ]
    },
    {
     "name": "stdout",
     "output_type": "stream",
     "text": [
      "     0     0 -284449.57    0   50 -237295.00 -284449.57  19.9%     -    0s\n"
     ]
    },
    {
     "name": "stderr",
     "output_type": "stream",
     "text": [
      "2023-05-15 14:22:09,273 - INFO -      0     0 -284449.57    0   50 -237295.00 -284449.57  19.9%     -    0s\n"
     ]
    },
    {
     "name": "stdout",
     "output_type": "stream",
     "text": [
      "     0     0 -284442.58    0   50 -237295.00 -284442.58  19.9%     -    0s\n"
     ]
    },
    {
     "name": "stderr",
     "output_type": "stream",
     "text": [
      "2023-05-15 14:22:09,279 - INFO -      0     0 -284442.58    0   50 -237295.00 -284442.58  19.9%     -    0s\n"
     ]
    },
    {
     "name": "stdout",
     "output_type": "stream",
     "text": [
      "     0     0 -284436.82    0   46 -237295.00 -284436.82  19.9%     -    0s\n"
     ]
    },
    {
     "name": "stderr",
     "output_type": "stream",
     "text": [
      "2023-05-15 14:22:09,295 - INFO -      0     0 -284436.82    0   46 -237295.00 -284436.82  19.9%     -    0s\n"
     ]
    },
    {
     "name": "stdout",
     "output_type": "stream",
     "text": [
      "     0     0 -284434.69    0   42 -237295.00 -284434.69  19.9%     -    0s\n"
     ]
    },
    {
     "name": "stderr",
     "output_type": "stream",
     "text": [
      "2023-05-15 14:22:09,350 - INFO -      0     0 -284434.69    0   42 -237295.00 -284434.69  19.9%     -    0s\n"
     ]
    },
    {
     "name": "stdout",
     "output_type": "stream",
     "text": [
      "     0     0 -284427.03    0   44 -237295.00 -284427.03  19.9%     -    0s\n"
     ]
    },
    {
     "name": "stderr",
     "output_type": "stream",
     "text": [
      "2023-05-15 14:22:09,358 - INFO -      0     0 -284427.03    0   44 -237295.00 -284427.03  19.9%     -    0s\n"
     ]
    },
    {
     "name": "stdout",
     "output_type": "stream",
     "text": [
      "     0     0 -284427.03    0   45 -237295.00 -284427.03  19.9%     -    0s\n"
     ]
    },
    {
     "name": "stderr",
     "output_type": "stream",
     "text": [
      "2023-05-15 14:22:09,367 - INFO -      0     0 -284427.03    0   45 -237295.00 -284427.03  19.9%     -    0s\n"
     ]
    },
    {
     "name": "stdout",
     "output_type": "stream",
     "text": [
      "     0     0 -284424.95    0   46 -237295.00 -284424.95  19.9%     -    0s\n"
     ]
    },
    {
     "name": "stderr",
     "output_type": "stream",
     "text": [
      "2023-05-15 14:22:09,385 - INFO -      0     0 -284424.95    0   46 -237295.00 -284424.95  19.9%     -    0s\n"
     ]
    },
    {
     "name": "stdout",
     "output_type": "stream",
     "text": [
      "     0     0 -284424.95    0   45 -237295.00 -284424.95  19.9%     -    0s\n"
     ]
    },
    {
     "name": "stderr",
     "output_type": "stream",
     "text": [
      "2023-05-15 14:22:09,391 - INFO -      0     0 -284424.95    0   45 -237295.00 -284424.95  19.9%     -    0s\n"
     ]
    },
    {
     "name": "stdout",
     "output_type": "stream",
     "text": [
      "     0     0 -284415.45    0   48 -237295.00 -284415.45  19.9%     -    0s\n"
     ]
    },
    {
     "name": "stderr",
     "output_type": "stream",
     "text": [
      "2023-05-15 14:22:09,407 - INFO -      0     0 -284415.45    0   48 -237295.00 -284415.45  19.9%     -    0s\n"
     ]
    },
    {
     "name": "stdout",
     "output_type": "stream",
     "text": [
      "     0     0 -284412.53    0   42 -237295.00 -284412.53  19.9%     -    0s\n"
     ]
    },
    {
     "name": "stderr",
     "output_type": "stream",
     "text": [
      "2023-05-15 14:22:09,407 - INFO -      0     0 -284412.53    0   42 -237295.00 -284412.53  19.9%     -    0s\n"
     ]
    },
    {
     "name": "stdout",
     "output_type": "stream",
     "text": [
      "     0     0 -284412.53    0   56 -237295.00 -284412.53  19.9%     -    0s\n"
     ]
    },
    {
     "name": "stderr",
     "output_type": "stream",
     "text": [
      "2023-05-15 14:22:09,431 - INFO -      0     0 -284412.53    0   56 -237295.00 -284412.53  19.9%     -    0s\n"
     ]
    },
    {
     "name": "stdout",
     "output_type": "stream",
     "text": [
      "     0     0 -284412.53    0   43 -237295.00 -284412.53  19.9%     -    0s\n"
     ]
    },
    {
     "name": "stderr",
     "output_type": "stream",
     "text": [
      "2023-05-15 14:22:09,450 - INFO -      0     0 -284412.53    0   43 -237295.00 -284412.53  19.9%     -    0s\n"
     ]
    },
    {
     "name": "stdout",
     "output_type": "stream",
     "text": [
      "     0     2 -284412.53    0   42 -237295.00 -284412.53  19.9%     -    0s\n"
     ]
    },
    {
     "name": "stderr",
     "output_type": "stream",
     "text": [
      "2023-05-15 14:22:09,478 - INFO -      0     2 -284412.53    0   42 -237295.00 -284412.53  19.9%     -    0s\n"
     ]
    },
    {
     "name": "stdout",
     "output_type": "stream",
     "text": [
      "  3443  3022 -275174.78   34   57 -237295.00 -283859.98  19.6%   5.6    5s\n"
     ]
    },
    {
     "name": "stderr",
     "output_type": "stream",
     "text": [
      "2023-05-15 14:22:14,528 - INFO -   3443  3022 -275174.78   34   57 -237295.00 -283859.98  19.6%   5.6    5s\n"
     ]
    },
    {
     "name": "stdout",
     "output_type": "stream",
     "text": [
      "  3941  3379 -280253.61   26   26 -237295.00 -283734.19  19.6%   8.1   12s\n"
     ]
    },
    {
     "name": "stderr",
     "output_type": "stream",
     "text": [
      "2023-05-15 14:22:21,515 - INFO -   3941  3379 -280253.61   26   26 -237295.00 -283734.19  19.6%   8.1   12s\n"
     ]
    },
    {
     "name": "stdout",
     "output_type": "stream",
     "text": [
      "  3965  3395 -282151.62   27   20 -237295.00 -283734.19  19.6%   8.1   17s\n"
     ]
    },
    {
     "name": "stderr",
     "output_type": "stream",
     "text": [
      "2023-05-15 14:22:25,943 - INFO -   3965  3395 -282151.62   27   20 -237295.00 -283734.19  19.6%   8.1   17s\n"
     ]
    },
    {
     "name": "stdout",
     "output_type": "stream",
     "text": [
      "  4100  3486 -280330.13   29   50 -237295.00 -283734.19  19.6%   8.9   20s\n"
     ]
    },
    {
     "name": "stderr",
     "output_type": "stream",
     "text": [
      "2023-05-15 14:22:29,331 - INFO -   4100  3486 -280330.13   29   50 -237295.00 -283734.19  19.6%   8.9   20s\n"
     ]
    },
    {
     "name": "stdout",
     "output_type": "stream",
     "text": [
      "  5859  4424 -275947.77   65   26 -237295.00 -283734.19  19.6%  10.9   26s\n"
     ]
    },
    {
     "name": "stderr",
     "output_type": "stream",
     "text": [
      "2023-05-15 14:22:34,909 - INFO -   5859  4424 -275947.77   65   26 -237295.00 -283734.19  19.6%  10.9   26s\n"
     ]
    },
    {
     "name": "stdout",
     "output_type": "stream",
     "text": [
      " 12839  7942 -260202.50   73   48 -237295.00 -283669.94  19.5%  16.3   32s\n"
     ]
    },
    {
     "name": "stderr",
     "output_type": "stream",
     "text": [
      "2023-05-15 14:22:40,575 - INFO -  12839  7942 -260202.50   73   48 -237295.00 -283669.94  19.5%  16.3   32s\n"
     ]
    },
    {
     "name": "stdout",
     "output_type": "stream",
     "text": [
      " 16185 10477 -276644.63   40   73 -237295.00 -283630.36  19.5%  18.1   37s\n"
     ]
    },
    {
     "name": "stderr",
     "output_type": "stream",
     "text": [
      "2023-05-15 14:22:46,067 - INFO -  16185 10477 -276644.63   40   73 -237295.00 -283630.36  19.5%  18.1   37s\n"
     ]
    },
    {
     "name": "stdout",
     "output_type": "stream",
     "text": [
      " 17478 11465 -241529.00  103   16 -237295.00 -283630.36  19.5%  19.3   43s\n"
     ]
    },
    {
     "name": "stderr",
     "output_type": "stream",
     "text": [
      "2023-05-15 14:22:51,694 - INFO -  17478 11465 -241529.00  103   16 -237295.00 -283630.36  19.5%  19.3   43s\n"
     ]
    },
    {
     "name": "stdout",
     "output_type": "stream",
     "text": [
      " 21594 14960 -281053.56   36   94 -237295.00 -283559.79  19.5%  22.7   45s\n"
     ]
    },
    {
     "name": "stderr",
     "output_type": "stream",
     "text": [
      "2023-05-15 14:22:53,657 - INFO -  21594 14960 -281053.56   36   94 -237295.00 -283559.79  19.5%  22.7   45s\n"
     ]
    },
    {
     "name": "stdout",
     "output_type": "stream",
     "text": [
      " 26049 18184 -276489.88   47   76 -237295.00 -283532.47  19.5%  24.5   50s\n"
     ]
    },
    {
     "name": "stderr",
     "output_type": "stream",
     "text": [
      "2023-05-15 14:22:58,773 - INFO -  26049 18184 -276489.88   47   76 -237295.00 -283532.47  19.5%  24.5   50s\n"
     ]
    },
    {
     "name": "stdout",
     "output_type": "stream",
     "text": [
      " 32919 25104 -281713.72   33  106 -237295.00 -283486.01  19.5%  28.4   55s\n"
     ]
    },
    {
     "name": "stderr",
     "output_type": "stream",
     "text": [
      "2023-05-15 14:23:03,841 - INFO -  32919 25104 -281713.72   33  106 -237295.00 -283486.01  19.5%  28.4   55s\n"
     ]
    },
    {
     "name": "stdout",
     "output_type": "stream",
     "text": [
      " 41261 30420 -280904.70   29   89 -237295.00 -283395.33  19.4%  30.6   64s\n"
     ]
    },
    {
     "name": "stderr",
     "output_type": "stream",
     "text": [
      "2023-05-15 14:23:12,660 - INFO -  41261 30420 -280904.70   29   89 -237295.00 -283395.33  19.4%  30.6   64s\n"
     ]
    },
    {
     "name": "stdout",
     "output_type": "stream",
     "text": [
      " 41518 31652 -280899.49   30  118 -237295.00 -283386.64  19.4%  30.7   65s\n"
     ]
    },
    {
     "name": "stderr",
     "output_type": "stream",
     "text": [
      "2023-05-15 14:23:14,156 - INFO -  41518 31652 -280899.49   30  118 -237295.00 -283386.64  19.4%  30.7   65s\n"
     ]
    },
    {
     "name": "stdout",
     "output_type": "stream",
     "text": [
      " 47136 35810     cutoff   89      -237295.00 -283309.62  19.4%  32.5   70s\n"
     ]
    },
    {
     "name": "stderr",
     "output_type": "stream",
     "text": [
      "2023-05-15 14:23:18,758 - INFO -  47136 35810     cutoff   89      -237295.00 -283309.62  19.4%  32.5   70s\n"
     ]
    },
    {
     "name": "stdout",
     "output_type": "stream",
     "text": [
      " 52482 40039 -279021.18   35   85 -237295.00 -283278.57  19.4%  34.9   75s\n"
     ]
    },
    {
     "name": "stderr",
     "output_type": "stream",
     "text": [
      "2023-05-15 14:23:23,657 - INFO -  52482 40039 -279021.18   35   85 -237295.00 -283278.57  19.4%  34.9   75s\n"
     ]
    },
    {
     "name": "stdout",
     "output_type": "stream",
     "text": [
      " 56858 43452 -263458.68   45   86 -237295.00 -283235.60  19.4%  36.3   80s\n"
     ]
    },
    {
     "name": "stderr",
     "output_type": "stream",
     "text": [
      "2023-05-15 14:23:28,831 - INFO -  56858 43452 -263458.68   45   86 -237295.00 -283235.60  19.4%  36.3   80s\n"
     ]
    },
    {
     "name": "stdout",
     "output_type": "stream",
     "text": [
      " 61047 47081 -273605.64   80   48 -237295.00 -283172.11  19.3%  38.1   85s\n"
     ]
    },
    {
     "name": "stderr",
     "output_type": "stream",
     "text": [
      "2023-05-15 14:23:33,568 - INFO -  61047 47081 -273605.64   80   48 -237295.00 -283172.11  19.3%  38.1   85s\n"
     ]
    },
    {
     "name": "stdout",
     "output_type": "stream",
     "text": [
      " 67493 51941 -281209.88   31   89 -237295.00 -283107.08  19.3%  40.2   90s\n"
     ]
    },
    {
     "name": "stderr",
     "output_type": "stream",
     "text": [
      "2023-05-15 14:23:39,545 - INFO -  67493 51941 -281209.88   31   89 -237295.00 -283107.08  19.3%  40.2   90s\n"
     ]
    },
    {
     "name": "stdout",
     "output_type": "stream",
     "text": [
      " 71798 55634 -279869.01   31  100 -237295.00 -283083.14  19.3%  41.6   95s\n"
     ]
    },
    {
     "name": "stderr",
     "output_type": "stream",
     "text": [
      "2023-05-15 14:23:43,634 - INFO -  71798 55634 -279869.01   31  100 -237295.00 -283083.14  19.3%  41.6   95s\n"
     ]
    },
    {
     "name": "stdout",
     "output_type": "stream",
     "text": [
      " 76665 58722 -263307.02   71   75 -237295.00 -283018.31  19.3%  42.8  100s\n"
     ]
    },
    {
     "name": "stderr",
     "output_type": "stream",
     "text": [
      "2023-05-15 14:23:48,928 - INFO -  76665 58722 -263307.02   71   75 -237295.00 -283018.31  19.3%  42.8  100s\n"
     ]
    },
    {
     "name": "stdout",
     "output_type": "stream",
     "text": [
      " 78935 61071 -272202.95   46   84 -237295.00 -283016.47  19.3%  43.5  105s\n"
     ]
    },
    {
     "name": "stderr",
     "output_type": "stream",
     "text": [
      "2023-05-15 14:23:53,987 - INFO -  78935 61071 -272202.95   46   84 -237295.00 -283016.47  19.3%  43.5  105s\n"
     ]
    },
    {
     "name": "stdout",
     "output_type": "stream",
     "text": [
      " 80480 61270 -277789.51   36  142 -237295.00 -282978.95  19.3%  44.0  110s\n"
     ]
    },
    {
     "name": "stderr",
     "output_type": "stream",
     "text": [
      "2023-05-15 14:23:58,604 - INFO -  80480 61270 -277789.51   36  142 -237295.00 -282978.95  19.3%  44.0  110s\n"
     ]
    },
    {
     "name": "stdout",
     "output_type": "stream",
     "text": [
      "H80482 61241                    -237445.0000 -282978.95  19.2%  44.0  110s\n"
     ]
    },
    {
     "name": "stderr",
     "output_type": "stream",
     "text": [
      "2023-05-15 14:23:58,638 - INFO - H80482 61241                    -237445.0000 -282978.95  19.2%  44.0  110s\n"
     ]
    },
    {
     "name": "stdout",
     "output_type": "stream",
     "text": [
      " 83563 64626     cutoff   80      -237445.00 -282948.52  19.2%  44.8  115s\n"
     ]
    },
    {
     "name": "stderr",
     "output_type": "stream",
     "text": [
      "2023-05-15 14:24:03,648 - INFO -  83563 64626     cutoff   80      -237445.00 -282948.52  19.2%  44.8  115s\n"
     ]
    },
    {
     "name": "stdout",
     "output_type": "stream",
     "text": [
      " 89202 68341 -275311.86   51   89 -237445.00 -282899.85  19.1%  46.2  120s\n"
     ]
    },
    {
     "name": "stderr",
     "output_type": "stream",
     "text": [
      "2023-05-15 14:24:08,692 - INFO -  89202 68341 -275311.86   51   89 -237445.00 -282899.85  19.1%  46.2  120s\n"
     ]
    },
    {
     "name": "stdout",
     "output_type": "stream",
     "text": [
      " 92721 71791 infeasible   93      -237445.00 -282877.38  19.1%  47.0  125s\n"
     ]
    },
    {
     "name": "stderr",
     "output_type": "stream",
     "text": [
      "2023-05-15 14:24:14,453 - INFO -  92721 71791 infeasible   93      -237445.00 -282877.38  19.1%  47.0  125s\n"
     ]
    },
    {
     "name": "stdout",
     "output_type": "stream",
     "text": [
      " 96965 75040 infeasible   92      -237445.00 -282828.52  19.1%  48.1  130s\n"
     ]
    },
    {
     "name": "stderr",
     "output_type": "stream",
     "text": [
      "2023-05-15 14:24:19,168 - INFO -  96965 75040 infeasible   92      -237445.00 -282828.52  19.1%  48.1  130s\n"
     ]
    },
    {
     "name": "stdout",
     "output_type": "stream",
     "text": [
      " 101263 78052 -277114.97   30  126 -237445.00 -282792.83  19.1%  49.1  135s\n"
     ]
    },
    {
     "name": "stderr",
     "output_type": "stream",
     "text": [
      "2023-05-15 14:24:24,405 - INFO -  101263 78052 -277114.97   30  126 -237445.00 -282792.83  19.1%  49.1  135s\n"
     ]
    },
    {
     "name": "stdout",
     "output_type": "stream",
     "text": [
      " 104217 79106 -276646.34   34   43 -237445.00 -282752.49  19.1%  49.7  140s\n"
     ]
    },
    {
     "name": "stderr",
     "output_type": "stream",
     "text": [
      "2023-05-15 14:24:29,161 - INFO -  104217 79106 -276646.34   34   43 -237445.00 -282752.49  19.1%  49.7  140s\n"
     ]
    },
    {
     "name": "stdout",
     "output_type": "stream",
     "text": [
      " 104240 79121 -260690.35   72  106 -237445.00 -282752.49  19.1%  49.7  145s\n"
     ]
    },
    {
     "name": "stderr",
     "output_type": "stream",
     "text": [
      "2023-05-15 14:24:33,573 - INFO -  104240 79121 -260690.35   72  106 -237445.00 -282752.49  19.1%  49.7  145s\n"
     ]
    },
    {
     "name": "stdout",
     "output_type": "stream",
     "text": [
      " 104245 79130 -280575.42   28   83 -237445.00 -282752.49  19.1%  49.7  150s\n"
     ]
    },
    {
     "name": "stderr",
     "output_type": "stream",
     "text": [
      "2023-05-15 14:24:39,407 - INFO -  104245 79130 -280575.42   28   83 -237445.00 -282752.49  19.1%  49.7  150s\n"
     ]
    },
    {
     "name": "stdout",
     "output_type": "stream",
     "text": [
      " 104344 79215 -280337.46   33   80 -237445.00 -282117.97  18.8%  49.8  155s\n"
     ]
    },
    {
     "name": "stderr",
     "output_type": "stream",
     "text": [
      "2023-05-15 14:24:43,846 - INFO -  104344 79215 -280337.46   33   80 -237445.00 -282117.97  18.8%  49.8  155s\n"
     ]
    },
    {
     "name": "stdout",
     "output_type": "stream",
     "text": [
      "H104422 75304                    -239240.0000 -282117.97  17.9%  49.9  155s\n"
     ]
    },
    {
     "name": "stderr",
     "output_type": "stream",
     "text": [
      "2023-05-15 14:24:44,386 - INFO - H104422 75304                    -239240.0000 -282117.97  17.9%  49.9  155s\n"
     ]
    },
    {
     "name": "stdout",
     "output_type": "stream",
     "text": [
      " 104464 75353 -280230.58   35   88 -239240.00 -282117.97  17.9%  49.9  161s\n"
     ]
    },
    {
     "name": "stderr",
     "output_type": "stream",
     "text": [
      "2023-05-15 14:24:49,834 - INFO -  104464 75353 -280230.58   35   88 -239240.00 -282117.97  17.9%  49.9  161s\n"
     ]
    },
    {
     "name": "stdout",
     "output_type": "stream",
     "text": [
      " 106424 76490 -265392.57   72   92 -239240.00 -282117.97  17.9%  50.3  165s\n"
     ]
    },
    {
     "name": "stderr",
     "output_type": "stream",
     "text": [
      "2023-05-15 14:24:53,644 - INFO -  106424 76490 -265392.57   72   92 -239240.00 -282117.97  17.9%  50.3  165s\n"
     ]
    },
    {
     "name": "stdout",
     "output_type": "stream",
     "text": [
      " 109907 78331 -279115.15   55  127 -239240.00 -281932.67  17.8%  50.6  170s\n"
     ]
    },
    {
     "name": "stderr",
     "output_type": "stream",
     "text": [
      "2023-05-15 14:24:59,291 - INFO -  109907 78331 -279115.15   55  127 -239240.00 -281932.67  17.8%  50.6  170s\n"
     ]
    },
    {
     "name": "stdout",
     "output_type": "stream",
     "text": [
      " 112337 79429 -263381.29   84  118 -239240.00 -281854.01  17.8%  51.2  175s\n"
     ]
    },
    {
     "name": "stderr",
     "output_type": "stream",
     "text": [
      "2023-05-15 14:25:04,083 - INFO -  112337 79429 -263381.29   84  118 -239240.00 -281854.01  17.8%  51.2  175s\n"
     ]
    },
    {
     "name": "stdout",
     "output_type": "stream",
     "text": [
      " 114893 80849 -272312.01   67  115 -239240.00 -281586.57  17.7%  51.6  180s\n"
     ]
    },
    {
     "name": "stderr",
     "output_type": "stream",
     "text": [
      "2023-05-15 14:25:09,519 - INFO -  114893 80849 -272312.01   67  115 -239240.00 -281586.57  17.7%  51.6  180s\n"
     ]
    },
    {
     "name": "stdout",
     "output_type": "stream",
     "text": [
      " 117145 82039 -261083.27   80  107 -239240.00 -281540.35  17.7%  51.9  185s\n"
     ]
    },
    {
     "name": "stderr",
     "output_type": "stream",
     "text": [
      "2023-05-15 14:25:14,231 - INFO -  117145 82039 -261083.27   80  107 -239240.00 -281540.35  17.7%  51.9  185s\n"
     ]
    },
    {
     "name": "stdout",
     "output_type": "stream",
     "text": [
      " 119864 83156 -276039.78   71   81 -239240.00 -281520.08  17.7%  52.0  190s\n"
     ]
    },
    {
     "name": "stderr",
     "output_type": "stream",
     "text": [
      "2023-05-15 14:25:19,022 - INFO -  119864 83156 -276039.78   71   81 -239240.00 -281520.08  17.7%  52.0  190s\n"
     ]
    },
    {
     "name": "stdout",
     "output_type": "stream",
     "text": [
      " 121773 83887 -275560.99   56   61 -239240.00 -281503.57  17.7%  52.2  198s\n"
     ]
    },
    {
     "name": "stderr",
     "output_type": "stream",
     "text": [
      "2023-05-15 14:25:27,031 - INFO -  121773 83887 -275560.99   56   61 -239240.00 -281503.57  17.7%  52.2  198s\n"
     ]
    },
    {
     "name": "stdout",
     "output_type": "stream",
     "text": [
      " 122460 84701 infeasible  109      -239240.00 -281502.63  17.7%  52.3  201s\n"
     ]
    },
    {
     "name": "stderr",
     "output_type": "stream",
     "text": [
      "2023-05-15 14:25:29,827 - INFO -  122460 84701 infeasible  109      -239240.00 -281502.63  17.7%  52.3  201s\n"
     ]
    },
    {
     "name": "stdout",
     "output_type": "stream",
     "text": [
      " 124855 84993 -279837.20   44  119 -239240.00 -281500.74  17.7%  52.5  206s\n"
     ]
    },
    {
     "name": "stderr",
     "output_type": "stream",
     "text": [
      "2023-05-15 14:25:34,800 - INFO -  124855 84993 -279837.20   44  119 -239240.00 -281500.74  17.7%  52.5  206s\n"
     ]
    },
    {
     "name": "stdout",
     "output_type": "stream",
     "text": [
      " 125153 84919 -279874.83   44  124 -239240.00 -281500.74  17.7%  52.6  214s\n"
     ]
    },
    {
     "name": "stderr",
     "output_type": "stream",
     "text": [
      "2023-05-15 14:25:43,442 - INFO -  125153 84919 -279874.83   44  124 -239240.00 -281500.74  17.7%  52.6  214s\n"
     ]
    },
    {
     "name": "stdout",
     "output_type": "stream",
     "text": [
      " 125157 84918 -254433.31   61  119 -239240.00 -281500.74  17.7%  52.6  215s\n"
     ]
    },
    {
     "name": "stderr",
     "output_type": "stream",
     "text": [
      "2023-05-15 14:25:43,573 - INFO -  125157 84918 -254433.31   61  119 -239240.00 -281500.74  17.7%  52.6  215s\n"
     ]
    },
    {
     "name": "stdout",
     "output_type": "stream",
     "text": [
      " 126666 86801 -278312.97   53  132 -239240.00 -281500.74  17.7%  52.8  220s\n"
     ]
    },
    {
     "name": "stderr",
     "output_type": "stream",
     "text": [
      "2023-05-15 14:25:48,795 - INFO -  126666 86801 -278312.97   53  132 -239240.00 -281500.74  17.7%  52.8  220s\n"
     ]
    },
    {
     "name": "stdout",
     "output_type": "stream",
     "text": [
      " 129875 88172 -258851.16   74   92 -239240.00 -281500.74  17.7%  53.1  226s\n"
     ]
    },
    {
     "name": "stderr",
     "output_type": "stream",
     "text": [
      "2023-05-15 14:25:54,693 - INFO -  129875 88172 -258851.16   74   92 -239240.00 -281500.74  17.7%  53.1  226s\n"
     ]
    },
    {
     "name": "stdout",
     "output_type": "stream",
     "text": [
      " 132936 89503 -259287.40   76  127 -239240.00 -281490.63  17.7%  53.5  233s\n"
     ]
    },
    {
     "name": "stderr",
     "output_type": "stream",
     "text": [
      "2023-05-15 14:26:01,672 - INFO -  132936 89503 -259287.40   76  127 -239240.00 -281490.63  17.7%  53.5  233s\n"
     ]
    },
    {
     "name": "stdout",
     "output_type": "stream",
     "text": [
      " 134767 90103 -280669.24   40   98 -239240.00 -281472.21  17.7%  53.6  235s\n"
     ]
    },
    {
     "name": "stderr",
     "output_type": "stream",
     "text": [
      "2023-05-15 14:26:04,290 - INFO -  134767 90103 -280669.24   40   98 -239240.00 -281472.21  17.7%  53.6  235s\n"
     ]
    },
    {
     "name": "stdout",
     "output_type": "stream",
     "text": [
      " 137944 91688 -264955.73   82   78 -239240.00 -281460.10  17.6%  54.0  241s\n"
     ]
    },
    {
     "name": "stderr",
     "output_type": "stream",
     "text": [
      "2023-05-15 14:26:10,256 - INFO -  137944 91688 -264955.73   82   78 -239240.00 -281460.10  17.6%  54.0  241s\n"
     ]
    },
    {
     "name": "stdout",
     "output_type": "stream",
     "text": [
      " 141790 93505 -276213.16   55   78 -239240.00 -281445.75  17.6%  54.6  249s\n"
     ]
    },
    {
     "name": "stderr",
     "output_type": "stream",
     "text": [
      "2023-05-15 14:26:17,557 - INFO -  141790 93505 -276213.16   55   78 -239240.00 -281445.75  17.6%  54.6  249s\n"
     ]
    },
    {
     "name": "stdout",
     "output_type": "stream",
     "text": [
      " 143798 94240 infeasible  101      -239240.00 -281439.54  17.6%  54.8  253s\n"
     ]
    },
    {
     "name": "stderr",
     "output_type": "stream",
     "text": [
      "2023-05-15 14:26:21,721 - INFO -  143798 94240 infeasible  101      -239240.00 -281439.54  17.6%  54.8  253s\n"
     ]
    },
    {
     "name": "stdout",
     "output_type": "stream",
     "text": [
      " 145635 95219 -274200.52   73  100 -239240.00 -281421.93  17.6%  55.2  256s\n"
     ]
    },
    {
     "name": "stderr",
     "output_type": "stream",
     "text": [
      "2023-05-15 14:26:25,002 - INFO -  145635 95219 -274200.52   73  100 -239240.00 -281421.93  17.6%  55.2  256s\n"
     ]
    },
    {
     "name": "stdout",
     "output_type": "stream",
     "text": [
      " 147838 94762 -275746.34   61  115 -239240.00 -281420.83  17.6%  55.5  265s\n"
     ]
    },
    {
     "name": "stderr",
     "output_type": "stream",
     "text": [
      "2023-05-15 14:26:33,645 - INFO -  147838 94762 -275746.34   61  115 -239240.00 -281420.83  17.6%  55.5  265s\n"
     ]
    },
    {
     "name": "stdout",
     "output_type": "stream",
     "text": [
      " 150412 97652 -280278.96   44  108 -239240.00 -281411.05  17.6%  55.9  273s\n"
     ]
    },
    {
     "name": "stderr",
     "output_type": "stream",
     "text": [
      "2023-05-15 14:26:42,394 - INFO -  150412 97652 -280278.96   44  108 -239240.00 -281411.05  17.6%  55.9  273s\n"
     ]
    },
    {
     "name": "stdout",
     "output_type": "stream",
     "text": [
      " 153024 98821 -277402.31   52  129 -239240.00 -281401.32  17.6%  56.2  278s\n"
     ]
    },
    {
     "name": "stderr",
     "output_type": "stream",
     "text": [
      "2023-05-15 14:26:47,373 - INFO -  153024 98821 -277402.31   52  129 -239240.00 -281401.32  17.6%  56.2  278s\n"
     ]
    },
    {
     "name": "stdout",
     "output_type": "stream",
     "text": [
      " 155683 99866 -271991.42   68  140 -239240.00 -281393.86  17.6%  56.4  283s\n"
     ]
    },
    {
     "name": "stderr",
     "output_type": "stream",
     "text": [
      "2023-05-15 14:26:52,362 - INFO -  155683 99866 -271991.42   68  140 -239240.00 -281393.86  17.6%  56.4  283s\n"
     ]
    },
    {
     "name": "stdout",
     "output_type": "stream",
     "text": [
      " 158587 100772 -280265.29   42   96 -239240.00 -281380.54  17.6%  56.6  288s\n"
     ]
    },
    {
     "name": "stderr",
     "output_type": "stream",
     "text": [
      "2023-05-15 14:26:57,295 - INFO -  158587 100772 -280265.29   42   96 -239240.00 -281380.54  17.6%  56.6  288s\n"
     ]
    },
    {
     "name": "stdout",
     "output_type": "stream",
     "text": [
      " 161211 102133 infeasible  117      -239240.00 -281368.97  17.6%  56.9  293s\n"
     ]
    },
    {
     "name": "stderr",
     "output_type": "stream",
     "text": [
      "2023-05-15 14:27:02,062 - INFO -  161211 102133 infeasible  117      -239240.00 -281368.97  17.6%  56.9  293s\n"
     ]
    },
    {
     "name": "stdout",
     "output_type": "stream",
     "text": [
      " 164025 103388 -278738.81   46  119 -239240.00 -281356.54  17.6%  57.2  299s\n"
     ]
    },
    {
     "name": "stderr",
     "output_type": "stream",
     "text": [
      "2023-05-15 14:27:07,746 - INFO -  164025 103388 -278738.81   46  119 -239240.00 -281356.54  17.6%  57.2  299s\n"
     ]
    },
    {
     "name": "stdout",
     "output_type": "stream",
     "text": [
      " 166961 105207 -270374.30   94   61 -239240.00 -281346.15  17.6%  57.5  304s\n"
     ]
    },
    {
     "name": "stderr",
     "output_type": "stream",
     "text": [
      "2023-05-15 14:27:13,034 - INFO -  166961 105207 -270374.30   94   61 -239240.00 -281346.15  17.6%  57.5  304s\n"
     ]
    },
    {
     "name": "stdout",
     "output_type": "stream",
     "text": [
      " 170705 105949 infeasible  100      -239240.00 -281324.03  17.6%  57.6  309s\n"
     ]
    },
    {
     "name": "stderr",
     "output_type": "stream",
     "text": [
      "2023-05-15 14:27:17,970 - INFO -  170705 105949 infeasible  100      -239240.00 -281324.03  17.6%  57.6  309s\n"
     ]
    },
    {
     "name": "stdout",
     "output_type": "stream",
     "text": [
      " 173281 107151 -273723.37   86  108 -239240.00 -281314.27  17.6%  58.0  314s\n"
     ]
    },
    {
     "name": "stderr",
     "output_type": "stream",
     "text": [
      "2023-05-15 14:27:23,347 - INFO -  173281 107151 -273723.37   86  108 -239240.00 -281314.27  17.6%  58.0  314s\n"
     ]
    },
    {
     "name": "stdout",
     "output_type": "stream",
     "text": [
      " 175991 108494 -280820.19   50  132 -239240.00 -281314.18  17.6%  58.4  318s\n"
     ]
    },
    {
     "name": "stderr",
     "output_type": "stream",
     "text": [
      "2023-05-15 14:27:27,304 - INFO -  175991 108494 -280820.19   50  132 -239240.00 -281314.18  17.6%  58.4  318s\n"
     ]
    },
    {
     "name": "stdout",
     "output_type": "stream",
     "text": [
      " 178750 109657 -255179.60   87   72 -239240.00 -281306.13  17.6%  58.8  323s\n"
     ]
    },
    {
     "name": "stderr",
     "output_type": "stream",
     "text": [
      "2023-05-15 14:27:32,458 - INFO -  178750 109657 -255179.60   87   72 -239240.00 -281306.13  17.6%  58.8  323s\n"
     ]
    },
    {
     "name": "stdout",
     "output_type": "stream",
     "text": [
      " 181372 110620 -277747.80   58  135 -239240.00 -281297.06  17.6%  59.1  329s\n"
     ]
    },
    {
     "name": "stderr",
     "output_type": "stream",
     "text": [
      "2023-05-15 14:27:38,013 - INFO -  181372 110620 -277747.80   58  135 -239240.00 -281297.06  17.6%  59.1  329s\n"
     ]
    },
    {
     "name": "stdout",
     "output_type": "stream",
     "text": [
      " 183986 111849 -279098.67   42  107 -239240.00 -281290.80  17.6%  59.4  334s\n"
     ]
    },
    {
     "name": "stderr",
     "output_type": "stream",
     "text": [
      "2023-05-15 14:27:43,214 - INFO -  183986 111849 -279098.67   42  107 -239240.00 -281290.80  17.6%  59.4  334s\n"
     ]
    },
    {
     "name": "stdout",
     "output_type": "stream",
     "text": [
      " 186581 112414 infeasible  103      -239240.00 -281281.55  17.6%  59.7  338s\n"
     ]
    },
    {
     "name": "stderr",
     "output_type": "stream",
     "text": [
      "2023-05-15 14:27:47,275 - INFO -  186581 112414 infeasible  103      -239240.00 -281281.55  17.6%  59.7  338s\n"
     ]
    },
    {
     "name": "stdout",
     "output_type": "stream",
     "text": [
      " 188546 113585 -280658.25   48  116 -239240.00 -281278.27  17.6%  59.8  342s\n"
     ]
    },
    {
     "name": "stderr",
     "output_type": "stream",
     "text": [
      "2023-05-15 14:27:50,788 - INFO -  188546 113585 -280658.25   48  116 -239240.00 -281278.27  17.6%  59.8  342s\n"
     ]
    },
    {
     "name": "stdout",
     "output_type": "stream",
     "text": [
      " 190992 114610 -278619.10   48  116 -239240.00 -281269.25  17.6%  60.0  346s\n"
     ]
    },
    {
     "name": "stderr",
     "output_type": "stream",
     "text": [
      "2023-05-15 14:27:54,773 - INFO -  190992 114610 -278619.10   48  116 -239240.00 -281269.25  17.6%  60.0  346s\n"
     ]
    },
    {
     "name": "stdout",
     "output_type": "stream",
     "text": [
      " 196400 116943 infeasible  109      -239240.00 -281256.11  17.6%  60.5  354s\n"
     ]
    },
    {
     "name": "stderr",
     "output_type": "stream",
     "text": [
      "2023-05-15 14:28:03,470 - INFO -  196400 116943 infeasible  109      -239240.00 -281256.11  17.6%  60.5  354s\n"
     ]
    },
    {
     "name": "stdout",
     "output_type": "stream",
     "text": [
      " 198886 117371 -261707.45   63   96 -239240.00 -281249.72  17.6%  60.7  359s\n"
     ]
    },
    {
     "name": "stderr",
     "output_type": "stream",
     "text": [
      "2023-05-15 14:28:07,883 - INFO -  198886 117371 -261707.45   63   96 -239240.00 -281249.72  17.6%  60.7  359s\n"
     ]
    },
    {
     "name": "stdout",
     "output_type": "stream",
     "text": [
      " 200641 118639     cutoff  106      -239240.00 -281249.72  17.6%  60.9  362s\n"
     ]
    },
    {
     "name": "stderr",
     "output_type": "stream",
     "text": [
      "2023-05-15 14:28:11,528 - INFO -  200641 118639     cutoff  106      -239240.00 -281249.72  17.6%  60.9  362s\n"
     ]
    },
    {
     "name": "stdout",
     "output_type": "stream",
     "text": [
      " 202798 120053     cutoff   94      -239240.00 -281249.72  17.6%  61.3  366s\n"
     ]
    },
    {
     "name": "stderr",
     "output_type": "stream",
     "text": [
      "2023-05-15 14:28:15,229 - INFO -  202798 120053     cutoff   94      -239240.00 -281249.72  17.6%  61.3  366s\n"
     ]
    },
    {
     "name": "stdout",
     "output_type": "stream",
     "text": [
      " 205636 121231 -268217.81   82   92 -239240.00 -281236.37  17.6%  61.5  371s\n"
     ]
    },
    {
     "name": "stderr",
     "output_type": "stream",
     "text": [
      "2023-05-15 14:28:19,559 - INFO -  205636 121231 -268217.81   82   92 -239240.00 -281236.37  17.6%  61.5  371s\n"
     ]
    },
    {
     "name": "stdout",
     "output_type": "stream",
     "text": [
      " 208239 121435 -281130.63   52  128 -239240.00 -281235.15  17.6%  61.7  375s\n"
     ]
    },
    {
     "name": "stderr",
     "output_type": "stream",
     "text": [
      "2023-05-15 14:28:23,961 - INFO -  208239 121435 -281130.63   52  128 -239240.00 -281235.15  17.6%  61.7  375s\n"
     ]
    },
    {
     "name": "stdout",
     "output_type": "stream",
     "text": [
      " 211956 123172 -277447.36   44   93 -239240.00 -281225.40  17.5%  62.1  383s\n"
     ]
    },
    {
     "name": "stderr",
     "output_type": "stream",
     "text": [
      "2023-05-15 14:28:32,360 - INFO -  211956 123172 -277447.36   44   93 -239240.00 -281225.40  17.5%  62.1  383s\n"
     ]
    },
    {
     "name": "stdout",
     "output_type": "stream",
     "text": [
      " 214040 124600 -272641.54   81   63 -239240.00 -281222.04  17.5%  62.5  387s\n"
     ]
    },
    {
     "name": "stderr",
     "output_type": "stream",
     "text": [
      "2023-05-15 14:28:36,359 - INFO -  214040 124600 -272641.54   81   63 -239240.00 -281222.04  17.5%  62.5  387s\n"
     ]
    },
    {
     "name": "stdout",
     "output_type": "stream",
     "text": [
      " 216806 125121 -277767.15   46   70 -239240.00 -281218.55  17.5%  62.7  391s\n"
     ]
    },
    {
     "name": "stderr",
     "output_type": "stream",
     "text": [
      "2023-05-15 14:28:40,192 - INFO -  216806 125121 -277767.15   46   70 -239240.00 -281218.55  17.5%  62.7  391s\n"
     ]
    },
    {
     "name": "stdout",
     "output_type": "stream",
     "text": [
      " 218838 125429 -279058.68   69  125 -239240.00 -281213.65  17.5%  63.0  400s\n"
     ]
    },
    {
     "name": "stderr",
     "output_type": "stream",
     "text": [
      "2023-05-15 14:28:49,288 - INFO -  218838 125429 -279058.68   69  125 -239240.00 -281213.65  17.5%  63.0  400s\n"
     ]
    },
    {
     "name": "stdout",
     "output_type": "stream",
     "text": [
      " 220211 126503 -278939.58   70  128 -239240.00 -281213.65  17.5%  63.1  405s\n"
     ]
    },
    {
     "name": "stderr",
     "output_type": "stream",
     "text": [
      "2023-05-15 14:28:54,027 - INFO -  220211 126503 -278939.58   70  128 -239240.00 -281213.65  17.5%  63.1  405s\n"
     ]
    },
    {
     "name": "stdout",
     "output_type": "stream",
     "text": [
      " 222421 127506 -277580.57   59  100 -239240.00 -281206.92  17.5%  63.4  410s\n"
     ]
    },
    {
     "name": "stderr",
     "output_type": "stream",
     "text": [
      "2023-05-15 14:28:58,609 - INFO -  222421 127506 -277580.57   59  100 -239240.00 -281206.92  17.5%  63.4  410s\n"
     ]
    },
    {
     "name": "stdout",
     "output_type": "stream",
     "text": [
      " 226831 129769 -279570.72   45   65 -239240.00 -281201.26  17.5%  63.9  419s\n"
     ]
    },
    {
     "name": "stderr",
     "output_type": "stream",
     "text": [
      "2023-05-15 14:29:07,635 - INFO -  226831 129769 -279570.72   45   65 -239240.00 -281201.26  17.5%  63.9  419s\n"
     ]
    },
    {
     "name": "stdout",
     "output_type": "stream",
     "text": [
      " 229652 130278 -276105.79   66  133 -239240.00 -281193.36  17.5%  64.0  423s\n"
     ]
    },
    {
     "name": "stderr",
     "output_type": "stream",
     "text": [
      "2023-05-15 14:29:11,984 - INFO -  229652 130278 -276105.79   66  133 -239240.00 -281193.36  17.5%  64.0  423s\n"
     ]
    },
    {
     "name": "stdout",
     "output_type": "stream",
     "text": [
      " 231790 131739 -276328.41   65  143 -239240.00 -281184.45  17.5%  64.2  428s\n"
     ]
    },
    {
     "name": "stderr",
     "output_type": "stream",
     "text": [
      "2023-05-15 14:29:16,882 - INFO -  231790 131739 -276328.41   65  143 -239240.00 -281184.45  17.5%  64.2  428s\n"
     ]
    },
    {
     "name": "stdout",
     "output_type": "stream",
     "text": [
      " 234597 132557 infeasible   99      -239240.00 -281181.24  17.5%  64.4  433s\n"
     ]
    },
    {
     "name": "stderr",
     "output_type": "stream",
     "text": [
      "2023-05-15 14:29:22,240 - INFO -  234597 132557 infeasible   99      -239240.00 -281181.24  17.5%  64.4  433s\n"
     ]
    },
    {
     "name": "stdout",
     "output_type": "stream",
     "text": [
      " 237169 133267 -247027.33   69  121 -239240.00 -281178.56  17.5%  64.5  439s\n"
     ]
    },
    {
     "name": "stderr",
     "output_type": "stream",
     "text": [
      "2023-05-15 14:29:28,006 - INFO -  237169 133267 -247027.33   69  121 -239240.00 -281178.56  17.5%  64.5  439s\n"
     ]
    },
    {
     "name": "stdout",
     "output_type": "stream",
     "text": [
      " 239557 133751 -279264.66   61  140 -239240.00 -281172.05  17.5%  64.7  444s\n"
     ]
    },
    {
     "name": "stderr",
     "output_type": "stream",
     "text": [
      "2023-05-15 14:29:32,716 - INFO -  239557 133751 -279264.66   61  140 -239240.00 -281172.05  17.5%  64.7  444s\n"
     ]
    },
    {
     "name": "stdout",
     "output_type": "stream",
     "text": [
      " 241812 133457 -271162.24   61  160 -239240.00 -281168.12  17.5%  65.0  450s\n"
     ]
    },
    {
     "name": "stderr",
     "output_type": "stream",
     "text": [
      "2023-05-15 14:29:38,882 - INFO -  241812 133457 -271162.24   61  160 -239240.00 -281168.12  17.5%  65.0  450s\n"
     ]
    },
    {
     "name": "stdout",
     "output_type": "stream",
     "text": [
      " 242411 134888 -274363.83   59  154 -239240.00 -281167.95  17.5%  65.0  456s\n"
     ]
    },
    {
     "name": "stderr",
     "output_type": "stream",
     "text": [
      "2023-05-15 14:29:44,752 - INFO -  242411 134888 -274363.83   59  154 -239240.00 -281167.95  17.5%  65.0  456s\n"
     ]
    },
    {
     "name": "stdout",
     "output_type": "stream",
     "text": [
      " 244795 135284 -280908.52   51  118 -239240.00 -281166.62  17.5%  65.2  462s\n"
     ]
    },
    {
     "name": "stderr",
     "output_type": "stream",
     "text": [
      "2023-05-15 14:29:51,157 - INFO -  244795 135284 -280908.52   51  118 -239240.00 -281166.62  17.5%  65.2  462s\n"
     ]
    },
    {
     "name": "stdout",
     "output_type": "stream",
     "text": [
      " 246434 136674 -270279.05   78  106 -239240.00 -281163.73  17.5%  65.3  468s\n"
     ]
    },
    {
     "name": "stderr",
     "output_type": "stream",
     "text": [
      "2023-05-15 14:29:57,365 - INFO -  246434 136674 -270279.05   78  106 -239240.00 -281163.73  17.5%  65.3  468s\n"
     ]
    },
    {
     "name": "stdout",
     "output_type": "stream",
     "text": [
      " 249152 137612 -259901.24   90  110 -239240.00 -281156.84  17.5%  65.4  475s\n"
     ]
    },
    {
     "name": "stderr",
     "output_type": "stream",
     "text": [
      "2023-05-15 14:30:03,985 - INFO -  249152 137612 -259901.24   90  110 -239240.00 -281156.84  17.5%  65.4  475s\n"
     ]
    },
    {
     "name": "stdout",
     "output_type": "stream",
     "text": [
      " 251674 138550 -267999.59   77  123 -239240.00 -281154.12  17.5%  65.6  480s\n"
     ]
    },
    {
     "name": "stderr",
     "output_type": "stream",
     "text": [
      "2023-05-15 14:30:09,493 - INFO -  251674 138550 -267999.59   77  123 -239240.00 -281154.12  17.5%  65.6  480s\n"
     ]
    },
    {
     "name": "stdout",
     "output_type": "stream",
     "text": [
      " 254310 138693     cutoff   70      -239240.00 -281148.47  17.5%  65.7  488s\n"
     ]
    },
    {
     "name": "stderr",
     "output_type": "stream",
     "text": [
      "2023-05-15 14:30:17,140 - INFO -  254310 138693     cutoff   70      -239240.00 -281148.47  17.5%  65.7  488s\n"
     ]
    },
    {
     "name": "stdout",
     "output_type": "stream",
     "text": [
      " 255822 139741 -274460.84   56  142 -239240.00 -281145.91  17.5%  65.8  494s\n"
     ]
    },
    {
     "name": "stderr",
     "output_type": "stream",
     "text": [
      "2023-05-15 14:30:22,649 - INFO -  255822 139741 -274460.84   56  142 -239240.00 -281145.91  17.5%  65.8  494s\n"
     ]
    },
    {
     "name": "stdout",
     "output_type": "stream",
     "text": [
      " 257777 140563     cutoff   78      -239240.00 -281142.28  17.5%  66.2  499s\n"
     ]
    },
    {
     "name": "stderr",
     "output_type": "stream",
     "text": [
      "2023-05-15 14:30:28,413 - INFO -  257777 140563     cutoff   78      -239240.00 -281142.28  17.5%  66.2  499s\n"
     ]
    },
    {
     "name": "stdout",
     "output_type": "stream",
     "text": [
      " 259779 141629 -272258.01   93   89 -239240.00 -281139.50  17.5%  66.5  505s\n"
     ]
    },
    {
     "name": "stderr",
     "output_type": "stream",
     "text": [
      "2023-05-15 14:30:33,988 - INFO -  259779 141629 -272258.01   93   89 -239240.00 -281139.50  17.5%  66.5  505s\n"
     ]
    },
    {
     "name": "stdout",
     "output_type": "stream",
     "text": [
      " 262145 141826 -255606.36   77   68 -239240.00 -281138.19  17.5%  66.7  510s\n"
     ]
    },
    {
     "name": "stderr",
     "output_type": "stream",
     "text": [
      "2023-05-15 14:30:39,330 - INFO -  262145 141826 -255606.36   77   68 -239240.00 -281138.19  17.5%  66.7  510s\n"
     ]
    },
    {
     "name": "stdout",
     "output_type": "stream",
     "text": [
      " 263633 142893 -255099.07   83  114 -239240.00 -281132.78  17.5%  66.8  516s\n"
     ]
    },
    {
     "name": "stderr",
     "output_type": "stream",
     "text": [
      "2023-05-15 14:30:45,428 - INFO -  263633 142893 -255099.07   83  114 -239240.00 -281132.78  17.5%  66.8  516s\n"
     ]
    },
    {
     "name": "stdout",
     "output_type": "stream",
     "text": [
      " 265698 144176 -280586.99   65  136 -239240.00 -281129.80  17.5%  67.1  524s\n"
     ]
    },
    {
     "name": "stderr",
     "output_type": "stream",
     "text": [
      "2023-05-15 14:30:52,909 - INFO -  265698 144176 -280586.99   65  136 -239240.00 -281129.80  17.5%  67.1  524s\n"
     ]
    },
    {
     "name": "stdout",
     "output_type": "stream",
     "text": [
      " 268153 145211 -276471.77   70  122 -239240.00 -281128.81  17.5%  67.4  531s\n"
     ]
    },
    {
     "name": "stderr",
     "output_type": "stream",
     "text": [
      "2023-05-15 14:31:00,145 - INFO -  268153 145211 -276471.77   70  122 -239240.00 -281128.81  17.5%  67.4  531s\n"
     ]
    },
    {
     "name": "stdout",
     "output_type": "stream",
     "text": [
      " 270677 146104 -272278.07   87   73 -239240.00 -281126.00  17.5%  67.5  537s\n"
     ]
    },
    {
     "name": "stderr",
     "output_type": "stream",
     "text": [
      "2023-05-15 14:31:06,049 - INFO -  270677 146104 -272278.07   87   73 -239240.00 -281126.00  17.5%  67.5  537s\n"
     ]
    },
    {
     "name": "stdout",
     "output_type": "stream",
     "text": [
      " 273123 145948 -276522.51   53  152 -239240.00 -281121.33  17.5%  67.8  552s\n"
     ]
    },
    {
     "name": "stderr",
     "output_type": "stream",
     "text": [
      "2023-05-15 14:31:21,477 - INFO -  273123 145948 -276522.51   53  152 -239240.00 -281121.33  17.5%  67.8  552s\n"
     ]
    },
    {
     "name": "stdout",
     "output_type": "stream",
     "text": [
      " 273996 147614 -273937.79   54  134 -239240.00 -281121.26  17.5%  67.8  559s\n"
     ]
    },
    {
     "name": "stderr",
     "output_type": "stream",
     "text": [
      "2023-05-15 14:31:27,558 - INFO -  273996 147614 -273937.79   54  134 -239240.00 -281121.26  17.5%  67.8  559s\n"
     ]
    },
    {
     "name": "stdout",
     "output_type": "stream",
     "text": [
      " 276453 148380 -278077.56   53  131 -239240.00 -281118.88  17.5%  67.9  565s\n"
     ]
    },
    {
     "name": "stderr",
     "output_type": "stream",
     "text": [
      "2023-05-15 14:31:34,430 - INFO -  276453 148380 -278077.56   53  131 -239240.00 -281118.88  17.5%  67.9  565s\n"
     ]
    },
    {
     "name": "stdout",
     "output_type": "stream",
     "text": [
      " 278925 149393 -259690.64   83  113 -239240.00 -281117.41  17.5%  68.1  573s\n"
     ]
    },
    {
     "name": "stderr",
     "output_type": "stream",
     "text": [
      "2023-05-15 14:31:41,622 - INFO -  278925 149393 -259690.64   83  113 -239240.00 -281117.41  17.5%  68.1  573s\n"
     ]
    },
    {
     "name": "stdout",
     "output_type": "stream",
     "text": [
      " 281591 150438 -267352.07   55   91 -239240.00 -281113.15  17.5%  68.2  579s\n"
     ]
    },
    {
     "name": "stderr",
     "output_type": "stream",
     "text": [
      "2023-05-15 14:31:47,629 - INFO -  281591 150438 -267352.07   55   91 -239240.00 -281113.15  17.5%  68.2  579s\n"
     ]
    },
    {
     "name": "stdout",
     "output_type": "stream",
     "text": [
      " 284297 150127 -274240.50   62  145 -239240.00 -281107.88  17.5%  68.3  586s\n"
     ]
    },
    {
     "name": "stderr",
     "output_type": "stream",
     "text": [
      "2023-05-15 14:31:54,918 - INFO -  284297 150127 -274240.50   62  145 -239240.00 -281107.88  17.5%  68.3  586s\n"
     ]
    },
    {
     "name": "stdout",
     "output_type": "stream",
     "text": [
      " 285130 151424 -280265.84   47   58 -239240.00 -281107.45  17.5%  68.4  593s\n"
     ]
    },
    {
     "name": "stderr",
     "output_type": "stream",
     "text": [
      "2023-05-15 14:32:01,633 - INFO -  285130 151424 -280265.84   47   58 -239240.00 -281107.45  17.5%  68.4  593s\n"
     ]
    },
    {
     "name": "stdout",
     "output_type": "stream",
     "text": [
      " 287285 152273 -279255.11   39   96 -239240.00 -281104.02  17.5%  68.6  599s\n"
     ]
    },
    {
     "name": "stderr",
     "output_type": "stream",
     "text": [
      "2023-05-15 14:32:08,135 - INFO -  287285 152273 -279255.11   39   96 -239240.00 -281104.02  17.5%  68.6  599s\n"
     ]
    },
    {
     "name": "stdout",
     "output_type": "stream",
     "text": [
      "\n"
     ]
    },
    {
     "name": "stderr",
     "output_type": "stream",
     "text": [
      "2023-05-15 14:32:09,270 - INFO - \n"
     ]
    },
    {
     "name": "stdout",
     "output_type": "stream",
     "text": [
      "Cutting planes:\n"
     ]
    },
    {
     "name": "stderr",
     "output_type": "stream",
     "text": [
      "2023-05-15 14:32:09,272 - INFO - Cutting planes:\n"
     ]
    },
    {
     "name": "stdout",
     "output_type": "stream",
     "text": [
      "  Gomory: 4\n"
     ]
    },
    {
     "name": "stderr",
     "output_type": "stream",
     "text": [
      "2023-05-15 14:32:09,275 - INFO -   Gomory: 4\n"
     ]
    },
    {
     "name": "stdout",
     "output_type": "stream",
     "text": [
      "  MIR: 2\n"
     ]
    },
    {
     "name": "stderr",
     "output_type": "stream",
     "text": [
      "2023-05-15 14:32:09,278 - INFO -   MIR: 2\n"
     ]
    },
    {
     "name": "stdout",
     "output_type": "stream",
     "text": [
      "  StrongCG: 1\n"
     ]
    },
    {
     "name": "stderr",
     "output_type": "stream",
     "text": [
      "2023-05-15 14:32:09,280 - INFO -   StrongCG: 1\n"
     ]
    },
    {
     "name": "stdout",
     "output_type": "stream",
     "text": [
      "  Flow cover: 15\n"
     ]
    },
    {
     "name": "stderr",
     "output_type": "stream",
     "text": [
      "2023-05-15 14:32:09,284 - INFO -   Flow cover: 15\n"
     ]
    },
    {
     "name": "stdout",
     "output_type": "stream",
     "text": [
      "  Zero half: 14\n"
     ]
    },
    {
     "name": "stderr",
     "output_type": "stream",
     "text": [
      "2023-05-15 14:32:09,289 - INFO -   Zero half: 14\n"
     ]
    },
    {
     "name": "stdout",
     "output_type": "stream",
     "text": [
      "  Lazy constraints: 2765\n"
     ]
    },
    {
     "name": "stderr",
     "output_type": "stream",
     "text": [
      "2023-05-15 14:32:09,295 - INFO -   Lazy constraints: 2765\n"
     ]
    },
    {
     "name": "stdout",
     "output_type": "stream",
     "text": [
      "\n"
     ]
    },
    {
     "name": "stderr",
     "output_type": "stream",
     "text": [
      "2023-05-15 14:32:09,299 - INFO - \n"
     ]
    },
    {
     "name": "stdout",
     "output_type": "stream",
     "text": [
      "Explored 289359 nodes (19917880 simplex iterations) in 600.75 seconds\n"
     ]
    },
    {
     "name": "stderr",
     "output_type": "stream",
     "text": [
      "2023-05-15 14:32:09,301 - INFO - Explored 289359 nodes (19917880 simplex iterations) in 600.75 seconds\n"
     ]
    },
    {
     "name": "stdout",
     "output_type": "stream",
     "text": [
      "Thread count was 24 (of 48 available processors)\n"
     ]
    },
    {
     "name": "stderr",
     "output_type": "stream",
     "text": [
      "2023-05-15 14:32:09,304 - INFO - Thread count was 24 (of 48 available processors)\n"
     ]
    },
    {
     "name": "stdout",
     "output_type": "stream",
     "text": [
      "\n"
     ]
    },
    {
     "name": "stderr",
     "output_type": "stream",
     "text": [
      "2023-05-15 14:32:09,306 - INFO - \n"
     ]
    },
    {
     "name": "stdout",
     "output_type": "stream",
     "text": [
      "Solution count 3: -239240 -237445 -237295 \n"
     ]
    },
    {
     "name": "stderr",
     "output_type": "stream",
     "text": [
      "2023-05-15 14:32:09,312 - INFO - Solution count 3: -239240 -237445 -237295 \n"
     ]
    },
    {
     "name": "stdout",
     "output_type": "stream",
     "text": [
      "\n"
     ]
    },
    {
     "name": "stderr",
     "output_type": "stream",
     "text": [
      "2023-05-15 14:32:09,316 - INFO - \n"
     ]
    },
    {
     "name": "stdout",
     "output_type": "stream",
     "text": [
      "Time limit reached\n"
     ]
    },
    {
     "name": "stderr",
     "output_type": "stream",
     "text": [
      "2023-05-15 14:32:09,319 - INFO - Time limit reached\n"
     ]
    },
    {
     "name": "stdout",
     "output_type": "stream",
     "text": [
      "Best objective -2.392400000000e+05, best bound -2.811010000000e+05, gap 17.4975%\n"
     ]
    },
    {
     "name": "stderr",
     "output_type": "stream",
     "text": [
      "2023-05-15 14:32:09,322 - INFO - Best objective -2.392400000000e+05, best bound -2.811010000000e+05, gap 17.4975%\n"
     ]
    },
    {
     "name": "stdout",
     "output_type": "stream",
     "text": [
      "\n"
     ]
    },
    {
     "name": "stderr",
     "output_type": "stream",
     "text": [
      "2023-05-15 14:32:09,326 - INFO - \n"
     ]
    },
    {
     "name": "stdout",
     "output_type": "stream",
     "text": [
      "User-callback calls 625059, time in user-callback 27.15 sec\n"
     ]
    },
    {
     "name": "stderr",
     "output_type": "stream",
     "text": [
      "2023-05-15 14:32:09,329 - INFO - User-callback calls 625059, time in user-callback 27.15 sec\n"
     ]
    },
    {
     "name": "stdout",
     "output_type": "stream",
     "text": [
      "{'Bounds': {'D200': {}, 'D160': {}, 'R200': {}, 'R160': {}, 'D201': {}, 'D161': {}, 'R201': {}, 'R161': {}, 'D202': {}, 'D162': {}, 'R202': {}, 'R162': {}, 'D203': {}, 'D163': {}, 'R203': {}, 'R163': {}, 'T200': {}, 'T160': {}, 'T201': {}, 'T161': {}, 'T202': {}, 'T162': {}, 'T203': {}, 'T163': {}, 'diff_D_T20_[0]': {}, 'diff_D_T16_[0]': {}, 'diff_D_T20_[1]': {'lb': -281101.0, 'min_soln': -239240.0}, 'diff_D_T16_[1]': {}, 'diff_D_T20_[2]': {'lb': -278591.0, 'min_soln': -227048.0}, 'diff_D_T16_[2]': {'lb': -255935.0, 'min_soln': -228418.0}, 'diff_D_T20_[3]': {'lb': -265117.0, 'min_soln': -207249.0}, 'diff_D_T16_[3]': {'lb': -245827.0, 'min_soln': -194189.0}}}\n",
      "Gurobi Optimizer version 9.1.2 build v9.1.2rc0 (win64)\n"
     ]
    },
    {
     "name": "stderr",
     "output_type": "stream",
     "text": [
      "2023-05-15 14:32:10,023 - INFO - Gurobi Optimizer version 9.1.2 build v9.1.2rc0 (win64)\n"
     ]
    },
    {
     "name": "stdout",
     "output_type": "stream",
     "text": [
      "Thread count: 24 physical cores, 48 logical processors, using up to 24 threads\n"
     ]
    },
    {
     "name": "stderr",
     "output_type": "stream",
     "text": [
      "2023-05-15 14:32:10,023 - INFO - Thread count: 24 physical cores, 48 logical processors, using up to 24 threads\n"
     ]
    },
    {
     "name": "stdout",
     "output_type": "stream",
     "text": [
      "Optimize a model with 130 rows, 688 columns and 2371 nonzeros\n"
     ]
    },
    {
     "name": "stderr",
     "output_type": "stream",
     "text": [
      "2023-05-15 14:32:10,023 - INFO - Optimize a model with 130 rows, 688 columns and 2371 nonzeros\n"
     ]
    },
    {
     "name": "stdout",
     "output_type": "stream",
     "text": [
      "Model fingerprint: 0x4ef71083\n"
     ]
    },
    {
     "name": "stderr",
     "output_type": "stream",
     "text": [
      "2023-05-15 14:32:10,023 - INFO - Model fingerprint: 0x4ef71083\n"
     ]
    },
    {
     "name": "stdout",
     "output_type": "stream",
     "text": [
      "Variable types: 32 continuous, 656 integer (656 binary)\n"
     ]
    },
    {
     "name": "stderr",
     "output_type": "stream",
     "text": [
      "2023-05-15 14:32:10,023 - INFO - Variable types: 32 continuous, 656 integer (656 binary)\n"
     ]
    },
    {
     "name": "stdout",
     "output_type": "stream",
     "text": [
      "Coefficient statistics:\n"
     ]
    },
    {
     "name": "stderr",
     "output_type": "stream",
     "text": [
      "2023-05-15 14:32:10,023 - INFO - Coefficient statistics:\n"
     ]
    },
    {
     "name": "stdout",
     "output_type": "stream",
     "text": [
      "  Matrix range     [1e+00, 2e+05]\n"
     ]
    },
    {
     "name": "stderr",
     "output_type": "stream",
     "text": [
      "2023-05-15 14:32:10,023 - INFO -   Matrix range     [1e+00, 2e+05]\n"
     ]
    },
    {
     "name": "stdout",
     "output_type": "stream",
     "text": [
      "  Objective range  [1e+00, 1e+00]\n"
     ]
    },
    {
     "name": "stderr",
     "output_type": "stream",
     "text": [
      "2023-05-15 14:32:10,023 - INFO -   Objective range  [1e+00, 1e+00]\n"
     ]
    },
    {
     "name": "stdout",
     "output_type": "stream",
     "text": [
      "  Bounds range     [1e+00, 8e+05]\n"
     ]
    },
    {
     "name": "stderr",
     "output_type": "stream",
     "text": [
      "2023-05-15 14:32:10,039 - INFO -   Bounds range     [1e+00, 8e+05]\n"
     ]
    },
    {
     "name": "stdout",
     "output_type": "stream",
     "text": [
      "  RHS range        [1e+00, 8e+05]\n"
     ]
    },
    {
     "name": "stderr",
     "output_type": "stream",
     "text": [
      "2023-05-15 14:32:10,041 - INFO -   RHS range        [1e+00, 8e+05]\n"
     ]
    },
    {
     "name": "stdout",
     "output_type": "stream",
     "text": [
      "\n"
     ]
    },
    {
     "name": "stderr",
     "output_type": "stream",
     "text": [
      "2023-05-15 14:32:10,043 - INFO - \n"
     ]
    },
    {
     "name": "stdout",
     "output_type": "stream",
     "text": [
      "User MIP start produced solution with objective -217004 (0.03s)\n"
     ]
    },
    {
     "name": "stderr",
     "output_type": "stream",
     "text": [
      "2023-05-15 14:32:10,053 - INFO - User MIP start produced solution with objective -217004 (0.03s)\n"
     ]
    },
    {
     "name": "stdout",
     "output_type": "stream",
     "text": [
      "Loaded user MIP start with objective -217004\n"
     ]
    },
    {
     "name": "stderr",
     "output_type": "stream",
     "text": [
      "2023-05-15 14:32:10,060 - INFO - Loaded user MIP start with objective -217004\n"
     ]
    },
    {
     "name": "stdout",
     "output_type": "stream",
     "text": [
      "MIP start from previous solve produced solution with objective -218493 (0.04s)\n"
     ]
    },
    {
     "name": "stderr",
     "output_type": "stream",
     "text": [
      "2023-05-15 14:32:10,069 - INFO - MIP start from previous solve produced solution with objective -218493 (0.04s)\n"
     ]
    },
    {
     "name": "stdout",
     "output_type": "stream",
     "text": [
      "Loaded MIP start from previous solve with objective -218493\n"
     ]
    },
    {
     "name": "stderr",
     "output_type": "stream",
     "text": [
      "2023-05-15 14:32:10,075 - INFO - Loaded MIP start from previous solve with objective -218493\n"
     ]
    },
    {
     "name": "stdout",
     "output_type": "stream",
     "text": [
      "\n"
     ]
    },
    {
     "name": "stderr",
     "output_type": "stream",
     "text": [
      "2023-05-15 14:32:10,078 - INFO - \n"
     ]
    },
    {
     "name": "stdout",
     "output_type": "stream",
     "text": [
      "Presolve removed 21 rows and 16 columns\n"
     ]
    },
    {
     "name": "stderr",
     "output_type": "stream",
     "text": [
      "2023-05-15 14:32:10,092 - INFO - Presolve removed 21 rows and 16 columns\n"
     ]
    },
    {
     "name": "stdout",
     "output_type": "stream",
     "text": [
      "Presolve time: 0.01s\n"
     ]
    },
    {
     "name": "stderr",
     "output_type": "stream",
     "text": [
      "2023-05-15 14:32:10,094 - INFO - Presolve time: 0.01s\n"
     ]
    },
    {
     "name": "stdout",
     "output_type": "stream",
     "text": [
      "Presolved: 109 rows, 672 columns, 2323 nonzeros\n"
     ]
    },
    {
     "name": "stderr",
     "output_type": "stream",
     "text": [
      "2023-05-15 14:32:10,096 - INFO - Presolved: 109 rows, 672 columns, 2323 nonzeros\n"
     ]
    },
    {
     "name": "stdout",
     "output_type": "stream",
     "text": [
      "Variable types: 0 continuous, 672 integer (656 binary)\n"
     ]
    },
    {
     "name": "stderr",
     "output_type": "stream",
     "text": [
      "2023-05-15 14:32:10,101 - INFO - Variable types: 0 continuous, 672 integer (656 binary)\n"
     ]
    },
    {
     "name": "stdout",
     "output_type": "stream",
     "text": [
      "\n"
     ]
    },
    {
     "name": "stderr",
     "output_type": "stream",
     "text": [
      "2023-05-15 14:32:10,104 - INFO - \n"
     ]
    },
    {
     "name": "stdout",
     "output_type": "stream",
     "text": [
      "Concurrent LP optimizer: primal simplex, dual simplex, and barrier\n"
     ]
    },
    {
     "name": "stderr",
     "output_type": "stream",
     "text": [
      "2023-05-15 14:32:10,105 - INFO - Concurrent LP optimizer: primal simplex, dual simplex, and barrier\n"
     ]
    },
    {
     "name": "stdout",
     "output_type": "stream",
     "text": [
      "Showing barrier log only...\n"
     ]
    },
    {
     "name": "stderr",
     "output_type": "stream",
     "text": [
      "2023-05-15 14:32:10,106 - INFO - Showing barrier log only...\n"
     ]
    },
    {
     "name": "stdout",
     "output_type": "stream",
     "text": [
      "\n"
     ]
    },
    {
     "name": "stderr",
     "output_type": "stream",
     "text": [
      "2023-05-15 14:32:10,108 - INFO - \n"
     ]
    },
    {
     "name": "stdout",
     "output_type": "stream",
     "text": [
      "\n"
     ]
    },
    {
     "name": "stderr",
     "output_type": "stream",
     "text": [
      "2023-05-15 14:32:10,117 - INFO - \n"
     ]
    },
    {
     "name": "stdout",
     "output_type": "stream",
     "text": [
      "Solved with dual simplex\n"
     ]
    },
    {
     "name": "stderr",
     "output_type": "stream",
     "text": [
      "2023-05-15 14:32:10,119 - INFO - Solved with dual simplex\n"
     ]
    },
    {
     "name": "stdout",
     "output_type": "stream",
     "text": [
      "\n"
     ]
    },
    {
     "name": "stderr",
     "output_type": "stream",
     "text": [
      "2023-05-15 14:32:10,123 - INFO - \n"
     ]
    },
    {
     "name": "stdout",
     "output_type": "stream",
     "text": [
      "Root relaxation: objective -2.601702e+05, 143 iterations, 0.02 seconds\n"
     ]
    },
    {
     "name": "stderr",
     "output_type": "stream",
     "text": [
      "2023-05-15 14:32:10,125 - INFO - Root relaxation: objective -2.601702e+05, 143 iterations, 0.02 seconds\n"
     ]
    },
    {
     "name": "stdout",
     "output_type": "stream",
     "text": [
      "\n"
     ]
    },
    {
     "name": "stderr",
     "output_type": "stream",
     "text": [
      "2023-05-15 14:32:10,136 - INFO - \n"
     ]
    },
    {
     "name": "stdout",
     "output_type": "stream",
     "text": [
      "    Nodes    |    Current Node    |     Objective Bounds      |     Work\n"
     ]
    },
    {
     "name": "stderr",
     "output_type": "stream",
     "text": [
      "2023-05-15 14:32:10,138 - INFO -     Nodes    |    Current Node    |     Objective Bounds      |     Work\n"
     ]
    },
    {
     "name": "stdout",
     "output_type": "stream",
     "text": [
      " Expl Unexpl |  Obj  Depth IntInf | Incumbent    BestBd   Gap | It/Node Time\n"
     ]
    },
    {
     "name": "stderr",
     "output_type": "stream",
     "text": [
      "2023-05-15 14:32:10,139 - INFO -  Expl Unexpl |  Obj  Depth IntInf | Incumbent    BestBd   Gap | It/Node Time\n"
     ]
    },
    {
     "name": "stdout",
     "output_type": "stream",
     "text": [
      "\n"
     ]
    },
    {
     "name": "stderr",
     "output_type": "stream",
     "text": [
      "2023-05-15 14:32:10,141 - INFO - \n"
     ]
    },
    {
     "name": "stdout",
     "output_type": "stream",
     "text": [
      "     0     0 -260170.19    0   22 -218493.00 -260170.19  19.1%     -    0s\n"
     ]
    },
    {
     "name": "stderr",
     "output_type": "stream",
     "text": [
      "2023-05-15 14:32:10,142 - INFO -      0     0 -260170.19    0   22 -218493.00 -260170.19  19.1%     -    0s\n"
     ]
    },
    {
     "name": "stdout",
     "output_type": "stream",
     "text": [
      "     0     0 -260136.93    0   22 -218493.00 -260136.93  19.1%     -    0s\n"
     ]
    },
    {
     "name": "stderr",
     "output_type": "stream",
     "text": [
      "2023-05-15 14:32:10,160 - INFO -      0     0 -260136.93    0   22 -218493.00 -260136.93  19.1%     -    0s\n"
     ]
    },
    {
     "name": "stdout",
     "output_type": "stream",
     "text": [
      "     0     0 -259953.94    0   29 -218493.00 -259953.94  19.0%     -    0s\n"
     ]
    },
    {
     "name": "stderr",
     "output_type": "stream",
     "text": [
      "2023-05-15 14:32:10,333 - INFO -      0     0 -259953.94    0   29 -218493.00 -259953.94  19.0%     -    0s\n"
     ]
    },
    {
     "name": "stdout",
     "output_type": "stream",
     "text": [
      "     0     0 -259939.64    0   30 -218493.00 -259939.64  19.0%     -    0s\n"
     ]
    },
    {
     "name": "stderr",
     "output_type": "stream",
     "text": [
      "2023-05-15 14:32:10,338 - INFO -      0     0 -259939.64    0   30 -218493.00 -259939.64  19.0%     -    0s\n"
     ]
    },
    {
     "name": "stdout",
     "output_type": "stream",
     "text": [
      "     0     0 -259923.70    0   37 -218493.00 -259923.70  19.0%     -    0s\n"
     ]
    },
    {
     "name": "stderr",
     "output_type": "stream",
     "text": [
      "2023-05-15 14:32:10,343 - INFO -      0     0 -259923.70    0   37 -218493.00 -259923.70  19.0%     -    0s\n"
     ]
    },
    {
     "name": "stdout",
     "output_type": "stream",
     "text": [
      "     0     0 -259908.49    0   33 -218493.00 -259908.49  19.0%     -    0s\n"
     ]
    },
    {
     "name": "stderr",
     "output_type": "stream",
     "text": [
      "2023-05-15 14:32:10,356 - INFO -      0     0 -259908.49    0   33 -218493.00 -259908.49  19.0%     -    0s\n"
     ]
    },
    {
     "name": "stdout",
     "output_type": "stream",
     "text": [
      "     0     0 -259907.69    0   43 -218493.00 -259907.69  19.0%     -    0s\n"
     ]
    },
    {
     "name": "stderr",
     "output_type": "stream",
     "text": [
      "2023-05-15 14:32:10,407 - INFO -      0     0 -259907.69    0   43 -218493.00 -259907.69  19.0%     -    0s\n"
     ]
    },
    {
     "name": "stdout",
     "output_type": "stream",
     "text": [
      "     0     0 -259855.14    0   43 -218493.00 -259855.14  18.9%     -    0s\n"
     ]
    },
    {
     "name": "stderr",
     "output_type": "stream",
     "text": [
      "2023-05-15 14:32:10,457 - INFO -      0     0 -259855.14    0   43 -218493.00 -259855.14  18.9%     -    0s\n"
     ]
    },
    {
     "name": "stdout",
     "output_type": "stream",
     "text": [
      "     0     0 -259853.84    0   40 -218493.00 -259853.84  18.9%     -    0s\n"
     ]
    },
    {
     "name": "stderr",
     "output_type": "stream",
     "text": [
      "2023-05-15 14:32:10,478 - INFO -      0     0 -259853.84    0   40 -218493.00 -259853.84  18.9%     -    0s\n"
     ]
    },
    {
     "name": "stdout",
     "output_type": "stream",
     "text": [
      "     0     0 -259853.54    0   40 -218493.00 -259853.54  18.9%     -    0s\n"
     ]
    },
    {
     "name": "stderr",
     "output_type": "stream",
     "text": [
      "2023-05-15 14:32:10,487 - INFO -      0     0 -259853.54    0   40 -218493.00 -259853.54  18.9%     -    0s\n"
     ]
    },
    {
     "name": "stdout",
     "output_type": "stream",
     "text": [
      "     0     0 -259853.54    0   40 -218493.00 -259853.54  18.9%     -    0s\n"
     ]
    },
    {
     "name": "stderr",
     "output_type": "stream",
     "text": [
      "2023-05-15 14:32:10,494 - INFO -      0     0 -259853.54    0   40 -218493.00 -259853.54  18.9%     -    0s\n"
     ]
    },
    {
     "name": "stdout",
     "output_type": "stream",
     "text": [
      "     0     0 -259850.31    0   39 -218493.00 -259850.31  18.9%     -    0s\n"
     ]
    },
    {
     "name": "stderr",
     "output_type": "stream",
     "text": [
      "2023-05-15 14:32:10,539 - INFO -      0     0 -259850.31    0   39 -218493.00 -259850.31  18.9%     -    0s\n"
     ]
    },
    {
     "name": "stdout",
     "output_type": "stream",
     "text": [
      "     0     0 -259839.58    0   44 -218493.00 -259839.58  18.9%     -    0s\n"
     ]
    },
    {
     "name": "stderr",
     "output_type": "stream",
     "text": [
      "2023-05-15 14:32:10,557 - INFO -      0     0 -259839.58    0   44 -218493.00 -259839.58  18.9%     -    0s\n"
     ]
    },
    {
     "name": "stdout",
     "output_type": "stream",
     "text": [
      "     0     0 -259832.66    0   49 -218493.00 -259832.66  18.9%     -    0s\n"
     ]
    },
    {
     "name": "stderr",
     "output_type": "stream",
     "text": [
      "2023-05-15 14:32:10,565 - INFO -      0     0 -259832.66    0   49 -218493.00 -259832.66  18.9%     -    0s\n"
     ]
    },
    {
     "name": "stdout",
     "output_type": "stream",
     "text": [
      "     0     0 -259829.48    0   49 -218493.00 -259829.48  18.9%     -    0s\n"
     ]
    },
    {
     "name": "stderr",
     "output_type": "stream",
     "text": [
      "2023-05-15 14:32:10,566 - INFO -      0     0 -259829.48    0   49 -218493.00 -259829.48  18.9%     -    0s\n"
     ]
    },
    {
     "name": "stdout",
     "output_type": "stream",
     "text": [
      "     0     0 -259825.40    0   49 -218493.00 -259825.40  18.9%     -    0s\n"
     ]
    },
    {
     "name": "stderr",
     "output_type": "stream",
     "text": [
      "2023-05-15 14:32:10,583 - INFO -      0     0 -259825.40    0   49 -218493.00 -259825.40  18.9%     -    0s\n"
     ]
    },
    {
     "name": "stdout",
     "output_type": "stream",
     "text": [
      "     0     0 -259825.40    0   49 -218493.00 -259825.40  18.9%     -    0s\n"
     ]
    },
    {
     "name": "stderr",
     "output_type": "stream",
     "text": [
      "2023-05-15 14:32:10,583 - INFO -      0     0 -259825.40    0   49 -218493.00 -259825.40  18.9%     -    0s\n"
     ]
    },
    {
     "name": "stdout",
     "output_type": "stream",
     "text": [
      "     0     0 -259823.82    0   45 -218493.00 -259823.82  18.9%     -    0s\n"
     ]
    },
    {
     "name": "stderr",
     "output_type": "stream",
     "text": [
      "2023-05-15 14:32:10,615 - INFO -      0     0 -259823.82    0   45 -218493.00 -259823.82  18.9%     -    0s\n"
     ]
    },
    {
     "name": "stdout",
     "output_type": "stream",
     "text": [
      "     0     0 -259823.82    0   42 -218493.00 -259823.82  18.9%     -    0s\n"
     ]
    },
    {
     "name": "stderr",
     "output_type": "stream",
     "text": [
      "2023-05-15 14:32:10,641 - INFO -      0     0 -259823.82    0   42 -218493.00 -259823.82  18.9%     -    0s\n"
     ]
    },
    {
     "name": "stdout",
     "output_type": "stream",
     "text": [
      "     0     2 -259823.42    0   40 -218493.00 -259823.42  18.9%     -    0s\n"
     ]
    },
    {
     "name": "stderr",
     "output_type": "stream",
     "text": [
      "2023-05-15 14:32:10,747 - INFO -      0     2 -259823.42    0   40 -218493.00 -259823.42  18.9%     -    0s\n"
     ]
    },
    {
     "name": "stdout",
     "output_type": "stream",
     "text": [
      "  3121  2754 -259065.00   14   41 -218493.00 -259065.00  18.6%   6.1    5s\n"
     ]
    },
    {
     "name": "stderr",
     "output_type": "stream",
     "text": [
      "2023-05-15 14:32:15,075 - INFO -   3121  2754 -259065.00   14   41 -218493.00 -259065.00  18.6%   6.1    5s\n"
     ]
    },
    {
     "name": "stdout",
     "output_type": "stream",
     "text": [
      "  3232  2844 -258528.97   21   42 -218493.00 -259065.00  18.6%   7.6   10s\n"
     ]
    },
    {
     "name": "stderr",
     "output_type": "stream",
     "text": [
      "2023-05-15 14:32:20,439 - INFO -   3232  2844 -258528.97   21   42 -218493.00 -259065.00  18.6%   7.6   10s\n"
     ]
    },
    {
     "name": "stdout",
     "output_type": "stream",
     "text": [
      "  3389  2942 -258383.41   25   29 -218493.00 -259065.00  18.6%   9.6   15s\n"
     ]
    },
    {
     "name": "stderr",
     "output_type": "stream",
     "text": [
      "2023-05-15 14:32:25,143 - INFO -   3389  2942 -258383.41   25   29 -218493.00 -259065.00  18.6%   9.6   15s\n"
     ]
    },
    {
     "name": "stdout",
     "output_type": "stream",
     "text": [
      " 12905  7088 -258610.45   30   52 -218493.00 -259065.00  18.6%  19.4   21s\n"
     ]
    },
    {
     "name": "stderr",
     "output_type": "stream",
     "text": [
      "2023-05-15 14:32:31,804 - INFO -  12905  7088 -258610.45   30   52 -218493.00 -259065.00  18.6%  19.4   21s\n"
     ]
    },
    {
     "name": "stdout",
     "output_type": "stream",
     "text": [
      " 12931  7098 -258497.61   31   79 -218493.00 -259065.00  18.6%  19.4   25s\n"
     ]
    },
    {
     "name": "stderr",
     "output_type": "stream",
     "text": [
      "2023-05-15 14:32:35,038 - INFO -  12931  7098 -258497.61   31   79 -218493.00 -259065.00  18.6%  19.4   25s\n"
     ]
    },
    {
     "name": "stdout",
     "output_type": "stream",
     "text": [
      " 19995 10470 -254460.18   75   99 -218493.00 -259040.24  18.6%  28.8   31s\n"
     ]
    },
    {
     "name": "stderr",
     "output_type": "stream",
     "text": [
      "2023-05-15 14:32:41,390 - INFO -  19995 10470 -254460.18   75   99 -218493.00 -259040.24  18.6%  28.8   31s\n"
     ]
    },
    {
     "name": "stdout",
     "output_type": "stream",
     "text": [
      " 20341 10739 -251497.68   82   96 -218493.00 -259040.24  18.6%  29.4   35s\n"
     ]
    },
    {
     "name": "stderr",
     "output_type": "stream",
     "text": [
      "2023-05-15 14:32:45,036 - INFO -  20341 10739 -251497.68   82   96 -218493.00 -259040.24  18.6%  29.4   35s\n"
     ]
    },
    {
     "name": "stdout",
     "output_type": "stream",
     "text": [
      " 30671 16206 infeasible  157      -218493.00 -258961.13  18.5%  38.7   40s\n"
     ]
    },
    {
     "name": "stderr",
     "output_type": "stream",
     "text": [
      "2023-05-15 14:32:50,772 - INFO -  30671 16206 infeasible  157      -218493.00 -258961.13  18.5%  38.7   40s\n"
     ]
    },
    {
     "name": "stdout",
     "output_type": "stream",
     "text": [
      " 34498 17785 -251817.00   56  134 -218493.00 -258953.44  18.5%  41.5   45s\n"
     ]
    },
    {
     "name": "stderr",
     "output_type": "stream",
     "text": [
      "2023-05-15 14:32:55,524 - INFO -  34498 17785 -251817.00   56  134 -218493.00 -258953.44  18.5%  41.5   45s\n"
     ]
    },
    {
     "name": "stdout",
     "output_type": "stream",
     "text": [
      " 40083 20713 -251891.41   44   71 -218493.00 -258926.91  18.5%  45.7   50s\n"
     ]
    },
    {
     "name": "stderr",
     "output_type": "stream",
     "text": [
      "2023-05-15 14:33:00,926 - INFO -  40083 20713 -251891.41   44   71 -218493.00 -258926.91  18.5%  45.7   50s\n"
     ]
    },
    {
     "name": "stdout",
     "output_type": "stream",
     "text": [
      " 41602 21404 -233546.87   95   53 -218493.00 -258926.91  18.5%  46.8   55s\n"
     ]
    },
    {
     "name": "stderr",
     "output_type": "stream",
     "text": [
      "2023-05-15 14:33:06,019 - INFO -  41602 21404 -233546.87   95   53 -218493.00 -258926.91  18.5%  46.8   55s\n"
     ]
    },
    {
     "name": "stdout",
     "output_type": "stream",
     "text": [
      " 43020 21976 infeasible  139      -218493.00 -258897.12  18.5%  47.6   60s\n"
     ]
    },
    {
     "name": "stderr",
     "output_type": "stream",
     "text": [
      "2023-05-15 14:33:10,838 - INFO -  43020 21976 infeasible  139      -218493.00 -258897.12  18.5%  47.6   60s\n"
     ]
    },
    {
     "name": "stdout",
     "output_type": "stream",
     "text": [
      " 48510 23926 -257740.60   31   92 -218493.00 -258854.81  18.5%  50.8   68s\n"
     ]
    },
    {
     "name": "stderr",
     "output_type": "stream",
     "text": [
      "2023-05-15 14:33:18,535 - INFO -  48510 23926 -257740.60   31   92 -218493.00 -258854.81  18.5%  50.8   68s\n"
     ]
    },
    {
     "name": "stdout",
     "output_type": "stream",
     "text": [
      " 48710 24427 -256299.13   37   92 -218493.00 -258854.81  18.5%  51.0   70s\n"
     ]
    },
    {
     "name": "stderr",
     "output_type": "stream",
     "text": [
      "2023-05-15 14:33:20,028 - INFO -  48710 24427 -256299.13   37   92 -218493.00 -258854.81  18.5%  51.0   70s\n"
     ]
    },
    {
     "name": "stdout",
     "output_type": "stream",
     "text": [
      " 54421 27481 -248479.38   82   92 -218493.00 -258849.00  18.5%  54.7   75s\n"
     ]
    },
    {
     "name": "stderr",
     "output_type": "stream",
     "text": [
      "2023-05-15 14:33:25,889 - INFO -  54421 27481 -248479.38   82   92 -218493.00 -258849.00  18.5%  54.7   75s\n"
     ]
    },
    {
     "name": "stdout",
     "output_type": "stream",
     "text": [
      " 58791 29101 -221123.92   89   34 -218493.00 -258837.67  18.5%  57.0   84s\n"
     ]
    },
    {
     "name": "stderr",
     "output_type": "stream",
     "text": [
      "2023-05-15 14:33:34,046 - INFO -  58791 29101 -221123.92   89   34 -218493.00 -258837.67  18.5%  57.0   84s\n"
     ]
    },
    {
     "name": "stdout",
     "output_type": "stream",
     "text": [
      " 59441 29715 -257089.63   45  121 -218493.00 -258837.67  18.5%  57.1   87s\n"
     ]
    },
    {
     "name": "stderr",
     "output_type": "stream",
     "text": [
      "2023-05-15 14:33:37,414 - INFO -  59441 29715 -257089.63   45  121 -218493.00 -258837.67  18.5%  57.1   87s\n"
     ]
    },
    {
     "name": "stdout",
     "output_type": "stream",
     "text": [
      " 62347 31338 -250128.47   45  131 -218493.00 -258836.94  18.5%  58.1   91s\n"
     ]
    },
    {
     "name": "stderr",
     "output_type": "stream",
     "text": [
      "2023-05-15 14:33:41,722 - INFO -  62347 31338 -250128.47   45  131 -218493.00 -258836.94  18.5%  58.1   91s\n"
     ]
    },
    {
     "name": "stdout",
     "output_type": "stream",
     "text": [
      " 64579 32383 -251738.72   47  151 -218493.00 -258829.67  18.5%  59.0   96s\n"
     ]
    },
    {
     "name": "stderr",
     "output_type": "stream",
     "text": [
      "2023-05-15 14:33:46,953 - INFO -  64579 32383 -251738.72   47  151 -218493.00 -258829.67  18.5%  59.0   96s\n"
     ]
    },
    {
     "name": "stdout",
     "output_type": "stream",
     "text": [
      " 67650 33426 -236242.34   62   91 -218493.00 -258817.00  18.5%  60.6  104s\n"
     ]
    },
    {
     "name": "stderr",
     "output_type": "stream",
     "text": [
      "2023-05-15 14:33:54,617 - INFO -  67650 33426 -236242.34   62   91 -218493.00 -258817.00  18.5%  60.6  104s\n"
     ]
    },
    {
     "name": "stdout",
     "output_type": "stream",
     "text": [
      " 68101 34228 infeasible   70      -218493.00 -258815.00  18.5%  60.7  107s\n"
     ]
    },
    {
     "name": "stderr",
     "output_type": "stream",
     "text": [
      "2023-05-15 14:33:57,582 - INFO -  68101 34228 infeasible   70      -218493.00 -258815.00  18.5%  60.7  107s\n"
     ]
    },
    {
     "name": "stdout",
     "output_type": "stream",
     "text": [
      " 71640 36064 -253474.00   61   82 -218493.00 -258799.95  18.4%  61.9  112s\n"
     ]
    },
    {
     "name": "stderr",
     "output_type": "stream",
     "text": [
      "2023-05-15 14:34:02,259 - INFO -  71640 36064 -253474.00   61   82 -218493.00 -258799.95  18.4%  61.9  112s\n"
     ]
    },
    {
     "name": "stdout",
     "output_type": "stream",
     "text": [
      " 75158 37965 -256384.00   37  118 -218493.00 -258790.77  18.4%  63.1  117s\n"
     ]
    },
    {
     "name": "stderr",
     "output_type": "stream",
     "text": [
      "2023-05-15 14:34:07,114 - INFO -  75158 37965 -256384.00   37  118 -218493.00 -258790.77  18.4%  63.1  117s\n"
     ]
    },
    {
     "name": "stdout",
     "output_type": "stream",
     "text": [
      " 77115 38781 -246933.00   82   73 -218493.00 -258787.00  18.4%  63.4  120s\n"
     ]
    },
    {
     "name": "stderr",
     "output_type": "stream",
     "text": [
      "2023-05-15 14:34:10,918 - INFO -  77115 38781 -246933.00   82   73 -218493.00 -258787.00  18.4%  63.4  120s\n"
     ]
    },
    {
     "name": "stdout",
     "output_type": "stream",
     "text": [
      " 78640 39000 -255351.79   47   83 -218493.00 -258787.00  18.4%  63.9  127s\n"
     ]
    },
    {
     "name": "stderr",
     "output_type": "stream",
     "text": [
      "2023-05-15 14:34:17,356 - INFO -  78640 39000 -255351.79   47   83 -218493.00 -258787.00  18.4%  63.9  127s\n"
     ]
    },
    {
     "name": "stdout",
     "output_type": "stream",
     "text": [
      " 79069 39314 -255257.62   46   96 -218493.00 -258787.00  18.4%  64.0  130s\n"
     ]
    },
    {
     "name": "stderr",
     "output_type": "stream",
     "text": [
      "2023-05-15 14:34:20,428 - INFO -  79069 39314 -255257.62   46   96 -218493.00 -258787.00  18.4%  64.0  130s\n"
     ]
    },
    {
     "name": "stdout",
     "output_type": "stream",
     "text": [
      " 83060 41799 -256793.13   34   85 -218493.00 -258772.22  18.4%  65.6  136s\n"
     ]
    },
    {
     "name": "stderr",
     "output_type": "stream",
     "text": [
      "2023-05-15 14:34:26,368 - INFO -  83060 41799 -256793.13   34   85 -218493.00 -258772.22  18.4%  65.6  136s\n"
     ]
    },
    {
     "name": "stdout",
     "output_type": "stream",
     "text": [
      " 86005 43299 infeasible  121      -218493.00 -258756.00  18.4%  66.8  140s\n"
     ]
    },
    {
     "name": "stderr",
     "output_type": "stream",
     "text": [
      "2023-05-15 14:34:30,490 - INFO -  86005 43299 infeasible  121      -218493.00 -258756.00  18.4%  66.8  140s\n"
     ]
    },
    {
     "name": "stdout",
     "output_type": "stream",
     "text": [
      " 87469 43552 -235549.00   61   47 -218493.00 -258749.91  18.4%  67.5  145s\n"
     ]
    },
    {
     "name": "stderr",
     "output_type": "stream",
     "text": [
      "2023-05-15 14:34:35,355 - INFO -  87469 43552 -235549.00   61   47 -218493.00 -258749.91  18.4%  67.5  145s\n"
     ]
    },
    {
     "name": "stdout",
     "output_type": "stream",
     "text": [
      " 88089 43985 -254781.52   41   98 -218493.00 -258749.00  18.4%  67.6  150s\n"
     ]
    },
    {
     "name": "stderr",
     "output_type": "stream",
     "text": [
      "2023-05-15 14:34:40,391 - INFO -  88089 43985 -254781.52   41   98 -218493.00 -258749.00  18.4%  67.6  150s\n"
     ]
    },
    {
     "name": "stdout",
     "output_type": "stream",
     "text": [
      " 89836 45229 -253228.00   66  101 -218493.00 -258747.67  18.4%  68.1  156s\n"
     ]
    },
    {
     "name": "stderr",
     "output_type": "stream",
     "text": [
      "2023-05-15 14:34:46,319 - INFO -  89836 45229 -253228.00   66  101 -218493.00 -258747.67  18.4%  68.1  156s\n"
     ]
    },
    {
     "name": "stdout",
     "output_type": "stream",
     "text": [
      " 92883 47071 -257439.04   46  117 -218493.00 -258746.34  18.4%  69.3  160s\n"
     ]
    },
    {
     "name": "stderr",
     "output_type": "stream",
     "text": [
      "2023-05-15 14:34:50,210 - INFO -  92883 47071 -257439.04   46  117 -218493.00 -258746.34  18.4%  69.3  160s\n"
     ]
    },
    {
     "name": "stdout",
     "output_type": "stream",
     "text": [
      " 95259 47362 infeasible  154      -218493.00 -258746.34  18.4%  69.8  165s\n"
     ]
    },
    {
     "name": "stderr",
     "output_type": "stream",
     "text": [
      "2023-05-15 14:34:55,251 - INFO -  95259 47362 infeasible  154      -218493.00 -258746.34  18.4%  69.8  165s\n"
     ]
    },
    {
     "name": "stdout",
     "output_type": "stream",
     "text": [
      " 96998 49031 infeasible   66      -218493.00 -258727.74  18.4%  70.5  171s\n"
     ]
    },
    {
     "name": "stderr",
     "output_type": "stream",
     "text": [
      "2023-05-15 14:35:01,328 - INFO -  96998 49031 infeasible   66      -218493.00 -258727.74  18.4%  70.5  171s\n"
     ]
    },
    {
     "name": "stdout",
     "output_type": "stream",
     "text": [
      " 98622 49441 -251981.32   53   97 -218493.00 -258719.36  18.4%  70.9  175s\n"
     ]
    },
    {
     "name": "stderr",
     "output_type": "stream",
     "text": [
      "2023-05-15 14:35:05,103 - INFO -  98622 49441 -251981.32   53   97 -218493.00 -258719.36  18.4%  70.9  175s\n"
     ]
    },
    {
     "name": "stdout",
     "output_type": "stream",
     "text": [
      " 101120 50719 -256227.04   46  114 -218493.00 -258715.59  18.4%  71.8  182s\n"
     ]
    },
    {
     "name": "stderr",
     "output_type": "stream",
     "text": [
      "2023-05-15 14:35:12,970 - INFO -  101120 50719 -256227.04   46  114 -218493.00 -258715.59  18.4%  71.8  182s\n"
     ]
    },
    {
     "name": "stdout",
     "output_type": "stream",
     "text": [
      " 101837 51679 -255812.80   47  110 -218493.00 -258709.00  18.4%  71.7  186s\n"
     ]
    },
    {
     "name": "stderr",
     "output_type": "stream",
     "text": [
      "2023-05-15 14:35:16,231 - INFO -  101837 51679 -255812.80   47  110 -218493.00 -258709.00  18.4%  71.7  186s\n"
     ]
    },
    {
     "name": "stdout",
     "output_type": "stream",
     "text": [
      " 103549 51684 -223348.00  133   42 -218493.00 -258707.73  18.4%  72.2  191s\n"
     ]
    },
    {
     "name": "stderr",
     "output_type": "stream",
     "text": [
      "2023-05-15 14:35:21,131 - INFO -  103549 51684 -223348.00  133   42 -218493.00 -258707.73  18.4%  72.2  191s\n"
     ]
    },
    {
     "name": "stdout",
     "output_type": "stream",
     "text": [
      " 103566 51695 -224232.00  134   80 -218493.00 -258707.73  18.4%  72.2  195s\n"
     ]
    },
    {
     "name": "stderr",
     "output_type": "stream",
     "text": [
      "2023-05-15 14:35:25,405 - INFO -  103566 51695 -224232.00  134   80 -218493.00 -258707.73  18.4%  72.2  195s\n"
     ]
    },
    {
     "name": "stdout",
     "output_type": "stream",
     "text": [
      " 103572 51699 -235482.00  101   85 -218493.00 -258707.73  18.4%  72.2  201s\n"
     ]
    },
    {
     "name": "stderr",
     "output_type": "stream",
     "text": [
      "2023-05-15 14:35:31,442 - INFO -  103572 51699 -235482.00  101   85 -218493.00 -258707.73  18.4%  72.2  201s\n"
     ]
    },
    {
     "name": "stdout",
     "output_type": "stream",
     "text": [
      " 103575 51703 -258416.52   30   76 -218493.00 -258707.73  18.4%  72.3  205s\n"
     ]
    },
    {
     "name": "stderr",
     "output_type": "stream",
     "text": [
      "2023-05-15 14:35:35,271 - INFO -  103575 51703 -258416.52   30   76 -218493.00 -258707.73  18.4%  72.3  205s\n"
     ]
    },
    {
     "name": "stdout",
     "output_type": "stream",
     "text": [
      " 103602 51715 -257728.65   34   74 -218493.00 -258707.73  18.4%  72.3  210s\n"
     ]
    },
    {
     "name": "stderr",
     "output_type": "stream",
     "text": [
      "2023-05-15 14:35:40,878 - INFO -  103602 51715 -257728.65   34   74 -218493.00 -258707.73  18.4%  72.3  210s\n"
     ]
    },
    {
     "name": "stdout",
     "output_type": "stream",
     "text": [
      "H103608 49127                    -218961.0000 -258707.73  18.2%  72.3  210s\n"
     ]
    },
    {
     "name": "stderr",
     "output_type": "stream",
     "text": [
      "2023-05-15 14:35:40,958 - INFO - H103608 49127                    -218961.0000 -258707.73  18.2%  72.3  210s\n"
     ]
    },
    {
     "name": "stdout",
     "output_type": "stream",
     "text": [
      " 103668 49162 -257728.00   36   68 -218961.00 -258688.00  18.1%  72.5  215s\n"
     ]
    },
    {
     "name": "stderr",
     "output_type": "stream",
     "text": [
      "2023-05-15 14:35:45,152 - INFO -  103668 49162 -257728.00   36   68 -218961.00 -258688.00  18.1%  72.5  215s\n"
     ]
    },
    {
     "name": "stdout",
     "output_type": "stream",
     "text": [
      " 103818 49242 -257570.00   39   90 -218961.00 -258672.70  18.1%  72.6  220s\n"
     ]
    },
    {
     "name": "stderr",
     "output_type": "stream",
     "text": [
      "2023-05-15 14:35:50,301 - INFO -  103818 49242 -257570.00   39   90 -218961.00 -258672.70  18.1%  72.6  220s\n"
     ]
    },
    {
     "name": "stdout",
     "output_type": "stream",
     "text": [
      " 104737 49697 -255320.54   59  104 -218961.00 -258672.70  18.1%  72.9  226s\n"
     ]
    },
    {
     "name": "stderr",
     "output_type": "stream",
     "text": [
      "2023-05-15 14:35:56,831 - INFO -  104737 49697 -255320.54   59  104 -218961.00 -258672.70  18.1%  72.9  226s\n"
     ]
    },
    {
     "name": "stdout",
     "output_type": "stream",
     "text": [
      " 106082 50454 -252336.01   84  101 -218961.00 -258672.70  18.1%  72.8  230s\n"
     ]
    },
    {
     "name": "stderr",
     "output_type": "stream",
     "text": [
      "2023-05-15 14:36:00,122 - INFO -  106082 50454 -252336.01   84  101 -218961.00 -258672.70  18.1%  72.8  230s\n"
     ]
    },
    {
     "name": "stdout",
     "output_type": "stream",
     "text": [
      " 108329 50712 -247190.00  120   91 -218961.00 -258672.70  18.1%  72.6  235s\n"
     ]
    },
    {
     "name": "stderr",
     "output_type": "stream",
     "text": [
      "2023-05-15 14:36:05,033 - INFO -  108329 50712 -247190.00  120   91 -218961.00 -258672.70  18.1%  72.6  235s\n"
     ]
    },
    {
     "name": "stdout",
     "output_type": "stream",
     "text": [
      " 109349 50715 -257981.00   50  100 -218961.00 -258603.78  18.1%  72.9  243s\n"
     ]
    },
    {
     "name": "stderr",
     "output_type": "stream",
     "text": [
      "2023-05-15 14:36:13,513 - INFO -  109349 50715 -257981.00   50  100 -218961.00 -258603.78  18.1%  72.9  243s\n"
     ]
    },
    {
     "name": "stdout",
     "output_type": "stream",
     "text": [
      " 109375 50711 -257934.05   51  106 -218961.00 -258603.78  18.1%  72.9  251s\n"
     ]
    },
    {
     "name": "stderr",
     "output_type": "stream",
     "text": [
      "2023-05-15 14:36:21,613 - INFO -  109375 50711 -257934.05   51  106 -218961.00 -258603.78  18.1%  72.9  251s\n"
     ]
    },
    {
     "name": "stdout",
     "output_type": "stream",
     "text": [
      " 110282 50975 -254060.00   85  105 -218961.00 -258603.78  18.1%  73.4  256s\n"
     ]
    },
    {
     "name": "stderr",
     "output_type": "stream",
     "text": [
      "2023-05-15 14:36:26,735 - INFO -  110282 50975 -254060.00   85  105 -218961.00 -258603.78  18.1%  73.4  256s\n"
     ]
    },
    {
     "name": "stdout",
     "output_type": "stream",
     "text": [
      " 111857 51143 -258211.00   51  106 -218961.00 -258599.95  18.1%  74.0  261s\n"
     ]
    },
    {
     "name": "stderr",
     "output_type": "stream",
     "text": [
      "2023-05-15 14:36:31,350 - INFO -  111857 51143 -258211.00   51  106 -218961.00 -258599.95  18.1%  74.0  261s\n"
     ]
    },
    {
     "name": "stdout",
     "output_type": "stream",
     "text": [
      " 112955 51273 -255055.00   87   95 -218961.00 -258599.95  18.1%  74.6  265s\n"
     ]
    },
    {
     "name": "stderr",
     "output_type": "stream",
     "text": [
      "2023-05-15 14:36:35,227 - INFO -  112955 51273 -255055.00   87   95 -218961.00 -258599.95  18.1%  74.6  265s\n"
     ]
    },
    {
     "name": "stdout",
     "output_type": "stream",
     "text": [
      " 114679 51448 -256671.00   67  129 -218961.00 -258593.00  18.1%  75.5  271s\n"
     ]
    },
    {
     "name": "stderr",
     "output_type": "stream",
     "text": [
      "2023-05-15 14:36:41,148 - INFO -  114679 51448 -256671.00   67  129 -218961.00 -258593.00  18.1%  75.5  271s\n"
     ]
    },
    {
     "name": "stdout",
     "output_type": "stream",
     "text": [
      " 116116 51538 -245202.00  129   71 -218961.00 -258584.94  18.1%  76.1  275s\n"
     ]
    },
    {
     "name": "stderr",
     "output_type": "stream",
     "text": [
      "2023-05-15 14:36:45,283 - INFO -  116116 51538 -245202.00  129   71 -218961.00 -258584.94  18.1%  76.1  275s\n"
     ]
    },
    {
     "name": "stdout",
     "output_type": "stream",
     "text": [
      " 116901 51282 infeasible  159      -218961.00 -258575.00  18.1%  76.4  283s\n"
     ]
    },
    {
     "name": "stderr",
     "output_type": "stream",
     "text": [
      "2023-05-15 14:36:53,341 - INFO -  116901 51282 infeasible  159      -218961.00 -258575.00  18.1%  76.4  283s\n"
     ]
    },
    {
     "name": "stdout",
     "output_type": "stream",
     "text": [
      " 116936 51461 -258528.75   44  128 -218961.00 -258575.00  18.1%  76.4  285s\n"
     ]
    },
    {
     "name": "stderr",
     "output_type": "stream",
     "text": [
      "2023-05-15 14:36:55,688 - INFO -  116936 51461 -258528.75   44  128 -218961.00 -258575.00  18.1%  76.4  285s\n"
     ]
    },
    {
     "name": "stdout",
     "output_type": "stream",
     "text": [
      " 119074 51573 -257206.00  133   46 -218961.00 -258543.00  18.1%  77.9  292s\n"
     ]
    },
    {
     "name": "stderr",
     "output_type": "stream",
     "text": [
      "2023-05-15 14:37:02,220 - INFO -  119074 51573 -257206.00  133   46 -218961.00 -258543.00  18.1%  77.9  292s\n"
     ]
    },
    {
     "name": "stdout",
     "output_type": "stream",
     "text": [
      " 120629 51656 -253694.87   60  114 -218961.00 -258445.00  18.0%  78.9  297s\n"
     ]
    },
    {
     "name": "stderr",
     "output_type": "stream",
     "text": [
      "2023-05-15 14:37:07,323 - INFO -  120629 51656 -253694.87   60  114 -218961.00 -258445.00  18.0%  78.9  297s\n"
     ]
    },
    {
     "name": "stdout",
     "output_type": "stream",
     "text": [
      " 121509 51782 -245770.00   75   99 -218961.00 -258445.00  18.0%  79.4  300s\n"
     ]
    },
    {
     "name": "stderr",
     "output_type": "stream",
     "text": [
      "2023-05-15 14:37:10,616 - INFO -  121509 51782 -245770.00   75   99 -218961.00 -258445.00  18.0%  79.4  300s\n"
     ]
    },
    {
     "name": "stdout",
     "output_type": "stream",
     "text": [
      " 123876 52081 -256690.00   70  104 -218961.00 -258442.00  18.0%  80.0  308s\n"
     ]
    },
    {
     "name": "stderr",
     "output_type": "stream",
     "text": [
      "2023-05-15 14:37:18,955 - INFO -  123876 52081 -256690.00   70  104 -218961.00 -258442.00  18.0%  80.0  308s\n"
     ]
    },
    {
     "name": "stdout",
     "output_type": "stream",
     "text": [
      " 125200 52270 -248529.00  114  102 -218961.00 -258442.00  18.0%  80.2  313s\n"
     ]
    },
    {
     "name": "stderr",
     "output_type": "stream",
     "text": [
      "2023-05-15 14:37:23,846 - INFO -  125200 52270 -248529.00  114  102 -218961.00 -258442.00  18.0%  80.2  313s\n"
     ]
    },
    {
     "name": "stdout",
     "output_type": "stream",
     "text": [
      " 126618 51914 infeasible  168      -218961.00 -258358.00  18.0%  80.3  320s\n"
     ]
    },
    {
     "name": "stderr",
     "output_type": "stream",
     "text": [
      "2023-05-15 14:37:30,604 - INFO -  126618 51914 infeasible  168      -218961.00 -258358.00  18.0%  80.3  320s\n"
     ]
    },
    {
     "name": "stdout",
     "output_type": "stream",
     "text": [
      " 126883 52515 -258143.70   43   96 -218961.00 -258354.00  18.0%  80.4  325s\n"
     ]
    },
    {
     "name": "stderr",
     "output_type": "stream",
     "text": [
      "2023-05-15 14:37:35,776 - INFO -  126883 52515 -258143.70   43   96 -218961.00 -258354.00  18.0%  80.4  325s\n"
     ]
    },
    {
     "name": "stdout",
     "output_type": "stream",
     "text": [
      " 128403 52682 -258345.00   41   92 -218961.00 -258354.00  18.0%  80.6  330s\n"
     ]
    },
    {
     "name": "stderr",
     "output_type": "stream",
     "text": [
      "2023-05-15 14:37:40,266 - INFO -  128403 52682 -258345.00   41   92 -218961.00 -258354.00  18.0%  80.6  330s\n"
     ]
    },
    {
     "name": "stdout",
     "output_type": "stream",
     "text": [
      " 131236 52540 -255958.00   60  151 -218961.00 -258336.00  18.0%  81.0  341s\n"
     ]
    },
    {
     "name": "stderr",
     "output_type": "stream",
     "text": [
      "2023-05-15 14:37:51,143 - INFO -  131236 52540 -255958.00   60  151 -218961.00 -258336.00  18.0%  81.0  341s\n"
     ]
    },
    {
     "name": "stdout",
     "output_type": "stream",
     "text": [
      " 131616 53103 -255682.74   61  154 -218961.00 -258336.00  18.0%  81.1  345s\n"
     ]
    },
    {
     "name": "stderr",
     "output_type": "stream",
     "text": [
      "2023-05-15 14:37:55,961 - INFO -  131616 53103 -255682.74   61  154 -218961.00 -258336.00  18.0%  81.1  345s\n"
     ]
    },
    {
     "name": "stdout",
     "output_type": "stream",
     "text": [
      " 133120 53355 -243375.00   94  123 -218961.00 -258324.00  18.0%  81.4  350s\n"
     ]
    },
    {
     "name": "stderr",
     "output_type": "stream",
     "text": [
      "2023-05-15 14:38:00,496 - INFO -  133120 53355 -243375.00   94  123 -218961.00 -258324.00  18.0%  81.4  350s\n"
     ]
    },
    {
     "name": "stdout",
     "output_type": "stream",
     "text": [
      " 134820 53481 -257734.00   67  128 -218961.00 -258323.54  18.0%  81.6  355s\n"
     ]
    },
    {
     "name": "stderr",
     "output_type": "stream",
     "text": [
      "2023-05-15 14:38:05,532 - INFO -  134820 53481 -257734.00   67  128 -218961.00 -258323.54  18.0%  81.6  355s\n"
     ]
    },
    {
     "name": "stdout",
     "output_type": "stream",
     "text": [
      " 136371 53555 -252005.00  102  115 -218961.00 -258294.00  18.0%  82.0  361s\n"
     ]
    },
    {
     "name": "stderr",
     "output_type": "stream",
     "text": [
      "2023-05-15 14:38:11,039 - INFO -  136371 53555 -252005.00  102  115 -218961.00 -258294.00  18.0%  82.0  361s\n"
     ]
    },
    {
     "name": "stdout",
     "output_type": "stream",
     "text": [
      " 137754 53765 -254519.46   71  102 -218961.00 -258294.00  18.0%  82.7  365s\n"
     ]
    },
    {
     "name": "stderr",
     "output_type": "stream",
     "text": [
      "2023-05-15 14:38:15,245 - INFO -  137754 53765 -254519.46   71  102 -218961.00 -258294.00  18.0%  82.7  365s\n"
     ]
    },
    {
     "name": "stdout",
     "output_type": "stream",
     "text": [
      " 139452 53656 -258027.65   46  119 -218961.00 -258294.00  18.0%  83.2  371s\n"
     ]
    },
    {
     "name": "stderr",
     "output_type": "stream",
     "text": [
      "2023-05-15 14:38:21,076 - INFO -  139452 53656 -258027.65   46  119 -218961.00 -258294.00  18.0%  83.2  371s\n"
     ]
    },
    {
     "name": "stdout",
     "output_type": "stream",
     "text": [
      " 140802 53815 -247406.00   77   84 -218961.00 -258289.00  18.0%  84.0  377s\n"
     ]
    },
    {
     "name": "stderr",
     "output_type": "stream",
     "text": [
      "2023-05-15 14:38:27,045 - INFO -  140802 53815 -247406.00   77   84 -218961.00 -258289.00  18.0%  84.0  377s\n"
     ]
    },
    {
     "name": "stdout",
     "output_type": "stream",
     "text": [
      " 142521 54101 -257999.00   62   86 -218961.00 -258289.00  18.0%  84.7  383s\n"
     ]
    },
    {
     "name": "stderr",
     "output_type": "stream",
     "text": [
      "2023-05-15 14:38:33,177 - INFO -  142521 54101 -257999.00   62   86 -218961.00 -258289.00  18.0%  84.7  383s\n"
     ]
    },
    {
     "name": "stdout",
     "output_type": "stream",
     "text": [
      " 144550 54443 -249809.47  155  111 -218961.00 -258277.00  18.0%  85.0  388s\n"
     ]
    },
    {
     "name": "stderr",
     "output_type": "stream",
     "text": [
      "2023-05-15 14:38:38,439 - INFO -  144550 54443 -249809.47  155  111 -218961.00 -258277.00  18.0%  85.0  388s\n"
     ]
    },
    {
     "name": "stdout",
     "output_type": "stream",
     "text": [
      " 146764 54667 -247248.00  112   97 -218961.00 -258274.00  18.0%  85.2  394s\n"
     ]
    },
    {
     "name": "stderr",
     "output_type": "stream",
     "text": [
      "2023-05-15 14:38:44,372 - INFO -  146764 54667 -247248.00  112   97 -218961.00 -258274.00  18.0%  85.2  394s\n"
     ]
    },
    {
     "name": "stdout",
     "output_type": "stream",
     "text": [
      " 148916 54670 -253931.00  117  115 -218961.00 -258268.00  18.0%  85.5  399s\n"
     ]
    },
    {
     "name": "stderr",
     "output_type": "stream",
     "text": [
      "2023-05-15 14:38:49,952 - INFO -  148916 54670 -253931.00  117  115 -218961.00 -258268.00  18.0%  85.5  399s\n"
     ]
    },
    {
     "name": "stdout",
     "output_type": "stream",
     "text": [
      " 150729 54910 -255475.35   71   36 -218961.00 -258261.00  17.9%  86.3  409s\n"
     ]
    },
    {
     "name": "stderr",
     "output_type": "stream",
     "text": [
      "2023-05-15 14:38:59,610 - INFO -  150729 54910 -255475.35   71   36 -218961.00 -258261.00  17.9%  86.3  409s\n"
     ]
    },
    {
     "name": "stdout",
     "output_type": "stream",
     "text": [
      " 153008 55233 -258112.00   64   60 -218961.00 -258259.00  17.9%  86.9  417s\n"
     ]
    },
    {
     "name": "stderr",
     "output_type": "stream",
     "text": [
      "2023-05-15 14:39:07,225 - INFO -  153008 55233 -258112.00   64   60 -218961.00 -258259.00  17.9%  86.9  417s\n"
     ]
    },
    {
     "name": "stdout",
     "output_type": "stream",
     "text": [
      " 155654 55379 -249321.19   84  121 -218961.00 -258258.00  17.9%  87.3  423s\n"
     ]
    },
    {
     "name": "stderr",
     "output_type": "stream",
     "text": [
      "2023-05-15 14:39:13,885 - INFO -  155654 55379 -249321.19   84  121 -218961.00 -258258.00  17.9%  87.3  423s\n"
     ]
    },
    {
     "name": "stdout",
     "output_type": "stream",
     "text": [
      " 158205 55897 -253176.84  102   48 -218961.00 -258249.00  17.9%  87.9  434s\n"
     ]
    },
    {
     "name": "stderr",
     "output_type": "stream",
     "text": [
      "2023-05-15 14:39:24,075 - INFO -  158205 55897 -253176.84  102   48 -218961.00 -258249.00  17.9%  87.9  434s\n"
     ]
    },
    {
     "name": "stdout",
     "output_type": "stream",
     "text": [
      " 161485 56073 infeasible  174      -218961.00 -258243.00  17.9%  88.0  443s\n"
     ]
    },
    {
     "name": "stderr",
     "output_type": "stream",
     "text": [
      "2023-05-15 14:39:33,559 - INFO -  161485 56073 infeasible  174      -218961.00 -258243.00  17.9%  88.0  443s\n"
     ]
    },
    {
     "name": "stdout",
     "output_type": "stream",
     "text": [
      " 164341 56406 -256767.95   79  105 -218961.00 -258239.00  17.9%  88.2  452s\n"
     ]
    },
    {
     "name": "stderr",
     "output_type": "stream",
     "text": [
      "2023-05-15 14:39:42,490 - INFO -  164341 56406 -256767.95   79  105 -218961.00 -258239.00  17.9%  88.2  452s\n"
     ]
    },
    {
     "name": "stdout",
     "output_type": "stream",
     "text": [
      " 167368 55516 -253193.45   89  101 -218961.00 -258232.00  17.9%  88.5  465s\n"
     ]
    },
    {
     "name": "stderr",
     "output_type": "stream",
     "text": [
      "2023-05-15 14:39:55,869 - INFO -  167368 55516 -253193.45   89  101 -218961.00 -258232.00  17.9%  88.5  465s\n"
     ]
    },
    {
     "name": "stdout",
     "output_type": "stream",
     "text": [
      " 167636 56110 -253164.26   90  100 -218961.00 -258232.00  17.9%  88.5  476s\n"
     ]
    },
    {
     "name": "stderr",
     "output_type": "stream",
     "text": [
      "2023-05-15 14:40:06,392 - INFO -  167636 56110 -253164.26   90  100 -218961.00 -258232.00  17.9%  88.5  476s\n"
     ]
    },
    {
     "name": "stdout",
     "output_type": "stream",
     "text": [
      " 169320 56656 -255801.19   93  141 -218961.00 -258232.00  17.9%  88.8  484s\n"
     ]
    },
    {
     "name": "stderr",
     "output_type": "stream",
     "text": [
      "2023-05-15 14:40:14,962 - INFO -  169320 56656 -255801.19   93  141 -218961.00 -258232.00  17.9%  88.8  484s\n"
     ]
    },
    {
     "name": "stdout",
     "output_type": "stream",
     "text": [
      " 171916 56852 -253597.67  107  115 -218961.00 -258226.00  17.9%  89.2  493s\n"
     ]
    },
    {
     "name": "stderr",
     "output_type": "stream",
     "text": [
      "2023-05-15 14:40:23,468 - INFO -  171916 56852 -253597.67  107  115 -218961.00 -258226.00  17.9%  89.2  493s\n"
     ]
    },
    {
     "name": "stdout",
     "output_type": "stream",
     "text": [
      " 174543 57394 -256034.73   92   88 -218961.00 -258225.00  17.9%  89.7  502s\n"
     ]
    },
    {
     "name": "stderr",
     "output_type": "stream",
     "text": [
      "2023-05-15 14:40:32,999 - INFO -  174543 57394 -256034.73   92   88 -218961.00 -258225.00  17.9%  89.7  502s\n"
     ]
    },
    {
     "name": "stdout",
     "output_type": "stream",
     "text": [
      " 177924 57692 -257488.00   52  104 -218961.00 -258217.00  17.9%  90.0  512s\n"
     ]
    },
    {
     "name": "stderr",
     "output_type": "stream",
     "text": [
      "2023-05-15 14:40:42,105 - INFO -  177924 57692 -257488.00   52  104 -218961.00 -258217.00  17.9%  90.0  512s\n"
     ]
    },
    {
     "name": "stdout",
     "output_type": "stream",
     "text": [
      " 181149 57660 -257821.00   59  117 -218961.00 -258216.00  17.9%  90.1  519s\n"
     ]
    },
    {
     "name": "stderr",
     "output_type": "stream",
     "text": [
      "2023-05-15 14:40:49,683 - INFO -  181149 57660 -257821.00   59  117 -218961.00 -258216.00  17.9%  90.1  519s\n"
     ]
    },
    {
     "name": "stdout",
     "output_type": "stream",
     "text": [
      " 183662 57287 -256886.00   65  142 -218961.00 -258213.00  17.9%  90.7  530s\n"
     ]
    },
    {
     "name": "stderr",
     "output_type": "stream",
     "text": [
      "2023-05-15 14:41:00,101 - INFO -  183662 57287 -256886.00   65  142 -218961.00 -258213.00  17.9%  90.7  530s\n"
     ]
    },
    {
     "name": "stdout",
     "output_type": "stream",
     "text": [
      " 184842 57975 -255419.57   75  145 -218961.00 -258213.00  17.9%  91.2  538s\n"
     ]
    },
    {
     "name": "stderr",
     "output_type": "stream",
     "text": [
      "2023-05-15 14:41:08,637 - INFO -  184842 57975 -255419.57   75  145 -218961.00 -258213.00  17.9%  91.2  538s\n"
     ]
    },
    {
     "name": "stdout",
     "output_type": "stream",
     "text": [
      " 187527 57898 -247620.65  103  134 -218961.00 -258213.00  17.9%  91.6  546s\n"
     ]
    },
    {
     "name": "stderr",
     "output_type": "stream",
     "text": [
      "2023-05-15 14:41:16,388 - INFO -  187527 57898 -247620.65  103  134 -218961.00 -258213.00  17.9%  91.6  546s\n"
     ]
    },
    {
     "name": "stdout",
     "output_type": "stream",
     "text": [
      " 189777 58161 -226381.42  131  116 -218961.00 -258208.00  17.9%  92.2  552s\n"
     ]
    },
    {
     "name": "stderr",
     "output_type": "stream",
     "text": [
      "2023-05-15 14:41:22,758 - INFO -  189777 58161 -226381.42  131  116 -218961.00 -258208.00  17.9%  92.2  552s\n"
     ]
    },
    {
     "name": "stdout",
     "output_type": "stream",
     "text": [
      " 192441 58075 -230900.39  142   67 -218961.00 -258203.00  17.9%  92.6  559s\n"
     ]
    },
    {
     "name": "stderr",
     "output_type": "stream",
     "text": [
      "2023-05-15 14:41:30,023 - INFO -  192441 58075 -230900.39  142   67 -218961.00 -258203.00  17.9%  92.6  559s\n"
     ]
    },
    {
     "name": "stdout",
     "output_type": "stream",
     "text": [
      " 194707 58225 -255960.19   64  129 -218961.00 -258196.08  17.9%  93.3  569s\n"
     ]
    },
    {
     "name": "stderr",
     "output_type": "stream",
     "text": [
      "2023-05-15 14:41:39,429 - INFO -  194707 58225 -255960.19   64  129 -218961.00 -258196.08  17.9%  93.3  569s\n"
     ]
    },
    {
     "name": "stdout",
     "output_type": "stream",
     "text": [
      " 197058 58116 -254016.00   70   71 -218961.00 -258196.00  17.9%  93.8  579s\n"
     ]
    },
    {
     "name": "stderr",
     "output_type": "stream",
     "text": [
      "2023-05-15 14:41:49,367 - INFO -  197058 58116 -254016.00   70   71 -218961.00 -258196.00  17.9%  93.8  579s\n"
     ]
    },
    {
     "name": "stdout",
     "output_type": "stream",
     "text": [
      " 198692 58643 infeasible  157      -218961.00 -258192.00  17.9%  93.9  586s\n"
     ]
    },
    {
     "name": "stderr",
     "output_type": "stream",
     "text": [
      "2023-05-15 14:41:56,949 - INFO -  198692 58643 infeasible  157      -218961.00 -258192.00  17.9%  93.9  586s\n"
     ]
    },
    {
     "name": "stdout",
     "output_type": "stream",
     "text": [
      " 201293 58613 -236677.12  138   63 -218961.00 -258189.00  17.9%  94.3  597s\n"
     ]
    },
    {
     "name": "stderr",
     "output_type": "stream",
     "text": [
      "2023-05-15 14:42:07,369 - INFO -  201293 58613 -236677.12  138   63 -218961.00 -258189.00  17.9%  94.3  597s\n"
     ]
    },
    {
     "name": "stdout",
     "output_type": "stream",
     "text": [
      " 203524 58059 -239425.49   96  108 -218961.00 -258187.00  17.9%  95.0  600s\n"
     ]
    },
    {
     "name": "stderr",
     "output_type": "stream",
     "text": [
      "2023-05-15 14:42:10,034 - INFO -  203524 58059 -239425.49   96  108 -218961.00 -258187.00  17.9%  95.0  600s\n"
     ]
    },
    {
     "name": "stdout",
     "output_type": "stream",
     "text": [
      "\n"
     ]
    },
    {
     "name": "stderr",
     "output_type": "stream",
     "text": [
      "2023-05-15 14:42:10,256 - INFO - \n"
     ]
    },
    {
     "name": "stdout",
     "output_type": "stream",
     "text": [
      "Cutting planes:\n"
     ]
    },
    {
     "name": "stderr",
     "output_type": "stream",
     "text": [
      "2023-05-15 14:42:10,261 - INFO - Cutting planes:\n"
     ]
    },
    {
     "name": "stdout",
     "output_type": "stream",
     "text": [
      "  Gomory: 2\n"
     ]
    },
    {
     "name": "stderr",
     "output_type": "stream",
     "text": [
      "2023-05-15 14:42:10,265 - INFO -   Gomory: 2\n"
     ]
    },
    {
     "name": "stdout",
     "output_type": "stream",
     "text": [
      "  MIR: 1\n"
     ]
    },
    {
     "name": "stderr",
     "output_type": "stream",
     "text": [
      "2023-05-15 14:42:10,270 - INFO -   MIR: 1\n"
     ]
    },
    {
     "name": "stdout",
     "output_type": "stream",
     "text": [
      "  Flow cover: 2\n"
     ]
    },
    {
     "name": "stderr",
     "output_type": "stream",
     "text": [
      "2023-05-15 14:42:10,274 - INFO -   Flow cover: 2\n"
     ]
    },
    {
     "name": "stdout",
     "output_type": "stream",
     "text": [
      "  Zero half: 2\n"
     ]
    },
    {
     "name": "stderr",
     "output_type": "stream",
     "text": [
      "2023-05-15 14:42:10,276 - INFO -   Zero half: 2\n"
     ]
    },
    {
     "name": "stdout",
     "output_type": "stream",
     "text": [
      "  Lazy constraints: 2041\n"
     ]
    },
    {
     "name": "stderr",
     "output_type": "stream",
     "text": [
      "2023-05-15 14:42:10,280 - INFO -   Lazy constraints: 2041\n"
     ]
    },
    {
     "name": "stdout",
     "output_type": "stream",
     "text": [
      "\n"
     ]
    },
    {
     "name": "stderr",
     "output_type": "stream",
     "text": [
      "2023-05-15 14:42:10,283 - INFO - \n"
     ]
    },
    {
     "name": "stdout",
     "output_type": "stream",
     "text": [
      "Explored 203982 nodes (19403484 simplex iterations) in 600.26 seconds\n"
     ]
    },
    {
     "name": "stderr",
     "output_type": "stream",
     "text": [
      "2023-05-15 14:42:10,286 - INFO - Explored 203982 nodes (19403484 simplex iterations) in 600.26 seconds\n"
     ]
    },
    {
     "name": "stdout",
     "output_type": "stream",
     "text": [
      "Thread count was 24 (of 48 available processors)\n"
     ]
    },
    {
     "name": "stderr",
     "output_type": "stream",
     "text": [
      "2023-05-15 14:42:10,288 - INFO - Thread count was 24 (of 48 available processors)\n"
     ]
    },
    {
     "name": "stdout",
     "output_type": "stream",
     "text": [
      "\n"
     ]
    },
    {
     "name": "stderr",
     "output_type": "stream",
     "text": [
      "2023-05-15 14:42:10,291 - INFO - \n"
     ]
    },
    {
     "name": "stdout",
     "output_type": "stream",
     "text": [
      "Solution count 3: -218961 -218493 -217004 \n"
     ]
    },
    {
     "name": "stderr",
     "output_type": "stream",
     "text": [
      "2023-05-15 14:42:10,294 - INFO - Solution count 3: -218961 -218493 -217004 \n"
     ]
    },
    {
     "name": "stdout",
     "output_type": "stream",
     "text": [
      "\n"
     ]
    },
    {
     "name": "stderr",
     "output_type": "stream",
     "text": [
      "2023-05-15 14:42:10,297 - INFO - \n"
     ]
    },
    {
     "name": "stdout",
     "output_type": "stream",
     "text": [
      "Time limit reached\n"
     ]
    },
    {
     "name": "stderr",
     "output_type": "stream",
     "text": [
      "2023-05-15 14:42:10,301 - INFO - Time limit reached\n"
     ]
    },
    {
     "name": "stdout",
     "output_type": "stream",
     "text": [
      "Best objective -2.189610000000e+05, best bound -2.581870000000e+05, gap 17.9146%\n"
     ]
    },
    {
     "name": "stderr",
     "output_type": "stream",
     "text": [
      "2023-05-15 14:42:10,306 - INFO - Best objective -2.189610000000e+05, best bound -2.581870000000e+05, gap 17.9146%\n"
     ]
    },
    {
     "name": "stdout",
     "output_type": "stream",
     "text": [
      "\n"
     ]
    },
    {
     "name": "stderr",
     "output_type": "stream",
     "text": [
      "2023-05-15 14:42:10,311 - INFO - \n"
     ]
    },
    {
     "name": "stdout",
     "output_type": "stream",
     "text": [
      "User-callback calls 458469, time in user-callback 25.47 sec\n"
     ]
    },
    {
     "name": "stderr",
     "output_type": "stream",
     "text": [
      "2023-05-15 14:42:10,315 - INFO - User-callback calls 458469, time in user-callback 25.47 sec\n"
     ]
    },
    {
     "name": "stdout",
     "output_type": "stream",
     "text": [
      "{'Bounds': {'D200': {}, 'D160': {}, 'R200': {}, 'R160': {}, 'D201': {}, 'D161': {}, 'R201': {}, 'R161': {}, 'D202': {}, 'D162': {}, 'R202': {}, 'R162': {}, 'D203': {}, 'D163': {}, 'R203': {}, 'R163': {}, 'T200': {}, 'T160': {}, 'T201': {}, 'T161': {}, 'T202': {}, 'T162': {}, 'T203': {}, 'T163': {}, 'diff_D_T20_[0]': {}, 'diff_D_T16_[0]': {}, 'diff_D_T20_[1]': {'lb': -281101.0, 'min_soln': -239240.0}, 'diff_D_T16_[1]': {'lb': -258187.0, 'min_soln': -218961.0}, 'diff_D_T20_[2]': {'lb': -278591.0, 'min_soln': -227048.0}, 'diff_D_T16_[2]': {'lb': -255935.0, 'min_soln': -228418.0}, 'diff_D_T20_[3]': {'lb': -265117.0, 'min_soln': -207249.0}, 'diff_D_T16_[3]': {'lb': -245827.0, 'min_soln': -194189.0}}}\n",
      "Gurobi Optimizer version 9.1.2 build v9.1.2rc0 (win64)\n"
     ]
    },
    {
     "name": "stderr",
     "output_type": "stream",
     "text": [
      "2023-05-15 14:42:10,710 - INFO - Gurobi Optimizer version 9.1.2 build v9.1.2rc0 (win64)\n"
     ]
    },
    {
     "name": "stdout",
     "output_type": "stream",
     "text": [
      "Thread count: 24 physical cores, 48 logical processors, using up to 24 threads\n"
     ]
    },
    {
     "name": "stderr",
     "output_type": "stream",
     "text": [
      "2023-05-15 14:42:10,713 - INFO - Thread count: 24 physical cores, 48 logical processors, using up to 24 threads\n"
     ]
    },
    {
     "name": "stdout",
     "output_type": "stream",
     "text": [
      "Optimize a model with 131 rows, 688 columns and 2372 nonzeros\n"
     ]
    },
    {
     "name": "stderr",
     "output_type": "stream",
     "text": [
      "2023-05-15 14:42:10,715 - INFO - Optimize a model with 131 rows, 688 columns and 2372 nonzeros\n"
     ]
    },
    {
     "name": "stdout",
     "output_type": "stream",
     "text": [
      "Model fingerprint: 0x0f67b82e\n"
     ]
    },
    {
     "name": "stderr",
     "output_type": "stream",
     "text": [
      "2023-05-15 14:42:10,718 - INFO - Model fingerprint: 0x0f67b82e\n"
     ]
    },
    {
     "name": "stdout",
     "output_type": "stream",
     "text": [
      "Variable types: 32 continuous, 656 integer (656 binary)\n"
     ]
    },
    {
     "name": "stderr",
     "output_type": "stream",
     "text": [
      "2023-05-15 14:42:10,720 - INFO - Variable types: 32 continuous, 656 integer (656 binary)\n"
     ]
    },
    {
     "name": "stdout",
     "output_type": "stream",
     "text": [
      "Coefficient statistics:\n"
     ]
    },
    {
     "name": "stderr",
     "output_type": "stream",
     "text": [
      "2023-05-15 14:42:10,722 - INFO - Coefficient statistics:\n"
     ]
    },
    {
     "name": "stdout",
     "output_type": "stream",
     "text": [
      "  Matrix range     [1e+00, 2e+05]\n"
     ]
    },
    {
     "name": "stderr",
     "output_type": "stream",
     "text": [
      "2023-05-15 14:42:10,725 - INFO -   Matrix range     [1e+00, 2e+05]\n"
     ]
    },
    {
     "name": "stdout",
     "output_type": "stream",
     "text": [
      "  Objective range  [1e+00, 1e+00]\n"
     ]
    },
    {
     "name": "stderr",
     "output_type": "stream",
     "text": [
      "2023-05-15 14:42:10,727 - INFO -   Objective range  [1e+00, 1e+00]\n"
     ]
    },
    {
     "name": "stdout",
     "output_type": "stream",
     "text": [
      "  Bounds range     [1e+00, 8e+05]\n"
     ]
    },
    {
     "name": "stderr",
     "output_type": "stream",
     "text": [
      "2023-05-15 14:42:10,727 - INFO -   Bounds range     [1e+00, 8e+05]\n"
     ]
    },
    {
     "name": "stdout",
     "output_type": "stream",
     "text": [
      "  RHS range        [1e+00, 8e+05]\n"
     ]
    },
    {
     "name": "stderr",
     "output_type": "stream",
     "text": [
      "2023-05-15 14:42:10,727 - INFO -   RHS range        [1e+00, 8e+05]\n"
     ]
    },
    {
     "name": "stdout",
     "output_type": "stream",
     "text": [
      "\n"
     ]
    },
    {
     "name": "stderr",
     "output_type": "stream",
     "text": [
      "2023-05-15 14:42:10,727 - INFO - \n"
     ]
    },
    {
     "name": "stdout",
     "output_type": "stream",
     "text": [
      "User MIP start produced solution with objective -238304 (0.03s)\n"
     ]
    },
    {
     "name": "stderr",
     "output_type": "stream",
     "text": [
      "2023-05-15 14:42:10,745 - INFO - User MIP start produced solution with objective -238304 (0.03s)\n"
     ]
    },
    {
     "name": "stdout",
     "output_type": "stream",
     "text": [
      "Loaded user MIP start with objective -238304\n"
     ]
    },
    {
     "name": "stderr",
     "output_type": "stream",
     "text": [
      "2023-05-15 14:42:10,760 - INFO - Loaded user MIP start with objective -238304\n"
     ]
    },
    {
     "name": "stdout",
     "output_type": "stream",
     "text": [
      "MIP start from previous solve did not produce a new incumbent solution\n"
     ]
    },
    {
     "name": "stderr",
     "output_type": "stream",
     "text": [
      "2023-05-15 14:42:10,771 - INFO - MIP start from previous solve did not produce a new incumbent solution\n"
     ]
    },
    {
     "name": "stdout",
     "output_type": "stream",
     "text": [
      "\n"
     ]
    },
    {
     "name": "stderr",
     "output_type": "stream",
     "text": [
      "2023-05-15 14:42:10,774 - INFO - \n"
     ]
    },
    {
     "name": "stdout",
     "output_type": "stream",
     "text": [
      "Presolve removed 22 rows and 16 columns\n"
     ]
    },
    {
     "name": "stderr",
     "output_type": "stream",
     "text": [
      "2023-05-15 14:42:10,801 - INFO - Presolve removed 22 rows and 16 columns\n"
     ]
    },
    {
     "name": "stdout",
     "output_type": "stream",
     "text": [
      "Presolve time: 0.02s\n"
     ]
    },
    {
     "name": "stderr",
     "output_type": "stream",
     "text": [
      "2023-05-15 14:42:10,804 - INFO - Presolve time: 0.02s\n"
     ]
    },
    {
     "name": "stdout",
     "output_type": "stream",
     "text": [
      "Presolved: 109 rows, 672 columns, 2323 nonzeros\n"
     ]
    },
    {
     "name": "stderr",
     "output_type": "stream",
     "text": [
      "2023-05-15 14:42:10,809 - INFO - Presolved: 109 rows, 672 columns, 2323 nonzeros\n"
     ]
    },
    {
     "name": "stdout",
     "output_type": "stream",
     "text": [
      "Variable types: 0 continuous, 672 integer (656 binary)\n"
     ]
    },
    {
     "name": "stderr",
     "output_type": "stream",
     "text": [
      "2023-05-15 14:42:10,818 - INFO - Variable types: 0 continuous, 672 integer (656 binary)\n"
     ]
    },
    {
     "name": "stdout",
     "output_type": "stream",
     "text": [
      "\n"
     ]
    },
    {
     "name": "stderr",
     "output_type": "stream",
     "text": [
      "2023-05-15 14:42:10,823 - INFO - \n"
     ]
    },
    {
     "name": "stdout",
     "output_type": "stream",
     "text": [
      "Concurrent LP optimizer: primal simplex, dual simplex, and barrier\n"
     ]
    },
    {
     "name": "stderr",
     "output_type": "stream",
     "text": [
      "2023-05-15 14:42:10,825 - INFO - Concurrent LP optimizer: primal simplex, dual simplex, and barrier\n"
     ]
    },
    {
     "name": "stdout",
     "output_type": "stream",
     "text": [
      "Showing barrier log only...\n"
     ]
    },
    {
     "name": "stderr",
     "output_type": "stream",
     "text": [
      "2023-05-15 14:42:10,827 - INFO - Showing barrier log only...\n"
     ]
    },
    {
     "name": "stdout",
     "output_type": "stream",
     "text": [
      "\n"
     ]
    },
    {
     "name": "stderr",
     "output_type": "stream",
     "text": [
      "2023-05-15 14:42:10,831 - INFO - \n"
     ]
    },
    {
     "name": "stdout",
     "output_type": "stream",
     "text": [
      "\n"
     ]
    },
    {
     "name": "stderr",
     "output_type": "stream",
     "text": [
      "2023-05-15 14:42:10,845 - INFO - \n"
     ]
    },
    {
     "name": "stdout",
     "output_type": "stream",
     "text": [
      "Solved with dual simplex\n"
     ]
    },
    {
     "name": "stderr",
     "output_type": "stream",
     "text": [
      "2023-05-15 14:42:10,848 - INFO - Solved with dual simplex\n"
     ]
    },
    {
     "name": "stdout",
     "output_type": "stream",
     "text": [
      "\n"
     ]
    },
    {
     "name": "stderr",
     "output_type": "stream",
     "text": [
      "2023-05-15 14:42:10,852 - INFO - \n"
     ]
    },
    {
     "name": "stdout",
     "output_type": "stream",
     "text": [
      "Root relaxation: objective -2.852788e+05, 152 iterations, 0.03 seconds\n"
     ]
    },
    {
     "name": "stderr",
     "output_type": "stream",
     "text": [
      "2023-05-15 14:42:10,857 - INFO - Root relaxation: objective -2.852788e+05, 152 iterations, 0.03 seconds\n"
     ]
    },
    {
     "name": "stdout",
     "output_type": "stream",
     "text": [
      "\n"
     ]
    },
    {
     "name": "stderr",
     "output_type": "stream",
     "text": [
      "2023-05-15 14:42:10,873 - INFO - \n"
     ]
    },
    {
     "name": "stdout",
     "output_type": "stream",
     "text": [
      "    Nodes    |    Current Node    |     Objective Bounds      |     Work\n"
     ]
    },
    {
     "name": "stderr",
     "output_type": "stream",
     "text": [
      "2023-05-15 14:42:10,876 - INFO -     Nodes    |    Current Node    |     Objective Bounds      |     Work\n"
     ]
    },
    {
     "name": "stdout",
     "output_type": "stream",
     "text": [
      " Expl Unexpl |  Obj  Depth IntInf | Incumbent    BestBd   Gap | It/Node Time\n"
     ]
    },
    {
     "name": "stderr",
     "output_type": "stream",
     "text": [
      "2023-05-15 14:42:10,878 - INFO -  Expl Unexpl |  Obj  Depth IntInf | Incumbent    BestBd   Gap | It/Node Time\n"
     ]
    },
    {
     "name": "stdout",
     "output_type": "stream",
     "text": [
      "\n"
     ]
    },
    {
     "name": "stderr",
     "output_type": "stream",
     "text": [
      "2023-05-15 14:42:10,878 - INFO - \n"
     ]
    },
    {
     "name": "stdout",
     "output_type": "stream",
     "text": [
      "     0     0 -285278.82    0   10 -238304.00 -285278.82  19.7%     -    0s\n"
     ]
    },
    {
     "name": "stderr",
     "output_type": "stream",
     "text": [
      "2023-05-15 14:42:10,878 - INFO -      0     0 -285278.82    0   10 -238304.00 -285278.82  19.7%     -    0s\n"
     ]
    },
    {
     "name": "stdout",
     "output_type": "stream",
     "text": [
      "     0     0 -284853.33    0   30 -238304.00 -284853.33  19.5%     -    0s\n"
     ]
    },
    {
     "name": "stderr",
     "output_type": "stream",
     "text": [
      "2023-05-15 14:42:11,010 - INFO -      0     0 -284853.33    0   30 -238304.00 -284853.33  19.5%     -    0s\n"
     ]
    },
    {
     "name": "stdout",
     "output_type": "stream",
     "text": [
      "     0     0 -284549.32    0   30 -238304.00 -284549.32  19.4%     -    0s\n"
     ]
    },
    {
     "name": "stderr",
     "output_type": "stream",
     "text": [
      "2023-05-15 14:42:11,123 - INFO -      0     0 -284549.32    0   30 -238304.00 -284549.32  19.4%     -    0s\n"
     ]
    },
    {
     "name": "stdout",
     "output_type": "stream",
     "text": [
      "     0     0 -284461.32    0   28 -238304.00 -284461.32  19.4%     -    0s\n"
     ]
    },
    {
     "name": "stderr",
     "output_type": "stream",
     "text": [
      "2023-05-15 14:42:11,165 - INFO -      0     0 -284461.32    0   28 -238304.00 -284461.32  19.4%     -    0s\n"
     ]
    },
    {
     "name": "stdout",
     "output_type": "stream",
     "text": [
      "     0     0 -284457.68    0   32 -238304.00 -284457.68  19.4%     -    0s\n"
     ]
    },
    {
     "name": "stderr",
     "output_type": "stream",
     "text": [
      "2023-05-15 14:42:11,226 - INFO -      0     0 -284457.68    0   32 -238304.00 -284457.68  19.4%     -    0s\n"
     ]
    },
    {
     "name": "stdout",
     "output_type": "stream",
     "text": [
      "     0     0 -284455.37    0   34 -238304.00 -284455.37  19.4%     -    0s\n"
     ]
    },
    {
     "name": "stderr",
     "output_type": "stream",
     "text": [
      "2023-05-15 14:42:11,234 - INFO -      0     0 -284455.37    0   34 -238304.00 -284455.37  19.4%     -    0s\n"
     ]
    },
    {
     "name": "stdout",
     "output_type": "stream",
     "text": [
      "     0     0 -284455.02    0   38 -238304.00 -284455.02  19.4%     -    0s\n"
     ]
    },
    {
     "name": "stderr",
     "output_type": "stream",
     "text": [
      "2023-05-15 14:42:11,240 - INFO -      0     0 -284455.02    0   38 -238304.00 -284455.02  19.4%     -    0s\n"
     ]
    },
    {
     "name": "stdout",
     "output_type": "stream",
     "text": [
      "     0     0 -284453.31    0   38 -238304.00 -284453.31  19.4%     -    0s\n"
     ]
    },
    {
     "name": "stderr",
     "output_type": "stream",
     "text": [
      "2023-05-15 14:42:11,287 - INFO -      0     0 -284453.31    0   38 -238304.00 -284453.31  19.4%     -    0s\n"
     ]
    },
    {
     "name": "stdout",
     "output_type": "stream",
     "text": [
      "     0     0 -284439.47    0   40 -238304.00 -284439.47  19.4%     -    0s\n"
     ]
    },
    {
     "name": "stderr",
     "output_type": "stream",
     "text": [
      "2023-05-15 14:42:11,297 - INFO -      0     0 -284439.47    0   40 -238304.00 -284439.47  19.4%     -    0s\n"
     ]
    },
    {
     "name": "stdout",
     "output_type": "stream",
     "text": [
      "     0     0 -284367.62    0   40 -238304.00 -284367.62  19.3%     -    0s\n"
     ]
    },
    {
     "name": "stderr",
     "output_type": "stream",
     "text": [
      "2023-05-15 14:42:11,319 - INFO -      0     0 -284367.62    0   40 -238304.00 -284367.62  19.3%     -    0s\n"
     ]
    },
    {
     "name": "stdout",
     "output_type": "stream",
     "text": [
      "     0     0 -284349.85    0   34 -238304.00 -284349.85  19.3%     -    0s\n"
     ]
    },
    {
     "name": "stderr",
     "output_type": "stream",
     "text": [
      "2023-05-15 14:42:11,337 - INFO -      0     0 -284349.85    0   34 -238304.00 -284349.85  19.3%     -    0s\n"
     ]
    },
    {
     "name": "stdout",
     "output_type": "stream",
     "text": [
      "     0     0 -284347.75    0   44 -238304.00 -284347.75  19.3%     -    0s\n"
     ]
    },
    {
     "name": "stderr",
     "output_type": "stream",
     "text": [
      "2023-05-15 14:42:11,345 - INFO -      0     0 -284347.75    0   44 -238304.00 -284347.75  19.3%     -    0s\n"
     ]
    },
    {
     "name": "stdout",
     "output_type": "stream",
     "text": [
      "     0     0 -284327.61    0   40 -238304.00 -284327.61  19.3%     -    0s\n"
     ]
    },
    {
     "name": "stderr",
     "output_type": "stream",
     "text": [
      "2023-05-15 14:42:11,367 - INFO -      0     0 -284327.61    0   40 -238304.00 -284327.61  19.3%     -    0s\n"
     ]
    },
    {
     "name": "stdout",
     "output_type": "stream",
     "text": [
      "     0     0 -284326.46    0   40 -238304.00 -284326.46  19.3%     -    0s\n"
     ]
    },
    {
     "name": "stderr",
     "output_type": "stream",
     "text": [
      "2023-05-15 14:42:11,378 - INFO -      0     0 -284326.46    0   40 -238304.00 -284326.46  19.3%     -    0s\n"
     ]
    },
    {
     "name": "stdout",
     "output_type": "stream",
     "text": [
      "     0     0 -284323.74    0   40 -238304.00 -284323.74  19.3%     -    0s\n"
     ]
    },
    {
     "name": "stderr",
     "output_type": "stream",
     "text": [
      "2023-05-15 14:42:11,386 - INFO -      0     0 -284323.74    0   40 -238304.00 -284323.74  19.3%     -    0s\n"
     ]
    },
    {
     "name": "stdout",
     "output_type": "stream",
     "text": [
      "     0     0 -284314.01    0   40 -238304.00 -284314.01  19.3%     -    0s\n"
     ]
    },
    {
     "name": "stderr",
     "output_type": "stream",
     "text": [
      "2023-05-15 14:42:11,406 - INFO -      0     0 -284314.01    0   40 -238304.00 -284314.01  19.3%     -    0s\n"
     ]
    },
    {
     "name": "stdout",
     "output_type": "stream",
     "text": [
      "     0     0 -284311.59    0   46 -238304.00 -284311.59  19.3%     -    0s\n"
     ]
    },
    {
     "name": "stderr",
     "output_type": "stream",
     "text": [
      "2023-05-15 14:42:11,490 - INFO -      0     0 -284311.59    0   46 -238304.00 -284311.59  19.3%     -    0s\n"
     ]
    },
    {
     "name": "stdout",
     "output_type": "stream",
     "text": [
      "     0     0 -284304.26    0   46 -238304.00 -284304.26  19.3%     -    0s\n"
     ]
    },
    {
     "name": "stderr",
     "output_type": "stream",
     "text": [
      "2023-05-15 14:42:11,506 - INFO -      0     0 -284304.26    0   46 -238304.00 -284304.26  19.3%     -    0s\n"
     ]
    },
    {
     "name": "stdout",
     "output_type": "stream",
     "text": [
      "     0     0 -284301.89    0   42 -238304.00 -284301.89  19.3%     -    0s\n"
     ]
    },
    {
     "name": "stderr",
     "output_type": "stream",
     "text": [
      "2023-05-15 14:42:11,528 - INFO -      0     0 -284301.89    0   42 -238304.00 -284301.89  19.3%     -    0s\n"
     ]
    },
    {
     "name": "stdout",
     "output_type": "stream",
     "text": [
      "     0     0 -284301.89    0   42 -238304.00 -284301.89  19.3%     -    0s\n"
     ]
    },
    {
     "name": "stderr",
     "output_type": "stream",
     "text": [
      "2023-05-15 14:42:11,537 - INFO -      0     0 -284301.89    0   42 -238304.00 -284301.89  19.3%     -    0s\n"
     ]
    },
    {
     "name": "stdout",
     "output_type": "stream",
     "text": [
      "     0     0 -284291.97    0   46 -238304.00 -284291.97  19.3%     -    0s\n"
     ]
    },
    {
     "name": "stderr",
     "output_type": "stream",
     "text": [
      "2023-05-15 14:42:11,559 - INFO -      0     0 -284291.97    0   46 -238304.00 -284291.97  19.3%     -    0s\n"
     ]
    },
    {
     "name": "stdout",
     "output_type": "stream",
     "text": [
      "     0     0 -284291.97    0   46 -238304.00 -284291.97  19.3%     -    0s\n"
     ]
    },
    {
     "name": "stderr",
     "output_type": "stream",
     "text": [
      "2023-05-15 14:42:11,566 - INFO -      0     0 -284291.97    0   46 -238304.00 -284291.97  19.3%     -    0s\n"
     ]
    },
    {
     "name": "stdout",
     "output_type": "stream",
     "text": [
      "     0     0 -284289.52    0   50 -238304.00 -284289.52  19.3%     -    0s\n"
     ]
    },
    {
     "name": "stderr",
     "output_type": "stream",
     "text": [
      "2023-05-15 14:42:11,585 - INFO -      0     0 -284289.52    0   50 -238304.00 -284289.52  19.3%     -    0s\n"
     ]
    },
    {
     "name": "stdout",
     "output_type": "stream",
     "text": [
      "     0     0 -284289.52    0   45 -238304.00 -284289.52  19.3%     -    0s\n"
     ]
    },
    {
     "name": "stderr",
     "output_type": "stream",
     "text": [
      "2023-05-15 14:42:11,602 - INFO -      0     0 -284289.52    0   45 -238304.00 -284289.52  19.3%     -    0s\n"
     ]
    },
    {
     "name": "stdout",
     "output_type": "stream",
     "text": [
      "     0     2 -284289.52    0   45 -238304.00 -284289.52  19.3%     -    0s\n"
     ]
    },
    {
     "name": "stderr",
     "output_type": "stream",
     "text": [
      "2023-05-15 14:42:11,640 - INFO -      0     2 -284289.52    0   45 -238304.00 -284289.52  19.3%     -    0s\n"
     ]
    },
    {
     "name": "stdout",
     "output_type": "stream",
     "text": [
      "  3224  2875 -282348.52   19   32 -238304.00 -283547.77  19.0%   5.7    5s\n"
     ]
    },
    {
     "name": "stderr",
     "output_type": "stream",
     "text": [
      "2023-05-15 14:42:15,794 - INFO -   3224  2875 -282348.52   19   32 -238304.00 -283547.77  19.0%   5.7    5s\n"
     ]
    },
    {
     "name": "stdout",
     "output_type": "stream",
     "text": [
      "  4514  3683 -281742.72   46   22 -238304.00 -283547.77  19.0%   5.9   10s\n"
     ]
    },
    {
     "name": "stderr",
     "output_type": "stream",
     "text": [
      "2023-05-15 14:42:20,791 - INFO -   4514  3683 -281742.72   46   22 -238304.00 -283547.77  19.0%   5.9   10s\n"
     ]
    },
    {
     "name": "stdout",
     "output_type": "stream",
     "text": [
      "  9845  6456 -281983.97   56   32 -238304.00 -283483.77  19.0%  10.8   15s\n"
     ]
    },
    {
     "name": "stderr",
     "output_type": "stream",
     "text": [
      "2023-05-15 14:42:25,982 - INFO -   9845  6456 -281983.97   56   32 -238304.00 -283483.77  19.0%  10.8   15s\n"
     ]
    },
    {
     "name": "stdout",
     "output_type": "stream",
     "text": [
      " 15631 10701 -279509.34   28   79 -238304.00 -283065.44  18.8%  16.1   20s\n"
     ]
    },
    {
     "name": "stderr",
     "output_type": "stream",
     "text": [
      "2023-05-15 14:42:30,767 - INFO -  15631 10701 -279509.34   28   79 -238304.00 -283065.44  18.8%  16.1   20s\n"
     ]
    },
    {
     "name": "stdout",
     "output_type": "stream",
     "text": [
      " 19194 13258 -278616.64   58   74 -238304.00 -282956.75  18.7%  18.8   25s\n"
     ]
    },
    {
     "name": "stderr",
     "output_type": "stream",
     "text": [
      "2023-05-15 14:42:36,343 - INFO -  19194 13258 -278616.64   58   74 -238304.00 -282956.75  18.7%  18.8   25s\n"
     ]
    },
    {
     "name": "stdout",
     "output_type": "stream",
     "text": [
      " 22689 15823 -281084.31   27   83 -238304.00 -282747.05  18.6%  21.5   32s\n"
     ]
    },
    {
     "name": "stderr",
     "output_type": "stream",
     "text": [
      "2023-05-15 14:42:43,450 - INFO -  22689 15823 -281084.31   27   83 -238304.00 -282747.05  18.6%  21.5   32s\n"
     ]
    },
    {
     "name": "stdout",
     "output_type": "stream",
     "text": [
      " 25073 17690 -247904.50   74   62 -238304.00 -282746.38  18.6%  23.3   35s\n"
     ]
    },
    {
     "name": "stderr",
     "output_type": "stream",
     "text": [
      "2023-05-15 14:42:45,718 - INFO -  25073 17690 -247904.50   74   62 -238304.00 -282746.38  18.6%  23.3   35s\n"
     ]
    },
    {
     "name": "stdout",
     "output_type": "stream",
     "text": [
      " 26585 19370 -268342.40   48   93 -238304.00 -282746.38  18.6%  24.6   40s\n"
     ]
    },
    {
     "name": "stderr",
     "output_type": "stream",
     "text": [
      "2023-05-15 14:42:50,969 - INFO -  26585 19370 -268342.40   48   93 -238304.00 -282746.38  18.6%  24.6   40s\n"
     ]
    },
    {
     "name": "stdout",
     "output_type": "stream",
     "text": [
      " 31282 23140 -280639.94   35   84 -238304.00 -282672.77  18.6%  27.5   45s\n"
     ]
    },
    {
     "name": "stderr",
     "output_type": "stream",
     "text": [
      "2023-05-15 14:42:55,803 - INFO -  31282 23140 -280639.94   35   84 -238304.00 -282672.77  18.6%  27.5   45s\n"
     ]
    },
    {
     "name": "stdout",
     "output_type": "stream",
     "text": [
      " 36438 26635 -273962.66   63   81 -238304.00 -282561.48  18.6%  30.2   50s\n"
     ]
    },
    {
     "name": "stderr",
     "output_type": "stream",
     "text": [
      "2023-05-15 14:43:00,717 - INFO -  36438 26635 -273962.66   63   81 -238304.00 -282561.48  18.6%  30.2   50s\n"
     ]
    },
    {
     "name": "stdout",
     "output_type": "stream",
     "text": [
      " 39869 29394     cutoff   80      -238304.00 -282544.36  18.6%  31.1   60s\n"
     ]
    },
    {
     "name": "stderr",
     "output_type": "stream",
     "text": [
      "2023-05-15 14:43:11,202 - INFO -  39869 29394     cutoff   80      -238304.00 -282544.36  18.6%  31.1   60s\n"
     ]
    },
    {
     "name": "stdout",
     "output_type": "stream",
     "text": [
      " 43949 32841 -257383.24   51   80 -238304.00 -282471.82  18.5%  31.8   66s\n"
     ]
    },
    {
     "name": "stderr",
     "output_type": "stream",
     "text": [
      "2023-05-15 14:43:17,074 - INFO -  43949 32841 -257383.24   51   80 -238304.00 -282471.82  18.5%  31.8   66s\n"
     ]
    },
    {
     "name": "stdout",
     "output_type": "stream",
     "text": [
      " 46791 35284 -267789.31   49   83 -238304.00 -282435.50  18.5%  33.3   70s\n"
     ]
    },
    {
     "name": "stderr",
     "output_type": "stream",
     "text": [
      "2023-05-15 14:43:20,938 - INFO -  46791 35284 -267789.31   49   83 -238304.00 -282435.50  18.5%  33.3   70s\n"
     ]
    },
    {
     "name": "stdout",
     "output_type": "stream",
     "text": [
      " 50559 37413 -276459.20   87   32 -238304.00 -282427.14  18.5%  34.6   84s\n"
     ]
    },
    {
     "name": "stderr",
     "output_type": "stream",
     "text": [
      "2023-05-15 14:43:35,305 - INFO -  50559 37413 -276459.20   87   32 -238304.00 -282427.14  18.5%  34.6   84s\n"
     ]
    },
    {
     "name": "stdout",
     "output_type": "stream",
     "text": [
      " 50669 38136 infeasible   98      -238304.00 -282427.14  18.5%  34.7   88s\n"
     ]
    },
    {
     "name": "stderr",
     "output_type": "stream",
     "text": [
      "2023-05-15 14:43:39,003 - INFO -  50669 38136 infeasible   98      -238304.00 -282427.14  18.5%  34.7   88s\n"
     ]
    },
    {
     "name": "stdout",
     "output_type": "stream",
     "text": [
      " 51608 38999 -272910.85   52  114 -238304.00 -282411.07  18.5%  35.1   90s\n"
     ]
    },
    {
     "name": "stderr",
     "output_type": "stream",
     "text": [
      "2023-05-15 14:43:40,834 - INFO -  51608 38999 -272910.85   52  114 -238304.00 -282411.07  18.5%  35.1   90s\n"
     ]
    },
    {
     "name": "stdout",
     "output_type": "stream",
     "text": [
      " 55398 42152 -272394.61   51  100 -238304.00 -282390.22  18.5%  36.4   96s\n"
     ]
    },
    {
     "name": "stderr",
     "output_type": "stream",
     "text": [
      "2023-05-15 14:43:47,293 - INFO -  55398 42152 -272394.61   51  100 -238304.00 -282390.22  18.5%  36.4   96s\n"
     ]
    },
    {
     "name": "stdout",
     "output_type": "stream",
     "text": [
      " 58553 44593 infeasible   60      -238304.00 -282361.94  18.5%  37.0  100s\n"
     ]
    },
    {
     "name": "stderr",
     "output_type": "stream",
     "text": [
      "2023-05-15 14:43:50,927 - INFO -  58553 44593 infeasible   60      -238304.00 -282361.94  18.5%  37.0  100s\n"
     ]
    },
    {
     "name": "stdout",
     "output_type": "stream",
     "text": [
      " 61716 46810 -275068.01   29  114 -238304.00 -282356.55  18.5%  37.8  105s\n"
     ]
    },
    {
     "name": "stderr",
     "output_type": "stream",
     "text": [
      "2023-05-15 14:43:56,027 - INFO -  61716 46810 -275068.01   29  114 -238304.00 -282356.55  18.5%  37.8  105s\n"
     ]
    },
    {
     "name": "stdout",
     "output_type": "stream",
     "text": [
      " 64799 49711 -278688.58   46   90 -238304.00 -282318.01  18.5%  38.6  110s\n"
     ]
    },
    {
     "name": "stderr",
     "output_type": "stream",
     "text": [
      "2023-05-15 14:44:01,198 - INFO -  64799 49711 -278688.58   46   90 -238304.00 -282318.01  18.5%  38.6  110s\n"
     ]
    },
    {
     "name": "stdout",
     "output_type": "stream",
     "text": [
      " 68806 52699 -239091.86   74   44 -238304.00 -282302.24  18.5%  38.8  116s\n"
     ]
    },
    {
     "name": "stderr",
     "output_type": "stream",
     "text": [
      "2023-05-15 14:44:06,842 - INFO -  68806 52699 -239091.86   74   44 -238304.00 -282302.24  18.5%  38.8  116s\n"
     ]
    },
    {
     "name": "stdout",
     "output_type": "stream",
     "text": [
      " 72187 54907 -270568.77   50   77 -238304.00 -282261.71  18.4%  39.4  121s\n"
     ]
    },
    {
     "name": "stderr",
     "output_type": "stream",
     "text": [
      "2023-05-15 14:44:12,326 - INFO -  72187 54907 -270568.77   50   77 -238304.00 -282261.71  18.4%  39.4  121s\n"
     ]
    },
    {
     "name": "stdout",
     "output_type": "stream",
     "text": [
      " 75109 56965 -279198.75   46   67 -238304.00 -282241.65  18.4%  40.2  126s\n"
     ]
    },
    {
     "name": "stderr",
     "output_type": "stream",
     "text": [
      "2023-05-15 14:44:17,260 - INFO -  75109 56965 -279198.75   46   67 -238304.00 -282241.65  18.4%  40.2  126s\n"
     ]
    },
    {
     "name": "stdout",
     "output_type": "stream",
     "text": [
      " 77941 59576 infeasible  108      -238304.00 -282238.88  18.4%  40.7  131s\n"
     ]
    },
    {
     "name": "stderr",
     "output_type": "stream",
     "text": [
      "2023-05-15 14:44:22,428 - INFO -  77941 59576 infeasible  108      -238304.00 -282238.88  18.4%  40.7  131s\n"
     ]
    },
    {
     "name": "stdout",
     "output_type": "stream",
     "text": [
      " 81209 61115 -276926.14   59   67 -238304.00 -282229.26  18.4%  41.3  142s\n"
     ]
    },
    {
     "name": "stderr",
     "output_type": "stream",
     "text": [
      "2023-05-15 14:44:32,849 - INFO -  81209 61115 -276926.14   59   67 -238304.00 -282229.26  18.4%  41.3  142s\n"
     ]
    },
    {
     "name": "stdout",
     "output_type": "stream",
     "text": [
      " 83427 63909 infeasible   89      -238304.00 -282211.77  18.4%  41.5  147s\n"
     ]
    },
    {
     "name": "stderr",
     "output_type": "stream",
     "text": [
      "2023-05-15 14:44:38,002 - INFO -  83427 63909 infeasible   89      -238304.00 -282211.77  18.4%  41.5  147s\n"
     ]
    },
    {
     "name": "stdout",
     "output_type": "stream",
     "text": [
      " 87008 66635 -280242.28   26   96 -238304.00 -282189.56  18.4%  42.3  151s\n"
     ]
    },
    {
     "name": "stderr",
     "output_type": "stream",
     "text": [
      "2023-05-15 14:44:42,588 - INFO -  87008 66635 -280242.28   26   96 -238304.00 -282189.56  18.4%  42.3  151s\n"
     ]
    },
    {
     "name": "stdout",
     "output_type": "stream",
     "text": [
      " 90796 69749 -282173.46   27  109 -238304.00 -282181.35  18.4%  42.7  156s\n"
     ]
    },
    {
     "name": "stderr",
     "output_type": "stream",
     "text": [
      "2023-05-15 14:44:47,618 - INFO -  90796 69749 -282173.46   27  109 -238304.00 -282181.35  18.4%  42.7  156s\n"
     ]
    },
    {
     "name": "stdout",
     "output_type": "stream",
     "text": [
      " 94745 71282 -250427.91   70   45 -238304.00 -282181.35  18.4%  43.0  161s\n"
     ]
    },
    {
     "name": "stderr",
     "output_type": "stream",
     "text": [
      "2023-05-15 14:44:52,455 - INFO -  94745 71282 -250427.91   70   45 -238304.00 -282181.35  18.4%  43.0  161s\n"
     ]
    },
    {
     "name": "stdout",
     "output_type": "stream",
     "text": [
      " 94758 71291 -280384.52   32   89 -238304.00 -282181.35  18.4%  43.0  165s\n"
     ]
    },
    {
     "name": "stderr",
     "output_type": "stream",
     "text": [
      "2023-05-15 14:44:55,799 - INFO -  94758 71291 -280384.52   32   89 -238304.00 -282181.35  18.4%  43.0  165s\n"
     ]
    },
    {
     "name": "stdout",
     "output_type": "stream",
     "text": [
      " 94774 71301 -256884.80   83   85 -238304.00 -282181.35  18.4%  43.0  173s\n"
     ]
    },
    {
     "name": "stderr",
     "output_type": "stream",
     "text": [
      "2023-05-15 14:45:04,403 - INFO -  94774 71301 -256884.80   83   85 -238304.00 -282181.35  18.4%  43.0  173s\n"
     ]
    },
    {
     "name": "stdout",
     "output_type": "stream",
     "text": [
      " 94775 71305 -282181.35   24   96 -238304.00 -282181.35  18.4%  43.1  175s\n"
     ]
    },
    {
     "name": "stderr",
     "output_type": "stream",
     "text": [
      "2023-05-15 14:45:05,789 - INFO -  94775 71305 -282181.35   24   96 -238304.00 -282181.35  18.4%  43.1  175s\n"
     ]
    },
    {
     "name": "stdout",
     "output_type": "stream",
     "text": [
      " 94853 71379 -280416.40   29   78 -238304.00 -282105.74  18.4%  43.1  182s\n"
     ]
    },
    {
     "name": "stderr",
     "output_type": "stream",
     "text": [
      "2023-05-15 14:45:13,005 - INFO -  94853 71379 -280416.40   29   78 -238304.00 -282105.74  18.4%  43.1  182s\n"
     ]
    },
    {
     "name": "stdout",
     "output_type": "stream",
     "text": [
      " 95015 71484 -280416.40   33   63 -238304.00 -282105.74  18.4%  43.2  189s\n"
     ]
    },
    {
     "name": "stderr",
     "output_type": "stream",
     "text": [
      "2023-05-15 14:45:20,598 - INFO -  95015 71484 -280416.40   33   63 -238304.00 -282105.74  18.4%  43.2  189s\n"
     ]
    },
    {
     "name": "stdout",
     "output_type": "stream",
     "text": [
      " 95023 71481 -281981.65   36  106 -238304.00 -282105.74  18.4%  43.2  190s\n"
     ]
    },
    {
     "name": "stderr",
     "output_type": "stream",
     "text": [
      "2023-05-15 14:45:20,761 - INFO -  95023 71481 -281981.65   36  106 -238304.00 -282105.74  18.4%  43.2  190s\n"
     ]
    },
    {
     "name": "stdout",
     "output_type": "stream",
     "text": [
      " 95874 72035 -278741.71   60   58 -238304.00 -282105.74  18.4%  43.5  198s\n"
     ]
    },
    {
     "name": "stderr",
     "output_type": "stream",
     "text": [
      "2023-05-15 14:45:29,413 - INFO -  95874 72035 -278741.71   60   58 -238304.00 -282105.74  18.4%  43.5  198s\n"
     ]
    },
    {
     "name": "stdout",
     "output_type": "stream",
     "text": [
      " 96139 72260 -278508.63   66   56 -238304.00 -282105.74  18.4%  43.6  200s\n"
     ]
    },
    {
     "name": "stderr",
     "output_type": "stream",
     "text": [
      "2023-05-15 14:45:30,762 - INFO -  96139 72260 -278508.63   66   56 -238304.00 -282105.74  18.4%  43.6  200s\n"
     ]
    },
    {
     "name": "stdout",
     "output_type": "stream",
     "text": [
      " 97158 72665 -256864.50   89   63 -238304.00 -282105.74  18.4%  43.9  205s\n"
     ]
    },
    {
     "name": "stderr",
     "output_type": "stream",
     "text": [
      "2023-05-15 14:45:36,252 - INFO -  97158 72665 -256864.50   89   63 -238304.00 -282105.74  18.4%  43.9  205s\n"
     ]
    },
    {
     "name": "stdout",
     "output_type": "stream",
     "text": [
      " 97762 72980 -280274.95   38   69 -238304.00 -282105.74  18.4%  44.1  210s\n"
     ]
    },
    {
     "name": "stderr",
     "output_type": "stream",
     "text": [
      "2023-05-15 14:45:41,602 - INFO -  97762 72980 -280274.95   38   69 -238304.00 -282105.74  18.4%  44.1  210s\n"
     ]
    },
    {
     "name": "stdout",
     "output_type": "stream",
     "text": [
      " 98506 73175 infeasible   75      -238304.00 -282105.74  18.4%  44.3  216s\n"
     ]
    },
    {
     "name": "stderr",
     "output_type": "stream",
     "text": [
      "2023-05-15 14:45:47,272 - INFO -  98506 73175 infeasible   75      -238304.00 -282105.74  18.4%  44.3  216s\n"
     ]
    },
    {
     "name": "stdout",
     "output_type": "stream",
     "text": [
      " 100051 73714 -277961.14   62   69 -238304.00 -282104.29  18.4%  44.7  225s\n"
     ]
    },
    {
     "name": "stderr",
     "output_type": "stream",
     "text": [
      "2023-05-15 14:45:56,572 - INFO -  100051 73714 -277961.14   62   69 -238304.00 -282104.29  18.4%  44.7  225s\n"
     ]
    },
    {
     "name": "stdout",
     "output_type": "stream",
     "text": [
      " 101180 74576 -276661.38   56   75 -238304.00 -282096.82  18.4%  45.2  231s\n"
     ]
    },
    {
     "name": "stderr",
     "output_type": "stream",
     "text": [
      "2023-05-15 14:46:02,367 - INFO -  101180 74576 -276661.38   56   75 -238304.00 -282096.82  18.4%  45.2  231s\n"
     ]
    },
    {
     "name": "stdout",
     "output_type": "stream",
     "text": [
      " 102586 75316 -281190.45   47  122 -238304.00 -282095.70  18.4%  45.4  235s\n"
     ]
    },
    {
     "name": "stderr",
     "output_type": "stream",
     "text": [
      "2023-05-15 14:46:06,028 - INFO -  102586 75316 -281190.45   47  122 -238304.00 -282095.70  18.4%  45.4  235s\n"
     ]
    },
    {
     "name": "stdout",
     "output_type": "stream",
     "text": [
      " 104896 76161 -281314.27   37   72 -238304.00 -282060.50  18.4%  45.9  240s\n"
     ]
    },
    {
     "name": "stderr",
     "output_type": "stream",
     "text": [
      "2023-05-15 14:46:11,642 - INFO -  104896 76161 -281314.27   37   72 -238304.00 -282060.50  18.4%  45.9  240s\n"
     ]
    },
    {
     "name": "stdout",
     "output_type": "stream",
     "text": [
      " 106470 76843 infeasible   92      -238304.00 -282043.76  18.4%  46.3  245s\n"
     ]
    },
    {
     "name": "stderr",
     "output_type": "stream",
     "text": [
      "2023-05-15 14:46:16,645 - INFO -  106470 76843 infeasible   92      -238304.00 -282043.76  18.4%  46.3  245s\n"
     ]
    },
    {
     "name": "stdout",
     "output_type": "stream",
     "text": [
      " 109589 77980     cutoff   88      -238304.00 -281994.20  18.3%  46.7  252s\n"
     ]
    },
    {
     "name": "stderr",
     "output_type": "stream",
     "text": [
      "2023-05-15 14:46:23,361 - INFO -  109589 77980     cutoff   88      -238304.00 -281994.20  18.3%  46.7  252s\n"
     ]
    },
    {
     "name": "stdout",
     "output_type": "stream",
     "text": [
      " 110681 78253 -279296.02   43   69 -238304.00 -281991.84  18.3%  46.8  255s\n"
     ]
    },
    {
     "name": "stderr",
     "output_type": "stream",
     "text": [
      "2023-05-15 14:46:25,750 - INFO -  110681 78253 -279296.02   43   69 -238304.00 -281991.84  18.3%  46.8  255s\n"
     ]
    },
    {
     "name": "stdout",
     "output_type": "stream",
     "text": [
      " 112621 79487 infeasible   78      -238304.00 -281987.76  18.3%  47.4  260s\n"
     ]
    },
    {
     "name": "stderr",
     "output_type": "stream",
     "text": [
      "2023-05-15 14:46:31,120 - INFO -  112621 79487 infeasible   78      -238304.00 -281987.76  18.3%  47.4  260s\n"
     ]
    },
    {
     "name": "stdout",
     "output_type": "stream",
     "text": [
      " 115268 80570 -271636.47   80   62 -238304.00 -281980.54  18.3%  47.5  265s\n"
     ]
    },
    {
     "name": "stderr",
     "output_type": "stream",
     "text": [
      "2023-05-15 14:46:36,343 - INFO -  115268 80570 -271636.47   80   62 -238304.00 -281980.54  18.3%  47.5  265s\n"
     ]
    },
    {
     "name": "stdout",
     "output_type": "stream",
     "text": [
      " 116582 80165 -261239.79  101   65 -238304.00 -281958.38  18.3%  47.6  282s\n"
     ]
    },
    {
     "name": "stderr",
     "output_type": "stream",
     "text": [
      "2023-05-15 14:46:52,788 - INFO -  116582 80165 -261239.79  101   65 -238304.00 -281958.38  18.3%  47.6  282s\n"
     ]
    },
    {
     "name": "stdout",
     "output_type": "stream",
     "text": [
      " 116639 81320 -274885.39   49   66 -238304.00 -281952.80  18.3%  47.6  286s\n"
     ]
    },
    {
     "name": "stderr",
     "output_type": "stream",
     "text": [
      "2023-05-15 14:46:56,945 - INFO -  116639 81320 -274885.39   49   66 -238304.00 -281952.80  18.3%  47.6  286s\n"
     ]
    },
    {
     "name": "stdout",
     "output_type": "stream",
     "text": [
      " 118158 82275 -277039.24   47  123 -238304.00 -281939.41  18.3%  47.8  290s\n"
     ]
    },
    {
     "name": "stderr",
     "output_type": "stream",
     "text": [
      "2023-05-15 14:47:01,277 - INFO -  118158 82275 -277039.24   47  123 -238304.00 -281939.41  18.3%  47.8  290s\n"
     ]
    },
    {
     "name": "stdout",
     "output_type": "stream",
     "text": [
      " 122265 84215 infeasible   86      -238304.00 -281939.41  18.3%  48.0  299s\n"
     ]
    },
    {
     "name": "stderr",
     "output_type": "stream",
     "text": [
      "2023-05-15 14:47:10,023 - INFO -  122265 84215 infeasible   86      -238304.00 -281939.41  18.3%  48.0  299s\n"
     ]
    },
    {
     "name": "stdout",
     "output_type": "stream",
     "text": [
      " 124604 85356 -281902.61   51  110 -238304.00 -281939.41  18.3%  48.2  305s\n"
     ]
    },
    {
     "name": "stderr",
     "output_type": "stream",
     "text": [
      "2023-05-15 14:47:16,558 - INFO -  124604 85356 -281902.61   51  110 -238304.00 -281939.41  18.3%  48.2  305s\n"
     ]
    },
    {
     "name": "stdout",
     "output_type": "stream",
     "text": [
      " 127219 86787 -281928.95   44   56 -238304.00 -281939.41  18.3%  48.4  312s\n"
     ]
    },
    {
     "name": "stderr",
     "output_type": "stream",
     "text": [
      "2023-05-15 14:47:22,887 - INFO -  127219 86787 -281928.95   44   56 -238304.00 -281939.41  18.3%  48.4  312s\n"
     ]
    },
    {
     "name": "stdout",
     "output_type": "stream",
     "text": [
      " 130141 86529 infeasible   82      -238304.00 -281939.41  18.3%  48.6  321s\n"
     ]
    },
    {
     "name": "stderr",
     "output_type": "stream",
     "text": [
      "2023-05-15 14:47:32,448 - INFO -  130141 86529 infeasible   82      -238304.00 -281939.41  18.3%  48.6  321s\n"
     ]
    },
    {
     "name": "stdout",
     "output_type": "stream",
     "text": [
      " 131132 88480 -280571.69   53   98 -238304.00 -281939.41  18.3%  48.6  329s\n"
     ]
    },
    {
     "name": "stderr",
     "output_type": "stream",
     "text": [
      "2023-05-15 14:47:40,237 - INFO -  131132 88480 -280571.69   53   98 -238304.00 -281939.41  18.3%  48.6  329s\n"
     ]
    },
    {
     "name": "stdout",
     "output_type": "stream",
     "text": [
      " 134694 89680 -281214.51   53   88 -238304.00 -281939.41  18.3%  48.8  336s\n"
     ]
    },
    {
     "name": "stderr",
     "output_type": "stream",
     "text": [
      "2023-05-15 14:47:47,468 - INFO -  134694 89680 -281214.51   53   88 -238304.00 -281939.41  18.3%  48.8  336s\n"
     ]
    },
    {
     "name": "stdout",
     "output_type": "stream",
     "text": [
      " 137947 91309 infeasible   67      -238304.00 -281939.41  18.3%  49.1  343s\n"
     ]
    },
    {
     "name": "stderr",
     "output_type": "stream",
     "text": [
      "2023-05-15 14:47:54,251 - INFO -  137947 91309 infeasible   67      -238304.00 -281939.41  18.3%  49.1  343s\n"
     ]
    },
    {
     "name": "stdout",
     "output_type": "stream",
     "text": [
      " 141781 93462 -278832.30   49   83 -238304.00 -281939.41  18.3%  49.2  352s\n"
     ]
    },
    {
     "name": "stderr",
     "output_type": "stream",
     "text": [
      "2023-05-15 14:48:03,646 - INFO -  141781 93462 -278832.30   49   83 -238304.00 -281939.41  18.3%  49.2  352s\n"
     ]
    },
    {
     "name": "stdout",
     "output_type": "stream",
     "text": [
      " 146512 94910 -277525.04   48  102 -238304.00 -281939.41  18.3%  49.3  361s\n"
     ]
    },
    {
     "name": "stderr",
     "output_type": "stream",
     "text": [
      "2023-05-15 14:48:12,543 - INFO -  146512 94910 -277525.04   48  102 -238304.00 -281939.41  18.3%  49.3  361s\n"
     ]
    },
    {
     "name": "stdout",
     "output_type": "stream",
     "text": [
      " 150786 94818 infeasible   81      -238304.00 -281939.41  18.3%  49.4  373s\n"
     ]
    },
    {
     "name": "stderr",
     "output_type": "stream",
     "text": [
      "2023-05-15 14:48:23,947 - INFO -  150786 94818 infeasible   81      -238304.00 -281939.41  18.3%  49.4  373s\n"
     ]
    },
    {
     "name": "stdout",
     "output_type": "stream",
     "text": [
      " 152550 97273 -281485.02   57   82 -238304.00 -281939.41  18.3%  49.5  379s\n"
     ]
    },
    {
     "name": "stderr",
     "output_type": "stream",
     "text": [
      "2023-05-15 14:48:30,471 - INFO -  152550 97273 -281485.02   57   82 -238304.00 -281939.41  18.3%  49.5  379s\n"
     ]
    },
    {
     "name": "stdout",
     "output_type": "stream",
     "text": [
      " 156751 99345 -278582.38   71  104 -238304.00 -281939.41  18.3%  49.9  386s\n"
     ]
    },
    {
     "name": "stderr",
     "output_type": "stream",
     "text": [
      "2023-05-15 14:48:37,633 - INFO -  156751 99345 -278582.38   71  104 -238304.00 -281939.41  18.3%  49.9  386s\n"
     ]
    },
    {
     "name": "stdout",
     "output_type": "stream",
     "text": [
      " 161588 100774 -281644.37   50  124 -238304.00 -281939.41  18.3%  50.1  394s\n"
     ]
    },
    {
     "name": "stderr",
     "output_type": "stream",
     "text": [
      "2023-05-15 14:48:44,892 - INFO -  161588 100774 -281644.37   50  124 -238304.00 -281939.41  18.3%  50.1  394s\n"
     ]
    },
    {
     "name": "stdout",
     "output_type": "stream",
     "text": [
      " 165817 100724 -269223.90   83   95 -238304.00 -281939.41  18.3%  50.4  404s\n"
     ]
    },
    {
     "name": "stderr",
     "output_type": "stream",
     "text": [
      "2023-05-15 14:48:54,887 - INFO -  165817 100724 -269223.90   83   95 -238304.00 -281939.41  18.3%  50.4  404s\n"
     ]
    },
    {
     "name": "stdout",
     "output_type": "stream",
     "text": [
      "H166843 96688                    -239254.0000 -281939.41  17.8%  50.4  404s\n"
     ]
    },
    {
     "name": "stderr",
     "output_type": "stream",
     "text": [
      "2023-05-15 14:48:55,147 - INFO - H166843 96688                    -239254.0000 -281939.41  17.8%  50.4  404s\n"
     ]
    },
    {
     "name": "stdout",
     "output_type": "stream",
     "text": [
      " 167615 100283 -280454.49   53   77 -239254.00 -281939.41  17.8%  50.4  413s\n"
     ]
    },
    {
     "name": "stderr",
     "output_type": "stream",
     "text": [
      "2023-05-15 14:49:04,021 - INFO -  167615 100283 -280454.49   53   77 -239254.00 -281939.41  17.8%  50.4  413s\n"
     ]
    },
    {
     "name": "stdout",
     "output_type": "stream",
     "text": [
      " 172866 102119 infeasible   98      -239254.00 -281939.41  17.8%  50.4  421s\n"
     ]
    },
    {
     "name": "stderr",
     "output_type": "stream",
     "text": [
      "2023-05-15 14:49:11,978 - INFO -  172866 102119 infeasible   98      -239254.00 -281939.41  17.8%  50.4  421s\n"
     ]
    },
    {
     "name": "stdout",
     "output_type": "stream",
     "text": [
      " 177714 100718 infeasible   99      -239254.00 -281939.41  17.8%  50.6  436s\n"
     ]
    },
    {
     "name": "stderr",
     "output_type": "stream",
     "text": [
      "2023-05-15 14:49:27,581 - INFO -  177714 100718 infeasible   99      -239254.00 -281939.41  17.8%  50.6  436s\n"
     ]
    },
    {
     "name": "stdout",
     "output_type": "stream",
     "text": [
      " 178038 103768 -270973.36   70  101 -239254.00 -281939.41  17.8%  50.6  445s\n"
     ]
    },
    {
     "name": "stderr",
     "output_type": "stream",
     "text": [
      "2023-05-15 14:49:36,449 - INFO -  178038 103768 -270973.36   70  101 -239254.00 -281939.41  17.8%  50.6  445s\n"
     ]
    },
    {
     "name": "stdout",
     "output_type": "stream",
     "text": [
      " 182362 103002 infeasible  104      -239254.00 -281939.41  17.8%  50.9  457s\n"
     ]
    },
    {
     "name": "stderr",
     "output_type": "stream",
     "text": [
      "2023-05-15 14:49:47,836 - INFO -  182362 103002 infeasible  104      -239254.00 -281939.41  17.8%  50.9  457s\n"
     ]
    },
    {
     "name": "stdout",
     "output_type": "stream",
     "text": [
      " 183298 105298 -281636.66   51   96 -239254.00 -281939.41  17.8%  51.0  465s\n"
     ]
    },
    {
     "name": "stderr",
     "output_type": "stream",
     "text": [
      "2023-05-15 14:49:56,573 - INFO -  183298 105298 -281636.66   51   96 -239254.00 -281939.41  17.8%  51.0  465s\n"
     ]
    },
    {
     "name": "stdout",
     "output_type": "stream",
     "text": [
      " 186949 105730 -281805.66   45  105 -239254.00 -281939.41  17.8%  51.4  476s\n"
     ]
    },
    {
     "name": "stderr",
     "output_type": "stream",
     "text": [
      "2023-05-15 14:50:07,142 - INFO -  186949 105730 -281805.66   45  105 -239254.00 -281939.41  17.8%  51.4  476s\n"
     ]
    },
    {
     "name": "stdout",
     "output_type": "stream",
     "text": [
      " 189320 107329 -279803.80   60  113 -239254.00 -281939.41  17.8%  51.6  486s\n"
     ]
    },
    {
     "name": "stderr",
     "output_type": "stream",
     "text": [
      "2023-05-15 14:50:16,987 - INFO -  189320 107329 -279803.80   60  113 -239254.00 -281939.41  17.8%  51.6  486s\n"
     ]
    },
    {
     "name": "stdout",
     "output_type": "stream",
     "text": [
      " 192886 108884 -278844.59   61  133 -239254.00 -281939.17  17.8%  52.0  494s\n"
     ]
    },
    {
     "name": "stderr",
     "output_type": "stream",
     "text": [
      "2023-05-15 14:50:25,053 - INFO -  192886 108884 -278844.59   61  133 -239254.00 -281939.17  17.8%  52.0  494s\n"
     ]
    },
    {
     "name": "stdout",
     "output_type": "stream",
     "text": [
      " 196453 110819 -280237.78   69   92 -239254.00 -281938.17  17.8%  52.5  504s\n"
     ]
    },
    {
     "name": "stderr",
     "output_type": "stream",
     "text": [
      "2023-05-15 14:50:34,784 - INFO -  196453 110819 -280237.78   69   92 -239254.00 -281938.17  17.8%  52.5  504s\n"
     ]
    },
    {
     "name": "stdout",
     "output_type": "stream",
     "text": [
      " 201005 110750 -271649.99   61   98 -239254.00 -281936.98  17.8%  52.6  515s\n"
     ]
    },
    {
     "name": "stderr",
     "output_type": "stream",
     "text": [
      "2023-05-15 14:50:46,284 - INFO -  201005 110750 -271649.99   61   98 -239254.00 -281936.98  17.8%  52.6  515s\n"
     ]
    },
    {
     "name": "stdout",
     "output_type": "stream",
     "text": [
      " 203077 113143 -277781.95   61  110 -239254.00 -281936.97  17.8%  52.7  525s\n"
     ]
    },
    {
     "name": "stderr",
     "output_type": "stream",
     "text": [
      "2023-05-15 14:50:56,059 - INFO -  203077 113143 -277781.95   61  110 -239254.00 -281936.97  17.8%  52.7  525s\n"
     ]
    },
    {
     "name": "stdout",
     "output_type": "stream",
     "text": [
      " 207235 114329 -279291.23   53  126 -239254.00 -281936.13  17.8%  52.8  535s\n"
     ]
    },
    {
     "name": "stderr",
     "output_type": "stream",
     "text": [
      "2023-05-15 14:51:05,884 - INFO -  207235 114329 -279291.23   53  126 -239254.00 -281936.13  17.8%  52.8  535s\n"
     ]
    },
    {
     "name": "stdout",
     "output_type": "stream",
     "text": [
      " 210752 116403 -277217.60   63   86 -239254.00 -281935.34  17.8%  53.2  542s\n"
     ]
    },
    {
     "name": "stderr",
     "output_type": "stream",
     "text": [
      "2023-05-15 14:51:12,873 - INFO -  210752 116403 -277217.60   63   86 -239254.00 -281935.34  17.8%  53.2  542s\n"
     ]
    },
    {
     "name": "stdout",
     "output_type": "stream",
     "text": [
      " 215078 117798 -278521.55   56  114 -239254.00 -281935.01  17.8%  53.4  551s\n"
     ]
    },
    {
     "name": "stderr",
     "output_type": "stream",
     "text": [
      "2023-05-15 14:51:22,551 - INFO -  215078 117798 -278521.55   56  114 -239254.00 -281935.01  17.8%  53.4  551s\n"
     ]
    },
    {
     "name": "stdout",
     "output_type": "stream",
     "text": [
      " 218851 119681 -280385.56   57  139 -239254.00 -281933.91  17.8%  53.5  561s\n"
     ]
    },
    {
     "name": "stderr",
     "output_type": "stream",
     "text": [
      "2023-05-15 14:51:32,415 - INFO -  218851 119681 -280385.56   57  139 -239254.00 -281933.91  17.8%  53.5  561s\n"
     ]
    },
    {
     "name": "stdout",
     "output_type": "stream",
     "text": [
      " 223084 120668 -281565.47   49  136 -239254.00 -281932.79  17.8%  53.7  572s\n"
     ]
    },
    {
     "name": "stderr",
     "output_type": "stream",
     "text": [
      "2023-05-15 14:51:43,661 - INFO -  223084 120668 -281565.47   49  136 -239254.00 -281932.79  17.8%  53.7  572s\n"
     ]
    },
    {
     "name": "stdout",
     "output_type": "stream",
     "text": [
      " 226500 122467 -275121.08   61   91 -239254.00 -281931.67  17.8%  53.9  581s\n"
     ]
    },
    {
     "name": "stderr",
     "output_type": "stream",
     "text": [
      "2023-05-15 14:51:52,159 - INFO -  226500 122467 -275121.08   61   91 -239254.00 -281931.67  17.8%  53.9  581s\n"
     ]
    },
    {
     "name": "stdout",
     "output_type": "stream",
     "text": [
      " 230593 123427 -275149.46   69  115 -239254.00 -281930.22  17.8%  54.2  588s\n"
     ]
    },
    {
     "name": "stderr",
     "output_type": "stream",
     "text": [
      "2023-05-15 14:51:59,357 - INFO -  230593 123427 -275149.46   69  115 -239254.00 -281930.22  17.8%  54.2  588s\n"
     ]
    },
    {
     "name": "stdout",
     "output_type": "stream",
     "text": [
      " 233590 125564 -276437.62   61  116 -239254.00 -281929.81  17.8%  54.5  597s\n"
     ]
    },
    {
     "name": "stderr",
     "output_type": "stream",
     "text": [
      "2023-05-15 14:52:08,144 - INFO -  233590 125564 -276437.62   61  116 -239254.00 -281929.81  17.8%  54.5  597s\n"
     ]
    },
    {
     "name": "stdout",
     "output_type": "stream",
     "text": [
      " 237975 124477 -258131.95   72  103 -239254.00 -281929.01  17.8%  54.6  600s\n"
     ]
    },
    {
     "name": "stderr",
     "output_type": "stream",
     "text": [
      "2023-05-15 14:52:10,729 - INFO -  237975 124477 -258131.95   72  103 -239254.00 -281929.01  17.8%  54.6  600s\n"
     ]
    },
    {
     "name": "stdout",
     "output_type": "stream",
     "text": [
      "\n"
     ]
    },
    {
     "name": "stderr",
     "output_type": "stream",
     "text": [
      "2023-05-15 14:52:11,089 - INFO - \n"
     ]
    },
    {
     "name": "stdout",
     "output_type": "stream",
     "text": [
      "Cutting planes:\n"
     ]
    },
    {
     "name": "stderr",
     "output_type": "stream",
     "text": [
      "2023-05-15 14:52:11,094 - INFO - Cutting planes:\n"
     ]
    },
    {
     "name": "stdout",
     "output_type": "stream",
     "text": [
      "  Gomory: 4\n"
     ]
    },
    {
     "name": "stderr",
     "output_type": "stream",
     "text": [
      "2023-05-15 14:52:11,100 - INFO -   Gomory: 4\n"
     ]
    },
    {
     "name": "stdout",
     "output_type": "stream",
     "text": [
      "  MIR: 1\n"
     ]
    },
    {
     "name": "stderr",
     "output_type": "stream",
     "text": [
      "2023-05-15 14:52:11,104 - INFO -   MIR: 1\n"
     ]
    },
    {
     "name": "stdout",
     "output_type": "stream",
     "text": [
      "  StrongCG: 2\n"
     ]
    },
    {
     "name": "stderr",
     "output_type": "stream",
     "text": [
      "2023-05-15 14:52:11,107 - INFO -   StrongCG: 2\n"
     ]
    },
    {
     "name": "stdout",
     "output_type": "stream",
     "text": [
      "  Flow cover: 2\n"
     ]
    },
    {
     "name": "stderr",
     "output_type": "stream",
     "text": [
      "2023-05-15 14:52:11,111 - INFO -   Flow cover: 2\n"
     ]
    },
    {
     "name": "stdout",
     "output_type": "stream",
     "text": [
      "  Zero half: 2\n"
     ]
    },
    {
     "name": "stderr",
     "output_type": "stream",
     "text": [
      "2023-05-15 14:52:11,115 - INFO -   Zero half: 2\n"
     ]
    },
    {
     "name": "stdout",
     "output_type": "stream",
     "text": [
      "  Lazy constraints: 2422\n"
     ]
    },
    {
     "name": "stderr",
     "output_type": "stream",
     "text": [
      "2023-05-15 14:52:11,119 - INFO -   Lazy constraints: 2422\n"
     ]
    },
    {
     "name": "stdout",
     "output_type": "stream",
     "text": [
      "\n"
     ]
    },
    {
     "name": "stderr",
     "output_type": "stream",
     "text": [
      "2023-05-15 14:52:11,123 - INFO - \n"
     ]
    },
    {
     "name": "stdout",
     "output_type": "stream",
     "text": [
      "Explored 238470 nodes (13031529 simplex iterations) in 600.41 seconds\n"
     ]
    },
    {
     "name": "stderr",
     "output_type": "stream",
     "text": [
      "2023-05-15 14:52:11,126 - INFO - Explored 238470 nodes (13031529 simplex iterations) in 600.41 seconds\n"
     ]
    },
    {
     "name": "stdout",
     "output_type": "stream",
     "text": [
      "Thread count was 24 (of 48 available processors)\n"
     ]
    },
    {
     "name": "stderr",
     "output_type": "stream",
     "text": [
      "2023-05-15 14:52:11,130 - INFO - Thread count was 24 (of 48 available processors)\n"
     ]
    },
    {
     "name": "stdout",
     "output_type": "stream",
     "text": [
      "\n"
     ]
    },
    {
     "name": "stderr",
     "output_type": "stream",
     "text": [
      "2023-05-15 14:52:11,133 - INFO - \n"
     ]
    },
    {
     "name": "stdout",
     "output_type": "stream",
     "text": [
      "Solution count 2: -239254 -238304 \n"
     ]
    },
    {
     "name": "stderr",
     "output_type": "stream",
     "text": [
      "2023-05-15 14:52:11,138 - INFO - Solution count 2: -239254 -238304 \n"
     ]
    },
    {
     "name": "stdout",
     "output_type": "stream",
     "text": [
      "\n"
     ]
    },
    {
     "name": "stderr",
     "output_type": "stream",
     "text": [
      "2023-05-15 14:52:11,141 - INFO - \n"
     ]
    },
    {
     "name": "stdout",
     "output_type": "stream",
     "text": [
      "Time limit reached\n"
     ]
    },
    {
     "name": "stderr",
     "output_type": "stream",
     "text": [
      "2023-05-15 14:52:11,144 - INFO - Time limit reached\n"
     ]
    },
    {
     "name": "stdout",
     "output_type": "stream",
     "text": [
      "Best objective -2.392540000000e+05, best bound -2.819290000000e+05, gap 17.8367%\n"
     ]
    },
    {
     "name": "stderr",
     "output_type": "stream",
     "text": [
      "2023-05-15 14:52:11,147 - INFO - Best objective -2.392540000000e+05, best bound -2.819290000000e+05, gap 17.8367%\n"
     ]
    },
    {
     "name": "stdout",
     "output_type": "stream",
     "text": [
      "\n"
     ]
    },
    {
     "name": "stderr",
     "output_type": "stream",
     "text": [
      "2023-05-15 14:52:11,150 - INFO - \n"
     ]
    },
    {
     "name": "stdout",
     "output_type": "stream",
     "text": [
      "User-callback calls 521439, time in user-callback 28.90 sec\n"
     ]
    },
    {
     "name": "stderr",
     "output_type": "stream",
     "text": [
      "2023-05-15 14:52:11,153 - INFO - User-callback calls 521439, time in user-callback 28.90 sec\n"
     ]
    },
    {
     "name": "stdout",
     "output_type": "stream",
     "text": [
      "{'Bounds': {'D200': {}, 'D160': {}, 'R200': {}, 'R160': {}, 'D201': {}, 'D161': {}, 'R201': {}, 'R161': {}, 'D202': {}, 'D162': {}, 'R202': {}, 'R162': {}, 'D203': {}, 'D163': {}, 'R203': {}, 'R163': {}, 'T200': {}, 'T160': {}, 'T201': {}, 'T161': {}, 'T202': {}, 'T162': {}, 'T203': {}, 'T163': {}, 'diff_D_T20_[0]': {'lb': -281929.0, 'min_soln': -239254.0}, 'diff_D_T16_[0]': {}, 'diff_D_T20_[1]': {'lb': -281101.0, 'min_soln': -239240.0}, 'diff_D_T16_[1]': {'lb': -258187.0, 'min_soln': -218961.0}, 'diff_D_T20_[2]': {'lb': -278591.0, 'min_soln': -227048.0}, 'diff_D_T16_[2]': {'lb': -255935.0, 'min_soln': -228418.0}, 'diff_D_T20_[3]': {'lb': -265117.0, 'min_soln': -207249.0}, 'diff_D_T16_[3]': {'lb': -245827.0, 'min_soln': -194189.0}}}\n",
      "Gurobi Optimizer version 9.1.2 build v9.1.2rc0 (win64)\n"
     ]
    },
    {
     "name": "stderr",
     "output_type": "stream",
     "text": [
      "2023-05-15 14:52:11,688 - INFO - Gurobi Optimizer version 9.1.2 build v9.1.2rc0 (win64)\n"
     ]
    },
    {
     "name": "stdout",
     "output_type": "stream",
     "text": [
      "Thread count: 24 physical cores, 48 logical processors, using up to 24 threads\n"
     ]
    },
    {
     "name": "stderr",
     "output_type": "stream",
     "text": [
      "2023-05-15 14:52:11,691 - INFO - Thread count: 24 physical cores, 48 logical processors, using up to 24 threads\n"
     ]
    },
    {
     "name": "stdout",
     "output_type": "stream",
     "text": [
      "Optimize a model with 132 rows, 688 columns and 2373 nonzeros\n"
     ]
    },
    {
     "name": "stderr",
     "output_type": "stream",
     "text": [
      "2023-05-15 14:52:11,693 - INFO - Optimize a model with 132 rows, 688 columns and 2373 nonzeros\n"
     ]
    },
    {
     "name": "stdout",
     "output_type": "stream",
     "text": [
      "Model fingerprint: 0x01bf7b1b\n"
     ]
    },
    {
     "name": "stderr",
     "output_type": "stream",
     "text": [
      "2023-05-15 14:52:11,699 - INFO - Model fingerprint: 0x01bf7b1b\n"
     ]
    },
    {
     "name": "stdout",
     "output_type": "stream",
     "text": [
      "Variable types: 32 continuous, 656 integer (656 binary)\n"
     ]
    },
    {
     "name": "stderr",
     "output_type": "stream",
     "text": [
      "2023-05-15 14:52:11,700 - INFO - Variable types: 32 continuous, 656 integer (656 binary)\n"
     ]
    },
    {
     "name": "stdout",
     "output_type": "stream",
     "text": [
      "Coefficient statistics:\n"
     ]
    },
    {
     "name": "stderr",
     "output_type": "stream",
     "text": [
      "2023-05-15 14:52:11,702 - INFO - Coefficient statistics:\n"
     ]
    },
    {
     "name": "stdout",
     "output_type": "stream",
     "text": [
      "  Matrix range     [1e+00, 2e+05]\n"
     ]
    },
    {
     "name": "stderr",
     "output_type": "stream",
     "text": [
      "2023-05-15 14:52:11,705 - INFO -   Matrix range     [1e+00, 2e+05]\n"
     ]
    },
    {
     "name": "stdout",
     "output_type": "stream",
     "text": [
      "  Objective range  [1e+00, 1e+00]\n"
     ]
    },
    {
     "name": "stderr",
     "output_type": "stream",
     "text": [
      "2023-05-15 14:52:11,708 - INFO -   Objective range  [1e+00, 1e+00]\n"
     ]
    },
    {
     "name": "stdout",
     "output_type": "stream",
     "text": [
      "  Bounds range     [1e+00, 8e+05]\n"
     ]
    },
    {
     "name": "stderr",
     "output_type": "stream",
     "text": [
      "2023-05-15 14:52:11,709 - INFO -   Bounds range     [1e+00, 8e+05]\n"
     ]
    },
    {
     "name": "stdout",
     "output_type": "stream",
     "text": [
      "  RHS range        [1e+00, 8e+05]\n"
     ]
    },
    {
     "name": "stderr",
     "output_type": "stream",
     "text": [
      "2023-05-15 14:52:11,712 - INFO -   RHS range        [1e+00, 8e+05]\n"
     ]
    },
    {
     "name": "stdout",
     "output_type": "stream",
     "text": [
      "\n"
     ]
    },
    {
     "name": "stderr",
     "output_type": "stream",
     "text": [
      "2023-05-15 14:52:11,713 - INFO - \n"
     ]
    },
    {
     "name": "stdout",
     "output_type": "stream",
     "text": [
      "User MIP start produced solution with objective -215703 (0.02s)\n"
     ]
    },
    {
     "name": "stderr",
     "output_type": "stream",
     "text": [
      "2023-05-15 14:52:11,713 - INFO - User MIP start produced solution with objective -215703 (0.02s)\n"
     ]
    },
    {
     "name": "stdout",
     "output_type": "stream",
     "text": [
      "Loaded user MIP start with objective -215703\n"
     ]
    },
    {
     "name": "stderr",
     "output_type": "stream",
     "text": [
      "2023-05-15 14:52:11,735 - INFO - Loaded user MIP start with objective -215703\n"
     ]
    },
    {
     "name": "stdout",
     "output_type": "stream",
     "text": [
      "MIP start from previous solve produced solution with objective -217252 (0.06s)\n"
     ]
    },
    {
     "name": "stderr",
     "output_type": "stream",
     "text": [
      "2023-05-15 14:52:11,749 - INFO - MIP start from previous solve produced solution with objective -217252 (0.06s)\n"
     ]
    },
    {
     "name": "stdout",
     "output_type": "stream",
     "text": [
      "Loaded MIP start from previous solve with objective -217252\n"
     ]
    },
    {
     "name": "stderr",
     "output_type": "stream",
     "text": [
      "2023-05-15 14:52:11,759 - INFO - Loaded MIP start from previous solve with objective -217252\n"
     ]
    },
    {
     "name": "stdout",
     "output_type": "stream",
     "text": [
      "\n"
     ]
    },
    {
     "name": "stderr",
     "output_type": "stream",
     "text": [
      "2023-05-15 14:52:11,762 - INFO - \n"
     ]
    },
    {
     "name": "stdout",
     "output_type": "stream",
     "text": [
      "Presolve removed 23 rows and 16 columns\n"
     ]
    },
    {
     "name": "stderr",
     "output_type": "stream",
     "text": [
      "2023-05-15 14:52:11,799 - INFO - Presolve removed 23 rows and 16 columns\n"
     ]
    },
    {
     "name": "stdout",
     "output_type": "stream",
     "text": [
      "Presolve time: 0.03s\n"
     ]
    },
    {
     "name": "stderr",
     "output_type": "stream",
     "text": [
      "2023-05-15 14:52:11,803 - INFO - Presolve time: 0.03s\n"
     ]
    },
    {
     "name": "stdout",
     "output_type": "stream",
     "text": [
      "Presolved: 109 rows, 672 columns, 2324 nonzeros\n"
     ]
    },
    {
     "name": "stderr",
     "output_type": "stream",
     "text": [
      "2023-05-15 14:52:11,807 - INFO - Presolved: 109 rows, 672 columns, 2324 nonzeros\n"
     ]
    },
    {
     "name": "stdout",
     "output_type": "stream",
     "text": [
      "Variable types: 0 continuous, 672 integer (656 binary)\n"
     ]
    },
    {
     "name": "stderr",
     "output_type": "stream",
     "text": [
      "2023-05-15 14:52:11,815 - INFO - Variable types: 0 continuous, 672 integer (656 binary)\n"
     ]
    },
    {
     "name": "stdout",
     "output_type": "stream",
     "text": [
      "\n"
     ]
    },
    {
     "name": "stderr",
     "output_type": "stream",
     "text": [
      "2023-05-15 14:52:11,820 - INFO - \n"
     ]
    },
    {
     "name": "stdout",
     "output_type": "stream",
     "text": [
      "Concurrent LP optimizer: primal simplex, dual simplex, and barrier\n"
     ]
    },
    {
     "name": "stderr",
     "output_type": "stream",
     "text": [
      "2023-05-15 14:52:11,822 - INFO - Concurrent LP optimizer: primal simplex, dual simplex, and barrier\n"
     ]
    },
    {
     "name": "stdout",
     "output_type": "stream",
     "text": [
      "Showing barrier log only...\n"
     ]
    },
    {
     "name": "stderr",
     "output_type": "stream",
     "text": [
      "2023-05-15 14:52:11,824 - INFO - Showing barrier log only...\n"
     ]
    },
    {
     "name": "stdout",
     "output_type": "stream",
     "text": [
      "\n"
     ]
    },
    {
     "name": "stderr",
     "output_type": "stream",
     "text": [
      "2023-05-15 14:52:11,826 - INFO - \n"
     ]
    },
    {
     "name": "stdout",
     "output_type": "stream",
     "text": [
      "Root barrier log...\n"
     ]
    },
    {
     "name": "stderr",
     "output_type": "stream",
     "text": [
      "2023-05-15 14:52:11,837 - INFO - Root barrier log...\n"
     ]
    },
    {
     "name": "stdout",
     "output_type": "stream",
     "text": [
      "\n"
     ]
    },
    {
     "name": "stderr",
     "output_type": "stream",
     "text": [
      "2023-05-15 14:52:11,839 - INFO - \n"
     ]
    },
    {
     "name": "stdout",
     "output_type": "stream",
     "text": [
      "Ordering time: 0.00s\n"
     ]
    },
    {
     "name": "stderr",
     "output_type": "stream",
     "text": [
      "2023-05-15 14:52:11,841 - INFO - Ordering time: 0.00s\n"
     ]
    },
    {
     "name": "stdout",
     "output_type": "stream",
     "text": [
      "\n"
     ]
    },
    {
     "name": "stderr",
     "output_type": "stream",
     "text": [
      "2023-05-15 14:52:11,843 - INFO - \n"
     ]
    },
    {
     "name": "stdout",
     "output_type": "stream",
     "text": [
      "Barrier performed 0 iterations in 0.15 seconds\n"
     ]
    },
    {
     "name": "stderr",
     "output_type": "stream",
     "text": [
      "2023-05-15 14:52:11,846 - INFO - Barrier performed 0 iterations in 0.15 seconds\n"
     ]
    },
    {
     "name": "stdout",
     "output_type": "stream",
     "text": [
      "Barrier solve interrupted - model solved by another algorithm\n"
     ]
    },
    {
     "name": "stderr",
     "output_type": "stream",
     "text": [
      "2023-05-15 14:52:11,848 - INFO - Barrier solve interrupted - model solved by another algorithm\n"
     ]
    },
    {
     "name": "stdout",
     "output_type": "stream",
     "text": [
      "\n"
     ]
    },
    {
     "name": "stderr",
     "output_type": "stream",
     "text": [
      "2023-05-15 14:52:11,850 - INFO - \n"
     ]
    },
    {
     "name": "stdout",
     "output_type": "stream",
     "text": [
      "\n"
     ]
    },
    {
     "name": "stderr",
     "output_type": "stream",
     "text": [
      "2023-05-15 14:52:11,852 - INFO - \n"
     ]
    },
    {
     "name": "stdout",
     "output_type": "stream",
     "text": [
      "Solved with dual simplex\n"
     ]
    },
    {
     "name": "stderr",
     "output_type": "stream",
     "text": [
      "2023-05-15 14:52:11,853 - INFO - Solved with dual simplex\n"
     ]
    },
    {
     "name": "stdout",
     "output_type": "stream",
     "text": [
      "\n"
     ]
    },
    {
     "name": "stderr",
     "output_type": "stream",
     "text": [
      "2023-05-15 14:52:11,856 - INFO - \n"
     ]
    },
    {
     "name": "stdout",
     "output_type": "stream",
     "text": [
      "Root relaxation: objective -2.605573e+05, 112 iterations, 0.04 seconds\n"
     ]
    },
    {
     "name": "stderr",
     "output_type": "stream",
     "text": [
      "2023-05-15 14:52:11,858 - INFO - Root relaxation: objective -2.605573e+05, 112 iterations, 0.04 seconds\n"
     ]
    },
    {
     "name": "stdout",
     "output_type": "stream",
     "text": [
      "\n"
     ]
    },
    {
     "name": "stderr",
     "output_type": "stream",
     "text": [
      "2023-05-15 14:52:11,861 - INFO - \n"
     ]
    },
    {
     "name": "stdout",
     "output_type": "stream",
     "text": [
      "    Nodes    |    Current Node    |     Objective Bounds      |     Work\n"
     ]
    },
    {
     "name": "stderr",
     "output_type": "stream",
     "text": [
      "2023-05-15 14:52:11,861 - INFO -     Nodes    |    Current Node    |     Objective Bounds      |     Work\n"
     ]
    },
    {
     "name": "stdout",
     "output_type": "stream",
     "text": [
      " Expl Unexpl |  Obj  Depth IntInf | Incumbent    BestBd   Gap | It/Node Time\n"
     ]
    },
    {
     "name": "stderr",
     "output_type": "stream",
     "text": [
      "2023-05-15 14:52:11,861 - INFO -  Expl Unexpl |  Obj  Depth IntInf | Incumbent    BestBd   Gap | It/Node Time\n"
     ]
    },
    {
     "name": "stdout",
     "output_type": "stream",
     "text": [
      "\n"
     ]
    },
    {
     "name": "stderr",
     "output_type": "stream",
     "text": [
      "2023-05-15 14:52:11,861 - INFO - \n"
     ]
    },
    {
     "name": "stdout",
     "output_type": "stream",
     "text": [
      "     0     0 -260557.27    0   21 -217252.00 -260557.27  19.9%     -    0s\n"
     ]
    },
    {
     "name": "stderr",
     "output_type": "stream",
     "text": [
      "2023-05-15 14:52:11,877 - INFO -      0     0 -260557.27    0   21 -217252.00 -260557.27  19.9%     -    0s\n"
     ]
    },
    {
     "name": "stdout",
     "output_type": "stream",
     "text": [
      "     0     0 -260527.45    0   25 -217252.00 -260527.45  19.9%     -    0s\n"
     ]
    },
    {
     "name": "stderr",
     "output_type": "stream",
     "text": [
      "2023-05-15 14:52:11,905 - INFO -      0     0 -260527.45    0   25 -217252.00 -260527.45  19.9%     -    0s\n"
     ]
    },
    {
     "name": "stdout",
     "output_type": "stream",
     "text": [
      "     0     0 -260304.36    0   24 -217252.00 -260304.36  19.8%     -    0s\n"
     ]
    },
    {
     "name": "stderr",
     "output_type": "stream",
     "text": [
      "2023-05-15 14:52:12,031 - INFO -      0     0 -260304.36    0   24 -217252.00 -260304.36  19.8%     -    0s\n"
     ]
    },
    {
     "name": "stdout",
     "output_type": "stream",
     "text": [
      "     0     0 -260275.09    0   28 -217252.00 -260275.09  19.8%     -    0s\n"
     ]
    },
    {
     "name": "stderr",
     "output_type": "stream",
     "text": [
      "2023-05-15 14:52:12,048 - INFO -      0     0 -260275.09    0   28 -217252.00 -260275.09  19.8%     -    0s\n"
     ]
    },
    {
     "name": "stdout",
     "output_type": "stream",
     "text": [
      "     0     0 -260236.27    0   27 -217252.00 -260236.27  19.8%     -    0s\n"
     ]
    },
    {
     "name": "stderr",
     "output_type": "stream",
     "text": [
      "2023-05-15 14:52:12,073 - INFO -      0     0 -260236.27    0   27 -217252.00 -260236.27  19.8%     -    0s\n"
     ]
    },
    {
     "name": "stdout",
     "output_type": "stream",
     "text": [
      "     0     0 -260230.02    0   29 -217252.00 -260230.02  19.8%     -    0s\n"
     ]
    },
    {
     "name": "stderr",
     "output_type": "stream",
     "text": [
      "2023-05-15 14:52:12,084 - INFO -      0     0 -260230.02    0   29 -217252.00 -260230.02  19.8%     -    0s\n"
     ]
    },
    {
     "name": "stdout",
     "output_type": "stream",
     "text": [
      "     0     0 -260222.76    0   31 -217252.00 -260222.76  19.8%     -    0s\n"
     ]
    },
    {
     "name": "stderr",
     "output_type": "stream",
     "text": [
      "2023-05-15 14:52:12,130 - INFO -      0     0 -260222.76    0   31 -217252.00 -260222.76  19.8%     -    0s\n"
     ]
    },
    {
     "name": "stdout",
     "output_type": "stream",
     "text": [
      "     0     0 -260212.44    0   38 -217252.00 -260212.44  19.8%     -    0s\n"
     ]
    },
    {
     "name": "stderr",
     "output_type": "stream",
     "text": [
      "2023-05-15 14:52:12,312 - INFO -      0     0 -260212.44    0   38 -217252.00 -260212.44  19.8%     -    0s\n"
     ]
    },
    {
     "name": "stdout",
     "output_type": "stream",
     "text": [
      "     0     0 -260183.96    0   44 -217252.00 -260183.96  19.8%     -    0s\n"
     ]
    },
    {
     "name": "stderr",
     "output_type": "stream",
     "text": [
      "2023-05-15 14:52:12,318 - INFO -      0     0 -260183.96    0   44 -217252.00 -260183.96  19.8%     -    0s\n"
     ]
    },
    {
     "name": "stdout",
     "output_type": "stream",
     "text": [
      "     0     0 -260180.42    0   40 -217252.00 -260180.42  19.8%     -    0s\n"
     ]
    },
    {
     "name": "stderr",
     "output_type": "stream",
     "text": [
      "2023-05-15 14:52:12,323 - INFO -      0     0 -260180.42    0   40 -217252.00 -260180.42  19.8%     -    0s\n"
     ]
    },
    {
     "name": "stdout",
     "output_type": "stream",
     "text": [
      "     0     0 -260156.30    0   37 -217252.00 -260156.30  19.7%     -    0s\n"
     ]
    },
    {
     "name": "stderr",
     "output_type": "stream",
     "text": [
      "2023-05-15 14:52:12,384 - INFO -      0     0 -260156.30    0   37 -217252.00 -260156.30  19.7%     -    0s\n"
     ]
    },
    {
     "name": "stdout",
     "output_type": "stream",
     "text": [
      "     0     0 -260115.76    0   33 -217252.00 -260115.76  19.7%     -    0s\n"
     ]
    },
    {
     "name": "stderr",
     "output_type": "stream",
     "text": [
      "2023-05-15 14:52:12,441 - INFO -      0     0 -260115.76    0   33 -217252.00 -260115.76  19.7%     -    0s\n"
     ]
    },
    {
     "name": "stdout",
     "output_type": "stream",
     "text": [
      "     0     0 -260112.92    0   34 -217252.00 -260112.92  19.7%     -    0s\n"
     ]
    },
    {
     "name": "stderr",
     "output_type": "stream",
     "text": [
      "2023-05-15 14:52:12,463 - INFO -      0     0 -260112.92    0   34 -217252.00 -260112.92  19.7%     -    0s\n"
     ]
    },
    {
     "name": "stdout",
     "output_type": "stream",
     "text": [
      "     0     0 -260103.30    0   37 -217252.00 -260103.30  19.7%     -    0s\n"
     ]
    },
    {
     "name": "stderr",
     "output_type": "stream",
     "text": [
      "2023-05-15 14:52:12,521 - INFO -      0     0 -260103.30    0   37 -217252.00 -260103.30  19.7%     -    0s\n"
     ]
    },
    {
     "name": "stdout",
     "output_type": "stream",
     "text": [
      "     0     0 -260101.21    0   34 -217252.00 -260101.21  19.7%     -    0s\n"
     ]
    },
    {
     "name": "stderr",
     "output_type": "stream",
     "text": [
      "2023-05-15 14:52:12,528 - INFO -      0     0 -260101.21    0   34 -217252.00 -260101.21  19.7%     -    0s\n"
     ]
    },
    {
     "name": "stdout",
     "output_type": "stream",
     "text": [
      "     0     0 -260093.72    0   41 -217252.00 -260093.72  19.7%     -    0s\n"
     ]
    },
    {
     "name": "stderr",
     "output_type": "stream",
     "text": [
      "2023-05-15 14:52:12,542 - INFO -      0     0 -260093.72    0   41 -217252.00 -260093.72  19.7%     -    0s\n"
     ]
    },
    {
     "name": "stdout",
     "output_type": "stream",
     "text": [
      "     0     0 -260092.41    0   42 -217252.00 -260092.41  19.7%     -    0s\n"
     ]
    },
    {
     "name": "stderr",
     "output_type": "stream",
     "text": [
      "2023-05-15 14:52:12,550 - INFO -      0     0 -260092.41    0   42 -217252.00 -260092.41  19.7%     -    0s\n"
     ]
    },
    {
     "name": "stdout",
     "output_type": "stream",
     "text": [
      "     0     0 -260085.31    0   36 -217252.00 -260085.31  19.7%     -    0s\n"
     ]
    },
    {
     "name": "stderr",
     "output_type": "stream",
     "text": [
      "2023-05-15 14:52:12,570 - INFO -      0     0 -260085.31    0   36 -217252.00 -260085.31  19.7%     -    0s\n"
     ]
    },
    {
     "name": "stdout",
     "output_type": "stream",
     "text": [
      "     0     0 -260084.96    0   45 -217252.00 -260084.96  19.7%     -    0s\n"
     ]
    },
    {
     "name": "stderr",
     "output_type": "stream",
     "text": [
      "2023-05-15 14:52:12,582 - INFO -      0     0 -260084.96    0   45 -217252.00 -260084.96  19.7%     -    0s\n"
     ]
    },
    {
     "name": "stdout",
     "output_type": "stream",
     "text": [
      "     0     0 -260079.56    0   41 -217252.00 -260079.56  19.7%     -    0s\n"
     ]
    },
    {
     "name": "stderr",
     "output_type": "stream",
     "text": [
      "2023-05-15 14:52:12,604 - INFO -      0     0 -260079.56    0   41 -217252.00 -260079.56  19.7%     -    0s\n"
     ]
    },
    {
     "name": "stdout",
     "output_type": "stream",
     "text": [
      "     0     0 -260073.49    0   40 -217252.00 -260073.49  19.7%     -    0s\n"
     ]
    },
    {
     "name": "stderr",
     "output_type": "stream",
     "text": [
      "2023-05-15 14:52:12,613 - INFO -      0     0 -260073.49    0   40 -217252.00 -260073.49  19.7%     -    0s\n"
     ]
    },
    {
     "name": "stdout",
     "output_type": "stream",
     "text": [
      "     0     0 -260072.31    0   41 -217252.00 -260072.31  19.7%     -    0s\n"
     ]
    },
    {
     "name": "stderr",
     "output_type": "stream",
     "text": [
      "2023-05-15 14:52:12,623 - INFO -      0     0 -260072.31    0   41 -217252.00 -260072.31  19.7%     -    0s\n"
     ]
    },
    {
     "name": "stdout",
     "output_type": "stream",
     "text": [
      "     0     0 -260071.80    0   41 -217252.00 -260071.80  19.7%     -    0s\n"
     ]
    },
    {
     "name": "stderr",
     "output_type": "stream",
     "text": [
      "2023-05-15 14:52:12,634 - INFO -      0     0 -260071.80    0   41 -217252.00 -260071.80  19.7%     -    0s\n"
     ]
    },
    {
     "name": "stdout",
     "output_type": "stream",
     "text": [
      "     0     0 -260070.32    0   47 -217252.00 -260070.32  19.7%     -    0s\n"
     ]
    },
    {
     "name": "stderr",
     "output_type": "stream",
     "text": [
      "2023-05-15 14:52:12,655 - INFO -      0     0 -260070.32    0   47 -217252.00 -260070.32  19.7%     -    0s\n"
     ]
    },
    {
     "name": "stdout",
     "output_type": "stream",
     "text": [
      "     0     0 -260066.43    0   47 -217252.00 -260066.43  19.7%     -    0s\n"
     ]
    },
    {
     "name": "stderr",
     "output_type": "stream",
     "text": [
      "2023-05-15 14:52:12,664 - INFO -      0     0 -260066.43    0   47 -217252.00 -260066.43  19.7%     -    0s\n"
     ]
    },
    {
     "name": "stdout",
     "output_type": "stream",
     "text": [
      "     0     0 -260064.28    0   46 -217252.00 -260064.28  19.7%     -    1s\n"
     ]
    },
    {
     "name": "stderr",
     "output_type": "stream",
     "text": [
      "2023-05-15 14:52:12,694 - INFO -      0     0 -260064.28    0   46 -217252.00 -260064.28  19.7%     -    1s\n"
     ]
    },
    {
     "name": "stdout",
     "output_type": "stream",
     "text": [
      "     0     0 -260060.06    0   46 -217252.00 -260060.06  19.7%     -    1s\n"
     ]
    },
    {
     "name": "stderr",
     "output_type": "stream",
     "text": [
      "2023-05-15 14:52:12,716 - INFO -      0     0 -260060.06    0   46 -217252.00 -260060.06  19.7%     -    1s\n"
     ]
    },
    {
     "name": "stdout",
     "output_type": "stream",
     "text": [
      "     0     0 -260060.06    0   36 -217252.00 -260060.06  19.7%     -    1s\n"
     ]
    },
    {
     "name": "stderr",
     "output_type": "stream",
     "text": [
      "2023-05-15 14:52:12,735 - INFO -      0     0 -260060.06    0   36 -217252.00 -260060.06  19.7%     -    1s\n"
     ]
    },
    {
     "name": "stdout",
     "output_type": "stream",
     "text": [
      "     0     2 -260060.06    0   36 -217252.00 -260060.06  19.7%     -    1s\n"
     ]
    },
    {
     "name": "stderr",
     "output_type": "stream",
     "text": [
      "2023-05-15 14:52:12,768 - INFO -      0     2 -260060.06    0   36 -217252.00 -260060.06  19.7%     -    1s\n"
     ]
    },
    {
     "name": "stdout",
     "output_type": "stream",
     "text": [
      "H 3917  3300                    -217381.0000 -259420.00  19.3%   5.2    4s\n"
     ]
    },
    {
     "name": "stderr",
     "output_type": "stream",
     "text": [
      "2023-05-15 14:52:15,952 - INFO - H 3917  3300                    -217381.0000 -259420.00  19.3%   5.2    4s\n"
     ]
    },
    {
     "name": "stdout",
     "output_type": "stream",
     "text": [
      "  3933  3311 -249972.38   62   44 -217381.00 -259313.78  19.3%   5.1    6s\n"
     ]
    },
    {
     "name": "stderr",
     "output_type": "stream",
     "text": [
      "2023-05-15 14:52:18,673 - INFO -   3933  3311 -249972.38   62   44 -217381.00 -259313.78  19.3%   5.1    6s\n"
     ]
    },
    {
     "name": "stdout",
     "output_type": "stream",
     "text": [
      "  4381  3804 -259125.10   30   30 -217381.00 -259246.42  19.3%   7.1   10s\n"
     ]
    },
    {
     "name": "stderr",
     "output_type": "stream",
     "text": [
      "2023-05-15 14:52:21,702 - INFO -   4381  3804 -259125.10   30   30 -217381.00 -259246.42  19.3%   7.1   10s\n"
     ]
    },
    {
     "name": "stdout",
     "output_type": "stream",
     "text": [
      "  6470  4531 -255867.84   85   16 -217381.00 -259246.42  19.3%   8.2   15s\n"
     ]
    },
    {
     "name": "stderr",
     "output_type": "stream",
     "text": [
      "2023-05-15 14:52:27,604 - INFO -   6470  4531 -255867.84   85   16 -217381.00 -259246.42  19.3%   8.2   15s\n"
     ]
    },
    {
     "name": "stdout",
     "output_type": "stream",
     "text": [
      "  6504  4529 infeasible   85      -217381.00 -259246.42  19.3%   8.2   21s\n"
     ]
    },
    {
     "name": "stderr",
     "output_type": "stream",
     "text": [
      "2023-05-15 14:52:33,021 - INFO -   6504  4529 infeasible   85      -217381.00 -259246.42  19.3%   8.2   21s\n"
     ]
    },
    {
     "name": "stdout",
     "output_type": "stream",
     "text": [
      "  9016  5091 -256642.00   45   69 -217381.00 -259246.42  19.3%  13.8   28s\n"
     ]
    },
    {
     "name": "stderr",
     "output_type": "stream",
     "text": [
      "2023-05-15 14:52:40,514 - INFO -   9016  5091 -256642.00   45   69 -217381.00 -259246.42  19.3%  13.8   28s\n"
     ]
    },
    {
     "name": "stdout",
     "output_type": "stream",
     "text": [
      "  9953  5239 -241177.00   63  105 -217381.00 -259246.42  19.3%  16.4   30s\n"
     ]
    },
    {
     "name": "stderr",
     "output_type": "stream",
     "text": [
      "2023-05-15 14:52:42,023 - INFO -   9953  5239 -241177.00   63  105 -217381.00 -259246.42  19.3%  16.4   30s\n"
     ]
    },
    {
     "name": "stdout",
     "output_type": "stream",
     "text": [
      " 15211  6416 -246075.00  148   27 -217381.00 -259246.42  19.3%  26.7   38s\n"
     ]
    },
    {
     "name": "stderr",
     "output_type": "stream",
     "text": [
      "2023-05-15 14:52:50,473 - INFO -  15211  6416 -246075.00  148   27 -217381.00 -259246.42  19.3%  26.7   38s\n"
     ]
    },
    {
     "name": "stdout",
     "output_type": "stream",
     "text": [
      " 16333  7087 -258697.94   37  101 -217381.00 -259241.48  19.3%  28.4   40s\n"
     ]
    },
    {
     "name": "stderr",
     "output_type": "stream",
     "text": [
      "2023-05-15 14:52:51,896 - INFO -  16333  7087 -258697.94   37  101 -217381.00 -259241.48  19.3%  28.4   40s\n"
     ]
    },
    {
     "name": "stdout",
     "output_type": "stream",
     "text": [
      " 17737  7577 -257257.25   67   80 -217381.00 -259241.48  19.3%  30.0   47s\n"
     ]
    },
    {
     "name": "stderr",
     "output_type": "stream",
     "text": [
      "2023-05-15 14:52:59,176 - INFO -  17737  7577 -257257.25   67   80 -217381.00 -259241.48  19.3%  30.0   47s\n"
     ]
    },
    {
     "name": "stdout",
     "output_type": "stream",
     "text": [
      " 20062  8676 -258451.00   33   79 -217381.00 -259231.91  19.3%  32.1   55s\n"
     ]
    },
    {
     "name": "stderr",
     "output_type": "stream",
     "text": [
      "2023-05-15 14:53:06,731 - INFO -  20062  8676 -258451.00   33   79 -217381.00 -259231.91  19.3%  32.1   55s\n"
     ]
    },
    {
     "name": "stdout",
     "output_type": "stream",
     "text": [
      " 24829 11049 -237523.00  139   90 -217381.00 -259231.91  19.3%  36.4   60s\n"
     ]
    },
    {
     "name": "stderr",
     "output_type": "stream",
     "text": [
      "2023-05-15 14:53:12,109 - INFO -  24829 11049 -237523.00  139   90 -217381.00 -259231.91  19.3%  36.4   60s\n"
     ]
    },
    {
     "name": "stdout",
     "output_type": "stream",
     "text": [
      " 28947 13099 -258638.80   27  121 -217381.00 -259180.76  19.2%  39.9   65s\n"
     ]
    },
    {
     "name": "stderr",
     "output_type": "stream",
     "text": [
      "2023-05-15 14:53:17,647 - INFO -  28947 13099 -258638.80   27  121 -217381.00 -259180.76  19.2%  39.9   65s\n"
     ]
    },
    {
     "name": "stdout",
     "output_type": "stream",
     "text": [
      " 29632 13161 -258352.00   47   71 -217381.00 -259180.76  19.2%  40.8   71s\n"
     ]
    },
    {
     "name": "stderr",
     "output_type": "stream",
     "text": [
      "2023-05-15 14:53:22,819 - INFO -  29632 13161 -258352.00   47   71 -217381.00 -259180.76  19.2%  40.8   71s\n"
     ]
    },
    {
     "name": "stdout",
     "output_type": "stream",
     "text": [
      " 30511 13718 -257437.60   61   67 -217381.00 -259180.76  19.2%  41.9   78s\n"
     ]
    },
    {
     "name": "stderr",
     "output_type": "stream",
     "text": [
      "2023-05-15 14:53:29,883 - INFO -  30511 13718 -257437.60   61   67 -217381.00 -259180.76  19.2%  41.9   78s\n"
     ]
    },
    {
     "name": "stdout",
     "output_type": "stream",
     "text": [
      " 30951 14296 -257435.28   62   67 -217381.00 -259180.76  19.2%  42.0   80s\n"
     ]
    },
    {
     "name": "stderr",
     "output_type": "stream",
     "text": [
      "2023-05-15 14:53:32,148 - INFO -  30951 14296 -257435.28   62   67 -217381.00 -259180.76  19.2%  42.0   80s\n"
     ]
    },
    {
     "name": "stdout",
     "output_type": "stream",
     "text": [
      " 34299 15781 infeasible  165      -217381.00 -259173.00  19.2%  44.2   85s\n"
     ]
    },
    {
     "name": "stderr",
     "output_type": "stream",
     "text": [
      "2023-05-15 14:53:36,770 - INFO -  34299 15781 infeasible  165      -217381.00 -259173.00  19.2%  44.2   85s\n"
     ]
    },
    {
     "name": "stdout",
     "output_type": "stream",
     "text": [
      " 35220 16057 -256760.00   45   64 -217381.00 -259173.00  19.2%  44.9   92s\n"
     ]
    },
    {
     "name": "stderr",
     "output_type": "stream",
     "text": [
      "2023-05-15 14:53:44,322 - INFO -  35220 16057 -256760.00   45   64 -217381.00 -259173.00  19.2%  44.9   92s\n"
     ]
    },
    {
     "name": "stdout",
     "output_type": "stream",
     "text": [
      " 36704 17085 infeasible  132      -217381.00 -259169.28  19.2%  45.6   96s\n"
     ]
    },
    {
     "name": "stderr",
     "output_type": "stream",
     "text": [
      "2023-05-15 14:53:47,974 - INFO -  36704 17085 infeasible  132      -217381.00 -259169.28  19.2%  45.6   96s\n"
     ]
    },
    {
     "name": "stdout",
     "output_type": "stream",
     "text": [
      " 40104 18622 -251312.00   66   86 -217381.00 -259158.82  19.2%  48.1  100s\n"
     ]
    },
    {
     "name": "stderr",
     "output_type": "stream",
     "text": [
      "2023-05-15 14:53:52,471 - INFO -  40104 18622 -251312.00   66   86 -217381.00 -259158.82  19.2%  48.1  100s\n"
     ]
    },
    {
     "name": "stdout",
     "output_type": "stream",
     "text": [
      " 41706 19505 -253426.00   75   48 -217381.00 -259135.95  19.2%  50.2  107s\n"
     ]
    },
    {
     "name": "stderr",
     "output_type": "stream",
     "text": [
      "2023-05-15 14:53:59,135 - INFO -  41706 19505 -253426.00   75   48 -217381.00 -259135.95  19.2%  50.2  107s\n"
     ]
    },
    {
     "name": "stdout",
     "output_type": "stream",
     "text": [
      " 42792 19511 -258347.41   39  115 -217381.00 -259135.95  19.2%  50.9  111s\n"
     ]
    },
    {
     "name": "stderr",
     "output_type": "stream",
     "text": [
      "2023-05-15 14:54:03,099 - INFO -  42792 19511 -258347.41   39  115 -217381.00 -259135.95  19.2%  50.9  111s\n"
     ]
    },
    {
     "name": "stdout",
     "output_type": "stream",
     "text": [
      " 45167 20805 -239926.34   91   55 -217381.00 -259135.95  19.2%  52.6  115s\n"
     ]
    },
    {
     "name": "stderr",
     "output_type": "stream",
     "text": [
      "2023-05-15 14:54:06,713 - INFO -  45167 20805 -239926.34   91   55 -217381.00 -259135.95  19.2%  52.6  115s\n"
     ]
    },
    {
     "name": "stdout",
     "output_type": "stream",
     "text": [
      " 48220 22357 -256082.25   40   79 -217381.00 -259112.00  19.2%  54.2  124s\n"
     ]
    },
    {
     "name": "stderr",
     "output_type": "stream",
     "text": [
      "2023-05-15 14:54:16,457 - INFO -  48220 22357 -256082.25   40   79 -217381.00 -259112.00  19.2%  54.2  124s\n"
     ]
    },
    {
     "name": "stdout",
     "output_type": "stream",
     "text": [
      " 48515 22357 infeasible  148      -217381.00 -259112.00  19.2%  54.3  125s\n"
     ]
    },
    {
     "name": "stderr",
     "output_type": "stream",
     "text": [
      "2023-05-15 14:54:16,701 - INFO -  48515 22357 infeasible  148      -217381.00 -259112.00  19.2%  54.3  125s\n"
     ]
    },
    {
     "name": "stdout",
     "output_type": "stream",
     "text": [
      " 51218 23582 -244181.00  120   74 -217381.00 -259112.00  19.2%  56.6  130s\n"
     ]
    },
    {
     "name": "stderr",
     "output_type": "stream",
     "text": [
      "2023-05-15 14:54:21,807 - INFO -  51218 23582 -244181.00  120   74 -217381.00 -259112.00  19.2%  56.6  130s\n"
     ]
    },
    {
     "name": "stdout",
     "output_type": "stream",
     "text": [
      " 54233 24947 -250125.00   60   61 -217381.00 -259064.00  19.2%  58.3  140s\n"
     ]
    },
    {
     "name": "stderr",
     "output_type": "stream",
     "text": [
      "2023-05-15 14:54:32,198 - INFO -  54233 24947 -250125.00   60   61 -217381.00 -259064.00  19.2%  58.3  140s\n"
     ]
    },
    {
     "name": "stdout",
     "output_type": "stream",
     "text": [
      " 55827 26001 -238748.26   85   72 -217381.00 -259054.68  19.2%  59.7  145s\n"
     ]
    },
    {
     "name": "stderr",
     "output_type": "stream",
     "text": [
      "2023-05-15 14:54:37,094 - INFO -  55827 26001 -238748.26   85   72 -217381.00 -259054.68  19.2%  59.7  145s\n"
     ]
    },
    {
     "name": "stdout",
     "output_type": "stream",
     "text": [
      " 58861 27162 infeasible  127      -217381.00 -259052.00  19.2%  62.0  151s\n"
     ]
    },
    {
     "name": "stderr",
     "output_type": "stream",
     "text": [
      "2023-05-15 14:54:43,244 - INFO -  58861 27162 infeasible  127      -217381.00 -259052.00  19.2%  62.0  151s\n"
     ]
    },
    {
     "name": "stdout",
     "output_type": "stream",
     "text": [
      " 60313 27476 -251610.00   81   37 -217381.00 -259052.00  19.2%  62.8  159s\n"
     ]
    },
    {
     "name": "stderr",
     "output_type": "stream",
     "text": [
      "2023-05-15 14:54:50,935 - INFO -  60313 27476 -251610.00   81   37 -217381.00 -259052.00  19.2%  62.8  159s\n"
     ]
    },
    {
     "name": "stdout",
     "output_type": "stream",
     "text": [
      " 61089 28212     cutoff  114      -217381.00 -259048.00  19.2%  62.9  163s\n"
     ]
    },
    {
     "name": "stderr",
     "output_type": "stream",
     "text": [
      "2023-05-15 14:54:54,827 - INFO -  61089 28212     cutoff  114      -217381.00 -259048.00  19.2%  62.9  163s\n"
     ]
    },
    {
     "name": "stdout",
     "output_type": "stream",
     "text": [
      " 62680 28995 -250552.64   77  100 -217381.00 -259043.00  19.2%  63.5  168s\n"
     ]
    },
    {
     "name": "stderr",
     "output_type": "stream",
     "text": [
      "2023-05-15 14:54:59,914 - INFO -  62680 28995 -250552.64   77  100 -217381.00 -259043.00  19.2%  63.5  168s\n"
     ]
    },
    {
     "name": "stdout",
     "output_type": "stream",
     "text": [
      " 64262 29848 -253995.13   65   79 -217381.00 -259034.20  19.2%  64.4  172s\n"
     ]
    },
    {
     "name": "stderr",
     "output_type": "stream",
     "text": [
      "2023-05-15 14:55:04,001 - INFO -  64262 29848 -253995.13   65   79 -217381.00 -259034.20  19.2%  64.4  172s\n"
     ]
    },
    {
     "name": "stdout",
     "output_type": "stream",
     "text": [
      " 66075 30863 -258544.51   38  105 -217381.00 -259008.00  19.1%  64.9  175s\n"
     ]
    },
    {
     "name": "stderr",
     "output_type": "stream",
     "text": [
      "2023-05-15 14:55:07,049 - INFO -  66075 30863 -258544.51   38  105 -217381.00 -259008.00  19.1%  64.9  175s\n"
     ]
    },
    {
     "name": "stdout",
     "output_type": "stream",
     "text": [
      " 68133 30972 infeasible  106      -217381.00 -259008.00  19.1%  65.2  185s\n"
     ]
    },
    {
     "name": "stderr",
     "output_type": "stream",
     "text": [
      "2023-05-15 14:55:17,119 - INFO -  68133 30972 infeasible  106      -217381.00 -259008.00  19.1%  65.2  185s\n"
     ]
    },
    {
     "name": "stdout",
     "output_type": "stream",
     "text": [
      " 70097 32655 -256465.00   47  109 -217381.00 -259006.65  19.1%  66.1  193s\n"
     ]
    },
    {
     "name": "stderr",
     "output_type": "stream",
     "text": [
      "2023-05-15 14:55:24,955 - INFO -  70097 32655 -256465.00   47  109 -217381.00 -259006.65  19.1%  66.1  193s\n"
     ]
    },
    {
     "name": "stdout",
     "output_type": "stream",
     "text": [
      " 71872 33578 -255150.69   95  105 -217381.00 -258995.00  19.1%  66.8  196s\n"
     ]
    },
    {
     "name": "stderr",
     "output_type": "stream",
     "text": [
      "2023-05-15 14:55:28,171 - INFO -  71872 33578 -255150.69   95  105 -217381.00 -258995.00  19.1%  66.8  196s\n"
     ]
    },
    {
     "name": "stdout",
     "output_type": "stream",
     "text": [
      " 73745 34476 -253935.00   46  109 -217381.00 -258978.00  19.1%  67.9  201s\n"
     ]
    },
    {
     "name": "stderr",
     "output_type": "stream",
     "text": [
      "2023-05-15 14:55:32,912 - INFO -  73745 34476 -253935.00   46  109 -217381.00 -258978.00  19.1%  67.9  201s\n"
     ]
    },
    {
     "name": "stdout",
     "output_type": "stream",
     "text": [
      " 77511 35894 -257087.28   55  119 -217381.00 -258941.00  19.1%  69.4  214s\n"
     ]
    },
    {
     "name": "stderr",
     "output_type": "stream",
     "text": [
      "2023-05-15 14:55:46,005 - INFO -  77511 35894 -257087.28   55  119 -217381.00 -258941.00  19.1%  69.4  214s\n"
     ]
    },
    {
     "name": "stdout",
     "output_type": "stream",
     "text": [
      " 78705 36124 -256473.78   64   98 -217381.00 -258941.00  19.1%  69.7  219s\n"
     ]
    },
    {
     "name": "stderr",
     "output_type": "stream",
     "text": [
      "2023-05-15 14:55:51,365 - INFO -  78705 36124 -256473.78   64   98 -217381.00 -258941.00  19.1%  69.7  219s\n"
     ]
    },
    {
     "name": "stdout",
     "output_type": "stream",
     "text": [
      " 79258 36952 -255587.28   70  126 -217381.00 -258941.00  19.1%  70.0  223s\n"
     ]
    },
    {
     "name": "stderr",
     "output_type": "stream",
     "text": [
      "2023-05-15 14:55:55,317 - INFO -  79258 36952 -255587.28   70  126 -217381.00 -258941.00  19.1%  70.0  223s\n"
     ]
    },
    {
     "name": "stdout",
     "output_type": "stream",
     "text": [
      " 81040 37806 -249378.77   92   64 -217381.00 -258935.00  19.1%  70.7  228s\n"
     ]
    },
    {
     "name": "stderr",
     "output_type": "stream",
     "text": [
      "2023-05-15 14:55:59,864 - INFO -  81040 37806 -249378.77   92   64 -217381.00 -258935.00  19.1%  70.7  228s\n"
     ]
    },
    {
     "name": "stdout",
     "output_type": "stream",
     "text": [
      " 82900 39023 -252175.00   46  100 -217381.00 -258928.00  19.1%  71.5  232s\n"
     ]
    },
    {
     "name": "stderr",
     "output_type": "stream",
     "text": [
      "2023-05-15 14:56:04,508 - INFO -  82900 39023 -252175.00   46  100 -217381.00 -258928.00  19.1%  71.5  232s\n"
     ]
    },
    {
     "name": "stdout",
     "output_type": "stream",
     "text": [
      " 85459 39349 infeasible  141      -217381.00 -258916.00  19.1%  72.1  244s\n"
     ]
    },
    {
     "name": "stderr",
     "output_type": "stream",
     "text": [
      "2023-05-15 14:56:16,305 - INFO -  85459 39349 infeasible  141      -217381.00 -258916.00  19.1%  72.1  244s\n"
     ]
    },
    {
     "name": "stdout",
     "output_type": "stream",
     "text": [
      " 86146 40413 -256645.45   53  100 -217381.00 -258916.00  19.1%  72.2  249s\n"
     ]
    },
    {
     "name": "stderr",
     "output_type": "stream",
     "text": [
      "2023-05-15 14:56:21,029 - INFO -  86146 40413 -256645.45   53  100 -217381.00 -258916.00  19.1%  72.2  249s\n"
     ]
    },
    {
     "name": "stdout",
     "output_type": "stream",
     "text": [
      " 88239 41347 -225659.39  127   86 -217381.00 -258909.00  19.1%  72.6  254s\n"
     ]
    },
    {
     "name": "stderr",
     "output_type": "stream",
     "text": [
      "2023-05-15 14:56:26,188 - INFO -  88239 41347 -225659.39  127   86 -217381.00 -258909.00  19.1%  72.6  254s\n"
     ]
    },
    {
     "name": "stdout",
     "output_type": "stream",
     "text": [
      " 90097 42177 -240801.25   83   97 -217381.00 -258908.00  19.1%  73.1  259s\n"
     ]
    },
    {
     "name": "stderr",
     "output_type": "stream",
     "text": [
      "2023-05-15 14:56:30,716 - INFO -  90097 42177 -240801.25   83   97 -217381.00 -258908.00  19.1%  73.1  259s\n"
     ]
    },
    {
     "name": "stdout",
     "output_type": "stream",
     "text": [
      " 91959 42916 -257197.38   49  128 -217381.00 -258904.00  19.1%  73.9  263s\n"
     ]
    },
    {
     "name": "stderr",
     "output_type": "stream",
     "text": [
      "2023-05-15 14:56:35,146 - INFO -  91959 42916 -257197.38   49  128 -217381.00 -258904.00  19.1%  73.9  263s\n"
     ]
    },
    {
     "name": "stdout",
     "output_type": "stream",
     "text": [
      " 93540 43025 -258609.97   36  112 -217381.00 -258904.00  19.1%  74.7  274s\n"
     ]
    },
    {
     "name": "stderr",
     "output_type": "stream",
     "text": [
      "2023-05-15 14:56:46,524 - INFO -  93540 43025 -258609.97   36  112 -217381.00 -258904.00  19.1%  74.7  274s\n"
     ]
    },
    {
     "name": "stdout",
     "output_type": "stream",
     "text": [
      " 93617 43025 -258525.09   38  104 -217381.00 -258904.00  19.1%  74.7  275s\n"
     ]
    },
    {
     "name": "stderr",
     "output_type": "stream",
     "text": [
      "2023-05-15 14:56:46,704 - INFO -  93617 43025 -258525.09   38  104 -217381.00 -258904.00  19.1%  74.7  275s\n"
     ]
    },
    {
     "name": "stdout",
     "output_type": "stream",
     "text": [
      " 93766 43363 -258441.06   37  104 -217381.00 -258904.00  19.1%  74.8  287s\n"
     ]
    },
    {
     "name": "stderr",
     "output_type": "stream",
     "text": [
      "2023-05-15 14:56:59,192 - INFO -  93766 43363 -258441.06   37  104 -217381.00 -258904.00  19.1%  74.8  287s\n"
     ]
    },
    {
     "name": "stdout",
     "output_type": "stream",
     "text": [
      " 94444 44256 -256381.00   53   78 -217381.00 -258904.00  19.1%  75.2  291s\n"
     ]
    },
    {
     "name": "stderr",
     "output_type": "stream",
     "text": [
      "2023-05-15 14:57:03,033 - INFO -  94444 44256 -256381.00   53   78 -217381.00 -258904.00  19.1%  75.2  291s\n"
     ]
    },
    {
     "name": "stdout",
     "output_type": "stream",
     "text": [
      " 96373 45013 -240974.64  128   40 -217381.00 -258897.03  19.1%  75.7  295s\n"
     ]
    },
    {
     "name": "stderr",
     "output_type": "stream",
     "text": [
      "2023-05-15 14:57:07,414 - INFO -  96373 45013 -240974.64  128   40 -217381.00 -258897.03  19.1%  75.7  295s\n"
     ]
    },
    {
     "name": "stdout",
     "output_type": "stream",
     "text": [
      " 99611 46522 infeasible  146      -217381.00 -258890.86  19.1%  77.1  303s\n"
     ]
    },
    {
     "name": "stderr",
     "output_type": "stream",
     "text": [
      "2023-05-15 14:57:14,742 - INFO -  99611 46522 infeasible  146      -217381.00 -258890.86  19.1%  77.1  303s\n"
     ]
    },
    {
     "name": "stdout",
     "output_type": "stream",
     "text": [
      " 101203 47212 infeasible   92      -217381.00 -258888.00  19.1%  77.8  307s\n"
     ]
    },
    {
     "name": "stderr",
     "output_type": "stream",
     "text": [
      "2023-05-15 14:57:18,867 - INFO -  101203 47212 infeasible   92      -217381.00 -258888.00  19.1%  77.8  307s\n"
     ]
    },
    {
     "name": "stdout",
     "output_type": "stream",
     "text": [
      " 102814 48150 -233810.00   94   86 -217381.00 -258886.00  19.1%  78.4  312s\n"
     ]
    },
    {
     "name": "stderr",
     "output_type": "stream",
     "text": [
      "2023-05-15 14:57:23,870 - INFO -  102814 48150 -233810.00   94   86 -217381.00 -258886.00  19.1%  78.4  312s\n"
     ]
    },
    {
     "name": "stdout",
     "output_type": "stream",
     "text": [
      " 104827 48949 -244222.42   79  115 -217381.00 -258881.00  19.1%  78.6  317s\n"
     ]
    },
    {
     "name": "stderr",
     "output_type": "stream",
     "text": [
      "2023-05-15 14:57:28,943 - INFO -  104827 48949 -244222.42   79  115 -217381.00 -258881.00  19.1%  78.6  317s\n"
     ]
    },
    {
     "name": "stdout",
     "output_type": "stream",
     "text": [
      " 106414 49725 -254398.00   63  135 -217381.00 -258868.00  19.1%  79.1  321s\n"
     ]
    },
    {
     "name": "stderr",
     "output_type": "stream",
     "text": [
      "2023-05-15 14:57:33,382 - INFO -  106414 49725 -254398.00   63  135 -217381.00 -258868.00  19.1%  79.1  321s\n"
     ]
    },
    {
     "name": "stdout",
     "output_type": "stream",
     "text": [
      " 108052 50140 -258508.32   39  113 -217381.00 -258868.00  19.1%  79.6  326s\n"
     ]
    },
    {
     "name": "stderr",
     "output_type": "stream",
     "text": [
      "2023-05-15 14:57:38,000 - INFO -  108052 50140 -258508.32   39  113 -217381.00 -258868.00  19.1%  79.6  326s\n"
     ]
    },
    {
     "name": "stdout",
     "output_type": "stream",
     "text": [
      " 108894 50964 -258152.00   52  115 -217381.00 -258868.00  19.1%  79.9  330s\n"
     ]
    },
    {
     "name": "stderr",
     "output_type": "stream",
     "text": [
      "2023-05-15 14:57:42,632 - INFO -  108894 50964 -258152.00   52  115 -217381.00 -258868.00  19.1%  79.9  330s\n"
     ]
    },
    {
     "name": "stdout",
     "output_type": "stream",
     "text": [
      " 110549 51693 -235190.58  113  102 -217381.00 -258858.00  19.1%  80.4  335s\n"
     ]
    },
    {
     "name": "stderr",
     "output_type": "stream",
     "text": [
      "2023-05-15 14:57:47,392 - INFO -  110549 51693 -235190.58  113  102 -217381.00 -258858.00  19.1%  80.4  335s\n"
     ]
    },
    {
     "name": "stdout",
     "output_type": "stream",
     "text": [
      " 112240 52672 -246662.91   73   98 -217381.00 -258849.59  19.1%  80.9  340s\n"
     ]
    },
    {
     "name": "stderr",
     "output_type": "stream",
     "text": [
      "2023-05-15 14:57:52,557 - INFO -  112240 52672 -246662.91   73   98 -217381.00 -258849.59  19.1%  80.9  340s\n"
     ]
    },
    {
     "name": "stdout",
     "output_type": "stream",
     "text": [
      " 114208 53551 -239137.23  109   57 -217381.00 -258836.00  19.1%  81.5  347s\n"
     ]
    },
    {
     "name": "stderr",
     "output_type": "stream",
     "text": [
      "2023-05-15 14:57:58,804 - INFO -  114208 53551 -239137.23  109   57 -217381.00 -258836.00  19.1%  81.5  347s\n"
     ]
    },
    {
     "name": "stdout",
     "output_type": "stream",
     "text": [
      " 115956 54345 -258314.00   34  106 -217381.00 -258833.04  19.1%  81.9  350s\n"
     ]
    },
    {
     "name": "stderr",
     "output_type": "stream",
     "text": [
      "2023-05-15 14:58:02,082 - INFO -  115956 54345 -258314.00   34  106 -217381.00 -258833.04  19.1%  81.9  350s\n"
     ]
    },
    {
     "name": "stdout",
     "output_type": "stream",
     "text": [
      " 117588 55141 -248411.10   64   86 -217381.00 -258833.04  19.1%  82.4  356s\n"
     ]
    },
    {
     "name": "stderr",
     "output_type": "stream",
     "text": [
      "2023-05-15 14:58:07,811 - INFO -  117588 55141 -248411.10   64   86 -217381.00 -258833.04  19.1%  82.4  356s\n"
     ]
    },
    {
     "name": "stdout",
     "output_type": "stream",
     "text": [
      " 119246 55927     cutoff  110      -217381.00 -258821.92  19.1%  83.0  360s\n"
     ]
    },
    {
     "name": "stderr",
     "output_type": "stream",
     "text": [
      "2023-05-15 14:58:12,201 - INFO -  119246 55927     cutoff  110      -217381.00 -258821.92  19.1%  83.0  360s\n"
     ]
    },
    {
     "name": "stdout",
     "output_type": "stream",
     "text": [
      " 121044 56198 -257367.82   40  123 -217381.00 -258821.92  19.1%  83.5  367s\n"
     ]
    },
    {
     "name": "stderr",
     "output_type": "stream",
     "text": [
      "2023-05-15 14:58:19,591 - INFO -  121044 56198 -257367.82   40  123 -217381.00 -258821.92  19.1%  83.5  367s\n"
     ]
    },
    {
     "name": "stdout",
     "output_type": "stream",
     "text": [
      " 121689 56207 -221042.00  154   36 -217381.00 -258821.92  19.1%  83.8  374s\n"
     ]
    },
    {
     "name": "stderr",
     "output_type": "stream",
     "text": [
      "2023-05-15 14:58:26,413 - INFO -  121689 56207 -221042.00  154   36 -217381.00 -258821.92  19.1%  83.8  374s\n"
     ]
    },
    {
     "name": "stdout",
     "output_type": "stream",
     "text": [
      " 121691 56208 -250780.00   98   64 -217381.00 -258821.92  19.1%  83.8  376s\n"
     ]
    },
    {
     "name": "stderr",
     "output_type": "stream",
     "text": [
      "2023-05-15 14:58:27,810 - INFO -  121691 56208 -250780.00   98   64 -217381.00 -258821.92  19.1%  83.8  376s\n"
     ]
    },
    {
     "name": "stdout",
     "output_type": "stream",
     "text": [
      " 121702 56216 -256814.00   36   83 -217381.00 -258821.92  19.1%  83.7  380s\n"
     ]
    },
    {
     "name": "stderr",
     "output_type": "stream",
     "text": [
      "2023-05-15 14:58:31,695 - INFO -  121702 56216 -256814.00   36   83 -217381.00 -258821.92  19.1%  83.7  380s\n"
     ]
    },
    {
     "name": "stdout",
     "output_type": "stream",
     "text": [
      " 121706 56218 -257772.00   45   80 -217381.00 -258821.92  19.1%  83.7  394s\n"
     ]
    },
    {
     "name": "stderr",
     "output_type": "stream",
     "text": [
      "2023-05-15 14:58:46,325 - INFO -  121706 56218 -257772.00   45   80 -217381.00 -258821.92  19.1%  83.7  394s\n"
     ]
    },
    {
     "name": "stdout",
     "output_type": "stream",
     "text": [
      " 121707 56222 -258821.92   28   80 -217381.00 -258821.92  19.1%  83.8  397s\n"
     ]
    },
    {
     "name": "stderr",
     "output_type": "stream",
     "text": [
      "2023-05-15 14:58:49,119 - INFO -  121707 56222 -258821.92   28   80 -217381.00 -258821.92  19.1%  83.8  397s\n"
     ]
    },
    {
     "name": "stdout",
     "output_type": "stream",
     "text": [
      " 121725 56228 -257456.00   32   86 -217381.00 -258753.00  19.0%  83.9  400s\n"
     ]
    },
    {
     "name": "stderr",
     "output_type": "stream",
     "text": [
      "2023-05-15 14:58:51,701 - INFO -  121725 56228 -257456.00   32   86 -217381.00 -258753.00  19.0%  83.9  400s\n"
     ]
    },
    {
     "name": "stdout",
     "output_type": "stream",
     "text": [
      "H121736 53412                    -217399.0000 -258753.00  19.0%  83.9  400s\n"
     ]
    },
    {
     "name": "stderr",
     "output_type": "stream",
     "text": [
      "2023-05-15 14:58:52,575 - INFO - H121736 53412                    -217399.0000 -258753.00  19.0%  83.9  400s\n"
     ]
    }
   ],
   "source": [
    "from main_partisan_ordering import *\n",
    "\n",
    "config_path = \"config-LA-LogE_bvap_gradient_cuts.json\"\n",
    "state = 'MS'\n",
    "result = main_partisan_ordering(state, config_path)"
   ]
  },
  {
   "cell_type": "code",
   "execution_count": 2,
   "metadata": {},
   "outputs": [
    {
     "data": {
      "text/plain": [
       "[5, 4, 3, 2, 1]"
      ]
     },
     "execution_count": 2,
     "metadata": {},
     "output_type": "execute_result"
    }
   ],
   "source": [
    "k = 6\n",
    "list( range(k-1, 0, -1))"
   ]
  },
  {
   "cell_type": "code",
   "execution_count": 6,
   "metadata": {},
   "outputs": [
    {
     "data": {
      "text/plain": [
       "[0, 1, 2, 3, 4, 5]"
      ]
     },
     "execution_count": 6,
     "metadata": {},
     "output_type": "execute_result"
    }
   ],
   "source": [
    "list(range(6))"
   ]
  },
  {
   "cell_type": "code",
   "execution_count": null,
   "metadata": {},
   "outputs": [],
   "source": [
    "import json\n",
    "import os\n",
    "import gurobipy\n",
    "import labeling\n",
    "import partisan\n",
    "\n",
    "\n",
    "# Start building your model\n",
    "m = gp.Model()\n",
    "\n",
    "# Add base constraints\n",
    "labeling.add_base_constraints(m, population, L, U, k)\n",
    "\n",
    "# Add partisan constraints with D20 ordering\n",
    "partisan.add_partisan(m, G, k, U, ordering=True)\n",
    "\n",
    "# Add threshold objective\n",
    "partisan.add_threshold_objective(m, bounds, L, k)\n",
    "\n",
    "# Load warm start\n",
    "warm_start = load_warm_start()  # Assuming this function exists and returns warm start values\n",
    "\n",
    "# Inject warm start\n",
    "inject_warm_start(m, warm_start)  # Assuming this function exists and sets the warm start values to the model\n",
    "\n",
    "# Set time limit\n",
    "m.Params.TimeLimit = 600\n",
    "\n",
    "# Load JSON file or create a new one if it doesn't exist\n",
    "bounds_path = \"../data/bounds\"\n",
    "os.makedirs(bounds_path, exist_ok=True)\n",
    "filename = f\"{bounds_path}/{state}_partisan_bounds.json\"\n",
    "if os.path.exists(filename):\n",
    "    with open(filename, 'r') as f:\n",
    "        data = json.load(f)\n",
    "else:\n",
    "    data = {\"Bounds\": {}}\n",
    "\n",
    "# List of variables\n",
    "dem_list = [m._D20, m._D16]\n",
    "rep_list = [m._R20, m._R16]\n",
    "\n",
    "def max_var(m,var,i):\n",
    "        # Set and run for MAXIMIZE\n",
    "        m.setObjective(var[i], GRB.MAXIMIZE)\n",
    "        m.update()\n",
    "        m.optimize() \n",
    "        \n",
    "        data[\"Bounds\"][var[i].VarName]['ub'] = m.ObjBound\n",
    "        data[\"Bounds\"][var[i].VarName]['max_soln']=m.ObjVal\n",
    "        m.addConstr(var[i] <= m.ObjBound)\n",
    "        m.update()\n",
    "        \n",
    "def min_var(m,var,i):\n",
    "        # Set and run for MINIMIZE\n",
    "        m.setObjective(var[i], GRB.MINIMIZE)\n",
    "        m.update()\n",
    "        m.optimize()\n",
    "       \n",
    "        data[\"Bounds\"][var[i].VarName]['lb' = m.ObjBound\n",
    "        data[\"Bounds\"][var[i].VarName]['min_soln']=m.ObjVal\n",
    "        m.addConstr(var[i] >= m.ObjBound)\n",
    "\n",
    "for i in range(k, 0, -1):  # Assuming you meant to iterate in reverse order\n",
    "    for var in dem_list:\n",
    "        max_var(m,var,i)\n",
    "            \n",
    "    for var in rep_list: \n",
    "        min_var(m,var,i)\n",
    "                                       \n",
    "for i in range(k):\n",
    "    for var in dem_list:\n",
    "        min_var(m,var,i)\n",
    "            \n",
    "    for var in rep_list: \n",
    "        max_var(m,var,i)   \n",
    "                                       \n",
    "\n",
    "# Save data to JSON file\n",
    "with open(filename, 'w') as f:\n",
    "    json.dump(data, f, indent=4)\n"
   ]
  },
  {
   "cell_type": "code",
   "execution_count": 13,
   "metadata": {},
   "outputs": [
    {
     "data": {
      "text/plain": [
       "[6, 5, 4, 3, 2, 1]"
      ]
     },
     "execution_count": 13,
     "metadata": {},
     "output_type": "execute_result"
    }
   ],
   "source": [
    "k = 6\n",
    "list(range(k, 0, -1))"
   ]
  },
  {
   "cell_type": "code",
   "execution_count": null,
   "metadata": {},
   "outputs": [],
   "source": []
  }
 ],
 "metadata": {
  "kernelspec": {
   "display_name": "Python 3",
   "language": "python",
   "name": "python3"
  },
  "language_info": {
   "codemirror_mode": {
    "name": "ipython",
    "version": 3
   },
   "file_extension": ".py",
   "mimetype": "text/x-python",
   "name": "python",
   "nbconvert_exporter": "python",
   "pygments_lexer": "ipython3",
   "version": "3.8.5"
  }
 },
 "nbformat": 4,
 "nbformat_minor": 4
}
