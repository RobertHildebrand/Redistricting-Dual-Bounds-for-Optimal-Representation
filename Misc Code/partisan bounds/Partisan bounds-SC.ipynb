{
 "cells": [
  {
   "cell_type": "code",
   "execution_count": 1,
   "metadata": {},
   "outputs": [],
   "source": [
    "%load_ext autoreload\n",
    "%autoreload 2"
   ]
  },
  {
   "cell_type": "code",
   "execution_count": 1,
   "metadata": {},
   "outputs": [
    {
     "name": "stderr",
     "output_type": "stream",
     "text": [
      "2023-05-12 09:12:19,594 - INFO - Note: NumExpr detected 48 cores but \"NUMEXPR_MAX_THREADS\" not set, so enforcing safe limit of 8.\n",
      "2023-05-12 09:12:19,597 - INFO - NumExpr defaulting to 8 threads.\n"
     ]
    },
    {
     "name": "stdout",
     "output_type": "stream",
     "text": [
      "Reading config from config-LA-LogE_bvap_gradient_cuts.json\n",
      "Experiments to run:\n",
      "['LA_LogE_bounds_20_hours']\n",
      "In run LA_LogE_bounds_20_hours using config: {'state': 'LA', 'level': 'county', 'base': 'labeling', 'obj': 'LogEPWL_bvap_bounds', 'R': 45, 'dist_bounds': False, 'tlimit': 72000, 'fixing': False, 'contiguity': 'lcut', 'symmetry': 'none', 'extended': False, 'order': 'bvap', 'heuristic': True, 'lp': False, 'obj_order': False, 'index': 0}.\n",
      "../data/county/dual_graphs/county45.json\n",
      "\n",
      "L = 658084 , U = 804323 , k = 7\n",
      "Academic license - for non-commercial use only - expires 2023-09-22\n"
     ]
    },
    {
     "name": "stderr",
     "output_type": "stream",
     "text": [
      "2023-05-12 09:12:20,360 - INFO - Academic license - for non-commercial use only - expires 2023-09-22\n"
     ]
    },
    {
     "name": "stdout",
     "output_type": "stream",
     "text": [
      "Using license file C:\\Users\\robert\\gurobi.lic\n"
     ]
    },
    {
     "name": "stderr",
     "output_type": "stream",
     "text": [
      "2023-05-12 09:12:20,362 - INFO - Using license file C:\\Users\\robert\\gurobi.lic\n"
     ]
    },
    {
     "name": "stdout",
     "output_type": "stream",
     "text": [
      "Loading best known solution from ..\\data\\bestruns\\SC-county-BNPWL-7.json\n",
      "Ordering warm start with respect to  D20\n",
      "Changed value of parameter TimeLimit to 600.0\n"
     ]
    },
    {
     "name": "stderr",
     "output_type": "stream",
     "text": [
      "2023-05-12 09:12:20,397 - INFO - Changed value of parameter TimeLimit to 600.0\n"
     ]
    },
    {
     "name": "stdout",
     "output_type": "stream",
     "text": [
      "   Prev: inf  Min: 0.0  Max: inf  Default: inf\n"
     ]
    },
    {
     "name": "stderr",
     "output_type": "stream",
     "text": [
      "2023-05-12 09:12:20,399 - INFO -    Prev: inf  Min: 0.0  Max: inf  Default: inf\n"
     ]
    },
    {
     "name": "stdout",
     "output_type": "stream",
     "text": [
      "Changed value of parameter lazyConstraints to 1\n"
     ]
    },
    {
     "name": "stderr",
     "output_type": "stream",
     "text": [
      "2023-05-12 09:12:20,400 - INFO - Changed value of parameter lazyConstraints to 1\n"
     ]
    },
    {
     "name": "stdout",
     "output_type": "stream",
     "text": [
      "   Prev: 0  Min: 0  Max: 1  Default: 0\n"
     ]
    },
    {
     "name": "stderr",
     "output_type": "stream",
     "text": [
      "2023-05-12 09:12:20,401 - INFO -    Prev: 0  Min: 0  Max: 1  Default: 0\n"
     ]
    },
    {
     "name": "stdout",
     "output_type": "stream",
     "text": [
      "Changed value of parameter Method to 3\n"
     ]
    },
    {
     "name": "stderr",
     "output_type": "stream",
     "text": [
      "2023-05-12 09:12:20,402 - INFO - Changed value of parameter Method to 3\n"
     ]
    },
    {
     "name": "stdout",
     "output_type": "stream",
     "text": [
      "   Prev: -1  Min: -1  Max: 5  Default: -1\n"
     ]
    },
    {
     "name": "stderr",
     "output_type": "stream",
     "text": [
      "2023-05-12 09:12:20,403 - INFO -    Prev: -1  Min: -1  Max: 5  Default: -1\n"
     ]
    },
    {
     "name": "stdout",
     "output_type": "stream",
     "text": [
      "0\n",
      "{0: <gurobi.Var D200>, 1: <gurobi.Var D201>, 2: <gurobi.Var D202>, 3: <gurobi.Var D203>, 4: <gurobi.Var D204>, 5: <gurobi.Var D205>, 6: <gurobi.Var D206>}\n",
      "max D200\n",
      "Gurobi Optimizer version 9.1.2 build v9.1.2rc0 (win64)\n"
     ]
    },
    {
     "name": "stderr",
     "output_type": "stream",
     "text": [
      "2023-05-12 09:12:20,407 - INFO - Gurobi Optimizer version 9.1.2 build v9.1.2rc0 (win64)\n"
     ]
    },
    {
     "name": "stdout",
     "output_type": "stream",
     "text": [
      "Thread count: 24 physical cores, 48 logical processors, using up to 24 threads\n"
     ]
    },
    {
     "name": "stderr",
     "output_type": "stream",
     "text": [
      "2023-05-12 09:12:20,408 - INFO - Thread count: 24 physical cores, 48 logical processors, using up to 24 threads\n"
     ]
    },
    {
     "name": "stdout",
     "output_type": "stream",
     "text": [
      "Optimize a model with 108 rows, 686 columns and 2336 nonzeros\n"
     ]
    },
    {
     "name": "stderr",
     "output_type": "stream",
     "text": [
      "2023-05-12 09:12:20,410 - INFO - Optimize a model with 108 rows, 686 columns and 2336 nonzeros\n"
     ]
    },
    {
     "name": "stdout",
     "output_type": "stream",
     "text": [
      "Model fingerprint: 0x8869fdc9\n"
     ]
    },
    {
     "name": "stderr",
     "output_type": "stream",
     "text": [
      "2023-05-12 09:12:20,411 - INFO - Model fingerprint: 0x8869fdc9\n"
     ]
    },
    {
     "name": "stdout",
     "output_type": "stream",
     "text": [
      "Variable types: 42 continuous, 644 integer (644 binary)\n"
     ]
    },
    {
     "name": "stderr",
     "output_type": "stream",
     "text": [
      "2023-05-12 09:12:20,412 - INFO - Variable types: 42 continuous, 644 integer (644 binary)\n"
     ]
    },
    {
     "name": "stdout",
     "output_type": "stream",
     "text": [
      "Coefficient statistics:\n"
     ]
    },
    {
     "name": "stderr",
     "output_type": "stream",
     "text": [
      "2023-05-12 09:12:20,413 - INFO - Coefficient statistics:\n"
     ]
    },
    {
     "name": "stdout",
     "output_type": "stream",
     "text": [
      "  Matrix range     [1e+00, 5e+05]\n"
     ]
    },
    {
     "name": "stderr",
     "output_type": "stream",
     "text": [
      "2023-05-12 09:12:20,414 - INFO -   Matrix range     [1e+00, 5e+05]\n"
     ]
    },
    {
     "name": "stdout",
     "output_type": "stream",
     "text": [
      "  Objective range  [1e+00, 1e+00]\n"
     ]
    },
    {
     "name": "stderr",
     "output_type": "stream",
     "text": [
      "2023-05-12 09:12:20,415 - INFO -   Objective range  [1e+00, 1e+00]\n"
     ]
    },
    {
     "name": "stdout",
     "output_type": "stream",
     "text": [
      "  Bounds range     [1e+00, 8e+05]\n"
     ]
    },
    {
     "name": "stderr",
     "output_type": "stream",
     "text": [
      "2023-05-12 09:12:20,416 - INFO -   Bounds range     [1e+00, 8e+05]\n"
     ]
    },
    {
     "name": "stdout",
     "output_type": "stream",
     "text": [
      "  RHS range        [1e+00, 8e+05]\n"
     ]
    },
    {
     "name": "stderr",
     "output_type": "stream",
     "text": [
      "2023-05-12 09:12:20,418 - INFO -   RHS range        [1e+00, 8e+05]\n"
     ]
    },
    {
     "name": "stdout",
     "output_type": "stream",
     "text": [
      "\n"
     ]
    },
    {
     "name": "stderr",
     "output_type": "stream",
     "text": [
      "2023-05-12 09:12:20,419 - INFO - \n"
     ]
    },
    {
     "name": "stdout",
     "output_type": "stream",
     "text": [
      "Warning: Completing partial solution with 598 unfixed non-continuous variables out of 644\n"
     ]
    },
    {
     "name": "stderr",
     "output_type": "stream",
     "text": [
      "2023-05-12 09:12:20,420 - INFO - Warning: Completing partial solution with 598 unfixed non-continuous variables out of 644\n"
     ]
    },
    {
     "name": "stdout",
     "output_type": "stream",
     "text": [
      "User MIP start produced solution with objective 126679 (0.02s)\n"
     ]
    },
    {
     "name": "stderr",
     "output_type": "stream",
     "text": [
      "2023-05-12 09:12:20,426 - INFO - User MIP start produced solution with objective 126679 (0.02s)\n"
     ]
    },
    {
     "name": "stdout",
     "output_type": "stream",
     "text": [
      "Loaded user MIP start with objective 126679\n"
     ]
    },
    {
     "name": "stderr",
     "output_type": "stream",
     "text": [
      "2023-05-12 09:12:20,431 - INFO - Loaded user MIP start with objective 126679\n"
     ]
    },
    {
     "name": "stdout",
     "output_type": "stream",
     "text": [
      "\n"
     ]
    },
    {
     "name": "stderr",
     "output_type": "stream",
     "text": [
      "2023-05-12 09:12:20,432 - INFO - \n"
     ]
    },
    {
     "name": "stdout",
     "output_type": "stream",
     "text": [
      "Presolve removed 14 rows and 14 columns\n"
     ]
    },
    {
     "name": "stderr",
     "output_type": "stream",
     "text": [
      "2023-05-12 09:12:20,440 - INFO - Presolve removed 14 rows and 14 columns\n"
     ]
    },
    {
     "name": "stdout",
     "output_type": "stream",
     "text": [
      "Presolve time: 0.01s\n"
     ]
    },
    {
     "name": "stderr",
     "output_type": "stream",
     "text": [
      "2023-05-12 09:12:20,441 - INFO - Presolve time: 0.01s\n"
     ]
    },
    {
     "name": "stdout",
     "output_type": "stream",
     "text": [
      "Presolved: 94 rows, 672 columns, 2294 nonzeros\n"
     ]
    },
    {
     "name": "stderr",
     "output_type": "stream",
     "text": [
      "2023-05-12 09:12:20,443 - INFO - Presolved: 94 rows, 672 columns, 2294 nonzeros\n"
     ]
    },
    {
     "name": "stdout",
     "output_type": "stream",
     "text": [
      "Variable types: 28 continuous, 644 integer (644 binary)\n"
     ]
    },
    {
     "name": "stderr",
     "output_type": "stream",
     "text": [
      "2023-05-12 09:12:20,444 - INFO - Variable types: 28 continuous, 644 integer (644 binary)\n"
     ]
    },
    {
     "name": "stdout",
     "output_type": "stream",
     "text": [
      "\n"
     ]
    },
    {
     "name": "stderr",
     "output_type": "stream",
     "text": [
      "2023-05-12 09:12:20,446 - INFO - \n"
     ]
    },
    {
     "name": "stdout",
     "output_type": "stream",
     "text": [
      "Concurrent LP optimizer: primal simplex, dual simplex, and barrier\n"
     ]
    },
    {
     "name": "stderr",
     "output_type": "stream",
     "text": [
      "2023-05-12 09:12:20,447 - INFO - Concurrent LP optimizer: primal simplex, dual simplex, and barrier\n"
     ]
    },
    {
     "name": "stdout",
     "output_type": "stream",
     "text": [
      "Showing barrier log only...\n"
     ]
    },
    {
     "name": "stderr",
     "output_type": "stream",
     "text": [
      "2023-05-12 09:12:20,448 - INFO - Showing barrier log only...\n"
     ]
    },
    {
     "name": "stdout",
     "output_type": "stream",
     "text": [
      "\n"
     ]
    },
    {
     "name": "stderr",
     "output_type": "stream",
     "text": [
      "2023-05-12 09:12:20,449 - INFO - \n"
     ]
    },
    {
     "name": "stdout",
     "output_type": "stream",
     "text": [
      "Root barrier log...\n"
     ]
    },
    {
     "name": "stderr",
     "output_type": "stream",
     "text": [
      "2023-05-12 09:12:20,452 - INFO - Root barrier log...\n"
     ]
    },
    {
     "name": "stdout",
     "output_type": "stream",
     "text": [
      "\n"
     ]
    },
    {
     "name": "stderr",
     "output_type": "stream",
     "text": [
      "2023-05-12 09:12:20,453 - INFO - \n"
     ]
    },
    {
     "name": "stdout",
     "output_type": "stream",
     "text": [
      "Ordering time: 0.00s\n"
     ]
    },
    {
     "name": "stderr",
     "output_type": "stream",
     "text": [
      "2023-05-12 09:12:20,455 - INFO - Ordering time: 0.00s\n"
     ]
    },
    {
     "name": "stdout",
     "output_type": "stream",
     "text": [
      "\n"
     ]
    },
    {
     "name": "stderr",
     "output_type": "stream",
     "text": [
      "2023-05-12 09:12:20,456 - INFO - \n"
     ]
    },
    {
     "name": "stdout",
     "output_type": "stream",
     "text": [
      "Barrier performed 0 iterations in 0.05 seconds\n"
     ]
    },
    {
     "name": "stderr",
     "output_type": "stream",
     "text": [
      "2023-05-12 09:12:20,457 - INFO - Barrier performed 0 iterations in 0.05 seconds\n"
     ]
    },
    {
     "name": "stdout",
     "output_type": "stream",
     "text": [
      "Barrier solve interrupted - model solved by another algorithm\n"
     ]
    },
    {
     "name": "stderr",
     "output_type": "stream",
     "text": [
      "2023-05-12 09:12:20,458 - INFO - Barrier solve interrupted - model solved by another algorithm\n"
     ]
    },
    {
     "name": "stdout",
     "output_type": "stream",
     "text": [
      "\n"
     ]
    },
    {
     "name": "stderr",
     "output_type": "stream",
     "text": [
      "2023-05-12 09:12:20,459 - INFO - \n"
     ]
    },
    {
     "name": "stdout",
     "output_type": "stream",
     "text": [
      "\n"
     ]
    },
    {
     "name": "stderr",
     "output_type": "stream",
     "text": [
      "2023-05-12 09:12:20,460 - INFO - \n"
     ]
    },
    {
     "name": "stdout",
     "output_type": "stream",
     "text": [
      "Solved with primal simplex\n"
     ]
    },
    {
     "name": "stderr",
     "output_type": "stream",
     "text": [
      "2023-05-12 09:12:20,462 - INFO - Solved with primal simplex\n"
     ]
    },
    {
     "name": "stdout",
     "output_type": "stream",
     "text": [
      "\n"
     ]
    },
    {
     "name": "stderr",
     "output_type": "stream",
     "text": [
      "2023-05-12 09:12:20,463 - INFO - \n"
     ]
    },
    {
     "name": "stdout",
     "output_type": "stream",
     "text": [
      "Root relaxation: objective 1.559344e+05, 125 iterations, 0.02 seconds\n"
     ]
    },
    {
     "name": "stderr",
     "output_type": "stream",
     "text": [
      "2023-05-12 09:12:20,464 - INFO - Root relaxation: objective 1.559344e+05, 125 iterations, 0.02 seconds\n"
     ]
    },
    {
     "name": "stdout",
     "output_type": "stream",
     "text": [
      "\n"
     ]
    },
    {
     "name": "stderr",
     "output_type": "stream",
     "text": [
      "2023-05-12 09:12:20,471 - INFO - \n"
     ]
    },
    {
     "name": "stdout",
     "output_type": "stream",
     "text": [
      "    Nodes    |    Current Node    |     Objective Bounds      |     Work\n"
     ]
    },
    {
     "name": "stderr",
     "output_type": "stream",
     "text": [
      "2023-05-12 09:12:20,473 - INFO -     Nodes    |    Current Node    |     Objective Bounds      |     Work\n"
     ]
    },
    {
     "name": "stdout",
     "output_type": "stream",
     "text": [
      " Expl Unexpl |  Obj  Depth IntInf | Incumbent    BestBd   Gap | It/Node Time\n"
     ]
    },
    {
     "name": "stderr",
     "output_type": "stream",
     "text": [
      "2023-05-12 09:12:20,474 - INFO -  Expl Unexpl |  Obj  Depth IntInf | Incumbent    BestBd   Gap | It/Node Time\n"
     ]
    },
    {
     "name": "stdout",
     "output_type": "stream",
     "text": [
      "\n"
     ]
    },
    {
     "name": "stderr",
     "output_type": "stream",
     "text": [
      "2023-05-12 09:12:20,475 - INFO - \n"
     ]
    },
    {
     "name": "stdout",
     "output_type": "stream",
     "text": [
      "     0     0 155934.429    0   10 126679.419 155934.429  23.1%     -    0s\n"
     ]
    },
    {
     "name": "stderr",
     "output_type": "stream",
     "text": [
      "2023-05-12 09:12:20,475 - INFO -      0     0 155934.429    0   10 126679.419 155934.429  23.1%     -    0s\n"
     ]
    },
    {
     "name": "stdout",
     "output_type": "stream",
     "text": [
      "     0     0 155934.429    0   18 126679.419 155934.429  23.1%     -    0s\n"
     ]
    },
    {
     "name": "stderr",
     "output_type": "stream",
     "text": [
      "2023-05-12 09:12:20,488 - INFO -      0     0 155934.429    0   18 126679.419 155934.429  23.1%     -    0s\n"
     ]
    },
    {
     "name": "stdout",
     "output_type": "stream",
     "text": [
      "     0     0 155934.429    0   19 126679.419 155934.429  23.1%     -    0s\n"
     ]
    },
    {
     "name": "stderr",
     "output_type": "stream",
     "text": [
      "2023-05-12 09:12:20,494 - INFO -      0     0 155934.429    0   19 126679.419 155934.429  23.1%     -    0s\n"
     ]
    },
    {
     "name": "stdout",
     "output_type": "stream",
     "text": [
      "     0     0 155934.429    0   15 126679.419 155934.429  23.1%     -    0s\n"
     ]
    },
    {
     "name": "stderr",
     "output_type": "stream",
     "text": [
      "2023-05-12 09:12:20,511 - INFO -      0     0 155934.429    0   15 126679.419 155934.429  23.1%     -    0s\n"
     ]
    },
    {
     "name": "stdout",
     "output_type": "stream",
     "text": [
      "     0     0 155934.429    0   18 126679.419 155934.429  23.1%     -    0s\n"
     ]
    },
    {
     "name": "stderr",
     "output_type": "stream",
     "text": [
      "2023-05-12 09:12:20,518 - INFO -      0     0 155934.429    0   18 126679.419 155934.429  23.1%     -    0s\n"
     ]
    },
    {
     "name": "stdout",
     "output_type": "stream",
     "text": [
      "     0     0 155934.429    0   14 126679.419 155934.429  23.1%     -    0s\n"
     ]
    },
    {
     "name": "stderr",
     "output_type": "stream",
     "text": [
      "2023-05-12 09:12:20,534 - INFO -      0     0 155934.429    0   14 126679.419 155934.429  23.1%     -    0s\n"
     ]
    },
    {
     "name": "stdout",
     "output_type": "stream",
     "text": [
      "     0     0 155934.429    0   14 126679.419 155934.429  23.1%     -    0s\n"
     ]
    },
    {
     "name": "stderr",
     "output_type": "stream",
     "text": [
      "2023-05-12 09:12:20,543 - INFO -      0     0 155934.429    0   14 126679.419 155934.429  23.1%     -    0s\n"
     ]
    },
    {
     "name": "stdout",
     "output_type": "stream",
     "text": [
      "     0     2 155934.429    0   13 126679.419 155934.429  23.1%     -    0s\n"
     ]
    },
    {
     "name": "stderr",
     "output_type": "stream",
     "text": [
      "2023-05-12 09:12:20,759 - INFO -      0     2 155934.429    0   13 126679.419 155934.429  23.1%     -    0s\n"
     ]
    },
    {
     "name": "stdout",
     "output_type": "stream",
     "text": [
      " 35010 21296 146800.081   43   15 126679.419 154228.789  21.7%   8.7    5s\n"
     ]
    },
    {
     "name": "stderr",
     "output_type": "stream",
     "text": [
      "2023-05-12 09:12:25,435 - INFO -  35010 21296 146800.081   43   15 126679.419 154228.789  21.7%   8.7    5s\n"
     ]
    },
    {
     "name": "stdout",
     "output_type": "stream",
     "text": [
      "H74042 43585                    130532.41926 153536.938  17.6%  12.9    9s\n"
     ]
    },
    {
     "name": "stderr",
     "output_type": "stream",
     "text": [
      "2023-05-12 09:12:30,319 - INFO - H74042 43585                    130532.41926 153536.938  17.6%  12.9    9s\n"
     ]
    },
    {
     "name": "stdout",
     "output_type": "stream",
     "text": [
      " 74874 44643 148689.164   66   33 130532.419 153536.938  17.6%  13.0   10s\n"
     ]
    },
    {
     "name": "stderr",
     "output_type": "stream",
     "text": [
      "2023-05-12 09:12:30,513 - INFO -  74874 44643 148689.164   66   33 130532.419 153536.938  17.6%  13.0   10s\n"
     ]
    },
    {
     "name": "stdout",
     "output_type": "stream",
     "text": [
      " 116149 69943 152209.198   77   65 130532.419 153525.378  17.6%  15.6   15s\n"
     ]
    },
    {
     "name": "stderr",
     "output_type": "stream",
     "text": [
      "2023-05-12 09:12:35,430 - INFO -  116149 69943 152209.198   77   65 130532.419 153525.378  17.6%  15.6   15s\n"
     ]
    },
    {
     "name": "stdout",
     "output_type": "stream",
     "text": [
      " 156826 92832 infeasible   69      130532.419 153525.378  17.6%  16.1   20s\n"
     ]
    },
    {
     "name": "stderr",
     "output_type": "stream",
     "text": [
      "2023-05-12 09:12:40,886 - INFO -  156826 92832 infeasible   69      130532.419 153525.378  17.6%  16.1   20s\n"
     ]
    },
    {
     "name": "stdout",
     "output_type": "stream",
     "text": [
      " 184212 106454 infeasible   48      130532.419 153525.378  17.6%  16.4   25s\n"
     ]
    },
    {
     "name": "stderr",
     "output_type": "stream",
     "text": [
      "2023-05-12 09:12:45,439 - INFO -  184212 106454 infeasible   48      130532.419 153525.378  17.6%  16.4   25s\n"
     ]
    },
    {
     "name": "stdout",
     "output_type": "stream",
     "text": [
      " 221569 125338 153520.286   50   32 130532.419 153525.378  17.6%  17.1   30s\n"
     ]
    },
    {
     "name": "stderr",
     "output_type": "stream",
     "text": [
      "2023-05-12 09:12:50,615 - INFO -  221569 125338 153520.286   50   32 130532.419 153525.378  17.6%  17.1   30s\n"
     ]
    },
    {
     "name": "stdout",
     "output_type": "stream",
     "text": [
      "H244408 133211                    132969.41926 153525.378  15.5%  17.6   33s\n"
     ]
    },
    {
     "name": "stderr",
     "output_type": "stream",
     "text": [
      "2023-05-12 09:12:53,817 - INFO - H244408 133211                    132969.41926 153525.378  15.5%  17.6   33s\n"
     ]
    },
    {
     "name": "stdout",
     "output_type": "stream",
     "text": [
      " 254186 138663 152992.434   60   21 132969.419 153525.378  15.5%  17.8   35s\n"
     ]
    },
    {
     "name": "stderr",
     "output_type": "stream",
     "text": [
      "2023-05-12 09:12:55,578 - INFO -  254186 138663 152992.434   60   21 132969.419 153525.378  15.5%  17.8   35s\n"
     ]
    },
    {
     "name": "stdout",
     "output_type": "stream",
     "text": [
      " 281259 149534 153295.634   73   59 132969.419 153525.378  15.5%  18.4   40s\n"
     ]
    },
    {
     "name": "stderr",
     "output_type": "stream",
     "text": [
      "2023-05-12 09:13:00,410 - INFO -  281259 149534 153295.634   73   59 132969.419 153525.378  15.5%  18.4   40s\n"
     ]
    },
    {
     "name": "stdout",
     "output_type": "stream",
     "text": [
      " 308080 158780 153516.348   53   30 132969.419 153524.179  15.5%  18.9   45s\n"
     ]
    },
    {
     "name": "stderr",
     "output_type": "stream",
     "text": [
      "2023-05-12 09:13:06,075 - INFO -  308080 158780 153516.348   53   30 132969.419 153524.179  15.5%  18.9   45s\n"
     ]
    },
    {
     "name": "stdout",
     "output_type": "stream",
     "text": [
      " 342723 172408 153030.343   49   26 132969.419 153520.286  15.5%  18.9   50s\n"
     ]
    },
    {
     "name": "stderr",
     "output_type": "stream",
     "text": [
      "2023-05-12 09:13:10,726 - INFO -  342723 172408 153030.343   49   26 132969.419 153520.286  15.5%  18.9   50s\n"
     ]
    },
    {
     "name": "stdout",
     "output_type": "stream",
     "text": [
      " 382103 188825 152694.651   74   39 132969.419 153520.286  15.5%  18.9   55s\n"
     ]
    },
    {
     "name": "stderr",
     "output_type": "stream",
     "text": [
      "2023-05-12 09:13:15,579 - INFO -  382103 188825 152694.651   74   39 132969.419 153520.286  15.5%  18.9   55s\n"
     ]
    },
    {
     "name": "stdout",
     "output_type": "stream",
     "text": [
      " 416290 202725 153486.731   64   15 132969.419 153520.286  15.5%  19.0   60s\n"
     ]
    },
    {
     "name": "stderr",
     "output_type": "stream",
     "text": [
      "2023-05-12 09:13:20,819 - INFO -  416290 202725 153486.731   64   15 132969.419 153520.286  15.5%  19.0   60s\n"
     ]
    },
    {
     "name": "stdout",
     "output_type": "stream",
     "text": [
      " 449505 216338 153508.785   49   46 132969.419 153520.286  15.5%  19.0   65s\n"
     ]
    },
    {
     "name": "stderr",
     "output_type": "stream",
     "text": [
      "2023-05-12 09:13:25,641 - INFO -  449505 216338 153508.785   49   46 132969.419 153520.286  15.5%  19.0   65s\n"
     ]
    },
    {
     "name": "stdout",
     "output_type": "stream",
     "text": [
      " 482805 231611 153515.244   61   19 132969.419 153520.286  15.5%  19.1   70s\n"
     ]
    },
    {
     "name": "stderr",
     "output_type": "stream",
     "text": [
      "2023-05-12 09:13:30,609 - INFO -  482805 231611 153515.244   61   19 132969.419 153520.286  15.5%  19.1   70s\n"
     ]
    },
    {
     "name": "stdout",
     "output_type": "stream",
     "text": [
      " 513389 244736 infeasible   61      132969.419 153520.286  15.5%  19.2   75s\n"
     ]
    },
    {
     "name": "stderr",
     "output_type": "stream",
     "text": [
      "2023-05-12 09:13:36,003 - INFO -  513389 244736 infeasible   61      132969.419 153520.286  15.5%  19.2   75s\n"
     ]
    },
    {
     "name": "stdout",
     "output_type": "stream",
     "text": [
      " 544743 257657 infeasible   58      132969.419 153520.286  15.5%  19.2   80s\n"
     ]
    },
    {
     "name": "stderr",
     "output_type": "stream",
     "text": [
      "2023-05-12 09:13:40,568 - INFO -  544743 257657 infeasible   58      132969.419 153520.286  15.5%  19.2   80s\n"
     ]
    },
    {
     "name": "stdout",
     "output_type": "stream",
     "text": [
      " 579243 272557 152968.513   53   22 132969.419 153520.286  15.5%  19.1   85s\n"
     ]
    },
    {
     "name": "stderr",
     "output_type": "stream",
     "text": [
      "2023-05-12 09:13:45,612 - INFO -  579243 272557 152968.513   53   22 132969.419 153520.286  15.5%  19.1   85s\n"
     ]
    },
    {
     "name": "stdout",
     "output_type": "stream",
     "text": [
      " 610233 285574 153470.399   57   36 132969.419 153520.286  15.5%  19.2   90s\n"
     ]
    },
    {
     "name": "stderr",
     "output_type": "stream",
     "text": [
      "2023-05-12 09:13:50,451 - INFO -  610233 285574 153470.399   57   36 132969.419 153520.286  15.5%  19.2   90s\n"
     ]
    },
    {
     "name": "stdout",
     "output_type": "stream",
     "text": [
      " 645950 301249 infeasible   92      132969.419 153520.286  15.5%  19.1   95s\n"
     ]
    },
    {
     "name": "stderr",
     "output_type": "stream",
     "text": [
      "2023-05-12 09:13:55,598 - INFO -  645950 301249 infeasible   92      132969.419 153520.286  15.5%  19.1   95s\n"
     ]
    },
    {
     "name": "stdout",
     "output_type": "stream",
     "text": [
      " 682362 315763 infeasible   67      132969.419 153520.286  15.5%  19.0  100s\n"
     ]
    },
    {
     "name": "stderr",
     "output_type": "stream",
     "text": [
      "2023-05-12 09:14:00,930 - INFO -  682362 315763 infeasible   67      132969.419 153520.286  15.5%  19.0  100s\n"
     ]
    },
    {
     "name": "stdout",
     "output_type": "stream",
     "text": [
      " 719414 331724 152968.513   65   14 132969.419 153520.286  15.5%  18.8  105s\n"
     ]
    },
    {
     "name": "stderr",
     "output_type": "stream",
     "text": [
      "2023-05-12 09:14:05,472 - INFO -  719414 331724 152968.513   65   14 132969.419 153520.286  15.5%  18.8  105s\n"
     ]
    },
    {
     "name": "stdout",
     "output_type": "stream",
     "text": [
      " 755416 345795 infeasible   63      132969.419 153520.286  15.5%  18.7  110s\n"
     ]
    },
    {
     "name": "stderr",
     "output_type": "stream",
     "text": [
      "2023-05-12 09:14:10,510 - INFO -  755416 345795 infeasible   63      132969.419 153520.286  15.5%  18.7  110s\n"
     ]
    },
    {
     "name": "stdout",
     "output_type": "stream",
     "text": [
      " 791098 356194 infeasible   75      132969.419 153520.286  15.5%  18.5  115s\n"
     ]
    },
    {
     "name": "stderr",
     "output_type": "stream",
     "text": [
      "2023-05-12 09:14:15,828 - INFO -  791098 356194 infeasible   75      132969.419 153520.286  15.5%  18.5  115s\n"
     ]
    },
    {
     "name": "stdout",
     "output_type": "stream",
     "text": [
      " 830845 321751 infeasible   66      132969.419 153520.286  15.5%  18.0  120s\n"
     ]
    },
    {
     "name": "stderr",
     "output_type": "stream",
     "text": [
      "2023-05-12 09:14:20,808 - INFO -  830845 321751 infeasible   66      132969.419 153520.286  15.5%  18.0  120s\n"
     ]
    },
    {
     "name": "stdout",
     "output_type": "stream",
     "text": [
      " 880203 285448 infeasible   76      132969.419 153503.339  15.4%  17.4  125s\n"
     ]
    },
    {
     "name": "stderr",
     "output_type": "stream",
     "text": [
      "2023-05-12 09:14:25,469 - INFO -  880203 285448 infeasible   76      132969.419 153503.339  15.4%  17.4  125s\n"
     ]
    },
    {
     "name": "stdout",
     "output_type": "stream",
     "text": [
      " 925674 263092 149705.579   46   43 132969.419 153463.589  15.4%  17.0  130s\n"
     ]
    },
    {
     "name": "stderr",
     "output_type": "stream",
     "text": [
      "2023-05-12 09:14:30,736 - INFO -  925674 263092 149705.579   46   43 132969.419 153463.589  15.4%  17.0  130s\n"
     ]
    },
    {
     "name": "stdout",
     "output_type": "stream",
     "text": [
      " 974498 229109 145955.601   36   49 132969.419 153334.477  15.3%  16.6  135s\n"
     ]
    },
    {
     "name": "stderr",
     "output_type": "stream",
     "text": [
      "2023-05-12 09:14:35,457 - INFO -  974498 229109 145955.601   36   49 132969.419 153334.477  15.3%  16.6  135s\n"
     ]
    },
    {
     "name": "stdout",
     "output_type": "stream",
     "text": [
      " 997522 220254 145654.218   49   74 132969.419 153129.066  15.2%  16.7  140s\n"
     ]
    },
    {
     "name": "stderr",
     "output_type": "stream",
     "text": [
      "2023-05-12 09:14:40,835 - INFO -  997522 220254 145654.218   49   74 132969.419 153129.066  15.2%  16.7  140s\n"
     ]
    },
    {
     "name": "stdout",
     "output_type": "stream",
     "text": [
      " 1051530 175907 149521.330   57   74 132969.419 153013.928  15.1%  16.2  145s\n"
     ]
    },
    {
     "name": "stderr",
     "output_type": "stream",
     "text": [
      "2023-05-12 09:14:45,428 - INFO -  1051530 175907 149521.330   57   74 132969.419 153013.928  15.1%  16.2  145s\n"
     ]
    },
    {
     "name": "stdout",
     "output_type": "stream",
     "text": [
      " 1076547 165299 149220.304   54   81 132969.419 152893.691  15.0%  16.3  150s\n"
     ]
    },
    {
     "name": "stderr",
     "output_type": "stream",
     "text": [
      "2023-05-12 09:14:50,927 - INFO -  1076547 165299 149220.304   54   81 132969.419 152893.691  15.0%  16.3  150s\n"
     ]
    },
    {
     "name": "stdout",
     "output_type": "stream",
     "text": [
      "H1095345 147242                    135551.41926 152780.952  12.7%  16.3  153s\n"
     ]
    },
    {
     "name": "stderr",
     "output_type": "stream",
     "text": [
      "2023-05-12 09:14:53,481 - INFO - H1095345 147242                    135551.41926 152780.952  12.7%  16.3  153s\n"
     ]
    },
    {
     "name": "stdout",
     "output_type": "stream",
     "text": [
      " 1106729 137706 152174.613   53   64 135551.419 152684.639  12.6%  16.2  155s\n"
     ]
    },
    {
     "name": "stderr",
     "output_type": "stream",
     "text": [
      "2023-05-12 09:14:55,576 - INFO -  1106729 137706 152174.613   53   64 135551.419 152684.639  12.6%  16.2  155s\n"
     ]
    },
    {
     "name": "stdout",
     "output_type": "stream",
     "text": [
      " 1159951 98911 145102.503   68   59 135551.419 152469.424  12.5%  15.9  160s\n"
     ]
    },
    {
     "name": "stderr",
     "output_type": "stream",
     "text": [
      "2023-05-12 09:15:00,493 - INFO -  1159951 98911 145102.503   68   59 135551.419 152469.424  12.5%  15.9  160s\n"
     ]
    },
    {
     "name": "stdout",
     "output_type": "stream",
     "text": [
      " 1191344 86580 152230.805   36   21 135551.419 152230.805  12.3%  16.0  165s\n"
     ]
    },
    {
     "name": "stderr",
     "output_type": "stream",
     "text": [
      "2023-05-12 09:15:05,423 - INFO -  1191344 86580 152230.805   36   21 135551.419 152230.805  12.3%  16.0  165s\n"
     ]
    },
    {
     "name": "stdout",
     "output_type": "stream",
     "text": [
      " 1208733 94827 139963.448   56   28 135551.419 152230.805  12.3%  16.2  170s\n"
     ]
    },
    {
     "name": "stderr",
     "output_type": "stream",
     "text": [
      "2023-05-12 09:15:10,945 - INFO -  1208733 94827 139963.448   56   28 135551.419 152230.805  12.3%  16.2  170s\n"
     ]
    },
    {
     "name": "stdout",
     "output_type": "stream",
     "text": [
      " 1221957 100652 148858.578   38   34 135551.419 152230.805  12.3%  16.5  175s\n"
     ]
    },
    {
     "name": "stderr",
     "output_type": "stream",
     "text": [
      "2023-05-12 09:15:15,599 - INFO -  1221957 100652 148858.578   38   34 135551.419 152230.805  12.3%  16.5  175s\n"
     ]
    },
    {
     "name": "stdout",
     "output_type": "stream",
     "text": [
      " 1239426 102706 136638.936   64   64 135551.419 152176.874  12.3%  16.8  180s\n"
     ]
    },
    {
     "name": "stderr",
     "output_type": "stream",
     "text": [
      "2023-05-12 09:15:20,665 - INFO -  1239426 102706 136638.936   64   64 135551.419 152176.874  12.3%  16.8  180s\n"
     ]
    },
    {
     "name": "stdout",
     "output_type": "stream",
     "text": [
      " 1259433 104591 144438.844   42   60 135551.419 151766.373  12.0%  17.2  185s\n"
     ]
    },
    {
     "name": "stderr",
     "output_type": "stream",
     "text": [
      "2023-05-12 09:15:25,564 - INFO -  1259433 104591 144438.844   42   60 135551.419 151766.373  12.0%  17.2  185s\n"
     ]
    },
    {
     "name": "stdout",
     "output_type": "stream",
     "text": [
      " 1276186 111316 143299.694   37   45 135551.419 151766.373  12.0%  17.6  190s\n"
     ]
    },
    {
     "name": "stderr",
     "output_type": "stream",
     "text": [
      "2023-05-12 09:15:30,414 - INFO -  1276186 111316 143299.694   37   45 135551.419 151766.373  12.0%  17.6  190s\n"
     ]
    },
    {
     "name": "stdout",
     "output_type": "stream",
     "text": [
      " 1292586 117283 147445.594   51   65 135551.419 151611.667  11.8%  17.9  195s\n"
     ]
    },
    {
     "name": "stderr",
     "output_type": "stream",
     "text": [
      "2023-05-12 09:15:35,606 - INFO -  1292586 117283 147445.594   51   65 135551.419 151611.667  11.8%  17.9  195s\n"
     ]
    },
    {
     "name": "stdout",
     "output_type": "stream",
     "text": [
      " 1308650 121875 infeasible   64      135551.419 151611.667  11.8%  18.3  200s\n"
     ]
    },
    {
     "name": "stderr",
     "output_type": "stream",
     "text": [
      "2023-05-12 09:15:40,567 - INFO -  1308650 121875 infeasible   64      135551.419 151611.667  11.8%  18.3  200s\n"
     ]
    },
    {
     "name": "stdout",
     "output_type": "stream",
     "text": [
      " 1324341 128455 infeasible   55      135551.419 151368.225  11.7%  18.7  205s\n"
     ]
    },
    {
     "name": "stderr",
     "output_type": "stream",
     "text": [
      "2023-05-12 09:15:45,431 - INFO -  1324341 128455 infeasible   55      135551.419 151368.225  11.7%  18.7  205s\n"
     ]
    },
    {
     "name": "stdout",
     "output_type": "stream",
     "text": [
      " 1339866 133411     cutoff   61      135551.419 151295.106  11.6%  19.0  210s\n"
     ]
    },
    {
     "name": "stderr",
     "output_type": "stream",
     "text": [
      "2023-05-12 09:15:50,513 - INFO -  1339866 133411     cutoff   61      135551.419 151295.106  11.6%  19.0  210s\n"
     ]
    },
    {
     "name": "stdout",
     "output_type": "stream",
     "text": [
      " 1352324 137252 138453.208   73   58 135551.419 151080.174  11.5%  19.4  215s\n"
     ]
    },
    {
     "name": "stderr",
     "output_type": "stream",
     "text": [
      "2023-05-12 09:15:55,562 - INFO -  1352324 137252 138453.208   73   58 135551.419 151080.174  11.5%  19.4  215s\n"
     ]
    },
    {
     "name": "stdout",
     "output_type": "stream",
     "text": [
      " 1363428 141754 148286.586   63   53 135551.419 151080.174  11.5%  19.7  220s\n"
     ]
    },
    {
     "name": "stderr",
     "output_type": "stream",
     "text": [
      "2023-05-12 09:16:00,493 - INFO -  1363428 141754 148286.586   63   53 135551.419 151080.174  11.5%  19.7  220s\n"
     ]
    },
    {
     "name": "stdout",
     "output_type": "stream",
     "text": [
      "H1364256 140309                    135989.35799 151080.174  11.1%  19.7  220s\n"
     ]
    },
    {
     "name": "stderr",
     "output_type": "stream",
     "text": [
      "2023-05-12 09:16:00,824 - INFO - H1364256 140309                    135989.35799 151080.174  11.1%  19.7  220s\n"
     ]
    },
    {
     "name": "stdout",
     "output_type": "stream",
     "text": [
      "H1371150 140561                    136382.00000 151000.005  10.7%  19.9  223s\n"
     ]
    },
    {
     "name": "stderr",
     "output_type": "stream",
     "text": [
      "2023-05-12 09:16:04,178 - INFO - H1371150 140561                    136382.00000 151000.005  10.7%  19.9  223s\n"
     ]
    },
    {
     "name": "stdout",
     "output_type": "stream",
     "text": [
      " 1374105 141655 149662.216   53   73 136382.000 150977.790  10.7%  20.0  225s\n"
     ]
    },
    {
     "name": "stderr",
     "output_type": "stream",
     "text": [
      "2023-05-12 09:16:05,565 - INFO -  1374105 141655 149662.216   53   73 136382.000 150977.790  10.7%  20.0  225s\n"
     ]
    },
    {
     "name": "stdout",
     "output_type": "stream",
     "text": [
      " 1387053 147542 150912.127   47   64 136382.000 150912.127  10.7%  20.4  230s\n"
     ]
    },
    {
     "name": "stderr",
     "output_type": "stream",
     "text": [
      "2023-05-12 09:16:10,787 - INFO -  1387053 147542 150912.127   47   64 136382.000 150912.127  10.7%  20.4  230s\n"
     ]
    },
    {
     "name": "stdout",
     "output_type": "stream",
     "text": [
      " 1396538 152338 148006.356   50   56 136382.000 150912.127  10.7%  20.7  235s\n"
     ]
    },
    {
     "name": "stderr",
     "output_type": "stream",
     "text": [
      "2023-05-12 09:16:15,709 - INFO -  1396538 152338 148006.356   50   56 136382.000 150912.127  10.7%  20.7  235s\n"
     ]
    },
    {
     "name": "stdout",
     "output_type": "stream",
     "text": [
      " 1407927 157592 infeasible   36      136382.000 150912.127  10.7%  21.0  240s\n"
     ]
    },
    {
     "name": "stderr",
     "output_type": "stream",
     "text": [
      "2023-05-12 09:16:21,127 - INFO -  1407927 157592 infeasible   36      136382.000 150912.127  10.7%  21.0  240s\n"
     ]
    },
    {
     "name": "stdout",
     "output_type": "stream",
     "text": [
      " 1419878 163171 149682.044   61   89 136382.000 150912.127  10.7%  21.3  245s\n"
     ]
    },
    {
     "name": "stderr",
     "output_type": "stream",
     "text": [
      "2023-05-12 09:16:25,478 - INFO -  1419878 163171 149682.044   61   89 136382.000 150912.127  10.7%  21.3  245s\n"
     ]
    },
    {
     "name": "stdout",
     "output_type": "stream",
     "text": [
      " 1435555 170509 150912.127   48   89 136382.000 150912.127  10.7%  21.6  250s\n"
     ]
    },
    {
     "name": "stderr",
     "output_type": "stream",
     "text": [
      "2023-05-12 09:16:30,645 - INFO -  1435555 170509 150912.127   48   89 136382.000 150912.127  10.7%  21.6  250s\n"
     ]
    },
    {
     "name": "stdout",
     "output_type": "stream",
     "text": [
      " 1450370 177280 150098.226   62   53 136382.000 150912.127  10.7%  22.0  255s\n"
     ]
    },
    {
     "name": "stderr",
     "output_type": "stream",
     "text": [
      "2023-05-12 09:16:35,664 - INFO -  1450370 177280 150098.226   62   53 136382.000 150912.127  10.7%  22.0  255s\n"
     ]
    },
    {
     "name": "stdout",
     "output_type": "stream",
     "text": [
      " 1466267 184783 150893.055   69   89 136382.000 150905.769  10.6%  22.3  260s\n"
     ]
    },
    {
     "name": "stderr",
     "output_type": "stream",
     "text": [
      "2023-05-12 09:16:40,587 - INFO -  1466267 184783 150893.055   69   89 136382.000 150905.769  10.6%  22.3  260s\n"
     ]
    },
    {
     "name": "stdout",
     "output_type": "stream",
     "text": [
      " 1478643 190017 149888.871   73   75 136382.000 150900.479  10.6%  22.6  265s\n"
     ]
    },
    {
     "name": "stderr",
     "output_type": "stream",
     "text": [
      "2023-05-12 09:16:45,504 - INFO -  1478643 190017 149888.871   73   75 136382.000 150900.479  10.6%  22.6  265s\n"
     ]
    },
    {
     "name": "stdout",
     "output_type": "stream",
     "text": [
      " 1493575 195741 141137.726   66   44 136382.000 150887.935  10.6%  22.9  270s\n"
     ]
    },
    {
     "name": "stderr",
     "output_type": "stream",
     "text": [
      "2023-05-12 09:16:50,501 - INFO -  1493575 195741 141137.726   66   44 136382.000 150887.935  10.6%  22.9  270s\n"
     ]
    },
    {
     "name": "stdout",
     "output_type": "stream",
     "text": [
      " 1508656 201889 147567.963   59   85 136382.000 150872.980  10.6%  23.2  275s\n"
     ]
    },
    {
     "name": "stderr",
     "output_type": "stream",
     "text": [
      "2023-05-12 09:16:55,565 - INFO -  1508656 201889 147567.963   59   85 136382.000 150872.980  10.6%  23.2  275s\n"
     ]
    },
    {
     "name": "stdout",
     "output_type": "stream",
     "text": [
      " 1521041 206819 150414.449   61   69 136382.000 150856.683  10.6%  23.5  280s\n"
     ]
    },
    {
     "name": "stderr",
     "output_type": "stream",
     "text": [
      "2023-05-12 09:17:00,595 - INFO -  1521041 206819 150414.449   61   69 136382.000 150856.683  10.6%  23.5  280s\n"
     ]
    },
    {
     "name": "stdout",
     "output_type": "stream",
     "text": [
      " 1536057 212673 148469.146   48   71 136382.000 150829.696  10.6%  23.8  285s\n"
     ]
    },
    {
     "name": "stderr",
     "output_type": "stream",
     "text": [
      "2023-05-12 09:17:05,505 - INFO -  1536057 212673 148469.146   48   71 136382.000 150829.696  10.6%  23.8  285s\n"
     ]
    },
    {
     "name": "stdout",
     "output_type": "stream",
     "text": [
      " 1547828 217857 infeasible   82      136382.000 150829.696  10.6%  24.1  290s\n"
     ]
    },
    {
     "name": "stderr",
     "output_type": "stream",
     "text": [
      "2023-05-12 09:17:10,476 - INFO -  1547828 217857 infeasible   82      136382.000 150829.696  10.6%  24.1  290s\n"
     ]
    },
    {
     "name": "stdout",
     "output_type": "stream",
     "text": [
      " 1561295 223429 138553.984   55   70 136382.000 150817.234  10.6%  24.4  295s\n"
     ]
    },
    {
     "name": "stderr",
     "output_type": "stream",
     "text": [
      "2023-05-12 09:17:15,488 - INFO -  1561295 223429 138553.984   55   70 136382.000 150817.234  10.6%  24.4  295s\n"
     ]
    },
    {
     "name": "stdout",
     "output_type": "stream",
     "text": [
      " 1573793 228525 144336.560   56   62 136382.000 150799.580  10.6%  24.7  300s\n"
     ]
    },
    {
     "name": "stderr",
     "output_type": "stream",
     "text": [
      "2023-05-12 09:17:20,701 - INFO -  1573793 228525 144336.560   56   62 136382.000 150799.580  10.6%  24.7  300s\n"
     ]
    },
    {
     "name": "stdout",
     "output_type": "stream",
     "text": [
      " 1587454 234053 150401.633   47   93 136382.000 150784.964  10.6%  25.0  305s\n"
     ]
    },
    {
     "name": "stderr",
     "output_type": "stream",
     "text": [
      "2023-05-12 09:17:25,549 - INFO -  1587454 234053 150401.633   47   93 136382.000 150784.964  10.6%  25.0  305s\n"
     ]
    },
    {
     "name": "stdout",
     "output_type": "stream",
     "text": [
      " 1601559 240028 150394.368   57   71 136382.000 150772.845  10.6%  25.3  310s\n"
     ]
    },
    {
     "name": "stderr",
     "output_type": "stream",
     "text": [
      "2023-05-12 09:17:30,783 - INFO -  1601559 240028 150394.368   57   71 136382.000 150772.845  10.6%  25.3  310s\n"
     ]
    },
    {
     "name": "stdout",
     "output_type": "stream",
     "text": [
      " 1612774 245258 148735.635   52   79 136382.000 150768.625  10.5%  25.6  315s\n"
     ]
    },
    {
     "name": "stderr",
     "output_type": "stream",
     "text": [
      "2023-05-12 09:17:35,580 - INFO -  1612774 245258 148735.635   52   79 136382.000 150768.625  10.5%  25.6  315s\n"
     ]
    },
    {
     "name": "stdout",
     "output_type": "stream",
     "text": [
      " 1624042 249618 150242.291   58   99 136382.000 150757.125  10.5%  25.8  320s\n"
     ]
    },
    {
     "name": "stderr",
     "output_type": "stream",
     "text": [
      "2023-05-12 09:17:40,551 - INFO -  1624042 249618 150242.291   58   99 136382.000 150757.125  10.5%  25.8  320s\n"
     ]
    },
    {
     "name": "stdout",
     "output_type": "stream",
     "text": [
      " 1634246 253652 149354.099   58  107 136382.000 150744.307  10.5%  26.0  325s\n"
     ]
    },
    {
     "name": "stderr",
     "output_type": "stream",
     "text": [
      "2023-05-12 09:17:46,028 - INFO -  1634246 253652 149354.099   58  107 136382.000 150744.307  10.5%  26.0  325s\n"
     ]
    },
    {
     "name": "stdout",
     "output_type": "stream",
     "text": [
      " 1643374 256885 143831.097   50   63 136382.000 150733.021  10.5%  26.2  330s\n"
     ]
    },
    {
     "name": "stderr",
     "output_type": "stream",
     "text": [
      "2023-05-12 09:17:50,430 - INFO -  1643374 256885 143831.097   50   63 136382.000 150733.021  10.5%  26.2  330s\n"
     ]
    },
    {
     "name": "stdout",
     "output_type": "stream",
     "text": [
      " 1654561 261326 148324.698   53   95 136382.000 150720.720  10.5%  26.4  335s\n"
     ]
    },
    {
     "name": "stderr",
     "output_type": "stream",
     "text": [
      "2023-05-12 09:17:55,673 - INFO -  1654561 261326 148324.698   53   95 136382.000 150720.720  10.5%  26.4  335s\n"
     ]
    },
    {
     "name": "stdout",
     "output_type": "stream",
     "text": [
      " 1665353 265615     cutoff   49      136382.000 150704.002  10.5%  26.7  340s\n"
     ]
    },
    {
     "name": "stderr",
     "output_type": "stream",
     "text": [
      "2023-05-12 09:18:00,548 - INFO -  1665353 265615     cutoff   49      136382.000 150704.002  10.5%  26.7  340s\n"
     ]
    },
    {
     "name": "stdout",
     "output_type": "stream",
     "text": [
      " 1676681 269865 141174.153   87   14 136382.000 150692.275  10.5%  26.9  345s\n"
     ]
    },
    {
     "name": "stderr",
     "output_type": "stream",
     "text": [
      "2023-05-12 09:18:05,714 - INFO -  1676681 269865 141174.153   87   14 136382.000 150692.275  10.5%  26.9  345s\n"
     ]
    },
    {
     "name": "stdout",
     "output_type": "stream",
     "text": [
      " 1686856 273175 148116.152   73   57 136382.000 150686.197  10.5%  27.1  350s\n"
     ]
    },
    {
     "name": "stderr",
     "output_type": "stream",
     "text": [
      "2023-05-12 09:18:10,512 - INFO -  1686856 273175 148116.152   73   57 136382.000 150686.197  10.5%  27.1  350s\n"
     ]
    },
    {
     "name": "stdout",
     "output_type": "stream",
     "text": [
      " 1696672 276469 142486.197   52   62 136382.000 150671.645  10.5%  27.3  355s\n"
     ]
    },
    {
     "name": "stderr",
     "output_type": "stream",
     "text": [
      "2023-05-12 09:18:15,417 - INFO -  1696672 276469 142486.197   52   62 136382.000 150671.645  10.5%  27.3  355s\n"
     ]
    },
    {
     "name": "stdout",
     "output_type": "stream",
     "text": [
      " 1708955 280679 149964.583   61   86 136382.000 150658.370  10.5%  27.6  360s\n"
     ]
    },
    {
     "name": "stderr",
     "output_type": "stream",
     "text": [
      "2023-05-12 09:18:20,464 - INFO -  1708955 280679 149964.583   61   86 136382.000 150658.370  10.5%  27.6  360s\n"
     ]
    },
    {
     "name": "stdout",
     "output_type": "stream",
     "text": [
      " 1721336 285333 138916.137   58   58 136382.000 150641.589  10.5%  27.8  365s\n"
     ]
    },
    {
     "name": "stderr",
     "output_type": "stream",
     "text": [
      "2023-05-12 09:18:25,563 - INFO -  1721336 285333 138916.137   58   58 136382.000 150641.589  10.5%  27.8  365s\n"
     ]
    },
    {
     "name": "stdout",
     "output_type": "stream",
     "text": [
      " 1729893 288083 150056.094   42   89 136382.000 150634.735  10.5%  28.0  370s\n"
     ]
    },
    {
     "name": "stderr",
     "output_type": "stream",
     "text": [
      "2023-05-12 09:18:30,425 - INFO -  1729893 288083 150056.094   42   89 136382.000 150634.735  10.5%  28.0  370s\n"
     ]
    },
    {
     "name": "stdout",
     "output_type": "stream",
     "text": [
      " 1741225 292727 137476.558   70   26 136382.000 150633.752  10.4%  28.3  375s\n"
     ]
    },
    {
     "name": "stderr",
     "output_type": "stream",
     "text": [
      "2023-05-12 09:18:35,995 - INFO -  1741225 292727 137476.558   70   26 136382.000 150633.752  10.4%  28.3  375s\n"
     ]
    },
    {
     "name": "stdout",
     "output_type": "stream",
     "text": [
      " 1750614 296315 148179.384   57  104 136382.000 150633.752  10.4%  28.5  380s\n"
     ]
    },
    {
     "name": "stderr",
     "output_type": "stream",
     "text": [
      "2023-05-12 09:18:40,961 - INFO -  1750614 296315 148179.384   57  104 136382.000 150633.752  10.4%  28.5  380s\n"
     ]
    },
    {
     "name": "stdout",
     "output_type": "stream",
     "text": [
      " 1760540 299645 148729.973   61   83 136382.000 150627.545  10.4%  28.7  385s\n"
     ]
    },
    {
     "name": "stderr",
     "output_type": "stream",
     "text": [
      "2023-05-12 09:18:45,479 - INFO -  1760540 299645 148729.973   61   83 136382.000 150627.545  10.4%  28.7  385s\n"
     ]
    },
    {
     "name": "stdout",
     "output_type": "stream",
     "text": [
      " 1772525 304033 146449.000   55   37 136382.000 150623.196  10.4%  28.9  390s\n"
     ]
    },
    {
     "name": "stderr",
     "output_type": "stream",
     "text": [
      "2023-05-12 09:18:50,497 - INFO -  1772525 304033 146449.000   55   37 136382.000 150623.196  10.4%  28.9  390s\n"
     ]
    },
    {
     "name": "stdout",
     "output_type": "stream",
     "text": [
      " 1784038 307767 infeasible   67      136382.000 150613.875  10.4%  29.1  395s\n"
     ]
    },
    {
     "name": "stderr",
     "output_type": "stream",
     "text": [
      "2023-05-12 09:18:55,745 - INFO -  1784038 307767 infeasible   67      136382.000 150613.875  10.4%  29.1  395s\n"
     ]
    },
    {
     "name": "stdout",
     "output_type": "stream",
     "text": [
      " 1795650 311721 146444.139   60   34 136382.000 150605.570  10.4%  29.3  400s\n"
     ]
    },
    {
     "name": "stderr",
     "output_type": "stream",
     "text": [
      "2023-05-12 09:19:00,850 - INFO -  1795650 311721 146444.139   60   34 136382.000 150605.570  10.4%  29.3  400s\n"
     ]
    },
    {
     "name": "stdout",
     "output_type": "stream",
     "text": [
      " 1802609 313925 143836.272   52   88 136382.000 150603.180  10.4%  29.5  405s\n"
     ]
    },
    {
     "name": "stderr",
     "output_type": "stream",
     "text": [
      "2023-05-12 09:19:05,692 - INFO -  1802609 313925 143836.272   52   88 136382.000 150603.180  10.4%  29.5  405s\n"
     ]
    },
    {
     "name": "stdout",
     "output_type": "stream",
     "text": [
      " 1813657 317731 149150.689   75   65 136382.000 150595.164  10.4%  29.7  410s\n"
     ]
    },
    {
     "name": "stderr",
     "output_type": "stream",
     "text": [
      "2023-05-12 09:19:10,705 - INFO -  1813657 317731 149150.689   75   65 136382.000 150595.164  10.4%  29.7  410s\n"
     ]
    },
    {
     "name": "stdout",
     "output_type": "stream",
     "text": [
      " 1824424 321635 143436.435   55   51 136382.000 150584.264  10.4%  29.9  415s\n"
     ]
    },
    {
     "name": "stderr",
     "output_type": "stream",
     "text": [
      "2023-05-12 09:19:15,649 - INFO -  1824424 321635 143436.435   55   51 136382.000 150584.264  10.4%  29.9  415s\n"
     ]
    },
    {
     "name": "stdout",
     "output_type": "stream",
     "text": [
      " 1835515 326027     cutoff   62      136382.000 150578.504  10.4%  30.1  420s\n"
     ]
    },
    {
     "name": "stderr",
     "output_type": "stream",
     "text": [
      "2023-05-12 09:19:20,877 - INFO -  1835515 326027     cutoff   62      136382.000 150578.504  10.4%  30.1  420s\n"
     ]
    },
    {
     "name": "stdout",
     "output_type": "stream",
     "text": [
      " 1845903 329438     cutoff   60      136382.000 150568.149  10.4%  30.3  425s\n"
     ]
    },
    {
     "name": "stderr",
     "output_type": "stream",
     "text": [
      "2023-05-12 09:19:25,648 - INFO -  1845903 329438     cutoff   60      136382.000 150568.149  10.4%  30.3  425s\n"
     ]
    },
    {
     "name": "stdout",
     "output_type": "stream",
     "text": [
      " 1855187 332828 148327.437   53   94 136382.000 150565.086  10.4%  30.5  430s\n"
     ]
    },
    {
     "name": "stderr",
     "output_type": "stream",
     "text": [
      "2023-05-12 09:19:30,745 - INFO -  1855187 332828 148327.437   53   94 136382.000 150565.086  10.4%  30.5  430s\n"
     ]
    },
    {
     "name": "stdout",
     "output_type": "stream",
     "text": [
      " 1865127 336130 146122.281   67   85 136382.000 150556.700  10.4%  30.6  435s\n"
     ]
    },
    {
     "name": "stderr",
     "output_type": "stream",
     "text": [
      "2023-05-12 09:19:35,837 - INFO -  1865127 336130 146122.281   67   85 136382.000 150556.700  10.4%  30.6  435s\n"
     ]
    },
    {
     "name": "stdout",
     "output_type": "stream",
     "text": [
      " 1874940 339164 147219.083   55   95 136382.000 150549.629  10.4%  30.8  440s\n"
     ]
    },
    {
     "name": "stderr",
     "output_type": "stream",
     "text": [
      "2023-05-12 09:19:40,979 - INFO -  1874940 339164 147219.083   55   95 136382.000 150549.629  10.4%  30.8  440s\n"
     ]
    },
    {
     "name": "stdout",
     "output_type": "stream",
     "text": [
      " 1884086 342364 149060.934   63   76 136382.000 150540.371  10.4%  31.0  445s\n"
     ]
    },
    {
     "name": "stderr",
     "output_type": "stream",
     "text": [
      "2023-05-12 09:19:45,738 - INFO -  1884086 342364 149060.934   63   76 136382.000 150540.371  10.4%  31.0  445s\n"
     ]
    },
    {
     "name": "stdout",
     "output_type": "stream",
     "text": [
      " 1893451 345347 140731.778   57   57 136382.000 150530.491  10.4%  31.1  450s\n"
     ]
    },
    {
     "name": "stderr",
     "output_type": "stream",
     "text": [
      "2023-05-12 09:19:50,943 - INFO -  1893451 345347 140731.778   57   57 136382.000 150530.491  10.4%  31.1  450s\n"
     ]
    },
    {
     "name": "stdout",
     "output_type": "stream",
     "text": [
      " 1904034 349054 141875.814   60   70 136382.000 150524.657  10.4%  31.3  455s\n"
     ]
    },
    {
     "name": "stderr",
     "output_type": "stream",
     "text": [
      "2023-05-12 09:19:55,773 - INFO -  1904034 349054 141875.814   60   70 136382.000 150524.657  10.4%  31.3  455s\n"
     ]
    },
    {
     "name": "stdout",
     "output_type": "stream",
     "text": [
      " 1914947 352264 146985.826   73   89 136382.000 150513.397  10.4%  31.5  460s\n"
     ]
    },
    {
     "name": "stderr",
     "output_type": "stream",
     "text": [
      "2023-05-12 09:20:01,208 - INFO -  1914947 352264 146985.826   73   89 136382.000 150513.397  10.4%  31.5  460s\n"
     ]
    },
    {
     "name": "stdout",
     "output_type": "stream",
     "text": [
      " 1922838 354496 145826.672   65   45 136382.000 150502.703  10.4%  31.7  465s\n"
     ]
    },
    {
     "name": "stderr",
     "output_type": "stream",
     "text": [
      "2023-05-12 09:20:05,563 - INFO -  1922838 354496 145826.672   65   45 136382.000 150502.703  10.4%  31.7  465s\n"
     ]
    },
    {
     "name": "stdout",
     "output_type": "stream",
     "text": [
      " 1933160 357388 141281.078   64   45 136382.000 150489.132  10.3%  31.9  470s\n"
     ]
    },
    {
     "name": "stderr",
     "output_type": "stream",
     "text": [
      "2023-05-12 09:20:11,154 - INFO -  1933160 357388 141281.078   64   45 136382.000 150489.132  10.3%  31.9  470s\n"
     ]
    },
    {
     "name": "stdout",
     "output_type": "stream",
     "text": [
      " 1940458 359658 143891.917   48   71 136382.000 150480.193  10.3%  32.0  475s\n"
     ]
    },
    {
     "name": "stderr",
     "output_type": "stream",
     "text": [
      "2023-05-12 09:20:15,572 - INFO -  1940458 359658 143891.917   48   71 136382.000 150480.193  10.3%  32.0  475s\n"
     ]
    },
    {
     "name": "stdout",
     "output_type": "stream",
     "text": [
      " 1947618 361662 149995.261   54   90 136382.000 150472.680  10.3%  32.1  480s\n"
     ]
    },
    {
     "name": "stderr",
     "output_type": "stream",
     "text": [
      "2023-05-12 09:20:20,676 - INFO -  1947618 361662 149995.261   54   90 136382.000 150472.680  10.3%  32.1  480s\n"
     ]
    },
    {
     "name": "stdout",
     "output_type": "stream",
     "text": [
      " 1955453 363736 infeasible   84      136382.000 150465.659  10.3%  32.3  485s\n"
     ]
    },
    {
     "name": "stderr",
     "output_type": "stream",
     "text": [
      "2023-05-12 09:20:25,686 - INFO -  1955453 363736 infeasible   84      136382.000 150465.659  10.3%  32.3  485s\n"
     ]
    },
    {
     "name": "stdout",
     "output_type": "stream",
     "text": [
      " 1963644 365909 143960.758   72   70 136382.000 150457.315  10.3%  32.5  490s\n"
     ]
    },
    {
     "name": "stderr",
     "output_type": "stream",
     "text": [
      "2023-05-12 09:20:31,128 - INFO -  1963644 365909 143960.758   72   70 136382.000 150457.315  10.3%  32.5  490s\n"
     ]
    },
    {
     "name": "stdout",
     "output_type": "stream",
     "text": [
      " 1970876 367856 149033.861   34   68 136382.000 150447.361  10.3%  32.6  495s\n"
     ]
    },
    {
     "name": "stderr",
     "output_type": "stream",
     "text": [
      "2023-05-12 09:20:35,431 - INFO -  1970876 367856 149033.861   34   68 136382.000 150447.361  10.3%  32.6  495s\n"
     ]
    },
    {
     "name": "stdout",
     "output_type": "stream",
     "text": [
      " 1978326 370332 infeasible   57      136382.000 150439.363  10.3%  32.7  500s\n"
     ]
    },
    {
     "name": "stderr",
     "output_type": "stream",
     "text": [
      "2023-05-12 09:20:40,487 - INFO -  1978326 370332 infeasible   57      136382.000 150439.363  10.3%  32.7  500s\n"
     ]
    },
    {
     "name": "stdout",
     "output_type": "stream",
     "text": [
      " 1986729 372541 150120.100   54   58 136382.000 150431.731  10.3%  32.9  505s\n"
     ]
    },
    {
     "name": "stderr",
     "output_type": "stream",
     "text": [
      "2023-05-12 09:20:46,066 - INFO -  1986729 372541 150120.100   54   58 136382.000 150431.731  10.3%  32.9  505s\n"
     ]
    },
    {
     "name": "stdout",
     "output_type": "stream",
     "text": [
      " 1991875 373741 infeasible   60      136382.000 150426.362  10.3%  33.0  511s\n"
     ]
    },
    {
     "name": "stderr",
     "output_type": "stream",
     "text": [
      "2023-05-12 09:20:51,740 - INFO -  1991875 373741 infeasible   60      136382.000 150426.362  10.3%  33.0  511s\n"
     ]
    },
    {
     "name": "stdout",
     "output_type": "stream",
     "text": [
      " 1995858 375251 149600.041   62   87 136382.000 150420.853  10.3%  33.0  515s\n"
     ]
    },
    {
     "name": "stderr",
     "output_type": "stream",
     "text": [
      "2023-05-12 09:20:55,508 - INFO -  1995858 375251 149600.041   62   87 136382.000 150420.853  10.3%  33.0  515s\n"
     ]
    },
    {
     "name": "stdout",
     "output_type": "stream",
     "text": [
      " 2002596 377624 147540.846   61   85 136382.000 150415.317  10.3%  33.2  520s\n"
     ]
    },
    {
     "name": "stderr",
     "output_type": "stream",
     "text": [
      "2023-05-12 09:21:00,417 - INFO -  2002596 377624 147540.846   61   85 136382.000 150415.317  10.3%  33.2  520s\n"
     ]
    },
    {
     "name": "stdout",
     "output_type": "stream",
     "text": [
      " 2010720 380154 150259.598   49   71 136382.000 150406.182  10.3%  33.3  525s\n"
     ]
    },
    {
     "name": "stderr",
     "output_type": "stream",
     "text": [
      "2023-05-12 09:21:06,186 - INFO -  2010720 380154 150259.598   49   71 136382.000 150406.182  10.3%  33.3  525s\n"
     ]
    },
    {
     "name": "stdout",
     "output_type": "stream",
     "text": [
      " 2016690 382559 148965.541   58   61 136382.000 150406.182  10.3%  33.4  530s\n"
     ]
    },
    {
     "name": "stderr",
     "output_type": "stream",
     "text": [
      "2023-05-12 09:21:10,747 - INFO -  2016690 382559 148965.541   58   61 136382.000 150406.182  10.3%  33.4  530s\n"
     ]
    },
    {
     "name": "stdout",
     "output_type": "stream",
     "text": [
      " 2024086 385269 147896.354   56   40 136382.000 150406.182  10.3%  33.6  535s\n"
     ]
    },
    {
     "name": "stderr",
     "output_type": "stream",
     "text": [
      "2023-05-12 09:21:16,000 - INFO -  2024086 385269 147896.354   56   40 136382.000 150406.182  10.3%  33.6  535s\n"
     ]
    },
    {
     "name": "stdout",
     "output_type": "stream",
     "text": [
      " 2031552 387651 144272.590   56   45 136382.000 150405.240  10.3%  33.7  540s\n"
     ]
    },
    {
     "name": "stderr",
     "output_type": "stream",
     "text": [
      "2023-05-12 09:21:21,276 - INFO -  2031552 387651 144272.590   56   45 136382.000 150405.240  10.3%  33.7  540s\n"
     ]
    },
    {
     "name": "stdout",
     "output_type": "stream",
     "text": [
      " 2039259 389869     cutoff   54      136382.000 150401.729  10.3%  33.8  545s\n"
     ]
    },
    {
     "name": "stderr",
     "output_type": "stream",
     "text": [
      "2023-05-12 09:21:26,248 - INFO -  2039259 389869     cutoff   54      136382.000 150401.729  10.3%  33.8  545s\n"
     ]
    },
    {
     "name": "stdout",
     "output_type": "stream",
     "text": [
      " 2046153 391794 148543.241   50   89 136382.000 150397.966  10.3%  34.0  550s\n"
     ]
    },
    {
     "name": "stderr",
     "output_type": "stream",
     "text": [
      "2023-05-12 09:21:30,781 - INFO -  2046153 391794 148543.241   50   89 136382.000 150397.966  10.3%  34.0  550s\n"
     ]
    },
    {
     "name": "stdout",
     "output_type": "stream",
     "text": [
      " 2053115 393963 148746.657   63   77 136382.000 150395.211  10.3%  34.1  556s\n"
     ]
    },
    {
     "name": "stderr",
     "output_type": "stream",
     "text": [
      "2023-05-12 09:21:36,528 - INFO -  2053115 393963 148746.657   63   77 136382.000 150395.211  10.3%  34.1  556s\n"
     ]
    },
    {
     "name": "stdout",
     "output_type": "stream",
     "text": [
      " 2058958 395518     cutoff   50      136382.000 150391.445  10.3%  34.2  560s\n"
     ]
    },
    {
     "name": "stderr",
     "output_type": "stream",
     "text": [
      "2023-05-12 09:21:40,601 - INFO -  2058958 395518     cutoff   50      136382.000 150391.445  10.3%  34.2  560s\n"
     ]
    },
    {
     "name": "stdout",
     "output_type": "stream",
     "text": [
      " 2066411 397611 148981.239   60  101 136382.000 150387.782  10.3%  34.3  565s\n"
     ]
    },
    {
     "name": "stderr",
     "output_type": "stream",
     "text": [
      "2023-05-12 09:21:45,712 - INFO -  2066411 397611 148981.239   60  101 136382.000 150387.782  10.3%  34.3  565s\n"
     ]
    },
    {
     "name": "stdout",
     "output_type": "stream",
     "text": [
      " 2073216 399674 143698.267   63   58 136382.000 150381.195  10.3%  34.5  570s\n"
     ]
    },
    {
     "name": "stderr",
     "output_type": "stream",
     "text": [
      "2023-05-12 09:21:51,024 - INFO -  2073216 399674 143698.267   63   58 136382.000 150381.195  10.3%  34.5  570s\n"
     ]
    },
    {
     "name": "stdout",
     "output_type": "stream",
     "text": [
      " 2079962 402023 150166.482   61   82 136382.000 150376.392  10.3%  34.6  575s\n"
     ]
    },
    {
     "name": "stderr",
     "output_type": "stream",
     "text": [
      "2023-05-12 09:21:56,341 - INFO -  2079962 402023 150166.482   61   82 136382.000 150376.392  10.3%  34.6  575s\n"
     ]
    },
    {
     "name": "stdout",
     "output_type": "stream",
     "text": [
      " 2086479 403900 146413.314   64   72 136382.000 150372.365  10.3%  34.7  580s\n"
     ]
    },
    {
     "name": "stderr",
     "output_type": "stream",
     "text": [
      "2023-05-12 09:22:00,886 - INFO -  2086479 403900 146413.314   64   72 136382.000 150372.365  10.3%  34.7  580s\n"
     ]
    },
    {
     "name": "stdout",
     "output_type": "stream",
     "text": [
      " 2094893 406367 149302.053   63  102 136382.000 150366.064  10.3%  34.9  585s\n"
     ]
    },
    {
     "name": "stderr",
     "output_type": "stream",
     "text": [
      "2023-05-12 09:22:06,101 - INFO -  2094893 406367 149302.053   63  102 136382.000 150366.064  10.3%  34.9  585s\n"
     ]
    },
    {
     "name": "stdout",
     "output_type": "stream",
     "text": [
      " 2103202 408821 149751.339   53   93 136382.000 150360.256  10.2%  35.0  590s\n"
     ]
    },
    {
     "name": "stderr",
     "output_type": "stream",
     "text": [
      "2023-05-12 09:22:10,974 - INFO -  2103202 408821 149751.339   53   93 136382.000 150360.256  10.2%  35.0  590s\n"
     ]
    },
    {
     "name": "stdout",
     "output_type": "stream",
     "text": [
      " 2112783 411665 140248.890   57   62 136382.000 150352.053  10.2%  35.2  595s\n"
     ]
    },
    {
     "name": "stderr",
     "output_type": "stream",
     "text": [
      "2023-05-12 09:22:15,473 - INFO -  2112783 411665 140248.890   57   62 136382.000 150352.053  10.2%  35.2  595s\n"
     ]
    },
    {
     "name": "stdout",
     "output_type": "stream",
     "text": [
      " 2122971 414143 infeasible   62      136382.000 150344.189  10.2%  35.3  600s\n"
     ]
    },
    {
     "name": "stderr",
     "output_type": "stream",
     "text": [
      "2023-05-12 09:22:20,412 - INFO -  2122971 414143 infeasible   62      136382.000 150344.189  10.2%  35.3  600s\n"
     ]
    },
    {
     "name": "stdout",
     "output_type": "stream",
     "text": [
      "\n"
     ]
    },
    {
     "name": "stderr",
     "output_type": "stream",
     "text": [
      "2023-05-12 09:22:20,476 - INFO - \n"
     ]
    },
    {
     "name": "stdout",
     "output_type": "stream",
     "text": [
      "Cutting planes:\n"
     ]
    },
    {
     "name": "stderr",
     "output_type": "stream",
     "text": [
      "2023-05-12 09:22:20,476 - INFO - Cutting planes:\n"
     ]
    },
    {
     "name": "stdout",
     "output_type": "stream",
     "text": [
      "  Lazy constraints: 2210\n"
     ]
    },
    {
     "name": "stderr",
     "output_type": "stream",
     "text": [
      "2023-05-12 09:22:20,492 - INFO -   Lazy constraints: 2210\n"
     ]
    },
    {
     "name": "stdout",
     "output_type": "stream",
     "text": [
      "\n"
     ]
    },
    {
     "name": "stderr",
     "output_type": "stream",
     "text": [
      "2023-05-12 09:22:20,495 - INFO - \n"
     ]
    },
    {
     "name": "stdout",
     "output_type": "stream",
     "text": [
      "Explored 2123994 nodes (75108631 simplex iterations) in 600.08 seconds\n"
     ]
    },
    {
     "name": "stderr",
     "output_type": "stream",
     "text": [
      "2023-05-12 09:22:20,498 - INFO - Explored 2123994 nodes (75108631 simplex iterations) in 600.08 seconds\n"
     ]
    },
    {
     "name": "stdout",
     "output_type": "stream",
     "text": [
      "Thread count was 24 (of 48 available processors)\n"
     ]
    },
    {
     "name": "stderr",
     "output_type": "stream",
     "text": [
      "2023-05-12 09:22:20,501 - INFO - Thread count was 24 (of 48 available processors)\n"
     ]
    },
    {
     "name": "stdout",
     "output_type": "stream",
     "text": [
      "\n"
     ]
    },
    {
     "name": "stderr",
     "output_type": "stream",
     "text": [
      "2023-05-12 09:22:20,503 - INFO - \n"
     ]
    },
    {
     "name": "stdout",
     "output_type": "stream",
     "text": [
      "Solution count 6: 136382 135989 135551 ... 126679\n"
     ]
    },
    {
     "name": "stderr",
     "output_type": "stream",
     "text": [
      "2023-05-12 09:22:20,505 - INFO - Solution count 6: 136382 135989 135551 ... 126679\n"
     ]
    },
    {
     "name": "stdout",
     "output_type": "stream",
     "text": [
      "\n"
     ]
    },
    {
     "name": "stderr",
     "output_type": "stream",
     "text": [
      "2023-05-12 09:22:20,506 - INFO - \n"
     ]
    },
    {
     "name": "stdout",
     "output_type": "stream",
     "text": [
      "Time limit reached\n"
     ]
    },
    {
     "name": "stderr",
     "output_type": "stream",
     "text": [
      "2023-05-12 09:22:20,511 - INFO - Time limit reached\n"
     ]
    },
    {
     "name": "stdout",
     "output_type": "stream",
     "text": [
      "Best objective 1.363820000000e+05, best bound 1.503429977898e+05, gap 10.2367%\n"
     ]
    },
    {
     "name": "stderr",
     "output_type": "stream",
     "text": [
      "2023-05-12 09:22:20,513 - INFO - Best objective 1.363820000000e+05, best bound 1.503429977898e+05, gap 10.2367%\n"
     ]
    },
    {
     "name": "stdout",
     "output_type": "stream",
     "text": [
      "\n"
     ]
    },
    {
     "name": "stderr",
     "output_type": "stream",
     "text": [
      "2023-05-12 09:22:20,515 - INFO - \n"
     ]
    },
    {
     "name": "stdout",
     "output_type": "stream",
     "text": [
      "User-callback calls 4291061, time in user-callback 17.48 sec\n"
     ]
    },
    {
     "name": "stderr",
     "output_type": "stream",
     "text": [
      "2023-05-12 09:22:20,517 - INFO - User-callback calls 4291061, time in user-callback 17.48 sec\n"
     ]
    },
    {
     "name": "stdout",
     "output_type": "stream",
     "text": [
      "{'Bounds': {'D200': {'ub': 150342.99778980177, 'max_soln': 136382.00000000012}, 'D160': {}, 'R200': {}, 'R160': {}, 'D201': {}, 'D161': {}, 'R201': {}, 'R161': {}, 'D202': {}, 'D162': {}, 'R202': {}, 'R162': {}, 'D203': {}, 'D163': {}, 'R203': {}, 'R163': {}, 'D204': {}, 'D164': {}, 'R204': {}, 'R164': {}, 'D205': {}, 'D165': {}, 'R205': {}, 'R165': {}, 'D206': {}, 'D166': {}, 'R206': {}, 'R166': {}}}\n",
      "0\n",
      "{0: <gurobi.Var D160>, 1: <gurobi.Var D161>, 2: <gurobi.Var D162>, 3: <gurobi.Var D163>, 4: <gurobi.Var D164>, 5: <gurobi.Var D165>, 6: <gurobi.Var D166>}\n",
      "max D160\n",
      "Gurobi Optimizer version 9.1.2 build v9.1.2rc0 (win64)\n"
     ]
    },
    {
     "name": "stderr",
     "output_type": "stream",
     "text": [
      "2023-05-12 09:22:21,725 - INFO - Gurobi Optimizer version 9.1.2 build v9.1.2rc0 (win64)\n"
     ]
    },
    {
     "name": "stdout",
     "output_type": "stream",
     "text": [
      "Thread count: 24 physical cores, 48 logical processors, using up to 24 threads\n"
     ]
    },
    {
     "name": "stderr",
     "output_type": "stream",
     "text": [
      "2023-05-12 09:22:21,727 - INFO - Thread count: 24 physical cores, 48 logical processors, using up to 24 threads\n"
     ]
    },
    {
     "name": "stdout",
     "output_type": "stream",
     "text": [
      "Optimize a model with 109 rows, 686 columns and 2337 nonzeros\n"
     ]
    },
    {
     "name": "stderr",
     "output_type": "stream",
     "text": [
      "2023-05-12 09:22:21,728 - INFO - Optimize a model with 109 rows, 686 columns and 2337 nonzeros\n"
     ]
    },
    {
     "name": "stdout",
     "output_type": "stream",
     "text": [
      "Model fingerprint: 0x2a1593ac\n"
     ]
    },
    {
     "name": "stderr",
     "output_type": "stream",
     "text": [
      "2023-05-12 09:22:21,730 - INFO - Model fingerprint: 0x2a1593ac\n"
     ]
    },
    {
     "name": "stdout",
     "output_type": "stream",
     "text": [
      "Variable types: 42 continuous, 644 integer (644 binary)\n"
     ]
    },
    {
     "name": "stderr",
     "output_type": "stream",
     "text": [
      "2023-05-12 09:22:21,732 - INFO - Variable types: 42 continuous, 644 integer (644 binary)\n"
     ]
    },
    {
     "name": "stdout",
     "output_type": "stream",
     "text": [
      "Coefficient statistics:\n"
     ]
    },
    {
     "name": "stderr",
     "output_type": "stream",
     "text": [
      "2023-05-12 09:22:21,733 - INFO - Coefficient statistics:\n"
     ]
    },
    {
     "name": "stdout",
     "output_type": "stream",
     "text": [
      "  Matrix range     [1e+00, 5e+05]\n"
     ]
    },
    {
     "name": "stderr",
     "output_type": "stream",
     "text": [
      "2023-05-12 09:22:21,734 - INFO -   Matrix range     [1e+00, 5e+05]\n"
     ]
    },
    {
     "name": "stdout",
     "output_type": "stream",
     "text": [
      "  Objective range  [1e+00, 1e+00]\n"
     ]
    },
    {
     "name": "stderr",
     "output_type": "stream",
     "text": [
      "2023-05-12 09:22:21,736 - INFO -   Objective range  [1e+00, 1e+00]\n"
     ]
    },
    {
     "name": "stdout",
     "output_type": "stream",
     "text": [
      "  Bounds range     [1e+00, 8e+05]\n"
     ]
    },
    {
     "name": "stderr",
     "output_type": "stream",
     "text": [
      "2023-05-12 09:22:21,737 - INFO -   Bounds range     [1e+00, 8e+05]\n"
     ]
    },
    {
     "name": "stdout",
     "output_type": "stream",
     "text": [
      "  RHS range        [1e+00, 8e+05]\n"
     ]
    },
    {
     "name": "stderr",
     "output_type": "stream",
     "text": [
      "2023-05-12 09:22:21,739 - INFO -   RHS range        [1e+00, 8e+05]\n"
     ]
    },
    {
     "name": "stdout",
     "output_type": "stream",
     "text": [
      "\n"
     ]
    },
    {
     "name": "stderr",
     "output_type": "stream",
     "text": [
      "2023-05-12 09:22:21,740 - INFO - \n"
     ]
    },
    {
     "name": "stdout",
     "output_type": "stream",
     "text": [
      "Warning: Completing partial solution with 598 unfixed non-continuous variables out of 644\n"
     ]
    },
    {
     "name": "stderr",
     "output_type": "stream",
     "text": [
      "2023-05-12 09:22:21,741 - INFO - Warning: Completing partial solution with 598 unfixed non-continuous variables out of 644\n"
     ]
    },
    {
     "name": "stdout",
     "output_type": "stream",
     "text": [
      "User MIP start produced solution with objective 89325.3 (0.02s)\n"
     ]
    },
    {
     "name": "stderr",
     "output_type": "stream",
     "text": [
      "2023-05-12 09:22:21,750 - INFO - User MIP start produced solution with objective 89325.3 (0.02s)\n"
     ]
    },
    {
     "name": "stdout",
     "output_type": "stream",
     "text": [
      "Loaded user MIP start with objective 89325.3\n"
     ]
    },
    {
     "name": "stderr",
     "output_type": "stream",
     "text": [
      "2023-05-12 09:22:21,756 - INFO - Loaded user MIP start with objective 89325.3\n"
     ]
    },
    {
     "name": "stdout",
     "output_type": "stream",
     "text": [
      "MIP start from previous solve produced solution with objective 108988 (0.03s)\n"
     ]
    },
    {
     "name": "stderr",
     "output_type": "stream",
     "text": [
      "2023-05-12 09:22:21,762 - INFO - MIP start from previous solve produced solution with objective 108988 (0.03s)\n"
     ]
    },
    {
     "name": "stdout",
     "output_type": "stream",
     "text": [
      "Loaded MIP start from previous solve with objective 108988\n"
     ]
    },
    {
     "name": "stderr",
     "output_type": "stream",
     "text": [
      "2023-05-12 09:22:21,762 - INFO - Loaded MIP start from previous solve with objective 108988\n"
     ]
    },
    {
     "name": "stdout",
     "output_type": "stream",
     "text": [
      "\n"
     ]
    },
    {
     "name": "stderr",
     "output_type": "stream",
     "text": [
      "2023-05-12 09:22:21,762 - INFO - \n"
     ]
    },
    {
     "name": "stdout",
     "output_type": "stream",
     "text": [
      "Presolve removed 15 rows and 14 columns\n"
     ]
    },
    {
     "name": "stderr",
     "output_type": "stream",
     "text": [
      "2023-05-12 09:22:21,785 - INFO - Presolve removed 15 rows and 14 columns\n"
     ]
    },
    {
     "name": "stdout",
     "output_type": "stream",
     "text": [
      "Presolve time: 0.02s\n"
     ]
    },
    {
     "name": "stderr",
     "output_type": "stream",
     "text": [
      "2023-05-12 09:22:21,787 - INFO - Presolve time: 0.02s\n"
     ]
    },
    {
     "name": "stdout",
     "output_type": "stream",
     "text": [
      "Presolved: 94 rows, 672 columns, 2294 nonzeros\n"
     ]
    },
    {
     "name": "stderr",
     "output_type": "stream",
     "text": [
      "2023-05-12 09:22:21,789 - INFO - Presolved: 94 rows, 672 columns, 2294 nonzeros\n"
     ]
    },
    {
     "name": "stdout",
     "output_type": "stream",
     "text": [
      "Variable types: 28 continuous, 644 integer (644 binary)\n"
     ]
    },
    {
     "name": "stderr",
     "output_type": "stream",
     "text": [
      "2023-05-12 09:22:21,793 - INFO - Variable types: 28 continuous, 644 integer (644 binary)\n"
     ]
    },
    {
     "name": "stdout",
     "output_type": "stream",
     "text": [
      "\n"
     ]
    },
    {
     "name": "stderr",
     "output_type": "stream",
     "text": [
      "2023-05-12 09:22:21,796 - INFO - \n"
     ]
    },
    {
     "name": "stdout",
     "output_type": "stream",
     "text": [
      "Concurrent LP optimizer: primal simplex, dual simplex, and barrier\n"
     ]
    },
    {
     "name": "stderr",
     "output_type": "stream",
     "text": [
      "2023-05-12 09:22:21,797 - INFO - Concurrent LP optimizer: primal simplex, dual simplex, and barrier\n"
     ]
    },
    {
     "name": "stdout",
     "output_type": "stream",
     "text": [
      "Showing barrier log only...\n"
     ]
    },
    {
     "name": "stderr",
     "output_type": "stream",
     "text": [
      "2023-05-12 09:22:21,799 - INFO - Showing barrier log only...\n"
     ]
    },
    {
     "name": "stdout",
     "output_type": "stream",
     "text": [
      "\n"
     ]
    },
    {
     "name": "stderr",
     "output_type": "stream",
     "text": [
      "2023-05-12 09:22:21,800 - INFO - \n"
     ]
    },
    {
     "name": "stdout",
     "output_type": "stream",
     "text": [
      "Root barrier log...\n"
     ]
    },
    {
     "name": "stderr",
     "output_type": "stream",
     "text": [
      "2023-05-12 09:22:21,807 - INFO - Root barrier log...\n"
     ]
    },
    {
     "name": "stdout",
     "output_type": "stream",
     "text": [
      "\n"
     ]
    },
    {
     "name": "stderr",
     "output_type": "stream",
     "text": [
      "2023-05-12 09:22:21,809 - INFO - \n"
     ]
    },
    {
     "name": "stdout",
     "output_type": "stream",
     "text": [
      "Ordering time: 0.00s\n"
     ]
    },
    {
     "name": "stderr",
     "output_type": "stream",
     "text": [
      "2023-05-12 09:22:21,811 - INFO - Ordering time: 0.00s\n"
     ]
    },
    {
     "name": "stdout",
     "output_type": "stream",
     "text": [
      "\n"
     ]
    },
    {
     "name": "stderr",
     "output_type": "stream",
     "text": [
      "2023-05-12 09:22:21,813 - INFO - \n"
     ]
    },
    {
     "name": "stdout",
     "output_type": "stream",
     "text": [
      "Barrier performed 0 iterations in 0.09 seconds\n"
     ]
    },
    {
     "name": "stderr",
     "output_type": "stream",
     "text": [
      "2023-05-12 09:22:21,814 - INFO - Barrier performed 0 iterations in 0.09 seconds\n"
     ]
    },
    {
     "name": "stdout",
     "output_type": "stream",
     "text": [
      "Barrier solve interrupted - model solved by another algorithm\n"
     ]
    },
    {
     "name": "stderr",
     "output_type": "stream",
     "text": [
      "2023-05-12 09:22:21,816 - INFO - Barrier solve interrupted - model solved by another algorithm\n"
     ]
    },
    {
     "name": "stdout",
     "output_type": "stream",
     "text": [
      "\n"
     ]
    },
    {
     "name": "stderr",
     "output_type": "stream",
     "text": [
      "2023-05-12 09:22:21,817 - INFO - \n"
     ]
    },
    {
     "name": "stdout",
     "output_type": "stream",
     "text": [
      "\n"
     ]
    },
    {
     "name": "stderr",
     "output_type": "stream",
     "text": [
      "2023-05-12 09:22:21,819 - INFO - \n"
     ]
    },
    {
     "name": "stdout",
     "output_type": "stream",
     "text": [
      "Solved with dual simplex\n"
     ]
    },
    {
     "name": "stderr",
     "output_type": "stream",
     "text": [
      "2023-05-12 09:22:21,821 - INFO - Solved with dual simplex\n"
     ]
    },
    {
     "name": "stdout",
     "output_type": "stream",
     "text": [
      "\n"
     ]
    },
    {
     "name": "stderr",
     "output_type": "stream",
     "text": [
      "2023-05-12 09:22:21,823 - INFO - \n"
     ]
    },
    {
     "name": "stdout",
     "output_type": "stream",
     "text": [
      "Root relaxation: objective 1.412056e+05, 88 iterations, 0.03 seconds\n"
     ]
    },
    {
     "name": "stderr",
     "output_type": "stream",
     "text": [
      "2023-05-12 09:22:21,827 - INFO - Root relaxation: objective 1.412056e+05, 88 iterations, 0.03 seconds\n"
     ]
    },
    {
     "name": "stdout",
     "output_type": "stream",
     "text": [
      "\n"
     ]
    },
    {
     "name": "stderr",
     "output_type": "stream",
     "text": [
      "2023-05-12 09:22:21,839 - INFO - \n"
     ]
    },
    {
     "name": "stdout",
     "output_type": "stream",
     "text": [
      "    Nodes    |    Current Node    |     Objective Bounds      |     Work\n"
     ]
    },
    {
     "name": "stderr",
     "output_type": "stream",
     "text": [
      "2023-05-12 09:22:21,840 - INFO -     Nodes    |    Current Node    |     Objective Bounds      |     Work\n"
     ]
    },
    {
     "name": "stdout",
     "output_type": "stream",
     "text": [
      " Expl Unexpl |  Obj  Depth IntInf | Incumbent    BestBd   Gap | It/Node Time\n"
     ]
    },
    {
     "name": "stderr",
     "output_type": "stream",
     "text": [
      "2023-05-12 09:22:21,842 - INFO -  Expl Unexpl |  Obj  Depth IntInf | Incumbent    BestBd   Gap | It/Node Time\n"
     ]
    },
    {
     "name": "stdout",
     "output_type": "stream",
     "text": [
      "\n"
     ]
    },
    {
     "name": "stderr",
     "output_type": "stream",
     "text": [
      "2023-05-12 09:22:21,844 - INFO - \n"
     ]
    },
    {
     "name": "stdout",
     "output_type": "stream",
     "text": [
      "     0     0 141205.562    0   14 108988.000 141205.562  29.6%     -    0s\n"
     ]
    },
    {
     "name": "stderr",
     "output_type": "stream",
     "text": [
      "2023-05-12 09:22:21,846 - INFO -      0     0 141205.562    0   14 108988.000 141205.562  29.6%     -    0s\n"
     ]
    },
    {
     "name": "stdout",
     "output_type": "stream",
     "text": [
      "     0     0 141192.015    0   18 108988.000 141192.015  29.5%     -    0s\n"
     ]
    },
    {
     "name": "stderr",
     "output_type": "stream",
     "text": [
      "2023-05-12 09:22:21,859 - INFO -      0     0 141192.015    0   18 108988.000 141192.015  29.5%     -    0s\n"
     ]
    },
    {
     "name": "stdout",
     "output_type": "stream",
     "text": [
      "     0     0 141183.780    0   23 108988.000 141183.780  29.5%     -    0s\n"
     ]
    },
    {
     "name": "stderr",
     "output_type": "stream",
     "text": [
      "2023-05-12 09:22:21,864 - INFO -      0     0 141183.780    0   23 108988.000 141183.780  29.5%     -    0s\n"
     ]
    },
    {
     "name": "stdout",
     "output_type": "stream",
     "text": [
      "     0     0 141183.780    0   22 108988.000 141183.780  29.5%     -    0s\n"
     ]
    },
    {
     "name": "stderr",
     "output_type": "stream",
     "text": [
      "2023-05-12 09:22:21,864 - INFO -      0     0 141183.780    0   22 108988.000 141183.780  29.5%     -    0s\n"
     ]
    },
    {
     "name": "stdout",
     "output_type": "stream",
     "text": [
      "     0     0 141159.411    0   29 108988.000 141159.411  29.5%     -    0s\n"
     ]
    },
    {
     "name": "stderr",
     "output_type": "stream",
     "text": [
      "2023-05-12 09:22:21,880 - INFO -      0     0 141159.411    0   29 108988.000 141159.411  29.5%     -    0s\n"
     ]
    },
    {
     "name": "stdout",
     "output_type": "stream",
     "text": [
      "     0     0 141151.528    0   27 108988.000 141151.528  29.5%     -    0s\n"
     ]
    },
    {
     "name": "stderr",
     "output_type": "stream",
     "text": [
      "2023-05-12 09:22:21,880 - INFO -      0     0 141151.528    0   27 108988.000 141151.528  29.5%     -    0s\n"
     ]
    },
    {
     "name": "stdout",
     "output_type": "stream",
     "text": [
      "     0     0 141151.528    0   29 108988.000 141151.528  29.5%     -    0s\n"
     ]
    },
    {
     "name": "stderr",
     "output_type": "stream",
     "text": [
      "2023-05-12 09:22:21,900 - INFO -      0     0 141151.528    0   29 108988.000 141151.528  29.5%     -    0s\n"
     ]
    },
    {
     "name": "stdout",
     "output_type": "stream",
     "text": [
      "     0     0 141128.031    0   25 108988.000 141128.031  29.5%     -    0s\n"
     ]
    },
    {
     "name": "stderr",
     "output_type": "stream",
     "text": [
      "2023-05-12 09:22:21,930 - INFO -      0     0 141128.031    0   25 108988.000 141128.031  29.5%     -    0s\n"
     ]
    },
    {
     "name": "stdout",
     "output_type": "stream",
     "text": [
      "     0     0 141127.235    0   26 108988.000 141127.235  29.5%     -    0s\n"
     ]
    },
    {
     "name": "stderr",
     "output_type": "stream",
     "text": [
      "2023-05-12 09:22:21,994 - INFO -      0     0 141127.235    0   26 108988.000 141127.235  29.5%     -    0s\n"
     ]
    },
    {
     "name": "stdout",
     "output_type": "stream",
     "text": [
      "     0     0 141126.586    0   28 108988.000 141126.586  29.5%     -    0s\n"
     ]
    },
    {
     "name": "stderr",
     "output_type": "stream",
     "text": [
      "2023-05-12 09:22:21,999 - INFO -      0     0 141126.586    0   28 108988.000 141126.586  29.5%     -    0s\n"
     ]
    },
    {
     "name": "stdout",
     "output_type": "stream",
     "text": [
      "     0     0 141126.477    0   28 108988.000 141126.477  29.5%     -    0s\n"
     ]
    },
    {
     "name": "stderr",
     "output_type": "stream",
     "text": [
      "2023-05-12 09:22:22,004 - INFO -      0     0 141126.477    0   28 108988.000 141126.477  29.5%     -    0s\n"
     ]
    },
    {
     "name": "stdout",
     "output_type": "stream",
     "text": [
      "     0     0 141125.791    0   29 108988.000 141125.791  29.5%     -    0s\n"
     ]
    },
    {
     "name": "stderr",
     "output_type": "stream",
     "text": [
      "2023-05-12 09:22:22,040 - INFO -      0     0 141125.791    0   29 108988.000 141125.791  29.5%     -    0s\n"
     ]
    },
    {
     "name": "stdout",
     "output_type": "stream",
     "text": [
      "     0     0 141125.132    0   31 108988.000 141125.132  29.5%     -    0s\n"
     ]
    },
    {
     "name": "stderr",
     "output_type": "stream",
     "text": [
      "2023-05-12 09:22:22,050 - INFO -      0     0 141125.132    0   31 108988.000 141125.132  29.5%     -    0s\n"
     ]
    },
    {
     "name": "stdout",
     "output_type": "stream",
     "text": [
      "     0     0 141124.940    0   33 108988.000 141124.940  29.5%     -    0s\n"
     ]
    },
    {
     "name": "stderr",
     "output_type": "stream",
     "text": [
      "2023-05-12 09:22:22,055 - INFO -      0     0 141124.940    0   33 108988.000 141124.940  29.5%     -    0s\n"
     ]
    },
    {
     "name": "stdout",
     "output_type": "stream",
     "text": [
      "     0     0 141124.854    0   35 108988.000 141124.854  29.5%     -    0s\n"
     ]
    },
    {
     "name": "stderr",
     "output_type": "stream",
     "text": [
      "2023-05-12 09:22:22,060 - INFO -      0     0 141124.854    0   35 108988.000 141124.854  29.5%     -    0s\n"
     ]
    },
    {
     "name": "stdout",
     "output_type": "stream",
     "text": [
      "     0     0 141123.694    0   32 108988.000 141123.694  29.5%     -    0s\n"
     ]
    },
    {
     "name": "stderr",
     "output_type": "stream",
     "text": [
      "2023-05-12 09:22:22,062 - INFO -      0     0 141123.694    0   32 108988.000 141123.694  29.5%     -    0s\n"
     ]
    },
    {
     "name": "stdout",
     "output_type": "stream",
     "text": [
      "     0     0 141122.853    0   31 108988.000 141122.853  29.5%     -    0s\n"
     ]
    },
    {
     "name": "stderr",
     "output_type": "stream",
     "text": [
      "2023-05-12 09:22:22,062 - INFO -      0     0 141122.853    0   31 108988.000 141122.853  29.5%     -    0s\n"
     ]
    },
    {
     "name": "stdout",
     "output_type": "stream",
     "text": [
      "     0     0 141122.853    0   32 108988.000 141122.853  29.5%     -    0s\n"
     ]
    },
    {
     "name": "stderr",
     "output_type": "stream",
     "text": [
      "2023-05-12 09:22:22,062 - INFO -      0     0 141122.853    0   32 108988.000 141122.853  29.5%     -    0s\n"
     ]
    },
    {
     "name": "stdout",
     "output_type": "stream",
     "text": [
      "     0     0 141122.023    0   36 108988.000 141122.023  29.5%     -    0s\n"
     ]
    },
    {
     "name": "stderr",
     "output_type": "stream",
     "text": [
      "2023-05-12 09:22:22,078 - INFO -      0     0 141122.023    0   36 108988.000 141122.023  29.5%     -    0s\n"
     ]
    },
    {
     "name": "stdout",
     "output_type": "stream",
     "text": [
      "     0     0 141120.345    0   35 108988.000 141120.345  29.5%     -    0s\n"
     ]
    },
    {
     "name": "stderr",
     "output_type": "stream",
     "text": [
      "2023-05-12 09:22:22,093 - INFO -      0     0 141120.345    0   35 108988.000 141120.345  29.5%     -    0s\n"
     ]
    },
    {
     "name": "stdout",
     "output_type": "stream",
     "text": [
      "     0     0 141120.345    0   37 108988.000 141120.345  29.5%     -    0s\n"
     ]
    },
    {
     "name": "stderr",
     "output_type": "stream",
     "text": [
      "2023-05-12 09:22:22,110 - INFO -      0     0 141120.345    0   37 108988.000 141120.345  29.5%     -    0s\n"
     ]
    },
    {
     "name": "stdout",
     "output_type": "stream",
     "text": [
      "     0     0 141118.513    0   26 108988.000 141118.513  29.5%     -    0s\n"
     ]
    },
    {
     "name": "stderr",
     "output_type": "stream",
     "text": [
      "2023-05-12 09:22:22,131 - INFO -      0     0 141118.513    0   26 108988.000 141118.513  29.5%     -    0s\n"
     ]
    },
    {
     "name": "stdout",
     "output_type": "stream",
     "text": [
      "     0     0 141118.162    0   28 108988.000 141118.162  29.5%     -    0s\n"
     ]
    },
    {
     "name": "stderr",
     "output_type": "stream",
     "text": [
      "2023-05-12 09:22:22,142 - INFO -      0     0 141118.162    0   28 108988.000 141118.162  29.5%     -    0s\n"
     ]
    },
    {
     "name": "stdout",
     "output_type": "stream",
     "text": [
      "     0     0 141117.079    0   24 108988.000 141117.079  29.5%     -    0s\n"
     ]
    },
    {
     "name": "stderr",
     "output_type": "stream",
     "text": [
      "2023-05-12 09:22:22,148 - INFO -      0     0 141117.079    0   24 108988.000 141117.079  29.5%     -    0s\n"
     ]
    },
    {
     "name": "stdout",
     "output_type": "stream",
     "text": [
      "     0     0 141116.590    0   29 108988.000 141116.590  29.5%     -    0s\n"
     ]
    },
    {
     "name": "stderr",
     "output_type": "stream",
     "text": [
      "2023-05-12 09:22:22,151 - INFO -      0     0 141116.590    0   29 108988.000 141116.590  29.5%     -    0s\n"
     ]
    },
    {
     "name": "stdout",
     "output_type": "stream",
     "text": [
      "     0     0 141116.590    0   32 108988.000 141116.590  29.5%     -    0s\n"
     ]
    },
    {
     "name": "stderr",
     "output_type": "stream",
     "text": [
      "2023-05-12 09:22:22,156 - INFO -      0     0 141116.590    0   32 108988.000 141116.590  29.5%     -    0s\n"
     ]
    },
    {
     "name": "stdout",
     "output_type": "stream",
     "text": [
      "     0     0 141116.049    0   37 108988.000 141116.049  29.5%     -    0s\n"
     ]
    },
    {
     "name": "stderr",
     "output_type": "stream",
     "text": [
      "2023-05-12 09:22:22,161 - INFO -      0     0 141116.049    0   37 108988.000 141116.049  29.5%     -    0s\n"
     ]
    },
    {
     "name": "stdout",
     "output_type": "stream",
     "text": [
      "     0     0 141116.049    0   32 108988.000 141116.049  29.5%     -    0s\n"
     ]
    },
    {
     "name": "stderr",
     "output_type": "stream",
     "text": [
      "2023-05-12 09:22:22,195 - INFO -      0     0 141116.049    0   32 108988.000 141116.049  29.5%     -    0s\n"
     ]
    },
    {
     "name": "stdout",
     "output_type": "stream",
     "text": [
      "     0     0 141108.104    0   36 108988.000 141108.104  29.5%     -    0s\n"
     ]
    },
    {
     "name": "stderr",
     "output_type": "stream",
     "text": [
      "2023-05-12 09:22:22,214 - INFO -      0     0 141108.104    0   36 108988.000 141108.104  29.5%     -    0s\n"
     ]
    },
    {
     "name": "stdout",
     "output_type": "stream",
     "text": [
      "     0     0 141107.925    0   33 108988.000 141107.925  29.5%     -    0s\n"
     ]
    },
    {
     "name": "stderr",
     "output_type": "stream",
     "text": [
      "2023-05-12 09:22:22,223 - INFO -      0     0 141107.925    0   33 108988.000 141107.925  29.5%     -    0s\n"
     ]
    },
    {
     "name": "stdout",
     "output_type": "stream",
     "text": [
      "     0     0 141106.986    0   34 108988.000 141106.986  29.5%     -    0s\n"
     ]
    },
    {
     "name": "stderr",
     "output_type": "stream",
     "text": [
      "2023-05-12 09:22:22,229 - INFO -      0     0 141106.986    0   34 108988.000 141106.986  29.5%     -    0s\n"
     ]
    },
    {
     "name": "stdout",
     "output_type": "stream",
     "text": [
      "     0     0 141104.508    0   34 108988.000 141104.508  29.5%     -    0s\n"
     ]
    },
    {
     "name": "stderr",
     "output_type": "stream",
     "text": [
      "2023-05-12 09:22:22,244 - INFO -      0     0 141104.508    0   34 108988.000 141104.508  29.5%     -    0s\n"
     ]
    },
    {
     "name": "stdout",
     "output_type": "stream",
     "text": [
      "     0     0 141102.282    0   36 108988.000 141102.282  29.5%     -    0s\n"
     ]
    },
    {
     "name": "stderr",
     "output_type": "stream",
     "text": [
      "2023-05-12 09:22:22,244 - INFO -      0     0 141102.282    0   36 108988.000 141102.282  29.5%     -    0s\n"
     ]
    },
    {
     "name": "stdout",
     "output_type": "stream",
     "text": [
      "     0     0 141102.282    0   37 108988.000 141102.282  29.5%     -    0s\n"
     ]
    },
    {
     "name": "stderr",
     "output_type": "stream",
     "text": [
      "2023-05-12 09:22:22,261 - INFO -      0     0 141102.282    0   37 108988.000 141102.282  29.5%     -    0s\n"
     ]
    },
    {
     "name": "stdout",
     "output_type": "stream",
     "text": [
      "     0     0 141096.222    0   34 108988.000 141096.222  29.5%     -    0s\n"
     ]
    },
    {
     "name": "stderr",
     "output_type": "stream",
     "text": [
      "2023-05-12 09:22:22,281 - INFO -      0     0 141096.222    0   34 108988.000 141096.222  29.5%     -    0s\n"
     ]
    },
    {
     "name": "stdout",
     "output_type": "stream",
     "text": [
      "     0     0 141092.305    0   38 108988.000 141092.305  29.5%     -    0s\n"
     ]
    },
    {
     "name": "stderr",
     "output_type": "stream",
     "text": [
      "2023-05-12 09:22:22,296 - INFO -      0     0 141092.305    0   38 108988.000 141092.305  29.5%     -    0s\n"
     ]
    },
    {
     "name": "stdout",
     "output_type": "stream",
     "text": [
      "     0     0 141092.305    0   37 108988.000 141092.305  29.5%     -    0s\n"
     ]
    },
    {
     "name": "stderr",
     "output_type": "stream",
     "text": [
      "2023-05-12 09:22:22,303 - INFO -      0     0 141092.305    0   37 108988.000 141092.305  29.5%     -    0s\n"
     ]
    },
    {
     "name": "stdout",
     "output_type": "stream",
     "text": [
      "     0     0 141090.527    0   33 108988.000 141090.527  29.5%     -    0s\n"
     ]
    },
    {
     "name": "stderr",
     "output_type": "stream",
     "text": [
      "2023-05-12 09:22:22,325 - INFO -      0     0 141090.527    0   33 108988.000 141090.527  29.5%     -    0s\n"
     ]
    },
    {
     "name": "stdout",
     "output_type": "stream",
     "text": [
      "     0     0 141089.676    0   30 108988.000 141089.676  29.5%     -    0s\n"
     ]
    },
    {
     "name": "stderr",
     "output_type": "stream",
     "text": [
      "2023-05-12 09:22:22,351 - INFO -      0     0 141089.676    0   30 108988.000 141089.676  29.5%     -    0s\n"
     ]
    },
    {
     "name": "stdout",
     "output_type": "stream",
     "text": [
      "     0     0 141089.281    0   31 108988.000 141089.281  29.5%     -    0s\n"
     ]
    },
    {
     "name": "stderr",
     "output_type": "stream",
     "text": [
      "2023-05-12 09:22:22,359 - INFO -      0     0 141089.281    0   31 108988.000 141089.281  29.5%     -    0s\n"
     ]
    },
    {
     "name": "stdout",
     "output_type": "stream",
     "text": [
      "     0     0 141089.281    0   33 108988.000 141089.281  29.5%     -    0s\n"
     ]
    },
    {
     "name": "stderr",
     "output_type": "stream",
     "text": [
      "2023-05-12 09:22:22,366 - INFO -      0     0 141089.281    0   33 108988.000 141089.281  29.5%     -    0s\n"
     ]
    },
    {
     "name": "stdout",
     "output_type": "stream",
     "text": [
      "     0     0 141089.055    0   31 108988.000 141089.055  29.5%     -    0s\n"
     ]
    },
    {
     "name": "stderr",
     "output_type": "stream",
     "text": [
      "2023-05-12 09:22:22,382 - INFO -      0     0 141089.055    0   31 108988.000 141089.055  29.5%     -    0s\n"
     ]
    },
    {
     "name": "stdout",
     "output_type": "stream",
     "text": [
      "     0     0 141088.862    0   38 108988.000 141088.862  29.5%     -    0s\n"
     ]
    },
    {
     "name": "stderr",
     "output_type": "stream",
     "text": [
      "2023-05-12 09:22:22,392 - INFO -      0     0 141088.862    0   38 108988.000 141088.862  29.5%     -    0s\n"
     ]
    },
    {
     "name": "stdout",
     "output_type": "stream",
     "text": [
      "     0     0 141087.705    0   37 108988.000 141087.705  29.5%     -    0s\n"
     ]
    },
    {
     "name": "stderr",
     "output_type": "stream",
     "text": [
      "2023-05-12 09:22:22,392 - INFO -      0     0 141087.705    0   37 108988.000 141087.705  29.5%     -    0s\n"
     ]
    },
    {
     "name": "stdout",
     "output_type": "stream",
     "text": [
      "     0     0 141087.479    0   39 108988.000 141087.479  29.5%     -    0s\n"
     ]
    },
    {
     "name": "stderr",
     "output_type": "stream",
     "text": [
      "2023-05-12 09:22:22,392 - INFO -      0     0 141087.479    0   39 108988.000 141087.479  29.5%     -    0s\n"
     ]
    },
    {
     "name": "stdout",
     "output_type": "stream",
     "text": [
      "     0     0 141087.479    0   39 108988.000 141087.479  29.5%     -    0s\n"
     ]
    },
    {
     "name": "stderr",
     "output_type": "stream",
     "text": [
      "2023-05-12 09:22:22,392 - INFO -      0     0 141087.479    0   39 108988.000 141087.479  29.5%     -    0s\n"
     ]
    },
    {
     "name": "stdout",
     "output_type": "stream",
     "text": [
      "     0     0 141087.016    0   34 108988.000 141087.016  29.5%     -    0s\n"
     ]
    },
    {
     "name": "stderr",
     "output_type": "stream",
     "text": [
      "2023-05-12 09:22:22,423 - INFO -      0     0 141087.016    0   34 108988.000 141087.016  29.5%     -    0s\n"
     ]
    },
    {
     "name": "stdout",
     "output_type": "stream",
     "text": [
      "     0     0 141086.769    0   35 108988.000 141086.769  29.5%     -    0s\n"
     ]
    },
    {
     "name": "stderr",
     "output_type": "stream",
     "text": [
      "2023-05-12 09:22:22,423 - INFO -      0     0 141086.769    0   35 108988.000 141086.769  29.5%     -    0s\n"
     ]
    },
    {
     "name": "stdout",
     "output_type": "stream",
     "text": [
      "     0     0 141084.984    0   36 108988.000 141084.984  29.5%     -    0s\n"
     ]
    },
    {
     "name": "stderr",
     "output_type": "stream",
     "text": [
      "2023-05-12 09:22:22,442 - INFO -      0     0 141084.984    0   36 108988.000 141084.984  29.5%     -    0s\n"
     ]
    },
    {
     "name": "stdout",
     "output_type": "stream",
     "text": [
      "     0     0 141084.984    0   37 108988.000 141084.984  29.5%     -    0s\n"
     ]
    },
    {
     "name": "stderr",
     "output_type": "stream",
     "text": [
      "2023-05-12 09:22:22,447 - INFO -      0     0 141084.984    0   37 108988.000 141084.984  29.5%     -    0s\n"
     ]
    },
    {
     "name": "stdout",
     "output_type": "stream",
     "text": [
      "     0     0 141073.288    0   37 108988.000 141073.288  29.4%     -    0s\n"
     ]
    },
    {
     "name": "stderr",
     "output_type": "stream",
     "text": [
      "2023-05-12 09:22:22,465 - INFO -      0     0 141073.288    0   37 108988.000 141073.288  29.4%     -    0s\n"
     ]
    },
    {
     "name": "stdout",
     "output_type": "stream",
     "text": [
      "     0     0 141073.288    0   36 108988.000 141073.288  29.4%     -    0s\n"
     ]
    },
    {
     "name": "stderr",
     "output_type": "stream",
     "text": [
      "2023-05-12 09:22:22,470 - INFO -      0     0 141073.288    0   36 108988.000 141073.288  29.4%     -    0s\n"
     ]
    },
    {
     "name": "stdout",
     "output_type": "stream",
     "text": [
      "     0     0 141072.765    0   36 108988.000 141072.765  29.4%     -    0s\n"
     ]
    },
    {
     "name": "stderr",
     "output_type": "stream",
     "text": [
      "2023-05-12 09:22:22,487 - INFO -      0     0 141072.765    0   36 108988.000 141072.765  29.4%     -    0s\n"
     ]
    },
    {
     "name": "stdout",
     "output_type": "stream",
     "text": [
      "     0     0 141072.765    0   36 108988.000 141072.765  29.4%     -    0s\n"
     ]
    },
    {
     "name": "stderr",
     "output_type": "stream",
     "text": [
      "2023-05-12 09:22:22,498 - INFO -      0     0 141072.765    0   36 108988.000 141072.765  29.4%     -    0s\n"
     ]
    },
    {
     "name": "stdout",
     "output_type": "stream",
     "text": [
      "     0     2 141072.765    0   36 108988.000 141072.765  29.4%     -    0s\n"
     ]
    },
    {
     "name": "stderr",
     "output_type": "stream",
     "text": [
      "2023-05-12 09:22:22,556 - INFO -      0     2 141072.765    0   36 108988.000 141072.765  29.4%     -    0s\n"
     ]
    },
    {
     "name": "stdout",
     "output_type": "stream",
     "text": [
      " 14504  8956 128246.278   68   18 108988.000 140993.874  29.4%   9.1    5s\n"
     ]
    },
    {
     "name": "stderr",
     "output_type": "stream",
     "text": [
      "2023-05-12 09:22:26,799 - INFO -  14504  8956 128246.278   68   18 108988.000 140993.874  29.4%   9.1    5s\n"
     ]
    },
    {
     "name": "stdout",
     "output_type": "stream",
     "text": [
      "H29569 19181                    109539.48250 140993.874  28.7%  12.7    7s\n"
     ]
    },
    {
     "name": "stderr",
     "output_type": "stream",
     "text": [
      "2023-05-12 09:22:29,533 - INFO - H29569 19181                    109539.48250 140993.874  28.7%  12.7    7s\n"
     ]
    },
    {
     "name": "stdout",
     "output_type": "stream",
     "text": [
      " 40665 27848 137712.068   41   42 109539.482 140978.216  28.7%  14.3   10s\n"
     ]
    },
    {
     "name": "stderr",
     "output_type": "stream",
     "text": [
      "2023-05-12 09:22:31,824 - INFO -  40665 27848 137712.068   41   42 109539.482 140978.216  28.7%  14.3   10s\n"
     ]
    },
    {
     "name": "stdout",
     "output_type": "stream",
     "text": [
      " 65241 42136 116383.976   52   19 109539.482 140977.008  28.7%  17.8   15s\n"
     ]
    },
    {
     "name": "stderr",
     "output_type": "stream",
     "text": [
      "2023-05-12 09:22:36,959 - INFO -  65241 42136 116383.976   52   19 109539.482 140977.008  28.7%  17.8   15s\n"
     ]
    },
    {
     "name": "stdout",
     "output_type": "stream",
     "text": [
      " 81030 49714 infeasible   67      109539.482 140961.828  28.7%  20.2   20s\n"
     ]
    },
    {
     "name": "stderr",
     "output_type": "stream",
     "text": [
      "2023-05-12 09:22:41,923 - INFO -  81030 49714 infeasible   67      109539.482 140961.828  28.7%  20.2   20s\n"
     ]
    },
    {
     "name": "stdout",
     "output_type": "stream",
     "text": [
      " 95893 56984 infeasible   54      109539.482 140928.753  28.7%  22.7   26s\n"
     ]
    },
    {
     "name": "stderr",
     "output_type": "stream",
     "text": [
      "2023-05-12 09:22:47,768 - INFO -  95893 56984 infeasible   54      109539.482 140928.753  28.7%  22.7   26s\n"
     ]
    },
    {
     "name": "stdout",
     "output_type": "stream",
     "text": [
      " 99530 59065 124622.535   31   37 109539.482 140912.614  28.6%  23.3   30s\n"
     ]
    },
    {
     "name": "stderr",
     "output_type": "stream",
     "text": [
      "2023-05-12 09:22:52,034 - INFO -  99530 59065 124622.535   31   37 109539.482 140912.614  28.6%  23.3   30s\n"
     ]
    },
    {
     "name": "stdout",
     "output_type": "stream",
     "text": [
      " 113169 65901 123839.189   68   14 109539.482 140900.890  28.6%  25.0   35s\n"
     ]
    },
    {
     "name": "stderr",
     "output_type": "stream",
     "text": [
      "2023-05-12 09:22:57,010 - INFO -  113169 65901 123839.189   68   14 109539.482 140900.890  28.6%  25.0   35s\n"
     ]
    },
    {
     "name": "stdout",
     "output_type": "stream",
     "text": [
      " 124156 71402 114529.481   62   20 109539.482 140871.901  28.6%  26.3   40s\n"
     ]
    },
    {
     "name": "stderr",
     "output_type": "stream",
     "text": [
      "2023-05-12 09:23:01,961 - INFO -  124156 71402 114529.481   62   20 109539.482 140871.901  28.6%  26.3   40s\n"
     ]
    },
    {
     "name": "stdout",
     "output_type": "stream",
     "text": [
      " 131418 75214 127890.217   29   57 109539.482 140863.158  28.6%  27.3   46s\n"
     ]
    },
    {
     "name": "stderr",
     "output_type": "stream",
     "text": [
      "2023-05-12 09:23:08,389 - INFO -  131418 75214 127890.217   29   57 109539.482 140863.158  28.6%  27.3   46s\n"
     ]
    },
    {
     "name": "stdout",
     "output_type": "stream",
     "text": [
      " 137067 77769 125974.851   50   78 109539.482 140845.382  28.6%  28.1   50s\n"
     ]
    },
    {
     "name": "stderr",
     "output_type": "stream",
     "text": [
      "2023-05-12 09:23:11,847 - INFO -  137067 77769 125974.851   50   78 109539.482 140845.382  28.6%  28.1   50s\n"
     ]
    },
    {
     "name": "stdout",
     "output_type": "stream",
     "text": [
      " 146527 82216 116916.396   46   54 109539.482 140816.635  28.6%  29.5   55s\n"
     ]
    },
    {
     "name": "stderr",
     "output_type": "stream",
     "text": [
      "2023-05-12 09:23:16,979 - INFO -  146527 82216 116916.396   46   54 109539.482 140816.635  28.6%  29.5   55s\n"
     ]
    },
    {
     "name": "stdout",
     "output_type": "stream",
     "text": [
      " 154397 85838 infeasible   61      109539.482 140788.448  28.5%  30.6   60s\n"
     ]
    },
    {
     "name": "stderr",
     "output_type": "stream",
     "text": [
      "2023-05-12 09:23:21,793 - INFO -  154397 85838 infeasible   61      109539.482 140788.448  28.5%  30.6   60s\n"
     ]
    },
    {
     "name": "stdout",
     "output_type": "stream",
     "text": [
      " 160519 88997 111119.701   38   33 109539.482 140754.493  28.5%  31.4   65s\n"
     ]
    },
    {
     "name": "stderr",
     "output_type": "stream",
     "text": [
      "2023-05-12 09:23:27,562 - INFO -  160519 88997 111119.701   38   33 109539.482 140754.493  28.5%  31.4   65s\n"
     ]
    },
    {
     "name": "stdout",
     "output_type": "stream",
     "text": [
      " 165887 91554 139447.862   36   52 109539.482 140737.627  28.5%  32.2   70s\n"
     ]
    },
    {
     "name": "stderr",
     "output_type": "stream",
     "text": [
      "2023-05-12 09:23:31,745 - INFO -  165887 91554 139447.862   36   52 109539.482 140737.627  28.5%  32.2   70s\n"
     ]
    },
    {
     "name": "stdout",
     "output_type": "stream",
     "text": [
      " 174675 95416 139525.912   27   46 109539.482 140706.224  28.5%  33.1   75s\n"
     ]
    },
    {
     "name": "stderr",
     "output_type": "stream",
     "text": [
      "2023-05-12 09:23:37,342 - INFO -  174675 95416 139525.912   27   46 109539.482 140706.224  28.5%  33.1   75s\n"
     ]
    },
    {
     "name": "stdout",
     "output_type": "stream",
     "text": [
      " 185450 101024 136081.273   37   58 109539.482 140657.963  28.4%  34.1   80s\n"
     ]
    },
    {
     "name": "stderr",
     "output_type": "stream",
     "text": [
      "2023-05-12 09:23:42,086 - INFO -  185450 101024 136081.273   37   58 109539.482 140657.963  28.4%  34.1   80s\n"
     ]
    },
    {
     "name": "stdout",
     "output_type": "stream",
     "text": [
      " 199343 107176 121068.037   53   62 109539.482 140576.971  28.3%  35.5   85s\n"
     ]
    },
    {
     "name": "stderr",
     "output_type": "stream",
     "text": [
      "2023-05-12 09:23:47,013 - INFO -  199343 107176 121068.037   53   62 109539.482 140576.971  28.3%  35.5   85s\n"
     ]
    },
    {
     "name": "stdout",
     "output_type": "stream",
     "text": [
      " 211343 113131     cutoff   45      109539.482 140508.155  28.3%  36.5   90s\n"
     ]
    },
    {
     "name": "stderr",
     "output_type": "stream",
     "text": [
      "2023-05-12 09:23:52,469 - INFO -  211343 113131     cutoff   45      109539.482 140508.155  28.3%  36.5   90s\n"
     ]
    },
    {
     "name": "stdout",
     "output_type": "stream",
     "text": [
      " 221509 118196 125476.441   49   24 109539.482 140444.352  28.2%  37.3   95s\n"
     ]
    },
    {
     "name": "stderr",
     "output_type": "stream",
     "text": [
      "2023-05-12 09:23:57,653 - INFO -  221509 118196 125476.441   49   24 109539.482 140444.352  28.2%  37.3   95s\n"
     ]
    },
    {
     "name": "stdout",
     "output_type": "stream",
     "text": [
      " 230186 122602 136490.067   53   44 109539.482 140384.560  28.2%  37.8  100s\n"
     ]
    },
    {
     "name": "stderr",
     "output_type": "stream",
     "text": [
      "2023-05-12 09:24:02,079 - INFO -  230186 122602 136490.067   53   44 109539.482 140384.560  28.2%  37.8  100s\n"
     ]
    },
    {
     "name": "stdout",
     "output_type": "stream",
     "text": [
      " 241101 127489 127792.211   45   73 109539.482 140316.692  28.1%  38.5  105s\n"
     ]
    },
    {
     "name": "stderr",
     "output_type": "stream",
     "text": [
      "2023-05-12 09:24:07,337 - INFO -  241101 127489 127792.211   45   73 109539.482 140316.692  28.1%  38.5  105s\n"
     ]
    },
    {
     "name": "stdout",
     "output_type": "stream",
     "text": [
      " 249166 131322 111372.740   50   39 109539.482 140267.983  28.1%  39.0  110s\n"
     ]
    },
    {
     "name": "stderr",
     "output_type": "stream",
     "text": [
      "2023-05-12 09:24:11,847 - INFO -  249166 131322 111372.740   50   39 109539.482 140267.983  28.1%  39.0  110s\n"
     ]
    },
    {
     "name": "stdout",
     "output_type": "stream",
     "text": [
      " 260035 136515 127085.342   40   48 109539.482 140187.645  28.0%  39.5  115s\n"
     ]
    },
    {
     "name": "stderr",
     "output_type": "stream",
     "text": [
      "2023-05-12 09:24:17,071 - INFO -  260035 136515 127085.342   40   48 109539.482 140187.645  28.0%  39.5  115s\n"
     ]
    },
    {
     "name": "stdout",
     "output_type": "stream",
     "text": [
      " 272984 142372 infeasible   22      109539.482 140092.683  27.9%  40.1  120s\n"
     ]
    },
    {
     "name": "stderr",
     "output_type": "stream",
     "text": [
      "2023-05-12 09:24:21,753 - INFO -  272984 142372 infeasible   22      109539.482 140092.683  27.9%  40.1  120s\n"
     ]
    },
    {
     "name": "stdout",
     "output_type": "stream",
     "text": [
      " 285235 148370 137977.525   39   55 109539.482 140002.791  27.8%  40.6  125s\n"
     ]
    },
    {
     "name": "stderr",
     "output_type": "stream",
     "text": [
      "2023-05-12 09:24:27,094 - INFO -  285235 148370 137977.525   39   55 109539.482 140002.791  27.8%  40.6  125s\n"
     ]
    },
    {
     "name": "stdout",
     "output_type": "stream",
     "text": [
      " 295346 152175 136414.434   46   74 109539.482 139923.949  27.7%  41.1  130s\n"
     ]
    },
    {
     "name": "stderr",
     "output_type": "stream",
     "text": [
      "2023-05-12 09:24:32,015 - INFO -  295346 152175 136414.434   46   74 109539.482 139923.949  27.7%  41.1  130s\n"
     ]
    },
    {
     "name": "stdout",
     "output_type": "stream",
     "text": [
      " 304700 156386 126071.941   58   63 109539.482 139845.276  27.7%  41.4  135s\n"
     ]
    },
    {
     "name": "stderr",
     "output_type": "stream",
     "text": [
      "2023-05-12 09:24:36,735 - INFO -  304700 156386 126071.941   58   63 109539.482 139845.276  27.7%  41.4  135s\n"
     ]
    },
    {
     "name": "stdout",
     "output_type": "stream",
     "text": [
      " 315850 160902 125702.269   41   36 109539.482 139756.355  27.6%  41.9  140s\n"
     ]
    },
    {
     "name": "stderr",
     "output_type": "stream",
     "text": [
      "2023-05-12 09:24:42,391 - INFO -  315850 160902 125702.269   41   36 109539.482 139756.355  27.6%  41.9  140s\n"
     ]
    },
    {
     "name": "stdout",
     "output_type": "stream",
     "text": [
      " 321815 163577 139098.105   41   54 109539.482 139715.985  27.5%  42.2  145s\n"
     ]
    },
    {
     "name": "stderr",
     "output_type": "stream",
     "text": [
      "2023-05-12 09:24:46,774 - INFO -  321815 163577 139098.105   41   54 109539.482 139715.985  27.5%  42.2  145s\n"
     ]
    },
    {
     "name": "stdout",
     "output_type": "stream",
     "text": [
      " 329210 166534 122443.482   62   47 109539.482 139657.163  27.5%  42.6  150s\n"
     ]
    },
    {
     "name": "stderr",
     "output_type": "stream",
     "text": [
      "2023-05-12 09:24:51,983 - INFO -  329210 166534 122443.482   62   47 109539.482 139657.163  27.5%  42.6  150s\n"
     ]
    },
    {
     "name": "stdout",
     "output_type": "stream",
     "text": [
      " 337057 169682 113405.052   38   39 109539.482 139593.601  27.4%  42.9  156s\n"
     ]
    },
    {
     "name": "stderr",
     "output_type": "stream",
     "text": [
      "2023-05-12 09:24:57,824 - INFO -  337057 169682 113405.052   38   39 109539.482 139593.601  27.4%  42.9  156s\n"
     ]
    },
    {
     "name": "stdout",
     "output_type": "stream",
     "text": [
      " 343733 172090 132383.508   52   72 109539.482 139540.465  27.4%  43.2  160s\n"
     ]
    },
    {
     "name": "stderr",
     "output_type": "stream",
     "text": [
      "2023-05-12 09:25:02,186 - INFO -  343733 172090 132383.508   52   72 109539.482 139540.465  27.4%  43.2  160s\n"
     ]
    },
    {
     "name": "stdout",
     "output_type": "stream",
     "text": [
      " 352713 175699 115709.755   38   68 109539.482 139478.702  27.3%  43.5  165s\n"
     ]
    },
    {
     "name": "stderr",
     "output_type": "stream",
     "text": [
      "2023-05-12 09:25:07,700 - INFO -  352713 175699 115709.755   38   68 109539.482 139478.702  27.3%  43.5  165s\n"
     ]
    },
    {
     "name": "stdout",
     "output_type": "stream",
     "text": [
      " 362286 179349 121577.782   46   44 109539.482 139389.083  27.3%  43.9  170s\n"
     ]
    },
    {
     "name": "stderr",
     "output_type": "stream",
     "text": [
      "2023-05-12 09:25:12,136 - INFO -  362286 179349 121577.782   46   44 109539.482 139389.083  27.3%  43.9  170s\n"
     ]
    },
    {
     "name": "stdout",
     "output_type": "stream",
     "text": [
      " 375468 183739 120653.335   45   53 109539.482 139305.999  27.2%  44.4  175s\n"
     ]
    },
    {
     "name": "stderr",
     "output_type": "stream",
     "text": [
      "2023-05-12 09:25:17,313 - INFO -  375468 183739 120653.335   45   53 109539.482 139305.999  27.2%  44.4  175s\n"
     ]
    },
    {
     "name": "stdout",
     "output_type": "stream",
     "text": [
      " 385496 187641 124551.004   57   63 109539.482 139214.805  27.1%  44.8  180s\n"
     ]
    },
    {
     "name": "stderr",
     "output_type": "stream",
     "text": [
      "2023-05-12 09:25:21,912 - INFO -  385496 187641 124551.004   57   63 109539.482 139214.805  27.1%  44.8  180s\n"
     ]
    },
    {
     "name": "stdout",
     "output_type": "stream",
     "text": [
      " 396429 191912 128505.618   51   71 109539.482 139136.609  27.0%  45.2  185s\n"
     ]
    },
    {
     "name": "stderr",
     "output_type": "stream",
     "text": [
      "2023-05-12 09:25:27,661 - INFO -  396429 191912 128505.618   51   71 109539.482 139136.609  27.0%  45.2  185s\n"
     ]
    },
    {
     "name": "stdout",
     "output_type": "stream",
     "text": [
      " 410064 197203 infeasible   62      109539.482 139063.604  27.0%  45.7  190s\n"
     ]
    },
    {
     "name": "stderr",
     "output_type": "stream",
     "text": [
      "2023-05-12 09:25:32,295 - INFO -  410064 197203 infeasible   62      109539.482 139063.604  27.0%  45.7  190s\n"
     ]
    },
    {
     "name": "stdout",
     "output_type": "stream",
     "text": [
      " 418990 200272 134230.366   59   71 109539.482 138987.881  26.9%  46.0  195s\n"
     ]
    },
    {
     "name": "stderr",
     "output_type": "stream",
     "text": [
      "2023-05-12 09:25:37,004 - INFO -  418990 200272 134230.366   59   71 109539.482 138987.881  26.9%  46.0  195s\n"
     ]
    },
    {
     "name": "stdout",
     "output_type": "stream",
     "text": [
      " 429640 204305 131142.291   51   81 109539.482 138898.686  26.8%  46.3  201s\n"
     ]
    },
    {
     "name": "stderr",
     "output_type": "stream",
     "text": [
      "2023-05-12 09:25:42,785 - INFO -  429640 204305 131142.291   51   81 109539.482 138898.686  26.8%  46.3  201s\n"
     ]
    },
    {
     "name": "stdout",
     "output_type": "stream",
     "text": [
      " 439254 207606 135478.194   43   68 109539.482 138824.450  26.7%  46.7  205s\n"
     ]
    },
    {
     "name": "stderr",
     "output_type": "stream",
     "text": [
      "2023-05-12 09:25:47,438 - INFO -  439254 207606 135478.194   43   68 109539.482 138824.450  26.7%  46.7  205s\n"
     ]
    },
    {
     "name": "stdout",
     "output_type": "stream",
     "text": [
      " 448241 210613 infeasible   52      109539.482 138748.620  26.7%  47.0  210s\n"
     ]
    },
    {
     "name": "stderr",
     "output_type": "stream",
     "text": [
      "2023-05-12 09:25:52,075 - INFO -  448241 210613 infeasible   52      109539.482 138748.620  26.7%  47.0  210s\n"
     ]
    },
    {
     "name": "stdout",
     "output_type": "stream",
     "text": [
      " 456786 213685 117068.067   49   28 109539.482 138693.642  26.6%  47.2  215s\n"
     ]
    },
    {
     "name": "stderr",
     "output_type": "stream",
     "text": [
      "2023-05-12 09:25:56,796 - INFO -  456786 213685 117068.067   49   28 109539.482 138693.642  26.6%  47.2  215s\n"
     ]
    },
    {
     "name": "stdout",
     "output_type": "stream",
     "text": [
      " 469900 218028 120491.973   53   52 109539.482 138606.273  26.5%  47.7  220s\n"
     ]
    },
    {
     "name": "stderr",
     "output_type": "stream",
     "text": [
      "2023-05-12 09:26:02,305 - INFO -  469900 218028 120491.973   53   52 109539.482 138606.273  26.5%  47.7  220s\n"
     ]
    },
    {
     "name": "stdout",
     "output_type": "stream",
     "text": [
      " 480513 221793 infeasible   57      109539.482 138537.609  26.5%  48.0  226s\n"
     ]
    },
    {
     "name": "stderr",
     "output_type": "stream",
     "text": [
      "2023-05-12 09:26:07,740 - INFO -  480513 221793 infeasible   57      109539.482 138537.609  26.5%  48.0  226s\n"
     ]
    },
    {
     "name": "stdout",
     "output_type": "stream",
     "text": [
      " 490178 225710 116930.114   52   39 109539.482 138478.393  26.4%  48.2  230s\n"
     ]
    },
    {
     "name": "stderr",
     "output_type": "stream",
     "text": [
      "2023-05-12 09:26:12,051 - INFO -  490178 225710 116930.114   52   39 109539.482 138478.393  26.4%  48.2  230s\n"
     ]
    },
    {
     "name": "stdout",
     "output_type": "stream",
     "text": [
      " 501512 229463 136421.859   34   92 109539.482 138396.510  26.3%  48.5  235s\n"
     ]
    },
    {
     "name": "stderr",
     "output_type": "stream",
     "text": [
      "2023-05-12 09:26:17,403 - INFO -  501512 229463 136421.859   34   92 109539.482 138396.510  26.3%  48.5  235s\n"
     ]
    },
    {
     "name": "stdout",
     "output_type": "stream",
     "text": [
      " 510468 232298 infeasible   71      109539.482 138328.251  26.3%  48.7  240s\n"
     ]
    },
    {
     "name": "stderr",
     "output_type": "stream",
     "text": [
      "2023-05-12 09:26:21,818 - INFO -  510468 232298 infeasible   71      109539.482 138328.251  26.3%  48.7  240s\n"
     ]
    },
    {
     "name": "stdout",
     "output_type": "stream",
     "text": [
      " 525265 237525 112223.155   42   44 109539.482 138221.923  26.2%  49.1  245s\n"
     ]
    },
    {
     "name": "stderr",
     "output_type": "stream",
     "text": [
      "2023-05-12 09:26:27,370 - INFO -  525265 237525 112223.155   42   44 109539.482 138221.923  26.2%  49.1  245s\n"
     ]
    },
    {
     "name": "stdout",
     "output_type": "stream",
     "text": [
      " 538972 242337 110915.443   57   33 109539.482 138134.682  26.1%  49.4  250s\n"
     ]
    },
    {
     "name": "stderr",
     "output_type": "stream",
     "text": [
      "2023-05-12 09:26:32,010 - INFO -  538972 242337 110915.443   57   33 109539.482 138134.682  26.1%  49.4  250s\n"
     ]
    },
    {
     "name": "stdout",
     "output_type": "stream",
     "text": [
      " 548141 245580 infeasible   45      109539.482 138069.061  26.0%  49.6  255s\n"
     ]
    },
    {
     "name": "stderr",
     "output_type": "stream",
     "text": [
      "2023-05-12 09:26:36,951 - INFO -  548141 245580 infeasible   45      109539.482 138069.061  26.0%  49.6  255s\n"
     ]
    },
    {
     "name": "stdout",
     "output_type": "stream",
     "text": [
      " 557776 249108 126552.374   41   52 109539.482 138008.453  26.0%  49.8  260s\n"
     ]
    },
    {
     "name": "stderr",
     "output_type": "stream",
     "text": [
      "2023-05-12 09:26:42,058 - INFO -  557776 249108 126552.374   41   52 109539.482 138008.453  26.0%  49.8  260s\n"
     ]
    },
    {
     "name": "stdout",
     "output_type": "stream",
     "text": [
      " 570862 253106 118074.634   43   39 109539.482 137915.084  25.9%  50.1  265s\n"
     ]
    },
    {
     "name": "stderr",
     "output_type": "stream",
     "text": [
      "2023-05-12 09:26:47,265 - INFO -  570862 253106 118074.634   43   39 109539.482 137915.084  25.9%  50.1  265s\n"
     ]
    },
    {
     "name": "stdout",
     "output_type": "stream",
     "text": [
      " 581404 256697     cutoff   39      109539.482 137836.129  25.8%  50.4  270s\n"
     ]
    },
    {
     "name": "stderr",
     "output_type": "stream",
     "text": [
      "2023-05-12 09:26:52,461 - INFO -  581404 256697     cutoff   39      109539.482 137836.129  25.8%  50.4  270s\n"
     ]
    },
    {
     "name": "stdout",
     "output_type": "stream",
     "text": [
      " 592137 260054     cutoff   37      109539.482 137763.827  25.8%  50.6  275s\n"
     ]
    },
    {
     "name": "stderr",
     "output_type": "stream",
     "text": [
      "2023-05-12 09:26:57,439 - INFO -  592137 260054     cutoff   37      109539.482 137763.827  25.8%  50.6  275s\n"
     ]
    },
    {
     "name": "stdout",
     "output_type": "stream",
     "text": [
      " 603225 263706     cutoff   44      109539.482 137691.361  25.7%  50.9  280s\n"
     ]
    },
    {
     "name": "stderr",
     "output_type": "stream",
     "text": [
      "2023-05-12 09:27:02,142 - INFO -  603225 263706     cutoff   44      109539.482 137691.361  25.7%  50.9  280s\n"
     ]
    },
    {
     "name": "stdout",
     "output_type": "stream",
     "text": [
      " 614646 267638 126669.171   40   73 109539.482 137607.928  25.6%  51.1  285s\n"
     ]
    },
    {
     "name": "stderr",
     "output_type": "stream",
     "text": [
      "2023-05-12 09:27:07,423 - INFO -  614646 267638 126669.171   40   73 109539.482 137607.928  25.6%  51.1  285s\n"
     ]
    },
    {
     "name": "stdout",
     "output_type": "stream",
     "text": [
      " 625243 271545 132474.663   46   48 109539.482 137532.693  25.6%  51.3  290s\n"
     ]
    },
    {
     "name": "stderr",
     "output_type": "stream",
     "text": [
      "2023-05-12 09:27:12,233 - INFO -  625243 271545 132474.663   46   48 109539.482 137532.693  25.6%  51.3  290s\n"
     ]
    },
    {
     "name": "stdout",
     "output_type": "stream",
     "text": [
      " 635799 275189 124534.096   45   76 109539.482 137477.454  25.5%  51.4  295s\n"
     ]
    },
    {
     "name": "stderr",
     "output_type": "stream",
     "text": [
      "2023-05-12 09:27:17,535 - INFO -  635799 275189 124534.096   45   76 109539.482 137477.454  25.5%  51.4  295s\n"
     ]
    },
    {
     "name": "stdout",
     "output_type": "stream",
     "text": [
      " 644853 278489 124906.546   43   73 109539.482 137412.691  25.4%  51.5  300s\n"
     ]
    },
    {
     "name": "stderr",
     "output_type": "stream",
     "text": [
      "2023-05-12 09:27:22,180 - INFO -  644853 278489 124906.546   43   73 109539.482 137412.691  25.4%  51.5  300s\n"
     ]
    },
    {
     "name": "stdout",
     "output_type": "stream",
     "text": [
      " 654912 281673 126364.766   45   32 109539.482 137346.621  25.4%  51.7  305s\n"
     ]
    },
    {
     "name": "stderr",
     "output_type": "stream",
     "text": [
      "2023-05-12 09:27:27,547 - INFO -  654912 281673 126364.766   45   32 109539.482 137346.621  25.4%  51.7  305s\n"
     ]
    },
    {
     "name": "stdout",
     "output_type": "stream",
     "text": [
      " 660407 283839 117803.625   49   56 109539.482 137311.902  25.4%  51.8  310s\n"
     ]
    },
    {
     "name": "stderr",
     "output_type": "stream",
     "text": [
      "2023-05-12 09:27:32,147 - INFO -  660407 283839 117803.625   49   56 109539.482 137311.902  25.4%  51.8  310s\n"
     ]
    },
    {
     "name": "stdout",
     "output_type": "stream",
     "text": [
      " 665779 286045 112670.599   40   36 109539.482 137272.726  25.3%  51.9  315s\n"
     ]
    },
    {
     "name": "stderr",
     "output_type": "stream",
     "text": [
      "2023-05-12 09:27:36,825 - INFO -  665779 286045 112670.599   40   36 109539.482 137272.726  25.3%  51.9  315s\n"
     ]
    },
    {
     "name": "stdout",
     "output_type": "stream",
     "text": [
      " 674436 288945     cutoff   39      109539.482 137219.813  25.3%  52.0  320s\n"
     ]
    },
    {
     "name": "stderr",
     "output_type": "stream",
     "text": [
      "2023-05-12 09:27:41,881 - INFO -  674436 288945     cutoff   39      109539.482 137219.813  25.3%  52.0  320s\n"
     ]
    },
    {
     "name": "stdout",
     "output_type": "stream",
     "text": [
      " 681951 291749     cutoff   36      109539.482 137174.345  25.2%  52.1  325s\n"
     ]
    },
    {
     "name": "stderr",
     "output_type": "stream",
     "text": [
      "2023-05-12 09:27:47,394 - INFO -  681951 291749     cutoff   36      109539.482 137174.345  25.2%  52.1  325s\n"
     ]
    },
    {
     "name": "stdout",
     "output_type": "stream",
     "text": [
      " 690235 294679 114511.593   56   41 109539.482 137121.911  25.2%  52.2  330s\n"
     ]
    },
    {
     "name": "stderr",
     "output_type": "stream",
     "text": [
      "2023-05-12 09:27:51,995 - INFO -  690235 294679 114511.593   56   41 109539.482 137121.911  25.2%  52.2  330s\n"
     ]
    },
    {
     "name": "stdout",
     "output_type": "stream",
     "text": [
      " 698429 297283 134543.610   38   75 109539.482 137067.024  25.1%  52.3  335s\n"
     ]
    },
    {
     "name": "stderr",
     "output_type": "stream",
     "text": [
      "2023-05-12 09:27:56,799 - INFO -  698429 297283 134543.610   38   75 109539.482 137067.024  25.1%  52.3  335s\n"
     ]
    },
    {
     "name": "stdout",
     "output_type": "stream",
     "text": [
      " 705777 299683 120889.744   48   75 109539.482 137013.991  25.1%  52.4  340s\n"
     ]
    },
    {
     "name": "stderr",
     "output_type": "stream",
     "text": [
      "2023-05-12 09:28:01,838 - INFO -  705777 299683 120889.744   48   75 109539.482 137013.991  25.1%  52.4  340s\n"
     ]
    },
    {
     "name": "stdout",
     "output_type": "stream",
     "text": [
      " 713165 302287 infeasible   62      109539.482 136960.126  25.0%  52.6  345s\n"
     ]
    },
    {
     "name": "stderr",
     "output_type": "stream",
     "text": [
      "2023-05-12 09:28:06,851 - INFO -  713165 302287 infeasible   62      109539.482 136960.126  25.0%  52.6  345s\n"
     ]
    },
    {
     "name": "stdout",
     "output_type": "stream",
     "text": [
      " 722051 305189 128500.253   44   97 109539.482 136913.699  25.0%  52.7  350s\n"
     ]
    },
    {
     "name": "stderr",
     "output_type": "stream",
     "text": [
      "2023-05-12 09:28:12,542 - INFO -  722051 305189 128500.253   44   97 109539.482 136913.699  25.0%  52.7  350s\n"
     ]
    },
    {
     "name": "stdout",
     "output_type": "stream",
     "text": [
      " 729386 307427 126043.582   39   52 109539.482 136866.008  24.9%  52.8  355s\n"
     ]
    },
    {
     "name": "stderr",
     "output_type": "stream",
     "text": [
      "2023-05-12 09:28:17,102 - INFO -  729386 307427 126043.582   39   52 109539.482 136866.008  24.9%  52.8  355s\n"
     ]
    },
    {
     "name": "stdout",
     "output_type": "stream",
     "text": [
      " 736741 309695 123349.855   49   61 109539.482 136814.656  24.9%  52.9  360s\n"
     ]
    },
    {
     "name": "stderr",
     "output_type": "stream",
     "text": [
      "2023-05-12 09:28:22,476 - INFO -  736741 309695 123349.855   49   61 109539.482 136814.656  24.9%  52.9  360s\n"
     ]
    },
    {
     "name": "stdout",
     "output_type": "stream",
     "text": [
      " 746015 312742 119868.748   46   44 109539.482 136754.769  24.8%  53.0  365s\n"
     ]
    },
    {
     "name": "stderr",
     "output_type": "stream",
     "text": [
      "2023-05-12 09:28:27,384 - INFO -  746015 312742 119868.748   46   44 109539.482 136754.769  24.8%  53.0  365s\n"
     ]
    },
    {
     "name": "stdout",
     "output_type": "stream",
     "text": [
      " 755260 316241     cutoff   50      109539.482 136693.929  24.8%  53.1  370s\n"
     ]
    },
    {
     "name": "stderr",
     "output_type": "stream",
     "text": [
      "2023-05-12 09:28:32,054 - INFO -  755260 316241     cutoff   50      109539.482 136693.929  24.8%  53.1  370s\n"
     ]
    },
    {
     "name": "stdout",
     "output_type": "stream",
     "text": [
      " 766516 319410 infeasible   80      109539.482 136625.403  24.7%  53.2  376s\n"
     ]
    },
    {
     "name": "stderr",
     "output_type": "stream",
     "text": [
      "2023-05-12 09:28:37,742 - INFO -  766516 319410 infeasible   80      109539.482 136625.403  24.7%  53.2  376s\n"
     ]
    },
    {
     "name": "stdout",
     "output_type": "stream",
     "text": [
      " 774311 322067 120487.502   58   37 109539.482 136578.084  24.7%  53.3  380s\n"
     ]
    },
    {
     "name": "stderr",
     "output_type": "stream",
     "text": [
      "2023-05-12 09:28:42,693 - INFO -  774311 322067 120487.502   58   37 109539.482 136578.084  24.7%  53.3  380s\n"
     ]
    },
    {
     "name": "stdout",
     "output_type": "stream",
     "text": [
      " 782379 324849 118003.558   36   83 109539.482 136533.515  24.6%  53.4  385s\n"
     ]
    },
    {
     "name": "stderr",
     "output_type": "stream",
     "text": [
      "2023-05-12 09:28:46,935 - INFO -  782379 324849 118003.558   36   83 109539.482 136533.515  24.6%  53.4  385s\n"
     ]
    },
    {
     "name": "stdout",
     "output_type": "stream",
     "text": [
      " 794100 328787 113541.733   37   60 109539.482 136470.845  24.6%  53.5  390s\n"
     ]
    },
    {
     "name": "stderr",
     "output_type": "stream",
     "text": [
      "2023-05-12 09:28:52,393 - INFO -  794100 328787 113541.733   37   60 109539.482 136470.845  24.6%  53.5  390s\n"
     ]
    },
    {
     "name": "stdout",
     "output_type": "stream",
     "text": [
      " 803339 332068 135923.173   35   63 109539.482 136417.738  24.5%  53.6  395s\n"
     ]
    },
    {
     "name": "stderr",
     "output_type": "stream",
     "text": [
      "2023-05-12 09:28:57,671 - INFO -  803339 332068 135923.173   35   63 109539.482 136417.738  24.5%  53.6  395s\n"
     ]
    },
    {
     "name": "stdout",
     "output_type": "stream",
     "text": [
      " 811530 334890 110841.500   45   41 109539.482 136377.400  24.5%  53.7  400s\n"
     ]
    },
    {
     "name": "stderr",
     "output_type": "stream",
     "text": [
      "2023-05-12 09:29:02,690 - INFO -  811530 334890 110841.500   45   41 109539.482 136377.400  24.5%  53.7  400s\n"
     ]
    },
    {
     "name": "stdout",
     "output_type": "stream",
     "text": [
      " 820134 337895 129782.171   37   68 109539.482 136320.970  24.4%  53.8  405s\n"
     ]
    },
    {
     "name": "stderr",
     "output_type": "stream",
     "text": [
      "2023-05-12 09:29:07,300 - INFO -  820134 337895 129782.171   37   68 109539.482 136320.970  24.4%  53.8  405s\n"
     ]
    },
    {
     "name": "stdout",
     "output_type": "stream",
     "text": [
      " 828078 340501 infeasible   48      109539.482 136278.941  24.4%  53.8  410s\n"
     ]
    },
    {
     "name": "stderr",
     "output_type": "stream",
     "text": [
      "2023-05-12 09:29:12,639 - INFO -  828078 340501 infeasible   48      109539.482 136278.941  24.4%  53.8  410s\n"
     ]
    },
    {
     "name": "stdout",
     "output_type": "stream",
     "text": [
      " 835818 343027 111800.616   39   36 109539.482 136235.052  24.4%  53.9  415s\n"
     ]
    },
    {
     "name": "stderr",
     "output_type": "stream",
     "text": [
      "2023-05-12 09:29:16,749 - INFO -  835818 343027 111800.616   39   36 109539.482 136235.052  24.4%  53.9  415s\n"
     ]
    },
    {
     "name": "stdout",
     "output_type": "stream",
     "text": [
      " 841930 345182 infeasible   55      109539.482 136206.834  24.3%  53.9  420s\n"
     ]
    },
    {
     "name": "stderr",
     "output_type": "stream",
     "text": [
      "2023-05-12 09:29:21,937 - INFO -  841930 345182 infeasible   55      109539.482 136206.834  24.3%  53.9  420s\n"
     ]
    },
    {
     "name": "stdout",
     "output_type": "stream",
     "text": [
      " 850836 347835 126620.259   36   80 109539.482 136169.924  24.3%  54.0  426s\n"
     ]
    },
    {
     "name": "stderr",
     "output_type": "stream",
     "text": [
      "2023-05-12 09:29:28,088 - INFO -  850836 347835 126620.259   36   80 109539.482 136169.924  24.3%  54.0  426s\n"
     ]
    },
    {
     "name": "stdout",
     "output_type": "stream",
     "text": [
      " 856711 350016 infeasible   40      109539.482 136134.866  24.3%  54.1  430s\n"
     ]
    },
    {
     "name": "stderr",
     "output_type": "stream",
     "text": [
      "2023-05-12 09:29:32,019 - INFO -  856711 350016 infeasible   40      109539.482 136134.866  24.3%  54.1  430s\n"
     ]
    },
    {
     "name": "stdout",
     "output_type": "stream",
     "text": [
      " 865361 352543 122425.637   55   70 109539.482 136092.068  24.2%  54.2  435s\n"
     ]
    },
    {
     "name": "stderr",
     "output_type": "stream",
     "text": [
      "2023-05-12 09:29:36,934 - INFO -  865361 352543 122425.637   55   70 109539.482 136092.068  24.2%  54.2  435s\n"
     ]
    },
    {
     "name": "stdout",
     "output_type": "stream",
     "text": [
      " 872723 355000 111827.232   50   33 109539.482 136058.911  24.2%  54.3  441s\n"
     ]
    },
    {
     "name": "stderr",
     "output_type": "stream",
     "text": [
      "2023-05-12 09:29:43,473 - INFO -  872723 355000 111827.232   50   33 109539.482 136058.911  24.2%  54.3  441s\n"
     ]
    },
    {
     "name": "stdout",
     "output_type": "stream",
     "text": [
      " 880911 357652 133188.802   38   64 109539.482 136021.149  24.2%  54.4  445s\n"
     ]
    },
    {
     "name": "stderr",
     "output_type": "stream",
     "text": [
      "2023-05-12 09:29:47,125 - INFO -  880911 357652 133188.802   38   64 109539.482 136021.149  24.2%  54.4  445s\n"
     ]
    },
    {
     "name": "stdout",
     "output_type": "stream",
     "text": [
      " 890198 360668 135886.004   32   54 109539.482 135966.855  24.1%  54.5  450s\n"
     ]
    },
    {
     "name": "stderr",
     "output_type": "stream",
     "text": [
      "2023-05-12 09:29:52,693 - INFO -  890198 360668 135886.004   32   54 109539.482 135966.855  24.1%  54.5  450s\n"
     ]
    },
    {
     "name": "stdout",
     "output_type": "stream",
     "text": [
      " 899367 363203 infeasible   49      109539.482 135923.173  24.1%  54.5  455s\n"
     ]
    },
    {
     "name": "stderr",
     "output_type": "stream",
     "text": [
      "2023-05-12 09:29:57,507 - INFO -  899367 363203 infeasible   49      109539.482 135923.173  24.1%  54.5  455s\n"
     ]
    },
    {
     "name": "stdout",
     "output_type": "stream",
     "text": [
      " 907971 366294 110378.865   53   21 109539.482 135884.565  24.1%  54.6  460s\n"
     ]
    },
    {
     "name": "stderr",
     "output_type": "stream",
     "text": [
      "2023-05-12 09:30:02,525 - INFO -  907971 366294 110378.865   53   21 109539.482 135884.565  24.1%  54.6  460s\n"
     ]
    },
    {
     "name": "stdout",
     "output_type": "stream",
     "text": [
      " 916358 369282 133768.181   32   84 109539.482 135841.188  24.0%  54.6  465s\n"
     ]
    },
    {
     "name": "stderr",
     "output_type": "stream",
     "text": [
      "2023-05-12 09:30:07,558 - INFO -  916358 369282 133768.181   32   84 109539.482 135841.188  24.0%  54.6  465s\n"
     ]
    },
    {
     "name": "stdout",
     "output_type": "stream",
     "text": [
      " 924734 371926 133116.558   40   93 109539.482 135797.346  24.0%  54.7  471s\n"
     ]
    },
    {
     "name": "stderr",
     "output_type": "stream",
     "text": [
      "2023-05-12 09:30:12,903 - INFO -  924734 371926 133116.558   40   93 109539.482 135797.346  24.0%  54.7  471s\n"
     ]
    },
    {
     "name": "stdout",
     "output_type": "stream",
     "text": [
      " 930507 373769     cutoff   85      109539.482 135765.796  23.9%  54.8  475s\n"
     ]
    },
    {
     "name": "stderr",
     "output_type": "stream",
     "text": [
      "2023-05-12 09:30:16,863 - INFO -  930507 373769     cutoff   85      109539.482 135765.796  23.9%  54.8  475s\n"
     ]
    },
    {
     "name": "stdout",
     "output_type": "stream",
     "text": [
      " 941512 377771 123205.142   43   40 109539.482 135724.117  23.9%  54.8  481s\n"
     ]
    },
    {
     "name": "stderr",
     "output_type": "stream",
     "text": [
      "2023-05-12 09:30:22,938 - INFO -  941512 377771 123205.142   43   40 109539.482 135724.117  23.9%  54.8  481s\n"
     ]
    },
    {
     "name": "stdout",
     "output_type": "stream",
     "text": [
      " 950397 380682     cutoff   44      109539.482 135682.240  23.9%  54.9  485s\n"
     ]
    },
    {
     "name": "stderr",
     "output_type": "stream",
     "text": [
      "2023-05-12 09:30:27,245 - INFO -  950397 380682     cutoff   44      109539.482 135682.240  23.9%  54.9  485s\n"
     ]
    },
    {
     "name": "stdout",
     "output_type": "stream",
     "text": [
      " 958956 383482 infeasible   47      109539.482 135648.207  23.8%  55.0  490s\n"
     ]
    },
    {
     "name": "stderr",
     "output_type": "stream",
     "text": [
      "2023-05-12 09:30:32,134 - INFO -  958956 383482 infeasible   47      109539.482 135648.207  23.8%  55.0  490s\n"
     ]
    },
    {
     "name": "stdout",
     "output_type": "stream",
     "text": [
      " 967117 386144 114675.727   46   69 109539.482 135612.780  23.8%  55.0  495s\n"
     ]
    },
    {
     "name": "stderr",
     "output_type": "stream",
     "text": [
      "2023-05-12 09:30:37,039 - INFO -  967117 386144 114675.727   46   69 109539.482 135612.780  23.8%  55.0  495s\n"
     ]
    },
    {
     "name": "stdout",
     "output_type": "stream",
     "text": [
      " 975968 389268 119460.623   51   71 109539.482 135576.253  23.8%  55.1  500s\n"
     ]
    },
    {
     "name": "stderr",
     "output_type": "stream",
     "text": [
      "2023-05-12 09:30:42,258 - INFO -  975968 389268 119460.623   51   71 109539.482 135576.253  23.8%  55.1  500s\n"
     ]
    },
    {
     "name": "stdout",
     "output_type": "stream",
     "text": [
      " 984955 392105 114871.927   45   34 109539.482 135547.158  23.7%  55.1  505s\n"
     ]
    },
    {
     "name": "stderr",
     "output_type": "stream",
     "text": [
      "2023-05-12 09:30:47,452 - INFO -  984955 392105 114871.927   45   34 109539.482 135547.158  23.7%  55.1  505s\n"
     ]
    },
    {
     "name": "stdout",
     "output_type": "stream",
     "text": [
      " 993180 394946 132790.978   31   87 109539.482 135517.790  23.7%  55.2  510s\n"
     ]
    },
    {
     "name": "stderr",
     "output_type": "stream",
     "text": [
      "2023-05-12 09:30:52,102 - INFO -  993180 394946 132790.978   31   87 109539.482 135517.790  23.7%  55.2  510s\n"
     ]
    },
    {
     "name": "stdout",
     "output_type": "stream",
     "text": [
      " 1001074 397817     cutoff   57      109539.482 135481.553  23.7%  55.2  515s\n"
     ]
    },
    {
     "name": "stderr",
     "output_type": "stream",
     "text": [
      "2023-05-12 09:30:57,182 - INFO -  1001074 397817     cutoff   57      109539.482 135481.553  23.7%  55.2  515s\n"
     ]
    },
    {
     "name": "stdout",
     "output_type": "stream",
     "text": [
      " 1010267 400683 134052.125   47   87 109539.482 135447.097  23.7%  55.3  520s\n"
     ]
    },
    {
     "name": "stderr",
     "output_type": "stream",
     "text": [
      "2023-05-12 09:31:02,154 - INFO -  1010267 400683 134052.125   47   87 109539.482 135447.097  23.7%  55.3  520s\n"
     ]
    },
    {
     "name": "stdout",
     "output_type": "stream",
     "text": [
      " 1019163 403566 121391.789   45   82 109539.482 135411.344  23.6%  55.3  526s\n"
     ]
    },
    {
     "name": "stderr",
     "output_type": "stream",
     "text": [
      "2023-05-12 09:31:07,764 - INFO -  1019163 403566 121391.789   45   82 109539.482 135411.344  23.6%  55.3  526s\n"
     ]
    },
    {
     "name": "stdout",
     "output_type": "stream",
     "text": [
      " 1025857 405888     cutoff   44      109539.482 135383.533  23.6%  55.4  530s\n"
     ]
    },
    {
     "name": "stderr",
     "output_type": "stream",
     "text": [
      "2023-05-12 09:31:12,359 - INFO -  1025857 405888     cutoff   44      109539.482 135383.533  23.6%  55.4  530s\n"
     ]
    },
    {
     "name": "stdout",
     "output_type": "stream",
     "text": [
      " 1035023 408840 134232.160   34   81 109539.482 135341.140  23.6%  55.4  536s\n"
     ]
    },
    {
     "name": "stderr",
     "output_type": "stream",
     "text": [
      "2023-05-12 09:31:17,808 - INFO -  1035023 408840 134232.160   34   81 109539.482 135341.140  23.6%  55.4  536s\n"
     ]
    },
    {
     "name": "stdout",
     "output_type": "stream",
     "text": [
      " 1040453 410969 118383.233   50   41 109539.482 135321.687  23.5%  55.4  540s\n"
     ]
    },
    {
     "name": "stderr",
     "output_type": "stream",
     "text": [
      "2023-05-12 09:31:22,575 - INFO -  1040453 410969 118383.233   50   41 109539.482 135321.687  23.5%  55.4  540s\n"
     ]
    },
    {
     "name": "stdout",
     "output_type": "stream",
     "text": [
      " 1046431 412886     cutoff   48      109539.482 135299.864  23.5%  55.5  545s\n"
     ]
    },
    {
     "name": "stderr",
     "output_type": "stream",
     "text": [
      "2023-05-12 09:31:27,466 - INFO -  1046431 412886     cutoff   48      109539.482 135299.864  23.5%  55.5  545s\n"
     ]
    },
    {
     "name": "stdout",
     "output_type": "stream",
     "text": [
      " 1054334 415440 117957.970   57   34 109539.482 135266.822  23.5%  55.5  550s\n"
     ]
    },
    {
     "name": "stderr",
     "output_type": "stream",
     "text": [
      "2023-05-12 09:31:31,984 - INFO -  1054334 415440 117957.970   57   34 109539.482 135266.822  23.5%  55.5  550s\n"
     ]
    },
    {
     "name": "stdout",
     "output_type": "stream",
     "text": [
      " 1063358 418687 infeasible   47      109539.482 135234.425  23.5%  55.6  555s\n"
     ]
    },
    {
     "name": "stderr",
     "output_type": "stream",
     "text": [
      "2023-05-12 09:31:36,797 - INFO -  1063358 418687 infeasible   47      109539.482 135234.425  23.5%  55.6  555s\n"
     ]
    },
    {
     "name": "stdout",
     "output_type": "stream",
     "text": [
      " 1072206 421617 126631.237   51   60 109539.482 135196.897  23.4%  55.6  561s\n"
     ]
    },
    {
     "name": "stderr",
     "output_type": "stream",
     "text": [
      "2023-05-12 09:31:43,099 - INFO -  1072206 421617 126631.237   51   60 109539.482 135196.897  23.4%  55.6  561s\n"
     ]
    },
    {
     "name": "stdout",
     "output_type": "stream",
     "text": [
      " 1078266 423765 118100.156   38   85 109539.482 135174.341  23.4%  55.6  566s\n"
     ]
    },
    {
     "name": "stderr",
     "output_type": "stream",
     "text": [
      "2023-05-12 09:31:47,758 - INFO -  1078266 423765 118100.156   38   85 109539.482 135174.341  23.4%  55.6  566s\n"
     ]
    },
    {
     "name": "stdout",
     "output_type": "stream",
     "text": [
      " 1084751 425810 118248.252   48   58 109539.482 135148.978  23.4%  55.7  570s\n"
     ]
    },
    {
     "name": "stderr",
     "output_type": "stream",
     "text": [
      "2023-05-12 09:31:52,109 - INFO -  1084751 425810 118248.252   48   58 109539.482 135148.978  23.4%  55.7  570s\n"
     ]
    },
    {
     "name": "stdout",
     "output_type": "stream",
     "text": [
      " 1091152 428106 121858.561   39   86 109539.482 135125.603  23.4%  55.7  575s\n"
     ]
    },
    {
     "name": "stderr",
     "output_type": "stream",
     "text": [
      "2023-05-12 09:31:57,207 - INFO -  1091152 428106 121858.561   39   86 109539.482 135125.603  23.4%  55.7  575s\n"
     ]
    },
    {
     "name": "stdout",
     "output_type": "stream",
     "text": [
      " 1097162 430125 122704.024   41   69 109539.482 135106.670  23.3%  55.7  580s\n"
     ]
    },
    {
     "name": "stderr",
     "output_type": "stream",
     "text": [
      "2023-05-12 09:32:02,085 - INFO -  1097162 430125 122704.024   41   69 109539.482 135106.670  23.3%  55.7  580s\n"
     ]
    },
    {
     "name": "stdout",
     "output_type": "stream",
     "text": [
      " 1103702 432307 127070.688   43   48 109539.482 135076.478  23.3%  55.8  585s\n"
     ]
    },
    {
     "name": "stderr",
     "output_type": "stream",
     "text": [
      "2023-05-12 09:32:07,259 - INFO -  1103702 432307 127070.688   43   48 109539.482 135076.478  23.3%  55.8  585s\n"
     ]
    },
    {
     "name": "stdout",
     "output_type": "stream",
     "text": [
      " 1110009 434341     cutoff   62      109539.482 135051.518  23.3%  55.8  590s\n"
     ]
    },
    {
     "name": "stderr",
     "output_type": "stream",
     "text": [
      "2023-05-12 09:32:12,235 - INFO -  1110009 434341     cutoff   62      109539.482 135051.518  23.3%  55.8  590s\n"
     ]
    },
    {
     "name": "stdout",
     "output_type": "stream",
     "text": [
      " 1121086 437730 130193.142   42   82 109539.482 135005.274  23.2%  55.8  596s\n"
     ]
    },
    {
     "name": "stderr",
     "output_type": "stream",
     "text": [
      "2023-05-12 09:32:17,867 - INFO -  1121086 437730 130193.142   42   82 109539.482 135005.274  23.2%  55.8  596s\n"
     ]
    },
    {
     "name": "stdout",
     "output_type": "stream",
     "text": [
      " 1127100 439587 114353.724   55   54 109539.482 134981.511  23.2%  55.9  600s\n"
     ]
    },
    {
     "name": "stderr",
     "output_type": "stream",
     "text": [
      "2023-05-12 09:32:21,737 - INFO -  1127100 439587 114353.724   55   54 109539.482 134981.511  23.2%  55.9  600s\n"
     ]
    },
    {
     "name": "stdout",
     "output_type": "stream",
     "text": [
      "\n"
     ]
    },
    {
     "name": "stderr",
     "output_type": "stream",
     "text": [
      "2023-05-12 09:32:21,865 - INFO - \n"
     ]
    },
    {
     "name": "stdout",
     "output_type": "stream",
     "text": [
      "Cutting planes:\n"
     ]
    },
    {
     "name": "stderr",
     "output_type": "stream",
     "text": [
      "2023-05-12 09:32:21,866 - INFO - Cutting planes:\n"
     ]
    },
    {
     "name": "stdout",
     "output_type": "stream",
     "text": [
      "  Gomory: 7\n"
     ]
    },
    {
     "name": "stderr",
     "output_type": "stream",
     "text": [
      "2023-05-12 09:32:21,868 - INFO -   Gomory: 7\n"
     ]
    },
    {
     "name": "stdout",
     "output_type": "stream",
     "text": [
      "  Cover: 83\n"
     ]
    },
    {
     "name": "stderr",
     "output_type": "stream",
     "text": [
      "2023-05-12 09:32:21,871 - INFO -   Cover: 83\n"
     ]
    },
    {
     "name": "stdout",
     "output_type": "stream",
     "text": [
      "  Clique: 1\n"
     ]
    },
    {
     "name": "stderr",
     "output_type": "stream",
     "text": [
      "2023-05-12 09:32:21,873 - INFO -   Clique: 1\n"
     ]
    },
    {
     "name": "stdout",
     "output_type": "stream",
     "text": [
      "  MIR: 65\n"
     ]
    },
    {
     "name": "stderr",
     "output_type": "stream",
     "text": [
      "2023-05-12 09:32:21,875 - INFO -   MIR: 65\n"
     ]
    },
    {
     "name": "stdout",
     "output_type": "stream",
     "text": [
      "  StrongCG: 22\n"
     ]
    },
    {
     "name": "stderr",
     "output_type": "stream",
     "text": [
      "2023-05-12 09:32:21,877 - INFO -   StrongCG: 22\n"
     ]
    },
    {
     "name": "stdout",
     "output_type": "stream",
     "text": [
      "  Flow cover: 30\n"
     ]
    },
    {
     "name": "stderr",
     "output_type": "stream",
     "text": [
      "2023-05-12 09:32:21,879 - INFO -   Flow cover: 30\n"
     ]
    },
    {
     "name": "stdout",
     "output_type": "stream",
     "text": [
      "  GUB cover: 7\n"
     ]
    },
    {
     "name": "stderr",
     "output_type": "stream",
     "text": [
      "2023-05-12 09:32:21,880 - INFO -   GUB cover: 7\n"
     ]
    },
    {
     "name": "stdout",
     "output_type": "stream",
     "text": [
      "  Inf proof: 96\n"
     ]
    },
    {
     "name": "stderr",
     "output_type": "stream",
     "text": [
      "2023-05-12 09:32:21,883 - INFO -   Inf proof: 96\n"
     ]
    },
    {
     "name": "stdout",
     "output_type": "stream",
     "text": [
      "  Zero half: 4\n"
     ]
    },
    {
     "name": "stderr",
     "output_type": "stream",
     "text": [
      "2023-05-12 09:32:21,886 - INFO -   Zero half: 4\n"
     ]
    },
    {
     "name": "stdout",
     "output_type": "stream",
     "text": [
      "  RLT: 6\n"
     ]
    },
    {
     "name": "stderr",
     "output_type": "stream",
     "text": [
      "2023-05-12 09:32:21,888 - INFO -   RLT: 6\n"
     ]
    },
    {
     "name": "stdout",
     "output_type": "stream",
     "text": [
      "  Lazy constraints: 2120\n"
     ]
    },
    {
     "name": "stderr",
     "output_type": "stream",
     "text": [
      "2023-05-12 09:32:21,890 - INFO -   Lazy constraints: 2120\n"
     ]
    },
    {
     "name": "stdout",
     "output_type": "stream",
     "text": [
      "\n"
     ]
    },
    {
     "name": "stderr",
     "output_type": "stream",
     "text": [
      "2023-05-12 09:32:21,892 - INFO - \n"
     ]
    },
    {
     "name": "stdout",
     "output_type": "stream",
     "text": [
      "Explored 1128281 nodes (63053092 simplex iterations) in 600.16 seconds\n"
     ]
    },
    {
     "name": "stderr",
     "output_type": "stream",
     "text": [
      "2023-05-12 09:32:21,894 - INFO - Explored 1128281 nodes (63053092 simplex iterations) in 600.16 seconds\n"
     ]
    },
    {
     "name": "stdout",
     "output_type": "stream",
     "text": [
      "Thread count was 24 (of 48 available processors)\n"
     ]
    },
    {
     "name": "stderr",
     "output_type": "stream",
     "text": [
      "2023-05-12 09:32:21,896 - INFO - Thread count was 24 (of 48 available processors)\n"
     ]
    },
    {
     "name": "stdout",
     "output_type": "stream",
     "text": [
      "\n"
     ]
    },
    {
     "name": "stderr",
     "output_type": "stream",
     "text": [
      "2023-05-12 09:32:21,898 - INFO - \n"
     ]
    },
    {
     "name": "stdout",
     "output_type": "stream",
     "text": [
      "Solution count 3: 109539 108988 89325.3 \n"
     ]
    },
    {
     "name": "stderr",
     "output_type": "stream",
     "text": [
      "2023-05-12 09:32:21,900 - INFO - Solution count 3: 109539 108988 89325.3 \n"
     ]
    },
    {
     "name": "stdout",
     "output_type": "stream",
     "text": [
      "\n"
     ]
    },
    {
     "name": "stderr",
     "output_type": "stream",
     "text": [
      "2023-05-12 09:32:21,902 - INFO - \n"
     ]
    },
    {
     "name": "stdout",
     "output_type": "stream",
     "text": [
      "Time limit reached\n"
     ]
    },
    {
     "name": "stderr",
     "output_type": "stream",
     "text": [
      "2023-05-12 09:32:21,904 - INFO - Time limit reached\n"
     ]
    },
    {
     "name": "stdout",
     "output_type": "stream",
     "text": [
      "Best objective 1.095394824973e+05, best bound 1.349803146590e+05, gap 23.2253%\n"
     ]
    },
    {
     "name": "stderr",
     "output_type": "stream",
     "text": [
      "2023-05-12 09:32:21,906 - INFO - Best objective 1.095394824973e+05, best bound 1.349803146590e+05, gap 23.2253%\n"
     ]
    },
    {
     "name": "stdout",
     "output_type": "stream",
     "text": [
      "\n"
     ]
    },
    {
     "name": "stderr",
     "output_type": "stream",
     "text": [
      "2023-05-12 09:32:21,907 - INFO - \n"
     ]
    },
    {
     "name": "stdout",
     "output_type": "stream",
     "text": [
      "User-callback calls 2277272, time in user-callback 12.95 sec\n"
     ]
    },
    {
     "name": "stderr",
     "output_type": "stream",
     "text": [
      "2023-05-12 09:32:21,909 - INFO - User-callback calls 2277272, time in user-callback 12.95 sec\n"
     ]
    },
    {
     "name": "stdout",
     "output_type": "stream",
     "text": [
      "{'Bounds': {'D200': {'ub': 150342.99778980177, 'max_soln': 136382.00000000012}, 'D160': {'ub': 134980.31465898638, 'max_soln': 109539.48249732645}, 'R200': {}, 'R160': {}, 'D201': {}, 'D161': {}, 'R201': {}, 'R161': {}, 'D202': {}, 'D162': {}, 'R202': {}, 'R162': {}, 'D203': {}, 'D163': {}, 'R203': {}, 'R163': {}, 'D204': {}, 'D164': {}, 'R204': {}, 'R164': {}, 'D205': {}, 'D165': {}, 'R205': {}, 'R165': {}, 'D206': {}, 'D166': {}, 'R206': {}, 'R166': {}}}\n",
      "Gurobi Optimizer version 9.1.2 build v9.1.2rc0 (win64)\n"
     ]
    },
    {
     "name": "stderr",
     "output_type": "stream",
     "text": [
      "2023-05-12 09:32:23,046 - INFO - Gurobi Optimizer version 9.1.2 build v9.1.2rc0 (win64)\n"
     ]
    },
    {
     "name": "stdout",
     "output_type": "stream",
     "text": [
      "Thread count: 24 physical cores, 48 logical processors, using up to 24 threads\n"
     ]
    },
    {
     "name": "stderr",
     "output_type": "stream",
     "text": [
      "2023-05-12 09:32:23,048 - INFO - Thread count: 24 physical cores, 48 logical processors, using up to 24 threads\n"
     ]
    },
    {
     "name": "stdout",
     "output_type": "stream",
     "text": [
      "Optimize a model with 110 rows, 686 columns and 2338 nonzeros\n"
     ]
    },
    {
     "name": "stderr",
     "output_type": "stream",
     "text": [
      "2023-05-12 09:32:23,050 - INFO - Optimize a model with 110 rows, 686 columns and 2338 nonzeros\n"
     ]
    },
    {
     "name": "stdout",
     "output_type": "stream",
     "text": [
      "Model fingerprint: 0x7e53f666\n"
     ]
    },
    {
     "name": "stderr",
     "output_type": "stream",
     "text": [
      "2023-05-12 09:32:23,052 - INFO - Model fingerprint: 0x7e53f666\n"
     ]
    },
    {
     "name": "stdout",
     "output_type": "stream",
     "text": [
      "Variable types: 42 continuous, 644 integer (644 binary)\n"
     ]
    },
    {
     "name": "stderr",
     "output_type": "stream",
     "text": [
      "2023-05-12 09:32:23,054 - INFO - Variable types: 42 continuous, 644 integer (644 binary)\n"
     ]
    },
    {
     "name": "stdout",
     "output_type": "stream",
     "text": [
      "Coefficient statistics:\n"
     ]
    },
    {
     "name": "stderr",
     "output_type": "stream",
     "text": [
      "2023-05-12 09:32:23,056 - INFO - Coefficient statistics:\n"
     ]
    },
    {
     "name": "stdout",
     "output_type": "stream",
     "text": [
      "  Matrix range     [1e+00, 5e+05]\n"
     ]
    },
    {
     "name": "stderr",
     "output_type": "stream",
     "text": [
      "2023-05-12 09:32:23,057 - INFO -   Matrix range     [1e+00, 5e+05]\n"
     ]
    },
    {
     "name": "stdout",
     "output_type": "stream",
     "text": [
      "  Objective range  [1e+00, 1e+00]\n"
     ]
    },
    {
     "name": "stderr",
     "output_type": "stream",
     "text": [
      "2023-05-12 09:32:23,059 - INFO -   Objective range  [1e+00, 1e+00]\n"
     ]
    },
    {
     "name": "stdout",
     "output_type": "stream",
     "text": [
      "  Bounds range     [1e+00, 8e+05]\n"
     ]
    },
    {
     "name": "stderr",
     "output_type": "stream",
     "text": [
      "2023-05-12 09:32:23,060 - INFO -   Bounds range     [1e+00, 8e+05]\n"
     ]
    },
    {
     "name": "stdout",
     "output_type": "stream",
     "text": [
      "  RHS range        [1e+00, 8e+05]\n"
     ]
    },
    {
     "name": "stderr",
     "output_type": "stream",
     "text": [
      "2023-05-12 09:32:23,062 - INFO -   RHS range        [1e+00, 8e+05]\n"
     ]
    },
    {
     "name": "stdout",
     "output_type": "stream",
     "text": [
      "\n"
     ]
    },
    {
     "name": "stderr",
     "output_type": "stream",
     "text": [
      "2023-05-12 09:32:23,064 - INFO - \n"
     ]
    },
    {
     "name": "stdout",
     "output_type": "stream",
     "text": [
      "Warning: Completing partial solution with 598 unfixed non-continuous variables out of 644\n"
     ]
    },
    {
     "name": "stderr",
     "output_type": "stream",
     "text": [
      "2023-05-12 09:32:23,065 - INFO - Warning: Completing partial solution with 598 unfixed non-continuous variables out of 644\n"
     ]
    },
    {
     "name": "stdout",
     "output_type": "stream",
     "text": [
      "User MIP start produced solution with objective 203301 (0.02s)\n"
     ]
    },
    {
     "name": "stderr",
     "output_type": "stream",
     "text": [
      "2023-05-12 09:32:23,065 - INFO - User MIP start produced solution with objective 203301 (0.02s)\n"
     ]
    },
    {
     "name": "stdout",
     "output_type": "stream",
     "text": [
      "Loaded user MIP start with objective 203301\n"
     ]
    },
    {
     "name": "stderr",
     "output_type": "stream",
     "text": [
      "2023-05-12 09:32:23,065 - INFO - Loaded user MIP start with objective 203301\n"
     ]
    },
    {
     "name": "stdout",
     "output_type": "stream",
     "text": [
      "MIP start from previous solve produced solution with objective 201018 (0.02s)\n"
     ]
    },
    {
     "name": "stderr",
     "output_type": "stream",
     "text": [
      "2023-05-12 09:32:23,065 - INFO - MIP start from previous solve produced solution with objective 201018 (0.02s)\n"
     ]
    },
    {
     "name": "stdout",
     "output_type": "stream",
     "text": [
      "Loaded MIP start from previous solve with objective 201018\n"
     ]
    },
    {
     "name": "stderr",
     "output_type": "stream",
     "text": [
      "2023-05-12 09:32:23,081 - INFO - Loaded MIP start from previous solve with objective 201018\n"
     ]
    },
    {
     "name": "stdout",
     "output_type": "stream",
     "text": [
      "\n"
     ]
    },
    {
     "name": "stderr",
     "output_type": "stream",
     "text": [
      "2023-05-12 09:32:23,081 - INFO - \n"
     ]
    },
    {
     "name": "stdout",
     "output_type": "stream",
     "text": [
      "Presolve removed 16 rows and 14 columns\n"
     ]
    },
    {
     "name": "stderr",
     "output_type": "stream",
     "text": [
      "2023-05-12 09:32:23,096 - INFO - Presolve removed 16 rows and 14 columns\n"
     ]
    },
    {
     "name": "stdout",
     "output_type": "stream",
     "text": [
      "Presolve time: 0.02s\n"
     ]
    },
    {
     "name": "stderr",
     "output_type": "stream",
     "text": [
      "2023-05-12 09:32:23,096 - INFO - Presolve time: 0.02s\n"
     ]
    },
    {
     "name": "stdout",
     "output_type": "stream",
     "text": [
      "Presolved: 94 rows, 672 columns, 2294 nonzeros\n"
     ]
    },
    {
     "name": "stderr",
     "output_type": "stream",
     "text": [
      "2023-05-12 09:32:23,096 - INFO - Presolved: 94 rows, 672 columns, 2294 nonzeros\n"
     ]
    },
    {
     "name": "stdout",
     "output_type": "stream",
     "text": [
      "Variable types: 28 continuous, 644 integer (644 binary)\n"
     ]
    },
    {
     "name": "stderr",
     "output_type": "stream",
     "text": [
      "2023-05-12 09:32:23,096 - INFO - Variable types: 28 continuous, 644 integer (644 binary)\n"
     ]
    },
    {
     "name": "stdout",
     "output_type": "stream",
     "text": [
      "\n"
     ]
    },
    {
     "name": "stderr",
     "output_type": "stream",
     "text": [
      "2023-05-12 09:32:23,096 - INFO - \n"
     ]
    },
    {
     "name": "stdout",
     "output_type": "stream",
     "text": [
      "Concurrent LP optimizer: primal simplex, dual simplex, and barrier\n"
     ]
    },
    {
     "name": "stderr",
     "output_type": "stream",
     "text": [
      "2023-05-12 09:32:23,096 - INFO - Concurrent LP optimizer: primal simplex, dual simplex, and barrier\n"
     ]
    },
    {
     "name": "stdout",
     "output_type": "stream",
     "text": [
      "Showing barrier log only...\n"
     ]
    },
    {
     "name": "stderr",
     "output_type": "stream",
     "text": [
      "2023-05-12 09:32:23,096 - INFO - Showing barrier log only...\n"
     ]
    },
    {
     "name": "stdout",
     "output_type": "stream",
     "text": [
      "\n"
     ]
    },
    {
     "name": "stderr",
     "output_type": "stream",
     "text": [
      "2023-05-12 09:32:23,096 - INFO - \n"
     ]
    },
    {
     "name": "stdout",
     "output_type": "stream",
     "text": [
      "Root barrier log...\n"
     ]
    },
    {
     "name": "stderr",
     "output_type": "stream",
     "text": [
      "2023-05-12 09:32:23,115 - INFO - Root barrier log...\n"
     ]
    },
    {
     "name": "stdout",
     "output_type": "stream",
     "text": [
      "\n"
     ]
    },
    {
     "name": "stderr",
     "output_type": "stream",
     "text": [
      "2023-05-12 09:32:23,118 - INFO - \n"
     ]
    },
    {
     "name": "stdout",
     "output_type": "stream",
     "text": [
      "Ordering time: 0.00s\n"
     ]
    },
    {
     "name": "stderr",
     "output_type": "stream",
     "text": [
      "2023-05-12 09:32:23,119 - INFO - Ordering time: 0.00s\n"
     ]
    },
    {
     "name": "stdout",
     "output_type": "stream",
     "text": [
      "\n"
     ]
    },
    {
     "name": "stderr",
     "output_type": "stream",
     "text": [
      "2023-05-12 09:32:23,122 - INFO - \n"
     ]
    },
    {
     "name": "stdout",
     "output_type": "stream",
     "text": [
      "Barrier performed 0 iterations in 0.07 seconds\n"
     ]
    },
    {
     "name": "stderr",
     "output_type": "stream",
     "text": [
      "2023-05-12 09:32:23,124 - INFO - Barrier performed 0 iterations in 0.07 seconds\n"
     ]
    },
    {
     "name": "stdout",
     "output_type": "stream",
     "text": [
      "Barrier solve interrupted - model solved by another algorithm\n"
     ]
    },
    {
     "name": "stderr",
     "output_type": "stream",
     "text": [
      "2023-05-12 09:32:23,127 - INFO - Barrier solve interrupted - model solved by another algorithm\n"
     ]
    },
    {
     "name": "stdout",
     "output_type": "stream",
     "text": [
      "\n"
     ]
    },
    {
     "name": "stderr",
     "output_type": "stream",
     "text": [
      "2023-05-12 09:32:23,130 - INFO - \n"
     ]
    },
    {
     "name": "stdout",
     "output_type": "stream",
     "text": [
      "\n"
     ]
    },
    {
     "name": "stderr",
     "output_type": "stream",
     "text": [
      "2023-05-12 09:32:23,131 - INFO - \n"
     ]
    },
    {
     "name": "stdout",
     "output_type": "stream",
     "text": [
      "Solved with primal simplex\n"
     ]
    },
    {
     "name": "stderr",
     "output_type": "stream",
     "text": [
      "2023-05-12 09:32:23,134 - INFO - Solved with primal simplex\n"
     ]
    },
    {
     "name": "stdout",
     "output_type": "stream",
     "text": [
      "\n"
     ]
    },
    {
     "name": "stderr",
     "output_type": "stream",
     "text": [
      "2023-05-12 09:32:23,136 - INFO - \n"
     ]
    },
    {
     "name": "stdout",
     "output_type": "stream",
     "text": [
      "Root relaxation: objective 1.433713e+05, 204 iterations, 0.04 seconds\n"
     ]
    },
    {
     "name": "stderr",
     "output_type": "stream",
     "text": [
      "2023-05-12 09:32:23,138 - INFO - Root relaxation: objective 1.433713e+05, 204 iterations, 0.04 seconds\n"
     ]
    },
    {
     "name": "stdout",
     "output_type": "stream",
     "text": [
      "\n"
     ]
    },
    {
     "name": "stderr",
     "output_type": "stream",
     "text": [
      "2023-05-12 09:32:23,145 - INFO - \n"
     ]
    },
    {
     "name": "stdout",
     "output_type": "stream",
     "text": [
      "    Nodes    |    Current Node    |     Objective Bounds      |     Work\n"
     ]
    },
    {
     "name": "stderr",
     "output_type": "stream",
     "text": [
      "2023-05-12 09:32:23,147 - INFO -     Nodes    |    Current Node    |     Objective Bounds      |     Work\n"
     ]
    },
    {
     "name": "stdout",
     "output_type": "stream",
     "text": [
      " Expl Unexpl |  Obj  Depth IntInf | Incumbent    BestBd   Gap | It/Node Time\n"
     ]
    },
    {
     "name": "stderr",
     "output_type": "stream",
     "text": [
      "2023-05-12 09:32:23,149 - INFO -  Expl Unexpl |  Obj  Depth IntInf | Incumbent    BestBd   Gap | It/Node Time\n"
     ]
    },
    {
     "name": "stdout",
     "output_type": "stream",
     "text": [
      "\n"
     ]
    },
    {
     "name": "stderr",
     "output_type": "stream",
     "text": [
      "2023-05-12 09:32:23,150 - INFO - \n"
     ]
    },
    {
     "name": "stdout",
     "output_type": "stream",
     "text": [
      "     0     0 143371.338    0   10 201018.265 143371.338  28.7%     -    0s\n"
     ]
    },
    {
     "name": "stderr",
     "output_type": "stream",
     "text": [
      "2023-05-12 09:32:23,151 - INFO -      0     0 143371.338    0   10 201018.265 143371.338  28.7%     -    0s\n"
     ]
    },
    {
     "name": "stdout",
     "output_type": "stream",
     "text": [
      "     0     0 144531.939    0   19 201018.265 144531.939  28.1%     -    0s\n"
     ]
    },
    {
     "name": "stderr",
     "output_type": "stream",
     "text": [
      "2023-05-12 09:32:23,164 - INFO -      0     0 144531.939    0   19 201018.265 144531.939  28.1%     -    0s\n"
     ]
    },
    {
     "name": "stdout",
     "output_type": "stream",
     "text": [
      "     0     0 145328.940    0   16 201018.265 145328.940  27.7%     -    0s\n"
     ]
    },
    {
     "name": "stderr",
     "output_type": "stream",
     "text": [
      "2023-05-12 09:32:23,171 - INFO -      0     0 145328.940    0   16 201018.265 145328.940  27.7%     -    0s\n"
     ]
    },
    {
     "name": "stdout",
     "output_type": "stream",
     "text": [
      "     0     0 145328.940    0   19 201018.265 145328.940  27.7%     -    0s\n"
     ]
    },
    {
     "name": "stderr",
     "output_type": "stream",
     "text": [
      "2023-05-12 09:32:23,174 - INFO -      0     0 145328.940    0   19 201018.265 145328.940  27.7%     -    0s\n"
     ]
    },
    {
     "name": "stdout",
     "output_type": "stream",
     "text": [
      "     0     0 145444.450    0   19 201018.265 145444.450  27.6%     -    0s\n"
     ]
    },
    {
     "name": "stderr",
     "output_type": "stream",
     "text": [
      "2023-05-12 09:32:23,191 - INFO -      0     0 145444.450    0   19 201018.265 145444.450  27.6%     -    0s\n"
     ]
    },
    {
     "name": "stdout",
     "output_type": "stream",
     "text": [
      "     0     0 145452.613    0   26 201018.265 145452.613  27.6%     -    0s\n"
     ]
    },
    {
     "name": "stderr",
     "output_type": "stream",
     "text": [
      "2023-05-12 09:32:23,201 - INFO -      0     0 145452.613    0   26 201018.265 145452.613  27.6%     -    0s\n"
     ]
    },
    {
     "name": "stdout",
     "output_type": "stream",
     "text": [
      "     0     0 145521.584    0   32 201018.265 145521.584  27.6%     -    0s\n"
     ]
    },
    {
     "name": "stderr",
     "output_type": "stream",
     "text": [
      "2023-05-12 09:32:23,227 - INFO -      0     0 145521.584    0   32 201018.265 145521.584  27.6%     -    0s\n"
     ]
    },
    {
     "name": "stdout",
     "output_type": "stream",
     "text": [
      "     0     0 145529.059    0   29 201018.265 145529.059  27.6%     -    0s\n"
     ]
    },
    {
     "name": "stderr",
     "output_type": "stream",
     "text": [
      "2023-05-12 09:32:23,234 - INFO -      0     0 145529.059    0   29 201018.265 145529.059  27.6%     -    0s\n"
     ]
    },
    {
     "name": "stdout",
     "output_type": "stream",
     "text": [
      "     0     0 145613.773    0   30 201018.265 145613.773  27.6%     -    0s\n"
     ]
    },
    {
     "name": "stderr",
     "output_type": "stream",
     "text": [
      "2023-05-12 09:32:23,238 - INFO -      0     0 145613.773    0   30 201018.265 145613.773  27.6%     -    0s\n"
     ]
    },
    {
     "name": "stdout",
     "output_type": "stream",
     "text": [
      "     0     0 145663.523    0   34 201018.265 145663.523  27.5%     -    0s\n"
     ]
    },
    {
     "name": "stderr",
     "output_type": "stream",
     "text": [
      "2023-05-12 09:32:23,241 - INFO -      0     0 145663.523    0   34 201018.265 145663.523  27.5%     -    0s\n"
     ]
    },
    {
     "name": "stdout",
     "output_type": "stream",
     "text": [
      "     0     0 145664.166    0   34 201018.265 145664.166  27.5%     -    0s\n"
     ]
    },
    {
     "name": "stderr",
     "output_type": "stream",
     "text": [
      "2023-05-12 09:32:23,244 - INFO -      0     0 145664.166    0   34 201018.265 145664.166  27.5%     -    0s\n"
     ]
    },
    {
     "name": "stdout",
     "output_type": "stream",
     "text": [
      "     0     0 145664.171    0   35 201018.265 145664.171  27.5%     -    0s\n"
     ]
    },
    {
     "name": "stderr",
     "output_type": "stream",
     "text": [
      "2023-05-12 09:32:23,247 - INFO -      0     0 145664.171    0   35 201018.265 145664.171  27.5%     -    0s\n"
     ]
    },
    {
     "name": "stdout",
     "output_type": "stream",
     "text": [
      "     0     0 145697.127    0   32 201018.265 145697.127  27.5%     -    0s\n"
     ]
    },
    {
     "name": "stderr",
     "output_type": "stream",
     "text": [
      "2023-05-12 09:32:23,272 - INFO -      0     0 145697.127    0   32 201018.265 145697.127  27.5%     -    0s\n"
     ]
    },
    {
     "name": "stdout",
     "output_type": "stream",
     "text": [
      "     0     0 145758.148    0   27 201018.265 145758.148  27.5%     -    0s\n"
     ]
    },
    {
     "name": "stderr",
     "output_type": "stream",
     "text": [
      "2023-05-12 09:32:23,278 - INFO -      0     0 145758.148    0   27 201018.265 145758.148  27.5%     -    0s\n"
     ]
    },
    {
     "name": "stdout",
     "output_type": "stream",
     "text": [
      "     0     0 145790.462    0   28 201018.265 145790.462  27.5%     -    0s\n"
     ]
    },
    {
     "name": "stderr",
     "output_type": "stream",
     "text": [
      "2023-05-12 09:32:23,281 - INFO -      0     0 145790.462    0   28 201018.265 145790.462  27.5%     -    0s\n"
     ]
    },
    {
     "name": "stdout",
     "output_type": "stream",
     "text": [
      "     0     0 145800.451    0   33 201018.265 145800.451  27.5%     -    0s\n"
     ]
    },
    {
     "name": "stderr",
     "output_type": "stream",
     "text": [
      "2023-05-12 09:32:23,284 - INFO -      0     0 145800.451    0   33 201018.265 145800.451  27.5%     -    0s\n"
     ]
    },
    {
     "name": "stdout",
     "output_type": "stream",
     "text": [
      "     0     0 145800.451    0   32 201018.265 145800.451  27.5%     -    0s\n"
     ]
    },
    {
     "name": "stderr",
     "output_type": "stream",
     "text": [
      "2023-05-12 09:32:23,287 - INFO -      0     0 145800.451    0   32 201018.265 145800.451  27.5%     -    0s\n"
     ]
    },
    {
     "name": "stdout",
     "output_type": "stream",
     "text": [
      "     0     0 145908.698    0   32 201018.265 145908.698  27.4%     -    0s\n"
     ]
    },
    {
     "name": "stderr",
     "output_type": "stream",
     "text": [
      "2023-05-12 09:32:23,306 - INFO -      0     0 145908.698    0   32 201018.265 145908.698  27.4%     -    0s\n"
     ]
    },
    {
     "name": "stdout",
     "output_type": "stream",
     "text": [
      "     0     0 145927.743    0   34 201018.265 145927.743  27.4%     -    0s\n"
     ]
    },
    {
     "name": "stderr",
     "output_type": "stream",
     "text": [
      "2023-05-12 09:32:23,340 - INFO -      0     0 145927.743    0   34 201018.265 145927.743  27.4%     -    0s\n"
     ]
    },
    {
     "name": "stdout",
     "output_type": "stream",
     "text": [
      "     0     0 145939.470    0   38 201018.265 145939.470  27.4%     -    0s\n"
     ]
    },
    {
     "name": "stderr",
     "output_type": "stream",
     "text": [
      "2023-05-12 09:32:23,344 - INFO -      0     0 145939.470    0   38 201018.265 145939.470  27.4%     -    0s\n"
     ]
    },
    {
     "name": "stdout",
     "output_type": "stream",
     "text": [
      "     0     0 145949.504    0   36 201018.265 145949.504  27.4%     -    0s\n"
     ]
    },
    {
     "name": "stderr",
     "output_type": "stream",
     "text": [
      "2023-05-12 09:32:23,346 - INFO -      0     0 145949.504    0   36 201018.265 145949.504  27.4%     -    0s\n"
     ]
    },
    {
     "name": "stdout",
     "output_type": "stream",
     "text": [
      "     0     0 146051.007    0   26 201018.265 146051.007  27.3%     -    0s\n"
     ]
    },
    {
     "name": "stderr",
     "output_type": "stream",
     "text": [
      "2023-05-12 09:32:23,358 - INFO -      0     0 146051.007    0   26 201018.265 146051.007  27.3%     -    0s\n"
     ]
    },
    {
     "name": "stdout",
     "output_type": "stream",
     "text": [
      "     0     0 146085.423    0   36 201018.265 146085.423  27.3%     -    0s\n"
     ]
    },
    {
     "name": "stderr",
     "output_type": "stream",
     "text": [
      "2023-05-12 09:32:23,362 - INFO -      0     0 146085.423    0   36 201018.265 146085.423  27.3%     -    0s\n"
     ]
    },
    {
     "name": "stdout",
     "output_type": "stream",
     "text": [
      "     0     0 146089.508    0   40 201018.265 146089.508  27.3%     -    0s\n"
     ]
    },
    {
     "name": "stderr",
     "output_type": "stream",
     "text": [
      "2023-05-12 09:32:23,362 - INFO -      0     0 146089.508    0   40 201018.265 146089.508  27.3%     -    0s\n"
     ]
    },
    {
     "name": "stdout",
     "output_type": "stream",
     "text": [
      "     0     0 146102.893    0   36 201018.265 146102.893  27.3%     -    0s\n"
     ]
    },
    {
     "name": "stderr",
     "output_type": "stream",
     "text": [
      "2023-05-12 09:32:23,362 - INFO -      0     0 146102.893    0   36 201018.265 146102.893  27.3%     -    0s\n"
     ]
    },
    {
     "name": "stdout",
     "output_type": "stream",
     "text": [
      "     0     0 146143.474    0   43 201018.265 146143.474  27.3%     -    0s\n"
     ]
    },
    {
     "name": "stderr",
     "output_type": "stream",
     "text": [
      "2023-05-12 09:32:23,378 - INFO -      0     0 146143.474    0   43 201018.265 146143.474  27.3%     -    0s\n"
     ]
    },
    {
     "name": "stdout",
     "output_type": "stream",
     "text": [
      "     0     0 146145.631    0   41 201018.265 146145.631  27.3%     -    0s\n"
     ]
    },
    {
     "name": "stderr",
     "output_type": "stream",
     "text": [
      "2023-05-12 09:32:23,378 - INFO -      0     0 146145.631    0   41 201018.265 146145.631  27.3%     -    0s\n"
     ]
    },
    {
     "name": "stdout",
     "output_type": "stream",
     "text": [
      "     0     0 146147.947    0   43 201018.265 146147.947  27.3%     -    0s\n"
     ]
    },
    {
     "name": "stderr",
     "output_type": "stream",
     "text": [
      "2023-05-12 09:32:23,393 - INFO -      0     0 146147.947    0   43 201018.265 146147.947  27.3%     -    0s\n"
     ]
    },
    {
     "name": "stdout",
     "output_type": "stream",
     "text": [
      "     0     0 146147.947    0   43 201018.265 146147.947  27.3%     -    0s\n"
     ]
    },
    {
     "name": "stderr",
     "output_type": "stream",
     "text": [
      "2023-05-12 09:32:23,393 - INFO -      0     0 146147.947    0   43 201018.265 146147.947  27.3%     -    0s\n"
     ]
    },
    {
     "name": "stdout",
     "output_type": "stream",
     "text": [
      "     0     0 146158.443    0   38 201018.265 146158.443  27.3%     -    0s\n"
     ]
    },
    {
     "name": "stderr",
     "output_type": "stream",
     "text": [
      "2023-05-12 09:32:23,410 - INFO -      0     0 146158.443    0   38 201018.265 146158.443  27.3%     -    0s\n"
     ]
    },
    {
     "name": "stdout",
     "output_type": "stream",
     "text": [
      "     0     0 146160.046    0   39 201018.265 146160.046  27.3%     -    0s\n"
     ]
    },
    {
     "name": "stderr",
     "output_type": "stream",
     "text": [
      "2023-05-12 09:32:23,415 - INFO -      0     0 146160.046    0   39 201018.265 146160.046  27.3%     -    0s\n"
     ]
    },
    {
     "name": "stdout",
     "output_type": "stream",
     "text": [
      "     0     0 146160.046    0   38 201018.265 146160.046  27.3%     -    0s\n"
     ]
    },
    {
     "name": "stderr",
     "output_type": "stream",
     "text": [
      "2023-05-12 09:32:23,419 - INFO -      0     0 146160.046    0   38 201018.265 146160.046  27.3%     -    0s\n"
     ]
    },
    {
     "name": "stdout",
     "output_type": "stream",
     "text": [
      "     0     0 146160.046    0   35 201018.265 146160.046  27.3%     -    0s\n"
     ]
    },
    {
     "name": "stderr",
     "output_type": "stream",
     "text": [
      "2023-05-12 09:32:23,432 - INFO -      0     0 146160.046    0   35 201018.265 146160.046  27.3%     -    0s\n"
     ]
    },
    {
     "name": "stdout",
     "output_type": "stream",
     "text": [
      "     0     0 146160.046    0   33 201018.265 146160.046  27.3%     -    0s\n"
     ]
    },
    {
     "name": "stderr",
     "output_type": "stream",
     "text": [
      "2023-05-12 09:32:23,459 - INFO -      0     0 146160.046    0   33 201018.265 146160.046  27.3%     -    0s\n"
     ]
    },
    {
     "name": "stdout",
     "output_type": "stream",
     "text": [
      "     0     0 146160.046    0   36 201018.265 146160.046  27.3%     -    0s\n"
     ]
    },
    {
     "name": "stderr",
     "output_type": "stream",
     "text": [
      "2023-05-12 09:32:23,471 - INFO -      0     0 146160.046    0   36 201018.265 146160.046  27.3%     -    0s\n"
     ]
    },
    {
     "name": "stdout",
     "output_type": "stream",
     "text": [
      "     0     0 146160.046    0   31 201018.265 146160.046  27.3%     -    0s\n"
     ]
    },
    {
     "name": "stderr",
     "output_type": "stream",
     "text": [
      "2023-05-12 09:32:23,481 - INFO -      0     0 146160.046    0   31 201018.265 146160.046  27.3%     -    0s\n"
     ]
    },
    {
     "name": "stdout",
     "output_type": "stream",
     "text": [
      "     0     2 146160.046    0   31 201018.265 146160.046  27.3%     -    0s\n"
     ]
    },
    {
     "name": "stderr",
     "output_type": "stream",
     "text": [
      "2023-05-12 09:32:23,557 - INFO -      0     2 146160.046    0   31 201018.265 146160.046  27.3%     -    0s\n"
     ]
    },
    {
     "name": "stdout",
     "output_type": "stream",
     "text": [
      "H 5034  3024                    198010.26518 150006.320  24.2%   6.2    4s\n"
     ]
    },
    {
     "name": "stderr",
     "output_type": "stream",
     "text": [
      "2023-05-12 09:32:28,026 - INFO - H 5034  3024                    198010.26518 150006.320  24.2%   6.2    4s\n"
     ]
    },
    {
     "name": "stdout",
     "output_type": "stream",
     "text": [
      "  5134  3045 152334.420   54   22 198010.265 150006.320  24.2%   6.2    7s\n"
     ]
    },
    {
     "name": "stderr",
     "output_type": "stream",
     "text": [
      "2023-05-12 09:32:30,120 - INFO -   5134  3045 152334.420   54   22 198010.265 150006.320  24.2%   6.2    7s\n"
     ]
    },
    {
     "name": "stdout",
     "output_type": "stream",
     "text": [
      " 25331 16148 156340.735   55   26 198010.265 150294.903  24.1%   8.5   10s\n"
     ]
    },
    {
     "name": "stderr",
     "output_type": "stream",
     "text": [
      "2023-05-12 09:32:33,149 - INFO -  25331 16148 156340.735   55   26 198010.265 150294.903  24.1%   8.5   10s\n"
     ]
    },
    {
     "name": "stdout",
     "output_type": "stream",
     "text": [
      " 54247 32381 154775.955   31   38 198010.265 150576.738  24.0%  13.2   15s\n"
     ]
    },
    {
     "name": "stderr",
     "output_type": "stream",
     "text": [
      "2023-05-12 09:32:38,174 - INFO -  54247 32381 154775.955   31   38 198010.265 150576.738  24.0%  13.2   15s\n"
     ]
    },
    {
     "name": "stdout",
     "output_type": "stream",
     "text": [
      " 101281 60049     cutoff   53      198010.265 150585.941  24.0%  14.0   20s\n"
     ]
    },
    {
     "name": "stderr",
     "output_type": "stream",
     "text": [
      "2023-05-12 09:32:43,227 - INFO -  101281 60049     cutoff   53      198010.265 150585.941  24.0%  14.0   20s\n"
     ]
    },
    {
     "name": "stdout",
     "output_type": "stream",
     "text": [
      " 143421 80508 172216.956   89    9 198010.265 150585.941  24.0%  14.3   25s\n"
     ]
    },
    {
     "name": "stderr",
     "output_type": "stream",
     "text": [
      "2023-05-12 09:32:48,107 - INFO -  143421 80508 172216.956   89    9 198010.265 150585.941  24.0%  14.3   25s\n"
     ]
    },
    {
     "name": "stdout",
     "output_type": "stream",
     "text": [
      " 184172 99242 152767.430   40   40 198010.265 150618.761  23.9%  15.6   30s\n"
     ]
    },
    {
     "name": "stderr",
     "output_type": "stream",
     "text": [
      "2023-05-12 09:32:53,230 - INFO -  184172 99242 152767.430   40   40 198010.265 150618.761  23.9%  15.6   30s\n"
     ]
    },
    {
     "name": "stdout",
     "output_type": "stream",
     "text": [
      " 200861 107542 infeasible   48      198010.265 150653.942  23.9%  15.8   35s\n"
     ]
    },
    {
     "name": "stderr",
     "output_type": "stream",
     "text": [
      "2023-05-12 09:32:58,250 - INFO -  200861 107542 infeasible   48      198010.265 150653.942  23.9%  15.8   35s\n"
     ]
    },
    {
     "name": "stdout",
     "output_type": "stream",
     "text": [
      " 214390 113322 153949.796   49   62 198010.265 150653.942  23.9%  16.6   40s\n"
     ]
    },
    {
     "name": "stderr",
     "output_type": "stream",
     "text": [
      "2023-05-12 09:33:03,245 - INFO -  214390 113322 153949.796   49   62 198010.265 150653.942  23.9%  16.6   40s\n"
     ]
    },
    {
     "name": "stdout",
     "output_type": "stream",
     "text": [
      " 237452 122410 164896.156   48   24 198010.265 150704.378  23.9%  17.8   45s\n"
     ]
    },
    {
     "name": "stderr",
     "output_type": "stream",
     "text": [
      "2023-05-12 09:33:08,233 - INFO -  237452 122410 164896.156   48   24 198010.265 150704.378  23.9%  17.8   45s\n"
     ]
    },
    {
     "name": "stdout",
     "output_type": "stream",
     "text": [
      " 262816 133698 159318.724   45   38 198010.265 150706.491  23.9%  18.2   50s\n"
     ]
    },
    {
     "name": "stderr",
     "output_type": "stream",
     "text": [
      "2023-05-12 09:33:13,704 - INFO -  262816 133698 159318.724   45   38 198010.265 150706.491  23.9%  18.2   50s\n"
     ]
    },
    {
     "name": "stdout",
     "output_type": "stream",
     "text": [
      " 292978 145841 160247.000   50   38 198010.265 150706.491  23.9%  18.5   55s\n"
     ]
    },
    {
     "name": "stderr",
     "output_type": "stream",
     "text": [
      "2023-05-12 09:33:18,735 - INFO -  292978 145841 160247.000   50   38 198010.265 150706.491  23.9%  18.5   55s\n"
     ]
    },
    {
     "name": "stdout",
     "output_type": "stream",
     "text": [
      " 321037 155254 183379.684   41   44 198010.265 150720.698  23.9%  18.7   60s\n"
     ]
    },
    {
     "name": "stderr",
     "output_type": "stream",
     "text": [
      "2023-05-12 09:33:23,306 - INFO -  321037 155254 183379.684   41   44 198010.265 150720.698  23.9%  18.7   60s\n"
     ]
    },
    {
     "name": "stdout",
     "output_type": "stream",
     "text": [
      " 332984 159977 155924.713   49   51 198010.265 150737.363  23.9%  19.3   65s\n"
     ]
    },
    {
     "name": "stderr",
     "output_type": "stream",
     "text": [
      "2023-05-12 09:33:28,454 - INFO -  332984 159977 155924.713   49   51 198010.265 150737.363  23.9%  19.3   65s\n"
     ]
    },
    {
     "name": "stdout",
     "output_type": "stream",
     "text": [
      " 345143 164153     cutoff   37      198010.265 150741.666  23.9%  20.1   70s\n"
     ]
    },
    {
     "name": "stderr",
     "output_type": "stream",
     "text": [
      "2023-05-12 09:33:33,658 - INFO -  345143 164153     cutoff   37      198010.265 150741.666  23.9%  20.1   70s\n"
     ]
    },
    {
     "name": "stdout",
     "output_type": "stream",
     "text": [
      "H346675 164070                    196501.24797 150742.554  23.3%  20.2   70s\n"
     ]
    },
    {
     "name": "stderr",
     "output_type": "stream",
     "text": [
      "2023-05-12 09:33:33,705 - INFO - H346675 164070                    196501.24797 150742.554  23.3%  20.2   70s\n"
     ]
    },
    {
     "name": "stdout",
     "output_type": "stream",
     "text": [
      "H347467 163581                    193552.24797 150742.554  22.1%  20.2   72s\n"
     ]
    },
    {
     "name": "stderr",
     "output_type": "stream",
     "text": [
      "2023-05-12 09:33:35,451 - INFO - H347467 163581                    193552.24797 150742.554  22.1%  20.2   72s\n"
     ]
    },
    {
     "name": "stdout",
     "output_type": "stream",
     "text": [
      " 353306 166599 157797.908   36   50 193552.248 150744.867  22.1%  20.6   75s\n"
     ]
    },
    {
     "name": "stderr",
     "output_type": "stream",
     "text": [
      "2023-05-12 09:33:38,061 - INFO -  353306 166599 157797.908   36   50 193552.248 150744.867  22.1%  20.6   75s\n"
     ]
    },
    {
     "name": "stdout",
     "output_type": "stream",
     "text": [
      " 363431 171701 170589.147   48   36 193552.248 150745.511  22.1%  21.2   80s\n"
     ]
    },
    {
     "name": "stderr",
     "output_type": "stream",
     "text": [
      "2023-05-12 09:33:43,187 - INFO -  363431 171701 170589.147   48   36 193552.248 150745.511  22.1%  21.2   80s\n"
     ]
    },
    {
     "name": "stdout",
     "output_type": "stream",
     "text": [
      " 378508 175218 178332.804   48   60 193552.248 150778.475  22.1%  22.1   86s\n"
     ]
    },
    {
     "name": "stderr",
     "output_type": "stream",
     "text": [
      "2023-05-12 09:33:49,318 - INFO -  378508 175218 178332.804   48   60 193552.248 150778.475  22.1%  22.1   86s\n"
     ]
    },
    {
     "name": "stdout",
     "output_type": "stream",
     "text": [
      " 387337 176451 153812.698   38   73 193552.248 150805.598  22.1%  22.6   90s\n"
     ]
    },
    {
     "name": "stderr",
     "output_type": "stream",
     "text": [
      "2023-05-12 09:33:53,481 - INFO -  387337 176451 153812.698   38   73 193552.248 150805.598  22.1%  22.6   90s\n"
     ]
    },
    {
     "name": "stdout",
     "output_type": "stream",
     "text": [
      " 400451 181263 164160.816   72   17 193552.248 150852.859  22.1%  23.3   95s\n"
     ]
    },
    {
     "name": "stderr",
     "output_type": "stream",
     "text": [
      "2023-05-12 09:33:58,139 - INFO -  400451 181263 164160.816   72   17 193552.248 150852.859  22.1%  23.3   95s\n"
     ]
    },
    {
     "name": "stdout",
     "output_type": "stream",
     "text": [
      " 406540 184533 184294.666   56   47 193552.248 150865.737  22.1%  23.6  100s\n"
     ]
    },
    {
     "name": "stderr",
     "output_type": "stream",
     "text": [
      "2023-05-12 09:34:03,201 - INFO -  406540 184533 184294.666   56   47 193552.248 150865.737  22.1%  23.6  100s\n"
     ]
    },
    {
     "name": "stdout",
     "output_type": "stream",
     "text": [
      " 419183 187878 182660.134   48   13 193552.248 150944.312  22.0%  24.3  105s\n"
     ]
    },
    {
     "name": "stderr",
     "output_type": "stream",
     "text": [
      "2023-05-12 09:34:08,172 - INFO -  419183 187878 182660.134   48   13 193552.248 150944.312  22.0%  24.3  105s\n"
     ]
    },
    {
     "name": "stdout",
     "output_type": "stream",
     "text": [
      " 428488 190133 167748.321   42   63 193552.248 151035.465  22.0%  24.8  110s\n"
     ]
    },
    {
     "name": "stderr",
     "output_type": "stream",
     "text": [
      "2023-05-12 09:34:13,163 - INFO -  428488 190133 167748.321   42   63 193552.248 151035.465  22.0%  24.8  110s\n"
     ]
    },
    {
     "name": "stdout",
     "output_type": "stream",
     "text": [
      " 438755 192174 157738.489   54   40 193552.248 151182.578  21.9%  25.3  116s\n"
     ]
    },
    {
     "name": "stderr",
     "output_type": "stream",
     "text": [
      "2023-05-12 09:34:19,417 - INFO -  438755 192174 157738.489   54   40 193552.248 151182.578  21.9%  25.3  116s\n"
     ]
    },
    {
     "name": "stdout",
     "output_type": "stream",
     "text": [
      "H438801 191689                    191935.24797 151182.578  21.2%  25.3  116s\n"
     ]
    },
    {
     "name": "stderr",
     "output_type": "stream",
     "text": [
      "2023-05-12 09:34:19,628 - INFO - H438801 191689                    191935.24797 151182.578  21.2%  25.3  116s\n"
     ]
    },
    {
     "name": "stdout",
     "output_type": "stream",
     "text": [
      "H441849 192457                    188645.23077 151217.819  19.8%  25.4  118s\n"
     ]
    },
    {
     "name": "stderr",
     "output_type": "stream",
     "text": [
      "2023-05-12 09:34:21,731 - INFO - H441849 192457                    188645.23077 151217.819  19.8%  25.4  118s\n"
     ]
    },
    {
     "name": "stdout",
     "output_type": "stream",
     "text": [
      " 445385 194537 173308.446   51   34 188645.231 151217.819  19.8%  25.6  120s\n"
     ]
    },
    {
     "name": "stderr",
     "output_type": "stream",
     "text": [
      "2023-05-12 09:34:23,135 - INFO -  445385 194537 173308.446   51   34 188645.231 151217.819  19.8%  25.6  120s\n"
     ]
    },
    {
     "name": "stdout",
     "output_type": "stream",
     "text": [
      " 460956 200149     cutoff   56      188645.231 151267.815  19.8%  26.3  125s\n"
     ]
    },
    {
     "name": "stderr",
     "output_type": "stream",
     "text": [
      "2023-05-12 09:34:29,015 - INFO -  460956 200149     cutoff   56      188645.231 151267.815  19.8%  26.3  125s\n"
     ]
    },
    {
     "name": "stdout",
     "output_type": "stream",
     "text": [
      " 466191 201903 infeasible   50      188645.231 151343.244  19.8%  26.5  131s\n"
     ]
    },
    {
     "name": "stderr",
     "output_type": "stream",
     "text": [
      "2023-05-12 09:34:34,950 - INFO -  466191 201903 infeasible   50      188645.231 151343.244  19.8%  26.5  131s\n"
     ]
    },
    {
     "name": "stdout",
     "output_type": "stream",
     "text": [
      " 468040 202243     cutoff   60      188645.231 151366.307  19.8%  26.6  136s\n"
     ]
    },
    {
     "name": "stderr",
     "output_type": "stream",
     "text": [
      "2023-05-12 09:34:39,429 - INFO -  468040 202243     cutoff   60      188645.231 151366.307  19.8%  26.6  136s\n"
     ]
    },
    {
     "name": "stdout",
     "output_type": "stream",
     "text": [
      " 474825 205111 171452.803   70   34 188645.231 151429.328  19.7%  27.0  140s\n"
     ]
    },
    {
     "name": "stderr",
     "output_type": "stream",
     "text": [
      "2023-05-12 09:34:43,748 - INFO -  474825 205111 171452.803   70   34 188645.231 151429.328  19.7%  27.0  140s\n"
     ]
    },
    {
     "name": "stdout",
     "output_type": "stream",
     "text": [
      " 482365 208668 158734.616   52   47 188645.231 151432.409  19.7%  27.4  145s\n"
     ]
    },
    {
     "name": "stderr",
     "output_type": "stream",
     "text": [
      "2023-05-12 09:34:48,660 - INFO -  482365 208668 158734.616   52   47 188645.231 151432.409  19.7%  27.4  145s\n"
     ]
    },
    {
     "name": "stdout",
     "output_type": "stream",
     "text": [
      " 493348 213663 187346.179   53   16 188645.231 151432.409  19.7%  28.0  150s\n"
     ]
    },
    {
     "name": "stderr",
     "output_type": "stream",
     "text": [
      "2023-05-12 09:34:53,076 - INFO -  493348 213663 187346.179   53   16 188645.231 151432.409  19.7%  28.0  150s\n"
     ]
    },
    {
     "name": "stdout",
     "output_type": "stream",
     "text": [
      " 503923 217806 188201.983   50   29 188645.231 151470.999  19.7%  28.5  155s\n"
     ]
    },
    {
     "name": "stderr",
     "output_type": "stream",
     "text": [
      "2023-05-12 09:34:58,283 - INFO -  503923 217806 188201.983   50   29 188645.231 151470.999  19.7%  28.5  155s\n"
     ]
    },
    {
     "name": "stdout",
     "output_type": "stream",
     "text": [
      " 509024 219899     cutoff   47      188645.231 151470.999  19.7%  28.7  160s\n"
     ]
    },
    {
     "name": "stderr",
     "output_type": "stream",
     "text": [
      "2023-05-12 09:35:03,560 - INFO -  509024 219899     cutoff   47      188645.231 151470.999  19.7%  28.7  160s\n"
     ]
    },
    {
     "name": "stdout",
     "output_type": "stream",
     "text": [
      " 517484 223340 164672.779   48   58 188645.231 151508.355  19.7%  29.1  165s\n"
     ]
    },
    {
     "name": "stderr",
     "output_type": "stream",
     "text": [
      "2023-05-12 09:35:08,120 - INFO -  517484 223340 164672.779   48   58 188645.231 151508.355  19.7%  29.1  165s\n"
     ]
    },
    {
     "name": "stdout",
     "output_type": "stream",
     "text": [
      " 528765 227331     cutoff   48      188645.231 151542.642  19.7%  29.6  170s\n"
     ]
    },
    {
     "name": "stderr",
     "output_type": "stream",
     "text": [
      "2023-05-12 09:35:13,133 - INFO -  528765 227331     cutoff   48      188645.231 151542.642  19.7%  29.6  170s\n"
     ]
    },
    {
     "name": "stdout",
     "output_type": "stream",
     "text": [
      " 539135 230480 infeasible   59      188645.231 151622.846  19.6%  30.0  175s\n"
     ]
    },
    {
     "name": "stderr",
     "output_type": "stream",
     "text": [
      "2023-05-12 09:35:18,567 - INFO -  539135 230480 infeasible   59      188645.231 151622.846  19.6%  30.0  175s\n"
     ]
    },
    {
     "name": "stdout",
     "output_type": "stream",
     "text": [
      " 552183 234676 178273.005   47   40 188645.231 151736.734  19.6%  30.5  180s\n"
     ]
    },
    {
     "name": "stderr",
     "output_type": "stream",
     "text": [
      "2023-05-12 09:35:23,204 - INFO -  552183 234676 178273.005   47   40 188645.231 151736.734  19.6%  30.5  180s\n"
     ]
    },
    {
     "name": "stdout",
     "output_type": "stream",
     "text": [
      " 562268 238057 170108.137   53   42 188645.231 151820.095  19.5%  30.8  185s\n"
     ]
    },
    {
     "name": "stderr",
     "output_type": "stream",
     "text": [
      "2023-05-12 09:35:28,289 - INFO -  562268 238057 170108.137   53   42 188645.231 151820.095  19.5%  30.8  185s\n"
     ]
    },
    {
     "name": "stdout",
     "output_type": "stream",
     "text": [
      " 571417 241394 infeasible   46      188645.231 151893.016  19.5%  31.2  190s\n"
     ]
    },
    {
     "name": "stderr",
     "output_type": "stream",
     "text": [
      "2023-05-12 09:35:33,661 - INFO -  571417 241394 infeasible   46      188645.231 151893.016  19.5%  31.2  190s\n"
     ]
    },
    {
     "name": "stdout",
     "output_type": "stream",
     "text": [
      " 582267 245712 159519.394   53   56 188645.231 151966.639  19.4%  31.5  195s\n"
     ]
    },
    {
     "name": "stderr",
     "output_type": "stream",
     "text": [
      "2023-05-12 09:35:38,364 - INFO -  582267 245712 159519.394   53   56 188645.231 151966.639  19.4%  31.5  195s\n"
     ]
    },
    {
     "name": "stdout",
     "output_type": "stream",
     "text": [
      " 593054 250577 163407.852   50   41 188645.231 151991.508  19.4%  31.9  200s\n"
     ]
    },
    {
     "name": "stderr",
     "output_type": "stream",
     "text": [
      "2023-05-12 09:35:43,320 - INFO -  593054 250577 163407.852   50   41 188645.231 151991.508  19.4%  31.9  200s\n"
     ]
    },
    {
     "name": "stdout",
     "output_type": "stream",
     "text": [
      " 601823 254291 175018.313   46   54 188645.231 152052.108  19.4%  32.2  205s\n"
     ]
    },
    {
     "name": "stderr",
     "output_type": "stream",
     "text": [
      "2023-05-12 09:35:48,269 - INFO -  601823 254291 175018.313   46   54 188645.231 152052.108  19.4%  32.2  205s\n"
     ]
    },
    {
     "name": "stdout",
     "output_type": "stream",
     "text": [
      " 610151 259445 158795.585   46   49 188645.231 152065.374  19.4%  32.5  210s\n"
     ]
    },
    {
     "name": "stderr",
     "output_type": "stream",
     "text": [
      "2023-05-12 09:35:53,423 - INFO -  610151 259445 158795.585   46   49 188645.231 152065.374  19.4%  32.5  210s\n"
     ]
    },
    {
     "name": "stdout",
     "output_type": "stream",
     "text": [
      " 620134 263097 infeasible   57      188645.231 152097.302  19.4%  32.8  215s\n"
     ]
    },
    {
     "name": "stderr",
     "output_type": "stream",
     "text": [
      "2023-05-12 09:35:58,224 - INFO -  620134 263097 infeasible   57      188645.231 152097.302  19.4%  32.8  215s\n"
     ]
    },
    {
     "name": "stdout",
     "output_type": "stream",
     "text": [
      " 632764 268037 168819.557   47   39 188645.231 152156.360  19.3%  33.2  220s\n"
     ]
    },
    {
     "name": "stderr",
     "output_type": "stream",
     "text": [
      "2023-05-12 09:36:03,220 - INFO -  632764 268037 168819.557   47   39 188645.231 152156.360  19.3%  33.2  220s\n"
     ]
    },
    {
     "name": "stdout",
     "output_type": "stream",
     "text": [
      " 645741 272606 175429.256   45   64 188645.231 152215.378  19.3%  33.5  225s\n"
     ]
    },
    {
     "name": "stderr",
     "output_type": "stream",
     "text": [
      "2023-05-12 09:36:08,069 - INFO -  645741 272606 175429.256   45   64 188645.231 152215.378  19.3%  33.5  225s\n"
     ]
    },
    {
     "name": "stdout",
     "output_type": "stream",
     "text": [
      " 654519 277042 163424.723   38   48 188645.231 152241.414  19.3%  33.7  230s\n"
     ]
    },
    {
     "name": "stderr",
     "output_type": "stream",
     "text": [
      "2023-05-12 09:36:13,054 - INFO -  654519 277042 163424.723   38   48 188645.231 152241.414  19.3%  33.7  230s\n"
     ]
    },
    {
     "name": "stdout",
     "output_type": "stream",
     "text": [
      " 664242 280686 infeasible   44      188645.231 152309.223  19.3%  34.0  235s\n"
     ]
    },
    {
     "name": "stderr",
     "output_type": "stream",
     "text": [
      "2023-05-12 09:36:18,052 - INFO -  664242 280686 infeasible   44      188645.231 152309.223  19.3%  34.0  235s\n"
     ]
    },
    {
     "name": "stdout",
     "output_type": "stream",
     "text": [
      " 676822 285141 170782.396   60   60 188645.231 152375.085  19.2%  34.3  240s\n"
     ]
    },
    {
     "name": "stderr",
     "output_type": "stream",
     "text": [
      "2023-05-12 09:36:23,591 - INFO -  676822 285141 170782.396   60   60 188645.231 152375.085  19.2%  34.3  240s\n"
     ]
    },
    {
     "name": "stdout",
     "output_type": "stream",
     "text": [
      " 685277 288090     cutoff   49      188645.231 152422.067  19.2%  34.6  245s\n"
     ]
    },
    {
     "name": "stderr",
     "output_type": "stream",
     "text": [
      "2023-05-12 09:36:28,380 - INFO -  685277 288090     cutoff   49      188645.231 152422.067  19.2%  34.6  245s\n"
     ]
    },
    {
     "name": "stdout",
     "output_type": "stream",
     "text": [
      " 694024 291032 161147.843   38   59 188645.231 152487.320  19.2%  34.8  250s\n"
     ]
    },
    {
     "name": "stderr",
     "output_type": "stream",
     "text": [
      "2023-05-12 09:36:33,508 - INFO -  694024 291032 161147.843   38   59 188645.231 152487.320  19.2%  34.8  250s\n"
     ]
    },
    {
     "name": "stdout",
     "output_type": "stream",
     "text": [
      " 703512 294505 168936.690   59   59 188645.231 152523.406  19.1%  35.0  255s\n"
     ]
    },
    {
     "name": "stderr",
     "output_type": "stream",
     "text": [
      "2023-05-12 09:36:38,225 - INFO -  703512 294505 168936.690   59   59 188645.231 152523.406  19.1%  35.0  255s\n"
     ]
    },
    {
     "name": "stdout",
     "output_type": "stream",
     "text": [
      " 711845 297960 185517.236   67   19 188645.231 152551.447  19.1%  35.2  260s\n"
     ]
    },
    {
     "name": "stderr",
     "output_type": "stream",
     "text": [
      "2023-05-12 09:36:43,082 - INFO -  711845 297960 185517.236   67   19 188645.231 152551.447  19.1%  35.2  260s\n"
     ]
    },
    {
     "name": "stdout",
     "output_type": "stream",
     "text": [
      " 720971 301508 159390.531   51   75 188645.231 152579.553  19.1%  35.5  265s\n"
     ]
    },
    {
     "name": "stderr",
     "output_type": "stream",
     "text": [
      "2023-05-12 09:36:48,410 - INFO -  720971 301508 159390.531   51   75 188645.231 152579.553  19.1%  35.5  265s\n"
     ]
    },
    {
     "name": "stdout",
     "output_type": "stream",
     "text": [
      " 728513 304693 157136.634   38   91 188645.231 152604.353  19.1%  35.7  270s\n"
     ]
    },
    {
     "name": "stderr",
     "output_type": "stream",
     "text": [
      "2023-05-12 09:36:53,151 - INFO -  728513 304693 157136.634   38   91 188645.231 152604.353  19.1%  35.7  270s\n"
     ]
    },
    {
     "name": "stdout",
     "output_type": "stream",
     "text": [
      " 737414 307950 187487.588   59   30 188645.231 152650.676  19.1%  35.9  275s\n"
     ]
    },
    {
     "name": "stderr",
     "output_type": "stream",
     "text": [
      "2023-05-12 09:36:58,582 - INFO -  737414 307950 187487.588   59   30 188645.231 152650.676  19.1%  35.9  275s\n"
     ]
    },
    {
     "name": "stdout",
     "output_type": "stream",
     "text": [
      " 746680 311427 174293.608   52   70 188645.231 152691.951  19.1%  36.1  280s\n"
     ]
    },
    {
     "name": "stderr",
     "output_type": "stream",
     "text": [
      "2023-05-12 09:37:03,227 - INFO -  746680 311427 174293.608   52   70 188645.231 152691.951  19.1%  36.1  280s\n"
     ]
    },
    {
     "name": "stdout",
     "output_type": "stream",
     "text": [
      " 757131 315503 153495.422   29   56 188645.231 152742.184  19.0%  36.3  285s\n"
     ]
    },
    {
     "name": "stderr",
     "output_type": "stream",
     "text": [
      "2023-05-12 09:37:08,378 - INFO -  757131 315503 153495.422   29   56 188645.231 152742.184  19.0%  36.3  285s\n"
     ]
    },
    {
     "name": "stdout",
     "output_type": "stream",
     "text": [
      " 768550 319304 infeasible   60      188645.231 152767.139  19.0%  36.6  290s\n"
     ]
    },
    {
     "name": "stderr",
     "output_type": "stream",
     "text": [
      "2023-05-12 09:37:13,571 - INFO -  768550 319304 infeasible   60      188645.231 152767.139  19.0%  36.6  290s\n"
     ]
    },
    {
     "name": "stdout",
     "output_type": "stream",
     "text": [
      " 781573 324604 infeasible   69      188645.231 152837.196  19.0%  37.0  295s\n"
     ]
    },
    {
     "name": "stderr",
     "output_type": "stream",
     "text": [
      "2023-05-12 09:37:18,829 - INFO -  781573 324604 infeasible   69      188645.231 152837.196  19.0%  37.0  295s\n"
     ]
    },
    {
     "name": "stdout",
     "output_type": "stream",
     "text": [
      " 792621 328733 154689.663   45   57 188645.231 152865.425  19.0%  37.2  300s\n"
     ]
    },
    {
     "name": "stderr",
     "output_type": "stream",
     "text": [
      "2023-05-12 09:37:23,556 - INFO -  792621 328733 154689.663   45   57 188645.231 152865.425  19.0%  37.2  300s\n"
     ]
    },
    {
     "name": "stdout",
     "output_type": "stream",
     "text": [
      " 805394 332967 154439.310   50   45 188645.231 152917.832  18.9%  37.5  305s\n"
     ]
    },
    {
     "name": "stderr",
     "output_type": "stream",
     "text": [
      "2023-05-12 09:37:28,244 - INFO -  805394 332967 154439.310   50   45 188645.231 152917.832  18.9%  37.5  305s\n"
     ]
    },
    {
     "name": "stdout",
     "output_type": "stream",
     "text": [
      " 819315 337822 166487.861   54   40 188645.231 152976.176  18.9%  37.7  310s\n"
     ]
    },
    {
     "name": "stderr",
     "output_type": "stream",
     "text": [
      "2023-05-12 09:37:33,406 - INFO -  819315 337822 166487.861   54   40 188645.231 152976.176  18.9%  37.7  310s\n"
     ]
    },
    {
     "name": "stdout",
     "output_type": "stream",
     "text": [
      " 831592 342148 170470.825   58   29 188645.231 153020.464  18.9%  38.0  315s\n"
     ]
    },
    {
     "name": "stderr",
     "output_type": "stream",
     "text": [
      "2023-05-12 09:37:38,355 - INFO -  831592 342148 170470.825   58   29 188645.231 153020.464  18.9%  38.0  315s\n"
     ]
    },
    {
     "name": "stdout",
     "output_type": "stream",
     "text": [
      " 840943 345661 184878.493   60   25 188645.231 153056.835  18.9%  38.2  320s\n"
     ]
    },
    {
     "name": "stderr",
     "output_type": "stream",
     "text": [
      "2023-05-12 09:37:43,092 - INFO -  840943 345661 184878.493   60   25 188645.231 153056.835  18.9%  38.2  320s\n"
     ]
    },
    {
     "name": "stdout",
     "output_type": "stream",
     "text": [
      " 852501 350146 156205.790   45   70 188645.231 153081.092  18.9%  38.5  325s\n"
     ]
    },
    {
     "name": "stderr",
     "output_type": "stream",
     "text": [
      "2023-05-12 09:37:48,398 - INFO -  852501 350146 156205.790   45   70 188645.231 153081.092  18.9%  38.5  325s\n"
     ]
    },
    {
     "name": "stdout",
     "output_type": "stream",
     "text": [
      " 857425 352078 156036.996   41   74 188645.231 153092.689  18.8%  38.6  330s\n"
     ]
    },
    {
     "name": "stderr",
     "output_type": "stream",
     "text": [
      "2023-05-12 09:37:53,265 - INFO -  857425 352078 156036.996   41   74 188645.231 153092.689  18.8%  38.6  330s\n"
     ]
    },
    {
     "name": "stdout",
     "output_type": "stream",
     "text": [
      " 867863 356329 156579.578   37   71 188645.231 153123.455  18.8%  38.8  335s\n"
     ]
    },
    {
     "name": "stderr",
     "output_type": "stream",
     "text": [
      "2023-05-12 09:37:58,058 - INFO -  867863 356329 156579.578   37   71 188645.231 153123.455  18.8%  38.8  335s\n"
     ]
    },
    {
     "name": "stdout",
     "output_type": "stream",
     "text": [
      " 880333 360981 infeasible   43      188645.231 153158.762  18.8%  39.1  340s\n"
     ]
    },
    {
     "name": "stderr",
     "output_type": "stream",
     "text": [
      "2023-05-12 09:38:03,804 - INFO -  880333 360981 infeasible   43      188645.231 153158.762  18.8%  39.1  340s\n"
     ]
    },
    {
     "name": "stdout",
     "output_type": "stream",
     "text": [
      " 890181 364508 156541.562   46   72 188645.231 153186.600  18.8%  39.3  345s\n"
     ]
    },
    {
     "name": "stderr",
     "output_type": "stream",
     "text": [
      "2023-05-12 09:38:08,102 - INFO -  890181 364508 156541.562   46   72 188645.231 153186.600  18.8%  39.3  345s\n"
     ]
    },
    {
     "name": "stdout",
     "output_type": "stream",
     "text": [
      " 900891 368132 infeasible   50      188645.231 153219.422  18.8%  39.5  350s\n"
     ]
    },
    {
     "name": "stderr",
     "output_type": "stream",
     "text": [
      "2023-05-12 09:38:13,084 - INFO -  900891 368132 infeasible   50      188645.231 153219.422  18.8%  39.5  350s\n"
     ]
    },
    {
     "name": "stdout",
     "output_type": "stream",
     "text": [
      " 913913 372882 166660.260   41   73 188645.231 153250.694  18.8%  39.8  355s\n"
     ]
    },
    {
     "name": "stderr",
     "output_type": "stream",
     "text": [
      "2023-05-12 09:38:18,610 - INFO -  913913 372882 166660.260   41   73 188645.231 153250.694  18.8%  39.8  355s\n"
     ]
    },
    {
     "name": "stdout",
     "output_type": "stream",
     "text": [
      " 926867 376867 157504.678   58   72 188645.231 153302.751  18.7%  40.0  360s\n"
     ]
    },
    {
     "name": "stderr",
     "output_type": "stream",
     "text": [
      "2023-05-12 09:38:23,137 - INFO -  926867 376867 157504.678   58   72 188645.231 153302.751  18.7%  40.0  360s\n"
     ]
    },
    {
     "name": "stdout",
     "output_type": "stream",
     "text": [
      " 939662 381137 161431.300   43   70 188645.231 153349.868  18.7%  40.3  365s\n"
     ]
    },
    {
     "name": "stderr",
     "output_type": "stream",
     "text": [
      "2023-05-12 09:38:28,382 - INFO -  939662 381137 161431.300   43   70 188645.231 153349.868  18.7%  40.3  365s\n"
     ]
    },
    {
     "name": "stdout",
     "output_type": "stream",
     "text": [
      " 948898 383962 155769.770   37   47 188645.231 153365.894  18.7%  40.5  372s\n"
     ]
    },
    {
     "name": "stderr",
     "output_type": "stream",
     "text": [
      "2023-05-12 09:38:35,219 - INFO -  948898 383962 155769.770   37   47 188645.231 153365.894  18.7%  40.5  372s\n"
     ]
    },
    {
     "name": "stdout",
     "output_type": "stream",
     "text": [
      " 953477 385969 158332.446   52   64 188645.231 153389.898  18.7%  40.6  375s\n"
     ]
    },
    {
     "name": "stderr",
     "output_type": "stream",
     "text": [
      "2023-05-12 09:38:38,669 - INFO -  953477 385969 158332.446   52   64 188645.231 153389.898  18.7%  40.6  375s\n"
     ]
    },
    {
     "name": "stdout",
     "output_type": "stream",
     "text": [
      " 959027 387767 infeasible   49      188645.231 153397.015  18.7%  40.7  380s\n"
     ]
    },
    {
     "name": "stderr",
     "output_type": "stream",
     "text": [
      "2023-05-12 09:38:43,655 - INFO -  959027 387767 infeasible   49      188645.231 153397.015  18.7%  40.7  380s\n"
     ]
    },
    {
     "name": "stdout",
     "output_type": "stream",
     "text": [
      " 970072 392153 infeasible   43      188645.231 153431.349  18.7%  40.9  385s\n"
     ]
    },
    {
     "name": "stderr",
     "output_type": "stream",
     "text": [
      "2023-05-12 09:38:48,345 - INFO -  970072 392153 infeasible   43      188645.231 153431.349  18.7%  40.9  385s\n"
     ]
    },
    {
     "name": "stdout",
     "output_type": "stream",
     "text": [
      " 985304 397747 170516.819   39   60 188645.231 153447.638  18.7%  41.2  390s\n"
     ]
    },
    {
     "name": "stderr",
     "output_type": "stream",
     "text": [
      "2023-05-12 09:38:53,061 - INFO -  985304 397747 170516.819   39   60 188645.231 153447.638  18.7%  41.2  390s\n"
     ]
    },
    {
     "name": "stdout",
     "output_type": "stream",
     "text": [
      " 992529 400771 162858.143   45   55 188645.231 153473.037  18.6%  41.4  395s\n"
     ]
    },
    {
     "name": "stderr",
     "output_type": "stream",
     "text": [
      "2023-05-12 09:38:58,142 - INFO -  992529 400771 162858.143   45   55 188645.231 153473.037  18.6%  41.4  395s\n"
     ]
    },
    {
     "name": "stdout",
     "output_type": "stream",
     "text": [
      " 1004716 404752 infeasible   52      188645.231 153490.598  18.6%  41.7  400s\n"
     ]
    },
    {
     "name": "stderr",
     "output_type": "stream",
     "text": [
      "2023-05-12 09:39:03,556 - INFO -  1004716 404752 infeasible   52      188645.231 153490.598  18.6%  41.7  400s\n"
     ]
    },
    {
     "name": "stdout",
     "output_type": "stream",
     "text": [
      " 1015656 408652 161266.899   42   67 188645.231 153509.370  18.6%  41.9  405s\n"
     ]
    },
    {
     "name": "stderr",
     "output_type": "stream",
     "text": [
      "2023-05-12 09:39:08,271 - INFO -  1015656 408652 161266.899   42   67 188645.231 153509.370  18.6%  41.9  405s\n"
     ]
    },
    {
     "name": "stdout",
     "output_type": "stream",
     "text": [
      " 1028110 412897 184013.881   50   36 188645.231 153551.691  18.6%  42.1  410s\n"
     ]
    },
    {
     "name": "stderr",
     "output_type": "stream",
     "text": [
      "2023-05-12 09:39:13,650 - INFO -  1028110 412897 184013.881   50   36 188645.231 153551.691  18.6%  42.1  410s\n"
     ]
    },
    {
     "name": "stdout",
     "output_type": "stream",
     "text": [
      " 1039945 418164 170014.330   44   37 188645.231 153554.587  18.6%  42.4  415s\n"
     ]
    },
    {
     "name": "stderr",
     "output_type": "stream",
     "text": [
      "2023-05-12 09:39:18,422 - INFO -  1039945 418164 170014.330   44   37 188645.231 153554.587  18.6%  42.4  415s\n"
     ]
    },
    {
     "name": "stdout",
     "output_type": "stream",
     "text": [
      " 1052384 422073 187487.588   54   47 188645.231 153579.409  18.6%  42.5  420s\n"
     ]
    },
    {
     "name": "stderr",
     "output_type": "stream",
     "text": [
      "2023-05-12 09:39:23,405 - INFO -  1052384 422073 187487.588   54   47 188645.231 153579.409  18.6%  42.5  420s\n"
     ]
    },
    {
     "name": "stdout",
     "output_type": "stream",
     "text": [
      " 1064793 425807 infeasible   47      188645.231 153629.969  18.6%  42.8  425s\n"
     ]
    },
    {
     "name": "stderr",
     "output_type": "stream",
     "text": [
      "2023-05-12 09:39:28,788 - INFO -  1064793 425807 infeasible   47      188645.231 153629.969  18.6%  42.8  425s\n"
     ]
    },
    {
     "name": "stdout",
     "output_type": "stream",
     "text": [
      " 1075423 429115 168117.931   50   46 188645.231 153665.926  18.5%  42.9  430s\n"
     ]
    },
    {
     "name": "stderr",
     "output_type": "stream",
     "text": [
      "2023-05-12 09:39:33,312 - INFO -  1075423 429115 168117.931   50   46 188645.231 153665.926  18.5%  42.9  430s\n"
     ]
    },
    {
     "name": "stdout",
     "output_type": "stream",
     "text": [
      " 1089396 433304 167798.732   53   58 188645.231 153710.388  18.5%  43.1  435s\n"
     ]
    },
    {
     "name": "stderr",
     "output_type": "stream",
     "text": [
      "2023-05-12 09:39:38,524 - INFO -  1089396 433304 167798.732   53   58 188645.231 153710.388  18.5%  43.1  435s\n"
     ]
    },
    {
     "name": "stdout",
     "output_type": "stream",
     "text": [
      " 1100488 436618 173530.510   42   22 188645.231 153750.570  18.5%  43.3  440s\n"
     ]
    },
    {
     "name": "stderr",
     "output_type": "stream",
     "text": [
      "2023-05-12 09:39:43,393 - INFO -  1100488 436618 173530.510   42   22 188645.231 153750.570  18.5%  43.3  440s\n"
     ]
    },
    {
     "name": "stdout",
     "output_type": "stream",
     "text": [
      " 1113940 441434 170992.517   48   49 188645.231 153789.239  18.5%  43.5  445s\n"
     ]
    },
    {
     "name": "stderr",
     "output_type": "stream",
     "text": [
      "2023-05-12 09:39:48,683 - INFO -  1113940 441434 170992.517   48   49 188645.231 153789.239  18.5%  43.5  445s\n"
     ]
    },
    {
     "name": "stdout",
     "output_type": "stream",
     "text": [
      " 1124952 444590     cutoff   46      188645.231 153824.409  18.5%  43.7  450s\n"
     ]
    },
    {
     "name": "stderr",
     "output_type": "stream",
     "text": [
      "2023-05-12 09:39:53,186 - INFO -  1124952 444590     cutoff   46      188645.231 153824.409  18.5%  43.7  450s\n"
     ]
    },
    {
     "name": "stdout",
     "output_type": "stream",
     "text": [
      " 1135352 447618 165065.141   49   52 188645.231 153847.614  18.4%  43.8  455s\n"
     ]
    },
    {
     "name": "stderr",
     "output_type": "stream",
     "text": [
      "2023-05-12 09:39:58,171 - INFO -  1135352 447618 165065.141   49   52 188645.231 153847.614  18.4%  43.8  455s\n"
     ]
    },
    {
     "name": "stdout",
     "output_type": "stream",
     "text": [
      " 1146906 451782 infeasible   47      188645.231 153876.956  18.4%  44.0  460s\n"
     ]
    },
    {
     "name": "stderr",
     "output_type": "stream",
     "text": [
      "2023-05-12 09:40:03,717 - INFO -  1146906 451782 infeasible   47      188645.231 153876.956  18.4%  44.0  460s\n"
     ]
    },
    {
     "name": "stdout",
     "output_type": "stream",
     "text": [
      " 1156706 455801 167374.762   48   68 188645.231 153891.859  18.4%  44.1  465s\n"
     ]
    },
    {
     "name": "stderr",
     "output_type": "stream",
     "text": [
      "2023-05-12 09:40:08,768 - INFO -  1156706 455801 167374.762   48   68 188645.231 153891.859  18.4%  44.1  465s\n"
     ]
    },
    {
     "name": "stdout",
     "output_type": "stream",
     "text": [
      " 1163512 457723 infeasible   65      188645.231 153919.714  18.4%  44.2  470s\n"
     ]
    },
    {
     "name": "stderr",
     "output_type": "stream",
     "text": [
      "2023-05-12 09:40:13,079 - INFO -  1163512 457723 infeasible   65      188645.231 153919.714  18.4%  44.2  470s\n"
     ]
    },
    {
     "name": "stdout",
     "output_type": "stream",
     "text": [
      " 1173536 460836     cutoff   45      188645.231 153943.310  18.4%  44.3  475s\n"
     ]
    },
    {
     "name": "stderr",
     "output_type": "stream",
     "text": [
      "2023-05-12 09:40:18,505 - INFO -  1173536 460836     cutoff   45      188645.231 153943.310  18.4%  44.3  475s\n"
     ]
    },
    {
     "name": "stdout",
     "output_type": "stream",
     "text": [
      " 1181797 463075 172026.319   56   45 188645.231 153977.868  18.4%  44.5  480s\n"
     ]
    },
    {
     "name": "stderr",
     "output_type": "stream",
     "text": [
      "2023-05-12 09:40:23,156 - INFO -  1181797 463075 172026.319   56   45 188645.231 153977.868  18.4%  44.5  480s\n"
     ]
    },
    {
     "name": "stdout",
     "output_type": "stream",
     "text": [
      " 1191600 466067 160932.952   38   53 188645.231 154000.947  18.4%  44.6  485s\n"
     ]
    },
    {
     "name": "stderr",
     "output_type": "stream",
     "text": [
      "2023-05-12 09:40:28,203 - INFO -  1191600 466067 160932.952   38   53 188645.231 154000.947  18.4%  44.6  485s\n"
     ]
    },
    {
     "name": "stdout",
     "output_type": "stream",
     "text": [
      " 1203916 469987 170811.181   54   39 188645.231 154044.407  18.3%  44.8  490s\n"
     ]
    },
    {
     "name": "stderr",
     "output_type": "stream",
     "text": [
      "2023-05-12 09:40:33,728 - INFO -  1203916 469987 170811.181   54   39 188645.231 154044.407  18.3%  44.8  490s\n"
     ]
    },
    {
     "name": "stdout",
     "output_type": "stream",
     "text": [
      " 1214841 473328 159677.820   43   86 188645.231 154074.843  18.3%  44.9  495s\n"
     ]
    },
    {
     "name": "stderr",
     "output_type": "stream",
     "text": [
      "2023-05-12 09:40:38,154 - INFO -  1214841 473328 159677.820   43   86 188645.231 154074.843  18.3%  44.9  495s\n"
     ]
    },
    {
     "name": "stdout",
     "output_type": "stream",
     "text": [
      " 1225960 476573 184503.467   51   53 188645.231 154112.352  18.3%  45.0  500s\n"
     ]
    },
    {
     "name": "stderr",
     "output_type": "stream",
     "text": [
      "2023-05-12 09:40:43,538 - INFO -  1225960 476573 184503.467   51   53 188645.231 154112.352  18.3%  45.0  500s\n"
     ]
    },
    {
     "name": "stdout",
     "output_type": "stream",
     "text": [
      " 1238287 480762 155005.076   47   46 188645.231 154122.964  18.3%  45.3  505s\n"
     ]
    },
    {
     "name": "stderr",
     "output_type": "stream",
     "text": [
      "2023-05-12 09:40:48,720 - INFO -  1238287 480762 155005.076   47   46 188645.231 154122.964  18.3%  45.3  505s\n"
     ]
    },
    {
     "name": "stdout",
     "output_type": "stream",
     "text": [
      " 1247914 484475 164783.949   53   58 188645.231 154142.197  18.3%  45.3  510s\n"
     ]
    },
    {
     "name": "stderr",
     "output_type": "stream",
     "text": [
      "2023-05-12 09:40:53,529 - INFO -  1247914 484475 164783.949   53   58 188645.231 154142.197  18.3%  45.3  510s\n"
     ]
    },
    {
     "name": "stdout",
     "output_type": "stream",
     "text": [
      " 1257615 486823 155350.939   48   82 188645.231 154173.658  18.3%  45.5  515s\n"
     ]
    },
    {
     "name": "stderr",
     "output_type": "stream",
     "text": [
      "2023-05-12 09:40:58,091 - INFO -  1257615 486823 155350.939   48   82 188645.231 154173.658  18.3%  45.5  515s\n"
     ]
    },
    {
     "name": "stdout",
     "output_type": "stream",
     "text": [
      " 1271477 491120 160345.872   48   54 188645.231 154213.874  18.3%  45.6  520s\n"
     ]
    },
    {
     "name": "stderr",
     "output_type": "stream",
     "text": [
      "2023-05-12 09:41:03,909 - INFO -  1271477 491120 160345.872   48   54 188645.231 154213.874  18.3%  45.6  520s\n"
     ]
    },
    {
     "name": "stdout",
     "output_type": "stream",
     "text": [
      " 1281703 493983 171545.248   47   64 188645.231 154238.363  18.2%  45.8  525s\n"
     ]
    },
    {
     "name": "stderr",
     "output_type": "stream",
     "text": [
      "2023-05-12 09:41:08,450 - INFO -  1281703 493983 171545.248   47   64 188645.231 154238.363  18.2%  45.8  525s\n"
     ]
    },
    {
     "name": "stdout",
     "output_type": "stream",
     "text": [
      " 1290823 497309 170335.117   56   36 188645.231 154254.371  18.2%  45.9  530s\n"
     ]
    },
    {
     "name": "stderr",
     "output_type": "stream",
     "text": [
      "2023-05-12 09:41:13,136 - INFO -  1290823 497309 170335.117   56   36 188645.231 154254.371  18.2%  45.9  530s\n"
     ]
    },
    {
     "name": "stdout",
     "output_type": "stream",
     "text": [
      " 1301781 500497 166298.376   58   59 188645.231 154281.922  18.2%  46.0  535s\n"
     ]
    },
    {
     "name": "stderr",
     "output_type": "stream",
     "text": [
      "2023-05-12 09:41:18,921 - INFO -  1301781 500497 166298.376   58   59 188645.231 154281.922  18.2%  46.0  535s\n"
     ]
    },
    {
     "name": "stdout",
     "output_type": "stream",
     "text": [
      " 1312789 503455 169151.238   50   68 188645.231 154313.780  18.2%  46.2  540s\n"
     ]
    },
    {
     "name": "stderr",
     "output_type": "stream",
     "text": [
      "2023-05-12 09:41:23,984 - INFO -  1312789 503455 169151.238   50   68 188645.231 154313.780  18.2%  46.2  540s\n"
     ]
    },
    {
     "name": "stdout",
     "output_type": "stream",
     "text": [
      " 1323685 506564     cutoff   44      188645.231 154334.416  18.2%  46.3  545s\n"
     ]
    },
    {
     "name": "stderr",
     "output_type": "stream",
     "text": [
      "2023-05-12 09:41:28,677 - INFO -  1323685 506564     cutoff   44      188645.231 154334.416  18.2%  46.3  545s\n"
     ]
    },
    {
     "name": "stdout",
     "output_type": "stream",
     "text": [
      " 1333358 509325     cutoff   50      188645.231 154366.234  18.2%  46.4  550s\n"
     ]
    },
    {
     "name": "stderr",
     "output_type": "stream",
     "text": [
      "2023-05-12 09:41:33,678 - INFO -  1333358 509325     cutoff   50      188645.231 154366.234  18.2%  46.4  550s\n"
     ]
    },
    {
     "name": "stdout",
     "output_type": "stream",
     "text": [
      " 1342495 512447 156598.211   21   33 188645.231 154387.939  18.2%  46.5  555s\n"
     ]
    },
    {
     "name": "stderr",
     "output_type": "stream",
     "text": [
      "2023-05-12 09:41:38,579 - INFO -  1342495 512447 156598.211   21   33 188645.231 154387.939  18.2%  46.5  555s\n"
     ]
    },
    {
     "name": "stdout",
     "output_type": "stream",
     "text": [
      " 1353900 515507 infeasible   64      188645.231 154405.526  18.2%  46.7  560s\n"
     ]
    },
    {
     "name": "stderr",
     "output_type": "stream",
     "text": [
      "2023-05-12 09:41:43,445 - INFO -  1353900 515507 infeasible   64      188645.231 154405.526  18.2%  46.7  560s\n"
     ]
    },
    {
     "name": "stdout",
     "output_type": "stream",
     "text": [
      " 1366308 518272 161747.865   47   46 188645.231 154441.675  18.1%  46.8  565s\n"
     ]
    },
    {
     "name": "stderr",
     "output_type": "stream",
     "text": [
      "2023-05-12 09:41:48,663 - INFO -  1366308 518272 161747.865   47   46 188645.231 154441.675  18.1%  46.8  565s\n"
     ]
    },
    {
     "name": "stdout",
     "output_type": "stream",
     "text": [
      " 1376735 520577     cutoff   41      188645.231 154461.692  18.1%  47.0  570s\n"
     ]
    },
    {
     "name": "stderr",
     "output_type": "stream",
     "text": [
      "2023-05-12 09:41:53,467 - INFO -  1376735 520577     cutoff   41      188645.231 154461.692  18.1%  47.0  570s\n"
     ]
    },
    {
     "name": "stdout",
     "output_type": "stream",
     "text": [
      " 1389334 523482 168426.762   63   30 188645.231 154492.650  18.1%  47.2  575s\n"
     ]
    },
    {
     "name": "stderr",
     "output_type": "stream",
     "text": [
      "2023-05-12 09:41:58,622 - INFO -  1389334 523482 168426.762   63   30 188645.231 154492.650  18.1%  47.2  575s\n"
     ]
    },
    {
     "name": "stdout",
     "output_type": "stream",
     "text": [
      " 1401912 526197 167788.611   45   48 188645.231 154530.091  18.1%  47.4  580s\n"
     ]
    },
    {
     "name": "stderr",
     "output_type": "stream",
     "text": [
      "2023-05-12 09:42:03,450 - INFO -  1401912 526197 167788.611   45   48 188645.231 154530.091  18.1%  47.4  580s\n"
     ]
    },
    {
     "name": "stdout",
     "output_type": "stream",
     "text": [
      " 1413881 529391 infeasible   49      188645.231 154562.759  18.1%  47.5  585s\n"
     ]
    },
    {
     "name": "stderr",
     "output_type": "stream",
     "text": [
      "2023-05-12 09:42:08,894 - INFO -  1413881 529391 infeasible   49      188645.231 154562.759  18.1%  47.5  585s\n"
     ]
    },
    {
     "name": "stdout",
     "output_type": "stream",
     "text": [
      " 1423989 531846 173075.310   55   83 188645.231 154591.869  18.1%  47.7  590s\n"
     ]
    },
    {
     "name": "stderr",
     "output_type": "stream",
     "text": [
      "2023-05-12 09:42:13,876 - INFO -  1423989 531846 173075.310   55   83 188645.231 154591.869  18.1%  47.7  590s\n"
     ]
    },
    {
     "name": "stdout",
     "output_type": "stream",
     "text": [
      " 1436208 534664 161929.023   48   56 188645.231 154623.932  18.0%  47.8  595s\n"
     ]
    },
    {
     "name": "stderr",
     "output_type": "stream",
     "text": [
      "2023-05-12 09:42:18,262 - INFO -  1436208 534664 161929.023   48   56 188645.231 154623.932  18.0%  47.8  595s\n"
     ]
    },
    {
     "name": "stdout",
     "output_type": "stream",
     "text": [
      " 1439674 535164 167158.080   40   53 188645.231 154633.723  18.0%  47.9  600s\n"
     ]
    },
    {
     "name": "stderr",
     "output_type": "stream",
     "text": [
      "2023-05-12 09:42:23,055 - INFO -  1439674 535164 167158.080   40   53 188645.231 154633.723  18.0%  47.9  600s\n"
     ]
    },
    {
     "name": "stdout",
     "output_type": "stream",
     "text": [
      "\n"
     ]
    },
    {
     "name": "stderr",
     "output_type": "stream",
     "text": [
      "2023-05-12 09:42:23,438 - INFO - \n"
     ]
    },
    {
     "name": "stdout",
     "output_type": "stream",
     "text": [
      "Cutting planes:\n"
     ]
    },
    {
     "name": "stderr",
     "output_type": "stream",
     "text": [
      "2023-05-12 09:42:23,440 - INFO - Cutting planes:\n"
     ]
    },
    {
     "name": "stdout",
     "output_type": "stream",
     "text": [
      "  Gomory: 1\n"
     ]
    },
    {
     "name": "stderr",
     "output_type": "stream",
     "text": [
      "2023-05-12 09:42:23,441 - INFO -   Gomory: 1\n"
     ]
    },
    {
     "name": "stdout",
     "output_type": "stream",
     "text": [
      "  Cover: 3\n"
     ]
    },
    {
     "name": "stderr",
     "output_type": "stream",
     "text": [
      "2023-05-12 09:42:23,443 - INFO -   Cover: 3\n"
     ]
    },
    {
     "name": "stdout",
     "output_type": "stream",
     "text": [
      "  Clique: 1\n"
     ]
    },
    {
     "name": "stderr",
     "output_type": "stream",
     "text": [
      "2023-05-12 09:42:23,445 - INFO -   Clique: 1\n"
     ]
    },
    {
     "name": "stdout",
     "output_type": "stream",
     "text": [
      "  StrongCG: 1\n"
     ]
    },
    {
     "name": "stderr",
     "output_type": "stream",
     "text": [
      "2023-05-12 09:42:23,446 - INFO -   StrongCG: 1\n"
     ]
    },
    {
     "name": "stdout",
     "output_type": "stream",
     "text": [
      "  Flow cover: 2\n"
     ]
    },
    {
     "name": "stderr",
     "output_type": "stream",
     "text": [
      "2023-05-12 09:42:23,448 - INFO -   Flow cover: 2\n"
     ]
    },
    {
     "name": "stdout",
     "output_type": "stream",
     "text": [
      "  Relax-and-lift: 1\n"
     ]
    },
    {
     "name": "stderr",
     "output_type": "stream",
     "text": [
      "2023-05-12 09:42:23,450 - INFO -   Relax-and-lift: 1\n"
     ]
    },
    {
     "name": "stdout",
     "output_type": "stream",
     "text": [
      "  Lazy constraints: 1884\n"
     ]
    },
    {
     "name": "stderr",
     "output_type": "stream",
     "text": [
      "2023-05-12 09:42:23,467 - INFO -   Lazy constraints: 1884\n"
     ]
    },
    {
     "name": "stdout",
     "output_type": "stream",
     "text": [
      "\n"
     ]
    },
    {
     "name": "stderr",
     "output_type": "stream",
     "text": [
      "2023-05-12 09:42:23,471 - INFO - \n"
     ]
    },
    {
     "name": "stdout",
     "output_type": "stream",
     "text": [
      "Explored 1439910 nodes (68926411 simplex iterations) in 600.42 seconds\n"
     ]
    },
    {
     "name": "stderr",
     "output_type": "stream",
     "text": [
      "2023-05-12 09:42:23,473 - INFO - Explored 1439910 nodes (68926411 simplex iterations) in 600.42 seconds\n"
     ]
    },
    {
     "name": "stdout",
     "output_type": "stream",
     "text": [
      "Thread count was 24 (of 48 available processors)\n"
     ]
    },
    {
     "name": "stderr",
     "output_type": "stream",
     "text": [
      "2023-05-12 09:42:23,474 - INFO - Thread count was 24 (of 48 available processors)\n"
     ]
    },
    {
     "name": "stdout",
     "output_type": "stream",
     "text": [
      "\n"
     ]
    },
    {
     "name": "stderr",
     "output_type": "stream",
     "text": [
      "2023-05-12 09:42:23,476 - INFO - \n"
     ]
    },
    {
     "name": "stdout",
     "output_type": "stream",
     "text": [
      "Solution count 7: 188645 191935 193552 ... 203301\n"
     ]
    },
    {
     "name": "stderr",
     "output_type": "stream",
     "text": [
      "2023-05-12 09:42:23,477 - INFO - Solution count 7: 188645 191935 193552 ... 203301\n"
     ]
    },
    {
     "name": "stdout",
     "output_type": "stream",
     "text": [
      "\n"
     ]
    },
    {
     "name": "stderr",
     "output_type": "stream",
     "text": [
      "2023-05-12 09:42:23,479 - INFO - \n"
     ]
    },
    {
     "name": "stdout",
     "output_type": "stream",
     "text": [
      "Time limit reached\n"
     ]
    },
    {
     "name": "stderr",
     "output_type": "stream",
     "text": [
      "2023-05-12 09:42:23,480 - INFO - Time limit reached\n"
     ]
    },
    {
     "name": "stdout",
     "output_type": "stream",
     "text": [
      "Best objective 1.886452307651e+05, best bound 1.546337231440e+05, gap 18.0293%\n"
     ]
    },
    {
     "name": "stderr",
     "output_type": "stream",
     "text": [
      "2023-05-12 09:42:23,482 - INFO - Best objective 1.886452307651e+05, best bound 1.546337231440e+05, gap 18.0293%\n"
     ]
    },
    {
     "name": "stdout",
     "output_type": "stream",
     "text": [
      "\n"
     ]
    },
    {
     "name": "stderr",
     "output_type": "stream",
     "text": [
      "2023-05-12 09:42:23,484 - INFO - \n"
     ]
    },
    {
     "name": "stdout",
     "output_type": "stream",
     "text": [
      "User-callback calls 2905529, time in user-callback 14.32 sec\n"
     ]
    },
    {
     "name": "stderr",
     "output_type": "stream",
     "text": [
      "2023-05-12 09:42:23,486 - INFO - User-callback calls 2905529, time in user-callback 14.32 sec\n"
     ]
    },
    {
     "name": "stdout",
     "output_type": "stream",
     "text": [
      "{'Bounds': {'D200': {'ub': 150342.99778980177, 'max_soln': 136382.00000000012}, 'D160': {'ub': 134980.31465898638, 'max_soln': 109539.48249732645}, 'R200': {'lb': 154633.72314397598, 'min_soln': 188645.23076507138}, 'R160': {}, 'D201': {}, 'D161': {}, 'R201': {}, 'R161': {}, 'D202': {}, 'D162': {}, 'R202': {}, 'R162': {}, 'D203': {}, 'D163': {}, 'R203': {}, 'R163': {}, 'D204': {}, 'D164': {}, 'R204': {}, 'R164': {}, 'D205': {}, 'D165': {}, 'R205': {}, 'R165': {}, 'D206': {}, 'D166': {}, 'R206': {}, 'R166': {}}}\n",
      "Gurobi Optimizer version 9.1.2 build v9.1.2rc0 (win64)\n"
     ]
    },
    {
     "name": "stderr",
     "output_type": "stream",
     "text": [
      "2023-05-12 09:42:24,967 - INFO - Gurobi Optimizer version 9.1.2 build v9.1.2rc0 (win64)\n"
     ]
    },
    {
     "name": "stdout",
     "output_type": "stream",
     "text": [
      "Thread count: 24 physical cores, 48 logical processors, using up to 24 threads\n"
     ]
    },
    {
     "name": "stderr",
     "output_type": "stream",
     "text": [
      "2023-05-12 09:42:24,970 - INFO - Thread count: 24 physical cores, 48 logical processors, using up to 24 threads\n"
     ]
    },
    {
     "name": "stdout",
     "output_type": "stream",
     "text": [
      "Optimize a model with 111 rows, 686 columns and 2339 nonzeros\n"
     ]
    },
    {
     "name": "stderr",
     "output_type": "stream",
     "text": [
      "2023-05-12 09:42:24,971 - INFO - Optimize a model with 111 rows, 686 columns and 2339 nonzeros\n"
     ]
    },
    {
     "name": "stdout",
     "output_type": "stream",
     "text": [
      "Model fingerprint: 0xfb56dde0\n"
     ]
    },
    {
     "name": "stderr",
     "output_type": "stream",
     "text": [
      "2023-05-12 09:42:24,973 - INFO - Model fingerprint: 0xfb56dde0\n"
     ]
    },
    {
     "name": "stdout",
     "output_type": "stream",
     "text": [
      "Variable types: 42 continuous, 644 integer (644 binary)\n"
     ]
    },
    {
     "name": "stderr",
     "output_type": "stream",
     "text": [
      "2023-05-12 09:42:24,975 - INFO - Variable types: 42 continuous, 644 integer (644 binary)\n"
     ]
    },
    {
     "name": "stdout",
     "output_type": "stream",
     "text": [
      "Coefficient statistics:\n"
     ]
    },
    {
     "name": "stderr",
     "output_type": "stream",
     "text": [
      "2023-05-12 09:42:24,976 - INFO - Coefficient statistics:\n"
     ]
    },
    {
     "name": "stdout",
     "output_type": "stream",
     "text": [
      "  Matrix range     [1e+00, 5e+05]\n"
     ]
    },
    {
     "name": "stderr",
     "output_type": "stream",
     "text": [
      "2023-05-12 09:42:24,978 - INFO -   Matrix range     [1e+00, 5e+05]\n"
     ]
    },
    {
     "name": "stdout",
     "output_type": "stream",
     "text": [
      "  Objective range  [1e+00, 1e+00]\n"
     ]
    },
    {
     "name": "stderr",
     "output_type": "stream",
     "text": [
      "2023-05-12 09:42:24,980 - INFO -   Objective range  [1e+00, 1e+00]\n"
     ]
    },
    {
     "name": "stdout",
     "output_type": "stream",
     "text": [
      "  Bounds range     [1e+00, 8e+05]\n"
     ]
    },
    {
     "name": "stderr",
     "output_type": "stream",
     "text": [
      "2023-05-12 09:42:24,981 - INFO -   Bounds range     [1e+00, 8e+05]\n"
     ]
    },
    {
     "name": "stdout",
     "output_type": "stream",
     "text": [
      "  RHS range        [1e+00, 8e+05]\n"
     ]
    },
    {
     "name": "stderr",
     "output_type": "stream",
     "text": [
      "2023-05-12 09:42:24,982 - INFO -   RHS range        [1e+00, 8e+05]\n"
     ]
    },
    {
     "name": "stdout",
     "output_type": "stream",
     "text": [
      "\n"
     ]
    },
    {
     "name": "stderr",
     "output_type": "stream",
     "text": [
      "2023-05-12 09:42:24,984 - INFO - \n"
     ]
    },
    {
     "name": "stdout",
     "output_type": "stream",
     "text": [
      "Warning: Completing partial solution with 598 unfixed non-continuous variables out of 644\n"
     ]
    },
    {
     "name": "stderr",
     "output_type": "stream",
     "text": [
      "2023-05-12 09:42:24,986 - INFO - Warning: Completing partial solution with 598 unfixed non-continuous variables out of 644\n"
     ]
    },
    {
     "name": "stdout",
     "output_type": "stream",
     "text": [
      "User MIP start produced solution with objective 156979 (0.02s)\n"
     ]
    },
    {
     "name": "stderr",
     "output_type": "stream",
     "text": [
      "2023-05-12 09:42:24,994 - INFO - User MIP start produced solution with objective 156979 (0.02s)\n"
     ]
    },
    {
     "name": "stdout",
     "output_type": "stream",
     "text": [
      "Loaded user MIP start with objective 156979\n"
     ]
    },
    {
     "name": "stderr",
     "output_type": "stream",
     "text": [
      "2023-05-12 09:42:24,997 - INFO - Loaded user MIP start with objective 156979\n"
     ]
    },
    {
     "name": "stdout",
     "output_type": "stream",
     "text": [
      "MIP start from previous solve produced solution with objective 151220 (0.03s)\n"
     ]
    },
    {
     "name": "stderr",
     "output_type": "stream",
     "text": [
      "2023-05-12 09:42:24,997 - INFO - MIP start from previous solve produced solution with objective 151220 (0.03s)\n"
     ]
    },
    {
     "name": "stdout",
     "output_type": "stream",
     "text": [
      "Loaded MIP start from previous solve with objective 151220\n"
     ]
    },
    {
     "name": "stderr",
     "output_type": "stream",
     "text": [
      "2023-05-12 09:42:25,023 - INFO - Loaded MIP start from previous solve with objective 151220\n"
     ]
    },
    {
     "name": "stdout",
     "output_type": "stream",
     "text": [
      "\n"
     ]
    },
    {
     "name": "stderr",
     "output_type": "stream",
     "text": [
      "2023-05-12 09:42:25,027 - INFO - \n"
     ]
    },
    {
     "name": "stdout",
     "output_type": "stream",
     "text": [
      "Presolve removed 17 rows and 14 columns\n"
     ]
    },
    {
     "name": "stderr",
     "output_type": "stream",
     "text": [
      "2023-05-12 09:42:25,039 - INFO - Presolve removed 17 rows and 14 columns\n"
     ]
    },
    {
     "name": "stdout",
     "output_type": "stream",
     "text": [
      "Presolve time: 0.01s\n"
     ]
    },
    {
     "name": "stderr",
     "output_type": "stream",
     "text": [
      "2023-05-12 09:42:25,041 - INFO - Presolve time: 0.01s\n"
     ]
    },
    {
     "name": "stdout",
     "output_type": "stream",
     "text": [
      "Presolved: 94 rows, 672 columns, 2294 nonzeros\n"
     ]
    },
    {
     "name": "stderr",
     "output_type": "stream",
     "text": [
      "2023-05-12 09:42:25,042 - INFO - Presolved: 94 rows, 672 columns, 2294 nonzeros\n"
     ]
    },
    {
     "name": "stdout",
     "output_type": "stream",
     "text": [
      "Variable types: 28 continuous, 644 integer (644 binary)\n"
     ]
    },
    {
     "name": "stderr",
     "output_type": "stream",
     "text": [
      "2023-05-12 09:42:25,047 - INFO - Variable types: 28 continuous, 644 integer (644 binary)\n"
     ]
    },
    {
     "name": "stdout",
     "output_type": "stream",
     "text": [
      "\n"
     ]
    },
    {
     "name": "stderr",
     "output_type": "stream",
     "text": [
      "2023-05-12 09:42:25,050 - INFO - \n"
     ]
    },
    {
     "name": "stdout",
     "output_type": "stream",
     "text": [
      "Concurrent LP optimizer: primal simplex, dual simplex, and barrier\n"
     ]
    },
    {
     "name": "stderr",
     "output_type": "stream",
     "text": [
      "2023-05-12 09:42:25,051 - INFO - Concurrent LP optimizer: primal simplex, dual simplex, and barrier\n"
     ]
    },
    {
     "name": "stdout",
     "output_type": "stream",
     "text": [
      "Showing barrier log only...\n"
     ]
    },
    {
     "name": "stderr",
     "output_type": "stream",
     "text": [
      "2023-05-12 09:42:25,053 - INFO - Showing barrier log only...\n"
     ]
    },
    {
     "name": "stdout",
     "output_type": "stream",
     "text": [
      "\n"
     ]
    },
    {
     "name": "stderr",
     "output_type": "stream",
     "text": [
      "2023-05-12 09:42:25,054 - INFO - \n"
     ]
    },
    {
     "name": "stdout",
     "output_type": "stream",
     "text": [
      "Root barrier log...\n"
     ]
    },
    {
     "name": "stderr",
     "output_type": "stream",
     "text": [
      "2023-05-12 09:42:25,062 - INFO - Root barrier log...\n"
     ]
    },
    {
     "name": "stdout",
     "output_type": "stream",
     "text": [
      "\n"
     ]
    },
    {
     "name": "stderr",
     "output_type": "stream",
     "text": [
      "2023-05-12 09:42:25,064 - INFO - \n"
     ]
    },
    {
     "name": "stdout",
     "output_type": "stream",
     "text": [
      "Ordering time: 0.00s\n"
     ]
    },
    {
     "name": "stderr",
     "output_type": "stream",
     "text": [
      "2023-05-12 09:42:25,065 - INFO - Ordering time: 0.00s\n"
     ]
    },
    {
     "name": "stdout",
     "output_type": "stream",
     "text": [
      "\n"
     ]
    },
    {
     "name": "stderr",
     "output_type": "stream",
     "text": [
      "2023-05-12 09:42:25,066 - INFO - \n"
     ]
    },
    {
     "name": "stdout",
     "output_type": "stream",
     "text": [
      "Barrier performed 0 iterations in 0.10 seconds\n"
     ]
    },
    {
     "name": "stderr",
     "output_type": "stream",
     "text": [
      "2023-05-12 09:42:25,068 - INFO - Barrier performed 0 iterations in 0.10 seconds\n"
     ]
    },
    {
     "name": "stdout",
     "output_type": "stream",
     "text": [
      "Barrier solve interrupted - model solved by another algorithm\n"
     ]
    },
    {
     "name": "stderr",
     "output_type": "stream",
     "text": [
      "2023-05-12 09:42:25,069 - INFO - Barrier solve interrupted - model solved by another algorithm\n"
     ]
    },
    {
     "name": "stdout",
     "output_type": "stream",
     "text": [
      "\n"
     ]
    },
    {
     "name": "stderr",
     "output_type": "stream",
     "text": [
      "2023-05-12 09:42:25,071 - INFO - \n"
     ]
    },
    {
     "name": "stdout",
     "output_type": "stream",
     "text": [
      "\n"
     ]
    },
    {
     "name": "stderr",
     "output_type": "stream",
     "text": [
      "2023-05-12 09:42:25,072 - INFO - \n"
     ]
    },
    {
     "name": "stdout",
     "output_type": "stream",
     "text": [
      "Solved with dual simplex\n"
     ]
    },
    {
     "name": "stderr",
     "output_type": "stream",
     "text": [
      "2023-05-12 09:42:25,073 - INFO - Solved with dual simplex\n"
     ]
    },
    {
     "name": "stdout",
     "output_type": "stream",
     "text": [
      "\n"
     ]
    },
    {
     "name": "stderr",
     "output_type": "stream",
     "text": [
      "2023-05-12 09:42:25,075 - INFO - \n"
     ]
    },
    {
     "name": "stdout",
     "output_type": "stream",
     "text": [
      "Root relaxation: objective 1.227683e+05, 124 iterations, 0.03 seconds\n"
     ]
    },
    {
     "name": "stderr",
     "output_type": "stream",
     "text": [
      "2023-05-12 09:42:25,077 - INFO - Root relaxation: objective 1.227683e+05, 124 iterations, 0.03 seconds\n"
     ]
    },
    {
     "name": "stdout",
     "output_type": "stream",
     "text": [
      "\n"
     ]
    },
    {
     "name": "stderr",
     "output_type": "stream",
     "text": [
      "2023-05-12 09:42:25,080 - INFO - \n"
     ]
    },
    {
     "name": "stdout",
     "output_type": "stream",
     "text": [
      "    Nodes    |    Current Node    |     Objective Bounds      |     Work\n"
     ]
    },
    {
     "name": "stderr",
     "output_type": "stream",
     "text": [
      "2023-05-12 09:42:25,080 - INFO -     Nodes    |    Current Node    |     Objective Bounds      |     Work\n"
     ]
    },
    {
     "name": "stdout",
     "output_type": "stream",
     "text": [
      " Expl Unexpl |  Obj  Depth IntInf | Incumbent    BestBd   Gap | It/Node Time\n"
     ]
    },
    {
     "name": "stderr",
     "output_type": "stream",
     "text": [
      "2023-05-12 09:42:25,080 - INFO -  Expl Unexpl |  Obj  Depth IntInf | Incumbent    BestBd   Gap | It/Node Time\n"
     ]
    },
    {
     "name": "stdout",
     "output_type": "stream",
     "text": [
      "\n"
     ]
    },
    {
     "name": "stderr",
     "output_type": "stream",
     "text": [
      "2023-05-12 09:42:25,080 - INFO - \n"
     ]
    },
    {
     "name": "stdout",
     "output_type": "stream",
     "text": [
      "     0     0 122768.333    0   18 151220.137 122768.333  18.8%     -    0s\n"
     ]
    },
    {
     "name": "stderr",
     "output_type": "stream",
     "text": [
      "2023-05-12 09:42:25,080 - INFO -      0     0 122768.333    0   18 151220.137 122768.333  18.8%     -    0s\n"
     ]
    },
    {
     "name": "stdout",
     "output_type": "stream",
     "text": [
      "     0     0 124230.045    0   22 151220.137 124230.045  17.8%     -    0s\n"
     ]
    },
    {
     "name": "stderr",
     "output_type": "stream",
     "text": [
      "2023-05-12 09:42:25,108 - INFO -      0     0 124230.045    0   22 151220.137 124230.045  17.8%     -    0s\n"
     ]
    },
    {
     "name": "stdout",
     "output_type": "stream",
     "text": [
      "     0     0 124912.607    0   21 151220.137 124912.607  17.4%     -    0s\n"
     ]
    },
    {
     "name": "stderr",
     "output_type": "stream",
     "text": [
      "2023-05-12 09:42:25,155 - INFO -      0     0 124912.607    0   21 151220.137 124912.607  17.4%     -    0s\n"
     ]
    },
    {
     "name": "stdout",
     "output_type": "stream",
     "text": [
      "     0     0 125085.684    0   21 151220.137 125085.684  17.3%     -    0s\n"
     ]
    },
    {
     "name": "stderr",
     "output_type": "stream",
     "text": [
      "2023-05-12 09:42:25,161 - INFO -      0     0 125085.684    0   21 151220.137 125085.684  17.3%     -    0s\n"
     ]
    },
    {
     "name": "stdout",
     "output_type": "stream",
     "text": [
      "     0     0 125416.289    0   23 151220.137 125416.289  17.1%     -    0s\n"
     ]
    },
    {
     "name": "stderr",
     "output_type": "stream",
     "text": [
      "2023-05-12 09:42:25,166 - INFO -      0     0 125416.289    0   23 151220.137 125416.289  17.1%     -    0s\n"
     ]
    },
    {
     "name": "stdout",
     "output_type": "stream",
     "text": [
      "     0     0 125416.289    0   24 151220.137 125416.289  17.1%     -    0s\n"
     ]
    },
    {
     "name": "stderr",
     "output_type": "stream",
     "text": [
      "2023-05-12 09:42:25,169 - INFO -      0     0 125416.289    0   24 151220.137 125416.289  17.1%     -    0s\n"
     ]
    },
    {
     "name": "stdout",
     "output_type": "stream",
     "text": [
      "     0     0 125495.391    0   31 151220.137 125495.391  17.0%     -    0s\n"
     ]
    },
    {
     "name": "stderr",
     "output_type": "stream",
     "text": [
      "2023-05-12 09:42:25,186 - INFO -      0     0 125495.391    0   31 151220.137 125495.391  17.0%     -    0s\n"
     ]
    },
    {
     "name": "stdout",
     "output_type": "stream",
     "text": [
      "     0     0 125497.479    0   30 151220.137 125497.479  17.0%     -    0s\n"
     ]
    },
    {
     "name": "stderr",
     "output_type": "stream",
     "text": [
      "2023-05-12 09:42:25,193 - INFO -      0     0 125497.479    0   30 151220.137 125497.479  17.0%     -    0s\n"
     ]
    },
    {
     "name": "stdout",
     "output_type": "stream",
     "text": [
      "     0     0 125498.014    0   30 151220.137 125498.014  17.0%     -    0s\n"
     ]
    },
    {
     "name": "stderr",
     "output_type": "stream",
     "text": [
      "2023-05-12 09:42:25,197 - INFO -      0     0 125498.014    0   30 151220.137 125498.014  17.0%     -    0s\n"
     ]
    },
    {
     "name": "stdout",
     "output_type": "stream",
     "text": [
      "     0     0 125542.475    0   37 151220.137 125542.475  17.0%     -    0s\n"
     ]
    },
    {
     "name": "stderr",
     "output_type": "stream",
     "text": [
      "2023-05-12 09:42:25,237 - INFO -      0     0 125542.475    0   37 151220.137 125542.475  17.0%     -    0s\n"
     ]
    },
    {
     "name": "stdout",
     "output_type": "stream",
     "text": [
      "     0     0 125602.475    0   39 151220.137 125602.475  16.9%     -    0s\n"
     ]
    },
    {
     "name": "stderr",
     "output_type": "stream",
     "text": [
      "2023-05-12 09:42:25,243 - INFO -      0     0 125602.475    0   39 151220.137 125602.475  16.9%     -    0s\n"
     ]
    },
    {
     "name": "stdout",
     "output_type": "stream",
     "text": [
      "     0     0 125613.081    0   41 151220.137 125613.081  16.9%     -    0s\n"
     ]
    },
    {
     "name": "stderr",
     "output_type": "stream",
     "text": [
      "2023-05-12 09:42:25,247 - INFO -      0     0 125613.081    0   41 151220.137 125613.081  16.9%     -    0s\n"
     ]
    },
    {
     "name": "stdout",
     "output_type": "stream",
     "text": [
      "     0     0 125623.431    0   40 151220.137 125623.431  16.9%     -    0s\n"
     ]
    },
    {
     "name": "stderr",
     "output_type": "stream",
     "text": [
      "2023-05-12 09:42:25,251 - INFO -      0     0 125623.431    0   40 151220.137 125623.431  16.9%     -    0s\n"
     ]
    },
    {
     "name": "stdout",
     "output_type": "stream",
     "text": [
      "     0     0 125637.776    0   43 151220.137 125637.776  16.9%     -    0s\n"
     ]
    },
    {
     "name": "stderr",
     "output_type": "stream",
     "text": [
      "2023-05-12 09:42:25,255 - INFO -      0     0 125637.776    0   43 151220.137 125637.776  16.9%     -    0s\n"
     ]
    },
    {
     "name": "stdout",
     "output_type": "stream",
     "text": [
      "     0     0 125640.002    0   45 151220.137 125640.002  16.9%     -    0s\n"
     ]
    },
    {
     "name": "stderr",
     "output_type": "stream",
     "text": [
      "2023-05-12 09:42:25,259 - INFO -      0     0 125640.002    0   45 151220.137 125640.002  16.9%     -    0s\n"
     ]
    },
    {
     "name": "stdout",
     "output_type": "stream",
     "text": [
      "     0     0 125640.578    0   45 151220.137 125640.578  16.9%     -    0s\n"
     ]
    },
    {
     "name": "stderr",
     "output_type": "stream",
     "text": [
      "2023-05-12 09:42:25,262 - INFO -      0     0 125640.578    0   45 151220.137 125640.578  16.9%     -    0s\n"
     ]
    },
    {
     "name": "stdout",
     "output_type": "stream",
     "text": [
      "     0     0 125674.748    0   43 151220.137 125674.748  16.9%     -    0s\n"
     ]
    },
    {
     "name": "stderr",
     "output_type": "stream",
     "text": [
      "2023-05-12 09:42:25,307 - INFO -      0     0 125674.748    0   43 151220.137 125674.748  16.9%     -    0s\n"
     ]
    },
    {
     "name": "stdout",
     "output_type": "stream",
     "text": [
      "     0     0 125675.855    0   48 151220.137 125675.855  16.9%     -    0s\n"
     ]
    },
    {
     "name": "stderr",
     "output_type": "stream",
     "text": [
      "2023-05-12 09:42:25,314 - INFO -      0     0 125675.855    0   48 151220.137 125675.855  16.9%     -    0s\n"
     ]
    },
    {
     "name": "stdout",
     "output_type": "stream",
     "text": [
      "     0     0 125676.232    0   56 151220.137 125676.232  16.9%     -    0s\n"
     ]
    },
    {
     "name": "stderr",
     "output_type": "stream",
     "text": [
      "2023-05-12 09:42:25,329 - INFO -      0     0 125676.232    0   56 151220.137 125676.232  16.9%     -    0s\n"
     ]
    },
    {
     "name": "stdout",
     "output_type": "stream",
     "text": [
      "     0     0 125676.367    0   55 151220.137 125676.367  16.9%     -    0s\n"
     ]
    },
    {
     "name": "stderr",
     "output_type": "stream",
     "text": [
      "2023-05-12 09:42:25,338 - INFO -      0     0 125676.367    0   55 151220.137 125676.367  16.9%     -    0s\n"
     ]
    },
    {
     "name": "stdout",
     "output_type": "stream",
     "text": [
      "     0     0 125676.584    0   52 151220.137 125676.584  16.9%     -    0s\n"
     ]
    },
    {
     "name": "stderr",
     "output_type": "stream",
     "text": [
      "2023-05-12 09:42:25,356 - INFO -      0     0 125676.584    0   52 151220.137 125676.584  16.9%     -    0s\n"
     ]
    },
    {
     "name": "stdout",
     "output_type": "stream",
     "text": [
      "     0     0 125676.584    0   39 151220.137 125676.584  16.9%     -    0s\n"
     ]
    },
    {
     "name": "stderr",
     "output_type": "stream",
     "text": [
      "2023-05-12 09:42:25,370 - INFO -      0     0 125676.584    0   39 151220.137 125676.584  16.9%     -    0s\n"
     ]
    },
    {
     "name": "stdout",
     "output_type": "stream",
     "text": [
      "     0     2 125676.584    0   39 151220.137 125676.584  16.9%     -    0s\n"
     ]
    },
    {
     "name": "stderr",
     "output_type": "stream",
     "text": [
      "2023-05-12 09:42:25,466 - INFO -      0     2 125676.584    0   39 151220.137 125676.584  16.9%     -    0s\n"
     ]
    },
    {
     "name": "stdout",
     "output_type": "stream",
     "text": [
      "  3081  2307 126863.144   21   19 151220.137 126098.235  16.6%   8.3    5s\n"
     ]
    },
    {
     "name": "stderr",
     "output_type": "stream",
     "text": [
      "2023-05-12 09:42:30,317 - INFO -   3081  2307 126863.144   21   19 151220.137 126098.235  16.6%   8.3    5s\n"
     ]
    },
    {
     "name": "stdout",
     "output_type": "stream",
     "text": [
      "  4910  3425 infeasible   60      151220.137 126098.235  16.6%   7.5   10s\n"
     ]
    },
    {
     "name": "stderr",
     "output_type": "stream",
     "text": [
      "2023-05-12 09:42:35,553 - INFO -   4910  3425 infeasible   60      151220.137 126098.235  16.6%   7.5   10s\n"
     ]
    },
    {
     "name": "stdout",
     "output_type": "stream",
     "text": [
      " 24169 15493 145427.286   47   18 151220.137 126689.520  16.2%   7.0   15s\n"
     ]
    },
    {
     "name": "stderr",
     "output_type": "stream",
     "text": [
      "2023-05-12 09:42:40,004 - INFO -  24169 15493 145427.286   47   18 151220.137 126689.520  16.2%   7.0   15s\n"
     ]
    },
    {
     "name": "stdout",
     "output_type": "stream",
     "text": [
      " 48251 30327 139126.105   69   19 151220.137 126924.083  16.1%   8.7   20s\n"
     ]
    },
    {
     "name": "stderr",
     "output_type": "stream",
     "text": [
      "2023-05-12 09:42:45,523 - INFO -  48251 30327 139126.105   69   19 151220.137 126924.083  16.1%   8.7   20s\n"
     ]
    },
    {
     "name": "stdout",
     "output_type": "stream",
     "text": [
      " 62031 40899 134452.801   40   24 151220.137 127163.649  15.9%   9.8   25s\n"
     ]
    },
    {
     "name": "stderr",
     "output_type": "stream",
     "text": [
      "2023-05-12 09:42:50,079 - INFO -  62031 40899 134452.801   40   24 151220.137 127163.649  15.9%   9.8   25s\n"
     ]
    },
    {
     "name": "stdout",
     "output_type": "stream",
     "text": [
      " 96908 61108 131040.978   37   41 151220.137 127398.812  15.8%  11.4   30s\n"
     ]
    },
    {
     "name": "stderr",
     "output_type": "stream",
     "text": [
      "2023-05-12 09:42:55,264 - INFO -  96908 61108 131040.978   37   41 151220.137 127398.812  15.8%  11.4   30s\n"
     ]
    },
    {
     "name": "stdout",
     "output_type": "stream",
     "text": [
      " 133625 81185 127434.255   56   21 151220.137 127398.812  15.8%  12.0   35s\n"
     ]
    },
    {
     "name": "stderr",
     "output_type": "stream",
     "text": [
      "2023-05-12 09:43:00,431 - INFO -  133625 81185 127434.255   56   21 151220.137 127398.812  15.8%  12.0   35s\n"
     ]
    },
    {
     "name": "stdout",
     "output_type": "stream",
     "text": [
      " 164498 96377 129327.507   96    7 151220.137 127398.812  15.8%  12.2   40s\n"
     ]
    },
    {
     "name": "stderr",
     "output_type": "stream",
     "text": [
      "2023-05-12 09:43:05,555 - INFO -  164498 96377 129327.507   96    7 151220.137 127398.812  15.8%  12.2   40s\n"
     ]
    },
    {
     "name": "stdout",
     "output_type": "stream",
     "text": [
      " 195804 112424 infeasible   68      151220.137 127398.812  15.8%  12.6   45s\n"
     ]
    },
    {
     "name": "stderr",
     "output_type": "stream",
     "text": [
      "2023-05-12 09:43:10,284 - INFO -  195804 112424 infeasible   68      151220.137 127398.812  15.8%  12.6   45s\n"
     ]
    },
    {
     "name": "stdout",
     "output_type": "stream",
     "text": [
      " 220667 124187 133319.070   61   15 151220.137 127408.716  15.7%  13.2   50s\n"
     ]
    },
    {
     "name": "stderr",
     "output_type": "stream",
     "text": [
      "2023-05-12 09:43:15,369 - INFO -  220667 124187 133319.070   61   15 151220.137 127408.716  15.7%  13.2   50s\n"
     ]
    },
    {
     "name": "stdout",
     "output_type": "stream",
     "text": [
      " 249820 137035 148727.997   67   29 151220.137 127423.443  15.7%  13.8   55s\n"
     ]
    },
    {
     "name": "stderr",
     "output_type": "stream",
     "text": [
      "2023-05-12 09:43:20,034 - INFO -  249820 137035 148727.997   67   29 151220.137 127423.443  15.7%  13.8   55s\n"
     ]
    },
    {
     "name": "stdout",
     "output_type": "stream",
     "text": [
      " 271457 147373 133002.651   72   22 151220.137 127426.963  15.7%  14.3   60s\n"
     ]
    },
    {
     "name": "stderr",
     "output_type": "stream",
     "text": [
      "2023-05-12 09:43:25,154 - INFO -  271457 147373 133002.651   72   22 151220.137 127426.963  15.7%  14.3   60s\n"
     ]
    },
    {
     "name": "stdout",
     "output_type": "stream",
     "text": [
      " 285895 154340 144736.644   63   29 151220.137 127429.463  15.7%  14.8   65s\n"
     ]
    },
    {
     "name": "stderr",
     "output_type": "stream",
     "text": [
      "2023-05-12 09:43:30,379 - INFO -  285895 154340 144736.644   63   29 151220.137 127429.463  15.7%  14.8   65s\n"
     ]
    },
    {
     "name": "stdout",
     "output_type": "stream",
     "text": [
      " 307771 164150 140817.741   83   15 151220.137 127441.694  15.7%  15.3   70s\n"
     ]
    },
    {
     "name": "stderr",
     "output_type": "stream",
     "text": [
      "2023-05-12 09:43:35,267 - INFO -  307771 164150 140817.741   83   15 151220.137 127441.694  15.7%  15.3   70s\n"
     ]
    },
    {
     "name": "stdout",
     "output_type": "stream",
     "text": [
      " 328613 173046 150338.514   61   32 151220.137 127457.966  15.7%  15.7   75s\n"
     ]
    },
    {
     "name": "stderr",
     "output_type": "stream",
     "text": [
      "2023-05-12 09:43:40,911 - INFO -  328613 173046 150338.514   61   32 151220.137 127457.966  15.7%  15.7   75s\n"
     ]
    },
    {
     "name": "stdout",
     "output_type": "stream",
     "text": [
      " 345860 181237     cutoff   63      151220.137 127472.832  15.7%  16.2   80s\n"
     ]
    },
    {
     "name": "stderr",
     "output_type": "stream",
     "text": [
      "2023-05-12 09:43:45,068 - INFO -  345860 181237     cutoff   63      151220.137 127472.832  15.7%  16.2   80s\n"
     ]
    },
    {
     "name": "stdout",
     "output_type": "stream",
     "text": [
      " 363609 190050 130905.180   58   55 151220.137 127516.846  15.7%  16.8   85s\n"
     ]
    },
    {
     "name": "stderr",
     "output_type": "stream",
     "text": [
      "2023-05-12 09:43:50,423 - INFO -  363609 190050 130905.180   58   55 151220.137 127516.846  15.7%  16.8   85s\n"
     ]
    },
    {
     "name": "stdout",
     "output_type": "stream",
     "text": [
      " 374000 195537 137813.831   35   47 151220.137 127528.137  15.7%  17.1   90s\n"
     ]
    },
    {
     "name": "stderr",
     "output_type": "stream",
     "text": [
      "2023-05-12 09:43:55,624 - INFO -  374000 195537 137813.831   35   47 151220.137 127528.137  15.7%  17.1   90s\n"
     ]
    },
    {
     "name": "stdout",
     "output_type": "stream",
     "text": [
      " 386600 200459 150822.459   71   12 151220.137 127549.620  15.7%  17.6   95s\n"
     ]
    },
    {
     "name": "stderr",
     "output_type": "stream",
     "text": [
      "2023-05-12 09:44:00,176 - INFO -  386600 200459 150822.459   71   12 151220.137 127549.620  15.7%  17.6   95s\n"
     ]
    },
    {
     "name": "stdout",
     "output_type": "stream",
     "text": [
      " 400107 206501 133672.443   68   23 151220.137 127588.433  15.6%  18.1  100s\n"
     ]
    },
    {
     "name": "stderr",
     "output_type": "stream",
     "text": [
      "2023-05-12 09:44:05,123 - INFO -  400107 206501 133672.443   68   23 151220.137 127588.433  15.6%  18.1  100s\n"
     ]
    },
    {
     "name": "stdout",
     "output_type": "stream",
     "text": [
      " 415193 213479 148346.434   68   51 151220.137 127626.923  15.6%  18.6  105s\n"
     ]
    },
    {
     "name": "stderr",
     "output_type": "stream",
     "text": [
      "2023-05-12 09:44:10,018 - INFO -  415193 213479 148346.434   68   51 151220.137 127626.923  15.6%  18.6  105s\n"
     ]
    },
    {
     "name": "stdout",
     "output_type": "stream",
     "text": [
      " 433991 220931 147205.443   59   15 151220.137 127687.621  15.6%  19.3  110s\n"
     ]
    },
    {
     "name": "stderr",
     "output_type": "stream",
     "text": [
      "2023-05-12 09:44:15,088 - INFO -  433991 220931 147205.443   59   15 151220.137 127687.621  15.6%  19.3  110s\n"
     ]
    },
    {
     "name": "stdout",
     "output_type": "stream",
     "text": [
      " 452521 227999 135610.652   52   31 151220.137 127764.232  15.5%  19.9  115s\n"
     ]
    },
    {
     "name": "stderr",
     "output_type": "stream",
     "text": [
      "2023-05-12 09:44:20,646 - INFO -  452521 227999 135610.652   52   31 151220.137 127764.232  15.5%  19.9  115s\n"
     ]
    },
    {
     "name": "stdout",
     "output_type": "stream",
     "text": [
      " 467223 236107 148508.659   75    9 151220.137 127764.376  15.5%  20.3  120s\n"
     ]
    },
    {
     "name": "stderr",
     "output_type": "stream",
     "text": [
      "2023-05-12 09:44:25,203 - INFO -  467223 236107 148508.659   75    9 151220.137 127764.376  15.5%  20.3  120s\n"
     ]
    },
    {
     "name": "stdout",
     "output_type": "stream",
     "text": [
      " 480476 241818     cutoff   36      151220.137 127806.843  15.5%  20.7  125s\n"
     ]
    },
    {
     "name": "stderr",
     "output_type": "stream",
     "text": [
      "2023-05-12 09:44:30,654 - INFO -  480476 241818     cutoff   36      151220.137 127806.843  15.5%  20.7  125s\n"
     ]
    },
    {
     "name": "stdout",
     "output_type": "stream",
     "text": [
      " 490829 246656 129268.382   40   57 151220.137 127845.473  15.5%  21.1  130s\n"
     ]
    },
    {
     "name": "stderr",
     "output_type": "stream",
     "text": [
      "2023-05-12 09:44:35,117 - INFO -  490829 246656 129268.382   40   57 151220.137 127845.473  15.5%  21.1  130s\n"
     ]
    },
    {
     "name": "stdout",
     "output_type": "stream",
     "text": [
      " 500115 250713 132613.625   54   67 151220.137 127866.048  15.4%  21.4  135s\n"
     ]
    },
    {
     "name": "stderr",
     "output_type": "stream",
     "text": [
      "2023-05-12 09:44:40,604 - INFO -  500115 250713 132613.625   54   67 151220.137 127866.048  15.4%  21.4  135s\n"
     ]
    },
    {
     "name": "stdout",
     "output_type": "stream",
     "text": [
      " 509113 254213 150033.336   67   43 151220.137 127898.575  15.4%  21.7  140s\n"
     ]
    },
    {
     "name": "stderr",
     "output_type": "stream",
     "text": [
      "2023-05-12 09:44:45,144 - INFO -  509113 254213 150033.336   67   43 151220.137 127898.575  15.4%  21.7  140s\n"
     ]
    },
    {
     "name": "stdout",
     "output_type": "stream",
     "text": [
      " 513168 255690 129093.137   46   50 151220.137 127899.285  15.4%  21.9  145s\n"
     ]
    },
    {
     "name": "stderr",
     "output_type": "stream",
     "text": [
      "2023-05-12 09:44:50,304 - INFO -  513168 255690 129093.137   46   50 151220.137 127899.285  15.4%  21.9  145s\n"
     ]
    },
    {
     "name": "stdout",
     "output_type": "stream",
     "text": [
      " 521868 259223 129600.400   50   54 151220.137 127937.019  15.4%  22.2  150s\n"
     ]
    },
    {
     "name": "stderr",
     "output_type": "stream",
     "text": [
      "2023-05-12 09:44:55,053 - INFO -  521868 259223 129600.400   50   54 151220.137 127937.019  15.4%  22.2  150s\n"
     ]
    },
    {
     "name": "stdout",
     "output_type": "stream",
     "text": [
      " 529262 262346 144187.739   57   32 151220.137 127955.734  15.4%  22.5  156s\n"
     ]
    },
    {
     "name": "stderr",
     "output_type": "stream",
     "text": [
      "2023-05-12 09:45:01,117 - INFO -  529262 262346 144187.739   57   32 151220.137 127955.734  15.4%  22.5  156s\n"
     ]
    },
    {
     "name": "stdout",
     "output_type": "stream",
     "text": [
      " 536104 265458 130185.987   45   75 151220.137 127979.609  15.4%  22.8  160s\n"
     ]
    },
    {
     "name": "stderr",
     "output_type": "stream",
     "text": [
      "2023-05-12 09:45:05,025 - INFO -  536104 265458 130185.987   45   75 151220.137 127979.609  15.4%  22.8  160s\n"
     ]
    },
    {
     "name": "stdout",
     "output_type": "stream",
     "text": [
      " 544499 268834 142580.991   52   50 151220.137 128008.067  15.3%  23.1  165s\n"
     ]
    },
    {
     "name": "stderr",
     "output_type": "stream",
     "text": [
      "2023-05-12 09:45:10,377 - INFO -  544499 268834 142580.991   52   50 151220.137 128008.067  15.3%  23.1  165s\n"
     ]
    },
    {
     "name": "stdout",
     "output_type": "stream",
     "text": [
      " 551317 271576 133120.657   62   92 151220.137 128035.325  15.3%  23.4  170s\n"
     ]
    },
    {
     "name": "stderr",
     "output_type": "stream",
     "text": [
      "2023-05-12 09:45:15,139 - INFO -  551317 271576 133120.657   62   92 151220.137 128035.325  15.3%  23.4  170s\n"
     ]
    },
    {
     "name": "stdout",
     "output_type": "stream",
     "text": [
      " 559485 274849 131441.819   41   52 151220.137 128065.141  15.3%  23.7  175s\n"
     ]
    },
    {
     "name": "stderr",
     "output_type": "stream",
     "text": [
      "2023-05-12 09:45:20,339 - INFO -  559485 274849 131441.819   41   52 151220.137 128065.141  15.3%  23.7  175s\n"
     ]
    },
    {
     "name": "stdout",
     "output_type": "stream",
     "text": [
      " 567892 278203 133980.185   54   61 151220.137 128086.029  15.3%  24.0  180s\n"
     ]
    },
    {
     "name": "stderr",
     "output_type": "stream",
     "text": [
      "2023-05-12 09:45:25,550 - INFO -  567892 278203 133980.185   54   61 151220.137 128086.029  15.3%  24.0  180s\n"
     ]
    },
    {
     "name": "stdout",
     "output_type": "stream",
     "text": [
      " 573320 280576 146035.952   43   41 151220.137 128111.182  15.3%  24.2  185s\n"
     ]
    },
    {
     "name": "stderr",
     "output_type": "stream",
     "text": [
      "2023-05-12 09:45:30,164 - INFO -  573320 280576 146035.952   43   41 151220.137 128111.182  15.3%  24.2  185s\n"
     ]
    },
    {
     "name": "stdout",
     "output_type": "stream",
     "text": [
      " 585983 285812 150521.020   72   24 151220.137 128163.901  15.2%  24.6  190s\n"
     ]
    },
    {
     "name": "stderr",
     "output_type": "stream",
     "text": [
      "2023-05-12 09:45:35,101 - INFO -  585983 285812 150521.020   72   24 151220.137 128163.901  15.2%  24.6  190s\n"
     ]
    },
    {
     "name": "stdout",
     "output_type": "stream",
     "text": [
      " 595300 289306 131731.588   40   49 151220.137 128201.448  15.2%  24.9  195s\n"
     ]
    },
    {
     "name": "stderr",
     "output_type": "stream",
     "text": [
      "2023-05-12 09:45:40,421 - INFO -  595300 289306 131731.588   40   49 151220.137 128201.448  15.2%  24.9  195s\n"
     ]
    },
    {
     "name": "stdout",
     "output_type": "stream",
     "text": [
      " 603621 292158 141734.556   48   31 151220.137 128218.275  15.2%  25.1  200s\n"
     ]
    },
    {
     "name": "stderr",
     "output_type": "stream",
     "text": [
      "2023-05-12 09:45:45,236 - INFO -  603621 292158 141734.556   48   31 151220.137 128218.275  15.2%  25.1  200s\n"
     ]
    },
    {
     "name": "stdout",
     "output_type": "stream",
     "text": [
      " 615329 294445     cutoff   64      151220.137 128239.083  15.2%  25.4  205s\n"
     ]
    },
    {
     "name": "stderr",
     "output_type": "stream",
     "text": [
      "2023-05-12 09:45:50,110 - INFO -  615329 294445     cutoff   64      151220.137 128239.083  15.2%  25.4  205s\n"
     ]
    },
    {
     "name": "stdout",
     "output_type": "stream",
     "text": [
      " 623965 297804 infeasible   85      151220.137 128259.258  15.2%  25.7  210s\n"
     ]
    },
    {
     "name": "stderr",
     "output_type": "stream",
     "text": [
      "2023-05-12 09:45:55,120 - INFO -  623965 297804 infeasible   85      151220.137 128259.258  15.2%  25.7  210s\n"
     ]
    },
    {
     "name": "stdout",
     "output_type": "stream",
     "text": [
      " 637326 303864 129125.758   57   45 151220.137 128281.145  15.2%  26.0  215s\n"
     ]
    },
    {
     "name": "stderr",
     "output_type": "stream",
     "text": [
      "2023-05-12 09:46:00,378 - INFO -  637326 303864 129125.758   57   45 151220.137 128281.145  15.2%  26.0  215s\n"
     ]
    },
    {
     "name": "stdout",
     "output_type": "stream",
     "text": [
      " 647923 306766 128852.707   51   59 151220.137 128296.776  15.2%  26.3  220s\n"
     ]
    },
    {
     "name": "stderr",
     "output_type": "stream",
     "text": [
      "2023-05-12 09:46:05,523 - INFO -  647923 306766 128852.707   51   59 151220.137 128296.776  15.2%  26.3  220s\n"
     ]
    },
    {
     "name": "stdout",
     "output_type": "stream",
     "text": [
      " 657349 310037 132058.828   58   29 151220.137 128320.455  15.1%  26.5  225s\n"
     ]
    },
    {
     "name": "stderr",
     "output_type": "stream",
     "text": [
      "2023-05-12 09:46:10,122 - INFO -  657349 310037 132058.828   58   29 151220.137 128320.455  15.1%  26.5  225s\n"
     ]
    },
    {
     "name": "stdout",
     "output_type": "stream",
     "text": [
      " 666117 312491 133133.855   51   74 151220.137 128330.825  15.1%  26.8  230s\n"
     ]
    },
    {
     "name": "stderr",
     "output_type": "stream",
     "text": [
      "2023-05-12 09:46:15,200 - INFO -  666117 312491 133133.855   51   74 151220.137 128330.825  15.1%  26.8  230s\n"
     ]
    },
    {
     "name": "stdout",
     "output_type": "stream",
     "text": [
      " 677292 315673 infeasible   58      151220.137 128337.465  15.1%  27.1  235s\n"
     ]
    },
    {
     "name": "stderr",
     "output_type": "stream",
     "text": [
      "2023-05-12 09:46:20,429 - INFO -  677292 315673 infeasible   58      151220.137 128337.465  15.1%  27.1  235s\n"
     ]
    },
    {
     "name": "stdout",
     "output_type": "stream",
     "text": [
      " 689132 319547 infeasible   54      151220.137 128360.773  15.1%  27.4  241s\n"
     ]
    },
    {
     "name": "stderr",
     "output_type": "stream",
     "text": [
      "2023-05-12 09:46:26,480 - INFO -  689132 319547 infeasible   54      151220.137 128360.773  15.1%  27.4  241s\n"
     ]
    },
    {
     "name": "stdout",
     "output_type": "stream",
     "text": [
      " 696634 322287 139440.006   60   35 151220.137 128367.619  15.1%  27.6  245s\n"
     ]
    },
    {
     "name": "stderr",
     "output_type": "stream",
     "text": [
      "2023-05-12 09:46:30,919 - INFO -  696634 322287 139440.006   60   35 151220.137 128367.619  15.1%  27.6  245s\n"
     ]
    },
    {
     "name": "stdout",
     "output_type": "stream",
     "text": [
      " 707259 325653 132457.378   55   65 151220.137 128383.424  15.1%  27.8  250s\n"
     ]
    },
    {
     "name": "stderr",
     "output_type": "stream",
     "text": [
      "2023-05-12 09:46:35,050 - INFO -  707259 325653 132457.378   55   65 151220.137 128383.424  15.1%  27.8  250s\n"
     ]
    },
    {
     "name": "stdout",
     "output_type": "stream",
     "text": [
      " 717592 329188 142636.017   60   66 151220.137 128401.959  15.1%  28.0  255s\n"
     ]
    },
    {
     "name": "stderr",
     "output_type": "stream",
     "text": [
      "2023-05-12 09:46:40,214 - INFO -  717592 329188 142636.017   60   66 151220.137 128401.959  15.1%  28.0  255s\n"
     ]
    },
    {
     "name": "stdout",
     "output_type": "stream",
     "text": [
      " 729065 332217     cutoff   64      151220.137 128414.960  15.1%  28.3  260s\n"
     ]
    },
    {
     "name": "stderr",
     "output_type": "stream",
     "text": [
      "2023-05-12 09:46:45,572 - INFO -  729065 332217     cutoff   64      151220.137 128414.960  15.1%  28.3  260s\n"
     ]
    },
    {
     "name": "stdout",
     "output_type": "stream",
     "text": [
      " 741584 336069 infeasible   59      151220.137 128435.227  15.1%  28.6  265s\n"
     ]
    },
    {
     "name": "stderr",
     "output_type": "stream",
     "text": [
      "2023-05-12 09:46:50,082 - INFO -  741584 336069 infeasible   59      151220.137 128435.227  15.1%  28.6  265s\n"
     ]
    },
    {
     "name": "stdout",
     "output_type": "stream",
     "text": [
      " 749984 339627 infeasible   64      151220.137 128451.640  15.1%  28.8  270s\n"
     ]
    },
    {
     "name": "stderr",
     "output_type": "stream",
     "text": [
      "2023-05-12 09:46:55,323 - INFO -  749984 339627 infeasible   64      151220.137 128451.640  15.1%  28.8  270s\n"
     ]
    },
    {
     "name": "stdout",
     "output_type": "stream",
     "text": [
      " 760263 343769 129788.104   45   54 151220.137 128465.983  15.0%  29.1  275s\n"
     ]
    },
    {
     "name": "stderr",
     "output_type": "stream",
     "text": [
      "2023-05-12 09:47:00,369 - INFO -  760263 343769 129788.104   45   54 151220.137 128465.983  15.0%  29.1  275s\n"
     ]
    },
    {
     "name": "stdout",
     "output_type": "stream",
     "text": [
      " 768343 345092 128638.525   54   59 151220.137 128469.607  15.0%  29.4  280s\n"
     ]
    },
    {
     "name": "stderr",
     "output_type": "stream",
     "text": [
      "2023-05-12 09:47:05,656 - INFO -  768343 345092 128638.525   54   59 151220.137 128469.607  15.0%  29.4  280s\n"
     ]
    },
    {
     "name": "stdout",
     "output_type": "stream",
     "text": [
      " 778355 348603 128756.809   36   65 151220.137 128489.671  15.0%  29.6  285s\n"
     ]
    },
    {
     "name": "stderr",
     "output_type": "stream",
     "text": [
      "2023-05-12 09:47:10,166 - INFO -  778355 348603 128756.809   36   65 151220.137 128489.671  15.0%  29.6  285s\n"
     ]
    },
    {
     "name": "stdout",
     "output_type": "stream",
     "text": [
      " 789634 352157 136813.771   44   46 151220.137 128515.616  15.0%  29.9  290s\n"
     ]
    },
    {
     "name": "stderr",
     "output_type": "stream",
     "text": [
      "2023-05-12 09:47:15,317 - INFO -  789634 352157 136813.771   44   46 151220.137 128515.616  15.0%  29.9  290s\n"
     ]
    },
    {
     "name": "stdout",
     "output_type": "stream",
     "text": [
      " 798069 354643 130551.606   44   87 151220.137 128529.032  15.0%  30.1  295s\n"
     ]
    },
    {
     "name": "stderr",
     "output_type": "stream",
     "text": [
      "2023-05-12 09:47:20,162 - INFO -  798069 354643 130551.606   44   87 151220.137 128529.032  15.0%  30.1  295s\n"
     ]
    },
    {
     "name": "stdout",
     "output_type": "stream",
     "text": [
      " 806921 359410     cutoff   52      151220.137 128536.477  15.0%  30.3  300s\n"
     ]
    },
    {
     "name": "stderr",
     "output_type": "stream",
     "text": [
      "2023-05-12 09:47:25,298 - INFO -  806921 359410     cutoff   52      151220.137 128536.477  15.0%  30.3  300s\n"
     ]
    },
    {
     "name": "stdout",
     "output_type": "stream",
     "text": [
      " 815705 363154 128660.516   43   71 151220.137 128549.236  15.0%  30.5  305s\n"
     ]
    },
    {
     "name": "stderr",
     "output_type": "stream",
     "text": [
      "2023-05-12 09:47:30,242 - INFO -  815705 363154 128660.516   43   71 151220.137 128549.236  15.0%  30.5  305s\n"
     ]
    },
    {
     "name": "stdout",
     "output_type": "stream",
     "text": [
      " 827589 367475 128678.291   28   45 151220.137 128567.378  15.0%  30.8  310s\n"
     ]
    },
    {
     "name": "stderr",
     "output_type": "stream",
     "text": [
      "2023-05-12 09:47:35,467 - INFO -  827589 367475 128678.291   28   45 151220.137 128567.378  15.0%  30.8  310s\n"
     ]
    },
    {
     "name": "stdout",
     "output_type": "stream",
     "text": [
      " 833633 369372 135605.269   58   55 151220.137 128579.888  15.0%  31.0  315s\n"
     ]
    },
    {
     "name": "stderr",
     "output_type": "stream",
     "text": [
      "2023-05-12 09:47:40,680 - INFO -  833633 369372 135605.269   58   55 151220.137 128579.888  15.0%  31.0  315s\n"
     ]
    },
    {
     "name": "stdout",
     "output_type": "stream",
     "text": [
      " 843584 372933 infeasible   77      151220.137 128599.795  15.0%  31.2  320s\n"
     ]
    },
    {
     "name": "stderr",
     "output_type": "stream",
     "text": [
      "2023-05-12 09:47:45,084 - INFO -  843584 372933 infeasible   77      151220.137 128599.795  15.0%  31.2  320s\n"
     ]
    },
    {
     "name": "stdout",
     "output_type": "stream",
     "text": [
      " 859471 378587 130149.857   49   68 151220.137 128629.426  14.9%  31.6  325s\n"
     ]
    },
    {
     "name": "stderr",
     "output_type": "stream",
     "text": [
      "2023-05-12 09:47:50,463 - INFO -  859471 378587 130149.857   49   68 151220.137 128629.426  14.9%  31.6  325s\n"
     ]
    },
    {
     "name": "stdout",
     "output_type": "stream",
     "text": [
      " 870459 383215 130488.317   43   61 151220.137 128644.164  14.9%  31.9  330s\n"
     ]
    },
    {
     "name": "stderr",
     "output_type": "stream",
     "text": [
      "2023-05-12 09:47:55,057 - INFO -  870459 383215 130488.317   43   61 151220.137 128644.164  14.9%  31.9  330s\n"
     ]
    },
    {
     "name": "stdout",
     "output_type": "stream",
     "text": [
      " 884006 389064 132384.507   47   32 151220.137 128657.607  14.9%  32.1  335s\n"
     ]
    },
    {
     "name": "stderr",
     "output_type": "stream",
     "text": [
      "2023-05-12 09:48:00,525 - INFO -  884006 389064 132384.507   47   32 151220.137 128657.607  14.9%  32.1  335s\n"
     ]
    },
    {
     "name": "stdout",
     "output_type": "stream",
     "text": [
      " 894165 391684 143730.951   67   18 151220.137 128675.021  14.9%  32.4  340s\n"
     ]
    },
    {
     "name": "stderr",
     "output_type": "stream",
     "text": [
      "2023-05-12 09:48:05,686 - INFO -  894165 391684 143730.951   67   18 151220.137 128675.021  14.9%  32.4  340s\n"
     ]
    },
    {
     "name": "stdout",
     "output_type": "stream",
     "text": [
      " 904858 393987 infeasible   62      151220.137 128676.214  14.9%  32.7  345s\n"
     ]
    },
    {
     "name": "stderr",
     "output_type": "stream",
     "text": [
      "2023-05-12 09:48:10,679 - INFO -  904858 393987 infeasible   62      151220.137 128676.214  14.9%  32.7  345s\n"
     ]
    },
    {
     "name": "stdout",
     "output_type": "stream",
     "text": [
      " 913801 395733 132989.671   39   46 151220.137 128676.214  14.9%  33.0  350s\n"
     ]
    },
    {
     "name": "stderr",
     "output_type": "stream",
     "text": [
      "2023-05-12 09:48:15,678 - INFO -  913801 395733 132989.671   39   46 151220.137 128676.214  14.9%  33.0  350s\n"
     ]
    },
    {
     "name": "stdout",
     "output_type": "stream",
     "text": [
      " 922993 399218 infeasible   58      151220.137 128690.980  14.9%  33.2  356s\n"
     ]
    },
    {
     "name": "stderr",
     "output_type": "stream",
     "text": [
      "2023-05-12 09:48:21,097 - INFO -  922993 399218 infeasible   58      151220.137 128690.980  14.9%  33.2  356s\n"
     ]
    },
    {
     "name": "stdout",
     "output_type": "stream",
     "text": [
      " 929253 401682 infeasible   62      151220.137 128700.819  14.9%  33.3  360s\n"
     ]
    },
    {
     "name": "stderr",
     "output_type": "stream",
     "text": [
      "2023-05-12 09:48:24,977 - INFO -  929253 401682 infeasible   62      151220.137 128700.819  14.9%  33.3  360s\n"
     ]
    },
    {
     "name": "stdout",
     "output_type": "stream",
     "text": [
      " 939200 406311 143775.909   52   53 151220.137 128706.499  14.9%  33.6  365s\n"
     ]
    },
    {
     "name": "stderr",
     "output_type": "stream",
     "text": [
      "2023-05-12 09:48:30,953 - INFO -  939200 406311 143775.909   52   53 151220.137 128706.499  14.9%  33.6  365s\n"
     ]
    },
    {
     "name": "stdout",
     "output_type": "stream",
     "text": [
      " 945884 409126 129186.010   47   53 151220.137 128711.150  14.9%  33.7  370s\n"
     ]
    },
    {
     "name": "stderr",
     "output_type": "stream",
     "text": [
      "2023-05-12 09:48:35,388 - INFO -  945884 409126 129186.010   47   53 151220.137 128711.150  14.9%  33.7  370s\n"
     ]
    },
    {
     "name": "stdout",
     "output_type": "stream",
     "text": [
      " 955558 412895 129228.541   37   76 151220.137 128724.595  14.9%  33.8  375s\n"
     ]
    },
    {
     "name": "stderr",
     "output_type": "stream",
     "text": [
      "2023-05-12 09:48:40,561 - INFO -  955558 412895 129228.541   37   76 151220.137 128724.595  14.9%  33.8  375s\n"
     ]
    },
    {
     "name": "stdout",
     "output_type": "stream",
     "text": [
      " 963459 416487 134831.132   53   49 151220.137 128727.617  14.9%  34.0  380s\n"
     ]
    },
    {
     "name": "stderr",
     "output_type": "stream",
     "text": [
      "2023-05-12 09:48:45,502 - INFO -  963459 416487 134831.132   53   49 151220.137 128727.617  14.9%  34.0  380s\n"
     ]
    },
    {
     "name": "stdout",
     "output_type": "stream",
     "text": [
      " 972417 420580 infeasible   39      151220.137 128736.376  14.9%  34.2  385s\n"
     ]
    },
    {
     "name": "stderr",
     "output_type": "stream",
     "text": [
      "2023-05-12 09:48:50,588 - INFO -  972417 420580 infeasible   39      151220.137 128736.376  14.9%  34.2  385s\n"
     ]
    },
    {
     "name": "stdout",
     "output_type": "stream",
     "text": [
      " 981346 423671 132697.350   46   59 151220.137 128748.090  14.9%  34.4  390s\n"
     ]
    },
    {
     "name": "stderr",
     "output_type": "stream",
     "text": [
      "2023-05-12 09:48:55,961 - INFO -  981346 423671 132697.350   46   59 151220.137 128748.090  14.9%  34.4  390s\n"
     ]
    },
    {
     "name": "stdout",
     "output_type": "stream",
     "text": [
      " 989094 426311 142466.723   50   21 151220.137 128762.521  14.9%  34.5  395s\n"
     ]
    },
    {
     "name": "stderr",
     "output_type": "stream",
     "text": [
      "2023-05-12 09:49:00,312 - INFO -  989094 426311 142466.723   50   21 151220.137 128762.521  14.9%  34.5  395s\n"
     ]
    },
    {
     "name": "stdout",
     "output_type": "stream",
     "text": [
      " 997876 430548 132192.172   51   73 151220.137 128765.242  14.8%  34.7  400s\n"
     ]
    },
    {
     "name": "stderr",
     "output_type": "stream",
     "text": [
      "2023-05-12 09:49:05,287 - INFO -  997876 430548 132192.172   51   73 151220.137 128765.242  14.8%  34.7  400s\n"
     ]
    },
    {
     "name": "stdout",
     "output_type": "stream",
     "text": [
      " 1005415 433529 130136.218   48   62 151220.137 128767.967  14.8%  34.9  405s\n"
     ]
    },
    {
     "name": "stderr",
     "output_type": "stream",
     "text": [
      "2023-05-12 09:49:10,410 - INFO -  1005415 433529 130136.218   48   62 151220.137 128767.967  14.8%  34.9  405s\n"
     ]
    },
    {
     "name": "stdout",
     "output_type": "stream",
     "text": [
      " 1012562 436119 141199.739   57   45 151220.137 128777.760  14.8%  35.0  410s\n"
     ]
    },
    {
     "name": "stderr",
     "output_type": "stream",
     "text": [
      "2023-05-12 09:49:15,105 - INFO -  1012562 436119 141199.739   57   45 151220.137 128777.760  14.8%  35.0  410s\n"
     ]
    },
    {
     "name": "stdout",
     "output_type": "stream",
     "text": [
      " 1019846 438910 128789.477   48  102 151220.137 128780.798  14.8%  35.2  415s\n"
     ]
    },
    {
     "name": "stderr",
     "output_type": "stream",
     "text": [
      "2023-05-12 09:49:19,992 - INFO -  1019846 438910 128789.477   48  102 151220.137 128780.798  14.8%  35.2  415s\n"
     ]
    },
    {
     "name": "stdout",
     "output_type": "stream",
     "text": [
      " 1028168 442321 139202.277   51   72 151220.137 128783.602  14.8%  35.4  420s\n"
     ]
    },
    {
     "name": "stderr",
     "output_type": "stream",
     "text": [
      "2023-05-12 09:49:25,270 - INFO -  1028168 442321 139202.277   51   72 151220.137 128783.602  14.8%  35.4  420s\n"
     ]
    },
    {
     "name": "stdout",
     "output_type": "stream",
     "text": [
      " 1036988 445719 138062.683   51   28 151220.137 128789.371  14.8%  35.6  425s\n"
     ]
    },
    {
     "name": "stderr",
     "output_type": "stream",
     "text": [
      "2023-05-12 09:49:30,552 - INFO -  1036988 445719 138062.683   51   28 151220.137 128789.371  14.8%  35.6  425s\n"
     ]
    },
    {
     "name": "stdout",
     "output_type": "stream",
     "text": [
      " 1045066 448704 143426.243   60   47 151220.137 128799.016  14.8%  35.8  430s\n"
     ]
    },
    {
     "name": "stderr",
     "output_type": "stream",
     "text": [
      "2023-05-12 09:49:35,495 - INFO -  1045066 448704 143426.243   60   47 151220.137 128799.016  14.8%  35.8  430s\n"
     ]
    },
    {
     "name": "stdout",
     "output_type": "stream",
     "text": [
      " 1055151 452869 132479.845   50   52 151220.137 128805.093  14.8%  35.9  435s\n"
     ]
    },
    {
     "name": "stderr",
     "output_type": "stream",
     "text": [
      "2023-05-12 09:49:40,708 - INFO -  1055151 452869 132479.845   50   52 151220.137 128805.093  14.8%  35.9  435s\n"
     ]
    },
    {
     "name": "stdout",
     "output_type": "stream",
     "text": [
      " 1064157 456159 128989.281   50   87 151220.137 128817.138  14.8%  36.1  440s\n"
     ]
    },
    {
     "name": "stderr",
     "output_type": "stream",
     "text": [
      "2023-05-12 09:49:45,564 - INFO -  1064157 456159 128989.281   50   87 151220.137 128817.138  14.8%  36.1  440s\n"
     ]
    },
    {
     "name": "stdout",
     "output_type": "stream",
     "text": [
      " 1072949 459439 infeasible   54      151220.137 128824.701  14.8%  36.3  445s\n"
     ]
    },
    {
     "name": "stderr",
     "output_type": "stream",
     "text": [
      "2023-05-12 09:49:50,060 - INFO -  1072949 459439 infeasible   54      151220.137 128824.701  14.8%  36.3  445s\n"
     ]
    },
    {
     "name": "stdout",
     "output_type": "stream",
     "text": [
      " 1082690 462627 128931.303   54   58 151220.137 128835.372  14.8%  36.4  450s\n"
     ]
    },
    {
     "name": "stderr",
     "output_type": "stream",
     "text": [
      "2023-05-12 09:49:55,211 - INFO -  1082690 462627 128931.303   54   58 151220.137 128835.372  14.8%  36.4  450s\n"
     ]
    },
    {
     "name": "stdout",
     "output_type": "stream",
     "text": [
      " 1085877 463610 133289.650   52   70 151220.137 128841.000  14.8%  36.5  455s\n"
     ]
    },
    {
     "name": "stderr",
     "output_type": "stream",
     "text": [
      "2023-05-12 09:50:00,340 - INFO -  1085877 463610 133289.650   52   70 151220.137 128841.000  14.8%  36.5  455s\n"
     ]
    },
    {
     "name": "stdout",
     "output_type": "stream",
     "text": [
      " 1094622 466386     cutoff   39      151220.137 128853.161  14.8%  36.7  460s\n"
     ]
    },
    {
     "name": "stderr",
     "output_type": "stream",
     "text": [
      "2023-05-12 09:50:05,512 - INFO -  1094622 466386     cutoff   39      151220.137 128853.161  14.8%  36.7  460s\n"
     ]
    },
    {
     "name": "stdout",
     "output_type": "stream",
     "text": [
      " 1104032 470042 141892.360   47   68 151220.137 128864.510  14.8%  36.8  465s\n"
     ]
    },
    {
     "name": "stderr",
     "output_type": "stream",
     "text": [
      "2023-05-12 09:50:10,660 - INFO -  1104032 470042 141892.360   47   68 151220.137 128864.510  14.8%  36.8  465s\n"
     ]
    },
    {
     "name": "stdout",
     "output_type": "stream",
     "text": [
      " 1111888 472942 130973.114   59   46 151220.137 128873.324  14.8%  37.0  470s\n"
     ]
    },
    {
     "name": "stderr",
     "output_type": "stream",
     "text": [
      "2023-05-12 09:50:15,573 - INFO -  1111888 472942 130973.114   59   46 151220.137 128873.324  14.8%  37.0  470s\n"
     ]
    },
    {
     "name": "stdout",
     "output_type": "stream",
     "text": [
      " 1119421 475599 150944.558   59   37 151220.137 128878.833  14.8%  37.1  475s\n"
     ]
    },
    {
     "name": "stderr",
     "output_type": "stream",
     "text": [
      "2023-05-12 09:50:20,272 - INFO -  1119421 475599 150944.558   59   37 151220.137 128878.833  14.8%  37.1  475s\n"
     ]
    },
    {
     "name": "stdout",
     "output_type": "stream",
     "text": [
      " 1127349 478149     cutoff   49      151220.137 128890.138  14.8%  37.3  480s\n"
     ]
    },
    {
     "name": "stderr",
     "output_type": "stream",
     "text": [
      "2023-05-12 09:50:25,284 - INFO -  1127349 478149     cutoff   49      151220.137 128890.138  14.8%  37.3  480s\n"
     ]
    },
    {
     "name": "stdout",
     "output_type": "stream",
     "text": [
      " 1133589 480515 148828.200   58   69 151220.137 128890.926  14.8%  37.4  485s\n"
     ]
    },
    {
     "name": "stderr",
     "output_type": "stream",
     "text": [
      "2023-05-12 09:50:30,003 - INFO -  1133589 480515 148828.200   58   69 151220.137 128890.926  14.8%  37.4  485s\n"
     ]
    },
    {
     "name": "stdout",
     "output_type": "stream",
     "text": [
      " 1144344 483594 131872.554   57   43 151220.137 128911.728  14.8%  37.6  490s\n"
     ]
    },
    {
     "name": "stderr",
     "output_type": "stream",
     "text": [
      "2023-05-12 09:50:35,436 - INFO -  1144344 483594 131872.554   57   43 151220.137 128911.728  14.8%  37.6  490s\n"
     ]
    },
    {
     "name": "stdout",
     "output_type": "stream",
     "text": [
      " 1152520 486246 infeasible   60      151220.137 128926.169  14.7%  37.8  496s\n"
     ]
    },
    {
     "name": "stderr",
     "output_type": "stream",
     "text": [
      "2023-05-12 09:50:41,027 - INFO -  1152520 486246 infeasible   60      151220.137 128926.169  14.7%  37.8  496s\n"
     ]
    },
    {
     "name": "stdout",
     "output_type": "stream",
     "text": [
      " 1159112 487990 134989.915   55   29 151220.137 128932.941  14.7%  37.9  500s\n"
     ]
    },
    {
     "name": "stderr",
     "output_type": "stream",
     "text": [
      "2023-05-12 09:50:45,455 - INFO -  1159112 487990 134989.915   55   29 151220.137 128932.941  14.7%  37.9  500s\n"
     ]
    },
    {
     "name": "stdout",
     "output_type": "stream",
     "text": [
      " 1165458 490435 149461.769   66   27 151220.137 128935.224  14.7%  38.0  505s\n"
     ]
    },
    {
     "name": "stderr",
     "output_type": "stream",
     "text": [
      "2023-05-12 09:50:50,346 - INFO -  1165458 490435 149461.769   66   27 151220.137 128935.224  14.7%  38.0  505s\n"
     ]
    },
    {
     "name": "stdout",
     "output_type": "stream",
     "text": [
      " 1171175 492332 infeasible   74      151220.137 128939.829  14.7%  38.2  510s\n"
     ]
    },
    {
     "name": "stderr",
     "output_type": "stream",
     "text": [
      "2023-05-12 09:50:55,325 - INFO -  1171175 492332 infeasible   74      151220.137 128939.829  14.7%  38.2  510s\n"
     ]
    },
    {
     "name": "stdout",
     "output_type": "stream",
     "text": [
      " 1183823 496644 137412.898   30   47 151220.137 128960.961  14.7%  38.4  515s\n"
     ]
    },
    {
     "name": "stderr",
     "output_type": "stream",
     "text": [
      "2023-05-12 09:51:00,531 - INFO -  1183823 496644 137412.898   30   47 151220.137 128960.961  14.7%  38.4  515s\n"
     ]
    },
    {
     "name": "stdout",
     "output_type": "stream",
     "text": [
      " 1191929 499231 130684.089   43   88 151220.137 128972.949  14.7%  38.5  520s\n"
     ]
    },
    {
     "name": "stderr",
     "output_type": "stream",
     "text": [
      "2023-05-12 09:51:05,421 - INFO -  1191929 499231 130684.089   43   88 151220.137 128972.949  14.7%  38.5  520s\n"
     ]
    },
    {
     "name": "stdout",
     "output_type": "stream",
     "text": [
      " 1201179 502595 142420.980   57   34 151220.137 128983.662  14.7%  38.7  525s\n"
     ]
    },
    {
     "name": "stderr",
     "output_type": "stream",
     "text": [
      "2023-05-12 09:51:10,805 - INFO -  1201179 502595 142420.980   57   34 151220.137 128983.662  14.7%  38.7  525s\n"
     ]
    },
    {
     "name": "stdout",
     "output_type": "stream",
     "text": [
      " 1210640 506276 144717.335   56   46 151220.137 128993.886  14.7%  38.8  530s\n"
     ]
    },
    {
     "name": "stderr",
     "output_type": "stream",
     "text": [
      "2023-05-12 09:51:15,256 - INFO -  1210640 506276 144717.335   56   46 151220.137 128993.886  14.7%  38.8  530s\n"
     ]
    },
    {
     "name": "stdout",
     "output_type": "stream",
     "text": [
      " 1218178 508727 137145.141   56   60 151220.137 129005.821  14.7%  39.0  535s\n"
     ]
    },
    {
     "name": "stderr",
     "output_type": "stream",
     "text": [
      "2023-05-12 09:51:20,318 - INFO -  1218178 508727 137145.141   56   60 151220.137 129005.821  14.7%  39.0  535s\n"
     ]
    },
    {
     "name": "stdout",
     "output_type": "stream",
     "text": [
      " 1226490 511607 143315.878   57   35 151220.137 129016.309  14.7%  39.1  540s\n"
     ]
    },
    {
     "name": "stderr",
     "output_type": "stream",
     "text": [
      "2023-05-12 09:51:25,015 - INFO -  1226490 511607 143315.878   57   35 151220.137 129016.309  14.7%  39.1  540s\n"
     ]
    },
    {
     "name": "stdout",
     "output_type": "stream",
     "text": [
      " 1234165 513955 129784.060   49   67 151220.137 129028.842  14.7%  39.2  546s\n"
     ]
    },
    {
     "name": "stderr",
     "output_type": "stream",
     "text": [
      "2023-05-12 09:51:30,980 - INFO -  1234165 513955 129784.060   49   67 151220.137 129028.842  14.7%  39.2  546s\n"
     ]
    },
    {
     "name": "stdout",
     "output_type": "stream",
     "text": [
      " 1242473 516535 infeasible   48      151220.137 129039.388  14.7%  39.4  551s\n"
     ]
    },
    {
     "name": "stderr",
     "output_type": "stream",
     "text": [
      "2023-05-12 09:51:36,193 - INFO -  1242473 516535 infeasible   48      151220.137 129039.388  14.7%  39.4  551s\n"
     ]
    },
    {
     "name": "stdout",
     "output_type": "stream",
     "text": [
      " 1248950 518439 139691.645   43   66 151220.137 129050.062  14.7%  39.5  555s\n"
     ]
    },
    {
     "name": "stderr",
     "output_type": "stream",
     "text": [
      "2023-05-12 09:51:40,460 - INFO -  1248950 518439 139691.645   43   66 151220.137 129050.062  14.7%  39.5  555s\n"
     ]
    },
    {
     "name": "stdout",
     "output_type": "stream",
     "text": [
      " 1254513 520539 138357.153   58   37 151220.137 129055.159  14.7%  39.6  561s\n"
     ]
    },
    {
     "name": "stderr",
     "output_type": "stream",
     "text": [
      "2023-05-12 09:51:46,000 - INFO -  1254513 520539 138357.153   58   37 151220.137 129055.159  14.7%  39.6  561s\n"
     ]
    },
    {
     "name": "stdout",
     "output_type": "stream",
     "text": [
      " 1262451 523349 134228.871   56   31 151220.137 129055.159  14.7%  39.7  566s\n"
     ]
    },
    {
     "name": "stderr",
     "output_type": "stream",
     "text": [
      "2023-05-12 09:51:51,684 - INFO -  1262451 523349 134228.871   56   31 151220.137 129055.159  14.7%  39.7  566s\n"
     ]
    },
    {
     "name": "stdout",
     "output_type": "stream",
     "text": [
      " 1268480 525487 130013.614   64   83 151220.137 129058.894  14.7%  39.8  570s\n"
     ]
    },
    {
     "name": "stderr",
     "output_type": "stream",
     "text": [
      "2023-05-12 09:51:55,441 - INFO -  1268480 525487 130013.614   64   83 151220.137 129058.894  14.7%  39.8  570s\n"
     ]
    },
    {
     "name": "stdout",
     "output_type": "stream",
     "text": [
      " 1276516 527857 137494.653   62   68 151220.137 129070.114  14.6%  40.0  576s\n"
     ]
    },
    {
     "name": "stderr",
     "output_type": "stream",
     "text": [
      "2023-05-12 09:52:01,118 - INFO -  1276516 527857 137494.653   62   68 151220.137 129070.114  14.6%  40.0  576s\n"
     ]
    },
    {
     "name": "stdout",
     "output_type": "stream",
     "text": [
      " 1283354 530340 132550.595   62   54 151220.137 129075.423  14.6%  40.1  580s\n"
     ]
    },
    {
     "name": "stderr",
     "output_type": "stream",
     "text": [
      "2023-05-12 09:52:05,195 - INFO -  1283354 530340 132550.595   62   54 151220.137 129075.423  14.6%  40.1  580s\n"
     ]
    },
    {
     "name": "stdout",
     "output_type": "stream",
     "text": [
      " 1290248 532313 129135.547   54   62 151220.137 129084.390  14.6%  40.2  585s\n"
     ]
    },
    {
     "name": "stderr",
     "output_type": "stream",
     "text": [
      "2023-05-12 09:52:10,324 - INFO -  1290248 532313 129135.547   54   62 151220.137 129084.390  14.6%  40.2  585s\n"
     ]
    },
    {
     "name": "stdout",
     "output_type": "stream",
     "text": [
      " 1297621 534483 infeasible   71      151220.137 129086.635  14.6%  40.4  590s\n"
     ]
    },
    {
     "name": "stderr",
     "output_type": "stream",
     "text": [
      "2023-05-12 09:52:15,618 - INFO -  1297621 534483 infeasible   71      151220.137 129086.635  14.6%  40.4  590s\n"
     ]
    },
    {
     "name": "stdout",
     "output_type": "stream",
     "text": [
      " 1309207 537788 133298.459   55   70 151220.137 129105.631  14.6%  40.6  595s\n"
     ]
    },
    {
     "name": "stderr",
     "output_type": "stream",
     "text": [
      "2023-05-12 09:52:20,451 - INFO -  1309207 537788 133298.459   55   70 151220.137 129105.631  14.6%  40.6  595s\n"
     ]
    },
    {
     "name": "stdout",
     "output_type": "stream",
     "text": [
      " 1323876 541648 138277.954   53   60 151220.137 129125.882  14.6%  40.8  600s\n"
     ]
    },
    {
     "name": "stderr",
     "output_type": "stream",
     "text": [
      "2023-05-12 09:52:24,972 - INFO -  1323876 541648 138277.954   53   60 151220.137 129125.882  14.6%  40.8  600s\n"
     ]
    },
    {
     "name": "stdout",
     "output_type": "stream",
     "text": [
      "\n"
     ]
    },
    {
     "name": "stderr",
     "output_type": "stream",
     "text": [
      "2023-05-12 09:52:25,003 - INFO - \n"
     ]
    },
    {
     "name": "stdout",
     "output_type": "stream",
     "text": [
      "Cutting planes:\n"
     ]
    },
    {
     "name": "stderr",
     "output_type": "stream",
     "text": [
      "2023-05-12 09:52:25,005 - INFO - Cutting planes:\n"
     ]
    },
    {
     "name": "stdout",
     "output_type": "stream",
     "text": [
      "  Gomory: 2\n"
     ]
    },
    {
     "name": "stderr",
     "output_type": "stream",
     "text": [
      "2023-05-12 09:52:25,006 - INFO -   Gomory: 2\n"
     ]
    },
    {
     "name": "stdout",
     "output_type": "stream",
     "text": [
      "  Cover: 61\n"
     ]
    },
    {
     "name": "stderr",
     "output_type": "stream",
     "text": [
      "2023-05-12 09:52:25,007 - INFO -   Cover: 61\n"
     ]
    },
    {
     "name": "stdout",
     "output_type": "stream",
     "text": [
      "  Projected implied bound: 2\n"
     ]
    },
    {
     "name": "stderr",
     "output_type": "stream",
     "text": [
      "2023-05-12 09:52:25,008 - INFO -   Projected implied bound: 2\n"
     ]
    },
    {
     "name": "stdout",
     "output_type": "stream",
     "text": [
      "  Clique: 1\n"
     ]
    },
    {
     "name": "stderr",
     "output_type": "stream",
     "text": [
      "2023-05-12 09:52:25,009 - INFO -   Clique: 1\n"
     ]
    },
    {
     "name": "stdout",
     "output_type": "stream",
     "text": [
      "  MIR: 53\n"
     ]
    },
    {
     "name": "stderr",
     "output_type": "stream",
     "text": [
      "2023-05-12 09:52:25,010 - INFO -   MIR: 53\n"
     ]
    },
    {
     "name": "stdout",
     "output_type": "stream",
     "text": [
      "  StrongCG: 21\n"
     ]
    },
    {
     "name": "stderr",
     "output_type": "stream",
     "text": [
      "2023-05-12 09:52:25,011 - INFO -   StrongCG: 21\n"
     ]
    },
    {
     "name": "stdout",
     "output_type": "stream",
     "text": [
      "  Flow cover: 34\n"
     ]
    },
    {
     "name": "stderr",
     "output_type": "stream",
     "text": [
      "2023-05-12 09:52:25,012 - INFO -   Flow cover: 34\n"
     ]
    },
    {
     "name": "stdout",
     "output_type": "stream",
     "text": [
      "  GUB cover: 12\n"
     ]
    },
    {
     "name": "stderr",
     "output_type": "stream",
     "text": [
      "2023-05-12 09:52:25,013 - INFO -   GUB cover: 12\n"
     ]
    },
    {
     "name": "stdout",
     "output_type": "stream",
     "text": [
      "  Inf proof: 143\n"
     ]
    },
    {
     "name": "stderr",
     "output_type": "stream",
     "text": [
      "2023-05-12 09:52:25,014 - INFO -   Inf proof: 143\n"
     ]
    },
    {
     "name": "stdout",
     "output_type": "stream",
     "text": [
      "  Zero half: 2\n"
     ]
    },
    {
     "name": "stderr",
     "output_type": "stream",
     "text": [
      "2023-05-12 09:52:25,016 - INFO -   Zero half: 2\n"
     ]
    },
    {
     "name": "stdout",
     "output_type": "stream",
     "text": [
      "  RLT: 13\n"
     ]
    },
    {
     "name": "stderr",
     "output_type": "stream",
     "text": [
      "2023-05-12 09:52:25,017 - INFO -   RLT: 13\n"
     ]
    },
    {
     "name": "stdout",
     "output_type": "stream",
     "text": [
      "  Lazy constraints: 1354\n"
     ]
    },
    {
     "name": "stderr",
     "output_type": "stream",
     "text": [
      "2023-05-12 09:52:25,018 - INFO -   Lazy constraints: 1354\n"
     ]
    },
    {
     "name": "stdout",
     "output_type": "stream",
     "text": [
      "\n"
     ]
    },
    {
     "name": "stderr",
     "output_type": "stream",
     "text": [
      "2023-05-12 09:52:25,019 - INFO - \n"
     ]
    },
    {
     "name": "stdout",
     "output_type": "stream",
     "text": [
      "Explored 1324476 nodes (54102586 simplex iterations) in 600.05 seconds\n"
     ]
    },
    {
     "name": "stderr",
     "output_type": "stream",
     "text": [
      "2023-05-12 09:52:25,020 - INFO - Explored 1324476 nodes (54102586 simplex iterations) in 600.05 seconds\n"
     ]
    },
    {
     "name": "stdout",
     "output_type": "stream",
     "text": [
      "Thread count was 24 (of 48 available processors)\n"
     ]
    },
    {
     "name": "stderr",
     "output_type": "stream",
     "text": [
      "2023-05-12 09:52:25,020 - INFO - Thread count was 24 (of 48 available processors)\n"
     ]
    },
    {
     "name": "stdout",
     "output_type": "stream",
     "text": [
      "\n"
     ]
    },
    {
     "name": "stderr",
     "output_type": "stream",
     "text": [
      "2023-05-12 09:52:25,020 - INFO - \n"
     ]
    },
    {
     "name": "stdout",
     "output_type": "stream",
     "text": [
      "Solution count 2: 151220 156979 \n"
     ]
    },
    {
     "name": "stderr",
     "output_type": "stream",
     "text": [
      "2023-05-12 09:52:25,020 - INFO - Solution count 2: 151220 156979 \n"
     ]
    },
    {
     "name": "stdout",
     "output_type": "stream",
     "text": [
      "\n"
     ]
    },
    {
     "name": "stderr",
     "output_type": "stream",
     "text": [
      "2023-05-12 09:52:25,020 - INFO - \n"
     ]
    },
    {
     "name": "stdout",
     "output_type": "stream",
     "text": [
      "Time limit reached\n"
     ]
    },
    {
     "name": "stderr",
     "output_type": "stream",
     "text": [
      "2023-05-12 09:52:25,020 - INFO - Time limit reached\n"
     ]
    },
    {
     "name": "stdout",
     "output_type": "stream",
     "text": [
      "Best objective 1.512201365284e+05, best bound 1.291266654189e+05, gap 14.6101%\n"
     ]
    },
    {
     "name": "stderr",
     "output_type": "stream",
     "text": [
      "2023-05-12 09:52:25,020 - INFO - Best objective 1.512201365284e+05, best bound 1.291266654189e+05, gap 14.6101%\n"
     ]
    },
    {
     "name": "stdout",
     "output_type": "stream",
     "text": [
      "\n"
     ]
    },
    {
     "name": "stderr",
     "output_type": "stream",
     "text": [
      "2023-05-12 09:52:25,020 - INFO - \n"
     ]
    },
    {
     "name": "stdout",
     "output_type": "stream",
     "text": [
      "User-callback calls 2669705, time in user-callback 13.51 sec\n"
     ]
    },
    {
     "name": "stderr",
     "output_type": "stream",
     "text": [
      "2023-05-12 09:52:25,020 - INFO - User-callback calls 2669705, time in user-callback 13.51 sec\n"
     ]
    },
    {
     "name": "stdout",
     "output_type": "stream",
     "text": [
      "{'Bounds': {'D200': {'ub': 150342.99778980177, 'max_soln': 136382.00000000012}, 'D160': {'ub': 134980.31465898638, 'max_soln': 109539.48249732645}, 'R200': {'lb': 154633.72314397598, 'min_soln': 188645.23076507138}, 'R160': {'lb': 129126.66541886334, 'min_soln': 151220.13652843947}, 'D201': {}, 'D161': {}, 'R201': {}, 'R161': {}, 'D202': {}, 'D162': {}, 'R202': {}, 'R162': {}, 'D203': {}, 'D163': {}, 'R203': {}, 'R163': {}, 'D204': {}, 'D164': {}, 'R204': {}, 'R164': {}, 'D205': {}, 'D165': {}, 'R205': {}, 'R165': {}, 'D206': {}, 'D166': {}, 'R206': {}, 'R166': {}}}\n"
     ]
    },
    {
     "ename": "UnboundLocalError",
     "evalue": "local variable 'fn' referenced before assignment",
     "output_type": "error",
     "traceback": [
      "\u001b[1;31m---------------------------------------------------------------------------\u001b[0m",
      "\u001b[1;31mUnboundLocalError\u001b[0m                         Traceback (most recent call last)",
      "\u001b[1;32m<ipython-input-1-59298dd5be47>\u001b[0m in \u001b[0;36m<module>\u001b[1;34m\u001b[0m\n\u001b[0;32m      3\u001b[0m \u001b[0mconfig_path\u001b[0m \u001b[1;33m=\u001b[0m \u001b[1;34m\"config-LA-LogE_bvap_gradient_cuts.json\"\u001b[0m\u001b[1;33m\u001b[0m\u001b[1;33m\u001b[0m\u001b[0m\n\u001b[0;32m      4\u001b[0m \u001b[0mstate\u001b[0m \u001b[1;33m=\u001b[0m \u001b[1;34m'SC'\u001b[0m\u001b[1;33m\u001b[0m\u001b[1;33m\u001b[0m\u001b[0m\n\u001b[1;32m----> 5\u001b[1;33m \u001b[0mresult\u001b[0m \u001b[1;33m=\u001b[0m \u001b[0mmain_partisan_ordering\u001b[0m\u001b[1;33m(\u001b[0m\u001b[0mstate\u001b[0m\u001b[1;33m,\u001b[0m \u001b[0mconfig_path\u001b[0m\u001b[1;33m)\u001b[0m\u001b[1;33m\u001b[0m\u001b[1;33m\u001b[0m\u001b[0m\n\u001b[0m",
      "\u001b[1;32m~\\Desktop\\OneDrive\\Redistricting Redux\\Validi\\src\\main_partisan_ordering.py\u001b[0m in \u001b[0;36mmain_partisan_ordering\u001b[1;34m(state, config_path, summarize_and_export_results, return_bvap_vap_soln_and_bounds, load_config)\u001b[0m\n\u001b[0;32m    358\u001b[0m \u001b[1;33m\u001b[0m\u001b[0m\n\u001b[0;32m    359\u001b[0m         \u001b[1;32mif\u001b[0m \u001b[0msummarize_and_export_results\u001b[0m\u001b[1;33m:\u001b[0m\u001b[1;33m\u001b[0m\u001b[1;33m\u001b[0m\u001b[0m\n\u001b[1;32m--> 360\u001b[1;33m             \u001b[0mprint\u001b[0m\u001b[1;33m(\u001b[0m\u001b[0mfn\u001b[0m\u001b[1;33m)\u001b[0m\u001b[1;33m\u001b[0m\u001b[1;33m\u001b[0m\u001b[0m\n\u001b[0m\u001b[0;32m    361\u001b[0m \u001b[1;33m\u001b[0m\u001b[0m\n\u001b[0;32m    362\u001b[0m             \u001b[1;32mif\u001b[0m \u001b[0mobj\u001b[0m \u001b[1;33m==\u001b[0m \u001b[1;34m\"bvap_bounds\"\u001b[0m\u001b[1;33m:\u001b[0m\u001b[1;33m\u001b[0m\u001b[1;33m\u001b[0m\u001b[0m\n",
      "\u001b[1;31mUnboundLocalError\u001b[0m: local variable 'fn' referenced before assignment"
     ]
    }
   ],
   "source": [
    "from main_partisan_ordering import *\n",
    "\n",
    "config_path = \"config-LA-LogE_bvap_gradient_cuts.json\"\n",
    "state = 'SC'\n",
    "result = main_partisan_ordering(state, config_path)"
   ]
  },
  {
   "cell_type": "code",
   "execution_count": 6,
   "metadata": {},
   "outputs": [
    {
     "data": {
      "text/plain": [
       "[0, 1, 2, 3, 4, 5]"
      ]
     },
     "execution_count": 6,
     "metadata": {},
     "output_type": "execute_result"
    }
   ],
   "source": [
    "list(range(6))"
   ]
  },
  {
   "cell_type": "code",
   "execution_count": null,
   "metadata": {},
   "outputs": [],
   "source": [
    "import json\n",
    "import os\n",
    "import gurobipy\n",
    "import labeling\n",
    "import partisan\n",
    "\n",
    "\n",
    "# Start building your model\n",
    "m = gp.Model()\n",
    "\n",
    "# Add base constraints\n",
    "labeling.add_base_constraints(m, population, L, U, k)\n",
    "\n",
    "# Add partisan constraints with D20 ordering\n",
    "partisan.add_partisan(m, G, k, U, ordering=True)\n",
    "\n",
    "# Add threshold objective\n",
    "partisan.add_threshold_objective(m, bounds, L, k)\n",
    "\n",
    "# Load warm start\n",
    "warm_start = load_warm_start()  # Assuming this function exists and returns warm start values\n",
    "\n",
    "# Inject warm start\n",
    "inject_warm_start(m, warm_start)  # Assuming this function exists and sets the warm start values to the model\n",
    "\n",
    "# Set time limit\n",
    "m.Params.TimeLimit = 600\n",
    "\n",
    "# Load JSON file or create a new one if it doesn't exist\n",
    "bounds_path = \"../data/bounds\"\n",
    "os.makedirs(bounds_path, exist_ok=True)\n",
    "filename = f\"{bounds_path}/{state}_partisan_bounds.json\"\n",
    "if os.path.exists(filename):\n",
    "    with open(filename, 'r') as f:\n",
    "        data = json.load(f)\n",
    "else:\n",
    "    data = {\"Bounds\": {}}\n",
    "\n",
    "# List of variables\n",
    "dem_list = [m._D20, m._D16]\n",
    "rep_list = [m._R20, m._R16]\n",
    "\n",
    "def max_var(m,var,i):\n",
    "        # Set and run for MAXIMIZE\n",
    "        m.setObjective(var[i], GRB.MAXIMIZE)\n",
    "        m.update()\n",
    "        m.optimize() \n",
    "        \n",
    "        data[\"Bounds\"][var[i].VarName]['ub'] = m.ObjBound\n",
    "        data[\"Bounds\"][var[i].VarName]['max_soln']=m.ObjVal\n",
    "        m.addConstr(var[i] <= m.ObjBound)\n",
    "        m.update()\n",
    "        \n",
    "def min_var(m,var,i):\n",
    "        # Set and run for MINIMIZE\n",
    "        m.setObjective(var[i], GRB.MINIMIZE)\n",
    "        m.update()\n",
    "        m.optimize()\n",
    "       \n",
    "        data[\"Bounds\"][var[i].VarName]['lb' = m.ObjBound\n",
    "        data[\"Bounds\"][var[i].VarName]['min_soln']=m.ObjVal\n",
    "        m.addConstr(var[i] >= m.ObjBound)\n",
    "\n",
    "for i in range(k, 0, -1):  # Assuming you meant to iterate in reverse order\n",
    "    for var in dem_list:\n",
    "        max_var(m,var,i)\n",
    "            \n",
    "    for var in rep_list: \n",
    "        min_var(m,var,i)\n",
    "                                       \n",
    "for i in range(k):\n",
    "    for var in dem_list:\n",
    "        min_var(m,var,i)\n",
    "            \n",
    "    for var in rep_list: \n",
    "        max_var(m,var,i)   \n",
    "                                       \n",
    "\n",
    "# Save data to JSON file\n",
    "with open(filename, 'w') as f:\n",
    "    json.dump(data, f, indent=4)\n"
   ]
  },
  {
   "cell_type": "code",
   "execution_count": 13,
   "metadata": {},
   "outputs": [
    {
     "data": {
      "text/plain": [
       "[6, 5, 4, 3, 2, 1]"
      ]
     },
     "execution_count": 13,
     "metadata": {},
     "output_type": "execute_result"
    }
   ],
   "source": [
    "k = 6\n",
    "list(range(k, 0, -1))"
   ]
  },
  {
   "cell_type": "code",
   "execution_count": null,
   "metadata": {},
   "outputs": [],
   "source": []
  }
 ],
 "metadata": {
  "kernelspec": {
   "display_name": "Python 3",
   "language": "python",
   "name": "python3"
  },
  "language_info": {
   "codemirror_mode": {
    "name": "ipython",
    "version": 3
   },
   "file_extension": ".py",
   "mimetype": "text/x-python",
   "name": "python",
   "nbconvert_exporter": "python",
   "pygments_lexer": "ipython3",
   "version": "3.8.5"
  }
 },
 "nbformat": 4,
 "nbformat_minor": 4
}
