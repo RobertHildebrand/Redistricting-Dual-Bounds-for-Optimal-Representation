{
 "cells": [
  {
   "cell_type": "markdown",
   "metadata": {},
   "source": [
    "# Bounds for BVAP Optimization\n",
    "\n",
    "We compute ordered bounds for the values of VAP, BVAP, and the ratio BVAP/VAP in each district.   For each of these quantities, we separately assume that the quantity value is ordered in the sequence of the districts.   \n",
    "\n",
    "We then will bring all these bounds together in the end to create bounds on the actual BVAP optimization.\n",
    "Note: In solution to BVAP optimizaiton, we cannot assume that all of these quantities are ordered simultaneously with the districts.  Instead, we will fix the ordering of the ratio and add cutting planes derived from the bounds on VAP and BVAP.\n",
    "The two bounds from BVAP and VAP will be added directly to the original model, and then subsequent bounds will be added via callbacks.\n",
    "\n",
    "In these models below, we work with the non-spatial model of the redistricting.  In a subsequent notebook, we solve for the bounds using spatial models (enforcing contiguity constraints).  In the relaxed non-spatial model, we will obtain worse bounds, but we hope that they are still effective.  We will compare these two versions later.\n"
   ]
  },
  {
   "cell_type": "code",
   "execution_count": 1,
   "metadata": {},
   "outputs": [],
   "source": [
    "import gurobipy as gp\n",
    "from gurobipy import GRB\n",
    "import sys\n",
    "import pandas as pd\n",
    "\n",
    "import numpy as np\n",
    "import json\n",
    "import matplotlib.pyplot as plt\n",
    "import networkx as nx\n",
    "from joblib import Parallel, delayed\n",
    "\n",
    "import matplotlib.pyplot as plt\n",
    "\n",
    "import json\n",
    "#File I/O Open function for read data from JSON File\n",
    "with open('states_data_2020.json') as file_object:\n",
    "        # store file data in object\n",
    "        states = json.load(file_object)\n",
    "        \n"
   ]
  },
  {
   "cell_type": "code",
   "execution_count": 2,
   "metadata": {},
   "outputs": [
    {
     "data": {
      "text/plain": [
       "{'AL': {'reps': 7, 'fips': 1, 'name': 'ALABAMA'},\n",
       " 'AK': {'reps': 1, 'fips': 2, 'name': 'ALASKA'},\n",
       " 'AZ': {'reps': 9, 'fips': 4, 'name': 'ARIZONA'},\n",
       " 'AR': {'reps': 4, 'fips': 5, 'name': 'ARKANSAS'},\n",
       " 'CA': {'reps': 53, 'fips': 6, 'name': 'CALIFORNIA'},\n",
       " 'CO': {'reps': 7, 'fips': 8, 'name': 'COLORADO'},\n",
       " 'CT': {'reps': 5, 'fips': 9, 'name': 'CONNECTICUT'},\n",
       " 'DE': {'reps': 1, 'fips': 10, 'name': 'DELAWARE'},\n",
       " 'FL': {'reps': 27, 'fips': 12, 'name': 'FLORIDA'},\n",
       " 'GA': {'reps': 14, 'fips': 13, 'name': 'GEORGIA'},\n",
       " 'HI': {'reps': 2, 'fips': 15, 'name': 'HAWAII'},\n",
       " 'ID': {'reps': 2, 'fips': 16, 'name': 'IDAHO'},\n",
       " 'IL': {'reps': 18, 'fips': 17, 'name': 'ILLINOIS'},\n",
       " 'IN': {'reps': 9, 'fips': 18, 'name': 'INDIANA'},\n",
       " 'IA': {'reps': 4, 'fips': 19, 'name': 'IOWA'},\n",
       " 'KS': {'reps': 4, 'fips': 20, 'name': 'KANSAS'},\n",
       " 'KY': {'reps': 6, 'fips': 21, 'name': 'KENTUCKY'},\n",
       " 'LA': {'reps': 6, 'fips': 22, 'name': 'LOUISIANA'},\n",
       " 'ME': {'reps': 2, 'fips': 23, 'name': 'MAINE'},\n",
       " 'MD': {'reps': 8, 'fips': 24, 'name': 'MARYLAND'},\n",
       " 'MA': {'reps': 9, 'fips': 25, 'name': 'MASSACHUSETTS'},\n",
       " 'MI': {'reps': 14, 'fips': 26, 'name': 'MICHIGAN'},\n",
       " 'MN': {'reps': 8, 'fips': 27, 'name': 'MINNESOTA'},\n",
       " 'MS': {'reps': 4, 'fips': 28, 'name': 'MISSISSIPPI'},\n",
       " 'MO': {'reps': 8, 'fips': 29, 'name': 'MISSOURI'},\n",
       " 'MT': {'reps': 1, 'fips': 30, 'name': 'MONTANA'},\n",
       " 'NE': {'reps': 3, 'fips': 31, 'name': 'NEBRASKA'},\n",
       " 'NH': {'reps': 2, 'fips': 33, 'name': 'NEW HAMPSHIRE'},\n",
       " 'NJ': {'reps': 12, 'fips': 34, 'name': 'NEW JERSEY'},\n",
       " 'NM': {'reps': 3, 'fips': 35, 'name': 'NEW MEXICO'},\n",
       " 'NY': {'reps': 27, 'fips': 36, 'name': 'NEW YORK'},\n",
       " 'NC': {'reps': 13, 'fips': 37, 'name': 'NORTH CAROLINA'},\n",
       " 'ND': {'reps': 1, 'fips': 38, 'name': 'NORTH DAKOTA'},\n",
       " 'OH': {'reps': 16, 'fips': 39, 'name': 'OHIO'},\n",
       " 'OK': {'reps': 5, 'fips': 40, 'name': 'OKLAHOMA'},\n",
       " 'OR': {'reps': 5, 'fips': 41, 'name': 'OREGON'},\n",
       " 'PA': {'reps': 18, 'fips': 42, 'name': 'PENNSYLVANIA'},\n",
       " 'RI': {'reps': 2, 'fips': 44, 'name': 'RHODE ISLAND'},\n",
       " 'SC': {'reps': 7, 'fips': 45, 'name': 'SOUTH CAROLINA'},\n",
       " 'SD': {'reps': 1, 'fips': 46, 'name': 'SOUTH DAKOTA'},\n",
       " 'TN': {'reps': 9, 'fips': 47, 'name': 'TENNESSEE'},\n",
       " 'TX': {'reps': 36, 'fips': 48, 'name': 'TEXAS'},\n",
       " 'UT': {'reps': 4, 'fips': 49, 'name': 'UTAH'},\n",
       " 'VT': {'reps': 1, 'fips': 50, 'name': 'VERMONT'},\n",
       " 'VA': {'reps': 11, 'fips': 51, 'name': 'VIRGINIA'},\n",
       " 'WA': {'reps': 10, 'fips': 53, 'name': 'WASHINGTON'},\n",
       " 'WV': {'reps': 3, 'fips': 54, 'name': 'WEST VIRGINIA'},\n",
       " 'WI': {'reps': 8, 'fips': 55, 'name': 'WISCONSIN'},\n",
       " 'WY': {'reps': 1, 'fips': 56, 'name': 'WYOMING'}}"
      ]
     },
     "execution_count": 2,
     "metadata": {},
     "output_type": "execute_result"
    }
   ],
   "source": [
    "states"
   ]
  },
  {
   "cell_type": "markdown",
   "metadata": {},
   "source": [
    "# VAP and BVAP Bounds"
   ]
  },
  {
   "cell_type": "code",
   "execution_count": 98,
   "metadata": {},
   "outputs": [],
   "source": [
    "def compute_bound(POP,POP_AVG, BVAP, VAP, V,num_districts,n,variable, sense,t = 0.02):\n",
    "    ''' \n",
    "    Modified SHIR model to create bounds for the voting age population or voting age population.\n",
    "    Objective optimizes a particular district's vap while maintaining ordering of vap or bvap between the districts\n",
    "    Model is a non-spatial model (i.e., contiguity is not enforced)\n",
    "    \n",
    "    POP: Column of population values\n",
    "    BVAP: Column of black voting age population values\n",
    "    VAP: Column of voting age population values\n",
    "    V: Set of districts\n",
    "    num_districts: number of districts to divide the state into\n",
    "    n: district number for which we want to obtain a bound on\n",
    "    t: population deviation allowance\n",
    "    variable: variable to order and find bounds on.  Should be 'vap' or 'bvap'\n",
    "    sense: 'upper' or 'lower'\n",
    "    '''\n",
    "    #Setup Data\n",
    "    D = range(num_districts) # set of districts\n",
    "    #POP_AVG = sum(POP)/num_districts # target population\n",
    "    \n",
    "    # Create the model\n",
    "    m = gp.Model(\"variable_bounds\")\n",
    "    m.Params.MIPGap = gap\n",
    "    #m.Params.TimeLimit = maxtime\n",
    "\n",
    "    #Variables\n",
    "    x = {i : {k : m.addVar(vtype = GRB.BINARY)  for k in D}  for i in V}\n",
    "    pop = m.addVars(D, name = 'pop')\n",
    "    bvap = m.addVars(D, name = 'bvap')\n",
    "    vap = m.addVars(D, name = 'vap')\n",
    "    \n",
    "    if variable == 'vap':\n",
    "        var = vap\n",
    "    if variable == 'bvap':\n",
    "        var = bvap\n",
    "\n",
    "    \n",
    "    if sense == 'lower':\n",
    "        #Objective\n",
    "        m.setObjective( var[n], GRB.MINIMIZE )\n",
    "         #Ordering Constraints (only needs to be applied to first n)\n",
    "        m.addConstrs(   var[k+1]  >=  var[k]             for k in range(num_districts-1)     ) # Ordering constraint \n",
    "        \n",
    "    elif sense == 'upper':\n",
    "        #Objective\n",
    "        m.setObjective( var[n], GRB.MAXIMIZE )\n",
    "        #Ordering Constraints (only needs to be applied to first n)\n",
    "        m.addConstrs(   var[k+1]  >=  var[k]             for k in range(num_districts-1)     ) # Ordering constraint \n",
    "    else:\n",
    "        print(\"Required to choose a sense as either lower or upper\")\n",
    "        sys.exit()\n",
    "    \n",
    "   \n",
    "\n",
    "    #SHIR Constraints\n",
    "    m.addConstrs(   pop[k]    >=  (1-t)*POP_AVG           for k in D     ) # Population\n",
    "    m.addConstrs(   pop[k]    <=  (1+t)*POP_AVG           for k in D     ) # Population\n",
    "    m.addConstrs(   sum(x[i][k]  for k in D)   ==  1      for i in V     ) # Assign to exactly 1 district\n",
    "\n",
    "    m.addConstrs(   sum(BVAP[i]*x[i][k]    for i in V)                ==  bvap[k] for k in D  )\n",
    "    m.addConstrs(   sum(VAP[i]*x[i][k]    for i in V)                 ==  vap[k] for k in D  )\n",
    "    m.addConstrs(   sum(POP[i]*x[i][k]    for i in V)                 ==  pop[k] for k in D  )\n",
    "\n",
    "    #Compile and solve\n",
    "    m.update()\n",
    "    #print(\"\\n **Model Compiled** \\n\")\n",
    "    m.optimize()\n",
    "    return m.ObjBound\n",
    "\n",
    "\n",
    "def compute_vap_bounds_parallel(state, num_districts, t, demographics_file, spatial_network_file,variable, index_col = 'GEOID', gap=0.03,n_jobs=30):\n",
    "    '''\n",
    "    Computes lower and upper vap bounds using parallelization.  \n",
    "    Setting n_jobs = 30 seems to work well on a computer with 48 cores.\n",
    "    \n",
    "    '''\n",
    "    # Load Data\n",
    "    state = state.lower()\n",
    "    data = pd.read_csv(demographics_file, index_col = index_col)\n",
    "    POP = data['POP']\n",
    "    BVAP = data['BVAP']\n",
    "    VAP = data['VAP']\n",
    "    POP_AVG = sum(POP)/num_districts\n",
    "\n",
    "\n",
    "    ##Generate refference dictionaries.\n",
    "    G = nx.readwrite.json_graph.adjacency_graph(json.load(open(spatial_network_file % data,'r')))\n",
    "    V = G.nodes\n",
    "    #E = G.edges\n",
    "    \n",
    "    lower_bd = Parallel(n_jobs=n_jobs)(delayed(compute_bound)(POP, POP_AVG,BVAP, VAP, V,num_districts,n,variable,'lower') for n in range(num_districts))\n",
    "    upper_bd = Parallel(n_jobs=n_jobs)(delayed(compute_bound)(POP, POP_AVG,BVAP, VAP, V,num_districts,n,variable,'upper') for n in range(num_districts))\n",
    "    \n",
    "    \n",
    "    bounds = {f'{variable.upper()}_lower_bd': lower_bd, f'{variable.upper()}_upper_bd':upper_bd}\n",
    "    \n",
    "    # Save the outcomes\n",
    "    tf = open(f'bounds/{state}_{variable.upper()}_bounds.json', \"w\")\n",
    "    json.dump(bounds,tf)\n",
    "    tf.close()\n",
    "    \n",
    "    # Plot the solution\n",
    "    if variable == 'vap':\n",
    "        bounds_plot('VAP', state,bounds,sum(VAP)/num_districts,num_districts)\n",
    "    if variable == 'bvap':\n",
    "        bounds_plot('BVAP', state,bounds,sum(BVAP)/num_districts,num_districts)\n",
    "    \n",
    "    return bounds\n",
    "\n",
    "\n",
    "def ratio_bounds(POP, POP_AVG,BVAP, VAP, V,num_districts,n,sense):\n",
    "    ''' \n",
    "    Solves a nonconvex MIQCP to establish the bound on bvap/vap for the nth district\n",
    "    \n",
    "    Modified SHIR model.\n",
    "    Objective optimizes a ratio r that is \n",
    "    Model is a non-spatial model (i.e., contiguity is not enforced)\n",
    "    \n",
    "    POP: Column of population values\n",
    "    BVAP: Column of black voting age population values\n",
    "    VAP: Column of voting age population values\n",
    "    V: Set of districts\n",
    "    num_districts: number of districts to divide the state into\n",
    "    n: district number for which we want to obtain a bound on\n",
    "    t: population deviation allowance\n",
    "    variable: variable to order and find bounds on.  Should be 'vap' or 'bvap'\n",
    "    sense: 'upper' or 'lower'\n",
    "    \n",
    "    Note 1: Assuming an ordering on districts, we do not have a model that computes bounds on different districts simultaneously.\n",
    "    Hence, these bounds are computed sequentially.   This is why you must pass the argument 'bounds' to this function.\n",
    "    \n",
    "    Note 2: The objective variable r represent the ratio bound.  It turns out that Gurobi solves this faster if it is\n",
    "    created as a discrete variable.  This is likely due to the branching capabilities are better for discrete variables than \n",
    "    for continuous variables (i.e., their integer programming branching is more established than their spatial branch and bound schemes).\n",
    "    \n",
    "    Note 3: Typical precision for Gurobi is 10^-6.   We bumped the precision up to 10^-9 to get more detailed bounds.\n",
    "    Because of numerical prevision issues, to get a true bound in the end, \n",
    "    we return the m.ObjBound +/- 10^-9  where +/- depends on finding upper or lower bounds.\n",
    "\n",
    "    '''\n",
    "    if sense =='lower':\n",
    "        print(\"Ratio Lower Bounds - Bound for district: \", n)\n",
    "    if sense =='upper':\n",
    "        print(\"Ratio Upper Bounds - Bound for district: \", n)\n",
    "        \n",
    "    D = range(num_districts)\n",
    "\n",
    "    m = gp.Model(\"ratio_bounds\")\n",
    "    m.setParam('NonConvex', 2)\n",
    "    m.Params.MIPGap = 0.0001  \n",
    "    m.setParam('OptimalityTol', 10**-9)\n",
    "    m.setParam('FeasibilityTol', 10**-9)\n",
    "    \n",
    "    m.Params.OutputFlag = 0\n",
    "    m.Params.TimeLimit = 400\n",
    "\n",
    "    #Variables\n",
    "    x = {i : {k : m.addVar(vtype = GRB.BINARY)  for k in D}  for i in V}\n",
    "    pop = m.addVars(D, name = 'pop')\n",
    "    bvap = m.addVars(D, name = 'bvap')\n",
    "    vap = m.addVars(D, name = 'vap')\n",
    "    \n",
    "    R = m.addVar(vtype = GRB.INTEGER, lb = 0, ub = 10**9, name = 'R')\n",
    "    m.setAttr(\"BranchPriority\", R, 10)\n",
    "    \n",
    "    if sense == 'lower':\n",
    "        #Objective\n",
    "        m.setObjective( R, GRB.MINIMIZE )\n",
    "        m.addConstrs(   10**9*bvap[k]  <=  vap[k]*R         for k in range(n)     ) # r_guess\n",
    "        #m.addConstrs(   bvap[k]  <=  vap[k]*(0.007263003-10**-9)         for k in range(n)     ) # r_guess\n",
    "\n",
    "        #print(\"Length of bounds \", len(bounds))\n",
    "        #for k in range(len(bounds)):\n",
    "            #print(\"k:\", k)\n",
    "            #m.addConstrs(   bvap[j]  >=  vap[j]*bounds[k] for j in range(k,num_districts) ) # prior computed bounds apply to all subsequent districts\n",
    "    \n",
    "    if sense == 'upper':\n",
    "        #Objective\n",
    "        m.setObjective( R, GRB.MAXIMIZE )\n",
    "        \n",
    "\n",
    "        m.addConstr(  R <= 10**9*max(BVAP/VAP))\n",
    "        \n",
    "        m.addConstrs(   10**9*bvap[k]  >=  vap[k]*R         for k in range(num_districts - n+1)     ) # r_guess\n",
    "        #m.addConstrs(   bvap[k]  <=  vap[k]*(0.007263003-10**-9)         for k in range(n)     ) # r_guess\n",
    "\n",
    "        #print(\"Length of bounds \", len(bounds))\n",
    "        #for k in range(len(bounds)):\n",
    "            #print(\"k:\", k)\n",
    "            #m.addConstrs(   bvap[j]  <=  vap[j]*bounds[k] for j in range(k,num_districts) ) # prior computed bounds apply to all subsequent districts\n",
    "\n",
    "    #Constraints\n",
    "    m.addConstrs(   pop[k]    >=  (1-t)*POP_AVG           for k in D     ) # Population\n",
    "    m.addConstrs(   pop[k]    <=  (1+t)*POP_AVG           for k in D     ) # Population\n",
    "    m.addConstrs(   sum(x[i][k]  for k in D)   ==  1      for i in V     ) # Assign to exactly 1 district\n",
    "\n",
    "    m.addConstrs(   sum(BVAP[i]*x[i][k]    for i in V)                ==  bvap[k] for k in D  )\n",
    "    m.addConstrs(   sum(VAP[i]*x[i][k]    for i in V)                 ==  vap[k] for k in D  )\n",
    "    m.addConstrs(   sum(POP[i]*x[i][k]    for i in V)                 ==  pop[k] for k in D  )\n",
    "\n",
    "    #Compile and solve\n",
    "    m.update()\n",
    "    #print(\"\\n **Model Compiled** \\n\")\n",
    "    m.optimize()\n",
    "    \n",
    "     # info on model status: https://www.gurobi.com/documentation/9.1/refman/optimization_status_codes.html#sec:StatusCodes\n",
    "#     if m.Status == 3 or m.Status == 4: #3 means infeasible, 4 means infeasile or unbounded\n",
    "#         Infeasible = True\n",
    "#         rvalue = 0\n",
    "#     else:\n",
    "#         Infeasible = False\n",
    "    print(\"Sol value: \", bvap[n-1].x/vap[n-1].x)\n",
    "    Gap=max(0, abs(m.ObjVal-m.ObjBound)/abs(m.ObjVal))\n",
    "    if sense == 'lower':\n",
    "        error = -1/10**9\n",
    "    if sense == 'upper':\n",
    "        error = 1/10**9\n",
    "    return m.ObjBound/10**9 + error, Gap\n",
    "\n",
    "\n",
    "# def ratio_bounds_list(POP, POP_AVG,BVAP, VAP, V,num_districts,sense):\n",
    "\n",
    "#     if sense == 'lower':\n",
    "#         bounds = []\n",
    "#         bounds_gap = []\n",
    "#         for n in range(1,num_districts+1):\n",
    "#             Infeasible, r, bd_gap = ratio_bounds(POP, BVAP, VAP, POP_AVG, V,num_districts,n,bounds,sense)\n",
    "#             print(\"r: \", r)\n",
    "#             bounds = bounds + [r-10**-9]\n",
    "#             bounds_gap = bounds_gap + [bd_gap]\n",
    "#             print(\"Lower bounds: \", bounds, \"  Gaps: \",bounds_gap )\n",
    "#         return bounds\n",
    "    \n",
    "#     if sense == 'upper':\n",
    "#         bounds = []\n",
    "#         bounds_gap = []\n",
    "#         for n in range(1,num_districts+1):\n",
    "#             Infeasible, r, bd_gap = ratio_bounds(POP, BVAP, VAP, POP_AVG, V,num_districts,n,bounds,sense)\n",
    "#             print(\"r: \", r)\n",
    "#             bounds = bounds + [r+10**-9]\n",
    "#             bounds_gap = bounds_gap + [bd_gap]\n",
    "#             print(\"Upper bounds: \", bounds, \"  Gaps: \",bounds_gap )\n",
    "#         return boundsarr[::-1]\n",
    "    \n",
    "#     # If reach this point, the sense was given incorrectly\n",
    "#     print(\"sense needs to be either upper or lower\")\n",
    "#     return 0\n",
    "\n",
    "# def compute_ratio_bounds_parallel(state, num_districts, t, demographics_file, spatial_network_file, index_col = 'GEOID', gap=0.03,n_jobs=30):\n",
    "#     '''\n",
    "#     Computes lower and upper vap bounds using parallelization.  \n",
    "#     Setting n_jobs = 30 seems to work well on a computer with 48 cores.\n",
    "    \n",
    "#     '''\n",
    "#     # Load Data\n",
    "#     state = state.lower()\n",
    "#     data = pd.read_csv(demographics_file, index_col = index_col)\n",
    "#     POP = data['POP']\n",
    "#     BVAP = data['BVAP']\n",
    "#     VAP = data['VAP']\n",
    "#     POP_AVG = sum(POP)/num_districts\n",
    "\n",
    "\n",
    "#     ##Generate refference dictionaries.\n",
    "#     G = nx.readwrite.json_graph.adjacency_graph(json.load(open(spatial_network_file % data,'r')))\n",
    "#     V = G.nodes\n",
    "#     #E = G.edges\n",
    "    \n",
    "#     lower_bd,upper_bd = Parallel(n_jobs=n_jobs)(delayed\n",
    "#                         (ratio_bounds_list)(POP, POP_AVG,BVAP, VAP, V,num_districts,sense) \n",
    "#                                                 for sense in ['lower', 'upper'])\n",
    "    \n",
    "#     bounds = {f'RATIO_lower_bd': lower_bd, f'RATIO_upper_bd':upper_bd}\n",
    "    \n",
    "#     # Save the outcomes\n",
    "#     tf = open(f'bounds/{state}_RATIO_bounds.json', \"w\")\n",
    "#     json.dump(bounds,tf)\n",
    "#     tf.close()\n",
    "    \n",
    "#     # Plot the solution\n",
    "#     bounds_plot('RATIO', state,bounds,sum(BVAP)/sum(VAP),num_districts)\n",
    "    \n",
    "#     return bounds\n",
    "\n",
    "\n",
    "def compute_ratio_bounds_parallel_new(state, num_districts, t, demographics_file, spatial_network_file, index_col = 'GEOID', gap=0.03,n_jobs=30):\n",
    "    '''\n",
    "    Computes lower and upper vap bounds using parallelization.  \n",
    "    Setting n_jobs = 30 seems to work well on a computer with 48 cores.\n",
    "    \n",
    "    '''\n",
    "    # Load Data\n",
    "    state = state.lower()\n",
    "    data = pd.read_csv(demographics_file, index_col = index_col)\n",
    "    POP = data['POP']\n",
    "    BVAP = data['BVAP']\n",
    "    VAP = data['VAP']\n",
    "    POP_AVG = sum(POP)/num_districts\n",
    "\n",
    "\n",
    "    ##Generate refference dictionaries.\n",
    "    G = nx.readwrite.json_graph.adjacency_graph(json.load(open(spatial_network_file % data,'r')))\n",
    "    V = G.nodes\n",
    "    #E = G.edges\n",
    "    \n",
    "    lower_bd_and_gap = Parallel(n_jobs=n_jobs)(delayed(ratio_bounds)(POP, POP_AVG,BVAP, VAP, V,num_districts,n,'lower') for n in range(1,num_districts+1))\n",
    "    upper_bd_and_gap = Parallel(n_jobs=n_jobs)(delayed(ratio_bounds)(POP, POP_AVG,BVAP, VAP, V,num_districts,n,'upper') for n in range(1,num_districts+1))\n",
    "\n",
    "    lower_bd = [item[0] for item in lower_bd_and_gap]\n",
    "    lower_bd_gap = [item[1] for item in lower_bd_and_gap]\n",
    "    upper_bd = [item[0] for item in upper_bd_and_gap]\n",
    "    upper_bd_gap = [item[1] for item in upper_bd_and_gap]\n",
    "    bounds = {'RATIO_lower_bd': lower_bd, 'RATIO_upper_bd':upper_bd,'lower_bd_gap':lower_bd_gap,'upper_bd_gap':upper_bd_gap  }\n",
    "    \n",
    "    # Save the outcomes\n",
    "    tf = open(f'bounds/{state}_RATIO_bounds.json', \"w\")\n",
    "    json.dump(bounds,tf)\n",
    "    tf.close()\n",
    "    \n",
    "    # Plot the solution\n",
    "    bounds_plot('RATIO', state,bounds,sum(BVAP)/sum(VAP),num_districts)\n",
    "    \n",
    "    return bounds"
   ]
  },
  {
   "cell_type": "markdown",
   "metadata": {},
   "source": [
    "# Plotting function"
   ]
  },
  {
   "cell_type": "code",
   "execution_count": 78,
   "metadata": {},
   "outputs": [],
   "source": [
    "def bounds_plot(quantity,state,bounds,avg,d):\n",
    "    '''Makes a pretty plot showing how the bounds turn out'''\n",
    "    lower_bd,upper_bd = bounds[f'{quantity}_lower_bd'], bounds[f'{quantity}_upper_bd']\n",
    "    plt.scatter([i+1 for i in range(d)],lower_bd, label = f'{quantity} Lower bound')\n",
    "    plt.scatter([i+1 for i in range(d)],upper_bd, label = f'{quantity} Upper bound')\n",
    "    plt.plot([1,d],[avg,avg], '--', color = 'green', label= f'Average {quantity}')\n",
    "    col = 'name'\n",
    "    plt.title(f'Bounds for {quantity} in {states[state.upper()][col]}\\n (without using contiguity)')\n",
    "    plt.xlabel('District Number')\n",
    "    plt.ylabel(quantity)\n",
    "    plt.legend()\n",
    "    plt.savefig(f'bounds/{state}_{quantity}_bounds_plot.jpg', format='jpg')\n",
    "    plt.show()"
   ]
  },
  {
   "cell_type": "markdown",
   "metadata": {},
   "source": [
    "## Computing the bounds"
   ]
  },
  {
   "cell_type": "code",
   "execution_count": 99,
   "metadata": {},
   "outputs": [
    {
     "name": "stdout",
     "output_type": "stream",
     "text": [
      "AL\n"
     ]
    },
    {
     "data": {
      "image/png": "[encoded data removed]",
      "text/plain": [
       "<Figure size 432x288 with 1 Axes>"
      ]
     },
     "metadata": {
      "needs_background": "light"
     },
     "output_type": "display_data"
    },
    {
     "name": "stdout",
     "output_type": "stream",
     "text": [
      "Time of computation:  6.284382200001346\n"
     ]
    }
   ],
   "source": [
    "import time\n",
    "\n",
    "t = 0.2\n",
    "gap = 0.01\n",
    "\n",
    "for stateCAP in ['AL']: #states.keys():\n",
    "    print(stateCAP)\n",
    "    tic = time.perf_counter()\n",
    "    state = stateCAP.lower()\n",
    "    num_districts = states[state.upper()]['reps']\n",
    "    if num_districts < 15:\n",
    "        demographics_file = f'data2020/demographics/t/{state}_t_demographics_2020.csv'\n",
    "        spatial_network_file = f'data2020/spatial_network/t/{state}_pl2020_t.json'\n",
    "        vap_bounds = compute_vap_bounds_parallel(state, num_districts, t, demographics_file, spatial_network_file,'vap')\n",
    "        #bvap_bounds = compute_vap_bounds_parallel(state, num_districts, t, demographics_file, spatial_network_file,'bvap')\n",
    "        #ratio_bounds = compute_ratio_bounds_parallel_new(state, num_districts, t, demographics_file, spatial_network_file)\n",
    "    else:\n",
    "        print(\"Skipping this state due to too many districts\")\n",
    "\n",
    "    toc = time.perf_counter()\n",
    "    print(\"Time of computation: \", toc-tic)"
   ]
  },
  {
   "cell_type": "code",
   "execution_count": 76,
   "metadata": {},
   "outputs": [
    {
     "data": {
      "text/plain": [
       "{'RATIO_lower_bd': [0.007263001999999999,\n",
       "  0.02069459,\n",
       "  0.036862406029743215,\n",
       "  0.061319780909962346,\n",
       "  0.09805474760752385,\n",
       "  0.15126421630789588,\n",
       "  0.2505815206167492],\n",
       " 'RATIO_upper_bd': [0.2506832410272059,\n",
       "  0.3002363704505301,\n",
       "  0.3623240669806402,\n",
       "  0.4452124382207025,\n",
       "  0.5436655493043626,\n",
       "  0.659653128759551,\n",
       "  0.8174225802333157]}"
      ]
     },
     "execution_count": 76,
     "metadata": {},
     "output_type": "execute_result"
    }
   ],
   "source": [
    "ratio_bounds"
   ]
  },
  {
   "cell_type": "code",
   "execution_count": 80,
   "metadata": {},
   "outputs": [
    {
     "data": {
      "text/plain": [
       "{'RATIO_lower_bd': [0.007263001999999999,\n",
       "  0.02069459,\n",
       "  0.03686240602979872,\n",
       "  0.061319780909962346,\n",
       "  0.09805579283215203,\n",
       "  0.15126421630789588,\n",
       "  0.25058152061674926],\n",
       " 'RATIO_upper_bd': [0.25068324102720585,\n",
       "  0.3002363704505301,\n",
       "  0.3623229703400511,\n",
       "  0.4451828866719399,\n",
       "  0.543270053382328,\n",
       "  0.659653128759551,\n",
       "  0.8174225802333157],\n",
       " 'lower_bd_gap': [0,\n",
       "  0.00014977516091046098,\n",
       "  0.00029837138739419763,\n",
       "  0.0007933242008090468,\n",
       "  0.00037849996810143026,\n",
       "  0.0004982217683682206,\n",
       "  0.00026949385150606525],\n",
       " 'upper_bd_gap': [0.00037450518588320636,\n",
       "  0.000556842911889341,\n",
       "  0.00039812752597936484,\n",
       "  0.00043730740055464664,\n",
       "  0.0002509573057814779,\n",
       "  8.550491091190519e-05,\n",
       "  7.090744051766196e-05]}"
      ]
     },
     "execution_count": 80,
     "metadata": {},
     "output_type": "execute_result"
    }
   ],
   "source": [
    "ratio_bounds"
   ]
  },
  {
   "cell_type": "markdown",
   "metadata": {},
   "source": [
    "# Example Knapsack for sanity check"
   ]
  },
  {
   "cell_type": "code",
   "execution_count": 90,
   "metadata": {},
   "outputs": [
    {
     "name": "stdout",
     "output_type": "stream",
     "text": [
      "AL\n"
     ]
    }
   ],
   "source": [
    "stateCAP = 'AL' #states.keys():\n",
    "print(stateCAP)\n",
    "tic = time.perf_counter()\n",
    "state = stateCAP.lower()\n",
    "num_districts = states[state.upper()]['reps']\n",
    "if num_districts < 15:\n",
    "    demographics_file = f'data2020/demographics/t/{state}_t_demographics_2020.csv'\n",
    "    spatial_network_file = f'data2020/spatial_network/t/{state}_pl2020_t.json'\n",
    "\n",
    "# Load Data\n",
    "state = state.lower()\n",
    "data = pd.read_csv(demographics_file, index_col = 'GEOID')\n",
    "POP = data['POP']\n",
    "BVAP = data['BVAP']\n",
    "VAP = data['VAP']\n",
    "POP_AVG = sum(POP)/num_districts\n",
    "VAP_TOTAL = sum(VAP)\n",
    "BVAP_TOTAL = sum(VAP)\n",
    "\n",
    "G = nx.readwrite.json_graph.adjacency_graph(json.load(open(spatial_network_file % data,'r')))\n",
    "V = G.nodes"
   ]
  },
  {
   "cell_type": "code",
   "execution_count": 48,
   "metadata": {},
   "outputs": [
    {
     "data": {
      "text/plain": [
       "0.9826937547027841"
      ]
     },
     "execution_count": 48,
     "metadata": {},
     "output_type": "execute_result"
    }
   ],
   "source": [
    "max(BVAP/VAP)"
   ]
  },
  {
   "cell_type": "code",
   "execution_count": 49,
   "metadata": {},
   "outputs": [
    {
     "data": {
      "text/plain": [
       "0.0"
      ]
     },
     "execution_count": 49,
     "metadata": {},
     "output_type": "execute_result"
    }
   ],
   "source": [
    "min(BVAP/VAP)"
   ]
  },
  {
   "cell_type": "code",
   "execution_count": 68,
   "metadata": {},
   "outputs": [
    {
     "name": "stdout",
     "output_type": "stream",
     "text": [
      "Parameter MIPGap unchanged\n",
      "   Value: 0.0001  Min: 0.0  Max: inf  Default: 0.0001\n",
      "Gurobi Optimizer version 9.1.2 build v9.1.2rc0 (win64)\n",
      "Thread count: 24 physical cores, 48 logical processors, using up to 24 threads\n",
      "Optimize a model with 1 rows, 1437 columns and 1434 nonzeros\n",
      "Model fingerprint: 0x22e8debb\n",
      "Variable types: 0 continuous, 1437 integer (1437 binary)\n",
      "Coefficient statistics:\n",
      "  Matrix range     [2e+00, 1e+04]\n",
      "  Objective range  [4e-04, 1e+00]\n",
      "  Bounds range     [1e+00, 1e+00]\n",
      "  RHS range        [7e+05, 7e+05]\n",
      "Found heuristic solution: objective 70.6654215\n",
      "Presolve removed 0 rows and 12 columns\n",
      "Presolve time: 0.01s\n",
      "Presolved: 1 rows, 1425 columns, 1425 nonzeros\n",
      "Variable types: 0 continuous, 1425 integer (1425 binary)\n",
      "\n",
      "Root relaxation: objective 1.755985e+00, 1 iterations, 0.00 seconds\n",
      "\n",
      "    Nodes    |    Current Node    |     Objective Bounds      |     Work\n",
      " Expl Unexpl |  Obj  Depth IntInf | Incumbent    BestBd   Gap | It/Node Time\n",
      "\n",
      "     0     0    1.75598    0    1   70.66542    1.75598  97.5%     -    0s\n",
      "H    0     0                       1.7855834    1.75598  1.66%     -    0s\n",
      "H    0     0                       1.7560863    1.75598  0.01%     -    0s\n",
      "     0     0    1.75598    0    1    1.75609    1.75598  0.01%     -    0s\n",
      "\n",
      "Explored 1 nodes (1 simplex iterations) in 0.03 seconds\n",
      "Thread count was 24 (of 48 available processors)\n",
      "\n",
      "Solution count 3: 1.75609 1.78558 70.6654 \n",
      "\n",
      "Optimal solution found (tolerance 1.00e-04)\n",
      "Best objective 1.756086296872e+00, best bound 1.756086296872e+00, gap 0.0000%\n"
     ]
    }
   ],
   "source": [
    "D = range(num_districts)\n",
    "\n",
    "m = gp.Model(\"knapsack\")\n",
    "m.Params.MIPGap = 0.0001  \n",
    "\n",
    "\n",
    "#Variables\n",
    "x = {i : m.addVar(vtype = GRB.BINARY)   for i in V}\n",
    "\n",
    "m.setObjective( sum(x[i]*BVAP[i]/max(VAP[i],1) for i in V), GRB.MINIMIZE )\n",
    "m.addConstr(sum(POP[i]*x[i] for i in V) >= POP_AVG)\n",
    "m.optimize()"
   ]
  },
  {
   "cell_type": "code",
   "execution_count": 69,
   "metadata": {},
   "outputs": [
    {
     "data": {
      "text/plain": [
       "0.011414127309767529"
      ]
     },
     "execution_count": 69,
     "metadata": {},
     "output_type": "execute_result"
    }
   ],
   "source": [
    "sum(BVAP[i]*x[i].x for i in V)/sum(VAP[i]*x[i].x for i in V)"
   ]
  },
  {
   "cell_type": "code",
   "execution_count": 65,
   "metadata": {},
   "outputs": [
    {
     "data": {
      "text/plain": [
       "0.0"
      ]
     },
     "execution_count": 65,
     "metadata": {},
     "output_type": "execute_result"
    }
   ],
   "source": [
    "sum(BVAP[i]*x[i].x for i in V)"
   ]
  },
  {
   "cell_type": "markdown",
   "metadata": {},
   "source": [
    "# Load Bounds\n"
   ]
  },
  {
   "cell_type": "code",
   "execution_count": 100,
   "metadata": {},
   "outputs": [],
   "source": [
    "import json\n",
    "#File I/O Open function for read data from JSON File\n",
    "def load_json(file):\n",
    "    with open(file) as file_object:\n",
    "            # store file data in object\n",
    "            data = json.load(file_object)\n",
    "    return data\n",
    "\n",
    "bvap_bounds = load_json('bounds/al_BVAP_bounds.json')\n",
    "vap_bounds = load_json('bounds/al_VAP_bounds.json')\n",
    "RATIO_bounds = load_json('bounds/al_RATIO_bounds.json')\n"
   ]
  },
  {
   "cell_type": "code",
   "execution_count": 85,
   "metadata": {},
   "outputs": [],
   "source": [
    "import scipy.stats as stats\n",
    "t = .05 # deviation from average population\n",
    "gap = .05  # acceptable optimality gap\n",
    "maxtime = 12*60*60\n",
    "\n",
    "\n",
    "#Cdf function\n",
    "def cdf_fun(x):\n",
    "    if x < 0.07:\n",
    "        return 0\n",
    "    return stats.norm.cdf(8.26*x-3.271)\n",
    "\n",
    "\n",
    "#RATIO_BREAKPOINTS = [i/PWL_PARTS  for i in range(PWL_PARTS+1)]\n",
    "# the below ratio breakpoints were computed in Mathematica for some reason.\n",
    "RATIO_BREAKPOINTS = [0.158721, 0.19687, 0.221727, 0.240853, 0.256737, 0.270529, 0.282858, 0.294114, 0.30455, 0.314347, 0.323637, 0.332518, 0.34107, 0.349356, 0.357429, 0.365333, 0.373109, 0.380792, 0.388413, 0.396005, 0.403596,  0.411218, 0.418901, 0.426676, 0.434581, 0.442654, 0.45094, 0.459492,  0.468373, 0.477662, 0.487459, 0.497896, 0.509151, 0.521481, 0.535272,  0.551156, 0.570282, 0.59514, 0.633289, 1]\n",
    "PWL_PARTS = len(RATIO_BREAKPOINTS)-1\n",
    "CDF_VALUES = [cdf_fun(r)  for r in RATIO_BREAKPOINTS] # function values at breakpoints"
   ]
  },
  {
   "cell_type": "code",
   "execution_count": 124,
   "metadata": {},
   "outputs": [
    {
     "name": "stdout",
     "output_type": "stream",
     "text": [
      "Parameter MIPGap unchanged\n",
      "   Value: 0.0001  Min: 0.0  Max: inf  Default: 0.0001\n",
      "Changed value of parameter TimeLimit to 400.0\n",
      "   Prev: inf  Min: 0.0  Max: inf  Default: inf\n",
      "Gurobi Optimizer version 9.1.2 build v9.1.2rc0 (win64)\n",
      "Thread count: 24 physical cores, 48 logical processors, using up to 24 threads\n",
      "Optimize a model with 1385 rows, 301 columns and 3808 nonzeros\n",
      "Model fingerprint: 0x543a4a2f\n",
      "Variable types: 21 continuous, 280 integer (280 binary)\n",
      "Coefficient statistics:\n",
      "  Matrix range     [7e-03, 4e+06]\n",
      "  Objective range  [1e+00, 1e+00]\n",
      "  Bounds range     [1e+00, 1e+00]\n",
      "  RHS range        [1e+00, 4e+06]\n",
      "Presolve removed 659 rows and 116 columns\n",
      "Presolve time: 0.02s\n",
      "Presolved: 726 rows, 185 columns, 2239 nonzeros\n",
      "Variable types: 21 continuous, 164 integer (164 binary)\n",
      "Found heuristic solution: objective 0.3999994\n",
      "\n",
      "Root relaxation: objective 3.913113e+00, 755 iterations, 0.01 seconds\n",
      "\n",
      "    Nodes    |    Current Node    |     Objective Bounds      |     Work\n",
      " Expl Unexpl |  Obj  Depth IntInf | Incumbent    BestBd   Gap | It/Node Time\n",
      "\n",
      "     0     0    3.91311    0   88    0.40000    3.91311   878%     -    0s\n",
      "H    0     0                       1.7750000    3.91311   120%     -    0s\n",
      "H    0     0                       1.8000022    3.91311   117%     -    0s\n",
      "H    0     0                       1.8500012    3.91311   112%     -    0s\n",
      "H    0     0                       1.8500013    3.91311   112%     -    0s\n",
      "H    0     0                       1.8749993    3.91311   109%     -    0s\n",
      "H    0     0                       2.1249999    3.91311  84.1%     -    0s\n",
      "     0     0    3.70510    0  110    2.12500    3.70510  74.4%     -    0s\n",
      "H    0     0                       2.3750024    3.70510  56.0%     -    0s\n",
      "H    0     0                       2.8249979    3.70510  31.2%     -    0s\n",
      "     0     0    3.70143    0  110    2.82500    3.70143  31.0%     -    0s\n",
      "H    0     0                       2.8499990    3.66376  28.6%     -    0s\n",
      "     0     0    3.57228    0   93    2.85000    3.57228  25.3%     -    0s\n",
      "H    0     0                       2.8500010    3.57228  25.3%     -    0s\n",
      "     0     0    3.52506    0   89    2.85000    3.52506  23.7%     -    0s\n",
      "     0     0    3.49141    0   91    2.85000    3.49141  22.5%     -    0s\n",
      "     0     0    3.46975    0   95    2.85000    3.46975  21.7%     -    0s\n",
      "     0     0    3.46448    0   93    2.85000    3.46448  21.6%     -    0s\n",
      "     0     0    3.46272    0   92    2.85000    3.46272  21.5%     -    0s\n",
      "     0     0    3.46252    0   92    2.85000    3.46252  21.5%     -    0s\n",
      "     0     0    3.46252    0   83    2.85000    3.46252  21.5%     -    0s\n",
      "     0     0    3.42246    0   91    2.85000    3.42246  20.1%     -    0s\n",
      "     0     0    3.41566    0   90    2.85000    3.41566  19.8%     -    0s\n",
      "     0     0    3.40000    0   88    2.85000    3.40000  19.3%     -    0s\n",
      "     0     0    3.39833    0   94    2.85000    3.39833  19.2%     -    0s\n",
      "     0     0    3.39496    0   94    2.85000    3.39496  19.1%     -    0s\n",
      "     0     0    3.39362    0   94    2.85000    3.39362  19.1%     -    0s\n",
      "     0     0    3.37447    0   84    2.85000    3.37447  18.4%     -    0s\n",
      "     0     0    3.37234    0   84    2.85000    3.37234  18.3%     -    0s\n",
      "H    0     0                       2.8750023    3.37234  17.3%     -    0s\n",
      "     0     2    3.37234    0   84    2.87500    3.37234  17.3%     -    0s\n",
      "H   32    54                       2.8750027    3.35569  16.7%  56.5    0s\n",
      "*  970   403              22       2.8750034    3.28904  14.4%  25.3    0s\n",
      "H 1144   409                       2.8750034    3.21200  11.7%  25.0    0s\n",
      "H 1147   409                       2.8750037    3.21200  11.7%  25.0    0s\n",
      "* 1653   528              12       2.9249996    3.16282  8.13%  22.3    0s\n",
      "* 1700   528              12       2.9499996    3.16282  7.21%  22.0    0s\n",
      "* 3924   238              12       2.9749995    3.00509  1.01%  22.0    1s\n",
      "\n",
      "Cutting planes:\n",
      "  Gomory: 1\n",
      "  Cover: 5\n",
      "  Implied bound: 189\n",
      "  MIR: 228\n",
      "  RLT: 39\n",
      "  Relax-and-lift: 76\n",
      "\n",
      "Explored 4300 nodes (93324 simplex iterations) in 1.10 seconds\n",
      "Thread count was 24 (of 48 available processors)\n",
      "\n",
      "Solution count 10: 2.975 2.95 2.925 ... 2.375\n",
      "\n",
      "Optimal solution found (tolerance 1.00e-04)\n",
      "Best objective 2.974999527096e+00, best bound 2.974999527096e+00, gap 0.0000%\n"
     ]
    }
   ],
   "source": [
    "m = gp.Model(\"ratio_optimization\")\n",
    "\n",
    "m.Params.MIPGap = 0.0001  \n",
    "#m.setParam('OptimalityTol', 10**-9)\n",
    "# m.setParam('FeasibilityTol', 10**-9)\n",
    "\n",
    "#m.Params.OutputFlag = 0\n",
    "m.Params.TimeLimit = 400\n",
    "\n",
    "#Variables\n",
    "#pop = m.addVars(D, name = 'pop')\n",
    "bvap = m.addVars(D, name = 'bvap')\n",
    "vap = m.addVars(D, name = 'vap')\n",
    "\n",
    "## variables for modeling the objective function\n",
    "cdf = {k : m.addVar(lb = 0, ub = 1, name = f\"cdf{k}\")   for k in D} # r = cdf(8.26 q - 3.271)\n",
    "delta = {k : {l : m.addVar(vtype = GRB.BINARY)  for l in range(PWL_PARTS+1)}  for k in D}\n",
    "\n",
    "#Objective\n",
    "m.setObjective( sum(cdf[j] for j in range(num_districts)), GRB.MAXIMIZE)\n",
    "\n",
    "\n",
    "m.addConstrs(   bvap[k]  <=  vap[k]*RATIO_bounds['RATIO_upper_bd'][k]         for k in D     ) \n",
    "m.addConstrs(   bvap[k]  >=  vap[k]*RATIO_bounds['RATIO_lower_bd'][k]         for k in D    ) \n",
    "\n",
    "m.addConstrs(   bvap[k]  >=  bvap_bounds['BVAP_lower_bd'][0]         for k in D    ) \n",
    "m.addConstrs(   bvap[k]  <=  bvap_bounds['BVAP_upper_bd'][num_districts-1]          for k in D    ) \n",
    "\n",
    "m.addConstrs(   vap[k]  >=  vap_bounds['VAP_lower_bd'][0]         for k in D    ) \n",
    "m.addConstrs(   vap[k]  <=  vap_bounds['VAP_upper_bd'][num_districts-1]          for k in D    ) \n",
    "\n",
    "\n",
    "\n",
    "m.addConstrs(   sum(bvap[k] for k in combo)  >=  sum(bvap_bounds['BVAP_lower_bd'][k] for k in range(len(combo)))    for    combo in combos    ) \n",
    "m.addConstrs(   sum(bvap[k] for k in combo)  <=  sum((bvap_bounds['BVAP_upper_bd'][::-1])[k] for k in range(len(combo)))  for      combo in combos    ) \n",
    "\n",
    "m.addConstrs(   sum(vap[k] for k in combo)  >=  sum(vap_bounds['VAP_lower_bd'][k] for k in range(len(combo)))   for     combo in combos    ) \n",
    "m.addConstrs(   sum(vap[k] for k in combo)  <=  sum((vap_bounds['VAP_upper_bd'][::-1])[k] for k in range(len(combo)))     for   combo in combos    ) \n",
    "\n",
    "\n",
    "#Constraints\n",
    "#     m.addConstrs(   pop[k]    >=  (1-t)*POP_AVG           for k in D     ) # Population\n",
    "#     m.addConstrs(   pop[k]    <=  (1+t)*POP_AVG           for k in D     ) # Population\n",
    "\n",
    "\n",
    "#     m.addConstr(   sum(pop[k] for k in D)   ==  sum(POP)    ) # Population\n",
    "m.addConstr(   sum(bvap[k] for k in D)   ==  sum(BVAP)    ) # Population\n",
    "m.addConstr(   sum(vap[k] for k in D)   ==  sum(VAP)    ) # Population\n",
    "\n",
    "\n",
    "#     m.addConstrs(   sum(x[i][k]  for k in D)   ==  1      for i in V     ) # Assign to exactly 1 district\n",
    "\n",
    "#     m.addConstrs(   sum(BVAP[i]*x[i][k]    for i in V)                ==  bvap[k] for k in D  )\n",
    "#     m.addConstrs(   sum(VAP[i]*x[i][k]    for i in V)                 ==  vap[k] for k in D  )\n",
    "#     m.addConstrs(   sum(POP[i]*x[i][k]    for i in V)                 ==  pop[k] for k in D  )\n",
    "\n",
    "\n",
    "\n",
    "## Decide value of cdf[j]\n",
    "## We focus on the fact that the cdf is an increasing function\n",
    "## We model  \"if ratio <= RATIO_BREAKPOINT, then cdf <= CDF_VALUE@RATIO_BREAKPOINT\"\n",
    "## For this, we use an indicator variable \\delta, where \\delta = 1 means ratio <= RATIO_BREAKPOINT\n",
    "\n",
    "### if bvap/vap <= ratio, then delta = 1\n",
    "### --->  if bvap - ratio*vap <= 0, then delta = 1\n",
    "### --->  if ratio*vap - bvap > 0, then delta = 1\n",
    "### --->  ratio*vap - bvap <= M*delta\n",
    "m.addConstrs(( RATIO_BREAKPOINTS[l]*vap[j] - bvap[j] <=  VAP_TOTAL*delta[j][l] for j in D  for l in range(PWL_PARTS+1)  ), name=\"breakpoint_bound\")\n",
    "\n",
    "### if delta = 1, then cdf_j <= CDF_VALUE: (note: 1 acts as the big M here)\n",
    "m.addConstrs(( cdf[j] <= CDF_VALUES[l] + (1-delta[j][l])   for j in D  for l in range(PWL_PARTS+1)  ), name=\"cdf_bound\")\n",
    "\n",
    "### delta variables are ordered (i.e., if ratio[j] <= RATIO_BREAKPOINT[l], then ratio[j] <= RATIO_BREAKPOINT[l+1])\n",
    "### thus, if \\delta[l] = 1, then \\delta[l+1] = 1\n",
    "m.addConstrs(( delta[j][l] <= delta[j][l+1]  for j in D  for l in range(PWL_PARTS)  ), name=\"cdf_bound\")\n",
    "\n",
    "\n",
    "\n",
    "#Compile and solve\n",
    "m.update()\n",
    "#print(\"\\n **Model Compiled** \\n\")\n",
    "m.optimize()"
   ]
  },
  {
   "cell_type": "code",
   "execution_count": 125,
   "metadata": {},
   "outputs": [
    {
     "name": "stdout",
     "output_type": "stream",
     "text": [
      "[0.024999967536122325, 0.024999967536122304, 0.024999967536122263, 0.024999967536122294, 0.8999994725309205, 1.0, 0.9750001844205065]\n"
     ]
    }
   ],
   "source": [
    "print([cdf[k].x for k in D])"
   ]
  },
  {
   "cell_type": "code",
   "execution_count": 126,
   "metadata": {},
   "outputs": [
    {
     "name": "stdout",
     "output_type": "stream",
     "text": [
      "[0.007263001999999809, 0.02069459, 0.036862406029798726, 0.06346112727314715, 0.535272, 0.633289, 0.59514]\n"
     ]
    }
   ],
   "source": [
    "print([bvap[k].x/vap[k].x for k in D])"
   ]
  },
  {
   "cell_type": "code",
   "execution_count": 120,
   "metadata": {},
   "outputs": [
    {
     "name": "stdout",
     "output_type": "stream",
     "text": [
      "[True, True, True, True, True, True, True]\n"
     ]
    }
   ],
   "source": [
    "print([bvap[k].x/vap[k].x<= RATIO_bounds['RATIO_upper_bd'][k] for k in D])"
   ]
  },
  {
   "cell_type": "code",
   "execution_count": 122,
   "metadata": {},
   "outputs": [
    {
     "name": "stdout",
     "output_type": "stream",
     "text": [
      "[True, True, True, True, True, True, True]\n"
     ]
    }
   ],
   "source": [
    "print([bvap[k].x/vap[k].x>= RATIO_bounds['RATIO_lower_bd'][k]-10**(-7) for k in D])"
   ]
  },
  {
   "cell_type": "code",
   "execution_count": 130,
   "metadata": {},
   "outputs": [
    {
     "name": "stdout",
     "output_type": "stream",
     "text": [
      "[4538.250484689881, 12343.101954189999, 20146.594994718038, 38475.39879209449, 280187.593128, 306979.79586830764, 319052.264778]\n"
     ]
    }
   ],
   "source": [
    "bvaps = [bvap[k].x for k in D]\n",
    "bvaps.sort()\n",
    "print(bvaps)"
   ]
  },
  {
   "cell_type": "code",
   "execution_count": 134,
   "metadata": {},
   "outputs": [
    {
     "data": {
      "text/plain": [
       "[True, True, True, True, True, True, True]"
      ]
     },
     "execution_count": 134,
     "metadata": {},
     "output_type": "execute_result"
    }
   ],
   "source": [
    "[bvaps[k] <= bvap_bounds['BVAP_upper_bd'][k] for k in D]"
   ]
  },
  {
   "cell_type": "code",
   "execution_count": 135,
   "metadata": {},
   "outputs": [
    {
     "data": {
      "text/plain": [
       "[True, True, True, True, True, True, True]"
      ]
     },
     "execution_count": 135,
     "metadata": {},
     "output_type": "execute_result"
    }
   ],
   "source": [
    "[bvaps[k] >= bvap_bounds['BVAP_lower_bd'][k] for k in D]"
   ]
  },
  {
   "cell_type": "code",
   "execution_count": 136,
   "metadata": {},
   "outputs": [
    {
     "name": "stdout",
     "output_type": "stream",
     "text": [
      "[503802.0, 515811.0627218934, 523449.0, 546534.9977001499, 596441.0, 606282.9395779567, 624845.0]\n"
     ]
    }
   ],
   "source": [
    "vaps = [vap[k].x for k in D]\n",
    "vaps.sort()\n",
    "print(vaps)"
   ]
  },
  {
   "cell_type": "code",
   "execution_count": 142,
   "metadata": {},
   "outputs": [
    {
     "data": {
      "text/plain": [
       "[True, True, True, True, True, False, True]"
      ]
     },
     "execution_count": 142,
     "metadata": {},
     "output_type": "execute_result"
    }
   ],
   "source": [
    "[vaps[k] <= vap_bounds['VAP_upper_bd'][k] for k in D]"
   ]
  },
  {
   "cell_type": "code",
   "execution_count": 145,
   "metadata": {},
   "outputs": [
    {
     "data": {
      "text/plain": [
       "[True, True, True, True, True, True, True]"
      ]
     },
     "execution_count": 145,
     "metadata": {},
     "output_type": "execute_result"
    }
   ],
   "source": [
    "[vaps[k] >= vap_bounds['VAP_lower_bd'][k]-1 for k in D]"
   ]
  },
  {
   "cell_type": "code",
   "execution_count": 119,
   "metadata": {},
   "outputs": [
    {
     "data": {
      "text/plain": [
       "{'RATIO_lower_bd': [0.007263001999999999,\n",
       "  0.02069459,\n",
       "  0.03686240602979872,\n",
       "  0.061319780909962346,\n",
       "  0.09805579283215203,\n",
       "  0.15126421630789588,\n",
       "  0.25058152061674926],\n",
       " 'RATIO_upper_bd': [0.25068324102720585,\n",
       "  0.3002363704505301,\n",
       "  0.3623229703400511,\n",
       "  0.4451828866719399,\n",
       "  0.543270053382328,\n",
       "  0.659653128759551,\n",
       "  0.8174225802333157],\n",
       " 'lower_bd_gap': [0,\n",
       "  0.00014977516091046098,\n",
       "  0.00029837138739419763,\n",
       "  0.0007933242008090468,\n",
       "  0.00037849996810143026,\n",
       "  0.0004982217683682206,\n",
       "  0.00026949385150606525],\n",
       " 'upper_bd_gap': [0.00037450518588320636,\n",
       "  0.000556842911889341,\n",
       "  0.00039812752597936484,\n",
       "  0.00043730740055464664,\n",
       "  0.0002509573057814779,\n",
       "  8.550491091190519e-05,\n",
       "  7.090744051766196e-05]}"
      ]
     },
     "execution_count": 119,
     "metadata": {},
     "output_type": "execute_result"
    }
   ],
   "source": [
    "RATIO_bounds"
   ]
  },
  {
   "cell_type": "code",
   "execution_count": 101,
   "metadata": {},
   "outputs": [
    {
     "data": {
      "text/plain": [
       "{'VAP_lower_bd': [503802.0,\n",
       "  515811.0627218935,\n",
       "  523449.0,\n",
       "  531961.0,\n",
       "  540920.0241688174,\n",
       "  548721.0,\n",
       "  559596.0],\n",
       " 'VAP_upper_bd': [559595.0,\n",
       "  568894.0,\n",
       "  577108.0,\n",
       "  586705.0,\n",
       "  596441.0,\n",
       "  606282.9395779566,\n",
       "  624845.0]}"
      ]
     },
     "execution_count": 101,
     "metadata": {},
     "output_type": "execute_result"
    }
   ],
   "source": [
    "vap_bounds"
   ]
  },
  {
   "cell_type": "code",
   "execution_count": 102,
   "metadata": {},
   "outputs": [
    {
     "data": {
      "text/plain": [
       "{'BVAP_lower_bd': [3247.0,\n",
       "  9258.0,\n",
       "  16450.0,\n",
       "  29085.0,\n",
       "  50422.0,\n",
       "  81924.0,\n",
       "  140247.0],\n",
       " 'BVAP_upper_bd': [140246.0,\n",
       "  163079.0,\n",
       "  192641.0,\n",
       "  233093.0,\n",
       "  288462.0,\n",
       "  364806.7023705004,\n",
       "  490188.55936920224]}"
      ]
     },
     "execution_count": 102,
     "metadata": {},
     "output_type": "execute_result"
    }
   ],
   "source": [
    "bvap_bounds"
   ]
  },
  {
   "cell_type": "code",
   "execution_count": 106,
   "metadata": {},
   "outputs": [
    {
     "data": {
      "text/plain": [
       "128"
      ]
     },
     "execution_count": 106,
     "metadata": {},
     "output_type": "execute_result"
    }
   ],
   "source": [
    "2**7"
   ]
  },
  {
   "cell_type": "code",
   "execution_count": 115,
   "metadata": {},
   "outputs": [],
   "source": [
    "from itertools import combinations\n",
    "s = range(7)\n",
    "combos = sum(map(lambda r: list(combinations(s, r)), range(1, len(s)+1)), [])"
   ]
  },
  {
   "cell_type": "code",
   "execution_count": 114,
   "metadata": {},
   "outputs": [
    {
     "data": {
      "text/plain": [
       "[(0,),\n",
       " (1,),\n",
       " (2,),\n",
       " (3,),\n",
       " (4,),\n",
       " (5,),\n",
       " (6,),\n",
       " (0, 1),\n",
       " (0, 2),\n",
       " (0, 3),\n",
       " (0, 4),\n",
       " (0, 5),\n",
       " (0, 6),\n",
       " (1, 2),\n",
       " (1, 3),\n",
       " (1, 4),\n",
       " (1, 5),\n",
       " (1, 6),\n",
       " (2, 3),\n",
       " (2, 4),\n",
       " (2, 5),\n",
       " (2, 6),\n",
       " (3, 4),\n",
       " (3, 5),\n",
       " (3, 6),\n",
       " (4, 5),\n",
       " (4, 6),\n",
       " (5, 6),\n",
       " (0, 1, 2),\n",
       " (0, 1, 3),\n",
       " (0, 1, 4),\n",
       " (0, 1, 5),\n",
       " (0, 1, 6),\n",
       " (0, 2, 3),\n",
       " (0, 2, 4),\n",
       " (0, 2, 5),\n",
       " (0, 2, 6),\n",
       " (0, 3, 4),\n",
       " (0, 3, 5),\n",
       " (0, 3, 6),\n",
       " (0, 4, 5),\n",
       " (0, 4, 6),\n",
       " (0, 5, 6),\n",
       " (1, 2, 3),\n",
       " (1, 2, 4),\n",
       " (1, 2, 5),\n",
       " (1, 2, 6),\n",
       " (1, 3, 4),\n",
       " (1, 3, 5),\n",
       " (1, 3, 6),\n",
       " (1, 4, 5),\n",
       " (1, 4, 6),\n",
       " (1, 5, 6),\n",
       " (2, 3, 4),\n",
       " (2, 3, 5),\n",
       " (2, 3, 6),\n",
       " (2, 4, 5),\n",
       " (2, 4, 6),\n",
       " (2, 5, 6),\n",
       " (3, 4, 5),\n",
       " (3, 4, 6),\n",
       " (3, 5, 6),\n",
       " (4, 5, 6),\n",
       " (0, 1, 2, 3),\n",
       " (0, 1, 2, 4),\n",
       " (0, 1, 2, 5),\n",
       " (0, 1, 2, 6),\n",
       " (0, 1, 3, 4),\n",
       " (0, 1, 3, 5),\n",
       " (0, 1, 3, 6),\n",
       " (0, 1, 4, 5),\n",
       " (0, 1, 4, 6),\n",
       " (0, 1, 5, 6),\n",
       " (0, 2, 3, 4),\n",
       " (0, 2, 3, 5),\n",
       " (0, 2, 3, 6),\n",
       " (0, 2, 4, 5),\n",
       " (0, 2, 4, 6),\n",
       " (0, 2, 5, 6),\n",
       " (0, 3, 4, 5),\n",
       " (0, 3, 4, 6),\n",
       " (0, 3, 5, 6),\n",
       " (0, 4, 5, 6),\n",
       " (1, 2, 3, 4),\n",
       " (1, 2, 3, 5),\n",
       " (1, 2, 3, 6),\n",
       " (1, 2, 4, 5),\n",
       " (1, 2, 4, 6),\n",
       " (1, 2, 5, 6),\n",
       " (1, 3, 4, 5),\n",
       " (1, 3, 4, 6),\n",
       " (1, 3, 5, 6),\n",
       " (1, 4, 5, 6),\n",
       " (2, 3, 4, 5),\n",
       " (2, 3, 4, 6),\n",
       " (2, 3, 5, 6),\n",
       " (2, 4, 5, 6),\n",
       " (3, 4, 5, 6),\n",
       " (0, 1, 2, 3, 4),\n",
       " (0, 1, 2, 3, 5),\n",
       " (0, 1, 2, 3, 6),\n",
       " (0, 1, 2, 4, 5),\n",
       " (0, 1, 2, 4, 6),\n",
       " (0, 1, 2, 5, 6),\n",
       " (0, 1, 3, 4, 5),\n",
       " (0, 1, 3, 4, 6),\n",
       " (0, 1, 3, 5, 6),\n",
       " (0, 1, 4, 5, 6),\n",
       " (0, 2, 3, 4, 5),\n",
       " (0, 2, 3, 4, 6),\n",
       " (0, 2, 3, 5, 6),\n",
       " (0, 2, 4, 5, 6),\n",
       " (0, 3, 4, 5, 6),\n",
       " (1, 2, 3, 4, 5),\n",
       " (1, 2, 3, 4, 6),\n",
       " (1, 2, 3, 5, 6),\n",
       " (1, 2, 4, 5, 6),\n",
       " (1, 3, 4, 5, 6),\n",
       " (2, 3, 4, 5, 6),\n",
       " (0, 1, 2, 3, 4, 5),\n",
       " (0, 1, 2, 3, 4, 6),\n",
       " (0, 1, 2, 3, 5, 6),\n",
       " (0, 1, 2, 4, 5, 6),\n",
       " (0, 1, 3, 4, 5, 6),\n",
       " (0, 2, 3, 4, 5, 6),\n",
       " (1, 2, 3, 4, 5, 6),\n",
       " (0, 1, 2, 3, 4, 5, 6)]"
      ]
     },
     "execution_count": 114,
     "metadata": {},
     "output_type": "execute_result"
    }
   ],
   "source": [
    "q"
   ]
  },
  {
   "cell_type": "code",
   "execution_count": 111,
   "metadata": {},
   "outputs": [
    {
     "data": {
      "text/plain": [
       "2"
      ]
     },
     "execution_count": 111,
     "metadata": {},
     "output_type": "execute_result"
    }
   ],
   "source": [
    "q[1][0]"
   ]
  },
  {
   "cell_type": "code",
   "execution_count": 112,
   "metadata": {},
   "outputs": [
    {
     "data": {
      "text/plain": [
       "1"
      ]
     },
     "execution_count": 112,
     "metadata": {},
     "output_type": "execute_result"
    }
   ],
   "source": [
    "len(q[1])"
   ]
  },
  {
   "cell_type": "markdown",
   "metadata": {},
   "source": [
    "# Integer Programming Assign Blocks - Non-spatial"
   ]
  },
  {
   "cell_type": "code",
   "execution_count": null,
   "metadata": {},
   "outputs": [],
   "source": [
    "m = gp.Model(\"ratio_optimization\")\n",
    "\n",
    "m.Params.MIPGap = 0.0001  \n",
    "#m.setParam('OptimalityTol', 10**-9)\n",
    "# m.setParam('FeasibilityTol', 10**-9)\n",
    "\n",
    "#m.Params.OutputFlag = 0\n",
    "m.Params.TimeLimit = 400\n",
    "\n",
    "#Variables\n",
    "\n",
    "#Variables\n",
    "x = {i : {k : m.addVar(vtype = GRB.BINARY)  for k in D}  for i in V}\n",
    "    \n",
    "pop = m.addVars(D, name = 'pop')\n",
    "bvap = m.addVars(D, name = 'bvap')\n",
    "vap = m.addVars(D, name = 'vap')\n",
    "\n",
    "## variables for modeling the objective function\n",
    "cdf = {k : m.addVar(lb = 0, ub = 1, name = f\"cdf{k}\")   for k in D} # r = cdf(8.26 q - 3.271)\n",
    "delta = {k : {l : m.addVar(vtype = GRB.BINARY)  for l in range(PWL_PARTS+1)}  for k in D}\n",
    "\n",
    "#Objective\n",
    "m.setObjective( sum(cdf[j] for j in range(num_districts)), GRB.MAXIMIZE)\n",
    "\n",
    "\n",
    "m.addConstrs(   bvap[k]  <=  vap[k]*RATIO_bounds['RATIO_upper_bd'][k]         for k in D     ) \n",
    "m.addConstrs(   bvap[k]  >=  vap[k]*RATIO_bounds['RATIO_lower_bd'][k]         for k in D    ) \n",
    "\n",
    "m.addConstrs(   bvap[k]  >=  bvap_bounds['BVAP_lower_bd'][0]         for k in D    ) \n",
    "m.addConstrs(   bvap[k]  <=  bvap_bounds['BVAP_upper_bd'][num_districts-1]          for k in D    ) \n",
    "\n",
    "m.addConstrs(   vap[k]  >=  vap_bounds['VAP_lower_bd'][0]         for k in D    ) \n",
    "m.addConstrs(   vap[k]  <=  vap_bounds['VAP_upper_bd'][num_districts-1]          for k in D    ) \n",
    "\n",
    "\n",
    "\n",
    "m.addConstrs(   sum(bvap[k] for k in combo)  >=  sum(bvap_bounds['BVAP_lower_bd'][k] for k in range(len(combo)))    for    combo in combos    ) \n",
    "m.addConstrs(   sum(bvap[k] for k in combo)  <=  sum((bvap_bounds['BVAP_upper_bd'][::-1])[k] for k in range(len(combo)))  for      combo in combos    ) \n",
    "\n",
    "m.addConstrs(   sum(vap[k] for k in combo)  >=  sum(vap_bounds['VAP_lower_bd'][k] for k in range(len(combo)))   for     combo in combos    ) \n",
    "m.addConstrs(   sum(vap[k] for k in combo)  <=  sum((vap_bounds['VAP_upper_bd'][::-1])[k] for k in range(len(combo)))     for   combo in combos    ) \n",
    "\n",
    "\n",
    "#Constraints\n",
    "#     m.addConstrs(   pop[k]    >=  (1-t)*POP_AVG           for k in D     ) # Population\n",
    "#     m.addConstrs(   pop[k]    <=  (1+t)*POP_AVG           for k in D     ) # Population\n",
    "\n",
    "\n",
    "#     m.addConstr(   sum(pop[k] for k in D)   ==  sum(POP)    ) # Population\n",
    "m.addConstr(   sum(bvap[k] for k in D)   ==  sum(BVAP)    ) # Population\n",
    "m.addConstr(   sum(vap[k] for k in D)   ==  sum(VAP)    ) # Population\n",
    "\n",
    "\n",
    "#     m.addConstrs(   sum(x[i][k]  for k in D)   ==  1      for i in V     ) # Assign to exactly 1 district\n",
    "\n",
    "#     m.addConstrs(   sum(BVAP[i]*x[i][k]    for i in V)                ==  bvap[k] for k in D  )\n",
    "#     m.addConstrs(   sum(VAP[i]*x[i][k]    for i in V)                 ==  vap[k] for k in D  )\n",
    "#     m.addConstrs(   sum(POP[i]*x[i][k]    for i in V)                 ==  pop[k] for k in D  )\n",
    "\n",
    "\n",
    "\n",
    "## Decide value of cdf[j]\n",
    "## We focus on the fact that the cdf is an increasing function\n",
    "## We model  \"if ratio <= RATIO_BREAKPOINT, then cdf <= CDF_VALUE@RATIO_BREAKPOINT\"\n",
    "## For this, we use an indicator variable \\delta, where \\delta = 1 means ratio <= RATIO_BREAKPOINT\n",
    "\n",
    "### if bvap/vap <= ratio, then delta = 1\n",
    "### --->  if bvap - ratio*vap <= 0, then delta = 1\n",
    "### --->  if ratio*vap - bvap > 0, then delta = 1\n",
    "### --->  ratio*vap - bvap <= M*delta\n",
    "m.addConstrs(( RATIO_BREAKPOINTS[l]*vap[j] - bvap[j] <=  VAP_TOTAL*delta[j][l] for j in D  for l in range(PWL_PARTS+1)  ), name=\"breakpoint_bound\")\n",
    "\n",
    "### if delta = 1, then cdf_j <= CDF_VALUE: (note: 1 acts as the big M here)\n",
    "m.addConstrs(( cdf[j] <= CDF_VALUES[l] + (1-delta[j][l])   for j in D  for l in range(PWL_PARTS+1)  ), name=\"cdf_bound\")\n",
    "\n",
    "### delta variables are ordered (i.e., if ratio[j] <= RATIO_BREAKPOINT[l], then ratio[j] <= RATIO_BREAKPOINT[l+1])\n",
    "### thus, if \\delta[l] = 1, then \\delta[l+1] = 1\n",
    "m.addConstrs(( delta[j][l] <= delta[j][l+1]  for j in D  for l in range(PWL_PARTS)  ), name=\"cdf_bound\")\n",
    "\n",
    "\n",
    "\n",
    "\n",
    "m.addConstrs(   sum(BVAP[i]*x[i][k]    for i in V)                ==  bvap[k] for k in D  )\n",
    "m.addConstrs(   sum(VAP[i]*x[i][k]    for i in V)                 ==  vap[k] for k in D  )\n",
    "m.addConstrs(   sum(POP[i]*x[i][k]    for i in V)                 ==  pop[k] for k in D  )\n",
    "\n",
    "#Compile and solve\n",
    "m.update()\n",
    "#print(\"\\n **Model Compiled** \\n\")\n",
    "m.optimize()"
   ]
  },
  {
   "cell_type": "code",
   "execution_count": null,
   "metadata": {},
   "outputs": [],
   "source": []
  },
  {
   "cell_type": "code",
   "execution_count": null,
   "metadata": {},
   "outputs": [],
   "source": []
  },
  {
   "cell_type": "code",
   "execution_count": null,
   "metadata": {},
   "outputs": [],
   "source": []
  }
 ],
 "metadata": {
  "kernelspec": {
   "display_name": "Python 3",
   "language": "python",
   "name": "python3"
  },
  "language_info": {
   "codemirror_mode": {
    "name": "ipython",
    "version": 3
   },
   "file_extension": ".py",
   "mimetype": "text/x-python",
   "name": "python",
   "nbconvert_exporter": "python",
   "pygments_lexer": "ipython3",
   "version": "3.8.5"
  }
 },
 "nbformat": 4,
 "nbformat_minor": 4
}
