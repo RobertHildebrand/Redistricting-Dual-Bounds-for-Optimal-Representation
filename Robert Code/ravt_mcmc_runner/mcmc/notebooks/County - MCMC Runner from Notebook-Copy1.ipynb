{
 "cells": [
  {
   "cell_type": "markdown",
   "metadata": {},
   "source": [
    "# County Redistricting Optimization\n",
    "This code is setup to compute maps for Georgia at the Block Group Level\n",
    "\n",
    "Individual cells can be run by hitting shift + enter, or by clicking \"Run\" a the top.\n",
    "\n",
    "The main cells that need to be run are the \n",
    "- Import lots of functions\n",
    "- Input settings\n",
    "\n",
    "Then you can run your choice of optimizing on a single objective, or varying the weights\n",
    "\n",
    "Later you can choose to plot one of the solutions.\n",
    "\n",
    "Lastly, we create a plot BVAP/Polsby-Popper for solutions that have been created.\n",
    "\n"
   ]
  },
  {
   "cell_type": "markdown",
   "metadata": {},
   "source": [
    "## Import lots of functions - Run this cell first!!"
   ]
  },
  {
   "cell_type": "code",
   "execution_count": 1,
   "metadata": {},
   "outputs": [
    {
     "ename": "ModuleNotFoundError",
     "evalue": "No module named 'mcmc_runner'",
     "output_type": "error",
     "traceback": [
      "\u001b[1;31m---------------------------------------------------------------------------\u001b[0m",
      "\u001b[1;31mModuleNotFoundError\u001b[0m                       Traceback (most recent call last)",
      "\u001b[1;32m<ipython-input-1-0f89cb6e008d>\u001b[0m in \u001b[0;36m<module>\u001b[1;34m\u001b[0m\n\u001b[1;32m----> 1\u001b[1;33m \u001b[1;32mfrom\u001b[0m \u001b[0mmcmc_runner\u001b[0m \u001b[1;32mimport\u001b[0m \u001b[1;33m*\u001b[0m\u001b[1;33m\u001b[0m\u001b[1;33m\u001b[0m\u001b[0m\n\u001b[0m\u001b[0;32m      2\u001b[0m \u001b[1;32mfrom\u001b[0m \u001b[0macceptance_functions\u001b[0m \u001b[1;32mimport\u001b[0m \u001b[1;33m*\u001b[0m\u001b[1;33m\u001b[0m\u001b[1;33m\u001b[0m\u001b[0m\n\u001b[0;32m      3\u001b[0m \u001b[1;32mfrom\u001b[0m \u001b[0margparse\u001b[0m \u001b[1;32mimport\u001b[0m \u001b[0mNamespace\u001b[0m\u001b[1;33m\u001b[0m\u001b[1;33m\u001b[0m\u001b[0m\n",
      "\u001b[1;31mModuleNotFoundError\u001b[0m: No module named 'mcmc_runner'"
     ]
    }
   ],
   "source": [
    "from mcmc_runner import *\n",
    "from acceptance_functions import *\n",
    "from argparse import Namespace"
   ]
  },
  {
   "cell_type": "markdown",
   "metadata": {},
   "source": [
    "## Create json file from shapefile\n",
    "This should only need to be run once per dataset.\n",
    "Ideally, these are already prepared and this never needs to be run.\n",
    "\n"
   ]
  },
  {
   "cell_type": "code",
   "execution_count": 2,
   "metadata": {},
   "outputs": [],
   "source": [
    "### These lines are commented since this should not need to be run. \n",
    "### Only run if shapefile has not yet been parsed into a json.\n",
    "\n",
    "#filename = 'sample_data/tl_2010_13_bg10/tl_2010_13_bg10.shp'\n",
    "#parse_shapefile(filename, no_json=True)"
   ]
  },
  {
   "cell_type": "markdown",
   "metadata": {},
   "source": [
    "## Input settings - Run this cell!"
   ]
  },
  {
   "cell_type": "code",
   "execution_count": 2,
   "metadata": {
    "button": false,
    "new_sheet": false,
    "run_control": {
     "read_only": false
    }
   },
   "outputs": [],
   "source": [
    "args = Namespace(accept='mixed_objective_redefined_later', \n",
    "                 config_file='example_settings.ini', \n",
    "                 data=['sample_data/ga_bg_demographcs.csv GEOID VAP VAP', \n",
    "                       'sample_data/ga_bg_demographcs.csv GEOID BVAP BVAP',\n",
    "                      'sample_data/ga_bg_demographcs.csv GEOID POP POP10'], \n",
    "                 districts=14, \n",
    "                 geometry='sample_data/ga_tl_2010_13_bg10.json', \n",
    "                 #geometry = 'sample_data/tl_2010_13_bg10/tl_2010_13_bg10.shp',  # Prefer not to use .shp here.\n",
    "                 input_districts=None, \n",
    "                 no_json=False, \n",
    "                 number_of_runs=3, #25\n",
    "                 outfolder='outputs/GA', \n",
    "                 partition='semi_random_split', \n",
    "                 population_tolerance=0.01, \n",
    "                 prefix='GA_bg_', \n",
    "                 start=3, \n",
    "                 steps=10,  #25000\n",
    "                 summary_file='outputs/GA/GA_summary.csv')"
   ]
  },
  {
   "cell_type": "markdown",
   "metadata": {},
   "source": [
    "# Run the code"
   ]
  },
  {
   "cell_type": "markdown",
   "metadata": {},
   "source": [
    "### Option \\#1:  Run the code for a single acceptance function\n",
    "Here you can define the weighting of the acceptance function that you prefer and run the code on that."
   ]
  },
  {
   "cell_type": "code",
   "execution_count": 3,
   "metadata": {},
   "outputs": [
    {
     "name": "stdout",
     "output_type": "stream",
     "text": [
      "Starting run 003\n",
      "Creating initial partition\n",
      "Partitioning took 6.970088958740234 seconds\n",
      "Mean PP: 0.14045502318628802\n",
      "Starting run 004\n",
      "Creating initial partition\n",
      "Partitioning took 7.667466163635254 seconds\n",
      "Mean PP: 0.1556235639839068\n",
      "Starting run 005\n",
      "Creating initial partition\n",
      "Partitioning took 6.161441087722778 seconds\n",
      "Mean PP: 0.15596393682848544\n",
      "Skipped runs: \n"
     ]
    }
   ],
   "source": [
    "# Inputs: Define your choice of acceptance function by choosing bvap_weight and polyby_popper weight\n",
    "\n",
    "#############\n",
    "## Inputs  ##\n",
    "#############\n",
    "\n",
    "bvap_weight = 1\n",
    "pp_weight = 1\n",
    "\n",
    "####################\n",
    "## Code that runs ###\n",
    "####################\n",
    "\n",
    "fixed_prefix = args.prefix\n",
    "def acceptance(partition):\n",
    "        return bvap_pp_weights(partition,bvap_weight,pp_weight)\n",
    "    \n",
    "args.accept = f\"bvap{bvap_weight}_pp{pp_weight}\"\n",
    "args.prefix = fixed_prefix+ f\"bvap{bvap_weight}_pp{pp_weight}\" \n",
    "\n",
    "\n",
    "# Runs the code    \n",
    "run_the_code(args, acceptance)\n",
    "\n",
    "# Restores the original prefix\n",
    "args.prefix = fixed_prefix"
   ]
  },
  {
   "cell_type": "markdown",
   "metadata": {},
   "source": [
    "### Option \\#2: Analyze the runs of the code\n",
    "This code will create a plot tracking the improvement over the number of steps of the algorithm"
   ]
  },
  {
   "cell_type": "code",
   "execution_count": 4,
   "metadata": {},
   "outputs": [
    {
     "name": "stdout",
     "output_type": "stream",
     "text": [
      "Starting run 003\n",
      "Creating initial partition\n",
      "Partitioning took 5.141613006591797 seconds\n",
      "Mean PP: 0.16901347664145808\n"
     ]
    },
    {
     "data": {
      "image/png": "[encoded data removed]",
      "text/plain": [
       "<Figure size 432x288 with 1 Axes>"
      ]
     },
     "metadata": {
      "needs_background": "light"
     },
     "output_type": "display_data"
    },
    {
     "name": "stdout",
     "output_type": "stream",
     "text": [
      "Starting run 004\n",
      "Creating initial partition\n",
      "Partitioning took 5.961106777191162 seconds\n",
      "Mean PP: 0.15035504852029005\n"
     ]
    },
    {
     "data": {
      "image/png": "[encoded data removed]",
      "text/plain": [
       "<Figure size 432x288 with 1 Axes>"
      ]
     },
     "metadata": {
      "needs_background": "light"
     },
     "output_type": "display_data"
    },
    {
     "name": "stdout",
     "output_type": "stream",
     "text": [
      "Starting run 005\n",
      "Creating initial partition\n",
      "Partitioning took 7.228456020355225 seconds\n",
      "Mean PP: 0.1562243856833003\n"
     ]
    },
    {
     "data": {
      "image/png": "[encoded data removed]",
      "text/plain": [
       "<Figure size 432x288 with 1 Axes>"
      ]
     },
     "metadata": {
      "needs_background": "light"
     },
     "output_type": "display_data"
    },
    {
     "name": "stdout",
     "output_type": "stream",
     "text": [
      "Skipped runs: \n"
     ]
    }
   ],
   "source": [
    "# Inputs: Define your choice of acceptance function by choosing bvap_weight and polyby_popper weight\n",
    "\n",
    "#############\n",
    "## Inputs  ##\n",
    "#############\n",
    "\n",
    "bvap_weight = 1\n",
    "pp_weight = 1\n",
    "\n",
    "####################\n",
    "## Code that runs ###\n",
    "####################\n",
    "\n",
    "\n",
    "\n",
    "# Store the prefix\n",
    "fixed_prefix = args.prefix\n",
    "\n",
    "# Create an objective function\n",
    "def objective(partition):\n",
    "    return bvap_weight*helper_methods.calculate_black_reps(partition)+ pp_weight*helper_methods.calculate_compactness(partition)\n",
    "\n",
    "# Accept moves if the objective improves\n",
    "def acceptance(partition):\n",
    "        return objective(partition) >= objective(partition.parent)\n",
    "    \n",
    "# Change the name of the accepatnce function in the args that will label the output file\n",
    "args.accept = f\"bvap{bvap_weight}_pp{pp_weight}\"\n",
    "args.prefix = fixed_prefix+ f\"bvap{bvap_weight}_pp{pp_weight}_track_improvement\"    \n",
    "    \n",
    "    \n",
    "# Runs the code    \n",
    "obj_values = run_the_code_with_objective(args, acceptance, objective)\n",
    "args.prefix = fixed_prefix\n"
   ]
  },
  {
   "cell_type": "markdown",
   "metadata": {},
   "source": [
    "### Option \\#3: Run code on list of weights\n",
    "\n",
    "Gicen the list of weight combinations, it will run the code on each set of weights."
   ]
  },
  {
   "cell_type": "code",
   "execution_count": 12,
   "metadata": {},
   "outputs": [
    {
     "name": "stdout",
     "output_type": "stream",
     "text": [
      "Starting run 000\n",
      "Creating initial partition\n",
      "Partitioning took 4.905228853225708 seconds\n",
      "Mean PP: 0.1486594147181107\n",
      "Starting run 001\n",
      "Creating initial partition\n",
      "Partitioning took 6.990086793899536 seconds\n",
      "Mean PP: 0.17361582698080097\n",
      "Skipped runs: \n",
      "Starting run 000\n",
      "Creating initial partition\n",
      "Partitioning took 9.37512993812561 seconds\n",
      "Mean PP: 0.15918880330365284\n",
      "Starting run 001\n",
      "Creating initial partition\n",
      "Partitioning took 7.285769939422607 seconds\n",
      "Mean PP: 0.15216815587448027\n",
      "Skipped runs: \n",
      "Starting run 000\n",
      "Creating initial partition\n",
      "Partitioning took 8.310334920883179 seconds\n",
      "Mean PP: 0.15597836209451868\n",
      "Starting run 001\n",
      "Creating initial partition\n",
      "Partitioning took 7.229106903076172 seconds\n",
      "Mean PP: 0.1647792963400887\n",
      "Skipped runs: \n",
      "Starting run 000\n",
      "Creating initial partition\n",
      "Partitioning took 6.135644912719727 seconds\n",
      "Mean PP: 0.1767300436059139\n",
      "Starting run 001\n",
      "Creating initial partition\n",
      "Partitioning took 5.970034122467041 seconds\n",
      "Mean PP: 0.17840147100320133\n",
      "Skipped runs: \n",
      "Starting run 000\n",
      "Creating initial partition\n",
      "Partitioning took 7.0436179637908936 seconds\n",
      "Mean PP: 0.18273658551198474\n",
      "Starting run 001\n",
      "Creating initial partition\n",
      "Partitioning took 7.1612389087677 seconds\n",
      "Mean PP: 0.14073035237793718\n",
      "Skipped runs: \n"
     ]
    }
   ],
   "source": [
    "## Inputs:\n",
    "weights = [[0,1],[1,0],[.75,.25],[.25,.75],[1,1]]\n",
    "\n",
    "## Code\n",
    "\n",
    "fixed_prefix = args.prefix\n",
    "for [bvap_weight,pp_weight] in weights:\n",
    "    \n",
    "    # Relabel thenames of the acceptanc function and the prefix \n",
    "    # These are just used to store the solution in data files\n",
    "    args.accept = f\"bvap{bvap_weight}_pp{pp_weight}\"\n",
    "    args.prefix = fixed_prefix+f\"bvap{bvap_weight}_pp{pp_weight}\"\n",
    "    \n",
    "    if bvap_weight == 0:\n",
    "        # only has a compactness objctive\n",
    "        def acceptance(partition):\n",
    "            return compactness(partition)\n",
    "        \n",
    "    elif pp_weight == 0:\n",
    "        # only has a bvap objective\n",
    "        def acceptance(partition):\n",
    "            return black_representatives(partition)\n",
    "    else :    \n",
    "        # Define/Redefine the acceptance function as weighted objective\n",
    "        def acceptance(partition):\n",
    "            return bvap_pp_weights(partition,bvap_weight,pp_weight)\n",
    "\n",
    "    run_the_code(args, acceptance)"
   ]
  },
  {
   "cell_type": "markdown",
   "metadata": {},
   "source": [
    "## Plotting a map\n",
    "\n",
    "You can use the following cell to plot a map. \n",
    "\n",
    "Inputs:  \n",
    "- shape_file: this is the path to the shapefile that you want to plot\n",
    "- csv_file: this is the solution that you want to plot\n",
    "- fig_out_filename: this will save the plot to this location.  You can save a many different filetypes (eg. png, jpeg, pdf)\n"
   ]
  },
  {
   "cell_type": "code",
   "execution_count": 2,
   "metadata": {},
   "outputs": [
    {
     "data": {
      "image/png": "[encoded data removed]",
      "text/plain": [
       "<Figure size 576x576 with 1 Axes>"
      ]
     },
     "metadata": {
      "needs_background": "light"
     },
     "output_type": "display_data"
    }
   ],
   "source": [
    "from plot_map import *\n",
    "\n",
    "args_plot = Namespace(shape_file = 'sample_data/tl_2010_13_bg10/tl_2010_13_bg10.shp',\n",
    "                      csv_file = 'outputs/GA/block_group_bvap1_pp1_0.01k_00.csv',\n",
    "                      fig_out_type = 'pdf')\n",
    "\n",
    "plot_map_basic(args_plot)\n"
   ]
  },
  {
   "cell_type": "markdown",
   "metadata": {},
   "source": [
    "## Plot map with calculations  (Under construction!!!)\n",
    "\n",
    "Warning!  This is under construction!!\n",
    "\n",
    "To do:\n",
    "- create output .json file from mcmc runner that records data for each district\n",
    "- link .json file to the plot data and plot it. \n",
    "- Add a title to the plot as well"
   ]
  },
  {
   "cell_type": "code",
   "execution_count": 3,
   "metadata": {},
   "outputs": [
    {
     "data": {
      "image/png": "[encoded data removed]",
      "text/plain": [
       "<Figure size 576x576 with 1 Axes>"
      ]
     },
     "metadata": {
      "needs_background": "light"
     },
     "output_type": "display_data"
    }
   ],
   "source": [
    "from plot_map import *\n",
    "\n",
    "args_plot = Namespace(shape_file = 'sample_data/tl_2010_13_bg10/tl_2010_13_bg10.shp',\n",
    "                      csv_file = 'outputs/GA/block_group_bvap1_pp1_0.01k_00.csv',\n",
    "                      fig_out_type = 'pdf')\n",
    "\n",
    "plot_map_data(args_plot)"
   ]
  },
  {
   "cell_type": "markdown",
   "metadata": {},
   "source": [
    "# Creating Pareto Curve Plot\n",
    "This function takes in data from the summary csv and plots it in a scatter plot.  Each data point can be clicked to see what the values are for that solution.\n",
    "\n"
   ]
  },
  {
   "cell_type": "code",
   "execution_count": 30,
   "metadata": {},
   "outputs": [
    {
     "ename": "KeyError",
     "evalue": "'black_reps'",
     "output_type": "error",
     "traceback": [
      "\u001b[0;31m---------------------------------------------------------------------------\u001b[0m",
      "\u001b[0;31mKeyError\u001b[0m                                  Traceback (most recent call last)",
      "\u001b[0;32m/opt/anaconda3/lib/python3.8/site-packages/pandas/core/indexes/base.py\u001b[0m in \u001b[0;36mget_loc\u001b[0;34m(self, key, method, tolerance)\u001b[0m\n\u001b[1;32m   2645\u001b[0m             \u001b[0;32mtry\u001b[0m\u001b[0;34m:\u001b[0m\u001b[0;34m\u001b[0m\u001b[0;34m\u001b[0m\u001b[0m\n\u001b[0;32m-> 2646\u001b[0;31m                 \u001b[0;32mreturn\u001b[0m \u001b[0mself\u001b[0m\u001b[0;34m.\u001b[0m\u001b[0m_engine\u001b[0m\u001b[0;34m.\u001b[0m\u001b[0mget_loc\u001b[0m\u001b[0;34m(\u001b[0m\u001b[0mkey\u001b[0m\u001b[0;34m)\u001b[0m\u001b[0;34m\u001b[0m\u001b[0;34m\u001b[0m\u001b[0m\n\u001b[0m\u001b[1;32m   2647\u001b[0m             \u001b[0;32mexcept\u001b[0m \u001b[0mKeyError\u001b[0m\u001b[0;34m:\u001b[0m\u001b[0;34m\u001b[0m\u001b[0;34m\u001b[0m\u001b[0m\n",
      "\u001b[0;32mpandas/_libs/index.pyx\u001b[0m in \u001b[0;36mpandas._libs.index.IndexEngine.get_loc\u001b[0;34m()\u001b[0m\n",
      "\u001b[0;32mpandas/_libs/index.pyx\u001b[0m in \u001b[0;36mpandas._libs.index.IndexEngine.get_loc\u001b[0;34m()\u001b[0m\n",
      "\u001b[0;32mpandas/_libs/hashtable_class_helper.pxi\u001b[0m in \u001b[0;36mpandas._libs.hashtable.PyObjectHashTable.get_item\u001b[0;34m()\u001b[0m\n",
      "\u001b[0;32mpandas/_libs/hashtable_class_helper.pxi\u001b[0m in \u001b[0;36mpandas._libs.hashtable.PyObjectHashTable.get_item\u001b[0;34m()\u001b[0m\n",
      "\u001b[0;31mKeyError\u001b[0m: 'black_reps'",
      "\nDuring handling of the above exception, another exception occurred:\n",
      "\u001b[0;31mKeyError\u001b[0m                                  Traceback (most recent call last)",
      "\u001b[0;32m<ipython-input-30-d5a53da3b060>\u001b[0m in \u001b[0;36m<module>\u001b[0;34m\u001b[0m\n\u001b[1;32m      4\u001b[0m \u001b[0;34m\u001b[0m\u001b[0m\n\u001b[1;32m      5\u001b[0m \u001b[0;32mimport\u001b[0m \u001b[0mcomparison_plotting\u001b[0m \u001b[0;32mas\u001b[0m \u001b[0mcp\u001b[0m\u001b[0;34m\u001b[0m\u001b[0;34m\u001b[0m\u001b[0m\n\u001b[0;32m----> 6\u001b[0;31m \u001b[0mdf_summary\u001b[0m \u001b[0;34m=\u001b[0m \u001b[0mcp\u001b[0m\u001b[0;34m.\u001b[0m\u001b[0mcomparison_plot_bvap_pp\u001b[0m\u001b[0;34m(\u001b[0m\u001b[0msummary_file\u001b[0m\u001b[0;34m,\u001b[0m \u001b[0mstate_code\u001b[0m\u001b[0;34m,\u001b[0m \u001b[0mblock_level\u001b[0m\u001b[0;34m)\u001b[0m\u001b[0;34m\u001b[0m\u001b[0;34m\u001b[0m\u001b[0m\n\u001b[0m\u001b[1;32m      7\u001b[0m \u001b[0;34m\u001b[0m\u001b[0m\n\u001b[1;32m      8\u001b[0m \u001b[0mdf_summary\u001b[0m\u001b[0;34m\u001b[0m\u001b[0;34m\u001b[0m\u001b[0m\n",
      "\u001b[0;32m~/Documents/GitHub/ravt_mcmc_runner/comparison_plotting.py\u001b[0m in \u001b[0;36mcomparison_plot_bvap_pp\u001b[0;34m(summary_file, state_code, block_level)\u001b[0m\n\u001b[1;32m     11\u001b[0m \u001b[0;34m\u001b[0m\u001b[0m\n\u001b[1;32m     12\u001b[0m     \u001b[0;31m#bvap_avg = list(df_summary['mean_BVAP'])\u001b[0m\u001b[0;34m\u001b[0m\u001b[0;34m\u001b[0m\u001b[0;34m\u001b[0m\u001b[0m\n\u001b[0;32m---> 13\u001b[0;31m     \u001b[0mblack_reps\u001b[0m \u001b[0;34m=\u001b[0m \u001b[0mlist\u001b[0m\u001b[0;34m(\u001b[0m\u001b[0mdf_summary\u001b[0m\u001b[0;34m[\u001b[0m\u001b[0;34m'black_reps'\u001b[0m\u001b[0;34m]\u001b[0m\u001b[0;34m)\u001b[0m\u001b[0;34m\u001b[0m\u001b[0;34m\u001b[0m\u001b[0m\n\u001b[0m\u001b[1;32m     14\u001b[0m     \u001b[0mcompact_avg\u001b[0m \u001b[0;34m=\u001b[0m \u001b[0mlist\u001b[0m\u001b[0;34m(\u001b[0m\u001b[0mdf_summary\u001b[0m\u001b[0;34m[\u001b[0m\u001b[0;34m'polsby_popper'\u001b[0m\u001b[0;34m]\u001b[0m\u001b[0;34m)\u001b[0m\u001b[0;34m\u001b[0m\u001b[0;34m\u001b[0m\u001b[0m\n\u001b[1;32m     15\u001b[0m \u001b[0;34m\u001b[0m\u001b[0m\n",
      "\u001b[0;32m/opt/anaconda3/lib/python3.8/site-packages/pandas/core/frame.py\u001b[0m in \u001b[0;36m__getitem__\u001b[0;34m(self, key)\u001b[0m\n\u001b[1;32m   2798\u001b[0m             \u001b[0;32mif\u001b[0m \u001b[0mself\u001b[0m\u001b[0;34m.\u001b[0m\u001b[0mcolumns\u001b[0m\u001b[0;34m.\u001b[0m\u001b[0mnlevels\u001b[0m \u001b[0;34m>\u001b[0m \u001b[0;36m1\u001b[0m\u001b[0;34m:\u001b[0m\u001b[0;34m\u001b[0m\u001b[0;34m\u001b[0m\u001b[0m\n\u001b[1;32m   2799\u001b[0m                 \u001b[0;32mreturn\u001b[0m \u001b[0mself\u001b[0m\u001b[0;34m.\u001b[0m\u001b[0m_getitem_multilevel\u001b[0m\u001b[0;34m(\u001b[0m\u001b[0mkey\u001b[0m\u001b[0;34m)\u001b[0m\u001b[0;34m\u001b[0m\u001b[0;34m\u001b[0m\u001b[0m\n\u001b[0;32m-> 2800\u001b[0;31m             \u001b[0mindexer\u001b[0m \u001b[0;34m=\u001b[0m \u001b[0mself\u001b[0m\u001b[0;34m.\u001b[0m\u001b[0mcolumns\u001b[0m\u001b[0;34m.\u001b[0m\u001b[0mget_loc\u001b[0m\u001b[0;34m(\u001b[0m\u001b[0mkey\u001b[0m\u001b[0;34m)\u001b[0m\u001b[0;34m\u001b[0m\u001b[0;34m\u001b[0m\u001b[0m\n\u001b[0m\u001b[1;32m   2801\u001b[0m             \u001b[0;32mif\u001b[0m \u001b[0mis_integer\u001b[0m\u001b[0;34m(\u001b[0m\u001b[0mindexer\u001b[0m\u001b[0;34m)\u001b[0m\u001b[0;34m:\u001b[0m\u001b[0;34m\u001b[0m\u001b[0;34m\u001b[0m\u001b[0m\n\u001b[1;32m   2802\u001b[0m                 \u001b[0mindexer\u001b[0m \u001b[0;34m=\u001b[0m \u001b[0;34m[\u001b[0m\u001b[0mindexer\u001b[0m\u001b[0;34m]\u001b[0m\u001b[0;34m\u001b[0m\u001b[0;34m\u001b[0m\u001b[0m\n",
      "\u001b[0;32m/opt/anaconda3/lib/python3.8/site-packages/pandas/core/indexes/base.py\u001b[0m in \u001b[0;36mget_loc\u001b[0;34m(self, key, method, tolerance)\u001b[0m\n\u001b[1;32m   2646\u001b[0m                 \u001b[0;32mreturn\u001b[0m \u001b[0mself\u001b[0m\u001b[0;34m.\u001b[0m\u001b[0m_engine\u001b[0m\u001b[0;34m.\u001b[0m\u001b[0mget_loc\u001b[0m\u001b[0;34m(\u001b[0m\u001b[0mkey\u001b[0m\u001b[0;34m)\u001b[0m\u001b[0;34m\u001b[0m\u001b[0;34m\u001b[0m\u001b[0m\n\u001b[1;32m   2647\u001b[0m             \u001b[0;32mexcept\u001b[0m \u001b[0mKeyError\u001b[0m\u001b[0;34m:\u001b[0m\u001b[0;34m\u001b[0m\u001b[0;34m\u001b[0m\u001b[0m\n\u001b[0;32m-> 2648\u001b[0;31m                 \u001b[0;32mreturn\u001b[0m \u001b[0mself\u001b[0m\u001b[0;34m.\u001b[0m\u001b[0m_engine\u001b[0m\u001b[0;34m.\u001b[0m\u001b[0mget_loc\u001b[0m\u001b[0;34m(\u001b[0m\u001b[0mself\u001b[0m\u001b[0;34m.\u001b[0m\u001b[0m_maybe_cast_indexer\u001b[0m\u001b[0;34m(\u001b[0m\u001b[0mkey\u001b[0m\u001b[0;34m)\u001b[0m\u001b[0;34m)\u001b[0m\u001b[0;34m\u001b[0m\u001b[0;34m\u001b[0m\u001b[0m\n\u001b[0m\u001b[1;32m   2649\u001b[0m         \u001b[0mindexer\u001b[0m \u001b[0;34m=\u001b[0m \u001b[0mself\u001b[0m\u001b[0;34m.\u001b[0m\u001b[0mget_indexer\u001b[0m\u001b[0;34m(\u001b[0m\u001b[0;34m[\u001b[0m\u001b[0mkey\u001b[0m\u001b[0;34m]\u001b[0m\u001b[0;34m,\u001b[0m \u001b[0mmethod\u001b[0m\u001b[0;34m=\u001b[0m\u001b[0mmethod\u001b[0m\u001b[0;34m,\u001b[0m \u001b[0mtolerance\u001b[0m\u001b[0;34m=\u001b[0m\u001b[0mtolerance\u001b[0m\u001b[0;34m)\u001b[0m\u001b[0;34m\u001b[0m\u001b[0;34m\u001b[0m\u001b[0m\n\u001b[1;32m   2650\u001b[0m         \u001b[0;32mif\u001b[0m \u001b[0mindexer\u001b[0m\u001b[0;34m.\u001b[0m\u001b[0mndim\u001b[0m \u001b[0;34m>\u001b[0m \u001b[0;36m1\u001b[0m \u001b[0;32mor\u001b[0m \u001b[0mindexer\u001b[0m\u001b[0;34m.\u001b[0m\u001b[0msize\u001b[0m \u001b[0;34m>\u001b[0m \u001b[0;36m1\u001b[0m\u001b[0;34m:\u001b[0m\u001b[0;34m\u001b[0m\u001b[0;34m\u001b[0m\u001b[0m\n",
      "\u001b[0;32mpandas/_libs/index.pyx\u001b[0m in \u001b[0;36mpandas._libs.index.IndexEngine.get_loc\u001b[0;34m()\u001b[0m\n",
      "\u001b[0;32mpandas/_libs/index.pyx\u001b[0m in \u001b[0;36mpandas._libs.index.IndexEngine.get_loc\u001b[0;34m()\u001b[0m\n",
      "\u001b[0;32mpandas/_libs/hashtable_class_helper.pxi\u001b[0m in \u001b[0;36mpandas._libs.hashtable.PyObjectHashTable.get_item\u001b[0;34m()\u001b[0m\n",
      "\u001b[0;32mpandas/_libs/hashtable_class_helper.pxi\u001b[0m in \u001b[0;36mpandas._libs.hashtable.PyObjectHashTable.get_item\u001b[0;34m()\u001b[0m\n",
      "\u001b[0;31mKeyError\u001b[0m: 'black_reps'"
     ]
    }
   ],
   "source": [
    "\n",
    "\n",
    "state_code = 'GA'\n",
    "block_level = 'Block Group'\n",
    "summary_file = 'outputs/GA/GA_summary.csv'\n",
    "\n",
    "import comparison_plotting as cp\n",
    "df_summary = cp.comparison_plot_bvap_pp(summary_file, state_code, block_level)\n",
    "\n",
    "df_summary"
   ]
  },
  {
   "cell_type": "code",
   "execution_count": 11,
   "metadata": {},
   "outputs": [],
   "source": [
    "## You may need to run one of these two installs to get the plot to create\n",
    "#pip install plotly\n",
    "#conda install plotly"
   ]
  },
  {
   "cell_type": "markdown",
   "metadata": {},
   "source": [
    "#### Todo:\n",
    "- package all of this up into a single function call with the summary file as the argument"
   ]
  },
  {
   "cell_type": "code",
   "execution_count": 13,
   "metadata": {},
   "outputs": [],
   "source": [
    "\n",
    "\n",
    "\n"
   ]
  },
  {
   "cell_type": "code",
   "execution_count": 15,
   "metadata": {},
   "outputs": [
    {
     "data": {
      "text/html": [
       "<div>\n",
       "<style scoped>\n",
       "    .dataframe tbody tr th:only-of-type {\n",
       "        vertical-align: middle;\n",
       "    }\n",
       "\n",
       "    .dataframe tbody tr th {\n",
       "        vertical-align: top;\n",
       "    }\n",
       "\n",
       "    .dataframe thead th {\n",
       "        text-align: right;\n",
       "    }\n",
       "</style>\n",
       "<table border=\"1\" class=\"dataframe\">\n",
       "  <thead>\n",
       "    <tr style=\"text-align: right;\">\n",
       "      <th></th>\n",
       "      <th>outfile_name</th>\n",
       "      <th>acceptance</th>\n",
       "      <th>number_of_districts</th>\n",
       "      <th>pop_tolerance</th>\n",
       "      <th>polsby_popper</th>\n",
       "      <th>mean_BVAP</th>\n",
       "      <th>black_reps</th>\n",
       "    </tr>\n",
       "  </thead>\n",
       "  <tbody>\n",
       "    <tr>\n",
       "      <th>0</th>\n",
       "      <td>block_group_bvap0_pp1_0.01k_00.csv</td>\n",
       "      <td>bvap0_pp1</td>\n",
       "      <td>14</td>\n",
       "      <td>0.01</td>\n",
       "      <td>0.150</td>\n",
       "      <td>0.291</td>\n",
       "      <td>4.30</td>\n",
       "    </tr>\n",
       "    <tr>\n",
       "      <th>1</th>\n",
       "      <td>block_group_bvap0_pp1_0.01k_01.csv</td>\n",
       "      <td>bvap0_pp1</td>\n",
       "      <td>14</td>\n",
       "      <td>0.01</td>\n",
       "      <td>0.155</td>\n",
       "      <td>0.291</td>\n",
       "      <td>4.07</td>\n",
       "    </tr>\n",
       "    <tr>\n",
       "      <th>2</th>\n",
       "      <td>block_group_bvap0_pp1bvap1_pp0_0.01k_00.csv</td>\n",
       "      <td>bvap1_pp0</td>\n",
       "      <td>14</td>\n",
       "      <td>0.01</td>\n",
       "      <td>0.125</td>\n",
       "      <td>0.291</td>\n",
       "      <td>4.03</td>\n",
       "    </tr>\n",
       "    <tr>\n",
       "      <th>3</th>\n",
       "      <td>block_group_bvap0_pp1bvap1_pp0_0.01k_01.csv</td>\n",
       "      <td>bvap1_pp0</td>\n",
       "      <td>14</td>\n",
       "      <td>0.01</td>\n",
       "      <td>0.174</td>\n",
       "      <td>0.291</td>\n",
       "      <td>4.29</td>\n",
       "    </tr>\n",
       "    <tr>\n",
       "      <th>4</th>\n",
       "      <td>block_group_bvap0_pp1bvap1_pp0bvap0.75_pp0.25_...</td>\n",
       "      <td>bvap0.75_pp0.25</td>\n",
       "      <td>14</td>\n",
       "      <td>0.01</td>\n",
       "      <td>0.159</td>\n",
       "      <td>0.291</td>\n",
       "      <td>4.26</td>\n",
       "    </tr>\n",
       "    <tr>\n",
       "      <th>5</th>\n",
       "      <td>block_group_bvap0_pp1bvap1_pp0bvap0.75_pp0.25_...</td>\n",
       "      <td>bvap0.75_pp0.25</td>\n",
       "      <td>14</td>\n",
       "      <td>0.01</td>\n",
       "      <td>0.148</td>\n",
       "      <td>0.291</td>\n",
       "      <td>4.16</td>\n",
       "    </tr>\n",
       "    <tr>\n",
       "      <th>6</th>\n",
       "      <td>block_group_bvap0_pp1bvap1_pp0bvap0.75_pp0.25b...</td>\n",
       "      <td>bvap0.25_pp0.75</td>\n",
       "      <td>14</td>\n",
       "      <td>0.01</td>\n",
       "      <td>0.170</td>\n",
       "      <td>0.292</td>\n",
       "      <td>3.86</td>\n",
       "    </tr>\n",
       "    <tr>\n",
       "      <th>7</th>\n",
       "      <td>block_group_bvap0_pp1bvap1_pp0bvap0.75_pp0.25b...</td>\n",
       "      <td>bvap0.25_pp0.75</td>\n",
       "      <td>14</td>\n",
       "      <td>0.01</td>\n",
       "      <td>0.165</td>\n",
       "      <td>0.292</td>\n",
       "      <td>3.65</td>\n",
       "    </tr>\n",
       "    <tr>\n",
       "      <th>8</th>\n",
       "      <td>block_group_bvap0_pp1bvap1_pp0bvap0.75_pp0.25b...</td>\n",
       "      <td>bvap1_pp1</td>\n",
       "      <td>14</td>\n",
       "      <td>0.01</td>\n",
       "      <td>0.199</td>\n",
       "      <td>0.291</td>\n",
       "      <td>4.20</td>\n",
       "    </tr>\n",
       "    <tr>\n",
       "      <th>9</th>\n",
       "      <td>block_group_bvap0_pp1bvap1_pp0bvap0.75_pp0.25b...</td>\n",
       "      <td>bvap1_pp1</td>\n",
       "      <td>14</td>\n",
       "      <td>0.01</td>\n",
       "      <td>0.174</td>\n",
       "      <td>0.291</td>\n",
       "      <td>4.04</td>\n",
       "    </tr>\n",
       "    <tr>\n",
       "      <th>10</th>\n",
       "      <td>block_group__0.01k_00.csv</td>\n",
       "      <td>mixed_objective_redefined_later</td>\n",
       "      <td>14</td>\n",
       "      <td>0.01</td>\n",
       "      <td>0.198</td>\n",
       "      <td>0.292</td>\n",
       "      <td>4.03</td>\n",
       "    </tr>\n",
       "    <tr>\n",
       "      <th>11</th>\n",
       "      <td>block_group__0.01k_01.csv</td>\n",
       "      <td>mixed_objective_redefined_later</td>\n",
       "      <td>14</td>\n",
       "      <td>0.01</td>\n",
       "      <td>0.142</td>\n",
       "      <td>0.292</td>\n",
       "      <td>4.35</td>\n",
       "    </tr>\n",
       "    <tr>\n",
       "      <th>12</th>\n",
       "      <td>block_group_bvap1_pp1_0.01k_00.csv</td>\n",
       "      <td>mixed_objective_redefined_later</td>\n",
       "      <td>14</td>\n",
       "      <td>0.01</td>\n",
       "      <td>0.155</td>\n",
       "      <td>0.291</td>\n",
       "      <td>4.07</td>\n",
       "    </tr>\n",
       "    <tr>\n",
       "      <th>13</th>\n",
       "      <td>block_group_bvap0_pp1_0.01k_01.csv</td>\n",
       "      <td>bvap0_pp1</td>\n",
       "      <td>14</td>\n",
       "      <td>0.01</td>\n",
       "      <td>0.174</td>\n",
       "      <td>0.290</td>\n",
       "      <td>4.29</td>\n",
       "    </tr>\n",
       "    <tr>\n",
       "      <th>14</th>\n",
       "      <td>block_group_bvap1_pp0_0.01k_00.csv</td>\n",
       "      <td>bvap1_pp0</td>\n",
       "      <td>14</td>\n",
       "      <td>0.01</td>\n",
       "      <td>0.159</td>\n",
       "      <td>0.291</td>\n",
       "      <td>4.01</td>\n",
       "    </tr>\n",
       "    <tr>\n",
       "      <th>15</th>\n",
       "      <td>block_group_bvap1_pp0_0.01k_01.csv</td>\n",
       "      <td>bvap1_pp0</td>\n",
       "      <td>14</td>\n",
       "      <td>0.01</td>\n",
       "      <td>0.152</td>\n",
       "      <td>0.291</td>\n",
       "      <td>4.13</td>\n",
       "    </tr>\n",
       "    <tr>\n",
       "      <th>16</th>\n",
       "      <td>block_group_bvap0.75_pp0.25_0.01k_00.csv</td>\n",
       "      <td>bvap0.75_pp0.25</td>\n",
       "      <td>14</td>\n",
       "      <td>0.01</td>\n",
       "      <td>0.156</td>\n",
       "      <td>0.290</td>\n",
       "      <td>3.75</td>\n",
       "    </tr>\n",
       "    <tr>\n",
       "      <th>17</th>\n",
       "      <td>block_group_bvap0.75_pp0.25_0.01k_01.csv</td>\n",
       "      <td>bvap0.75_pp0.25</td>\n",
       "      <td>14</td>\n",
       "      <td>0.01</td>\n",
       "      <td>0.165</td>\n",
       "      <td>0.291</td>\n",
       "      <td>4.22</td>\n",
       "    </tr>\n",
       "    <tr>\n",
       "      <th>18</th>\n",
       "      <td>block_group_bvap0.25_pp0.75_0.01k_00.csv</td>\n",
       "      <td>bvap0.25_pp0.75</td>\n",
       "      <td>14</td>\n",
       "      <td>0.01</td>\n",
       "      <td>0.177</td>\n",
       "      <td>0.291</td>\n",
       "      <td>4.11</td>\n",
       "    </tr>\n",
       "    <tr>\n",
       "      <th>19</th>\n",
       "      <td>block_group_bvap0.25_pp0.75_0.01k_01.csv</td>\n",
       "      <td>bvap0.25_pp0.75</td>\n",
       "      <td>14</td>\n",
       "      <td>0.01</td>\n",
       "      <td>0.178</td>\n",
       "      <td>0.292</td>\n",
       "      <td>4.28</td>\n",
       "    </tr>\n",
       "    <tr>\n",
       "      <th>20</th>\n",
       "      <td>block_group_bvap1_pp1_0.01k_00.csv</td>\n",
       "      <td>bvap1_pp1</td>\n",
       "      <td>14</td>\n",
       "      <td>0.01</td>\n",
       "      <td>0.183</td>\n",
       "      <td>0.291</td>\n",
       "      <td>4.13</td>\n",
       "    </tr>\n",
       "    <tr>\n",
       "      <th>21</th>\n",
       "      <td>block_group_bvap1_pp1_0.01k_01.csv</td>\n",
       "      <td>bvap1_pp1</td>\n",
       "      <td>14</td>\n",
       "      <td>0.01</td>\n",
       "      <td>0.141</td>\n",
       "      <td>0.291</td>\n",
       "      <td>4.11</td>\n",
       "    </tr>\n",
       "    <tr>\n",
       "      <th>22</th>\n",
       "      <td>block_group__0.01k_00.csv</td>\n",
       "      <td>mixed_objective_redefined_later</td>\n",
       "      <td>14</td>\n",
       "      <td>0.01</td>\n",
       "      <td>0.185</td>\n",
       "      <td>0.292</td>\n",
       "      <td>3.60</td>\n",
       "    </tr>\n",
       "    <tr>\n",
       "      <th>23</th>\n",
       "      <td>block_group__0.01k_00.csv</td>\n",
       "      <td>mixed_objective_redefined_later</td>\n",
       "      <td>14</td>\n",
       "      <td>0.01</td>\n",
       "      <td>0.161</td>\n",
       "      <td>0.291</td>\n",
       "      <td>3.63</td>\n",
       "    </tr>\n",
       "    <tr>\n",
       "      <th>24</th>\n",
       "      <td>block_group__0.01k_00.csv</td>\n",
       "      <td>mixed_objective_redefined_later</td>\n",
       "      <td>14</td>\n",
       "      <td>0.01</td>\n",
       "      <td>0.170</td>\n",
       "      <td>0.292</td>\n",
       "      <td>3.85</td>\n",
       "    </tr>\n",
       "    <tr>\n",
       "      <th>25</th>\n",
       "      <td>block_group__0.01k_00.csv</td>\n",
       "      <td>mixed_objective_redefined_later</td>\n",
       "      <td>14</td>\n",
       "      <td>0.01</td>\n",
       "      <td>0.148</td>\n",
       "      <td>0.291</td>\n",
       "      <td>4.28</td>\n",
       "    </tr>\n",
       "    <tr>\n",
       "      <th>26</th>\n",
       "      <td>block_group__0.01k_00.csv</td>\n",
       "      <td>mixed_objective_redefined_later</td>\n",
       "      <td>14</td>\n",
       "      <td>0.01</td>\n",
       "      <td>0.144</td>\n",
       "      <td>0.291</td>\n",
       "      <td>4.19</td>\n",
       "    </tr>\n",
       "    <tr>\n",
       "      <th>27</th>\n",
       "      <td>block_group__0.01k_01.csv</td>\n",
       "      <td>mixed_objective_redefined_later</td>\n",
       "      <td>14</td>\n",
       "      <td>0.01</td>\n",
       "      <td>0.152</td>\n",
       "      <td>0.292</td>\n",
       "      <td>3.82</td>\n",
       "    </tr>\n",
       "    <tr>\n",
       "      <th>28</th>\n",
       "      <td>block_group__0.01k_02.csv</td>\n",
       "      <td>mixed_objective_redefined_later</td>\n",
       "      <td>14</td>\n",
       "      <td>0.01</td>\n",
       "      <td>0.150</td>\n",
       "      <td>0.291</td>\n",
       "      <td>3.99</td>\n",
       "    </tr>\n",
       "    <tr>\n",
       "      <th>29</th>\n",
       "      <td>block_group__0.1k_00.csv</td>\n",
       "      <td>mixed_objective_redefined_later</td>\n",
       "      <td>14</td>\n",
       "      <td>0.01</td>\n",
       "      <td>0.162</td>\n",
       "      <td>0.292</td>\n",
       "      <td>4.33</td>\n",
       "    </tr>\n",
       "    <tr>\n",
       "      <th>30</th>\n",
       "      <td>block_group__0.1k_01.csv</td>\n",
       "      <td>mixed_objective_redefined_later</td>\n",
       "      <td>14</td>\n",
       "      <td>0.01</td>\n",
       "      <td>0.152</td>\n",
       "      <td>0.291</td>\n",
       "      <td>4.31</td>\n",
       "    </tr>\n",
       "    <tr>\n",
       "      <th>31</th>\n",
       "      <td>block_group__0.1k_02.csv</td>\n",
       "      <td>mixed_objective_redefined_later</td>\n",
       "      <td>14</td>\n",
       "      <td>0.01</td>\n",
       "      <td>0.138</td>\n",
       "      <td>0.291</td>\n",
       "      <td>4.25</td>\n",
       "    </tr>\n",
       "    <tr>\n",
       "      <th>32</th>\n",
       "      <td>block_group__1.0k_00.csv</td>\n",
       "      <td>mixed_objective_redefined_later</td>\n",
       "      <td>14</td>\n",
       "      <td>0.01</td>\n",
       "      <td>0.135</td>\n",
       "      <td>0.292</td>\n",
       "      <td>4.63</td>\n",
       "    </tr>\n",
       "    <tr>\n",
       "      <th>33</th>\n",
       "      <td>block_group__1.0k_01.csv</td>\n",
       "      <td>mixed_objective_redefined_later</td>\n",
       "      <td>14</td>\n",
       "      <td>0.01</td>\n",
       "      <td>0.119</td>\n",
       "      <td>0.293</td>\n",
       "      <td>4.71</td>\n",
       "    </tr>\n",
       "    <tr>\n",
       "      <th>34</th>\n",
       "      <td>block_group__1.0k_02.csv</td>\n",
       "      <td>mixed_objective_redefined_later</td>\n",
       "      <td>14</td>\n",
       "      <td>0.01</td>\n",
       "      <td>0.136</td>\n",
       "      <td>0.294</td>\n",
       "      <td>4.59</td>\n",
       "    </tr>\n",
       "    <tr>\n",
       "      <th>35</th>\n",
       "      <td>block_group_bvap1_pp0_0.1k_00.csv</td>\n",
       "      <td>mixed_objective_redefined_later</td>\n",
       "      <td>14</td>\n",
       "      <td>0.01</td>\n",
       "      <td>0.148</td>\n",
       "      <td>0.293</td>\n",
       "      <td>4.57</td>\n",
       "    </tr>\n",
       "    <tr>\n",
       "      <th>36</th>\n",
       "      <td>block_group_bvap1_pp0_0.1k_01.csv</td>\n",
       "      <td>mixed_objective_redefined_later</td>\n",
       "      <td>14</td>\n",
       "      <td>0.01</td>\n",
       "      <td>0.155</td>\n",
       "      <td>0.292</td>\n",
       "      <td>4.16</td>\n",
       "    </tr>\n",
       "    <tr>\n",
       "      <th>37</th>\n",
       "      <td>block_group_bvap1_pp0_0.1k_02.csv</td>\n",
       "      <td>mixed_objective_redefined_later</td>\n",
       "      <td>14</td>\n",
       "      <td>0.01</td>\n",
       "      <td>0.152</td>\n",
       "      <td>0.292</td>\n",
       "      <td>4.24</td>\n",
       "    </tr>\n",
       "    <tr>\n",
       "      <th>38</th>\n",
       "      <td>block_group_bvap1_pp0bvap1_pp0_0.1k_00.csv</td>\n",
       "      <td>mixed_objective_redefined_later</td>\n",
       "      <td>14</td>\n",
       "      <td>0.01</td>\n",
       "      <td>0.160</td>\n",
       "      <td>0.291</td>\n",
       "      <td>4.19</td>\n",
       "    </tr>\n",
       "    <tr>\n",
       "      <th>39</th>\n",
       "      <td>block_group_bvap1_pp0bvap1_pp0_0.1k_01.csv</td>\n",
       "      <td>mixed_objective_redefined_later</td>\n",
       "      <td>14</td>\n",
       "      <td>0.01</td>\n",
       "      <td>0.126</td>\n",
       "      <td>0.292</td>\n",
       "      <td>4.47</td>\n",
       "    </tr>\n",
       "    <tr>\n",
       "      <th>40</th>\n",
       "      <td>block_group_bvap1_pp0bvap1_pp0_0.1k_02.csv</td>\n",
       "      <td>mixed_objective_redefined_later</td>\n",
       "      <td>14</td>\n",
       "      <td>0.01</td>\n",
       "      <td>0.141</td>\n",
       "      <td>0.292</td>\n",
       "      <td>4.25</td>\n",
       "    </tr>\n",
       "  </tbody>\n",
       "</table>\n",
       "</div>"
      ],
      "text/plain": [
       "                                         outfile_name  \\\n",
       "0                  block_group_bvap0_pp1_0.01k_00.csv   \n",
       "1                  block_group_bvap0_pp1_0.01k_01.csv   \n",
       "2         block_group_bvap0_pp1bvap1_pp0_0.01k_00.csv   \n",
       "3         block_group_bvap0_pp1bvap1_pp0_0.01k_01.csv   \n",
       "4   block_group_bvap0_pp1bvap1_pp0bvap0.75_pp0.25_...   \n",
       "5   block_group_bvap0_pp1bvap1_pp0bvap0.75_pp0.25_...   \n",
       "6   block_group_bvap0_pp1bvap1_pp0bvap0.75_pp0.25b...   \n",
       "7   block_group_bvap0_pp1bvap1_pp0bvap0.75_pp0.25b...   \n",
       "8   block_group_bvap0_pp1bvap1_pp0bvap0.75_pp0.25b...   \n",
       "9   block_group_bvap0_pp1bvap1_pp0bvap0.75_pp0.25b...   \n",
       "10                          block_group__0.01k_00.csv   \n",
       "11                          block_group__0.01k_01.csv   \n",
       "12                 block_group_bvap1_pp1_0.01k_00.csv   \n",
       "13                 block_group_bvap0_pp1_0.01k_01.csv   \n",
       "14                 block_group_bvap1_pp0_0.01k_00.csv   \n",
       "15                 block_group_bvap1_pp0_0.01k_01.csv   \n",
       "16           block_group_bvap0.75_pp0.25_0.01k_00.csv   \n",
       "17           block_group_bvap0.75_pp0.25_0.01k_01.csv   \n",
       "18           block_group_bvap0.25_pp0.75_0.01k_00.csv   \n",
       "19           block_group_bvap0.25_pp0.75_0.01k_01.csv   \n",
       "20                 block_group_bvap1_pp1_0.01k_00.csv   \n",
       "21                 block_group_bvap1_pp1_0.01k_01.csv   \n",
       "22                          block_group__0.01k_00.csv   \n",
       "23                          block_group__0.01k_00.csv   \n",
       "24                          block_group__0.01k_00.csv   \n",
       "25                          block_group__0.01k_00.csv   \n",
       "26                          block_group__0.01k_00.csv   \n",
       "27                          block_group__0.01k_01.csv   \n",
       "28                          block_group__0.01k_02.csv   \n",
       "29                           block_group__0.1k_00.csv   \n",
       "30                           block_group__0.1k_01.csv   \n",
       "31                           block_group__0.1k_02.csv   \n",
       "32                           block_group__1.0k_00.csv   \n",
       "33                           block_group__1.0k_01.csv   \n",
       "34                           block_group__1.0k_02.csv   \n",
       "35                  block_group_bvap1_pp0_0.1k_00.csv   \n",
       "36                  block_group_bvap1_pp0_0.1k_01.csv   \n",
       "37                  block_group_bvap1_pp0_0.1k_02.csv   \n",
       "38         block_group_bvap1_pp0bvap1_pp0_0.1k_00.csv   \n",
       "39         block_group_bvap1_pp0bvap1_pp0_0.1k_01.csv   \n",
       "40         block_group_bvap1_pp0bvap1_pp0_0.1k_02.csv   \n",
       "\n",
       "                         acceptance  number_of_districts  pop_tolerance  \\\n",
       "0                         bvap0_pp1                   14           0.01   \n",
       "1                         bvap0_pp1                   14           0.01   \n",
       "2                         bvap1_pp0                   14           0.01   \n",
       "3                         bvap1_pp0                   14           0.01   \n",
       "4                   bvap0.75_pp0.25                   14           0.01   \n",
       "5                   bvap0.75_pp0.25                   14           0.01   \n",
       "6                   bvap0.25_pp0.75                   14           0.01   \n",
       "7                   bvap0.25_pp0.75                   14           0.01   \n",
       "8                         bvap1_pp1                   14           0.01   \n",
       "9                         bvap1_pp1                   14           0.01   \n",
       "10  mixed_objective_redefined_later                   14           0.01   \n",
       "11  mixed_objective_redefined_later                   14           0.01   \n",
       "12  mixed_objective_redefined_later                   14           0.01   \n",
       "13                        bvap0_pp1                   14           0.01   \n",
       "14                        bvap1_pp0                   14           0.01   \n",
       "15                        bvap1_pp0                   14           0.01   \n",
       "16                  bvap0.75_pp0.25                   14           0.01   \n",
       "17                  bvap0.75_pp0.25                   14           0.01   \n",
       "18                  bvap0.25_pp0.75                   14           0.01   \n",
       "19                  bvap0.25_pp0.75                   14           0.01   \n",
       "20                        bvap1_pp1                   14           0.01   \n",
       "21                        bvap1_pp1                   14           0.01   \n",
       "22  mixed_objective_redefined_later                   14           0.01   \n",
       "23  mixed_objective_redefined_later                   14           0.01   \n",
       "24  mixed_objective_redefined_later                   14           0.01   \n",
       "25  mixed_objective_redefined_later                   14           0.01   \n",
       "26  mixed_objective_redefined_later                   14           0.01   \n",
       "27  mixed_objective_redefined_later                   14           0.01   \n",
       "28  mixed_objective_redefined_later                   14           0.01   \n",
       "29  mixed_objective_redefined_later                   14           0.01   \n",
       "30  mixed_objective_redefined_later                   14           0.01   \n",
       "31  mixed_objective_redefined_later                   14           0.01   \n",
       "32  mixed_objective_redefined_later                   14           0.01   \n",
       "33  mixed_objective_redefined_later                   14           0.01   \n",
       "34  mixed_objective_redefined_later                   14           0.01   \n",
       "35  mixed_objective_redefined_later                   14           0.01   \n",
       "36  mixed_objective_redefined_later                   14           0.01   \n",
       "37  mixed_objective_redefined_later                   14           0.01   \n",
       "38  mixed_objective_redefined_later                   14           0.01   \n",
       "39  mixed_objective_redefined_later                   14           0.01   \n",
       "40  mixed_objective_redefined_later                   14           0.01   \n",
       "\n",
       "    polsby_popper  mean_BVAP  black_reps  \n",
       "0           0.150      0.291        4.30  \n",
       "1           0.155      0.291        4.07  \n",
       "2           0.125      0.291        4.03  \n",
       "3           0.174      0.291        4.29  \n",
       "4           0.159      0.291        4.26  \n",
       "5           0.148      0.291        4.16  \n",
       "6           0.170      0.292        3.86  \n",
       "7           0.165      0.292        3.65  \n",
       "8           0.199      0.291        4.20  \n",
       "9           0.174      0.291        4.04  \n",
       "10          0.198      0.292        4.03  \n",
       "11          0.142      0.292        4.35  \n",
       "12          0.155      0.291        4.07  \n",
       "13          0.174      0.290        4.29  \n",
       "14          0.159      0.291        4.01  \n",
       "15          0.152      0.291        4.13  \n",
       "16          0.156      0.290        3.75  \n",
       "17          0.165      0.291        4.22  \n",
       "18          0.177      0.291        4.11  \n",
       "19          0.178      0.292        4.28  \n",
       "20          0.183      0.291        4.13  \n",
       "21          0.141      0.291        4.11  \n",
       "22          0.185      0.292        3.60  \n",
       "23          0.161      0.291        3.63  \n",
       "24          0.170      0.292        3.85  \n",
       "25          0.148      0.291        4.28  \n",
       "26          0.144      0.291        4.19  \n",
       "27          0.152      0.292        3.82  \n",
       "28          0.150      0.291        3.99  \n",
       "29          0.162      0.292        4.33  \n",
       "30          0.152      0.291        4.31  \n",
       "31          0.138      0.291        4.25  \n",
       "32          0.135      0.292        4.63  \n",
       "33          0.119      0.293        4.71  \n",
       "34          0.136      0.294        4.59  \n",
       "35          0.148      0.293        4.57  \n",
       "36          0.155      0.292        4.16  \n",
       "37          0.152      0.292        4.24  \n",
       "38          0.160      0.291        4.19  \n",
       "39          0.126      0.292        4.47  \n",
       "40          0.141      0.292        4.25  "
      ]
     },
     "execution_count": 15,
     "metadata": {},
     "output_type": "execute_result"
    }
   ],
   "source": [
    "df_summary"
   ]
  },
  {
   "cell_type": "code",
   "execution_count": 26,
   "metadata": {},
   "outputs": [
    {
     "data": {
      "application/vnd.plotly.v1+json": {
       "config": {
        "plotlyServerURL": "https://plot.ly"
       },
       "data": [
        {
         "customdata": [
          [
           "block_group_bvap0_pp1_0.01k_00.csv",
           0.01
          ],
          [
           "block_group_bvap0_pp1_0.01k_01.csv",
           0.01
          ],
          [
           "block_group_bvap0_pp1bvap1_pp0_0.01k_00.csv",
           0.01
          ],
          [
           "block_group_bvap0_pp1bvap1_pp0_0.01k_01.csv",
           0.01
          ],
          [
           "block_group_bvap0_pp1bvap1_pp0bvap0.75_pp0.25_0.01k_00.csv",
           0.01
          ],
          [
           "block_group_bvap0_pp1bvap1_pp0bvap0.75_pp0.25_0.01k_01.csv",
           0.01
          ],
          [
           "block_group_bvap0_pp1bvap1_pp0bvap0.75_pp0.25bvap0.25_pp0.75_0.01k_00.csv",
           0.01
          ],
          [
           "block_group_bvap0_pp1bvap1_pp0bvap0.75_pp0.25bvap0.25_pp0.75_0.01k_01.csv",
           0.01
          ],
          [
           "block_group_bvap0_pp1bvap1_pp0bvap0.75_pp0.25bvap0.25_pp0.75bvap1_pp1_0.01k_00.csv",
           0.01
          ],
          [
           "block_group_bvap0_pp1bvap1_pp0bvap0.75_pp0.25bvap0.25_pp0.75bvap1_pp1_0.01k_01.csv",
           0.01
          ],
          [
           "block_group__0.01k_00.csv",
           0.01
          ],
          [
           "block_group__0.01k_01.csv",
           0.01
          ],
          [
           "block_group_bvap1_pp1_0.01k_00.csv",
           0.01
          ],
          [
           "block_group_bvap0_pp1_0.01k_01.csv",
           0.01
          ],
          [
           "block_group_bvap1_pp0_0.01k_00.csv",
           0.01
          ],
          [
           "block_group_bvap1_pp0_0.01k_01.csv",
           0.01
          ],
          [
           "block_group_bvap0.75_pp0.25_0.01k_00.csv",
           0.01
          ],
          [
           "block_group_bvap0.75_pp0.25_0.01k_01.csv",
           0.01
          ],
          [
           "block_group_bvap0.25_pp0.75_0.01k_00.csv",
           0.01
          ],
          [
           "block_group_bvap0.25_pp0.75_0.01k_01.csv",
           0.01
          ],
          [
           "block_group_bvap1_pp1_0.01k_00.csv",
           0.01
          ],
          [
           "block_group_bvap1_pp1_0.01k_01.csv",
           0.01
          ],
          [
           "block_group__0.01k_00.csv",
           0.01
          ],
          [
           "block_group__0.01k_00.csv",
           0.01
          ],
          [
           "block_group__0.01k_00.csv",
           0.01
          ],
          [
           "block_group__0.01k_00.csv",
           0.01
          ],
          [
           "block_group__0.01k_00.csv",
           0.01
          ],
          [
           "block_group__0.01k_01.csv",
           0.01
          ],
          [
           "block_group__0.01k_02.csv",
           0.01
          ],
          [
           "block_group__0.1k_00.csv",
           0.01
          ],
          [
           "block_group__0.1k_01.csv",
           0.01
          ],
          [
           "block_group__0.1k_02.csv",
           0.01
          ],
          [
           "block_group__1.0k_00.csv",
           0.01
          ],
          [
           "block_group__1.0k_01.csv",
           0.01
          ],
          [
           "block_group__1.0k_02.csv",
           0.01
          ],
          [
           "block_group_bvap1_pp0_0.1k_00.csv",
           0.01
          ],
          [
           "block_group_bvap1_pp0_0.1k_01.csv",
           0.01
          ],
          [
           "block_group_bvap1_pp0_0.1k_02.csv",
           0.01
          ],
          [
           "block_group_bvap1_pp0bvap1_pp0_0.1k_00.csv",
           0.01
          ],
          [
           "block_group_bvap1_pp0bvap1_pp0_0.1k_01.csv",
           0.01
          ],
          [
           "block_group_bvap1_pp0bvap1_pp0_0.1k_02.csv",
           0.01
          ]
         ],
         "hovertemplate": "black_reps=%{x}<br>polsby_popper=%{y}<br>outfile_name=%{customdata[0]}<br>pop_tolerance=%{customdata[1]}<extra></extra>",
         "legendgroup": "",
         "marker": {
          "color": "#636efa",
          "symbol": "circle"
         },
         "mode": "markers",
         "name": "",
         "orientation": "v",
         "showlegend": false,
         "type": "scatter",
         "x": [
          4.3,
          4.07,
          4.03,
          4.29,
          4.26,
          4.16,
          3.86,
          3.65,
          4.2,
          4.04,
          4.03,
          4.35,
          4.07,
          4.29,
          4.01,
          4.13,
          3.75,
          4.22,
          4.11,
          4.28,
          4.13,
          4.11,
          3.6,
          3.63,
          3.85,
          4.28,
          4.19,
          3.82,
          3.99,
          4.33,
          4.31,
          4.25,
          4.63,
          4.71,
          4.59,
          4.57,
          4.16,
          4.24,
          4.19,
          4.47,
          4.25
         ],
         "xaxis": "x",
         "y": [
          0.15,
          0.155,
          0.125,
          0.174,
          0.159,
          0.14800000000000002,
          0.17,
          0.165,
          0.19899999999999998,
          0.174,
          0.198,
          0.142,
          0.155,
          0.174,
          0.159,
          0.152,
          0.156,
          0.165,
          0.177,
          0.17800000000000002,
          0.183,
          0.141,
          0.185,
          0.161,
          0.17,
          0.14800000000000002,
          0.14400000000000002,
          0.152,
          0.15,
          0.162,
          0.152,
          0.138,
          0.135,
          0.11900000000000001,
          0.136,
          0.14800000000000002,
          0.155,
          0.152,
          0.16,
          0.126,
          0.141
         ],
         "yaxis": "y"
        }
       ],
       "layout": {
        "legend": {
         "tracegroupgap": 0
        },
        "margin": {
         "t": 60
        },
        "template": {
         "data": {
          "bar": [
           {
            "error_x": {
             "color": "#2a3f5f"
            },
            "error_y": {
             "color": "#2a3f5f"
            },
            "marker": {
             "line": {
              "color": "#E5ECF6",
              "width": 0.5
             }
            },
            "type": "bar"
           }
          ],
          "barpolar": [
           {
            "marker": {
             "line": {
              "color": "#E5ECF6",
              "width": 0.5
             }
            },
            "type": "barpolar"
           }
          ],
          "carpet": [
           {
            "aaxis": {
             "endlinecolor": "#2a3f5f",
             "gridcolor": "white",
             "linecolor": "white",
             "minorgridcolor": "white",
             "startlinecolor": "#2a3f5f"
            },
            "baxis": {
             "endlinecolor": "#2a3f5f",
             "gridcolor": "white",
             "linecolor": "white",
             "minorgridcolor": "white",
             "startlinecolor": "#2a3f5f"
            },
            "type": "carpet"
           }
          ],
          "choropleth": [
           {
            "colorbar": {
             "outlinewidth": 0,
             "ticks": ""
            },
            "type": "choropleth"
           }
          ],
          "contour": [
           {
            "colorbar": {
             "outlinewidth": 0,
             "ticks": ""
            },
            "colorscale": [
             [
              0,
              "#0d0887"
             ],
             [
              0.1111111111111111,
              "#46039f"
             ],
             [
              0.2222222222222222,
              "#7201a8"
             ],
             [
              0.3333333333333333,
              "#9c179e"
             ],
             [
              0.4444444444444444,
              "#bd3786"
             ],
             [
              0.5555555555555556,
              "#d8576b"
             ],
             [
              0.6666666666666666,
              "#ed7953"
             ],
             [
              0.7777777777777778,
              "#fb9f3a"
             ],
             [
              0.8888888888888888,
              "#fdca26"
             ],
             [
              1,
              "#f0f921"
             ]
            ],
            "type": "contour"
           }
          ],
          "contourcarpet": [
           {
            "colorbar": {
             "outlinewidth": 0,
             "ticks": ""
            },
            "type": "contourcarpet"
           }
          ],
          "heatmap": [
           {
            "colorbar": {
             "outlinewidth": 0,
             "ticks": ""
            },
            "colorscale": [
             [
              0,
              "#0d0887"
             ],
             [
              0.1111111111111111,
              "#46039f"
             ],
             [
              0.2222222222222222,
              "#7201a8"
             ],
             [
              0.3333333333333333,
              "#9c179e"
             ],
             [
              0.4444444444444444,
              "#bd3786"
             ],
             [
              0.5555555555555556,
              "#d8576b"
             ],
             [
              0.6666666666666666,
              "#ed7953"
             ],
             [
              0.7777777777777778,
              "#fb9f3a"
             ],
             [
              0.8888888888888888,
              "#fdca26"
             ],
             [
              1,
              "#f0f921"
             ]
            ],
            "type": "heatmap"
           }
          ],
          "heatmapgl": [
           {
            "colorbar": {
             "outlinewidth": 0,
             "ticks": ""
            },
            "colorscale": [
             [
              0,
              "#0d0887"
             ],
             [
              0.1111111111111111,
              "#46039f"
             ],
             [
              0.2222222222222222,
              "#7201a8"
             ],
             [
              0.3333333333333333,
              "#9c179e"
             ],
             [
              0.4444444444444444,
              "#bd3786"
             ],
             [
              0.5555555555555556,
              "#d8576b"
             ],
             [
              0.6666666666666666,
              "#ed7953"
             ],
             [
              0.7777777777777778,
              "#fb9f3a"
             ],
             [
              0.8888888888888888,
              "#fdca26"
             ],
             [
              1,
              "#f0f921"
             ]
            ],
            "type": "heatmapgl"
           }
          ],
          "histogram": [
           {
            "marker": {
             "colorbar": {
              "outlinewidth": 0,
              "ticks": ""
             }
            },
            "type": "histogram"
           }
          ],
          "histogram2d": [
           {
            "colorbar": {
             "outlinewidth": 0,
             "ticks": ""
            },
            "colorscale": [
             [
              0,
              "#0d0887"
             ],
             [
              0.1111111111111111,
              "#46039f"
             ],
             [
              0.2222222222222222,
              "#7201a8"
             ],
             [
              0.3333333333333333,
              "#9c179e"
             ],
             [
              0.4444444444444444,
              "#bd3786"
             ],
             [
              0.5555555555555556,
              "#d8576b"
             ],
             [
              0.6666666666666666,
              "#ed7953"
             ],
             [
              0.7777777777777778,
              "#fb9f3a"
             ],
             [
              0.8888888888888888,
              "#fdca26"
             ],
             [
              1,
              "#f0f921"
             ]
            ],
            "type": "histogram2d"
           }
          ],
          "histogram2dcontour": [
           {
            "colorbar": {
             "outlinewidth": 0,
             "ticks": ""
            },
            "colorscale": [
             [
              0,
              "#0d0887"
             ],
             [
              0.1111111111111111,
              "#46039f"
             ],
             [
              0.2222222222222222,
              "#7201a8"
             ],
             [
              0.3333333333333333,
              "#9c179e"
             ],
             [
              0.4444444444444444,
              "#bd3786"
             ],
             [
              0.5555555555555556,
              "#d8576b"
             ],
             [
              0.6666666666666666,
              "#ed7953"
             ],
             [
              0.7777777777777778,
              "#fb9f3a"
             ],
             [
              0.8888888888888888,
              "#fdca26"
             ],
             [
              1,
              "#f0f921"
             ]
            ],
            "type": "histogram2dcontour"
           }
          ],
          "mesh3d": [
           {
            "colorbar": {
             "outlinewidth": 0,
             "ticks": ""
            },
            "type": "mesh3d"
           }
          ],
          "parcoords": [
           {
            "line": {
             "colorbar": {
              "outlinewidth": 0,
              "ticks": ""
             }
            },
            "type": "parcoords"
           }
          ],
          "pie": [
           {
            "automargin": true,
            "type": "pie"
           }
          ],
          "scatter": [
           {
            "marker": {
             "colorbar": {
              "outlinewidth": 0,
              "ticks": ""
             }
            },
            "type": "scatter"
           }
          ],
          "scatter3d": [
           {
            "line": {
             "colorbar": {
              "outlinewidth": 0,
              "ticks": ""
             }
            },
            "marker": {
             "colorbar": {
              "outlinewidth": 0,
              "ticks": ""
             }
            },
            "type": "scatter3d"
           }
          ],
          "scattercarpet": [
           {
            "marker": {
             "colorbar": {
              "outlinewidth": 0,
              "ticks": ""
             }
            },
            "type": "scattercarpet"
           }
          ],
          "scattergeo": [
           {
            "marker": {
             "colorbar": {
              "outlinewidth": 0,
              "ticks": ""
             }
            },
            "type": "scattergeo"
           }
          ],
          "scattergl": [
           {
            "marker": {
             "colorbar": {
              "outlinewidth": 0,
              "ticks": ""
             }
            },
            "type": "scattergl"
           }
          ],
          "scattermapbox": [
           {
            "marker": {
             "colorbar": {
              "outlinewidth": 0,
              "ticks": ""
             }
            },
            "type": "scattermapbox"
           }
          ],
          "scatterpolar": [
           {
            "marker": {
             "colorbar": {
              "outlinewidth": 0,
              "ticks": ""
             }
            },
            "type": "scatterpolar"
           }
          ],
          "scatterpolargl": [
           {
            "marker": {
             "colorbar": {
              "outlinewidth": 0,
              "ticks": ""
             }
            },
            "type": "scatterpolargl"
           }
          ],
          "scatterternary": [
           {
            "marker": {
             "colorbar": {
              "outlinewidth": 0,
              "ticks": ""
             }
            },
            "type": "scatterternary"
           }
          ],
          "surface": [
           {
            "colorbar": {
             "outlinewidth": 0,
             "ticks": ""
            },
            "colorscale": [
             [
              0,
              "#0d0887"
             ],
             [
              0.1111111111111111,
              "#46039f"
             ],
             [
              0.2222222222222222,
              "#7201a8"
             ],
             [
              0.3333333333333333,
              "#9c179e"
             ],
             [
              0.4444444444444444,
              "#bd3786"
             ],
             [
              0.5555555555555556,
              "#d8576b"
             ],
             [
              0.6666666666666666,
              "#ed7953"
             ],
             [
              0.7777777777777778,
              "#fb9f3a"
             ],
             [
              0.8888888888888888,
              "#fdca26"
             ],
             [
              1,
              "#f0f921"
             ]
            ],
            "type": "surface"
           }
          ],
          "table": [
           {
            "cells": {
             "fill": {
              "color": "#EBF0F8"
             },
             "line": {
              "color": "white"
             }
            },
            "header": {
             "fill": {
              "color": "#C8D4E3"
             },
             "line": {
              "color": "white"
             }
            },
            "type": "table"
           }
          ]
         },
         "layout": {
          "annotationdefaults": {
           "arrowcolor": "#2a3f5f",
           "arrowhead": 0,
           "arrowwidth": 1
          },
          "coloraxis": {
           "colorbar": {
            "outlinewidth": 0,
            "ticks": ""
           }
          },
          "colorscale": {
           "diverging": [
            [
             0,
             "#8e0152"
            ],
            [
             0.1,
             "#c51b7d"
            ],
            [
             0.2,
             "#de77ae"
            ],
            [
             0.3,
             "#f1b6da"
            ],
            [
             0.4,
             "#fde0ef"
            ],
            [
             0.5,
             "#f7f7f7"
            ],
            [
             0.6,
             "#e6f5d0"
            ],
            [
             0.7,
             "#b8e186"
            ],
            [
             0.8,
             "#7fbc41"
            ],
            [
             0.9,
             "#4d9221"
            ],
            [
             1,
             "#276419"
            ]
           ],
           "sequential": [
            [
             0,
             "#0d0887"
            ],
            [
             0.1111111111111111,
             "#46039f"
            ],
            [
             0.2222222222222222,
             "#7201a8"
            ],
            [
             0.3333333333333333,
             "#9c179e"
            ],
            [
             0.4444444444444444,
             "#bd3786"
            ],
            [
             0.5555555555555556,
             "#d8576b"
            ],
            [
             0.6666666666666666,
             "#ed7953"
            ],
            [
             0.7777777777777778,
             "#fb9f3a"
            ],
            [
             0.8888888888888888,
             "#fdca26"
            ],
            [
             1,
             "#f0f921"
            ]
           ],
           "sequentialminus": [
            [
             0,
             "#0d0887"
            ],
            [
             0.1111111111111111,
             "#46039f"
            ],
            [
             0.2222222222222222,
             "#7201a8"
            ],
            [
             0.3333333333333333,
             "#9c179e"
            ],
            [
             0.4444444444444444,
             "#bd3786"
            ],
            [
             0.5555555555555556,
             "#d8576b"
            ],
            [
             0.6666666666666666,
             "#ed7953"
            ],
            [
             0.7777777777777778,
             "#fb9f3a"
            ],
            [
             0.8888888888888888,
             "#fdca26"
            ],
            [
             1,
             "#f0f921"
            ]
           ]
          },
          "colorway": [
           "#636efa",
           "#EF553B",
           "#00cc96",
           "#ab63fa",
           "#FFA15A",
           "#19d3f3",
           "#FF6692",
           "#B6E880",
           "#FF97FF",
           "#FECB52"
          ],
          "font": {
           "color": "#2a3f5f"
          },
          "geo": {
           "bgcolor": "white",
           "lakecolor": "white",
           "landcolor": "#E5ECF6",
           "showlakes": true,
           "showland": true,
           "subunitcolor": "white"
          },
          "hoverlabel": {
           "align": "left"
          },
          "hovermode": "closest",
          "mapbox": {
           "style": "light"
          },
          "paper_bgcolor": "white",
          "plot_bgcolor": "#E5ECF6",
          "polar": {
           "angularaxis": {
            "gridcolor": "white",
            "linecolor": "white",
            "ticks": ""
           },
           "bgcolor": "#E5ECF6",
           "radialaxis": {
            "gridcolor": "white",
            "linecolor": "white",
            "ticks": ""
           }
          },
          "scene": {
           "xaxis": {
            "backgroundcolor": "#E5ECF6",
            "gridcolor": "white",
            "gridwidth": 2,
            "linecolor": "white",
            "showbackground": true,
            "ticks": "",
            "zerolinecolor": "white"
           },
           "yaxis": {
            "backgroundcolor": "#E5ECF6",
            "gridcolor": "white",
            "gridwidth": 2,
            "linecolor": "white",
            "showbackground": true,
            "ticks": "",
            "zerolinecolor": "white"
           },
           "zaxis": {
            "backgroundcolor": "#E5ECF6",
            "gridcolor": "white",
            "gridwidth": 2,
            "linecolor": "white",
            "showbackground": true,
            "ticks": "",
            "zerolinecolor": "white"
           }
          },
          "shapedefaults": {
           "line": {
            "color": "#2a3f5f"
           }
          },
          "ternary": {
           "aaxis": {
            "gridcolor": "white",
            "linecolor": "white",
            "ticks": ""
           },
           "baxis": {
            "gridcolor": "white",
            "linecolor": "white",
            "ticks": ""
           },
           "bgcolor": "#E5ECF6",
           "caxis": {
            "gridcolor": "white",
            "linecolor": "white",
            "ticks": ""
           }
          },
          "title": {
           "x": 0.05
          },
          "xaxis": {
           "automargin": true,
           "gridcolor": "white",
           "linecolor": "white",
           "ticks": "",
           "title": {
            "standoff": 15
           },
           "zerolinecolor": "white",
           "zerolinewidth": 2
          },
          "yaxis": {
           "automargin": true,
           "gridcolor": "white",
           "linecolor": "white",
           "ticks": "",
           "title": {
            "standoff": 15
           },
           "zerolinecolor": "white",
           "zerolinewidth": 2
          }
         }
        },
        "title": {
         "text": "GA Block group Level Compactness vs. Black Representation"
        },
        "xaxis": {
         "anchor": "y",
         "domain": [
          0,
          1
         ],
         "title": {
          "text": "Expected Black Representatives"
         }
        },
        "yaxis": {
         "anchor": "x",
         "domain": [
          0,
          1
         ],
         "title": {
          "text": "Mean Polsby Popper Score"
         }
        }
       }
      },
      "text/html": [
       "<div>                            <div id=\"a413d965-155c-471f-88ca-8554180ef3d1\" class=\"plotly-graph-div\" style=\"height:525px; width:100%;\"></div>            <script type=\"text/javascript\">                require([\"plotly\"], function(Plotly) {                    window.PLOTLYENV=window.PLOTLYENV || {};                                    if (document.getElementById(\"a413d965-155c-471f-88ca-8554180ef3d1\")) {                    Plotly.newPlot(                        \"a413d965-155c-471f-88ca-8554180ef3d1\",                        [{\"customdata\": [[\"block_group_bvap0_pp1_0.01k_00.csv\", 0.01], [\"block_group_bvap0_pp1_0.01k_01.csv\", 0.01], [\"block_group_bvap0_pp1bvap1_pp0_0.01k_00.csv\", 0.01], [\"block_group_bvap0_pp1bvap1_pp0_0.01k_01.csv\", 0.01], [\"block_group_bvap0_pp1bvap1_pp0bvap0.75_pp0.25_0.01k_00.csv\", 0.01], [\"block_group_bvap0_pp1bvap1_pp0bvap0.75_pp0.25_0.01k_01.csv\", 0.01], [\"block_group_bvap0_pp1bvap1_pp0bvap0.75_pp0.25bvap0.25_pp0.75_0.01k_00.csv\", 0.01], [\"block_group_bvap0_pp1bvap1_pp0bvap0.75_pp0.25bvap0.25_pp0.75_0.01k_01.csv\", 0.01], [\"block_group_bvap0_pp1bvap1_pp0bvap0.75_pp0.25bvap0.25_pp0.75bvap1_pp1_0.01k_00.csv\", 0.01], [\"block_group_bvap0_pp1bvap1_pp0bvap0.75_pp0.25bvap0.25_pp0.75bvap1_pp1_0.01k_01.csv\", 0.01], [\"block_group__0.01k_00.csv\", 0.01], [\"block_group__0.01k_01.csv\", 0.01], [\"block_group_bvap1_pp1_0.01k_00.csv\", 0.01], [\"block_group_bvap0_pp1_0.01k_01.csv\", 0.01], [\"block_group_bvap1_pp0_0.01k_00.csv\", 0.01], [\"block_group_bvap1_pp0_0.01k_01.csv\", 0.01], [\"block_group_bvap0.75_pp0.25_0.01k_00.csv\", 0.01], [\"block_group_bvap0.75_pp0.25_0.01k_01.csv\", 0.01], [\"block_group_bvap0.25_pp0.75_0.01k_00.csv\", 0.01], [\"block_group_bvap0.25_pp0.75_0.01k_01.csv\", 0.01], [\"block_group_bvap1_pp1_0.01k_00.csv\", 0.01], [\"block_group_bvap1_pp1_0.01k_01.csv\", 0.01], [\"block_group__0.01k_00.csv\", 0.01], [\"block_group__0.01k_00.csv\", 0.01], [\"block_group__0.01k_00.csv\", 0.01], [\"block_group__0.01k_00.csv\", 0.01], [\"block_group__0.01k_00.csv\", 0.01], [\"block_group__0.01k_01.csv\", 0.01], [\"block_group__0.01k_02.csv\", 0.01], [\"block_group__0.1k_00.csv\", 0.01], [\"block_group__0.1k_01.csv\", 0.01], [\"block_group__0.1k_02.csv\", 0.01], [\"block_group__1.0k_00.csv\", 0.01], [\"block_group__1.0k_01.csv\", 0.01], [\"block_group__1.0k_02.csv\", 0.01], [\"block_group_bvap1_pp0_0.1k_00.csv\", 0.01], [\"block_group_bvap1_pp0_0.1k_01.csv\", 0.01], [\"block_group_bvap1_pp0_0.1k_02.csv\", 0.01], [\"block_group_bvap1_pp0bvap1_pp0_0.1k_00.csv\", 0.01], [\"block_group_bvap1_pp0bvap1_pp0_0.1k_01.csv\", 0.01], [\"block_group_bvap1_pp0bvap1_pp0_0.1k_02.csv\", 0.01]], \"hovertemplate\": \"black_reps=%{x}<br>polsby_popper=%{y}<br>outfile_name=%{customdata[0]}<br>pop_tolerance=%{customdata[1]}<extra></extra>\", \"legendgroup\": \"\", \"marker\": {\"color\": \"#636efa\", \"symbol\": \"circle\"}, \"mode\": \"markers\", \"name\": \"\", \"orientation\": \"v\", \"showlegend\": false, \"type\": \"scatter\", \"x\": [4.3, 4.07, 4.03, 4.29, 4.26, 4.16, 3.86, 3.65, 4.2, 4.04, 4.03, 4.35, 4.07, 4.29, 4.01, 4.13, 3.75, 4.22, 4.11, 4.28, 4.13, 4.11, 3.6, 3.63, 3.85, 4.28, 4.19, 3.82, 3.99, 4.33, 4.31, 4.25, 4.63, 4.71, 4.59, 4.57, 4.16, 4.24, 4.19, 4.47, 4.25], \"xaxis\": \"x\", \"y\": [0.15, 0.155, 0.125, 0.174, 0.159, 0.14800000000000002, 0.17, 0.165, 0.19899999999999998, 0.174, 0.198, 0.142, 0.155, 0.174, 0.159, 0.152, 0.156, 0.165, 0.177, 0.17800000000000002, 0.183, 0.141, 0.185, 0.161, 0.17, 0.14800000000000002, 0.14400000000000002, 0.152, 0.15, 0.162, 0.152, 0.138, 0.135, 0.11900000000000001, 0.136, 0.14800000000000002, 0.155, 0.152, 0.16, 0.126, 0.141], \"yaxis\": \"y\"}],                        {\"legend\": {\"tracegroupgap\": 0}, \"margin\": {\"t\": 60}, \"template\": {\"data\": {\"bar\": [{\"error_x\": {\"color\": \"#2a3f5f\"}, \"error_y\": {\"color\": \"#2a3f5f\"}, \"marker\": {\"line\": {\"color\": \"#E5ECF6\", \"width\": 0.5}}, \"type\": \"bar\"}], \"barpolar\": [{\"marker\": {\"line\": {\"color\": \"#E5ECF6\", \"width\": 0.5}}, \"type\": \"barpolar\"}], \"carpet\": [{\"aaxis\": {\"endlinecolor\": \"#2a3f5f\", \"gridcolor\": \"white\", \"linecolor\": \"white\", \"minorgridcolor\": \"white\", \"startlinecolor\": \"#2a3f5f\"}, \"baxis\": {\"endlinecolor\": \"#2a3f5f\", \"gridcolor\": \"white\", \"linecolor\": \"white\", \"minorgridcolor\": \"white\", \"startlinecolor\": \"#2a3f5f\"}, \"type\": \"carpet\"}], \"choropleth\": [{\"colorbar\": {\"outlinewidth\": 0, \"ticks\": \"\"}, \"type\": \"choropleth\"}], \"contour\": [{\"colorbar\": {\"outlinewidth\": 0, \"ticks\": \"\"}, \"colorscale\": [[0.0, \"#0d0887\"], [0.1111111111111111, \"#46039f\"], [0.2222222222222222, \"#7201a8\"], [0.3333333333333333, \"#9c179e\"], [0.4444444444444444, \"#bd3786\"], [0.5555555555555556, \"#d8576b\"], [0.6666666666666666, \"#ed7953\"], [0.7777777777777778, \"#fb9f3a\"], [0.8888888888888888, \"#fdca26\"], [1.0, \"#f0f921\"]], \"type\": \"contour\"}], \"contourcarpet\": [{\"colorbar\": {\"outlinewidth\": 0, \"ticks\": \"\"}, \"type\": \"contourcarpet\"}], \"heatmap\": [{\"colorbar\": {\"outlinewidth\": 0, \"ticks\": \"\"}, \"colorscale\": [[0.0, \"#0d0887\"], [0.1111111111111111, \"#46039f\"], [0.2222222222222222, \"#7201a8\"], [0.3333333333333333, \"#9c179e\"], [0.4444444444444444, \"#bd3786\"], [0.5555555555555556, \"#d8576b\"], [0.6666666666666666, \"#ed7953\"], [0.7777777777777778, \"#fb9f3a\"], [0.8888888888888888, \"#fdca26\"], [1.0, \"#f0f921\"]], \"type\": \"heatmap\"}], \"heatmapgl\": [{\"colorbar\": {\"outlinewidth\": 0, \"ticks\": \"\"}, \"colorscale\": [[0.0, \"#0d0887\"], [0.1111111111111111, \"#46039f\"], [0.2222222222222222, \"#7201a8\"], [0.3333333333333333, \"#9c179e\"], [0.4444444444444444, \"#bd3786\"], [0.5555555555555556, \"#d8576b\"], [0.6666666666666666, \"#ed7953\"], [0.7777777777777778, \"#fb9f3a\"], [0.8888888888888888, \"#fdca26\"], [1.0, \"#f0f921\"]], \"type\": \"heatmapgl\"}], \"histogram\": [{\"marker\": {\"colorbar\": {\"outlinewidth\": 0, \"ticks\": \"\"}}, \"type\": \"histogram\"}], \"histogram2d\": [{\"colorbar\": {\"outlinewidth\": 0, \"ticks\": \"\"}, \"colorscale\": [[0.0, \"#0d0887\"], [0.1111111111111111, \"#46039f\"], [0.2222222222222222, \"#7201a8\"], [0.3333333333333333, \"#9c179e\"], [0.4444444444444444, \"#bd3786\"], [0.5555555555555556, \"#d8576b\"], [0.6666666666666666, \"#ed7953\"], [0.7777777777777778, \"#fb9f3a\"], [0.8888888888888888, \"#fdca26\"], [1.0, \"#f0f921\"]], \"type\": \"histogram2d\"}], \"histogram2dcontour\": [{\"colorbar\": {\"outlinewidth\": 0, \"ticks\": \"\"}, \"colorscale\": [[0.0, \"#0d0887\"], [0.1111111111111111, \"#46039f\"], [0.2222222222222222, \"#7201a8\"], [0.3333333333333333, \"#9c179e\"], [0.4444444444444444, \"#bd3786\"], [0.5555555555555556, \"#d8576b\"], [0.6666666666666666, \"#ed7953\"], [0.7777777777777778, \"#fb9f3a\"], [0.8888888888888888, \"#fdca26\"], [1.0, \"#f0f921\"]], \"type\": \"histogram2dcontour\"}], \"mesh3d\": [{\"colorbar\": {\"outlinewidth\": 0, \"ticks\": \"\"}, \"type\": \"mesh3d\"}], \"parcoords\": [{\"line\": {\"colorbar\": {\"outlinewidth\": 0, \"ticks\": \"\"}}, \"type\": \"parcoords\"}], \"pie\": [{\"automargin\": true, \"type\": \"pie\"}], \"scatter\": [{\"marker\": {\"colorbar\": {\"outlinewidth\": 0, \"ticks\": \"\"}}, \"type\": \"scatter\"}], \"scatter3d\": [{\"line\": {\"colorbar\": {\"outlinewidth\": 0, \"ticks\": \"\"}}, \"marker\": {\"colorbar\": {\"outlinewidth\": 0, \"ticks\": \"\"}}, \"type\": \"scatter3d\"}], \"scattercarpet\": [{\"marker\": {\"colorbar\": {\"outlinewidth\": 0, \"ticks\": \"\"}}, \"type\": \"scattercarpet\"}], \"scattergeo\": [{\"marker\": {\"colorbar\": {\"outlinewidth\": 0, \"ticks\": \"\"}}, \"type\": \"scattergeo\"}], \"scattergl\": [{\"marker\": {\"colorbar\": {\"outlinewidth\": 0, \"ticks\": \"\"}}, \"type\": \"scattergl\"}], \"scattermapbox\": [{\"marker\": {\"colorbar\": {\"outlinewidth\": 0, \"ticks\": \"\"}}, \"type\": \"scattermapbox\"}], \"scatterpolar\": [{\"marker\": {\"colorbar\": {\"outlinewidth\": 0, \"ticks\": \"\"}}, \"type\": \"scatterpolar\"}], \"scatterpolargl\": [{\"marker\": {\"colorbar\": {\"outlinewidth\": 0, \"ticks\": \"\"}}, \"type\": \"scatterpolargl\"}], \"scatterternary\": [{\"marker\": {\"colorbar\": {\"outlinewidth\": 0, \"ticks\": \"\"}}, \"type\": \"scatterternary\"}], \"surface\": [{\"colorbar\": {\"outlinewidth\": 0, \"ticks\": \"\"}, \"colorscale\": [[0.0, \"#0d0887\"], [0.1111111111111111, \"#46039f\"], [0.2222222222222222, \"#7201a8\"], [0.3333333333333333, \"#9c179e\"], [0.4444444444444444, \"#bd3786\"], [0.5555555555555556, \"#d8576b\"], [0.6666666666666666, \"#ed7953\"], [0.7777777777777778, \"#fb9f3a\"], [0.8888888888888888, \"#fdca26\"], [1.0, \"#f0f921\"]], \"type\": \"surface\"}], \"table\": [{\"cells\": {\"fill\": {\"color\": \"#EBF0F8\"}, \"line\": {\"color\": \"white\"}}, \"header\": {\"fill\": {\"color\": \"#C8D4E3\"}, \"line\": {\"color\": \"white\"}}, \"type\": \"table\"}]}, \"layout\": {\"annotationdefaults\": {\"arrowcolor\": \"#2a3f5f\", \"arrowhead\": 0, \"arrowwidth\": 1}, \"coloraxis\": {\"colorbar\": {\"outlinewidth\": 0, \"ticks\": \"\"}}, \"colorscale\": {\"diverging\": [[0, \"#8e0152\"], [0.1, \"#c51b7d\"], [0.2, \"#de77ae\"], [0.3, \"#f1b6da\"], [0.4, \"#fde0ef\"], [0.5, \"#f7f7f7\"], [0.6, \"#e6f5d0\"], [0.7, \"#b8e186\"], [0.8, \"#7fbc41\"], [0.9, \"#4d9221\"], [1, \"#276419\"]], \"sequential\": [[0.0, \"#0d0887\"], [0.1111111111111111, \"#46039f\"], [0.2222222222222222, \"#7201a8\"], [0.3333333333333333, \"#9c179e\"], [0.4444444444444444, \"#bd3786\"], [0.5555555555555556, \"#d8576b\"], [0.6666666666666666, \"#ed7953\"], [0.7777777777777778, \"#fb9f3a\"], [0.8888888888888888, \"#fdca26\"], [1.0, \"#f0f921\"]], \"sequentialminus\": [[0.0, \"#0d0887\"], [0.1111111111111111, \"#46039f\"], [0.2222222222222222, \"#7201a8\"], [0.3333333333333333, \"#9c179e\"], [0.4444444444444444, \"#bd3786\"], [0.5555555555555556, \"#d8576b\"], [0.6666666666666666, \"#ed7953\"], [0.7777777777777778, \"#fb9f3a\"], [0.8888888888888888, \"#fdca26\"], [1.0, \"#f0f921\"]]}, \"colorway\": [\"#636efa\", \"#EF553B\", \"#00cc96\", \"#ab63fa\", \"#FFA15A\", \"#19d3f3\", \"#FF6692\", \"#B6E880\", \"#FF97FF\", \"#FECB52\"], \"font\": {\"color\": \"#2a3f5f\"}, \"geo\": {\"bgcolor\": \"white\", \"lakecolor\": \"white\", \"landcolor\": \"#E5ECF6\", \"showlakes\": true, \"showland\": true, \"subunitcolor\": \"white\"}, \"hoverlabel\": {\"align\": \"left\"}, \"hovermode\": \"closest\", \"mapbox\": {\"style\": \"light\"}, \"paper_bgcolor\": \"white\", \"plot_bgcolor\": \"#E5ECF6\", \"polar\": {\"angularaxis\": {\"gridcolor\": \"white\", \"linecolor\": \"white\", \"ticks\": \"\"}, \"bgcolor\": \"#E5ECF6\", \"radialaxis\": {\"gridcolor\": \"white\", \"linecolor\": \"white\", \"ticks\": \"\"}}, \"scene\": {\"xaxis\": {\"backgroundcolor\": \"#E5ECF6\", \"gridcolor\": \"white\", \"gridwidth\": 2, \"linecolor\": \"white\", \"showbackground\": true, \"ticks\": \"\", \"zerolinecolor\": \"white\"}, \"yaxis\": {\"backgroundcolor\": \"#E5ECF6\", \"gridcolor\": \"white\", \"gridwidth\": 2, \"linecolor\": \"white\", \"showbackground\": true, \"ticks\": \"\", \"zerolinecolor\": \"white\"}, \"zaxis\": {\"backgroundcolor\": \"#E5ECF6\", \"gridcolor\": \"white\", \"gridwidth\": 2, \"linecolor\": \"white\", \"showbackground\": true, \"ticks\": \"\", \"zerolinecolor\": \"white\"}}, \"shapedefaults\": {\"line\": {\"color\": \"#2a3f5f\"}}, \"ternary\": {\"aaxis\": {\"gridcolor\": \"white\", \"linecolor\": \"white\", \"ticks\": \"\"}, \"baxis\": {\"gridcolor\": \"white\", \"linecolor\": \"white\", \"ticks\": \"\"}, \"bgcolor\": \"#E5ECF6\", \"caxis\": {\"gridcolor\": \"white\", \"linecolor\": \"white\", \"ticks\": \"\"}}, \"title\": {\"x\": 0.05}, \"xaxis\": {\"automargin\": true, \"gridcolor\": \"white\", \"linecolor\": \"white\", \"ticks\": \"\", \"title\": {\"standoff\": 15}, \"zerolinecolor\": \"white\", \"zerolinewidth\": 2}, \"yaxis\": {\"automargin\": true, \"gridcolor\": \"white\", \"linecolor\": \"white\", \"ticks\": \"\", \"title\": {\"standoff\": 15}, \"zerolinecolor\": \"white\", \"zerolinewidth\": 2}}}, \"title\": {\"text\": \"GA Block group Level Compactness vs. Black Representation\"}, \"xaxis\": {\"anchor\": \"y\", \"domain\": [0.0, 1.0], \"title\": {\"text\": \"Expected Black Representatives\"}}, \"yaxis\": {\"anchor\": \"x\", \"domain\": [0.0, 1.0], \"title\": {\"text\": \"Mean Polsby Popper Score\"}}},                        {\"responsive\": true}                    ).then(function(){\n",
       "                            \n",
       "var gd = document.getElementById('a413d965-155c-471f-88ca-8554180ef3d1');\n",
       "var x = new MutationObserver(function (mutations, observer) {{\n",
       "        var display = window.getComputedStyle(gd).display;\n",
       "        if (!display || display === 'none') {{\n",
       "            console.log([gd, 'removed!']);\n",
       "            Plotly.purge(gd);\n",
       "            observer.disconnect();\n",
       "        }}\n",
       "}});\n",
       "\n",
       "// Listen for the removal of the full notebook cells\n",
       "var notebookContainer = gd.closest('#notebook-container');\n",
       "if (notebookContainer) {{\n",
       "    x.observe(notebookContainer, {childList: true});\n",
       "}}\n",
       "\n",
       "// Listen for the clearing of the current output cell\n",
       "var outputEl = gd.closest('.output');\n",
       "if (outputEl) {{\n",
       "    x.observe(outputEl, {childList: true});\n",
       "}}\n",
       "\n",
       "                        })                };                });            </script>        </div>"
      ]
     },
     "metadata": {},
     "output_type": "display_data"
    },
    {
     "data": {
      "text/html": [
       "<div>\n",
       "<style scoped>\n",
       "    .dataframe tbody tr th:only-of-type {\n",
       "        vertical-align: middle;\n",
       "    }\n",
       "\n",
       "    .dataframe tbody tr th {\n",
       "        vertical-align: top;\n",
       "    }\n",
       "\n",
       "    .dataframe thead th {\n",
       "        text-align: right;\n",
       "    }\n",
       "</style>\n",
       "<table border=\"1\" class=\"dataframe\">\n",
       "  <thead>\n",
       "    <tr style=\"text-align: right;\">\n",
       "      <th></th>\n",
       "      <th>outfile_name</th>\n",
       "      <th>acceptance</th>\n",
       "      <th>number_of_districts</th>\n",
       "      <th>pop_tolerance</th>\n",
       "      <th>polsby_popper</th>\n",
       "      <th>mean_BVAP</th>\n",
       "      <th>black_reps</th>\n",
       "    </tr>\n",
       "  </thead>\n",
       "  <tbody>\n",
       "    <tr>\n",
       "      <th>0</th>\n",
       "      <td>block_group_bvap0_pp1_0.01k_00.csv</td>\n",
       "      <td>bvap0_pp1</td>\n",
       "      <td>14</td>\n",
       "      <td>0.01</td>\n",
       "      <td>0.150</td>\n",
       "      <td>0.291</td>\n",
       "      <td>4.30</td>\n",
       "    </tr>\n",
       "    <tr>\n",
       "      <th>1</th>\n",
       "      <td>block_group_bvap0_pp1_0.01k_01.csv</td>\n",
       "      <td>bvap0_pp1</td>\n",
       "      <td>14</td>\n",
       "      <td>0.01</td>\n",
       "      <td>0.155</td>\n",
       "      <td>0.291</td>\n",
       "      <td>4.07</td>\n",
       "    </tr>\n",
       "    <tr>\n",
       "      <th>2</th>\n",
       "      <td>block_group_bvap0_pp1bvap1_pp0_0.01k_00.csv</td>\n",
       "      <td>bvap1_pp0</td>\n",
       "      <td>14</td>\n",
       "      <td>0.01</td>\n",
       "      <td>0.125</td>\n",
       "      <td>0.291</td>\n",
       "      <td>4.03</td>\n",
       "    </tr>\n",
       "    <tr>\n",
       "      <th>3</th>\n",
       "      <td>block_group_bvap0_pp1bvap1_pp0_0.01k_01.csv</td>\n",
       "      <td>bvap1_pp0</td>\n",
       "      <td>14</td>\n",
       "      <td>0.01</td>\n",
       "      <td>0.174</td>\n",
       "      <td>0.291</td>\n",
       "      <td>4.29</td>\n",
       "    </tr>\n",
       "    <tr>\n",
       "      <th>4</th>\n",
       "      <td>block_group_bvap0_pp1bvap1_pp0bvap0.75_pp0.25_...</td>\n",
       "      <td>bvap0.75_pp0.25</td>\n",
       "      <td>14</td>\n",
       "      <td>0.01</td>\n",
       "      <td>0.159</td>\n",
       "      <td>0.291</td>\n",
       "      <td>4.26</td>\n",
       "    </tr>\n",
       "    <tr>\n",
       "      <th>5</th>\n",
       "      <td>block_group_bvap0_pp1bvap1_pp0bvap0.75_pp0.25_...</td>\n",
       "      <td>bvap0.75_pp0.25</td>\n",
       "      <td>14</td>\n",
       "      <td>0.01</td>\n",
       "      <td>0.148</td>\n",
       "      <td>0.291</td>\n",
       "      <td>4.16</td>\n",
       "    </tr>\n",
       "    <tr>\n",
       "      <th>6</th>\n",
       "      <td>block_group_bvap0_pp1bvap1_pp0bvap0.75_pp0.25b...</td>\n",
       "      <td>bvap0.25_pp0.75</td>\n",
       "      <td>14</td>\n",
       "      <td>0.01</td>\n",
       "      <td>0.170</td>\n",
       "      <td>0.292</td>\n",
       "      <td>3.86</td>\n",
       "    </tr>\n",
       "    <tr>\n",
       "      <th>7</th>\n",
       "      <td>block_group_bvap0_pp1bvap1_pp0bvap0.75_pp0.25b...</td>\n",
       "      <td>bvap0.25_pp0.75</td>\n",
       "      <td>14</td>\n",
       "      <td>0.01</td>\n",
       "      <td>0.165</td>\n",
       "      <td>0.292</td>\n",
       "      <td>3.65</td>\n",
       "    </tr>\n",
       "    <tr>\n",
       "      <th>8</th>\n",
       "      <td>block_group_bvap0_pp1bvap1_pp0bvap0.75_pp0.25b...</td>\n",
       "      <td>bvap1_pp1</td>\n",
       "      <td>14</td>\n",
       "      <td>0.01</td>\n",
       "      <td>0.199</td>\n",
       "      <td>0.291</td>\n",
       "      <td>4.20</td>\n",
       "    </tr>\n",
       "    <tr>\n",
       "      <th>9</th>\n",
       "      <td>block_group_bvap0_pp1bvap1_pp0bvap0.75_pp0.25b...</td>\n",
       "      <td>bvap1_pp1</td>\n",
       "      <td>14</td>\n",
       "      <td>0.01</td>\n",
       "      <td>0.174</td>\n",
       "      <td>0.291</td>\n",
       "      <td>4.04</td>\n",
       "    </tr>\n",
       "    <tr>\n",
       "      <th>10</th>\n",
       "      <td>block_group__0.01k_00.csv</td>\n",
       "      <td>mixed_objective_redefined_later</td>\n",
       "      <td>14</td>\n",
       "      <td>0.01</td>\n",
       "      <td>0.198</td>\n",
       "      <td>0.292</td>\n",
       "      <td>4.03</td>\n",
       "    </tr>\n",
       "    <tr>\n",
       "      <th>11</th>\n",
       "      <td>block_group__0.01k_01.csv</td>\n",
       "      <td>mixed_objective_redefined_later</td>\n",
       "      <td>14</td>\n",
       "      <td>0.01</td>\n",
       "      <td>0.142</td>\n",
       "      <td>0.292</td>\n",
       "      <td>4.35</td>\n",
       "    </tr>\n",
       "    <tr>\n",
       "      <th>12</th>\n",
       "      <td>block_group_bvap1_pp1_0.01k_00.csv</td>\n",
       "      <td>mixed_objective_redefined_later</td>\n",
       "      <td>14</td>\n",
       "      <td>0.01</td>\n",
       "      <td>0.155</td>\n",
       "      <td>0.291</td>\n",
       "      <td>4.07</td>\n",
       "    </tr>\n",
       "    <tr>\n",
       "      <th>13</th>\n",
       "      <td>block_group_bvap0_pp1_0.01k_01.csv</td>\n",
       "      <td>bvap0_pp1</td>\n",
       "      <td>14</td>\n",
       "      <td>0.01</td>\n",
       "      <td>0.174</td>\n",
       "      <td>0.290</td>\n",
       "      <td>4.29</td>\n",
       "    </tr>\n",
       "    <tr>\n",
       "      <th>14</th>\n",
       "      <td>block_group_bvap1_pp0_0.01k_00.csv</td>\n",
       "      <td>bvap1_pp0</td>\n",
       "      <td>14</td>\n",
       "      <td>0.01</td>\n",
       "      <td>0.159</td>\n",
       "      <td>0.291</td>\n",
       "      <td>4.01</td>\n",
       "    </tr>\n",
       "    <tr>\n",
       "      <th>15</th>\n",
       "      <td>block_group_bvap1_pp0_0.01k_01.csv</td>\n",
       "      <td>bvap1_pp0</td>\n",
       "      <td>14</td>\n",
       "      <td>0.01</td>\n",
       "      <td>0.152</td>\n",
       "      <td>0.291</td>\n",
       "      <td>4.13</td>\n",
       "    </tr>\n",
       "    <tr>\n",
       "      <th>16</th>\n",
       "      <td>block_group_bvap0.75_pp0.25_0.01k_00.csv</td>\n",
       "      <td>bvap0.75_pp0.25</td>\n",
       "      <td>14</td>\n",
       "      <td>0.01</td>\n",
       "      <td>0.156</td>\n",
       "      <td>0.290</td>\n",
       "      <td>3.75</td>\n",
       "    </tr>\n",
       "    <tr>\n",
       "      <th>17</th>\n",
       "      <td>block_group_bvap0.75_pp0.25_0.01k_01.csv</td>\n",
       "      <td>bvap0.75_pp0.25</td>\n",
       "      <td>14</td>\n",
       "      <td>0.01</td>\n",
       "      <td>0.165</td>\n",
       "      <td>0.291</td>\n",
       "      <td>4.22</td>\n",
       "    </tr>\n",
       "    <tr>\n",
       "      <th>18</th>\n",
       "      <td>block_group_bvap0.25_pp0.75_0.01k_00.csv</td>\n",
       "      <td>bvap0.25_pp0.75</td>\n",
       "      <td>14</td>\n",
       "      <td>0.01</td>\n",
       "      <td>0.177</td>\n",
       "      <td>0.291</td>\n",
       "      <td>4.11</td>\n",
       "    </tr>\n",
       "    <tr>\n",
       "      <th>19</th>\n",
       "      <td>block_group_bvap0.25_pp0.75_0.01k_01.csv</td>\n",
       "      <td>bvap0.25_pp0.75</td>\n",
       "      <td>14</td>\n",
       "      <td>0.01</td>\n",
       "      <td>0.178</td>\n",
       "      <td>0.292</td>\n",
       "      <td>4.28</td>\n",
       "    </tr>\n",
       "    <tr>\n",
       "      <th>20</th>\n",
       "      <td>block_group_bvap1_pp1_0.01k_00.csv</td>\n",
       "      <td>bvap1_pp1</td>\n",
       "      <td>14</td>\n",
       "      <td>0.01</td>\n",
       "      <td>0.183</td>\n",
       "      <td>0.291</td>\n",
       "      <td>4.13</td>\n",
       "    </tr>\n",
       "    <tr>\n",
       "      <th>21</th>\n",
       "      <td>block_group_bvap1_pp1_0.01k_01.csv</td>\n",
       "      <td>bvap1_pp1</td>\n",
       "      <td>14</td>\n",
       "      <td>0.01</td>\n",
       "      <td>0.141</td>\n",
       "      <td>0.291</td>\n",
       "      <td>4.11</td>\n",
       "    </tr>\n",
       "    <tr>\n",
       "      <th>22</th>\n",
       "      <td>block_group__0.01k_00.csv</td>\n",
       "      <td>mixed_objective_redefined_later</td>\n",
       "      <td>14</td>\n",
       "      <td>0.01</td>\n",
       "      <td>0.185</td>\n",
       "      <td>0.292</td>\n",
       "      <td>3.60</td>\n",
       "    </tr>\n",
       "    <tr>\n",
       "      <th>23</th>\n",
       "      <td>block_group__0.01k_00.csv</td>\n",
       "      <td>mixed_objective_redefined_later</td>\n",
       "      <td>14</td>\n",
       "      <td>0.01</td>\n",
       "      <td>0.161</td>\n",
       "      <td>0.291</td>\n",
       "      <td>3.63</td>\n",
       "    </tr>\n",
       "    <tr>\n",
       "      <th>24</th>\n",
       "      <td>block_group__0.01k_00.csv</td>\n",
       "      <td>mixed_objective_redefined_later</td>\n",
       "      <td>14</td>\n",
       "      <td>0.01</td>\n",
       "      <td>0.170</td>\n",
       "      <td>0.292</td>\n",
       "      <td>3.85</td>\n",
       "    </tr>\n",
       "    <tr>\n",
       "      <th>25</th>\n",
       "      <td>block_group__0.01k_00.csv</td>\n",
       "      <td>mixed_objective_redefined_later</td>\n",
       "      <td>14</td>\n",
       "      <td>0.01</td>\n",
       "      <td>0.148</td>\n",
       "      <td>0.291</td>\n",
       "      <td>4.28</td>\n",
       "    </tr>\n",
       "    <tr>\n",
       "      <th>26</th>\n",
       "      <td>block_group__0.01k_00.csv</td>\n",
       "      <td>mixed_objective_redefined_later</td>\n",
       "      <td>14</td>\n",
       "      <td>0.01</td>\n",
       "      <td>0.144</td>\n",
       "      <td>0.291</td>\n",
       "      <td>4.19</td>\n",
       "    </tr>\n",
       "    <tr>\n",
       "      <th>27</th>\n",
       "      <td>block_group__0.01k_01.csv</td>\n",
       "      <td>mixed_objective_redefined_later</td>\n",
       "      <td>14</td>\n",
       "      <td>0.01</td>\n",
       "      <td>0.152</td>\n",
       "      <td>0.292</td>\n",
       "      <td>3.82</td>\n",
       "    </tr>\n",
       "    <tr>\n",
       "      <th>28</th>\n",
       "      <td>block_group__0.01k_02.csv</td>\n",
       "      <td>mixed_objective_redefined_later</td>\n",
       "      <td>14</td>\n",
       "      <td>0.01</td>\n",
       "      <td>0.150</td>\n",
       "      <td>0.291</td>\n",
       "      <td>3.99</td>\n",
       "    </tr>\n",
       "    <tr>\n",
       "      <th>29</th>\n",
       "      <td>block_group__0.1k_00.csv</td>\n",
       "      <td>mixed_objective_redefined_later</td>\n",
       "      <td>14</td>\n",
       "      <td>0.01</td>\n",
       "      <td>0.162</td>\n",
       "      <td>0.292</td>\n",
       "      <td>4.33</td>\n",
       "    </tr>\n",
       "    <tr>\n",
       "      <th>30</th>\n",
       "      <td>block_group__0.1k_01.csv</td>\n",
       "      <td>mixed_objective_redefined_later</td>\n",
       "      <td>14</td>\n",
       "      <td>0.01</td>\n",
       "      <td>0.152</td>\n",
       "      <td>0.291</td>\n",
       "      <td>4.31</td>\n",
       "    </tr>\n",
       "    <tr>\n",
       "      <th>31</th>\n",
       "      <td>block_group__0.1k_02.csv</td>\n",
       "      <td>mixed_objective_redefined_later</td>\n",
       "      <td>14</td>\n",
       "      <td>0.01</td>\n",
       "      <td>0.138</td>\n",
       "      <td>0.291</td>\n",
       "      <td>4.25</td>\n",
       "    </tr>\n",
       "    <tr>\n",
       "      <th>32</th>\n",
       "      <td>block_group__1.0k_00.csv</td>\n",
       "      <td>mixed_objective_redefined_later</td>\n",
       "      <td>14</td>\n",
       "      <td>0.01</td>\n",
       "      <td>0.135</td>\n",
       "      <td>0.292</td>\n",
       "      <td>4.63</td>\n",
       "    </tr>\n",
       "    <tr>\n",
       "      <th>33</th>\n",
       "      <td>block_group__1.0k_01.csv</td>\n",
       "      <td>mixed_objective_redefined_later</td>\n",
       "      <td>14</td>\n",
       "      <td>0.01</td>\n",
       "      <td>0.119</td>\n",
       "      <td>0.293</td>\n",
       "      <td>4.71</td>\n",
       "    </tr>\n",
       "    <tr>\n",
       "      <th>34</th>\n",
       "      <td>block_group__1.0k_02.csv</td>\n",
       "      <td>mixed_objective_redefined_later</td>\n",
       "      <td>14</td>\n",
       "      <td>0.01</td>\n",
       "      <td>0.136</td>\n",
       "      <td>0.294</td>\n",
       "      <td>4.59</td>\n",
       "    </tr>\n",
       "    <tr>\n",
       "      <th>35</th>\n",
       "      <td>block_group_bvap1_pp0_0.1k_00.csv</td>\n",
       "      <td>mixed_objective_redefined_later</td>\n",
       "      <td>14</td>\n",
       "      <td>0.01</td>\n",
       "      <td>0.148</td>\n",
       "      <td>0.293</td>\n",
       "      <td>4.57</td>\n",
       "    </tr>\n",
       "    <tr>\n",
       "      <th>36</th>\n",
       "      <td>block_group_bvap1_pp0_0.1k_01.csv</td>\n",
       "      <td>mixed_objective_redefined_later</td>\n",
       "      <td>14</td>\n",
       "      <td>0.01</td>\n",
       "      <td>0.155</td>\n",
       "      <td>0.292</td>\n",
       "      <td>4.16</td>\n",
       "    </tr>\n",
       "    <tr>\n",
       "      <th>37</th>\n",
       "      <td>block_group_bvap1_pp0_0.1k_02.csv</td>\n",
       "      <td>mixed_objective_redefined_later</td>\n",
       "      <td>14</td>\n",
       "      <td>0.01</td>\n",
       "      <td>0.152</td>\n",
       "      <td>0.292</td>\n",
       "      <td>4.24</td>\n",
       "    </tr>\n",
       "    <tr>\n",
       "      <th>38</th>\n",
       "      <td>block_group_bvap1_pp0bvap1_pp0_0.1k_00.csv</td>\n",
       "      <td>mixed_objective_redefined_later</td>\n",
       "      <td>14</td>\n",
       "      <td>0.01</td>\n",
       "      <td>0.160</td>\n",
       "      <td>0.291</td>\n",
       "      <td>4.19</td>\n",
       "    </tr>\n",
       "    <tr>\n",
       "      <th>39</th>\n",
       "      <td>block_group_bvap1_pp0bvap1_pp0_0.1k_01.csv</td>\n",
       "      <td>mixed_objective_redefined_later</td>\n",
       "      <td>14</td>\n",
       "      <td>0.01</td>\n",
       "      <td>0.126</td>\n",
       "      <td>0.292</td>\n",
       "      <td>4.47</td>\n",
       "    </tr>\n",
       "    <tr>\n",
       "      <th>40</th>\n",
       "      <td>block_group_bvap1_pp0bvap1_pp0_0.1k_02.csv</td>\n",
       "      <td>mixed_objective_redefined_later</td>\n",
       "      <td>14</td>\n",
       "      <td>0.01</td>\n",
       "      <td>0.141</td>\n",
       "      <td>0.292</td>\n",
       "      <td>4.25</td>\n",
       "    </tr>\n",
       "  </tbody>\n",
       "</table>\n",
       "</div>"
      ],
      "text/plain": [
       "                                         outfile_name  \\\n",
       "0                  block_group_bvap0_pp1_0.01k_00.csv   \n",
       "1                  block_group_bvap0_pp1_0.01k_01.csv   \n",
       "2         block_group_bvap0_pp1bvap1_pp0_0.01k_00.csv   \n",
       "3         block_group_bvap0_pp1bvap1_pp0_0.01k_01.csv   \n",
       "4   block_group_bvap0_pp1bvap1_pp0bvap0.75_pp0.25_...   \n",
       "5   block_group_bvap0_pp1bvap1_pp0bvap0.75_pp0.25_...   \n",
       "6   block_group_bvap0_pp1bvap1_pp0bvap0.75_pp0.25b...   \n",
       "7   block_group_bvap0_pp1bvap1_pp0bvap0.75_pp0.25b...   \n",
       "8   block_group_bvap0_pp1bvap1_pp0bvap0.75_pp0.25b...   \n",
       "9   block_group_bvap0_pp1bvap1_pp0bvap0.75_pp0.25b...   \n",
       "10                          block_group__0.01k_00.csv   \n",
       "11                          block_group__0.01k_01.csv   \n",
       "12                 block_group_bvap1_pp1_0.01k_00.csv   \n",
       "13                 block_group_bvap0_pp1_0.01k_01.csv   \n",
       "14                 block_group_bvap1_pp0_0.01k_00.csv   \n",
       "15                 block_group_bvap1_pp0_0.01k_01.csv   \n",
       "16           block_group_bvap0.75_pp0.25_0.01k_00.csv   \n",
       "17           block_group_bvap0.75_pp0.25_0.01k_01.csv   \n",
       "18           block_group_bvap0.25_pp0.75_0.01k_00.csv   \n",
       "19           block_group_bvap0.25_pp0.75_0.01k_01.csv   \n",
       "20                 block_group_bvap1_pp1_0.01k_00.csv   \n",
       "21                 block_group_bvap1_pp1_0.01k_01.csv   \n",
       "22                          block_group__0.01k_00.csv   \n",
       "23                          block_group__0.01k_00.csv   \n",
       "24                          block_group__0.01k_00.csv   \n",
       "25                          block_group__0.01k_00.csv   \n",
       "26                          block_group__0.01k_00.csv   \n",
       "27                          block_group__0.01k_01.csv   \n",
       "28                          block_group__0.01k_02.csv   \n",
       "29                           block_group__0.1k_00.csv   \n",
       "30                           block_group__0.1k_01.csv   \n",
       "31                           block_group__0.1k_02.csv   \n",
       "32                           block_group__1.0k_00.csv   \n",
       "33                           block_group__1.0k_01.csv   \n",
       "34                           block_group__1.0k_02.csv   \n",
       "35                  block_group_bvap1_pp0_0.1k_00.csv   \n",
       "36                  block_group_bvap1_pp0_0.1k_01.csv   \n",
       "37                  block_group_bvap1_pp0_0.1k_02.csv   \n",
       "38         block_group_bvap1_pp0bvap1_pp0_0.1k_00.csv   \n",
       "39         block_group_bvap1_pp0bvap1_pp0_0.1k_01.csv   \n",
       "40         block_group_bvap1_pp0bvap1_pp0_0.1k_02.csv   \n",
       "\n",
       "                         acceptance  number_of_districts  pop_tolerance  \\\n",
       "0                         bvap0_pp1                   14           0.01   \n",
       "1                         bvap0_pp1                   14           0.01   \n",
       "2                         bvap1_pp0                   14           0.01   \n",
       "3                         bvap1_pp0                   14           0.01   \n",
       "4                   bvap0.75_pp0.25                   14           0.01   \n",
       "5                   bvap0.75_pp0.25                   14           0.01   \n",
       "6                   bvap0.25_pp0.75                   14           0.01   \n",
       "7                   bvap0.25_pp0.75                   14           0.01   \n",
       "8                         bvap1_pp1                   14           0.01   \n",
       "9                         bvap1_pp1                   14           0.01   \n",
       "10  mixed_objective_redefined_later                   14           0.01   \n",
       "11  mixed_objective_redefined_later                   14           0.01   \n",
       "12  mixed_objective_redefined_later                   14           0.01   \n",
       "13                        bvap0_pp1                   14           0.01   \n",
       "14                        bvap1_pp0                   14           0.01   \n",
       "15                        bvap1_pp0                   14           0.01   \n",
       "16                  bvap0.75_pp0.25                   14           0.01   \n",
       "17                  bvap0.75_pp0.25                   14           0.01   \n",
       "18                  bvap0.25_pp0.75                   14           0.01   \n",
       "19                  bvap0.25_pp0.75                   14           0.01   \n",
       "20                        bvap1_pp1                   14           0.01   \n",
       "21                        bvap1_pp1                   14           0.01   \n",
       "22  mixed_objective_redefined_later                   14           0.01   \n",
       "23  mixed_objective_redefined_later                   14           0.01   \n",
       "24  mixed_objective_redefined_later                   14           0.01   \n",
       "25  mixed_objective_redefined_later                   14           0.01   \n",
       "26  mixed_objective_redefined_later                   14           0.01   \n",
       "27  mixed_objective_redefined_later                   14           0.01   \n",
       "28  mixed_objective_redefined_later                   14           0.01   \n",
       "29  mixed_objective_redefined_later                   14           0.01   \n",
       "30  mixed_objective_redefined_later                   14           0.01   \n",
       "31  mixed_objective_redefined_later                   14           0.01   \n",
       "32  mixed_objective_redefined_later                   14           0.01   \n",
       "33  mixed_objective_redefined_later                   14           0.01   \n",
       "34  mixed_objective_redefined_later                   14           0.01   \n",
       "35  mixed_objective_redefined_later                   14           0.01   \n",
       "36  mixed_objective_redefined_later                   14           0.01   \n",
       "37  mixed_objective_redefined_later                   14           0.01   \n",
       "38  mixed_objective_redefined_later                   14           0.01   \n",
       "39  mixed_objective_redefined_later                   14           0.01   \n",
       "40  mixed_objective_redefined_later                   14           0.01   \n",
       "\n",
       "    polsby_popper  mean_BVAP  black_reps  \n",
       "0           0.150      0.291        4.30  \n",
       "1           0.155      0.291        4.07  \n",
       "2           0.125      0.291        4.03  \n",
       "3           0.174      0.291        4.29  \n",
       "4           0.159      0.291        4.26  \n",
       "5           0.148      0.291        4.16  \n",
       "6           0.170      0.292        3.86  \n",
       "7           0.165      0.292        3.65  \n",
       "8           0.199      0.291        4.20  \n",
       "9           0.174      0.291        4.04  \n",
       "10          0.198      0.292        4.03  \n",
       "11          0.142      0.292        4.35  \n",
       "12          0.155      0.291        4.07  \n",
       "13          0.174      0.290        4.29  \n",
       "14          0.159      0.291        4.01  \n",
       "15          0.152      0.291        4.13  \n",
       "16          0.156      0.290        3.75  \n",
       "17          0.165      0.291        4.22  \n",
       "18          0.177      0.291        4.11  \n",
       "19          0.178      0.292        4.28  \n",
       "20          0.183      0.291        4.13  \n",
       "21          0.141      0.291        4.11  \n",
       "22          0.185      0.292        3.60  \n",
       "23          0.161      0.291        3.63  \n",
       "24          0.170      0.292        3.85  \n",
       "25          0.148      0.291        4.28  \n",
       "26          0.144      0.291        4.19  \n",
       "27          0.152      0.292        3.82  \n",
       "28          0.150      0.291        3.99  \n",
       "29          0.162      0.292        4.33  \n",
       "30          0.152      0.291        4.31  \n",
       "31          0.138      0.291        4.25  \n",
       "32          0.135      0.292        4.63  \n",
       "33          0.119      0.293        4.71  \n",
       "34          0.136      0.294        4.59  \n",
       "35          0.148      0.293        4.57  \n",
       "36          0.155      0.292        4.16  \n",
       "37          0.152      0.292        4.24  \n",
       "38          0.160      0.291        4.19  \n",
       "39          0.126      0.292        4.47  \n",
       "40          0.141      0.292        4.25  "
      ]
     },
     "execution_count": 26,
     "metadata": {},
     "output_type": "execute_result"
    }
   ],
   "source": [
    "import plotly.express as px\n",
    "\n",
    "#fig = px.scatter(x=black_reps, y=compact_avg)\n",
    "\n",
    "fig = px.scatter(df_summary, x=\"black_reps\", y=\"polsby_popper\", hover_data=['outfile_name','pop_tolerance'])\n",
    "fig.update_layout(title=f'{state_code.upper()} {block_level.capitalize()} Level Compactness vs. Black Representation',\n",
    "                    xaxis_title=\"Expected Black Representatives\",\n",
    "                    yaxis_title=\"Mean Polsby Popper Score\")\n",
    "# Create an interactive plot\n",
    "fig.write_html(f\"outputs/{state_code}/{state_code}_{block_level}_comparison.html\")\n",
    "fig.show()\n",
    "\n",
    "df_summary # display the data (you could also just open the .csv file in excel if you want to look at it)"
   ]
  },
  {
   "cell_type": "code",
   "execution_count": 22,
   "metadata": {},
   "outputs": [
    {
     "data": {
      "application/vnd.jupyter.widget-view+json": {
       "model_id": "0c6affe7bce54df0a901602fef8d3abc",
       "version_major": 2,
       "version_minor": 0
      },
      "text/plain": [
       "FigureWidget({\n",
       "    'data': [{'marker': {'color': [#a3a7e4, #a3a7e4, #a3a7e4, #a3a7e4, #a3a7e4,\n",
       "               …"
      ]
     },
     "metadata": {},
     "output_type": "display_data"
    }
   ],
   "source": [
    "import plotly.graph_objects as go\n",
    "\n",
    "import numpy as np\n",
    "np.random.seed(1)\n",
    "\n",
    "x = np.random.rand(100)\n",
    "y = np.random.rand(100)\n",
    "\n",
    "f = go.FigureWidget([go.Scatter(x=x, y=y, mode='markers')])\n",
    "\n",
    "scatter = f.data[0]\n",
    "colors = ['#a3a7e4'] * 100\n",
    "scatter.marker.color = colors\n",
    "scatter.marker.size = [10] * 100\n",
    "f.layout.hovermode = 'closest'\n",
    "\n",
    "\n",
    "# create our callback function\n",
    "def update_point(trace, points, selector):\n",
    "    c = list(scatter.marker.color)\n",
    "    s = list(scatter.marker.size)\n",
    "    for i in points.point_inds:\n",
    "        c[i] = '#bae2be'\n",
    "        s[i] = 20\n",
    "        with f.batch_update():\n",
    "            scatter.marker.color = c\n",
    "            scatter.marker.size = s\n",
    "\n",
    "\n",
    "scatter.on_click(update_point)\n",
    "f"
   ]
  },
  {
   "cell_type": "markdown",
   "metadata": {},
   "source": [
    "# Clustering Plot\n",
    "This will create a cluster plot of all the solutions computed and show which are the most representative solutions.\n",
    "\n"
   ]
  },
  {
   "cell_type": "code",
   "execution_count": null,
   "metadata": {},
   "outputs": [],
   "source": [
    "......\n"
   ]
  },
  {
   "cell_type": "markdown",
   "metadata": {},
   "source": [
    "# Draw a solution as a graph\n",
    "This will draw a particular solution as a graph of nodes and edges."
   ]
  },
  {
   "cell_type": "code",
   "execution_count": null,
   "metadata": {},
   "outputs": [],
   "source": [
    "......"
   ]
  }
 ],
 "metadata": {
  "kernelspec": {
   "display_name": "Python 3",
   "language": "python",
   "name": "python3"
  },
  "language_info": {
   "codemirror_mode": {
    "name": "ipython",
    "version": 3
   },
   "file_extension": ".py",
   "mimetype": "text/x-python",
   "name": "python",
   "nbconvert_exporter": "python",
   "pygments_lexer": "ipython3",
   "version": "3.8.5"
  }
 },
 "nbformat": 4,
 "nbformat_minor": 4
}
