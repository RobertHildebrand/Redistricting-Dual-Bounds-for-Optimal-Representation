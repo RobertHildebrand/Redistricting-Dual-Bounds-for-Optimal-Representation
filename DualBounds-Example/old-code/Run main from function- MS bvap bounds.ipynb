{
 "cells": [
  {
   "cell_type": "markdown",
   "metadata": {},
   "source": [
    "# Main function\n",
    "Pick a config file and then run then main function on this config file.\n",
    "\n",
    "Alternatively, this can be run from the command line as\n",
    "\n",
    "python main.py config.json"
   ]
  },
  {
   "cell_type": "code",
   "execution_count": 1,
   "metadata": {},
   "outputs": [],
   "source": [
    "%load_ext autoreload\n",
    "%autoreload 2\n",
    "\n",
    "import logging\n",
    "logging.getLogger().setLevel(logging.ERROR)\n",
    "\n",
    "import warnings; warnings.simplefilter('ignore')"
   ]
  },
  {
   "cell_type": "code",
   "execution_count": null,
   "metadata": {},
   "outputs": [
    {
     "name": "stdout",
     "output_type": "stream",
     "text": [
      "Reading config from config-MS-bvap-bounds_100min.json\n",
      "Experiments to run:\n",
      "dict_keys(['MS_vap_0_max', 'MS_vap_1_max', 'MS_vap_2_max', 'MS_vap_3_max', 'MS_vap_0_min', 'MS_vap_1_min', 'MS_vap_2_min', 'MS_vap_3_min', 'MS_bvap_0_max', 'MS_bvap_1_max', 'MS_bvap_2_max', 'MS_bvap_3_max', 'MS_bvap_0_min', 'MS_bvap_1_min', 'MS_bvap_2_min', 'MS_bvap_3_min'])\n",
      "In run MS_vap_0_max using config: {'state': 'MS', 'level': 'county', 'base': 'labeling', 'obj': 'bvap_bounds', 'R': 90, 'dist_bounds': False, 'tlimit': 6000, 'fixing': False, 'contiguity': 'lcut', 'symmetry': 'none', 'extended': False, 'order': 'none', 'heuristic': True, 'lp': False, 'obj_order': 'vap_max', 'index': 0}.\n",
      "../data/county/dual_graphs/county28.json\n",
      "\n",
      "L = 666288 , U = 814351 , k = 4\n",
      "{'state': 'MS', 'level': 'county', 'base': 'labeling', 'obj': 'bvap_bounds', 'R': 90, 'dist_bounds': False, 'tlimit': 6000, 'fixing': False, 'contiguity': 'lcut', 'symmetry': 'none', 'extended': False, 'order': 'none', 'heuristic': True, 'lp': False, 'obj_order': 'vap_max', 'index': 0, 'run': 'MS_vap_0_max', 'k': 4, 'L': 666288, 'U': 814351, 'm': 202, 'n': 82, 'heur_obj': 'n/a', 'heur_time': 'n/a', 'heur_iter': 'n/a'}\n",
      "Adding bvap ordering\n",
      "Loading best known solution from ..\\results-ALMSLA_PWL\\MS-county-PWL-10.json\n",
      "{2: [0, 2, 4, 5, 7, 11, 14, 17, 19, 20, 23, 27, 28, 31, 34, 35, 36, 42, 43, 50, 51, 58, 59, 65, 66, 68, 69, 70, 73, 76, 80], 3: [1, 3, 6, 9, 16, 24, 25, 26, 32, 33, 37, 39, 44, 47, 48, 52, 55, 56, 57, 60, 61, 62, 71, 78, 81], 1: [8, 10, 15, 18, 29, 30, 38, 41, 45, 46, 49, 53, 67, 72, 79], 0: [12, 13, 21, 22, 40, 54, 63, 64, 74, 75, 77]}\n",
      "{2: 262518, 3: 162611, 1: 255704, 0: 122130}\n",
      "Reordering district warm start for bvap ordering\n",
      "{3: [0, 2, 4, 5, 7, 11, 14, 17, 19, 20, 23, 27, 28, 31, 34, 35, 36, 42, 43, 50, 51, 58, 59, 65, 66, 68, 69, 70, 73, 76, 80], 1: [1, 3, 6, 9, 16, 24, 25, 26, 32, 33, 37, 39, 44, 47, 48, 52, 55, 56, 57, 60, 61, 62, 71, 78, 81], 2: [8, 10, 15, 18, 29, 30, 38, 41, 45, 46, 49, 53, 67, 72, 79], 0: [12, 13, 21, 22, 40, 54, 63, 64, 74, 75, 77]}\n",
      "{3: 262518, 1: 162611, 2: 255704, 0: 122130}\n",
      "Changed value of parameter lazyConstraints to 1\n"
     ]
    },
    {
     "name": "stderr",
     "output_type": "stream",
     "text": [
      "2023-04-20 17:49:18,908 - INFO - Changed value of parameter lazyConstraints to 1\n"
     ]
    },
    {
     "name": "stdout",
     "output_type": "stream",
     "text": [
      "   Prev: 0  Min: 0  Max: 1  Default: 0\n"
     ]
    },
    {
     "name": "stderr",
     "output_type": "stream",
     "text": [
      "2023-04-20 17:49:18,908 - INFO -    Prev: 0  Min: 0  Max: 1  Default: 0\n"
     ]
    },
    {
     "name": "stdout",
     "output_type": "stream",
     "text": [
      "\n",
      " start stuff \n",
      "\n",
      "Changed value of parameter TimeLimit to 6000.0\n"
     ]
    },
    {
     "name": "stderr",
     "output_type": "stream",
     "text": [
      "2023-04-20 17:49:18,908 - INFO - Changed value of parameter TimeLimit to 6000.0\n"
     ]
    },
    {
     "name": "stdout",
     "output_type": "stream",
     "text": [
      "   Prev: inf  Min: 0.0  Max: inf  Default: inf\n"
     ]
    },
    {
     "name": "stderr",
     "output_type": "stream",
     "text": [
      "2023-04-20 17:49:18,908 - INFO -    Prev: inf  Min: 0.0  Max: inf  Default: inf\n"
     ]
    },
    {
     "name": "stdout",
     "output_type": "stream",
     "text": [
      "Changed value of parameter Method to 3\n"
     ]
    },
    {
     "name": "stderr",
     "output_type": "stream",
     "text": [
      "2023-04-20 17:49:18,925 - INFO - Changed value of parameter Method to 3\n"
     ]
    },
    {
     "name": "stdout",
     "output_type": "stream",
     "text": [
      "   Prev: -1  Min: -1  Max: 5  Default: -1\n"
     ]
    },
    {
     "name": "stderr",
     "output_type": "stream",
     "text": [
      "2023-04-20 17:49:18,927 - INFO -    Prev: -1  Min: -1  Max: 5  Default: -1\n"
     ]
    },
    {
     "name": "stdout",
     "output_type": "stream",
     "text": [
      "Changed value of parameter LogFile to ../results_for_config-MS-bvap-bounds_100min/MS-county-bvap_bounds-90.log\n"
     ]
    },
    {
     "name": "stderr",
     "output_type": "stream",
     "text": [
      "2023-04-20 17:49:18,930 - INFO - Changed value of parameter LogFile to ../results_for_config-MS-bvap-bounds_100min/MS-county-bvap_bounds-90.log\n"
     ]
    },
    {
     "name": "stdout",
     "output_type": "stream",
     "text": [
      "   Prev:   Default: \n"
     ]
    },
    {
     "name": "stderr",
     "output_type": "stream",
     "text": [
      "2023-04-20 17:49:18,933 - INFO -    Prev:   Default: \n"
     ]
    },
    {
     "name": "stdout",
     "output_type": "stream",
     "text": [
      "Gurobi Optimizer version 9.1.2 build v9.1.2rc0 (win64)\n"
     ]
    },
    {
     "name": "stderr",
     "output_type": "stream",
     "text": [
      "2023-04-20 17:49:18,935 - INFO - Gurobi Optimizer version 9.1.2 build v9.1.2rc0 (win64)\n"
     ]
    },
    {
     "name": "stdout",
     "output_type": "stream",
     "text": [
      "Thread count: 24 physical cores, 48 logical processors, using up to 24 threads\n"
     ]
    },
    {
     "name": "stderr",
     "output_type": "stream",
     "text": [
      "2023-04-20 17:49:18,939 - INFO - Thread count: 24 physical cores, 48 logical processors, using up to 24 threads\n"
     ]
    },
    {
     "name": "stdout",
     "output_type": "stream",
     "text": [
      "Optimize a model with 101 rows, 664 columns and 1654 nonzeros\n"
     ]
    },
    {
     "name": "stderr",
     "output_type": "stream",
     "text": [
      "2023-04-20 17:49:18,941 - INFO - Optimize a model with 101 rows, 664 columns and 1654 nonzeros\n"
     ]
    },
    {
     "name": "stdout",
     "output_type": "stream",
     "text": [
      "Model fingerprint: 0x21e2134e\n"
     ]
    },
    {
     "name": "stderr",
     "output_type": "stream",
     "text": [
      "2023-04-20 17:49:18,943 - INFO - Model fingerprint: 0x21e2134e\n"
     ]
    },
    {
     "name": "stdout",
     "output_type": "stream",
     "text": [
      "Variable types: 8 continuous, 656 integer (656 binary)\n"
     ]
    },
    {
     "name": "stderr",
     "output_type": "stream",
     "text": [
      "2023-04-20 17:49:18,944 - INFO - Variable types: 8 continuous, 656 integer (656 binary)\n"
     ]
    },
    {
     "name": "stdout",
     "output_type": "stream",
     "text": [
      "Coefficient statistics:\n"
     ]
    },
    {
     "name": "stderr",
     "output_type": "stream",
     "text": [
      "2023-04-20 17:49:18,944 - INFO - Coefficient statistics:\n"
     ]
    },
    {
     "name": "stdout",
     "output_type": "stream",
     "text": [
      "  Matrix range     [1e+00, 2e+05]\n"
     ]
    },
    {
     "name": "stderr",
     "output_type": "stream",
     "text": [
      "2023-04-20 17:49:18,944 - INFO -   Matrix range     [1e+00, 2e+05]\n"
     ]
    },
    {
     "name": "stdout",
     "output_type": "stream",
     "text": [
      "  Objective range  [1e+00, 1e+00]\n"
     ]
    },
    {
     "name": "stderr",
     "output_type": "stream",
     "text": [
      "2023-04-20 17:49:18,944 - INFO -   Objective range  [1e+00, 1e+00]\n"
     ]
    },
    {
     "name": "stdout",
     "output_type": "stream",
     "text": [
      "  Bounds range     [1e+00, 8e+05]\n"
     ]
    },
    {
     "name": "stderr",
     "output_type": "stream",
     "text": [
      "2023-04-20 17:49:18,944 - INFO -   Bounds range     [1e+00, 8e+05]\n"
     ]
    },
    {
     "name": "stdout",
     "output_type": "stream",
     "text": [
      "  RHS range        [1e+00, 8e+05]\n"
     ]
    },
    {
     "name": "stderr",
     "output_type": "stream",
     "text": [
      "2023-04-20 17:49:18,944 - INFO -   RHS range        [1e+00, 8e+05]\n"
     ]
    },
    {
     "name": "stdout",
     "output_type": "stream",
     "text": [
      "\n"
     ]
    },
    {
     "name": "stderr",
     "output_type": "stream",
     "text": [
      "2023-04-20 17:49:18,944 - INFO - \n"
     ]
    },
    {
     "name": "stdout",
     "output_type": "stream",
     "text": [
      "User MIP start produced solution with objective 620030 (0.02s)\n"
     ]
    },
    {
     "name": "stderr",
     "output_type": "stream",
     "text": [
      "2023-04-20 17:49:18,960 - INFO - User MIP start produced solution with objective 620030 (0.02s)\n"
     ]
    },
    {
     "name": "stdout",
     "output_type": "stream",
     "text": [
      "Loaded user MIP start with objective 620030\n"
     ]
    },
    {
     "name": "stderr",
     "output_type": "stream",
     "text": [
      "2023-04-20 17:49:18,960 - INFO - Loaded user MIP start with objective 620030\n"
     ]
    },
    {
     "name": "stdout",
     "output_type": "stream",
     "text": [
      "\n"
     ]
    },
    {
     "name": "stderr",
     "output_type": "stream",
     "text": [
      "2023-04-20 17:49:18,975 - INFO - \n"
     ]
    },
    {
     "name": "stdout",
     "output_type": "stream",
     "text": [
      "Presolve time: 0.00s\n"
     ]
    },
    {
     "name": "stderr",
     "output_type": "stream",
     "text": [
      "2023-04-20 17:49:18,977 - INFO - Presolve time: 0.00s\n"
     ]
    },
    {
     "name": "stdout",
     "output_type": "stream",
     "text": [
      "Presolved: 101 rows, 664 columns, 1654 nonzeros\n"
     ]
    },
    {
     "name": "stderr",
     "output_type": "stream",
     "text": [
      "2023-04-20 17:49:18,977 - INFO - Presolved: 101 rows, 664 columns, 1654 nonzeros\n"
     ]
    },
    {
     "name": "stdout",
     "output_type": "stream",
     "text": [
      "Variable types: 0 continuous, 664 integer (656 binary)\n"
     ]
    },
    {
     "name": "stderr",
     "output_type": "stream",
     "text": [
      "2023-04-20 17:49:18,997 - INFO - Variable types: 0 continuous, 664 integer (656 binary)\n"
     ]
    },
    {
     "name": "stdout",
     "output_type": "stream",
     "text": [
      "\n"
     ]
    },
    {
     "name": "stderr",
     "output_type": "stream",
     "text": [
      "2023-04-20 17:49:18,998 - INFO - \n"
     ]
    },
    {
     "name": "stdout",
     "output_type": "stream",
     "text": [
      "Concurrent LP optimizer: primal simplex, dual simplex, and barrier\n"
     ]
    },
    {
     "name": "stderr",
     "output_type": "stream",
     "text": [
      "2023-04-20 17:49:18,998 - INFO - Concurrent LP optimizer: primal simplex, dual simplex, and barrier\n"
     ]
    },
    {
     "name": "stdout",
     "output_type": "stream",
     "text": [
      "Showing barrier log only...\n"
     ]
    },
    {
     "name": "stderr",
     "output_type": "stream",
     "text": [
      "2023-04-20 17:49:18,998 - INFO - Showing barrier log only...\n"
     ]
    },
    {
     "name": "stdout",
     "output_type": "stream",
     "text": [
      "\n"
     ]
    },
    {
     "name": "stderr",
     "output_type": "stream",
     "text": [
      "2023-04-20 17:49:18,998 - INFO - \n"
     ]
    },
    {
     "name": "stdout",
     "output_type": "stream",
     "text": [
      "Root barrier log...\n"
     ]
    },
    {
     "name": "stderr",
     "output_type": "stream",
     "text": [
      "2023-04-20 17:49:19,011 - INFO - Root barrier log...\n"
     ]
    },
    {
     "name": "stdout",
     "output_type": "stream",
     "text": [
      "\n"
     ]
    },
    {
     "name": "stderr",
     "output_type": "stream",
     "text": [
      "2023-04-20 17:49:19,011 - INFO - \n"
     ]
    },
    {
     "name": "stdout",
     "output_type": "stream",
     "text": [
      "Ordering time: 0.00s\n"
     ]
    },
    {
     "name": "stderr",
     "output_type": "stream",
     "text": [
      "2023-04-20 17:49:19,011 - INFO - Ordering time: 0.00s\n"
     ]
    },
    {
     "name": "stdout",
     "output_type": "stream",
     "text": [
      "\n"
     ]
    },
    {
     "name": "stderr",
     "output_type": "stream",
     "text": [
      "2023-04-20 17:49:19,011 - INFO - \n"
     ]
    },
    {
     "name": "stdout",
     "output_type": "stream",
     "text": [
      "Barrier performed 0 iterations in 0.07 seconds\n"
     ]
    },
    {
     "name": "stderr",
     "output_type": "stream",
     "text": [
      "2023-04-20 17:49:19,025 - INFO - Barrier performed 0 iterations in 0.07 seconds\n"
     ]
    },
    {
     "name": "stdout",
     "output_type": "stream",
     "text": [
      "Barrier solve interrupted - model solved by another algorithm\n"
     ]
    },
    {
     "name": "stderr",
     "output_type": "stream",
     "text": [
      "2023-04-20 17:49:19,026 - INFO - Barrier solve interrupted - model solved by another algorithm\n"
     ]
    },
    {
     "name": "stdout",
     "output_type": "stream",
     "text": [
      "\n"
     ]
    },
    {
     "name": "stderr",
     "output_type": "stream",
     "text": [
      "2023-04-20 17:49:19,028 - INFO - \n"
     ]
    },
    {
     "name": "stdout",
     "output_type": "stream",
     "text": [
      "\n"
     ]
    },
    {
     "name": "stderr",
     "output_type": "stream",
     "text": [
      "2023-04-20 17:49:19,028 - INFO - \n"
     ]
    },
    {
     "name": "stdout",
     "output_type": "stream",
     "text": [
      "Solved with dual simplex\n"
     ]
    },
    {
     "name": "stderr",
     "output_type": "stream",
     "text": [
      "2023-04-20 17:49:19,028 - INFO - Solved with dual simplex\n"
     ]
    },
    {
     "name": "stdout",
     "output_type": "stream",
     "text": [
      "\n"
     ]
    },
    {
     "name": "stderr",
     "output_type": "stream",
     "text": [
      "2023-04-20 17:49:19,028 - INFO - \n"
     ]
    },
    {
     "name": "stdout",
     "output_type": "stream",
     "text": [
      "Root relaxation: objective 6.435844e+05, 157 iterations, 0.03 seconds\n"
     ]
    },
    {
     "name": "stderr",
     "output_type": "stream",
     "text": [
      "2023-04-20 17:49:19,028 - INFO - Root relaxation: objective 6.435844e+05, 157 iterations, 0.03 seconds\n"
     ]
    },
    {
     "name": "stdout",
     "output_type": "stream",
     "text": [
      "\n"
     ]
    },
    {
     "name": "stderr",
     "output_type": "stream",
     "text": [
      "2023-04-20 17:49:19,044 - INFO - \n"
     ]
    },
    {
     "name": "stdout",
     "output_type": "stream",
     "text": [
      "    Nodes    |    Current Node    |     Objective Bounds      |     Work\n"
     ]
    },
    {
     "name": "stderr",
     "output_type": "stream",
     "text": [
      "2023-04-20 17:49:19,044 - INFO -     Nodes    |    Current Node    |     Objective Bounds      |     Work\n"
     ]
    },
    {
     "name": "stdout",
     "output_type": "stream",
     "text": [
      " Expl Unexpl |  Obj  Depth IntInf | Incumbent    BestBd   Gap | It/Node Time\n"
     ]
    },
    {
     "name": "stderr",
     "output_type": "stream",
     "text": [
      "2023-04-20 17:49:19,062 - INFO -  Expl Unexpl |  Obj  Depth IntInf | Incumbent    BestBd   Gap | It/Node Time\n"
     ]
    },
    {
     "name": "stdout",
     "output_type": "stream",
     "text": [
      "\n"
     ]
    },
    {
     "name": "stderr",
     "output_type": "stream",
     "text": [
      "2023-04-20 17:49:19,062 - INFO - \n"
     ]
    },
    {
     "name": "stdout",
     "output_type": "stream",
     "text": [
      "     0     0 643584.413    0   16 620030.000 643584.413  3.80%     -    0s\n"
     ]
    },
    {
     "name": "stderr",
     "output_type": "stream",
     "text": [
      "2023-04-20 17:49:19,062 - INFO -      0     0 643584.413    0   16 620030.000 643584.413  3.80%     -    0s\n"
     ]
    },
    {
     "name": "stdout",
     "output_type": "stream",
     "text": [
      "     0     0 643235.170    0   21 620030.000 643235.170  3.74%     -    0s\n"
     ]
    },
    {
     "name": "stderr",
     "output_type": "stream",
     "text": [
      "2023-04-20 17:49:19,185 - INFO -      0     0 643235.170    0   21 620030.000 643235.170  3.74%     -    0s\n"
     ]
    },
    {
     "name": "stdout",
     "output_type": "stream",
     "text": [
      "     0     0 642984.233    0   29 620030.000 642984.233  3.70%     -    0s\n"
     ]
    },
    {
     "name": "stderr",
     "output_type": "stream",
     "text": [
      "2023-04-20 17:49:19,375 - INFO -      0     0 642984.233    0   29 620030.000 642984.233  3.70%     -    0s\n"
     ]
    },
    {
     "name": "stdout",
     "output_type": "stream",
     "text": [
      "     0     0 642975.510    0   29 620030.000 642975.510  3.70%     -    0s\n"
     ]
    },
    {
     "name": "stderr",
     "output_type": "stream",
     "text": [
      "2023-04-20 17:49:19,381 - INFO -      0     0 642975.510    0   29 620030.000 642975.510  3.70%     -    0s\n"
     ]
    },
    {
     "name": "stdout",
     "output_type": "stream",
     "text": [
      "     0     0 642960.776    0   29 620030.000 642960.776  3.70%     -    0s\n"
     ]
    },
    {
     "name": "stderr",
     "output_type": "stream",
     "text": [
      "2023-04-20 17:49:19,442 - INFO -      0     0 642960.776    0   29 620030.000 642960.776  3.70%     -    0s\n"
     ]
    },
    {
     "name": "stdout",
     "output_type": "stream",
     "text": [
      "     0     0 642951.789    0   33 620030.000 642951.789  3.70%     -    0s\n"
     ]
    },
    {
     "name": "stderr",
     "output_type": "stream",
     "text": [
      "2023-04-20 17:49:19,462 - INFO -      0     0 642951.789    0   33 620030.000 642951.789  3.70%     -    0s\n"
     ]
    },
    {
     "name": "stdout",
     "output_type": "stream",
     "text": [
      "     0     0 642940.394    0   32 620030.000 642940.394  3.70%     -    0s\n"
     ]
    },
    {
     "name": "stderr",
     "output_type": "stream",
     "text": [
      "2023-04-20 17:49:19,477 - INFO -      0     0 642940.394    0   32 620030.000 642940.394  3.70%     -    0s\n"
     ]
    },
    {
     "name": "stdout",
     "output_type": "stream",
     "text": [
      "     0     0 642939.512    0   31 620030.000 642939.512  3.69%     -    0s\n"
     ]
    },
    {
     "name": "stderr",
     "output_type": "stream",
     "text": [
      "2023-04-20 17:49:19,479 - INFO -      0     0 642939.512    0   31 620030.000 642939.512  3.69%     -    0s\n"
     ]
    },
    {
     "name": "stdout",
     "output_type": "stream",
     "text": [
      "     0     0 642938.948    0   35 620030.000 642938.948  3.69%     -    0s\n"
     ]
    },
    {
     "name": "stderr",
     "output_type": "stream",
     "text": [
      "2023-04-20 17:49:19,495 - INFO -      0     0 642938.948    0   35 620030.000 642938.948  3.69%     -    0s\n"
     ]
    },
    {
     "name": "stdout",
     "output_type": "stream",
     "text": [
      "     0     0 642938.581    0   37 620030.000 642938.581  3.69%     -    0s\n"
     ]
    },
    {
     "name": "stderr",
     "output_type": "stream",
     "text": [
      "2023-04-20 17:49:19,497 - INFO -      0     0 642938.581    0   37 620030.000 642938.581  3.69%     -    0s\n"
     ]
    },
    {
     "name": "stdout",
     "output_type": "stream",
     "text": [
      "     0     0 642936.167    0   31 620030.000 642936.167  3.69%     -    0s\n"
     ]
    },
    {
     "name": "stderr",
     "output_type": "stream",
     "text": [
      "2023-04-20 17:49:19,574 - INFO -      0     0 642936.167    0   31 620030.000 642936.167  3.69%     -    0s\n"
     ]
    },
    {
     "name": "stdout",
     "output_type": "stream",
     "text": [
      "     0     0 642932.617    0   35 620030.000 642932.617  3.69%     -    0s\n"
     ]
    },
    {
     "name": "stderr",
     "output_type": "stream",
     "text": [
      "2023-04-20 17:49:19,579 - INFO -      0     0 642932.617    0   35 620030.000 642932.617  3.69%     -    0s\n"
     ]
    },
    {
     "name": "stdout",
     "output_type": "stream",
     "text": [
      "     0     0 642928.688    0   44 620030.000 642928.688  3.69%     -    0s\n"
     ]
    },
    {
     "name": "stderr",
     "output_type": "stream",
     "text": [
      "2023-04-20 17:49:19,579 - INFO -      0     0 642928.688    0   44 620030.000 642928.688  3.69%     -    0s\n"
     ]
    },
    {
     "name": "stdout",
     "output_type": "stream",
     "text": [
      "     0     0 642928.515    0   45 620030.000 642928.515  3.69%     -    0s\n"
     ]
    },
    {
     "name": "stderr",
     "output_type": "stream",
     "text": [
      "2023-04-20 17:49:19,611 - INFO -      0     0 642928.515    0   45 620030.000 642928.515  3.69%     -    0s\n"
     ]
    },
    {
     "name": "stdout",
     "output_type": "stream",
     "text": [
      "     0     0 642928.515    0   43 620030.000 642928.515  3.69%     -    0s\n"
     ]
    },
    {
     "name": "stderr",
     "output_type": "stream",
     "text": [
      "2023-04-20 17:49:19,626 - INFO -      0     0 642928.515    0   43 620030.000 642928.515  3.69%     -    0s\n"
     ]
    },
    {
     "name": "stdout",
     "output_type": "stream",
     "text": [
      "     0     2 642928.515    0   42 620030.000 642928.515  3.69%     -    0s\n"
     ]
    },
    {
     "name": "stderr",
     "output_type": "stream",
     "text": [
      "2023-04-20 17:49:19,857 - INFO -      0     2 642928.515    0   42 620030.000 642928.515  3.69%     -    0s\n"
     ]
    },
    {
     "name": "stdout",
     "output_type": "stream",
     "text": [
      "  3860  3557 641743.074    8   34 620030.000 642674.000  3.65%   4.5    5s\n"
     ]
    },
    {
     "name": "stderr",
     "output_type": "stream",
     "text": [
      "2023-04-20 17:49:24,015 - INFO -   3860  3557 641743.074    8   34 620030.000 642674.000  3.65%   4.5    5s\n"
     ]
    },
    {
     "name": "stdout",
     "output_type": "stream",
     "text": [
      "  3941  3623 642470.040   18   34 620030.000 642540.999  3.63%   5.7   10s\n"
     ]
    },
    {
     "name": "stderr",
     "output_type": "stream",
     "text": [
      "2023-04-20 17:49:28,986 - INFO -   3941  3623 642470.040   18   34 620030.000 642540.999  3.63%   5.7   10s\n"
     ]
    },
    {
     "name": "stdout",
     "output_type": "stream",
     "text": [
      "  3987  3652 641833.566   19   26 620030.000 642540.999  3.63%   6.1   17s\n"
     ]
    },
    {
     "name": "stderr",
     "output_type": "stream",
     "text": [
      "2023-04-20 17:49:36,078 - INFO -   3987  3652 641833.566   19   26 620030.000 642540.999  3.63%   6.1   17s\n"
     ]
    },
    {
     "name": "stdout",
     "output_type": "stream",
     "text": [
      "  4059  3700 641622.447   20   31 620030.000 642540.999  3.63%   6.5   20s\n"
     ]
    },
    {
     "name": "stderr",
     "output_type": "stream",
     "text": [
      "2023-04-20 17:49:39,061 - INFO -   4059  3700 641622.447   20   31 620030.000 642540.999  3.63%   6.5   20s\n"
     ]
    },
    {
     "name": "stdout",
     "output_type": "stream",
     "text": [
      "  8956  5557 642138.000   24   49 620030.000 642514.528  3.63%  13.0   28s\n"
     ]
    },
    {
     "name": "stderr",
     "output_type": "stream",
     "text": [
      "2023-04-20 17:49:47,294 - INFO -   8956  5557 642138.000   24   49 620030.000 642514.528  3.63%  13.0   28s\n"
     ]
    },
    {
     "name": "stdout",
     "output_type": "stream",
     "text": [
      " 11797  6263 641286.001   50   55 620030.000 642514.528  3.63%  16.9   30s\n"
     ]
    },
    {
     "name": "stderr",
     "output_type": "stream",
     "text": [
      "2023-04-20 17:49:49,207 - INFO -  11797  6263 641286.001   50   55 620030.000 642514.528  3.63%  16.9   30s\n"
     ]
    },
    {
     "name": "stdout",
     "output_type": "stream",
     "text": [
      " 12685  6358 639826.723   61   49 620030.000 642514.528  3.63%  18.4   35s\n"
     ]
    },
    {
     "name": "stderr",
     "output_type": "stream",
     "text": [
      "2023-04-20 17:49:54,540 - INFO -  12685  6358 639826.723   61   49 620030.000 642514.528  3.63%  18.4   35s\n"
     ]
    },
    {
     "name": "stdout",
     "output_type": "stream",
     "text": [
      " 13211  6458 638228.097   71   28 620030.000 642514.528  3.63%  19.7   45s\n"
     ]
    },
    {
     "name": "stderr",
     "output_type": "stream",
     "text": [
      "2023-04-20 17:50:04,069 - INFO -  13211  6458 638228.097   71   28 620030.000 642514.528  3.63%  19.7   45s\n"
     ]
    },
    {
     "name": "stdout",
     "output_type": "stream",
     "text": [
      " 18516  8709 infeasible  221      620030.000 642510.220  3.63%  27.6   50s\n"
     ]
    },
    {
     "name": "stderr",
     "output_type": "stream",
     "text": [
      "2023-04-20 17:50:09,072 - INFO -  18516  8709 infeasible  221      620030.000 642510.220  3.63%  27.6   50s\n"
     ]
    },
    {
     "name": "stdout",
     "output_type": "stream",
     "text": [
      " 23457 10947 640668.485   62   46 620030.000 642479.737  3.62%  32.1   61s\n"
     ]
    },
    {
     "name": "stderr",
     "output_type": "stream",
     "text": [
      "2023-04-20 17:50:20,848 - INFO -  23457 10947 640668.485   62   46 620030.000 642479.737  3.62%  32.1   61s\n"
     ]
    },
    {
     "name": "stdout",
     "output_type": "stream",
     "text": [
      " 23501 10939 640065.258   63   86 620030.000 642479.737  3.62%  32.1   72s\n"
     ]
    },
    {
     "name": "stderr",
     "output_type": "stream",
     "text": [
      "2023-04-20 17:50:31,536 - INFO -  23501 10939 640065.258   63   86 620030.000 642479.737  3.62%  32.1   72s\n"
     ]
    },
    {
     "name": "stdout",
     "output_type": "stream",
     "text": [
      " 25936 12548 640388.169   56   91 620030.000 642461.000  3.62%  36.7   75s\n"
     ]
    },
    {
     "name": "stderr",
     "output_type": "stream",
     "text": [
      "2023-04-20 17:50:33,999 - INFO -  25936 12548 640388.169   56   91 620030.000 642461.000  3.62%  36.7   75s\n"
     ]
    },
    {
     "name": "stdout",
     "output_type": "stream",
     "text": [
      " 31845 15159 632221.525   85   29 620030.000 642406.000  3.61%  42.5   87s\n"
     ]
    },
    {
     "name": "stderr",
     "output_type": "stream",
     "text": [
      "2023-04-20 17:50:46,574 - INFO -  31845 15159 632221.525   85   29 620030.000 642406.000  3.61%  42.5   87s\n"
     ]
    },
    {
     "name": "stdout",
     "output_type": "stream",
     "text": [
      " 32684 15889 infeasible   65      620030.000 642367.000  3.60%  43.5   91s\n"
     ]
    },
    {
     "name": "stderr",
     "output_type": "stream",
     "text": [
      "2023-04-20 17:50:50,035 - INFO -  32684 15889 infeasible   65      620030.000 642367.000  3.60%  43.5   91s\n"
     ]
    },
    {
     "name": "stdout",
     "output_type": "stream",
     "text": [
      " 35716 17763 638686.152   66   51 620030.000 642350.000  3.60%  46.7   95s\n"
     ]
    },
    {
     "name": "stderr",
     "output_type": "stream",
     "text": [
      "2023-04-20 17:50:54,237 - INFO -  35716 17763 638686.152   66   51 620030.000 642350.000  3.60%  46.7   95s\n"
     ]
    },
    {
     "name": "stdout",
     "output_type": "stream",
     "text": [
      " 39216 19456 637169.812  108   12 620030.000 642339.000  3.60%  50.6  100s\n"
     ]
    },
    {
     "name": "stderr",
     "output_type": "stream",
     "text": [
      "2023-04-20 17:50:59,112 - INFO -  39216 19456 637169.812  108   12 620030.000 642339.000  3.60%  50.6  100s\n"
     ]
    },
    {
     "name": "stdout",
     "output_type": "stream",
     "text": [
      " 42197 20663 639305.157   66   88 620030.000 642338.399  3.60%  54.2  111s\n"
     ]
    },
    {
     "name": "stderr",
     "output_type": "stream",
     "text": [
      "2023-04-20 17:51:10,051 - INFO -  42197 20663 639305.157   66   88 620030.000 642338.399  3.60%  54.2  111s\n"
     ]
    },
    {
     "name": "stdout",
     "output_type": "stream",
     "text": [
      " 42472 20679 639235.282   67   95 620030.000 642338.399  3.60%  54.4  121s\n"
     ]
    },
    {
     "name": "stderr",
     "output_type": "stream",
     "text": [
      "2023-04-20 17:51:20,109 - INFO -  42472 20679 639235.282   67   95 620030.000 642338.399  3.60%  54.4  121s\n"
     ]
    },
    {
     "name": "stdout",
     "output_type": "stream",
     "text": [
      " 43529 21781 636753.374   89   86 620030.000 642338.399  3.60%  55.8  125s\n"
     ]
    },
    {
     "name": "stderr",
     "output_type": "stream",
     "text": [
      "2023-04-20 17:51:24,012 - INFO -  43529 21781 636753.374   89   86 620030.000 642338.399  3.60%  55.8  125s\n"
     ]
    },
    {
     "name": "stdout",
     "output_type": "stream",
     "text": [
      " 47373 23849 640000.000   42  104 620030.000 642332.000  3.60%  58.7  131s\n"
     ]
    },
    {
     "name": "stderr",
     "output_type": "stream",
     "text": [
      "2023-04-20 17:51:30,635 - INFO -  47373 23849 640000.000   42  104 620030.000 642332.000  3.60%  58.7  131s\n"
     ]
    },
    {
     "name": "stdout",
     "output_type": "stream",
     "text": [
      " 50116 25460 638686.425   58  109 620030.000 642315.703  3.59%  60.4  135s\n"
     ]
    },
    {
     "name": "stderr",
     "output_type": "stream",
     "text": [
      "2023-04-20 17:51:34,493 - INFO -  50116 25460 638686.425   58  109 620030.000 642315.703  3.59%  60.4  135s\n"
     ]
    },
    {
     "name": "stdout",
     "output_type": "stream",
     "text": [
      " 53466 27297 638530.735   51  122 620030.000 642315.703  3.59%  61.5  140s\n"
     ]
    },
    {
     "name": "stderr",
     "output_type": "stream",
     "text": [
      "2023-04-20 17:51:39,499 - INFO -  53466 27297 638530.735   51  122 620030.000 642315.703  3.59%  61.5  140s\n"
     ]
    },
    {
     "name": "stdout",
     "output_type": "stream",
     "text": [
      " 56631 28916 641051.297   33   94 620030.000 642274.809  3.59%  63.0  145s\n"
     ]
    },
    {
     "name": "stderr",
     "output_type": "stream",
     "text": [
      "2023-04-20 17:51:44,472 - INFO -  56631 28916 641051.297   33   94 620030.000 642274.809  3.59%  63.0  145s\n"
     ]
    },
    {
     "name": "stdout",
     "output_type": "stream",
     "text": [
      " 59717 30298 640165.000   51   98 620030.000 642269.538  3.59%  66.0  150s\n"
     ]
    },
    {
     "name": "stderr",
     "output_type": "stream",
     "text": [
      "2023-04-20 17:51:49,014 - INFO -  59717 30298 640165.000   51   98 620030.000 642269.538  3.59%  66.0  150s\n"
     ]
    },
    {
     "name": "stdout",
     "output_type": "stream",
     "text": [
      " 61963 32067 641115.300   51   99 620030.000 642269.538  3.59%  67.3  156s\n"
     ]
    },
    {
     "name": "stderr",
     "output_type": "stream",
     "text": [
      "2023-04-20 17:51:55,432 - INFO -  61963 32067 641115.300   51   99 620030.000 642269.538  3.59%  67.3  156s\n"
     ]
    },
    {
     "name": "stdout",
     "output_type": "stream",
     "text": [
      " 65419 34137 640432.779   46   79 620030.000 642250.180  3.58%  69.0  162s\n"
     ]
    },
    {
     "name": "stderr",
     "output_type": "stream",
     "text": [
      "2023-04-20 17:52:01,027 - INFO -  65419 34137 640432.779   46   79 620030.000 642250.180  3.58%  69.0  162s\n"
     ]
    },
    {
     "name": "stdout",
     "output_type": "stream",
     "text": [
      " 68859 36246 641079.838   44   59 620030.000 642217.996  3.58%  70.6  167s\n"
     ]
    },
    {
     "name": "stderr",
     "output_type": "stream",
     "text": [
      "2023-04-20 17:52:06,736 - INFO -  68859 36246 641079.838   44   59 620030.000 642217.996  3.58%  70.6  167s\n"
     ]
    },
    {
     "name": "stdout",
     "output_type": "stream",
     "text": [
      " 70670 37460 638014.000  100   31 620030.000 642212.000  3.58%  71.5  171s\n"
     ]
    },
    {
     "name": "stderr",
     "output_type": "stream",
     "text": [
      "2023-04-20 17:52:10,002 - INFO -  70670 37460 638014.000  100   31 620030.000 642212.000  3.58%  71.5  171s\n"
     ]
    },
    {
     "name": "stdout",
     "output_type": "stream",
     "text": [
      " 74881 40279 632624.316   64   78 620030.000 642199.000  3.58%  72.4  178s\n"
     ]
    },
    {
     "name": "stderr",
     "output_type": "stream",
     "text": [
      "2023-04-20 17:52:17,141 - INFO -  74881 40279 632624.316   64   78 620030.000 642199.000  3.58%  72.4  178s\n"
     ]
    },
    {
     "name": "stdout",
     "output_type": "stream",
     "text": [
      " 77424 41624 641551.755   40  114 620030.000 642185.918  3.57%  72.3  181s\n"
     ]
    },
    {
     "name": "stderr",
     "output_type": "stream",
     "text": [
      "2023-04-20 17:52:20,481 - INFO -  77424 41624 641551.755   40  114 620030.000 642185.918  3.57%  72.3  181s\n"
     ]
    },
    {
     "name": "stdout",
     "output_type": "stream",
     "text": [
      " 79502 42216 641536.170   39  111 620030.000 642179.000  3.57%  72.6  199s\n"
     ]
    },
    {
     "name": "stderr",
     "output_type": "stream",
     "text": [
      "2023-04-20 17:52:38,122 - INFO -  79502 42216 641536.170   39  111 620030.000 642179.000  3.57%  72.6  199s\n"
     ]
    },
    {
     "name": "stdout",
     "output_type": "stream",
     "text": [
      " 80408 43544 638789.115   66  105 620030.000 642175.000  3.57%  72.7  202s\n"
     ]
    },
    {
     "name": "stderr",
     "output_type": "stream",
     "text": [
      "2023-04-20 17:52:41,911 - INFO -  80408 43544 638789.115   66  105 620030.000 642175.000  3.57%  72.7  202s\n"
     ]
    },
    {
     "name": "stdout",
     "output_type": "stream",
     "text": [
      " 82559 44866 infeasible   98      620030.000 642159.000  3.57%  73.0  206s\n"
     ]
    },
    {
     "name": "stderr",
     "output_type": "stream",
     "text": [
      "2023-04-20 17:52:45,852 - INFO -  82559 44866 infeasible   98      620030.000 642159.000  3.57%  73.0  206s\n"
     ]
    },
    {
     "name": "stdout",
     "output_type": "stream",
     "text": [
      " 84576 46526 infeasible   98      620030.000 642148.729  3.57%  73.3  211s\n"
     ]
    },
    {
     "name": "stderr",
     "output_type": "stream",
     "text": [
      "2023-04-20 17:52:50,230 - INFO -  84576 46526 infeasible   98      620030.000 642148.729  3.57%  73.3  211s\n"
     ]
    },
    {
     "name": "stdout",
     "output_type": "stream",
     "text": [
      " 86857 48109 640227.720   66   69 620030.000 642138.693  3.57%  73.6  215s\n"
     ]
    },
    {
     "name": "stderr",
     "output_type": "stream",
     "text": [
      "2023-04-20 17:52:54,456 - INFO -  86857 48109 640227.720   66   69 620030.000 642138.693  3.57%  73.6  215s\n"
     ]
    },
    {
     "name": "stdout",
     "output_type": "stream",
     "text": [
      " 91273 49825 635454.000  100   71 620030.000 642120.968  3.56%  73.7  220s\n"
     ]
    },
    {
     "name": "stderr",
     "output_type": "stream",
     "text": [
      "2023-04-20 17:52:58,956 - INFO -  91273 49825 635454.000  100   71 620030.000 642120.968  3.56%  73.7  220s\n"
     ]
    },
    {
     "name": "stdout",
     "output_type": "stream",
     "text": [
      " 93896 52185 641437.001   42  104 620030.000 642108.000  3.56%  73.8  225s\n"
     ]
    },
    {
     "name": "stderr",
     "output_type": "stream",
     "text": [
      "2023-04-20 17:53:04,442 - INFO -  93896 52185 641437.001   42  104 620030.000 642108.000  3.56%  73.8  225s\n"
     ]
    },
    {
     "name": "stdout",
     "output_type": "stream",
     "text": [
      " 97471 55392 634603.748   53   88 620030.000 642095.194  3.56%  74.2  232s\n"
     ]
    },
    {
     "name": "stderr",
     "output_type": "stream",
     "text": [
      "2023-04-20 17:53:11,232 - INFO -  97471 55392 634603.748   53   88 620030.000 642095.194  3.56%  74.2  232s\n"
     ]
    },
    {
     "name": "stdout",
     "output_type": "stream",
     "text": [
      " 100207 56847 640933.132   31   55 620030.000 642089.175  3.56%  74.0  238s\n"
     ]
    },
    {
     "name": "stderr",
     "output_type": "stream",
     "text": [
      "2023-04-20 17:53:17,264 - INFO -  100207 56847 640933.132   31   55 620030.000 642089.175  3.56%  74.0  238s\n"
     ]
    },
    {
     "name": "stdout",
     "output_type": "stream",
     "text": [
      " 102515 58500 641297.633   41  104 620030.000 642083.000  3.56%  73.9  242s\n"
     ]
    },
    {
     "name": "stderr",
     "output_type": "stream",
     "text": [
      "2023-04-20 17:53:21,482 - INFO -  102515 58500 641297.633   41  104 620030.000 642083.000  3.56%  73.9  242s\n"
     ]
    },
    {
     "name": "stdout",
     "output_type": "stream",
     "text": [
      " 105261 60048 641367.896   38   99 620030.000 642078.000  3.56%  73.8  246s\n"
     ]
    },
    {
     "name": "stderr",
     "output_type": "stream",
     "text": [
      "2023-04-20 17:53:24,990 - INFO -  105261 60048 641367.896   38   99 620030.000 642078.000  3.56%  73.8  246s\n"
     ]
    },
    {
     "name": "stdout",
     "output_type": "stream",
     "text": [
      " 109640 62140 637019.000   61   34 620030.000 642075.000  3.56%  74.4  257s\n"
     ]
    },
    {
     "name": "stderr",
     "output_type": "stream",
     "text": [
      "2023-04-20 17:53:36,264 - INFO -  109640 62140 637019.000   61   34 620030.000 642075.000  3.56%  74.4  257s\n"
     ]
    },
    {
     "name": "stdout",
     "output_type": "stream",
     "text": [
      " 110753 63769 632949.000  147   16 620030.000 642071.000  3.55%  74.4  261s\n"
     ]
    },
    {
     "name": "stderr",
     "output_type": "stream",
     "text": [
      "2023-04-20 17:53:40,369 - INFO -  110753 63769 632949.000  147   16 620030.000 642071.000  3.55%  74.4  261s\n"
     ]
    },
    {
     "name": "stdout",
     "output_type": "stream",
     "text": [
      " 113072 65315 640118.000   79   33 620030.000 642065.000  3.55%  74.5  265s\n"
     ]
    },
    {
     "name": "stderr",
     "output_type": "stream",
     "text": [
      "2023-04-20 17:53:44,519 - INFO -  113072 65315 640118.000   79   33 620030.000 642065.000  3.55%  74.5  265s\n"
     ]
    },
    {
     "name": "stdout",
     "output_type": "stream",
     "text": [
      " 117501 68567 631559.934   72   90 620030.000 642060.045  3.55%  74.6  273s\n"
     ]
    },
    {
     "name": "stderr",
     "output_type": "stream",
     "text": [
      "2023-04-20 17:53:52,429 - INFO -  117501 68567 631559.934   72   90 620030.000 642060.045  3.55%  74.6  273s\n"
     ]
    },
    {
     "name": "stdout",
     "output_type": "stream",
     "text": [
      " 120137 70409 642045.836   30   87 620030.000 642049.376  3.55%  74.4  277s\n"
     ]
    },
    {
     "name": "stderr",
     "output_type": "stream",
     "text": [
      "2023-04-20 17:53:56,492 - INFO -  120137 70409 642045.836   30   87 620030.000 642049.376  3.55%  74.4  277s\n"
     ]
    },
    {
     "name": "stdout",
     "output_type": "stream",
     "text": [
      " 122995 72249 infeasible  111      620030.000 642048.429  3.55%  74.1  281s\n"
     ]
    },
    {
     "name": "stderr",
     "output_type": "stream",
     "text": [
      "2023-04-20 17:54:00,719 - INFO -  122995 72249 infeasible  111      620030.000 642048.429  3.55%  74.1  281s\n"
     ]
    },
    {
     "name": "stdout",
     "output_type": "stream",
     "text": [
      " 125814 74048 631934.337   73   87 620030.000 642041.074  3.55%  74.0  286s\n"
     ]
    },
    {
     "name": "stderr",
     "output_type": "stream",
     "text": [
      "2023-04-20 17:54:05,271 - INFO -  125814 74048 631934.337   73   87 620030.000 642041.074  3.55%  74.0  286s\n"
     ]
    },
    {
     "name": "stdout",
     "output_type": "stream",
     "text": [
      " 128534 75860 641338.058   35  105 620030.000 642037.309  3.55%  73.9  291s\n"
     ]
    },
    {
     "name": "stderr",
     "output_type": "stream",
     "text": [
      "2023-04-20 17:54:10,600 - INFO -  128534 75860 641338.058   35  105 620030.000 642037.309  3.55%  73.9  291s\n"
     ]
    },
    {
     "name": "stdout",
     "output_type": "stream",
     "text": [
      " 131783 77802 626878.000   74   18 620030.000 642036.000  3.55%  73.5  296s\n"
     ]
    },
    {
     "name": "stderr",
     "output_type": "stream",
     "text": [
      "2023-04-20 17:54:15,238 - INFO -  131783 77802 626878.000   74   18 620030.000 642036.000  3.55%  73.5  296s\n"
     ]
    },
    {
     "name": "stdout",
     "output_type": "stream",
     "text": [
      " 135042 78147 635324.723   80   52 620030.000 642033.004  3.55%  73.1  307s\n"
     ]
    },
    {
     "name": "stderr",
     "output_type": "stream",
     "text": [
      "2023-04-20 17:54:26,611 - INFO -  135042 78147 635324.723   80   52 620030.000 642033.004  3.55%  73.1  307s\n"
     ]
    },
    {
     "name": "stdout",
     "output_type": "stream",
     "text": [
      "H135361 76382                    623453.00000 642033.000  2.98%  73.1  308s\n"
     ]
    },
    {
     "name": "stderr",
     "output_type": "stream",
     "text": [
      "2023-04-20 17:54:27,119 - INFO - H135361 76382                    623453.00000 642033.000  2.98%  73.1  308s\n"
     ]
    },
    {
     "name": "stdout",
     "output_type": "stream",
     "text": [
      " 135592 78205 639006.662   56   58 623453.000 642033.000  2.98%  73.1  313s\n"
     ]
    },
    {
     "name": "stderr",
     "output_type": "stream",
     "text": [
      "2023-04-20 17:54:32,653 - INFO -  135592 78205 639006.662   56   58 623453.000 642033.000  2.98%  73.1  313s\n"
     ]
    },
    {
     "name": "stdout",
     "output_type": "stream",
     "text": [
      " 138354 80027 638398.369   46   68 623453.000 642030.326  2.98%  72.9  318s\n"
     ]
    },
    {
     "name": "stderr",
     "output_type": "stream",
     "text": [
      "2023-04-20 17:54:37,799 - INFO -  138354 80027 638398.369   46   68 623453.000 642030.326  2.98%  72.9  318s\n"
     ]
    },
    {
     "name": "stdout",
     "output_type": "stream",
     "text": [
      " 141458 81635 631575.950   50   61 623453.000 642028.000  2.98%  72.8  324s\n"
     ]
    },
    {
     "name": "stderr",
     "output_type": "stream",
     "text": [
      "2023-04-20 17:54:42,989 - INFO -  141458 81635 631575.950   50   61 623453.000 642028.000  2.98%  72.8  324s\n"
     ]
    },
    {
     "name": "stdout",
     "output_type": "stream",
     "text": [
      " 144153 82911 626363.220   76   91 623453.000 642027.000  2.98%  72.8  328s\n"
     ]
    },
    {
     "name": "stderr",
     "output_type": "stream",
     "text": [
      "2023-04-20 17:54:47,877 - INFO -  144153 82911 626363.220   76   91 623453.000 642027.000  2.98%  72.8  328s\n"
     ]
    },
    {
     "name": "stdout",
     "output_type": "stream",
     "text": [
      " 146189 84345 641276.145   31  103 623453.000 642026.000  2.98%  73.1  335s\n"
     ]
    },
    {
     "name": "stderr",
     "output_type": "stream",
     "text": [
      "2023-04-20 17:54:54,213 - INFO -  146189 84345 641276.145   31  103 623453.000 642026.000  2.98%  73.1  335s\n"
     ]
    },
    {
     "name": "stdout",
     "output_type": "stream",
     "text": [
      " 148470 84346 641451.955   32   43 623453.000 642025.000  2.98%  73.1  525s\n"
     ]
    },
    {
     "name": "stderr",
     "output_type": "stream",
     "text": [
      "2023-04-20 17:58:04,833 - INFO -  148470 84346 641451.955   32   43 623453.000 642025.000  2.98%  73.1  525s\n"
     ]
    },
    {
     "name": "stdout",
     "output_type": "stream",
     "text": [
      " 148479 84352 640461.528   34   75 623453.000 642025.000  2.98%  73.1  530s\n"
     ]
    },
    {
     "name": "stderr",
     "output_type": "stream",
     "text": [
      "2023-04-20 17:58:09,636 - INFO -  148479 84352 640461.528   34   75 623453.000 642025.000  2.98%  73.1  530s\n"
     ]
    },
    {
     "name": "stdout",
     "output_type": "stream",
     "text": [
      " 148492 84361 639113.483   38  100 623453.000 642025.000  2.98%  73.1  535s\n"
     ]
    },
    {
     "name": "stderr",
     "output_type": "stream",
     "text": [
      "2023-04-20 17:58:14,135 - INFO -  148492 84361 639113.483   38  100 623453.000 642025.000  2.98%  73.1  535s\n"
     ]
    },
    {
     "name": "stdout",
     "output_type": "stream",
     "text": [
      " 148498 84365 635080.038   68   63 623453.000 642025.000  2.98%  73.1  540s\n"
     ]
    },
    {
     "name": "stderr",
     "output_type": "stream",
     "text": [
      "2023-04-20 17:58:19,323 - INFO -  148498 84365 635080.038   68   63 623453.000 642025.000  2.98%  73.1  540s\n"
     ]
    },
    {
     "name": "stdout",
     "output_type": "stream",
     "text": [
      "H148498 80146                    623512.00000 642025.000  2.97%  73.1  540s\n"
     ]
    },
    {
     "name": "stderr",
     "output_type": "stream",
     "text": [
      "2023-04-20 17:58:19,789 - INFO - H148498 80146                    623512.00000 642025.000  2.97%  73.1  540s\n"
     ]
    },
    {
     "name": "stdout",
     "output_type": "stream",
     "text": [
      " 148499 80146 635873.427   60   63 623512.000 642025.000  2.97%  73.1  549s\n"
     ]
    },
    {
     "name": "stderr",
     "output_type": "stream",
     "text": [
      "2023-04-20 17:58:28,715 - INFO -  148499 80146 635873.427   60   63 623512.000 642025.000  2.97%  73.1  549s\n"
     ]
    },
    {
     "name": "stdout",
     "output_type": "stream",
     "text": [
      " 148500 80150 642025.000   20   74 623512.000 642025.000  2.97%  73.2  553s\n"
     ]
    },
    {
     "name": "stderr",
     "output_type": "stream",
     "text": [
      "2023-04-20 17:58:32,692 - INFO -  148500 80150 642025.000   20   74 623512.000 642025.000  2.97%  73.2  553s\n"
     ]
    },
    {
     "name": "stdout",
     "output_type": "stream",
     "text": [
      " 148502 80150 642025.000   21   74 623512.000 642025.000  2.97%  73.2  555s\n"
     ]
    },
    {
     "name": "stderr",
     "output_type": "stream",
     "text": [
      "2023-04-20 17:58:34,517 - INFO -  148502 80150 642025.000   21   74 623512.000 642025.000  2.97%  73.2  555s\n"
     ]
    },
    {
     "name": "stdout",
     "output_type": "stream",
     "text": [
      " 148511 80153 642025.000   23   73 623512.000 642025.000  2.97%  73.2  560s\n"
     ]
    },
    {
     "name": "stderr",
     "output_type": "stream",
     "text": [
      "2023-04-20 17:58:39,192 - INFO -  148511 80153 642025.000   23   73 623512.000 642025.000  2.97%  73.2  560s\n"
     ]
    },
    {
     "name": "stdout",
     "output_type": "stream",
     "text": [
      " 148532 80161 642025.000   25   59 623512.000 642025.000  2.97%  73.3  566s\n"
     ]
    },
    {
     "name": "stderr",
     "output_type": "stream",
     "text": [
      "2023-04-20 17:58:45,459 - INFO -  148532 80161 642025.000   25   59 623512.000 642025.000  2.97%  73.3  566s\n"
     ]
    },
    {
     "name": "stdout",
     "output_type": "stream",
     "text": [
      "H148548 76148                    624250.00000 642025.000  2.85%  73.3  566s\n"
     ]
    },
    {
     "name": "stderr",
     "output_type": "stream",
     "text": [
      "2023-04-20 17:58:45,587 - INFO - H148548 76148                    624250.00000 642025.000  2.85%  73.3  566s\n"
     ]
    },
    {
     "name": "stdout",
     "output_type": "stream",
     "text": [
      " 148602 76190 642025.000   27   67 624250.000 642025.000  2.85%  73.4  573s\n"
     ]
    },
    {
     "name": "stderr",
     "output_type": "stream",
     "text": [
      "2023-04-20 17:58:51,954 - INFO -  148602 76190 642025.000   27   67 624250.000 642025.000  2.85%  73.4  573s\n"
     ]
    },
    {
     "name": "stdout",
     "output_type": "stream",
     "text": [
      " 148697 76243 642025.000   29   52 624250.000 642025.000  2.85%  73.5  575s\n"
     ]
    },
    {
     "name": "stderr",
     "output_type": "stream",
     "text": [
      "2023-04-20 17:58:54,226 - INFO -  148697 76243 642025.000   29   52 624250.000 642025.000  2.85%  73.5  575s\n"
     ]
    },
    {
     "name": "stdout",
     "output_type": "stream",
     "text": [
      " 148734 76246 641946.000   32   80 624250.000 642025.000  2.85%  73.5  580s\n"
     ]
    },
    {
     "name": "stderr",
     "output_type": "stream",
     "text": [
      "2023-04-20 17:58:59,047 - INFO -  148734 76246 641946.000   32   80 624250.000 642025.000  2.85%  73.5  580s\n"
     ]
    },
    {
     "name": "stdout",
     "output_type": "stream",
     "text": [
      " 149153 76455 642023.518   38   94 624250.000 642025.000  2.85%  73.9  586s\n"
     ]
    },
    {
     "name": "stderr",
     "output_type": "stream",
     "text": [
      "2023-04-20 17:59:05,319 - INFO -  149153 76455 642023.518   38   94 624250.000 642025.000  2.85%  73.9  586s\n"
     ]
    },
    {
     "name": "stdout",
     "output_type": "stream",
     "text": [
      " 149406 76734 641905.000   42   83 624250.000 642025.000  2.85%  74.1  599s\n"
     ]
    },
    {
     "name": "stderr",
     "output_type": "stream",
     "text": [
      "2023-04-20 17:59:18,527 - INFO -  149406 76734 641905.000   42   83 624250.000 642025.000  2.85%  74.1  599s\n"
     ]
    },
    {
     "name": "stdout",
     "output_type": "stream",
     "text": [
      " 149647 76686 641783.678   48   69 624250.000 642025.000  2.85%  74.1  605s\n"
     ]
    },
    {
     "name": "stderr",
     "output_type": "stream",
     "text": [
      "2023-04-20 17:59:24,347 - INFO -  149647 76686 641783.678   48   69 624250.000 642025.000  2.85%  74.1  605s\n"
     ]
    },
    {
     "name": "stdout",
     "output_type": "stream",
     "text": [
      " 150425 76793 640922.000   64   53 624250.000 642025.000  2.85%  74.4  619s\n"
     ]
    },
    {
     "name": "stderr",
     "output_type": "stream",
     "text": [
      "2023-04-20 17:59:38,329 - INFO -  150425 76793 640922.000   64   53 624250.000 642025.000  2.85%  74.4  619s\n"
     ]
    },
    {
     "name": "stdout",
     "output_type": "stream",
     "text": [
      " 150449 76921 640814.627   65   75 624250.000 642025.000  2.85%  74.4  621s\n"
     ]
    },
    {
     "name": "stderr",
     "output_type": "stream",
     "text": [
      "2023-04-20 17:59:40,511 - INFO -  150449 76921 640814.627   65   75 624250.000 642025.000  2.85%  74.4  621s\n"
     ]
    },
    {
     "name": "stdout",
     "output_type": "stream",
     "text": [
      " 151176 76921 640163.375   81   26 624250.000 642025.000  2.85%  74.7  625s\n"
     ]
    },
    {
     "name": "stderr",
     "output_type": "stream",
     "text": [
      "2023-04-20 17:59:44,198 - INFO -  151176 76921 640163.375   81   26 624250.000 642025.000  2.85%  74.7  625s\n"
     ]
    },
    {
     "name": "stdout",
     "output_type": "stream",
     "text": [
      " 151473 76947 638753.047   95   86 624250.000 642025.000  2.85%  74.8  631s\n"
     ]
    },
    {
     "name": "stderr",
     "output_type": "stream",
     "text": [
      "2023-04-20 17:59:50,635 - INFO -  151473 76947 638753.047   95   86 624250.000 642025.000  2.85%  74.8  631s\n"
     ]
    },
    {
     "name": "stdout",
     "output_type": "stream",
     "text": [
      " 152525 77088 636326.000  138   57 624250.000 642025.000  2.85%  75.3  636s\n"
     ]
    },
    {
     "name": "stderr",
     "output_type": "stream",
     "text": [
      "2023-04-20 17:59:55,076 - INFO -  152525 77088 636326.000  138   57 624250.000 642025.000  2.85%  75.3  636s\n"
     ]
    },
    {
     "name": "stdout",
     "output_type": "stream",
     "text": [
      " 153376 76991 641832.895   33  138 624250.000 642025.000  2.85%  75.7  646s\n"
     ]
    },
    {
     "name": "stderr",
     "output_type": "stream",
     "text": [
      "2023-04-20 18:00:05,912 - INFO -  153376 76991 641832.895   33  138 624250.000 642025.000  2.85%  75.7  646s\n"
     ]
    },
    {
     "name": "stdout",
     "output_type": "stream",
     "text": [
      " 153768 77309 641716.000   38  126 624250.000 642025.000  2.85%  75.9  652s\n"
     ]
    },
    {
     "name": "stderr",
     "output_type": "stream",
     "text": [
      "2023-04-20 18:00:11,267 - INFO -  153768 77309 641716.000   38  126 624250.000 642025.000  2.85%  75.9  652s\n"
     ]
    },
    {
     "name": "stdout",
     "output_type": "stream",
     "text": [
      " 154521 77346 640923.087   51  131 624250.000 642025.000  2.85%  76.4  656s\n"
     ]
    },
    {
     "name": "stderr",
     "output_type": "stream",
     "text": [
      "2023-04-20 18:00:15,575 - INFO -  154521 77346 640923.087   51  131 624250.000 642025.000  2.85%  76.4  656s\n"
     ]
    },
    {
     "name": "stdout",
     "output_type": "stream",
     "text": [
      " 155629 77293 641005.838   75  116 624250.000 642025.000  2.85%  77.2  660s\n"
     ]
    },
    {
     "name": "stderr",
     "output_type": "stream",
     "text": [
      "2023-04-20 18:00:18,957 - INFO -  155629 77293 641005.838   75  116 624250.000 642025.000  2.85%  77.2  660s\n"
     ]
    },
    {
     "name": "stdout",
     "output_type": "stream",
     "text": [
      " 157007 77636 638740.305   88  120 624250.000 642025.000  2.85%  77.9  667s\n"
     ]
    },
    {
     "name": "stderr",
     "output_type": "stream",
     "text": [
      "2023-04-20 18:00:26,634 - INFO -  157007 77636 638740.305   88  120 624250.000 642025.000  2.85%  77.9  667s\n"
     ]
    },
    {
     "name": "stdout",
     "output_type": "stream",
     "text": [
      " 158065 77644 636976.974   99  119 624250.000 642025.000  2.85%  78.3  671s\n"
     ]
    },
    {
     "name": "stderr",
     "output_type": "stream",
     "text": [
      "2023-04-20 18:00:30,356 - INFO -  158065 77644 636976.974   99  119 624250.000 642025.000  2.85%  78.3  671s\n"
     ]
    },
    {
     "name": "stdout",
     "output_type": "stream",
     "text": [
      " 158932 77817 629278.933  120   85 624250.000 642025.000  2.85%  78.8  676s\n"
     ]
    },
    {
     "name": "stderr",
     "output_type": "stream",
     "text": [
      "2023-04-20 18:00:35,691 - INFO -  158932 77817 629278.933  120   85 624250.000 642025.000  2.85%  78.8  676s\n"
     ]
    },
    {
     "name": "stdout",
     "output_type": "stream",
     "text": [
      " 160026 77911 641217.000   54  100 624250.000 642025.000  2.85%  79.2  680s\n"
     ]
    },
    {
     "name": "stderr",
     "output_type": "stream",
     "text": [
      "2023-04-20 18:00:39,860 - INFO -  160026 77911 641217.000   54  100 624250.000 642025.000  2.85%  79.2  680s\n"
     ]
    },
    {
     "name": "stdout",
     "output_type": "stream",
     "text": [
      " 162035 77980 641646.000   48  103 624250.000 642025.000  2.85%  80.0  707s\n"
     ]
    },
    {
     "name": "stderr",
     "output_type": "stream",
     "text": [
      "2023-04-20 18:01:06,469 - INFO -  162035 77980 641646.000   48  103 624250.000 642025.000  2.85%  80.0  707s\n"
     ]
    },
    {
     "name": "stdout",
     "output_type": "stream",
     "text": [
      " 162712 77910 640855.000   74  112 624250.000 642025.000  2.85%  80.2  717s\n"
     ]
    },
    {
     "name": "stderr",
     "output_type": "stream",
     "text": [
      "2023-04-20 18:01:16,820 - INFO -  162712 77910 640855.000   74  112 624250.000 642025.000  2.85%  80.2  717s\n"
     ]
    },
    {
     "name": "stdout",
     "output_type": "stream",
     "text": [
      " 163078 78252 640843.573   75  114 624250.000 642025.000  2.85%  80.3  722s\n"
     ]
    },
    {
     "name": "stderr",
     "output_type": "stream",
     "text": [
      "2023-04-20 18:01:21,568 - INFO -  163078 78252 640843.573   75  114 624250.000 642025.000  2.85%  80.3  722s\n"
     ]
    },
    {
     "name": "stdout",
     "output_type": "stream",
     "text": [
      " 164147 78363 631945.000  124  111 624250.000 642025.000  2.85%  80.8  726s\n"
     ]
    },
    {
     "name": "stderr",
     "output_type": "stream",
     "text": [
      "2023-04-20 18:01:25,683 - INFO -  164147 78363 631945.000  124  111 624250.000 642025.000  2.85%  80.8  726s\n"
     ]
    },
    {
     "name": "stdout",
     "output_type": "stream",
     "text": [
      " 165343 78430 640492.000   42  135 624250.000 642025.000  2.85%  81.3  731s\n"
     ]
    },
    {
     "name": "stderr",
     "output_type": "stream",
     "text": [
      "2023-04-20 18:01:30,347 - INFO -  165343 78430 640492.000   42  135 624250.000 642025.000  2.85%  81.3  731s\n"
     ]
    },
    {
     "name": "stdout",
     "output_type": "stream",
     "text": [
      " 166481 78603 627345.000   53   33 624250.000 642025.000  2.85%  81.9  738s\n"
     ]
    },
    {
     "name": "stderr",
     "output_type": "stream",
     "text": [
      "2023-04-20 18:01:37,050 - INFO -  166481 78603 627345.000   53   33 624250.000 642025.000  2.85%  81.9  738s\n"
     ]
    },
    {
     "name": "stdout",
     "output_type": "stream",
     "text": [
      " 167784 78692 631765.000   48   63 624250.000 642025.000  2.85%  82.5  743s\n"
     ]
    },
    {
     "name": "stderr",
     "output_type": "stream",
     "text": [
      "2023-04-20 18:01:42,416 - INFO -  167784 78692 631765.000   48   63 624250.000 642025.000  2.85%  82.5  743s\n"
     ]
    },
    {
     "name": "stdout",
     "output_type": "stream",
     "text": [
      " 169130 78665 639612.000   75   80 624250.000 642025.000  2.85%  83.2  756s\n"
     ]
    },
    {
     "name": "stderr",
     "output_type": "stream",
     "text": [
      "2023-04-20 18:01:55,150 - INFO -  169130 78665 639612.000   75   80 624250.000 642025.000  2.85%  83.2  756s\n"
     ]
    },
    {
     "name": "stdout",
     "output_type": "stream",
     "text": [
      " 170169 78921 642025.000   40  112 624250.000 642025.000  2.85%  83.4  762s\n"
     ]
    },
    {
     "name": "stderr",
     "output_type": "stream",
     "text": [
      "2023-04-20 18:02:01,891 - INFO -  170169 78921 642025.000   40  112 624250.000 642025.000  2.85%  83.4  762s\n"
     ]
    },
    {
     "name": "stdout",
     "output_type": "stream",
     "text": [
      " 171586 78523 628351.082   77   66 624250.000 642025.000  2.85%  84.1  774s\n"
     ]
    },
    {
     "name": "stderr",
     "output_type": "stream",
     "text": [
      "2023-04-20 18:02:13,663 - INFO -  171586 78523 628351.082   77   66 624250.000 642025.000  2.85%  84.1  774s\n"
     ]
    },
    {
     "name": "stdout",
     "output_type": "stream",
     "text": [
      " 171670 78495 641784.000   47  111 624250.000 642025.000  2.85%  84.1  775s\n"
     ]
    },
    {
     "name": "stderr",
     "output_type": "stream",
     "text": [
      "2023-04-20 18:02:13,960 - INFO -  171670 78495 641784.000   47  111 624250.000 642025.000  2.85%  84.1  775s\n"
     ]
    },
    {
     "name": "stdout",
     "output_type": "stream",
     "text": [
      " 171773 79063 628361.000   79   64 624250.000 642025.000  2.85%  84.2  781s\n"
     ]
    },
    {
     "name": "stderr",
     "output_type": "stream",
     "text": [
      "2023-04-20 18:02:20,709 - INFO -  171773 79063 628361.000   79   64 624250.000 642025.000  2.85%  84.2  781s\n"
     ]
    },
    {
     "name": "stdout",
     "output_type": "stream",
     "text": [
      " 173212 79224 infeasible  105      624250.000 642025.000  2.85%  84.8  789s\n"
     ]
    },
    {
     "name": "stderr",
     "output_type": "stream",
     "text": [
      "2023-04-20 18:02:28,888 - INFO -  173212 79224 infeasible  105      624250.000 642025.000  2.85%  84.8  789s\n"
     ]
    },
    {
     "name": "stdout",
     "output_type": "stream",
     "text": [
      " 173859 79008 641629.000   52  120 624250.000 642025.000  2.85%  85.1  790s\n"
     ]
    },
    {
     "name": "stderr",
     "output_type": "stream",
     "text": [
      "2023-04-20 18:02:29,008 - INFO -  173859 79008 641629.000   52  120 624250.000 642025.000  2.85%  85.1  790s\n"
     ]
    },
    {
     "name": "stdout",
     "output_type": "stream",
     "text": [
      " 174658 79390 641262.000   68   90 624250.000 642025.000  2.85%  85.5  796s\n"
     ]
    },
    {
     "name": "stderr",
     "output_type": "stream",
     "text": [
      "2023-04-20 18:02:35,647 - INFO -  174658 79390 641262.000   68   90 624250.000 642025.000  2.85%  85.5  796s\n"
     ]
    },
    {
     "name": "stdout",
     "output_type": "stream",
     "text": [
      " 176189 79103 639922.000  138   41 624250.000 642025.000  2.85%  86.3  807s\n"
     ]
    },
    {
     "name": "stderr",
     "output_type": "stream",
     "text": [
      "2023-04-20 18:02:46,879 - INFO -  176189 79103 639922.000  138   41 624250.000 642025.000  2.85%  86.3  807s\n"
     ]
    },
    {
     "name": "stdout",
     "output_type": "stream",
     "text": [
      " 176770 79723 641025.354   59  102 624250.000 642025.000  2.85%  86.5  816s\n"
     ]
    },
    {
     "name": "stderr",
     "output_type": "stream",
     "text": [
      "2023-04-20 18:02:54,962 - INFO -  176770 79723 641025.354   59  102 624250.000 642025.000  2.85%  86.5  816s\n"
     ]
    },
    {
     "name": "stdout",
     "output_type": "stream",
     "text": [
      " 178711 79918 641904.519   48  126 624250.000 642025.000  2.85%  87.1  823s\n"
     ]
    },
    {
     "name": "stderr",
     "output_type": "stream",
     "text": [
      "2023-04-20 18:03:02,344 - INFO -  178711 79918 641904.519   48  126 624250.000 642025.000  2.85%  87.1  823s\n"
     ]
    },
    {
     "name": "stdout",
     "output_type": "stream",
     "text": [
      " 180577 80099 642025.000   38  110 624250.000 642025.000  2.85%  87.8  832s\n"
     ]
    },
    {
     "name": "stderr",
     "output_type": "stream",
     "text": [
      "2023-04-20 18:03:11,496 - INFO -  180577 80099 642025.000   38  110 624250.000 642025.000  2.85%  87.8  832s\n"
     ]
    },
    {
     "name": "stdout",
     "output_type": "stream",
     "text": [
      " 182552 79876 632409.000  116   66 624250.000 642025.000  2.85%  88.7  844s\n"
     ]
    },
    {
     "name": "stderr",
     "output_type": "stream",
     "text": [
      "2023-04-20 18:03:23,143 - INFO -  182552 79876 632409.000  116   66 624250.000 642025.000  2.85%  88.7  844s\n"
     ]
    },
    {
     "name": "stdout",
     "output_type": "stream",
     "text": [
      " 183619 80238 640567.482   69  113 624250.000 642024.000  2.85%  89.0  853s\n"
     ]
    },
    {
     "name": "stderr",
     "output_type": "stream",
     "text": [
      "2023-04-20 18:03:32,566 - INFO -  183619 80238 640567.482   69  113 624250.000 642024.000  2.85%  89.0  853s\n"
     ]
    },
    {
     "name": "stdout",
     "output_type": "stream",
     "text": [
      " 185416 80578 641527.000   53   97 624250.000 642024.000  2.85%  89.9  864s\n"
     ]
    },
    {
     "name": "stderr",
     "output_type": "stream",
     "text": [
      "2023-04-20 18:03:43,027 - INFO -  185416 80578 641527.000   53   97 624250.000 642024.000  2.85%  89.9  864s\n"
     ]
    },
    {
     "name": "stdout",
     "output_type": "stream",
     "text": [
      " 187839 80509 639421.000  104   53 624250.000 642019.000  2.85%  90.8  876s\n"
     ]
    },
    {
     "name": "stderr",
     "output_type": "stream",
     "text": [
      "2023-04-20 18:03:55,207 - INFO -  187839 80509 639421.000  104   53 624250.000 642019.000  2.85%  90.8  876s\n"
     ]
    },
    {
     "name": "stdout",
     "output_type": "stream",
     "text": [
      " 190021 79986 638615.000   54  128 624250.000 642018.000  2.85%  91.8  888s\n"
     ]
    },
    {
     "name": "stderr",
     "output_type": "stream",
     "text": [
      "2023-04-20 18:04:07,632 - INFO -  190021 79986 638615.000   54  128 624250.000 642018.000  2.85%  91.8  888s\n"
     ]
    },
    {
     "name": "stdout",
     "output_type": "stream",
     "text": [
      " 190611 79847 635569.000   71   99 624250.000 642018.000  2.85%  92.2  911s\n"
     ]
    },
    {
     "name": "stderr",
     "output_type": "stream",
     "text": [
      "2023-04-20 18:04:30,636 - INFO -  190611 79847 635569.000   71   99 624250.000 642018.000  2.85%  92.2  911s\n"
     ]
    },
    {
     "name": "stdout",
     "output_type": "stream",
     "text": [
      " 190776 80872 634837.053   78  100 624250.000 642018.000  2.85%  92.3  924s\n"
     ]
    },
    {
     "name": "stderr",
     "output_type": "stream",
     "text": [
      "2023-04-20 18:04:43,929 - INFO -  190776 80872 634837.053   78  100 624250.000 642018.000  2.85%  92.3  924s\n"
     ]
    },
    {
     "name": "stdout",
     "output_type": "stream",
     "text": [
      " 191876 80505 641983.000   50  123 624250.000 642017.000  2.85%  92.6  925s\n"
     ]
    },
    {
     "name": "stderr",
     "output_type": "stream",
     "text": [
      "2023-04-20 18:04:44,262 - INFO -  191876 80505 641983.000   50  123 624250.000 642017.000  2.85%  92.6  925s\n"
     ]
    },
    {
     "name": "stdout",
     "output_type": "stream",
     "text": [
      " 193478 81091 641620.216   38  104 624250.000 642012.000  2.85%  93.2  938s\n"
     ]
    },
    {
     "name": "stderr",
     "output_type": "stream",
     "text": [
      "2023-04-20 18:04:57,311 - INFO -  193478 81091 641620.216   38  104 624250.000 642012.000  2.85%  93.2  938s\n"
     ]
    },
    {
     "name": "stdout",
     "output_type": "stream",
     "text": [
      " 196143 80663 638948.000   74  111 624250.000 642001.000  2.84%  93.9  953s\n"
     ]
    },
    {
     "name": "stderr",
     "output_type": "stream",
     "text": [
      "2023-04-20 18:05:12,128 - INFO -  196143 80663 638948.000   74  111 624250.000 642001.000  2.84%  93.9  953s\n"
     ]
    },
    {
     "name": "stdout",
     "output_type": "stream",
     "text": [
      " 197211 81396 641450.000   49  125 624250.000 642000.000  2.84%  94.2  964s\n"
     ]
    },
    {
     "name": "stderr",
     "output_type": "stream",
     "text": [
      "2023-04-20 18:05:23,827 - INFO -  197211 81396 641450.000   49  125 624250.000 642000.000  2.84%  94.2  964s\n"
     ]
    },
    {
     "name": "stdout",
     "output_type": "stream",
     "text": [
      " 197873 81176 641851.000   56  134 624250.000 641997.000  2.84%  94.4  965s\n"
     ]
    },
    {
     "name": "stderr",
     "output_type": "stream",
     "text": [
      "2023-04-20 18:05:24,017 - INFO -  197873 81176 641851.000   56  134 624250.000 641997.000  2.84%  94.4  965s\n"
     ]
    },
    {
     "name": "stdout",
     "output_type": "stream",
     "text": [
      " 199696 81718 641691.000   42  113 624250.000 641995.000  2.84%  95.1  979s\n"
     ]
    },
    {
     "name": "stderr",
     "output_type": "stream",
     "text": [
      "2023-04-20 18:05:38,033 - INFO -  199696 81718 641691.000   42  113 624250.000 641995.000  2.84%  95.1  979s\n"
     ]
    },
    {
     "name": "stdout",
     "output_type": "stream",
     "text": [
      " 202313 82058 632283.993  127   53 624250.000 641990.000  2.84%  96.1  994s\n"
     ]
    },
    {
     "name": "stderr",
     "output_type": "stream",
     "text": [
      "2023-04-20 18:05:53,163 - INFO -  202313 82058 632283.993  127   53 624250.000 641990.000  2.84%  96.1  994s\n"
     ]
    },
    {
     "name": "stdout",
     "output_type": "stream",
     "text": [
      " 205133 81641 641696.000   47   97 624250.000 641981.000  2.84%  97.0 1009s\n"
     ]
    },
    {
     "name": "stderr",
     "output_type": "stream",
     "text": [
      "2023-04-20 18:06:08,322 - INFO -  205133 81641 641696.000   47   97 624250.000 641981.000  2.84%  97.0 1009s\n"
     ]
    },
    {
     "name": "stdout",
     "output_type": "stream",
     "text": [
      " 206387 82405 640590.436   83   96 624250.000 641980.000  2.84%  97.6 1027s\n"
     ]
    },
    {
     "name": "stderr",
     "output_type": "stream",
     "text": [
      "2023-04-20 18:06:26,876 - INFO -  206387 82405 640590.436   83   96 624250.000 641980.000  2.84%  97.6 1027s\n"
     ]
    },
    {
     "name": "stdout",
     "output_type": "stream",
     "text": [
      " 209136 83031 634851.687   93  114 624250.000 641976.000  2.84%  98.6 1044s\n"
     ]
    },
    {
     "name": "stderr",
     "output_type": "stream",
     "text": [
      "2023-04-20 18:06:43,752 - INFO -  209136 83031 634851.687   93  114 624250.000 641976.000  2.84%  98.6 1044s\n"
     ]
    },
    {
     "name": "stdout",
     "output_type": "stream",
     "text": [
      " 210933 82432 641212.000   72  100 624250.000 641972.000  2.84%  99.1 1045s\n"
     ]
    },
    {
     "name": "stderr",
     "output_type": "stream",
     "text": [
      "2023-04-20 18:06:44,017 - INFO -  210933 82432 641212.000   72  100 624250.000 641972.000  2.84%  99.1 1045s\n"
     ]
    },
    {
     "name": "stdout",
     "output_type": "stream",
     "text": [
      " 212562 82407 637890.000  100  111 624250.000 641968.000  2.84%   100 1060s\n"
     ]
    },
    {
     "name": "stderr",
     "output_type": "stream",
     "text": [
      "2023-04-20 18:06:58,970 - INFO -  212562 82407 637890.000  100  111 624250.000 641968.000  2.84%   100 1060s\n"
     ]
    },
    {
     "name": "stdout",
     "output_type": "stream",
     "text": [
      " 213922 83270 639579.000   60  116 624250.000 641968.000  2.84%   100 1078s\n"
     ]
    },
    {
     "name": "stderr",
     "output_type": "stream",
     "text": [
      "2023-04-20 18:07:17,091 - INFO -  213922 83270 639579.000   60  116 624250.000 641968.000  2.84%   100 1078s\n"
     ]
    },
    {
     "name": "stdout",
     "output_type": "stream",
     "text": [
      " 217160 82574 640680.000   69  126 624250.000 641960.000  2.84%   101 1104s\n"
     ]
    },
    {
     "name": "stderr",
     "output_type": "stream",
     "text": [
      "2023-04-20 18:07:43,403 - INFO -  217160 82574 640680.000   69  126 624250.000 641960.000  2.84%   101 1104s\n"
     ]
    },
    {
     "name": "stdout",
     "output_type": "stream",
     "text": [
      " 218035 82783 637029.000   79  132 624250.000 641959.000  2.84%   101 1136s\n"
     ]
    },
    {
     "name": "stderr",
     "output_type": "stream",
     "text": [
      "2023-04-20 18:08:15,483 - INFO -  218035 82783 637029.000   79  132 624250.000 641959.000  2.84%   101 1136s\n"
     ]
    },
    {
     "name": "stdout",
     "output_type": "stream",
     "text": [
      " 219274 82936 641698.293   40  129 624250.000 641955.065  2.84%   102 1157s\n"
     ]
    },
    {
     "name": "stderr",
     "output_type": "stream",
     "text": [
      "2023-04-20 18:08:36,040 - INFO -  219274 82936 641698.293   40  129 624250.000 641955.065  2.84%   102 1157s\n"
     ]
    },
    {
     "name": "stdout",
     "output_type": "stream",
     "text": [
      " 220815 83775 641427.000   40   96 624250.000 641955.065  2.84%   102 1176s\n"
     ]
    },
    {
     "name": "stderr",
     "output_type": "stream",
     "text": [
      "2023-04-20 18:08:55,288 - INFO -  220815 83775 641427.000   40   96 624250.000 641955.065  2.84%   102 1176s\n"
     ]
    },
    {
     "name": "stdout",
     "output_type": "stream",
     "text": [
      " 224021 83943 infeasible  102      624250.000 641949.000  2.84%   103 1190s\n"
     ]
    },
    {
     "name": "stderr",
     "output_type": "stream",
     "text": [
      "2023-04-20 18:09:09,096 - INFO -  224021 83943 infeasible  102      624250.000 641949.000  2.84%   103 1190s\n"
     ]
    },
    {
     "name": "stdout",
     "output_type": "stream",
     "text": [
      " 226986 83690 640637.000   74  137 624250.000 641938.000  2.83%   104 1202s\n"
     ]
    },
    {
     "name": "stderr",
     "output_type": "stream",
     "text": [
      "2023-04-20 18:09:21,708 - INFO -  226986 83690 640637.000   74  137 624250.000 641938.000  2.83%   104 1202s\n"
     ]
    },
    {
     "name": "stdout",
     "output_type": "stream",
     "text": [
      " 228707 84487 641535.000   50  136 624250.000 641935.000  2.83%   105 1215s\n"
     ]
    },
    {
     "name": "stderr",
     "output_type": "stream",
     "text": [
      "2023-04-20 18:09:34,336 - INFO -  228707 84487 641535.000   50  136 624250.000 641935.000  2.83%   105 1215s\n"
     ]
    },
    {
     "name": "stdout",
     "output_type": "stream",
     "text": [
      " 231881 84960 640066.264   95   75 624250.000 641930.000  2.83%   105 1229s\n"
     ]
    },
    {
     "name": "stderr",
     "output_type": "stream",
     "text": [
      "2023-04-20 18:09:48,304 - INFO -  231881 84960 640066.264   95   75 624250.000 641930.000  2.83%   105 1229s\n"
     ]
    },
    {
     "name": "stdout",
     "output_type": "stream",
     "text": [
      " 235452 85117 640549.000   64  111 624250.000 641922.000  2.83%   106 1244s\n"
     ]
    },
    {
     "name": "stderr",
     "output_type": "stream",
     "text": [
      "2023-04-20 18:10:03,675 - INFO -  235452 85117 640549.000   64  111 624250.000 641922.000  2.83%   106 1244s\n"
     ]
    },
    {
     "name": "stdout",
     "output_type": "stream",
     "text": [
      " 238648 84660 624982.919   52   56 624250.000 641917.000  2.83%   107 1262s\n"
     ]
    },
    {
     "name": "stderr",
     "output_type": "stream",
     "text": [
      "2023-04-20 18:10:21,815 - INFO -  238648 84660 624982.919   52   56 624250.000 641917.000  2.83%   107 1262s\n"
     ]
    },
    {
     "name": "stdout",
     "output_type": "stream",
     "text": [
      " 240072 84891 635117.747   94   76 624250.000 641916.000  2.83%   108 1282s\n"
     ]
    },
    {
     "name": "stderr",
     "output_type": "stream",
     "text": [
      "2023-04-20 18:10:41,204 - INFO -  240072 84891 635117.747   94   76 624250.000 641916.000  2.83%   108 1282s\n"
     ]
    },
    {
     "name": "stdout",
     "output_type": "stream",
     "text": [
      " 241774 85492 639827.000   83  130 624250.000 641913.000  2.83%   108 1297s\n"
     ]
    },
    {
     "name": "stderr",
     "output_type": "stream",
     "text": [
      "2023-04-20 18:10:56,216 - INFO -  241774 85492 639827.000   83  130 624250.000 641913.000  2.83%   108 1297s\n"
     ]
    },
    {
     "name": "stdout",
     "output_type": "stream",
     "text": [
      " 244658 85902 637826.151   96   73 624250.000 641908.000  2.83%   109 1311s\n"
     ]
    },
    {
     "name": "stderr",
     "output_type": "stream",
     "text": [
      "2023-04-20 18:11:10,907 - INFO -  244658 85902 637826.151   96   73 624250.000 641908.000  2.83%   109 1311s\n"
     ]
    },
    {
     "name": "stdout",
     "output_type": "stream",
     "text": [
      " 247980 85976 639057.989  104  115 624250.000 641907.000  2.83%   110 1325s\n"
     ]
    },
    {
     "name": "stderr",
     "output_type": "stream",
     "text": [
      "2023-04-20 18:11:24,522 - INFO -  247980 85976 639057.989  104  115 624250.000 641907.000  2.83%   110 1325s\n"
     ]
    },
    {
     "name": "stdout",
     "output_type": "stream",
     "text": [
      " 250733 86255 641092.252   47  110 624250.000 641904.000  2.83%   111 1340s\n"
     ]
    },
    {
     "name": "stderr",
     "output_type": "stream",
     "text": [
      "2023-04-20 18:11:39,766 - INFO -  250733 86255 641092.252   47  110 624250.000 641904.000  2.83%   111 1340s\n"
     ]
    },
    {
     "name": "stdout",
     "output_type": "stream",
     "text": [
      " 253763 86280 639190.791  105   95 624250.000 641904.000  2.83%   112 1356s\n"
     ]
    },
    {
     "name": "stderr",
     "output_type": "stream",
     "text": [
      "2023-04-20 18:11:55,685 - INFO -  253763 86280 639190.791  105   95 624250.000 641904.000  2.83%   112 1356s\n"
     ]
    },
    {
     "name": "stdout",
     "output_type": "stream",
     "text": [
      " 256257 86430 640743.000   63   97 624250.000 641900.000  2.83%   113 1373s\n"
     ]
    },
    {
     "name": "stderr",
     "output_type": "stream",
     "text": [
      "2023-04-20 18:12:12,601 - INFO -  256257 86430 640743.000   63   97 624250.000 641900.000  2.83%   113 1373s\n"
     ]
    },
    {
     "name": "stdout",
     "output_type": "stream",
     "text": [
      " 259070 86770 641159.000   60  112 624250.000 641893.000  2.83%   114 1390s\n"
     ]
    },
    {
     "name": "stderr",
     "output_type": "stream",
     "text": [
      "2023-04-20 18:12:29,351 - INFO -  259070 86770 641159.000   60  112 624250.000 641893.000  2.83%   114 1390s\n"
     ]
    },
    {
     "name": "stdout",
     "output_type": "stream",
     "text": [
      " 262105 87139 641420.000   49  128 624250.000 641887.000  2.83%   114 1410s\n"
     ]
    },
    {
     "name": "stderr",
     "output_type": "stream",
     "text": [
      "2023-04-20 18:12:49,257 - INFO -  262105 87139 641420.000   49  128 624250.000 641887.000  2.83%   114 1410s\n"
     ]
    },
    {
     "name": "stdout",
     "output_type": "stream",
     "text": [
      " 265156 87494 641763.000   38  139 624250.000 641882.000  2.82%   115 1429s\n"
     ]
    },
    {
     "name": "stderr",
     "output_type": "stream",
     "text": [
      "2023-04-20 18:13:08,779 - INFO -  265156 87494 641763.000   38  139 624250.000 641882.000  2.82%   115 1429s\n"
     ]
    },
    {
     "name": "stdout",
     "output_type": "stream",
     "text": [
      " 266609 87009 640711.000   74  133 624250.000 641882.000  2.82%   115 1430s\n"
     ]
    },
    {
     "name": "stderr",
     "output_type": "stream",
     "text": [
      "2023-04-20 18:13:08,980 - INFO -  266609 87009 640711.000   74  133 624250.000 641882.000  2.82%   115 1430s\n"
     ]
    },
    {
     "name": "stdout",
     "output_type": "stream",
     "text": [
      " 268301 87884 639199.000   75  123 624250.000 641879.000  2.82%   116 1447s\n"
     ]
    },
    {
     "name": "stderr",
     "output_type": "stream",
     "text": [
      "2023-04-20 18:13:26,688 - INFO -  268301 87884 639199.000   75  123 624250.000 641879.000  2.82%   116 1447s\n"
     ]
    },
    {
     "name": "stdout",
     "output_type": "stream",
     "text": [
      " 271753 87956 infeasible  127      624250.000 641874.000  2.82%   117 1466s\n"
     ]
    },
    {
     "name": "stderr",
     "output_type": "stream",
     "text": [
      "2023-04-20 18:13:45,629 - INFO -  271753 87956 infeasible  127      624250.000 641874.000  2.82%   117 1466s\n"
     ]
    },
    {
     "name": "stdout",
     "output_type": "stream",
     "text": [
      " 274810 88045 640813.000   67  129 624250.000 641868.842  2.82%   118 1485s\n"
     ]
    },
    {
     "name": "stderr",
     "output_type": "stream",
     "text": [
      "2023-04-20 18:14:04,543 - INFO -  274810 88045 640813.000   67  129 624250.000 641868.842  2.82%   118 1485s\n"
     ]
    },
    {
     "name": "stdout",
     "output_type": "stream",
     "text": [
      " 277889 88215 641344.151   52  118 624250.000 641865.000  2.82%   118 1503s\n"
     ]
    },
    {
     "name": "stderr",
     "output_type": "stream",
     "text": [
      "2023-04-20 18:14:22,774 - INFO -  277889 88215 641344.151   52  118 624250.000 641865.000  2.82%   118 1503s\n"
     ]
    },
    {
     "name": "stdout",
     "output_type": "stream",
     "text": [
      " 280937 88187 632658.000  112   92 624250.000 641860.000  2.82%   119 1520s\n"
     ]
    },
    {
     "name": "stderr",
     "output_type": "stream",
     "text": [
      "2023-04-20 18:14:39,496 - INFO -  280937 88187 632658.000  112   92 624250.000 641860.000  2.82%   119 1520s\n"
     ]
    },
    {
     "name": "stdout",
     "output_type": "stream",
     "text": [
      " 283693 88715 632857.000  116   48 624250.000 641854.000  2.82%   120 1543s\n"
     ]
    },
    {
     "name": "stderr",
     "output_type": "stream",
     "text": [
      "2023-04-20 18:15:02,271 - INFO -  283693 88715 632857.000  116   48 624250.000 641854.000  2.82%   120 1543s\n"
     ]
    },
    {
     "name": "stdout",
     "output_type": "stream",
     "text": [
      " 287402 88734 633664.256   66  101 624250.000 641853.000  2.82%   121 1565s\n"
     ]
    },
    {
     "name": "stderr",
     "output_type": "stream",
     "text": [
      "2023-04-20 18:15:24,347 - INFO -  287402 88734 633664.256   66  101 624250.000 641853.000  2.82%   121 1565s\n"
     ]
    },
    {
     "name": "stdout",
     "output_type": "stream",
     "text": [
      " 290518 89156 641448.000   36  125 624250.000 641848.000  2.82%   122 1585s\n"
     ]
    },
    {
     "name": "stderr",
     "output_type": "stream",
     "text": [
      "2023-04-20 18:15:44,281 - INFO -  290518 89156 641448.000   36  125 624250.000 641848.000  2.82%   122 1585s\n"
     ]
    },
    {
     "name": "stdout",
     "output_type": "stream",
     "text": [
      " 293860 89436 637514.591   81  125 624250.000 641848.000  2.82%   123 1606s\n"
     ]
    },
    {
     "name": "stderr",
     "output_type": "stream",
     "text": [
      "2023-04-20 18:16:05,545 - INFO -  293860 89436 637514.591   81  125 624250.000 641848.000  2.82%   123 1606s\n"
     ]
    },
    {
     "name": "stdout",
     "output_type": "stream",
     "text": [
      " 297071 89730 640613.000   76  129 624250.000 641840.753  2.82%   123 1627s\n"
     ]
    },
    {
     "name": "stderr",
     "output_type": "stream",
     "text": [
      "2023-04-20 18:16:26,725 - INFO -  297071 89730 640613.000   76  129 624250.000 641840.753  2.82%   123 1627s\n"
     ]
    },
    {
     "name": "stdout",
     "output_type": "stream",
     "text": [
      " 300165 90157 641381.000   48  137 624250.000 641837.000  2.82%   124 1647s\n"
     ]
    },
    {
     "name": "stderr",
     "output_type": "stream",
     "text": [
      "2023-04-20 18:16:46,413 - INFO -  300165 90157 641381.000   48  137 624250.000 641837.000  2.82%   124 1647s\n"
     ]
    },
    {
     "name": "stdout",
     "output_type": "stream",
     "text": [
      " 303448 90262 633777.000   77   97 624250.000 641832.000  2.82%   124 1668s\n"
     ]
    },
    {
     "name": "stderr",
     "output_type": "stream",
     "text": [
      "2023-04-20 18:17:07,234 - INFO -  303448 90262 633777.000   77   97 624250.000 641832.000  2.82%   124 1668s\n"
     ]
    },
    {
     "name": "stdout",
     "output_type": "stream",
     "text": [
      " 306233 90802 638545.050   56  128 624250.000 641828.000  2.82%   125 1692s\n"
     ]
    },
    {
     "name": "stderr",
     "output_type": "stream",
     "text": [
      "2023-04-20 18:17:31,200 - INFO -  306233 90802 638545.050   56  128 624250.000 641828.000  2.82%   125 1692s\n"
     ]
    },
    {
     "name": "stdout",
     "output_type": "stream",
     "text": [
      " 310027 91224 638744.000   82  119 624250.000 641825.000  2.82%   126 1723s\n"
     ]
    },
    {
     "name": "stderr",
     "output_type": "stream",
     "text": [
      "2023-04-20 18:18:02,435 - INFO -  310027 91224 638744.000   82  119 624250.000 641825.000  2.82%   126 1723s\n"
     ]
    },
    {
     "name": "stdout",
     "output_type": "stream",
     "text": [
      " 314289 91167 640348.036   56  130 624250.000 641825.000  2.82%   126 1752s\n"
     ]
    },
    {
     "name": "stderr",
     "output_type": "stream",
     "text": [
      "2023-04-20 18:18:31,397 - INFO -  314289 91167 640348.036   56  130 624250.000 641825.000  2.82%   126 1752s\n"
     ]
    },
    {
     "name": "stdout",
     "output_type": "stream",
     "text": [
      " 317536 91635 641310.890   48  119 624250.000 641824.000  2.82%   127 1779s\n"
     ]
    },
    {
     "name": "stderr",
     "output_type": "stream",
     "text": [
      "2023-04-20 18:18:58,715 - INFO -  317536 91635 641310.890   48  119 624250.000 641824.000  2.82%   127 1779s\n"
     ]
    },
    {
     "name": "stdout",
     "output_type": "stream",
     "text": [
      " 319829 90870 632162.112   83  136 624250.000 641822.000  2.81%   127 1780s\n"
     ]
    },
    {
     "name": "stderr",
     "output_type": "stream",
     "text": [
      "2023-04-20 18:18:59,450 - INFO -  319829 90870 632162.112   83  136 624250.000 641822.000  2.81%   127 1780s\n"
     ]
    },
    {
     "name": "stdout",
     "output_type": "stream",
     "text": [
      " 321386 91741 639027.902   51   92 624250.000 641821.000  2.81%   127 1803s\n"
     ]
    },
    {
     "name": "stderr",
     "output_type": "stream",
     "text": [
      "2023-04-20 18:19:22,332 - INFO -  321386 91741 639027.902   51   92 624250.000 641821.000  2.81%   127 1803s\n"
     ]
    },
    {
     "name": "stdout",
     "output_type": "stream",
     "text": [
      " 324785 91967 638834.199   77  136 624250.000 641820.000  2.81%   128 1817s\n"
     ]
    },
    {
     "name": "stderr",
     "output_type": "stream",
     "text": [
      "2023-04-20 18:19:36,692 - INFO -  324785 91967 638834.199   77  136 624250.000 641820.000  2.81%   128 1817s\n"
     ]
    },
    {
     "name": "stdout",
     "output_type": "stream",
     "text": [
      " 328021 92255 636291.744   87   59 624250.000 641814.000  2.81%   128 1833s\n"
     ]
    },
    {
     "name": "stderr",
     "output_type": "stream",
     "text": [
      "2023-04-20 18:19:52,224 - INFO -  328021 92255 636291.744   87   59 624250.000 641814.000  2.81%   128 1833s\n"
     ]
    },
    {
     "name": "stdout",
     "output_type": "stream",
     "text": [
      " 331407 92793 641044.000   64  134 624250.000 641810.000  2.81%   129 1847s\n"
     ]
    },
    {
     "name": "stderr",
     "output_type": "stream",
     "text": [
      "2023-04-20 18:20:06,839 - INFO -  331407 92793 641044.000   64  134 624250.000 641810.000  2.81%   129 1847s\n"
     ]
    },
    {
     "name": "stdout",
     "output_type": "stream",
     "text": [
      " 335131 92722 641663.000   39  116 624250.000 641806.000  2.81%   129 1866s\n"
     ]
    },
    {
     "name": "stderr",
     "output_type": "stream",
     "text": [
      "2023-04-20 18:20:25,191 - INFO -  335131 92722 641663.000   39  116 624250.000 641806.000  2.81%   129 1866s\n"
     ]
    },
    {
     "name": "stdout",
     "output_type": "stream",
     "text": [
      " 338151 93114 640674.405   67  112 624250.000 641802.000  2.81%   130 1885s\n"
     ]
    },
    {
     "name": "stderr",
     "output_type": "stream",
     "text": [
      "2023-04-20 18:20:44,936 - INFO -  338151 93114 640674.405   67  112 624250.000 641802.000  2.81%   130 1885s\n"
     ]
    },
    {
     "name": "stdout",
     "output_type": "stream",
     "text": [
      " 341857 93435 636396.266   59  110 624250.000 641799.409  2.81%   131 1909s\n"
     ]
    },
    {
     "name": "stderr",
     "output_type": "stream",
     "text": [
      "2023-04-20 18:21:08,129 - INFO -  341857 93435 636396.266   59  110 624250.000 641799.409  2.81%   131 1909s\n"
     ]
    },
    {
     "name": "stdout",
     "output_type": "stream",
     "text": [
      " 345468 93026 638100.000   71  152 624250.000 641797.628  2.81%   131 1932s\n"
     ]
    },
    {
     "name": "stderr",
     "output_type": "stream",
     "text": [
      "2023-04-20 18:21:31,663 - INFO -  345468 93026 638100.000   71  152 624250.000 641797.628  2.81%   131 1932s\n"
     ]
    },
    {
     "name": "stdout",
     "output_type": "stream",
     "text": [
      " 347601 93970 640509.344   66  105 624250.000 641796.000  2.81%   132 1953s\n"
     ]
    },
    {
     "name": "stderr",
     "output_type": "stream",
     "text": [
      "2023-04-20 18:21:52,286 - INFO -  347601 93970 640509.344   66  105 624250.000 641796.000  2.81%   132 1953s\n"
     ]
    },
    {
     "name": "stdout",
     "output_type": "stream",
     "text": [
      " 351569 94368 637739.838   71  108 624250.000 641796.000  2.81%   132 1973s\n"
     ]
    },
    {
     "name": "stderr",
     "output_type": "stream",
     "text": [
      "2023-04-20 18:22:12,529 - INFO -  351569 94368 637739.838   71  108 624250.000 641796.000  2.81%   132 1973s\n"
     ]
    },
    {
     "name": "stdout",
     "output_type": "stream",
     "text": [
      " 355443 94678 641138.442   70   71 624250.000 641792.000  2.81%   132 1992s\n"
     ]
    },
    {
     "name": "stderr",
     "output_type": "stream",
     "text": [
      "2023-04-20 18:22:31,140 - INFO -  355443 94678 641138.442   70   71 624250.000 641792.000  2.81%   132 1992s\n"
     ]
    },
    {
     "name": "stdout",
     "output_type": "stream",
     "text": [
      " 359019 95057 640634.000   54  123 624250.000 641787.000  2.81%   133 2012s\n"
     ]
    },
    {
     "name": "stderr",
     "output_type": "stream",
     "text": [
      "2023-04-20 18:22:51,240 - INFO -  359019 95057 640634.000   54  123 624250.000 641787.000  2.81%   133 2012s\n"
     ]
    },
    {
     "name": "stdout",
     "output_type": "stream",
     "text": [
      " 362749 95156 infeasible   48      624250.000 641786.000  2.81%   133 2033s\n"
     ]
    },
    {
     "name": "stderr",
     "output_type": "stream",
     "text": [
      "2023-04-20 18:23:12,403 - INFO -  362749 95156 infeasible   48      624250.000 641786.000  2.81%   133 2033s\n"
     ]
    },
    {
     "name": "stdout",
     "output_type": "stream",
     "text": [
      " 365737 94881 635397.714   76  129 624250.000 641784.000  2.81%   133 2066s\n"
     ]
    },
    {
     "name": "stderr",
     "output_type": "stream",
     "text": [
      "2023-04-20 18:23:45,740 - INFO -  365737 94881 635397.714   76  129 624250.000 641784.000  2.81%   133 2066s\n"
     ]
    },
    {
     "name": "stdout",
     "output_type": "stream",
     "text": [
      " 367290 96148 640465.194   57  125 624250.000 641783.000  2.81%   133 2093s\n"
     ]
    },
    {
     "name": "stderr",
     "output_type": "stream",
     "text": [
      "2023-04-20 18:24:12,128 - INFO -  367290 96148 640465.194   57  125 624250.000 641783.000  2.81%   133 2093s\n"
     ]
    },
    {
     "name": "stdout",
     "output_type": "stream",
     "text": [
      " 371153 96632 633972.000  102   42 624250.000 641780.000  2.81%   134 2127s\n"
     ]
    },
    {
     "name": "stderr",
     "output_type": "stream",
     "text": [
      "2023-04-20 18:24:46,256 - INFO -  371153 96632 633972.000  102   42 624250.000 641780.000  2.81%   134 2127s\n"
     ]
    },
    {
     "name": "stdout",
     "output_type": "stream",
     "text": [
      " 375883 96741 639522.763   49   73 624250.000 641777.000  2.81%   134 2148s\n"
     ]
    },
    {
     "name": "stderr",
     "output_type": "stream",
     "text": [
      "2023-04-20 18:25:07,274 - INFO -  375883 96741 639522.763   49   73 624250.000 641777.000  2.81%   134 2148s\n"
     ]
    },
    {
     "name": "stdout",
     "output_type": "stream",
     "text": [
      " 379799 98072 638783.000   79   77 624250.000 641775.000  2.81%   134 2174s\n"
     ]
    },
    {
     "name": "stderr",
     "output_type": "stream",
     "text": [
      "2023-04-20 18:25:33,274 - INFO -  379799 98072 638783.000   79   77 624250.000 641775.000  2.81%   134 2174s\n"
     ]
    },
    {
     "name": "stdout",
     "output_type": "stream",
     "text": [
      " 383593 99031 640675.000   60  133 624250.000 641772.000  2.81%   135 2203s\n"
     ]
    },
    {
     "name": "stderr",
     "output_type": "stream",
     "text": [
      "2023-04-20 18:26:02,549 - INFO -  383593 99031 640675.000   60  133 624250.000 641772.000  2.81%   135 2203s\n"
     ]
    },
    {
     "name": "stdout",
     "output_type": "stream",
     "text": [
      " 385771 100015 640711.475   54   63 624250.000 641770.000  2.81%   135 2245s\n"
     ]
    },
    {
     "name": "stderr",
     "output_type": "stream",
     "text": [
      "2023-04-20 18:26:44,802 - INFO -  385771 100015 640711.475   54   63 624250.000 641770.000  2.81%   135 2245s\n"
     ]
    },
    {
     "name": "stdout",
     "output_type": "stream",
     "text": [
      " 388158 101532 641592.000   44  115 624250.000 641769.000  2.81%   135 2278s\n"
     ]
    },
    {
     "name": "stderr",
     "output_type": "stream",
     "text": [
      "2023-04-20 18:27:17,863 - INFO -  388158 101532 641592.000   44  115 624250.000 641769.000  2.81%   135 2278s\n"
     ]
    },
    {
     "name": "stdout",
     "output_type": "stream",
     "text": [
      " 391890 103184 641538.000   47  117 624250.000 641766.000  2.81%   135 2306s\n"
     ]
    },
    {
     "name": "stderr",
     "output_type": "stream",
     "text": [
      "2023-04-20 18:27:45,139 - INFO -  391890 103184 641538.000   47  117 624250.000 641766.000  2.81%   135 2306s\n"
     ]
    },
    {
     "name": "stdout",
     "output_type": "stream",
     "text": [
      " 395540 104678 639428.559   81  135 624250.000 641764.000  2.81%   136 2330s\n"
     ]
    },
    {
     "name": "stderr",
     "output_type": "stream",
     "text": [
      "2023-04-20 18:28:09,145 - INFO -  395540 104678 639428.559   81  135 624250.000 641764.000  2.81%   136 2330s\n"
     ]
    },
    {
     "name": "stdout",
     "output_type": "stream",
     "text": [
      " 398878 106187 641268.000   63  111 624250.000 641760.000  2.80%   136 2361s\n"
     ]
    },
    {
     "name": "stderr",
     "output_type": "stream",
     "text": [
      "2023-04-20 18:28:40,521 - INFO -  398878 106187 641268.000   63  111 624250.000 641760.000  2.80%   136 2361s\n"
     ]
    },
    {
     "name": "stdout",
     "output_type": "stream",
     "text": [
      " 402450 107078 633996.000   79   77 624250.000 641758.817  2.80%   137 2402s\n"
     ]
    },
    {
     "name": "stderr",
     "output_type": "stream",
     "text": [
      "2023-04-20 18:29:20,988 - INFO -  402450 107078 633996.000   79   77 624250.000 641758.817  2.80%   137 2402s\n"
     ]
    },
    {
     "name": "stdout",
     "output_type": "stream",
     "text": [
      " 404589 108521 640145.797   68  151 624250.000 641758.000  2.80%   137 2421s\n"
     ]
    },
    {
     "name": "stderr",
     "output_type": "stream",
     "text": [
      "2023-04-20 18:29:40,687 - INFO -  404589 108521 640145.797   68  151 624250.000 641758.000  2.80%   137 2421s\n"
     ]
    },
    {
     "name": "stdout",
     "output_type": "stream",
     "text": [
      " 407954 110009 630545.000   74  126 624250.000 641755.000  2.80%   137 2437s\n"
     ]
    },
    {
     "name": "stderr",
     "output_type": "stream",
     "text": [
      "2023-04-20 18:29:56,853 - INFO -  407954 110009 630545.000   74  126 624250.000 641755.000  2.80%   137 2437s\n"
     ]
    },
    {
     "name": "stdout",
     "output_type": "stream",
     "text": [
      " 411358 111678 639350.000   89  100 624250.000 641751.000  2.80%   138 2457s\n"
     ]
    },
    {
     "name": "stderr",
     "output_type": "stream",
     "text": [
      "2023-04-20 18:30:16,537 - INFO -  411358 111678 639350.000   89  100 624250.000 641751.000  2.80%   138 2457s\n"
     ]
    },
    {
     "name": "stdout",
     "output_type": "stream",
     "text": [
      " 415153 112950 641147.000   58  124 624250.000 641749.000  2.80%   138 2477s\n"
     ]
    },
    {
     "name": "stderr",
     "output_type": "stream",
     "text": [
      "2023-04-20 18:30:36,449 - INFO -  415153 112950 641147.000   58  124 624250.000 641749.000  2.80%   138 2477s\n"
     ]
    },
    {
     "name": "stdout",
     "output_type": "stream",
     "text": [
      " 418384 114518 635123.000  107   61 624250.000 641747.000  2.80%   138 2498s\n"
     ]
    },
    {
     "name": "stderr",
     "output_type": "stream",
     "text": [
      "2023-04-20 18:30:57,305 - INFO -  418384 114518 635123.000  107   61 624250.000 641747.000  2.80%   138 2498s\n"
     ]
    },
    {
     "name": "stdout",
     "output_type": "stream",
     "text": [
      " 422183 115365 635561.408   72   93 624250.000 641746.000  2.80%   139 2524s\n"
     ]
    },
    {
     "name": "stderr",
     "output_type": "stream",
     "text": [
      "2023-04-20 18:31:23,435 - INFO -  422183 115365 635561.408   72   93 624250.000 641746.000  2.80%   139 2524s\n"
     ]
    },
    {
     "name": "stdout",
     "output_type": "stream",
     "text": [
      " 424222 116905 636423.000   84   71 624250.000 641744.000  2.80%   139 2541s\n"
     ]
    },
    {
     "name": "stderr",
     "output_type": "stream",
     "text": [
      "2023-04-20 18:31:40,741 - INFO -  424222 116905 636423.000   84   71 624250.000 641744.000  2.80%   139 2541s\n"
     ]
    },
    {
     "name": "stdout",
     "output_type": "stream",
     "text": [
      " 427804 118206 633839.260   45   91 624250.000 641742.000  2.80%   139 2565s\n"
     ]
    },
    {
     "name": "stderr",
     "output_type": "stream",
     "text": [
      "2023-04-20 18:32:04,016 - INFO -  427804 118206 633839.260   45   91 624250.000 641742.000  2.80%   139 2565s\n"
     ]
    },
    {
     "name": "stdout",
     "output_type": "stream",
     "text": [
      " 431359 119767 640365.323   67  127 624250.000 641741.000  2.80%   139 2584s\n"
     ]
    },
    {
     "name": "stderr",
     "output_type": "stream",
     "text": [
      "2023-04-20 18:32:23,853 - INFO -  431359 119767 640365.323   67  127 624250.000 641741.000  2.80%   139 2584s\n"
     ]
    },
    {
     "name": "stdout",
     "output_type": "stream",
     "text": [
      " 435082 120299 640705.288   55  136 624250.000 641739.000  2.80%   140 2621s\n"
     ]
    },
    {
     "name": "stderr",
     "output_type": "stream",
     "text": [
      "2023-04-20 18:33:00,044 - INFO -  435082 120299 640705.288   55  136 624250.000 641739.000  2.80%   140 2621s\n"
     ]
    },
    {
     "name": "stdout",
     "output_type": "stream",
     "text": [
      " 436203 121756 641450.500   47  131 624250.000 641738.000  2.80%   140 2641s\n"
     ]
    },
    {
     "name": "stderr",
     "output_type": "stream",
     "text": [
      "2023-04-20 18:33:20,478 - INFO -  436203 121756 641450.500   47  131 624250.000 641738.000  2.80%   140 2641s\n"
     ]
    },
    {
     "name": "stdout",
     "output_type": "stream",
     "text": [
      " 439621 122472 640157.000   52  132 624250.000 641735.000  2.80%   140 2665s\n"
     ]
    },
    {
     "name": "stderr",
     "output_type": "stream",
     "text": [
      "2023-04-20 18:33:44,919 - INFO -  439621 122472 640157.000   52  132 624250.000 641735.000  2.80%   140 2665s\n"
     ]
    },
    {
     "name": "stdout",
     "output_type": "stream",
     "text": [
      " 441356 124002 641424.562   58  121 624250.000 641735.000  2.80%   140 2686s\n"
     ]
    },
    {
     "name": "stderr",
     "output_type": "stream",
     "text": [
      "2023-04-20 18:34:05,516 - INFO -  441356 124002 641424.562   58  121 624250.000 641735.000  2.80%   140 2686s\n"
     ]
    },
    {
     "name": "stdout",
     "output_type": "stream",
     "text": [
      " 444854 125491 638836.000   53  116 624250.000 641734.000  2.80%   141 2708s\n"
     ]
    },
    {
     "name": "stderr",
     "output_type": "stream",
     "text": [
      "2023-04-20 18:34:27,063 - INFO -  444854 125491 638836.000   53  116 624250.000 641734.000  2.80%   141 2708s\n"
     ]
    },
    {
     "name": "stdout",
     "output_type": "stream",
     "text": [
      " 448249 127097 640742.000   62  129 624250.000 641733.000  2.80%   141 2727s\n"
     ]
    },
    {
     "name": "stderr",
     "output_type": "stream",
     "text": [
      "2023-04-20 18:34:46,611 - INFO -  448249 127097 640742.000   62  129 624250.000 641733.000  2.80%   141 2727s\n"
     ]
    },
    {
     "name": "stdout",
     "output_type": "stream",
     "text": [
      " 451936 128584 641310.366   54  131 624250.000 641733.000  2.80%   141 2748s\n"
     ]
    },
    {
     "name": "stderr",
     "output_type": "stream",
     "text": [
      "2023-04-20 18:35:07,234 - INFO -  451936 128584 641310.366   54  131 624250.000 641733.000  2.80%   141 2748s\n"
     ]
    },
    {
     "name": "stdout",
     "output_type": "stream",
     "text": [
      " 455280 130665 641028.000   59  103 624250.000 641729.000  2.80%   141 2771s\n"
     ]
    },
    {
     "name": "stderr",
     "output_type": "stream",
     "text": [
      "2023-04-20 18:35:30,190 - INFO -  455280 130665 641028.000   59  103 624250.000 641729.000  2.80%   141 2771s\n"
     ]
    },
    {
     "name": "stdout",
     "output_type": "stream",
     "text": [
      " 459936 131436 639797.709   79  109 624250.000 641726.000  2.80%   141 2804s\n"
     ]
    },
    {
     "name": "stderr",
     "output_type": "stream",
     "text": [
      "2023-04-20 18:36:03,329 - INFO -  459936 131436 639797.709   79  109 624250.000 641726.000  2.80%   141 2804s\n"
     ]
    },
    {
     "name": "stdout",
     "output_type": "stream",
     "text": [
      " 461786 132845 634646.929   82  123 624250.000 641726.000  2.80%   141 2824s\n"
     ]
    },
    {
     "name": "stderr",
     "output_type": "stream",
     "text": [
      "2023-04-20 18:36:23,210 - INFO -  461786 132845 634646.929   82  123 624250.000 641726.000  2.80%   141 2824s\n"
     ]
    },
    {
     "name": "stdout",
     "output_type": "stream",
     "text": [
      " 465216 134439 635524.716  101   91 624250.000 641724.000  2.80%   142 2843s\n"
     ]
    },
    {
     "name": "stderr",
     "output_type": "stream",
     "text": [
      "2023-04-20 18:36:42,536 - INFO -  465216 134439 635524.716  101   91 624250.000 641724.000  2.80%   142 2843s\n"
     ]
    },
    {
     "name": "stdout",
     "output_type": "stream",
     "text": [
      " 468700 136090 637301.000   72  126 624250.000 641721.000  2.80%   142 2864s\n"
     ]
    },
    {
     "name": "stderr",
     "output_type": "stream",
     "text": [
      "2023-04-20 18:37:03,655 - INFO -  468700 136090 637301.000   72  126 624250.000 641721.000  2.80%   142 2864s\n"
     ]
    },
    {
     "name": "stdout",
     "output_type": "stream",
     "text": [
      " 472211 137639 641080.268   47  101 624250.000 641719.000  2.80%   142 2884s\n"
     ]
    },
    {
     "name": "stderr",
     "output_type": "stream",
     "text": [
      "2023-04-20 18:37:23,826 - INFO -  472211 137639 641080.268   47  101 624250.000 641719.000  2.80%   142 2884s\n"
     ]
    },
    {
     "name": "stdout",
     "output_type": "stream",
     "text": [
      " 472823 137639 640318.855   62  122 624250.000 641719.000  2.80%   142 2885s\n"
     ]
    },
    {
     "name": "stderr",
     "output_type": "stream",
     "text": [
      "2023-04-20 18:37:23,951 - INFO -  472823 137639 640318.855   62  122 624250.000 641719.000  2.80%   142 2885s\n"
     ]
    },
    {
     "name": "stdout",
     "output_type": "stream",
     "text": [
      " 475505 138970 640507.279   60  144 624250.000 641716.000  2.80%   142 2908s\n"
     ]
    },
    {
     "name": "stderr",
     "output_type": "stream",
     "text": [
      "2023-04-20 18:37:46,955 - INFO -  475505 138970 640507.279   60  144 624250.000 641716.000  2.80%   142 2908s\n"
     ]
    },
    {
     "name": "stdout",
     "output_type": "stream",
     "text": [
      " 478860 139986 641554.000   41   88 624250.000 641715.000  2.80%   142 2935s\n"
     ]
    },
    {
     "name": "stderr",
     "output_type": "stream",
     "text": [
      "2023-04-20 18:38:14,735 - INFO -  478860 139986 641554.000   41   88 624250.000 641715.000  2.80%   142 2935s\n"
     ]
    },
    {
     "name": "stdout",
     "output_type": "stream",
     "text": [
      " 481356 141530 640424.218   48  122 624250.000 641713.000  2.80%   142 2961s\n"
     ]
    },
    {
     "name": "stderr",
     "output_type": "stream",
     "text": [
      "2023-04-20 18:38:40,514 - INFO -  481356 141530 640424.218   48  122 624250.000 641713.000  2.80%   142 2961s\n"
     ]
    },
    {
     "name": "stdout",
     "output_type": "stream",
     "text": [
      " 484645 143161 638327.000   84   58 624250.000 641711.000  2.80%   143 2986s\n"
     ]
    },
    {
     "name": "stderr",
     "output_type": "stream",
     "text": [
      "2023-04-20 18:39:05,819 - INFO -  484645 143161 638327.000   84   58 624250.000 641711.000  2.80%   143 2986s\n"
     ]
    },
    {
     "name": "stdout",
     "output_type": "stream",
     "text": [
      " 488592 144493 639867.356   65  131 624250.000 641709.000  2.80%   143 3007s\n"
     ]
    },
    {
     "name": "stderr",
     "output_type": "stream",
     "text": [
      "2023-04-20 18:39:26,859 - INFO -  488592 144493 639867.356   65  131 624250.000 641709.000  2.80%   143 3007s\n"
     ]
    },
    {
     "name": "stdout",
     "output_type": "stream",
     "text": [
      " 491643 145747 632379.664  111   55 624250.000 641708.000  2.80%   143 3026s\n"
     ]
    },
    {
     "name": "stderr",
     "output_type": "stream",
     "text": [
      "2023-04-20 18:39:45,857 - INFO -  491643 145747 632379.664  111   55 624250.000 641708.000  2.80%   143 3026s\n"
     ]
    },
    {
     "name": "stdout",
     "output_type": "stream",
     "text": [
      " 494836 146461 639168.179   63   44 624250.000 641706.000  2.80%   144 3050s\n"
     ]
    },
    {
     "name": "stderr",
     "output_type": "stream",
     "text": [
      "2023-04-20 18:40:09,309 - INFO -  494836 146461 639168.179   63   44 624250.000 641706.000  2.80%   144 3050s\n"
     ]
    },
    {
     "name": "stdout",
     "output_type": "stream",
     "text": [
      " 496409 147637 640364.763   75  133 624250.000 641706.000  2.80%   144 3075s\n"
     ]
    },
    {
     "name": "stderr",
     "output_type": "stream",
     "text": [
      "2023-04-20 18:40:33,951 - INFO -  496409 147637 640364.763   75  133 624250.000 641706.000  2.80%   144 3075s\n"
     ]
    },
    {
     "name": "stdout",
     "output_type": "stream",
     "text": [
      " 499203 149062 633482.525   67   92 624250.000 641705.000  2.80%   144 3095s\n"
     ]
    },
    {
     "name": "stderr",
     "output_type": "stream",
     "text": [
      "2023-04-20 18:40:54,310 - INFO -  499203 149062 633482.525   67   92 624250.000 641705.000  2.80%   144 3095s\n"
     ]
    },
    {
     "name": "stdout",
     "output_type": "stream",
     "text": [
      " 502486 150461 634060.000   87  108 624250.000 641703.000  2.80%   144 3115s\n"
     ]
    },
    {
     "name": "stderr",
     "output_type": "stream",
     "text": [
      "2023-04-20 18:41:14,456 - INFO -  502486 150461 634060.000   87  108 624250.000 641703.000  2.80%   144 3115s\n"
     ]
    },
    {
     "name": "stdout",
     "output_type": "stream",
     "text": [
      " 505627 151766 640423.000   52  129 624250.000 641701.000  2.80%   145 3135s\n"
     ]
    },
    {
     "name": "stderr",
     "output_type": "stream",
     "text": [
      "2023-04-20 18:41:34,864 - INFO -  505627 151766 640423.000   52  129 624250.000 641701.000  2.80%   145 3135s\n"
     ]
    },
    {
     "name": "stdout",
     "output_type": "stream",
     "text": [
      " 508893 153155 636828.000   94   91 624250.000 641700.000  2.80%   145 3151s\n"
     ]
    },
    {
     "name": "stderr",
     "output_type": "stream",
     "text": [
      "2023-04-20 18:41:50,522 - INFO -  508893 153155 636828.000   94   91 624250.000 641700.000  2.80%   145 3151s\n"
     ]
    },
    {
     "name": "stdout",
     "output_type": "stream",
     "text": [
      " 512017 153638 633885.263  133   20 624250.000 641698.000  2.80%   145 3179s\n"
     ]
    },
    {
     "name": "stderr",
     "output_type": "stream",
     "text": [
      "2023-04-20 18:42:18,402 - INFO -  512017 153638 633885.263  133   20 624250.000 641698.000  2.80%   145 3179s\n"
     ]
    },
    {
     "name": "stdout",
     "output_type": "stream",
     "text": [
      " 513108 154668 infeasible  151      624250.000 641698.000  2.80%   145 3202s\n"
     ]
    },
    {
     "name": "stderr",
     "output_type": "stream",
     "text": [
      "2023-04-20 18:42:40,985 - INFO -  513108 154668 infeasible  151      624250.000 641698.000  2.80%   145 3202s\n"
     ]
    },
    {
     "name": "stdout",
     "output_type": "stream",
     "text": [
      " 515358 156016 640662.000   64  121 624250.000 641698.000  2.80%   145 3222s\n"
     ]
    },
    {
     "name": "stderr",
     "output_type": "stream",
     "text": [
      "2023-04-20 18:43:01,397 - INFO -  515358 156016 640662.000   64  121 624250.000 641698.000  2.80%   145 3222s\n"
     ]
    },
    {
     "name": "stdout",
     "output_type": "stream",
     "text": [
      " 518316 157192 630319.123   46   69 624250.000 641695.000  2.79%   146 3241s\n"
     ]
    },
    {
     "name": "stderr",
     "output_type": "stream",
     "text": [
      "2023-04-20 18:43:20,436 - INFO -  518316 157192 630319.123   46   69 624250.000 641695.000  2.79%   146 3241s\n"
     ]
    },
    {
     "name": "stdout",
     "output_type": "stream",
     "text": [
      " 520746 158363 634574.000   85   52 624250.000 641695.000  2.79%   146 3262s\n"
     ]
    },
    {
     "name": "stderr",
     "output_type": "stream",
     "text": [
      "2023-04-20 18:43:41,445 - INFO -  520746 158363 634574.000   85   52 624250.000 641695.000  2.79%   146 3262s\n"
     ]
    },
    {
     "name": "stdout",
     "output_type": "stream",
     "text": [
      " 523719 159810 639341.000   87   97 624250.000 641695.000  2.79%   146 3280s\n"
     ]
    },
    {
     "name": "stderr",
     "output_type": "stream",
     "text": [
      "2023-04-20 18:43:59,322 - INFO -  523719 159810 639341.000   87   97 624250.000 641695.000  2.79%   146 3280s\n"
     ]
    },
    {
     "name": "stdout",
     "output_type": "stream",
     "text": [
      " 526875 160428 infeasible   90      624250.000 641692.470  2.79%   146 3303s\n"
     ]
    },
    {
     "name": "stderr",
     "output_type": "stream",
     "text": [
      "2023-04-20 18:44:22,139 - INFO -  526875 160428 infeasible   90      624250.000 641692.470  2.79%   146 3303s\n"
     ]
    },
    {
     "name": "stdout",
     "output_type": "stream",
     "text": [
      " 528192 161850 639975.382   50  137 624250.000 641692.470  2.79%   146 3320s\n"
     ]
    },
    {
     "name": "stderr",
     "output_type": "stream",
     "text": [
      "2023-04-20 18:44:39,735 - INFO -  528192 161850 639975.382   50  137 624250.000 641692.470  2.79%   146 3320s\n"
     ]
    },
    {
     "name": "stdout",
     "output_type": "stream",
     "text": [
      " 531379 163316 639587.000   58  125 624250.000 641692.000  2.79%   147 3339s\n"
     ]
    },
    {
     "name": "stderr",
     "output_type": "stream",
     "text": [
      "2023-04-20 18:44:58,222 - INFO -  531379 163316 639587.000   58  125 624250.000 641692.000  2.79%   147 3339s\n"
     ]
    },
    {
     "name": "stdout",
     "output_type": "stream",
     "text": [
      " 534492 164611 638778.000   69  109 624250.000 641689.000  2.79%   147 3357s\n"
     ]
    },
    {
     "name": "stderr",
     "output_type": "stream",
     "text": [
      "2023-04-20 18:45:16,804 - INFO -  534492 164611 638778.000   69  109 624250.000 641689.000  2.79%   147 3357s\n"
     ]
    },
    {
     "name": "stdout",
     "output_type": "stream",
     "text": [
      " 537588 166118 639341.830   71  120 624250.000 641687.701  2.79%   147 3374s\n"
     ]
    },
    {
     "name": "stderr",
     "output_type": "stream",
     "text": [
      "2023-04-20 18:45:33,899 - INFO -  537588 166118 639341.830   71  120 624250.000 641687.701  2.79%   147 3374s\n"
     ]
    },
    {
     "name": "stdout",
     "output_type": "stream",
     "text": [
      " 538041 166118 626539.000   92   82 624250.000 641687.000  2.79%   147 3375s\n"
     ]
    },
    {
     "name": "stderr",
     "output_type": "stream",
     "text": [
      "2023-04-20 18:45:33,978 - INFO -  538041 166118 626539.000   92   82 624250.000 641687.000  2.79%   147 3375s\n"
     ]
    },
    {
     "name": "stdout",
     "output_type": "stream",
     "text": [
      " 540929 167576 639947.232   64  115 624250.000 641687.000  2.79%   147 3395s\n"
     ]
    },
    {
     "name": "stderr",
     "output_type": "stream",
     "text": [
      "2023-04-20 18:45:54,101 - INFO -  540929 167576 639947.232   64  115 624250.000 641687.000  2.79%   147 3395s\n"
     ]
    },
    {
     "name": "stdout",
     "output_type": "stream",
     "text": [
      " 544424 168815 641503.530   45  113 624250.000 641684.487  2.79%   147 3412s\n"
     ]
    },
    {
     "name": "stderr",
     "output_type": "stream",
     "text": [
      "2023-04-20 18:46:11,823 - INFO -  544424 168815 641503.530   45  113 624250.000 641684.487  2.79%   147 3412s\n"
     ]
    },
    {
     "name": "stdout",
     "output_type": "stream",
     "text": [
      " 547111 170248 634179.000   61   67 624250.000 641683.000  2.79%   148 3432s\n"
     ]
    },
    {
     "name": "stderr",
     "output_type": "stream",
     "text": [
      "2023-04-20 18:46:31,102 - INFO -  547111 170248 634179.000   61   67 624250.000 641683.000  2.79%   148 3432s\n"
     ]
    },
    {
     "name": "stdout",
     "output_type": "stream",
     "text": [
      " 550328 170917 641106.256   44  125 624250.000 641682.000  2.79%   148 3456s\n"
     ]
    },
    {
     "name": "stderr",
     "output_type": "stream",
     "text": [
      "2023-04-20 18:46:55,577 - INFO -  550328 170917 641106.256   44  125 624250.000 641682.000  2.79%   148 3456s\n"
     ]
    },
    {
     "name": "stdout",
     "output_type": "stream",
     "text": [
      " 551748 172492 641106.000   45  124 624250.000 641681.000  2.79%   148 3474s\n"
     ]
    },
    {
     "name": "stderr",
     "output_type": "stream",
     "text": [
      "2023-04-20 18:47:13,476 - INFO -  551748 172492 641106.000   45  124 624250.000 641681.000  2.79%   148 3474s\n"
     ]
    },
    {
     "name": "stdout",
     "output_type": "stream",
     "text": [
      " 555024 173897 640883.000   52  116 624250.000 641678.000  2.79%   148 3495s\n"
     ]
    },
    {
     "name": "stderr",
     "output_type": "stream",
     "text": [
      "2023-04-20 18:47:33,951 - INFO -  555024 173897 640883.000   52  116 624250.000 641678.000  2.79%   148 3495s\n"
     ]
    },
    {
     "name": "stdout",
     "output_type": "stream",
     "text": [
      " 558112 175487 641365.017   52  128 624250.000 641678.000  2.79%   148 3513s\n"
     ]
    },
    {
     "name": "stderr",
     "output_type": "stream",
     "text": [
      "2023-04-20 18:47:52,700 - INFO -  558112 175487 641365.017   52  128 624250.000 641678.000  2.79%   148 3513s\n"
     ]
    },
    {
     "name": "stdout",
     "output_type": "stream",
     "text": [
      " 561360 176943 infeasible   87      624250.000 641675.000  2.79%   148 3535s\n"
     ]
    },
    {
     "name": "stderr",
     "output_type": "stream",
     "text": [
      "2023-04-20 18:48:13,964 - INFO -  561360 176943 infeasible   87      624250.000 641675.000  2.79%   148 3535s\n"
     ]
    },
    {
     "name": "stdout",
     "output_type": "stream",
     "text": [
      " 564681 178047 626388.000   93   91 624250.000 641673.000  2.79%   149 3562s\n"
     ]
    },
    {
     "name": "stderr",
     "output_type": "stream",
     "text": [
      "2023-04-20 18:48:41,156 - INFO -  564681 178047 626388.000   93   91 624250.000 641673.000  2.79%   149 3562s\n"
     ]
    },
    {
     "name": "stdout",
     "output_type": "stream",
     "text": [
      " 567269 179303 639899.019   62  113 624250.000 641672.000  2.79%   149 3584s\n"
     ]
    },
    {
     "name": "stderr",
     "output_type": "stream",
     "text": [
      "2023-04-20 18:49:03,078 - INFO -  567269 179303 639899.019   62  113 624250.000 641672.000  2.79%   149 3584s\n"
     ]
    },
    {
     "name": "stdout",
     "output_type": "stream",
     "text": [
      " 569996 180191 638270.475   76   72 624250.000 641670.687  2.79%   149 3607s\n"
     ]
    },
    {
     "name": "stderr",
     "output_type": "stream",
     "text": [
      "2023-04-20 18:49:26,610 - INFO -  569996 180191 638270.475   76   72 624250.000 641670.687  2.79%   149 3607s\n"
     ]
    },
    {
     "name": "stdout",
     "output_type": "stream",
     "text": [
      " 572082 180747 634110.000   77  109 624250.000 641670.000  2.79%   149 3636s\n"
     ]
    },
    {
     "name": "stderr",
     "output_type": "stream",
     "text": [
      "2023-04-20 18:49:55,126 - INFO -  572082 180747 634110.000   77  109 624250.000 641670.000  2.79%   149 3636s\n"
     ]
    },
    {
     "name": "stdout",
     "output_type": "stream",
     "text": [
      " 573295 182207 638313.185   57  116 624250.000 641670.000  2.79%   149 3654s\n"
     ]
    },
    {
     "name": "stderr",
     "output_type": "stream",
     "text": [
      "2023-04-20 18:50:13,306 - INFO -  573295 182207 638313.185   57  116 624250.000 641670.000  2.79%   149 3654s\n"
     ]
    },
    {
     "name": "stdout",
     "output_type": "stream",
     "text": [
      " 576599 183659 628323.000   73   77 624250.000 641668.718  2.79%   149 3672s\n"
     ]
    },
    {
     "name": "stderr",
     "output_type": "stream",
     "text": [
      "2023-04-20 18:50:31,899 - INFO -  576599 183659 628323.000   73   77 624250.000 641668.718  2.79%   149 3672s\n"
     ]
    },
    {
     "name": "stdout",
     "output_type": "stream",
     "text": [
      " 579824 185074 641309.552   59  135 624250.000 641666.000  2.79%   149 3689s\n"
     ]
    },
    {
     "name": "stderr",
     "output_type": "stream",
     "text": [
      "2023-04-20 18:50:48,600 - INFO -  579824 185074 641309.552   59  135 624250.000 641666.000  2.79%   149 3689s\n"
     ]
    },
    {
     "name": "stdout",
     "output_type": "stream",
     "text": [
      " 582834 186415 639648.000   63  126 624250.000 641665.000  2.79%   150 3709s\n"
     ]
    },
    {
     "name": "stderr",
     "output_type": "stream",
     "text": [
      "2023-04-20 18:51:08,444 - INFO -  582834 186415 639648.000   63  126 624250.000 641665.000  2.79%   150 3709s\n"
     ]
    },
    {
     "name": "stdout",
     "output_type": "stream",
     "text": [
      " 585961 187377 infeasible  126      624250.000 641663.838  2.79%   150 3735s\n"
     ]
    },
    {
     "name": "stderr",
     "output_type": "stream",
     "text": [
      "2023-04-20 18:51:34,549 - INFO -  585961 187377 infeasible  126      624250.000 641663.838  2.79%   150 3735s\n"
     ]
    },
    {
     "name": "stdout",
     "output_type": "stream",
     "text": [
      " 588204 188759 640937.097   55  127 624250.000 641663.000  2.79%   150 3753s\n"
     ]
    },
    {
     "name": "stderr",
     "output_type": "stream",
     "text": [
      "2023-04-20 18:51:52,710 - INFO -  588204 188759 640937.097   55  127 624250.000 641663.000  2.79%   150 3753s\n"
     ]
    },
    {
     "name": "stdout",
     "output_type": "stream",
     "text": [
      " 591313 190158 640937.474   55  134 624250.000 641662.000  2.79%   150 3773s\n"
     ]
    },
    {
     "name": "stderr",
     "output_type": "stream",
     "text": [
      "2023-04-20 18:52:12,335 - INFO -  591313 190158 640937.474   55  134 624250.000 641662.000  2.79%   150 3773s\n"
     ]
    },
    {
     "name": "stdout",
     "output_type": "stream",
     "text": [
      " 594662 191600 infeasible   90      624250.000 641660.000  2.79%   150 3790s\n"
     ]
    },
    {
     "name": "stderr",
     "output_type": "stream",
     "text": [
      "2023-04-20 18:52:29,867 - INFO -  594662 191600 infeasible   90      624250.000 641660.000  2.79%   150 3790s\n"
     ]
    },
    {
     "name": "stdout",
     "output_type": "stream",
     "text": [
      " 597867 193247 infeasible  100      624250.000 641659.000  2.79%   150 3810s\n"
     ]
    },
    {
     "name": "stderr",
     "output_type": "stream",
     "text": [
      "2023-04-20 18:52:49,321 - INFO -  597867 193247 infeasible  100      624250.000 641659.000  2.79%   150 3810s\n"
     ]
    },
    {
     "name": "stdout",
     "output_type": "stream",
     "text": [
      " 601509 194701 639441.000   65   89 624250.000 641657.957  2.79%   150 3828s\n"
     ]
    },
    {
     "name": "stderr",
     "output_type": "stream",
     "text": [
      "2023-04-20 18:53:07,099 - INFO -  601509 194701 639441.000   65   89 624250.000 641657.957  2.79%   150 3828s\n"
     ]
    },
    {
     "name": "stdout",
     "output_type": "stream",
     "text": [
      " 604680 195024 641315.000   56  115 624250.000 641656.000  2.79%   150 3850s\n"
     ]
    },
    {
     "name": "stderr",
     "output_type": "stream",
     "text": [
      "2023-04-20 18:53:29,558 - INFO -  604680 195024 641315.000   56  115 624250.000 641656.000  2.79%   150 3850s\n"
     ]
    },
    {
     "name": "stdout",
     "output_type": "stream",
     "text": [
      " 605441 196568 641027.786   59  119 624250.000 641656.000  2.79%   150 3873s\n"
     ]
    },
    {
     "name": "stderr",
     "output_type": "stream",
     "text": [
      "2023-04-20 18:53:52,645 - INFO -  605441 196568 641027.786   59  119 624250.000 641656.000  2.79%   150 3873s\n"
     ]
    },
    {
     "name": "stdout",
     "output_type": "stream",
     "text": [
      " 608645 197813 infeasible  130      624250.000 641654.000  2.79%   151 3912s\n"
     ]
    },
    {
     "name": "stderr",
     "output_type": "stream",
     "text": [
      "2023-04-20 18:54:31,157 - INFO -  608645 197813 infeasible  130      624250.000 641654.000  2.79%   151 3912s\n"
     ]
    },
    {
     "name": "stdout",
     "output_type": "stream",
     "text": [
      "H609655 197512                    624572.00000 641653.000  2.73%   151 3912s\n"
     ]
    },
    {
     "name": "stderr",
     "output_type": "stream",
     "text": [
      "2023-04-20 18:54:31,407 - INFO - H609655 197512                    624572.00000 641653.000  2.73%   151 3912s\n"
     ]
    },
    {
     "name": "stdout",
     "output_type": "stream",
     "text": [
      "H609896 195993                    625683.00000 641653.000  2.55%   151 3912s\n"
     ]
    },
    {
     "name": "stderr",
     "output_type": "stream",
     "text": [
      "2023-04-20 18:54:31,501 - INFO - H609896 195993                    625683.00000 641653.000  2.55%   151 3912s\n"
     ]
    },
    {
     "name": "stdout",
     "output_type": "stream",
     "text": [
      " 611199 197578 638928.351   56  114 625683.000 641652.000  2.55%   151 3934s\n"
     ]
    },
    {
     "name": "stderr",
     "output_type": "stream",
     "text": [
      "2023-04-20 18:54:52,977 - INFO -  611199 197578 638928.351   56  114 625683.000 641652.000  2.55%   151 3934s\n"
     ]
    },
    {
     "name": "stdout",
     "output_type": "stream",
     "text": [
      " 614613 198777 641159.519   47  153 625683.000 641652.000  2.55%   151 3953s\n"
     ]
    },
    {
     "name": "stderr",
     "output_type": "stream",
     "text": [
      "2023-04-20 18:55:12,357 - INFO -  614613 198777 641159.519   47  153 625683.000 641652.000  2.55%   151 3953s\n"
     ]
    },
    {
     "name": "stdout",
     "output_type": "stream",
     "text": [
      " 617156 200278 639683.858   60  106 625683.000 641650.274  2.55%   151 3975s\n"
     ]
    },
    {
     "name": "stderr",
     "output_type": "stream",
     "text": [
      "2023-04-20 18:55:34,718 - INFO -  617156 200278 639683.858   60  106 625683.000 641650.274  2.55%   151 3975s\n"
     ]
    },
    {
     "name": "stdout",
     "output_type": "stream",
     "text": [
      " 620398 201829 640512.000   63  116 625683.000 641650.000  2.55%   151 3996s\n"
     ]
    },
    {
     "name": "stderr",
     "output_type": "stream",
     "text": [
      "2023-04-20 18:55:55,354 - INFO -  620398 201829 640512.000   63  116 625683.000 641650.000  2.55%   151 3996s\n"
     ]
    },
    {
     "name": "stdout",
     "output_type": "stream",
     "text": [
      " 623608 203133 631344.000   72  115 625683.000 641647.000  2.55%   151 4016s\n"
     ]
    },
    {
     "name": "stderr",
     "output_type": "stream",
     "text": [
      "2023-04-20 18:56:15,699 - INFO -  623608 203133 631344.000   72  115 625683.000 641647.000  2.55%   151 4016s\n"
     ]
    },
    {
     "name": "stdout",
     "output_type": "stream",
     "text": [
      " 626719 204549 640039.000   65  104 625683.000 641646.000  2.55%   151 4042s\n"
     ]
    },
    {
     "name": "stderr",
     "output_type": "stream",
     "text": [
      "2023-04-20 18:56:41,204 - INFO -  626719 204549 640039.000   65  104 625683.000 641646.000  2.55%   151 4042s\n"
     ]
    },
    {
     "name": "stdout",
     "output_type": "stream",
     "text": [
      " 629740 205195 634233.906   69   96 625683.000 641645.000  2.55%   152 4067s\n"
     ]
    },
    {
     "name": "stderr",
     "output_type": "stream",
     "text": [
      "2023-04-20 18:57:05,950 - INFO -  629740 205195 634233.906   69   96 625683.000 641645.000  2.55%   152 4067s\n"
     ]
    },
    {
     "name": "stdout",
     "output_type": "stream",
     "text": [
      " 631110 206454 640090.000   56  147 625683.000 641645.000  2.55%   152 4094s\n"
     ]
    },
    {
     "name": "stderr",
     "output_type": "stream",
     "text": [
      "2023-04-20 18:57:33,674 - INFO -  631110 206454 640090.000   56  147 625683.000 641645.000  2.55%   152 4094s\n"
     ]
    },
    {
     "name": "stdout",
     "output_type": "stream",
     "text": [
      " 632466 206454 639310.558   59  113 625683.000 641645.000  2.55%   152 4095s\n"
     ]
    },
    {
     "name": "stderr",
     "output_type": "stream",
     "text": [
      "2023-04-20 18:57:34,033 - INFO -  632466 206454 639310.558   59  113 625683.000 641645.000  2.55%   152 4095s\n"
     ]
    },
    {
     "name": "stdout",
     "output_type": "stream",
     "text": [
      " 634005 207730 632046.753  116   42 625683.000 641643.000  2.55%   152 4120s\n"
     ]
    },
    {
     "name": "stderr",
     "output_type": "stream",
     "text": [
      "2023-04-20 18:57:59,214 - INFO -  634005 207730 632046.753  116   42 625683.000 641643.000  2.55%   152 4120s\n"
     ]
    },
    {
     "name": "stdout",
     "output_type": "stream",
     "text": [
      " 637053 209144 639171.000   56   99 625683.000 641642.000  2.55%   152 4144s\n"
     ]
    },
    {
     "name": "stderr",
     "output_type": "stream",
     "text": [
      "2023-04-20 18:58:23,374 - INFO -  637053 209144 639171.000   56   99 625683.000 641642.000  2.55%   152 4144s\n"
     ]
    },
    {
     "name": "stdout",
     "output_type": "stream",
     "text": [
      " 640290 210532 641555.000   42  137 625683.000 641640.174  2.55%   152 4167s\n"
     ]
    },
    {
     "name": "stderr",
     "output_type": "stream",
     "text": [
      "2023-04-20 18:58:45,980 - INFO -  640290 210532 641555.000   42  137 625683.000 641640.174  2.55%   152 4167s\n"
     ]
    },
    {
     "name": "stdout",
     "output_type": "stream",
     "text": [
      " 643225 211897 640968.000   57  134 625683.000 641639.000  2.55%   152 4190s\n"
     ]
    },
    {
     "name": "stderr",
     "output_type": "stream",
     "text": [
      "2023-04-20 18:59:08,963 - INFO -  643225 211897 640968.000   57  134 625683.000 641639.000  2.55%   152 4190s\n"
     ]
    },
    {
     "name": "stdout",
     "output_type": "stream",
     "text": [
      " 646237 212425 636983.000   87   91 625683.000 641637.000  2.55%   152 4215s\n"
     ]
    },
    {
     "name": "stderr",
     "output_type": "stream",
     "text": [
      "2023-04-20 18:59:34,423 - INFO -  646237 212425 636983.000   87   91 625683.000 641637.000  2.55%   152 4215s\n"
     ]
    },
    {
     "name": "stdout",
     "output_type": "stream",
     "text": [
      " 647316 213285 640137.000   61  114 625683.000 641637.000  2.55%   152 4241s\n"
     ]
    },
    {
     "name": "stderr",
     "output_type": "stream",
     "text": [
      "2023-04-20 19:00:00,786 - INFO -  647316 213285 640137.000   61  114 625683.000 641637.000  2.55%   152 4241s\n"
     ]
    },
    {
     "name": "stdout",
     "output_type": "stream",
     "text": [
      " 649081 214648 640400.927   58  103 625683.000 641635.000  2.55%   152 4261s\n"
     ]
    },
    {
     "name": "stderr",
     "output_type": "stream",
     "text": [
      "2023-04-20 19:00:20,255 - INFO -  649081 214648 640400.927   58  103 625683.000 641635.000  2.55%   152 4261s\n"
     ]
    },
    {
     "name": "stdout",
     "output_type": "stream",
     "text": [
      " 651972 215101 640937.000   57  163 625683.000 641635.000  2.55%   152 4284s\n"
     ]
    },
    {
     "name": "stderr",
     "output_type": "stream",
     "text": [
      "2023-04-20 19:00:43,183 - INFO -  651972 215101 640937.000   57  163 625683.000 641635.000  2.55%   152 4284s\n"
     ]
    },
    {
     "name": "stdout",
     "output_type": "stream",
     "text": [
      " 652907 216522 640309.000   75  164 625683.000 641635.000  2.55%   152 4305s\n"
     ]
    },
    {
     "name": "stderr",
     "output_type": "stream",
     "text": [
      "2023-04-20 19:01:04,476 - INFO -  652907 216522 640309.000   75  164 625683.000 641635.000  2.55%   152 4305s\n"
     ]
    },
    {
     "name": "stdout",
     "output_type": "stream",
     "text": [
      " 656060 217764 633411.126   66   93 625683.000 641633.446  2.55%   153 4326s\n"
     ]
    },
    {
     "name": "stderr",
     "output_type": "stream",
     "text": [
      "2023-04-20 19:01:25,202 - INFO -  656060 217764 633411.126   66   93 625683.000 641633.446  2.55%   153 4326s\n"
     ]
    },
    {
     "name": "stdout",
     "output_type": "stream",
     "text": [
      " 659038 219125 630462.591   71   89 625683.000 641633.000  2.55%   153 4348s\n"
     ]
    },
    {
     "name": "stderr",
     "output_type": "stream",
     "text": [
      "2023-04-20 19:01:47,685 - INFO -  659038 219125 630462.591   71   89 625683.000 641633.000  2.55%   153 4348s\n"
     ]
    },
    {
     "name": "stdout",
     "output_type": "stream",
     "text": [
      " 662360 220198 636003.000   98  135 625683.000 641630.000  2.55%   153 4365s\n"
     ]
    },
    {
     "name": "stderr",
     "output_type": "stream",
     "text": [
      "2023-04-20 19:02:04,361 - INFO -  662360 220198 636003.000   98  135 625683.000 641630.000  2.55%   153 4365s\n"
     ]
    },
    {
     "name": "stdout",
     "output_type": "stream",
     "text": [
      " 664721 221768 640334.580   67  118 625683.000 641629.000  2.55%   153 4383s\n"
     ]
    },
    {
     "name": "stderr",
     "output_type": "stream",
     "text": [
      "2023-04-20 19:02:22,632 - INFO -  664721 221768 640334.580   67  118 625683.000 641629.000  2.55%   153 4383s\n"
     ]
    },
    {
     "name": "stdout",
     "output_type": "stream",
     "text": [
      " 668034 222422 639520.501   84   94 625683.000 641628.000  2.55%   153 4407s\n"
     ]
    },
    {
     "name": "stderr",
     "output_type": "stream",
     "text": [
      "2023-04-20 19:02:46,826 - INFO -  668034 222422 639520.501   84   94 625683.000 641628.000  2.55%   153 4407s\n"
     ]
    },
    {
     "name": "stdout",
     "output_type": "stream",
     "text": [
      " 669333 223966 633336.729   81   75 625683.000 641628.000  2.55%   153 4428s\n"
     ]
    },
    {
     "name": "stderr",
     "output_type": "stream",
     "text": [
      "2023-04-20 19:03:07,237 - INFO -  669333 223966 633336.729   81   75 625683.000 641628.000  2.55%   153 4428s\n"
     ]
    },
    {
     "name": "stdout",
     "output_type": "stream",
     "text": [
      " 672436 225223 640809.000   58  123 625683.000 641627.000  2.55%   153 4448s\n"
     ]
    },
    {
     "name": "stderr",
     "output_type": "stream",
     "text": [
      "2023-04-20 19:03:27,417 - INFO -  672436 225223 640809.000   58  123 625683.000 641627.000  2.55%   153 4448s\n"
     ]
    },
    {
     "name": "stdout",
     "output_type": "stream",
     "text": [
      " 675313 226509 638878.662   61  145 625683.000 641625.774  2.55%   153 4474s\n"
     ]
    },
    {
     "name": "stderr",
     "output_type": "stream",
     "text": [
      "2023-04-20 19:03:53,905 - INFO -  675313 226509 638878.662   61  145 625683.000 641625.774  2.55%   153 4474s\n"
     ]
    },
    {
     "name": "stdout",
     "output_type": "stream",
     "text": [
      " 676172 226509 infeasible   95      625683.000 641625.000  2.55%   153 4475s\n"
     ]
    },
    {
     "name": "stderr",
     "output_type": "stream",
     "text": [
      "2023-04-20 19:03:54,014 - INFO -  676172 226509 infeasible   95      625683.000 641625.000  2.55%   153 4475s\n"
     ]
    },
    {
     "name": "stdout",
     "output_type": "stream",
     "text": [
      " 678532 227821 641210.275   55  135 625683.000 641624.000  2.55%   153 4505s\n"
     ]
    },
    {
     "name": "stderr",
     "output_type": "stream",
     "text": [
      "2023-04-20 19:04:24,623 - INFO -  678532 227821 641210.275   55  135 625683.000 641624.000  2.55%   153 4505s\n"
     ]
    },
    {
     "name": "stdout",
     "output_type": "stream",
     "text": [
      " 681378 229362 640631.605   55  151 625683.000 641623.000  2.55%   153 4530s\n"
     ]
    },
    {
     "name": "stderr",
     "output_type": "stream",
     "text": [
      "2023-04-20 19:04:49,050 - INFO -  681378 229362 640631.605   55  151 625683.000 641623.000  2.55%   153 4530s\n"
     ]
    },
    {
     "name": "stdout",
     "output_type": "stream",
     "text": [
      " 684608 230176 635659.630   76   77 625683.000 641622.000  2.55%   153 4560s\n"
     ]
    },
    {
     "name": "stderr",
     "output_type": "stream",
     "text": [
      "2023-04-20 19:05:19,058 - INFO -  684608 230176 635659.630   76   77 625683.000 641622.000  2.55%   153 4560s\n"
     ]
    },
    {
     "name": "stdout",
     "output_type": "stream",
     "text": [
      " 686268 231506 637776.349   65  125 625683.000 641621.002  2.55%   153 4585s\n"
     ]
    },
    {
     "name": "stderr",
     "output_type": "stream",
     "text": [
      "2023-04-20 19:05:44,145 - INFO -  686268 231506 637776.349   65  125 625683.000 641621.002  2.55%   153 4585s\n"
     ]
    },
    {
     "name": "stdout",
     "output_type": "stream",
     "text": [
      " 689276 232141 639318.000   68  119 625683.000 641619.000  2.55%   154 4611s\n"
     ]
    },
    {
     "name": "stderr",
     "output_type": "stream",
     "text": [
      "2023-04-20 19:06:10,588 - INFO -  689276 232141 639318.000   68  119 625683.000 641619.000  2.55%   154 4611s\n"
     ]
    },
    {
     "name": "stdout",
     "output_type": "stream",
     "text": [
      " 690833 233507 638327.480   65  130 625683.000 641619.000  2.55%   154 4639s\n"
     ]
    },
    {
     "name": "stderr",
     "output_type": "stream",
     "text": [
      "2023-04-20 19:06:38,648 - INFO -  690833 233507 638327.480   65  130 625683.000 641619.000  2.55%   154 4639s\n"
     ]
    },
    {
     "name": "stdout",
     "output_type": "stream",
     "text": [
      " 693354 233507 631174.000   95  118 625683.000 641617.439  2.55%   154 4640s\n"
     ]
    },
    {
     "name": "stderr",
     "output_type": "stream",
     "text": [
      "2023-04-20 19:06:38,991 - INFO -  693354 233507 631174.000   95  118 625683.000 641617.439  2.55%   154 4640s\n"
     ]
    },
    {
     "name": "stdout",
     "output_type": "stream",
     "text": [
      " 693787 234741 637186.000   72  129 625683.000 641617.000  2.55%   154 4664s\n"
     ]
    },
    {
     "name": "stderr",
     "output_type": "stream",
     "text": [
      "2023-04-20 19:07:02,981 - INFO -  693787 234741 637186.000   72  129 625683.000 641617.000  2.55%   154 4664s\n"
     ]
    },
    {
     "name": "stdout",
     "output_type": "stream",
     "text": [
      " 696453 236106 639579.170   68  120 625683.000 641615.000  2.55%   154 4686s\n"
     ]
    },
    {
     "name": "stderr",
     "output_type": "stream",
     "text": [
      "2023-04-20 19:07:25,385 - INFO -  696453 236106 639579.170   68  120 625683.000 641615.000  2.55%   154 4686s\n"
     ]
    },
    {
     "name": "stdout",
     "output_type": "stream",
     "text": [
      " 699394 237543 641335.000   49  119 625683.000 641614.081  2.55%   154 4707s\n"
     ]
    },
    {
     "name": "stderr",
     "output_type": "stream",
     "text": [
      "2023-04-20 19:07:46,755 - INFO -  699394 237543 641335.000   49  119 625683.000 641614.081  2.55%   154 4707s\n"
     ]
    },
    {
     "name": "stdout",
     "output_type": "stream",
     "text": [
      " 702409 238881 640772.000   53  116 625683.000 641612.889  2.55%   154 4728s\n"
     ]
    },
    {
     "name": "stderr",
     "output_type": "stream",
     "text": [
      "2023-04-20 19:08:07,271 - INFO -  702409 238881 640772.000   53  116 625683.000 641612.889  2.55%   154 4728s\n"
     ]
    },
    {
     "name": "stdout",
     "output_type": "stream",
     "text": [
      " 705105 239672 641284.000   49  129 625683.000 641612.000  2.55%   154 4751s\n"
     ]
    },
    {
     "name": "stderr",
     "output_type": "stream",
     "text": [
      "2023-04-20 19:08:30,672 - INFO -  705105 239672 641284.000   49  129 625683.000 641612.000  2.55%   154 4751s\n"
     ]
    },
    {
     "name": "stdout",
     "output_type": "stream",
     "text": [
      " 707046 241092 638892.188   50  136 625683.000 641612.000  2.55%   154 4771s\n"
     ]
    },
    {
     "name": "stderr",
     "output_type": "stream",
     "text": [
      "2023-04-20 19:08:50,123 - INFO -  707046 241092 638892.188   50  136 625683.000 641612.000  2.55%   154 4771s\n"
     ]
    },
    {
     "name": "stdout",
     "output_type": "stream",
     "text": [
      " 710181 242549 635619.952   96  115 625683.000 641610.000  2.55%   154 4790s\n"
     ]
    },
    {
     "name": "stderr",
     "output_type": "stream",
     "text": [
      "2023-04-20 19:09:09,562 - INFO -  710181 242549 635619.952   96  115 625683.000 641610.000  2.55%   154 4790s\n"
     ]
    },
    {
     "name": "stdout",
     "output_type": "stream",
     "text": [
      " 713375 243951 641231.000   43  137 625683.000 641609.000  2.55%   155 4811s\n"
     ]
    },
    {
     "name": "stderr",
     "output_type": "stream",
     "text": [
      "2023-04-20 19:09:30,472 - INFO -  713375 243951 641231.000   43  137 625683.000 641609.000  2.55%   155 4811s\n"
     ]
    },
    {
     "name": "stdout",
     "output_type": "stream",
     "text": [
      " 716260 245595 640465.858   53  123 625683.000 641608.000  2.55%   155 4834s\n"
     ]
    },
    {
     "name": "stderr",
     "output_type": "stream",
     "text": [
      "2023-04-20 19:09:53,590 - INFO -  716260 245595 640465.858   53  123 625683.000 641608.000  2.55%   155 4834s\n"
     ]
    },
    {
     "name": "stdout",
     "output_type": "stream",
     "text": [
      " 719642 245599 infeasible   82      625683.000 641606.000  2.54%   155 4835s\n"
     ]
    },
    {
     "name": "stderr",
     "output_type": "stream",
     "text": [
      "2023-04-20 19:09:54,108 - INFO -  719642 245599 infeasible   82      625683.000 641606.000  2.54%   155 4835s\n"
     ]
    },
    {
     "name": "stdout",
     "output_type": "stream",
     "text": [
      " 719763 245960 640529.000   63  119 625683.000 641606.000  2.54%   155 4859s\n"
     ]
    },
    {
     "name": "stderr",
     "output_type": "stream",
     "text": [
      "2023-04-20 19:10:18,330 - INFO -  719763 245960 640529.000   63  119 625683.000 641606.000  2.54%   155 4859s\n"
     ]
    },
    {
     "name": "stdout",
     "output_type": "stream",
     "text": [
      " 720546 247084 641466.000   37  104 625683.000 641606.000  2.54%   155 4876s\n"
     ]
    },
    {
     "name": "stderr",
     "output_type": "stream",
     "text": [
      "2023-04-20 19:10:34,954 - INFO -  720546 247084 641466.000   37  104 625683.000 641606.000  2.54%   155 4876s\n"
     ]
    },
    {
     "name": "stdout",
     "output_type": "stream",
     "text": [
      " 722956 248275 infeasible   69      625683.000 641605.000  2.54%   155 4896s\n"
     ]
    },
    {
     "name": "stderr",
     "output_type": "stream",
     "text": [
      "2023-04-20 19:10:55,334 - INFO -  722956 248275 infeasible   69      625683.000 641605.000  2.54%   155 4896s\n"
     ]
    },
    {
     "name": "stdout",
     "output_type": "stream",
     "text": [
      "H724320 246407                    626557.00000 641605.000  2.40%   155 4896s\n"
     ]
    },
    {
     "name": "stderr",
     "output_type": "stream",
     "text": [
      "2023-04-20 19:10:55,568 - INFO - H724320 246407                    626557.00000 641605.000  2.40%   155 4896s\n"
     ]
    },
    {
     "name": "stdout",
     "output_type": "stream",
     "text": [
      " 725787 246918 638943.000   67  115 626557.000 641605.000  2.40%   155 4920s\n"
     ]
    },
    {
     "name": "stderr",
     "output_type": "stream",
     "text": [
      "2023-04-20 19:11:19,026 - INFO -  725787 246918 638943.000   67  115 626557.000 641605.000  2.40%   155 4920s\n"
     ]
    },
    {
     "name": "stdout",
     "output_type": "stream",
     "text": [
      " 727104 247874 640714.000   53  120 626557.000 641605.000  2.40%   155 4938s\n"
     ]
    },
    {
     "name": "stderr",
     "output_type": "stream",
     "text": [
      "2023-04-20 19:11:37,106 - INFO -  727104 247874 640714.000   53  120 626557.000 641605.000  2.40%   155 4938s\n"
     ]
    },
    {
     "name": "stdout",
     "output_type": "stream",
     "text": [
      " 729448 249000 infeasible   90      626557.000 641603.000  2.40%   156 4959s\n"
     ]
    },
    {
     "name": "stderr",
     "output_type": "stream",
     "text": [
      "2023-04-20 19:11:58,415 - INFO -  729448 249000 infeasible   90      626557.000 641603.000  2.40%   156 4959s\n"
     ]
    },
    {
     "name": "stdout",
     "output_type": "stream",
     "text": [
      " 732302 250009 637918.739   54  123 626557.000 641602.305  2.40%   156 4977s\n"
     ]
    },
    {
     "name": "stderr",
     "output_type": "stream",
     "text": [
      "2023-04-20 19:12:16,880 - INFO -  732302 250009 637918.739   54  123 626557.000 641602.305  2.40%   156 4977s\n"
     ]
    },
    {
     "name": "stdout",
     "output_type": "stream",
     "text": [
      " 734760 251238 633527.532   69  108 626557.000 641601.000  2.40%   156 4997s\n"
     ]
    },
    {
     "name": "stderr",
     "output_type": "stream",
     "text": [
      "2023-04-20 19:12:36,422 - INFO -  734760 251238 633527.532   69  108 626557.000 641601.000  2.40%   156 4997s\n"
     ]
    },
    {
     "name": "stdout",
     "output_type": "stream",
     "text": [
      " 737568 252602 626735.341   83   84 626557.000 641600.000  2.40%   156 5014s\n"
     ]
    },
    {
     "name": "stderr",
     "output_type": "stream",
     "text": [
      "2023-04-20 19:12:53,286 - INFO -  737568 252602 626735.341   83   84 626557.000 641600.000  2.40%   156 5014s\n"
     ]
    },
    {
     "name": "stdout",
     "output_type": "stream",
     "text": [
      " 740457 253219 640702.000   51  131 626557.000 641600.000  2.40%   156 5035s\n"
     ]
    },
    {
     "name": "stderr",
     "output_type": "stream",
     "text": [
      "2023-04-20 19:13:14,747 - INFO -  740457 253219 640702.000   51  131 626557.000 641600.000  2.40%   156 5035s\n"
     ]
    },
    {
     "name": "stdout",
     "output_type": "stream",
     "text": [
      " 741855 254262 641457.000   39  133 626557.000 641599.000  2.40%   156 5053s\n"
     ]
    },
    {
     "name": "stderr",
     "output_type": "stream",
     "text": [
      "2023-04-20 19:13:31,955 - INFO -  741855 254262 641457.000   39  133 626557.000 641599.000  2.40%   156 5053s\n"
     ]
    },
    {
     "name": "stdout",
     "output_type": "stream",
     "text": [
      " 744462 255294 636245.621   57  124 626557.000 641598.000  2.40%   156 5071s\n"
     ]
    },
    {
     "name": "stderr",
     "output_type": "stream",
     "text": [
      "2023-04-20 19:13:50,242 - INFO -  744462 255294 636245.621   57  124 626557.000 641598.000  2.40%   156 5071s\n"
     ]
    },
    {
     "name": "stdout",
     "output_type": "stream",
     "text": [
      " 747027 256531 634404.000   72  105 626557.000 641597.126  2.40%   157 5089s\n"
     ]
    },
    {
     "name": "stderr",
     "output_type": "stream",
     "text": [
      "2023-04-20 19:14:08,902 - INFO -  747027 256531 634404.000   72  105 626557.000 641597.126  2.40%   157 5089s\n"
     ]
    },
    {
     "name": "stdout",
     "output_type": "stream",
     "text": [
      " 747476 256531 636173.000   70  103 626557.000 641597.000  2.40%   157 5090s\n"
     ]
    },
    {
     "name": "stderr",
     "output_type": "stream",
     "text": [
      "2023-04-20 19:14:08,980 - INFO -  747476 256531 636173.000   70  103 626557.000 641597.000  2.40%   157 5090s\n"
     ]
    },
    {
     "name": "stdout",
     "output_type": "stream",
     "text": [
      " 749920 257639 634735.000   77  104 626557.000 641597.000  2.40%   157 5107s\n"
     ]
    },
    {
     "name": "stderr",
     "output_type": "stream",
     "text": [
      "2023-04-20 19:14:25,980 - INFO -  749920 257639 634735.000   77  104 626557.000 641597.000  2.40%   157 5107s\n"
     ]
    },
    {
     "name": "stdout",
     "output_type": "stream",
     "text": [
      " 752475 258765 636291.789   72  102 626557.000 641596.000  2.40%   157 5125s\n"
     ]
    },
    {
     "name": "stderr",
     "output_type": "stream",
     "text": [
      "2023-04-20 19:14:44,146 - INFO -  752475 258765 636291.789   72  102 626557.000 641596.000  2.40%   157 5125s\n"
     ]
    },
    {
     "name": "stdout",
     "output_type": "stream",
     "text": [
      " 755136 259593 638158.389   50  124 626557.000 641595.000  2.40%   157 5141s\n"
     ]
    },
    {
     "name": "stderr",
     "output_type": "stream",
     "text": [
      "2023-04-20 19:15:00,264 - INFO -  755136 259593 638158.389   50  124 626557.000 641595.000  2.40%   157 5141s\n"
     ]
    },
    {
     "name": "stdout",
     "output_type": "stream",
     "text": [
      " 757149 260191 infeasible   79      626557.000 641595.000  2.40%   157 5163s\n"
     ]
    },
    {
     "name": "stderr",
     "output_type": "stream",
     "text": [
      "2023-04-20 19:15:22,030 - INFO -  757149 260191 infeasible   79      626557.000 641595.000  2.40%   157 5163s\n"
     ]
    },
    {
     "name": "stdout",
     "output_type": "stream",
     "text": [
      " 758651 261242 638317.888   72   67 626557.000 641594.000  2.40%   157 5183s\n"
     ]
    },
    {
     "name": "stderr",
     "output_type": "stream",
     "text": [
      "2023-04-20 19:15:42,694 - INFO -  758651 261242 638317.888   72   67 626557.000 641594.000  2.40%   157 5183s\n"
     ]
    },
    {
     "name": "stdout",
     "output_type": "stream",
     "text": [
      " 761365 262620 641462.338   50  126 626557.000 641593.000  2.40%   158 5208s\n"
     ]
    },
    {
     "name": "stderr",
     "output_type": "stream",
     "text": [
      "2023-04-20 19:16:07,682 - INFO -  761365 262620 641462.338   50  126 626557.000 641593.000  2.40%   158 5208s\n"
     ]
    },
    {
     "name": "stdout",
     "output_type": "stream",
     "text": [
      " 764439 262900 639105.412   80  136 626557.000 641592.000  2.40%   158 5239s\n"
     ]
    },
    {
     "name": "stderr",
     "output_type": "stream",
     "text": [
      "2023-04-20 19:16:38,394 - INFO -  764439 262900 639105.412   80  136 626557.000 641592.000  2.40%   158 5239s\n"
     ]
    },
    {
     "name": "stdout",
     "output_type": "stream",
     "text": [
      " 765081 264043 637733.000  105   76 626557.000 641592.000  2.40%   158 5257s\n"
     ]
    },
    {
     "name": "stderr",
     "output_type": "stream",
     "text": [
      "2023-04-20 19:16:56,143 - INFO -  765081 264043 637733.000  105   76 626557.000 641592.000  2.40%   158 5257s\n"
     ]
    },
    {
     "name": "stdout",
     "output_type": "stream",
     "text": [
      " 767751 265104 633943.382   59   48 626557.000 641591.000  2.40%   158 5275s\n"
     ]
    },
    {
     "name": "stderr",
     "output_type": "stream",
     "text": [
      "2023-04-20 19:17:14,424 - INFO -  767751 265104 633943.382   59   48 626557.000 641591.000  2.40%   158 5275s\n"
     ]
    },
    {
     "name": "stdout",
     "output_type": "stream",
     "text": [
      " 770468 265548 635747.823   63  139 626557.000 641590.000  2.40%   158 5294s\n"
     ]
    },
    {
     "name": "stderr",
     "output_type": "stream",
     "text": [
      "2023-04-20 19:17:33,246 - INFO -  770468 265548 635747.823   63  139 626557.000 641590.000  2.40%   158 5294s\n"
     ]
    },
    {
     "name": "stdout",
     "output_type": "stream",
     "text": [
      " 771630 266515 626684.577   90   84 626557.000 641590.000  2.40%   158 5313s\n"
     ]
    },
    {
     "name": "stderr",
     "output_type": "stream",
     "text": [
      "2023-04-20 19:17:52,323 - INFO -  771630 266515 626684.577   90   84 626557.000 641590.000  2.40%   158 5313s\n"
     ]
    },
    {
     "name": "stdout",
     "output_type": "stream",
     "text": [
      " 774028 267643 639242.707   50   99 626557.000 641589.000  2.40%   159 5329s\n"
     ]
    },
    {
     "name": "stderr",
     "output_type": "stream",
     "text": [
      "2023-04-20 19:18:08,794 - INFO -  774028 267643 639242.707   50   99 626557.000 641589.000  2.40%   159 5329s\n"
     ]
    },
    {
     "name": "stdout",
     "output_type": "stream",
     "text": [
      " 776596 268889 637488.000   88  116 626557.000 641589.000  2.40%   159 5348s\n"
     ]
    },
    {
     "name": "stderr",
     "output_type": "stream",
     "text": [
      "2023-04-20 19:18:27,456 - INFO -  776596 268889 637488.000   88  116 626557.000 641589.000  2.40%   159 5348s\n"
     ]
    },
    {
     "name": "stdout",
     "output_type": "stream",
     "text": [
      " 779384 270001 640652.153   57  130 626557.000 641587.000  2.40%   159 5365s\n"
     ]
    },
    {
     "name": "stderr",
     "output_type": "stream",
     "text": [
      "2023-04-20 19:18:44,244 - INFO -  779384 270001 640652.153   57  130 626557.000 641587.000  2.40%   159 5365s\n"
     ]
    },
    {
     "name": "stdout",
     "output_type": "stream",
     "text": [
      " 781880 271182 632495.000  113   14 626557.000 641586.000  2.40%   159 5382s\n"
     ]
    },
    {
     "name": "stderr",
     "output_type": "stream",
     "text": [
      "2023-04-20 19:19:01,680 - INFO -  781880 271182 632495.000  113   14 626557.000 641586.000  2.40%   159 5382s\n"
     ]
    },
    {
     "name": "stdout",
     "output_type": "stream",
     "text": [
      " 784588 272292 633683.524   63   77 626557.000 641585.000  2.40%   159 5402s\n"
     ]
    },
    {
     "name": "stderr",
     "output_type": "stream",
     "text": [
      "2023-04-20 19:19:21,666 - INFO -  784588 272292 633683.524   63   77 626557.000 641585.000  2.40%   159 5402s\n"
     ]
    },
    {
     "name": "stdout",
     "output_type": "stream",
     "text": [
      " 787059 272690 640117.914   55  139 626557.000 641584.813  2.40%   159 5423s\n"
     ]
    },
    {
     "name": "stderr",
     "output_type": "stream",
     "text": [
      "2023-04-20 19:19:42,180 - INFO -  787059 272690 640117.914   55  139 626557.000 641584.813  2.40%   159 5423s\n"
     ]
    },
    {
     "name": "stdout",
     "output_type": "stream",
     "text": [
      " 788000 273900 634162.360   61  123 626557.000 641584.250  2.40%   159 5442s\n"
     ]
    },
    {
     "name": "stderr",
     "output_type": "stream",
     "text": [
      "2023-04-20 19:20:01,065 - INFO -  788000 273900 634162.360   61  123 626557.000 641584.250  2.40%   159 5442s\n"
     ]
    },
    {
     "name": "stdout",
     "output_type": "stream",
     "text": [
      " 790774 274846 633893.931   71  113 626557.000 641584.000  2.40%   160 5459s\n"
     ]
    },
    {
     "name": "stderr",
     "output_type": "stream",
     "text": [
      "2023-04-20 19:20:18,273 - INFO -  790774 274846 633893.931   71  113 626557.000 641584.000  2.40%   160 5459s\n"
     ]
    },
    {
     "name": "stdout",
     "output_type": "stream",
     "text": [
      " 793198 275697 631680.637   79  145 626557.000 641582.612  2.40%   160 5475s\n"
     ]
    },
    {
     "name": "stderr",
     "output_type": "stream",
     "text": [
      "2023-04-20 19:20:34,635 - INFO -  793198 275697 631680.637   79  145 626557.000 641582.612  2.40%   160 5475s\n"
     ]
    },
    {
     "name": "stdout",
     "output_type": "stream",
     "text": [
      " 795259 277043 641287.846   54  123 626557.000 641582.000  2.40%   160 5494s\n"
     ]
    },
    {
     "name": "stderr",
     "output_type": "stream",
     "text": [
      "2023-04-20 19:20:53,289 - INFO -  795259 277043 641287.846   54  123 626557.000 641582.000  2.40%   160 5494s\n"
     ]
    },
    {
     "name": "stdout",
     "output_type": "stream",
     "text": [
      " 798192 278128 638585.402   79  107 626557.000 641581.000  2.40%   160 5511s\n"
     ]
    },
    {
     "name": "stderr",
     "output_type": "stream",
     "text": [
      "2023-04-20 19:21:10,012 - INFO -  798192 278128 638585.402   79  107 626557.000 641581.000  2.40%   160 5511s\n"
     ]
    },
    {
     "name": "stdout",
     "output_type": "stream",
     "text": [
      " 800690 279406 641320.120   49  138 626557.000 641581.000  2.40%   160 5529s\n"
     ]
    },
    {
     "name": "stderr",
     "output_type": "stream",
     "text": [
      "2023-04-20 19:21:28,655 - INFO -  800690 279406 641320.120   49  138 626557.000 641581.000  2.40%   160 5529s\n"
     ]
    },
    {
     "name": "stdout",
     "output_type": "stream",
     "text": [
      " 803453 279409 636609.086   78   72 626557.000 641581.000  2.40%   160 5530s\n"
     ]
    },
    {
     "name": "stderr",
     "output_type": "stream",
     "text": [
      "2023-04-20 19:21:29,077 - INFO -  803453 279409 636609.086   78   72 626557.000 641581.000  2.40%   160 5530s\n"
     ]
    },
    {
     "name": "stdout",
     "output_type": "stream",
     "text": [
      " 803617 280609 635271.000  113   68 626557.000 641580.000  2.40%   160 5547s\n"
     ]
    },
    {
     "name": "stderr",
     "output_type": "stream",
     "text": [
      "2023-04-20 19:21:46,026 - INFO -  803617 280609 635271.000  113   68 626557.000 641580.000  2.40%   160 5547s\n"
     ]
    },
    {
     "name": "stdout",
     "output_type": "stream",
     "text": [
      " 806515 281755 infeasible  135      626557.000 641579.000  2.40%   161 5568s\n"
     ]
    },
    {
     "name": "stderr",
     "output_type": "stream",
     "text": [
      "2023-04-20 19:22:07,360 - INFO -  806515 281755 infeasible  135      626557.000 641579.000  2.40%   161 5568s\n"
     ]
    },
    {
     "name": "stdout",
     "output_type": "stream",
     "text": [
      " 809154 282333 641200.458   58  118 626557.000 641578.000  2.40%   161 5588s\n"
     ]
    },
    {
     "name": "stderr",
     "output_type": "stream",
     "text": [
      "2023-04-20 19:22:27,467 - INFO -  809154 282333 641200.458   58  118 626557.000 641578.000  2.40%   161 5588s\n"
     ]
    },
    {
     "name": "stdout",
     "output_type": "stream",
     "text": [
      " 810526 283588 641183.000   59  102 626557.000 641578.000  2.40%   161 5610s\n"
     ]
    },
    {
     "name": "stderr",
     "output_type": "stream",
     "text": [
      "2023-04-20 19:22:49,540 - INFO -  810526 283588 641183.000   59  102 626557.000 641578.000  2.40%   161 5610s\n"
     ]
    },
    {
     "name": "stdout",
     "output_type": "stream",
     "text": [
      " 813514 284707 638051.000   77  127 626557.000 641577.000  2.40%   161 5629s\n"
     ]
    },
    {
     "name": "stderr",
     "output_type": "stream",
     "text": [
      "2023-04-20 19:23:08,602 - INFO -  813514 284707 638051.000   77  127 626557.000 641577.000  2.40%   161 5629s\n"
     ]
    },
    {
     "name": "stdout",
     "output_type": "stream",
     "text": [
      " 815913 284707 infeasible   85      626557.000 641576.000  2.40%   161 5630s\n"
     ]
    },
    {
     "name": "stderr",
     "output_type": "stream",
     "text": [
      "2023-04-20 19:23:08,945 - INFO -  815913 284707 infeasible   85      626557.000 641576.000  2.40%   161 5630s\n"
     ]
    },
    {
     "name": "stdout",
     "output_type": "stream",
     "text": [
      " 816255 285887 632470.740   75   83 626557.000 641576.000  2.40%   161 5653s\n"
     ]
    },
    {
     "name": "stderr",
     "output_type": "stream",
     "text": [
      "2023-04-20 19:23:32,539 - INFO -  816255 285887 632470.740   75   83 626557.000 641576.000  2.40%   161 5653s\n"
     ]
    },
    {
     "name": "stdout",
     "output_type": "stream",
     "text": [
      " 819041 286382 627089.000  114   56 626557.000 641575.000  2.40%   161 5677s\n"
     ]
    },
    {
     "name": "stderr",
     "output_type": "stream",
     "text": [
      "2023-04-20 19:23:56,935 - INFO -  819041 286382 627089.000  114   56 626557.000 641575.000  2.40%   161 5677s\n"
     ]
    },
    {
     "name": "stdout",
     "output_type": "stream",
     "text": [
      " 820203 287702 641062.842   42   87 626557.000 641574.781  2.40%   161 5696s\n"
     ]
    },
    {
     "name": "stderr",
     "output_type": "stream",
     "text": [
      "2023-04-20 19:24:15,674 - INFO -  820203 287702 641062.842   42   87 626557.000 641574.781  2.40%   161 5696s\n"
     ]
    },
    {
     "name": "stdout",
     "output_type": "stream",
     "text": [
      " 823164 288427 634316.183   85  111 626557.000 641573.000  2.40%   161 5718s\n"
     ]
    },
    {
     "name": "stderr",
     "output_type": "stream",
     "text": [
      "2023-04-20 19:24:37,780 - INFO -  823164 288427 634316.183   85  111 626557.000 641573.000  2.40%   161 5718s\n"
     ]
    },
    {
     "name": "stdout",
     "output_type": "stream",
     "text": [
      " 824735 289592 641039.000   54  121 626557.000 641573.000  2.40%   161 5739s\n"
     ]
    },
    {
     "name": "stderr",
     "output_type": "stream",
     "text": [
      "2023-04-20 19:24:58,688 - INFO -  824735 289592 641039.000   54  121 626557.000 641573.000  2.40%   161 5739s\n"
     ]
    },
    {
     "name": "stdout",
     "output_type": "stream",
     "text": [
      " 826506 289593 641360.448   39  123 626557.000 641572.694  2.40%   162 5740s\n"
     ]
    },
    {
     "name": "stderr",
     "output_type": "stream",
     "text": [
      "2023-04-20 19:24:58,984 - INFO -  826506 289593 641360.448   39  123 626557.000 641572.694  2.40%   162 5740s\n"
     ]
    },
    {
     "name": "stdout",
     "output_type": "stream",
     "text": [
      " 827505 290840 635520.000   70   91 626557.000 641572.000  2.40%   162 5760s\n"
     ]
    },
    {
     "name": "stderr",
     "output_type": "stream",
     "text": [
      "2023-04-20 19:25:19,689 - INFO -  827505 290840 635520.000   70   91 626557.000 641572.000  2.40%   162 5760s\n"
     ]
    },
    {
     "name": "stdout",
     "output_type": "stream",
     "text": [
      " 830400 292128 632802.444   85  101 626557.000 641572.000  2.40%   162 5779s\n"
     ]
    },
    {
     "name": "stderr",
     "output_type": "stream",
     "text": [
      "2023-04-20 19:25:38,445 - INFO -  830400 292128 632802.444   85  101 626557.000 641572.000  2.40%   162 5779s\n"
     ]
    },
    {
     "name": "stdout",
     "output_type": "stream",
     "text": [
      " 833228 293293 639122.490   62  113 626557.000 641570.502  2.40%   162 5799s\n"
     ]
    },
    {
     "name": "stderr",
     "output_type": "stream",
     "text": [
      "2023-04-20 19:25:58,192 - INFO -  833228 293293 639122.490   62  113 626557.000 641570.502  2.40%   162 5799s\n"
     ]
    },
    {
     "name": "stdout",
     "output_type": "stream",
     "text": [
      " 835845 294513 632901.000   81  100 626557.000 641570.000  2.40%   162 5818s\n"
     ]
    },
    {
     "name": "stderr",
     "output_type": "stream",
     "text": [
      "2023-04-20 19:26:17,460 - INFO -  835845 294513 632901.000   81  100 626557.000 641570.000  2.40%   162 5818s\n"
     ]
    },
    {
     "name": "stdout",
     "output_type": "stream",
     "text": [
      " 838907 295763 638670.000   61  130 626557.000 641569.000  2.40%   162 5836s\n"
     ]
    },
    {
     "name": "stderr",
     "output_type": "stream",
     "text": [
      "2023-04-20 19:26:35,860 - INFO -  838907 295763 638670.000   61  130 626557.000 641569.000  2.40%   162 5836s\n"
     ]
    },
    {
     "name": "stdout",
     "output_type": "stream",
     "text": [
      " 841842 296109 639670.656   74  129 626557.000 641568.000  2.40%   162 5858s\n"
     ]
    },
    {
     "name": "stderr",
     "output_type": "stream",
     "text": [
      "2023-04-20 19:26:57,747 - INFO -  841842 296109 639670.656   74  129 626557.000 641568.000  2.40%   162 5858s\n"
     ]
    },
    {
     "name": "stdout",
     "output_type": "stream",
     "text": [
      " 842600 297108 633380.653   55   97 626557.000 641568.000  2.40%   162 5877s\n"
     ]
    },
    {
     "name": "stderr",
     "output_type": "stream",
     "text": [
      "2023-04-20 19:27:16,330 - INFO -  842600 297108 633380.653   55   97 626557.000 641568.000  2.40%   162 5877s\n"
     ]
    },
    {
     "name": "stdout",
     "output_type": "stream",
     "text": [
      " 844982 298354 632521.270   52  119 626557.000 641567.000  2.40%   162 5894s\n"
     ]
    },
    {
     "name": "stderr",
     "output_type": "stream",
     "text": [
      "2023-04-20 19:27:33,745 - INFO -  844982 298354 632521.270   52  119 626557.000 641567.000  2.40%   162 5894s\n"
     ]
    },
    {
     "name": "stdout",
     "output_type": "stream",
     "text": [
      " 847411 298354 635882.054   62  137 626557.000 641567.000  2.40%   163 5895s\n"
     ]
    },
    {
     "name": "stderr",
     "output_type": "stream",
     "text": [
      "2023-04-20 19:27:34,104 - INFO -  847411 298354 635882.054   62  137 626557.000 641567.000  2.40%   163 5895s\n"
     ]
    },
    {
     "name": "stdout",
     "output_type": "stream",
     "text": [
      " 847919 299676 632257.000   72   98 626557.000 641567.000  2.40%   163 5912s\n"
     ]
    },
    {
     "name": "stderr",
     "output_type": "stream",
     "text": [
      "2023-04-20 19:27:51,652 - INFO -  847919 299676 632257.000   72   98 626557.000 641567.000  2.40%   163 5912s\n"
     ]
    },
    {
     "name": "stdout",
     "output_type": "stream",
     "text": [
      " 850997 300880 638358.000   71  134 626557.000 641566.000  2.40%   163 5934s\n"
     ]
    },
    {
     "name": "stderr",
     "output_type": "stream",
     "text": [
      "2023-04-20 19:28:13,146 - INFO -  850997 300880 638358.000   71  134 626557.000 641566.000  2.40%   163 5934s\n"
     ]
    },
    {
     "name": "stdout",
     "output_type": "stream",
     "text": [
      " 853676 302114 infeasible  100      626557.000 641565.000  2.40%   163 5954s\n"
     ]
    },
    {
     "name": "stderr",
     "output_type": "stream",
     "text": [
      "2023-04-20 19:28:33,448 - INFO -  853676 302114 infeasible  100      626557.000 641565.000  2.40%   163 5954s\n"
     ]
    },
    {
     "name": "stdout",
     "output_type": "stream",
     "text": [
      " 856428 303367 629065.889   98   46 626557.000 641564.682  2.40%   163 5974s\n"
     ]
    },
    {
     "name": "stderr",
     "output_type": "stream",
     "text": [
      "2023-04-20 19:28:53,920 - INFO -  856428 303367 629065.889   98   46 626557.000 641564.682  2.40%   163 5974s\n"
     ]
    },
    {
     "name": "stdout",
     "output_type": "stream",
     "text": [
      " 856621 303367 639438.671   58  133 626557.000 641564.574  2.40%   163 5975s\n"
     ]
    },
    {
     "name": "stderr",
     "output_type": "stream",
     "text": [
      "2023-04-20 19:28:53,951 - INFO -  856621 303367 639438.671   58  133 626557.000 641564.574  2.40%   163 5975s\n"
     ]
    },
    {
     "name": "stdout",
     "output_type": "stream",
     "text": [
      " 859383 304414 infeasible   97      626557.000 641563.855  2.40%   163 5995s\n"
     ]
    },
    {
     "name": "stderr",
     "output_type": "stream",
     "text": [
      "2023-04-20 19:29:14,022 - INFO -  859383 304414 infeasible   97      626557.000 641563.855  2.40%   163 5995s\n"
     ]
    },
    {
     "name": "stdout",
     "output_type": "stream",
     "text": [
      " 861866 304431 629516.000  106   77 626557.000 641563.000  2.39%   163 6000s\n"
     ]
    },
    {
     "name": "stderr",
     "output_type": "stream",
     "text": [
      "2023-04-20 19:29:19,164 - INFO -  861866 304431 629516.000  106   77 626557.000 641563.000  2.39%   163 6000s\n"
     ]
    },
    {
     "name": "stdout",
     "output_type": "stream",
     "text": [
      "\n"
     ]
    },
    {
     "name": "stderr",
     "output_type": "stream",
     "text": [
      "2023-04-20 19:29:19,554 - INFO - \n"
     ]
    },
    {
     "name": "stdout",
     "output_type": "stream",
     "text": [
      "Cutting planes:\n"
     ]
    },
    {
     "name": "stderr",
     "output_type": "stream",
     "text": [
      "2023-04-20 19:29:19,554 - INFO - Cutting planes:\n"
     ]
    },
    {
     "name": "stdout",
     "output_type": "stream",
     "text": [
      "  Gomory: 1\n"
     ]
    },
    {
     "name": "stderr",
     "output_type": "stream",
     "text": [
      "2023-04-20 19:29:19,554 - INFO -   Gomory: 1\n"
     ]
    },
    {
     "name": "stdout",
     "output_type": "stream",
     "text": [
      "  Flow cover: 5\n"
     ]
    },
    {
     "name": "stderr",
     "output_type": "stream",
     "text": [
      "2023-04-20 19:29:19,554 - INFO -   Flow cover: 5\n"
     ]
    },
    {
     "name": "stdout",
     "output_type": "stream",
     "text": [
      "  Zero half: 3\n"
     ]
    },
    {
     "name": "stderr",
     "output_type": "stream",
     "text": [
      "2023-04-20 19:29:19,554 - INFO -   Zero half: 3\n"
     ]
    },
    {
     "name": "stdout",
     "output_type": "stream",
     "text": [
      "  Lazy constraints: 6731\n"
     ]
    },
    {
     "name": "stderr",
     "output_type": "stream",
     "text": [
      "2023-04-20 19:29:19,570 - INFO -   Lazy constraints: 6731\n"
     ]
    },
    {
     "name": "stdout",
     "output_type": "stream",
     "text": [
      "\n"
     ]
    },
    {
     "name": "stderr",
     "output_type": "stream",
     "text": [
      "2023-04-20 19:29:19,570 - INFO - \n"
     ]
    },
    {
     "name": "stdout",
     "output_type": "stream",
     "text": [
      "Explored 861890 nodes (140696569 simplex iterations) in 6000.63 seconds\n"
     ]
    },
    {
     "name": "stderr",
     "output_type": "stream",
     "text": [
      "2023-04-20 19:29:19,586 - INFO - Explored 861890 nodes (140696569 simplex iterations) in 6000.63 seconds\n"
     ]
    },
    {
     "name": "stdout",
     "output_type": "stream",
     "text": [
      "Thread count was 24 (of 48 available processors)\n"
     ]
    },
    {
     "name": "stderr",
     "output_type": "stream",
     "text": [
      "2023-04-20 19:29:19,586 - INFO - Thread count was 24 (of 48 available processors)\n"
     ]
    },
    {
     "name": "stdout",
     "output_type": "stream",
     "text": [
      "\n"
     ]
    },
    {
     "name": "stderr",
     "output_type": "stream",
     "text": [
      "2023-04-20 19:29:19,586 - INFO - \n"
     ]
    },
    {
     "name": "stdout",
     "output_type": "stream",
     "text": [
      "Solution count 7: 626557 625683 624572 ... 620030\n"
     ]
    },
    {
     "name": "stderr",
     "output_type": "stream",
     "text": [
      "2023-04-20 19:29:19,586 - INFO - Solution count 7: 626557 625683 624572 ... 620030\n"
     ]
    },
    {
     "name": "stdout",
     "output_type": "stream",
     "text": [
      "\n"
     ]
    },
    {
     "name": "stderr",
     "output_type": "stream",
     "text": [
      "2023-04-20 19:29:19,586 - INFO - \n"
     ]
    },
    {
     "name": "stdout",
     "output_type": "stream",
     "text": [
      "Time limit reached\n"
     ]
    },
    {
     "name": "stderr",
     "output_type": "stream",
     "text": [
      "2023-04-20 19:29:19,586 - INFO - Time limit reached\n"
     ]
    },
    {
     "name": "stdout",
     "output_type": "stream",
     "text": [
      "Best objective 6.265570000000e+05, best bound 6.415630000000e+05, gap 2.3950%\n"
     ]
    },
    {
     "name": "stderr",
     "output_type": "stream",
     "text": [
      "2023-04-20 19:29:19,601 - INFO - Best objective 6.265570000000e+05, best bound 6.415630000000e+05, gap 2.3950%\n"
     ]
    },
    {
     "name": "stdout",
     "output_type": "stream",
     "text": [
      "\n"
     ]
    },
    {
     "name": "stderr",
     "output_type": "stream",
     "text": [
      "2023-04-20 19:29:19,601 - INFO - \n"
     ]
    },
    {
     "name": "stdout",
     "output_type": "stream",
     "text": [
      "User-callback calls 1896844, time in user-callback 60.44 sec\n"
     ]
    },
    {
     "name": "stderr",
     "output_type": "stream",
     "text": [
      "2023-04-20 19:29:19,601 - INFO - User-callback calls 1896844, time in user-callback 60.44 sec\n"
     ]
    },
    {
     "name": "stdout",
     "output_type": "stream",
     "text": [
      "../results_for_config-MS-bvap-bounds_100min/MS-county-bvap_bounds-90\n",
      "Summarizing the results for export\n",
      "Results Summary started\n",
      "Warning: constraint name \"vertex to district[0]\" has a space\n"
     ]
    },
    {
     "name": "stderr",
     "output_type": "stream",
     "text": [
      "2023-04-20 19:29:19,836 - INFO - Warning: constraint name \"vertex to district[0]\" has a space\n"
     ]
    },
    {
     "name": "stdout",
     "output_type": "stream",
     "text": [
      "Recording found solution\n",
      "best solution (found) = [[8, 10, 12, 13, 15, 21, 22, 41, 43, 46, 63, 67, 70, 72, 73, 74, 77], [1, 3, 6, 9, 16, 24, 25, 26, 33, 37, 39, 44, 48, 52, 55, 56, 57, 59, 60, 61, 62, 68, 71, 78, 81], [18, 29, 30, 32, 38, 45, 47, 49, 53, 75, 79], [0, 2, 4, 5, 7, 11, 14, 17, 19, 20, 23, 27, 28, 31, 34, 35, 36, 40, 42, 50, 51, 54, 58, 64, 65, 66, 69, 76, 80]]\n",
      "print write mip soln\n",
      "../results_for_config-MS-bvap-bounds_100min/MS-county-bvap_bounds-90_vap_max_0.sol\n",
      "Exporting to json\n",
      "../results_for_config-MS-bvap-bounds_100min/MS-county-bvap_bounds-90_vap_max_0.json\n",
      "Exporting solution to json\n",
      "Summarizing ../results_for_config-MS-bvap-bounds_100min/MS-county-bvap_bounds-90_vap_max_0.json\n",
      "../results_for_config-MS-bvap-bounds_100min/MS-county-bvap_bounds-90_vap_max_0.json\n",
      "Plotting\n",
      "{'state': 'MS', 'level': 'county', 'base': 'labeling', 'obj': 'bvap_bounds', 'R': 90, 'dist_bounds': False, 'tlimit': 6000, 'fixing': False, 'contiguity': 'lcut', 'symmetry': 'none', 'extended': False, 'order': 'none', 'heuristic': True, 'lp': False, 'obj_order': 'vap_max', 'index': 0, 'run': 'MS_vap_0_max', 'k': 4, 'L': 666288, 'U': 814351, 'm': 202, 'n': 82, 'heur_obj': 'n/a', 'heur_time': 'n/a', 'heur_iter': 'n/a', 'DFixings': 0, 'UFixings_R': 0, 'LFixings': 0, 'UFixings_X': 0, 'ZFixings': 0, 'LP_obj': 'n/a', 'LP_time': 'n/a', 'MIP_timelimit': 6000, 'MIP_time': '6000.90', 'MIP_status': 9, 'MIP_nodes': 861890, 'MIP_bound': 641563.0, 'callbacks': 1256, 'lazy_cuts': 11891, 'MIP_obj': 626557.0, 'connected': True}\n",
      "Adding to csv ../results_for_config-MS-bvap-bounds_100min/results_config-MS-bvap-bounds_100min_2023_Apr_20.csv\n",
      "In run MS_vap_1_max using config: {'state': 'MS', 'level': 'county', 'base': 'labeling', 'obj': 'bvap_bounds', 'R': 90, 'dist_bounds': False, 'tlimit': 6000, 'fixing': False, 'contiguity': 'lcut', 'symmetry': 'none', 'extended': False, 'order': 'none', 'heuristic': True, 'lp': False, 'obj_order': 'vap_max', 'index': 1}.\n",
      "../data/county/dual_graphs/county28.json\n",
      "\n",
      "L = 666288 , U = 814351 , k = 4\n",
      "{'state': 'MS', 'level': 'county', 'base': 'labeling', 'obj': 'bvap_bounds', 'R': 90, 'dist_bounds': False, 'tlimit': 6000, 'fixing': False, 'contiguity': 'lcut', 'symmetry': 'none', 'extended': False, 'order': 'none', 'heuristic': True, 'lp': False, 'obj_order': 'vap_max', 'index': 1, 'run': 'MS_vap_1_max', 'k': 4, 'L': 666288, 'U': 814351, 'm': 202, 'n': 82, 'heur_obj': 'n/a', 'heur_time': 'n/a', 'heur_iter': 'n/a'}\n",
      "Adding bvap ordering\n",
      "Loading best known solution from ..\\results-ALMSLA_PWL\\MS-county-PWL-10.json\n",
      "{2: [0, 2, 4, 5, 7, 11, 14, 17, 19, 20, 23, 27, 28, 31, 34, 35, 36, 42, 43, 50, 51, 58, 59, 65, 66, 68, 69, 70, 73, 76, 80], 3: [1, 3, 6, 9, 16, 24, 25, 26, 32, 33, 37, 39, 44, 47, 48, 52, 55, 56, 57, 60, 61, 62, 71, 78, 81], 1: [8, 10, 15, 18, 29, 30, 38, 41, 45, 46, 49, 53, 67, 72, 79], 0: [12, 13, 21, 22, 40, 54, 63, 64, 74, 75, 77]}\n",
      "{2: 262518, 3: 162611, 1: 255704, 0: 122130}\n",
      "Reordering district warm start for bvap ordering\n",
      "{3: [0, 2, 4, 5, 7, 11, 14, 17, 19, 20, 23, 27, 28, 31, 34, 35, 36, 42, 43, 50, 51, 58, 59, 65, 66, 68, 69, 70, 73, 76, 80], 1: [1, 3, 6, 9, 16, 24, 25, 26, 32, 33, 37, 39, 44, 47, 48, 52, 55, 56, 57, 60, 61, 62, 71, 78, 81], 2: [8, 10, 15, 18, 29, 30, 38, 41, 45, 46, 49, 53, 67, 72, 79], 0: [12, 13, 21, 22, 40, 54, 63, 64, 74, 75, 77]}\n",
      "{3: 262518, 1: 162611, 2: 255704, 0: 122130}\n",
      "Changed value of parameter lazyConstraints to 1\n"
     ]
    },
    {
     "name": "stderr",
     "output_type": "stream",
     "text": [
      "2023-04-20 19:29:27,908 - INFO - Changed value of parameter lazyConstraints to 1\n"
     ]
    },
    {
     "name": "stdout",
     "output_type": "stream",
     "text": [
      "   Prev: 0  Min: 0  Max: 1  Default: 0\n"
     ]
    },
    {
     "name": "stderr",
     "output_type": "stream",
     "text": [
      "2023-04-20 19:29:27,912 - INFO -    Prev: 0  Min: 0  Max: 1  Default: 0\n"
     ]
    },
    {
     "name": "stdout",
     "output_type": "stream",
     "text": [
      "\n",
      " start stuff \n",
      "\n",
      "Changed value of parameter TimeLimit to 6000.0\n"
     ]
    },
    {
     "name": "stderr",
     "output_type": "stream",
     "text": [
      "2023-04-20 19:29:27,915 - INFO - Changed value of parameter TimeLimit to 6000.0\n"
     ]
    },
    {
     "name": "stdout",
     "output_type": "stream",
     "text": [
      "   Prev: inf  Min: 0.0  Max: inf  Default: inf\n"
     ]
    },
    {
     "name": "stderr",
     "output_type": "stream",
     "text": [
      "2023-04-20 19:29:27,918 - INFO -    Prev: inf  Min: 0.0  Max: inf  Default: inf\n"
     ]
    },
    {
     "name": "stdout",
     "output_type": "stream",
     "text": [
      "Changed value of parameter Method to 3\n"
     ]
    },
    {
     "name": "stderr",
     "output_type": "stream",
     "text": [
      "2023-04-20 19:29:27,921 - INFO - Changed value of parameter Method to 3\n"
     ]
    },
    {
     "name": "stdout",
     "output_type": "stream",
     "text": [
      "   Prev: -1  Min: -1  Max: 5  Default: -1\n"
     ]
    },
    {
     "name": "stderr",
     "output_type": "stream",
     "text": [
      "2023-04-20 19:29:27,921 - INFO -    Prev: -1  Min: -1  Max: 5  Default: -1\n"
     ]
    },
    {
     "name": "stdout",
     "output_type": "stream",
     "text": [
      "Changed value of parameter LogFile to ../results_for_config-MS-bvap-bounds_100min/MS-county-bvap_bounds-90.log\n"
     ]
    },
    {
     "name": "stderr",
     "output_type": "stream",
     "text": [
      "2023-04-20 19:29:27,921 - INFO - Changed value of parameter LogFile to ../results_for_config-MS-bvap-bounds_100min/MS-county-bvap_bounds-90.log\n"
     ]
    },
    {
     "name": "stdout",
     "output_type": "stream",
     "text": [
      "   Prev:   Default: \n"
     ]
    },
    {
     "name": "stderr",
     "output_type": "stream",
     "text": [
      "2023-04-20 19:29:27,921 - INFO -    Prev:   Default: \n"
     ]
    },
    {
     "name": "stdout",
     "output_type": "stream",
     "text": [
      "Gurobi Optimizer version 9.1.2 build v9.1.2rc0 (win64)\n"
     ]
    },
    {
     "name": "stderr",
     "output_type": "stream",
     "text": [
      "2023-04-20 19:29:27,921 - INFO - Gurobi Optimizer version 9.1.2 build v9.1.2rc0 (win64)\n"
     ]
    },
    {
     "name": "stdout",
     "output_type": "stream",
     "text": [
      "Thread count: 24 physical cores, 48 logical processors, using up to 24 threads\n"
     ]
    },
    {
     "name": "stderr",
     "output_type": "stream",
     "text": [
      "2023-04-20 19:29:27,921 - INFO - Thread count: 24 physical cores, 48 logical processors, using up to 24 threads\n"
     ]
    },
    {
     "name": "stdout",
     "output_type": "stream",
     "text": [
      "Optimize a model with 101 rows, 664 columns and 1654 nonzeros\n"
     ]
    },
    {
     "name": "stderr",
     "output_type": "stream",
     "text": [
      "2023-04-20 19:29:27,921 - INFO - Optimize a model with 101 rows, 664 columns and 1654 nonzeros\n"
     ]
    },
    {
     "name": "stdout",
     "output_type": "stream",
     "text": [
      "Model fingerprint: 0x19e57248\n"
     ]
    },
    {
     "name": "stderr",
     "output_type": "stream",
     "text": [
      "2023-04-20 19:29:27,936 - INFO - Model fingerprint: 0x19e57248\n"
     ]
    },
    {
     "name": "stdout",
     "output_type": "stream",
     "text": [
      "Variable types: 8 continuous, 656 integer (656 binary)\n"
     ]
    },
    {
     "name": "stderr",
     "output_type": "stream",
     "text": [
      "2023-04-20 19:29:27,936 - INFO - Variable types: 8 continuous, 656 integer (656 binary)\n"
     ]
    },
    {
     "name": "stdout",
     "output_type": "stream",
     "text": [
      "Coefficient statistics:\n"
     ]
    },
    {
     "name": "stderr",
     "output_type": "stream",
     "text": [
      "2023-04-20 19:29:27,936 - INFO - Coefficient statistics:\n"
     ]
    },
    {
     "name": "stdout",
     "output_type": "stream",
     "text": [
      "  Matrix range     [1e+00, 2e+05]\n"
     ]
    },
    {
     "name": "stderr",
     "output_type": "stream",
     "text": [
      "2023-04-20 19:29:27,936 - INFO -   Matrix range     [1e+00, 2e+05]\n"
     ]
    },
    {
     "name": "stdout",
     "output_type": "stream",
     "text": [
      "  Objective range  [1e+00, 1e+00]\n"
     ]
    },
    {
     "name": "stderr",
     "output_type": "stream",
     "text": [
      "2023-04-20 19:29:27,936 - INFO -   Objective range  [1e+00, 1e+00]\n"
     ]
    },
    {
     "name": "stdout",
     "output_type": "stream",
     "text": [
      "  Bounds range     [1e+00, 8e+05]\n"
     ]
    },
    {
     "name": "stderr",
     "output_type": "stream",
     "text": [
      "2023-04-20 19:29:27,936 - INFO -   Bounds range     [1e+00, 8e+05]\n"
     ]
    },
    {
     "name": "stdout",
     "output_type": "stream",
     "text": [
      "  RHS range        [1e+00, 8e+05]\n"
     ]
    },
    {
     "name": "stderr",
     "output_type": "stream",
     "text": [
      "2023-04-20 19:29:27,952 - INFO -   RHS range        [1e+00, 8e+05]\n"
     ]
    },
    {
     "name": "stdout",
     "output_type": "stream",
     "text": [
      "\n"
     ]
    },
    {
     "name": "stderr",
     "output_type": "stream",
     "text": [
      "2023-04-20 19:29:27,952 - INFO - \n"
     ]
    },
    {
     "name": "stdout",
     "output_type": "stream",
     "text": [
      "User MIP start produced solution with objective 627712 (0.03s)\n"
     ]
    },
    {
     "name": "stderr",
     "output_type": "stream",
     "text": [
      "2023-04-20 19:29:27,952 - INFO - User MIP start produced solution with objective 627712 (0.03s)\n"
     ]
    },
    {
     "name": "stdout",
     "output_type": "stream",
     "text": [
      "Loaded user MIP start with objective 627712\n"
     ]
    },
    {
     "name": "stderr",
     "output_type": "stream",
     "text": [
      "2023-04-20 19:29:27,968 - INFO - Loaded user MIP start with objective 627712\n"
     ]
    },
    {
     "name": "stdout",
     "output_type": "stream",
     "text": [
      "\n"
     ]
    },
    {
     "name": "stderr",
     "output_type": "stream",
     "text": [
      "2023-04-20 19:29:27,968 - INFO - \n"
     ]
    },
    {
     "name": "stdout",
     "output_type": "stream",
     "text": [
      "Presolve time: 0.02s\n"
     ]
    },
    {
     "name": "stderr",
     "output_type": "stream",
     "text": [
      "2023-04-20 19:29:27,983 - INFO - Presolve time: 0.02s\n"
     ]
    },
    {
     "name": "stdout",
     "output_type": "stream",
     "text": [
      "Presolved: 101 rows, 664 columns, 1654 nonzeros\n"
     ]
    },
    {
     "name": "stderr",
     "output_type": "stream",
     "text": [
      "2023-04-20 19:29:27,983 - INFO - Presolved: 101 rows, 664 columns, 1654 nonzeros\n"
     ]
    },
    {
     "name": "stdout",
     "output_type": "stream",
     "text": [
      "Variable types: 0 continuous, 664 integer (656 binary)\n"
     ]
    },
    {
     "name": "stderr",
     "output_type": "stream",
     "text": [
      "2023-04-20 19:29:27,983 - INFO - Variable types: 0 continuous, 664 integer (656 binary)\n"
     ]
    },
    {
     "name": "stdout",
     "output_type": "stream",
     "text": [
      "\n"
     ]
    },
    {
     "name": "stderr",
     "output_type": "stream",
     "text": [
      "2023-04-20 19:29:27,999 - INFO - \n"
     ]
    },
    {
     "name": "stdout",
     "output_type": "stream",
     "text": [
      "Concurrent LP optimizer: primal simplex, dual simplex, and barrier\n"
     ]
    },
    {
     "name": "stderr",
     "output_type": "stream",
     "text": [
      "2023-04-20 19:29:27,999 - INFO - Concurrent LP optimizer: primal simplex, dual simplex, and barrier\n"
     ]
    },
    {
     "name": "stdout",
     "output_type": "stream",
     "text": [
      "Showing barrier log only...\n"
     ]
    },
    {
     "name": "stderr",
     "output_type": "stream",
     "text": [
      "2023-04-20 19:29:27,999 - INFO - Showing barrier log only...\n"
     ]
    },
    {
     "name": "stdout",
     "output_type": "stream",
     "text": [
      "\n"
     ]
    },
    {
     "name": "stderr",
     "output_type": "stream",
     "text": [
      "2023-04-20 19:29:27,999 - INFO - \n"
     ]
    },
    {
     "name": "stdout",
     "output_type": "stream",
     "text": [
      "\n"
     ]
    },
    {
     "name": "stderr",
     "output_type": "stream",
     "text": [
      "2023-04-20 19:29:28,030 - INFO - \n"
     ]
    },
    {
     "name": "stdout",
     "output_type": "stream",
     "text": [
      "Solved with dual simplex\n"
     ]
    },
    {
     "name": "stderr",
     "output_type": "stream",
     "text": [
      "2023-04-20 19:29:28,030 - INFO - Solved with dual simplex\n"
     ]
    },
    {
     "name": "stdout",
     "output_type": "stream",
     "text": [
      "\n"
     ]
    },
    {
     "name": "stderr",
     "output_type": "stream",
     "text": [
      "2023-04-20 19:29:28,061 - INFO - \n"
     ]
    },
    {
     "name": "stdout",
     "output_type": "stream",
     "text": [
      "Root relaxation: objective 6.442467e+05, 151 iterations, 0.05 seconds\n"
     ]
    },
    {
     "name": "stderr",
     "output_type": "stream",
     "text": [
      "2023-04-20 19:29:28,061 - INFO - Root relaxation: objective 6.442467e+05, 151 iterations, 0.05 seconds\n"
     ]
    },
    {
     "name": "stdout",
     "output_type": "stream",
     "text": [
      "\n"
     ]
    },
    {
     "name": "stderr",
     "output_type": "stream",
     "text": [
      "2023-04-20 19:29:28,061 - INFO - \n"
     ]
    },
    {
     "name": "stdout",
     "output_type": "stream",
     "text": [
      "    Nodes    |    Current Node    |     Objective Bounds      |     Work\n"
     ]
    },
    {
     "name": "stderr",
     "output_type": "stream",
     "text": [
      "2023-04-20 19:29:28,077 - INFO -     Nodes    |    Current Node    |     Objective Bounds      |     Work\n"
     ]
    },
    {
     "name": "stdout",
     "output_type": "stream",
     "text": [
      " Expl Unexpl |  Obj  Depth IntInf | Incumbent    BestBd   Gap | It/Node Time\n"
     ]
    },
    {
     "name": "stderr",
     "output_type": "stream",
     "text": [
      "2023-04-20 19:29:28,077 - INFO -  Expl Unexpl |  Obj  Depth IntInf | Incumbent    BestBd   Gap | It/Node Time\n"
     ]
    },
    {
     "name": "stdout",
     "output_type": "stream",
     "text": [
      "\n"
     ]
    },
    {
     "name": "stderr",
     "output_type": "stream",
     "text": [
      "2023-04-20 19:29:28,077 - INFO - \n"
     ]
    },
    {
     "name": "stdout",
     "output_type": "stream",
     "text": [
      "     0     0 644246.715    0   15 627712.000 644246.715  2.63%     -    0s\n"
     ]
    },
    {
     "name": "stderr",
     "output_type": "stream",
     "text": [
      "2023-04-20 19:29:28,077 - INFO -      0     0 644246.715    0   15 627712.000 644246.715  2.63%     -    0s\n"
     ]
    },
    {
     "name": "stdout",
     "output_type": "stream",
     "text": [
      "     0     0 644020.607    0   23 627712.000 644020.607  2.60%     -    0s\n"
     ]
    },
    {
     "name": "stderr",
     "output_type": "stream",
     "text": [
      "2023-04-20 19:29:28,186 - INFO -      0     0 644020.607    0   23 627712.000 644020.607  2.60%     -    0s\n"
     ]
    },
    {
     "name": "stdout",
     "output_type": "stream",
     "text": [
      "     0     0 643998.565    0   25 627712.000 643998.565  2.59%     -    0s\n"
     ]
    },
    {
     "name": "stderr",
     "output_type": "stream",
     "text": [
      "2023-04-20 19:29:28,561 - INFO -      0     0 643998.565    0   25 627712.000 643998.565  2.59%     -    0s\n"
     ]
    },
    {
     "name": "stdout",
     "output_type": "stream",
     "text": [
      "     0     0 643991.817    0   27 627712.000 643991.817  2.59%     -    0s\n"
     ]
    },
    {
     "name": "stderr",
     "output_type": "stream",
     "text": [
      "2023-04-20 19:29:28,561 - INFO -      0     0 643991.817    0   27 627712.000 643991.817  2.59%     -    0s\n"
     ]
    },
    {
     "name": "stdout",
     "output_type": "stream",
     "text": [
      "     0     0 643991.817    0   30 627712.000 643991.817  2.59%     -    0s\n"
     ]
    },
    {
     "name": "stderr",
     "output_type": "stream",
     "text": [
      "2023-04-20 19:29:28,577 - INFO -      0     0 643991.817    0   30 627712.000 643991.817  2.59%     -    0s\n"
     ]
    },
    {
     "name": "stdout",
     "output_type": "stream",
     "text": [
      "     0     0 643990.097    0   18 627712.000 643990.097  2.59%     -    0s\n"
     ]
    },
    {
     "name": "stderr",
     "output_type": "stream",
     "text": [
      "2023-04-20 19:29:28,608 - INFO -      0     0 643990.097    0   18 627712.000 643990.097  2.59%     -    0s\n"
     ]
    },
    {
     "name": "stdout",
     "output_type": "stream",
     "text": [
      "     0     0 643990.097    0   18 627712.000 643990.097  2.59%     -    0s\n"
     ]
    },
    {
     "name": "stderr",
     "output_type": "stream",
     "text": [
      "2023-04-20 19:29:28,624 - INFO -      0     0 643990.097    0   18 627712.000 643990.097  2.59%     -    0s\n"
     ]
    },
    {
     "name": "stdout",
     "output_type": "stream",
     "text": [
      "     0     0 643990.059    0   27 627712.000 643990.059  2.59%     -    0s\n"
     ]
    },
    {
     "name": "stderr",
     "output_type": "stream",
     "text": [
      "2023-04-20 19:29:28,655 - INFO -      0     0 643990.059    0   27 627712.000 643990.059  2.59%     -    0s\n"
     ]
    },
    {
     "name": "stdout",
     "output_type": "stream",
     "text": [
      "     0     0 643990.059    0   24 627712.000 643990.059  2.59%     -    0s\n"
     ]
    },
    {
     "name": "stderr",
     "output_type": "stream",
     "text": [
      "2023-04-20 19:29:28,686 - INFO -      0     0 643990.059    0   24 627712.000 643990.059  2.59%     -    0s\n"
     ]
    },
    {
     "name": "stdout",
     "output_type": "stream",
     "text": [
      "     0     2 643990.059    0   22 627712.000 643990.059  2.59%     -    0s\n"
     ]
    },
    {
     "name": "stderr",
     "output_type": "stream",
     "text": [
      "2023-04-20 19:29:28,811 - INFO -      0     2 643990.059    0   22 627712.000 643990.059  2.59%     -    0s\n"
     ]
    },
    {
     "name": "stdout",
     "output_type": "stream",
     "text": [
      "   210   246 642819.793   12   35 627712.000 643402.237  2.50%   9.5    6s\n"
     ]
    },
    {
     "name": "stderr",
     "output_type": "stream",
     "text": [
      "2023-04-20 19:29:34,305 - INFO -    210   246 642819.793   12   35 627712.000 643402.237  2.50%   9.5    6s\n"
     ]
    },
    {
     "name": "stdout",
     "output_type": "stream",
     "text": [
      "  4118  3569 642429.000   25   23 627712.000 643094.000  2.45%   9.4   10s\n"
     ]
    },
    {
     "name": "stderr",
     "output_type": "stream",
     "text": [
      "2023-04-20 19:29:38,269 - INFO -   4118  3569 642429.000   25   23 627712.000 643094.000  2.45%   9.4   10s\n"
     ]
    },
    {
     "name": "stdout",
     "output_type": "stream",
     "text": [
      "H 4136  3390                    627895.00000 643094.000  2.42%   9.5   10s\n"
     ]
    },
    {
     "name": "stderr",
     "output_type": "stream",
     "text": [
      "2023-04-20 19:29:38,285 - INFO - H 4136  3390                    627895.00000 643094.000  2.42%   9.5   10s\n"
     ]
    },
    {
     "name": "stdout",
     "output_type": "stream",
     "text": [
      "  4214  3428 642429.000   27   31 627895.000 643094.000  2.42%  10.0   15s\n"
     ]
    },
    {
     "name": "stderr",
     "output_type": "stream",
     "text": [
      "2023-04-20 19:29:42,991 - INFO -   4214  3428 642429.000   27   31 627895.000 643094.000  2.42%  10.0   15s\n"
     ]
    },
    {
     "name": "stdout",
     "output_type": "stream",
     "text": [
      "  4344  3504 642187.325   28   66 627895.000 643094.000  2.42%  11.4   20s\n"
     ]
    },
    {
     "name": "stderr",
     "output_type": "stream",
     "text": [
      "2023-04-20 19:29:48,179 - INFO -   4344  3504 642187.325   28   66 627895.000 643094.000  2.42%  11.4   20s\n"
     ]
    },
    {
     "name": "stdout",
     "output_type": "stream",
     "text": [
      "  9496  4636 640506.963   78   59 627895.000 643094.000  2.42%  28.0   29s\n"
     ]
    },
    {
     "name": "stderr",
     "output_type": "stream",
     "text": [
      "2023-04-20 19:29:57,273 - INFO -   9496  4636 640506.963   78   59 627895.000 643094.000  2.42%  28.0   29s\n"
     ]
    },
    {
     "name": "stdout",
     "output_type": "stream",
     "text": [
      " 10226  4771 infeasible  115      627895.000 643094.000  2.42%  31.0   30s\n"
     ]
    },
    {
     "name": "stderr",
     "output_type": "stream",
     "text": [
      "2023-04-20 19:29:57,929 - INFO -  10226  4771 infeasible  115      627895.000 643094.000  2.42%  31.0   30s\n"
     ]
    },
    {
     "name": "stdout",
     "output_type": "stream",
     "text": [
      " 17177  6940 641682.000   58  106 627895.000 643048.945  2.41%  43.1   37s\n"
     ]
    },
    {
     "name": "stderr",
     "output_type": "stream",
     "text": [
      "2023-04-20 19:30:05,240 - INFO -  17177  6940 641682.000   58  106 627895.000 643048.945  2.41%  43.1   37s\n"
     ]
    },
    {
     "name": "stdout",
     "output_type": "stream",
     "text": [
      " 20145  8388 641768.000   56   85 627895.000 642918.346  2.39%  47.0   41s\n"
     ]
    },
    {
     "name": "stderr",
     "output_type": "stream",
     "text": [
      "2023-04-20 19:30:09,595 - INFO -  20145  8388 641768.000   56   85 627895.000 642918.346  2.39%  47.0   41s\n"
     ]
    },
    {
     "name": "stdout",
     "output_type": "stream",
     "text": [
      " 23710 10257 642180.000   91   55 627895.000 642901.743  2.39%  51.2   49s\n"
     ]
    },
    {
     "name": "stderr",
     "output_type": "stream",
     "text": [
      "2023-04-20 19:30:16,923 - INFO -  23710 10257 642180.000   91   55 627895.000 642901.743  2.39%  51.2   49s\n"
     ]
    },
    {
     "name": "stdout",
     "output_type": "stream",
     "text": [
      " 24658 11044 infeasible  121      627895.000 642857.768  2.38%  52.7   50s\n"
     ]
    },
    {
     "name": "stderr",
     "output_type": "stream",
     "text": [
      "2023-04-20 19:30:18,282 - INFO -  24658 11044 infeasible  121      627895.000 642857.768  2.38%  52.7   50s\n"
     ]
    },
    {
     "name": "stdout",
     "output_type": "stream",
     "text": [
      " 31554 14837 639567.608   51   80 627895.000 642826.730  2.38%  58.7   55s\n"
     ]
    },
    {
     "name": "stderr",
     "output_type": "stream",
     "text": [
      "2023-04-20 19:30:23,486 - INFO -  31554 14837 639567.608   51   80 627895.000 642826.730  2.38%  58.7   55s\n"
     ]
    },
    {
     "name": "stdout",
     "output_type": "stream",
     "text": [
      " 36015 16904 642572.191   31  109 627895.000 642800.000  2.37%  60.4   60s\n"
     ]
    },
    {
     "name": "stderr",
     "output_type": "stream",
     "text": [
      "2023-04-20 19:30:27,935 - INFO -  36015 16904 642572.191   31  109 627895.000 642800.000  2.37%  60.4   60s\n"
     ]
    },
    {
     "name": "stdout",
     "output_type": "stream",
     "text": [
      " 39373 18833 641566.000   39  101 627895.000 642764.000  2.37%  61.8   65s\n"
     ]
    },
    {
     "name": "stderr",
     "output_type": "stream",
     "text": [
      "2023-04-20 19:30:33,050 - INFO -  39373 18833 641566.000   39  101 627895.000 642764.000  2.37%  61.8   65s\n"
     ]
    },
    {
     "name": "stdout",
     "output_type": "stream",
     "text": [
      " 41681 19512 642171.000   43   96 627895.000 642756.639  2.37%  62.5   74s\n"
     ]
    },
    {
     "name": "stderr",
     "output_type": "stream",
     "text": [
      "2023-04-20 19:30:42,567 - INFO -  41681 19512 642171.000   43   96 627895.000 642756.639  2.37%  62.5   74s\n"
     ]
    },
    {
     "name": "stdout",
     "output_type": "stream",
     "text": [
      " 41764 20244 642170.774   44   97 627895.000 642756.639  2.37%  62.6   76s\n"
     ]
    },
    {
     "name": "stderr",
     "output_type": "stream",
     "text": [
      "2023-04-20 19:30:43,973 - INFO -  41764 20244 642170.774   44   97 627895.000 642756.639  2.37%  62.6   76s\n"
     ]
    },
    {
     "name": "stdout",
     "output_type": "stream",
     "text": [
      " 45788 22327 infeasible  135      627895.000 642734.000  2.36%  64.0   80s\n"
     ]
    },
    {
     "name": "stderr",
     "output_type": "stream",
     "text": [
      "2023-04-20 19:30:48,213 - INFO -  45788 22327 infeasible  135      627895.000 642734.000  2.36%  64.0   80s\n"
     ]
    },
    {
     "name": "stdout",
     "output_type": "stream",
     "text": [
      " 50099 24809 641387.241   55  122 627895.000 642708.000  2.36%  65.7   86s\n"
     ]
    },
    {
     "name": "stderr",
     "output_type": "stream",
     "text": [
      "2023-04-20 19:30:54,162 - INFO -  50099 24809 641387.241   55  122 627895.000 642708.000  2.36%  65.7   86s\n"
     ]
    },
    {
     "name": "stdout",
     "output_type": "stream",
     "text": [
      " 51513 25300 639045.528   99  106 627895.000 642699.739  2.36%  66.3   91s\n"
     ]
    },
    {
     "name": "stderr",
     "output_type": "stream",
     "text": [
      "2023-04-20 19:30:59,193 - INFO -  51513 25300 639045.528   99  106 627895.000 642699.739  2.36%  66.3   91s\n"
     ]
    },
    {
     "name": "stdout",
     "output_type": "stream",
     "text": [
      " 53739 27174 641163.663   55   82 627895.000 642699.739  2.36%  67.6   95s\n"
     ]
    },
    {
     "name": "stderr",
     "output_type": "stream",
     "text": [
      "2023-04-20 19:31:03,449 - INFO -  53739 27174 641163.663   55   82 627895.000 642699.739  2.36%  67.6   95s\n"
     ]
    },
    {
     "name": "stdout",
     "output_type": "stream",
     "text": [
      " 58334 29205 639770.064   42   99 627895.000 642683.000  2.36%  69.1  105s\n"
     ]
    },
    {
     "name": "stderr",
     "output_type": "stream",
     "text": [
      "2023-04-20 19:31:13,642 - INFO -  58334 29205 639770.064   42   99 627895.000 642683.000  2.36%  69.1  105s\n"
     ]
    },
    {
     "name": "stdout",
     "output_type": "stream",
     "text": [
      "H60165 31036                    628191.00000 642683.000  2.31%  70.1  114s\n"
     ]
    },
    {
     "name": "stderr",
     "output_type": "stream",
     "text": [
      "2023-04-20 19:31:22,659 - INFO - H60165 31036                    628191.00000 642683.000  2.31%  70.1  114s\n"
     ]
    },
    {
     "name": "stdout",
     "output_type": "stream",
     "text": [
      " 61486 31038 638779.406   74   28 628191.000 642680.000  2.31%  70.6  115s\n"
     ]
    },
    {
     "name": "stderr",
     "output_type": "stream",
     "text": [
      "2023-04-20 19:31:22,940 - INFO -  61486 31038 638779.406   74   28 628191.000 642680.000  2.31%  70.6  115s\n"
     ]
    },
    {
     "name": "stdout",
     "output_type": "stream",
     "text": [
      " 61888 32162 638117.000   72   69 628191.000 642679.000  2.31%  70.6  120s\n"
     ]
    },
    {
     "name": "stderr",
     "output_type": "stream",
     "text": [
      "2023-04-20 19:31:28,846 - INFO -  61888 32162 638117.000   72   69 628191.000 642679.000  2.31%  70.6  120s\n"
     ]
    },
    {
     "name": "stdout",
     "output_type": "stream",
     "text": [
      " 65355 34520 641484.044   54  114 628191.000 642665.000  2.30%  71.4  125s\n"
     ]
    },
    {
     "name": "stderr",
     "output_type": "stream",
     "text": [
      "2023-04-20 19:31:33,759 - INFO -  65355 34520 641484.044   54  114 628191.000 642665.000  2.30%  71.4  125s\n"
     ]
    },
    {
     "name": "stdout",
     "output_type": "stream",
     "text": [
      " 69643 37206 639796.846   47  112 628191.000 642654.050  2.30%  72.4  131s\n"
     ]
    },
    {
     "name": "stderr",
     "output_type": "stream",
     "text": [
      "2023-04-20 19:31:39,587 - INFO -  69643 37206 639796.846   47  112 628191.000 642654.050  2.30%  72.4  131s\n"
     ]
    },
    {
     "name": "stdout",
     "output_type": "stream",
     "text": [
      " 74443 40502 636817.573   57   77 628191.000 642645.543  2.30%  72.2  137s\n"
     ]
    },
    {
     "name": "stderr",
     "output_type": "stream",
     "text": [
      "2023-04-20 19:31:45,623 - INFO -  74443 40502 636817.573   57   77 628191.000 642645.543  2.30%  72.2  137s\n"
     ]
    },
    {
     "name": "stdout",
     "output_type": "stream",
     "text": [
      "H75504 40340                    628572.00000 642639.147  2.24%  72.2  137s\n"
     ]
    },
    {
     "name": "stderr",
     "output_type": "stream",
     "text": [
      "2023-04-20 19:31:45,811 - INFO - H75504 40340                    628572.00000 642639.147  2.24%  72.2  137s\n"
     ]
    },
    {
     "name": "stdout",
     "output_type": "stream",
     "text": [
      "H75713 39921                    629708.00000 642639.000  2.05%  72.2  137s\n"
     ]
    },
    {
     "name": "stderr",
     "output_type": "stream",
     "text": [
      "2023-04-20 19:31:45,842 - INFO - H75713 39921                    629708.00000 642639.000  2.05%  72.2  137s\n"
     ]
    },
    {
     "name": "stdout",
     "output_type": "stream",
     "text": [
      " 76735 41418 641456.881   46  107 629708.000 642637.000  2.05%  72.2  143s\n"
     ]
    },
    {
     "name": "stderr",
     "output_type": "stream",
     "text": [
      "2023-04-20 19:31:51,853 - INFO -  76735 41418 641456.881   46  107 629708.000 642637.000  2.05%  72.2  143s\n"
     ]
    },
    {
     "name": "stdout",
     "output_type": "stream",
     "text": [
      " 78921 43109 639787.985   57   83 629708.000 642636.000  2.05%  72.1  146s\n"
     ]
    },
    {
     "name": "stderr",
     "output_type": "stream",
     "text": [
      "2023-04-20 19:31:54,910 - INFO -  78921 43109 639787.985   57   83 629708.000 642636.000  2.05%  72.1  146s\n"
     ]
    },
    {
     "name": "stdout",
     "output_type": "stream",
     "text": [
      " 81410 43394 641928.758   40  103 629708.000 642631.000  2.05%  72.1  153s\n"
     ]
    },
    {
     "name": "stderr",
     "output_type": "stream",
     "text": [
      "2023-04-20 19:32:01,464 - INFO -  81410 43394 641928.758   40  103 629708.000 642631.000  2.05%  72.1  153s\n"
     ]
    },
    {
     "name": "stdout",
     "output_type": "stream",
     "text": [
      " 81814 45082 641851.289   41   90 629708.000 642630.998  2.05%  72.2  156s\n"
     ]
    },
    {
     "name": "stderr",
     "output_type": "stream",
     "text": [
      "2023-04-20 19:32:04,528 - INFO -  81814 45082 641851.289   41   90 629708.000 642630.998  2.05%  72.2  156s\n"
     ]
    },
    {
     "name": "stdout",
     "output_type": "stream",
     "text": [
      " 84164 46727 infeasible   86      629708.000 642624.000  2.05%  72.2  160s\n"
     ]
    },
    {
     "name": "stderr",
     "output_type": "stream",
     "text": [
      "2023-04-20 19:32:08,216 - INFO -  84164 46727 infeasible   86      629708.000 642624.000  2.05%  72.2  160s\n"
     ]
    },
    {
     "name": "stdout",
     "output_type": "stream",
     "text": [
      "H86122 46691                    629752.00000 642618.549  2.04%  71.9  160s\n"
     ]
    },
    {
     "name": "stderr",
     "output_type": "stream",
     "text": [
      "2023-04-20 19:32:08,419 - INFO - H86122 46691                    629752.00000 642618.549  2.04%  71.9  160s\n"
     ]
    },
    {
     "name": "stdout",
     "output_type": "stream",
     "text": [
      " 86724 48314 637414.183   71   62 629752.000 642616.669  2.04%  71.8  166s\n"
     ]
    },
    {
     "name": "stderr",
     "output_type": "stream",
     "text": [
      "2023-04-20 19:32:14,497 - INFO -  86724 48314 637414.183   71   62 629752.000 642616.669  2.04%  71.8  166s\n"
     ]
    },
    {
     "name": "stdout",
     "output_type": "stream",
     "text": [
      " 89005 50242 641486.060   50   48 629752.000 642609.000  2.04%  71.5  170s\n"
     ]
    },
    {
     "name": "stderr",
     "output_type": "stream",
     "text": [
      "2023-04-20 19:32:18,169 - INFO -  89005 50242 641486.060   50   48 629752.000 642609.000  2.04%  71.5  170s\n"
     ]
    },
    {
     "name": "stdout",
     "output_type": "stream",
     "text": [
      " 94184 53737 637837.869   94   47 629752.000 642596.984  2.04%  71.2  177s\n"
     ]
    },
    {
     "name": "stderr",
     "output_type": "stream",
     "text": [
      "2023-04-20 19:32:25,051 - INFO -  94184 53737 637837.869   94   47 629752.000 642596.984  2.04%  71.2  177s\n"
     ]
    },
    {
     "name": "stdout",
     "output_type": "stream",
     "text": [
      " 96807 55485 641829.853   44  109 629752.000 642591.282  2.04%  71.1  180s\n"
     ]
    },
    {
     "name": "stderr",
     "output_type": "stream",
     "text": [
      "2023-04-20 19:32:28,645 - INFO -  96807 55485 641829.853   44  109 629752.000 642591.282  2.04%  71.1  180s\n"
     ]
    },
    {
     "name": "stdout",
     "output_type": "stream",
     "text": [
      " 99211 56766 infeasible   99      629752.000 642585.758  2.04%  71.0  185s\n"
     ]
    },
    {
     "name": "stderr",
     "output_type": "stream",
     "text": [
      "2023-04-20 19:32:33,903 - INFO -  99211 56766 infeasible   99      629752.000 642585.758  2.04%  71.0  185s\n"
     ]
    },
    {
     "name": "stdout",
     "output_type": "stream",
     "text": [
      " 100876 56818 637554.791   76   41 629752.000 642579.125  2.04%  71.3  198s\n"
     ]
    },
    {
     "name": "stderr",
     "output_type": "stream",
     "text": [
      "2023-04-20 19:32:46,862 - INFO -  100876 56818 637554.791   76   41 629752.000 642579.125  2.04%  71.3  198s\n"
     ]
    },
    {
     "name": "stdout",
     "output_type": "stream",
     "text": [
      " 100944 58572 infeasible   78      629752.000 642579.000  2.04%  71.3  204s\n"
     ]
    },
    {
     "name": "stderr",
     "output_type": "stream",
     "text": [
      "2023-04-20 19:32:52,143 - INFO -  100944 58572 infeasible   78      629752.000 642579.000  2.04%  71.3  204s\n"
     ]
    },
    {
     "name": "stdout",
     "output_type": "stream",
     "text": [
      " 103534 60111 640563.626   48  111 629752.000 642577.000  2.04%  71.4  208s\n"
     ]
    },
    {
     "name": "stderr",
     "output_type": "stream",
     "text": [
      "2023-04-20 19:32:56,148 - INFO -  103534 60111 640563.626   48  111 629752.000 642577.000  2.04%  71.4  208s\n"
     ]
    },
    {
     "name": "stdout",
     "output_type": "stream",
     "text": [
      " 106059 61677 637819.403   55   99 629752.000 642574.030  2.04%  71.2  211s\n"
     ]
    },
    {
     "name": "stderr",
     "output_type": "stream",
     "text": [
      "2023-04-20 19:32:59,774 - INFO -  106059 61677 637819.403   55   99 629752.000 642574.030  2.04%  71.2  211s\n"
     ]
    },
    {
     "name": "stdout",
     "output_type": "stream",
     "text": [
      " 108360 63291 642394.880   31  121 629752.000 642569.948  2.04%  71.3  215s\n"
     ]
    },
    {
     "name": "stderr",
     "output_type": "stream",
     "text": [
      "2023-04-20 19:33:03,743 - INFO -  108360 63291 642394.880   31  121 629752.000 642569.948  2.04%  71.3  215s\n"
     ]
    },
    {
     "name": "stdout",
     "output_type": "stream",
     "text": [
      " 110574 64983 641613.857   49   96 629752.000 642569.948  2.04%  71.4  220s\n"
     ]
    },
    {
     "name": "stderr",
     "output_type": "stream",
     "text": [
      "2023-04-20 19:33:08,353 - INFO -  110574 64983 641613.857   49   96 629752.000 642569.948  2.04%  71.4  220s\n"
     ]
    },
    {
     "name": "stdout",
     "output_type": "stream",
     "text": [
      " 113872 66663 641481.224   43  103 629752.000 642562.000  2.03%  71.5  225s\n"
     ]
    },
    {
     "name": "stderr",
     "output_type": "stream",
     "text": [
      "2023-04-20 19:33:12,949 - INFO -  113872 66663 641481.224   43  103 629752.000 642562.000  2.03%  71.5  225s\n"
     ]
    },
    {
     "name": "stdout",
     "output_type": "stream",
     "text": [
      " 117662 69905 infeasible  109      629752.000 642555.000  2.03%  71.5  232s\n"
     ]
    },
    {
     "name": "stderr",
     "output_type": "stream",
     "text": [
      "2023-04-20 19:33:20,530 - INFO -  117662 69905 infeasible  109      629752.000 642555.000  2.03%  71.5  232s\n"
     ]
    },
    {
     "name": "stdout",
     "output_type": "stream",
     "text": [
      " 120159 71371 infeasible   98      629752.000 642553.000  2.03%  71.5  236s\n"
     ]
    },
    {
     "name": "stderr",
     "output_type": "stream",
     "text": [
      "2023-04-20 19:33:24,283 - INFO -  120159 71371 infeasible   98      629752.000 642553.000  2.03%  71.5  236s\n"
     ]
    },
    {
     "name": "stdout",
     "output_type": "stream",
     "text": [
      " 122246 73221 640641.070   47  102 629752.000 642548.509  2.03%  71.7  240s\n"
     ]
    },
    {
     "name": "stderr",
     "output_type": "stream",
     "text": [
      "2023-04-20 19:33:28,375 - INFO -  122246 73221 640641.070   47  102 629752.000 642548.509  2.03%  71.7  240s\n"
     ]
    },
    {
     "name": "stdout",
     "output_type": "stream",
     "text": [
      " 126768 74915 infeasible  101      629752.000 642544.808  2.03%  71.6  245s\n"
     ]
    },
    {
     "name": "stderr",
     "output_type": "stream",
     "text": [
      "2023-04-20 19:33:33,097 - INFO -  126768 74915 infeasible  101      629752.000 642544.808  2.03%  71.6  245s\n"
     ]
    },
    {
     "name": "stdout",
     "output_type": "stream",
     "text": [
      " 129191 77999 641734.641   34  133 629752.000 642541.593  2.03%  71.7  252s\n"
     ]
    },
    {
     "name": "stderr",
     "output_type": "stream",
     "text": [
      "2023-04-20 19:33:40,430 - INFO -  129191 77999 641734.641   34  133 629752.000 642541.593  2.03%  71.7  252s\n"
     ]
    },
    {
     "name": "stdout",
     "output_type": "stream",
     "text": [
      " 131449 79775 638089.849   62  113 629752.000 642538.469  2.03%  71.8  256s\n"
     ]
    },
    {
     "name": "stderr",
     "output_type": "stream",
     "text": [
      "2023-04-20 19:33:44,618 - INFO -  131449 79775 638089.849   62  113 629752.000 642538.469  2.03%  71.8  256s\n"
     ]
    },
    {
     "name": "stdout",
     "output_type": "stream",
     "text": [
      " 133956 81383 635057.564   73   82 629752.000 642538.074  2.03%  71.7  260s\n"
     ]
    },
    {
     "name": "stderr",
     "output_type": "stream",
     "text": [
      "2023-04-20 19:33:48,676 - INFO -  133956 81383 635057.564   73   82 629752.000 642538.074  2.03%  71.7  260s\n"
     ]
    },
    {
     "name": "stdout",
     "output_type": "stream",
     "text": [
      " 136210 83198 639598.794   69   43 629752.000 642530.999  2.03%  71.8  266s\n"
     ]
    },
    {
     "name": "stderr",
     "output_type": "stream",
     "text": [
      "2023-04-20 19:33:54,052 - INFO -  136210 83198 639598.794   69   43 629752.000 642530.999  2.03%  71.8  266s\n"
     ]
    },
    {
     "name": "stdout",
     "output_type": "stream",
     "text": [
      " 138735 84951 infeasible  120      629752.000 642527.044  2.03%  71.7  270s\n"
     ]
    },
    {
     "name": "stderr",
     "output_type": "stream",
     "text": [
      "2023-04-20 19:33:58,440 - INFO -  138735 84951 infeasible  120      629752.000 642527.044  2.03%  71.7  270s\n"
     ]
    },
    {
     "name": "stdout",
     "output_type": "stream",
     "text": [
      " 142432 87544 641016.189   41  106 629752.000 642522.958  2.03%  71.7  277s\n"
     ]
    },
    {
     "name": "stderr",
     "output_type": "stream",
     "text": [
      "2023-04-20 19:34:04,955 - INFO -  142432 87544 641016.189   41  106 629752.000 642522.958  2.03%  71.7  277s\n"
     ]
    },
    {
     "name": "stdout",
     "output_type": "stream",
     "text": [
      " 144832 89420 642281.813   35  130 629752.000 642520.000  2.03%  71.8  281s\n"
     ]
    },
    {
     "name": "stderr",
     "output_type": "stream",
     "text": [
      "2023-04-20 19:34:09,518 - INFO -  144832 89420 642281.813   35  130 629752.000 642520.000  2.03%  71.8  281s\n"
     ]
    },
    {
     "name": "stdout",
     "output_type": "stream",
     "text": [
      " 147490 90865 642178.063   39   99 629752.000 642514.342  2.03%  71.7  286s\n"
     ]
    },
    {
     "name": "stderr",
     "output_type": "stream",
     "text": [
      "2023-04-20 19:34:14,315 - INFO -  147490 90865 642178.063   39   99 629752.000 642514.342  2.03%  71.7  286s\n"
     ]
    },
    {
     "name": "stdout",
     "output_type": "stream",
     "text": [
      " 149750 92741 641992.876   42  128 629752.000 642511.909  2.03%  71.9  290s\n"
     ]
    },
    {
     "name": "stderr",
     "output_type": "stream",
     "text": [
      "2023-04-20 19:34:18,573 - INFO -  149750 92741 641992.876   42  128 629752.000 642511.909  2.03%  71.9  290s\n"
     ]
    },
    {
     "name": "stdout",
     "output_type": "stream",
     "text": [
      " 154895 96244 640130.806   55  114 629752.000 642506.992  2.03%  71.8  298s\n"
     ]
    },
    {
     "name": "stderr",
     "output_type": "stream",
     "text": [
      "2023-04-20 19:34:26,760 - INFO -  154895 96244 640130.806   55  114 629752.000 642506.992  2.03%  71.8  298s\n"
     ]
    },
    {
     "name": "stdout",
     "output_type": "stream",
     "text": [
      " 157436 98018 642263.366   37  105 629752.000 642504.656  2.03%  71.7  303s\n"
     ]
    },
    {
     "name": "stderr",
     "output_type": "stream",
     "text": [
      "2023-04-20 19:34:31,525 - INFO -  157436 98018 642263.366   37  105 629752.000 642504.656  2.03%  71.7  303s\n"
     ]
    },
    {
     "name": "stdout",
     "output_type": "stream",
     "text": [
      " 160029 99485 640264.307   60  106 629752.000 642500.765  2.02%  71.7  307s\n"
     ]
    },
    {
     "name": "stderr",
     "output_type": "stream",
     "text": [
      "2023-04-20 19:34:35,844 - INFO -  160029 99485 640264.307   60  106 629752.000 642500.765  2.02%  71.7  307s\n"
     ]
    },
    {
     "name": "stdout",
     "output_type": "stream",
     "text": [
      " 162104 101135 637981.924   65   63 629752.000 642499.146  2.02%  71.9  311s\n"
     ]
    },
    {
     "name": "stderr",
     "output_type": "stream",
     "text": [
      "2023-04-20 19:34:39,791 - INFO -  162104 101135 637981.924   65   63 629752.000 642499.146  2.02%  71.9  311s\n"
     ]
    },
    {
     "name": "stdout",
     "output_type": "stream",
     "text": [
      " 164713 102852 638735.974   58  104 629752.000 642495.831  2.02%  71.9  316s\n"
     ]
    },
    {
     "name": "stderr",
     "output_type": "stream",
     "text": [
      "2023-04-20 19:34:44,366 - INFO -  164713 102852 638735.974   58  104 629752.000 642495.831  2.02%  71.9  316s\n"
     ]
    },
    {
     "name": "stdout",
     "output_type": "stream",
     "text": [
      " 167230 104375 640448.290   53  129 629752.000 642491.887  2.02%  72.0  321s\n"
     ]
    },
    {
     "name": "stderr",
     "output_type": "stream",
     "text": [
      "2023-04-20 19:34:49,431 - INFO -  167230 104375 640448.290   53  129 629752.000 642491.887  2.02%  72.0  321s\n"
     ]
    },
    {
     "name": "stdout",
     "output_type": "stream",
     "text": [
      " 169636 106178 641366.677   34  111 629752.000 642491.109  2.02%  72.1  326s\n"
     ]
    },
    {
     "name": "stderr",
     "output_type": "stream",
     "text": [
      "2023-04-20 19:34:54,278 - INFO -  169636 106178 641366.677   34  111 629752.000 642491.109  2.02%  72.1  326s\n"
     ]
    },
    {
     "name": "stdout",
     "output_type": "stream",
     "text": [
      "H170654 105485                    630349.00000 642491.109  1.93%  72.1  326s\n"
     ]
    },
    {
     "name": "stderr",
     "output_type": "stream",
     "text": [
      "2023-04-20 19:34:54,388 - INFO - H170654 105485                    630349.00000 642491.109  1.93%  72.1  326s\n"
     ]
    },
    {
     "name": "stdout",
     "output_type": "stream",
     "text": [
      " 172038 107068 637765.755   62   93 630349.000 642488.914  1.93%  72.2  333s\n"
     ]
    },
    {
     "name": "stderr",
     "output_type": "stream",
     "text": [
      "2023-04-20 19:35:01,072 - INFO -  172038 107068 637765.755   62   93 630349.000 642488.914  1.93%  72.2  333s\n"
     ]
    },
    {
     "name": "stdout",
     "output_type": "stream",
     "text": [
      " 174275 107453 637561.073   68   88 630349.000 642484.000  1.93%  72.1  343s\n"
     ]
    },
    {
     "name": "stderr",
     "output_type": "stream",
     "text": [
      "2023-04-20 19:35:11,259 - INFO -  174275 107453 637561.073   68   88 630349.000 642484.000  1.93%  72.1  343s\n"
     ]
    },
    {
     "name": "stdout",
     "output_type": "stream",
     "text": [
      " 174846 109210 641970.213   45   96 630349.000 642483.389  1.93%  72.1  347s\n"
     ]
    },
    {
     "name": "stderr",
     "output_type": "stream",
     "text": [
      "2023-04-20 19:35:15,619 - INFO -  174846 109210 641970.213   45   96 630349.000 642483.389  1.93%  72.1  347s\n"
     ]
    },
    {
     "name": "stdout",
     "output_type": "stream",
     "text": [
      " 177456 110805 infeasible   99      630349.000 642479.000  1.92%  72.1  353s\n"
     ]
    },
    {
     "name": "stderr",
     "output_type": "stream",
     "text": [
      "2023-04-20 19:35:21,669 - INFO -  177456 110805 infeasible   99      630349.000 642479.000  1.92%  72.1  353s\n"
     ]
    },
    {
     "name": "stdout",
     "output_type": "stream",
     "text": [
      " 179989 112419 infeasible  105      630349.000 642476.000  1.92%  72.2  358s\n"
     ]
    },
    {
     "name": "stderr",
     "output_type": "stream",
     "text": [
      "2023-04-20 19:35:25,985 - INFO -  179989 112419 infeasible  105      630349.000 642476.000  1.92%  72.2  358s\n"
     ]
    },
    {
     "name": "stdout",
     "output_type": "stream",
     "text": [
      " 182327 114404 640593.132   51  116 630349.000 642475.519  1.92%  72.3  365s\n"
     ]
    },
    {
     "name": "stderr",
     "output_type": "stream",
     "text": [
      "2023-04-20 19:35:32,965 - INFO -  182327 114404 640593.132   51  116 630349.000 642475.519  1.92%  72.3  365s\n"
     ]
    },
    {
     "name": "stdout",
     "output_type": "stream",
     "text": [
      "H183559 113834                    630647.00000 642472.772  1.88%  72.3  365s\n"
     ]
    },
    {
     "name": "stderr",
     "output_type": "stream",
     "text": [
      "2023-04-20 19:35:33,169 - INFO - H183559 113834                    630647.00000 642472.772  1.88%  72.3  365s\n"
     ]
    },
    {
     "name": "stdout",
     "output_type": "stream",
     "text": [
      " 185230 115387 640263.288   40   93 630647.000 642471.000  1.87%  72.3  372s\n"
     ]
    },
    {
     "name": "stderr",
     "output_type": "stream",
     "text": [
      "2023-04-20 19:35:40,845 - INFO -  185230 115387 640263.288   40   93 630647.000 642471.000  1.87%  72.3  372s\n"
     ]
    },
    {
     "name": "stdout",
     "output_type": "stream",
     "text": [
      " 187505 117120 641874.006   37  106 630647.000 642469.540  1.87%  72.4  377s\n"
     ]
    },
    {
     "name": "stderr",
     "output_type": "stream",
     "text": [
      "2023-04-20 19:35:45,513 - INFO -  187505 117120 641874.006   37  106 630647.000 642469.540  1.87%  72.4  377s\n"
     ]
    },
    {
     "name": "stdout",
     "output_type": "stream",
     "text": [
      " 189938 119116 642103.589   46  130 630647.000 642468.000  1.87%  72.5  382s\n"
     ]
    },
    {
     "name": "stderr",
     "output_type": "stream",
     "text": [
      "2023-04-20 19:35:50,733 - INFO -  189938 119116 642103.589   46  130 630647.000 642468.000  1.87%  72.5  382s\n"
     ]
    },
    {
     "name": "stdout",
     "output_type": "stream",
     "text": [
      " 192776 120868 630728.148   62   47 630647.000 642463.941  1.87%  72.5  387s\n"
     ]
    },
    {
     "name": "stderr",
     "output_type": "stream",
     "text": [
      "2023-04-20 19:35:55,272 - INFO -  192776 120868 630728.148   62   47 630647.000 642463.941  1.87%  72.5  387s\n"
     ]
    },
    {
     "name": "stdout",
     "output_type": "stream",
     "text": [
      " 195246 122682 636014.197   47  107 630647.000 642462.000  1.87%  72.5  391s\n"
     ]
    },
    {
     "name": "stderr",
     "output_type": "stream",
     "text": [
      "2023-04-20 19:35:59,756 - INFO -  195246 122682 636014.197   47  107 630647.000 642462.000  1.87%  72.5  391s\n"
     ]
    },
    {
     "name": "stdout",
     "output_type": "stream",
     "text": [
      " 197845 124568 641083.013   50  111 630647.000 642459.880  1.87%  72.6  396s\n"
     ]
    },
    {
     "name": "stderr",
     "output_type": "stream",
     "text": [
      "2023-04-20 19:36:04,834 - INFO -  197845 124568 641083.013   50  111 630647.000 642459.880  1.87%  72.6  396s\n"
     ]
    },
    {
     "name": "stdout",
     "output_type": "stream",
     "text": [
      " 200633 126150 infeasible   93      630647.000 642454.873  1.87%  72.6  404s\n"
     ]
    },
    {
     "name": "stderr",
     "output_type": "stream",
     "text": [
      "2023-04-20 19:36:12,429 - INFO -  200633 126150 infeasible   93      630647.000 642454.873  1.87%  72.6  404s\n"
     ]
    },
    {
     "name": "stdout",
     "output_type": "stream",
     "text": [
      "H201412 125455                    630993.00000 642454.102  1.82%  72.6  404s\n"
     ]
    },
    {
     "name": "stderr",
     "output_type": "stream",
     "text": [
      "2023-04-20 19:36:12,601 - INFO - H201412 125455                    630993.00000 642454.102  1.82%  72.6  404s\n"
     ]
    },
    {
     "name": "stdout",
     "output_type": "stream",
     "text": [
      " 202851 127096 642359.262   37  129 630993.000 642454.045  1.82%  72.7  409s\n"
     ]
    },
    {
     "name": "stderr",
     "output_type": "stream",
     "text": [
      "2023-04-20 19:36:17,795 - INFO -  202851 127096 642359.262   37  129 630993.000 642454.045  1.82%  72.7  409s\n"
     ]
    },
    {
     "name": "stdout",
     "output_type": "stream",
     "text": [
      " 205259 128836 638458.310   59  126 630993.000 642451.767  1.82%  72.9  415s\n"
     ]
    },
    {
     "name": "stderr",
     "output_type": "stream",
     "text": [
      "2023-04-20 19:36:23,050 - INFO -  205259 128836 638458.310   59  126 630993.000 642451.767  1.82%  72.9  415s\n"
     ]
    },
    {
     "name": "stdout",
     "output_type": "stream",
     "text": [
      " 207531 130728 641027.605   44  111 630993.000 642449.755  1.82%  73.1  420s\n"
     ]
    },
    {
     "name": "stderr",
     "output_type": "stream",
     "text": [
      "2023-04-20 19:36:28,065 - INFO -  207531 130728 641027.605   44  111 630993.000 642449.755  1.82%  73.1  420s\n"
     ]
    },
    {
     "name": "stdout",
     "output_type": "stream",
     "text": [
      " 210175 132496 641573.733   34  110 630993.000 642447.471  1.82%  73.2  425s\n"
     ]
    },
    {
     "name": "stderr",
     "output_type": "stream",
     "text": [
      "2023-04-20 19:36:32,936 - INFO -  210175 132496 641573.733   34  110 630993.000 642447.471  1.82%  73.2  425s\n"
     ]
    },
    {
     "name": "stdout",
     "output_type": "stream",
     "text": [
      " 212698 134055 641850.381   40  121 630993.000 642446.517  1.82%  73.3  432s\n"
     ]
    },
    {
     "name": "stderr",
     "output_type": "stream",
     "text": [
      "2023-04-20 19:36:40,843 - INFO -  212698 134055 641850.381   40  121 630993.000 642446.517  1.82%  73.3  432s\n"
     ]
    },
    {
     "name": "stdout",
     "output_type": "stream",
     "text": [
      " 214982 135945 642004.646   36   80 630993.000 642441.093  1.81%  73.4  438s\n"
     ]
    },
    {
     "name": "stderr",
     "output_type": "stream",
     "text": [
      "2023-04-20 19:36:46,223 - INFO -  214982 135945 642004.646   36   80 630993.000 642441.093  1.81%  73.4  438s\n"
     ]
    },
    {
     "name": "stdout",
     "output_type": "stream",
     "text": [
      " 217623 136779 639693.255   84   11 630993.000 642439.294  1.81%  73.5  442s\n"
     ]
    },
    {
     "name": "stderr",
     "output_type": "stream",
     "text": [
      "2023-04-20 19:36:50,270 - INFO -  217623 136779 639693.255   84   11 630993.000 642439.294  1.81%  73.5  442s\n"
     ]
    },
    {
     "name": "stdout",
     "output_type": "stream",
     "text": [
      " 218881 138633 infeasible   98      630993.000 642438.001  1.81%  73.5  447s\n"
     ]
    },
    {
     "name": "stderr",
     "output_type": "stream",
     "text": [
      "2023-04-20 19:36:55,446 - INFO -  218881 138633 infeasible   98      630993.000 642438.001  1.81%  73.5  447s\n"
     ]
    },
    {
     "name": "stdout",
     "output_type": "stream",
     "text": [
      " 221426 140410 636303.933   55   65 630993.000 642435.536  1.81%  73.6  453s\n"
     ]
    },
    {
     "name": "stderr",
     "output_type": "stream",
     "text": [
      "2023-04-20 19:37:01,254 - INFO -  221426 140410 636303.933   55   65 630993.000 642435.536  1.81%  73.6  453s\n"
     ]
    },
    {
     "name": "stdout",
     "output_type": "stream",
     "text": [
      " 223973 142225 639313.998   58  104 630993.000 642434.518  1.81%  73.7  458s\n"
     ]
    },
    {
     "name": "stderr",
     "output_type": "stream",
     "text": [
      "2023-04-20 19:37:06,832 - INFO -  223973 142225 639313.998   58  104 630993.000 642434.518  1.81%  73.7  458s\n"
     ]
    },
    {
     "name": "stdout",
     "output_type": "stream",
     "text": [
      " 226664 143839 633081.581   77   73 630993.000 642431.885  1.81%  73.7  466s\n"
     ]
    },
    {
     "name": "stderr",
     "output_type": "stream",
     "text": [
      "2023-04-20 19:37:14,451 - INFO -  226664 143839 633081.581   77   73 630993.000 642431.885  1.81%  73.7  466s\n"
     ]
    },
    {
     "name": "stdout",
     "output_type": "stream",
     "text": [
      " 229058 145652 639051.775   48   88 630993.000 642429.221  1.81%  73.8  471s\n"
     ]
    },
    {
     "name": "stderr",
     "output_type": "stream",
     "text": [
      "2023-04-20 19:37:19,419 - INFO -  229058 145652 639051.775   48   88 630993.000 642429.221  1.81%  73.8  471s\n"
     ]
    },
    {
     "name": "stdout",
     "output_type": "stream",
     "text": [
      " 231711 147472 633876.302   69   99 630993.000 642429.000  1.81%  73.9  476s\n"
     ]
    },
    {
     "name": "stderr",
     "output_type": "stream",
     "text": [
      "2023-04-20 19:37:24,710 - INFO -  231711 147472 633876.302   69   99 630993.000 642429.000  1.81%  73.9  476s\n"
     ]
    },
    {
     "name": "stdout",
     "output_type": "stream",
     "text": [
      " 234424 149317 640385.253   55   84 630993.000 642428.000  1.81%  73.9  483s\n"
     ]
    },
    {
     "name": "stderr",
     "output_type": "stream",
     "text": [
      "2023-04-20 19:37:31,023 - INFO -  234424 149317 640385.253   55   84 630993.000 642428.000  1.81%  73.9  483s\n"
     ]
    },
    {
     "name": "stdout",
     "output_type": "stream",
     "text": [
      " 237135 150084     cutoff  101      630993.000 642426.000  1.81%  73.9  495s\n"
     ]
    },
    {
     "name": "stderr",
     "output_type": "stream",
     "text": [
      "2023-04-20 19:37:43,500 - INFO -  237135 150084     cutoff  101      630993.000 642426.000  1.81%  73.9  495s\n"
     ]
    },
    {
     "name": "stdout",
     "output_type": "stream",
     "text": [
      " 238285 151678 641621.804   55  115 630993.000 642424.403  1.81%  73.9  504s\n"
     ]
    },
    {
     "name": "stderr",
     "output_type": "stream",
     "text": [
      "2023-04-20 19:37:52,615 - INFO -  238285 151678 641621.804   55  115 630993.000 642424.403  1.81%  73.9  504s\n"
     ]
    },
    {
     "name": "stdout",
     "output_type": "stream",
     "text": [
      " 240517 153367 640353.465   46  156 630993.000 642421.867  1.81%  74.0  510s\n"
     ]
    },
    {
     "name": "stderr",
     "output_type": "stream",
     "text": [
      "2023-04-20 19:37:58,005 - INFO -  240517 153367 640353.465   46  156 630993.000 642421.867  1.81%  74.0  510s\n"
     ]
    },
    {
     "name": "stdout",
     "output_type": "stream",
     "text": [
      " 243016 155118 638304.202   60  109 630993.000 642419.000  1.81%  74.1  515s\n"
     ]
    },
    {
     "name": "stderr",
     "output_type": "stream",
     "text": [
      "2023-04-20 19:38:03,575 - INFO -  243016 155118 638304.202   60  109 630993.000 642419.000  1.81%  74.1  515s\n"
     ]
    },
    {
     "name": "stdout",
     "output_type": "stream",
     "text": [
      " 245480 157077 637965.968   62   54 630993.000 642417.133  1.81%  74.3  522s\n"
     ]
    },
    {
     "name": "stderr",
     "output_type": "stream",
     "text": [
      "2023-04-20 19:38:10,668 - INFO -  245480 157077 637965.968   62   54 630993.000 642417.133  1.81%  74.3  522s\n"
     ]
    },
    {
     "name": "stdout",
     "output_type": "stream",
     "text": [
      " 248236 158938 640519.055   42  110 630993.000 642417.112  1.81%  74.4  530s\n"
     ]
    },
    {
     "name": "stderr",
     "output_type": "stream",
     "text": [
      "2023-04-20 19:38:18,666 - INFO -  248236 158938 640519.055   42  110 630993.000 642417.112  1.81%  74.4  530s\n"
     ]
    },
    {
     "name": "stdout",
     "output_type": "stream",
     "text": [
      " 250901 160643 641551.459   48  107 630993.000 642414.417  1.81%  74.4  539s\n"
     ]
    },
    {
     "name": "stderr",
     "output_type": "stream",
     "text": [
      "2023-04-20 19:38:27,671 - INFO -  250901 160643 641551.459   48  107 630993.000 642414.417  1.81%  74.4  539s\n"
     ]
    },
    {
     "name": "stdout",
     "output_type": "stream",
     "text": [
      " 253211 162363 635959.772   63  101 630993.000 642413.000  1.81%  74.6  547s\n"
     ]
    },
    {
     "name": "stderr",
     "output_type": "stream",
     "text": [
      "2023-04-20 19:38:35,224 - INFO -  253211 162363 635959.772   63  101 630993.000 642413.000  1.81%  74.6  547s\n"
     ]
    },
    {
     "name": "stdout",
     "output_type": "stream",
     "text": [
      " 255717 164374 640867.955   50  137 630993.000 642411.077  1.81%  74.6  552s\n"
     ]
    },
    {
     "name": "stderr",
     "output_type": "stream",
     "text": [
      "2023-04-20 19:38:40,628 - INFO -  255717 164374 640867.955   50  137 630993.000 642411.077  1.81%  74.6  552s\n"
     ]
    },
    {
     "name": "stdout",
     "output_type": "stream",
     "text": [
      " 258337 166075 636667.833   65   34 630993.000 642409.017  1.81%  74.7  557s\n"
     ]
    },
    {
     "name": "stderr",
     "output_type": "stream",
     "text": [
      "2023-04-20 19:38:45,732 - INFO -  258337 166075 636667.833   65   34 630993.000 642409.017  1.81%  74.7  557s\n"
     ]
    },
    {
     "name": "stdout",
     "output_type": "stream",
     "text": [
      " 260542 167884 637688.935   53   96 630993.000 642407.635  1.81%  74.8  563s\n"
     ]
    },
    {
     "name": "stderr",
     "output_type": "stream",
     "text": [
      "2023-04-20 19:38:51,030 - INFO -  260542 167884 637688.935   53   96 630993.000 642407.635  1.81%  74.8  563s\n"
     ]
    },
    {
     "name": "stdout",
     "output_type": "stream",
     "text": [
      " 263238 169514 639155.294   55  126 630993.000 642405.920  1.81%  74.8  571s\n"
     ]
    },
    {
     "name": "stderr",
     "output_type": "stream",
     "text": [
      "2023-04-20 19:38:59,253 - INFO -  263238 169514 639155.294   55  126 630993.000 642405.920  1.81%  74.8  571s\n"
     ]
    },
    {
     "name": "stdout",
     "output_type": "stream",
     "text": [
      " 265405 171232 640100.000   91   62 630993.000 642404.819  1.81%  74.9  577s\n"
     ]
    },
    {
     "name": "stderr",
     "output_type": "stream",
     "text": [
      "2023-04-20 19:39:05,018 - INFO -  265405 171232 640100.000   91   62 630993.000 642404.819  1.81%  74.9  577s\n"
     ]
    },
    {
     "name": "stdout",
     "output_type": "stream",
     "text": [
      " 267932 173091 640304.145   55  127 630993.000 642403.954  1.81%  75.0  582s\n"
     ]
    },
    {
     "name": "stderr",
     "output_type": "stream",
     "text": [
      "2023-04-20 19:39:10,714 - INFO -  267932 173091 640304.145   55  127 630993.000 642403.954  1.81%  75.0  582s\n"
     ]
    },
    {
     "name": "stdout",
     "output_type": "stream",
     "text": [
      " 270420 174877 638310.126  100   19 630993.000 642402.421  1.81%  75.1  588s\n"
     ]
    },
    {
     "name": "stderr",
     "output_type": "stream",
     "text": [
      "2023-04-20 19:39:16,315 - INFO -  270420 174877 638310.126  100   19 630993.000 642402.421  1.81%  75.1  588s\n"
     ]
    },
    {
     "name": "stdout",
     "output_type": "stream",
     "text": [
      " 273105 176547 640643.064   45  129 630993.000 642400.503  1.81%  75.1  595s\n"
     ]
    },
    {
     "name": "stderr",
     "output_type": "stream",
     "text": [
      "2023-04-20 19:39:23,265 - INFO -  273105 176547 640643.064   45  129 630993.000 642400.503  1.81%  75.1  595s\n"
     ]
    },
    {
     "name": "stdout",
     "output_type": "stream",
     "text": [
      " 275555 178296 636242.744   65   69 630993.000 642398.293  1.81%  75.2  605s\n"
     ]
    },
    {
     "name": "stderr",
     "output_type": "stream",
     "text": [
      "2023-04-20 19:39:33,734 - INFO -  275555 178296 636242.744   65   69 630993.000 642398.293  1.81%  75.2  605s\n"
     ]
    },
    {
     "name": "stdout",
     "output_type": "stream",
     "text": [
      " 278033 179967 638911.666   46  122 630993.000 642397.000  1.81%  75.2  611s\n"
     ]
    },
    {
     "name": "stderr",
     "output_type": "stream",
     "text": [
      "2023-04-20 19:39:39,265 - INFO -  278033 179967 638911.666   46  122 630993.000 642397.000  1.81%  75.2  611s\n"
     ]
    },
    {
     "name": "stdout",
     "output_type": "stream",
     "text": [
      " 280541 180205 641832.430   37  125 630993.000 642396.022  1.81%  75.3  625s\n"
     ]
    },
    {
     "name": "stderr",
     "output_type": "stream",
     "text": [
      "2023-04-20 19:39:52,957 - INFO -  280541 180205 641832.430   37  125 630993.000 642396.022  1.81%  75.3  625s\n"
     ]
    },
    {
     "name": "stdout",
     "output_type": "stream",
     "text": [
      " 280925 181848 641777.207   38  117 630993.000 642395.396  1.81%  75.3  630s\n"
     ]
    },
    {
     "name": "stderr",
     "output_type": "stream",
     "text": [
      "2023-04-20 19:39:58,549 - INFO -  280925 181848 641777.207   38  117 630993.000 642395.396  1.81%  75.3  630s\n"
     ]
    },
    {
     "name": "stdout",
     "output_type": "stream",
     "text": [
      " 283493 183506 642042.001   33  120 630993.000 642393.151  1.81%  75.3  639s\n"
     ]
    },
    {
     "name": "stderr",
     "output_type": "stream",
     "text": [
      "2023-04-20 19:40:07,595 - INFO -  283493 183506 642042.001   33  120 630993.000 642393.151  1.81%  75.3  639s\n"
     ]
    },
    {
     "name": "stdout",
     "output_type": "stream",
     "text": [
      " 285147 183507 633920.363   59  101 630993.000 642392.525  1.81%  75.4  640s\n"
     ]
    },
    {
     "name": "stderr",
     "output_type": "stream",
     "text": [
      "2023-04-20 19:40:07,970 - INFO -  285147 183507 633920.363   59  101 630993.000 642392.525  1.81%  75.4  640s\n"
     ]
    },
    {
     "name": "stdout",
     "output_type": "stream",
     "text": [
      " 285789 185248 642293.043   45   66 630993.000 642392.464  1.81%  75.4  645s\n"
     ]
    },
    {
     "name": "stderr",
     "output_type": "stream",
     "text": [
      "2023-04-20 19:40:13,080 - INFO -  285789 185248 642293.043   45   66 630993.000 642392.464  1.81%  75.4  645s\n"
     ]
    },
    {
     "name": "stdout",
     "output_type": "stream",
     "text": [
      " 288255 187162 641770.579   35  111 630993.000 642391.245  1.81%  75.5  651s\n"
     ]
    },
    {
     "name": "stderr",
     "output_type": "stream",
     "text": [
      "2023-04-20 19:40:19,340 - INFO -  288255 187162 641770.579   35  111 630993.000 642391.245  1.81%  75.5  651s\n"
     ]
    },
    {
     "name": "stdout",
     "output_type": "stream",
     "text": [
      " 290681 188872 633679.241   50   82 630993.000 642389.965  1.81%  75.7  657s\n"
     ]
    },
    {
     "name": "stderr",
     "output_type": "stream",
     "text": [
      "2023-04-20 19:40:25,683 - INFO -  290681 188872 633679.241   50   82 630993.000 642389.965  1.81%  75.7  657s\n"
     ]
    },
    {
     "name": "stdout",
     "output_type": "stream",
     "text": [
      " 293283 190078 639913.932   40  109 630993.000 642388.128  1.81%  75.7  663s\n"
     ]
    },
    {
     "name": "stderr",
     "output_type": "stream",
     "text": [
      "2023-04-20 19:40:31,412 - INFO -  293283 190078 639913.932   40  109 630993.000 642388.128  1.81%  75.7  663s\n"
     ]
    },
    {
     "name": "stdout",
     "output_type": "stream",
     "text": [
      " 294869 191632 640458.025   38  149 630993.000 642387.659  1.81%  75.9  670s\n"
     ]
    },
    {
     "name": "stderr",
     "output_type": "stream",
     "text": [
      "2023-04-20 19:40:38,500 - INFO -  294869 191632 640458.025   38  149 630993.000 642387.659  1.81%  75.9  670s\n"
     ]
    },
    {
     "name": "stdout",
     "output_type": "stream",
     "text": [
      " 297214 193158 infeasible   70      630993.000 642385.493  1.81%  76.0  676s\n"
     ]
    },
    {
     "name": "stderr",
     "output_type": "stream",
     "text": [
      "2023-04-20 19:40:44,558 - INFO -  297214 193158 infeasible   70      630993.000 642385.493  1.81%  76.0  676s\n"
     ]
    },
    {
     "name": "stdout",
     "output_type": "stream",
     "text": [
      " 299481 194681 641571.774   38  154 630993.000 642383.215  1.81%  76.1  682s\n"
     ]
    },
    {
     "name": "stderr",
     "output_type": "stream",
     "text": [
      "2023-04-20 19:40:50,570 - INFO -  299481 194681 641571.774   38  154 630993.000 642383.215  1.81%  76.1  682s\n"
     ]
    },
    {
     "name": "stdout",
     "output_type": "stream",
     "text": [
      " 301800 196325 633253.094   49  116 630993.000 642381.578  1.80%  76.2  688s\n"
     ]
    },
    {
     "name": "stderr",
     "output_type": "stream",
     "text": [
      "2023-04-20 19:40:56,665 - INFO -  301800 196325 633253.094   49  116 630993.000 642381.578  1.80%  76.2  688s\n"
     ]
    },
    {
     "name": "stdout",
     "output_type": "stream",
     "text": [
      " 304287 197918 639964.720   54  127 630993.000 642379.759  1.80%  76.3  693s\n"
     ]
    },
    {
     "name": "stderr",
     "output_type": "stream",
     "text": [
      "2023-04-20 19:41:01,183 - INFO -  304287 197918 639964.720   54  127 630993.000 642379.759  1.80%  76.3  693s\n"
     ]
    },
    {
     "name": "stdout",
     "output_type": "stream",
     "text": [
      " 306381 199624 638174.590   60   75 630993.000 642379.000  1.80%  76.4  702s\n"
     ]
    },
    {
     "name": "stderr",
     "output_type": "stream",
     "text": [
      "2023-04-20 19:41:10,119 - INFO -  306381 199624 638174.590   60   75 630993.000 642379.000  1.80%  76.4  702s\n"
     ]
    },
    {
     "name": "stdout",
     "output_type": "stream",
     "text": [
      " 308999 201274 642334.400   31  133 630993.000 642378.794  1.80%  76.4  710s\n"
     ]
    },
    {
     "name": "stderr",
     "output_type": "stream",
     "text": [
      "2023-04-20 19:41:18,830 - INFO -  308999 201274 642334.400   31  133 630993.000 642378.794  1.80%  76.4  710s\n"
     ]
    },
    {
     "name": "stdout",
     "output_type": "stream",
     "text": [
      " 311578 202740 642172.469   36   87 630993.000 642376.583  1.80%  76.5  716s\n"
     ]
    },
    {
     "name": "stderr",
     "output_type": "stream",
     "text": [
      "2023-04-20 19:41:24,708 - INFO -  311578 202740 642172.469   36   87 630993.000 642376.583  1.80%  76.5  716s\n"
     ]
    },
    {
     "name": "stdout",
     "output_type": "stream",
     "text": [
      " 313577 204673 636192.410   66   56 630993.000 642374.825  1.80%  76.7  724s\n"
     ]
    },
    {
     "name": "stderr",
     "output_type": "stream",
     "text": [
      "2023-04-20 19:41:32,038 - INFO -  313577 204673 636192.410   66   56 630993.000 642374.825  1.80%  76.7  724s\n"
     ]
    },
    {
     "name": "stdout",
     "output_type": "stream",
     "text": [
      " 316533 206268 639728.097   46  129 630993.000 642373.546  1.80%  76.7  734s\n"
     ]
    },
    {
     "name": "stderr",
     "output_type": "stream",
     "text": [
      "2023-04-20 19:41:42,006 - INFO -  316533 206268 639728.097   46  129 630993.000 642373.546  1.80%  76.7  734s\n"
     ]
    },
    {
     "name": "stdout",
     "output_type": "stream",
     "text": [
      " 318871 208159 634676.939   99   53 630993.000 642372.476  1.80%  76.7  740s\n"
     ]
    },
    {
     "name": "stderr",
     "output_type": "stream",
     "text": [
      "2023-04-20 19:41:48,236 - INFO -  318871 208159 634676.939   99   53 630993.000 642372.476  1.80%  76.7  740s\n"
     ]
    },
    {
     "name": "stdout",
     "output_type": "stream",
     "text": [
      " 321408 209889     cutoff   97      630993.000 642371.308  1.80%  76.8  746s\n"
     ]
    },
    {
     "name": "stderr",
     "output_type": "stream",
     "text": [
      "2023-04-20 19:41:54,575 - INFO -  321408 209889     cutoff   97      630993.000 642371.308  1.80%  76.8  746s\n"
     ]
    },
    {
     "name": "stdout",
     "output_type": "stream",
     "text": [
      " 324022 211459     cutoff   48      630993.000 642370.038  1.80%  76.8  755s\n"
     ]
    },
    {
     "name": "stderr",
     "output_type": "stream",
     "text": [
      "2023-04-20 19:42:03,108 - INFO -  324022 211459     cutoff   48      630993.000 642370.038  1.80%  76.8  755s\n"
     ]
    },
    {
     "name": "stdout",
     "output_type": "stream",
     "text": [
      " 326441 212973 640824.790   49  118 630993.000 642368.489  1.80%  76.9  761s\n"
     ]
    },
    {
     "name": "stderr",
     "output_type": "stream",
     "text": [
      "2023-04-20 19:42:09,647 - INFO -  326441 212973 640824.790   49  118 630993.000 642368.489  1.80%  76.9  761s\n"
     ]
    },
    {
     "name": "stdout",
     "output_type": "stream",
     "text": [
      " 328909 214513 638735.050   61   84 630993.000 642366.000  1.80%  77.0  771s\n"
     ]
    },
    {
     "name": "stderr",
     "output_type": "stream",
     "text": [
      "2023-04-20 19:42:19,176 - INFO -  328909 214513 638735.050   61   84 630993.000 642366.000  1.80%  77.0  771s\n"
     ]
    },
    {
     "name": "stdout",
     "output_type": "stream",
     "text": [
      " 331319 215896 639806.283   56  113 630993.000 642364.173  1.80%  77.1  776s\n"
     ]
    },
    {
     "name": "stderr",
     "output_type": "stream",
     "text": [
      "2023-04-20 19:42:24,655 - INFO -  331319 215896 639806.283   56  113 630993.000 642364.173  1.80%  77.1  776s\n"
     ]
    },
    {
     "name": "stdout",
     "output_type": "stream",
     "text": [
      " 333148 217647 638778.077   66   83 630993.000 642363.325  1.80%  77.2  783s\n"
     ]
    },
    {
     "name": "stderr",
     "output_type": "stream",
     "text": [
      "2023-04-20 19:42:31,492 - INFO -  333148 217647 638778.077   66   83 630993.000 642363.325  1.80%  77.2  783s\n"
     ]
    },
    {
     "name": "stdout",
     "output_type": "stream",
     "text": [
      " 335788 219211     cutoff   68      630993.000 642362.545  1.80%  77.2  790s\n"
     ]
    },
    {
     "name": "stderr",
     "output_type": "stream",
     "text": [
      "2023-04-20 19:42:38,466 - INFO -  335788 219211     cutoff   68      630993.000 642362.545  1.80%  77.2  790s\n"
     ]
    },
    {
     "name": "stdout",
     "output_type": "stream",
     "text": [
      " 338279 220895 641009.935   51  107 630993.000 642360.173  1.80%  77.3  801s\n"
     ]
    },
    {
     "name": "stderr",
     "output_type": "stream",
     "text": [
      "2023-04-20 19:42:49,021 - INFO -  338279 220895 641009.935   51  107 630993.000 642360.173  1.80%  77.3  801s\n"
     ]
    },
    {
     "name": "stdout",
     "output_type": "stream",
     "text": [
      " 340468 223053 633152.903   64   83 630993.000 642358.930  1.80%  77.4  808s\n"
     ]
    },
    {
     "name": "stderr",
     "output_type": "stream",
     "text": [
      "2023-04-20 19:42:56,732 - INFO -  340468 223053 633152.903   64   83 630993.000 642358.930  1.80%  77.4  808s\n"
     ]
    },
    {
     "name": "stdout",
     "output_type": "stream",
     "text": [
      " 343408 224780 638613.354   87   27 630993.000 642357.586  1.80%  77.4  815s\n"
     ]
    },
    {
     "name": "stderr",
     "output_type": "stream",
     "text": [
      "2023-04-20 19:43:03,545 - INFO -  343408 224780 638613.354   87   27 630993.000 642357.586  1.80%  77.4  815s\n"
     ]
    },
    {
     "name": "stdout",
     "output_type": "stream",
     "text": [
      " 345827 226607 632031.584   54   88 630993.000 642356.050  1.80%  77.5  822s\n"
     ]
    },
    {
     "name": "stderr",
     "output_type": "stream",
     "text": [
      "2023-04-20 19:43:10,856 - INFO -  345827 226607 632031.584   54   88 630993.000 642356.050  1.80%  77.5  822s\n"
     ]
    },
    {
     "name": "stdout",
     "output_type": "stream",
     "text": [
      " 348514 228166 641961.888   42  124 630993.000 642354.936  1.80%  77.6  832s\n"
     ]
    },
    {
     "name": "stderr",
     "output_type": "stream",
     "text": [
      "2023-04-20 19:43:20,211 - INFO -  348514 228166 641961.888   42  124 630993.000 642354.936  1.80%  77.6  832s\n"
     ]
    },
    {
     "name": "stdout",
     "output_type": "stream",
     "text": [
      " 351058 229864 642003.217   42  141 630993.000 642354.209  1.80%  77.6  839s\n"
     ]
    },
    {
     "name": "stderr",
     "output_type": "stream",
     "text": [
      "2023-04-20 19:43:27,069 - INFO -  351058 229864 642003.217   42  141 630993.000 642354.209  1.80%  77.6  839s\n"
     ]
    },
    {
     "name": "stdout",
     "output_type": "stream",
     "text": [
      " 353596 230368 631370.129   67   76 630993.000 642352.677  1.80%  77.7  853s\n"
     ]
    },
    {
     "name": "stderr",
     "output_type": "stream",
     "text": [
      "2023-04-20 19:43:41,760 - INFO -  353596 230368 631370.129   67   76 630993.000 642352.677  1.80%  77.7  853s\n"
     ]
    },
    {
     "name": "stdout",
     "output_type": "stream",
     "text": [
      " 354650 231737 635787.242   63   90 630993.000 642352.533  1.80%  77.7  862s\n"
     ]
    },
    {
     "name": "stderr",
     "output_type": "stream",
     "text": [
      "2023-04-20 19:43:50,724 - INFO -  354650 231737 635787.242   63   90 630993.000 642352.533  1.80%  77.7  862s\n"
     ]
    },
    {
     "name": "stdout",
     "output_type": "stream",
     "text": [
      "H355112 231567                    631034.00000 642351.889  1.79%  77.7  862s\n"
     ]
    },
    {
     "name": "stderr",
     "output_type": "stream",
     "text": [
      "2023-04-20 19:43:50,817 - INFO - H355112 231567                    631034.00000 642351.889  1.79%  77.7  862s\n"
     ]
    },
    {
     "name": "stdout",
     "output_type": "stream",
     "text": [
      " 357163 233033     cutoff   53      631034.000 642350.615  1.79%  77.8  872s\n"
     ]
    },
    {
     "name": "stderr",
     "output_type": "stream",
     "text": [
      "2023-04-20 19:44:00,219 - INFO -  357163 233033     cutoff   53      631034.000 642350.615  1.79%  77.8  872s\n"
     ]
    },
    {
     "name": "stdout",
     "output_type": "stream",
     "text": [
      " 359471 234547 641617.664   43  123 631034.000 642348.842  1.79%  77.8  879s\n"
     ]
    },
    {
     "name": "stderr",
     "output_type": "stream",
     "text": [
      "2023-04-20 19:44:07,322 - INFO -  359471 234547 641617.664   43  123 631034.000 642348.842  1.79%  77.8  879s\n"
     ]
    },
    {
     "name": "stdout",
     "output_type": "stream",
     "text": [
      " 361656 236241 638573.641   65   76 631034.000 642348.000  1.79%  77.9  886s\n"
     ]
    },
    {
     "name": "stderr",
     "output_type": "stream",
     "text": [
      "2023-04-20 19:44:14,702 - INFO -  361656 236241 638573.641   65   76 631034.000 642348.000  1.79%  77.9  886s\n"
     ]
    },
    {
     "name": "stdout",
     "output_type": "stream",
     "text": [
      " 364257 237851 641539.499   38   93 631034.000 642346.000  1.79%  77.9  893s\n"
     ]
    },
    {
     "name": "stderr",
     "output_type": "stream",
     "text": [
      "2023-04-20 19:44:21,459 - INFO -  364257 237851 641539.499   38   93 631034.000 642346.000  1.79%  77.9  893s\n"
     ]
    },
    {
     "name": "stdout",
     "output_type": "stream",
     "text": [
      " 366699 238939 641680.768   42   81 631034.000 642344.697  1.79%  78.0  902s\n"
     ]
    },
    {
     "name": "stderr",
     "output_type": "stream",
     "text": [
      "2023-04-20 19:44:30,315 - INFO -  366699 238939 641680.768   42   81 631034.000 642344.697  1.79%  78.0  902s\n"
     ]
    },
    {
     "name": "stdout",
     "output_type": "stream",
     "text": [
      " 368391 240432 639782.607   57  105 631034.000 642343.616  1.79%  78.0  909s\n"
     ]
    },
    {
     "name": "stderr",
     "output_type": "stream",
     "text": [
      "2023-04-20 19:44:37,758 - INFO -  368391 240432 639782.607   57  105 631034.000 642343.616  1.79%  78.0  909s\n"
     ]
    },
    {
     "name": "stdout",
     "output_type": "stream",
     "text": [
      " 370613 240433 638450.400   57   92 631034.000 642342.730  1.79%  78.1  910s\n"
     ]
    },
    {
     "name": "stderr",
     "output_type": "stream",
     "text": [
      "2023-04-20 19:44:38,071 - INFO -  370613 240433 638450.400   57   92 631034.000 642342.730  1.79%  78.1  910s\n"
     ]
    },
    {
     "name": "stdout",
     "output_type": "stream",
     "text": [
      " 370812 242170 636083.356   59  116 631034.000 642342.651  1.79%  78.1  919s\n"
     ]
    },
    {
     "name": "stderr",
     "output_type": "stream",
     "text": [
      "2023-04-20 19:44:47,024 - INFO -  370812 242170 636083.356   59  116 631034.000 642342.651  1.79%  78.1  919s\n"
     ]
    },
    {
     "name": "stdout",
     "output_type": "stream",
     "text": [
      " 373487 243614 infeasible  100      631034.000 642341.245  1.79%  78.2  925s\n"
     ]
    },
    {
     "name": "stderr",
     "output_type": "stream",
     "text": [
      "2023-04-20 19:44:53,851 - INFO -  373487 243614 infeasible  100      631034.000 642341.245  1.79%  78.2  925s\n"
     ]
    },
    {
     "name": "stdout",
     "output_type": "stream",
     "text": [
      " 375546 245113 636237.608   48  127 631034.000 642340.119  1.79%  78.3  936s\n"
     ]
    },
    {
     "name": "stderr",
     "output_type": "stream",
     "text": [
      "2023-04-20 19:45:04,413 - INFO -  375546 245113 636237.608   48  127 631034.000 642340.119  1.79%  78.3  936s\n"
     ]
    },
    {
     "name": "stdout",
     "output_type": "stream",
     "text": [
      " 377793 246567 642050.322   23   94 631034.000 642339.453  1.79%  78.4  944s\n"
     ]
    },
    {
     "name": "stderr",
     "output_type": "stream",
     "text": [
      "2023-04-20 19:45:12,205 - INFO -  377793 246567 642050.322   23   94 631034.000 642339.453  1.79%  78.4  944s\n"
     ]
    },
    {
     "name": "stdout",
     "output_type": "stream",
     "text": [
      " 379988 248294 641100.549   47  123 631034.000 642337.344  1.79%  78.5  951s\n"
     ]
    },
    {
     "name": "stderr",
     "output_type": "stream",
     "text": [
      "2023-04-20 19:45:19,049 - INFO -  379988 248294 641100.549   47  123 631034.000 642337.344  1.79%  78.5  951s\n"
     ]
    },
    {
     "name": "stdout",
     "output_type": "stream",
     "text": [
      " 382319 250108     cutoff   77      631034.000 642337.141  1.79%  78.6  959s\n"
     ]
    },
    {
     "name": "stderr",
     "output_type": "stream",
     "text": [
      "2023-04-20 19:45:27,043 - INFO -  382319 250108     cutoff   77      631034.000 642337.141  1.79%  78.6  959s\n"
     ]
    },
    {
     "name": "stdout",
     "output_type": "stream",
     "text": [
      " 384951 251723 639333.072   46  129 631034.000 642336.144  1.79%  78.6  966s\n"
     ]
    },
    {
     "name": "stderr",
     "output_type": "stream",
     "text": [
      "2023-04-20 19:45:34,732 - INFO -  384951 251723 639333.072   46  129 631034.000 642336.144  1.79%  78.6  966s\n"
     ]
    },
    {
     "name": "stdout",
     "output_type": "stream",
     "text": [
      " 387587 253453 642129.122   39  131 631034.000 642335.219  1.79%  78.7  976s\n"
     ]
    },
    {
     "name": "stderr",
     "output_type": "stream",
     "text": [
      "2023-04-20 19:45:44,540 - INFO -  387587 253453 642129.122   39  131 631034.000 642335.219  1.79%  78.7  976s\n"
     ]
    },
    {
     "name": "stdout",
     "output_type": "stream",
     "text": [
      " 389768 255018 641887.846   45  135 631034.000 642334.000  1.79%  78.8  986s\n"
     ]
    },
    {
     "name": "stderr",
     "output_type": "stream",
     "text": [
      "2023-04-20 19:45:54,057 - INFO -  389768 255018 641887.846   45  135 631034.000 642334.000  1.79%  78.8  986s\n"
     ]
    },
    {
     "name": "stdout",
     "output_type": "stream",
     "text": [
      " 391949 256955 642120.422   44   89 631034.000 642332.717  1.79%  78.9  993s\n"
     ]
    },
    {
     "name": "stderr",
     "output_type": "stream",
     "text": [
      "2023-04-20 19:46:01,893 - INFO -  391949 256955 642120.422   44   89 631034.000 642332.717  1.79%  78.9  993s\n"
     ]
    },
    {
     "name": "stdout",
     "output_type": "stream",
     "text": [
      " 394760 258464 635570.866   64   51 631034.000 642331.937  1.79%  78.9 1008s\n"
     ]
    },
    {
     "name": "stderr",
     "output_type": "stream",
     "text": [
      "2023-04-20 19:46:16,357 - INFO -  394760 258464 635570.866   64   51 631034.000 642331.937  1.79%  78.9 1008s\n"
     ]
    },
    {
     "name": "stdout",
     "output_type": "stream",
     "text": [
      " 397046 260389 641364.996   47  120 631034.000 642329.959  1.79%  78.9 1015s\n"
     ]
    },
    {
     "name": "stderr",
     "output_type": "stream",
     "text": [
      "2023-04-20 19:46:23,757 - INFO -  397046 260389 641364.996   47  120 631034.000 642329.959  1.79%  78.9 1015s\n"
     ]
    },
    {
     "name": "stdout",
     "output_type": "stream",
     "text": [
      " 399670 262389 640205.652   66   41 631034.000 642328.646  1.79%  78.9 1023s\n"
     ]
    },
    {
     "name": "stderr",
     "output_type": "stream",
     "text": [
      "2023-04-20 19:46:31,851 - INFO -  399670 262389 640205.652   66   41 631034.000 642328.646  1.79%  78.9 1023s\n"
     ]
    },
    {
     "name": "stdout",
     "output_type": "stream",
     "text": [
      " 402550 262665     cutoff   80      631034.000 642327.742  1.79%  78.9 1042s\n"
     ]
    },
    {
     "name": "stderr",
     "output_type": "stream",
     "text": [
      "2023-04-20 19:46:50,427 - INFO -  402550 262665     cutoff   80      631034.000 642327.742  1.79%  78.9 1042s\n"
     ]
    },
    {
     "name": "stdout",
     "output_type": "stream",
     "text": [
      " 402962 264160     cutoff   51      631034.000 642327.508  1.79%  78.9 1055s\n"
     ]
    },
    {
     "name": "stderr",
     "output_type": "stream",
     "text": [
      "2023-04-20 19:47:03,101 - INFO -  402962 264160     cutoff   51      631034.000 642327.508  1.79%  78.9 1055s\n"
     ]
    },
    {
     "name": "stdout",
     "output_type": "stream",
     "text": [
      " 405247 265409 641531.602   49  134 631034.000 642326.000  1.79%  79.0 1061s\n"
     ]
    },
    {
     "name": "stderr",
     "output_type": "stream",
     "text": [
      "2023-04-20 19:47:09,584 - INFO -  405247 265409 641531.602   49  134 631034.000 642326.000  1.79%  79.0 1061s\n"
     ]
    },
    {
     "name": "stdout",
     "output_type": "stream",
     "text": [
      " 407327 266882 infeasible   53      631034.000 642325.658  1.79%  79.0 1068s\n"
     ]
    },
    {
     "name": "stderr",
     "output_type": "stream",
     "text": [
      "2023-04-20 19:47:16,809 - INFO -  407327 266882 infeasible   53      631034.000 642325.658  1.79%  79.0 1068s\n"
     ]
    },
    {
     "name": "stdout",
     "output_type": "stream",
     "text": [
      " 409753 268476 641254.748   49   94 631034.000 642325.156  1.79%  79.0 1080s\n"
     ]
    },
    {
     "name": "stderr",
     "output_type": "stream",
     "text": [
      "2023-04-20 19:47:28,110 - INFO -  409753 268476 641254.748   49   94 631034.000 642325.156  1.79%  79.0 1080s\n"
     ]
    },
    {
     "name": "stdout",
     "output_type": "stream",
     "text": [
      " 412259 269929 631062.593   63   84 631034.000 642325.156  1.79%  79.1 1091s\n"
     ]
    },
    {
     "name": "stderr",
     "output_type": "stream",
     "text": [
      "2023-04-20 19:47:39,873 - INFO -  412259 269929 631062.593   63   84 631034.000 642325.156  1.79%  79.1 1091s\n"
     ]
    },
    {
     "name": "stdout",
     "output_type": "stream",
     "text": [
      " 414545 271911 635685.314   62   86 631034.000 642321.498  1.79%  79.2 1099s\n"
     ]
    },
    {
     "name": "stderr",
     "output_type": "stream",
     "text": [
      "2023-04-20 19:47:47,729 - INFO -  414545 271911 635685.314   62   86 631034.000 642321.498  1.79%  79.2 1099s\n"
     ]
    },
    {
     "name": "stdout",
     "output_type": "stream",
     "text": [
      " 417116 273641 641544.503   47  147 631034.000 642319.586  1.79%  79.2 1108s\n"
     ]
    },
    {
     "name": "stderr",
     "output_type": "stream",
     "text": [
      "2023-04-20 19:47:56,664 - INFO -  417116 273641 641544.503   47  147 631034.000 642319.586  1.79%  79.2 1108s\n"
     ]
    },
    {
     "name": "stdout",
     "output_type": "stream",
     "text": [
      " 419502 275648 636667.315   65   74 631034.000 642319.121  1.79%  79.4 1122s\n"
     ]
    },
    {
     "name": "stderr",
     "output_type": "stream",
     "text": [
      "2023-04-20 19:48:10,251 - INFO -  419502 275648 636667.315   65   74 631034.000 642319.121  1.79%  79.4 1122s\n"
     ]
    },
    {
     "name": "stdout",
     "output_type": "stream",
     "text": [
      " 422267 275650 637338.867   68   24 631034.000 642319.121  1.79%  79.4 1801s\n"
     ]
    },
    {
     "name": "stderr",
     "output_type": "stream",
     "text": [
      "2023-04-20 19:59:29,163 - INFO -  422267 275650 637338.867   68   24 631034.000 642319.121  1.79%  79.4 1801s\n"
     ]
    },
    {
     "name": "stdout",
     "output_type": "stream",
     "text": [
      " 422273 275655 642319.121   28  101 631034.000 642319.121  1.79%  79.4 1806s\n"
     ]
    },
    {
     "name": "stderr",
     "output_type": "stream",
     "text": [
      "2023-04-20 19:59:34,749 - INFO -  422273 275655 642319.121   28  101 631034.000 642319.121  1.79%  79.4 1806s\n"
     ]
    },
    {
     "name": "stdout",
     "output_type": "stream",
     "text": [
      "H422278 261872                    631573.00000 642319.121  1.70%  79.4 1809s\n"
     ]
    },
    {
     "name": "stderr",
     "output_type": "stream",
     "text": [
      "2023-04-20 19:59:37,562 - INFO - H422278 261872                    631573.00000 642319.121  1.70%  79.4 1809s\n"
     ]
    },
    {
     "name": "stdout",
     "output_type": "stream",
     "text": [
      " 422281 261875 642277.000   31   96 631573.000 642319.121  1.70%  79.4 1811s\n"
     ]
    },
    {
     "name": "stderr",
     "output_type": "stream",
     "text": [
      "2023-04-20 19:59:39,280 - INFO -  422281 261875 642277.000   31   96 631573.000 642319.121  1.70%  79.4 1811s\n"
     ]
    },
    {
     "name": "stdout",
     "output_type": "stream",
     "text": [
      " 422301 261893 641779.635   34   82 631573.000 642319.121  1.70%  79.4 1816s\n"
     ]
    },
    {
     "name": "stderr",
     "output_type": "stream",
     "text": [
      "2023-04-20 19:59:44,611 - INFO -  422301 261893 641779.635   34   82 631573.000 642319.121  1.70%  79.4 1816s\n"
     ]
    },
    {
     "name": "stdout",
     "output_type": "stream",
     "text": [
      " 422317 261907 641779.635   35   83 631573.000 642319.121  1.70%  79.4 1826s\n"
     ]
    },
    {
     "name": "stderr",
     "output_type": "stream",
     "text": [
      "2023-04-20 19:59:53,973 - INFO -  422317 261907 641779.635   35   83 631573.000 642319.121  1.70%  79.4 1826s\n"
     ]
    },
    {
     "name": "stdout",
     "output_type": "stream",
     "text": [
      " 422413 261941 641656.000   38   71 631573.000 642319.121  1.70%  79.4 1830s\n"
     ]
    },
    {
     "name": "stderr",
     "output_type": "stream",
     "text": [
      "2023-04-20 19:59:58,765 - INFO -  422413 261941 641656.000   38   71 631573.000 642319.121  1.70%  79.4 1830s\n"
     ]
    },
    {
     "name": "stdout",
     "output_type": "stream",
     "text": [
      " 422485 261986 641656.000   40  127 631573.000 642319.121  1.70%  79.5 1840s\n"
     ]
    },
    {
     "name": "stderr",
     "output_type": "stream",
     "text": [
      "2023-04-20 20:00:08,569 - INFO -  422485 261986 641656.000   40  127 631573.000 642319.121  1.70%  79.5 1840s\n"
     ]
    },
    {
     "name": "stdout",
     "output_type": "stream",
     "text": [
      " 422733 262113 641656.000   43  110 631573.000 642319.121  1.70%  79.6 1845s\n"
     ]
    },
    {
     "name": "stderr",
     "output_type": "stream",
     "text": [
      "2023-04-20 20:00:12,922 - INFO -  422733 262113 641656.000   43  110 631573.000 642319.121  1.70%  79.6 1845s\n"
     ]
    },
    {
     "name": "stdout",
     "output_type": "stream",
     "text": [
      " 423181 262271 641283.000   47   59 631573.000 642319.121  1.70%  79.6 1863s\n"
     ]
    },
    {
     "name": "stderr",
     "output_type": "stream",
     "text": [
      "2023-04-20 20:00:31,009 - INFO -  423181 262271 641283.000   47   59 631573.000 642319.121  1.70%  79.6 1863s\n"
     ]
    },
    {
     "name": "stdout",
     "output_type": "stream",
     "text": [
      " 423313 262369 641283.000   50  101 631573.000 642319.121  1.70%  79.7 1865s\n"
     ]
    },
    {
     "name": "stderr",
     "output_type": "stream",
     "text": [
      "2023-04-20 20:00:33,195 - INFO -  423313 262369 641283.000   50  101 631573.000 642319.121  1.70%  79.7 1865s\n"
     ]
    },
    {
     "name": "stdout",
     "output_type": "stream",
     "text": [
      " 424185 262430 641229.000   59   79 631573.000 642319.121  1.70%  79.9 1870s\n"
     ]
    },
    {
     "name": "stderr",
     "output_type": "stream",
     "text": [
      "2023-04-20 20:00:38,773 - INFO -  424185 262430 641229.000   59   79 631573.000 642319.121  1.70%  79.9 1870s\n"
     ]
    },
    {
     "name": "stdout",
     "output_type": "stream",
     "text": [
      " 424760 262478 641196.000   67   96 631573.000 642319.121  1.70%  80.2 1875s\n"
     ]
    },
    {
     "name": "stderr",
     "output_type": "stream",
     "text": [
      "2023-04-20 20:00:43,040 - INFO -  424760 262478 641196.000   67   96 631573.000 642319.121  1.70%  80.2 1875s\n"
     ]
    },
    {
     "name": "stdout",
     "output_type": "stream",
     "text": [
      " 425660 262554 637018.658   82  111 631573.000 642319.121  1.70%  80.5 1880s\n"
     ]
    },
    {
     "name": "stderr",
     "output_type": "stream",
     "text": [
      "2023-04-20 20:00:48,885 - INFO -  425660 262554 637018.658   82  111 631573.000 642319.121  1.70%  80.5 1880s\n"
     ]
    },
    {
     "name": "stdout",
     "output_type": "stream",
     "text": [
      " 426529 262612 636073.498   97  106 631573.000 642319.121  1.70%  80.8 1886s\n"
     ]
    },
    {
     "name": "stderr",
     "output_type": "stream",
     "text": [
      "2023-04-20 20:00:53,963 - INFO -  426529 262612 636073.498   97  106 631573.000 642319.121  1.70%  80.8 1886s\n"
     ]
    },
    {
     "name": "stdout",
     "output_type": "stream",
     "text": [
      " 427140 262647 infeasible  114      631573.000 642319.121  1.70%  81.0 1890s\n"
     ]
    },
    {
     "name": "stderr",
     "output_type": "stream",
     "text": [
      "2023-04-20 20:00:57,970 - INFO -  427140 262647 infeasible  114      631573.000 642319.121  1.70%  81.0 1890s\n"
     ]
    },
    {
     "name": "stdout",
     "output_type": "stream",
     "text": [
      " 427934 262728 641681.000   42  112 631573.000 642319.121  1.70%  81.3 1896s\n"
     ]
    },
    {
     "name": "stderr",
     "output_type": "stream",
     "text": [
      "2023-04-20 20:01:04,930 - INFO -  427934 262728 641681.000   42  112 631573.000 642319.121  1.70%  81.3 1896s\n"
     ]
    },
    {
     "name": "stdout",
     "output_type": "stream",
     "text": [
      " 428648 262808 639807.000   55  110 631573.000 642319.121  1.70%  81.6 1902s\n"
     ]
    },
    {
     "name": "stderr",
     "output_type": "stream",
     "text": [
      "2023-04-20 20:01:10,246 - INFO -  428648 262808 639807.000   55  110 631573.000 642319.121  1.70%  81.6 1902s\n"
     ]
    },
    {
     "name": "stdout",
     "output_type": "stream",
     "text": [
      " 429048 262845 638860.659   62   96 631573.000 642319.121  1.70%  81.7 1905s\n"
     ]
    },
    {
     "name": "stderr",
     "output_type": "stream",
     "text": [
      "2023-04-20 20:01:13,027 - INFO -  429048 262845 638860.659   62   96 631573.000 642319.121  1.70%  81.7 1905s\n"
     ]
    },
    {
     "name": "stdout",
     "output_type": "stream",
     "text": [
      " 429904 262852 637725.000   86  102 631573.000 642319.121  1.70%  82.0 1910s\n"
     ]
    },
    {
     "name": "stderr",
     "output_type": "stream",
     "text": [
      "2023-04-20 20:01:18,714 - INFO -  429904 262852 637725.000   86  102 631573.000 642319.121  1.70%  82.0 1910s\n"
     ]
    },
    {
     "name": "stdout",
     "output_type": "stream",
     "text": [
      " 430759 262849 642319.121   53  128 631573.000 642319.121  1.70%  82.3 1926s\n"
     ]
    },
    {
     "name": "stderr",
     "output_type": "stream",
     "text": [
      "2023-04-20 20:01:33,970 - INFO -  430759 262849 642319.121   53  128 631573.000 642319.121  1.70%  82.3 1926s\n"
     ]
    },
    {
     "name": "stdout",
     "output_type": "stream",
     "text": [
      " 431019 262978 642306.000   57  125 631573.000 642319.121  1.70%  82.4 1930s\n"
     ]
    },
    {
     "name": "stderr",
     "output_type": "stream",
     "text": [
      "2023-04-20 20:01:38,423 - INFO -  431019 262978 642306.000   57  125 631573.000 642319.121  1.70%  82.4 1930s\n"
     ]
    },
    {
     "name": "stdout",
     "output_type": "stream",
     "text": [
      " 432044 263085 640308.000   86  130 631573.000 642319.121  1.70%  82.7 1937s\n"
     ]
    },
    {
     "name": "stderr",
     "output_type": "stream",
     "text": [
      "2023-04-20 20:01:45,806 - INFO -  432044 263085 640308.000   86  130 631573.000 642319.121  1.70%  82.7 1937s\n"
     ]
    },
    {
     "name": "stdout",
     "output_type": "stream",
     "text": [
      " 432598 263170 635138.000  107  109 631573.000 642319.121  1.70%  82.9 1941s\n"
     ]
    },
    {
     "name": "stderr",
     "output_type": "stream",
     "text": [
      "2023-04-20 20:01:49,763 - INFO -  432598 263170 635138.000  107  109 631573.000 642319.121  1.70%  82.9 1941s\n"
     ]
    },
    {
     "name": "stdout",
     "output_type": "stream",
     "text": [
      " 433216 263243 642319.121   41  118 631573.000 642319.121  1.70%  83.0 1946s\n"
     ]
    },
    {
     "name": "stderr",
     "output_type": "stream",
     "text": [
      "2023-04-20 20:01:54,294 - INFO -  433216 263243 642319.121   41  118 631573.000 642319.121  1.70%  83.0 1946s\n"
     ]
    },
    {
     "name": "stdout",
     "output_type": "stream",
     "text": [
      " 433905 263363 641805.000   57  109 631573.000 642319.121  1.70%  83.2 1951s\n"
     ]
    },
    {
     "name": "stderr",
     "output_type": "stream",
     "text": [
      "2023-04-20 20:01:58,939 - INFO -  433905 263363 641805.000   57  109 631573.000 642319.121  1.70%  83.2 1951s\n"
     ]
    },
    {
     "name": "stdout",
     "output_type": "stream",
     "text": [
      " 434683 263401 641072.000   89  107 631573.000 642319.121  1.70%  83.3 1958s\n"
     ]
    },
    {
     "name": "stderr",
     "output_type": "stream",
     "text": [
      "2023-04-20 20:02:06,582 - INFO -  434683 263401 641072.000   89  107 631573.000 642319.121  1.70%  83.3 1958s\n"
     ]
    },
    {
     "name": "stdout",
     "output_type": "stream",
     "text": [
      " 435492 263306 642319.121   43  130 631573.000 642319.121  1.70%  83.5 1993s\n"
     ]
    },
    {
     "name": "stderr",
     "output_type": "stream",
     "text": [
      "2023-04-20 20:02:41,100 - INFO -  435492 263306 642319.121   43  130 631573.000 642319.121  1.70%  83.5 1993s\n"
     ]
    },
    {
     "name": "stdout",
     "output_type": "stream",
     "text": [
      "H435605 250161                    631972.00000 642319.121  1.64%  83.5 1993s\n"
     ]
    },
    {
     "name": "stderr",
     "output_type": "stream",
     "text": [
      "2023-04-20 20:02:41,256 - INFO - H435605 250161                    631972.00000 642319.121  1.64%  83.5 1993s\n"
     ]
    },
    {
     "name": "stdout",
     "output_type": "stream",
     "text": [
      " 435898 250377 642039.000   55  134 631972.000 642319.121  1.64%  83.6 1998s\n"
     ]
    },
    {
     "name": "stderr",
     "output_type": "stream",
     "text": [
      "2023-04-20 20:02:46,698 - INFO -  435898 250377 642039.000   55  134 631972.000 642319.121  1.64%  83.6 1998s\n"
     ]
    },
    {
     "name": "stdout",
     "output_type": "stream",
     "text": [
      " 436625 250496 641597.000   81  135 631972.000 642319.121  1.64%  83.8 2004s\n"
     ]
    },
    {
     "name": "stderr",
     "output_type": "stream",
     "text": [
      "2023-04-20 20:02:52,375 - INFO -  436625 250496 641597.000   81  135 631972.000 642319.121  1.64%  83.8 2004s\n"
     ]
    },
    {
     "name": "stdout",
     "output_type": "stream",
     "text": [
      " 437453 250591 640943.000  116  122 631972.000 642319.121  1.64%  84.0 2010s\n"
     ]
    },
    {
     "name": "stderr",
     "output_type": "stream",
     "text": [
      "2023-04-20 20:02:58,279 - INFO -  437453 250591 640943.000  116  122 631972.000 642319.121  1.64%  84.0 2010s\n"
     ]
    },
    {
     "name": "stdout",
     "output_type": "stream",
     "text": [
      " 438386 250647 642319.121   58  103 631972.000 642319.121  1.64%  84.1 2015s\n"
     ]
    },
    {
     "name": "stderr",
     "output_type": "stream",
     "text": [
      "2023-04-20 20:03:03,559 - INFO -  438386 250647 642319.121   58  103 631972.000 642319.121  1.64%  84.1 2015s\n"
     ]
    },
    {
     "name": "stdout",
     "output_type": "stream",
     "text": [
      " 439194 250664 634856.000   85  109 631972.000 642319.121  1.64%  84.3 2020s\n"
     ]
    },
    {
     "name": "stderr",
     "output_type": "stream",
     "text": [
      "2023-04-20 20:03:08,648 - INFO -  439194 250664 634856.000   85  109 631972.000 642319.121  1.64%  84.3 2020s\n"
     ]
    },
    {
     "name": "stdout",
     "output_type": "stream",
     "text": [
      " 440002 250732 642319.121   46  128 631972.000 642319.121  1.64%  84.6 2025s\n"
     ]
    },
    {
     "name": "stderr",
     "output_type": "stream",
     "text": [
      "2023-04-20 20:03:13,601 - INFO -  440002 250732 642319.121   46  128 631972.000 642319.121  1.64%  84.6 2025s\n"
     ]
    },
    {
     "name": "stdout",
     "output_type": "stream",
     "text": [
      " 440776 250532 641925.253   76  123 631972.000 642319.121  1.64%  84.8 2045s\n"
     ]
    },
    {
     "name": "stderr",
     "output_type": "stream",
     "text": [
      "2023-04-20 20:03:33,084 - INFO -  440776 250532 641925.253   76  123 631972.000 642319.121  1.64%  84.8 2045s\n"
     ]
    },
    {
     "name": "stdout",
     "output_type": "stream",
     "text": [
      " 440918 250851 641925.000   77  122 631972.000 642319.121  1.64%  84.8 2051s\n"
     ]
    },
    {
     "name": "stderr",
     "output_type": "stream",
     "text": [
      "2023-04-20 20:03:39,701 - INFO -  440918 250851 641925.000   77  122 631972.000 642319.121  1.64%  84.8 2051s\n"
     ]
    },
    {
     "name": "stdout",
     "output_type": "stream",
     "text": [
      " 441812 250938 639867.000  122   97 631972.000 642319.121  1.64%  85.1 2058s\n"
     ]
    },
    {
     "name": "stderr",
     "output_type": "stream",
     "text": [
      "2023-04-20 20:03:46,223 - INFO -  441812 250938 639867.000  122   97 631972.000 642319.121  1.64%  85.1 2058s\n"
     ]
    },
    {
     "name": "stdout",
     "output_type": "stream",
     "text": [
      " 442749 251078 641790.000   68  141 631972.000 642319.121  1.64%  85.4 2066s\n"
     ]
    },
    {
     "name": "stderr",
     "output_type": "stream",
     "text": [
      "2023-04-20 20:03:54,120 - INFO -  442749 251078 641790.000   68  141 631972.000 642319.121  1.64%  85.4 2066s\n"
     ]
    },
    {
     "name": "stdout",
     "output_type": "stream",
     "text": [
      " 443786 251087 641648.000   59  121 631972.000 642319.121  1.64%  85.7 2072s\n"
     ]
    },
    {
     "name": "stderr",
     "output_type": "stream",
     "text": [
      "2023-04-20 20:04:00,702 - INFO -  443786 251087 641648.000   59  121 631972.000 642319.121  1.64%  85.7 2072s\n"
     ]
    },
    {
     "name": "stdout",
     "output_type": "stream",
     "text": [
      " 444745 251078 638595.000   95  121 631972.000 642319.121  1.64%  86.0 2079s\n"
     ]
    },
    {
     "name": "stderr",
     "output_type": "stream",
     "text": [
      "2023-04-20 20:04:07,586 - INFO -  444745 251078 638595.000   95  121 631972.000 642319.121  1.64%  86.0 2079s\n"
     ]
    },
    {
     "name": "stdout",
     "output_type": "stream",
     "text": [
      " 445637 250935 642296.727   68  137 631972.000 642319.121  1.64%  86.4 2100s\n"
     ]
    },
    {
     "name": "stderr",
     "output_type": "stream",
     "text": [
      "2023-04-20 20:04:28,436 - INFO -  445637 250935 642296.727   68  137 631972.000 642319.121  1.64%  86.4 2100s\n"
     ]
    },
    {
     "name": "stdout",
     "output_type": "stream",
     "text": [
      " 446125 251288 641840.000   75  115 631972.000 642319.121  1.64%  86.6 2110s\n"
     ]
    },
    {
     "name": "stderr",
     "output_type": "stream",
     "text": [
      "2023-04-20 20:04:38,080 - INFO -  446125 251288 641840.000   75  115 631972.000 642319.121  1.64%  86.6 2110s\n"
     ]
    },
    {
     "name": "stdout",
     "output_type": "stream",
     "text": [
      " 447425 251454 641030.000  121   50 631972.000 642319.121  1.64%  86.9 2120s\n"
     ]
    },
    {
     "name": "stderr",
     "output_type": "stream",
     "text": [
      "2023-04-20 20:04:48,018 - INFO -  447425 251454 641030.000  121   50 631972.000 642319.121  1.64%  86.9 2120s\n"
     ]
    },
    {
     "name": "stdout",
     "output_type": "stream",
     "text": [
      " 448971 251548     cutoff  163      631972.000 642308.000  1.64%  87.2 2128s\n"
     ]
    },
    {
     "name": "stderr",
     "output_type": "stream",
     "text": [
      "2023-04-20 20:04:56,449 - INFO -  448971 251548     cutoff  163      631972.000 642308.000  1.64%  87.2 2128s\n"
     ]
    },
    {
     "name": "stdout",
     "output_type": "stream",
     "text": [
      " 450362 251498 636206.705  101  116 631972.000 642307.000  1.64%  87.5 2137s\n"
     ]
    },
    {
     "name": "stderr",
     "output_type": "stream",
     "text": [
      "2023-04-20 20:05:05,329 - INFO -  450362 251498 636206.705  101  116 631972.000 642307.000  1.64%  87.5 2137s\n"
     ]
    },
    {
     "name": "stdout",
     "output_type": "stream",
     "text": [
      " 451619 251567 633139.730   82  118 631972.000 642297.000  1.63%  88.0 2150s\n"
     ]
    },
    {
     "name": "stderr",
     "output_type": "stream",
     "text": [
      "2023-04-20 20:05:18,412 - INFO -  451619 251567 633139.730   82  118 631972.000 642297.000  1.63%  88.0 2150s\n"
     ]
    },
    {
     "name": "stdout",
     "output_type": "stream",
     "text": [
      " 452983 251947 639296.000   97  107 631972.000 642297.000  1.63%  88.5 2161s\n"
     ]
    },
    {
     "name": "stderr",
     "output_type": "stream",
     "text": [
      "2023-04-20 20:05:29,678 - INFO -  452983 251947 639296.000   97  107 631972.000 642297.000  1.63%  88.5 2161s\n"
     ]
    },
    {
     "name": "stdout",
     "output_type": "stream",
     "text": [
      " 455044 251955 639127.000   83  102 631972.000 642284.000  1.63%  88.9 2172s\n"
     ]
    },
    {
     "name": "stderr",
     "output_type": "stream",
     "text": [
      "2023-04-20 20:05:40,531 - INFO -  455044 251955 639127.000   83  102 631972.000 642284.000  1.63%  88.9 2172s\n"
     ]
    },
    {
     "name": "stdout",
     "output_type": "stream",
     "text": [
      " 456757 252213 640889.000   85  115 631972.000 642276.000  1.63%  89.2 2186s\n"
     ]
    },
    {
     "name": "stderr",
     "output_type": "stream",
     "text": [
      "2023-04-20 20:05:53,960 - INFO -  456757 252213 640889.000   85  115 631972.000 642276.000  1.63%  89.2 2186s\n"
     ]
    },
    {
     "name": "stdout",
     "output_type": "stream",
     "text": [
      " 458870 252254 638826.853   96   71 631972.000 642263.000  1.63%  89.6 2198s\n"
     ]
    },
    {
     "name": "stderr",
     "output_type": "stream",
     "text": [
      "2023-04-20 20:06:06,503 - INFO -  458870 252254 638826.853   96   71 631972.000 642263.000  1.63%  89.6 2198s\n"
     ]
    },
    {
     "name": "stdout",
     "output_type": "stream",
     "text": [
      " 460782 252368 639732.056   99   88 631972.000 642256.000  1.63%  90.1 2216s\n"
     ]
    },
    {
     "name": "stderr",
     "output_type": "stream",
     "text": [
      "2023-04-20 20:06:24,601 - INFO -  460782 252368 639732.056   99   88 631972.000 642256.000  1.63%  90.1 2216s\n"
     ]
    },
    {
     "name": "stdout",
     "output_type": "stream",
     "text": [
      " 462775 252403 641028.000   85   88 631972.000 642252.000  1.63%  90.6 2233s\n"
     ]
    },
    {
     "name": "stderr",
     "output_type": "stream",
     "text": [
      "2023-04-20 20:06:41,883 - INFO -  462775 252403 641028.000   85   88 631972.000 642252.000  1.63%  90.6 2233s\n"
     ]
    },
    {
     "name": "stdout",
     "output_type": "stream",
     "text": [
      " 464704 252582 642189.000   52  125 631972.000 642250.000  1.63%  91.1 2247s\n"
     ]
    },
    {
     "name": "stderr",
     "output_type": "stream",
     "text": [
      "2023-04-20 20:06:55,430 - INFO -  464704 252582 642189.000   52  125 631972.000 642250.000  1.63%  91.1 2247s\n"
     ]
    },
    {
     "name": "stdout",
     "output_type": "stream",
     "text": [
      " 466834 252856 642196.000   61  104 631972.000 642239.000  1.62%  91.7 2265s\n"
     ]
    },
    {
     "name": "stderr",
     "output_type": "stream",
     "text": [
      "2023-04-20 20:07:13,294 - INFO -  466834 252856 642196.000   61  104 631972.000 642239.000  1.62%  91.7 2265s\n"
     ]
    },
    {
     "name": "stdout",
     "output_type": "stream",
     "text": [
      " 469283 252824 639886.000   89   34 631972.000 642236.000  1.62%  92.1 2280s\n"
     ]
    },
    {
     "name": "stderr",
     "output_type": "stream",
     "text": [
      "2023-04-20 20:07:28,630 - INFO -  469283 252824 639886.000   89   34 631972.000 642236.000  1.62%  92.1 2280s\n"
     ]
    },
    {
     "name": "stdout",
     "output_type": "stream",
     "text": [
      " 471369 252447 infeasible  127      631972.000 642220.000  1.62%  92.7 2315s\n"
     ]
    },
    {
     "name": "stderr",
     "output_type": "stream",
     "text": [
      "2023-04-20 20:08:03,633 - INFO -  471369 252447 infeasible  127      631972.000 642220.000  1.62%  92.7 2315s\n"
     ]
    },
    {
     "name": "stdout",
     "output_type": "stream",
     "text": [
      " 472362 253073 641509.943   81  135 631972.000 642219.000  1.62%  93.0 2335s\n"
     ]
    },
    {
     "name": "stderr",
     "output_type": "stream",
     "text": [
      "2023-04-20 20:08:23,583 - INFO -  472362 253073 641509.943   81  135 631972.000 642219.000  1.62%  93.0 2335s\n"
     ]
    },
    {
     "name": "stdout",
     "output_type": "stream",
     "text": [
      " 474927 253019 642063.000   63  107 631972.000 642212.000  1.62%  93.6 2352s\n"
     ]
    },
    {
     "name": "stderr",
     "output_type": "stream",
     "text": [
      "2023-04-20 20:08:40,902 - INFO -  474927 253019 642063.000   63  107 631972.000 642212.000  1.62%  93.6 2352s\n"
     ]
    },
    {
     "name": "stdout",
     "output_type": "stream",
     "text": [
      " 476845 253303 639704.676  129   45 631972.000 642206.000  1.62%  93.9 2372s\n"
     ]
    },
    {
     "name": "stderr",
     "output_type": "stream",
     "text": [
      "2023-04-20 20:08:59,979 - INFO -  476845 253303 639704.676  129   45 631972.000 642206.000  1.62%  93.9 2372s\n"
     ]
    },
    {
     "name": "stdout",
     "output_type": "stream",
     "text": [
      " 479510 253436 infeasible  165      631972.000 642200.000  1.62%  94.7 2394s\n"
     ]
    },
    {
     "name": "stderr",
     "output_type": "stream",
     "text": [
      "2023-04-20 20:09:22,816 - INFO -  479510 253436 infeasible  165      631972.000 642200.000  1.62%  94.7 2394s\n"
     ]
    },
    {
     "name": "stdout",
     "output_type": "stream",
     "text": [
      " 482312 253718 642018.000   57  124 631972.000 642193.000  1.62%  95.3 2418s\n"
     ]
    },
    {
     "name": "stderr",
     "output_type": "stream",
     "text": [
      "2023-04-20 20:09:46,706 - INFO -  482312 253718 642018.000   57  124 631972.000 642193.000  1.62%  95.3 2418s\n"
     ]
    },
    {
     "name": "stdout",
     "output_type": "stream",
     "text": [
      " 485661 253226 636525.846   87  137 631972.000 642181.000  1.62%  96.0 2444s\n"
     ]
    },
    {
     "name": "stderr",
     "output_type": "stream",
     "text": [
      "2023-04-20 20:10:12,334 - INFO -  485661 253226 636525.846   87  137 631972.000 642181.000  1.62%  96.0 2444s\n"
     ]
    },
    {
     "name": "stdout",
     "output_type": "stream",
     "text": [
      " 487818 253480 640866.223   96   92 631972.000 642170.843  1.61%  96.7 2465s\n"
     ]
    },
    {
     "name": "stderr",
     "output_type": "stream",
     "text": [
      "2023-04-20 20:10:33,081 - INFO -  487818 253480 640866.223   96   92 631972.000 642170.843  1.61%  96.7 2465s\n"
     ]
    },
    {
     "name": "stdout",
     "output_type": "stream",
     "text": [
      " 490953 253109 infeasible  198      631972.000 642165.000  1.61%  97.5 2491s\n"
     ]
    },
    {
     "name": "stderr",
     "output_type": "stream",
     "text": [
      "2023-04-20 20:10:59,652 - INFO -  490953 253109 infeasible  198      631972.000 642165.000  1.61%  97.5 2491s\n"
     ]
    },
    {
     "name": "stdout",
     "output_type": "stream",
     "text": [
      " 492704 253804 641036.000   78  114 631972.000 642160.000  1.61%  97.9 2511s\n"
     ]
    },
    {
     "name": "stderr",
     "output_type": "stream",
     "text": [
      "2023-04-20 20:11:19,651 - INFO -  492704 253804 641036.000   78  114 631972.000 642160.000  1.61%  97.9 2511s\n"
     ]
    },
    {
     "name": "stdout",
     "output_type": "stream",
     "text": [
      " 495884 253723 infeasible  159      631972.000 642159.000  1.61%  98.5 2531s\n"
     ]
    },
    {
     "name": "stderr",
     "output_type": "stream",
     "text": [
      "2023-04-20 20:11:39,465 - INFO -  495884 253723 infeasible  159      631972.000 642159.000  1.61%  98.5 2531s\n"
     ]
    },
    {
     "name": "stdout",
     "output_type": "stream",
     "text": [
      " 498705 254042 639602.000  114   87 631972.000 642148.000  1.61%  99.3 2552s\n"
     ]
    },
    {
     "name": "stderr",
     "output_type": "stream",
     "text": [
      "2023-04-20 20:12:00,895 - INFO -  498705 254042 639602.000  114   87 631972.000 642148.000  1.61%  99.3 2552s\n"
     ]
    },
    {
     "name": "stdout",
     "output_type": "stream",
     "text": [
      " 501926 254249 639557.000  105  118 631972.000 642143.000  1.61%   100 2576s\n"
     ]
    },
    {
     "name": "stderr",
     "output_type": "stream",
     "text": [
      "2023-04-20 20:12:24,491 - INFO -  501926 254249 639557.000  105  118 631972.000 642143.000  1.61%   100 2576s\n"
     ]
    },
    {
     "name": "stdout",
     "output_type": "stream",
     "text": [
      " 505083 254216 637695.520   91  108 631972.000 642133.000  1.61%   100 2599s\n"
     ]
    },
    {
     "name": "stderr",
     "output_type": "stream",
     "text": [
      "2023-04-20 20:12:47,444 - INFO -  505083 254216 637695.520   91  108 631972.000 642133.000  1.61%   100 2599s\n"
     ]
    },
    {
     "name": "stdout",
     "output_type": "stream",
     "text": [
      " 507973 254100 636584.877  116   97 631972.000 642132.000  1.61%   101 2622s\n"
     ]
    },
    {
     "name": "stderr",
     "output_type": "stream",
     "text": [
      "2023-04-20 20:13:10,871 - INFO -  507973 254100 636584.877  116   97 631972.000 642132.000  1.61%   101 2622s\n"
     ]
    },
    {
     "name": "stdout",
     "output_type": "stream",
     "text": [
      " 510695 254334 637221.000   88  105 631972.000 642128.000  1.61%   102 2653s\n"
     ]
    },
    {
     "name": "stderr",
     "output_type": "stream",
     "text": [
      "2023-04-20 20:13:41,506 - INFO -  510695 254334 637221.000   88  105 631972.000 642128.000  1.61%   102 2653s\n"
     ]
    },
    {
     "name": "stdout",
     "output_type": "stream",
     "text": [
      " 513778 254561 640349.000  124   55 631972.000 642122.000  1.61%   103 2687s\n"
     ]
    },
    {
     "name": "stderr",
     "output_type": "stream",
     "text": [
      "2023-04-20 20:14:15,885 - INFO -  513778 254561 640349.000  124   55 631972.000 642122.000  1.61%   103 2687s\n"
     ]
    },
    {
     "name": "stdout",
     "output_type": "stream",
     "text": [
      "H514946 241472                    632404.00000 642117.000  1.54%   103 2688s\n"
     ]
    },
    {
     "name": "stderr",
     "output_type": "stream",
     "text": [
      "2023-04-20 20:14:16,229 - INFO - H514946 241472                    632404.00000 642117.000  1.54%   103 2688s\n"
     ]
    },
    {
     "name": "stdout",
     "output_type": "stream",
     "text": [
      " 517127 241493 638641.000  122   63 632404.000 642115.000  1.54%   103 2715s\n"
     ]
    },
    {
     "name": "stderr",
     "output_type": "stream",
     "text": [
      "2023-04-20 20:14:43,909 - INFO -  517127 241493 638641.000  122   63 632404.000 642115.000  1.54%   103 2715s\n"
     ]
    },
    {
     "name": "stdout",
     "output_type": "stream",
     "text": [
      " 519369 241759 infeasible   91      632404.000 642112.000  1.54%   104 2744s\n"
     ]
    },
    {
     "name": "stderr",
     "output_type": "stream",
     "text": [
      "2023-04-20 20:15:12,457 - INFO -  519369 241759 infeasible   91      632404.000 642112.000  1.54%   104 2744s\n"
     ]
    },
    {
     "name": "stdout",
     "output_type": "stream",
     "text": [
      " 522408 241762 638241.460  104   91 632404.000 642107.000  1.53%   104 2787s\n"
     ]
    },
    {
     "name": "stderr",
     "output_type": "stream",
     "text": [
      "2023-04-20 20:15:55,297 - INFO -  522408 241762 638241.460  104   91 632404.000 642107.000  1.53%   104 2787s\n"
     ]
    },
    {
     "name": "stdout",
     "output_type": "stream",
     "text": [
      " 525296 242280 640753.000   65  140 632404.000 642106.000  1.53%   105 2822s\n"
     ]
    },
    {
     "name": "stderr",
     "output_type": "stream",
     "text": [
      "2023-04-20 20:16:30,105 - INFO -  525296 242280 640753.000   65  140 632404.000 642106.000  1.53%   105 2822s\n"
     ]
    },
    {
     "name": "stdout",
     "output_type": "stream",
     "text": [
      " 529277 242283 641754.000   58  114 632404.000 642100.000  1.53%   105 2848s\n"
     ]
    },
    {
     "name": "stderr",
     "output_type": "stream",
     "text": [
      "2023-04-20 20:16:55,968 - INFO -  529277 242283 641754.000   58  114 632404.000 642100.000  1.53%   105 2848s\n"
     ]
    },
    {
     "name": "stdout",
     "output_type": "stream",
     "text": [
      " 532546 242595 640722.391   67  107 632404.000 642096.000  1.53%   106 2870s\n"
     ]
    },
    {
     "name": "stderr",
     "output_type": "stream",
     "text": [
      "2023-04-20 20:17:18,279 - INFO -  532546 242595 640722.391   67  107 632404.000 642096.000  1.53%   106 2870s\n"
     ]
    },
    {
     "name": "stdout",
     "output_type": "stream",
     "text": [
      " 535905 242447 640747.000   92  118 632404.000 642094.000  1.53%   106 2892s\n"
     ]
    },
    {
     "name": "stderr",
     "output_type": "stream",
     "text": [
      "2023-04-20 20:17:40,473 - INFO -  535905 242447 640747.000   92  118 632404.000 642094.000  1.53%   106 2892s\n"
     ]
    },
    {
     "name": "stdout",
     "output_type": "stream",
     "text": [
      " 538781 242691 641436.000   77   92 632404.000 642087.000  1.53%   107 2917s\n"
     ]
    },
    {
     "name": "stderr",
     "output_type": "stream",
     "text": [
      "2023-04-20 20:18:05,662 - INFO -  538781 242691 641436.000   77   92 632404.000 642087.000  1.53%   107 2917s\n"
     ]
    },
    {
     "name": "stdout",
     "output_type": "stream",
     "text": [
      " 542017 242194 633802.000   73   46 632404.000 642083.000  1.53%   107 2949s\n"
     ]
    },
    {
     "name": "stderr",
     "output_type": "stream",
     "text": [
      "2023-04-20 20:18:37,575 - INFO -  542017 242194 633802.000   73   46 632404.000 642083.000  1.53%   107 2949s\n"
     ]
    },
    {
     "name": "stdout",
     "output_type": "stream",
     "text": [
      " 543698 242877 641736.863   61  125 632404.000 642082.103  1.53%   108 2974s\n"
     ]
    },
    {
     "name": "stderr",
     "output_type": "stream",
     "text": [
      "2023-04-20 20:19:02,303 - INFO -  543698 242877 641736.863   61  125 632404.000 642082.103  1.53%   108 2974s\n"
     ]
    },
    {
     "name": "stdout",
     "output_type": "stream",
     "text": [
      " 546795 242701 637442.000  118   74 632404.000 642075.000  1.53%   108 2995s\n"
     ]
    },
    {
     "name": "stderr",
     "output_type": "stream",
     "text": [
      "2023-04-20 20:19:23,366 - INFO -  546795 242701 637442.000  118   74 632404.000 642075.000  1.53%   108 2995s\n"
     ]
    },
    {
     "name": "stdout",
     "output_type": "stream",
     "text": [
      " 549404 242881 642031.000   48  117 632404.000 642071.000  1.53%   109 3018s\n"
     ]
    },
    {
     "name": "stderr",
     "output_type": "stream",
     "text": [
      "2023-04-20 20:19:46,275 - INFO -  549404 242881 642031.000   48  117 632404.000 642071.000  1.53%   109 3018s\n"
     ]
    },
    {
     "name": "stdout",
     "output_type": "stream",
     "text": [
      " 552310 243299 641552.000   74  125 632404.000 642070.000  1.53%   110 3046s\n"
     ]
    },
    {
     "name": "stderr",
     "output_type": "stream",
     "text": [
      "2023-04-20 20:20:14,844 - INFO -  552310 243299 641552.000   74  125 632404.000 642070.000  1.53%   110 3046s\n"
     ]
    },
    {
     "name": "stdout",
     "output_type": "stream",
     "text": [
      " 555882 243286 636676.000  118   79 632404.000 642065.000  1.53%   110 3066s\n"
     ]
    },
    {
     "name": "stderr",
     "output_type": "stream",
     "text": [
      "2023-04-20 20:20:34,372 - INFO -  555882 243286 636676.000  118   79 632404.000 642065.000  1.53%   110 3066s\n"
     ]
    },
    {
     "name": "stdout",
     "output_type": "stream",
     "text": [
      " 558909 243583 640651.400   78  150 632404.000 642059.000  1.53%   111 3089s\n"
     ]
    },
    {
     "name": "stderr",
     "output_type": "stream",
     "text": [
      "2023-04-20 20:20:57,469 - INFO -  558909 243583 640651.400   78  150 632404.000 642059.000  1.53%   111 3089s\n"
     ]
    },
    {
     "name": "stdout",
     "output_type": "stream",
     "text": [
      " 562369 243296 infeasible  141      632404.000 642056.000  1.53%   111 3124s\n"
     ]
    },
    {
     "name": "stderr",
     "output_type": "stream",
     "text": [
      "2023-04-20 20:21:32,156 - INFO -  562369 243296 infeasible  141      632404.000 642056.000  1.53%   111 3124s\n"
     ]
    },
    {
     "name": "stdout",
     "output_type": "stream",
     "text": [
      " 564984 243802 634934.000   69   96 632404.000 642053.000  1.53%   112 3146s\n"
     ]
    },
    {
     "name": "stderr",
     "output_type": "stream",
     "text": [
      "2023-04-20 20:21:54,246 - INFO -  564984 243802 634934.000   69   96 632404.000 642053.000  1.53%   112 3146s\n"
     ]
    },
    {
     "name": "stdout",
     "output_type": "stream",
     "text": [
      " 568511 243481 641245.000   79   98 632404.000 642050.000  1.53%   112 3177s\n"
     ]
    },
    {
     "name": "stderr",
     "output_type": "stream",
     "text": [
      "2023-04-20 20:22:25,630 - INFO -  568511 243481 641245.000   79   98 632404.000 642050.000  1.53%   112 3177s\n"
     ]
    },
    {
     "name": "stdout",
     "output_type": "stream",
     "text": [
      " 570798 243930 641242.000   75  107 632404.000 642050.000  1.53%   112 3200s\n"
     ]
    },
    {
     "name": "stderr",
     "output_type": "stream",
     "text": [
      "2023-04-20 20:22:48,522 - INFO -  570798 243930 641242.000   75  107 632404.000 642050.000  1.53%   112 3200s\n"
     ]
    },
    {
     "name": "stdout",
     "output_type": "stream",
     "text": [
      " 574152 243491 634204.000  129   31 632404.000 642044.000  1.52%   113 3218s\n"
     ]
    },
    {
     "name": "stderr",
     "output_type": "stream",
     "text": [
      "2023-04-20 20:23:06,343 - INFO -  574152 243491 634204.000  129   31 632404.000 642044.000  1.52%   113 3218s\n"
     ]
    },
    {
     "name": "stdout",
     "output_type": "stream",
     "text": [
      " 576354 243930 634826.118   67   99 632404.000 642041.000  1.52%   114 3238s\n"
     ]
    },
    {
     "name": "stderr",
     "output_type": "stream",
     "text": [
      "2023-04-20 20:23:26,554 - INFO -  576354 243930 634826.118   67   99 632404.000 642041.000  1.52%   114 3238s\n"
     ]
    },
    {
     "name": "stdout",
     "output_type": "stream",
     "text": [
      " 579563 244422 638508.805  126   41 632404.000 642039.000  1.52%   114 3263s\n"
     ]
    },
    {
     "name": "stderr",
     "output_type": "stream",
     "text": [
      "2023-04-20 20:23:50,944 - INFO -  579563 244422 638508.805  126   41 632404.000 642039.000  1.52%   114 3263s\n"
     ]
    },
    {
     "name": "stdout",
     "output_type": "stream",
     "text": [
      " 583400 244510 640692.078   81  135 632404.000 642034.000  1.52%   115 3286s\n"
     ]
    },
    {
     "name": "stderr",
     "output_type": "stream",
     "text": [
      "2023-04-20 20:24:14,152 - INFO -  583400 244510 640692.078   81  135 632404.000 642034.000  1.52%   115 3286s\n"
     ]
    },
    {
     "name": "stdout",
     "output_type": "stream",
     "text": [
      " 586927 244779 641568.000   71   84 632404.000 642030.000  1.52%   115 3310s\n"
     ]
    },
    {
     "name": "stderr",
     "output_type": "stream",
     "text": [
      "2023-04-20 20:24:38,458 - INFO -  586927 244779 641568.000   71   84 632404.000 642030.000  1.52%   115 3310s\n"
     ]
    },
    {
     "name": "stdout",
     "output_type": "stream",
     "text": [
      " 590723 244783 infeasible   94      632404.000 642026.000  1.52%   116 3334s\n"
     ]
    },
    {
     "name": "stderr",
     "output_type": "stream",
     "text": [
      "2023-04-20 20:25:02,700 - INFO -  590723 244783 infeasible   94      632404.000 642026.000  1.52%   116 3334s\n"
     ]
    },
    {
     "name": "stdout",
     "output_type": "stream",
     "text": [
      "H590725 232628                    632695.00000 642026.000  1.47%   116 3334s\n"
     ]
    },
    {
     "name": "stderr",
     "output_type": "stream",
     "text": [
      "2023-04-20 20:25:02,731 - INFO - H590725 232628                    632695.00000 642026.000  1.47%   116 3334s\n"
     ]
    },
    {
     "name": "stdout",
     "output_type": "stream",
     "text": [
      "H592818 220501                    632824.00000 642021.000  1.45%   116 3335s\n"
     ]
    },
    {
     "name": "stderr",
     "output_type": "stream",
     "text": [
      "2023-04-20 20:25:03,137 - INFO - H592818 220501                    632824.00000 642021.000  1.45%   116 3335s\n"
     ]
    },
    {
     "name": "stdout",
     "output_type": "stream",
     "text": [
      " 594166 220750 639812.631   68  108 632824.000 642019.000  1.45%   116 3379s\n"
     ]
    },
    {
     "name": "stderr",
     "output_type": "stream",
     "text": [
      "2023-04-20 20:25:47,597 - INFO -  594166 220750 639812.631   68  108 632824.000 642019.000  1.45%   116 3379s\n"
     ]
    },
    {
     "name": "stdout",
     "output_type": "stream",
     "text": [
      " 596091 221513 641671.000   51  161 632824.000 642018.000  1.45%   116 3412s\n"
     ]
    },
    {
     "name": "stderr",
     "output_type": "stream",
     "text": [
      "2023-04-20 20:26:20,799 - INFO -  596091 221513 641671.000   51  161 632824.000 642018.000  1.45%   116 3412s\n"
     ]
    },
    {
     "name": "stdout",
     "output_type": "stream",
     "text": [
      " 599895 221579 640076.000  109   74 632824.000 642015.000  1.45%   117 3440s\n"
     ]
    },
    {
     "name": "stderr",
     "output_type": "stream",
     "text": [
      "2023-04-20 20:26:48,378 - INFO -  599895 221579 640076.000  109   74 632824.000 642015.000  1.45%   117 3440s\n"
     ]
    },
    {
     "name": "stdout",
     "output_type": "stream",
     "text": [
      " 603564 221475 641380.000   88  139 632824.000 642012.000  1.45%   118 3463s\n"
     ]
    },
    {
     "name": "stderr",
     "output_type": "stream",
     "text": [
      "2023-04-20 20:27:11,152 - INFO -  603564 221475 641380.000   88  139 632824.000 642012.000  1.45%   118 3463s\n"
     ]
    },
    {
     "name": "stdout",
     "output_type": "stream",
     "text": [
      " 606825 221520 641626.000   57  140 632824.000 642010.000  1.45%   118 3489s\n"
     ]
    },
    {
     "name": "stderr",
     "output_type": "stream",
     "text": [
      "2023-04-20 20:27:37,234 - INFO -  606825 221520 641626.000   57  140 632824.000 642010.000  1.45%   118 3489s\n"
     ]
    },
    {
     "name": "stdout",
     "output_type": "stream",
     "text": [
      " 610154 221623 634716.968  110   32 632824.000 642008.000  1.45%   119 3518s\n"
     ]
    },
    {
     "name": "stderr",
     "output_type": "stream",
     "text": [
      "2023-04-20 20:28:05,971 - INFO -  610154 221623 634716.968  110   32 632824.000 642008.000  1.45%   119 3518s\n"
     ]
    },
    {
     "name": "stdout",
     "output_type": "stream",
     "text": [
      " 613453 221942 634609.955   89  132 632824.000 642005.000  1.45%   119 3543s\n"
     ]
    },
    {
     "name": "stderr",
     "output_type": "stream",
     "text": [
      "2023-04-20 20:28:31,840 - INFO -  613453 221942 634609.955   89  132 632824.000 642005.000  1.45%   119 3543s\n"
     ]
    },
    {
     "name": "stdout",
     "output_type": "stream",
     "text": [
      " 617252 221669 641194.000   72  105 632824.000 642005.000  1.45%   120 3577s\n"
     ]
    },
    {
     "name": "stderr",
     "output_type": "stream",
     "text": [
      "2023-04-20 20:29:04,953 - INFO -  617252 221669 641194.000   72  105 632824.000 642005.000  1.45%   120 3577s\n"
     ]
    },
    {
     "name": "stdout",
     "output_type": "stream",
     "text": [
      " 619792 222235 641200.705   64  123 632824.000 642000.000  1.45%   120 3607s\n"
     ]
    },
    {
     "name": "stderr",
     "output_type": "stream",
     "text": [
      "2023-04-20 20:29:35,338 - INFO -  619792 222235 641200.705   64  123 632824.000 642000.000  1.45%   120 3607s\n"
     ]
    },
    {
     "name": "stdout",
     "output_type": "stream",
     "text": [
      " 623525 221927 639900.000  100  116 632824.000 641999.000  1.45%   121 3635s\n"
     ]
    },
    {
     "name": "stderr",
     "output_type": "stream",
     "text": [
      "2023-04-20 20:30:03,633 - INFO -  623525 221927 639900.000  100  116 632824.000 641999.000  1.45%   121 3635s\n"
     ]
    },
    {
     "name": "stdout",
     "output_type": "stream",
     "text": [
      " 626712 221705 640230.600   94   56 632824.000 641998.000  1.45%   121 3672s\n"
     ]
    },
    {
     "name": "stderr",
     "output_type": "stream",
     "text": [
      "2023-04-20 20:30:40,240 - INFO -  626712 221705 640230.600   94   56 632824.000 641998.000  1.45%   121 3672s\n"
     ]
    },
    {
     "name": "stdout",
     "output_type": "stream",
     "text": [
      " 629550 222244 infeasible  143      632824.000 641994.000  1.45%   122 3702s\n"
     ]
    },
    {
     "name": "stderr",
     "output_type": "stream",
     "text": [
      "2023-04-20 20:31:10,895 - INFO -  629550 222244 infeasible  143      632824.000 641994.000  1.45%   122 3702s\n"
     ]
    },
    {
     "name": "stdout",
     "output_type": "stream",
     "text": [
      " 633747 222480 636314.562  140   49 632824.000 641991.109  1.45%   122 3730s\n"
     ]
    },
    {
     "name": "stderr",
     "output_type": "stream",
     "text": [
      "2023-04-20 20:31:38,488 - INFO -  633747 222480 636314.562  140   49 632824.000 641991.109  1.45%   122 3730s\n"
     ]
    },
    {
     "name": "stdout",
     "output_type": "stream",
     "text": [
      " 637816 222599 639514.000   83  110 632824.000 641989.000  1.45%   123 3757s\n"
     ]
    },
    {
     "name": "stderr",
     "output_type": "stream",
     "text": [
      "2023-04-20 20:32:05,816 - INFO -  637816 222599 639514.000   83  110 632824.000 641989.000  1.45%   123 3757s\n"
     ]
    },
    {
     "name": "stdout",
     "output_type": "stream",
     "text": [
      " 641724 222856 640842.000   72  115 632824.000 641987.000  1.45%   123 3788s\n"
     ]
    },
    {
     "name": "stderr",
     "output_type": "stream",
     "text": [
      "2023-04-20 20:32:36,854 - INFO -  641724 222856 640842.000   72  115 632824.000 641987.000  1.45%   123 3788s\n"
     ]
    },
    {
     "name": "stdout",
     "output_type": "stream",
     "text": [
      " 645897 222621 639944.000   86  120 632824.000 641984.000  1.45%   124 3824s\n"
     ]
    },
    {
     "name": "stderr",
     "output_type": "stream",
     "text": [
      "2023-04-20 20:33:12,152 - INFO -  645897 222621 639944.000   86  120 632824.000 641984.000  1.45%   124 3824s\n"
     ]
    },
    {
     "name": "stdout",
     "output_type": "stream",
     "text": [
      " 648632 222975 641154.000   97  130 632824.000 641982.000  1.45%   124 3849s\n"
     ]
    },
    {
     "name": "stderr",
     "output_type": "stream",
     "text": [
      "2023-04-20 20:33:37,437 - INFO -  648632 222975 641154.000   97  130 632824.000 641982.000  1.45%   124 3849s\n"
     ]
    },
    {
     "name": "stdout",
     "output_type": "stream",
     "text": [
      " 652045 223606 635129.363  125   99 632824.000 641980.000  1.45%   124 3880s\n"
     ]
    },
    {
     "name": "stderr",
     "output_type": "stream",
     "text": [
      "2023-04-20 20:34:08,211 - INFO -  652045 223606 635129.363  125   99 632824.000 641980.000  1.45%   124 3880s\n"
     ]
    },
    {
     "name": "stdout",
     "output_type": "stream",
     "text": [
      " 656526 223486 639148.566  107   33 632824.000 641979.000  1.45%   125 3912s\n"
     ]
    },
    {
     "name": "stderr",
     "output_type": "stream",
     "text": [
      "2023-04-20 20:34:40,368 - INFO -  656526 223486 639148.566  107   33 632824.000 641979.000  1.45%   125 3912s\n"
     ]
    },
    {
     "name": "stdout",
     "output_type": "stream",
     "text": [
      "H659484 207675                    634203.00000 641976.000  1.23%   125 3913s\n"
     ]
    },
    {
     "name": "stderr",
     "output_type": "stream",
     "text": [
      "2023-04-20 20:34:41,026 - INFO - H659484 207675                    634203.00000 641976.000  1.23%   125 3913s\n"
     ]
    },
    {
     "name": "stdout",
     "output_type": "stream",
     "text": [
      " 660395 208738 641224.000   58  116 634203.000 641975.463  1.23%   125 3941s\n"
     ]
    },
    {
     "name": "stderr",
     "output_type": "stream",
     "text": [
      "2023-04-20 20:35:09,089 - INFO -  660395 208738 641224.000   58  116 634203.000 641975.463  1.23%   125 3941s\n"
     ]
    },
    {
     "name": "stdout",
     "output_type": "stream",
     "text": [
      " 664121 208734 635133.443  132   78 634203.000 641974.000  1.23%   126 3965s\n"
     ]
    },
    {
     "name": "stderr",
     "output_type": "stream",
     "text": [
      "2023-04-20 20:35:33,885 - INFO -  664121 208734 635133.443  132   78 634203.000 641974.000  1.23%   126 3965s\n"
     ]
    },
    {
     "name": "stdout",
     "output_type": "stream",
     "text": [
      " 667581 208756 636725.000  113   88 634203.000 641972.000  1.23%   126 3991s\n"
     ]
    },
    {
     "name": "stderr",
     "output_type": "stream",
     "text": [
      "2023-04-20 20:35:59,464 - INFO -  667581 208756 636725.000  113   88 634203.000 641972.000  1.23%   126 3991s\n"
     ]
    },
    {
     "name": "stdout",
     "output_type": "stream",
     "text": [
      " 671102 208903 636312.000  122   95 634203.000 641968.000  1.22%   127 4018s\n"
     ]
    },
    {
     "name": "stderr",
     "output_type": "stream",
     "text": [
      "2023-04-20 20:36:26,526 - INFO -  671102 208903 636312.000  122   95 634203.000 641968.000  1.22%   127 4018s\n"
     ]
    },
    {
     "name": "stdout",
     "output_type": "stream",
     "text": [
      " 674960 209286 641680.000   88   75 634203.000 641966.000  1.22%   127 4052s\n"
     ]
    },
    {
     "name": "stderr",
     "output_type": "stream",
     "text": [
      "2023-04-20 20:37:00,785 - INFO -  674960 209286 641680.000   88   75 634203.000 641966.000  1.22%   127 4052s\n"
     ]
    },
    {
     "name": "stdout",
     "output_type": "stream",
     "text": [
      " 679220 208895 641586.000  111   57 634203.000 641965.000  1.22%   127 4145s\n"
     ]
    },
    {
     "name": "stderr",
     "output_type": "stream",
     "text": [
      "2023-04-20 20:38:33,582 - INFO -  679220 208895 641586.000  111   57 634203.000 641965.000  1.22%   127 4145s\n"
     ]
    },
    {
     "name": "stdout",
     "output_type": "stream",
     "text": [
      "H679738 197535                    634518.00000 641964.000  1.17%   127 4145s\n"
     ]
    },
    {
     "name": "stderr",
     "output_type": "stream",
     "text": [
      "2023-04-20 20:38:33,741 - INFO - H679738 197535                    634518.00000 641964.000  1.17%   127 4145s\n"
     ]
    },
    {
     "name": "stdout",
     "output_type": "stream",
     "text": [
      "H679806 183516                    635631.00000 641964.000  1.00%   127 4145s\n"
     ]
    },
    {
     "name": "stderr",
     "output_type": "stream",
     "text": [
      "2023-04-20 20:38:33,772 - INFO - H679806 183516                    635631.00000 641964.000  1.00%   127 4145s\n"
     ]
    },
    {
     "name": "stdout",
     "output_type": "stream",
     "text": [
      " 681944 184405 637731.000   70  111 635631.000 641963.000  1.00%   128 4181s\n"
     ]
    },
    {
     "name": "stderr",
     "output_type": "stream",
     "text": [
      "2023-04-20 20:39:09,713 - INFO -  681944 184405 637731.000   70  111 635631.000 641963.000  1.00%   128 4181s\n"
     ]
    },
    {
     "name": "stdout",
     "output_type": "stream",
     "text": [
      " 686232 184608 641401.550   71  122 635631.000 641961.000  1.00%   128 4213s\n"
     ]
    },
    {
     "name": "stderr",
     "output_type": "stream",
     "text": [
      "2023-04-20 20:39:41,191 - INFO -  686232 184608 641401.550   71  122 635631.000 641961.000  1.00%   128 4213s\n"
     ]
    },
    {
     "name": "stdout",
     "output_type": "stream",
     "text": [
      " 690243 184408 639647.000   80  149 635631.000 641959.000  1.00%   128 4239s\n"
     ]
    },
    {
     "name": "stderr",
     "output_type": "stream",
     "text": [
      "2023-04-20 20:40:07,252 - INFO -  690243 184408 639647.000   80  149 635631.000 641959.000  1.00%   128 4239s\n"
     ]
    },
    {
     "name": "stdout",
     "output_type": "stream",
     "text": [
      " 693702 184467 641540.000   71   54 635631.000 641957.000  1.00%   129 4268s\n"
     ]
    },
    {
     "name": "stderr",
     "output_type": "stream",
     "text": [
      "2023-04-20 20:40:36,319 - INFO -  693702 184467 641540.000   71   54 635631.000 641957.000  1.00%   129 4268s\n"
     ]
    },
    {
     "name": "stdout",
     "output_type": "stream",
     "text": [
      " 697018 184886 infeasible  153      635631.000 641955.000  0.99%   129 4295s\n"
     ]
    },
    {
     "name": "stderr",
     "output_type": "stream",
     "text": [
      "2023-04-20 20:41:03,145 - INFO -  697018 184886 infeasible  153      635631.000 641955.000  0.99%   129 4295s\n"
     ]
    },
    {
     "name": "stdout",
     "output_type": "stream",
     "text": [
      " 700808 185274 640822.881   82  115 635631.000 641953.000  0.99%   129 4331s\n"
     ]
    },
    {
     "name": "stderr",
     "output_type": "stream",
     "text": [
      "2023-04-20 20:41:38,975 - INFO -  700808 185274 640822.881   82  115 635631.000 641953.000  0.99%   129 4331s\n"
     ]
    },
    {
     "name": "stdout",
     "output_type": "stream",
     "text": [
      " 704904 185259 638497.000  105   94 635631.000 641951.502  0.99%   129 4358s\n"
     ]
    },
    {
     "name": "stderr",
     "output_type": "stream",
     "text": [
      "2023-04-20 20:42:06,607 - INFO -  704904 185259 638497.000  105   94 635631.000 641951.502  0.99%   129 4358s\n"
     ]
    },
    {
     "name": "stdout",
     "output_type": "stream",
     "text": [
      " 708609 185166 639926.000   77  130 635631.000 641948.000  0.99%   130 4381s\n"
     ]
    },
    {
     "name": "stderr",
     "output_type": "stream",
     "text": [
      "2023-04-20 20:42:29,207 - INFO -  708609 185166 639926.000   77  130 635631.000 641948.000  0.99%   130 4381s\n"
     ]
    },
    {
     "name": "stdout",
     "output_type": "stream",
     "text": [
      " 711850 185477 639655.816  121   90 635631.000 641946.000  0.99%   130 4414s\n"
     ]
    },
    {
     "name": "stderr",
     "output_type": "stream",
     "text": [
      "2023-04-20 20:43:02,093 - INFO -  711850 185477 639655.816  121   90 635631.000 641946.000  0.99%   130 4414s\n"
     ]
    },
    {
     "name": "stdout",
     "output_type": "stream",
     "text": [
      " 715600 185518     cutoff   88      635631.000 641945.000  0.99%   131 4440s\n"
     ]
    },
    {
     "name": "stderr",
     "output_type": "stream",
     "text": [
      "2023-04-20 20:43:28,710 - INFO -  715600 185518     cutoff   88      635631.000 641945.000  0.99%   131 4440s\n"
     ]
    },
    {
     "name": "stdout",
     "output_type": "stream",
     "text": [
      " 719143 185754 636702.000  111  103 635631.000 641943.000  0.99%   131 4467s\n"
     ]
    },
    {
     "name": "stderr",
     "output_type": "stream",
     "text": [
      "2023-04-20 20:43:54,958 - INFO -  719143 185754 636702.000  111  103 635631.000 641943.000  0.99%   131 4467s\n"
     ]
    },
    {
     "name": "stdout",
     "output_type": "stream",
     "text": [
      " 722837 185539 640168.745  111  110 635631.000 641941.000  0.99%   131 4491s\n"
     ]
    },
    {
     "name": "stderr",
     "output_type": "stream",
     "text": [
      "2023-04-20 20:44:19,234 - INFO -  722837 185539 640168.745  111  110 635631.000 641941.000  0.99%   131 4491s\n"
     ]
    },
    {
     "name": "stdout",
     "output_type": "stream",
     "text": [
      " 725944 185776 641155.953   65  110 635631.000 641939.000  0.99%   132 4517s\n"
     ]
    },
    {
     "name": "stderr",
     "output_type": "stream",
     "text": [
      "2023-04-20 20:44:45,216 - INFO -  725944 185776 641155.953   65  110 635631.000 641939.000  0.99%   132 4517s\n"
     ]
    },
    {
     "name": "stdout",
     "output_type": "stream",
     "text": [
      " 729486 186220 639962.000   86   92 635631.000 641938.000  0.99%   132 4547s\n"
     ]
    },
    {
     "name": "stderr",
     "output_type": "stream",
     "text": [
      "2023-04-20 20:45:15,211 - INFO -  729486 186220 639962.000   86   92 635631.000 641938.000  0.99%   132 4547s\n"
     ]
    },
    {
     "name": "stdout",
     "output_type": "stream",
     "text": [
      " 733636 186353 641735.000   50  148 635631.000 641935.000  0.99%   132 4586s\n"
     ]
    },
    {
     "name": "stderr",
     "output_type": "stream",
     "text": [
      "2023-04-20 20:45:54,760 - INFO -  733636 186353 641735.000   50  148 635631.000 641935.000  0.99%   132 4586s\n"
     ]
    },
    {
     "name": "stdout",
     "output_type": "stream",
     "text": [
      " 737710 186477 639887.868   89   94 635631.000 641934.000  0.99%   133 4620s\n"
     ]
    },
    {
     "name": "stderr",
     "output_type": "stream",
     "text": [
      "2023-04-20 20:46:28,531 - INFO -  737710 186477 639887.868   89   94 635631.000 641934.000  0.99%   133 4620s\n"
     ]
    },
    {
     "name": "stdout",
     "output_type": "stream",
     "text": [
      " 741598 186076 640907.000   88  113 635631.000 641932.000  0.99%   133 4643s\n"
     ]
    },
    {
     "name": "stderr",
     "output_type": "stream",
     "text": [
      "2023-04-20 20:46:51,867 - INFO -  741598 186076 640907.000   88  113 635631.000 641932.000  0.99%   133 4643s\n"
     ]
    },
    {
     "name": "stdout",
     "output_type": "stream",
     "text": [
      " 744595 186383 640987.946   85  123 635631.000 641930.000  0.99%   134 4673s\n"
     ]
    },
    {
     "name": "stderr",
     "output_type": "stream",
     "text": [
      "2023-04-20 20:47:21,103 - INFO -  744595 186383 640987.946   85  123 635631.000 641930.000  0.99%   134 4673s\n"
     ]
    },
    {
     "name": "stdout",
     "output_type": "stream",
     "text": [
      " 748316 186573 637706.000   91  119 635631.000 641929.000  0.99%   134 4699s\n"
     ]
    },
    {
     "name": "stderr",
     "output_type": "stream",
     "text": [
      "2023-04-20 20:47:47,023 - INFO -  748316 186573 637706.000   91  119 635631.000 641929.000  0.99%   134 4699s\n"
     ]
    },
    {
     "name": "stdout",
     "output_type": "stream",
     "text": [
      " 752073 186201 641446.790   97   84 635631.000 641926.000  0.99%   134 4720s\n"
     ]
    },
    {
     "name": "stderr",
     "output_type": "stream",
     "text": [
      "2023-04-20 20:48:08,730 - INFO -  752073 186201 641446.790   97   84 635631.000 641926.000  0.99%   134 4720s\n"
     ]
    },
    {
     "name": "stdout",
     "output_type": "stream",
     "text": [
      " 754927 186612 641379.097   70   93 635631.000 641925.000  0.99%   135 4749s\n"
     ]
    },
    {
     "name": "stderr",
     "output_type": "stream",
     "text": [
      "2023-04-20 20:48:37,426 - INFO -  754927 186612 641379.097   70   93 635631.000 641925.000  0.99%   135 4749s\n"
     ]
    },
    {
     "name": "stdout",
     "output_type": "stream",
     "text": [
      " 757814 185650 636934.139   77  121 635631.000 641923.000  0.99%   135 4750s\n"
     ]
    },
    {
     "name": "stderr",
     "output_type": "stream",
     "text": [
      "2023-04-20 20:48:37,960 - INFO -  757814 185650 636934.139   77  121 635631.000 641923.000  0.99%   135 4750s\n"
     ]
    },
    {
     "name": "stdout",
     "output_type": "stream",
     "text": [
      " 758670 186696 640693.000   72   82 635631.000 641923.000  0.99%   135 4783s\n"
     ]
    },
    {
     "name": "stderr",
     "output_type": "stream",
     "text": [
      "2023-04-20 20:49:10,989 - INFO -  758670 186696 640693.000   72   82 635631.000 641923.000  0.99%   135 4783s\n"
     ]
    },
    {
     "name": "stdout",
     "output_type": "stream",
     "text": [
      " 762252 186764 641746.000   56  154 635631.000 641921.201  0.99%   135 4807s\n"
     ]
    },
    {
     "name": "stderr",
     "output_type": "stream",
     "text": [
      "2023-04-20 20:49:35,903 - INFO -  762252 186764 641746.000   56  154 635631.000 641921.201  0.99%   135 4807s\n"
     ]
    },
    {
     "name": "stdout",
     "output_type": "stream",
     "text": [
      " 765717 186658 infeasible  109      635631.000 641920.000  0.99%   136 4834s\n"
     ]
    },
    {
     "name": "stderr",
     "output_type": "stream",
     "text": [
      "2023-04-20 20:50:02,205 - INFO -  765717 186658 infeasible  109      635631.000 641920.000  0.99%   136 4834s\n"
     ]
    },
    {
     "name": "stdout",
     "output_type": "stream",
     "text": [
      " 769172 186948 641009.000   78  112 635631.000 641919.000  0.99%   136 4866s\n"
     ]
    },
    {
     "name": "stderr",
     "output_type": "stream",
     "text": [
      "2023-04-20 20:50:34,134 - INFO -  769172 186948 641009.000   78  112 635631.000 641919.000  0.99%   136 4866s\n"
     ]
    },
    {
     "name": "stdout",
     "output_type": "stream",
     "text": [
      " 773171 186960 641339.774   62  114 635631.000 641916.000  0.99%   136 4891s\n"
     ]
    },
    {
     "name": "stderr",
     "output_type": "stream",
     "text": [
      "2023-04-20 20:50:59,788 - INFO -  773171 186960 641339.774   62  114 635631.000 641916.000  0.99%   136 4891s\n"
     ]
    },
    {
     "name": "stdout",
     "output_type": "stream",
     "text": [
      " 776812 186985 635729.000   85   48 635631.000 641915.000  0.99%   136 4918s\n"
     ]
    },
    {
     "name": "stderr",
     "output_type": "stream",
     "text": [
      "2023-04-20 20:51:26,049 - INFO -  776812 186985 635729.000   85   48 635631.000 641915.000  0.99%   136 4918s\n"
     ]
    },
    {
     "name": "stdout",
     "output_type": "stream",
     "text": [
      " 780291 187326 638055.874   67  126 635631.000 641913.000  0.99%   137 4947s\n"
     ]
    },
    {
     "name": "stderr",
     "output_type": "stream",
     "text": [
      "2023-04-20 20:51:55,473 - INFO -  780291 187326 638055.874   67  126 635631.000 641913.000  0.99%   137 4947s\n"
     ]
    },
    {
     "name": "stdout",
     "output_type": "stream",
     "text": [
      " 784276 187118 641074.000   90  126 635631.000 641912.000  0.99%   137 4970s\n"
     ]
    },
    {
     "name": "stderr",
     "output_type": "stream",
     "text": [
      "2023-04-20 20:52:18,910 - INFO -  784276 187118 641074.000   90  126 635631.000 641912.000  0.99%   137 4970s\n"
     ]
    },
    {
     "name": "stdout",
     "output_type": "stream",
     "text": [
      " 787510 187450 641781.397   53   99 635631.000 641910.458  0.99%   137 5004s\n"
     ]
    },
    {
     "name": "stderr",
     "output_type": "stream",
     "text": [
      "2023-04-20 20:52:52,642 - INFO -  787510 187450 641781.397   53   99 635631.000 641910.458  0.99%   137 5004s\n"
     ]
    },
    {
     "name": "stdout",
     "output_type": "stream",
     "text": [
      " 788941 186973 639781.850  100  105 635631.000 641910.000  0.99%   138 5005s\n"
     ]
    },
    {
     "name": "stderr",
     "output_type": "stream",
     "text": [
      "2023-04-20 20:52:52,955 - INFO -  788941 186973 639781.850  100  105 635631.000 641910.000  0.99%   138 5005s\n"
     ]
    },
    {
     "name": "stdout",
     "output_type": "stream",
     "text": [
      " 791238 187531 636005.000  118  102 635631.000 641909.858  0.99%   138 5033s\n"
     ]
    },
    {
     "name": "stderr",
     "output_type": "stream",
     "text": [
      "2023-04-20 20:53:21,737 - INFO -  791238 187531 636005.000  118  102 635631.000 641909.858  0.99%   138 5033s\n"
     ]
    },
    {
     "name": "stdout",
     "output_type": "stream",
     "text": [
      " 794877 187457 636240.000   94   84 635631.000 641908.000  0.99%   138 5062s\n"
     ]
    },
    {
     "name": "stderr",
     "output_type": "stream",
     "text": [
      "2023-04-20 20:53:50,556 - INFO -  794877 187457 636240.000   94   84 635631.000 641908.000  0.99%   138 5062s\n"
     ]
    },
    {
     "name": "stdout",
     "output_type": "stream",
     "text": [
      " 798339 187538 641523.000   84   86 635631.000 641907.000  0.99%   138 5088s\n"
     ]
    },
    {
     "name": "stderr",
     "output_type": "stream",
     "text": [
      "2023-04-20 20:54:16,285 - INFO -  798339 187538 641523.000   84   86 635631.000 641907.000  0.99%   138 5088s\n"
     ]
    },
    {
     "name": "stdout",
     "output_type": "stream",
     "text": [
      " 801652 187787 641371.000   47  107 635631.000 641905.000  0.99%   139 5113s\n"
     ]
    },
    {
     "name": "stderr",
     "output_type": "stream",
     "text": [
      "2023-04-20 20:54:41,476 - INFO -  801652 187787 641371.000   47  107 635631.000 641905.000  0.99%   139 5113s\n"
     ]
    },
    {
     "name": "stdout",
     "output_type": "stream",
     "text": [
      " 805249 188042 637539.000  101  131 635631.000 641904.000  0.99%   139 5141s\n"
     ]
    },
    {
     "name": "stderr",
     "output_type": "stream",
     "text": [
      "2023-04-20 20:55:09,299 - INFO -  805249 188042 637539.000  101  131 635631.000 641904.000  0.99%   139 5141s\n"
     ]
    },
    {
     "name": "stdout",
     "output_type": "stream",
     "text": [
      " 809013 188161     cutoff   99      635631.000 641902.000  0.99%   139 5168s\n"
     ]
    },
    {
     "name": "stderr",
     "output_type": "stream",
     "text": [
      "2023-04-20 20:55:36,320 - INFO -  809013 188161     cutoff   99      635631.000 641902.000  0.99%   139 5168s\n"
     ]
    },
    {
     "name": "stdout",
     "output_type": "stream",
     "text": [
      " 812541 188356 636838.978  142   28 635631.000 641901.000  0.99%   139 5200s\n"
     ]
    },
    {
     "name": "stderr",
     "output_type": "stream",
     "text": [
      "2023-04-20 20:56:08,726 - INFO -  812541 188356 636838.978  142   28 635631.000 641901.000  0.99%   139 5200s\n"
     ]
    },
    {
     "name": "stdout",
     "output_type": "stream",
     "text": [
      " 816245 188444 637005.259   99  104 635631.000 641899.000  0.99%   140 5227s\n"
     ]
    },
    {
     "name": "stderr",
     "output_type": "stream",
     "text": [
      "2023-04-20 20:56:35,721 - INFO -  816245 188444 637005.259   99  104 635631.000 641899.000  0.99%   140 5227s\n"
     ]
    },
    {
     "name": "stdout",
     "output_type": "stream",
     "text": [
      " 819818 188324 635642.026  103   67 635631.000 641898.000  0.99%   140 5252s\n"
     ]
    },
    {
     "name": "stderr",
     "output_type": "stream",
     "text": [
      "2023-04-20 20:57:00,475 - INFO -  819818 188324 635642.026  103   67 635631.000 641898.000  0.99%   140 5252s\n"
     ]
    },
    {
     "name": "stdout",
     "output_type": "stream",
     "text": [
      " 822971 188589 infeasible  144      635631.000 641896.000  0.99%   140 5276s\n"
     ]
    },
    {
     "name": "stderr",
     "output_type": "stream",
     "text": [
      "2023-04-20 20:57:24,426 - INFO -  822971 188589 infeasible  144      635631.000 641896.000  0.99%   140 5276s\n"
     ]
    },
    {
     "name": "stdout",
     "output_type": "stream",
     "text": [
      " 826491 188832 635971.000  104   81 635631.000 641895.000  0.99%   140 5311s\n"
     ]
    },
    {
     "name": "stderr",
     "output_type": "stream",
     "text": [
      "2023-04-20 20:57:59,184 - INFO -  826491 188832 635971.000  104   81 635631.000 641895.000  0.99%   140 5311s\n"
     ]
    },
    {
     "name": "stdout",
     "output_type": "stream",
     "text": [
      " 830252 188730 641631.000   89  132 635631.000 641893.000  0.99%   141 5338s\n"
     ]
    },
    {
     "name": "stderr",
     "output_type": "stream",
     "text": [
      "2023-04-20 20:58:25,949 - INFO -  830252 188730 641631.000   89  132 635631.000 641893.000  0.99%   141 5338s\n"
     ]
    },
    {
     "name": "stdout",
     "output_type": "stream",
     "text": [
      " 833605 189049 641059.663   94   79 635631.000 641892.000  0.99%   141 5366s\n"
     ]
    },
    {
     "name": "stderr",
     "output_type": "stream",
     "text": [
      "2023-04-20 20:58:54,368 - INFO -  833605 189049 641059.663   94   79 635631.000 641892.000  0.99%   141 5366s\n"
     ]
    },
    {
     "name": "stdout",
     "output_type": "stream",
     "text": [
      " 837402 189217 640555.000  102  106 635631.000 641891.000  0.98%   141 5402s\n"
     ]
    },
    {
     "name": "stderr",
     "output_type": "stream",
     "text": [
      "2023-04-20 20:59:30,674 - INFO -  837402 189217 640555.000  102  106 635631.000 641891.000  0.98%   141 5402s\n"
     ]
    },
    {
     "name": "stdout",
     "output_type": "stream",
     "text": [
      " 841365 189008 637724.633   68   75 635631.000 641889.000  0.98%   141 5435s\n"
     ]
    },
    {
     "name": "stderr",
     "output_type": "stream",
     "text": [
      "2023-04-20 21:00:03,079 - INFO -  841365 189008 637724.633   68   75 635631.000 641889.000  0.98%   141 5435s\n"
     ]
    },
    {
     "name": "stdout",
     "output_type": "stream",
     "text": [
      " 844820 189227 641164.042   63  108 635631.000 641887.000  0.98%   142 5463s\n"
     ]
    },
    {
     "name": "stderr",
     "output_type": "stream",
     "text": [
      "2023-04-20 21:00:31,133 - INFO -  844820 189227 641164.042   63  108 635631.000 641887.000  0.98%   142 5463s\n"
     ]
    },
    {
     "name": "stdout",
     "output_type": "stream",
     "text": [
      " 848495 189356 infeasible  140      635631.000 641886.000  0.98%   142 5494s\n"
     ]
    },
    {
     "name": "stderr",
     "output_type": "stream",
     "text": [
      "2023-04-20 21:01:02,107 - INFO -  848495 189356 infeasible  140      635631.000 641886.000  0.98%   142 5494s\n"
     ]
    },
    {
     "name": "stdout",
     "output_type": "stream",
     "text": [
      " 852095 189395 640003.000   82  106 635631.000 641885.000  0.98%   142 5521s\n"
     ]
    },
    {
     "name": "stderr",
     "output_type": "stream",
     "text": [
      "2023-04-20 21:01:29,016 - INFO -  852095 189395 640003.000   82  106 635631.000 641885.000  0.98%   142 5521s\n"
     ]
    },
    {
     "name": "stdout",
     "output_type": "stream",
     "text": [
      " 855440 189506 636959.000   63   93 635631.000 641883.000  0.98%   142 5545s\n"
     ]
    },
    {
     "name": "stderr",
     "output_type": "stream",
     "text": [
      "2023-04-20 21:01:53,803 - INFO -  855440 189506 636959.000   63   93 635631.000 641883.000  0.98%   142 5545s\n"
     ]
    },
    {
     "name": "stdout",
     "output_type": "stream",
     "text": [
      " 858837 189635 636075.443  103   94 635631.000 641883.000  0.98%   143 5575s\n"
     ]
    },
    {
     "name": "stderr",
     "output_type": "stream",
     "text": [
      "2023-04-20 21:02:23,109 - INFO -  858837 189635 636075.443  103   94 635631.000 641883.000  0.98%   143 5575s\n"
     ]
    },
    {
     "name": "stdout",
     "output_type": "stream",
     "text": [
      " 862434 189665 636849.280   81   61 635631.000 641881.000  0.98%   143 5603s\n"
     ]
    },
    {
     "name": "stderr",
     "output_type": "stream",
     "text": [
      "2023-04-20 21:02:51,013 - INFO -  862434 189665 636849.280   81   61 635631.000 641881.000  0.98%   143 5603s\n"
     ]
    },
    {
     "name": "stdout",
     "output_type": "stream",
     "text": [
      " 865828 189617 640598.000   83  143 635631.000 641879.000  0.98%   143 5629s\n"
     ]
    },
    {
     "name": "stderr",
     "output_type": "stream",
     "text": [
      "2023-04-20 21:03:17,571 - INFO -  865828 189617 640598.000   83  143 635631.000 641879.000  0.98%   143 5629s\n"
     ]
    },
    {
     "name": "stdout",
     "output_type": "stream",
     "text": [
      " 869065 189876 640447.548   71  130 635631.000 641879.000  0.98%   144 5658s\n"
     ]
    },
    {
     "name": "stderr",
     "output_type": "stream",
     "text": [
      "2023-04-20 21:03:46,101 - INFO -  869065 189876 640447.548   71  130 635631.000 641879.000  0.98%   144 5658s\n"
     ]
    },
    {
     "name": "stdout",
     "output_type": "stream",
     "text": [
      " 872678 189615 640776.000   93   86 635631.000 641877.000  0.98%   144 5689s\n"
     ]
    },
    {
     "name": "stderr",
     "output_type": "stream",
     "text": [
      "2023-04-20 21:04:17,003 - INFO -  872678 189615 640776.000   93   86 635631.000 641877.000  0.98%   144 5689s\n"
     ]
    },
    {
     "name": "stdout",
     "output_type": "stream",
     "text": [
      " 875606 189857 636741.674   73   66 635631.000 641876.000  0.98%   144 5716s\n"
     ]
    },
    {
     "name": "stderr",
     "output_type": "stream",
     "text": [
      "2023-04-20 21:04:44,853 - INFO -  875606 189857 636741.674   73   66 635631.000 641876.000  0.98%   144 5716s\n"
     ]
    },
    {
     "name": "stdout",
     "output_type": "stream",
     "text": [
      " 879071 189905 641573.000   44  128 635631.000 641875.000  0.98%   145 5745s\n"
     ]
    },
    {
     "name": "stderr",
     "output_type": "stream",
     "text": [
      "2023-04-20 21:05:13,100 - INFO -  879071 189905 641573.000   44  128 635631.000 641875.000  0.98%   145 5745s\n"
     ]
    },
    {
     "name": "stdout",
     "output_type": "stream",
     "text": [
      " 882628 189602 641272.000   58  118 635631.000 641874.000  0.98%   145 5771s\n"
     ]
    },
    {
     "name": "stderr",
     "output_type": "stream",
     "text": [
      "2023-04-20 21:05:39,888 - INFO -  882628 189602 641272.000   58  118 635631.000 641874.000  0.98%   145 5771s\n"
     ]
    },
    {
     "name": "stdout",
     "output_type": "stream",
     "text": [
      " 885552 190044 641472.260   61  127 635631.000 641873.000  0.98%   145 5802s\n"
     ]
    },
    {
     "name": "stderr",
     "output_type": "stream",
     "text": [
      "2023-04-20 21:06:10,569 - INFO -  885552 190044 641472.260   61  127 635631.000 641873.000  0.98%   145 5802s\n"
     ]
    },
    {
     "name": "stdout",
     "output_type": "stream",
     "text": [
      " 889356 190353 638382.000  133   51 635631.000 641871.348  0.98%   145 5836s\n"
     ]
    },
    {
     "name": "stderr",
     "output_type": "stream",
     "text": [
      "2023-04-20 21:06:44,369 - INFO -  889356 190353 638382.000  133   51 635631.000 641871.348  0.98%   145 5836s\n"
     ]
    },
    {
     "name": "stdout",
     "output_type": "stream",
     "text": [
      " 893498 190197 641753.000   63  145 635631.000 641869.000  0.98%   145 5864s\n"
     ]
    },
    {
     "name": "stderr",
     "output_type": "stream",
     "text": [
      "2023-04-20 21:07:12,557 - INFO -  893498 190197 641753.000   63  145 635631.000 641869.000  0.98%   145 5864s\n"
     ]
    },
    {
     "name": "stdout",
     "output_type": "stream",
     "text": [
      " 895342 189582 infeasible  131      635631.000 641869.000  0.98%   146 5865s\n"
     ]
    },
    {
     "name": "stderr",
     "output_type": "stream",
     "text": [
      "2023-04-20 21:07:12,985 - INFO -  895342 189582 infeasible  131      635631.000 641869.000  0.98%   146 5865s\n"
     ]
    },
    {
     "name": "stdout",
     "output_type": "stream",
     "text": [
      " 896950 190369 635752.000   88   95 635631.000 641868.000  0.98%   146 5912s\n"
     ]
    },
    {
     "name": "stderr",
     "output_type": "stream",
     "text": [
      "2023-04-20 21:08:00,017 - INFO -  896950 190369 635752.000   88   95 635631.000 641868.000  0.98%   146 5912s\n"
     ]
    },
    {
     "name": "stdout",
     "output_type": "stream",
     "text": [
      " 900320 190684 641120.461   66   79 635631.000 641867.000  0.98%   146 5971s\n"
     ]
    },
    {
     "name": "stderr",
     "output_type": "stream",
     "text": [
      "2023-04-20 21:08:59,328 - INFO -  900320 190684 641120.461   66   79 635631.000 641867.000  0.98%   146 5971s\n"
     ]
    },
    {
     "name": "stdout",
     "output_type": "stream",
     "text": [
      "H902527 180484                    635691.00000 641866.000  0.97%   146 5972s\n"
     ]
    },
    {
     "name": "stderr",
     "output_type": "stream",
     "text": [
      "2023-04-20 21:08:59,938 - INFO - H902527 180484                    635691.00000 641866.000  0.97%   146 5972s\n"
     ]
    },
    {
     "name": "stdout",
     "output_type": "stream",
     "text": [
      " 904102 181369 641308.995   73  134 635691.000 641865.000  0.97%   146 6000s\n"
     ]
    },
    {
     "name": "stderr",
     "output_type": "stream",
     "text": [
      "2023-04-20 21:09:27,941 - INFO -  904102 181369 641308.995   73  134 635691.000 641865.000  0.97%   146 6000s\n"
     ]
    },
    {
     "name": "stdout",
     "output_type": "stream",
     "text": [
      "\n"
     ]
    },
    {
     "name": "stderr",
     "output_type": "stream",
     "text": [
      "2023-04-20 21:09:29,347 - INFO - \n"
     ]
    },
    {
     "name": "stdout",
     "output_type": "stream",
     "text": [
      "Cutting planes:\n"
     ]
    },
    {
     "name": "stderr",
     "output_type": "stream",
     "text": [
      "2023-04-20 21:09:29,347 - INFO - Cutting planes:\n"
     ]
    },
    {
     "name": "stdout",
     "output_type": "stream",
     "text": [
      "  Lazy constraints: 1738\n"
     ]
    },
    {
     "name": "stderr",
     "output_type": "stream",
     "text": [
      "2023-04-20 21:09:29,347 - INFO -   Lazy constraints: 1738\n"
     ]
    },
    {
     "name": "stdout",
     "output_type": "stream",
     "text": [
      "\n"
     ]
    },
    {
     "name": "stderr",
     "output_type": "stream",
     "text": [
      "2023-04-20 21:09:29,362 - INFO - \n"
     ]
    },
    {
     "name": "stdout",
     "output_type": "stream",
     "text": [
      "Explored 907805 nodes (132689638 simplex iterations) in 6001.43 seconds\n"
     ]
    },
    {
     "name": "stderr",
     "output_type": "stream",
     "text": [
      "2023-04-20 21:09:29,362 - INFO - Explored 907805 nodes (132689638 simplex iterations) in 6001.43 seconds\n"
     ]
    },
    {
     "name": "stdout",
     "output_type": "stream",
     "text": [
      "Thread count was 24 (of 48 available processors)\n"
     ]
    },
    {
     "name": "stderr",
     "output_type": "stream",
     "text": [
      "2023-04-20 21:09:29,362 - INFO - Thread count was 24 (of 48 available processors)\n"
     ]
    },
    {
     "name": "stdout",
     "output_type": "stream",
     "text": [
      "\n"
     ]
    },
    {
     "name": "stderr",
     "output_type": "stream",
     "text": [
      "2023-04-20 21:09:29,362 - INFO - \n"
     ]
    },
    {
     "name": "stdout",
     "output_type": "stream",
     "text": [
      "Solution count 10: 635691 635631 634518 ... 631034\n"
     ]
    },
    {
     "name": "stderr",
     "output_type": "stream",
     "text": [
      "2023-04-20 21:09:29,378 - INFO - Solution count 10: 635691 635631 634518 ... 631034\n"
     ]
    },
    {
     "name": "stdout",
     "output_type": "stream",
     "text": [
      "\n"
     ]
    },
    {
     "name": "stderr",
     "output_type": "stream",
     "text": [
      "2023-04-20 21:09:29,378 - INFO - \n"
     ]
    },
    {
     "name": "stdout",
     "output_type": "stream",
     "text": [
      "Time limit reached\n"
     ]
    },
    {
     "name": "stderr",
     "output_type": "stream",
     "text": [
      "2023-04-20 21:09:29,378 - INFO - Time limit reached\n"
     ]
    },
    {
     "name": "stdout",
     "output_type": "stream",
     "text": [
      "Best objective 6.356910000000e+05, best bound 6.418640000000e+05, gap 0.9711%\n"
     ]
    },
    {
     "name": "stderr",
     "output_type": "stream",
     "text": [
      "2023-04-20 21:09:29,378 - INFO - Best objective 6.356910000000e+05, best bound 6.418640000000e+05, gap 0.9711%\n"
     ]
    },
    {
     "name": "stdout",
     "output_type": "stream",
     "text": [
      "\n"
     ]
    },
    {
     "name": "stderr",
     "output_type": "stream",
     "text": [
      "2023-04-20 21:09:29,394 - INFO - \n"
     ]
    },
    {
     "name": "stdout",
     "output_type": "stream",
     "text": [
      "User-callback calls 1923633, time in user-callback 37.77 sec\n"
     ]
    },
    {
     "name": "stderr",
     "output_type": "stream",
     "text": [
      "2023-04-20 21:09:29,394 - INFO - User-callback calls 1923633, time in user-callback 37.77 sec\n"
     ]
    },
    {
     "name": "stdout",
     "output_type": "stream",
     "text": [
      "../results_for_config-MS-bvap-bounds_100min/MS-county-bvap_bounds-90\n",
      "Summarizing the results for export\n",
      "Results Summary started\n",
      "Warning: constraint name \"vertex to district[0]\" has a space\n"
     ]
    },
    {
     "name": "stderr",
     "output_type": "stream",
     "text": [
      "2023-04-20 21:09:31,471 - INFO - Warning: constraint name \"vertex to district[0]\" has a space\n"
     ]
    },
    {
     "name": "stdout",
     "output_type": "stream",
     "text": [
      "Recording found solution\n",
      "best solution (found) = [[12, 13, 21, 22, 29, 40, 63, 64, 67, 70, 74, 77, 79], [2, 3, 6, 9, 10, 15, 16, 18, 23, 24, 25, 26, 27, 32, 34, 37, 41, 46, 48, 49, 52, 53, 55, 56, 57, 61, 62, 68, 71, 72, 78, 80, 81], [1, 5, 8, 30, 33, 38, 44, 45, 47, 60, 75], [0, 4, 7, 11, 14, 17, 19, 20, 28, 31, 35, 36, 39, 42, 43, 50, 51, 54, 58, 59, 65, 66, 69, 73, 76]]\n",
      "print write mip soln\n",
      "../results_for_config-MS-bvap-bounds_100min/MS-county-bvap_bounds-90_vap_max_1.sol\n",
      "Exporting to json\n",
      "../results_for_config-MS-bvap-bounds_100min/MS-county-bvap_bounds-90_vap_max_1.json\n",
      "Exporting solution to json\n",
      "Summarizing ../results_for_config-MS-bvap-bounds_100min/MS-county-bvap_bounds-90_vap_max_1.json\n",
      "../results_for_config-MS-bvap-bounds_100min/MS-county-bvap_bounds-90_vap_max_1.json\n",
      "Plotting\n",
      "{'state': 'MS', 'level': 'county', 'base': 'labeling', 'obj': 'bvap_bounds', 'R': 90, 'dist_bounds': False, 'tlimit': 6000, 'fixing': False, 'contiguity': 'lcut', 'symmetry': 'none', 'extended': False, 'order': 'none', 'heuristic': True, 'lp': False, 'obj_order': 'vap_max', 'index': 1, 'run': 'MS_vap_1_max', 'k': 4, 'L': 666288, 'U': 814351, 'm': 202, 'n': 82, 'heur_obj': 'n/a', 'heur_time': 'n/a', 'heur_iter': 'n/a', 'DFixings': 0, 'UFixings_R': 0, 'LFixings': 0, 'UFixings_X': 0, 'ZFixings': 0, 'LP_obj': 'n/a', 'LP_time': 'n/a', 'MIP_timelimit': 6000, 'MIP_time': '6001.72', 'MIP_status': 9, 'MIP_nodes': 907805, 'MIP_bound': 641864.0, 'callbacks': 1298, 'lazy_cuts': 9704, 'MIP_obj': 635691.0, 'connected': True}\n",
      "Adding to csv ../results_for_config-MS-bvap-bounds_100min/results_config-MS-bvap-bounds_100min_2023_Apr_20.csv\n",
      "In run MS_vap_2_max using config: {'state': 'MS', 'level': 'county', 'base': 'labeling', 'obj': 'bvap_bounds', 'R': 90, 'dist_bounds': False, 'tlimit': 6000, 'fixing': False, 'contiguity': 'lcut', 'symmetry': 'none', 'extended': False, 'order': 'none', 'heuristic': True, 'lp': False, 'obj_order': 'vap_max', 'index': 2}.\n",
      "../data/county/dual_graphs/county28.json\n",
      "\n",
      "L = 666288 , U = 814351 , k = 4\n",
      "{'state': 'MS', 'level': 'county', 'base': 'labeling', 'obj': 'bvap_bounds', 'R': 90, 'dist_bounds': False, 'tlimit': 6000, 'fixing': False, 'contiguity': 'lcut', 'symmetry': 'none', 'extended': False, 'order': 'none', 'heuristic': True, 'lp': False, 'obj_order': 'vap_max', 'index': 2, 'run': 'MS_vap_2_max', 'k': 4, 'L': 666288, 'U': 814351, 'm': 202, 'n': 82, 'heur_obj': 'n/a', 'heur_time': 'n/a', 'heur_iter': 'n/a'}\n",
      "Adding bvap ordering\n",
      "Loading best known solution from ..\\results-ALMSLA_PWL\\MS-county-PWL-10.json\n",
      "{2: [0, 2, 4, 5, 7, 11, 14, 17, 19, 20, 23, 27, 28, 31, 34, 35, 36, 42, 43, 50, 51, 58, 59, 65, 66, 68, 69, 70, 73, 76, 80], 3: [1, 3, 6, 9, 16, 24, 25, 26, 32, 33, 37, 39, 44, 47, 48, 52, 55, 56, 57, 60, 61, 62, 71, 78, 81], 1: [8, 10, 15, 18, 29, 30, 38, 41, 45, 46, 49, 53, 67, 72, 79], 0: [12, 13, 21, 22, 40, 54, 63, 64, 74, 75, 77]}\n",
      "{2: 262518, 3: 162611, 1: 255704, 0: 122130}\n",
      "Reordering district warm start for bvap ordering\n",
      "{3: [0, 2, 4, 5, 7, 11, 14, 17, 19, 20, 23, 27, 28, 31, 34, 35, 36, 42, 43, 50, 51, 58, 59, 65, 66, 68, 69, 70, 73, 76, 80], 1: [1, 3, 6, 9, 16, 24, 25, 26, 32, 33, 37, 39, 44, 47, 48, 52, 55, 56, 57, 60, 61, 62, 71, 78, 81], 2: [8, 10, 15, 18, 29, 30, 38, 41, 45, 46, 49, 53, 67, 72, 79], 0: [12, 13, 21, 22, 40, 54, 63, 64, 74, 75, 77]}\n",
      "{3: 262518, 1: 162611, 2: 255704, 0: 122130}\n",
      "Changed value of parameter lazyConstraints to 1\n"
     ]
    },
    {
     "name": "stderr",
     "output_type": "stream",
     "text": [
      "2023-04-20 21:09:41,691 - INFO - Changed value of parameter lazyConstraints to 1\n"
     ]
    },
    {
     "name": "stdout",
     "output_type": "stream",
     "text": [
      "   Prev: 0  Min: 0  Max: 1  Default: 0\n"
     ]
    },
    {
     "name": "stderr",
     "output_type": "stream",
     "text": [
      "2023-04-20 21:09:41,691 - INFO -    Prev: 0  Min: 0  Max: 1  Default: 0\n"
     ]
    },
    {
     "name": "stdout",
     "output_type": "stream",
     "text": [
      "\n",
      " start stuff \n",
      "\n",
      "Changed value of parameter TimeLimit to 6000.0\n"
     ]
    },
    {
     "name": "stderr",
     "output_type": "stream",
     "text": [
      "2023-04-20 21:09:41,691 - INFO - Changed value of parameter TimeLimit to 6000.0\n"
     ]
    },
    {
     "name": "stdout",
     "output_type": "stream",
     "text": [
      "   Prev: inf  Min: 0.0  Max: inf  Default: inf\n"
     ]
    },
    {
     "name": "stderr",
     "output_type": "stream",
     "text": [
      "2023-04-20 21:09:41,707 - INFO -    Prev: inf  Min: 0.0  Max: inf  Default: inf\n"
     ]
    },
    {
     "name": "stdout",
     "output_type": "stream",
     "text": [
      "Changed value of parameter Method to 3\n"
     ]
    },
    {
     "name": "stderr",
     "output_type": "stream",
     "text": [
      "2023-04-20 21:09:41,707 - INFO - Changed value of parameter Method to 3\n"
     ]
    },
    {
     "name": "stdout",
     "output_type": "stream",
     "text": [
      "   Prev: -1  Min: -1  Max: 5  Default: -1\n"
     ]
    },
    {
     "name": "stderr",
     "output_type": "stream",
     "text": [
      "2023-04-20 21:09:41,723 - INFO -    Prev: -1  Min: -1  Max: 5  Default: -1\n"
     ]
    },
    {
     "name": "stdout",
     "output_type": "stream",
     "text": [
      "Changed value of parameter LogFile to ../results_for_config-MS-bvap-bounds_100min/MS-county-bvap_bounds-90.log\n"
     ]
    },
    {
     "name": "stderr",
     "output_type": "stream",
     "text": [
      "2023-04-20 21:09:41,738 - INFO - Changed value of parameter LogFile to ../results_for_config-MS-bvap-bounds_100min/MS-county-bvap_bounds-90.log\n"
     ]
    },
    {
     "name": "stdout",
     "output_type": "stream",
     "text": [
      "   Prev:   Default: \n"
     ]
    },
    {
     "name": "stderr",
     "output_type": "stream",
     "text": [
      "2023-04-20 21:09:41,738 - INFO -    Prev:   Default: \n"
     ]
    },
    {
     "name": "stdout",
     "output_type": "stream",
     "text": [
      "Gurobi Optimizer version 9.1.2 build v9.1.2rc0 (win64)\n"
     ]
    },
    {
     "name": "stderr",
     "output_type": "stream",
     "text": [
      "2023-04-20 21:09:41,738 - INFO - Gurobi Optimizer version 9.1.2 build v9.1.2rc0 (win64)\n"
     ]
    },
    {
     "name": "stdout",
     "output_type": "stream",
     "text": [
      "Thread count: 24 physical cores, 48 logical processors, using up to 24 threads\n"
     ]
    },
    {
     "name": "stderr",
     "output_type": "stream",
     "text": [
      "2023-04-20 21:09:41,754 - INFO - Thread count: 24 physical cores, 48 logical processors, using up to 24 threads\n"
     ]
    },
    {
     "name": "stdout",
     "output_type": "stream",
     "text": [
      "Optimize a model with 101 rows, 664 columns and 1654 nonzeros\n"
     ]
    },
    {
     "name": "stderr",
     "output_type": "stream",
     "text": [
      "2023-04-20 21:09:41,754 - INFO - Optimize a model with 101 rows, 664 columns and 1654 nonzeros\n"
     ]
    },
    {
     "name": "stdout",
     "output_type": "stream",
     "text": [
      "Model fingerprint: 0x5c92ad02\n"
     ]
    },
    {
     "name": "stderr",
     "output_type": "stream",
     "text": [
      "2023-04-20 21:09:41,754 - INFO - Model fingerprint: 0x5c92ad02\n"
     ]
    },
    {
     "name": "stdout",
     "output_type": "stream",
     "text": [
      "Variable types: 8 continuous, 656 integer (656 binary)\n"
     ]
    },
    {
     "name": "stderr",
     "output_type": "stream",
     "text": [
      "2023-04-20 21:09:41,770 - INFO - Variable types: 8 continuous, 656 integer (656 binary)\n"
     ]
    },
    {
     "name": "stdout",
     "output_type": "stream",
     "text": [
      "Coefficient statistics:\n"
     ]
    },
    {
     "name": "stderr",
     "output_type": "stream",
     "text": [
      "2023-04-20 21:09:41,770 - INFO - Coefficient statistics:\n"
     ]
    },
    {
     "name": "stdout",
     "output_type": "stream",
     "text": [
      "  Matrix range     [1e+00, 2e+05]\n"
     ]
    },
    {
     "name": "stderr",
     "output_type": "stream",
     "text": [
      "2023-04-20 21:09:41,785 - INFO -   Matrix range     [1e+00, 2e+05]\n"
     ]
    },
    {
     "name": "stdout",
     "output_type": "stream",
     "text": [
      "  Objective range  [1e+00, 1e+00]\n"
     ]
    },
    {
     "name": "stderr",
     "output_type": "stream",
     "text": [
      "2023-04-20 21:09:41,785 - INFO -   Objective range  [1e+00, 1e+00]\n"
     ]
    },
    {
     "name": "stdout",
     "output_type": "stream",
     "text": [
      "  Bounds range     [1e+00, 8e+05]\n"
     ]
    },
    {
     "name": "stderr",
     "output_type": "stream",
     "text": [
      "2023-04-20 21:09:41,801 - INFO -   Bounds range     [1e+00, 8e+05]\n"
     ]
    },
    {
     "name": "stdout",
     "output_type": "stream",
     "text": [
      "  RHS range        [1e+00, 8e+05]\n"
     ]
    },
    {
     "name": "stderr",
     "output_type": "stream",
     "text": [
      "2023-04-20 21:09:41,801 - INFO -   RHS range        [1e+00, 8e+05]\n"
     ]
    },
    {
     "name": "stdout",
     "output_type": "stream",
     "text": [
      "\n"
     ]
    },
    {
     "name": "stderr",
     "output_type": "stream",
     "text": [
      "2023-04-20 21:09:41,801 - INFO - \n"
     ]
    },
    {
     "name": "stdout",
     "output_type": "stream",
     "text": [
      "User MIP start produced solution with objective 516163 (0.06s)\n"
     ]
    },
    {
     "name": "stderr",
     "output_type": "stream",
     "text": [
      "2023-04-20 21:09:41,816 - INFO - User MIP start produced solution with objective 516163 (0.06s)\n"
     ]
    },
    {
     "name": "stdout",
     "output_type": "stream",
     "text": [
      "Loaded user MIP start with objective 516163\n"
     ]
    },
    {
     "name": "stderr",
     "output_type": "stream",
     "text": [
      "2023-04-20 21:09:41,832 - INFO - Loaded user MIP start with objective 516163\n"
     ]
    },
    {
     "name": "stdout",
     "output_type": "stream",
     "text": [
      "\n"
     ]
    },
    {
     "name": "stderr",
     "output_type": "stream",
     "text": [
      "2023-04-20 21:09:41,848 - INFO - \n"
     ]
    },
    {
     "name": "stdout",
     "output_type": "stream",
     "text": [
      "Presolve time: 0.02s\n"
     ]
    },
    {
     "name": "stderr",
     "output_type": "stream",
     "text": [
      "2023-04-20 21:09:41,863 - INFO - Presolve time: 0.02s\n"
     ]
    },
    {
     "name": "stdout",
     "output_type": "stream",
     "text": [
      "Presolved: 101 rows, 664 columns, 1654 nonzeros\n"
     ]
    },
    {
     "name": "stderr",
     "output_type": "stream",
     "text": [
      "2023-04-20 21:09:41,863 - INFO - Presolved: 101 rows, 664 columns, 1654 nonzeros\n"
     ]
    },
    {
     "name": "stdout",
     "output_type": "stream",
     "text": [
      "Variable types: 0 continuous, 664 integer (656 binary)\n"
     ]
    },
    {
     "name": "stderr",
     "output_type": "stream",
     "text": [
      "2023-04-20 21:09:41,879 - INFO - Variable types: 0 continuous, 664 integer (656 binary)\n"
     ]
    },
    {
     "name": "stdout",
     "output_type": "stream",
     "text": [
      "\n"
     ]
    },
    {
     "name": "stderr",
     "output_type": "stream",
     "text": [
      "2023-04-20 21:09:41,879 - INFO - \n"
     ]
    },
    {
     "name": "stdout",
     "output_type": "stream",
     "text": [
      "Concurrent LP optimizer: primal simplex, dual simplex, and barrier\n"
     ]
    },
    {
     "name": "stderr",
     "output_type": "stream",
     "text": [
      "2023-04-20 21:09:41,895 - INFO - Concurrent LP optimizer: primal simplex, dual simplex, and barrier\n"
     ]
    },
    {
     "name": "stdout",
     "output_type": "stream",
     "text": [
      "Showing barrier log only...\n"
     ]
    },
    {
     "name": "stderr",
     "output_type": "stream",
     "text": [
      "2023-04-20 21:09:41,895 - INFO - Showing barrier log only...\n"
     ]
    },
    {
     "name": "stdout",
     "output_type": "stream",
     "text": [
      "\n"
     ]
    },
    {
     "name": "stderr",
     "output_type": "stream",
     "text": [
      "2023-04-20 21:09:41,895 - INFO - \n"
     ]
    },
    {
     "name": "stdout",
     "output_type": "stream",
     "text": [
      "Root barrier log...\n"
     ]
    },
    {
     "name": "stderr",
     "output_type": "stream",
     "text": [
      "2023-04-20 21:09:41,910 - INFO - Root barrier log...\n"
     ]
    },
    {
     "name": "stdout",
     "output_type": "stream",
     "text": [
      "\n"
     ]
    },
    {
     "name": "stderr",
     "output_type": "stream",
     "text": [
      "2023-04-20 21:09:41,926 - INFO - \n"
     ]
    },
    {
     "name": "stdout",
     "output_type": "stream",
     "text": [
      "Ordering time: 0.00s\n"
     ]
    },
    {
     "name": "stderr",
     "output_type": "stream",
     "text": [
      "2023-04-20 21:09:41,926 - INFO - Ordering time: 0.00s\n"
     ]
    },
    {
     "name": "stdout",
     "output_type": "stream",
     "text": [
      "\n"
     ]
    },
    {
     "name": "stderr",
     "output_type": "stream",
     "text": [
      "2023-04-20 21:09:41,926 - INFO - \n"
     ]
    },
    {
     "name": "stdout",
     "output_type": "stream",
     "text": [
      "Barrier performed 0 iterations in 0.17 seconds\n"
     ]
    },
    {
     "name": "stderr",
     "output_type": "stream",
     "text": [
      "2023-04-20 21:09:41,941 - INFO - Barrier performed 0 iterations in 0.17 seconds\n"
     ]
    },
    {
     "name": "stdout",
     "output_type": "stream",
     "text": [
      "Barrier solve interrupted - model solved by another algorithm\n"
     ]
    },
    {
     "name": "stderr",
     "output_type": "stream",
     "text": [
      "2023-04-20 21:09:41,941 - INFO - Barrier solve interrupted - model solved by another algorithm\n"
     ]
    },
    {
     "name": "stdout",
     "output_type": "stream",
     "text": [
      "\n"
     ]
    },
    {
     "name": "stderr",
     "output_type": "stream",
     "text": [
      "2023-04-20 21:09:41,941 - INFO - \n"
     ]
    },
    {
     "name": "stdout",
     "output_type": "stream",
     "text": [
      "\n"
     ]
    },
    {
     "name": "stderr",
     "output_type": "stream",
     "text": [
      "2023-04-20 21:09:41,957 - INFO - \n"
     ]
    },
    {
     "name": "stdout",
     "output_type": "stream",
     "text": [
      "Solved with dual simplex\n"
     ]
    },
    {
     "name": "stderr",
     "output_type": "stream",
     "text": [
      "2023-04-20 21:09:41,957 - INFO - Solved with dual simplex\n"
     ]
    },
    {
     "name": "stdout",
     "output_type": "stream",
     "text": [
      "\n"
     ]
    },
    {
     "name": "stderr",
     "output_type": "stream",
     "text": [
      "2023-04-20 21:09:41,973 - INFO - \n"
     ]
    },
    {
     "name": "stdout",
     "output_type": "stream",
     "text": [
      "Root relaxation: objective 6.446340e+05, 161 iterations, 0.08 seconds\n"
     ]
    },
    {
     "name": "stderr",
     "output_type": "stream",
     "text": [
      "2023-04-20 21:09:41,973 - INFO - Root relaxation: objective 6.446340e+05, 161 iterations, 0.08 seconds\n"
     ]
    },
    {
     "name": "stdout",
     "output_type": "stream",
     "text": [
      "\n"
     ]
    },
    {
     "name": "stderr",
     "output_type": "stream",
     "text": [
      "2023-04-20 21:09:41,988 - INFO - \n"
     ]
    },
    {
     "name": "stdout",
     "output_type": "stream",
     "text": [
      "    Nodes    |    Current Node    |     Objective Bounds      |     Work\n"
     ]
    },
    {
     "name": "stderr",
     "output_type": "stream",
     "text": [
      "2023-04-20 21:09:41,988 - INFO -     Nodes    |    Current Node    |     Objective Bounds      |     Work\n"
     ]
    },
    {
     "name": "stdout",
     "output_type": "stream",
     "text": [
      " Expl Unexpl |  Obj  Depth IntInf | Incumbent    BestBd   Gap | It/Node Time\n"
     ]
    },
    {
     "name": "stderr",
     "output_type": "stream",
     "text": [
      "2023-04-20 21:09:41,988 - INFO -  Expl Unexpl |  Obj  Depth IntInf | Incumbent    BestBd   Gap | It/Node Time\n"
     ]
    },
    {
     "name": "stdout",
     "output_type": "stream",
     "text": [
      "\n"
     ]
    },
    {
     "name": "stderr",
     "output_type": "stream",
     "text": [
      "2023-04-20 21:09:42,004 - INFO - \n"
     ]
    },
    {
     "name": "stdout",
     "output_type": "stream",
     "text": [
      "     0     0 644634.000    0   12 516163.000 644634.000  24.9%     -    0s\n"
     ]
    },
    {
     "name": "stderr",
     "output_type": "stream",
     "text": [
      "2023-04-20 21:09:42,004 - INFO -      0     0 644634.000    0   12 516163.000 644634.000  24.9%     -    0s\n"
     ]
    },
    {
     "name": "stdout",
     "output_type": "stream",
     "text": [
      "     0     0 644132.519    0   37 516163.000 644132.519  24.8%     -    0s\n"
     ]
    },
    {
     "name": "stderr",
     "output_type": "stream",
     "text": [
      "2023-04-20 21:09:42,129 - INFO -      0     0 644132.519    0   37 516163.000 644132.519  24.8%     -    0s\n"
     ]
    },
    {
     "name": "stdout",
     "output_type": "stream",
     "text": [
      "     0     0 644046.786    0   40 516163.000 644046.786  24.8%     -    0s\n"
     ]
    },
    {
     "name": "stderr",
     "output_type": "stream",
     "text": [
      "2023-04-20 21:09:42,191 - INFO -      0     0 644046.786    0   40 516163.000 644046.786  24.8%     -    0s\n"
     ]
    },
    {
     "name": "stdout",
     "output_type": "stream",
     "text": [
      "     0     0 644046.786    0   40 516163.000 644046.786  24.8%     -    0s\n"
     ]
    },
    {
     "name": "stderr",
     "output_type": "stream",
     "text": [
      "2023-04-20 21:09:42,207 - INFO -      0     0 644046.786    0   40 516163.000 644046.786  24.8%     -    0s\n"
     ]
    },
    {
     "name": "stdout",
     "output_type": "stream",
     "text": [
      "     0     0 644004.674    0   38 516163.000 644004.674  24.8%     -    0s\n"
     ]
    },
    {
     "name": "stderr",
     "output_type": "stream",
     "text": [
      "2023-04-20 21:09:42,285 - INFO -      0     0 644004.674    0   38 516163.000 644004.674  24.8%     -    0s\n"
     ]
    },
    {
     "name": "stdout",
     "output_type": "stream",
     "text": [
      "     0     0 643971.713    0   39 516163.000 643971.713  24.8%     -    0s\n"
     ]
    },
    {
     "name": "stderr",
     "output_type": "stream",
     "text": [
      "2023-04-20 21:09:42,379 - INFO -      0     0 643971.713    0   39 516163.000 643971.713  24.8%     -    0s\n"
     ]
    },
    {
     "name": "stdout",
     "output_type": "stream",
     "text": [
      "     0     0 643966.532    0   42 516163.000 643966.532  24.8%     -    0s\n"
     ]
    },
    {
     "name": "stderr",
     "output_type": "stream",
     "text": [
      "2023-04-20 21:09:42,395 - INFO -      0     0 643966.532    0   42 516163.000 643966.532  24.8%     -    0s\n"
     ]
    },
    {
     "name": "stdout",
     "output_type": "stream",
     "text": [
      "     0     0 643965.863    0   46 516163.000 643965.863  24.8%     -    0s\n"
     ]
    },
    {
     "name": "stderr",
     "output_type": "stream",
     "text": [
      "2023-04-20 21:09:42,410 - INFO -      0     0 643965.863    0   46 516163.000 643965.863  24.8%     -    0s\n"
     ]
    },
    {
     "name": "stdout",
     "output_type": "stream",
     "text": [
      "     0     0 643957.403    0   49 516163.000 643957.403  24.8%     -    0s\n"
     ]
    },
    {
     "name": "stderr",
     "output_type": "stream",
     "text": [
      "2023-04-20 21:09:42,520 - INFO -      0     0 643957.403    0   49 516163.000 643957.403  24.8%     -    0s\n"
     ]
    },
    {
     "name": "stdout",
     "output_type": "stream",
     "text": [
      "     0     0 643797.160    0   36 516163.000 643797.160  24.7%     -    0s\n"
     ]
    },
    {
     "name": "stderr",
     "output_type": "stream",
     "text": [
      "2023-04-20 21:09:42,598 - INFO -      0     0 643797.160    0   36 516163.000 643797.160  24.7%     -    0s\n"
     ]
    },
    {
     "name": "stdout",
     "output_type": "stream",
     "text": [
      "     0     0 643796.667    0   35 516163.000 643796.667  24.7%     -    0s\n"
     ]
    },
    {
     "name": "stderr",
     "output_type": "stream",
     "text": [
      "2023-04-20 21:09:42,613 - INFO -      0     0 643796.667    0   35 516163.000 643796.667  24.7%     -    0s\n"
     ]
    },
    {
     "name": "stdout",
     "output_type": "stream",
     "text": [
      "     0     0 643796.053    0   35 516163.000 643796.053  24.7%     -    0s\n"
     ]
    },
    {
     "name": "stderr",
     "output_type": "stream",
     "text": [
      "2023-04-20 21:09:42,660 - INFO -      0     0 643796.053    0   35 516163.000 643796.053  24.7%     -    0s\n"
     ]
    },
    {
     "name": "stdout",
     "output_type": "stream",
     "text": [
      "     0     0 643776.689    0   49 516163.000 643776.689  24.7%     -    1s\n"
     ]
    },
    {
     "name": "stderr",
     "output_type": "stream",
     "text": [
      "2023-04-20 21:09:42,754 - INFO -      0     0 643776.689    0   49 516163.000 643776.689  24.7%     -    1s\n"
     ]
    },
    {
     "name": "stdout",
     "output_type": "stream",
     "text": [
      "     0     0 643776.674    0   49 516163.000 643776.674  24.7%     -    1s\n"
     ]
    },
    {
     "name": "stderr",
     "output_type": "stream",
     "text": [
      "2023-04-20 21:09:42,785 - INFO -      0     0 643776.674    0   49 516163.000 643776.674  24.7%     -    1s\n"
     ]
    },
    {
     "name": "stdout",
     "output_type": "stream",
     "text": [
      "     0     0 643773.901    0   45 516163.000 643773.901  24.7%     -    1s\n"
     ]
    },
    {
     "name": "stderr",
     "output_type": "stream",
     "text": [
      "2023-04-20 21:09:42,816 - INFO -      0     0 643773.901    0   45 516163.000 643773.901  24.7%     -    1s\n"
     ]
    },
    {
     "name": "stdout",
     "output_type": "stream",
     "text": [
      "     0     0 643690.957    0   46 516163.000 643690.957  24.7%     -    1s\n"
     ]
    },
    {
     "name": "stderr",
     "output_type": "stream",
     "text": [
      "2023-04-20 21:09:42,980 - INFO -      0     0 643690.957    0   46 516163.000 643690.957  24.7%     -    1s\n"
     ]
    },
    {
     "name": "stdout",
     "output_type": "stream",
     "text": [
      "     0     0 643689.602    0   46 516163.000 643689.602  24.7%     -    1s\n"
     ]
    },
    {
     "name": "stderr",
     "output_type": "stream",
     "text": [
      "2023-04-20 21:09:43,058 - INFO -      0     0 643689.602    0   46 516163.000 643689.602  24.7%     -    1s\n"
     ]
    },
    {
     "name": "stdout",
     "output_type": "stream",
     "text": [
      "     0     0 643688.110    0   47 516163.000 643688.110  24.7%     -    1s\n"
     ]
    },
    {
     "name": "stderr",
     "output_type": "stream",
     "text": [
      "2023-04-20 21:09:43,105 - INFO -      0     0 643688.110    0   47 516163.000 643688.110  24.7%     -    1s\n"
     ]
    },
    {
     "name": "stdout",
     "output_type": "stream",
     "text": [
      "     0     0 643688.110    0   47 516163.000 643688.110  24.7%     -    1s\n"
     ]
    },
    {
     "name": "stderr",
     "output_type": "stream",
     "text": [
      "2023-04-20 21:09:43,136 - INFO -      0     0 643688.110    0   47 516163.000 643688.110  24.7%     -    1s\n"
     ]
    },
    {
     "name": "stdout",
     "output_type": "stream",
     "text": [
      "     0     2 643647.815    0   46 516163.000 643647.815  24.7%     -    1s\n"
     ]
    },
    {
     "name": "stderr",
     "output_type": "stream",
     "text": [
      "2023-04-20 21:09:43,417 - INFO -      0     2 643647.815    0   46 516163.000 643647.815  24.7%     -    1s\n"
     ]
    },
    {
     "name": "stdout",
     "output_type": "stream",
     "text": [
      "    31    56 643377.929    5   18 516163.000 643435.451  24.7%  12.7   10s\n"
     ]
    },
    {
     "name": "stderr",
     "output_type": "stream",
     "text": [
      "2023-04-20 21:09:51,939 - INFO -     31    56 643377.929    5   18 516163.000 643435.451  24.7%  12.7   10s\n"
     ]
    },
    {
     "name": "stdout",
     "output_type": "stream",
     "text": [
      "  2429  2276 641211.764   37   41 516163.000 643362.315  24.6%  16.7   19s\n"
     ]
    },
    {
     "name": "stderr",
     "output_type": "stream",
     "text": [
      "2023-04-20 21:10:01,111 - INFO -   2429  2276 641211.764   37   41 516163.000 643362.315  24.6%  16.7   19s\n"
     ]
    },
    {
     "name": "stdout",
     "output_type": "stream",
     "text": [
      "  2499  2325 641196.723   38   40 516163.000 643362.315  24.6%  16.8   22s\n"
     ]
    },
    {
     "name": "stderr",
     "output_type": "stream",
     "text": [
      "2023-04-20 21:10:04,735 - INFO -   2499  2325 641196.723   38   40 516163.000 643362.315  24.6%  16.8   22s\n"
     ]
    },
    {
     "name": "stdout",
     "output_type": "stream",
     "text": [
      "  3212  2857 642352.923   10   91 516163.000 643226.000  24.6%  16.6   25s\n"
     ]
    },
    {
     "name": "stderr",
     "output_type": "stream",
     "text": [
      "2023-04-20 21:10:07,638 - INFO -   3212  2857 642352.923   10   91 516163.000 643226.000  24.6%  16.6   25s\n"
     ]
    },
    {
     "name": "stdout",
     "output_type": "stream",
     "text": [
      "H 3227  2725                    529385.00000 643158.000  21.5%  19.1   28s\n"
     ]
    },
    {
     "name": "stderr",
     "output_type": "stream",
     "text": [
      "2023-04-20 21:10:10,685 - INFO - H 3227  2725                    529385.00000 643158.000  21.5%  19.1   28s\n"
     ]
    },
    {
     "name": "stdout",
     "output_type": "stream",
     "text": [
      "  3269  2773 643136.512   16   97 529385.000 643155.690  21.5%  20.5   30s\n"
     ]
    },
    {
     "name": "stderr",
     "output_type": "stream",
     "text": [
      "2023-04-20 21:10:12,321 - INFO -   3269  2773 643136.512   16   97 529385.000 643155.690  21.5%  20.5   30s\n"
     ]
    },
    {
     "name": "stdout",
     "output_type": "stream",
     "text": [
      "  3341  2821 642853.904   18   89 529385.000 643155.509  21.5%  21.8   39s\n"
     ]
    },
    {
     "name": "stderr",
     "output_type": "stream",
     "text": [
      "2023-04-20 21:10:21,076 - INFO -   3341  2821 642853.904   18   89 529385.000 643155.509  21.5%  21.8   39s\n"
     ]
    },
    {
     "name": "stdout",
     "output_type": "stream",
     "text": [
      "  3412  2878 642853.391   19   85 529385.000 643155.509  21.5%  22.6   40s\n"
     ]
    },
    {
     "name": "stderr",
     "output_type": "stream",
     "text": [
      "2023-04-20 21:10:22,748 - INFO -   3412  2878 642853.391   19   85 529385.000 643155.509  21.5%  22.6   40s\n"
     ]
    },
    {
     "name": "stdout",
     "output_type": "stream",
     "text": [
      "  3496  2920 642851.467   21  101 529385.000 643155.509  21.5%  23.2   73s\n"
     ]
    },
    {
     "name": "stderr",
     "output_type": "stream",
     "text": [
      "2023-04-20 21:10:55,040 - INFO -   3496  2920 642851.467   21  101 529385.000 643155.509  21.5%  23.2   73s\n"
     ]
    },
    {
     "name": "stdout",
     "output_type": "stream",
     "text": [
      "  3520  2940 642711.919   21   90 529385.000 643155.509  21.5%  23.3   76s\n"
     ]
    },
    {
     "name": "stderr",
     "output_type": "stream",
     "text": [
      "2023-04-20 21:10:57,774 - INFO -   3520  2940 642711.919   21   90 529385.000 643155.509  21.5%  23.3   76s\n"
     ]
    },
    {
     "name": "stdout",
     "output_type": "stream",
     "text": [
      "  3665  3000 642648.331   23  101 529385.000 643155.509  21.5%  24.8   83s\n"
     ]
    },
    {
     "name": "stderr",
     "output_type": "stream",
     "text": [
      "2023-04-20 21:11:04,874 - INFO -   3665  3000 642648.331   23  101 529385.000 643155.509  21.5%  24.8   83s\n"
     ]
    },
    {
     "name": "stdout",
     "output_type": "stream",
     "text": [
      "  3902  3100 642604.437   28   72 529385.000 643155.509  21.5%  27.1   87s\n"
     ]
    },
    {
     "name": "stderr",
     "output_type": "stream",
     "text": [
      "2023-04-20 21:11:09,541 - INFO -   3902  3100 642604.437   28   72 529385.000 643155.509  21.5%  27.1   87s\n"
     ]
    },
    {
     "name": "stdout",
     "output_type": "stream",
     "text": [
      "  5256  3429 642128.000   44   78 529385.000 643155.509  21.5%  31.0  107s\n"
     ]
    },
    {
     "name": "stderr",
     "output_type": "stream",
     "text": [
      "2023-04-20 21:11:29,141 - INFO -   5256  3429 642128.000   44   78 529385.000 643155.509  21.5%  31.0  107s\n"
     ]
    },
    {
     "name": "stdout",
     "output_type": "stream",
     "text": [
      "  6668  3590 641727.880   60   49 529385.000 643155.509  21.5%  35.7  110s\n"
     ]
    },
    {
     "name": "stderr",
     "output_type": "stream",
     "text": [
      "2023-04-20 21:11:31,922 - INFO -   6668  3590 641727.880   60   49 529385.000 643155.509  21.5%  35.7  110s\n"
     ]
    },
    {
     "name": "stdout",
     "output_type": "stream",
     "text": [
      "  9871  3825 638544.000  129   47 529385.000 643155.509  21.5%  47.3  116s\n"
     ]
    },
    {
     "name": "stderr",
     "output_type": "stream",
     "text": [
      "2023-04-20 21:11:38,076 - INFO -   9871  3825 638544.000  129   47 529385.000 643155.509  21.5%  47.3  116s\n"
     ]
    },
    {
     "name": "stdout",
     "output_type": "stream",
     "text": [
      " 11195  3932 642690.000   31   70 529385.000 643145.000  21.5%  52.1  122s\n"
     ]
    },
    {
     "name": "stderr",
     "output_type": "stream",
     "text": [
      "2023-04-20 21:11:44,358 - INFO -  11195  3932 642690.000   31   70 529385.000 643145.000  21.5%  52.1  122s\n"
     ]
    },
    {
     "name": "stdout",
     "output_type": "stream",
     "text": [
      " 12417  4363 642069.000   51   79 529385.000 643145.000  21.5%  53.1  128s\n"
     ]
    },
    {
     "name": "stderr",
     "output_type": "stream",
     "text": [
      "2023-04-20 21:11:50,112 - INFO -  12417  4363 642069.000   51   79 529385.000 643145.000  21.5%  53.1  128s\n"
     ]
    },
    {
     "name": "stdout",
     "output_type": "stream",
     "text": [
      " 13466  4715 641819.000   72   82 529385.000 643145.000  21.5%  54.1  146s\n"
     ]
    },
    {
     "name": "stderr",
     "output_type": "stream",
     "text": [
      "2023-04-20 21:12:07,991 - INFO -  13466  4715 641819.000   72   82 529385.000 643145.000  21.5%  54.1  146s\n"
     ]
    },
    {
     "name": "stdout",
     "output_type": "stream",
     "text": [
      " 16192  5961 infeasible  221      529385.000 643139.000  21.5%  56.9  162s\n"
     ]
    },
    {
     "name": "stderr",
     "output_type": "stream",
     "text": [
      "2023-04-20 21:12:24,192 - INFO -  16192  5961 infeasible  221      529385.000 643139.000  21.5%  56.9  162s\n"
     ]
    },
    {
     "name": "stdout",
     "output_type": "stream",
     "text": [
      " 16877  6310 642797.840   29   84 529385.000 643139.000  21.5%  56.9  175s\n"
     ]
    },
    {
     "name": "stderr",
     "output_type": "stream",
     "text": [
      "2023-04-20 21:12:37,132 - INFO -  16877  6310 642797.840   29   84 529385.000 643139.000  21.5%  56.9  175s\n"
     ]
    },
    {
     "name": "stdout",
     "output_type": "stream",
     "text": [
      " 18580  7077 641956.000   63   97 529385.000 643139.000  21.5%  58.6  195s\n"
     ]
    },
    {
     "name": "stderr",
     "output_type": "stream",
     "text": [
      "2023-04-20 21:12:56,766 - INFO -  18580  7077 641956.000   63   97 529385.000 643139.000  21.5%  58.6  195s\n"
     ]
    },
    {
     "name": "stdout",
     "output_type": "stream",
     "text": [
      "H19326  7579                    556328.00000 643139.000  15.6%  59.4  196s\n"
     ]
    },
    {
     "name": "stderr",
     "output_type": "stream",
     "text": [
      "2023-04-20 21:12:58,290 - INFO - H19326  7579                    556328.00000 643139.000  15.6%  59.4  196s\n"
     ]
    },
    {
     "name": "stdout",
     "output_type": "stream",
     "text": [
      " 19976  7783 infeasible  127      556328.000 643087.000  15.6%  59.7  201s\n"
     ]
    },
    {
     "name": "stderr",
     "output_type": "stream",
     "text": [
      "2023-04-20 21:13:03,384 - INFO -  19976  7783 infeasible  127      556328.000 643087.000  15.6%  59.7  201s\n"
     ]
    },
    {
     "name": "stdout",
     "output_type": "stream",
     "text": [
      "H20056  7679                    588263.00000 643087.000  9.32%  60.0  201s\n"
     ]
    },
    {
     "name": "stderr",
     "output_type": "stream",
     "text": [
      "2023-04-20 21:13:03,430 - INFO - H20056  7679                    588263.00000 643087.000  9.32%  60.0  201s\n"
     ]
    },
    {
     "name": "stdout",
     "output_type": "stream",
     "text": [
      "H20268  7656                    594310.00000 643087.000  8.21%  60.0  201s\n"
     ]
    },
    {
     "name": "stderr",
     "output_type": "stream",
     "text": [
      "2023-04-20 21:13:03,571 - INFO - H20268  7656                    594310.00000 643087.000  8.21%  60.0  201s\n"
     ]
    },
    {
     "name": "stdout",
     "output_type": "stream",
     "text": [
      " 20514  7825 642381.273   33  103 594310.000 643087.000  8.21%  60.2  205s\n"
     ]
    },
    {
     "name": "stderr",
     "output_type": "stream",
     "text": [
      "2023-04-20 21:13:07,321 - INFO -  20514  7825 642381.273   33  103 594310.000 643087.000  8.21%  60.2  205s\n"
     ]
    },
    {
     "name": "stdout",
     "output_type": "stream",
     "text": [
      " 21371  8174 641063.000   75   85 594310.000 643087.000  8.21%  61.7  221s\n"
     ]
    },
    {
     "name": "stderr",
     "output_type": "stream",
     "text": [
      "2023-04-20 21:13:23,171 - INFO -  21371  8174 641063.000   75   85 594310.000 643087.000  8.21%  61.7  221s\n"
     ]
    },
    {
     "name": "stdout",
     "output_type": "stream",
     "text": [
      " 22354  8696 637049.086  113   82 594310.000 643087.000  8.21%  62.7  232s\n"
     ]
    },
    {
     "name": "stderr",
     "output_type": "stream",
     "text": [
      "2023-04-20 21:13:34,680 - INFO -  22354  8696 637049.086  113   82 594310.000 643087.000  8.21%  62.7  232s\n"
     ]
    },
    {
     "name": "stdout",
     "output_type": "stream",
     "text": [
      " 23586  9132 642428.000   30   99 594310.000 643064.000  8.20%  63.0  235s\n"
     ]
    },
    {
     "name": "stderr",
     "output_type": "stream",
     "text": [
      "2023-04-20 21:13:37,055 - INFO -  23586  9132 642428.000   30   99 594310.000 643064.000  8.20%  63.0  235s\n"
     ]
    },
    {
     "name": "stdout",
     "output_type": "stream",
     "text": [
      " 24673  9721 640527.000   64   98 594310.000 643064.000  8.20%  64.7  241s\n"
     ]
    },
    {
     "name": "stderr",
     "output_type": "stream",
     "text": [
      "2023-04-20 21:13:43,075 - INFO -  24673  9721 640527.000   64   98 594310.000 643064.000  8.20%  64.7  241s\n"
     ]
    },
    {
     "name": "stdout",
     "output_type": "stream",
     "text": [
      " 25330 10054 639592.300   86   68 594310.000 643064.000  8.20%  65.1  247s\n"
     ]
    },
    {
     "name": "stderr",
     "output_type": "stream",
     "text": [
      "2023-04-20 21:13:49,038 - INFO -  25330 10054 639592.300   86   68 594310.000 643064.000  8.20%  65.1  247s\n"
     ]
    },
    {
     "name": "stdout",
     "output_type": "stream",
     "text": [
      " 26103 10395 638035.000  130   50 594310.000 643048.000  8.20%  65.4  253s\n"
     ]
    },
    {
     "name": "stderr",
     "output_type": "stream",
     "text": [
      "2023-04-20 21:13:55,636 - INFO -  26103 10395 638035.000  130   50 594310.000 643048.000  8.20%  65.4  253s\n"
     ]
    },
    {
     "name": "stdout",
     "output_type": "stream",
     "text": [
      " 26889 10489 642315.000   38   99 594310.000 643048.000  8.20%  66.1  277s\n"
     ]
    },
    {
     "name": "stderr",
     "output_type": "stream",
     "text": [
      "2023-04-20 21:14:18,878 - INFO -  26889 10489 642315.000   38   99 594310.000 643048.000  8.20%  66.1  277s\n"
     ]
    },
    {
     "name": "stdout",
     "output_type": "stream",
     "text": [
      " 27110 10775 641933.000   51   92 594310.000 643048.000  8.20%  66.3  283s\n"
     ]
    },
    {
     "name": "stderr",
     "output_type": "stream",
     "text": [
      "2023-04-20 21:14:25,572 - INFO -  27110 10775 641933.000   51   92 594310.000 643048.000  8.20%  66.3  283s\n"
     ]
    },
    {
     "name": "stdout",
     "output_type": "stream",
     "text": [
      " 27753 11208 639732.000   76   88 594310.000 643048.000  8.20%  67.4  289s\n"
     ]
    },
    {
     "name": "stderr",
     "output_type": "stream",
     "text": [
      "2023-04-20 21:14:31,224 - INFO -  27753 11208 639732.000   76   88 594310.000 643048.000  8.20%  67.4  289s\n"
     ]
    },
    {
     "name": "stdout",
     "output_type": "stream",
     "text": [
      " 28646 11237 637262.000  108   71 594310.000 643048.000  8.20%  68.2  310s\n"
     ]
    },
    {
     "name": "stderr",
     "output_type": "stream",
     "text": [
      "2023-04-20 21:14:51,941 - INFO -  28646 11237 637262.000  108   71 594310.000 643048.000  8.20%  68.2  310s\n"
     ]
    },
    {
     "name": "stdout",
     "output_type": "stream",
     "text": [
      " 30451 12495 641910.280   53   94 594310.000 643014.000  8.20%  70.7  315s\n"
     ]
    },
    {
     "name": "stderr",
     "output_type": "stream",
     "text": [
      "2023-04-20 21:14:56,777 - INFO -  30451 12495 641910.280   53   94 594310.000 643014.000  8.20%  70.7  315s\n"
     ]
    },
    {
     "name": "stdout",
     "output_type": "stream",
     "text": [
      " 32879 13304 638603.962   90   67 594310.000 643014.000  8.20%  72.1  340s\n"
     ]
    },
    {
     "name": "stderr",
     "output_type": "stream",
     "text": [
      "2023-04-20 21:15:22,619 - INFO -  32879 13304 638603.962   90   67 594310.000 643014.000  8.20%  72.1  340s\n"
     ]
    },
    {
     "name": "stdout",
     "output_type": "stream",
     "text": [
      " 34919 14419 642487.426   50  107 594310.000 643014.000  8.20%  72.8  347s\n"
     ]
    },
    {
     "name": "stderr",
     "output_type": "stream",
     "text": [
      "2023-04-20 21:15:29,178 - INFO -  34919 14419 642487.426   50  107 594310.000 643014.000  8.20%  72.8  347s\n"
     ]
    },
    {
     "name": "stdout",
     "output_type": "stream",
     "text": [
      " 37451 15002 606425.000  129   64 594310.000 642992.503  8.19%  74.1  365s\n"
     ]
    },
    {
     "name": "stderr",
     "output_type": "stream",
     "text": [
      "2023-04-20 21:15:47,043 - INFO -  37451 15002 606425.000  129   64 594310.000 642992.503  8.19%  74.1  365s\n"
     ]
    },
    {
     "name": "stdout",
     "output_type": "stream",
     "text": [
      " 39921 15741 640452.761   46   67 594310.000 642992.503  8.19%  78.2  402s\n"
     ]
    },
    {
     "name": "stderr",
     "output_type": "stream",
     "text": [
      "2023-04-20 21:16:24,255 - INFO -  39921 15741 640452.761   46   67 594310.000 642992.503  8.19%  78.2  402s\n"
     ]
    },
    {
     "name": "stdout",
     "output_type": "stream",
     "text": [
      " 40102 15968 640984.600   47   97 594310.000 642992.503  8.19%  78.3  425s\n"
     ]
    },
    {
     "name": "stderr",
     "output_type": "stream",
     "text": [
      "2023-04-20 21:16:46,973 - INFO -  40102 15968 640984.600   47   97 594310.000 642992.503  8.19%  78.3  425s\n"
     ]
    },
    {
     "name": "stdout",
     "output_type": "stream",
     "text": [
      " 41831 17004 639755.399   68   88 594310.000 642992.503  8.19%  80.3  430s\n"
     ]
    },
    {
     "name": "stderr",
     "output_type": "stream",
     "text": [
      "2023-04-20 21:16:52,269 - INFO -  41831 17004 639755.399   68   88 594310.000 642992.503  8.19%  80.3  430s\n"
     ]
    },
    {
     "name": "stdout",
     "output_type": "stream",
     "text": [
      " 44789 18136 642644.127   33  105 594310.000 642945.000  8.18%  81.7  454s\n"
     ]
    },
    {
     "name": "stderr",
     "output_type": "stream",
     "text": [
      "2023-04-20 21:17:15,948 - INFO -  44789 18136 642644.127   33  105 594310.000 642945.000  8.18%  81.7  454s\n"
     ]
    },
    {
     "name": "stdout",
     "output_type": "stream",
     "text": [
      " 45953 18736 642181.214   44  104 594310.000 642945.000  8.18%  82.2  457s\n"
     ]
    },
    {
     "name": "stderr",
     "output_type": "stream",
     "text": [
      "2023-04-20 21:17:19,122 - INFO -  45953 18736 642181.214   44  104 594310.000 642945.000  8.18%  82.2  457s\n"
     ]
    },
    {
     "name": "stdout",
     "output_type": "stream",
     "text": [
      " 47446 18841 640755.000   75   87 594310.000 642945.000  8.18%  83.0  480s\n"
     ]
    },
    {
     "name": "stderr",
     "output_type": "stream",
     "text": [
      "2023-04-20 21:17:41,910 - INFO -  47446 18841 640755.000   75   87 594310.000 642945.000  8.18%  83.0  480s\n"
     ]
    },
    {
     "name": "stdout",
     "output_type": "stream",
     "text": [
      " 48762 19680 642765.013   55  119 594310.000 642936.031  8.18%  84.6  510s\n"
     ]
    },
    {
     "name": "stderr",
     "output_type": "stream",
     "text": [
      "2023-04-20 21:18:12,127 - INFO -  48762 19680 642765.013   55  119 594310.000 642936.031  8.18%  84.6  510s\n"
     ]
    },
    {
     "name": "stdout",
     "output_type": "stream",
     "text": [
      " 49741 20109 640810.000   80   80 594310.000 642914.056  8.18%  85.5  526s\n"
     ]
    },
    {
     "name": "stderr",
     "output_type": "stream",
     "text": [
      "2023-04-20 21:18:28,536 - INFO -  49741 20109 640810.000   80   80 594310.000 642914.056  8.18%  85.5  526s\n"
     ]
    },
    {
     "name": "stdout",
     "output_type": "stream",
     "text": [
      " 51928 21038 641401.819   41   94 594310.000 642914.056  8.18%  87.9  532s\n"
     ]
    },
    {
     "name": "stderr",
     "output_type": "stream",
     "text": [
      "2023-04-20 21:18:33,799 - INFO -  51928 21038 641401.819   41   94 594310.000 642914.056  8.18%  87.9  532s\n"
     ]
    },
    {
     "name": "stdout",
     "output_type": "stream",
     "text": [
      " 53202 21574 641045.975   61   78 594310.000 642914.056  8.18%  89.3  547s\n"
     ]
    },
    {
     "name": "stderr",
     "output_type": "stream",
     "text": [
      "2023-04-20 21:18:49,089 - INFO -  53202 21574 641045.975   61   78 594310.000 642914.056  8.18%  89.3  547s\n"
     ]
    },
    {
     "name": "stdout",
     "output_type": "stream",
     "text": [
      " 54429 22034 636186.000  101   67 594310.000 642914.056  8.18%  90.1  564s\n"
     ]
    },
    {
     "name": "stderr",
     "output_type": "stream",
     "text": [
      "2023-04-20 21:19:06,647 - INFO -  54429 22034 636186.000  101   67 594310.000 642914.056  8.18%  90.1  564s\n"
     ]
    },
    {
     "name": "stdout",
     "output_type": "stream",
     "text": [
      " 55587 22798 626751.482  137   37 594310.000 642888.000  8.17%  90.9  568s\n"
     ]
    },
    {
     "name": "stderr",
     "output_type": "stream",
     "text": [
      "2023-04-20 21:19:09,803 - INFO -  55587 22798 626751.482  137   37 594310.000 642888.000  8.17%  90.9  568s\n"
     ]
    },
    {
     "name": "stdout",
     "output_type": "stream",
     "text": [
      " 57384 23649 642243.000   47  115 594310.000 642878.000  8.17%  91.7  573s\n"
     ]
    },
    {
     "name": "stderr",
     "output_type": "stream",
     "text": [
      "2023-04-20 21:19:14,976 - INFO -  57384 23649 642243.000   47  115 594310.000 642878.000  8.17%  91.7  573s\n"
     ]
    },
    {
     "name": "stdout",
     "output_type": "stream",
     "text": [
      " 59452 24437 642649.000   53  110 594310.000 642873.000  8.17%  92.5  586s\n"
     ]
    },
    {
     "name": "stderr",
     "output_type": "stream",
     "text": [
      "2023-04-20 21:19:28,050 - INFO -  59452 24437 642649.000   53  110 594310.000 642873.000  8.17%  92.5  586s\n"
     ]
    },
    {
     "name": "stdout",
     "output_type": "stream",
     "text": [
      " 61567 25128 641979.000   51  103 594310.000 642867.000  8.17%  93.1  601s\n"
     ]
    },
    {
     "name": "stderr",
     "output_type": "stream",
     "text": [
      "2023-04-20 21:19:42,816 - INFO -  61567 25128 641979.000   51  103 594310.000 642867.000  8.17%  93.1  601s\n"
     ]
    },
    {
     "name": "stdout",
     "output_type": "stream",
     "text": [
      " 63306 25150 630174.000  148   46 594310.000 642867.000  8.17%  94.1  624s\n"
     ]
    },
    {
     "name": "stderr",
     "output_type": "stream",
     "text": [
      "2023-04-20 21:20:06,478 - INFO -  63306 25150 630174.000  148   46 594310.000 642867.000  8.17%  94.1  624s\n"
     ]
    },
    {
     "name": "stdout",
     "output_type": "stream",
     "text": [
      " 63323 25150 641693.000   39   97 594310.000 642867.000  8.17%  94.1  625s\n"
     ]
    },
    {
     "name": "stderr",
     "output_type": "stream",
     "text": [
      "2023-04-20 21:20:06,822 - INFO -  63323 25150 641693.000   39   97 594310.000 642867.000  8.17%  94.1  625s\n"
     ]
    },
    {
     "name": "stdout",
     "output_type": "stream",
     "text": [
      "H63325 25143                    595276.00000 642867.000  7.99%  94.1  625s\n"
     ]
    },
    {
     "name": "stderr",
     "output_type": "stream",
     "text": [
      "2023-04-20 21:20:06,884 - INFO - H63325 25143                    595276.00000 642867.000  7.99%  94.1  625s\n"
     ]
    },
    {
     "name": "stdout",
     "output_type": "stream",
     "text": [
      " 63337 25690 infeasible  149      595276.000 642863.000  7.99%  94.1  631s\n"
     ]
    },
    {
     "name": "stderr",
     "output_type": "stream",
     "text": [
      "2023-04-20 21:20:12,982 - INFO -  63337 25690 infeasible  149      595276.000 642863.000  7.99%  94.1  631s\n"
     ]
    },
    {
     "name": "stdout",
     "output_type": "stream",
     "text": [
      " 64701 26403 642234.000   28  107 595276.000 642863.000  7.99%  96.0  646s\n"
     ]
    },
    {
     "name": "stderr",
     "output_type": "stream",
     "text": [
      "2023-04-20 21:20:28,240 - INFO -  64701 26403 642234.000   28  107 595276.000 642863.000  7.99%  96.0  646s\n"
     ]
    },
    {
     "name": "stdout",
     "output_type": "stream",
     "text": [
      "H65773 25952                    609402.00000 642863.000  5.49%  96.6  646s\n"
     ]
    },
    {
     "name": "stderr",
     "output_type": "stream",
     "text": [
      "2023-04-20 21:20:28,552 - INFO - H65773 25952                    609402.00000 642863.000  5.49%  96.6  646s\n"
     ]
    },
    {
     "name": "stdout",
     "output_type": "stream",
     "text": [
      " 66553 26488 640449.000   88   37 609402.000 642860.000  5.49%  97.1  654s\n"
     ]
    },
    {
     "name": "stderr",
     "output_type": "stream",
     "text": [
      "2023-04-20 21:20:36,259 - INFO -  66553 26488 640449.000   88   37 609402.000 642860.000  5.49%  97.1  654s\n"
     ]
    },
    {
     "name": "stdout",
     "output_type": "stream",
     "text": [
      " 67934 27162 642453.077   56  129 609402.000 642860.000  5.49%  98.9  666s\n"
     ]
    },
    {
     "name": "stderr",
     "output_type": "stream",
     "text": [
      "2023-04-20 21:20:48,277 - INFO -  67934 27162 642453.077   56  129 609402.000 642860.000  5.49%  98.9  666s\n"
     ]
    },
    {
     "name": "stdout",
     "output_type": "stream",
     "text": [
      " 69645 28118 641292.000   79   87 609402.000 642852.729  5.49%   100  675s\n"
     ]
    },
    {
     "name": "stderr",
     "output_type": "stream",
     "text": [
      "2023-04-20 21:20:57,737 - INFO -  69645 28118 641292.000   79   87 609402.000 642852.729  5.49%   100  675s\n"
     ]
    },
    {
     "name": "stdout",
     "output_type": "stream",
     "text": [
      " 71933 28857 641586.000   59   96 609402.000 642850.000  5.49%   101  683s\n"
     ]
    },
    {
     "name": "stderr",
     "output_type": "stream",
     "text": [
      "2023-04-20 21:21:05,051 - INFO -  71933 28857 641586.000   59   96 609402.000 642850.000  5.49%   101  683s\n"
     ]
    },
    {
     "name": "stdout",
     "output_type": "stream",
     "text": [
      " 73758 29538 641323.088   55  120 609402.000 642842.955  5.49%   102  692s\n"
     ]
    },
    {
     "name": "stderr",
     "output_type": "stream",
     "text": [
      "2023-04-20 21:21:14,158 - INFO -  73758 29538 641323.088   55  120 609402.000 642842.955  5.49%   102  692s\n"
     ]
    },
    {
     "name": "stdout",
     "output_type": "stream",
     "text": [
      " 75578 30396 634665.800   82   85 609402.000 642841.868  5.49%   103  705s\n"
     ]
    },
    {
     "name": "stderr",
     "output_type": "stream",
     "text": [
      "2023-04-20 21:21:27,105 - INFO -  75578 30396 634665.800   82   85 609402.000 642841.868  5.49%   103  705s\n"
     ]
    },
    {
     "name": "stdout",
     "output_type": "stream",
     "text": [
      " 77702 31098 641548.000   33   85 609402.000 642834.000  5.49%   103  715s\n"
     ]
    },
    {
     "name": "stderr",
     "output_type": "stream",
     "text": [
      "2023-04-20 21:21:36,924 - INFO -  77702 31098 641548.000   33   85 609402.000 642834.000  5.49%   103  715s\n"
     ]
    },
    {
     "name": "stdout",
     "output_type": "stream",
     "text": [
      " 79411 31621 640775.652   50   94 609402.000 642826.000  5.48%   104  730s\n"
     ]
    },
    {
     "name": "stderr",
     "output_type": "stream",
     "text": [
      "2023-04-20 21:21:52,414 - INFO -  79411 31621 640775.652   50   94 609402.000 642826.000  5.48%   104  730s\n"
     ]
    },
    {
     "name": "stdout",
     "output_type": "stream",
     "text": [
      "H79743 30822                    620411.00000 642821.000  3.61%   105  730s\n"
     ]
    },
    {
     "name": "stderr",
     "output_type": "stream",
     "text": [
      "2023-04-20 21:21:52,507 - INFO - H79743 30822                    620411.00000 642821.000  3.61%   105  730s\n"
     ]
    },
    {
     "name": "stdout",
     "output_type": "stream",
     "text": [
      " 80957 31629 642742.000   38   95 620411.000 642821.000  3.61%   105  736s\n"
     ]
    },
    {
     "name": "stderr",
     "output_type": "stream",
     "text": [
      "2023-04-20 21:21:57,882 - INFO -  80957 31629 642742.000   38   95 620411.000 642821.000  3.61%   105  736s\n"
     ]
    },
    {
     "name": "stdout",
     "output_type": "stream",
     "text": [
      " 83112 32683 631814.000  109  106 620411.000 642816.000  3.61%   106  742s\n"
     ]
    },
    {
     "name": "stderr",
     "output_type": "stream",
     "text": [
      "2023-04-20 21:22:04,081 - INFO -  83112 32683 631814.000  109  106 620411.000 642816.000  3.61%   106  742s\n"
     ]
    },
    {
     "name": "stdout",
     "output_type": "stream",
     "text": [
      " 85491 33387 626017.136  111   54 620411.000 642809.000  3.61%   106  746s\n"
     ]
    },
    {
     "name": "stderr",
     "output_type": "stream",
     "text": [
      "2023-04-20 21:22:08,387 - INFO -  85491 33387 626017.136  111   54 620411.000 642809.000  3.61%   106  746s\n"
     ]
    },
    {
     "name": "stdout",
     "output_type": "stream",
     "text": [
      " 87249 34076     cutoff   65      620411.000 642804.000  3.61%   107  750s\n"
     ]
    },
    {
     "name": "stderr",
     "output_type": "stream",
     "text": [
      "2023-04-20 21:22:11,925 - INFO -  87249 34076     cutoff   65      620411.000 642804.000  3.61%   107  750s\n"
     ]
    },
    {
     "name": "stdout",
     "output_type": "stream",
     "text": [
      " 90265 35205 638580.044   67  101 620411.000 642801.000  3.61%   109  757s\n"
     ]
    },
    {
     "name": "stderr",
     "output_type": "stream",
     "text": [
      "2023-04-20 21:22:19,589 - INFO -  90265 35205 638580.044   67  101 620411.000 642801.000  3.61%   109  757s\n"
     ]
    },
    {
     "name": "stdout",
     "output_type": "stream",
     "text": [
      " 92070 35770 641322.242   31  105 620411.000 642794.000  3.61%   110  761s\n"
     ]
    },
    {
     "name": "stderr",
     "output_type": "stream",
     "text": [
      "2023-04-20 21:22:23,448 - INFO -  92070 35770 641322.242   31  105 620411.000 642794.000  3.61%   110  761s\n"
     ]
    },
    {
     "name": "stdout",
     "output_type": "stream",
     "text": [
      " 94563 36404 629380.000  104   62 620411.000 642789.000  3.61%   111  765s\n"
     ]
    },
    {
     "name": "stderr",
     "output_type": "stream",
     "text": [
      "2023-04-20 21:22:26,800 - INFO -  94563 36404 629380.000  104   62 620411.000 642789.000  3.61%   111  765s\n"
     ]
    },
    {
     "name": "stdout",
     "output_type": "stream",
     "text": [
      " 95662 37217 638051.000   97  108 620411.000 642788.000  3.61%   111  775s\n"
     ]
    },
    {
     "name": "stderr",
     "output_type": "stream",
     "text": [
      "2023-04-20 21:22:37,202 - INFO -  95662 37217 638051.000   97  108 620411.000 642788.000  3.61%   111  775s\n"
     ]
    },
    {
     "name": "stdout",
     "output_type": "stream",
     "text": [
      " 97705 38009 640048.000   86  105 620411.000 642780.000  3.61%   112  790s\n"
     ]
    },
    {
     "name": "stderr",
     "output_type": "stream",
     "text": [
      "2023-04-20 21:22:52,751 - INFO -  97705 38009 640048.000   86  105 620411.000 642780.000  3.61%   112  790s\n"
     ]
    },
    {
     "name": "stdout",
     "output_type": "stream",
     "text": [
      " 99637 38774 641190.145   54  105 620411.000 642777.000  3.61%   113  797s\n"
     ]
    },
    {
     "name": "stderr",
     "output_type": "stream",
     "text": [
      "2023-04-20 21:22:59,041 - INFO -  99637 38774 641190.145   54  105 620411.000 642777.000  3.61%   113  797s\n"
     ]
    },
    {
     "name": "stdout",
     "output_type": "stream",
     "text": [
      " 101678 39416 633792.000   88   76 620411.000 642773.000  3.60%   113  803s\n"
     ]
    },
    {
     "name": "stderr",
     "output_type": "stream",
     "text": [
      "2023-04-20 21:23:05,387 - INFO -  101678 39416 633792.000   88   76 620411.000 642773.000  3.60%   113  803s\n"
     ]
    },
    {
     "name": "stdout",
     "output_type": "stream",
     "text": [
      " 103493 40210 639179.000   61   35 620411.000 642769.000  3.60%   114  815s\n"
     ]
    },
    {
     "name": "stderr",
     "output_type": "stream",
     "text": [
      "2023-04-20 21:23:17,554 - INFO -  103493 40210 639179.000   61   35 620411.000 642769.000  3.60%   114  815s\n"
     ]
    },
    {
     "name": "stdout",
     "output_type": "stream",
     "text": [
      " 105642 41063 infeasible  153      620411.000 642769.000  3.60%   115  831s\n"
     ]
    },
    {
     "name": "stderr",
     "output_type": "stream",
     "text": [
      "2023-04-20 21:23:33,477 - INFO -  105642 41063 infeasible  153      620411.000 642769.000  3.60%   115  831s\n"
     ]
    },
    {
     "name": "stdout",
     "output_type": "stream",
     "text": [
      " 107971 41756 640271.000   83  119 620411.000 642762.000  3.60%   115  847s\n"
     ]
    },
    {
     "name": "stderr",
     "output_type": "stream",
     "text": [
      "2023-04-20 21:23:48,958 - INFO -  107971 41756 640271.000   83  119 620411.000 642762.000  3.60%   115  847s\n"
     ]
    },
    {
     "name": "stdout",
     "output_type": "stream",
     "text": [
      " 109508 42556 642317.000   43  115 620411.000 642760.000  3.60%   115  851s\n"
     ]
    },
    {
     "name": "stderr",
     "output_type": "stream",
     "text": [
      "2023-04-20 21:23:52,927 - INFO -  109508 42556 642317.000   43  115 620411.000 642760.000  3.60%   115  851s\n"
     ]
    },
    {
     "name": "stdout",
     "output_type": "stream",
     "text": [
      " 111237 43525 636144.000  114   90 620411.000 642757.000  3.60%   116  864s\n"
     ]
    },
    {
     "name": "stderr",
     "output_type": "stream",
     "text": [
      "2023-04-20 21:24:06,422 - INFO -  111237 43525 636144.000  114   90 620411.000 642757.000  3.60%   116  864s\n"
     ]
    },
    {
     "name": "stdout",
     "output_type": "stream",
     "text": [
      " 113373 44323 640872.000   79  113 620411.000 642751.941  3.60%   116  879s\n"
     ]
    },
    {
     "name": "stderr",
     "output_type": "stream",
     "text": [
      "2023-04-20 21:24:20,757 - INFO -  113373 44323 640872.000   79  113 620411.000 642751.941  3.60%   116  879s\n"
     ]
    },
    {
     "name": "stdout",
     "output_type": "stream",
     "text": [
      " 115083 45055 642536.000   30  103 620411.000 642751.941  3.60%   116  891s\n"
     ]
    },
    {
     "name": "stderr",
     "output_type": "stream",
     "text": [
      "2023-04-20 21:24:32,879 - INFO -  115083 45055 642536.000   30  103 620411.000 642751.941  3.60%   116  891s\n"
     ]
    },
    {
     "name": "stdout",
     "output_type": "stream",
     "text": [
      " 116902 45706 636267.247  111   79 620411.000 642743.000  3.60%   117  903s\n"
     ]
    },
    {
     "name": "stderr",
     "output_type": "stream",
     "text": [
      "2023-04-20 21:24:45,142 - INFO -  116902 45706 636267.247  111   79 620411.000 642743.000  3.60%   117  903s\n"
     ]
    },
    {
     "name": "stdout",
     "output_type": "stream",
     "text": [
      " 118657 46636 634060.000   88   88 620411.000 642740.000  3.60%   118  917s\n"
     ]
    },
    {
     "name": "stderr",
     "output_type": "stream",
     "text": [
      "2023-04-20 21:24:58,967 - INFO -  118657 46636 634060.000   88   88 620411.000 642740.000  3.60%   118  917s\n"
     ]
    },
    {
     "name": "stdout",
     "output_type": "stream",
     "text": [
      " 121228 47490     cutoff  118      620411.000 642735.000  3.60%   118  938s\n"
     ]
    },
    {
     "name": "stderr",
     "output_type": "stream",
     "text": [
      "2023-04-20 21:25:20,643 - INFO -  121228 47490     cutoff  118      620411.000 642735.000  3.60%   118  938s\n"
     ]
    },
    {
     "name": "stdout",
     "output_type": "stream",
     "text": [
      " 123179 48530 642492.774   28   97 620411.000 642729.270  3.60%   118  945s\n"
     ]
    },
    {
     "name": "stderr",
     "output_type": "stream",
     "text": [
      "2023-04-20 21:25:27,254 - INFO -  123179 48530 642492.774   28   97 620411.000 642729.270  3.60%   118  945s\n"
     ]
    },
    {
     "name": "stdout",
     "output_type": "stream",
     "text": [
      " 125470 49520     cutoff  122      620411.000 642720.000  3.60%   118  960s\n"
     ]
    },
    {
     "name": "stderr",
     "output_type": "stream",
     "text": [
      "2023-04-20 21:25:41,771 - INFO -  125470 49520     cutoff  122      620411.000 642720.000  3.60%   118  960s\n"
     ]
    },
    {
     "name": "stdout",
     "output_type": "stream",
     "text": [
      " 127789 50352 infeasible  105      620411.000 642714.000  3.59%   118  974s\n"
     ]
    },
    {
     "name": "stderr",
     "output_type": "stream",
     "text": [
      "2023-04-20 21:25:56,251 - INFO -  127789 50352 infeasible  105      620411.000 642714.000  3.59%   118  974s\n"
     ]
    },
    {
     "name": "stdout",
     "output_type": "stream",
     "text": [
      " 129662 51251 639819.000   82  130 620411.000 642711.919  3.59%   119  988s\n"
     ]
    },
    {
     "name": "stderr",
     "output_type": "stream",
     "text": [
      "2023-04-20 21:26:09,821 - INFO -  129662 51251 639819.000   82  130 620411.000 642711.919  3.59%   119  988s\n"
     ]
    },
    {
     "name": "stdout",
     "output_type": "stream",
     "text": [
      " 131717 51960 641881.000   46  107 620411.000 642710.000  3.59%   119 1001s\n"
     ]
    },
    {
     "name": "stderr",
     "output_type": "stream",
     "text": [
      "2023-04-20 21:26:23,318 - INFO -  131717 51960 641881.000   46  107 620411.000 642710.000  3.59%   119 1001s\n"
     ]
    },
    {
     "name": "stdout",
     "output_type": "stream",
     "text": [
      " 133526 52309 642282.000   40  106 620411.000 642699.000  3.59%   120 1017s\n"
     ]
    },
    {
     "name": "stderr",
     "output_type": "stream",
     "text": [
      "2023-04-20 21:26:38,788 - INFO -  133526 52309 642282.000   40  106 620411.000 642699.000  3.59%   120 1017s\n"
     ]
    },
    {
     "name": "stdout",
     "output_type": "stream",
     "text": [
      " 134497 52979 640754.966   54  112 620411.000 642699.000  3.59%   120 1029s\n"
     ]
    },
    {
     "name": "stderr",
     "output_type": "stream",
     "text": [
      "2023-04-20 21:26:51,654 - INFO -  134497 52979 640754.966   54  112 620411.000 642699.000  3.59%   120 1029s\n"
     ]
    },
    {
     "name": "stdout",
     "output_type": "stream",
     "text": [
      " 136601 53574 620629.000  107   45 620411.000 642696.000  3.59%   121 1038s\n"
     ]
    },
    {
     "name": "stderr",
     "output_type": "stream",
     "text": [
      "2023-04-20 21:26:59,815 - INFO -  136601 53574 620629.000  107   45 620411.000 642696.000  3.59%   121 1038s\n"
     ]
    },
    {
     "name": "stdout",
     "output_type": "stream",
     "text": [
      " 138570 54350 635577.792   79   86 620411.000 642693.000  3.59%   122 1045s\n"
     ]
    },
    {
     "name": "stderr",
     "output_type": "stream",
     "text": [
      "2023-04-20 21:27:07,565 - INFO -  138570 54350 635577.792   79   86 620411.000 642693.000  3.59%   122 1045s\n"
     ]
    },
    {
     "name": "stdout",
     "output_type": "stream",
     "text": [
      " 140681 55024 641183.000   58   90 620411.000 642689.000  3.59%   122 1050s\n"
     ]
    },
    {
     "name": "stderr",
     "output_type": "stream",
     "text": [
      "2023-04-20 21:27:12,065 - INFO -  140681 55024 641183.000   58   90 620411.000 642689.000  3.59%   122 1050s\n"
     ]
    },
    {
     "name": "stdout",
     "output_type": "stream",
     "text": [
      " 142287 55720 642012.000   48  100 620411.000 642687.000  3.59%   123 1062s\n"
     ]
    },
    {
     "name": "stderr",
     "output_type": "stream",
     "text": [
      "2023-04-20 21:27:24,134 - INFO -  142287 55720 642012.000   48  100 620411.000 642687.000  3.59%   123 1062s\n"
     ]
    },
    {
     "name": "stdout",
     "output_type": "stream",
     "text": [
      "H142714 54192                    627002.00000 642687.000  2.50%   123 1062s\n"
     ]
    },
    {
     "name": "stderr",
     "output_type": "stream",
     "text": [
      "2023-04-20 21:27:24,228 - INFO - H142714 54192                    627002.00000 642687.000  2.50%   123 1062s\n"
     ]
    },
    {
     "name": "stdout",
     "output_type": "stream",
     "text": [
      " 144059 54775 631145.000   79   79 627002.000 642686.000  2.50%   123 1079s\n"
     ]
    },
    {
     "name": "stderr",
     "output_type": "stream",
     "text": [
      "2023-04-20 21:27:41,367 - INFO -  144059 54775 631145.000   79   79 627002.000 642686.000  2.50%   123 1079s\n"
     ]
    },
    {
     "name": "stdout",
     "output_type": "stream",
     "text": [
      " 145827 55641 639685.000   88  108 627002.000 642680.000  2.50%   124 1093s\n"
     ]
    },
    {
     "name": "stderr",
     "output_type": "stream",
     "text": [
      "2023-04-20 21:27:55,291 - INFO -  145827 55641 639685.000   88  108 627002.000 642680.000  2.50%   124 1093s\n"
     ]
    },
    {
     "name": "stdout",
     "output_type": "stream",
     "text": [
      " 147946 56322 634477.503   78   66 627002.000 642679.000  2.50%   124 1115s\n"
     ]
    },
    {
     "name": "stderr",
     "output_type": "stream",
     "text": [
      "2023-04-20 21:28:16,995 - INFO -  147946 56322 634477.503   78   66 627002.000 642679.000  2.50%   124 1115s\n"
     ]
    },
    {
     "name": "stdout",
     "output_type": "stream",
     "text": [
      " 149421 56690 infeasible  102      627002.000 642678.000  2.50%   124 1143s\n"
     ]
    },
    {
     "name": "stderr",
     "output_type": "stream",
     "text": [
      "2023-04-20 21:28:44,899 - INFO -  149421 56690 infeasible  102      627002.000 642678.000  2.50%   124 1143s\n"
     ]
    },
    {
     "name": "stdout",
     "output_type": "stream",
     "text": [
      " 150297 57612 639252.660   46  117 627002.000 642677.000  2.50%   125 1150s\n"
     ]
    },
    {
     "name": "stderr",
     "output_type": "stream",
     "text": [
      "2023-04-20 21:28:52,586 - INFO -  150297 57612 639252.660   46  117 627002.000 642677.000  2.50%   125 1150s\n"
     ]
    },
    {
     "name": "stdout",
     "output_type": "stream",
     "text": [
      " 152564 58406 640374.000   81  112 627002.000 642677.000  2.50%   125 1163s\n"
     ]
    },
    {
     "name": "stderr",
     "output_type": "stream",
     "text": [
      "2023-04-20 21:29:04,960 - INFO -  152564 58406 640374.000   81  112 627002.000 642677.000  2.50%   125 1163s\n"
     ]
    },
    {
     "name": "stdout",
     "output_type": "stream",
     "text": [
      " 154708 59517 642373.758   37  109 627002.000 642677.000  2.50%   126 1172s\n"
     ]
    },
    {
     "name": "stderr",
     "output_type": "stream",
     "text": [
      "2023-04-20 21:29:13,896 - INFO -  154708 59517 642373.758   37  109 627002.000 642677.000  2.50%   126 1172s\n"
     ]
    },
    {
     "name": "stdout",
     "output_type": "stream",
     "text": [
      " 157289 60782 638779.678  105   22 627002.000 642674.000  2.50%   126 1187s\n"
     ]
    },
    {
     "name": "stderr",
     "output_type": "stream",
     "text": [
      "2023-04-20 21:29:28,836 - INFO -  157289 60782 638779.678  105   22 627002.000 642674.000  2.50%   126 1187s\n"
     ]
    },
    {
     "name": "stdout",
     "output_type": "stream",
     "text": [
      " 160235 61292 634002.000   93   99 627002.000 642669.025  2.50%   126 1277s\n"
     ]
    },
    {
     "name": "stderr",
     "output_type": "stream",
     "text": [
      "2023-04-20 21:30:59,146 - INFO -  160235 61292 634002.000   93   99 627002.000 642669.025  2.50%   126 1277s\n"
     ]
    },
    {
     "name": "stdout",
     "output_type": "stream",
     "text": [
      " 161407 62151 641481.850   35   89 627002.000 642669.025  2.50%   126 1284s\n"
     ]
    },
    {
     "name": "stderr",
     "output_type": "stream",
     "text": [
      "2023-04-20 21:31:06,275 - INFO -  161407 62151 641481.850   35   89 627002.000 642669.025  2.50%   126 1284s\n"
     ]
    },
    {
     "name": "stdout",
     "output_type": "stream",
     "text": [
      "H162504 59803                    630322.00000 642669.025  1.96%   126 1284s\n"
     ]
    },
    {
     "name": "stderr",
     "output_type": "stream",
     "text": [
      "2023-04-20 21:31:06,525 - INFO - H162504 59803                    630322.00000 642669.025  1.96%   126 1284s\n"
     ]
    },
    {
     "name": "stdout",
     "output_type": "stream",
     "text": [
      " 163604 60732 634660.000   90   67 630322.000 642669.000  1.96%   127 1294s\n"
     ]
    },
    {
     "name": "stderr",
     "output_type": "stream",
     "text": [
      "2023-04-20 21:31:15,869 - INFO -  163604 60732 634660.000   90   67 630322.000 642669.000  1.96%   127 1294s\n"
     ]
    },
    {
     "name": "stdout",
     "output_type": "stream",
     "text": [
      " 165928 61452 641137.000   77   99 630322.000 642668.000  1.96%   127 1303s\n"
     ]
    },
    {
     "name": "stderr",
     "output_type": "stream",
     "text": [
      "2023-04-20 21:31:24,891 - INFO -  165928 61452 641137.000   77   99 630322.000 642668.000  1.96%   127 1303s\n"
     ]
    },
    {
     "name": "stdout",
     "output_type": "stream",
     "text": [
      " 167649 62645 642309.000   54   77 630322.000 642668.000  1.96%   127 1316s\n"
     ]
    },
    {
     "name": "stderr",
     "output_type": "stream",
     "text": [
      "2023-04-20 21:31:38,583 - INFO -  167649 62645 642309.000   54   77 630322.000 642668.000  1.96%   127 1316s\n"
     ]
    },
    {
     "name": "stdout",
     "output_type": "stream",
     "text": [
      " 170173 63836 641157.000   69  102 630322.000 642663.000  1.96%   127 1326s\n"
     ]
    },
    {
     "name": "stderr",
     "output_type": "stream",
     "text": [
      "2023-04-20 21:31:48,320 - INFO -  170173 63836 641157.000   69  102 630322.000 642663.000  1.96%   127 1326s\n"
     ]
    },
    {
     "name": "stdout",
     "output_type": "stream",
     "text": [
      " 172670 65161 641184.000   52   99 630322.000 642663.000  1.96%   127 1337s\n"
     ]
    },
    {
     "name": "stderr",
     "output_type": "stream",
     "text": [
      "2023-04-20 21:31:59,723 - INFO -  172670 65161 641184.000   52   99 630322.000 642663.000  1.96%   127 1337s\n"
     ]
    },
    {
     "name": "stdout",
     "output_type": "stream",
     "text": [
      " 175818 66141 639609.000   75  108 630322.000 642659.000  1.96%   127 1351s\n"
     ]
    },
    {
     "name": "stderr",
     "output_type": "stream",
     "text": [
      "2023-04-20 21:32:13,381 - INFO -  175818 66141 639609.000   75  108 630322.000 642659.000  1.96%   127 1351s\n"
     ]
    },
    {
     "name": "stdout",
     "output_type": "stream",
     "text": [
      " 178222 67270 635924.382   76  103 630322.000 642656.000  1.96%   128 1363s\n"
     ]
    },
    {
     "name": "stderr",
     "output_type": "stream",
     "text": [
      "2023-04-20 21:32:25,060 - INFO -  178222 67270 635924.382   76  103 630322.000 642656.000  1.96%   128 1363s\n"
     ]
    },
    {
     "name": "stdout",
     "output_type": "stream",
     "text": [
      " 181045 68505 641220.000   61  113 630322.000 642656.000  1.96%   128 1375s\n"
     ]
    },
    {
     "name": "stderr",
     "output_type": "stream",
     "text": [
      "2023-04-20 21:32:37,167 - INFO -  181045 68505 641220.000   61  113 630322.000 642656.000  1.96%   128 1375s\n"
     ]
    },
    {
     "name": "stdout",
     "output_type": "stream",
     "text": [
      " 183781 69008 640291.000   71  103 630322.000 642655.000  1.96%   128 1405s\n"
     ]
    },
    {
     "name": "stderr",
     "output_type": "stream",
     "text": [
      "2023-04-20 21:33:07,514 - INFO -  183781 69008 640291.000   71  103 630322.000 642655.000  1.96%   128 1405s\n"
     ]
    },
    {
     "name": "stdout",
     "output_type": "stream",
     "text": [
      "H183967 68851                    630510.00000 642655.000  1.93%   128 1405s\n"
     ]
    },
    {
     "name": "stderr",
     "output_type": "stream",
     "text": [
      "2023-04-20 21:33:07,592 - INFO - H183967 68851                    630510.00000 642655.000  1.93%   128 1405s\n"
     ]
    },
    {
     "name": "stdout",
     "output_type": "stream",
     "text": [
      " 184939 69849 642289.594   35  109 630510.000 642655.000  1.93%   128 1420s\n"
     ]
    },
    {
     "name": "stderr",
     "output_type": "stream",
     "text": [
      "2023-04-20 21:33:22,139 - INFO -  184939 69849 642289.594   35  109 630510.000 642655.000  1.93%   128 1420s\n"
     ]
    },
    {
     "name": "stdout",
     "output_type": "stream",
     "text": [
      " 187467 71001 637847.000   78   88 630510.000 642653.000  1.93%   129 1435s\n"
     ]
    },
    {
     "name": "stderr",
     "output_type": "stream",
     "text": [
      "2023-04-20 21:33:37,532 - INFO -  187467 71001 637847.000   78   88 630510.000 642653.000  1.93%   129 1435s\n"
     ]
    },
    {
     "name": "stdout",
     "output_type": "stream",
     "text": [
      " 190265 72020 634239.007   45   83 630510.000 642653.000  1.93%   129 1453s\n"
     ]
    },
    {
     "name": "stderr",
     "output_type": "stream",
     "text": [
      "2023-04-20 21:33:55,147 - INFO -  190265 72020 634239.007   45   83 630510.000 642653.000  1.93%   129 1453s\n"
     ]
    },
    {
     "name": "stdout",
     "output_type": "stream",
     "text": [
      " 192714 73109 637912.000  105  107 630510.000 642650.000  1.93%   129 1469s\n"
     ]
    },
    {
     "name": "stderr",
     "output_type": "stream",
     "text": [
      "2023-04-20 21:34:11,646 - INFO -  192714 73109 637912.000  105  107 630510.000 642650.000  1.93%   129 1469s\n"
     ]
    },
    {
     "name": "stdout",
     "output_type": "stream",
     "text": [
      " 195140 74203 640965.000   75  101 630510.000 642649.000  1.93%   129 1485s\n"
     ]
    },
    {
     "name": "stderr",
     "output_type": "stream",
     "text": [
      "2023-04-20 21:34:27,096 - INFO -  195140 74203 640965.000   75  101 630510.000 642649.000  1.93%   129 1485s\n"
     ]
    },
    {
     "name": "stdout",
     "output_type": "stream",
     "text": [
      " 197549 75517 639947.000   85   85 630510.000 642647.000  1.92%   130 1503s\n"
     ]
    },
    {
     "name": "stderr",
     "output_type": "stream",
     "text": [
      "2023-04-20 21:34:44,818 - INFO -  197549 75517 639947.000   85   85 630510.000 642647.000  1.92%   130 1503s\n"
     ]
    },
    {
     "name": "stdout",
     "output_type": "stream",
     "text": [
      " 200688 76859 642360.000   44  113 630510.000 642645.000  1.92%   130 1520s\n"
     ]
    },
    {
     "name": "stderr",
     "output_type": "stream",
     "text": [
      "2023-04-20 21:35:02,530 - INFO -  200688 76859 642360.000   44  113 630510.000 642645.000  1.92%   130 1520s\n"
     ]
    },
    {
     "name": "stdout",
     "output_type": "stream",
     "text": [
      " 203598 78049 640777.000   94   59 630510.000 642644.000  1.92%   130 1537s\n"
     ]
    },
    {
     "name": "stderr",
     "output_type": "stream",
     "text": [
      "2023-04-20 21:35:19,739 - INFO -  203598 78049 640777.000   94   59 630510.000 642644.000  1.92%   130 1537s\n"
     ]
    },
    {
     "name": "stdout",
     "output_type": "stream",
     "text": [
      " 206239 79152 634315.000   85  100 630510.000 642642.000  1.92%   130 1554s\n"
     ]
    },
    {
     "name": "stderr",
     "output_type": "stream",
     "text": [
      "2023-04-20 21:35:35,757 - INFO -  206239 79152 634315.000   85  100 630510.000 642642.000  1.92%   130 1554s\n"
     ]
    },
    {
     "name": "stdout",
     "output_type": "stream",
     "text": [
      " 208778 80332 641223.000   61   83 630510.000 642639.000  1.92%   130 1570s\n"
     ]
    },
    {
     "name": "stderr",
     "output_type": "stream",
     "text": [
      "2023-04-20 21:35:52,437 - INFO -  208778 80332 641223.000   61   83 630510.000 642639.000  1.92%   130 1570s\n"
     ]
    },
    {
     "name": "stdout",
     "output_type": "stream",
     "text": [
      " 211336 80868 639057.770   62   80 630510.000 642637.000  1.92%   130 1628s\n"
     ]
    },
    {
     "name": "stderr",
     "output_type": "stream",
     "text": [
      "2023-04-20 21:36:50,030 - INFO -  211336 80868 639057.770   62   80 630510.000 642637.000  1.92%   130 1628s\n"
     ]
    },
    {
     "name": "stdout",
     "output_type": "stream",
     "text": [
      " 212483 81906 640574.000   59   77 630510.000 642637.000  1.92%   130 1640s\n"
     ]
    },
    {
     "name": "stderr",
     "output_type": "stream",
     "text": [
      "2023-04-20 21:37:02,031 - INFO -  212483 81906 640574.000   59   77 630510.000 642637.000  1.92%   130 1640s\n"
     ]
    },
    {
     "name": "stdout",
     "output_type": "stream",
     "text": [
      " 215017 83117 633221.604   58   56 630510.000 642636.000  1.92%   131 1654s\n"
     ]
    },
    {
     "name": "stderr",
     "output_type": "stream",
     "text": [
      "2023-04-20 21:37:15,892 - INFO -  215017 83117 633221.604   58   56 630510.000 642636.000  1.92%   131 1654s\n"
     ]
    },
    {
     "name": "stdout",
     "output_type": "stream",
     "text": [
      " 218136 83531 642172.000   31   85 630510.000 642635.000  1.92%   131 1692s\n"
     ]
    },
    {
     "name": "stderr",
     "output_type": "stream",
     "text": [
      "2023-04-20 21:37:54,341 - INFO -  218136 83531 642172.000   31   85 630510.000 642635.000  1.92%   131 1692s\n"
     ]
    },
    {
     "name": "stdout",
     "output_type": "stream",
     "text": [
      " 219100 84620 636733.704   54   68 630510.000 642635.000  1.92%   131 1703s\n"
     ]
    },
    {
     "name": "stderr",
     "output_type": "stream",
     "text": [
      "2023-04-20 21:38:05,750 - INFO -  219100 84620 636733.704   54   68 630510.000 642635.000  1.92%   131 1703s\n"
     ]
    },
    {
     "name": "stdout",
     "output_type": "stream",
     "text": [
      " 221558 86120 639002.000  108   34 630510.000 642634.000  1.92%   132 1718s\n"
     ]
    },
    {
     "name": "stderr",
     "output_type": "stream",
     "text": [
      "2023-04-20 21:38:20,475 - INFO -  221558 86120 639002.000  108   34 630510.000 642634.000  1.92%   132 1718s\n"
     ]
    },
    {
     "name": "stdout",
     "output_type": "stream",
     "text": [
      " 224985 86948 642158.000   27  110 630510.000 642634.000  1.92%   132 1733s\n"
     ]
    },
    {
     "name": "stderr",
     "output_type": "stream",
     "text": [
      "2023-04-20 21:38:35,058 - INFO -  224985 86948 642158.000   27  110 630510.000 642634.000  1.92%   132 1733s\n"
     ]
    },
    {
     "name": "stdout",
     "output_type": "stream",
     "text": [
      " 227167 87818 640209.373   88   84 630510.000 642634.000  1.92%   132 1746s\n"
     ]
    },
    {
     "name": "stderr",
     "output_type": "stream",
     "text": [
      "2023-04-20 21:38:47,849 - INFO -  227167 87818 640209.373   88   84 630510.000 642634.000  1.92%   132 1746s\n"
     ]
    },
    {
     "name": "stdout",
     "output_type": "stream",
     "text": [
      " 229623 89161 642461.374   44   98 630510.000 642633.000  1.92%   133 1761s\n"
     ]
    },
    {
     "name": "stderr",
     "output_type": "stream",
     "text": [
      "2023-04-20 21:39:03,596 - INFO -  229623 89161 642461.374   44   98 630510.000 642633.000  1.92%   133 1761s\n"
     ]
    },
    {
     "name": "stdout",
     "output_type": "stream",
     "text": [
      " 233031 89793 640466.881   80  104 630510.000 642632.000  1.92%   133 1796s\n"
     ]
    },
    {
     "name": "stderr",
     "output_type": "stream",
     "text": [
      "2023-04-20 21:39:38,679 - INFO -  233031 89793 640466.881   80  104 630510.000 642632.000  1.92%   133 1796s\n"
     ]
    },
    {
     "name": "stdout",
     "output_type": "stream",
     "text": [
      "H234117 89459                    630798.00000 642632.000  1.88%   133 1797s\n"
     ]
    },
    {
     "name": "stderr",
     "output_type": "stream",
     "text": [
      "2023-04-20 21:39:39,148 - INFO - H234117 89459                    630798.00000 642632.000  1.88%   133 1797s\n"
     ]
    },
    {
     "name": "stdout",
     "output_type": "stream",
     "text": [
      " 234417 90725 640946.618   69  109 630798.000 642631.000  1.88%   133 1809s\n"
     ]
    },
    {
     "name": "stderr",
     "output_type": "stream",
     "text": [
      "2023-04-20 21:39:50,787 - INFO -  234417 90725 640946.618   69  109 630798.000 642631.000  1.88%   133 1809s\n"
     ]
    },
    {
     "name": "stdout",
     "output_type": "stream",
     "text": [
      " 237279 91731 639499.579   57   88 630798.000 642629.000  1.88%   133 1822s\n"
     ]
    },
    {
     "name": "stderr",
     "output_type": "stream",
     "text": [
      "2023-04-20 21:40:03,886 - INFO -  237279 91731 639499.579   57   88 630798.000 642629.000  1.88%   133 1822s\n"
     ]
    },
    {
     "name": "stdout",
     "output_type": "stream",
     "text": [
      " 239810 93095 641076.000   47  116 630798.000 642629.000  1.88%   133 1838s\n"
     ]
    },
    {
     "name": "stderr",
     "output_type": "stream",
     "text": [
      "2023-04-20 21:40:19,848 - INFO -  239810 93095 641076.000   47  116 630798.000 642629.000  1.88%   133 1838s\n"
     ]
    },
    {
     "name": "stdout",
     "output_type": "stream",
     "text": [
      " 242901 93698 634368.398  112   58 630798.000 642628.000  1.88%   134 1894s\n"
     ]
    },
    {
     "name": "stderr",
     "output_type": "stream",
     "text": [
      "2023-04-20 21:41:15,833 - INFO -  242901 93698 634368.398  112   58 630798.000 642628.000  1.88%   134 1894s\n"
     ]
    },
    {
     "name": "stdout",
     "output_type": "stream",
     "text": [
      " 244460 94508 635641.802   58   48 630798.000 642627.000  1.88%   134 1908s\n"
     ]
    },
    {
     "name": "stderr",
     "output_type": "stream",
     "text": [
      "2023-04-20 21:41:29,874 - INFO -  244460 94508 635641.802   58   48 630798.000 642627.000  1.88%   134 1908s\n"
     ]
    },
    {
     "name": "stdout",
     "output_type": "stream",
     "text": [
      " 246955 95127 632099.572   70   64 630798.000 642627.000  1.88%   134 1919s\n"
     ]
    },
    {
     "name": "stderr",
     "output_type": "stream",
     "text": [
      "2023-04-20 21:41:41,130 - INFO -  246955 95127 632099.572   70   64 630798.000 642627.000  1.88%   134 1919s\n"
     ]
    },
    {
     "name": "stdout",
     "output_type": "stream",
     "text": [
      " 248589 96171 631608.595   93  101 630798.000 642625.000  1.87%   135 1935s\n"
     ]
    },
    {
     "name": "stderr",
     "output_type": "stream",
     "text": [
      "2023-04-20 21:41:56,943 - INFO -  248589 96171 631608.595   93  101 630798.000 642625.000  1.87%   135 1935s\n"
     ]
    },
    {
     "name": "stdout",
     "output_type": "stream",
     "text": [
      " 251172 97381 642292.247   37   91 630798.000 642624.000  1.87%   135 1951s\n"
     ]
    },
    {
     "name": "stderr",
     "output_type": "stream",
     "text": [
      "2023-04-20 21:42:13,157 - INFO -  251172 97381 642292.247   37   91 630798.000 642624.000  1.87%   135 1951s\n"
     ]
    },
    {
     "name": "stdout",
     "output_type": "stream",
     "text": [
      " 253903 98614 640987.000   69  107 630798.000 642623.000  1.87%   135 1963s\n"
     ]
    },
    {
     "name": "stderr",
     "output_type": "stream",
     "text": [
      "2023-04-20 21:42:25,325 - INFO -  253903 98614 640987.000   69  107 630798.000 642623.000  1.87%   135 1963s\n"
     ]
    },
    {
     "name": "stdout",
     "output_type": "stream",
     "text": [
      " 256665 99458 637457.899   89  107 630798.000 642622.000  1.87%   135 1977s\n"
     ]
    },
    {
     "name": "stderr",
     "output_type": "stream",
     "text": [
      "2023-04-20 21:42:39,750 - INFO -  256665 99458 637457.899   89  107 630798.000 642622.000  1.87%   135 1977s\n"
     ]
    },
    {
     "name": "stdout",
     "output_type": "stream",
     "text": [
      " 258805 100504 633241.142   81   71 630798.000 642620.000  1.87%   136 1989s\n"
     ]
    },
    {
     "name": "stderr",
     "output_type": "stream",
     "text": [
      "2023-04-20 21:42:51,744 - INFO -  258805 100504 633241.142   81   71 630798.000 642620.000  1.87%   136 1989s\n"
     ]
    },
    {
     "name": "stdout",
     "output_type": "stream",
     "text": [
      " 259742 100504 638132.000   47  124 630798.000 642620.000  1.87%   136 1990s\n"
     ]
    },
    {
     "name": "stderr",
     "output_type": "stream",
     "text": [
      "2023-04-20 21:42:51,932 - INFO -  259742 100504 638132.000   47  124 630798.000 642620.000  1.87%   136 1990s\n"
     ]
    },
    {
     "name": "stdout",
     "output_type": "stream",
     "text": [
      " 261524 101722 641778.859   44  101 630798.000 642620.000  1.87%   136 2003s\n"
     ]
    },
    {
     "name": "stderr",
     "output_type": "stream",
     "text": [
      "2023-04-20 21:43:05,645 - INFO -  261524 101722 641778.859   44  101 630798.000 642620.000  1.87%   136 2003s\n"
     ]
    },
    {
     "name": "stdout",
     "output_type": "stream",
     "text": [
      " 264209 102711 642338.000   39   78 630798.000 642618.000  1.87%   136 2017s\n"
     ]
    },
    {
     "name": "stderr",
     "output_type": "stream",
     "text": [
      "2023-04-20 21:43:19,088 - INFO -  264209 102711 642338.000   39   78 630798.000 642618.000  1.87%   136 2017s\n"
     ]
    },
    {
     "name": "stdout",
     "output_type": "stream",
     "text": [
      " 266678 103881 infeasible  123      630798.000 642618.000  1.87%   136 2031s\n"
     ]
    },
    {
     "name": "stderr",
     "output_type": "stream",
     "text": [
      "2023-04-20 21:43:33,291 - INFO -  266678 103881 infeasible  123      630798.000 642618.000  1.87%   136 2031s\n"
     ]
    },
    {
     "name": "stdout",
     "output_type": "stream",
     "text": [
      " 269472 105183 641324.000   59  117 630798.000 642617.000  1.87%   137 2049s\n"
     ]
    },
    {
     "name": "stderr",
     "output_type": "stream",
     "text": [
      "2023-04-20 21:43:51,215 - INFO -  269472 105183 641324.000   59  117 630798.000 642617.000  1.87%   137 2049s\n"
     ]
    },
    {
     "name": "stdout",
     "output_type": "stream",
     "text": [
      " 272558 106455 642168.700   57   96 630798.000 642617.000  1.87%   137 2068s\n"
     ]
    },
    {
     "name": "stderr",
     "output_type": "stream",
     "text": [
      "2023-04-20 21:44:09,767 - INFO -  272558 106455 642168.700   57   96 630798.000 642617.000  1.87%   137 2068s\n"
     ]
    },
    {
     "name": "stdout",
     "output_type": "stream",
     "text": [
      " 275479 107622 638431.707  122   80 630798.000 642616.000  1.87%   137 2086s\n"
     ]
    },
    {
     "name": "stderr",
     "output_type": "stream",
     "text": [
      "2023-04-20 21:44:28,612 - INFO -  275479 107622 638431.707  122   80 630798.000 642616.000  1.87%   137 2086s\n"
     ]
    },
    {
     "name": "stdout",
     "output_type": "stream",
     "text": [
      " 278219 108758 642611.892   32  114 630798.000 642615.000  1.87%   137 2103s\n"
     ]
    },
    {
     "name": "stderr",
     "output_type": "stream",
     "text": [
      "2023-04-20 21:44:44,810 - INFO -  278219 108758 642611.892   32  114 630798.000 642615.000  1.87%   137 2103s\n"
     ]
    },
    {
     "name": "stdout",
     "output_type": "stream",
     "text": [
      " 280747 110091 642482.000   46  116 630798.000 642612.000  1.87%   137 2121s\n"
     ]
    },
    {
     "name": "stderr",
     "output_type": "stream",
     "text": [
      "2023-04-20 21:45:03,109 - INFO -  280747 110091 642482.000   46  116 630798.000 642612.000  1.87%   137 2121s\n"
     ]
    },
    {
     "name": "stdout",
     "output_type": "stream",
     "text": [
      " 283914 111435 640843.000   58   52 630798.000 642612.000  1.87%   137 2138s\n"
     ]
    },
    {
     "name": "stderr",
     "output_type": "stream",
     "text": [
      "2023-04-20 21:45:20,313 - INFO -  283914 111435 640843.000   58   52 630798.000 642612.000  1.87%   137 2138s\n"
     ]
    },
    {
     "name": "stdout",
     "output_type": "stream",
     "text": [
      " 286959 112604 642394.000   46  115 630798.000 642612.000  1.87%   137 2156s\n"
     ]
    },
    {
     "name": "stderr",
     "output_type": "stream",
     "text": [
      "2023-04-20 21:45:37,961 - INFO -  286959 112604 642394.000   46  115 630798.000 642612.000  1.87%   137 2156s\n"
     ]
    },
    {
     "name": "stdout",
     "output_type": "stream",
     "text": [
      " 289627 113287 636999.000  116  116 630798.000 642611.000  1.87%   138 2170s\n"
     ]
    },
    {
     "name": "stderr",
     "output_type": "stream",
     "text": [
      "2023-04-20 21:45:52,688 - INFO -  289627 113287 636999.000  116  116 630798.000 642611.000  1.87%   138 2170s\n"
     ]
    },
    {
     "name": "stdout",
     "output_type": "stream",
     "text": [
      " 291162 114593 640505.741   56  118 630798.000 642611.000  1.87%   138 2188s\n"
     ]
    },
    {
     "name": "stderr",
     "output_type": "stream",
     "text": [
      "2023-04-20 21:46:10,176 - INFO -  291162 114593 640505.741   56  118 630798.000 642611.000  1.87%   138 2188s\n"
     ]
    },
    {
     "name": "stdout",
     "output_type": "stream",
     "text": [
      " 294283 115769 640172.000   69   90 630798.000 642611.000  1.87%   138 2205s\n"
     ]
    },
    {
     "name": "stderr",
     "output_type": "stream",
     "text": [
      "2023-04-20 21:46:27,338 - INFO -  294283 115769 640172.000   69   90 630798.000 642611.000  1.87%   138 2205s\n"
     ]
    },
    {
     "name": "stdout",
     "output_type": "stream",
     "text": [
      " 296986 115962 640933.000   49  100 630798.000 642608.000  1.87%   138 2263s\n"
     ]
    },
    {
     "name": "stderr",
     "output_type": "stream",
     "text": [
      "2023-04-20 21:47:25,619 - INFO -  296986 115962 640933.000   49  100 630798.000 642608.000  1.87%   138 2263s\n"
     ]
    },
    {
     "name": "stdout",
     "output_type": "stream",
     "text": [
      "H297228 114978                    631274.00000 642608.000  1.80%   138 2264s\n"
     ]
    },
    {
     "name": "stderr",
     "output_type": "stream",
     "text": [
      "2023-04-20 21:47:25,925 - INFO - H297228 114978                    631274.00000 642608.000  1.80%   138 2264s\n"
     ]
    },
    {
     "name": "stdout",
     "output_type": "stream",
     "text": [
      " 297428 115869 637877.712   72   64 631274.000 642608.000  1.80%   138 2295s\n"
     ]
    },
    {
     "name": "stderr",
     "output_type": "stream",
     "text": [
      "2023-04-20 21:47:57,180 - INFO -  297428 115869 637877.712   72   64 631274.000 642608.000  1.80%   138 2295s\n"
     ]
    },
    {
     "name": "stdout",
     "output_type": "stream",
     "text": [
      " 299652 117011 639279.000   61  103 631274.000 642608.000  1.80%   138 2303s\n"
     ]
    },
    {
     "name": "stderr",
     "output_type": "stream",
     "text": [
      "2023-04-20 21:48:05,321 - INFO -  299652 117011 639279.000   61  103 631274.000 642608.000  1.80%   138 2303s\n"
     ]
    },
    {
     "name": "stdout",
     "output_type": "stream",
     "text": [
      " 302465 118098 638949.444   77   89 631274.000 642607.000  1.80%   139 2319s\n"
     ]
    },
    {
     "name": "stderr",
     "output_type": "stream",
     "text": [
      "2023-04-20 21:48:21,714 - INFO -  302465 118098 638949.444   77   89 631274.000 642607.000  1.80%   139 2319s\n"
     ]
    },
    {
     "name": "stdout",
     "output_type": "stream",
     "text": [
      " 302595 118098 632808.000   89   67 631274.000 642607.000  1.80%   139 2320s\n"
     ]
    },
    {
     "name": "stderr",
     "output_type": "stream",
     "text": [
      "2023-04-20 21:48:21,777 - INFO -  302595 118098 632808.000   89   67 631274.000 642607.000  1.80%   139 2320s\n"
     ]
    },
    {
     "name": "stdout",
     "output_type": "stream",
     "text": [
      " 305006 119284 639482.000   81   65 631274.000 642606.000  1.80%   139 2356s\n"
     ]
    },
    {
     "name": "stderr",
     "output_type": "stream",
     "text": [
      "2023-04-20 21:48:58,183 - INFO -  305006 119284 639482.000   81   65 631274.000 642606.000  1.80%   139 2356s\n"
     ]
    },
    {
     "name": "stdout",
     "output_type": "stream",
     "text": [
      " 307737 120342     cutoff  119      631274.000 642606.000  1.80%   139 2366s\n"
     ]
    },
    {
     "name": "stderr",
     "output_type": "stream",
     "text": [
      "2023-04-20 21:49:08,482 - INFO -  307737 120342     cutoff  119      631274.000 642606.000  1.80%   139 2366s\n"
     ]
    },
    {
     "name": "stdout",
     "output_type": "stream",
     "text": [
      " 310123 121711 641830.591   46  123 631274.000 642605.000  1.79%   139 2383s\n"
     ]
    },
    {
     "name": "stderr",
     "output_type": "stream",
     "text": [
      "2023-04-20 21:49:25,435 - INFO -  310123 121711 641830.591   46  123 631274.000 642605.000  1.79%   139 2383s\n"
     ]
    },
    {
     "name": "stdout",
     "output_type": "stream",
     "text": [
      " 313231 122824 640344.000   60  107 631274.000 642604.000  1.79%   139 2412s\n"
     ]
    },
    {
     "name": "stderr",
     "output_type": "stream",
     "text": [
      "2023-04-20 21:49:54,076 - INFO -  313231 122824 640344.000   60  107 631274.000 642604.000  1.79%   139 2412s\n"
     ]
    },
    {
     "name": "stdout",
     "output_type": "stream",
     "text": [
      "H314405 117295                    633269.00000 642603.453  1.47%   139 2412s\n"
     ]
    },
    {
     "name": "stderr",
     "output_type": "stream",
     "text": [
      "2023-04-20 21:49:54,482 - INFO - H314405 117295                    633269.00000 642603.453  1.47%   139 2412s\n"
     ]
    },
    {
     "name": "stdout",
     "output_type": "stream",
     "text": [
      " 315696 118400 637659.000   88   83 633269.000 642603.000  1.47%   139 2421s\n"
     ]
    },
    {
     "name": "stderr",
     "output_type": "stream",
     "text": [
      "2023-04-20 21:50:03,354 - INFO -  315696 118400 637659.000   88   83 633269.000 642603.000  1.47%   139 2421s\n"
     ]
    },
    {
     "name": "stdout",
     "output_type": "stream",
     "text": [
      " 318245 119649 641039.000   81   58 633269.000 642602.000  1.47%   139 2431s\n"
     ]
    },
    {
     "name": "stderr",
     "output_type": "stream",
     "text": [
      "2023-04-20 21:50:13,024 - INFO -  318245 119649 641039.000   81   58 633269.000 642602.000  1.47%   139 2431s\n"
     ]
    },
    {
     "name": "stdout",
     "output_type": "stream",
     "text": [
      " 321061 120582 642210.000   55  108 633269.000 642601.000  1.47%   139 2439s\n"
     ]
    },
    {
     "name": "stderr",
     "output_type": "stream",
     "text": [
      "2023-04-20 21:50:20,865 - INFO -  321061 120582 642210.000   55  108 633269.000 642601.000  1.47%   139 2439s\n"
     ]
    },
    {
     "name": "stdout",
     "output_type": "stream",
     "text": [
      " 323401 121396 637201.844   55   95 633269.000 642600.000  1.47%   140 2447s\n"
     ]
    },
    {
     "name": "stderr",
     "output_type": "stream",
     "text": [
      "2023-04-20 21:50:29,412 - INFO -  323401 121396 637201.844   55   95 633269.000 642600.000  1.47%   140 2447s\n"
     ]
    },
    {
     "name": "stdout",
     "output_type": "stream",
     "text": [
      " 325588 122551 641822.000   59  110 633269.000 642599.000  1.47%   140 2460s\n"
     ]
    },
    {
     "name": "stderr",
     "output_type": "stream",
     "text": [
      "2023-04-20 21:50:41,993 - INFO -  325588 122551 641822.000   59  110 633269.000 642599.000  1.47%   140 2460s\n"
     ]
    },
    {
     "name": "stdout",
     "output_type": "stream",
     "text": [
      " 328314 123517 641633.000   45  102 633269.000 642599.000  1.47%   140 2468s\n"
     ]
    },
    {
     "name": "stderr",
     "output_type": "stream",
     "text": [
      "2023-04-20 21:50:50,419 - INFO -  328314 123517 641633.000   45  102 633269.000 642599.000  1.47%   140 2468s\n"
     ]
    },
    {
     "name": "stdout",
     "output_type": "stream",
     "text": [
      " 330635 124620 641498.310   54  115 633269.000 642599.000  1.47%   141 2479s\n"
     ]
    },
    {
     "name": "stderr",
     "output_type": "stream",
     "text": [
      "2023-04-20 21:51:01,120 - INFO -  330635 124620 641498.310   54  115 633269.000 642599.000  1.47%   141 2479s\n"
     ]
    },
    {
     "name": "stdout",
     "output_type": "stream",
     "text": [
      " 333391 125471 642068.804   51  112 633269.000 642597.000  1.47%   141 2487s\n"
     ]
    },
    {
     "name": "stderr",
     "output_type": "stream",
     "text": [
      "2023-04-20 21:51:09,043 - INFO -  333391 125471 642068.804   51  112 633269.000 642597.000  1.47%   141 2487s\n"
     ]
    },
    {
     "name": "stdout",
     "output_type": "stream",
     "text": [
      " 335615 126528 642409.000   45  117 633269.000 642597.000  1.47%   141 2497s\n"
     ]
    },
    {
     "name": "stderr",
     "output_type": "stream",
     "text": [
      "2023-04-20 21:51:19,510 - INFO -  335615 126528 642409.000   45  117 633269.000 642597.000  1.47%   141 2497s\n"
     ]
    },
    {
     "name": "stdout",
     "output_type": "stream",
     "text": [
      " 338258 127628 642289.000   48  124 633269.000 642597.000  1.47%   141 2508s\n"
     ]
    },
    {
     "name": "stderr",
     "output_type": "stream",
     "text": [
      "2023-04-20 21:51:30,112 - INFO -  338258 127628 642289.000   48  124 633269.000 642597.000  1.47%   141 2508s\n"
     ]
    },
    {
     "name": "stdout",
     "output_type": "stream",
     "text": [
      " 340808 128659     cutoff  106      633269.000 642595.000  1.47%   141 2517s\n"
     ]
    },
    {
     "name": "stderr",
     "output_type": "stream",
     "text": [
      "2023-04-20 21:51:38,874 - INFO -  340808 128659     cutoff  106      633269.000 642595.000  1.47%   141 2517s\n"
     ]
    },
    {
     "name": "stdout",
     "output_type": "stream",
     "text": [
      " 343313 129768 635903.733  100   96 633269.000 642594.000  1.47%   142 2546s\n"
     ]
    },
    {
     "name": "stderr",
     "output_type": "stream",
     "text": [
      "2023-04-20 21:52:08,687 - INFO -  343313 129768 635903.733  100   96 633269.000 642594.000  1.47%   142 2546s\n"
     ]
    },
    {
     "name": "stdout",
     "output_type": "stream",
     "text": [
      " 346139 130748 638348.000   82  102 633269.000 642594.000  1.47%   142 2555s\n"
     ]
    },
    {
     "name": "stderr",
     "output_type": "stream",
     "text": [
      "2023-04-20 21:52:17,734 - INFO -  346139 130748 638348.000   82  102 633269.000 642594.000  1.47%   142 2555s\n"
     ]
    },
    {
     "name": "stdout",
     "output_type": "stream",
     "text": [
      " 348481 131681 634802.000  112   81 633269.000 642593.000  1.47%   142 2565s\n"
     ]
    },
    {
     "name": "stderr",
     "output_type": "stream",
     "text": [
      "2023-04-20 21:52:26,983 - INFO -  348481 131681 634802.000  112   81 633269.000 642593.000  1.47%   142 2565s\n"
     ]
    },
    {
     "name": "stdout",
     "output_type": "stream",
     "text": [
      " 350744 132790 642064.773   32  156 633269.000 642592.000  1.47%   142 2574s\n"
     ]
    },
    {
     "name": "stderr",
     "output_type": "stream",
     "text": [
      "2023-04-20 21:52:36,240 - INFO -  350744 132790 642064.773   32  156 633269.000 642592.000  1.47%   142 2574s\n"
     ]
    },
    {
     "name": "stdout",
     "output_type": "stream",
     "text": [
      " 353192 134080 642234.000   49  115 633269.000 642591.000  1.47%   143 2585s\n"
     ]
    },
    {
     "name": "stderr",
     "output_type": "stream",
     "text": [
      "2023-04-20 21:52:47,609 - INFO -  353192 134080 642234.000   49  115 633269.000 642591.000  1.47%   143 2585s\n"
     ]
    },
    {
     "name": "stdout",
     "output_type": "stream",
     "text": [
      " 356146 134551 642568.410   26  115 633269.000 642590.082  1.47%   143 2605s\n"
     ]
    },
    {
     "name": "stderr",
     "output_type": "stream",
     "text": [
      "2023-04-20 21:53:07,139 - INFO -  356146 134551 642568.410   26  115 633269.000 642590.082  1.47%   143 2605s\n"
     ]
    },
    {
     "name": "stdout",
     "output_type": "stream",
     "text": [
      " 357260 135758 642002.146   42  123 633269.000 642590.000  1.47%   143 2614s\n"
     ]
    },
    {
     "name": "stderr",
     "output_type": "stream",
     "text": [
      "2023-04-20 21:53:16,738 - INFO -  357260 135758 642002.146   42  123 633269.000 642590.000  1.47%   143 2614s\n"
     ]
    },
    {
     "name": "stdout",
     "output_type": "stream",
     "text": [
      " 357355 135758 642262.000   34  122 633269.000 642590.000  1.47%   143 2615s\n"
     ]
    },
    {
     "name": "stderr",
     "output_type": "stream",
     "text": [
      "2023-04-20 21:53:16,785 - INFO -  357355 135758 642262.000   34  122 633269.000 642590.000  1.47%   143 2615s\n"
     ]
    },
    {
     "name": "stdout",
     "output_type": "stream",
     "text": [
      " 359925 136977 641604.865   62  104 633269.000 642589.000  1.47%   143 2624s\n"
     ]
    },
    {
     "name": "stderr",
     "output_type": "stream",
     "text": [
      "2023-04-20 21:53:26,032 - INFO -  359925 136977 641604.865   62  104 633269.000 642589.000  1.47%   143 2624s\n"
     ]
    },
    {
     "name": "stdout",
     "output_type": "stream",
     "text": [
      " 362534 138215 640649.000   48  107 633269.000 642588.000  1.47%   143 2635s\n"
     ]
    },
    {
     "name": "stderr",
     "output_type": "stream",
     "text": [
      "2023-04-20 21:53:37,152 - INFO -  362534 138215 640649.000   48  107 633269.000 642588.000  1.47%   143 2635s\n"
     ]
    },
    {
     "name": "stdout",
     "output_type": "stream",
     "text": [
      " 365335 139473 636945.243  116    6 633269.000 642587.000  1.47%   143 2645s\n"
     ]
    },
    {
     "name": "stderr",
     "output_type": "stream",
     "text": [
      "2023-04-20 21:53:47,106 - INFO -  365335 139473 636945.243  116    6 633269.000 642587.000  1.47%   143 2645s\n"
     ]
    },
    {
     "name": "stdout",
     "output_type": "stream",
     "text": [
      " 368067 140729 infeasible  161      633269.000 642586.000  1.47%   143 2655s\n"
     ]
    },
    {
     "name": "stderr",
     "output_type": "stream",
     "text": [
      "2023-04-20 21:53:57,304 - INFO -  368067 140729 infeasible  161      633269.000 642586.000  1.47%   143 2655s\n"
     ]
    },
    {
     "name": "stdout",
     "output_type": "stream",
     "text": [
      " 370889 141955 640903.000   61   92 633269.000 642585.000  1.47%   143 2665s\n"
     ]
    },
    {
     "name": "stderr",
     "output_type": "stream",
     "text": [
      "2023-04-20 21:54:07,349 - INFO -  370889 141955 640903.000   61   92 633269.000 642585.000  1.47%   143 2665s\n"
     ]
    },
    {
     "name": "stdout",
     "output_type": "stream",
     "text": [
      " 373541 143196 642337.000   49  111 633269.000 642584.000  1.47%   144 2676s\n"
     ]
    },
    {
     "name": "stderr",
     "output_type": "stream",
     "text": [
      "2023-04-20 21:54:18,016 - INFO -  373541 143196 642337.000   49  111 633269.000 642584.000  1.47%   144 2676s\n"
     ]
    },
    {
     "name": "stdout",
     "output_type": "stream",
     "text": [
      " 376143 144416 640218.000   78   99 633269.000 642583.000  1.47%   144 2686s\n"
     ]
    },
    {
     "name": "stderr",
     "output_type": "stream",
     "text": [
      "2023-04-20 21:54:27,824 - INFO -  376143 144416 640218.000   78   99 633269.000 642583.000  1.47%   144 2686s\n"
     ]
    },
    {
     "name": "stdout",
     "output_type": "stream",
     "text": [
      " 378848 146012 641317.067   47   89 633269.000 642583.000  1.47%   144 2704s\n"
     ]
    },
    {
     "name": "stderr",
     "output_type": "stream",
     "text": [
      "2023-04-20 21:54:46,350 - INFO -  378848 146012 641317.067   47   89 633269.000 642583.000  1.47%   144 2704s\n"
     ]
    },
    {
     "name": "stdout",
     "output_type": "stream",
     "text": [
      " 382319 146985 infeasible  136      633269.000 642582.000  1.47%   144 2714s\n"
     ]
    },
    {
     "name": "stderr",
     "output_type": "stream",
     "text": [
      "2023-04-20 21:54:56,057 - INFO -  382319 146985 infeasible  136      633269.000 642582.000  1.47%   144 2714s\n"
     ]
    },
    {
     "name": "stdout",
     "output_type": "stream",
     "text": [
      " 384401 148139 642431.252   26  126 633269.000 642581.000  1.47%   144 2723s\n"
     ]
    },
    {
     "name": "stderr",
     "output_type": "stream",
     "text": [
      "2023-04-20 21:55:05,338 - INFO -  384401 148139 642431.252   26  126 633269.000 642581.000  1.47%   144 2723s\n"
     ]
    },
    {
     "name": "stdout",
     "output_type": "stream",
     "text": [
      " 386957 149304 634375.000  113   73 633269.000 642581.000  1.47%   144 2735s\n"
     ]
    },
    {
     "name": "stderr",
     "output_type": "stream",
     "text": [
      "2023-04-20 21:55:17,538 - INFO -  386957 149304 634375.000  113   73 633269.000 642581.000  1.47%   144 2735s\n"
     ]
    },
    {
     "name": "stdout",
     "output_type": "stream",
     "text": [
      " 389665 150072 641693.000   59  120 633269.000 642580.000  1.47%   144 2744s\n"
     ]
    },
    {
     "name": "stderr",
     "output_type": "stream",
     "text": [
      "2023-04-20 21:55:26,011 - INFO -  389665 150072 641693.000   59  120 633269.000 642580.000  1.47%   144 2744s\n"
     ]
    },
    {
     "name": "stdout",
     "output_type": "stream",
     "text": [
      " 391603 150939 642177.587   41   87 633269.000 642580.000  1.47%   145 2751s\n"
     ]
    },
    {
     "name": "stderr",
     "output_type": "stream",
     "text": [
      "2023-04-20 21:55:33,000 - INFO -  391603 150939 642177.587   41   87 633269.000 642580.000  1.47%   145 2751s\n"
     ]
    },
    {
     "name": "stdout",
     "output_type": "stream",
     "text": [
      " 393555 152018 635863.000   73   72 633269.000 642580.000  1.47%   145 2759s\n"
     ]
    },
    {
     "name": "stderr",
     "output_type": "stream",
     "text": [
      "2023-04-20 21:55:41,476 - INFO -  393555 152018 635863.000   73   72 633269.000 642580.000  1.47%   145 2759s\n"
     ]
    },
    {
     "name": "stdout",
     "output_type": "stream",
     "text": [
      " 396209 153173 642406.888   39  147 633269.000 642579.148  1.47%   145 2769s\n"
     ]
    },
    {
     "name": "stderr",
     "output_type": "stream",
     "text": [
      "2023-04-20 21:55:50,873 - INFO -  396209 153173 642406.888   39  147 633269.000 642579.148  1.47%   145 2769s\n"
     ]
    },
    {
     "name": "stdout",
     "output_type": "stream",
     "text": [
      " 398811 154261 638565.000  104   68 633269.000 642579.000  1.47%   145 2780s\n"
     ]
    },
    {
     "name": "stderr",
     "output_type": "stream",
     "text": [
      "2023-04-20 21:56:02,648 - INFO -  398811 154261 638565.000  104   68 633269.000 642579.000  1.47%   145 2780s\n"
     ]
    },
    {
     "name": "stdout",
     "output_type": "stream",
     "text": [
      " 401313 155454 635205.000   55  104 633269.000 642578.000  1.47%   146 2792s\n"
     ]
    },
    {
     "name": "stderr",
     "output_type": "stream",
     "text": [
      "2023-04-20 21:56:14,031 - INFO -  401313 155454 635205.000   55  104 633269.000 642578.000  1.47%   146 2792s\n"
     ]
    },
    {
     "name": "stdout",
     "output_type": "stream",
     "text": [
      " 404191 156544 641115.872   43  106 633269.000 642578.000  1.47%   146 2802s\n"
     ]
    },
    {
     "name": "stderr",
     "output_type": "stream",
     "text": [
      "2023-04-20 21:56:23,859 - INFO -  404191 156544 641115.872   43  106 633269.000 642578.000  1.47%   146 2802s\n"
     ]
    },
    {
     "name": "stdout",
     "output_type": "stream",
     "text": [
      " 406597 157688 636142.000   69   92 633269.000 642577.000  1.47%   146 2811s\n"
     ]
    },
    {
     "name": "stderr",
     "output_type": "stream",
     "text": [
      "2023-04-20 21:56:33,220 - INFO -  406597 157688 636142.000   69   92 633269.000 642577.000  1.47%   146 2811s\n"
     ]
    },
    {
     "name": "stdout",
     "output_type": "stream",
     "text": [
      " 409187 158889 642280.000   41  112 633269.000 642576.000  1.47%   146 2822s\n"
     ]
    },
    {
     "name": "stderr",
     "output_type": "stream",
     "text": [
      "2023-04-20 21:56:43,922 - INFO -  409187 158889 642280.000   41  112 633269.000 642576.000  1.47%   146 2822s\n"
     ]
    },
    {
     "name": "stdout",
     "output_type": "stream",
     "text": [
      " 412024 159939 641744.000   38  127 633269.000 642576.000  1.47%   146 2831s\n"
     ]
    },
    {
     "name": "stderr",
     "output_type": "stream",
     "text": [
      "2023-04-20 21:56:53,607 - INFO -  412024 159939 641744.000   38  127 633269.000 642576.000  1.47%   146 2831s\n"
     ]
    },
    {
     "name": "stdout",
     "output_type": "stream",
     "text": [
      " 414676 161232 634192.500   79   85 633269.000 642575.000  1.47%   147 2846s\n"
     ]
    },
    {
     "name": "stderr",
     "output_type": "stream",
     "text": [
      "2023-04-20 21:57:08,069 - INFO -  414676 161232 634192.500   79   85 633269.000 642575.000  1.47%   147 2846s\n"
     ]
    },
    {
     "name": "stdout",
     "output_type": "stream",
     "text": [
      " 417455 162245 636518.533   67   74 633269.000 642574.000  1.47%   147 2857s\n"
     ]
    },
    {
     "name": "stderr",
     "output_type": "stream",
     "text": [
      "2023-04-20 21:57:18,920 - INFO -  417455 162245 636518.533   67   74 633269.000 642574.000  1.47%   147 2857s\n"
     ]
    },
    {
     "name": "stdout",
     "output_type": "stream",
     "text": [
      " 419769 163355 634814.000   90   67 633269.000 642573.000  1.47%   147 2869s\n"
     ]
    },
    {
     "name": "stderr",
     "output_type": "stream",
     "text": [
      "2023-04-20 21:57:31,014 - INFO -  419769 163355 634814.000   90   67 633269.000 642573.000  1.47%   147 2869s\n"
     ]
    },
    {
     "name": "stdout",
     "output_type": "stream",
     "text": [
      " 422357 164185 642320.414   48  115 633269.000 642573.000  1.47%   147 2878s\n"
     ]
    },
    {
     "name": "stderr",
     "output_type": "stream",
     "text": [
      "2023-04-20 21:57:39,817 - INFO -  422357 164185 642320.414   48  115 633269.000 642573.000  1.47%   147 2878s\n"
     ]
    },
    {
     "name": "stdout",
     "output_type": "stream",
     "text": [
      " 424525 165310 635229.000   88  111 633269.000 642572.000  1.47%   147 2888s\n"
     ]
    },
    {
     "name": "stderr",
     "output_type": "stream",
     "text": [
      "2023-04-20 21:57:50,380 - INFO -  424525 165310 635229.000   88  111 633269.000 642572.000  1.47%   147 2888s\n"
     ]
    },
    {
     "name": "stdout",
     "output_type": "stream",
     "text": [
      " 427140 166430 642482.415   49  132 633269.000 642572.000  1.47%   147 2901s\n"
     ]
    },
    {
     "name": "stderr",
     "output_type": "stream",
     "text": [
      "2023-04-20 21:58:03,587 - INFO -  427140 166430 642482.415   49  132 633269.000 642572.000  1.47%   147 2901s\n"
     ]
    },
    {
     "name": "stdout",
     "output_type": "stream",
     "text": [
      " 429944 167498 633411.000  111  131 633269.000 642571.000  1.47%   148 2912s\n"
     ]
    },
    {
     "name": "stderr",
     "output_type": "stream",
     "text": [
      "2023-04-20 21:58:14,691 - INFO -  429944 167498 633411.000  111  131 633269.000 642571.000  1.47%   148 2912s\n"
     ]
    },
    {
     "name": "stdout",
     "output_type": "stream",
     "text": [
      " 432539 168663 638974.000   45   64 633269.000 642570.000  1.47%   148 2922s\n"
     ]
    },
    {
     "name": "stderr",
     "output_type": "stream",
     "text": [
      "2023-04-20 21:58:23,991 - INFO -  432539 168663 638974.000   45   64 633269.000 642570.000  1.47%   148 2922s\n"
     ]
    },
    {
     "name": "stdout",
     "output_type": "stream",
     "text": [
      " 435178 169854 641408.000   54   87 633269.000 642570.000  1.47%   148 2932s\n"
     ]
    },
    {
     "name": "stderr",
     "output_type": "stream",
     "text": [
      "2023-04-20 21:58:34,493 - INFO -  435178 169854 641408.000   54   87 633269.000 642570.000  1.47%   148 2932s\n"
     ]
    },
    {
     "name": "stdout",
     "output_type": "stream",
     "text": [
      " 437844 170694 642322.756   45  130 633269.000 642568.609  1.47%   148 2944s\n"
     ]
    },
    {
     "name": "stderr",
     "output_type": "stream",
     "text": [
      "2023-04-20 21:58:46,139 - INFO -  437844 170694 642322.756   45  130 633269.000 642568.609  1.47%   148 2944s\n"
     ]
    },
    {
     "name": "stdout",
     "output_type": "stream",
     "text": [
      " 440077 171948 641219.507   57  113 633269.000 642568.609  1.47%   148 2957s\n"
     ]
    },
    {
     "name": "stderr",
     "output_type": "stream",
     "text": [
      "2023-04-20 21:58:59,663 - INFO -  440077 171948 641219.507   57  113 633269.000 642568.609  1.47%   148 2957s\n"
     ]
    },
    {
     "name": "stdout",
     "output_type": "stream",
     "text": [
      " 443147 172879 636374.000  125   44 633269.000 642568.000  1.47%   148 2968s\n"
     ]
    },
    {
     "name": "stderr",
     "output_type": "stream",
     "text": [
      "2023-04-20 21:59:10,281 - INFO -  443147 172879 636374.000  125   44 633269.000 642568.000  1.47%   148 2968s\n"
     ]
    },
    {
     "name": "stdout",
     "output_type": "stream",
     "text": [
      " 445374 174219 642021.000   56  119 633269.000 642567.000  1.47%   149 2979s\n"
     ]
    },
    {
     "name": "stderr",
     "output_type": "stream",
     "text": [
      "2023-04-20 21:59:21,058 - INFO -  445374 174219 642021.000   56  119 633269.000 642567.000  1.47%   149 2979s\n"
     ]
    },
    {
     "name": "stdout",
     "output_type": "stream",
     "text": [
      " 448206 174834 642201.000   45  141 633269.000 642566.000  1.47%   149 3001s\n"
     ]
    },
    {
     "name": "stderr",
     "output_type": "stream",
     "text": [
      "2023-04-20 21:59:43,628 - INFO -  448206 174834 642201.000   45  141 633269.000 642566.000  1.47%   149 3001s\n"
     ]
    },
    {
     "name": "stdout",
     "output_type": "stream",
     "text": [
      " 449574 175956 639879.000   62  145 633269.000 642566.000  1.47%   149 3015s\n"
     ]
    },
    {
     "name": "stderr",
     "output_type": "stream",
     "text": [
      "2023-04-20 21:59:56,996 - INFO -  449574 175956 639879.000   62  145 633269.000 642566.000  1.47%   149 3015s\n"
     ]
    },
    {
     "name": "stdout",
     "output_type": "stream",
     "text": [
      " 451996 177089 642335.832   54  123 633269.000 642566.000  1.47%   149 3024s\n"
     ]
    },
    {
     "name": "stderr",
     "output_type": "stream",
     "text": [
      "2023-04-20 22:00:06,038 - INFO -  451996 177089 642335.832   54  123 633269.000 642566.000  1.47%   149 3024s\n"
     ]
    },
    {
     "name": "stdout",
     "output_type": "stream",
     "text": [
      " 454510 178237 641345.000  101   91 633269.000 642564.739  1.47%   149 3034s\n"
     ]
    },
    {
     "name": "stderr",
     "output_type": "stream",
     "text": [
      "2023-04-20 22:00:16,180 - INFO -  454510 178237 641345.000  101   91 633269.000 642564.739  1.47%   149 3034s\n"
     ]
    },
    {
     "name": "stdout",
     "output_type": "stream",
     "text": [
      " 457173 179496 642447.648   44  112 633269.000 642564.000  1.47%   149 3047s\n"
     ]
    },
    {
     "name": "stderr",
     "output_type": "stream",
     "text": [
      "2023-04-20 22:00:29,554 - INFO -  457173 179496 642447.648   44  112 633269.000 642564.000  1.47%   149 3047s\n"
     ]
    },
    {
     "name": "stdout",
     "output_type": "stream",
     "text": [
      " 460157 180831 638974.000  134   17 633269.000 642563.000  1.47%   149 3059s\n"
     ]
    },
    {
     "name": "stderr",
     "output_type": "stream",
     "text": [
      "2023-04-20 22:00:41,686 - INFO -  460157 180831 638974.000  134   17 633269.000 642563.000  1.47%   149 3059s\n"
     ]
    },
    {
     "name": "stdout",
     "output_type": "stream",
     "text": [
      " 461053 180832 642051.000   52   88 633269.000 642563.000  1.47%   149 3060s\n"
     ]
    },
    {
     "name": "stderr",
     "output_type": "stream",
     "text": [
      "2023-04-20 22:00:41,874 - INFO -  461053 180832 642051.000   52   88 633269.000 642563.000  1.47%   149 3060s\n"
     ]
    },
    {
     "name": "stdout",
     "output_type": "stream",
     "text": [
      " 463082 181750 infeasible  137      633269.000 642563.000  1.47%   149 3070s\n"
     ]
    },
    {
     "name": "stderr",
     "output_type": "stream",
     "text": [
      "2023-04-20 22:00:52,317 - INFO -  463082 181750 infeasible  137      633269.000 642563.000  1.47%   149 3070s\n"
     ]
    },
    {
     "name": "stdout",
     "output_type": "stream",
     "text": [
      " 465218 182846 636657.000   91   35 633269.000 642561.137  1.47%   149 3081s\n"
     ]
    },
    {
     "name": "stderr",
     "output_type": "stream",
     "text": [
      "2023-04-20 22:01:03,500 - INFO -  465218 182846 636657.000   91   35 633269.000 642561.137  1.47%   149 3081s\n"
     ]
    },
    {
     "name": "stdout",
     "output_type": "stream",
     "text": [
      " 467921 184198 639847.394   70   57 633269.000 642561.000  1.47%   150 3096s\n"
     ]
    },
    {
     "name": "stderr",
     "output_type": "stream",
     "text": [
      "2023-04-20 22:01:18,651 - INFO -  467921 184198 639847.394   70   57 633269.000 642561.000  1.47%   150 3096s\n"
     ]
    },
    {
     "name": "stdout",
     "output_type": "stream",
     "text": [
      " 471012 185370     cutoff  137      633269.000 642561.000  1.47%   150 3107s\n"
     ]
    },
    {
     "name": "stderr",
     "output_type": "stream",
     "text": [
      "2023-04-20 22:01:29,363 - INFO -  471012 185370     cutoff  137      633269.000 642561.000  1.47%   150 3107s\n"
     ]
    },
    {
     "name": "stdout",
     "output_type": "stream",
     "text": [
      " 473679 186591 639493.000   72  123 633269.000 642560.000  1.47%   150 3117s\n"
     ]
    },
    {
     "name": "stderr",
     "output_type": "stream",
     "text": [
      "2023-04-20 22:01:39,090 - INFO -  473679 186591 639493.000   72  123 633269.000 642560.000  1.47%   150 3117s\n"
     ]
    },
    {
     "name": "stdout",
     "output_type": "stream",
     "text": [
      " 476317 188189 640460.000   90  116 633269.000 642559.000  1.47%   150 3131s\n"
     ]
    },
    {
     "name": "stderr",
     "output_type": "stream",
     "text": [
      "2023-04-20 22:01:53,330 - INFO -  476317 188189 640460.000   90  116 633269.000 642559.000  1.47%   150 3131s\n"
     ]
    },
    {
     "name": "stdout",
     "output_type": "stream",
     "text": [
      " 479856 189297 641774.000   39   90 633269.000 642559.000  1.47%   150 3143s\n"
     ]
    },
    {
     "name": "stderr",
     "output_type": "stream",
     "text": [
      "2023-04-20 22:02:04,832 - INFO -  479856 189297 641774.000   39   90 633269.000 642559.000  1.47%   150 3143s\n"
     ]
    },
    {
     "name": "stdout",
     "output_type": "stream",
     "text": [
      " 482448 190508 637565.655   79   83 633269.000 642558.000  1.47%   150 3155s\n"
     ]
    },
    {
     "name": "stderr",
     "output_type": "stream",
     "text": [
      "2023-04-20 22:02:17,053 - INFO -  482448 190508 637565.655   79   83 633269.000 642558.000  1.47%   150 3155s\n"
     ]
    },
    {
     "name": "stdout",
     "output_type": "stream",
     "text": [
      " 485042 191500 635005.000   91  133 633269.000 642558.000  1.47%   150 3169s\n"
     ]
    },
    {
     "name": "stderr",
     "output_type": "stream",
     "text": [
      "2023-04-20 22:02:31,618 - INFO -  485042 191500 635005.000   91  133 633269.000 642558.000  1.47%   150 3169s\n"
     ]
    },
    {
     "name": "stdout",
     "output_type": "stream",
     "text": [
      " 487284 192781 641547.000   45  125 633269.000 642558.000  1.47%   150 3180s\n"
     ]
    },
    {
     "name": "stderr",
     "output_type": "stream",
     "text": [
      "2023-04-20 22:02:42,400 - INFO -  487284 192781 641547.000   45  125 633269.000 642558.000  1.47%   150 3180s\n"
     ]
    },
    {
     "name": "stdout",
     "output_type": "stream",
     "text": [
      " 490237 193907     cutoff   92      633269.000 642557.310  1.47%   150 3192s\n"
     ]
    },
    {
     "name": "stderr",
     "output_type": "stream",
     "text": [
      "2023-04-20 22:02:54,126 - INFO -  490237 193907     cutoff   92      633269.000 642557.310  1.47%   150 3192s\n"
     ]
    },
    {
     "name": "stdout",
     "output_type": "stream",
     "text": [
      " 492979 194945 infeasible  127      633269.000 642556.710  1.47%   150 3209s\n"
     ]
    },
    {
     "name": "stderr",
     "output_type": "stream",
     "text": [
      "2023-04-20 22:03:11,551 - INFO -  492979 194945 infeasible  127      633269.000 642556.710  1.47%   150 3209s\n"
     ]
    },
    {
     "name": "stdout",
     "output_type": "stream",
     "text": [
      " 494482 194945 641211.161   42  138 633269.000 642556.000  1.47%   150 3210s\n"
     ]
    },
    {
     "name": "stderr",
     "output_type": "stream",
     "text": [
      "2023-04-20 22:03:11,817 - INFO -  494482 194945 641211.161   42  138 633269.000 642556.000  1.47%   150 3210s\n"
     ]
    },
    {
     "name": "stdout",
     "output_type": "stream",
     "text": [
      " 495532 195987 638983.000  103  117 633269.000 642556.000  1.47%   151 3218s\n"
     ]
    },
    {
     "name": "stderr",
     "output_type": "stream",
     "text": [
      "2023-04-20 22:03:20,596 - INFO -  495532 195987 638983.000  103  117 633269.000 642556.000  1.47%   151 3218s\n"
     ]
    },
    {
     "name": "stdout",
     "output_type": "stream",
     "text": [
      " 497825 197101 642040.735   38  123 633269.000 642555.000  1.47%   151 3229s\n"
     ]
    },
    {
     "name": "stderr",
     "output_type": "stream",
     "text": [
      "2023-04-20 22:03:30,889 - INFO -  497825 197101 642040.735   38  123 633269.000 642555.000  1.47%   151 3229s\n"
     ]
    },
    {
     "name": "stdout",
     "output_type": "stream",
     "text": [
      " 500450 198393 639655.923   87   85 633269.000 642554.894  1.47%   151 3250s\n"
     ]
    },
    {
     "name": "stderr",
     "output_type": "stream",
     "text": [
      "2023-04-20 22:03:52,744 - INFO -  500450 198393 639655.923   87   85 633269.000 642554.894  1.47%   151 3250s\n"
     ]
    },
    {
     "name": "stdout",
     "output_type": "stream",
     "text": [
      " 503351 199703     cutoff  105      633269.000 642554.000  1.47%   151 3261s\n"
     ]
    },
    {
     "name": "stderr",
     "output_type": "stream",
     "text": [
      "2023-04-20 22:04:03,681 - INFO -  503351 199703     cutoff  105      633269.000 642554.000  1.47%   151 3261s\n"
     ]
    },
    {
     "name": "stdout",
     "output_type": "stream",
     "text": [
      " 506158 201038 640167.852   78  110 633269.000 642553.000  1.47%   151 3272s\n"
     ]
    },
    {
     "name": "stderr",
     "output_type": "stream",
     "text": [
      "2023-04-20 22:04:14,591 - INFO -  506158 201038 640167.852   78  110 633269.000 642553.000  1.47%   151 3272s\n"
     ]
    },
    {
     "name": "stdout",
     "output_type": "stream",
     "text": [
      " 509034 202270 640902.917   50  111 633269.000 642552.450  1.47%   151 3288s\n"
     ]
    },
    {
     "name": "stderr",
     "output_type": "stream",
     "text": [
      "2023-04-20 22:04:29,857 - INFO -  509034 202270 640902.917   50  111 633269.000 642552.450  1.47%   151 3288s\n"
     ]
    },
    {
     "name": "stdout",
     "output_type": "stream",
     "text": [
      " 511689 203535 635884.673   78   92 633269.000 642552.000  1.47%   151 3298s\n"
     ]
    },
    {
     "name": "stderr",
     "output_type": "stream",
     "text": [
      "2023-04-20 22:04:40,196 - INFO -  511689 203535 635884.673   78   92 633269.000 642552.000  1.47%   151 3298s\n"
     ]
    },
    {
     "name": "stdout",
     "output_type": "stream",
     "text": [
      " 514370 204567 641901.000   58   94 633269.000 642551.000  1.47%   151 3311s\n"
     ]
    },
    {
     "name": "stderr",
     "output_type": "stream",
     "text": [
      "2023-04-20 22:04:53,501 - INFO -  514370 204567 641901.000   58   94 633269.000 642551.000  1.47%   151 3311s\n"
     ]
    },
    {
     "name": "stdout",
     "output_type": "stream",
     "text": [
      " 516745 205239 641972.893   65   94 633269.000 642551.000  1.47%   151 3327s\n"
     ]
    },
    {
     "name": "stderr",
     "output_type": "stream",
     "text": [
      "2023-04-20 22:05:09,143 - INFO -  516745 205239 641972.893   65   94 633269.000 642551.000  1.47%   151 3327s\n"
     ]
    },
    {
     "name": "stdout",
     "output_type": "stream",
     "text": [
      " 518398 206409 infeasible  108      633269.000 642551.000  1.47%   151 3351s\n"
     ]
    },
    {
     "name": "stderr",
     "output_type": "stream",
     "text": [
      "2023-04-20 22:05:33,191 - INFO -  518398 206409 infeasible  108      633269.000 642551.000  1.47%   151 3351s\n"
     ]
    },
    {
     "name": "stdout",
     "output_type": "stream",
     "text": [
      " 520996 207635 639467.000   59   83 633269.000 642550.000  1.47%   151 3364s\n"
     ]
    },
    {
     "name": "stderr",
     "output_type": "stream",
     "text": [
      "2023-04-20 22:05:45,781 - INFO -  520996 207635 639467.000   59   83 633269.000 642550.000  1.47%   151 3364s\n"
     ]
    },
    {
     "name": "stdout",
     "output_type": "stream",
     "text": [
      " 523687 209015 639911.912   58  102 633269.000 642549.000  1.47%   152 3379s\n"
     ]
    },
    {
     "name": "stderr",
     "output_type": "stream",
     "text": [
      "2023-04-20 22:06:01,698 - INFO -  523687 209015 639911.912   58  102 633269.000 642549.000  1.47%   152 3379s\n"
     ]
    },
    {
     "name": "stdout",
     "output_type": "stream",
     "text": [
      " 524042 209015 637884.944   64   77 633269.000 642549.000  1.47%   152 3380s\n"
     ]
    },
    {
     "name": "stderr",
     "output_type": "stream",
     "text": [
      "2023-04-20 22:06:01,792 - INFO -  524042 209015 637884.944   64   77 633269.000 642549.000  1.47%   152 3380s\n"
     ]
    },
    {
     "name": "stdout",
     "output_type": "stream",
     "text": [
      " 526641 209813 639460.000   95   77 633269.000 642549.000  1.47%   152 3420s\n"
     ]
    },
    {
     "name": "stderr",
     "output_type": "stream",
     "text": [
      "2023-04-20 22:06:42,068 - INFO -  526641 209813 639460.000   95   77 633269.000 642549.000  1.47%   152 3420s\n"
     ]
    },
    {
     "name": "stdout",
     "output_type": "stream",
     "text": [
      " 528509 210925 639056.308   67  123 633269.000 642549.000  1.47%   152 3433s\n"
     ]
    },
    {
     "name": "stderr",
     "output_type": "stream",
     "text": [
      "2023-04-20 22:06:55,119 - INFO -  528509 210925 639056.308   67  123 633269.000 642549.000  1.47%   152 3433s\n"
     ]
    },
    {
     "name": "stdout",
     "output_type": "stream",
     "text": [
      " 531065 212361 641039.507   85   90 633269.000 642548.000  1.47%   152 3450s\n"
     ]
    },
    {
     "name": "stderr",
     "output_type": "stream",
     "text": [
      "2023-04-20 22:07:12,593 - INFO -  531065 212361 641039.507   85   90 633269.000 642548.000  1.47%   152 3450s\n"
     ]
    },
    {
     "name": "stdout",
     "output_type": "stream",
     "text": [
      " 534273 213551 638845.574   63  128 633269.000 642547.000  1.47%   152 3468s\n"
     ]
    },
    {
     "name": "stderr",
     "output_type": "stream",
     "text": [
      "2023-04-20 22:07:30,187 - INFO -  534273 213551 638845.574   63  128 633269.000 642547.000  1.47%   152 3468s\n"
     ]
    },
    {
     "name": "stdout",
     "output_type": "stream",
     "text": [
      " 537037 214667 641742.000   51   87 633269.000 642547.000  1.47%   152 3483s\n"
     ]
    },
    {
     "name": "stderr",
     "output_type": "stream",
     "text": [
      "2023-04-20 22:07:45,387 - INFO -  537037 214667 641742.000   51   87 633269.000 642547.000  1.47%   152 3483s\n"
     ]
    },
    {
     "name": "stdout",
     "output_type": "stream",
     "text": [
      " 539711 215875 637245.270  102   31 633269.000 642546.000  1.46%   152 3510s\n"
     ]
    },
    {
     "name": "stderr",
     "output_type": "stream",
     "text": [
      "2023-04-20 22:08:12,239 - INFO -  539711 215875 637245.270  102   31 633269.000 642546.000  1.46%   152 3510s\n"
     ]
    },
    {
     "name": "stdout",
     "output_type": "stream",
     "text": [
      " 542617 216738 infeasible  138      633269.000 642546.000  1.46%   152 3526s\n"
     ]
    },
    {
     "name": "stderr",
     "output_type": "stream",
     "text": [
      "2023-04-20 22:08:28,314 - INFO -  542617 216738 infeasible  138      633269.000 642546.000  1.46%   152 3526s\n"
     ]
    },
    {
     "name": "stdout",
     "output_type": "stream",
     "text": [
      " 545018 217800 641956.784   54  117 633269.000 642545.000  1.46%   152 3543s\n"
     ]
    },
    {
     "name": "stderr",
     "output_type": "stream",
     "text": [
      "2023-04-20 22:08:45,243 - INFO -  545018 217800 641956.784   54  117 633269.000 642545.000  1.46%   152 3543s\n"
     ]
    },
    {
     "name": "stdout",
     "output_type": "stream",
     "text": [
      " 547613 218840 641827.041   42   79 633269.000 642545.000  1.46%   152 3557s\n"
     ]
    },
    {
     "name": "stderr",
     "output_type": "stream",
     "text": [
      "2023-04-20 22:08:59,329 - INFO -  547613 218840 641827.041   42   79 633269.000 642545.000  1.46%   152 3557s\n"
     ]
    },
    {
     "name": "stdout",
     "output_type": "stream",
     "text": [
      " 550180 219932 637662.202   77   90 633269.000 642544.335  1.46%   152 3574s\n"
     ]
    },
    {
     "name": "stderr",
     "output_type": "stream",
     "text": [
      "2023-04-20 22:09:16,533 - INFO -  550180 219932 637662.202   77   90 633269.000 642544.335  1.46%   152 3574s\n"
     ]
    },
    {
     "name": "stdout",
     "output_type": "stream",
     "text": [
      " 552624 221065 641811.000   48  107 633269.000 642544.000  1.46%   153 3588s\n"
     ]
    },
    {
     "name": "stderr",
     "output_type": "stream",
     "text": [
      "2023-04-20 22:09:30,715 - INFO -  552624 221065 641811.000   48  107 633269.000 642544.000  1.46%   153 3588s\n"
     ]
    },
    {
     "name": "stdout",
     "output_type": "stream",
     "text": [
      " 555247 222112 640684.000   64   89 633269.000 642543.000  1.46%   153 3603s\n"
     ]
    },
    {
     "name": "stderr",
     "output_type": "stream",
     "text": [
      "2023-04-20 22:09:45,688 - INFO -  555247 222112 640684.000   64   89 633269.000 642543.000  1.46%   153 3603s\n"
     ]
    },
    {
     "name": "stdout",
     "output_type": "stream",
     "text": [
      " 557647 223342 642076.062   61  108 633269.000 642543.000  1.46%   153 3621s\n"
     ]
    },
    {
     "name": "stderr",
     "output_type": "stream",
     "text": [
      "2023-04-20 22:10:03,483 - INFO -  557647 223342 642076.062   61  108 633269.000 642543.000  1.46%   153 3621s\n"
     ]
    },
    {
     "name": "stdout",
     "output_type": "stream",
     "text": [
      " 560347 224290 642338.000   40  127 633269.000 642542.000  1.46%   153 3632s\n"
     ]
    },
    {
     "name": "stderr",
     "output_type": "stream",
     "text": [
      "2023-04-20 22:10:14,277 - INFO -  560347 224290 642338.000   40  127 633269.000 642542.000  1.46%   153 3632s\n"
     ]
    },
    {
     "name": "stdout",
     "output_type": "stream",
     "text": [
      " 562507 225241 641489.217   34  122 633269.000 642541.000  1.46%   153 3644s\n"
     ]
    },
    {
     "name": "stderr",
     "output_type": "stream",
     "text": [
      "2023-04-20 22:10:26,204 - INFO -  562507 225241 641489.217   34  122 633269.000 642541.000  1.46%   153 3644s\n"
     ]
    },
    {
     "name": "stdout",
     "output_type": "stream",
     "text": [
      " 565035 226028 641420.665   45  112 633269.000 642541.000  1.46%   153 3656s\n"
     ]
    },
    {
     "name": "stderr",
     "output_type": "stream",
     "text": [
      "2023-04-20 22:10:38,441 - INFO -  565035 226028 641420.665   45  112 633269.000 642541.000  1.46%   153 3656s\n"
     ]
    },
    {
     "name": "stdout",
     "output_type": "stream",
     "text": [
      " 567238 226913 640766.006   42  129 633269.000 642540.512  1.46%   153 3675s\n"
     ]
    },
    {
     "name": "stderr",
     "output_type": "stream",
     "text": [
      "2023-04-20 22:10:57,124 - INFO -  567238 226913 640766.006   42  129 633269.000 642540.512  1.46%   153 3675s\n"
     ]
    },
    {
     "name": "stdout",
     "output_type": "stream",
     "text": [
      " 569634 228031 641781.824   56   70 633269.000 642540.000  1.46%   154 3689s\n"
     ]
    },
    {
     "name": "stderr",
     "output_type": "stream",
     "text": [
      "2023-04-20 22:11:11,383 - INFO -  569634 228031 641781.824   56   70 633269.000 642540.000  1.46%   154 3689s\n"
     ]
    },
    {
     "name": "stdout",
     "output_type": "stream",
     "text": [
      " 571273 228039 638888.000   81   45 633269.000 642540.000  1.46%   154 3690s\n"
     ]
    },
    {
     "name": "stderr",
     "output_type": "stream",
     "text": [
      "2023-04-20 22:11:11,820 - INFO -  571273 228039 638888.000   81   45 633269.000 642540.000  1.46%   154 3690s\n"
     ]
    },
    {
     "name": "stdout",
     "output_type": "stream",
     "text": [
      " 572436 228937     cutoff  131      633269.000 642540.000  1.46%   154 3714s\n"
     ]
    },
    {
     "name": "stderr",
     "output_type": "stream",
     "text": [
      "2023-04-20 22:11:36,691 - INFO -  572436 228937     cutoff  131      633269.000 642540.000  1.46%   154 3714s\n"
     ]
    },
    {
     "name": "stdout",
     "output_type": "stream",
     "text": [
      " 572506 228937 641168.733   59  117 633269.000 642539.941  1.46%   154 3715s\n"
     ]
    },
    {
     "name": "stderr",
     "output_type": "stream",
     "text": [
      "2023-04-20 22:11:36,754 - INFO -  572506 228937 641168.733   59  117 633269.000 642539.941  1.46%   154 3715s\n"
     ]
    },
    {
     "name": "stdout",
     "output_type": "stream",
     "text": [
      "H573271 226649                    633612.00000 642539.941  1.41%   154 3715s\n"
     ]
    },
    {
     "name": "stderr",
     "output_type": "stream",
     "text": [
      "2023-04-20 22:11:36,988 - INFO - H573271 226649                    633612.00000 642539.941  1.41%   154 3715s\n"
     ]
    },
    {
     "name": "stdout",
     "output_type": "stream",
     "text": [
      "H574731 219483                    634510.00000 642539.941  1.27%   154 3763s\n"
     ]
    },
    {
     "name": "stderr",
     "output_type": "stream",
     "text": [
      "2023-04-20 22:12:24,924 - INFO - H574731 219483                    634510.00000 642539.941  1.27%   154 3763s\n"
     ]
    },
    {
     "name": "stdout",
     "output_type": "stream",
     "text": [
      "H575092 109098                    640163.00000 642539.000  0.37%   154 3763s\n"
     ]
    },
    {
     "name": "stderr",
     "output_type": "stream",
     "text": [
      "2023-04-20 22:12:25,142 - INFO - H575092 109098                    640163.00000 642539.000  0.37%   154 3763s\n"
     ]
    },
    {
     "name": "stdout",
     "output_type": "stream",
     "text": [
      " 576036 109623     cutoff   44      640163.000 642539.000  0.37%   154 3772s\n"
     ]
    },
    {
     "name": "stderr",
     "output_type": "stream",
     "text": [
      "2023-04-20 22:12:34,666 - INFO -  576036 109623     cutoff   44      640163.000 642539.000  0.37%   154 3772s\n"
     ]
    },
    {
     "name": "stdout",
     "output_type": "stream",
     "text": [
      " 578139 110380 640588.000   95   68 640163.000 642538.000  0.37%   154 3782s\n"
     ]
    },
    {
     "name": "stderr",
     "output_type": "stream",
     "text": [
      "2023-04-20 22:12:44,372 - INFO -  578139 110380 640588.000   95   68 640163.000 642538.000  0.37%   154 3782s\n"
     ]
    },
    {
     "name": "stdout",
     "output_type": "stream",
     "text": [
      " 580183 111150 642213.211   55   98 640163.000 642537.000  0.37%   154 3795s\n"
     ]
    },
    {
     "name": "stderr",
     "output_type": "stream",
     "text": [
      "2023-04-20 22:12:56,919 - INFO -  580183 111150 642213.211   55   98 640163.000 642537.000  0.37%   154 3795s\n"
     ]
    },
    {
     "name": "stdout",
     "output_type": "stream",
     "text": [
      " 582255 111885 640668.000   39   71 640163.000 642536.000  0.37%   155 3803s\n"
     ]
    },
    {
     "name": "stderr",
     "output_type": "stream",
     "text": [
      "2023-04-20 22:13:05,497 - INFO -  582255 111885 640668.000   39   71 640163.000 642536.000  0.37%   155 3803s\n"
     ]
    },
    {
     "name": "stdout",
     "output_type": "stream",
     "text": [
      " 584359 112388 infeasible   56      640163.000 642535.000  0.37%   155 3811s\n"
     ]
    },
    {
     "name": "stderr",
     "output_type": "stream",
     "text": [
      "2023-04-20 22:13:12,830 - INFO -  584359 112388 infeasible   56      640163.000 642535.000  0.37%   155 3811s\n"
     ]
    },
    {
     "name": "stdout",
     "output_type": "stream",
     "text": [
      " 586023 113103 642257.924   24  135 640163.000 642534.000  0.37%   155 3819s\n"
     ]
    },
    {
     "name": "stderr",
     "output_type": "stream",
     "text": [
      "2023-04-20 22:13:21,013 - INFO -  586023 113103 642257.924   24  135 640163.000 642534.000  0.37%   155 3819s\n"
     ]
    },
    {
     "name": "stdout",
     "output_type": "stream",
     "text": [
      " 588064 113879 641142.000   61   79 640163.000 642534.000  0.37%   155 3830s\n"
     ]
    },
    {
     "name": "stderr",
     "output_type": "stream",
     "text": [
      "2023-04-20 22:13:31,928 - INFO -  588064 113879 641142.000   61   79 640163.000 642534.000  0.37%   155 3830s\n"
     ]
    },
    {
     "name": "stdout",
     "output_type": "stream",
     "text": [
      " 590412 114537 641796.000   52  113 640163.000 642533.000  0.37%   156 3838s\n"
     ]
    },
    {
     "name": "stderr",
     "output_type": "stream",
     "text": [
      "2023-04-20 22:13:40,218 - INFO -  590412 114537 641796.000   52  113 640163.000 642533.000  0.37%   156 3838s\n"
     ]
    },
    {
     "name": "stdout",
     "output_type": "stream",
     "text": [
      " 592494 114978 642113.000   57   80 640163.000 642532.000  0.37%   156 3845s\n"
     ]
    },
    {
     "name": "stderr",
     "output_type": "stream",
     "text": [
      "2023-04-20 22:13:47,702 - INFO -  592494 114978 642113.000   57   80 640163.000 642532.000  0.37%   156 3845s\n"
     ]
    },
    {
     "name": "stdout",
     "output_type": "stream",
     "text": [
      " 593992 115661 641546.000   69  141 640163.000 642531.028  0.37%   156 3853s\n"
     ]
    },
    {
     "name": "stderr",
     "output_type": "stream",
     "text": [
      "2023-04-20 22:13:55,645 - INFO -  593992 115661 641546.000   69  141 640163.000 642531.028  0.37%   156 3853s\n"
     ]
    },
    {
     "name": "stdout",
     "output_type": "stream",
     "text": [
      " 595951 116283 641952.838   57  118 640163.000 642531.000  0.37%   156 3878s\n"
     ]
    },
    {
     "name": "stderr",
     "output_type": "stream",
     "text": [
      "2023-04-20 22:14:20,650 - INFO -  595951 116283 641952.838   57  118 640163.000 642531.000  0.37%   156 3878s\n"
     ]
    },
    {
     "name": "stdout",
     "output_type": "stream",
     "text": [
      " 597672 116829 641887.000   41  117 640163.000 642530.000  0.37%   156 3888s\n"
     ]
    },
    {
     "name": "stderr",
     "output_type": "stream",
     "text": [
      "2023-04-20 22:14:29,812 - INFO -  597672 116829 641887.000   41  117 640163.000 642530.000  0.37%   156 3888s\n"
     ]
    },
    {
     "name": "stdout",
     "output_type": "stream",
     "text": [
      " 599564 117591 641468.599   56  109 640163.000 642529.000  0.37%   157 3897s\n"
     ]
    },
    {
     "name": "stderr",
     "output_type": "stream",
     "text": [
      "2023-04-20 22:14:38,947 - INFO -  599564 117591 641468.599   56  109 640163.000 642529.000  0.37%   157 3897s\n"
     ]
    },
    {
     "name": "stdout",
     "output_type": "stream",
     "text": [
      " 601547 118272 641666.000   61   94 640163.000 642528.000  0.37%   157 3905s\n"
     ]
    },
    {
     "name": "stderr",
     "output_type": "stream",
     "text": [
      "2023-04-20 22:14:47,759 - INFO -  601547 118272 641666.000   61   94 640163.000 642528.000  0.37%   157 3905s\n"
     ]
    },
    {
     "name": "stdout",
     "output_type": "stream",
     "text": [
      " 603612 118981 642474.000   38  136 640163.000 642527.886  0.37%   157 3914s\n"
     ]
    },
    {
     "name": "stderr",
     "output_type": "stream",
     "text": [
      "2023-04-20 22:14:56,290 - INFO -  603612 118981 642474.000   38  136 640163.000 642527.886  0.37%   157 3914s\n"
     ]
    },
    {
     "name": "stdout",
     "output_type": "stream",
     "text": [
      " 605593 119812 642293.000   44   99 640163.000 642526.340  0.37%   157 3923s\n"
     ]
    },
    {
     "name": "stderr",
     "output_type": "stream",
     "text": [
      "2023-04-20 22:15:05,352 - INFO -  605593 119812 642293.000   44   99 640163.000 642526.340  0.37%   157 3923s\n"
     ]
    },
    {
     "name": "stdout",
     "output_type": "stream",
     "text": [
      " 607711 120571 641205.000   62  126 640163.000 642526.000  0.37%   158 3932s\n"
     ]
    },
    {
     "name": "stderr",
     "output_type": "stream",
     "text": [
      "2023-04-20 22:15:14,610 - INFO -  607711 120571 641205.000   62  126 640163.000 642526.000  0.37%   158 3932s\n"
     ]
    },
    {
     "name": "stdout",
     "output_type": "stream",
     "text": [
      " 609774 121168 infeasible   70      640163.000 642525.000  0.37%   158 3941s\n"
     ]
    },
    {
     "name": "stderr",
     "output_type": "stream",
     "text": [
      "2023-04-20 22:15:23,236 - INFO -  609774 121168 infeasible   70      640163.000 642525.000  0.37%   158 3941s\n"
     ]
    },
    {
     "name": "stdout",
     "output_type": "stream",
     "text": [
      " 611725 121906 640178.000   71  118 640163.000 642524.000  0.37%   158 3950s\n"
     ]
    },
    {
     "name": "stderr",
     "output_type": "stream",
     "text": [
      "2023-04-20 22:15:31,853 - INFO -  611725 121906 640178.000   71  118 640163.000 642524.000  0.37%   158 3950s\n"
     ]
    },
    {
     "name": "stdout",
     "output_type": "stream",
     "text": [
      " 613820 122464 infeasible   64      640163.000 642523.000  0.37%   158 3957s\n"
     ]
    },
    {
     "name": "stderr",
     "output_type": "stream",
     "text": [
      "2023-04-20 22:15:39,395 - INFO -  613820 122464 infeasible   64      640163.000 642523.000  0.37%   158 3957s\n"
     ]
    },
    {
     "name": "stdout",
     "output_type": "stream",
     "text": [
      " 615395 123218 640811.844   54  117 640163.000 642522.063  0.37%   158 3966s\n"
     ]
    },
    {
     "name": "stderr",
     "output_type": "stream",
     "text": [
      "2023-04-20 22:15:47,794 - INFO -  615395 123218 640811.844   54  117 640163.000 642522.063  0.37%   158 3966s\n"
     ]
    },
    {
     "name": "stdout",
     "output_type": "stream",
     "text": [
      " 617433 124114 641979.985   37  124 640163.000 642522.000  0.37%   159 3975s\n"
     ]
    },
    {
     "name": "stderr",
     "output_type": "stream",
     "text": [
      "2023-04-20 22:15:57,119 - INFO -  617433 124114 641979.985   37  124 640163.000 642522.000  0.37%   159 3975s\n"
     ]
    },
    {
     "name": "stdout",
     "output_type": "stream",
     "text": [
      " 619666 125018 642144.000   50  119 640163.000 642521.000  0.37%   159 3984s\n"
     ]
    },
    {
     "name": "stderr",
     "output_type": "stream",
     "text": [
      "2023-04-20 22:16:06,370 - INFO -  619666 125018 642144.000   50  119 640163.000 642521.000  0.37%   159 3984s\n"
     ]
    },
    {
     "name": "stdout",
     "output_type": "stream",
     "text": [
      " 621879 125833 642023.000   58  127 640163.000 642520.000  0.37%   159 3993s\n"
     ]
    },
    {
     "name": "stderr",
     "output_type": "stream",
     "text": [
      "2023-04-20 22:16:15,052 - INFO -  621879 125833 642023.000   58  127 640163.000 642520.000  0.37%   159 3993s\n"
     ]
    },
    {
     "name": "stdout",
     "output_type": "stream",
     "text": [
      " 624170 126446 641467.000   48   59 640163.000 642519.000  0.37%   159 4002s\n"
     ]
    },
    {
     "name": "stderr",
     "output_type": "stream",
     "text": [
      "2023-04-20 22:16:24,672 - INFO -  624170 126446 641467.000   48   59 640163.000 642519.000  0.37%   159 4002s\n"
     ]
    },
    {
     "name": "stdout",
     "output_type": "stream",
     "text": [
      " 626151 127172 641241.000   72   65 640163.000 642518.520  0.37%   159 4012s\n"
     ]
    },
    {
     "name": "stderr",
     "output_type": "stream",
     "text": [
      "2023-04-20 22:16:34,324 - INFO -  626151 127172 641241.000   72   65 640163.000 642518.520  0.37%   159 4012s\n"
     ]
    },
    {
     "name": "stdout",
     "output_type": "stream",
     "text": [
      " 628229 128012 642500.000   49  123 640163.000 642518.000  0.37%   160 4023s\n"
     ]
    },
    {
     "name": "stderr",
     "output_type": "stream",
     "text": [
      "2023-04-20 22:16:45,167 - INFO -  628229 128012 642500.000   49  123 640163.000 642518.000  0.37%   160 4023s\n"
     ]
    },
    {
     "name": "stdout",
     "output_type": "stream",
     "text": [
      " 630479 128873 641589.000   59  107 640163.000 642517.700  0.37%   160 4033s\n"
     ]
    },
    {
     "name": "stderr",
     "output_type": "stream",
     "text": [
      "2023-04-20 22:16:55,672 - INFO -  630479 128873 641589.000   59  107 640163.000 642517.700  0.37%   160 4033s\n"
     ]
    },
    {
     "name": "stdout",
     "output_type": "stream",
     "text": [
      " 632855 129618 640939.748   40  114 640163.000 642516.512  0.37%   160 4042s\n"
     ]
    },
    {
     "name": "stderr",
     "output_type": "stream",
     "text": [
      "2023-04-20 22:17:04,674 - INFO -  632855 129618 640939.748   40  114 640163.000 642516.512  0.37%   160 4042s\n"
     ]
    },
    {
     "name": "stdout",
     "output_type": "stream",
     "text": [
      " 635061 130506 642292.956   45  114 640163.000 642516.000  0.37%   160 4057s\n"
     ]
    },
    {
     "name": "stderr",
     "output_type": "stream",
     "text": [
      "2023-04-20 22:17:18,772 - INFO -  635061 130506 642292.956   45  114 640163.000 642516.000  0.37%   160 4057s\n"
     ]
    },
    {
     "name": "stdout",
     "output_type": "stream",
     "text": [
      " 637323 131282 642191.461   39  118 640163.000 642515.000  0.37%   160 4065s\n"
     ]
    },
    {
     "name": "stderr",
     "output_type": "stream",
     "text": [
      "2023-04-20 22:17:27,655 - INFO -  637323 131282 642191.461   39  118 640163.000 642515.000  0.37%   160 4065s\n"
     ]
    },
    {
     "name": "stdout",
     "output_type": "stream",
     "text": [
      " 639504 132234 640729.000   68   98 640163.000 642515.000  0.37%   161 4075s\n"
     ]
    },
    {
     "name": "stderr",
     "output_type": "stream",
     "text": [
      "2023-04-20 22:17:37,422 - INFO -  639504 132234 640729.000   68   98 640163.000 642515.000  0.37%   161 4075s\n"
     ]
    },
    {
     "name": "stdout",
     "output_type": "stream",
     "text": [
      " 641873 132973 642325.000   28  115 640163.000 642514.000  0.37%   161 4085s\n"
     ]
    },
    {
     "name": "stderr",
     "output_type": "stream",
     "text": [
      "2023-04-20 22:17:47,295 - INFO -  641873 132973 642325.000   28  115 640163.000 642514.000  0.37%   161 4085s\n"
     ]
    },
    {
     "name": "stdout",
     "output_type": "stream",
     "text": [
      " 643844 133737 640244.000   66   88 640163.000 642513.000  0.37%   161 4094s\n"
     ]
    },
    {
     "name": "stderr",
     "output_type": "stream",
     "text": [
      "2023-04-20 22:17:56,433 - INFO -  643844 133737 640244.000   66   88 640163.000 642513.000  0.37%   161 4094s\n"
     ]
    },
    {
     "name": "stdout",
     "output_type": "stream",
     "text": [
      " 645946 133737 640173.356   57   89 640163.000 642511.255  0.37%   161 4095s\n"
     ]
    },
    {
     "name": "stderr",
     "output_type": "stream",
     "text": [
      "2023-04-20 22:17:56,808 - INFO -  645946 133737 640173.356   57   89 640163.000 642511.255  0.37%   161 4095s\n"
     ]
    },
    {
     "name": "stdout",
     "output_type": "stream",
     "text": [
      " 646031 134468 641244.191   54  105 640163.000 642511.000  0.37%   161 4107s\n"
     ]
    },
    {
     "name": "stderr",
     "output_type": "stream",
     "text": [
      "2023-04-20 22:18:09,347 - INFO -  646031 134468 641244.191   54  105 640163.000 642511.000  0.37%   161 4107s\n"
     ]
    },
    {
     "name": "stdout",
     "output_type": "stream",
     "text": [
      " 648045 135294 641953.000   48  113 640163.000 642511.000  0.37%   161 4120s\n"
     ]
    },
    {
     "name": "stderr",
     "output_type": "stream",
     "text": [
      "2023-04-20 22:18:22,475 - INFO -  648045 135294 641953.000   48  113 640163.000 642511.000  0.37%   161 4120s\n"
     ]
    },
    {
     "name": "stdout",
     "output_type": "stream",
     "text": [
      " 650257 135998 640916.036   72  105 640163.000 642510.000  0.37%   162 4131s\n"
     ]
    },
    {
     "name": "stderr",
     "output_type": "stream",
     "text": [
      "2023-04-20 22:18:33,519 - INFO -  650257 135998 640916.036   72  105 640163.000 642510.000  0.37%   162 4131s\n"
     ]
    },
    {
     "name": "stdout",
     "output_type": "stream",
     "text": [
      " 652574 136959 641156.858   66   97 640163.000 642509.000  0.37%   162 4141s\n"
     ]
    },
    {
     "name": "stderr",
     "output_type": "stream",
     "text": [
      "2023-04-20 22:18:43,465 - INFO -  652574 136959 641156.858   66   97 640163.000 642509.000  0.37%   162 4141s\n"
     ]
    },
    {
     "name": "stdout",
     "output_type": "stream",
     "text": [
      " 655069 137861 642002.000   56  101 640163.000 642508.000  0.37%   162 4151s\n"
     ]
    },
    {
     "name": "stderr",
     "output_type": "stream",
     "text": [
      "2023-04-20 22:18:53,372 - INFO -  655069 137861 642002.000   56  101 640163.000 642508.000  0.37%   162 4151s\n"
     ]
    },
    {
     "name": "stdout",
     "output_type": "stream",
     "text": [
      " 657353 138781 641343.000   68  118 640163.000 642508.000  0.37%   162 4160s\n"
     ]
    },
    {
     "name": "stderr",
     "output_type": "stream",
     "text": [
      "2023-04-20 22:19:02,709 - INFO -  657353 138781 641343.000   68  118 640163.000 642508.000  0.37%   162 4160s\n"
     ]
    },
    {
     "name": "stdout",
     "output_type": "stream",
     "text": [
      " 659625 139251 640650.886   49  117 640163.000 642507.000  0.37%   162 4168s\n"
     ]
    },
    {
     "name": "stderr",
     "output_type": "stream",
     "text": [
      "2023-04-20 22:19:10,505 - INFO -  659625 139251 640650.886   49  117 640163.000 642507.000  0.37%   162 4168s\n"
     ]
    },
    {
     "name": "stdout",
     "output_type": "stream",
     "text": [
      " 661239 140152 infeasible   56      640163.000 642506.784  0.37%   162 4179s\n"
     ]
    },
    {
     "name": "stderr",
     "output_type": "stream",
     "text": [
      "2023-04-20 22:19:21,031 - INFO -  661239 140152 infeasible   56      640163.000 642506.784  0.37%   162 4179s\n"
     ]
    },
    {
     "name": "stdout",
     "output_type": "stream",
     "text": [
      " 663530 141004 641731.000   66  123 640163.000 642506.000  0.37%   162 4188s\n"
     ]
    },
    {
     "name": "stderr",
     "output_type": "stream",
     "text": [
      "2023-04-20 22:19:29,906 - INFO -  663530 141004 641731.000   66  123 640163.000 642506.000  0.37%   162 4188s\n"
     ]
    },
    {
     "name": "stdout",
     "output_type": "stream",
     "text": [
      " 665712 141834 640335.092   50  112 640163.000 642505.000  0.37%   163 4197s\n"
     ]
    },
    {
     "name": "stderr",
     "output_type": "stream",
     "text": [
      "2023-04-20 22:19:39,193 - INFO -  665712 141834 640335.092   50  112 640163.000 642505.000  0.37%   163 4197s\n"
     ]
    },
    {
     "name": "stdout",
     "output_type": "stream",
     "text": [
      " 667981 142662 640261.000   76  144 640163.000 642504.000  0.37%   163 4212s\n"
     ]
    },
    {
     "name": "stderr",
     "output_type": "stream",
     "text": [
      "2023-04-20 22:19:53,838 - INFO -  667981 142662 640261.000   76  144 640163.000 642504.000  0.37%   163 4212s\n"
     ]
    },
    {
     "name": "stdout",
     "output_type": "stream",
     "text": [
      " 670284 143256 642140.013   49   99 640163.000 642503.847  0.37%   163 4253s\n"
     ]
    },
    {
     "name": "stderr",
     "output_type": "stream",
     "text": [
      "2023-04-20 22:20:34,928 - INFO -  670284 143256 642140.013   49   99 640163.000 642503.847  0.37%   163 4253s\n"
     ]
    },
    {
     "name": "stdout",
     "output_type": "stream",
     "text": [
      " 672080 143911 641284.000   65  128 640163.000 642503.000  0.37%   163 4260s\n"
     ]
    },
    {
     "name": "stderr",
     "output_type": "stream",
     "text": [
      "2023-04-20 22:20:42,629 - INFO -  672080 143911 641284.000   65  128 640163.000 642503.000  0.37%   163 4260s\n"
     ]
    },
    {
     "name": "stdout",
     "output_type": "stream",
     "text": [
      " 673867 144773 641391.000   60  103 640163.000 642503.000  0.37%   163 4271s\n"
     ]
    },
    {
     "name": "stderr",
     "output_type": "stream",
     "text": [
      "2023-04-20 22:20:53,259 - INFO -  673867 144773 641391.000   60  103 640163.000 642503.000  0.37%   163 4271s\n"
     ]
    },
    {
     "name": "stdout",
     "output_type": "stream",
     "text": [
      " 676194 145580 642466.000   36  102 640163.000 642502.000  0.37%   164 4282s\n"
     ]
    },
    {
     "name": "stderr",
     "output_type": "stream",
     "text": [
      "2023-04-20 22:21:04,020 - INFO -  676194 145580 642466.000   36  102 640163.000 642502.000  0.37%   164 4282s\n"
     ]
    },
    {
     "name": "stdout",
     "output_type": "stream",
     "text": [
      " 678373 146517 641033.249   67  100 640163.000 642501.000  0.37%   164 4292s\n"
     ]
    },
    {
     "name": "stderr",
     "output_type": "stream",
     "text": [
      "2023-04-20 22:21:13,829 - INFO -  678373 146517 641033.249   67  100 640163.000 642501.000  0.37%   164 4292s\n"
     ]
    },
    {
     "name": "stdout",
     "output_type": "stream",
     "text": [
      " 680843 147314 640992.332   97   63 640163.000 642500.000  0.37%   164 4304s\n"
     ]
    },
    {
     "name": "stderr",
     "output_type": "stream",
     "text": [
      "2023-04-20 22:21:25,955 - INFO -  680843 147314 640992.332   97   63 640163.000 642500.000  0.37%   164 4304s\n"
     ]
    },
    {
     "name": "stdout",
     "output_type": "stream",
     "text": [
      " 683199 148199 640919.000   66   90 640163.000 642500.000  0.37%   164 4313s\n"
     ]
    },
    {
     "name": "stderr",
     "output_type": "stream",
     "text": [
      "2023-04-20 22:21:35,615 - INFO -  683199 148199 640919.000   66   90 640163.000 642500.000  0.37%   164 4313s\n"
     ]
    },
    {
     "name": "stdout",
     "output_type": "stream",
     "text": [
      " 685515 148978 642171.235   34  128 640163.000 642499.000  0.36%   164 4323s\n"
     ]
    },
    {
     "name": "stderr",
     "output_type": "stream",
     "text": [
      "2023-04-20 22:21:45,354 - INFO -  685515 148978 642171.235   34  128 640163.000 642499.000  0.36%   164 4323s\n"
     ]
    },
    {
     "name": "stdout",
     "output_type": "stream",
     "text": [
      " 687744 149497 640615.189   34   99 640163.000 642499.000  0.36%   165 4331s\n"
     ]
    },
    {
     "name": "stderr",
     "output_type": "stream",
     "text": [
      "2023-04-20 22:21:53,072 - INFO -  687744 149497 640615.189   34   99 640163.000 642499.000  0.36%   165 4331s\n"
     ]
    },
    {
     "name": "stdout",
     "output_type": "stream",
     "text": [
      " 689298 150298 640806.000   68  110 640163.000 642498.000  0.36%   165 4341s\n"
     ]
    },
    {
     "name": "stderr",
     "output_type": "stream",
     "text": [
      "2023-04-20 22:22:02,956 - INFO -  689298 150298 640806.000   68  110 640163.000 642498.000  0.36%   165 4341s\n"
     ]
    },
    {
     "name": "stdout",
     "output_type": "stream",
     "text": [
      " 691425 151042 642408.251   49  111 640163.000 642497.000  0.36%   165 4350s\n"
     ]
    },
    {
     "name": "stderr",
     "output_type": "stream",
     "text": [
      "2023-04-20 22:22:12,599 - INFO -  691425 151042 642408.251   49  111 640163.000 642497.000  0.36%   165 4350s\n"
     ]
    },
    {
     "name": "stdout",
     "output_type": "stream",
     "text": [
      " 693695 151876     cutoff   63      640163.000 642497.000  0.36%   165 4359s\n"
     ]
    },
    {
     "name": "stderr",
     "output_type": "stream",
     "text": [
      "2023-04-20 22:22:21,506 - INFO -  693695 151876     cutoff   63      640163.000 642497.000  0.36%   165 4359s\n"
     ]
    },
    {
     "name": "stdout",
     "output_type": "stream",
     "text": [
      " 695809 152744 642486.000   47  111 640163.000 642496.000  0.36%   165 4372s\n"
     ]
    },
    {
     "name": "stderr",
     "output_type": "stream",
     "text": [
      "2023-04-20 22:22:34,247 - INFO -  695809 152744 642486.000   47  111 640163.000 642496.000  0.36%   165 4372s\n"
     ]
    },
    {
     "name": "stdout",
     "output_type": "stream",
     "text": [
      " 698362 153468 641153.134   70  113 640163.000 642495.562  0.36%   165 4383s\n"
     ]
    },
    {
     "name": "stderr",
     "output_type": "stream",
     "text": [
      "2023-04-20 22:22:44,866 - INFO -  698362 153468 641153.134   70  113 640163.000 642495.562  0.36%   165 4383s\n"
     ]
    },
    {
     "name": "stdout",
     "output_type": "stream",
     "text": [
      " 700416 154327 642108.432   61  122 640163.000 642494.000  0.36%   166 4409s\n"
     ]
    },
    {
     "name": "stderr",
     "output_type": "stream",
     "text": [
      "2023-04-20 22:23:11,008 - INFO -  700416 154327 642108.432   61  122 640163.000 642494.000  0.36%   166 4409s\n"
     ]
    },
    {
     "name": "stdout",
     "output_type": "stream",
     "text": [
      " 702749 155213 641567.985   39   67 640163.000 642494.000  0.36%   166 4418s\n"
     ]
    },
    {
     "name": "stderr",
     "output_type": "stream",
     "text": [
      "2023-04-20 22:23:20,411 - INFO -  702749 155213 641567.985   39   67 640163.000 642494.000  0.36%   166 4418s\n"
     ]
    },
    {
     "name": "stdout",
     "output_type": "stream",
     "text": [
      " 705074 156086 640266.000   65   80 640163.000 642493.000  0.36%   166 4427s\n"
     ]
    },
    {
     "name": "stderr",
     "output_type": "stream",
     "text": [
      "2023-04-20 22:23:29,700 - INFO -  705074 156086 640266.000   65   80 640163.000 642493.000  0.36%   166 4427s\n"
     ]
    },
    {
     "name": "stdout",
     "output_type": "stream",
     "text": [
      " 707461 156660 infeasible   55      640163.000 642492.000  0.36%   166 4455s\n"
     ]
    },
    {
     "name": "stderr",
     "output_type": "stream",
     "text": [
      "2023-04-20 22:23:56,757 - INFO -  707461 156660 infeasible   55      640163.000 642492.000  0.36%   166 4455s\n"
     ]
    },
    {
     "name": "stdout",
     "output_type": "stream",
     "text": [
      " 709091 157488 642203.897   34  126 640163.000 642492.000  0.36%   166 4465s\n"
     ]
    },
    {
     "name": "stderr",
     "output_type": "stream",
     "text": [
      "2023-04-20 22:24:07,484 - INFO -  709091 157488 642203.897   34  126 640163.000 642492.000  0.36%   166 4465s\n"
     ]
    },
    {
     "name": "stdout",
     "output_type": "stream",
     "text": [
      " 711403 158416 641447.000   62   97 640163.000 642491.000  0.36%   166 4477s\n"
     ]
    },
    {
     "name": "stderr",
     "output_type": "stream",
     "text": [
      "2023-04-20 22:24:19,520 - INFO -  711403 158416 641447.000   62   97 640163.000 642491.000  0.36%   166 4477s\n"
     ]
    },
    {
     "name": "stdout",
     "output_type": "stream",
     "text": [
      " 713826 159055 642407.364   41  126 640163.000 642490.418  0.36%   167 4491s\n"
     ]
    },
    {
     "name": "stderr",
     "output_type": "stream",
     "text": [
      "2023-04-20 22:24:32,856 - INFO -  713826 159055 642407.364   41  126 640163.000 642490.418  0.36%   167 4491s\n"
     ]
    },
    {
     "name": "stdout",
     "output_type": "stream",
     "text": [
      " 715977 159911 641675.556   58  133 640163.000 642490.000  0.36%   167 4501s\n"
     ]
    },
    {
     "name": "stderr",
     "output_type": "stream",
     "text": [
      "2023-04-20 22:24:42,952 - INFO -  715977 159911 641675.556   58  133 640163.000 642490.000  0.36%   167 4501s\n"
     ]
    },
    {
     "name": "stdout",
     "output_type": "stream",
     "text": [
      " 718216 160858 642223.000   57   98 640163.000 642489.000  0.36%   167 4512s\n"
     ]
    },
    {
     "name": "stderr",
     "output_type": "stream",
     "text": [
      "2023-04-20 22:24:53,947 - INFO -  718216 160858 642223.000   57   98 640163.000 642489.000  0.36%   167 4512s\n"
     ]
    },
    {
     "name": "stdout",
     "output_type": "stream",
     "text": [
      " 720622 161900 642339.482   48  110 640163.000 642489.000  0.36%   167 4523s\n"
     ]
    },
    {
     "name": "stderr",
     "output_type": "stream",
     "text": [
      "2023-04-20 22:25:04,780 - INFO -  720622 161900 642339.482   48  110 640163.000 642489.000  0.36%   167 4523s\n"
     ]
    },
    {
     "name": "stdout",
     "output_type": "stream",
     "text": [
      " 723126 162905 641580.593   40  112 640163.000 642488.000  0.36%   167 4534s\n"
     ]
    },
    {
     "name": "stderr",
     "output_type": "stream",
     "text": [
      "2023-04-20 22:25:15,932 - INFO -  723126 162905 641580.593   40  112 640163.000 642488.000  0.36%   167 4534s\n"
     ]
    },
    {
     "name": "stdout",
     "output_type": "stream",
     "text": [
      " 725694 163867 642255.334   26  139 640163.000 642487.000  0.36%   167 4545s\n"
     ]
    },
    {
     "name": "stderr",
     "output_type": "stream",
     "text": [
      "2023-04-20 22:25:27,634 - INFO -  725694 163867 642255.334   26  139 640163.000 642487.000  0.36%   167 4545s\n"
     ]
    },
    {
     "name": "stdout",
     "output_type": "stream",
     "text": [
      " 728189 164752 641144.278   37   96 640163.000 642486.000  0.36%   167 4555s\n"
     ]
    },
    {
     "name": "stderr",
     "output_type": "stream",
     "text": [
      "2023-04-20 22:25:37,748 - INFO -  728189 164752 641144.278   37   96 640163.000 642486.000  0.36%   167 4555s\n"
     ]
    },
    {
     "name": "stdout",
     "output_type": "stream",
     "text": [
      " 730702 165359 642014.000   48  134 640163.000 642486.000  0.36%   168 4564s\n"
     ]
    },
    {
     "name": "stderr",
     "output_type": "stream",
     "text": [
      "2023-04-20 22:25:46,725 - INFO -  730702 165359 642014.000   48  134 640163.000 642486.000  0.36%   168 4564s\n"
     ]
    },
    {
     "name": "stdout",
     "output_type": "stream",
     "text": [
      " 730767 165359 641756.000   47  111 640163.000 642486.000  0.36%   168 4565s\n"
     ]
    },
    {
     "name": "stderr",
     "output_type": "stream",
     "text": [
      "2023-04-20 22:25:46,757 - INFO -  730767 165359 641756.000   47  111 640163.000 642486.000  0.36%   168 4565s\n"
     ]
    },
    {
     "name": "stdout",
     "output_type": "stream",
     "text": [
      " 732530 166294     cutoff   65      640163.000 642485.000  0.36%   168 4575s\n"
     ]
    },
    {
     "name": "stderr",
     "output_type": "stream",
     "text": [
      "2023-04-20 22:25:57,361 - INFO -  732530 166294     cutoff   65      640163.000 642485.000  0.36%   168 4575s\n"
     ]
    },
    {
     "name": "stdout",
     "output_type": "stream",
     "text": [
      " 734970 167311 641776.930   52   85 640163.000 642484.018  0.36%   168 4586s\n"
     ]
    },
    {
     "name": "stderr",
     "output_type": "stream",
     "text": [
      "2023-04-20 22:26:08,150 - INFO -  734970 167311 641776.930   52   85 640163.000 642484.018  0.36%   168 4586s\n"
     ]
    },
    {
     "name": "stdout",
     "output_type": "stream",
     "text": [
      " 737496 168183 640567.993   61  124 640163.000 642484.000  0.36%   168 4596s\n"
     ]
    },
    {
     "name": "stderr",
     "output_type": "stream",
     "text": [
      "2023-04-20 22:26:18,692 - INFO -  737496 168183 640567.993   61  124 640163.000 642484.000  0.36%   168 4596s\n"
     ]
    },
    {
     "name": "stdout",
     "output_type": "stream",
     "text": [
      " 739867 169016 641679.552   40  102 640163.000 642483.000  0.36%   168 4607s\n"
     ]
    },
    {
     "name": "stderr",
     "output_type": "stream",
     "text": [
      "2023-04-20 22:26:28,791 - INFO -  739867 169016 641679.552   40  102 640163.000 642483.000  0.36%   168 4607s\n"
     ]
    },
    {
     "name": "stdout",
     "output_type": "stream",
     "text": [
      " 742276 169945 640214.000   72  111 640163.000 642482.000  0.36%   168 4618s\n"
     ]
    },
    {
     "name": "stderr",
     "output_type": "stream",
     "text": [
      "2023-04-20 22:26:39,893 - INFO -  742276 169945 640214.000   72  111 640163.000 642482.000  0.36%   168 4618s\n"
     ]
    },
    {
     "name": "stdout",
     "output_type": "stream",
     "text": [
      " 745019 170871 642409.000   35  106 640163.000 642481.327  0.36%   168 4629s\n"
     ]
    },
    {
     "name": "stderr",
     "output_type": "stream",
     "text": [
      "2023-04-20 22:26:50,903 - INFO -  745019 170871 642409.000   35  106 640163.000 642481.327  0.36%   168 4629s\n"
     ]
    },
    {
     "name": "stdout",
     "output_type": "stream",
     "text": [
      " 747342 171702 641400.000   43  120 640163.000 642481.000  0.36%   169 4639s\n"
     ]
    },
    {
     "name": "stderr",
     "output_type": "stream",
     "text": [
      "2023-04-20 22:27:01,105 - INFO -  747342 171702 641400.000   43  120 640163.000 642481.000  0.36%   169 4639s\n"
     ]
    },
    {
     "name": "stdout",
     "output_type": "stream",
     "text": [
      " 749740 172487 640180.663   64  148 640163.000 642480.000  0.36%   169 4653s\n"
     ]
    },
    {
     "name": "stderr",
     "output_type": "stream",
     "text": [
      "2023-04-20 22:27:14,830 - INFO -  749740 172487 640180.663   64  148 640163.000 642480.000  0.36%   169 4653s\n"
     ]
    },
    {
     "name": "stdout",
     "output_type": "stream",
     "text": [
      " 751915 173361 640693.816   87   45 640163.000 642479.890  0.36%   169 4663s\n"
     ]
    },
    {
     "name": "stderr",
     "output_type": "stream",
     "text": [
      "2023-04-20 22:27:25,661 - INFO -  751915 173361 640693.816   87   45 640163.000 642479.890  0.36%   169 4663s\n"
     ]
    },
    {
     "name": "stdout",
     "output_type": "stream",
     "text": [
      " 754406 174127 641131.939   48  136 640163.000 642479.000  0.36%   169 4673s\n"
     ]
    },
    {
     "name": "stderr",
     "output_type": "stream",
     "text": [
      "2023-04-20 22:27:35,618 - INFO -  754406 174127 641131.939   48  136 640163.000 642479.000  0.36%   169 4673s\n"
     ]
    },
    {
     "name": "stdout",
     "output_type": "stream",
     "text": [
      " 756595 174833 641675.000   57  123 640163.000 642478.000  0.36%   169 4683s\n"
     ]
    },
    {
     "name": "stderr",
     "output_type": "stream",
     "text": [
      "2023-04-20 22:27:44,851 - INFO -  756595 174833 641675.000   57  123 640163.000 642478.000  0.36%   169 4683s\n"
     ]
    },
    {
     "name": "stdout",
     "output_type": "stream",
     "text": [
      " 758438 175826 641629.000   64   69 640163.000 642478.000  0.36%   169 4696s\n"
     ]
    },
    {
     "name": "stderr",
     "output_type": "stream",
     "text": [
      "2023-04-20 22:27:57,823 - INFO -  758438 175826 641629.000   64   69 640163.000 642478.000  0.36%   169 4696s\n"
     ]
    },
    {
     "name": "stdout",
     "output_type": "stream",
     "text": [
      " 761036 176836 642177.551   38  117 640163.000 642477.000  0.36%   170 4707s\n"
     ]
    },
    {
     "name": "stderr",
     "output_type": "stream",
     "text": [
      "2023-04-20 22:28:09,141 - INFO -  761036 176836 642177.551   38  117 640163.000 642477.000  0.36%   170 4707s\n"
     ]
    },
    {
     "name": "stdout",
     "output_type": "stream",
     "text": [
      " 763691 177798 640239.000   55   97 640163.000 642476.000  0.36%   170 4722s\n"
     ]
    },
    {
     "name": "stderr",
     "output_type": "stream",
     "text": [
      "2023-04-20 22:28:23,789 - INFO -  763691 177798 640239.000   55   97 640163.000 642476.000  0.36%   170 4722s\n"
     ]
    },
    {
     "name": "stdout",
     "output_type": "stream",
     "text": [
      " 766160 178838 641308.972   77  114 640163.000 642476.000  0.36%   170 4733s\n"
     ]
    },
    {
     "name": "stderr",
     "output_type": "stream",
     "text": [
      "2023-04-20 22:28:35,095 - INFO -  766160 178838 641308.972   77  114 640163.000 642476.000  0.36%   170 4733s\n"
     ]
    },
    {
     "name": "stdout",
     "output_type": "stream",
     "text": [
      " 768796 179831 641299.000   57  100 640163.000 642475.000  0.36%   170 4743s\n"
     ]
    },
    {
     "name": "stderr",
     "output_type": "stream",
     "text": [
      "2023-04-20 22:28:45,173 - INFO -  768796 179831 641299.000   57  100 640163.000 642475.000  0.36%   170 4743s\n"
     ]
    },
    {
     "name": "stdout",
     "output_type": "stream",
     "text": [
      " 771262 180835 640710.863   74  136 640163.000 642474.000  0.36%   170 4754s\n"
     ]
    },
    {
     "name": "stderr",
     "output_type": "stream",
     "text": [
      "2023-04-20 22:28:56,411 - INFO -  771262 180835 640710.863   74  136 640163.000 642474.000  0.36%   170 4754s\n"
     ]
    },
    {
     "name": "stdout",
     "output_type": "stream",
     "text": [
      " 773880 180835 641385.202   44  102 640163.000 642473.000  0.36%   170 4755s\n"
     ]
    },
    {
     "name": "stderr",
     "output_type": "stream",
     "text": [
      "2023-04-20 22:28:56,911 - INFO -  773880 180835 641385.202   44  102 640163.000 642473.000  0.36%   170 4755s\n"
     ]
    },
    {
     "name": "stdout",
     "output_type": "stream",
     "text": [
      " 773989 181878 641750.936   61  118 640163.000 642473.000  0.36%   170 4765s\n"
     ]
    },
    {
     "name": "stderr",
     "output_type": "stream",
     "text": [
      "2023-04-20 22:29:06,801 - INFO -  773989 181878 641750.936   61  118 640163.000 642473.000  0.36%   170 4765s\n"
     ]
    },
    {
     "name": "stdout",
     "output_type": "stream",
     "text": [
      " 776653 182769 641223.000   52  136 640163.000 642473.000  0.36%   170 4779s\n"
     ]
    },
    {
     "name": "stderr",
     "output_type": "stream",
     "text": [
      "2023-04-20 22:29:21,546 - INFO -  776653 182769 641223.000   52  136 640163.000 642473.000  0.36%   170 4779s\n"
     ]
    },
    {
     "name": "stdout",
     "output_type": "stream",
     "text": [
      " 778529 182769 640210.000   51  120 640163.000 642472.000  0.36%   170 4780s\n"
     ]
    },
    {
     "name": "stderr",
     "output_type": "stream",
     "text": [
      "2023-04-20 22:29:21,874 - INFO -  778529 182769 640210.000   51  120 640163.000 642472.000  0.36%   170 4780s\n"
     ]
    },
    {
     "name": "stdout",
     "output_type": "stream",
     "text": [
      " 779048 183800 642361.000   51  124 640163.000 642472.000  0.36%   170 4790s\n"
     ]
    },
    {
     "name": "stderr",
     "output_type": "stream",
     "text": [
      "2023-04-20 22:29:32,669 - INFO -  779048 183800 642361.000   51  124 640163.000 642472.000  0.36%   170 4790s\n"
     ]
    },
    {
     "name": "stdout",
     "output_type": "stream",
     "text": [
      " 781650 184657 641629.000   68   88 640163.000 642471.233  0.36%   170 4803s\n"
     ]
    },
    {
     "name": "stderr",
     "output_type": "stream",
     "text": [
      "2023-04-20 22:29:45,720 - INFO -  781650 184657 641629.000   68   88 640163.000 642471.233  0.36%   170 4803s\n"
     ]
    },
    {
     "name": "stdout",
     "output_type": "stream",
     "text": [
      " 783849 185726 642176.232   50  129 640163.000 642471.000  0.36%   171 4816s\n"
     ]
    },
    {
     "name": "stderr",
     "output_type": "stream",
     "text": [
      "2023-04-20 22:29:57,839 - INFO -  783849 185726 642176.232   50  129 640163.000 642471.000  0.36%   171 4816s\n"
     ]
    },
    {
     "name": "stdout",
     "output_type": "stream",
     "text": [
      " 786637 186820 641419.000   77   66 640163.000 642470.000  0.36%   171 4829s\n"
     ]
    },
    {
     "name": "stderr",
     "output_type": "stream",
     "text": [
      "2023-04-20 22:30:11,750 - INFO -  786637 186820 641419.000   77   66 640163.000 642470.000  0.36%   171 4829s\n"
     ]
    },
    {
     "name": "stdout",
     "output_type": "stream",
     "text": [
      " 786786 186820 642052.724   46  105 640163.000 642470.000  0.36%   171 4830s\n"
     ]
    },
    {
     "name": "stderr",
     "output_type": "stream",
     "text": [
      "2023-04-20 22:30:11,813 - INFO -  786786 186820 642052.724   46  105 640163.000 642470.000  0.36%   171 4830s\n"
     ]
    },
    {
     "name": "stdout",
     "output_type": "stream",
     "text": [
      " 789280 187800 641304.000   55  109 640163.000 642469.950  0.36%   171 4841s\n"
     ]
    },
    {
     "name": "stderr",
     "output_type": "stream",
     "text": [
      "2023-04-20 22:30:23,499 - INFO -  789280 187800 641304.000   55  109 640163.000 642469.950  0.36%   171 4841s\n"
     ]
    },
    {
     "name": "stdout",
     "output_type": "stream",
     "text": [
      " 791783 188814 640710.000   76   80 640163.000 642469.000  0.36%   171 4853s\n"
     ]
    },
    {
     "name": "stderr",
     "output_type": "stream",
     "text": [
      "2023-04-20 22:30:34,907 - INFO -  791783 188814 640710.000   76   80 640163.000 642469.000  0.36%   171 4853s\n"
     ]
    },
    {
     "name": "stdout",
     "output_type": "stream",
     "text": [
      " 794385 189872 640939.000   77   64 640163.000 642468.000  0.36%   171 4864s\n"
     ]
    },
    {
     "name": "stderr",
     "output_type": "stream",
     "text": [
      "2023-04-20 22:30:46,297 - INFO -  794385 189872 640939.000   77   64 640163.000 642468.000  0.36%   171 4864s\n"
     ]
    },
    {
     "name": "stdout",
     "output_type": "stream",
     "text": [
      " 797045 190380 infeasible   81      640163.000 642468.000  0.36%   171 4873s\n"
     ]
    },
    {
     "name": "stderr",
     "output_type": "stream",
     "text": [
      "2023-04-20 22:30:54,996 - INFO -  797045 190380 infeasible   81      640163.000 642468.000  0.36%   171 4873s\n"
     ]
    },
    {
     "name": "stdout",
     "output_type": "stream",
     "text": [
      " 798533 191211 641062.486   55  115 640163.000 642467.000  0.36%   171 4889s\n"
     ]
    },
    {
     "name": "stderr",
     "output_type": "stream",
     "text": [
      "2023-04-20 22:31:10,903 - INFO -  798533 191211 641062.486   55  115 640163.000 642467.000  0.36%   171 4889s\n"
     ]
    },
    {
     "name": "stdout",
     "output_type": "stream",
     "text": [
      " 800836 192203 641726.000   40  119 640163.000 642467.000  0.36%   171 4900s\n"
     ]
    },
    {
     "name": "stderr",
     "output_type": "stream",
     "text": [
      "2023-04-20 22:31:22,352 - INFO -  800836 192203 641726.000   40  119 640163.000 642467.000  0.36%   171 4900s\n"
     ]
    },
    {
     "name": "stdout",
     "output_type": "stream",
     "text": [
      " 803396 193247 641752.925   63  113 640163.000 642466.000  0.36%   172 4911s\n"
     ]
    },
    {
     "name": "stderr",
     "output_type": "stream",
     "text": [
      "2023-04-20 22:31:33,477 - INFO -  803396 193247 641752.925   63  113 640163.000 642466.000  0.36%   172 4911s\n"
     ]
    },
    {
     "name": "stdout",
     "output_type": "stream",
     "text": [
      " 806010 194185 641669.000   63   73 640163.000 642465.000  0.36%   172 4923s\n"
     ]
    },
    {
     "name": "stderr",
     "output_type": "stream",
     "text": [
      "2023-04-20 22:31:45,146 - INFO -  806010 194185 641669.000   63   73 640163.000 642465.000  0.36%   172 4923s\n"
     ]
    },
    {
     "name": "stdout",
     "output_type": "stream",
     "text": [
      " 808647 195285     cutoff   65      640163.000 642465.000  0.36%   172 4934s\n"
     ]
    },
    {
     "name": "stderr",
     "output_type": "stream",
     "text": [
      "2023-04-20 22:31:56,613 - INFO -  808647 195285     cutoff   65      640163.000 642465.000  0.36%   172 4934s\n"
     ]
    },
    {
     "name": "stdout",
     "output_type": "stream",
     "text": [
      " 810183 195285 642184.000   53  133 640163.000 642464.840  0.36%   172 4935s\n"
     ]
    },
    {
     "name": "stderr",
     "output_type": "stream",
     "text": [
      "2023-04-20 22:31:56,910 - INFO -  810183 195285 642184.000   53  133 640163.000 642464.840  0.36%   172 4935s\n"
     ]
    },
    {
     "name": "stdout",
     "output_type": "stream",
     "text": [
      " 811359 196233 641955.207   45  102 640163.000 642464.000  0.36%   172 4946s\n"
     ]
    },
    {
     "name": "stderr",
     "output_type": "stream",
     "text": [
      "2023-04-20 22:32:08,112 - INFO -  811359 196233 641955.207   45  102 640163.000 642464.000  0.36%   172 4946s\n"
     ]
    },
    {
     "name": "stdout",
     "output_type": "stream",
     "text": [
      " 813946 197198 641847.135   57  100 640163.000 642464.000  0.36%   172 4957s\n"
     ]
    },
    {
     "name": "stderr",
     "output_type": "stream",
     "text": [
      "2023-04-20 22:32:19,309 - INFO -  813946 197198 641847.135   57  100 640163.000 642464.000  0.36%   172 4957s\n"
     ]
    },
    {
     "name": "stdout",
     "output_type": "stream",
     "text": [
      " 816620 197995 641261.000   61  124 640163.000 642463.000  0.36%   172 4969s\n"
     ]
    },
    {
     "name": "stderr",
     "output_type": "stream",
     "text": [
      "2023-04-20 22:32:31,475 - INFO -  816620 197995 641261.000   61  124 640163.000 642463.000  0.36%   172 4969s\n"
     ]
    },
    {
     "name": "stdout",
     "output_type": "stream",
     "text": [
      " 819065 198979 640176.886   63  117 640163.000 642462.000  0.36%   172 4981s\n"
     ]
    },
    {
     "name": "stderr",
     "output_type": "stream",
     "text": [
      "2023-04-20 22:32:43,448 - INFO -  819065 198979 640176.886   63  117 640163.000 642462.000  0.36%   172 4981s\n"
     ]
    },
    {
     "name": "stdout",
     "output_type": "stream",
     "text": [
      " 821590 199860 642147.269   41  125 640163.000 642462.000  0.36%   173 4995s\n"
     ]
    },
    {
     "name": "stderr",
     "output_type": "stream",
     "text": [
      "2023-04-20 22:32:57,246 - INFO -  821590 199860 642147.269   41  125 640163.000 642462.000  0.36%   173 4995s\n"
     ]
    },
    {
     "name": "stdout",
     "output_type": "stream",
     "text": [
      " 824234 200925 642325.333   50  133 640163.000 642461.000  0.36%   173 5007s\n"
     ]
    },
    {
     "name": "stderr",
     "output_type": "stream",
     "text": [
      "2023-04-20 22:33:09,272 - INFO -  824234 200925 642325.333   50  133 640163.000 642461.000  0.36%   173 5007s\n"
     ]
    },
    {
     "name": "stdout",
     "output_type": "stream",
     "text": [
      " 826793 201913 641663.868   51  101 640163.000 642461.000  0.36%   173 5020s\n"
     ]
    },
    {
     "name": "stderr",
     "output_type": "stream",
     "text": [
      "2023-04-20 22:33:22,616 - INFO -  826793 201913 641663.868   51  101 640163.000 642461.000  0.36%   173 5020s\n"
     ]
    },
    {
     "name": "stdout",
     "output_type": "stream",
     "text": [
      " 829743 202897 640909.570   52   75 640163.000 642460.000  0.36%   173 5033s\n"
     ]
    },
    {
     "name": "stderr",
     "output_type": "stream",
     "text": [
      "2023-04-20 22:33:34,906 - INFO -  829743 202897 640909.570   52   75 640163.000 642460.000  0.36%   173 5033s\n"
     ]
    },
    {
     "name": "stdout",
     "output_type": "stream",
     "text": [
      " 832324 203816 640592.921   77   92 640163.000 642460.000  0.36%   173 5045s\n"
     ]
    },
    {
     "name": "stderr",
     "output_type": "stream",
     "text": [
      "2023-04-20 22:33:46,761 - INFO -  832324 203816 640592.921   77   92 640163.000 642460.000  0.36%   173 5045s\n"
     ]
    },
    {
     "name": "stdout",
     "output_type": "stream",
     "text": [
      " 834761 204688     cutoff   73      640163.000 642459.000  0.36%   173 5056s\n"
     ]
    },
    {
     "name": "stderr",
     "output_type": "stream",
     "text": [
      "2023-04-20 22:33:58,118 - INFO -  834761 204688     cutoff   73      640163.000 642459.000  0.36%   173 5056s\n"
     ]
    },
    {
     "name": "stdout",
     "output_type": "stream",
     "text": [
      " 837106 205410 641442.000   55  118 640163.000 642459.000  0.36%   173 5066s\n"
     ]
    },
    {
     "name": "stderr",
     "output_type": "stream",
     "text": [
      "2023-04-20 22:34:08,381 - INFO -  837106 205410 641442.000   55  118 640163.000 642459.000  0.36%   173 5066s\n"
     ]
    },
    {
     "name": "stdout",
     "output_type": "stream",
     "text": [
      " 839485 206316 642253.000   58  124 640163.000 642458.000  0.36%   173 5077s\n"
     ]
    },
    {
     "name": "stderr",
     "output_type": "stream",
     "text": [
      "2023-04-20 22:34:19,437 - INFO -  839485 206316 642253.000   58  124 640163.000 642458.000  0.36%   173 5077s\n"
     ]
    },
    {
     "name": "stdout",
     "output_type": "stream",
     "text": [
      " 842006 207350 640204.000   75   79 640163.000 642457.000  0.36%   174 5088s\n"
     ]
    },
    {
     "name": "stderr",
     "output_type": "stream",
     "text": [
      "2023-04-20 22:34:30,725 - INFO -  842006 207350 640204.000   75   79 640163.000 642457.000  0.36%   174 5088s\n"
     ]
    },
    {
     "name": "stdout",
     "output_type": "stream",
     "text": [
      " 844621 207998 640914.452   64  106 640163.000 642457.000  0.36%   174 5117s\n"
     ]
    },
    {
     "name": "stderr",
     "output_type": "stream",
     "text": [
      "2023-04-20 22:34:59,049 - INFO -  844621 207998 640914.452   64  106 640163.000 642457.000  0.36%   174 5117s\n"
     ]
    },
    {
     "name": "stdout",
     "output_type": "stream",
     "text": [
      " 846340 208857 642174.299   52  114 640163.000 642456.000  0.36%   174 5131s\n"
     ]
    },
    {
     "name": "stderr",
     "output_type": "stream",
     "text": [
      "2023-04-20 22:35:13,702 - INFO -  846340 208857 642174.299   52  114 640163.000 642456.000  0.36%   174 5131s\n"
     ]
    },
    {
     "name": "stdout",
     "output_type": "stream",
     "text": [
      " 848921 209825 641115.780   66  106 640163.000 642456.000  0.36%   174 5144s\n"
     ]
    },
    {
     "name": "stderr",
     "output_type": "stream",
     "text": [
      "2023-04-20 22:35:26,099 - INFO -  848921 209825 641115.780   66  106 640163.000 642456.000  0.36%   174 5144s\n"
     ]
    },
    {
     "name": "stdout",
     "output_type": "stream",
     "text": [
      " 851493 210791 642025.825   54  128 640163.000 642455.000  0.36%   174 5156s\n"
     ]
    },
    {
     "name": "stderr",
     "output_type": "stream",
     "text": [
      "2023-04-20 22:35:38,148 - INFO -  851493 210791 642025.825   54  128 640163.000 642455.000  0.36%   174 5156s\n"
     ]
    },
    {
     "name": "stdout",
     "output_type": "stream",
     "text": [
      " 854071 211286 640831.063   70   95 640163.000 642455.000  0.36%   174 5166s\n"
     ]
    },
    {
     "name": "stderr",
     "output_type": "stream",
     "text": [
      "2023-04-20 22:35:48,330 - INFO -  854071 211286 640831.063   70   95 640163.000 642455.000  0.36%   174 5166s\n"
     ]
    },
    {
     "name": "stdout",
     "output_type": "stream",
     "text": [
      " 855752 212400 641928.000   35   96 640163.000 642454.000  0.36%   174 5178s\n"
     ]
    },
    {
     "name": "stderr",
     "output_type": "stream",
     "text": [
      "2023-04-20 22:36:00,364 - INFO -  855752 212400 641928.000   35   96 640163.000 642454.000  0.36%   174 5178s\n"
     ]
    },
    {
     "name": "stdout",
     "output_type": "stream",
     "text": [
      " 858551 213444 641298.026   42  123 640163.000 642453.843  0.36%   174 5221s\n"
     ]
    },
    {
     "name": "stderr",
     "output_type": "stream",
     "text": [
      "2023-04-20 22:36:43,542 - INFO -  858551 213444 641298.026   42  123 640163.000 642453.843  0.36%   174 5221s\n"
     ]
    },
    {
     "name": "stdout",
     "output_type": "stream",
     "text": [
      " 861457 214564 641325.856   58  128 640163.000 642453.000  0.36%   174 5234s\n"
     ]
    },
    {
     "name": "stderr",
     "output_type": "stream",
     "text": [
      "2023-04-20 22:36:56,339 - INFO -  861457 214564 641325.856   58  128 640163.000 642453.000  0.36%   174 5234s\n"
     ]
    },
    {
     "name": "stdout",
     "output_type": "stream",
     "text": [
      " 864133 215595 641187.612   66  148 640163.000 642452.000  0.36%   174 5246s\n"
     ]
    },
    {
     "name": "stderr",
     "output_type": "stream",
     "text": [
      "2023-04-20 22:37:08,733 - INFO -  864133 215595 641187.612   66  148 640163.000 642452.000  0.36%   174 5246s\n"
     ]
    },
    {
     "name": "stdout",
     "output_type": "stream",
     "text": [
      " 866974 216648 642263.000   51  113 640163.000 642452.000  0.36%   174 5259s\n"
     ]
    },
    {
     "name": "stderr",
     "output_type": "stream",
     "text": [
      "2023-04-20 22:37:20,772 - INFO -  866974 216648 642263.000   51  113 640163.000 642452.000  0.36%   174 5259s\n"
     ]
    },
    {
     "name": "stdout",
     "output_type": "stream",
     "text": [
      " 869694 217493 642303.994   54  120 640163.000 642451.000  0.36%   175 5272s\n"
     ]
    },
    {
     "name": "stderr",
     "output_type": "stream",
     "text": [
      "2023-04-20 22:37:33,847 - INFO -  869694 217493 642303.994   54  120 640163.000 642451.000  0.36%   175 5272s\n"
     ]
    },
    {
     "name": "stdout",
     "output_type": "stream",
     "text": [
      " 872358 218592 642065.017   38  116 640163.000 642450.000  0.36%   175 5324s\n"
     ]
    },
    {
     "name": "stderr",
     "output_type": "stream",
     "text": [
      "2023-04-20 22:38:26,455 - INFO -  872358 218592 642065.017   38  116 640163.000 642450.000  0.36%   175 5324s\n"
     ]
    },
    {
     "name": "stdout",
     "output_type": "stream",
     "text": [
      " 874255 218592 642448.000   44  111 640163.000 642450.000  0.36%   175 5325s\n"
     ]
    },
    {
     "name": "stderr",
     "output_type": "stream",
     "text": [
      "2023-04-20 22:38:26,815 - INFO -  874255 218592 642448.000   44  111 640163.000 642450.000  0.36%   175 5325s\n"
     ]
    },
    {
     "name": "stdout",
     "output_type": "stream",
     "text": [
      " 875044 219566 640678.000   69  104 640163.000 642449.705  0.36%   175 5336s\n"
     ]
    },
    {
     "name": "stderr",
     "output_type": "stream",
     "text": [
      "2023-04-20 22:38:38,611 - INFO -  875044 219566 640678.000   69  104 640163.000 642449.705  0.36%   175 5336s\n"
     ]
    },
    {
     "name": "stdout",
     "output_type": "stream",
     "text": [
      " 877791 220724 640776.248   66  105 640163.000 642449.000  0.36%   175 5349s\n"
     ]
    },
    {
     "name": "stderr",
     "output_type": "stream",
     "text": [
      "2023-04-20 22:38:51,448 - INFO -  877791 220724 640776.248   66  105 640163.000 642449.000  0.36%   175 5349s\n"
     ]
    },
    {
     "name": "stdout",
     "output_type": "stream",
     "text": [
      " 880688 221755 640668.130   70   97 640163.000 642448.000  0.36%   175 5363s\n"
     ]
    },
    {
     "name": "stderr",
     "output_type": "stream",
     "text": [
      "2023-04-20 22:39:05,396 - INFO -  880688 221755 640668.130   70   97 640163.000 642448.000  0.36%   175 5363s\n"
     ]
    },
    {
     "name": "stdout",
     "output_type": "stream",
     "text": [
      " 883372 222868 640923.877   54   98 640163.000 642448.000  0.36%   175 5375s\n"
     ]
    },
    {
     "name": "stderr",
     "output_type": "stream",
     "text": [
      "2023-04-20 22:39:16,996 - INFO -  883372 222868 640923.877   54   98 640163.000 642448.000  0.36%   175 5375s\n"
     ]
    },
    {
     "name": "stdout",
     "output_type": "stream",
     "text": [
      " 886050 224020 infeasible   57      640163.000 642447.000  0.36%   175 5387s\n"
     ]
    },
    {
     "name": "stderr",
     "output_type": "stream",
     "text": [
      "2023-04-20 22:39:29,743 - INFO -  886050 224020 infeasible   57      640163.000 642447.000  0.36%   175 5387s\n"
     ]
    },
    {
     "name": "stdout",
     "output_type": "stream",
     "text": [
      " 888880 225026 640910.000   57   73 640163.000 642446.333  0.36%   175 5406s\n"
     ]
    },
    {
     "name": "stderr",
     "output_type": "stream",
     "text": [
      "2023-04-20 22:39:48,401 - INFO -  888880 225026 640910.000   57   73 640163.000 642446.333  0.36%   175 5406s\n"
     ]
    },
    {
     "name": "stdout",
     "output_type": "stream",
     "text": [
      " 891649 225856 640872.113   47   72 640163.000 642446.000  0.36%   175 5418s\n"
     ]
    },
    {
     "name": "stderr",
     "output_type": "stream",
     "text": [
      "2023-04-20 22:39:59,989 - INFO -  891649 225856 640872.113   47   72 640163.000 642446.000  0.36%   175 5418s\n"
     ]
    },
    {
     "name": "stdout",
     "output_type": "stream",
     "text": [
      " 894190 226976 640934.512   50  123 640163.000 642445.000  0.36%   175 5433s\n"
     ]
    },
    {
     "name": "stderr",
     "output_type": "stream",
     "text": [
      "2023-04-20 22:40:15,139 - INFO -  894190 226976 640934.512   50  123 640163.000 642445.000  0.36%   175 5433s\n"
     ]
    },
    {
     "name": "stdout",
     "output_type": "stream",
     "text": [
      " 896922 228072 640228.000   68  101 640163.000 642445.000  0.36%   175 5450s\n"
     ]
    },
    {
     "name": "stderr",
     "output_type": "stream",
     "text": [
      "2023-04-20 22:40:32,259 - INFO -  896922 228072 640228.000   68  101 640163.000 642445.000  0.36%   175 5450s\n"
     ]
    },
    {
     "name": "stdout",
     "output_type": "stream",
     "text": [
      " 899761 228948     cutoff   62      640163.000 642444.000  0.36%   176 5464s\n"
     ]
    },
    {
     "name": "stderr",
     "output_type": "stream",
     "text": [
      "2023-04-20 22:40:45,801 - INFO -  899761 228948     cutoff   62      640163.000 642444.000  0.36%   176 5464s\n"
     ]
    },
    {
     "name": "stdout",
     "output_type": "stream",
     "text": [
      " 902455 229965 640256.000   65   71 640163.000 642444.000  0.36%   176 5476s\n"
     ]
    },
    {
     "name": "stderr",
     "output_type": "stream",
     "text": [
      "2023-04-20 22:40:58,660 - INFO -  902455 229965 640256.000   65   71 640163.000 642444.000  0.36%   176 5476s\n"
     ]
    },
    {
     "name": "stdout",
     "output_type": "stream",
     "text": [
      " 905202 230699 641646.409   52  107 640163.000 642443.000  0.36%   176 5514s\n"
     ]
    },
    {
     "name": "stderr",
     "output_type": "stream",
     "text": [
      "2023-04-20 22:41:36,074 - INFO -  905202 230699 641646.409   52  107 640163.000 642443.000  0.36%   176 5514s\n"
     ]
    },
    {
     "name": "stdout",
     "output_type": "stream",
     "text": [
      " 907333 231789 642030.016   57  111 640163.000 642443.000  0.36%   176 5527s\n"
     ]
    },
    {
     "name": "stderr",
     "output_type": "stream",
     "text": [
      "2023-04-20 22:41:48,755 - INFO -  907333 231789 642030.016   57  111 640163.000 642443.000  0.36%   176 5527s\n"
     ]
    },
    {
     "name": "stdout",
     "output_type": "stream",
     "text": [
      " 910024 232780 641952.048   48  123 640163.000 642442.000  0.36%   176 5545s\n"
     ]
    },
    {
     "name": "stderr",
     "output_type": "stream",
     "text": [
      "2023-04-20 22:42:07,458 - INFO -  910024 232780 641952.048   48  123 640163.000 642442.000  0.36%   176 5545s\n"
     ]
    },
    {
     "name": "stdout",
     "output_type": "stream",
     "text": [
      " 912815 233863 641604.000   66   97 640163.000 642441.932  0.36%   176 5642s\n"
     ]
    },
    {
     "name": "stderr",
     "output_type": "stream",
     "text": [
      "2023-04-20 22:43:44,500 - INFO -  912815 233863 641604.000   66   97 640163.000 642441.932  0.36%   176 5642s\n"
     ]
    },
    {
     "name": "stdout",
     "output_type": "stream",
     "text": [
      " 915382 234830 641559.674   42  124 640163.000 642441.000  0.36%   176 5659s\n"
     ]
    },
    {
     "name": "stderr",
     "output_type": "stream",
     "text": [
      "2023-04-20 22:44:01,541 - INFO -  915382 234830 641559.674   42  124 640163.000 642441.000  0.36%   176 5659s\n"
     ]
    },
    {
     "name": "stdout",
     "output_type": "stream",
     "text": [
      " 917988 235988 641989.707   46  109 640163.000 642440.000  0.36%   176 5673s\n"
     ]
    },
    {
     "name": "stderr",
     "output_type": "stream",
     "text": [
      "2023-04-20 22:44:14,898 - INFO -  917988 235988 641989.707   46  109 640163.000 642440.000  0.36%   176 5673s\n"
     ]
    },
    {
     "name": "stdout",
     "output_type": "stream",
     "text": [
      " 920905 237111 641837.000   41   91 640163.000 642440.000  0.36%   176 5693s\n"
     ]
    },
    {
     "name": "stderr",
     "output_type": "stream",
     "text": [
      "2023-04-20 22:44:35,746 - INFO -  920905 237111 641837.000   41   91 640163.000 642440.000  0.36%   176 5693s\n"
     ]
    },
    {
     "name": "stdout",
     "output_type": "stream",
     "text": [
      " 923754 238121 641986.052   45  106 640163.000 642439.000  0.36%   176 5712s\n"
     ]
    },
    {
     "name": "stderr",
     "output_type": "stream",
     "text": [
      "2023-04-20 22:44:54,681 - INFO -  923754 238121 641986.052   45  106 640163.000 642439.000  0.36%   176 5712s\n"
     ]
    },
    {
     "name": "stdout",
     "output_type": "stream",
     "text": [
      " 926380 239164 642289.180   38  127 640163.000 642438.382  0.36%   176 5725s\n"
     ]
    },
    {
     "name": "stderr",
     "output_type": "stream",
     "text": [
      "2023-04-20 22:45:07,658 - INFO -  926380 239164 642289.180   38  127 640163.000 642438.382  0.36%   176 5725s\n"
     ]
    },
    {
     "name": "stdout",
     "output_type": "stream",
     "text": [
      " 929267 239932 640332.000   56  103 640163.000 642438.000  0.36%   176 5740s\n"
     ]
    },
    {
     "name": "stderr",
     "output_type": "stream",
     "text": [
      "2023-04-20 22:45:22,133 - INFO -  929267 239932 640332.000   56  103 640163.000 642438.000  0.36%   176 5740s\n"
     ]
    },
    {
     "name": "stdout",
     "output_type": "stream",
     "text": [
      " 931395 241062 641630.835   54  127 640163.000 642438.000  0.36%   177 5759s\n"
     ]
    },
    {
     "name": "stderr",
     "output_type": "stream",
     "text": [
      "2023-04-20 22:45:40,899 - INFO -  931395 241062 641630.835   54  127 640163.000 642438.000  0.36%   177 5759s\n"
     ]
    },
    {
     "name": "stdout",
     "output_type": "stream",
     "text": [
      " 934258 242221 642325.111   40   95 640163.000 642437.000  0.36%   177 5777s\n"
     ]
    },
    {
     "name": "stderr",
     "output_type": "stream",
     "text": [
      "2023-04-20 22:45:58,910 - INFO -  934258 242221 642325.111   40   95 640163.000 642437.000  0.36%   177 5777s\n"
     ]
    },
    {
     "name": "stdout",
     "output_type": "stream",
     "text": [
      " 937038 243315 642010.000   55  122 640163.000 642437.000  0.36%   177 5797s\n"
     ]
    },
    {
     "name": "stderr",
     "output_type": "stream",
     "text": [
      "2023-04-20 22:46:18,796 - INFO -  937038 243315 642010.000   55  122 640163.000 642437.000  0.36%   177 5797s\n"
     ]
    },
    {
     "name": "stdout",
     "output_type": "stream",
     "text": [
      " 940029 244478 642137.000   53   94 640163.000 642436.000  0.36%   177 5810s\n"
     ]
    },
    {
     "name": "stderr",
     "output_type": "stream",
     "text": [
      "2023-04-20 22:46:32,712 - INFO -  940029 244478 642137.000   53   94 640163.000 642436.000  0.36%   177 5810s\n"
     ]
    },
    {
     "name": "stdout",
     "output_type": "stream",
     "text": [
      " 942856 245202 641761.716   47  124 640163.000 642436.000  0.36%   177 5853s\n"
     ]
    },
    {
     "name": "stderr",
     "output_type": "stream",
     "text": [
      "2023-04-20 22:47:15,042 - INFO -  942856 245202 641761.716   47  124 640163.000 642436.000  0.36%   177 5853s\n"
     ]
    },
    {
     "name": "stdout",
     "output_type": "stream",
     "text": [
      " 944826 246040 642377.475   48  101 640163.000 642435.000  0.35%   177 5867s\n"
     ]
    },
    {
     "name": "stderr",
     "output_type": "stream",
     "text": [
      "2023-04-20 22:47:29,048 - INFO -  944826 246040 642377.475   48  101 640163.000 642435.000  0.35%   177 5867s\n"
     ]
    },
    {
     "name": "stdout",
     "output_type": "stream",
     "text": [
      " 947403 247053 641360.000   42  120 640163.000 642435.000  0.35%   177 5883s\n"
     ]
    },
    {
     "name": "stderr",
     "output_type": "stream",
     "text": [
      "2023-04-20 22:47:45,157 - INFO -  947403 247053 641360.000   42  120 640163.000 642435.000  0.35%   177 5883s\n"
     ]
    },
    {
     "name": "stdout",
     "output_type": "stream",
     "text": [
      " 949977 248046 642025.688   48  133 640163.000 642434.000  0.35%   177 5895s\n"
     ]
    },
    {
     "name": "stderr",
     "output_type": "stream",
     "text": [
      "2023-04-20 22:47:56,999 - INFO -  949977 248046 642025.688   48  133 640163.000 642434.000  0.35%   177 5895s\n"
     ]
    },
    {
     "name": "stdout",
     "output_type": "stream",
     "text": [
      " 952549 249120 640680.000   64   76 640163.000 642434.000  0.35%   177 5907s\n"
     ]
    },
    {
     "name": "stderr",
     "output_type": "stream",
     "text": [
      "2023-04-20 22:48:09,245 - INFO -  952549 249120 640680.000   64   76 640163.000 642434.000  0.35%   177 5907s\n"
     ]
    },
    {
     "name": "stdout",
     "output_type": "stream",
     "text": [
      " 955434 250124 641055.000   44  121 640163.000 642433.000  0.35%   177 5926s\n"
     ]
    },
    {
     "name": "stderr",
     "output_type": "stream",
     "text": [
      "2023-04-20 22:48:28,012 - INFO -  955434 250124 641055.000   44  121 640163.000 642433.000  0.35%   177 5926s\n"
     ]
    },
    {
     "name": "stdout",
     "output_type": "stream",
     "text": [
      " 958012 251071 640410.976   52  113 640163.000 642432.287  0.35%   177 5941s\n"
     ]
    },
    {
     "name": "stderr",
     "output_type": "stream",
     "text": [
      "2023-04-20 22:48:43,622 - INFO -  958012 251071 640410.976   52  113 640163.000 642432.287  0.35%   177 5941s\n"
     ]
    },
    {
     "name": "stdout",
     "output_type": "stream",
     "text": [
      " 960752 252195 642094.000   38   90 640163.000 642432.000  0.35%   177 5956s\n"
     ]
    },
    {
     "name": "stderr",
     "output_type": "stream",
     "text": [
      "2023-04-20 22:48:58,480 - INFO -  960752 252195 642094.000   38   90 640163.000 642432.000  0.35%   177 5956s\n"
     ]
    },
    {
     "name": "stdout",
     "output_type": "stream",
     "text": [
      " 963812 253196 641995.481   62  127 640163.000 642431.000  0.35%   178 5977s\n"
     ]
    },
    {
     "name": "stderr",
     "output_type": "stream",
     "text": [
      "2023-04-20 22:49:19,723 - INFO -  963812 253196 641995.481   62  127 640163.000 642431.000  0.35%   178 5977s\n"
     ]
    },
    {
     "name": "stdout",
     "output_type": "stream",
     "text": [
      " 966598 253743 642281.071   46   99 640163.000 642431.000  0.35%   178 6000s\n"
     ]
    },
    {
     "name": "stderr",
     "output_type": "stream",
     "text": [
      "2023-04-20 22:49:41,939 - INFO -  966598 253743 642281.071   46   99 640163.000 642431.000  0.35%   178 6000s\n"
     ]
    },
    {
     "name": "stdout",
     "output_type": "stream",
     "text": [
      "\n"
     ]
    },
    {
     "name": "stderr",
     "output_type": "stream",
     "text": [
      "2023-04-20 22:49:42,736 - INFO - \n"
     ]
    },
    {
     "name": "stdout",
     "output_type": "stream",
     "text": [
      "Cutting planes:\n"
     ]
    },
    {
     "name": "stderr",
     "output_type": "stream",
     "text": [
      "2023-04-20 22:49:42,736 - INFO - Cutting planes:\n"
     ]
    },
    {
     "name": "stdout",
     "output_type": "stream",
     "text": [
      "  Gomory: 9\n"
     ]
    },
    {
     "name": "stderr",
     "output_type": "stream",
     "text": [
      "2023-04-20 22:49:42,736 - INFO -   Gomory: 9\n"
     ]
    },
    {
     "name": "stdout",
     "output_type": "stream",
     "text": [
      "  MIR: 20\n"
     ]
    },
    {
     "name": "stderr",
     "output_type": "stream",
     "text": [
      "2023-04-20 22:49:42,752 - INFO -   MIR: 20\n"
     ]
    },
    {
     "name": "stdout",
     "output_type": "stream",
     "text": [
      "  Flow cover: 96\n"
     ]
    },
    {
     "name": "stderr",
     "output_type": "stream",
     "text": [
      "2023-04-20 22:49:42,752 - INFO -   Flow cover: 96\n"
     ]
    },
    {
     "name": "stdout",
     "output_type": "stream",
     "text": [
      "  Inf proof: 6\n"
     ]
    },
    {
     "name": "stderr",
     "output_type": "stream",
     "text": [
      "2023-04-20 22:49:42,752 - INFO -   Inf proof: 6\n"
     ]
    },
    {
     "name": "stdout",
     "output_type": "stream",
     "text": [
      "  Zero half: 61\n"
     ]
    },
    {
     "name": "stderr",
     "output_type": "stream",
     "text": [
      "2023-04-20 22:49:42,752 - INFO -   Zero half: 61\n"
     ]
    },
    {
     "name": "stdout",
     "output_type": "stream",
     "text": [
      "  RLT: 1\n"
     ]
    },
    {
     "name": "stderr",
     "output_type": "stream",
     "text": [
      "2023-04-20 22:49:42,752 - INFO -   RLT: 1\n"
     ]
    },
    {
     "name": "stdout",
     "output_type": "stream",
     "text": [
      "  Relax-and-lift: 1\n"
     ]
    },
    {
     "name": "stderr",
     "output_type": "stream",
     "text": [
      "2023-04-20 22:49:42,752 - INFO -   Relax-and-lift: 1\n"
     ]
    },
    {
     "name": "stdout",
     "output_type": "stream",
     "text": [
      "  Lazy constraints: 7537\n"
     ]
    },
    {
     "name": "stderr",
     "output_type": "stream",
     "text": [
      "2023-04-20 22:49:42,767 - INFO -   Lazy constraints: 7537\n"
     ]
    },
    {
     "name": "stdout",
     "output_type": "stream",
     "text": [
      "\n"
     ]
    },
    {
     "name": "stderr",
     "output_type": "stream",
     "text": [
      "2023-04-20 22:49:42,767 - INFO - \n"
     ]
    },
    {
     "name": "stdout",
     "output_type": "stream",
     "text": [
      "Explored 967966 nodes (171988555 simplex iterations) in 6001.01 seconds\n"
     ]
    },
    {
     "name": "stderr",
     "output_type": "stream",
     "text": [
      "2023-04-20 22:49:42,767 - INFO - Explored 967966 nodes (171988555 simplex iterations) in 6001.01 seconds\n"
     ]
    },
    {
     "name": "stdout",
     "output_type": "stream",
     "text": [
      "Thread count was 24 (of 48 available processors)\n"
     ]
    },
    {
     "name": "stderr",
     "output_type": "stream",
     "text": [
      "2023-04-20 22:49:42,767 - INFO - Thread count was 24 (of 48 available processors)\n"
     ]
    },
    {
     "name": "stdout",
     "output_type": "stream",
     "text": [
      "\n"
     ]
    },
    {
     "name": "stderr",
     "output_type": "stream",
     "text": [
      "2023-04-20 22:49:42,767 - INFO - \n"
     ]
    },
    {
     "name": "stdout",
     "output_type": "stream",
     "text": [
      "Solution count 10: 640163 634510 633612 ... 620411\n"
     ]
    },
    {
     "name": "stderr",
     "output_type": "stream",
     "text": [
      "2023-04-20 22:49:42,783 - INFO - Solution count 10: 640163 634510 633612 ... 620411\n"
     ]
    },
    {
     "name": "stdout",
     "output_type": "stream",
     "text": [
      "\n"
     ]
    },
    {
     "name": "stderr",
     "output_type": "stream",
     "text": [
      "2023-04-20 22:49:42,783 - INFO - \n"
     ]
    },
    {
     "name": "stdout",
     "output_type": "stream",
     "text": [
      "Time limit reached\n"
     ]
    },
    {
     "name": "stderr",
     "output_type": "stream",
     "text": [
      "2023-04-20 22:49:42,783 - INFO - Time limit reached\n"
     ]
    },
    {
     "name": "stdout",
     "output_type": "stream",
     "text": [
      "Best objective 6.401630000000e+05, best bound 6.424310000000e+05, gap 0.3543%\n"
     ]
    },
    {
     "name": "stderr",
     "output_type": "stream",
     "text": [
      "2023-04-20 22:49:42,783 - INFO - Best objective 6.401630000000e+05, best bound 6.424310000000e+05, gap 0.3543%\n"
     ]
    },
    {
     "name": "stdout",
     "output_type": "stream",
     "text": [
      "\n"
     ]
    },
    {
     "name": "stderr",
     "output_type": "stream",
     "text": [
      "2023-04-20 22:49:42,783 - INFO - \n"
     ]
    },
    {
     "name": "stdout",
     "output_type": "stream",
     "text": [
      "User-callback calls 2058772, time in user-callback 31.40 sec\n"
     ]
    },
    {
     "name": "stderr",
     "output_type": "stream",
     "text": [
      "2023-04-20 22:49:42,783 - INFO - User-callback calls 2058772, time in user-callback 31.40 sec\n"
     ]
    },
    {
     "name": "stdout",
     "output_type": "stream",
     "text": [
      "../results_for_config-MS-bvap-bounds_100min/MS-county-bvap_bounds-90\n",
      "Summarizing the results for export\n",
      "Results Summary started\n",
      "Warning: constraint name \"vertex to district[0]\" has a space\n"
     ]
    },
    {
     "name": "stderr",
     "output_type": "stream",
     "text": [
      "2023-04-20 22:49:43,420 - INFO - Warning: constraint name \"vertex to district[0]\" has a space\n"
     ]
    },
    {
     "name": "stdout",
     "output_type": "stream",
     "text": [
      "Recording found solution\n",
      "best solution (found) = [[10, 15, 21, 22, 29, 32, 40, 41, 46, 67, 72, 74, 77], [1, 3, 6, 17, 19, 20, 23, 24, 25, 27, 33, 39, 47, 48, 50, 52, 55, 59, 62, 65, 69], [2, 7, 9, 11, 12, 14, 18, 26, 28, 30, 34, 35, 36, 37, 42, 43, 44, 49, 51, 53, 56, 57, 60, 63, 64, 66, 68, 70, 71, 76, 78, 80, 81], [0, 4, 5, 8, 13, 16, 31, 38, 45, 54, 58, 61, 73, 75, 79]]\n",
      "print write mip soln\n",
      "../results_for_config-MS-bvap-bounds_100min/MS-county-bvap_bounds-90_vap_max_2.sol\n",
      "Exporting to json\n",
      "../results_for_config-MS-bvap-bounds_100min/MS-county-bvap_bounds-90_vap_max_2.json\n",
      "Exporting solution to json\n",
      "Summarizing ../results_for_config-MS-bvap-bounds_100min/MS-county-bvap_bounds-90_vap_max_2.json\n",
      "../results_for_config-MS-bvap-bounds_100min/MS-county-bvap_bounds-90_vap_max_2.json\n",
      "Plotting\n",
      "{'state': 'MS', 'level': 'county', 'base': 'labeling', 'obj': 'bvap_bounds', 'R': 90, 'dist_bounds': False, 'tlimit': 6000, 'fixing': False, 'contiguity': 'lcut', 'symmetry': 'none', 'extended': False, 'order': 'none', 'heuristic': True, 'lp': False, 'obj_order': 'vap_max', 'index': 2, 'run': 'MS_vap_2_max', 'k': 4, 'L': 666288, 'U': 814351, 'm': 202, 'n': 82, 'heur_obj': 'n/a', 'heur_time': 'n/a', 'heur_iter': 'n/a', 'DFixings': 0, 'UFixings_R': 0, 'LFixings': 0, 'UFixings_X': 0, 'ZFixings': 0, 'LP_obj': 'n/a', 'LP_time': 'n/a', 'MIP_timelimit': 6000, 'MIP_time': '6001.28', 'MIP_status': 9, 'MIP_nodes': 967966, 'MIP_bound': 642431.0, 'callbacks': 956, 'lazy_cuts': 8329, 'MIP_obj': 640163.0, 'connected': True}\n",
      "Adding to csv ../results_for_config-MS-bvap-bounds_100min/results_config-MS-bvap-bounds_100min_2023_Apr_20.csv\n",
      "In run MS_vap_3_max using config: {'state': 'MS', 'level': 'county', 'base': 'labeling', 'obj': 'bvap_bounds', 'R': 90, 'dist_bounds': False, 'tlimit': 6000, 'fixing': False, 'contiguity': 'lcut', 'symmetry': 'none', 'extended': False, 'order': 'none', 'heuristic': True, 'lp': False, 'obj_order': 'vap_max', 'index': 3}.\n",
      "../data/county/dual_graphs/county28.json\n",
      "\n",
      "L = 666288 , U = 814351 , k = 4\n",
      "{'state': 'MS', 'level': 'county', 'base': 'labeling', 'obj': 'bvap_bounds', 'R': 90, 'dist_bounds': False, 'tlimit': 6000, 'fixing': False, 'contiguity': 'lcut', 'symmetry': 'none', 'extended': False, 'order': 'none', 'heuristic': True, 'lp': False, 'obj_order': 'vap_max', 'index': 3, 'run': 'MS_vap_3_max', 'k': 4, 'L': 666288, 'U': 814351, 'm': 202, 'n': 82, 'heur_obj': 'n/a', 'heur_time': 'n/a', 'heur_iter': 'n/a'}\n",
      "Adding bvap ordering\n",
      "Loading best known solution from ..\\results-ALMSLA_PWL\\MS-county-PWL-10.json\n",
      "{2: [0, 2, 4, 5, 7, 11, 14, 17, 19, 20, 23, 27, 28, 31, 34, 35, 36, 42, 43, 50, 51, 58, 59, 65, 66, 68, 69, 70, 73, 76, 80], 3: [1, 3, 6, 9, 16, 24, 25, 26, 32, 33, 37, 39, 44, 47, 48, 52, 55, 56, 57, 60, 61, 62, 71, 78, 81], 1: [8, 10, 15, 18, 29, 30, 38, 41, 45, 46, 49, 53, 67, 72, 79], 0: [12, 13, 21, 22, 40, 54, 63, 64, 74, 75, 77]}\n",
      "{2: 262518, 3: 162611, 1: 255704, 0: 122130}\n",
      "Reordering district warm start for bvap ordering\n",
      "{3: [0, 2, 4, 5, 7, 11, 14, 17, 19, 20, 23, 27, 28, 31, 34, 35, 36, 42, 43, 50, 51, 58, 59, 65, 66, 68, 69, 70, 73, 76, 80], 1: [1, 3, 6, 9, 16, 24, 25, 26, 32, 33, 37, 39, 44, 47, 48, 52, 55, 56, 57, 60, 61, 62, 71, 78, 81], 2: [8, 10, 15, 18, 29, 30, 38, 41, 45, 46, 49, 53, 67, 72, 79], 0: [12, 13, 21, 22, 40, 54, 63, 64, 74, 75, 77]}\n",
      "{3: 262518, 1: 162611, 2: 255704, 0: 122130}\n",
      "Changed value of parameter lazyConstraints to 1\n"
     ]
    },
    {
     "name": "stderr",
     "output_type": "stream",
     "text": [
      "2023-04-20 22:49:51,543 - INFO - Changed value of parameter lazyConstraints to 1\n"
     ]
    },
    {
     "name": "stdout",
     "output_type": "stream",
     "text": [
      "   Prev: 0  Min: 0  Max: 1  Default: 0\n"
     ]
    },
    {
     "name": "stderr",
     "output_type": "stream",
     "text": [
      "2023-04-20 22:49:51,543 - INFO -    Prev: 0  Min: 0  Max: 1  Default: 0\n"
     ]
    },
    {
     "name": "stdout",
     "output_type": "stream",
     "text": [
      "\n",
      " start stuff \n",
      "\n",
      "Changed value of parameter TimeLimit to 6000.0\n"
     ]
    },
    {
     "name": "stderr",
     "output_type": "stream",
     "text": [
      "2023-04-20 22:49:51,559 - INFO - Changed value of parameter TimeLimit to 6000.0\n"
     ]
    },
    {
     "name": "stdout",
     "output_type": "stream",
     "text": [
      "   Prev: inf  Min: 0.0  Max: inf  Default: inf\n"
     ]
    },
    {
     "name": "stderr",
     "output_type": "stream",
     "text": [
      "2023-04-20 22:49:51,559 - INFO -    Prev: inf  Min: 0.0  Max: inf  Default: inf\n"
     ]
    },
    {
     "name": "stdout",
     "output_type": "stream",
     "text": [
      "Changed value of parameter Method to 3\n"
     ]
    },
    {
     "name": "stderr",
     "output_type": "stream",
     "text": [
      "2023-04-20 22:49:51,559 - INFO - Changed value of parameter Method to 3\n"
     ]
    },
    {
     "name": "stdout",
     "output_type": "stream",
     "text": [
      "   Prev: -1  Min: -1  Max: 5  Default: -1\n"
     ]
    },
    {
     "name": "stderr",
     "output_type": "stream",
     "text": [
      "2023-04-20 22:49:51,559 - INFO -    Prev: -1  Min: -1  Max: 5  Default: -1\n"
     ]
    },
    {
     "name": "stdout",
     "output_type": "stream",
     "text": [
      "Changed value of parameter LogFile to ../results_for_config-MS-bvap-bounds_100min/MS-county-bvap_bounds-90.log\n"
     ]
    },
    {
     "name": "stderr",
     "output_type": "stream",
     "text": [
      "2023-04-20 22:49:51,574 - INFO - Changed value of parameter LogFile to ../results_for_config-MS-bvap-bounds_100min/MS-county-bvap_bounds-90.log\n"
     ]
    },
    {
     "name": "stdout",
     "output_type": "stream",
     "text": [
      "   Prev:   Default: \n"
     ]
    },
    {
     "name": "stderr",
     "output_type": "stream",
     "text": [
      "2023-04-20 22:49:51,574 - INFO -    Prev:   Default: \n"
     ]
    },
    {
     "name": "stdout",
     "output_type": "stream",
     "text": [
      "Gurobi Optimizer version 9.1.2 build v9.1.2rc0 (win64)\n"
     ]
    },
    {
     "name": "stderr",
     "output_type": "stream",
     "text": [
      "2023-04-20 22:49:51,574 - INFO - Gurobi Optimizer version 9.1.2 build v9.1.2rc0 (win64)\n"
     ]
    },
    {
     "name": "stdout",
     "output_type": "stream",
     "text": [
      "Thread count: 24 physical cores, 48 logical processors, using up to 24 threads\n"
     ]
    },
    {
     "name": "stderr",
     "output_type": "stream",
     "text": [
      "2023-04-20 22:49:51,574 - INFO - Thread count: 24 physical cores, 48 logical processors, using up to 24 threads\n"
     ]
    },
    {
     "name": "stdout",
     "output_type": "stream",
     "text": [
      "Optimize a model with 101 rows, 664 columns and 1654 nonzeros\n"
     ]
    },
    {
     "name": "stderr",
     "output_type": "stream",
     "text": [
      "2023-04-20 22:49:51,590 - INFO - Optimize a model with 101 rows, 664 columns and 1654 nonzeros\n"
     ]
    },
    {
     "name": "stdout",
     "output_type": "stream",
     "text": [
      "Model fingerprint: 0x5112ab23\n"
     ]
    },
    {
     "name": "stderr",
     "output_type": "stream",
     "text": [
      "2023-04-20 22:49:51,590 - INFO - Model fingerprint: 0x5112ab23\n"
     ]
    },
    {
     "name": "stdout",
     "output_type": "stream",
     "text": [
      "Variable types: 8 continuous, 656 integer (656 binary)\n"
     ]
    },
    {
     "name": "stderr",
     "output_type": "stream",
     "text": [
      "2023-04-20 22:49:51,590 - INFO - Variable types: 8 continuous, 656 integer (656 binary)\n"
     ]
    },
    {
     "name": "stdout",
     "output_type": "stream",
     "text": [
      "Coefficient statistics:\n"
     ]
    },
    {
     "name": "stderr",
     "output_type": "stream",
     "text": [
      "2023-04-20 22:49:51,590 - INFO - Coefficient statistics:\n"
     ]
    },
    {
     "name": "stdout",
     "output_type": "stream",
     "text": [
      "  Matrix range     [1e+00, 2e+05]\n"
     ]
    },
    {
     "name": "stderr",
     "output_type": "stream",
     "text": [
      "2023-04-20 22:49:51,590 - INFO -   Matrix range     [1e+00, 2e+05]\n"
     ]
    },
    {
     "name": "stdout",
     "output_type": "stream",
     "text": [
      "  Objective range  [1e+00, 1e+00]\n"
     ]
    },
    {
     "name": "stderr",
     "output_type": "stream",
     "text": [
      "2023-04-20 22:49:51,606 - INFO -   Objective range  [1e+00, 1e+00]\n"
     ]
    },
    {
     "name": "stdout",
     "output_type": "stream",
     "text": [
      "  Bounds range     [1e+00, 8e+05]\n"
     ]
    },
    {
     "name": "stderr",
     "output_type": "stream",
     "text": [
      "2023-04-20 22:49:51,606 - INFO -   Bounds range     [1e+00, 8e+05]\n"
     ]
    },
    {
     "name": "stdout",
     "output_type": "stream",
     "text": [
      "  RHS range        [1e+00, 8e+05]\n"
     ]
    },
    {
     "name": "stderr",
     "output_type": "stream",
     "text": [
      "2023-04-20 22:49:51,606 - INFO -   RHS range        [1e+00, 8e+05]\n"
     ]
    },
    {
     "name": "stdout",
     "output_type": "stream",
     "text": [
      "\n"
     ]
    },
    {
     "name": "stderr",
     "output_type": "stream",
     "text": [
      "2023-04-20 22:49:51,606 - INFO - \n"
     ]
    },
    {
     "name": "stdout",
     "output_type": "stream",
     "text": [
      "User MIP start produced solution with objective 513694 (0.05s)\n"
     ]
    },
    {
     "name": "stderr",
     "output_type": "stream",
     "text": [
      "2023-04-20 22:49:51,621 - INFO - User MIP start produced solution with objective 513694 (0.05s)\n"
     ]
    },
    {
     "name": "stdout",
     "output_type": "stream",
     "text": [
      "Loaded user MIP start with objective 513694\n"
     ]
    },
    {
     "name": "stderr",
     "output_type": "stream",
     "text": [
      "2023-04-20 22:49:51,637 - INFO - Loaded user MIP start with objective 513694\n"
     ]
    },
    {
     "name": "stdout",
     "output_type": "stream",
     "text": [
      "\n"
     ]
    },
    {
     "name": "stderr",
     "output_type": "stream",
     "text": [
      "2023-04-20 22:49:51,637 - INFO - \n"
     ]
    },
    {
     "name": "stdout",
     "output_type": "stream",
     "text": [
      "Presolve time: 0.00s\n"
     ]
    },
    {
     "name": "stderr",
     "output_type": "stream",
     "text": [
      "2023-04-20 22:49:51,653 - INFO - Presolve time: 0.00s\n"
     ]
    },
    {
     "name": "stdout",
     "output_type": "stream",
     "text": [
      "Presolved: 101 rows, 664 columns, 1654 nonzeros\n"
     ]
    },
    {
     "name": "stderr",
     "output_type": "stream",
     "text": [
      "2023-04-20 22:49:51,653 - INFO - Presolved: 101 rows, 664 columns, 1654 nonzeros\n"
     ]
    },
    {
     "name": "stdout",
     "output_type": "stream",
     "text": [
      "Variable types: 0 continuous, 664 integer (656 binary)\n"
     ]
    },
    {
     "name": "stderr",
     "output_type": "stream",
     "text": [
      "2023-04-20 22:49:51,653 - INFO - Variable types: 0 continuous, 664 integer (656 binary)\n"
     ]
    },
    {
     "name": "stdout",
     "output_type": "stream",
     "text": [
      "\n"
     ]
    },
    {
     "name": "stderr",
     "output_type": "stream",
     "text": [
      "2023-04-20 22:49:51,668 - INFO - \n"
     ]
    },
    {
     "name": "stdout",
     "output_type": "stream",
     "text": [
      "Concurrent LP optimizer: primal simplex, dual simplex, and barrier\n"
     ]
    },
    {
     "name": "stderr",
     "output_type": "stream",
     "text": [
      "2023-04-20 22:49:51,668 - INFO - Concurrent LP optimizer: primal simplex, dual simplex, and barrier\n"
     ]
    },
    {
     "name": "stdout",
     "output_type": "stream",
     "text": [
      "Showing barrier log only...\n"
     ]
    },
    {
     "name": "stderr",
     "output_type": "stream",
     "text": [
      "2023-04-20 22:49:51,668 - INFO - Showing barrier log only...\n"
     ]
    },
    {
     "name": "stdout",
     "output_type": "stream",
     "text": [
      "\n"
     ]
    },
    {
     "name": "stderr",
     "output_type": "stream",
     "text": [
      "2023-04-20 22:49:51,668 - INFO - \n"
     ]
    },
    {
     "name": "stdout",
     "output_type": "stream",
     "text": [
      "Root barrier log...\n"
     ]
    },
    {
     "name": "stderr",
     "output_type": "stream",
     "text": [
      "2023-04-20 22:49:51,684 - INFO - Root barrier log...\n"
     ]
    },
    {
     "name": "stdout",
     "output_type": "stream",
     "text": [
      "\n"
     ]
    },
    {
     "name": "stderr",
     "output_type": "stream",
     "text": [
      "2023-04-20 22:49:51,699 - INFO - \n"
     ]
    },
    {
     "name": "stdout",
     "output_type": "stream",
     "text": [
      "Ordering time: 0.00s\n"
     ]
    },
    {
     "name": "stderr",
     "output_type": "stream",
     "text": [
      "2023-04-20 22:49:51,699 - INFO - Ordering time: 0.00s\n"
     ]
    },
    {
     "name": "stdout",
     "output_type": "stream",
     "text": [
      "\n"
     ]
    },
    {
     "name": "stderr",
     "output_type": "stream",
     "text": [
      "2023-04-20 22:49:51,699 - INFO - \n"
     ]
    },
    {
     "name": "stdout",
     "output_type": "stream",
     "text": [
      "Barrier performed 0 iterations in 0.12 seconds\n"
     ]
    },
    {
     "name": "stderr",
     "output_type": "stream",
     "text": [
      "2023-04-20 22:49:51,699 - INFO - Barrier performed 0 iterations in 0.12 seconds\n"
     ]
    },
    {
     "name": "stdout",
     "output_type": "stream",
     "text": [
      "Barrier solve interrupted - model solved by another algorithm\n"
     ]
    },
    {
     "name": "stderr",
     "output_type": "stream",
     "text": [
      "2023-04-20 22:49:51,715 - INFO - Barrier solve interrupted - model solved by another algorithm\n"
     ]
    },
    {
     "name": "stdout",
     "output_type": "stream",
     "text": [
      "\n"
     ]
    },
    {
     "name": "stderr",
     "output_type": "stream",
     "text": [
      "2023-04-20 22:49:51,715 - INFO - \n"
     ]
    },
    {
     "name": "stdout",
     "output_type": "stream",
     "text": [
      "\n"
     ]
    },
    {
     "name": "stderr",
     "output_type": "stream",
     "text": [
      "2023-04-20 22:49:51,715 - INFO - \n"
     ]
    },
    {
     "name": "stdout",
     "output_type": "stream",
     "text": [
      "Solved with dual simplex\n"
     ]
    },
    {
     "name": "stderr",
     "output_type": "stream",
     "text": [
      "2023-04-20 22:49:51,731 - INFO - Solved with dual simplex\n"
     ]
    },
    {
     "name": "stdout",
     "output_type": "stream",
     "text": [
      "\n"
     ]
    },
    {
     "name": "stderr",
     "output_type": "stream",
     "text": [
      "2023-04-20 22:49:51,746 - INFO - \n"
     ]
    },
    {
     "name": "stdout",
     "output_type": "stream",
     "text": [
      "Root relaxation: objective 6.446340e+05, 114 iterations, 0.06 seconds\n"
     ]
    },
    {
     "name": "stderr",
     "output_type": "stream",
     "text": [
      "2023-04-20 22:49:51,762 - INFO - Root relaxation: objective 6.446340e+05, 114 iterations, 0.06 seconds\n"
     ]
    },
    {
     "name": "stdout",
     "output_type": "stream",
     "text": [
      "\n"
     ]
    },
    {
     "name": "stderr",
     "output_type": "stream",
     "text": [
      "2023-04-20 22:49:51,778 - INFO - \n"
     ]
    },
    {
     "name": "stdout",
     "output_type": "stream",
     "text": [
      "    Nodes    |    Current Node    |     Objective Bounds      |     Work\n"
     ]
    },
    {
     "name": "stderr",
     "output_type": "stream",
     "text": [
      "2023-04-20 22:49:51,793 - INFO -     Nodes    |    Current Node    |     Objective Bounds      |     Work\n"
     ]
    },
    {
     "name": "stdout",
     "output_type": "stream",
     "text": [
      " Expl Unexpl |  Obj  Depth IntInf | Incumbent    BestBd   Gap | It/Node Time\n"
     ]
    },
    {
     "name": "stderr",
     "output_type": "stream",
     "text": [
      "2023-04-20 22:49:51,793 - INFO -  Expl Unexpl |  Obj  Depth IntInf | Incumbent    BestBd   Gap | It/Node Time\n"
     ]
    },
    {
     "name": "stdout",
     "output_type": "stream",
     "text": [
      "\n"
     ]
    },
    {
     "name": "stderr",
     "output_type": "stream",
     "text": [
      "2023-04-20 22:49:51,793 - INFO - \n"
     ]
    },
    {
     "name": "stdout",
     "output_type": "stream",
     "text": [
      "     0     0 644634.000    0    4 513694.000 644634.000  25.5%     -    0s\n"
     ]
    },
    {
     "name": "stderr",
     "output_type": "stream",
     "text": [
      "2023-04-20 22:49:51,809 - INFO -      0     0 644634.000    0    4 513694.000 644634.000  25.5%     -    0s\n"
     ]
    },
    {
     "name": "stdout",
     "output_type": "stream",
     "text": [
      "     0     0 644132.519    0   39 513694.000 644132.519  25.4%     -    0s\n"
     ]
    },
    {
     "name": "stderr",
     "output_type": "stream",
     "text": [
      "2023-04-20 22:49:51,965 - INFO -      0     0 644132.519    0   39 513694.000 644132.519  25.4%     -    0s\n"
     ]
    },
    {
     "name": "stdout",
     "output_type": "stream",
     "text": [
      "     0     0 643787.977    0   28 513694.000 643787.977  25.3%     -    0s\n"
     ]
    },
    {
     "name": "stderr",
     "output_type": "stream",
     "text": [
      "2023-04-20 22:49:52,137 - INFO -      0     0 643787.977    0   28 513694.000 643787.977  25.3%     -    0s\n"
     ]
    },
    {
     "name": "stdout",
     "output_type": "stream",
     "text": [
      "     0     0 643771.160    0   31 513694.000 643771.160  25.3%     -    0s\n"
     ]
    },
    {
     "name": "stderr",
     "output_type": "stream",
     "text": [
      "2023-04-20 22:49:52,262 - INFO -      0     0 643771.160    0   31 513694.000 643771.160  25.3%     -    0s\n"
     ]
    },
    {
     "name": "stdout",
     "output_type": "stream",
     "text": [
      "     0     0 643704.476    0   40 513694.000 643704.476  25.3%     -    0s\n"
     ]
    },
    {
     "name": "stderr",
     "output_type": "stream",
     "text": [
      "2023-04-20 22:49:52,346 - INFO -      0     0 643704.476    0   40 513694.000 643704.476  25.3%     -    0s\n"
     ]
    },
    {
     "name": "stdout",
     "output_type": "stream",
     "text": [
      "     0     0 643703.782    0   43 513694.000 643703.782  25.3%     -    0s\n"
     ]
    },
    {
     "name": "stderr",
     "output_type": "stream",
     "text": [
      "2023-04-20 22:49:52,361 - INFO -      0     0 643703.782    0   43 513694.000 643703.782  25.3%     -    0s\n"
     ]
    },
    {
     "name": "stdout",
     "output_type": "stream",
     "text": [
      "     0     0 643683.526    0   43 513694.000 643683.526  25.3%     -    0s\n"
     ]
    },
    {
     "name": "stderr",
     "output_type": "stream",
     "text": [
      "2023-04-20 22:49:52,439 - INFO -      0     0 643683.526    0   43 513694.000 643683.526  25.3%     -    0s\n"
     ]
    },
    {
     "name": "stdout",
     "output_type": "stream",
     "text": [
      "     0     0 643674.276    0   60 513694.000 643674.276  25.3%     -    0s\n"
     ]
    },
    {
     "name": "stderr",
     "output_type": "stream",
     "text": [
      "2023-04-20 22:49:52,533 - INFO -      0     0 643674.276    0   60 513694.000 643674.276  25.3%     -    0s\n"
     ]
    },
    {
     "name": "stdout",
     "output_type": "stream",
     "text": [
      "     0     0 643673.786    0   62 513694.000 643673.786  25.3%     -    0s\n"
     ]
    },
    {
     "name": "stderr",
     "output_type": "stream",
     "text": [
      "2023-04-20 22:49:52,549 - INFO -      0     0 643673.786    0   62 513694.000 643673.786  25.3%     -    0s\n"
     ]
    },
    {
     "name": "stdout",
     "output_type": "stream",
     "text": [
      "     0     0 643667.258    0   65 513694.000 643667.258  25.3%     -    1s\n"
     ]
    },
    {
     "name": "stderr",
     "output_type": "stream",
     "text": [
      "2023-04-20 22:49:52,580 - INFO -      0     0 643667.258    0   65 513694.000 643667.258  25.3%     -    1s\n"
     ]
    },
    {
     "name": "stdout",
     "output_type": "stream",
     "text": [
      "     0     0 643667.258    0   39 513694.000 643667.258  25.3%     -    1s\n"
     ]
    },
    {
     "name": "stderr",
     "output_type": "stream",
     "text": [
      "2023-04-20 22:49:52,611 - INFO -      0     0 643667.258    0   39 513694.000 643667.258  25.3%     -    1s\n"
     ]
    },
    {
     "name": "stdout",
     "output_type": "stream",
     "text": [
      "     0     2 643667.258    0   34 513694.000 643667.258  25.3%     -    1s\n"
     ]
    },
    {
     "name": "stderr",
     "output_type": "stream",
     "text": [
      "2023-04-20 22:49:52,814 - INFO -      0     2 643667.258    0   34 513694.000 643667.258  25.3%     -    1s\n"
     ]
    },
    {
     "name": "stdout",
     "output_type": "stream",
     "text": [
      "  1135  1151 infeasible   49      513694.000 643538.074  25.3%   8.8    5s\n"
     ]
    },
    {
     "name": "stderr",
     "output_type": "stream",
     "text": [
      "2023-04-20 22:49:57,512 - INFO -   1135  1151 infeasible   49      513694.000 643538.074  25.3%   8.8    5s\n"
     ]
    },
    {
     "name": "stdout",
     "output_type": "stream",
     "text": [
      "  3034  3114 642744.718   59   28 513694.000 643537.278  25.3%   9.4   10s\n"
     ]
    },
    {
     "name": "stderr",
     "output_type": "stream",
     "text": [
      "2023-04-20 22:50:01,582 - INFO -   3034  3114 642744.718   59   28 513694.000 643537.278  25.3%   9.4   10s\n"
     ]
    },
    {
     "name": "stdout",
     "output_type": "stream",
     "text": [
      "H 3995  3394                    527988.00000 643220.655  21.8%  12.1   14s\n"
     ]
    },
    {
     "name": "stderr",
     "output_type": "stream",
     "text": [
      "2023-04-20 22:50:06,035 - INFO - H 3995  3394                    527988.00000 643220.655  21.8%  12.1   14s\n"
     ]
    },
    {
     "name": "stdout",
     "output_type": "stream",
     "text": [
      "H 4015  3219                    535406.00000 643220.655  20.1%  12.4   14s\n"
     ]
    },
    {
     "name": "stderr",
     "output_type": "stream",
     "text": [
      "2023-04-20 22:50:06,192 - INFO - H 4015  3219                    535406.00000 643220.655  20.1%  12.4   14s\n"
     ]
    },
    {
     "name": "stdout",
     "output_type": "stream",
     "text": [
      "  4065  3272 642920.868   22   61 535406.000 643220.655  20.1%  13.1   15s\n"
     ]
    },
    {
     "name": "stderr",
     "output_type": "stream",
     "text": [
      "2023-04-20 22:50:07,270 - INFO -   4065  3272 642920.868   22   61 535406.000 643220.655  20.1%  13.1   15s\n"
     ]
    },
    {
     "name": "stdout",
     "output_type": "stream",
     "text": [
      "H 4082  3106                    557471.00000 643220.655  15.4%  13.2   15s\n"
     ]
    },
    {
     "name": "stderr",
     "output_type": "stream",
     "text": [
      "2023-04-20 22:50:07,332 - INFO - H 4082  3106                    557471.00000 643220.655  15.4%  13.2   15s\n"
     ]
    },
    {
     "name": "stdout",
     "output_type": "stream",
     "text": [
      "  4204  3199 642884.747   25   32 557471.000 643220.655  15.4%  14.2   27s\n"
     ]
    },
    {
     "name": "stderr",
     "output_type": "stream",
     "text": [
      "2023-04-20 22:50:19,136 - INFO -   4204  3199 642884.747   25   32 557471.000 643220.655  15.4%  14.2   27s\n"
     ]
    },
    {
     "name": "stdout",
     "output_type": "stream",
     "text": [
      "  5238  3746 642296.277   57   28 557471.000 643220.655  15.4%  18.6   30s\n"
     ]
    },
    {
     "name": "stderr",
     "output_type": "stream",
     "text": [
      "2023-04-20 22:50:21,822 - INFO -   5238  3746 642296.277   57   28 557471.000 643220.655  15.4%  18.6   30s\n"
     ]
    },
    {
     "name": "stdout",
     "output_type": "stream",
     "text": [
      "  7900  4522 642461.272   66   30 557471.000 643220.655  15.4%  22.4   35s\n"
     ]
    },
    {
     "name": "stderr",
     "output_type": "stream",
     "text": [
      "2023-04-20 22:50:27,197 - INFO -   7900  4522 642461.272   66   30 557471.000 643220.655  15.4%  22.4   35s\n"
     ]
    },
    {
     "name": "stdout",
     "output_type": "stream",
     "text": [
      "  9688  5052 641338.000   69   41 557471.000 643220.655  15.4%  25.8   41s\n"
     ]
    },
    {
     "name": "stderr",
     "output_type": "stream",
     "text": [
      "2023-04-20 22:50:33,232 - INFO -   9688  5052 641338.000   69   41 557471.000 643220.655  15.4%  25.8   41s\n"
     ]
    },
    {
     "name": "stdout",
     "output_type": "stream",
     "text": [
      " 12107  5388 642634.000   56   75 557471.000 643220.655  15.4%  31.3   57s\n"
     ]
    },
    {
     "name": "stderr",
     "output_type": "stream",
     "text": [
      "2023-04-20 22:50:48,594 - INFO -  12107  5388 642634.000   56   75 557471.000 643220.655  15.4%  31.3   57s\n"
     ]
    },
    {
     "name": "stdout",
     "output_type": "stream",
     "text": [
      " 12137  5383 642524.326   57   94 557471.000 643220.655  15.4%  31.4   78s\n"
     ]
    },
    {
     "name": "stderr",
     "output_type": "stream",
     "text": [
      "2023-04-20 22:51:10,318 - INFO -  12137  5383 642524.326   57   94 557471.000 643220.655  15.4%  31.4   78s\n"
     ]
    },
    {
     "name": "stdout",
     "output_type": "stream",
     "text": [
      " 13017  5623 640843.000   77   99 557471.000 643220.655  15.4%  34.4   80s\n"
     ]
    },
    {
     "name": "stderr",
     "output_type": "stream",
     "text": [
      "2023-04-20 22:51:11,911 - INFO -  13017  5623 640843.000   77   99 557471.000 643220.655  15.4%  34.4   80s\n"
     ]
    },
    {
     "name": "stdout",
     "output_type": "stream",
     "text": [
      " 15034  6521 642483.000   69    8 557471.000 643220.655  15.4%  40.1   87s\n"
     ]
    },
    {
     "name": "stderr",
     "output_type": "stream",
     "text": [
      "2023-04-20 22:51:18,786 - INFO -  15034  6521 642483.000   69    8 557471.000 643220.655  15.4%  40.1   87s\n"
     ]
    },
    {
     "name": "stdout",
     "output_type": "stream",
     "text": [
      " 16709  7413 643052.000   53   81 557471.000 643220.655  15.4%  44.2   91s\n"
     ]
    },
    {
     "name": "stderr",
     "output_type": "stream",
     "text": [
      "2023-04-20 22:51:23,263 - INFO -  16709  7413 643052.000   53   81 557471.000 643220.655  15.4%  44.2   91s\n"
     ]
    },
    {
     "name": "stdout",
     "output_type": "stream",
     "text": [
      " 17127  7438 642703.000   66   73 557471.000 643220.655  15.4%  45.3  108s\n"
     ]
    },
    {
     "name": "stderr",
     "output_type": "stream",
     "text": [
      "2023-04-20 22:51:40,121 - INFO -  17127  7438 642703.000   66   73 557471.000 643220.655  15.4%  45.3  108s\n"
     ]
    },
    {
     "name": "stdout",
     "output_type": "stream",
     "text": [
      " 17169  7652 642459.227   68   91 557471.000 643220.655  15.4%  45.5  110s\n"
     ]
    },
    {
     "name": "stderr",
     "output_type": "stream",
     "text": [
      "2023-04-20 22:51:41,730 - INFO -  17169  7652 642459.227   68   91 557471.000 643220.655  15.4%  45.5  110s\n"
     ]
    },
    {
     "name": "stdout",
     "output_type": "stream",
     "text": [
      " 17592  7874 641846.126   84   62 557471.000 643220.655  15.4%  47.2  117s\n"
     ]
    },
    {
     "name": "stderr",
     "output_type": "stream",
     "text": [
      "2023-04-20 22:51:49,447 - INFO -  17592  7874 641846.126   84   62 557471.000 643220.655  15.4%  47.2  117s\n"
     ]
    },
    {
     "name": "stdout",
     "output_type": "stream",
     "text": [
      " 18488  8391 642806.833   29  103 557471.000 643220.604  15.4%  49.8  121s\n"
     ]
    },
    {
     "name": "stderr",
     "output_type": "stream",
     "text": [
      "2023-04-20 22:51:52,895 - INFO -  18488  8391 642806.833   29  103 557471.000 643220.604  15.4%  49.8  121s\n"
     ]
    },
    {
     "name": "stdout",
     "output_type": "stream",
     "text": [
      " 20047  9125 643219.000   35   91 557471.000 643220.604  15.4%  51.9  132s\n"
     ]
    },
    {
     "name": "stderr",
     "output_type": "stream",
     "text": [
      "2023-04-20 22:52:04,237 - INFO -  20047  9125 643219.000   35   91 557471.000 643220.604  15.4%  51.9  132s\n"
     ]
    },
    {
     "name": "stdout",
     "output_type": "stream",
     "text": [
      " 20762  9147 643183.807   41  103 557471.000 643220.604  15.4%  52.3  148s\n"
     ]
    },
    {
     "name": "stderr",
     "output_type": "stream",
     "text": [
      "2023-04-20 22:52:19,841 - INFO -  20762  9147 643183.807   41  103 557471.000 643220.604  15.4%  52.3  148s\n"
     ]
    },
    {
     "name": "stdout",
     "output_type": "stream",
     "text": [
      " 21468  9935 642388.595   50  107 557471.000 643220.604  15.4%  54.0  150s\n"
     ]
    },
    {
     "name": "stderr",
     "output_type": "stream",
     "text": [
      "2023-04-20 22:52:22,411 - INFO -  21468  9935 642388.595   50  107 557471.000 643220.604  15.4%  54.0  150s\n"
     ]
    },
    {
     "name": "stdout",
     "output_type": "stream",
     "text": [
      " 25381 12118 642098.000   64   90 557471.000 643220.068  15.4%  59.3  156s\n"
     ]
    },
    {
     "name": "stderr",
     "output_type": "stream",
     "text": [
      "2023-04-20 22:52:28,067 - INFO -  25381 12118 642098.000   64   90 557471.000 643220.068  15.4%  59.3  156s\n"
     ]
    }
   ],
   "source": [
    "from main import *\n",
    "\n",
    "myConfig = \"config-MS-bvap-bounds_100min.json\"\n",
    "main(myConfig)"
   ]
  },
  {
   "cell_type": "code",
   "execution_count": null,
   "metadata": {},
   "outputs": [],
   "source": []
  }
 ],
 "metadata": {
  "kernelspec": {
   "display_name": "Python 3",
   "language": "python",
   "name": "python3"
  },
  "language_info": {
   "codemirror_mode": {
    "name": "ipython",
    "version": 3
   },
   "file_extension": ".py",
   "mimetype": "text/x-python",
   "name": "python",
   "nbconvert_exporter": "python",
   "pygments_lexer": "ipython3",
   "version": "3.8.5"
  }
 },
 "nbformat": 4,
 "nbformat_minor": 4
}
