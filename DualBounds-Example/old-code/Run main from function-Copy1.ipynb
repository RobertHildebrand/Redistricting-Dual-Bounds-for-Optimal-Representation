{
 "cells": [
  {
   "cell_type": "markdown",
   "metadata": {},
   "source": [
    "# Main function\n",
    "Pick a config file and then run then main function on this config file.\n",
    "\n",
    "Alternatively, this can be run from the command line as\n",
    "\n",
    "python main.py config.json"
   ]
  },
  {
   "cell_type": "code",
   "execution_count": 1,
   "metadata": {},
   "outputs": [],
   "source": [
    "%load_ext autoreload\n",
    "%autoreload 2\n",
    "\n",
    "import logging\n",
    "logging.getLogger().setLevel(logging.ERROR)\n",
    "\n",
    "import warnings; warnings.simplefilter('ignore')"
   ]
  },
  {
   "cell_type": "code",
   "execution_count": 15,
   "metadata": {},
   "outputs": [
    {
     "name": "stdout",
     "output_type": "stream",
     "text": [
      "Reading config from config-SC-bvap-bounds-specific_10min.json\n",
      "Experiments to run:\n",
      "dict_keys(['SC_vap_0_max'])\n",
      "In run SC_vap_0_max using config: {'state': 'SC', 'level': 'county', 'base': 'labeling', 'obj': 'bvap_bounds_specific', 'R': 90, 'dist_bounds': False, 'tlimit': 600, 'fixing': False, 'contiguity': 'lcut', 'symmetry': 'none', 'extended': False, 'order': 'none', 'heuristic': True, 'lp': False, 'obj_order': 'bvap_max', 'index': 0}.\n",
      "../data/county/dual_graphs/county45.json\n",
      "\n",
      "L = 658084 , U = 804323 , k = 7\n",
      "{'state': 'SC', 'level': 'county', 'base': 'labeling', 'obj': 'bvap_bounds_specific', 'R': 90, 'dist_bounds': False, 'tlimit': 600, 'fixing': False, 'contiguity': 'lcut', 'symmetry': 'none', 'extended': False, 'order': 'none', 'heuristic': True, 'lp': False, 'obj_order': 'bvap_max', 'index': 0, 'run': 'SC_vap_0_max', 'k': 7, 'L': 658084, 'U': 804323, 'm': 109, 'n': 46, 'heur_obj': 'n/a', 'heur_time': 'n/a', 'heur_iter': 'n/a'}\n",
      "Adding bvap ordering\n",
      "grad min again\n",
      "Loading best known solution from ..\\data\\bestruns\\SC-county-BNPWL-7.json\n",
      "{6: [0, 2, 4, 9, 14, 16, 17, 19, 21, 27, 28, 30, 34, 35, 36, 44], 1: [1, 15, 22, 23, 33, 39], 4: [3, 12, 13, 24], 2: [5, 8, 31, 42], 5: [6, 10, 20, 25, 29, 37, 40, 41], 0: [7, 38, 43, 45], 3: [11, 18, 26, 32]}\n",
      "Ordering warm start with respect to bvap\n",
      "{6: 222581, 1: 217520, 4: 109767, 2: 131180, 5: 108679, 0: 89262, 3: 92355}\n",
      "Reordering district warm start for bvap ordering\n",
      "{6: [0, 2, 4, 9, 14, 16, 17, 19, 21, 27, 28, 30, 34, 35, 36, 44], 5: [1, 15, 22, 23, 33, 39], 3: [3, 12, 13, 24], 4: [5, 8, 31, 42], 2: [6, 10, 20, 25, 29, 37, 40, 41], 0: [7, 38, 43, 45], 1: [11, 18, 26, 32]}\n",
      "{6: 222581, 5: 217520, 3: 109767, 4: 131180, 2: 108679, 0: 89262, 1: 92355}\n",
      "Changed value of parameter lazyConstraints to 1\n"
     ]
    },
    {
     "name": "stderr",
     "output_type": "stream",
     "text": [
      "2023-04-27 09:58:59,722 - INFO - Changed value of parameter lazyConstraints to 1\n"
     ]
    },
    {
     "name": "stdout",
     "output_type": "stream",
     "text": [
      "   Prev: 0  Min: 0  Max: 1  Default: 0\n"
     ]
    },
    {
     "name": "stderr",
     "output_type": "stream",
     "text": [
      "2023-04-27 09:58:59,726 - INFO -    Prev: 0  Min: 0  Max: 1  Default: 0\n"
     ]
    },
    {
     "name": "stdout",
     "output_type": "stream",
     "text": [
      "\n",
      " start stuff \n",
      "\n",
      "Changed value of parameter TimeLimit to 600.0\n"
     ]
    },
    {
     "name": "stderr",
     "output_type": "stream",
     "text": [
      "2023-04-27 09:58:59,729 - INFO - Changed value of parameter TimeLimit to 600.0\n"
     ]
    },
    {
     "name": "stdout",
     "output_type": "stream",
     "text": [
      "   Prev: inf  Min: 0.0  Max: inf  Default: inf\n"
     ]
    },
    {
     "name": "stderr",
     "output_type": "stream",
     "text": [
      "2023-04-27 09:58:59,731 - INFO -    Prev: inf  Min: 0.0  Max: inf  Default: inf\n"
     ]
    },
    {
     "name": "stdout",
     "output_type": "stream",
     "text": [
      "Changed value of parameter Method to 3\n"
     ]
    },
    {
     "name": "stderr",
     "output_type": "stream",
     "text": [
      "2023-04-27 09:58:59,732 - INFO - Changed value of parameter Method to 3\n"
     ]
    },
    {
     "name": "stdout",
     "output_type": "stream",
     "text": [
      "   Prev: -1  Min: -1  Max: 5  Default: -1\n"
     ]
    },
    {
     "name": "stderr",
     "output_type": "stream",
     "text": [
      "2023-04-27 09:58:59,734 - INFO -    Prev: -1  Min: -1  Max: 5  Default: -1\n"
     ]
    },
    {
     "name": "stdout",
     "output_type": "stream",
     "text": [
      "Changed value of parameter LogFile to ../results_for_config-SC-bvap-bounds-specific_10min/SC-county-bvap_bounds_specific-90.log\n"
     ]
    },
    {
     "name": "stderr",
     "output_type": "stream",
     "text": [
      "2023-04-27 09:58:59,736 - INFO - Changed value of parameter LogFile to ../results_for_config-SC-bvap-bounds-specific_10min/SC-county-bvap_bounds_specific-90.log\n"
     ]
    },
    {
     "name": "stdout",
     "output_type": "stream",
     "text": [
      "   Prev:   Default: \n"
     ]
    },
    {
     "name": "stderr",
     "output_type": "stream",
     "text": [
      "2023-04-27 09:58:59,742 - INFO -    Prev:   Default: \n"
     ]
    },
    {
     "name": "stdout",
     "output_type": "stream",
     "text": [
      "Gurobi Optimizer version 9.1.2 build v9.1.2rc0 (win64)\n"
     ]
    },
    {
     "name": "stderr",
     "output_type": "stream",
     "text": [
      "2023-04-27 09:58:59,745 - INFO - Gurobi Optimizer version 9.1.2 build v9.1.2rc0 (win64)\n"
     ]
    },
    {
     "name": "stdout",
     "output_type": "stream",
     "text": [
      "Thread count: 24 physical cores, 48 logical processors, using up to 24 threads\n"
     ]
    },
    {
     "name": "stderr",
     "output_type": "stream",
     "text": [
      "2023-04-27 09:58:59,749 - INFO - Thread count: 24 physical cores, 48 logical processors, using up to 24 threads\n"
     ]
    },
    {
     "name": "stdout",
     "output_type": "stream",
     "text": [
      "Optimize a model with 80 rows, 658 columns and 1636 nonzeros\n"
     ]
    },
    {
     "name": "stderr",
     "output_type": "stream",
     "text": [
      "2023-04-27 09:58:59,751 - INFO - Optimize a model with 80 rows, 658 columns and 1636 nonzeros\n"
     ]
    },
    {
     "name": "stdout",
     "output_type": "stream",
     "text": [
      "Model fingerprint: 0xe3a9234d\n"
     ]
    },
    {
     "name": "stderr",
     "output_type": "stream",
     "text": [
      "2023-04-27 09:58:59,753 - INFO - Model fingerprint: 0xe3a9234d\n"
     ]
    },
    {
     "name": "stdout",
     "output_type": "stream",
     "text": [
      "Variable types: 14 continuous, 644 integer (644 binary)\n"
     ]
    },
    {
     "name": "stderr",
     "output_type": "stream",
     "text": [
      "2023-04-27 09:58:59,755 - INFO - Variable types: 14 continuous, 644 integer (644 binary)\n"
     ]
    },
    {
     "name": "stdout",
     "output_type": "stream",
     "text": [
      "Coefficient statistics:\n"
     ]
    },
    {
     "name": "stderr",
     "output_type": "stream",
     "text": [
      "2023-04-27 09:58:59,758 - INFO - Coefficient statistics:\n"
     ]
    },
    {
     "name": "stdout",
     "output_type": "stream",
     "text": [
      "  Matrix range     [1e+00, 5e+05]\n"
     ]
    },
    {
     "name": "stderr",
     "output_type": "stream",
     "text": [
      "2023-04-27 09:58:59,760 - INFO -   Matrix range     [1e+00, 5e+05]\n"
     ]
    },
    {
     "name": "stdout",
     "output_type": "stream",
     "text": [
      "  Objective range  [1e-01, 7e+00]\n"
     ]
    },
    {
     "name": "stderr",
     "output_type": "stream",
     "text": [
      "2023-04-27 09:58:59,763 - INFO -   Objective range  [1e-01, 7e+00]\n"
     ]
    },
    {
     "name": "stdout",
     "output_type": "stream",
     "text": [
      "  Bounds range     [1e+00, 8e+05]\n"
     ]
    },
    {
     "name": "stderr",
     "output_type": "stream",
     "text": [
      "2023-04-27 09:58:59,765 - INFO -   Bounds range     [1e+00, 8e+05]\n"
     ]
    },
    {
     "name": "stdout",
     "output_type": "stream",
     "text": [
      "  RHS range        [1e+00, 8e+05]\n"
     ]
    },
    {
     "name": "stderr",
     "output_type": "stream",
     "text": [
      "2023-04-27 09:58:59,768 - INFO -   RHS range        [1e+00, 8e+05]\n"
     ]
    },
    {
     "name": "stdout",
     "output_type": "stream",
     "text": [
      "\n"
     ]
    },
    {
     "name": "stderr",
     "output_type": "stream",
     "text": [
      "2023-04-27 09:58:59,771 - INFO - \n"
     ]
    },
    {
     "name": "stdout",
     "output_type": "stream",
     "text": [
      "Warning: Completing partial solution with 598 unfixed non-continuous variables out of 644\n"
     ]
    },
    {
     "name": "stderr",
     "output_type": "stream",
     "text": [
      "2023-04-27 09:58:59,773 - INFO - Warning: Completing partial solution with 598 unfixed non-continuous variables out of 644\n"
     ]
    },
    {
     "name": "stdout",
     "output_type": "stream",
     "text": [
      "User MIP start produced solution with objective -106763 (0.03s)\n"
     ]
    },
    {
     "name": "stderr",
     "output_type": "stream",
     "text": [
      "2023-04-27 09:58:59,783 - INFO - User MIP start produced solution with objective -106763 (0.03s)\n"
     ]
    },
    {
     "name": "stdout",
     "output_type": "stream",
     "text": [
      "Loaded user MIP start with objective -106763\n"
     ]
    },
    {
     "name": "stderr",
     "output_type": "stream",
     "text": [
      "2023-04-27 09:58:59,788 - INFO - Loaded user MIP start with objective -106763\n"
     ]
    },
    {
     "name": "stdout",
     "output_type": "stream",
     "text": [
      "\n"
     ]
    },
    {
     "name": "stderr",
     "output_type": "stream",
     "text": [
      "2023-04-27 09:58:59,790 - INFO - \n"
     ]
    },
    {
     "name": "stdout",
     "output_type": "stream",
     "text": [
      "Presolve time: 0.01s\n"
     ]
    },
    {
     "name": "stderr",
     "output_type": "stream",
     "text": [
      "2023-04-27 09:58:59,800 - INFO - Presolve time: 0.01s\n"
     ]
    },
    {
     "name": "stdout",
     "output_type": "stream",
     "text": [
      "Presolved: 80 rows, 658 columns, 1636 nonzeros\n"
     ]
    },
    {
     "name": "stderr",
     "output_type": "stream",
     "text": [
      "2023-04-27 09:58:59,803 - INFO - Presolved: 80 rows, 658 columns, 1636 nonzeros\n"
     ]
    },
    {
     "name": "stdout",
     "output_type": "stream",
     "text": [
      "Variable types: 0 continuous, 658 integer (644 binary)\n"
     ]
    },
    {
     "name": "stderr",
     "output_type": "stream",
     "text": [
      "2023-04-27 09:58:59,809 - INFO - Variable types: 0 continuous, 658 integer (644 binary)\n"
     ]
    },
    {
     "name": "stdout",
     "output_type": "stream",
     "text": [
      "\n"
     ]
    },
    {
     "name": "stderr",
     "output_type": "stream",
     "text": [
      "2023-04-27 09:58:59,811 - INFO - \n"
     ]
    },
    {
     "name": "stdout",
     "output_type": "stream",
     "text": [
      "Concurrent LP optimizer: primal simplex, dual simplex, and barrier\n"
     ]
    },
    {
     "name": "stderr",
     "output_type": "stream",
     "text": [
      "2023-04-27 09:58:59,814 - INFO - Concurrent LP optimizer: primal simplex, dual simplex, and barrier\n"
     ]
    },
    {
     "name": "stdout",
     "output_type": "stream",
     "text": [
      "Showing barrier log only...\n"
     ]
    },
    {
     "name": "stderr",
     "output_type": "stream",
     "text": [
      "2023-04-27 09:58:59,816 - INFO - Showing barrier log only...\n"
     ]
    },
    {
     "name": "stdout",
     "output_type": "stream",
     "text": [
      "\n"
     ]
    },
    {
     "name": "stderr",
     "output_type": "stream",
     "text": [
      "2023-04-27 09:58:59,817 - INFO - \n"
     ]
    },
    {
     "name": "stdout",
     "output_type": "stream",
     "text": [
      "Root barrier log...\n"
     ]
    },
    {
     "name": "stderr",
     "output_type": "stream",
     "text": [
      "2023-04-27 09:58:59,824 - INFO - Root barrier log...\n"
     ]
    },
    {
     "name": "stdout",
     "output_type": "stream",
     "text": [
      "\n"
     ]
    },
    {
     "name": "stderr",
     "output_type": "stream",
     "text": [
      "2023-04-27 09:58:59,826 - INFO - \n"
     ]
    },
    {
     "name": "stdout",
     "output_type": "stream",
     "text": [
      "Ordering time: 0.00s\n"
     ]
    },
    {
     "name": "stderr",
     "output_type": "stream",
     "text": [
      "2023-04-27 09:58:59,827 - INFO - Ordering time: 0.00s\n"
     ]
    },
    {
     "name": "stdout",
     "output_type": "stream",
     "text": [
      "\n"
     ]
    },
    {
     "name": "stderr",
     "output_type": "stream",
     "text": [
      "2023-04-27 09:58:59,829 - INFO - \n"
     ]
    },
    {
     "name": "stdout",
     "output_type": "stream",
     "text": [
      "Barrier performed 0 iterations in 0.08 seconds\n"
     ]
    },
    {
     "name": "stderr",
     "output_type": "stream",
     "text": [
      "2023-04-27 09:58:59,830 - INFO - Barrier performed 0 iterations in 0.08 seconds\n"
     ]
    },
    {
     "name": "stdout",
     "output_type": "stream",
     "text": [
      "Barrier solve interrupted - model solved by another algorithm\n"
     ]
    },
    {
     "name": "stderr",
     "output_type": "stream",
     "text": [
      "2023-04-27 09:58:59,832 - INFO - Barrier solve interrupted - model solved by another algorithm\n"
     ]
    },
    {
     "name": "stdout",
     "output_type": "stream",
     "text": [
      "\n"
     ]
    },
    {
     "name": "stderr",
     "output_type": "stream",
     "text": [
      "2023-04-27 09:58:59,834 - INFO - \n"
     ]
    },
    {
     "name": "stdout",
     "output_type": "stream",
     "text": [
      "\n"
     ]
    },
    {
     "name": "stderr",
     "output_type": "stream",
     "text": [
      "2023-04-27 09:58:59,835 - INFO - \n"
     ]
    },
    {
     "name": "stdout",
     "output_type": "stream",
     "text": [
      "Solved with dual simplex\n"
     ]
    },
    {
     "name": "stderr",
     "output_type": "stream",
     "text": [
      "2023-04-27 09:58:59,837 - INFO - Solved with dual simplex\n"
     ]
    },
    {
     "name": "stdout",
     "output_type": "stream",
     "text": [
      "\n"
     ]
    },
    {
     "name": "stderr",
     "output_type": "stream",
     "text": [
      "2023-04-27 09:58:59,839 - INFO - \n"
     ]
    },
    {
     "name": "stdout",
     "output_type": "stream",
     "text": [
      "Root relaxation: objective -1.662637e+06, 295 iterations, 0.03 seconds\n"
     ]
    },
    {
     "name": "stderr",
     "output_type": "stream",
     "text": [
      "2023-04-27 09:58:59,841 - INFO - Root relaxation: objective -1.662637e+06, 295 iterations, 0.03 seconds\n"
     ]
    },
    {
     "name": "stdout",
     "output_type": "stream",
     "text": [
      "\n"
     ]
    },
    {
     "name": "stderr",
     "output_type": "stream",
     "text": [
      "2023-04-27 09:58:59,845 - INFO - \n"
     ]
    },
    {
     "name": "stdout",
     "output_type": "stream",
     "text": [
      "    Nodes    |    Current Node    |     Objective Bounds      |     Work\n"
     ]
    },
    {
     "name": "stderr",
     "output_type": "stream",
     "text": [
      "2023-04-27 09:58:59,847 - INFO -     Nodes    |    Current Node    |     Objective Bounds      |     Work\n"
     ]
    },
    {
     "name": "stdout",
     "output_type": "stream",
     "text": [
      " Expl Unexpl |  Obj  Depth IntInf | Incumbent    BestBd   Gap | It/Node Time\n"
     ]
    },
    {
     "name": "stderr",
     "output_type": "stream",
     "text": [
      "2023-04-27 09:58:59,849 - INFO -  Expl Unexpl |  Obj  Depth IntInf | Incumbent    BestBd   Gap | It/Node Time\n"
     ]
    },
    {
     "name": "stdout",
     "output_type": "stream",
     "text": [
      "\n"
     ]
    },
    {
     "name": "stderr",
     "output_type": "stream",
     "text": [
      "2023-04-27 09:58:59,850 - INFO - \n"
     ]
    },
    {
     "name": "stdout",
     "output_type": "stream",
     "text": [
      "     0     0 -1662636.7    0   35 -106763.07 -1662636.7  1457%     -    0s\n"
     ]
    },
    {
     "name": "stderr",
     "output_type": "stream",
     "text": [
      "2023-04-27 09:58:59,852 - INFO -      0     0 -1662636.7    0   35 -106763.07 -1662636.7  1457%     -    0s\n"
     ]
    },
    {
     "name": "stdout",
     "output_type": "stream",
     "text": [
      "     0     0 -1660802.4    0   44 -106763.07 -1660802.4  1456%     -    0s\n"
     ]
    },
    {
     "name": "stderr",
     "output_type": "stream",
     "text": [
      "2023-04-27 09:58:59,873 - INFO -      0     0 -1660802.4    0   44 -106763.07 -1660802.4  1456%     -    0s\n"
     ]
    },
    {
     "name": "stdout",
     "output_type": "stream",
     "text": [
      "     0     0 -1660454.5    0   49 -106763.07 -1660454.5  1455%     -    0s\n"
     ]
    },
    {
     "name": "stderr",
     "output_type": "stream",
     "text": [
      "2023-04-27 09:58:59,890 - INFO -      0     0 -1660454.5    0   49 -106763.07 -1660454.5  1455%     -    0s\n"
     ]
    },
    {
     "name": "stdout",
     "output_type": "stream",
     "text": [
      "     0     0 -1660442.3    0   49 -106763.07 -1660442.3  1455%     -    0s\n"
     ]
    },
    {
     "name": "stderr",
     "output_type": "stream",
     "text": [
      "2023-04-27 09:58:59,901 - INFO -      0     0 -1660442.3    0   49 -106763.07 -1660442.3  1455%     -    0s\n"
     ]
    },
    {
     "name": "stdout",
     "output_type": "stream",
     "text": [
      "     0     0 -1650229.4    0   50 -106763.07 -1650229.4  1446%     -    0s\n"
     ]
    },
    {
     "name": "stderr",
     "output_type": "stream",
     "text": [
      "2023-04-27 09:58:59,924 - INFO -      0     0 -1650229.4    0   50 -106763.07 -1650229.4  1446%     -    0s\n"
     ]
    },
    {
     "name": "stdout",
     "output_type": "stream",
     "text": [
      "     0     0 -1650210.6    0   51 -106763.07 -1650210.6  1446%     -    0s\n"
     ]
    },
    {
     "name": "stderr",
     "output_type": "stream",
     "text": [
      "2023-04-27 09:58:59,933 - INFO -      0     0 -1650210.6    0   51 -106763.07 -1650210.6  1446%     -    0s\n"
     ]
    },
    {
     "name": "stdout",
     "output_type": "stream",
     "text": [
      "     0     0 -1650207.2    0   55 -106763.07 -1650207.2  1446%     -    0s\n"
     ]
    },
    {
     "name": "stderr",
     "output_type": "stream",
     "text": [
      "2023-04-27 09:58:59,939 - INFO -      0     0 -1650207.2    0   55 -106763.07 -1650207.2  1446%     -    0s\n"
     ]
    },
    {
     "name": "stdout",
     "output_type": "stream",
     "text": [
      "     0     0 -1637893.6    0   55 -106763.07 -1637893.6  1434%     -    0s\n"
     ]
    },
    {
     "name": "stderr",
     "output_type": "stream",
     "text": [
      "2023-04-27 09:58:59,955 - INFO -      0     0 -1637893.6    0   55 -106763.07 -1637893.6  1434%     -    0s\n"
     ]
    },
    {
     "name": "stdout",
     "output_type": "stream",
     "text": [
      "     0     0 -1637839.5    0   70 -106763.07 -1637839.5  1434%     -    0s\n"
     ]
    },
    {
     "name": "stderr",
     "output_type": "stream",
     "text": [
      "2023-04-27 09:58:59,998 - INFO -      0     0 -1637839.5    0   70 -106763.07 -1637839.5  1434%     -    0s\n"
     ]
    },
    {
     "name": "stdout",
     "output_type": "stream",
     "text": [
      "     0     0 -1637780.4    0   66 -106763.07 -1637780.4  1434%     -    0s\n"
     ]
    },
    {
     "name": "stderr",
     "output_type": "stream",
     "text": [
      "2023-04-27 09:59:00,005 - INFO -      0     0 -1637780.4    0   66 -106763.07 -1637780.4  1434%     -    0s\n"
     ]
    },
    {
     "name": "stdout",
     "output_type": "stream",
     "text": [
      "     0     0 -1637772.4    0   66 -106763.07 -1637772.4  1434%     -    0s\n"
     ]
    },
    {
     "name": "stderr",
     "output_type": "stream",
     "text": [
      "2023-04-27 09:59:00,012 - INFO -      0     0 -1637772.4    0   66 -106763.07 -1637772.4  1434%     -    0s\n"
     ]
    },
    {
     "name": "stdout",
     "output_type": "stream",
     "text": [
      "     0     0 -1637737.9    0   80 -106763.07 -1637737.9  1434%     -    0s\n"
     ]
    },
    {
     "name": "stderr",
     "output_type": "stream",
     "text": [
      "2023-04-27 09:59:00,027 - INFO -      0     0 -1637737.9    0   80 -106763.07 -1637737.9  1434%     -    0s\n"
     ]
    },
    {
     "name": "stdout",
     "output_type": "stream",
     "text": [
      "     0     0 -1637737.4    0   80 -106763.07 -1637737.4  1434%     -    0s\n"
     ]
    },
    {
     "name": "stderr",
     "output_type": "stream",
     "text": [
      "2023-04-27 09:59:00,062 - INFO -      0     0 -1637737.4    0   80 -106763.07 -1637737.4  1434%     -    0s\n"
     ]
    },
    {
     "name": "stdout",
     "output_type": "stream",
     "text": [
      "     0     0 -1637737.4    0   80 -106763.07 -1637737.4  1434%     -    0s\n"
     ]
    },
    {
     "name": "stderr",
     "output_type": "stream",
     "text": [
      "2023-04-27 09:59:00,075 - INFO -      0     0 -1637737.4    0   80 -106763.07 -1637737.4  1434%     -    0s\n"
     ]
    },
    {
     "name": "stdout",
     "output_type": "stream",
     "text": [
      "     0     2 -1635389.3    0   82 -106763.07 -1635389.3  1432%     -    0s\n"
     ]
    },
    {
     "name": "stderr",
     "output_type": "stream",
     "text": [
      "2023-04-27 09:59:00,650 - INFO -      0     2 -1635389.3    0   82 -106763.07 -1635389.3  1432%     -    0s\n"
     ]
    },
    {
     "name": "stdout",
     "output_type": "stream",
     "text": [
      "H 2871  2158                    -123677.1918 -1626982.4  1216%  10.6    4s\n"
     ]
    },
    {
     "name": "stderr",
     "output_type": "stream",
     "text": [
      "2023-04-27 09:59:04,034 - INFO - H 2871  2158                    -123677.1918 -1626982.4  1216%  10.6    4s\n"
     ]
    },
    {
     "name": "stdout",
     "output_type": "stream",
     "text": [
      "H 2872  2057                    -203601.8489 -1626982.4   699%  10.6    4s\n"
     ]
    },
    {
     "name": "stderr",
     "output_type": "stream",
     "text": [
      "2023-04-27 09:59:04,039 - INFO - H 2872  2057                    -203601.8489 -1626982.4   699%  10.6    4s\n"
     ]
    },
    {
     "name": "stdout",
     "output_type": "stream",
     "text": [
      "  2956  2137 -1599379.6   25   62 -203601.85 -1626982.4   699%  10.9    5s\n"
     ]
    },
    {
     "name": "stderr",
     "output_type": "stream",
     "text": [
      "2023-04-27 09:59:04,790 - INFO -   2956  2137 -1599379.6   25   62 -203601.85 -1626982.4   699%  10.9    5s\n"
     ]
    },
    {
     "name": "stdout",
     "output_type": "stream",
     "text": [
      "H 3033  2033                    -228136.3383 -1626982.4   613%  11.2    9s\n"
     ]
    },
    {
     "name": "stderr",
     "output_type": "stream",
     "text": [
      "2023-04-27 09:59:09,132 - INFO - H 3033  2033                    -228136.3383 -1626982.4   613%  11.2    9s\n"
     ]
    },
    {
     "name": "stdout",
     "output_type": "stream",
     "text": [
      "H 3044  1938                    -228414.0059 -1626982.4   612%  11.2    9s\n"
     ]
    },
    {
     "name": "stderr",
     "output_type": "stream",
     "text": [
      "2023-04-27 09:59:09,203 - INFO - H 3044  1938                    -228414.0059 -1626982.4   612%  11.2    9s\n"
     ]
    },
    {
     "name": "stdout",
     "output_type": "stream",
     "text": [
      "  3145  2010 -1571615.1   28   72 -228414.01 -1626982.4   612%  11.5   10s\n"
     ]
    },
    {
     "name": "stderr",
     "output_type": "stream",
     "text": [
      "2023-04-27 09:59:09,918 - INFO -   3145  2010 -1571615.1   28   72 -228414.01 -1626982.4   612%  11.5   10s\n"
     ]
    },
    {
     "name": "stdout",
     "output_type": "stream",
     "text": [
      "H 3283  1997                    -228872.8756 -1626982.4   611%  11.7   12s\n"
     ]
    },
    {
     "name": "stderr",
     "output_type": "stream",
     "text": [
      "2023-04-27 09:59:12,144 - INFO - H 3283  1997                    -228872.8756 -1626982.4   611%  11.7   12s\n"
     ]
    },
    {
     "name": "stdout",
     "output_type": "stream",
     "text": [
      "H 3303  1907                    -241502.8603 -1626982.4   574%  11.7   12s\n"
     ]
    },
    {
     "name": "stderr",
     "output_type": "stream",
     "text": [
      "2023-04-27 09:59:12,184 - INFO - H 3303  1907                    -241502.8603 -1626982.4   574%  11.7   12s\n"
     ]
    },
    {
     "name": "stdout",
     "output_type": "stream",
     "text": [
      " 14101  8523 -1325814.7   34   54 -241502.86 -1591060.1   559%  14.2   15s\n"
     ]
    },
    {
     "name": "stderr",
     "output_type": "stream",
     "text": [
      "2023-04-27 09:59:14,776 - INFO -  14101  8523 -1325814.7   34   54 -241502.86 -1591060.1   559%  14.2   15s\n"
     ]
    },
    {
     "name": "stdout",
     "output_type": "stream",
     "text": [
      " 73117 49556 -1327716.1   52   29 -241502.86 -1460378.0   505%  12.3   20s\n"
     ]
    },
    {
     "name": "stderr",
     "output_type": "stream",
     "text": [
      "2023-04-27 09:59:20,228 - INFO -  73117 49556 -1327716.1   52   29 -241502.86 -1460378.0   505%  12.3   20s\n"
     ]
    },
    {
     "name": "stdout",
     "output_type": "stream",
     "text": [
      " 110107 72361 infeasible   79      -241502.86 -1458448.2   504%  12.0   25s\n"
     ]
    },
    {
     "name": "stderr",
     "output_type": "stream",
     "text": [
      "2023-04-27 09:59:25,177 - INFO -  110107 72361 infeasible   79      -241502.86 -1458448.2   504%  12.0   25s\n"
     ]
    },
    {
     "name": "stdout",
     "output_type": "stream",
     "text": [
      " 149988 97475 -1268648.6   65   38 -241502.86 -1452952.7   502%  12.1   30s\n"
     ]
    },
    {
     "name": "stderr",
     "output_type": "stream",
     "text": [
      "2023-04-27 09:59:30,061 - INFO -  149988 97475 -1268648.6   65   38 -241502.86 -1452952.7   502%  12.1   30s\n"
     ]
    },
    {
     "name": "stdout",
     "output_type": "stream",
     "text": [
      " 182675 118315 -1345689.7   51   49 -241502.86 -1449817.0   500%  12.5   35s\n"
     ]
    },
    {
     "name": "stderr",
     "output_type": "stream",
     "text": [
      "2023-04-27 09:59:34,873 - INFO -  182675 118315 -1345689.7   51   49 -241502.86 -1449817.0   500%  12.5   35s\n"
     ]
    },
    {
     "name": "stdout",
     "output_type": "stream",
     "text": [
      " 206158 131773 -1171696.0   54   58 -241502.86 -1442147.8   497%  13.5   40s\n"
     ]
    },
    {
     "name": "stderr",
     "output_type": "stream",
     "text": [
      "2023-04-27 09:59:39,812 - INFO -  206158 131773 -1171696.0   54   58 -241502.86 -1442147.8   497%  13.5   40s\n"
     ]
    },
    {
     "name": "stdout",
     "output_type": "stream",
     "text": [
      " 234213 146692 -1173879.5   73   71 -241502.86 -1435674.7   494%  15.5   45s\n"
     ]
    },
    {
     "name": "stderr",
     "output_type": "stream",
     "text": [
      "2023-04-27 09:59:44,992 - INFO -  234213 146692 -1173879.5   73   71 -241502.86 -1435674.7   494%  15.5   45s\n"
     ]
    },
    {
     "name": "stdout",
     "output_type": "stream",
     "text": [
      " 261453 161755 infeasible   43      -241502.86 -1431506.8   493%  17.0   50s\n"
     ]
    },
    {
     "name": "stderr",
     "output_type": "stream",
     "text": [
      "2023-04-27 09:59:49,927 - INFO -  261453 161755 infeasible   43      -241502.86 -1431506.8   493%  17.0   50s\n"
     ]
    },
    {
     "name": "stdout",
     "output_type": "stream",
     "text": [
      " 291400 177743 infeasible   53      -241502.86 -1425912.0   490%  18.6   55s\n"
     ]
    },
    {
     "name": "stderr",
     "output_type": "stream",
     "text": [
      "2023-04-27 09:59:54,756 - INFO -  291400 177743 infeasible   53      -241502.86 -1425912.0   490%  18.6   55s\n"
     ]
    },
    {
     "name": "stdout",
     "output_type": "stream",
     "text": [
      " 319745 192580 infeasible   33      -241502.86 -1420700.5   488%  19.9   60s\n"
     ]
    },
    {
     "name": "stderr",
     "output_type": "stream",
     "text": [
      "2023-04-27 09:59:59,883 - INFO -  319745 192580 infeasible   33      -241502.86 -1420700.5   488%  19.9   60s\n"
     ]
    },
    {
     "name": "stdout",
     "output_type": "stream",
     "text": [
      " 346344 202572 -1330913.9   34   94 -241502.86 -1407568.2   483%  21.6   65s\n"
     ]
    },
    {
     "name": "stderr",
     "output_type": "stream",
     "text": [
      "2023-04-27 10:00:04,900 - INFO -  346344 202572 -1330913.9   34   94 -241502.86 -1407568.2   483%  21.6   65s\n"
     ]
    },
    {
     "name": "stdout",
     "output_type": "stream",
     "text": [
      "H373408 213579                    -258416.9825 -1386193.2   436%  22.6   69s\n"
     ]
    },
    {
     "name": "stderr",
     "output_type": "stream",
     "text": [
      "2023-04-27 10:00:09,606 - INFO - H373408 213579                    -258416.9825 -1386193.2   436%  22.6   69s\n"
     ]
    },
    {
     "name": "stdout",
     "output_type": "stream",
     "text": [
      "H373940 213464                    -496802.5508 -1386193.2   179%  22.7   69s\n"
     ]
    },
    {
     "name": "stderr",
     "output_type": "stream",
     "text": [
      "2023-04-27 10:00:09,674 - INFO - H373940 213464                    -496802.5508 -1386193.2   179%  22.7   69s\n"
     ]
    },
    {
     "name": "stdout",
     "output_type": "stream",
     "text": [
      " 373960 214003 infeasible   63      -496802.55 -1386005.2   179%  22.7   70s\n"
     ]
    },
    {
     "name": "stderr",
     "output_type": "stream",
     "text": [
      "2023-04-27 10:00:10,187 - INFO -  373960 214003 infeasible   63      -496802.55 -1386005.2   179%  22.7   70s\n"
     ]
    },
    {
     "name": "stdout",
     "output_type": "stream",
     "text": [
      " 407655 232543 infeasible   53      -496802.55 -1377518.0   177%  23.2   75s\n"
     ]
    },
    {
     "name": "stderr",
     "output_type": "stream",
     "text": [
      "2023-04-27 10:00:14,804 - INFO -  407655 232543 infeasible   53      -496802.55 -1377518.0   177%  23.2   75s\n"
     ]
    },
    {
     "name": "stdout",
     "output_type": "stream",
     "text": [
      "H421339 239063                    -501788.8384 -1375304.7   174%  23.5   76s\n"
     ]
    },
    {
     "name": "stderr",
     "output_type": "stream",
     "text": [
      "2023-04-27 10:00:16,666 - INFO - H421339 239063                    -501788.8384 -1375304.7   174%  23.5   76s\n"
     ]
    },
    {
     "name": "stdout",
     "output_type": "stream",
     "text": [
      " 441003 249466 -1307261.4   35   87 -501788.84 -1372065.0   173%  24.0   80s\n"
     ]
    },
    {
     "name": "stderr",
     "output_type": "stream",
     "text": [
      "2023-04-27 10:00:19,857 - INFO -  441003 249466 -1307261.4   35   87 -501788.84 -1372065.0   173%  24.0   80s\n"
     ]
    },
    {
     "name": "stdout",
     "output_type": "stream",
     "text": [
      " 471877 262683 -1161427.8   63   65 -501788.84 -1365999.2   172%  24.9   85s\n"
     ]
    },
    {
     "name": "stderr",
     "output_type": "stream",
     "text": [
      "2023-04-27 10:00:24,974 - INFO -  471877 262683 -1161427.8   63   65 -501788.84 -1365999.2   172%  24.9   85s\n"
     ]
    },
    {
     "name": "stdout",
     "output_type": "stream",
     "text": [
      " 500562 275925 -1334093.1   38   77 -501788.84 -1361710.8   171%  25.6   90s\n"
     ]
    },
    {
     "name": "stderr",
     "output_type": "stream",
     "text": [
      "2023-04-27 10:00:29,935 - INFO -  500562 275925 -1334093.1   38   77 -501788.84 -1361710.8   171%  25.6   90s\n"
     ]
    },
    {
     "name": "stdout",
     "output_type": "stream",
     "text": [
      " 515989 282655 -1284909.0   47   56 -501788.84 -1360084.4   171%  26.0   95s\n"
     ]
    },
    {
     "name": "stderr",
     "output_type": "stream",
     "text": [
      "2023-04-27 10:00:35,041 - INFO -  515989 282655 -1284909.0   47   56 -501788.84 -1360084.4   171%  26.0   95s\n"
     ]
    },
    {
     "name": "stdout",
     "output_type": "stream",
     "text": [
      " 536249 290648 -1171325.5   43   72 -501788.84 -1356971.8   170%  26.5  100s\n"
     ]
    },
    {
     "name": "stderr",
     "output_type": "stream",
     "text": [
      "2023-04-27 10:00:39,827 - INFO -  536249 290648 -1171325.5   43   72 -501788.84 -1356971.8   170%  26.5  100s\n"
     ]
    },
    {
     "name": "stdout",
     "output_type": "stream",
     "text": [
      " 554859 298173 -1144428.4   43   96 -501788.84 -1354365.4   170%  27.0  105s\n"
     ]
    },
    {
     "name": "stderr",
     "output_type": "stream",
     "text": [
      "2023-04-27 10:00:44,796 - INFO -  554859 298173 -1144428.4   43   96 -501788.84 -1354365.4   170%  27.0  105s\n"
     ]
    },
    {
     "name": "stdout",
     "output_type": "stream",
     "text": [
      " 576921 307821 infeasible   68      -501788.84 -1351683.2   169%  27.7  110s\n"
     ]
    },
    {
     "name": "stderr",
     "output_type": "stream",
     "text": [
      "2023-04-27 10:00:50,081 - INFO -  576921 307821 infeasible   68      -501788.84 -1351683.2   169%  27.7  110s\n"
     ]
    },
    {
     "name": "stdout",
     "output_type": "stream",
     "text": [
      " 597870 316732 -1268959.3   44   77 -501788.84 -1349444.2   169%  28.2  115s\n"
     ]
    },
    {
     "name": "stderr",
     "output_type": "stream",
     "text": [
      "2023-04-27 10:00:54,969 - INFO -  597870 316732 -1268959.3   44   77 -501788.84 -1349444.2   169%  28.2  115s\n"
     ]
    },
    {
     "name": "stdout",
     "output_type": "stream",
     "text": [
      " 615228 324320 -1315071.2   51   71 -501788.84 -1347741.9   169%  28.7  120s\n"
     ]
    },
    {
     "name": "stderr",
     "output_type": "stream",
     "text": [
      "2023-04-27 10:00:59,940 - INFO -  615228 324320 -1315071.2   51   71 -501788.84 -1347741.9   169%  28.7  120s\n"
     ]
    },
    {
     "name": "stdout",
     "output_type": "stream",
     "text": [
      " 633570 332430 -1231582.9   60   84 -501788.84 -1345952.3   168%  29.2  125s\n"
     ]
    },
    {
     "name": "stderr",
     "output_type": "stream",
     "text": [
      "2023-04-27 10:01:04,804 - INFO -  633570 332430 -1231582.9   60   84 -501788.84 -1345952.3   168%  29.2  125s\n"
     ]
    },
    {
     "name": "stdout",
     "output_type": "stream",
     "text": [
      "H635198 332887                    -511170.4376 -1345948.5   163%  29.2  125s\n"
     ]
    },
    {
     "name": "stderr",
     "output_type": "stream",
     "text": [
      "2023-04-27 10:01:05,169 - INFO - H635198 332887                    -511170.4376 -1345948.5   163%  29.2  125s\n"
     ]
    },
    {
     "name": "stdout",
     "output_type": "stream",
     "text": [
      " 652787 340863 -1175903.1   47   63 -511170.44 -1344729.9   163%  29.6  130s\n"
     ]
    },
    {
     "name": "stderr",
     "output_type": "stream",
     "text": [
      "2023-04-27 10:01:09,845 - INFO -  652787 340863 -1175903.1   47   63 -511170.44 -1344729.9   163%  29.6  130s\n"
     ]
    },
    {
     "name": "stdout",
     "output_type": "stream",
     "text": [
      " 672762 349421 -1075363.0   49  103 -511170.44 -1343148.9   163%  30.1  135s\n"
     ]
    },
    {
     "name": "stderr",
     "output_type": "stream",
     "text": [
      "2023-04-27 10:01:15,200 - INFO -  672762 349421 -1075363.0   49  103 -511170.44 -1343148.9   163%  30.1  135s\n"
     ]
    },
    {
     "name": "stdout",
     "output_type": "stream",
     "text": [
      " 690114 357359 -1163736.0   45   99 -511170.44 -1341906.0   163%  30.6  140s\n"
     ]
    },
    {
     "name": "stderr",
     "output_type": "stream",
     "text": [
      "2023-04-27 10:01:19,926 - INFO -  690114 357359 -1163736.0   45   99 -511170.44 -1341906.0   163%  30.6  140s\n"
     ]
    },
    {
     "name": "stdout",
     "output_type": "stream",
     "text": [
      " 706501 364758 -1334395.4   39  103 -511170.44 -1340954.2   162%  31.1  145s\n"
     ]
    },
    {
     "name": "stderr",
     "output_type": "stream",
     "text": [
      "2023-04-27 10:01:24,816 - INFO -  706501 364758 -1334395.4   39  103 -511170.44 -1340954.2   162%  31.1  145s\n"
     ]
    },
    {
     "name": "stdout",
     "output_type": "stream",
     "text": [
      " 723122 371866 -1276350.8   53   79 -511170.44 -1340037.7   162%  31.6  150s\n"
     ]
    },
    {
     "name": "stderr",
     "output_type": "stream",
     "text": [
      "2023-04-27 10:01:29,819 - INFO -  723122 371866 -1276350.8   53   79 -511170.44 -1340037.7   162%  31.6  150s\n"
     ]
    },
    {
     "name": "stdout",
     "output_type": "stream",
     "text": [
      " 742855 380919 infeasible   54      -511170.44 -1339053.2   162%  32.1  155s\n"
     ]
    },
    {
     "name": "stderr",
     "output_type": "stream",
     "text": [
      "2023-04-27 10:01:34,917 - INFO -  742855 380919 infeasible   54      -511170.44 -1339053.2   162%  32.1  155s\n"
     ]
    },
    {
     "name": "stdout",
     "output_type": "stream",
     "text": [
      " 760795 388455 -1294361.3   45   92 -511170.44 -1338104.2   162%  32.5  160s\n"
     ]
    },
    {
     "name": "stderr",
     "output_type": "stream",
     "text": [
      "2023-04-27 10:01:40,057 - INFO -  760795 388455 -1294361.3   45   92 -511170.44 -1338104.2   162%  32.5  160s\n"
     ]
    },
    {
     "name": "stdout",
     "output_type": "stream",
     "text": [
      " 778431 395771 -1245013.8   44   81 -511170.44 -1337234.6   162%  33.0  165s\n"
     ]
    },
    {
     "name": "stderr",
     "output_type": "stream",
     "text": [
      "2023-04-27 10:01:44,957 - INFO -  778431 395771 -1245013.8   44   81 -511170.44 -1337234.6   162%  33.0  165s\n"
     ]
    },
    {
     "name": "stdout",
     "output_type": "stream",
     "text": [
      " 796019 403426 -1121396.1   51   53 -511170.44 -1336540.5   161%  33.5  170s\n"
     ]
    },
    {
     "name": "stderr",
     "output_type": "stream",
     "text": [
      "2023-04-27 10:01:50,008 - INFO -  796019 403426 -1121396.1   51   53 -511170.44 -1336540.5   161%  33.5  170s\n"
     ]
    },
    {
     "name": "stdout",
     "output_type": "stream",
     "text": [
      " 810028 409930 -1201990.9   41   82 -511170.44 -1336013.0   161%  33.8  175s\n"
     ]
    },
    {
     "name": "stderr",
     "output_type": "stream",
     "text": [
      "2023-04-27 10:01:54,755 - INFO -  810028 409930 -1201990.9   41   82 -511170.44 -1336013.0   161%  33.8  175s\n"
     ]
    },
    {
     "name": "stdout",
     "output_type": "stream",
     "text": [
      " 825325 416573 infeasible   45      -511170.44 -1335453.0   161%  34.2  180s\n"
     ]
    },
    {
     "name": "stderr",
     "output_type": "stream",
     "text": [
      "2023-04-27 10:01:59,914 - INFO -  825325 416573 infeasible   45      -511170.44 -1335453.0   161%  34.2  180s\n"
     ]
    },
    {
     "name": "stdout",
     "output_type": "stream",
     "text": [
      " 839846 423320 infeasible   56      -511170.44 -1334946.6   161%  34.5  185s\n"
     ]
    },
    {
     "name": "stderr",
     "output_type": "stream",
     "text": [
      "2023-04-27 10:02:05,201 - INFO -  839846 423320 infeasible   56      -511170.44 -1334946.6   161%  34.5  185s\n"
     ]
    },
    {
     "name": "stdout",
     "output_type": "stream",
     "text": [
      " 855579 432175     cutoff   53      -511170.44 -1334445.2   161%  34.8  190s\n"
     ]
    },
    {
     "name": "stderr",
     "output_type": "stream",
     "text": [
      "2023-04-27 10:02:10,366 - INFO -  855579 432175     cutoff   53      -511170.44 -1334445.2   161%  34.8  190s\n"
     ]
    },
    {
     "name": "stdout",
     "output_type": "stream",
     "text": [
      " 870480 438096 -1298354.3   44  109 -511170.44 -1333991.2   161%  35.0  195s\n"
     ]
    },
    {
     "name": "stderr",
     "output_type": "stream",
     "text": [
      "2023-04-27 10:02:15,118 - INFO -  870480 438096 -1298354.3   44  109 -511170.44 -1333991.2   161%  35.0  195s\n"
     ]
    },
    {
     "name": "stdout",
     "output_type": "stream",
     "text": [
      " 885694 444762 infeasible   54      -511170.44 -1333509.3   161%  35.3  200s\n"
     ]
    },
    {
     "name": "stderr",
     "output_type": "stream",
     "text": [
      "2023-04-27 10:02:19,849 - INFO -  885694 444762 infeasible   54      -511170.44 -1333509.3   161%  35.3  200s\n"
     ]
    },
    {
     "name": "stdout",
     "output_type": "stream",
     "text": [
      " 901577 451258 -1166523.1   50  101 -511170.44 -1332978.2   161%  35.7  205s\n"
     ]
    },
    {
     "name": "stderr",
     "output_type": "stream",
     "text": [
      "2023-04-27 10:02:24,963 - INFO -  901577 451258 -1166523.1   50  101 -511170.44 -1332978.2   161%  35.7  205s\n"
     ]
    },
    {
     "name": "stdout",
     "output_type": "stream",
     "text": [
      " 917950 458463 -1151769.4   69   66 -511170.44 -1332505.0   161%  36.0  210s\n"
     ]
    },
    {
     "name": "stderr",
     "output_type": "stream",
     "text": [
      "2023-04-27 10:02:29,833 - INFO -  917950 458463 -1151769.4   69   66 -511170.44 -1332505.0   161%  36.0  210s\n"
     ]
    },
    {
     "name": "stdout",
     "output_type": "stream",
     "text": [
      " 931776 463982 -1298644.4   52   73 -511170.44 -1332025.6   161%  36.3  215s\n"
     ]
    },
    {
     "name": "stderr",
     "output_type": "stream",
     "text": [
      "2023-04-27 10:02:34,916 - INFO -  931776 463982 -1298644.4   52   73 -511170.44 -1332025.6   161%  36.3  215s\n"
     ]
    },
    {
     "name": "stdout",
     "output_type": "stream",
     "text": [
      " 946036 469761 -1327714.3   41   91 -511170.44 -1331542.2   160%  36.6  220s\n"
     ]
    },
    {
     "name": "stderr",
     "output_type": "stream",
     "text": [
      "2023-04-27 10:02:39,859 - INFO -  946036 469761 -1327714.3   41   91 -511170.44 -1331542.2   160%  36.6  220s\n"
     ]
    },
    {
     "name": "stdout",
     "output_type": "stream",
     "text": [
      " 959773 475576     cutoff   57      -511170.44 -1331032.6   160%  36.9  225s\n"
     ]
    },
    {
     "name": "stderr",
     "output_type": "stream",
     "text": [
      "2023-04-27 10:02:44,923 - INFO -  959773 475576     cutoff   57      -511170.44 -1331032.6   160%  36.9  225s\n"
     ]
    },
    {
     "name": "stdout",
     "output_type": "stream",
     "text": [
      " 973399 481817 -1300422.8   41   95 -511170.44 -1330632.4   160%  37.2  230s\n"
     ]
    },
    {
     "name": "stderr",
     "output_type": "stream",
     "text": [
      "2023-04-27 10:02:50,083 - INFO -  973399 481817 -1300422.8   41   95 -511170.44 -1330632.4   160%  37.2  230s\n"
     ]
    },
    {
     "name": "stdout",
     "output_type": "stream",
     "text": [
      " 986489 487561 -841410.09   55   78 -511170.44 -1330217.3   160%  37.4  235s\n"
     ]
    },
    {
     "name": "stderr",
     "output_type": "stream",
     "text": [
      "2023-04-27 10:02:54,916 - INFO -  986489 487561 -841410.09   55   78 -511170.44 -1330217.3   160%  37.4  235s\n"
     ]
    },
    {
     "name": "stdout",
     "output_type": "stream",
     "text": [
      " 999107 492055 -1325338.7   34   84 -511170.44 -1329871.1   160%  37.6  240s\n"
     ]
    },
    {
     "name": "stderr",
     "output_type": "stream",
     "text": [
      "2023-04-27 10:02:59,786 - INFO -  999107 492055 -1325338.7   34   84 -511170.44 -1329871.1   160%  37.6  240s\n"
     ]
    },
    {
     "name": "stdout",
     "output_type": "stream",
     "text": [
      " 1014575 498265 -1327499.0   35   93 -511170.44 -1329453.3   160%  37.9  245s\n"
     ]
    },
    {
     "name": "stderr",
     "output_type": "stream",
     "text": [
      "2023-04-27 10:03:04,875 - INFO -  1014575 498265 -1327499.0   35   93 -511170.44 -1329453.3   160%  37.9  245s\n"
     ]
    },
    {
     "name": "stdout",
     "output_type": "stream",
     "text": [
      " 1029396 504146 -1094785.7   50   81 -511170.44 -1328982.1   160%  38.2  250s\n"
     ]
    },
    {
     "name": "stderr",
     "output_type": "stream",
     "text": [
      "2023-04-27 10:03:10,150 - INFO -  1029396 504146 -1094785.7   50   81 -511170.44 -1328982.1   160%  38.2  250s\n"
     ]
    },
    {
     "name": "stdout",
     "output_type": "stream",
     "text": [
      " 1041286 508553 -1127310.5   69   42 -511170.44 -1328617.3   160%  38.5  255s\n"
     ]
    },
    {
     "name": "stderr",
     "output_type": "stream",
     "text": [
      "2023-04-27 10:03:14,948 - INFO -  1041286 508553 -1127310.5   69   42 -511170.44 -1328617.3   160%  38.5  255s\n"
     ]
    },
    {
     "name": "stdout",
     "output_type": "stream",
     "text": [
      " 1054940 513432     cutoff   44      -511170.44 -1328219.7   160%  38.7  260s\n"
     ]
    },
    {
     "name": "stderr",
     "output_type": "stream",
     "text": [
      "2023-04-27 10:03:19,773 - INFO -  1054940 513432     cutoff   44      -511170.44 -1328219.7   160%  38.7  260s\n"
     ]
    },
    {
     "name": "stdout",
     "output_type": "stream",
     "text": [
      " 1066078 517326 -1030704.7   48   91 -511170.44 -1327931.3   160%  39.0  265s\n"
     ]
    },
    {
     "name": "stderr",
     "output_type": "stream",
     "text": [
      "2023-04-27 10:03:25,453 - INFO -  1066078 517326 -1030704.7   48   91 -511170.44 -1327931.3   160%  39.0  265s\n"
     ]
    },
    {
     "name": "stdout",
     "output_type": "stream",
     "text": [
      " 1078808 522307 -1145982.9   54   89 -511170.44 -1327561.0   160%  39.2  270s\n"
     ]
    },
    {
     "name": "stderr",
     "output_type": "stream",
     "text": [
      "2023-04-27 10:03:30,150 - INFO -  1078808 522307 -1145982.9   54   89 -511170.44 -1327561.0   160%  39.2  270s\n"
     ]
    },
    {
     "name": "stdout",
     "output_type": "stream",
     "text": [
      " 1090082 526232 -999575.98   57   81 -511170.44 -1327235.7   160%  39.4  275s\n"
     ]
    },
    {
     "name": "stderr",
     "output_type": "stream",
     "text": [
      "2023-04-27 10:03:35,086 - INFO -  1090082 526232 -999575.98   57   81 -511170.44 -1327235.7   160%  39.4  275s\n"
     ]
    },
    {
     "name": "stdout",
     "output_type": "stream",
     "text": [
      " 1102968 531393 -1185147.4   55   76 -511170.44 -1326823.8   160%  39.7  280s\n"
     ]
    },
    {
     "name": "stderr",
     "output_type": "stream",
     "text": [
      "2023-04-27 10:03:40,020 - INFO -  1102968 531393 -1185147.4   55   76 -511170.44 -1326823.8   160%  39.7  280s\n"
     ]
    },
    {
     "name": "stdout",
     "output_type": "stream",
     "text": [
      " 1115744 535744 -1115461.8   48   71 -511170.44 -1326527.9   160%  39.9  285s\n"
     ]
    },
    {
     "name": "stderr",
     "output_type": "stream",
     "text": [
      "2023-04-27 10:03:45,190 - INFO -  1115744 535744 -1115461.8   48   71 -511170.44 -1326527.9   160%  39.9  285s\n"
     ]
    },
    {
     "name": "stdout",
     "output_type": "stream",
     "text": [
      " 1127892 540469 -1294344.0   53   83 -511170.44 -1326214.7   159%  40.2  290s\n"
     ]
    },
    {
     "name": "stderr",
     "output_type": "stream",
     "text": [
      "2023-04-27 10:03:49,812 - INFO -  1127892 540469 -1294344.0   53   83 -511170.44 -1326214.7   159%  40.2  290s\n"
     ]
    },
    {
     "name": "stdout",
     "output_type": "stream",
     "text": [
      " 1142087 545694 -1323261.5   49   94 -511170.44 -1325882.3   159%  40.4  295s\n"
     ]
    },
    {
     "name": "stderr",
     "output_type": "stream",
     "text": [
      "2023-04-27 10:03:55,198 - INFO -  1142087 545694 -1323261.5   49   94 -511170.44 -1325882.3   159%  40.4  295s\n"
     ]
    },
    {
     "name": "stdout",
     "output_type": "stream",
     "text": [
      " 1152077 548731 -1300438.2   37   95 -511170.44 -1325636.1   159%  40.6  300s\n"
     ]
    },
    {
     "name": "stderr",
     "output_type": "stream",
     "text": [
      "2023-04-27 10:04:00,378 - INFO -  1152077 548731 -1300438.2   37   95 -511170.44 -1325636.1   159%  40.6  300s\n"
     ]
    },
    {
     "name": "stdout",
     "output_type": "stream",
     "text": [
      " 1159322 551814     cutoff   47      -511170.44 -1325477.4   159%  40.8  305s\n"
     ]
    },
    {
     "name": "stderr",
     "output_type": "stream",
     "text": [
      "2023-04-27 10:04:05,530 - INFO -  1159322 551814     cutoff   47      -511170.44 -1325477.4   159%  40.8  305s\n"
     ]
    },
    {
     "name": "stdout",
     "output_type": "stream",
     "text": [
      " 1170429 555786 -1244351.9   51  118 -511170.44 -1325228.0   159%  41.0  310s\n"
     ]
    },
    {
     "name": "stderr",
     "output_type": "stream",
     "text": [
      "2023-04-27 10:04:09,907 - INFO -  1170429 555786 -1244351.9   51  118 -511170.44 -1325228.0   159%  41.0  310s\n"
     ]
    },
    {
     "name": "stdout",
     "output_type": "stream",
     "text": [
      " 1181969 559462     cutoff   48      -511170.44 -1324945.7   159%  41.2  315s\n"
     ]
    },
    {
     "name": "stderr",
     "output_type": "stream",
     "text": [
      "2023-04-27 10:04:14,757 - INFO -  1181969 559462     cutoff   48      -511170.44 -1324945.7   159%  41.2  315s\n"
     ]
    },
    {
     "name": "stdout",
     "output_type": "stream",
     "text": [
      " 1191358 564380 -907019.87   61   94 -511170.44 -1324774.1   159%  41.3  320s\n"
     ]
    },
    {
     "name": "stderr",
     "output_type": "stream",
     "text": [
      "2023-04-27 10:04:20,037 - INFO -  1191358 564380 -907019.87   61   94 -511170.44 -1324774.1   159%  41.3  320s\n"
     ]
    },
    {
     "name": "stdout",
     "output_type": "stream",
     "text": [
      " 1205369 568944 -1273871.4   45   75 -511170.44 -1324493.7   159%  41.5  325s\n"
     ]
    },
    {
     "name": "stderr",
     "output_type": "stream",
     "text": [
      "2023-04-27 10:04:25,341 - INFO -  1205369 568944 -1273871.4   45   75 -511170.44 -1324493.7   159%  41.5  325s\n"
     ]
    },
    {
     "name": "stdout",
     "output_type": "stream",
     "text": [
      " 1213117 571695     cutoff   57      -511170.44 -1324335.8   159%  41.6  330s\n"
     ]
    },
    {
     "name": "stderr",
     "output_type": "stream",
     "text": [
      "2023-04-27 10:04:29,941 - INFO -  1213117 571695     cutoff   57      -511170.44 -1324335.8   159%  41.6  330s\n"
     ]
    },
    {
     "name": "stdout",
     "output_type": "stream",
     "text": [
      " 1221752 574648 -1307526.8   55   83 -511170.44 -1324165.9   159%  41.8  335s\n"
     ]
    },
    {
     "name": "stderr",
     "output_type": "stream",
     "text": [
      "2023-04-27 10:04:34,878 - INFO -  1221752 574648 -1307526.8   55   83 -511170.44 -1324165.9   159%  41.8  335s\n"
     ]
    },
    {
     "name": "stdout",
     "output_type": "stream",
     "text": [
      " 1235359 578607 -1318443.3   50  100 -511170.44 -1323875.6   159%  42.0  340s\n"
     ]
    },
    {
     "name": "stderr",
     "output_type": "stream",
     "text": [
      "2023-04-27 10:04:39,766 - INFO -  1235359 578607 -1318443.3   50  100 -511170.44 -1323875.6   159%  42.0  340s\n"
     ]
    },
    {
     "name": "stdout",
     "output_type": "stream",
     "text": [
      " 1246108 582701 -1161174.4   64   48 -511170.44 -1323657.9   159%  42.2  345s\n"
     ]
    },
    {
     "name": "stderr",
     "output_type": "stream",
     "text": [
      "2023-04-27 10:04:45,218 - INFO -  1246108 582701 -1161174.4   64   48 -511170.44 -1323657.9   159%  42.2  345s\n"
     ]
    },
    {
     "name": "stdout",
     "output_type": "stream",
     "text": [
      " 1258897 587134 -1304310.3   61   89 -511170.44 -1323441.8   159%  42.4  350s\n"
     ]
    },
    {
     "name": "stderr",
     "output_type": "stream",
     "text": [
      "2023-04-27 10:04:50,090 - INFO -  1258897 587134 -1304310.3   61   89 -511170.44 -1323441.8   159%  42.4  350s\n"
     ]
    },
    {
     "name": "stdout",
     "output_type": "stream",
     "text": [
      " 1269397 590378 -1225466.6   54   86 -511170.44 -1323256.1   159%  42.5  355s\n"
     ]
    },
    {
     "name": "stderr",
     "output_type": "stream",
     "text": [
      "2023-04-27 10:04:55,130 - INFO -  1269397 590378 -1225466.6   54   86 -511170.44 -1323256.1   159%  42.5  355s\n"
     ]
    },
    {
     "name": "stdout",
     "output_type": "stream",
     "text": [
      " 1279894 594352 -1214705.5   48   73 -511170.44 -1323064.1   159%  42.7  360s\n"
     ]
    },
    {
     "name": "stderr",
     "output_type": "stream",
     "text": [
      "2023-04-27 10:04:59,910 - INFO -  1279894 594352 -1214705.5   48   73 -511170.44 -1323064.1   159%  42.7  360s\n"
     ]
    },
    {
     "name": "stdout",
     "output_type": "stream",
     "text": [
      " 1293341 598906 -1322074.0   42  104 -511170.44 -1322832.2   159%  42.9  365s\n"
     ]
    },
    {
     "name": "stderr",
     "output_type": "stream",
     "text": [
      "2023-04-27 10:05:04,763 - INFO -  1293341 598906 -1322074.0   42  104 -511170.44 -1322832.2   159%  42.9  365s\n"
     ]
    },
    {
     "name": "stdout",
     "output_type": "stream",
     "text": [
      " 1302609 602482 -1047096.2   43   96 -511170.44 -1322664.2   159%  43.1  370s\n"
     ]
    },
    {
     "name": "stderr",
     "output_type": "stream",
     "text": [
      "2023-04-27 10:05:09,825 - INFO -  1302609 602482 -1047096.2   43   96 -511170.44 -1322664.2   159%  43.1  370s\n"
     ]
    },
    {
     "name": "stdout",
     "output_type": "stream",
     "text": [
      " 1314240 606593 -1143835.1   58   66 -511170.44 -1322483.3   159%  43.2  375s\n"
     ]
    },
    {
     "name": "stderr",
     "output_type": "stream",
     "text": [
      "2023-04-27 10:05:14,866 - INFO -  1314240 606593 -1143835.1   58   66 -511170.44 -1322483.3   159%  43.2  375s\n"
     ]
    },
    {
     "name": "stdout",
     "output_type": "stream",
     "text": [
      " 1328558 610923 -1271552.6   52   86 -511170.44 -1322248.6   159%  43.4  380s\n"
     ]
    },
    {
     "name": "stderr",
     "output_type": "stream",
     "text": [
      "2023-04-27 10:05:20,206 - INFO -  1328558 610923 -1271552.6   52   86 -511170.44 -1322248.6   159%  43.4  380s\n"
     ]
    },
    {
     "name": "stdout",
     "output_type": "stream",
     "text": [
      " 1338088 614183 infeasible   60      -511170.44 -1322085.1   159%  43.6  385s\n"
     ]
    },
    {
     "name": "stderr",
     "output_type": "stream",
     "text": [
      "2023-04-27 10:05:25,008 - INFO -  1338088 614183 infeasible   60      -511170.44 -1322085.1   159%  43.6  385s\n"
     ]
    },
    {
     "name": "stdout",
     "output_type": "stream",
     "text": [
      " 1348628 617772     cutoff   49      -511170.44 -1321914.0   159%  43.7  390s\n"
     ]
    },
    {
     "name": "stderr",
     "output_type": "stream",
     "text": [
      "2023-04-27 10:05:30,025 - INFO -  1348628 617772     cutoff   49      -511170.44 -1321914.0   159%  43.7  390s\n"
     ]
    },
    {
     "name": "stdout",
     "output_type": "stream",
     "text": [
      " 1359668 621381     cutoff   39      -511170.44 -1321747.7   159%  43.9  395s\n"
     ]
    },
    {
     "name": "stderr",
     "output_type": "stream",
     "text": [
      "2023-04-27 10:05:34,794 - INFO -  1359668 621381     cutoff   39      -511170.44 -1321747.7   159%  43.9  395s\n"
     ]
    },
    {
     "name": "stdout",
     "output_type": "stream",
     "text": [
      " 1372439 625391 -1098327.8   51   76 -511170.44 -1321535.9   159%  44.1  401s\n"
     ]
    },
    {
     "name": "stderr",
     "output_type": "stream",
     "text": [
      "2023-04-27 10:05:41,239 - INFO -  1372439 625391 -1098327.8   51   76 -511170.44 -1321535.9   159%  44.1  401s\n"
     ]
    },
    {
     "name": "stdout",
     "output_type": "stream",
     "text": [
      " 1381466 628405 -1035750.9   57   70 -511170.44 -1321388.5   159%  44.2  405s\n"
     ]
    },
    {
     "name": "stderr",
     "output_type": "stream",
     "text": [
      "2023-04-27 10:05:45,228 - INFO -  1381466 628405 -1035750.9   57   70 -511170.44 -1321388.5   159%  44.2  405s\n"
     ]
    },
    {
     "name": "stdout",
     "output_type": "stream",
     "text": [
      " 1391731 631527 -1102855.5   58   80 -511170.44 -1321221.4   158%  44.4  485s\n"
     ]
    },
    {
     "name": "stderr",
     "output_type": "stream",
     "text": [
      "2023-04-27 10:07:05,346 - INFO -  1391731 631527 -1102855.5   58   80 -511170.44 -1321221.4   158%  44.4  485s\n"
     ]
    },
    {
     "name": "stdout",
     "output_type": "stream",
     "text": [
      " 1391756 631554 -1321221.4   33   95 -511170.44 -1321221.4   158%  44.4  490s\n"
     ]
    },
    {
     "name": "stderr",
     "output_type": "stream",
     "text": [
      "2023-04-27 10:07:10,043 - INFO -  1391756 631554 -1321221.4   33   95 -511170.44 -1321221.4   158%  44.4  490s\n"
     ]
    },
    {
     "name": "stdout",
     "output_type": "stream",
     "text": [
      " 1391890 631628 -1211379.0   37   83 -511170.44 -1321221.4   158%  44.4  495s\n"
     ]
    },
    {
     "name": "stderr",
     "output_type": "stream",
     "text": [
      "2023-04-27 10:07:15,033 - INFO -  1391890 631628 -1211379.0   37   83 -511170.44 -1321221.4   158%  44.4  495s\n"
     ]
    },
    {
     "name": "stdout",
     "output_type": "stream",
     "text": [
      " 1391940 631649 -1138377.0   38   89 -511170.44 -1321221.4   158%  44.4  502s\n"
     ]
    },
    {
     "name": "stderr",
     "output_type": "stream",
     "text": [
      "2023-04-27 10:07:22,312 - INFO -  1391940 631649 -1138377.0   38   89 -511170.44 -1321221.4   158%  44.4  502s\n"
     ]
    },
    {
     "name": "stdout",
     "output_type": "stream",
     "text": [
      "H1391946 600070                    -516188.3099 -1321221.4   156%  44.4  502s\n"
     ]
    },
    {
     "name": "stderr",
     "output_type": "stream",
     "text": [
      "2023-04-27 10:07:22,351 - INFO - H1391946 600070                    -516188.3099 -1321221.4   156%  44.4  502s\n"
     ]
    },
    {
     "name": "stdout",
     "output_type": "stream",
     "text": [
      " 1392078 600131 -1300972.2   41  104 -516188.31 -1321221.4   156%  44.4  505s\n"
     ]
    },
    {
     "name": "stderr",
     "output_type": "stream",
     "text": [
      "2023-04-27 10:07:24,836 - INFO -  1392078 600131 -1300972.2   41  104 -516188.31 -1321221.4   156%  44.4  505s\n"
     ]
    },
    {
     "name": "stdout",
     "output_type": "stream",
     "text": [
      " 1395337 601355 -1198808.4   82  107 -516188.31 -1321221.4   156%  44.4  510s\n"
     ]
    },
    {
     "name": "stderr",
     "output_type": "stream",
     "text": [
      "2023-04-27 10:07:30,171 - INFO -  1395337 601355 -1198808.4   82  107 -516188.31 -1321221.4   156%  44.4  510s\n"
     ]
    },
    {
     "name": "stdout",
     "output_type": "stream",
     "text": [
      " 1398749 602166 infeasible   71      -516188.31 -1321221.4   156%  44.4  516s\n"
     ]
    },
    {
     "name": "stderr",
     "output_type": "stream",
     "text": [
      "2023-04-27 10:07:36,156 - INFO -  1398749 602166 infeasible   71      -516188.31 -1321221.4   156%  44.4  516s\n"
     ]
    },
    {
     "name": "stdout",
     "output_type": "stream",
     "text": [
      " 1402322 603593 -1321221.4   47  117 -516188.31 -1321221.4   156%  44.5  520s\n"
     ]
    },
    {
     "name": "stderr",
     "output_type": "stream",
     "text": [
      "2023-04-27 10:07:39,881 - INFO -  1402322 603593 -1321221.4   47  117 -516188.31 -1321221.4   156%  44.5  520s\n"
     ]
    },
    {
     "name": "stdout",
     "output_type": "stream",
     "text": [
      " 1410192 605840 -1247889.9  306   59 -516188.31 -1321221.4   156%  44.6  525s\n"
     ]
    },
    {
     "name": "stderr",
     "output_type": "stream",
     "text": [
      "2023-04-27 10:07:45,257 - INFO -  1410192 605840 -1247889.9  306   59 -516188.31 -1321221.4   156%  44.6  525s\n"
     ]
    },
    {
     "name": "stdout",
     "output_type": "stream",
     "text": [
      " 1417038 607316 -1321221.4   58   99 -516188.31 -1321221.4   156%  44.7  530s\n"
     ]
    },
    {
     "name": "stderr",
     "output_type": "stream",
     "text": [
      "2023-04-27 10:07:49,987 - INFO -  1417038 607316 -1321221.4   58   99 -516188.31 -1321221.4   156%  44.7  530s\n"
     ]
    },
    {
     "name": "stdout",
     "output_type": "stream",
     "text": [
      " 1424617 608395 -1072572.0   58   99 -516188.31 -1321221.4   156%  44.8  535s\n"
     ]
    },
    {
     "name": "stderr",
     "output_type": "stream",
     "text": [
      "2023-04-27 10:07:55,565 - INFO -  1424617 608395 -1072572.0   58   99 -516188.31 -1321221.4   156%  44.8  535s\n"
     ]
    },
    {
     "name": "stdout",
     "output_type": "stream",
     "text": [
      " 1430551 610047 -1256461.7   75   67 -516188.31 -1321221.4   156%  44.9  541s\n"
     ]
    },
    {
     "name": "stderr",
     "output_type": "stream",
     "text": [
      "2023-04-27 10:08:01,391 - INFO -  1430551 610047 -1256461.7   75   67 -516188.31 -1321221.4   156%  44.9  541s\n"
     ]
    },
    {
     "name": "stdout",
     "output_type": "stream",
     "text": [
      " 1434991 611294 infeasible   80      -516188.31 -1321221.4   156%  44.9  545s\n"
     ]
    },
    {
     "name": "stderr",
     "output_type": "stream",
     "text": [
      "2023-04-27 10:08:04,880 - INFO -  1434991 611294 infeasible   80      -516188.31 -1321221.4   156%  44.9  545s\n"
     ]
    },
    {
     "name": "stdout",
     "output_type": "stream",
     "text": [
      " 1442307 613062 -1283823.2   70   91 -516188.31 -1321221.4   156%  45.0  553s\n"
     ]
    },
    {
     "name": "stderr",
     "output_type": "stream",
     "text": [
      "2023-04-27 10:08:13,030 - INFO -  1442307 613062 -1283823.2   70   91 -516188.31 -1321221.4   156%  45.0  553s\n"
     ]
    },
    {
     "name": "stdout",
     "output_type": "stream",
     "text": [
      " 1444357 613678 -1254858.5   65   89 -516188.31 -1321221.4   156%  45.1  555s\n"
     ]
    },
    {
     "name": "stderr",
     "output_type": "stream",
     "text": [
      "2023-04-27 10:08:14,818 - INFO -  1444357 613678 -1254858.5   65   89 -516188.31 -1321221.4   156%  45.1  555s\n"
     ]
    },
    {
     "name": "stdout",
     "output_type": "stream",
     "text": [
      " 1448808 614748 -1269742.3   69   77 -516188.31 -1321221.4   156%  45.2  560s\n"
     ]
    },
    {
     "name": "stderr",
     "output_type": "stream",
     "text": [
      "2023-04-27 10:08:20,145 - INFO -  1448808 614748 -1269742.3   69   77 -516188.31 -1321221.4   156%  45.2  560s\n"
     ]
    },
    {
     "name": "stdout",
     "output_type": "stream",
     "text": [
      " 1457523 615450     cutoff   69      -516188.31 -1321221.4   156%  45.3  566s\n"
     ]
    },
    {
     "name": "stderr",
     "output_type": "stream",
     "text": [
      "2023-04-27 10:08:26,505 - INFO -  1457523 615450     cutoff   69      -516188.31 -1321221.4   156%  45.3  566s\n"
     ]
    },
    {
     "name": "stdout",
     "output_type": "stream",
     "text": [
      " 1462929 616238 -1205000.6   62   77 -516188.31 -1321221.4   156%  45.4  572s\n"
     ]
    },
    {
     "name": "stderr",
     "output_type": "stream",
     "text": [
      "2023-04-27 10:08:32,569 - INFO -  1462929 616238 -1205000.6   62   77 -516188.31 -1321221.4   156%  45.4  572s\n"
     ]
    },
    {
     "name": "stdout",
     "output_type": "stream",
     "text": [
      " 1468027 616780 -1075832.2   67   96 -516188.31 -1321221.4   156%  45.5  577s\n"
     ]
    },
    {
     "name": "stderr",
     "output_type": "stream",
     "text": [
      "2023-04-27 10:08:37,683 - INFO -  1468027 616780 -1075832.2   67   96 -516188.31 -1321221.4   156%  45.5  577s\n"
     ]
    },
    {
     "name": "stdout",
     "output_type": "stream",
     "text": [
      " 1470195 617229 infeasible   64      -516188.31 -1321221.4   156%  45.6  580s\n"
     ]
    },
    {
     "name": "stderr",
     "output_type": "stream",
     "text": [
      "2023-04-27 10:08:39,979 - INFO -  1470195 617229 infeasible   64      -516188.31 -1321221.4   156%  45.6  580s\n"
     ]
    },
    {
     "name": "stdout",
     "output_type": "stream",
     "text": [
      " 1477436 617932 -1129020.9   89   91 -516188.31 -1321221.4   156%  45.7  586s\n"
     ]
    },
    {
     "name": "stderr",
     "output_type": "stream",
     "text": [
      "2023-04-27 10:08:46,265 - INFO -  1477436 617932 -1129020.9   89   91 -516188.31 -1321221.4   156%  45.7  586s\n"
     ]
    },
    {
     "name": "stdout",
     "output_type": "stream",
     "text": [
      " 1481097 618305 -1321221.4   72  102 -516188.31 -1321221.4   156%  45.9  590s\n"
     ]
    },
    {
     "name": "stderr",
     "output_type": "stream",
     "text": [
      "2023-04-27 10:08:50,734 - INFO -  1481097 618305 -1321221.4   72  102 -516188.31 -1321221.4   156%  45.9  590s\n"
     ]
    },
    {
     "name": "stdout",
     "output_type": "stream",
     "text": [
      " 1485358 618611 -880531.96   55   71 -516188.31 -1321221.4   156%  46.0  596s\n"
     ]
    },
    {
     "name": "stderr",
     "output_type": "stream",
     "text": [
      "2023-04-27 10:08:55,861 - INFO -  1485358 618611 -880531.96   55   71 -516188.31 -1321221.4   156%  46.0  596s\n"
     ]
    },
    {
     "name": "stdout",
     "output_type": "stream",
     "text": [
      " 1490107 618407 -1280885.8   60   75 -516188.31 -1321221.4   156%  46.1  600s\n"
     ]
    },
    {
     "name": "stderr",
     "output_type": "stream",
     "text": [
      "2023-04-27 10:08:59,753 - INFO -  1490107 618407 -1280885.8   60   75 -516188.31 -1321221.4   156%  46.1  600s\n"
     ]
    },
    {
     "name": "stdout",
     "output_type": "stream",
     "text": [
      "\n"
     ]
    },
    {
     "name": "stderr",
     "output_type": "stream",
     "text": [
      "2023-04-27 10:08:59,852 - INFO - \n"
     ]
    },
    {
     "name": "stdout",
     "output_type": "stream",
     "text": [
      "Cutting planes:\n"
     ]
    },
    {
     "name": "stderr",
     "output_type": "stream",
     "text": [
      "2023-04-27 10:08:59,854 - INFO - Cutting planes:\n"
     ]
    },
    {
     "name": "stdout",
     "output_type": "stream",
     "text": [
      "  Gomory: 1\n"
     ]
    },
    {
     "name": "stderr",
     "output_type": "stream",
     "text": [
      "2023-04-27 10:08:59,857 - INFO -   Gomory: 1\n"
     ]
    },
    {
     "name": "stdout",
     "output_type": "stream",
     "text": [
      "  Cover: 1\n"
     ]
    },
    {
     "name": "stderr",
     "output_type": "stream",
     "text": [
      "2023-04-27 10:08:59,859 - INFO -   Cover: 1\n"
     ]
    },
    {
     "name": "stdout",
     "output_type": "stream",
     "text": [
      "  Implied bound: 1\n"
     ]
    },
    {
     "name": "stderr",
     "output_type": "stream",
     "text": [
      "2023-04-27 10:08:59,861 - INFO -   Implied bound: 1\n"
     ]
    },
    {
     "name": "stdout",
     "output_type": "stream",
     "text": [
      "  MIR: 7\n"
     ]
    },
    {
     "name": "stderr",
     "output_type": "stream",
     "text": [
      "2023-04-27 10:08:59,863 - INFO -   MIR: 7\n"
     ]
    },
    {
     "name": "stdout",
     "output_type": "stream",
     "text": [
      "  StrongCG: 1\n"
     ]
    },
    {
     "name": "stderr",
     "output_type": "stream",
     "text": [
      "2023-04-27 10:08:59,865 - INFO -   StrongCG: 1\n"
     ]
    },
    {
     "name": "stdout",
     "output_type": "stream",
     "text": [
      "  Flow cover: 13\n"
     ]
    },
    {
     "name": "stderr",
     "output_type": "stream",
     "text": [
      "2023-04-27 10:08:59,867 - INFO -   Flow cover: 13\n"
     ]
    },
    {
     "name": "stdout",
     "output_type": "stream",
     "text": [
      "  Inf proof: 2\n"
     ]
    },
    {
     "name": "stderr",
     "output_type": "stream",
     "text": [
      "2023-04-27 10:08:59,869 - INFO -   Inf proof: 2\n"
     ]
    },
    {
     "name": "stdout",
     "output_type": "stream",
     "text": [
      "  Zero half: 11\n"
     ]
    },
    {
     "name": "stderr",
     "output_type": "stream",
     "text": [
      "2023-04-27 10:08:59,871 - INFO -   Zero half: 11\n"
     ]
    },
    {
     "name": "stdout",
     "output_type": "stream",
     "text": [
      "  RLT: 5\n"
     ]
    },
    {
     "name": "stderr",
     "output_type": "stream",
     "text": [
      "2023-04-27 10:08:59,874 - INFO -   RLT: 5\n"
     ]
    },
    {
     "name": "stdout",
     "output_type": "stream",
     "text": [
      "  Lazy constraints: 195\n"
     ]
    },
    {
     "name": "stderr",
     "output_type": "stream",
     "text": [
      "2023-04-27 10:08:59,875 - INFO -   Lazy constraints: 195\n"
     ]
    },
    {
     "name": "stdout",
     "output_type": "stream",
     "text": [
      "\n"
     ]
    },
    {
     "name": "stderr",
     "output_type": "stream",
     "text": [
      "2023-04-27 10:08:59,877 - INFO - \n"
     ]
    },
    {
     "name": "stdout",
     "output_type": "stream",
     "text": [
      "Explored 1490968 nodes (68761713 simplex iterations) in 600.13 seconds\n"
     ]
    },
    {
     "name": "stderr",
     "output_type": "stream",
     "text": [
      "2023-04-27 10:08:59,879 - INFO - Explored 1490968 nodes (68761713 simplex iterations) in 600.13 seconds\n"
     ]
    },
    {
     "name": "stdout",
     "output_type": "stream",
     "text": [
      "Thread count was 24 (of 48 available processors)\n"
     ]
    },
    {
     "name": "stderr",
     "output_type": "stream",
     "text": [
      "2023-04-27 10:08:59,881 - INFO - Thread count was 24 (of 48 available processors)\n"
     ]
    },
    {
     "name": "stdout",
     "output_type": "stream",
     "text": [
      "\n"
     ]
    },
    {
     "name": "stderr",
     "output_type": "stream",
     "text": [
      "2023-04-27 10:08:59,883 - INFO - \n"
     ]
    },
    {
     "name": "stdout",
     "output_type": "stream",
     "text": [
      "Solution count 10: -516188 -511170 -501789 ... -203602\n"
     ]
    },
    {
     "name": "stderr",
     "output_type": "stream",
     "text": [
      "2023-04-27 10:08:59,884 - INFO - Solution count 10: -516188 -511170 -501789 ... -203602\n"
     ]
    },
    {
     "name": "stdout",
     "output_type": "stream",
     "text": [
      "\n"
     ]
    },
    {
     "name": "stderr",
     "output_type": "stream",
     "text": [
      "2023-04-27 10:08:59,886 - INFO - \n"
     ]
    },
    {
     "name": "stdout",
     "output_type": "stream",
     "text": [
      "Time limit reached\n"
     ]
    },
    {
     "name": "stderr",
     "output_type": "stream",
     "text": [
      "2023-04-27 10:08:59,888 - INFO - Time limit reached\n"
     ]
    },
    {
     "name": "stdout",
     "output_type": "stream",
     "text": [
      "Best objective -5.161883099291e+05, best bound -1.321221396195e+06, gap 155.9572%\n"
     ]
    },
    {
     "name": "stderr",
     "output_type": "stream",
     "text": [
      "2023-04-27 10:08:59,890 - INFO - Best objective -5.161883099291e+05, best bound -1.321221396195e+06, gap 155.9572%\n"
     ]
    },
    {
     "name": "stdout",
     "output_type": "stream",
     "text": [
      "\n"
     ]
    },
    {
     "name": "stderr",
     "output_type": "stream",
     "text": [
      "2023-04-27 10:08:59,891 - INFO - \n"
     ]
    },
    {
     "name": "stdout",
     "output_type": "stream",
     "text": [
      "User-callback calls 3052461, time in user-callback 9.59 sec\n"
     ]
    },
    {
     "name": "stderr",
     "output_type": "stream",
     "text": [
      "2023-04-27 10:08:59,893 - INFO - User-callback calls 3052461, time in user-callback 9.59 sec\n"
     ]
    },
    {
     "name": "stdout",
     "output_type": "stream",
     "text": [
      "vap_value =  [576888.0, 533293.0, 587542.0, 547403.0, 610743.0, 540871.0, 617728.0]\n",
      "bvap_value =  [77028.0, 106385.0, 110032.0, 110808.0, 137813.0, 199641.0, 229637.0]\n",
      " \"grad_y\" : [1.10412129673389, 2.556849578672817, 2.0468052978892777, 2.564712140472843, 2.854491265701591, 7.035418044170604, 6.193229126964651], \"grad_z\" : [-0.1474259392547914, -0.5100581526986248, -0.383315712812621, -0.5191616101145129, -0.6441105420776552, -2.596844522550226, -2.3022990005775705]\n",
      "Soln val:  4.802132025361061e-10\n",
      "Warm start val:  277314.9976602243\n",
      "ratios [0.13352331821774763, 0.19948696120144085, 0.18727512245933056, 0.20242490450362896, 0.2256481040306643, 0.36911019448260307, 0.37174452186075424]\n",
      "func [0.02770993643231311, 0.07141927016841072, 0.06073173543904478, 0.07419417500324864, 0.09909489642892572, 0.3792489869183571, 0.38611014258597487]\n",
      "../results_for_config-SC-bvap-bounds-specific_10min/SC-county-bvap_bounds_specific-90\n",
      "Summarizing the results for export\n",
      "Results Summary started\n",
      "Warning: constraint name \"vertex to district[0]\" has a space\n"
     ]
    },
    {
     "name": "stderr",
     "output_type": "stream",
     "text": [
      "2023-04-27 10:08:59,899 - INFO - Warning: constraint name \"vertex to district[0]\" has a space\n"
     ]
    },
    {
     "name": "stdout",
     "output_type": "stream",
     "text": [
      "Recording found solution\n",
      "best solution (found) = [[7, 43, 45], [4, 11, 18, 30, 32], [6, 10, 14, 20, 25, 37, 40, 41], [3, 12, 17, 21, 24], [5, 8, 9, 19, 26, 35, 42], [22, 23, 29, 33, 38, 39, 44], [0, 1, 2, 13, 15, 16, 27, 28, 31, 34, 36]]\n",
      "print write mip soln\n",
      "../results_for_config-SC-bvap-bounds-specific_10min/SC-county-bvap_bounds_specific-90.sol\n",
      "Exporting to json\n",
      "../results_for_config-SC-bvap-bounds-specific_10min/SC-county-bvap_bounds_specific-90.json\n",
      "Exporting solution to json\n",
      "Summarizing ../results_for_config-SC-bvap-bounds-specific_10min/SC-county-bvap_bounds_specific-90.json\n",
      "../results_for_config-SC-bvap-bounds-specific_10min/SC-county-bvap_bounds_specific-90.json\n",
      "Plotting\n",
      "{'state': 'SC', 'level': 'county', 'base': 'labeling', 'obj': 'bvap_bounds_specific', 'R': 90, 'dist_bounds': False, 'tlimit': 600, 'fixing': False, 'contiguity': 'lcut', 'symmetry': 'none', 'extended': False, 'order': 'none', 'heuristic': True, 'lp': False, 'obj_order': 'bvap_max', 'index': 0, 'run': 'SC_vap_0_max', 'k': 7, 'L': 658084, 'U': 804323, 'm': 109, 'n': 46, 'heur_obj': 'n/a', 'heur_time': 'n/a', 'heur_iter': 'n/a', 'DFixings': 0, 'UFixings_R': 0, 'LFixings': 0, 'UFixings_X': 0, 'ZFixings': 0, 'LP_obj': 'n/a', 'LP_time': 'n/a', 'MIP_timelimit': 600, 'MIP_time': '600.15', 'MIP_status': 9, 'MIP_nodes': 1490968, 'MIP_bound': -1321221.396194702, 'callbacks': 350, 'lazy_cuts': 2759, 'MIP_obj': -516188.3099290868, 'connected': True}\n",
      "Adding to csv ../results_for_config-SC-bvap-bounds-specific_10min/results_config-SC-bvap-bounds-specific_10min_2023_Apr_27.csv\n"
     ]
    },
    {
     "data": {
      "text/plain": [
       "{'state': 'SC',\n",
       " 'level': 'county',\n",
       " 'base': 'labeling',\n",
       " 'obj': 'bvap_bounds_specific',\n",
       " 'R': 90,\n",
       " 'dist_bounds': False,\n",
       " 'tlimit': 600,\n",
       " 'fixing': False,\n",
       " 'contiguity': 'lcut',\n",
       " 'symmetry': 'none',\n",
       " 'extended': False,\n",
       " 'order': 'none',\n",
       " 'heuristic': True,\n",
       " 'lp': False,\n",
       " 'obj_order': 'bvap_max',\n",
       " 'index': 0,\n",
       " 'run': 'SC_vap_0_max',\n",
       " 'k': 7,\n",
       " 'L': 658084,\n",
       " 'U': 804323,\n",
       " 'm': 109,\n",
       " 'n': 46,\n",
       " 'heur_obj': 'n/a',\n",
       " 'heur_time': 'n/a',\n",
       " 'heur_iter': 'n/a',\n",
       " 'DFixings': 0,\n",
       " 'UFixings_R': 0,\n",
       " 'LFixings': 0,\n",
       " 'UFixings_X': 0,\n",
       " 'ZFixings': 0,\n",
       " 'LP_obj': 'n/a',\n",
       " 'LP_time': 'n/a',\n",
       " 'MIP_timelimit': 600,\n",
       " 'MIP_time': '600.15',\n",
       " 'MIP_status': 9,\n",
       " 'MIP_nodes': 1490968,\n",
       " 'MIP_bound': -1321221.396194702,\n",
       " 'callbacks': 350,\n",
       " 'lazy_cuts': 2759,\n",
       " 'MIP_obj': -516188.3099290868,\n",
       " 'connected': True}"
      ]
     },
     "execution_count": 15,
     "metadata": {},
     "output_type": "execute_result"
    },
    {
     "data": {
      "image/png": "[encoded data removed]",
      "text/plain": [
       "<Figure size 1296x864 with 1 Axes>"
      ]
     },
     "metadata": {
      "needs_background": "light"
     },
     "output_type": "display_data"
    },
    {
     "data": {
      "image/png": "[encoded data removed]",
      "text/plain": [
       "<Figure size 1152x1152 with 2 Axes>"
      ]
     },
     "metadata": {
      "needs_background": "light"
     },
     "output_type": "display_data"
    },
    {
     "data": {
      "image/png": "[encoded data removed]",
      "text/plain": [
       "<Figure size 1152x1152 with 2 Axes>"
      ]
     },
     "metadata": {
      "needs_background": "light"
     },
     "output_type": "display_data"
    }
   ],
   "source": [
    "from main import *\n",
    "\n",
    "myConfig = \"config-SC-bvap-bounds-specific_10min.json\"\n",
    "main(myConfig)"
   ]
  },
  {
   "cell_type": "code",
   "execution_count": null,
   "metadata": {},
   "outputs": [],
   "source": []
  }
 ],
 "metadata": {
  "kernelspec": {
   "display_name": "Python 3",
   "language": "python",
   "name": "python3"
  },
  "language_info": {
   "codemirror_mode": {
    "name": "ipython",
    "version": 3
   },
   "file_extension": ".py",
   "mimetype": "text/x-python",
   "name": "python",
   "nbconvert_exporter": "python",
   "pygments_lexer": "ipython3",
   "version": "3.8.5"
  }
 },
 "nbformat": 4,
 "nbformat_minor": 4
}
