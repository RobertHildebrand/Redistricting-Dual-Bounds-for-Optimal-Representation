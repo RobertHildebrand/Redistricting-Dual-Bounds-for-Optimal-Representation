{
 "cells": [
  {
   "cell_type": "code",
   "execution_count": 1,
   "metadata": {},
   "outputs": [
    {
     "name": "stderr",
     "output_type": "stream",
     "text": [
      "/opt/anaconda3/envs/python377/lib/python3.7/site-packages/ipykernel_launcher.py:3: DeprecationWarning: pkg_resources is deprecated as an API. See https://setuptools.pypa.io/en/latest/pkg_resources.html\n",
      "  This is separate from the ipykernel package so we can avoid doing imports until\n"
     ]
    },
    {
     "name": "stdout",
     "output_type": "stream",
     "text": [
      "Python Version: 3.7.7 (default, May  6 2020, 04:59:01) \n",
      "[Clang 4.0.1 (tags/RELEASE_401/final)]\n",
      "argparse: 1.4.0\n",
      "gurobipy: 10.0.2\n",
      "matplotlib: 3.5.3\n",
      "datetime: Package not installed\n",
      "math: Package not installed\n",
      "networkx: 2.5\n",
      "csv: Package not installed\n",
      "time: Package not installed\n",
      "json: Package not installed\n",
      "os: Package not installed\n",
      "geopandas: 0.10.2\n",
      "sys: Package not installed\n",
      "pathlib: Package not installed\n",
      "scipy: 1.7.3\n",
      "numpy: 1.20.1\n"
     ]
    }
   ],
   "source": [
    "import sys\n",
    "import subprocess\n",
    "import pkg_resources\n",
    "\n",
    "# List of packages you are using\n",
    "packages = [\n",
    "    \"argparse\", \"gurobipy\", \"matplotlib\", \"datetime\", \"math\", \"networkx\",\n",
    "    \"csv\", \"time\", \"json\", \"os\", \"geopandas\", \"sys\", \"pathlib\",\n",
    "    \"scipy\", \"numpy\"\n",
    "]\n",
    "\n",
    "# Function to get the installed version of a package\n",
    "def get_version(package_name):\n",
    "    try:\n",
    "        return pkg_resources.get_distribution(package_name).version\n",
    "    except pkg_resources.DistributionNotFound:\n",
    "        return \"Package not installed\"\n",
    "\n",
    "# Check and print Python version\n",
    "print(f\"Python Version: {sys.version}\")\n",
    "\n",
    "# Check and print package versions\n",
    "package_versions = {}\n",
    "for package in packages:\n",
    "    version = get_version(package)\n",
    "    package_versions[package] = version\n",
    "    print(f\"{package}: {version}\")\n"
   ]
  },
  {
   "cell_type": "code",
   "execution_count": 2,
   "metadata": {},
   "outputs": [
    {
     "name": "stdout",
     "output_type": "stream",
     "text": [
      "\n",
      "'requirements.txt' has been created with the necessary packages.\n"
     ]
    }
   ],
   "source": [
    "# Write the package versions to requirements.txt\n",
    "with open(\"requirements.txt\", \"w\") as f:\n",
    "    f.write(f\"python=={'.'.join(map(str, sys.version_info[:3]))}\\n\")  # Write the Python version\n",
    "    for package, version in package_versions.items():\n",
    "        if version != \"Package not installed\":\n",
    "            f.write(f\"{package}=={version}\\n\")\n",
    "    print(\"\\n'requirements.txt' has been created with the necessary packages.\")\n"
   ]
  },
  {
   "cell_type": "code",
   "execution_count": null,
   "metadata": {},
   "outputs": [],
   "source": []
  }
 ],
 "metadata": {
  "kernelspec": {
   "display_name": "Python 3",
   "language": "python",
   "name": "python3"
  },
  "language_info": {
   "codemirror_mode": {
    "name": "ipython",
    "version": 3
   },
   "file_extension": ".py",
   "mimetype": "text/x-python",
   "name": "python",
   "nbconvert_exporter": "python",
   "pygments_lexer": "ipython3",
   "version": "3.7.7"
  }
 },
 "nbformat": 4,
 "nbformat_minor": 4
}
