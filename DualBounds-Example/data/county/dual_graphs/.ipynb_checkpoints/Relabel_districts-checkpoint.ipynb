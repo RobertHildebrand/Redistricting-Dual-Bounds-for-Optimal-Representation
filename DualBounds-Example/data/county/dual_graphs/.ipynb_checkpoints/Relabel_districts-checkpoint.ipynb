{
 "cells": [
  {
   "cell_type": "code",
   "execution_count": 20,
   "metadata": {},
   "outputs": [
    {
     "name": "stdout",
     "output_type": "stream",
     "text": [
      "[1, 2, 3, 4, 5, 6, 7]\n"
     ]
    }
   ],
   "source": [
    "# Reorder state 45\n",
    "\n",
    "import json\n",
    "num = '45'\n",
    "# Load the input JSON data\n",
    "with open(f'county{num}.json') as f:\n",
    "    data = json.load(f)\n",
    "    \n",
    "# Save the updated JSON data to a new file\n",
    "with open(f'county{num}_old.json', 'w') as f:\n",
    "    json.dump(data, f)\n",
    "\n",
    "# Compute the sum of VAP and BVAP in each node of the same division\n",
    "divisions = {}\n",
    "for node in data['nodes']:\n",
    "    division = node['start_bvap']\n",
    "    vap = int(node['VAP'])\n",
    "    bvap = int(node['BVAP'])\n",
    "    if division not in divisions:\n",
    "        divisions[division] = {'vap_sum': 0, 'bvap_sum': 0, 'count': 0}\n",
    "    divisions[division]['vap_sum'] += vap\n",
    "    divisions[division]['bvap_sum'] += bvap\n",
    "    divisions[division]['count'] += 1\n",
    "\n",
    "# Compute the ratios of VAP / BVAP for each division\n",
    "ratios = {}\n",
    "for division, values in divisions.items():\n",
    "    ratios[division] = values['bvap_sum'] / values['vap_sum']\n",
    "\n",
    "# Sort the divisions by ratio in ascending order\n",
    "sorted_divisions = sorted(ratios, key=ratios.get)\n",
    "\n",
    "print(sorted_divisions)\n",
    "# Relabel the division for each node in an increasing order\n",
    "for i, node in enumerate(data['nodes']):\n",
    "    division = node['start_bvap']\n",
    "    new_division = sorted_divisions.index(division) + 1\n",
    "    node['start_bvap'] = new_division\n",
    "\n",
    "    \n",
    "# Save the updated JSON data to a new file\n",
    "with open(f'county{num}.json', 'w') as f:\n",
    "    json.dump(data, f)\n"
   ]
  },
  {
   "cell_type": "code",
   "execution_count": 25,
   "metadata": {},
   "outputs": [
    {
     "name": "stdout",
     "output_type": "stream",
     "text": [
      "{1: 0.13352331821774763, 2: 0.1747527986947333, 3: 0.2019599661965058, 4: 0.20225145749552728, 5: 0.21206297141002314, 6: 0.305261958447137, 7: 0.4532200807085088}\n"
     ]
    },
    {
     "data": {
      "image/png": "[encoded data removed]",
      "text/plain": [
       "<Figure size 432x288 with 1 Axes>"
      ]
     },
     "metadata": {
      "needs_background": "light"
     },
     "output_type": "display_data"
    }
   ],
   "source": [
    "# Compute BVAP Score of state\n",
    "\n",
    "import json\n",
    "num = '45'\n",
    "# Load the input JSON data\n",
    "with open(f'county{num}.json') as f:\n",
    "    data = json.load(f)\n",
    "    \n",
    "# Save the updated JSON data to a new file\n",
    "with open(f'county{num}_old.json', 'w') as f:\n",
    "    json.dump(data, f)\n",
    "\n",
    "# Compute the sum of VAP and BVAP in each node of the same division\n",
    "divisions = {}\n",
    "for node in data['nodes']:\n",
    "    division = node['start_bvap']\n",
    "    vap = int(node['VAP'])\n",
    "    bvap = int(node['BVAP'])\n",
    "    if division not in divisions:\n",
    "        divisions[division] = {'vap_sum': 0, 'bvap_sum': 0, 'count': 0}\n",
    "    divisions[division]['vap_sum'] += vap\n",
    "    divisions[division]['bvap_sum'] += bvap\n",
    "    divisions[division]['count'] += 1\n",
    "\n",
    "# Compute the ratios of VAP / BVAP for each division\n",
    "ratios = {}\n",
    "for division, values in divisions.items():\n",
    "    ratios[division] = values['bvap_sum'] / values['vap_sum']\n",
    "sorted_ratios = dict(sorted(ratios.items()))\n",
    "print(sorted_ratios)\n",
    "\n",
    "\n",
    "import matplotlib.pyplot as plt\n",
    "plt.bar(ratios.keys(), ratios.values())\n",
    "plt.xlabel('District')\n",
    "plt.ylabel('Ratio of BVAP / VAP')\n",
    "plt.title('Ratio of BVAP / VAP by District')\n",
    "plt.show()\n"
   ]
  },
  {
   "cell_type": "code",
   "execution_count": null,
   "metadata": {},
   "outputs": [],
   "source": []
  }
 ],
 "metadata": {
  "kernelspec": {
   "display_name": "Python 3",
   "language": "python",
   "name": "python3"
  },
  "language_info": {
   "codemirror_mode": {
    "name": "ipython",
    "version": 3
   },
   "file_extension": ".py",
   "mimetype": "text/x-python",
   "name": "python",
   "nbconvert_exporter": "python",
   "pygments_lexer": "ipython3",
   "version": "3.7.7"
  }
 },
 "nbformat": 4,
 "nbformat_minor": 4
}
